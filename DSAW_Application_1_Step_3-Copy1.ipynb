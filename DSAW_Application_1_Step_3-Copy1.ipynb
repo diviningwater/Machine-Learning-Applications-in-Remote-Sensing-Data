{
 "cells": [
  {
   "cell_type": "markdown",
   "metadata": {},
   "source": [
    "# Application 1: Farm Scale Soil Moisture Estimation using Remote Sensing and Water Budget Products\n",
    "## Step 2: Implementing a Machine Learning algorithm (The Relevance Vector Machine) \n",
    "\n",
    "### Background: \n",
    "Once we have the information from the satellite band pixels and the respective soil moisture values, we can implement a machine learning algorithm that can correlate  the band pixels (we will call this input) and soil moisture (output). There are plenty of machine learning algorithms. A good website where examples and Python implemented algorithms are compiled is https://scikit-learn.org/stable/.\n",
    "\n",
    "In this case, we are going to use the Relevance Vector Machine algorithm. You can read the original paper here: https://www.jmlr.org/papers/volume1/tipping01a/tipping01a.pdf. This algorithm is a good example of a \"classical machine learning\", different of more recent algorithms such as Deep Learning (e.g. Convolutional Neural Networks). The advantage of classical machine learning is the need of much less information than deep learning algorithms."
   ]
  },
  {
   "cell_type": "markdown",
   "metadata": {},
   "source": [
    "Let's install the necessary python library. Open the terminal and pass the following command."
   ]
  },
  {
   "cell_type": "raw",
   "metadata": {},
   "source": [
    "pip install mlxtend\n"
   ]
  },
  {
   "cell_type": "markdown",
   "metadata": {},
   "source": [
    "Let's start importing the csv file generated in Step 2:"
   ]
  },
  {
   "cell_type": "code",
   "execution_count": 1,
   "metadata": {},
   "outputs": [],
   "source": [
    "import warnings\n",
    "warnings.filterwarnings('ignore')"
   ]
  },
  {
   "cell_type": "code",
   "execution_count": 2,
   "metadata": {},
   "outputs": [
    {
     "data": {
      "text/html": [
       "<div>\n",
       "<style scoped>\n",
       "    .dataframe tbody tr th:only-of-type {\n",
       "        vertical-align: middle;\n",
       "    }\n",
       "\n",
       "    .dataframe tbody tr th {\n",
       "        vertical-align: top;\n",
       "    }\n",
       "\n",
       "    .dataframe thead th {\n",
       "        text-align: right;\n",
       "    }\n",
       "</style>\n",
       "<table border=\"1\" class=\"dataframe\">\n",
       "  <thead>\n",
       "    <tr style=\"text-align: right;\">\n",
       "      <th></th>\n",
       "      <th>SM</th>\n",
       "      <th>BAI</th>\n",
       "      <th>SAVIT</th>\n",
       "      <th>B4</th>\n",
       "      <th>B6</th>\n",
       "      <th>NDSI</th>\n",
       "      <th>MNDWI</th>\n",
       "      <th>CVI</th>\n",
       "      <th>SAVI</th>\n",
       "      <th>GEMI</th>\n",
       "      <th>...</th>\n",
       "      <th>NGRDI</th>\n",
       "      <th>VARI</th>\n",
       "      <th>NBR</th>\n",
       "      <th>MNDVI</th>\n",
       "      <th>GVMI</th>\n",
       "      <th>B2</th>\n",
       "      <th>NBRT</th>\n",
       "      <th>kVARI</th>\n",
       "      <th>B3</th>\n",
       "      <th>B1</th>\n",
       "    </tr>\n",
       "  </thead>\n",
       "  <tbody>\n",
       "    <tr>\n",
       "      <th>0</th>\n",
       "      <td>0.39</td>\n",
       "      <td>10.113513</td>\n",
       "      <td>0.539735</td>\n",
       "      <td>0.3735</td>\n",
       "      <td>295.5</td>\n",
       "      <td>-0.358974</td>\n",
       "      <td>-0.358974</td>\n",
       "      <td>3.486000</td>\n",
       "      <td>0.411152</td>\n",
       "      <td>0.757530</td>\n",
       "      <td>...</td>\n",
       "      <td>0.086957</td>\n",
       "      <td>0.142012</td>\n",
       "      <td>0.618986</td>\n",
       "      <td>0.618986</td>\n",
       "      <td>0.628827</td>\n",
       "      <td>0.0900</td>\n",
       "      <td>0.986187</td>\n",
       "      <td>0.014440</td>\n",
       "      <td>0.0756</td>\n",
       "      <td>0.0642</td>\n",
       "    </tr>\n",
       "    <tr>\n",
       "      <th>1</th>\n",
       "      <td>0.32</td>\n",
       "      <td>10.595909</td>\n",
       "      <td>0.532088</td>\n",
       "      <td>0.3666</td>\n",
       "      <td>296.0</td>\n",
       "      <td>-0.387547</td>\n",
       "      <td>-0.387547</td>\n",
       "      <td>3.652422</td>\n",
       "      <td>0.395080</td>\n",
       "      <td>0.741872</td>\n",
       "      <td>...</td>\n",
       "      <td>0.054482</td>\n",
       "      <td>0.089423</td>\n",
       "      <td>0.556688</td>\n",
       "      <td>0.556688</td>\n",
       "      <td>0.579019</td>\n",
       "      <td>0.0900</td>\n",
       "      <td>0.983282</td>\n",
       "      <td>0.005706</td>\n",
       "      <td>0.0807</td>\n",
       "      <td>0.0667</td>\n",
       "    </tr>\n",
       "    <tr>\n",
       "      <th>2</th>\n",
       "      <td>0.50</td>\n",
       "      <td>12.580357</td>\n",
       "      <td>0.504472</td>\n",
       "      <td>0.3416</td>\n",
       "      <td>296.5</td>\n",
       "      <td>-0.288564</td>\n",
       "      <td>-0.288564</td>\n",
       "      <td>2.571921</td>\n",
       "      <td>0.357753</td>\n",
       "      <td>0.702719</td>\n",
       "      <td>...</td>\n",
       "      <td>0.107660</td>\n",
       "      <td>0.176122</td>\n",
       "      <td>0.555556</td>\n",
       "      <td>0.555556</td>\n",
       "      <td>0.579399</td>\n",
       "      <td>0.1070</td>\n",
       "      <td>0.983199</td>\n",
       "      <td>0.022106</td>\n",
       "      <td>0.0862</td>\n",
       "      <td>0.0751</td>\n",
       "    </tr>\n",
       "    <tr>\n",
       "      <th>3</th>\n",
       "      <td>0.47</td>\n",
       "      <td>11.995843</td>\n",
       "      <td>0.511969</td>\n",
       "      <td>0.3485</td>\n",
       "      <td>297.0</td>\n",
       "      <td>-0.300235</td>\n",
       "      <td>-0.300235</td>\n",
       "      <td>2.838363</td>\n",
       "      <td>0.361701</td>\n",
       "      <td>0.707913</td>\n",
       "      <td>...</td>\n",
       "      <td>0.081389</td>\n",
       "      <td>0.139061</td>\n",
       "      <td>0.562430</td>\n",
       "      <td>0.562430</td>\n",
       "      <td>0.584526</td>\n",
       "      <td>0.1043</td>\n",
       "      <td>0.983502</td>\n",
       "      <td>0.012890</td>\n",
       "      <td>0.0886</td>\n",
       "      <td>0.0800</td>\n",
       "    </tr>\n",
       "    <tr>\n",
       "      <th>4</th>\n",
       "      <td>0.07</td>\n",
       "      <td>20.168927</td>\n",
       "      <td>0.399352</td>\n",
       "      <td>0.2589</td>\n",
       "      <td>313.6</td>\n",
       "      <td>-0.318784</td>\n",
       "      <td>-0.318784</td>\n",
       "      <td>1.857574</td>\n",
       "      <td>0.080603</td>\n",
       "      <td>0.391713</td>\n",
       "      <td>...</td>\n",
       "      <td>-0.090166</td>\n",
       "      <td>-0.140731</td>\n",
       "      <td>-0.047286</td>\n",
       "      <td>-0.047286</td>\n",
       "      <td>0.081839</td>\n",
       "      <td>0.1670</td>\n",
       "      <td>0.933352</td>\n",
       "      <td>0.015952</td>\n",
       "      <td>0.2001</td>\n",
       "      <td>0.1319</td>\n",
       "    </tr>\n",
       "    <tr>\n",
       "      <th>...</th>\n",
       "      <td>...</td>\n",
       "      <td>...</td>\n",
       "      <td>...</td>\n",
       "      <td>...</td>\n",
       "      <td>...</td>\n",
       "      <td>...</td>\n",
       "      <td>...</td>\n",
       "      <td>...</td>\n",
       "      <td>...</td>\n",
       "      <td>...</td>\n",
       "      <td>...</td>\n",
       "      <td>...</td>\n",
       "      <td>...</td>\n",
       "      <td>...</td>\n",
       "      <td>...</td>\n",
       "      <td>...</td>\n",
       "      <td>...</td>\n",
       "      <td>...</td>\n",
       "      <td>...</td>\n",
       "      <td>...</td>\n",
       "      <td>...</td>\n",
       "    </tr>\n",
       "    <tr>\n",
       "      <th>64</th>\n",
       "      <td>0.17</td>\n",
       "      <td>4.199442</td>\n",
       "      <td>0.703307</td>\n",
       "      <td>0.5458</td>\n",
       "      <td>303.9</td>\n",
       "      <td>-0.471952</td>\n",
       "      <td>-0.471952</td>\n",
       "      <td>4.761866</td>\n",
       "      <td>0.614990</td>\n",
       "      <td>0.954561</td>\n",
       "      <td>...</td>\n",
       "      <td>0.186415</td>\n",
       "      <td>0.280045</td>\n",
       "      <td>0.696085</td>\n",
       "      <td>0.696085</td>\n",
       "      <td>0.691461</td>\n",
       "      <td>0.0786</td>\n",
       "      <td>0.989168</td>\n",
       "      <td>0.062334</td>\n",
       "      <td>0.0539</td>\n",
       "      <td>0.0443</td>\n",
       "    </tr>\n",
       "    <tr>\n",
       "      <th>65</th>\n",
       "      <td>0.11</td>\n",
       "      <td>6.985466</td>\n",
       "      <td>0.601447</td>\n",
       "      <td>0.4374</td>\n",
       "      <td>311.4</td>\n",
       "      <td>-0.456553</td>\n",
       "      <td>-0.456553</td>\n",
       "      <td>4.331592</td>\n",
       "      <td>0.396983</td>\n",
       "      <td>0.750485</td>\n",
       "      <td>...</td>\n",
       "      <td>-0.057060</td>\n",
       "      <td>-0.084516</td>\n",
       "      <td>0.431751</td>\n",
       "      <td>0.431751</td>\n",
       "      <td>0.470315</td>\n",
       "      <td>0.1132</td>\n",
       "      <td>0.975583</td>\n",
       "      <td>0.006129</td>\n",
       "      <td>0.1269</td>\n",
       "      <td>0.0780</td>\n",
       "    </tr>\n",
       "    <tr>\n",
       "      <th>66</th>\n",
       "      <td>0.08</td>\n",
       "      <td>6.468516</td>\n",
       "      <td>0.613699</td>\n",
       "      <td>0.4510</td>\n",
       "      <td>311.8</td>\n",
       "      <td>-0.436736</td>\n",
       "      <td>-0.436736</td>\n",
       "      <td>3.826251</td>\n",
       "      <td>0.388847</td>\n",
       "      <td>0.740694</td>\n",
       "      <td>...</td>\n",
       "      <td>-0.045471</td>\n",
       "      <td>-0.066343</td>\n",
       "      <td>0.414236</td>\n",
       "      <td>0.414236</td>\n",
       "      <td>0.454210</td>\n",
       "      <td>0.1291</td>\n",
       "      <td>0.974500</td>\n",
       "      <td>0.003832</td>\n",
       "      <td>0.1414</td>\n",
       "      <td>0.0851</td>\n",
       "    </tr>\n",
       "    <tr>\n",
       "      <th>67</th>\n",
       "      <td>0.16</td>\n",
       "      <td>5.969022</td>\n",
       "      <td>0.633905</td>\n",
       "      <td>0.4679</td>\n",
       "      <td>303.9</td>\n",
       "      <td>-0.441563</td>\n",
       "      <td>-0.441563</td>\n",
       "      <td>5.006214</td>\n",
       "      <td>0.523859</td>\n",
       "      <td>0.871989</td>\n",
       "      <td>...</td>\n",
       "      <td>0.086386</td>\n",
       "      <td>0.130753</td>\n",
       "      <td>0.673761</td>\n",
       "      <td>0.673761</td>\n",
       "      <td>0.672508</td>\n",
       "      <td>0.0786</td>\n",
       "      <td>0.988223</td>\n",
       "      <td>0.013636</td>\n",
       "      <td>0.0661</td>\n",
       "      <td>0.0491</td>\n",
       "    </tr>\n",
       "    <tr>\n",
       "      <th>68</th>\n",
       "      <td>0.33</td>\n",
       "      <td>20.459094</td>\n",
       "      <td>0.420958</td>\n",
       "      <td>0.2739</td>\n",
       "      <td>305.8</td>\n",
       "      <td>-0.342472</td>\n",
       "      <td>-0.342472</td>\n",
       "      <td>2.367479</td>\n",
       "      <td>0.165058</td>\n",
       "      <td>0.497447</td>\n",
       "      <td>...</td>\n",
       "      <td>-0.074431</td>\n",
       "      <td>-0.113208</td>\n",
       "      <td>0.147946</td>\n",
       "      <td>0.147946</td>\n",
       "      <td>0.252177</td>\n",
       "      <td>0.1343</td>\n",
       "      <td>0.955612</td>\n",
       "      <td>0.010671</td>\n",
       "      <td>0.1559</td>\n",
       "      <td>0.0994</td>\n",
       "    </tr>\n",
       "  </tbody>\n",
       "</table>\n",
       "<p>69 rows × 40 columns</p>\n",
       "</div>"
      ],
      "text/plain": [
       "      SM        BAI     SAVIT      B4     B6      NDSI     MNDWI       CVI  \\\n",
       "0   0.39  10.113513  0.539735  0.3735  295.5 -0.358974 -0.358974  3.486000   \n",
       "1   0.32  10.595909  0.532088  0.3666  296.0 -0.387547 -0.387547  3.652422   \n",
       "2   0.50  12.580357  0.504472  0.3416  296.5 -0.288564 -0.288564  2.571921   \n",
       "3   0.47  11.995843  0.511969  0.3485  297.0 -0.300235 -0.300235  2.838363   \n",
       "4   0.07  20.168927  0.399352  0.2589  313.6 -0.318784 -0.318784  1.857574   \n",
       "..   ...        ...       ...     ...    ...       ...       ...       ...   \n",
       "64  0.17   4.199442  0.703307  0.5458  303.9 -0.471952 -0.471952  4.761866   \n",
       "65  0.11   6.985466  0.601447  0.4374  311.4 -0.456553 -0.456553  4.331592   \n",
       "66  0.08   6.468516  0.613699  0.4510  311.8 -0.436736 -0.436736  3.826251   \n",
       "67  0.16   5.969022  0.633905  0.4679  303.9 -0.441563 -0.441563  5.006214   \n",
       "68  0.33  20.459094  0.420958  0.2739  305.8 -0.342472 -0.342472  2.367479   \n",
       "\n",
       "        SAVI      GEMI  ...     NGRDI      VARI       NBR     MNDVI      GVMI  \\\n",
       "0   0.411152  0.757530  ...  0.086957  0.142012  0.618986  0.618986  0.628827   \n",
       "1   0.395080  0.741872  ...  0.054482  0.089423  0.556688  0.556688  0.579019   \n",
       "2   0.357753  0.702719  ...  0.107660  0.176122  0.555556  0.555556  0.579399   \n",
       "3   0.361701  0.707913  ...  0.081389  0.139061  0.562430  0.562430  0.584526   \n",
       "4   0.080603  0.391713  ... -0.090166 -0.140731 -0.047286 -0.047286  0.081839   \n",
       "..       ...       ...  ...       ...       ...       ...       ...       ...   \n",
       "64  0.614990  0.954561  ...  0.186415  0.280045  0.696085  0.696085  0.691461   \n",
       "65  0.396983  0.750485  ... -0.057060 -0.084516  0.431751  0.431751  0.470315   \n",
       "66  0.388847  0.740694  ... -0.045471 -0.066343  0.414236  0.414236  0.454210   \n",
       "67  0.523859  0.871989  ...  0.086386  0.130753  0.673761  0.673761  0.672508   \n",
       "68  0.165058  0.497447  ... -0.074431 -0.113208  0.147946  0.147946  0.252177   \n",
       "\n",
       "        B2      NBRT     kVARI      B3      B1  \n",
       "0   0.0900  0.986187  0.014440  0.0756  0.0642  \n",
       "1   0.0900  0.983282  0.005706  0.0807  0.0667  \n",
       "2   0.1070  0.983199  0.022106  0.0862  0.0751  \n",
       "3   0.1043  0.983502  0.012890  0.0886  0.0800  \n",
       "4   0.1670  0.933352  0.015952  0.2001  0.1319  \n",
       "..     ...       ...       ...     ...     ...  \n",
       "64  0.0786  0.989168  0.062334  0.0539  0.0443  \n",
       "65  0.1132  0.975583  0.006129  0.1269  0.0780  \n",
       "66  0.1291  0.974500  0.003832  0.1414  0.0851  \n",
       "67  0.0786  0.988223  0.013636  0.0661  0.0491  \n",
       "68  0.1343  0.955612  0.010671  0.1559  0.0994  \n",
       "\n",
       "[69 rows x 40 columns]"
      ]
     },
     "execution_count": 2,
     "metadata": {},
     "output_type": "execute_result"
    }
   ],
   "source": [
    "import pandas as pd\n",
    "sma = pd.read_csv('./Results Step 2/machine_learning_data.csv')\n",
    "sma#.head(3)"
   ]
  },
  {
   "cell_type": "markdown",
   "metadata": {},
   "source": [
    "## Setting Up the Relevance Vector Machine\n",
    "Now that the data is in the adequate format (a table), we will run the RVM algorithm. The bands will be inputs (x) and soil moisture the output (y)"
   ]
  },
  {
   "cell_type": "raw",
   "metadata": {},
   "source": [
    "Note: if the cell below does not run, go to the terminal and pass this command:\n",
    "\n",
    "pip install mlxtend"
   ]
  },
  {
   "cell_type": "markdown",
   "metadata": {},
   "source": [
    "Let's try all the data (all rows and all remote sensing information)"
   ]
  },
  {
   "cell_type": "code",
   "execution_count": 3,
   "metadata": {},
   "outputs": [
    {
     "name": "stdout",
     "output_type": "stream",
     "text": [
      "Intercept: 0.08\n",
      "Slope: 0.01\n"
     ]
    },
    {
     "data": {
      "image/png": "[encoded data removed]",
      "text/plain": [
       "<Figure size 432x288 with 1 Axes>"
      ]
     },
     "metadata": {
      "needs_background": "light"
     },
     "output_type": "display_data"
    }
   ],
   "source": [
    "import matplotlib.pyplot as plt\n",
    "import numpy as np\n",
    "\n",
    "from mlxtend.regressor import LinearRegression\n",
    "\n",
    "\n",
    "X=sma.loc[:, sma.columns == 'BAI'].to_numpy()\n",
    "# X=sma.loc[:, sma.columns != 'SM'].to_numpy()\n",
    "\n",
    "t=sma[['SM']].to_numpy()\n",
    "t=t.ravel()\n",
    "\n",
    "ne_lr = LinearRegression()\n",
    "ne_lr.fit(X, t)\n",
    "y=ne_lr.predict(X)\n",
    "\n",
    "print('Intercept: %.2f' % ne_lr.b_)\n",
    "print('Slope: %.2f' % ne_lr.w_[0])\n",
    "\n",
    "def lin_regplot(X, t, model):\n",
    "    plt.scatter(X, t, c='blue')\n",
    "    plt.plot(X, model.predict(X), color='red')    \n",
    "    return\n",
    "\n",
    "lin_regplot(X, t, ne_lr)\n",
    "plt.show()"
   ]
  },
  {
   "cell_type": "markdown",
   "metadata": {},
   "source": [
    "Let's plot the results"
   ]
  },
  {
   "cell_type": "code",
   "execution_count": 4,
   "metadata": {},
   "outputs": [
    {
     "name": "stdout",
     "output_type": "stream",
     "text": [
      "RMSE = 0.13 m3/m3\n"
     ]
    }
   ],
   "source": [
    "import math\n",
    "from sklearn.metrics import mean_squared_error, r2_score\n",
    "\n",
    "mse = mean_squared_error(t, y)\n",
    "rmse = math.sqrt(mse)\n",
    "print('RMSE = %.2f' %rmse, \"m3/m3\")"
   ]
  },
  {
   "cell_type": "code",
   "execution_count": 5,
   "metadata": {},
   "outputs": [
    {
     "name": "stdout",
     "output_type": "stream",
     "text": [
      "r2 =0.26\n"
     ]
    }
   ],
   "source": [
    "r2 = r2_score(t, y)\n",
    "print(\"r2 =%.2f\" %r2)"
   ]
  },
  {
   "cell_type": "markdown",
   "metadata": {},
   "source": [
    "We have two questions: Which of the variables can best represent the variability in soil moisture and how we deal with a small number of variables.\n",
    "\n",
    "For the first question, we can test each of the variables indivudually and then combine the most promissing.\n",
    "\n",
    "For the second question, we need to use a concept called \"CrossValidation\". We will divide the total number of samples and change training and testing groups for \"n\" times, while tracking a goodness of fit statistic, like Mean Square Error or Coefficient of Determination (r2).\n",
    "\n",
    "Let's implement this for Band 1 (blue)"
   ]
  },
  {
   "cell_type": "code",
   "execution_count": 10,
   "metadata": {},
   "outputs": [
    {
     "data": {
      "text/plain": [
       "2691"
      ]
     },
     "execution_count": 10,
     "metadata": {},
     "output_type": "execute_result"
    }
   ],
   "source": [
    "#importing the necessary libraries\n",
    "from mlxtend.feature_selection import SequentialFeatureSelector as SFS\n",
    "# from mlxtend.preprocessing import minmax_scaling\n",
    "from mlxtend.plotting import plot_sequential_feature_selection as plot_sfs\n",
    "import matplotlib.pyplot as plt\n",
    "\n",
    "x=sma.loc[:, sma.columns != 'SM'].to_numpy()\n",
    "\n",
    "# robust scaling of the input data\n",
    "# https://scikit-learn.org/stable/modules/generated/sklearn.preprocessing.RobustScaler.html#sklearn.preprocessing.RobustScaler\n",
    "\n",
    "# from sklearn.preprocessing import MinMaxScaler\n",
    "# scaler = MinMaxScaler()\n",
    "# transformer=scaler.fit(Xo)\n",
    "# x=transformer.transform(Xo)\n",
    "from mlxtend.preprocessing import minmax_scaling\n",
    "columns=[0,1,2,3,4,5,6,7,8,9,10,11,12,13,14,15,16,17,18,19, \n",
    "         20,21,22,23,24,25,26,27,28,29,30,31,32,33,34,35,36,37,38]\n",
    "x=minmax_scaling(x,columns=columns )\n",
    "x"
   ]
  },
  {
   "cell_type": "code",
   "execution_count": 11,
   "metadata": {},
   "outputs": [],
   "source": [
    "model = LinearRegression(method='svd')"
   ]
  },
  {
   "cell_type": "code",
   "execution_count": 17,
   "metadata": {},
   "outputs": [],
   "source": [
    "# Forward Variable Selection(fvs)\n",
    "fvs = SFS(model,\n",
    "          k_features='best', #best or parsimonious (simplest model within 1 CI of best)\n",
    "          forward=True,\n",
    "          floating=False,\n",
    "          verbose =0,\n",
    "          cv=4,\n",
    "          n_jobs=4,\n",
    "          scoring = 'neg_mean_squared_error') #neg_mean_squared_error"
   ]
  },
  {
   "cell_type": "code",
   "execution_count": 18,
   "metadata": {},
   "outputs": [
    {
     "data": {
      "text/plain": [
       "SequentialFeatureSelector(cv=4,\n",
       "                          estimator=<mlxtend.regressor.linear_regression.LinearRegression object at 0x7fdac3edc640>,\n",
       "                          k_features='best', n_jobs=4,\n",
       "                          scoring='neg_mean_squared_error')"
      ]
     },
     "execution_count": 18,
     "metadata": {},
     "output_type": "execute_result"
    }
   ],
   "source": [
    "fvs.fit(x, t)\n",
    "# sfs.k_feature_names_ "
   ]
  },
  {
   "cell_type": "markdown",
   "metadata": {},
   "source": [
    "we can access the indices of the best features directly via the k_feature_idx_ attribute:"
   ]
  },
  {
   "cell_type": "code",
   "execution_count": 19,
   "metadata": {},
   "outputs": [
    {
     "data": {
      "text/plain": [
       "(0, 2, 3, 4, 5, 6, 8, 10, 18, 22, 25, 27, 30, 33, 34, 36, 37)"
      ]
     },
     "execution_count": 19,
     "metadata": {},
     "output_type": "execute_result"
    }
   ],
   "source": [
    "(fvs.k_feature_idx_)"
   ]
  },
  {
   "cell_type": "markdown",
   "metadata": {},
   "source": [
    "the prediction score for these selected features can be accesses via k_score_:"
   ]
  },
  {
   "cell_type": "code",
   "execution_count": 20,
   "metadata": {},
   "outputs": [
    {
     "data": {
      "text/plain": [
       "-0.01138302846586107"
      ]
     },
     "execution_count": 20,
     "metadata": {},
     "output_type": "execute_result"
    }
   ],
   "source": [
    "fvs.k_score_"
   ]
  },
  {
   "cell_type": "code",
   "execution_count": 21,
   "metadata": {},
   "outputs": [
    {
     "data": {
      "image/png": "[encoded data removed]",
      "text/plain": [
       "<Figure size 1440x720 with 1 Axes>"
      ]
     },
     "metadata": {
      "needs_background": "light"
     },
     "output_type": "display_data"
    }
   ],
   "source": [
    "fig_fvs = plot_sfs(fvs.get_metric_dict(), kind='ci',figsize=(20,10))\n",
    "plt.title('Forward Variable Selection (w. CI)')\n",
    "plt.grid()\n",
    "plt.ylim(-0.1, 0)\n",
    "plt.show()"
   ]
  },
  {
   "cell_type": "code",
   "execution_count": 22,
   "metadata": {},
   "outputs": [
    {
     "data": {
      "text/html": [
       "<div>\n",
       "<style scoped>\n",
       "    .dataframe tbody tr th:only-of-type {\n",
       "        vertical-align: middle;\n",
       "    }\n",
       "\n",
       "    .dataframe tbody tr th {\n",
       "        vertical-align: top;\n",
       "    }\n",
       "\n",
       "    .dataframe thead th {\n",
       "        text-align: right;\n",
       "    }\n",
       "</style>\n",
       "<table border=\"1\" class=\"dataframe\">\n",
       "  <thead>\n",
       "    <tr style=\"text-align: right;\">\n",
       "      <th></th>\n",
       "      <th>feature_idx</th>\n",
       "      <th>cv_scores</th>\n",
       "      <th>avg_score</th>\n",
       "      <th>feature_names</th>\n",
       "      <th>ci_bound</th>\n",
       "      <th>std_dev</th>\n",
       "      <th>std_err</th>\n",
       "    </tr>\n",
       "  </thead>\n",
       "  <tbody>\n",
       "    <tr>\n",
       "      <th>1</th>\n",
       "      <td>(0,)</td>\n",
       "      <td>[-0.029013095449622564, -0.00896679724819429, ...</td>\n",
       "      <td>-0.018787</td>\n",
       "      <td>(0,)</td>\n",
       "      <td>0.012218</td>\n",
       "      <td>0.007622</td>\n",
       "      <td>0.004401</td>\n",
       "    </tr>\n",
       "    <tr>\n",
       "      <th>2</th>\n",
       "      <td>(0, 3)</td>\n",
       "      <td>[-0.017656680808811578, -0.012461227351718852,...</td>\n",
       "      <td>-0.012939</td>\n",
       "      <td>(0, 3)</td>\n",
       "      <td>0.004846</td>\n",
       "      <td>0.003023</td>\n",
       "      <td>0.001746</td>\n",
       "    </tr>\n",
       "    <tr>\n",
       "      <th>3</th>\n",
       "      <td>(0, 3, 22)</td>\n",
       "      <td>[-0.01677952835286285, -0.012971468620460174, ...</td>\n",
       "      <td>-0.012439</td>\n",
       "      <td>(0, 3, 22)</td>\n",
       "      <td>0.004754</td>\n",
       "      <td>0.002966</td>\n",
       "      <td>0.001712</td>\n",
       "    </tr>\n",
       "    <tr>\n",
       "      <th>4</th>\n",
       "      <td>(0, 3, 22, 36)</td>\n",
       "      <td>[-0.01706210531609671, -0.016452345833941406, ...</td>\n",
       "      <td>-0.013351</td>\n",
       "      <td>(0, 3, 22, 36)</td>\n",
       "      <td>0.005712</td>\n",
       "      <td>0.003564</td>\n",
       "      <td>0.002057</td>\n",
       "    </tr>\n",
       "    <tr>\n",
       "      <th>5</th>\n",
       "      <td>(0, 2, 3, 22, 36)</td>\n",
       "      <td>[-0.014701749414214732, -0.013302113300078675,...</td>\n",
       "      <td>-0.013933</td>\n",
       "      <td>(0, 2, 3, 22, 36)</td>\n",
       "      <td>0.003369</td>\n",
       "      <td>0.002102</td>\n",
       "      <td>0.001214</td>\n",
       "    </tr>\n",
       "  </tbody>\n",
       "</table>\n",
       "</div>"
      ],
      "text/plain": [
       "         feature_idx                                          cv_scores  \\\n",
       "1               (0,)  [-0.029013095449622564, -0.00896679724819429, ...   \n",
       "2             (0, 3)  [-0.017656680808811578, -0.012461227351718852,...   \n",
       "3         (0, 3, 22)  [-0.01677952835286285, -0.012971468620460174, ...   \n",
       "4     (0, 3, 22, 36)  [-0.01706210531609671, -0.016452345833941406, ...   \n",
       "5  (0, 2, 3, 22, 36)  [-0.014701749414214732, -0.013302113300078675,...   \n",
       "\n",
       "  avg_score      feature_names  ci_bound   std_dev   std_err  \n",
       "1 -0.018787               (0,)  0.012218  0.007622  0.004401  \n",
       "2 -0.012939             (0, 3)  0.004846  0.003023  0.001746  \n",
       "3 -0.012439         (0, 3, 22)  0.004754  0.002966  0.001712  \n",
       "4 -0.013351     (0, 3, 22, 36)  0.005712  0.003564  0.002057  \n",
       "5 -0.013933  (0, 2, 3, 22, 36)  0.003369  0.002102  0.001214  "
      ]
     },
     "execution_count": 22,
     "metadata": {},
     "output_type": "execute_result"
    }
   ],
   "source": [
    "sfs_results=pd.DataFrame.from_dict(fvs.get_metric_dict()).T\n",
    "sfs_results.head()"
   ]
  },
  {
   "cell_type": "code",
   "execution_count": 23,
   "metadata": {},
   "outputs": [],
   "source": [
    "#backward variable selection(bvs)\n",
    "bvs = SFS(model,\n",
    "         k_features='best',\n",
    "         forward=False,\n",
    "         floating=False,\n",
    "         verbose =0,\n",
    "         cv=4,\n",
    "          n_jobs=4,\n",
    "          scoring = 'neg_mean_squared_error') #neg_mean_squared_error"
   ]
  },
  {
   "cell_type": "code",
   "execution_count": 24,
   "metadata": {},
   "outputs": [
    {
     "data": {
      "text/plain": [
       "SequentialFeatureSelector(cv=4,\n",
       "                          estimator=<mlxtend.regressor.linear_regression.LinearRegression object at 0x7fdac3edc640>,\n",
       "                          forward=False, k_features='best', n_jobs=4,\n",
       "                          scoring='neg_mean_squared_error')"
      ]
     },
     "execution_count": 24,
     "metadata": {},
     "output_type": "execute_result"
    }
   ],
   "source": [
    "bvs.fit(x, t.ravel())\n",
    "# sfs1.k_feature_names_"
   ]
  },
  {
   "cell_type": "code",
   "execution_count": 25,
   "metadata": {},
   "outputs": [
    {
     "data": {
      "text/plain": [
       "(1,\n",
       " 2,\n",
       " 4,\n",
       " 6,\n",
       " 8,\n",
       " 9,\n",
       " 10,\n",
       " 14,\n",
       " 15,\n",
       " 16,\n",
       " 19,\n",
       " 20,\n",
       " 21,\n",
       " 26,\n",
       " 27,\n",
       " 28,\n",
       " 29,\n",
       " 31,\n",
       " 33,\n",
       " 35,\n",
       " 36,\n",
       " 37)"
      ]
     },
     "execution_count": 25,
     "metadata": {},
     "output_type": "execute_result"
    }
   ],
   "source": [
    "(bvs.k_feature_idx_)"
   ]
  },
  {
   "cell_type": "code",
   "execution_count": 26,
   "metadata": {},
   "outputs": [
    {
     "data": {
      "text/plain": [
       "-0.00890223772399217"
      ]
     },
     "execution_count": 26,
     "metadata": {},
     "output_type": "execute_result"
    }
   ],
   "source": [
    "bvs.k_score_"
   ]
  },
  {
   "cell_type": "code",
   "execution_count": 27,
   "metadata": {},
   "outputs": [
    {
     "data": {
      "text/html": [
       "<div>\n",
       "<style scoped>\n",
       "    .dataframe tbody tr th:only-of-type {\n",
       "        vertical-align: middle;\n",
       "    }\n",
       "\n",
       "    .dataframe tbody tr th {\n",
       "        vertical-align: top;\n",
       "    }\n",
       "\n",
       "    .dataframe thead th {\n",
       "        text-align: right;\n",
       "    }\n",
       "</style>\n",
       "<table border=\"1\" class=\"dataframe\">\n",
       "  <thead>\n",
       "    <tr style=\"text-align: right;\">\n",
       "      <th></th>\n",
       "      <th>feature_idx</th>\n",
       "      <th>cv_scores</th>\n",
       "      <th>avg_score</th>\n",
       "      <th>feature_names</th>\n",
       "      <th>ci_bound</th>\n",
       "      <th>std_dev</th>\n",
       "      <th>std_err</th>\n",
       "    </tr>\n",
       "  </thead>\n",
       "  <tbody>\n",
       "    <tr>\n",
       "      <th>39</th>\n",
       "      <td>(0, 1, 2, 3, 4, 5, 6, 7, 8, 9, 10, 11, 12, 13,...</td>\n",
       "      <td>[-0.036135698549478935, -0.7771399268366989, -...</td>\n",
       "      <td>-0.239659</td>\n",
       "      <td>(0, 1, 2, 3, 4, 5, 6, 7, 8, 9, 10, 11, 12, 13,...</td>\n",
       "      <td>0.499237</td>\n",
       "      <td>0.311443</td>\n",
       "      <td>0.179811</td>\n",
       "    </tr>\n",
       "    <tr>\n",
       "      <th>38</th>\n",
       "      <td>(0, 1, 2, 3, 4, 5, 6, 7, 8, 9, 10, 11, 13, 14,...</td>\n",
       "      <td>[-0.03634342847801871, -0.028327918801466047, ...</td>\n",
       "      <td>-0.040165</td>\n",
       "      <td>(0, 1, 2, 3, 4, 5, 6, 7, 8, 9, 10, 11, 13, 14,...</td>\n",
       "      <td>0.01534</td>\n",
       "      <td>0.00957</td>\n",
       "      <td>0.005525</td>\n",
       "    </tr>\n",
       "    <tr>\n",
       "      <th>37</th>\n",
       "      <td>(0, 1, 2, 3, 4, 5, 6, 7, 8, 9, 10, 11, 13, 14,...</td>\n",
       "      <td>[-0.01905616919563994, -0.03180259063161459, -...</td>\n",
       "      <td>-0.029012</td>\n",
       "      <td>(0, 1, 2, 3, 4, 5, 6, 7, 8, 9, 10, 11, 13, 14,...</td>\n",
       "      <td>0.016166</td>\n",
       "      <td>0.010085</td>\n",
       "      <td>0.005823</td>\n",
       "    </tr>\n",
       "    <tr>\n",
       "      <th>36</th>\n",
       "      <td>(1, 2, 3, 4, 5, 6, 7, 8, 9, 10, 11, 13, 14, 15...</td>\n",
       "      <td>[-0.025362830822614854, -0.029361299795741497,...</td>\n",
       "      <td>-0.021382</td>\n",
       "      <td>(1, 2, 3, 4, 5, 6, 7, 8, 9, 10, 11, 13, 14, 15...</td>\n",
       "      <td>0.010353</td>\n",
       "      <td>0.006459</td>\n",
       "      <td>0.003729</td>\n",
       "    </tr>\n",
       "    <tr>\n",
       "      <th>35</th>\n",
       "      <td>(1, 2, 3, 4, 5, 6, 7, 8, 9, 10, 11, 13, 14, 15...</td>\n",
       "      <td>[-0.022096950734206186, -0.020686718160044585,...</td>\n",
       "      <td>-0.017951</td>\n",
       "      <td>(1, 2, 3, 4, 5, 6, 7, 8, 9, 10, 11, 13, 14, 15...</td>\n",
       "      <td>0.007532</td>\n",
       "      <td>0.004699</td>\n",
       "      <td>0.002713</td>\n",
       "    </tr>\n",
       "  </tbody>\n",
       "</table>\n",
       "</div>"
      ],
      "text/plain": [
       "                                          feature_idx  \\\n",
       "39  (0, 1, 2, 3, 4, 5, 6, 7, 8, 9, 10, 11, 12, 13,...   \n",
       "38  (0, 1, 2, 3, 4, 5, 6, 7, 8, 9, 10, 11, 13, 14,...   \n",
       "37  (0, 1, 2, 3, 4, 5, 6, 7, 8, 9, 10, 11, 13, 14,...   \n",
       "36  (1, 2, 3, 4, 5, 6, 7, 8, 9, 10, 11, 13, 14, 15...   \n",
       "35  (1, 2, 3, 4, 5, 6, 7, 8, 9, 10, 11, 13, 14, 15...   \n",
       "\n",
       "                                            cv_scores avg_score  \\\n",
       "39  [-0.036135698549478935, -0.7771399268366989, -... -0.239659   \n",
       "38  [-0.03634342847801871, -0.028327918801466047, ... -0.040165   \n",
       "37  [-0.01905616919563994, -0.03180259063161459, -... -0.029012   \n",
       "36  [-0.025362830822614854, -0.029361299795741497,... -0.021382   \n",
       "35  [-0.022096950734206186, -0.020686718160044585,... -0.017951   \n",
       "\n",
       "                                        feature_names  ci_bound   std_dev  \\\n",
       "39  (0, 1, 2, 3, 4, 5, 6, 7, 8, 9, 10, 11, 12, 13,...  0.499237  0.311443   \n",
       "38  (0, 1, 2, 3, 4, 5, 6, 7, 8, 9, 10, 11, 13, 14,...   0.01534   0.00957   \n",
       "37  (0, 1, 2, 3, 4, 5, 6, 7, 8, 9, 10, 11, 13, 14,...  0.016166  0.010085   \n",
       "36  (1, 2, 3, 4, 5, 6, 7, 8, 9, 10, 11, 13, 14, 15...  0.010353  0.006459   \n",
       "35  (1, 2, 3, 4, 5, 6, 7, 8, 9, 10, 11, 13, 14, 15...  0.007532  0.004699   \n",
       "\n",
       "     std_err  \n",
       "39  0.179811  \n",
       "38  0.005525  \n",
       "37  0.005823  \n",
       "36  0.003729  \n",
       "35  0.002713  "
      ]
     },
     "execution_count": 27,
     "metadata": {},
     "output_type": "execute_result"
    }
   ],
   "source": [
    "bvs_results=pd.DataFrame.from_dict(bvs.get_metric_dict()).T\n",
    "bvs_results.head()"
   ]
  },
  {
   "cell_type": "code",
   "execution_count": 28,
   "metadata": {},
   "outputs": [
    {
     "data": {
      "image/png": "[encoded data removed]",
      "text/plain": [
       "<Figure size 1440x720 with 1 Axes>"
      ]
     },
     "metadata": {
      "needs_background": "light"
     },
     "output_type": "display_data"
    }
   ],
   "source": [
    "# bvs.k_feature_names_\n",
    "fig1 = plot_sfs(bvs.get_metric_dict(), kind='ci',figsize=(20,10))\n",
    "plt.title('Backward Variable Selection (w. CI)')\n",
    "plt.grid()\n",
    "plt.ylim(-0.1, 0)\n",
    "plt.show()"
   ]
  },
  {
   "cell_type": "code",
   "execution_count": 29,
   "metadata": {},
   "outputs": [],
   "source": [
    "# Forward Floating Selection(sffs)\n",
    "ffvs = SFS(model,\n",
    "         k_features='best',\n",
    "         forward=True,\n",
    "         floating=True,\n",
    "         verbose =0,\n",
    "         cv=4,\n",
    "          n_jobs=4,\n",
    "          scoring = 'neg_mean_squared_error') #neg_mean_squared_error"
   ]
  },
  {
   "cell_type": "code",
   "execution_count": 30,
   "metadata": {},
   "outputs": [
    {
     "data": {
      "text/plain": [
       "SequentialFeatureSelector(cv=4,\n",
       "                          estimator=<mlxtend.regressor.linear_regression.LinearRegression object at 0x7fdac3edc640>,\n",
       "                          floating=True, k_features='best', n_jobs=4,\n",
       "                          scoring='neg_mean_squared_error')"
      ]
     },
     "execution_count": 30,
     "metadata": {},
     "output_type": "execute_result"
    }
   ],
   "source": [
    "ffvs.fit(x, t.ravel())\n",
    "# sffs.k_feature_names_"
   ]
  },
  {
   "cell_type": "code",
   "execution_count": 31,
   "metadata": {},
   "outputs": [
    {
     "data": {
      "text/html": [
       "<div>\n",
       "<style scoped>\n",
       "    .dataframe tbody tr th:only-of-type {\n",
       "        vertical-align: middle;\n",
       "    }\n",
       "\n",
       "    .dataframe tbody tr th {\n",
       "        vertical-align: top;\n",
       "    }\n",
       "\n",
       "    .dataframe thead th {\n",
       "        text-align: right;\n",
       "    }\n",
       "</style>\n",
       "<table border=\"1\" class=\"dataframe\">\n",
       "  <thead>\n",
       "    <tr style=\"text-align: right;\">\n",
       "      <th></th>\n",
       "      <th>feature_idx</th>\n",
       "      <th>cv_scores</th>\n",
       "      <th>avg_score</th>\n",
       "      <th>feature_names</th>\n",
       "      <th>ci_bound</th>\n",
       "      <th>std_dev</th>\n",
       "      <th>std_err</th>\n",
       "    </tr>\n",
       "  </thead>\n",
       "  <tbody>\n",
       "    <tr>\n",
       "      <th>1</th>\n",
       "      <td>(0,)</td>\n",
       "      <td>[-0.029013095449622564, -0.00896679724819429, ...</td>\n",
       "      <td>-0.018787</td>\n",
       "      <td>(0,)</td>\n",
       "      <td>0.012218</td>\n",
       "      <td>0.007622</td>\n",
       "      <td>0.004401</td>\n",
       "    </tr>\n",
       "    <tr>\n",
       "      <th>2</th>\n",
       "      <td>(0, 3)</td>\n",
       "      <td>[-0.017656680808811578, -0.012461227351718852,...</td>\n",
       "      <td>-0.012939</td>\n",
       "      <td>(0, 3)</td>\n",
       "      <td>0.004846</td>\n",
       "      <td>0.003023</td>\n",
       "      <td>0.001746</td>\n",
       "    </tr>\n",
       "    <tr>\n",
       "      <th>3</th>\n",
       "      <td>(2, 3, 22)</td>\n",
       "      <td>[-0.014785990244933607, -0.007659285256810886,...</td>\n",
       "      <td>-0.012291</td>\n",
       "      <td>(2, 3, 22)</td>\n",
       "      <td>0.004768</td>\n",
       "      <td>0.002975</td>\n",
       "      <td>0.001717</td>\n",
       "    </tr>\n",
       "    <tr>\n",
       "      <th>4</th>\n",
       "      <td>(1, 2, 3, 22)</td>\n",
       "      <td>[-0.015561849640752393, -0.006968403023482545,...</td>\n",
       "      <td>-0.011818</td>\n",
       "      <td>(1, 2, 3, 22)</td>\n",
       "      <td>0.005265</td>\n",
       "      <td>0.003285</td>\n",
       "      <td>0.001896</td>\n",
       "    </tr>\n",
       "    <tr>\n",
       "      <th>5</th>\n",
       "      <td>(1, 2, 3, 6, 22)</td>\n",
       "      <td>[-0.015606912519484706, -0.006990290958858142,...</td>\n",
       "      <td>-0.01225</td>\n",
       "      <td>(1, 2, 3, 6, 22)</td>\n",
       "      <td>0.005784</td>\n",
       "      <td>0.003608</td>\n",
       "      <td>0.002083</td>\n",
       "    </tr>\n",
       "  </tbody>\n",
       "</table>\n",
       "</div>"
      ],
      "text/plain": [
       "        feature_idx                                          cv_scores  \\\n",
       "1              (0,)  [-0.029013095449622564, -0.00896679724819429, ...   \n",
       "2            (0, 3)  [-0.017656680808811578, -0.012461227351718852,...   \n",
       "3        (2, 3, 22)  [-0.014785990244933607, -0.007659285256810886,...   \n",
       "4     (1, 2, 3, 22)  [-0.015561849640752393, -0.006968403023482545,...   \n",
       "5  (1, 2, 3, 6, 22)  [-0.015606912519484706, -0.006990290958858142,...   \n",
       "\n",
       "  avg_score     feature_names  ci_bound   std_dev   std_err  \n",
       "1 -0.018787              (0,)  0.012218  0.007622  0.004401  \n",
       "2 -0.012939            (0, 3)  0.004846  0.003023  0.001746  \n",
       "3 -0.012291        (2, 3, 22)  0.004768  0.002975  0.001717  \n",
       "4 -0.011818     (1, 2, 3, 22)  0.005265  0.003285  0.001896  \n",
       "5  -0.01225  (1, 2, 3, 6, 22)  0.005784  0.003608  0.002083  "
      ]
     },
     "execution_count": 31,
     "metadata": {},
     "output_type": "execute_result"
    }
   ],
   "source": [
    "ffvs_results=pd.DataFrame.from_dict(ffvs.get_metric_dict()).T\n",
    "ffvs_results.head()"
   ]
  },
  {
   "cell_type": "code",
   "execution_count": 32,
   "metadata": {},
   "outputs": [
    {
     "data": {
      "image/png": "[encoded data removed]",
      "text/plain": [
       "<Figure size 1440x720 with 1 Axes>"
      ]
     },
     "metadata": {
      "needs_background": "light"
     },
     "output_type": "display_data"
    }
   ],
   "source": [
    "fig1 = plot_sfs(ffvs.get_metric_dict(), kind='ci',figsize=(20,10))\n",
    "plt.title('Sequential Forward Selection (w. CI)')\n",
    "plt.grid()\n",
    "plt.ylim(-0.1, 0)\n",
    "\n",
    "plt.show()"
   ]
  },
  {
   "cell_type": "code",
   "execution_count": 33,
   "metadata": {},
   "outputs": [
    {
     "data": {
      "text/plain": [
       "(1,\n",
       " 2,\n",
       " 4,\n",
       " 5,\n",
       " 6,\n",
       " 8,\n",
       " 9,\n",
       " 11,\n",
       " 12,\n",
       " 21,\n",
       " 22,\n",
       " 23,\n",
       " 25,\n",
       " 26,\n",
       " 27,\n",
       " 29,\n",
       " 30,\n",
       " 31,\n",
       " 32,\n",
       " 33,\n",
       " 34,\n",
       " 35,\n",
       " 37,\n",
       " 38)"
      ]
     },
     "execution_count": 33,
     "metadata": {},
     "output_type": "execute_result"
    }
   ],
   "source": [
    "(ffvs.k_feature_idx_)"
   ]
  },
  {
   "cell_type": "code",
   "execution_count": 34,
   "metadata": {},
   "outputs": [
    {
     "data": {
      "text/plain": [
       "-0.005925781953063062"
      ]
     },
     "execution_count": 34,
     "metadata": {},
     "output_type": "execute_result"
    }
   ],
   "source": [
    "ffvs.k_score_"
   ]
  },
  {
   "cell_type": "code",
   "execution_count": 35,
   "metadata": {},
   "outputs": [],
   "source": [
    "# Backward Floating Selection(sffs)\n",
    "bfvs = SFS(model,\n",
    "         k_features='best',\n",
    "         forward=False,\n",
    "         floating=True,\n",
    "         verbose =0,\n",
    "          cv=4,\n",
    "          n_jobs=4,\n",
    "          scoring = 'neg_mean_squared_error') #neg_mean_squared_error"
   ]
  },
  {
   "cell_type": "code",
   "execution_count": 36,
   "metadata": {},
   "outputs": [
    {
     "data": {
      "text/plain": [
       "SequentialFeatureSelector(cv=4,\n",
       "                          estimator=<mlxtend.regressor.linear_regression.LinearRegression object at 0x7fdac3edc640>,\n",
       "                          floating=True, forward=False, k_features='best',\n",
       "                          n_jobs=4, scoring='neg_mean_squared_error')"
      ]
     },
     "execution_count": 36,
     "metadata": {},
     "output_type": "execute_result"
    }
   ],
   "source": [
    "bfvs.fit(x, t.ravel())"
   ]
  },
  {
   "cell_type": "code",
   "execution_count": 37,
   "metadata": {},
   "outputs": [
    {
     "data": {
      "text/plain": [
       "(1, 4, 6, 8, 9, 16, 17, 19, 20, 22, 27, 32, 33, 35)"
      ]
     },
     "execution_count": 37,
     "metadata": {},
     "output_type": "execute_result"
    }
   ],
   "source": [
    "(bfvs.k_feature_idx_)"
   ]
  },
  {
   "cell_type": "code",
   "execution_count": 38,
   "metadata": {},
   "outputs": [
    {
     "data": {
      "text/plain": [
       "-0.00751217821377872"
      ]
     },
     "execution_count": 38,
     "metadata": {},
     "output_type": "execute_result"
    }
   ],
   "source": [
    "bfvs.k_score_"
   ]
  },
  {
   "cell_type": "code",
   "execution_count": 39,
   "metadata": {},
   "outputs": [
    {
     "data": {
      "image/png": "[encoded data removed]",
      "text/plain": [
       "<Figure size 1440x720 with 1 Axes>"
      ]
     },
     "metadata": {
      "needs_background": "light"
     },
     "output_type": "display_data"
    }
   ],
   "source": [
    "fig1 = plot_sfs(bfvs.get_metric_dict(), kind='ci',figsize=(20,10))\n",
    "plt.title('Sequential Backward Selection (w. CI)')\n",
    "plt.grid()\n",
    "plt.ylim(-0.1, 0)\n",
    "\n",
    "plt.show()"
   ]
  },
  {
   "cell_type": "code",
   "execution_count": null,
   "metadata": {},
   "outputs": [],
   "source": [
    "# Exhaustive Feature Selector(effs)\n",
    "from mlxtend.feature_selection import ExhaustiveFeatureSelector as EFS\n",
    "\n",
    "effs = EFS(model,\n",
    "           min_features=1,\n",
    "           max_features=4,\n",
    "           print_progress=True,\n",
    "           scoring = 'neg_mean_squared_error',\n",
    "           n_jobs=4)"
   ]
  },
  {
   "cell_type": "markdown",
   "metadata": {},
   "source": [
    "Identifying the best RVM parameter (gamma)"
   ]
  },
  {
   "cell_type": "code",
   "execution_count": null,
   "metadata": {},
   "outputs": [],
   "source": [
    "efs1 = effs.fit(x, t)\n",
    "\n",
    "print('Best accuracy score: %.2f' % efs1.best_score_)\n",
    "print('Best subset (indices):', efs1.best_idx_)\n",
    "# print('Best subset (corresponding names):', efs1.best_feature_names_)"
   ]
  },
  {
   "cell_type": "code",
   "execution_count": null,
   "metadata": {},
   "outputs": [],
   "source": [
    "(efs1.k_feature_idx_)"
   ]
  },
  {
   "cell_type": "markdown",
   "metadata": {},
   "source": [
    "Let's do the same for all the other inputs"
   ]
  },
  {
   "cell_type": "markdown",
   "metadata": {},
   "source": [
    "Using the three best bands"
   ]
  },
  {
   "cell_type": "code",
   "execution_count": null,
   "metadata": {},
   "outputs": [],
   "source": [
    "X=sm[['B1','B3','B2','B4','B5','B6', 'B7']].to_numpy()\n",
    "\n",
    "clf.fit(X, y_train.ravel())\n",
    "scores = clf.cv_results_['mean_test_score']\n",
    "\n",
    "B7_gamma_sel = gammas[scores == np.max(scores)]\n",
    "print(B7_gamma_sel[0])\n",
    "\n",
    "model = EMRVR(kernel='rbf', gamma=B7_gamma_sel[0],bias_used=False)\n",
    "model.fit(X, y_train.ravel())\n",
    "\n",
    "y, y_std = model.predict(X, return_std=True)\n",
    "\n",
    "mse = mean_squared_error(y_train, y)\n",
    "B7_rmse = math.sqrt(mse)\n",
    "print('RMSE = %.2f' %B7_rmse, \"m3/m3\")\n",
    "\n",
    "B7_r2 = r2_score(y_train, y)\n",
    "print(\"r2 =%.2f\" %B7_r2)"
   ]
  },
  {
   "cell_type": "code",
   "execution_count": null,
   "metadata": {},
   "outputs": [],
   "source": [
    "plt.scatter(xl, y_train, facecolor='none', edgecolor='g', label='training')\n",
    "plt.scatter(xl[model.relevance_], y_train[model.relevance_], s=100, facecolor='none', edgecolor='b', label='relevance vector')\n",
    "plt.plot(xl[:, None], y, color='r', label='predict mean')\n",
    "plt.fill_between(xl, y - y_std, y + y_std, color='pink', alpha=0.5, label='predict std.')\n",
    "plt.legend(loc='best')\n",
    "plt.ylabel(\"SM (m3/m3)\")\n",
    "\n",
    "plt.show()"
   ]
  },
  {
   "cell_type": "code",
   "execution_count": null,
   "metadata": {},
   "outputs": [],
   "source": [
    "plt.scatter(y_train,y, facecolor='none', edgecolor='g')\n",
    "plt.scatter(y_train[model.relevance_], y[model.relevance_], s=100, facecolor='none', edgecolor='b', label='relevance vector')\n",
    "\n",
    "plt.xlabel(\"SM RVM (m3/m3)\")\n",
    "plt.ylabel(\"SM (m3/m3)\")\n",
    "\n",
    "axes = plt.gca()\n",
    "axes.set_xlim([0,0.7])\n",
    "axes.set_ylim([0,0.7])\n",
    "\n",
    "xx = np.linspace(0,0.7,len(y))\n",
    "yx = xx\n",
    "plt.plot(xx, yx, '-r', label='y=x')\n",
    "plt.fill_between(xx, yx - y_std, yx + y_std, color='pink', alpha=0.5, label='predict std.')"
   ]
  },
  {
   "cell_type": "markdown",
   "metadata": {},
   "source": [
    "We found a winner! In the next step we will apply this RVM model to all four Landsat images "
   ]
  },
  {
   "cell_type": "markdown",
   "metadata": {},
   "source": [
    "https://towardsdatascience.com/how-to-identify-the-right-independent-variables-for-machine-learning-supervised-algorithms-439986562d32"
   ]
  }
 ],
 "metadata": {
  "kernelspec": {
   "display_name": "Python 3",
   "language": "python",
   "name": "python3"
  },
  "language_info": {
   "codemirror_mode": {
    "name": "ipython",
    "version": 3
   },
   "file_extension": ".py",
   "mimetype": "text/x-python",
   "name": "python",
   "nbconvert_exporter": "python",
   "pygments_lexer": "ipython3",
   "version": "3.8.6"
  }
 },
 "nbformat": 4,
 "nbformat_minor": 4
}
