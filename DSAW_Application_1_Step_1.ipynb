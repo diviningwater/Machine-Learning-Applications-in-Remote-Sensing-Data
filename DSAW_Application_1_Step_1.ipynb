{
 "cells": [
  {
   "cell_type": "markdown",
   "metadata": {},
   "source": [
    "# Application 1: Farm Scale Soil Moisture Estimation using Remote Sensing and Water Budget Products\n",
    "## Step 1: Preparing Information (satellite and ground measurements) \n",
    "\n",
    "NOTE: BEFORE RUNNING THIS NOTEBOOK, OPEN A TERMINAL AND RUN THE FOLLOWING COMMAND:"
   ]
  },
  {
   "cell_type": "raw",
   "metadata": {},
   "source": [
    "pip install -U geemap\n",
    "pip install eemont"
   ]
  },
  {
   "cell_type": "markdown",
   "metadata": {},
   "source": [
    "### Background: \n",
    "\n",
    "Remote Sensing is a very valuable source of information to understand current conditions and changes in Earth, Atmosphere and Subsurface. These conditions and changes are related to natural factors e.g. solar radiation and rainfall, amount and type of vegetation on top, urban development, among others. For hydrology and water balance components, efforts to estimate precipitation, evapotranspiration, and groundwater have been sucessful (and continue to improve). Still, estimation of at small scales of certain variables (100 m or less) is still challenging. \n",
    "\n",
    "A remote sensing source (satellite) what regularly provides information at 30m scale is Landsat https://landsat.gsfc.nasa.gov/about. This satellite has been the longest remote sensing source (~20 years) for continental locations and will continue to provide with future satellite \"missions\".\n",
    "\n",
    "In this step, you will access Landsat information for a study site in Utah as shown in the figure below:"
   ]
  },
  {
   "cell_type": "markdown",
   "metadata": {},
   "source": [
    "![area_of_stud](area_of_study.jpg)"
   ]
  },
  {
   "cell_type": "markdown",
   "metadata": {},
   "source": [
    "The figure on the left is showing the Area of Study, which are agricultural lands nearby a Utah town called Delta. This agricultural land is part of the Lower Sevier River Basin (by the end of the basin). The figure on the right shows a Landsat image (called false color due to its red hue for vegetation), and locations where soil moisture information was collected in four specific dates in 2012.\n",
    "\n",
    "So, these are the dates we have available soil moisture information:\n",
    "\n",
    "- May 13\n",
    "- May 29\n",
    "- Jun 14\n",
    "- Jun 30\n",
    "\n",
    "The information collected, crop type, and GPS coordinates are sumarized in the csv file */Ground_Information/Prj_Delta_2012_SoilMoisture_topsoil.csv.* We can visualize the file below:"
   ]
  },
  {
   "cell_type": "code",
   "execution_count": 1,
   "metadata": {},
   "outputs": [
    {
     "data": {
      "text/html": [
       "<div>\n",
       "<style scoped>\n",
       "    .dataframe tbody tr th:only-of-type {\n",
       "        vertical-align: middle;\n",
       "    }\n",
       "\n",
       "    .dataframe tbody tr th {\n",
       "        vertical-align: top;\n",
       "    }\n",
       "\n",
       "    .dataframe thead th {\n",
       "        text-align: right;\n",
       "    }\n",
       "</style>\n",
       "<table border=\"1\" class=\"dataframe\">\n",
       "  <thead>\n",
       "    <tr style=\"text-align: right;\">\n",
       "      <th></th>\n",
       "      <th>FIELD</th>\n",
       "      <th>LAT</th>\n",
       "      <th>LONG</th>\n",
       "      <th>SM0513</th>\n",
       "      <th>SM0529</th>\n",
       "      <th>SM0614</th>\n",
       "      <th>SM0630</th>\n",
       "      <th>T0513</th>\n",
       "      <th>T0529</th>\n",
       "      <th>T0614</th>\n",
       "      <th>T0630</th>\n",
       "      <th>SA0513</th>\n",
       "      <th>SA0529</th>\n",
       "      <th>SA0614</th>\n",
       "      <th>SA0630</th>\n",
       "      <th>CROP</th>\n",
       "      <th>sampling point</th>\n",
       "    </tr>\n",
       "  </thead>\n",
       "  <tbody>\n",
       "    <tr>\n",
       "      <th>0</th>\n",
       "      <td>101A</td>\n",
       "      <td>39.38476</td>\n",
       "      <td>-112.65024</td>\n",
       "      <td>0.39</td>\n",
       "      <td>0.14</td>\n",
       "      <td>0.10</td>\n",
       "      <td>0.13</td>\n",
       "      <td>24.93</td>\n",
       "      <td>25.80</td>\n",
       "      <td>23.77</td>\n",
       "      <td>28.97</td>\n",
       "      <td>0.60</td>\n",
       "      <td>0.09</td>\n",
       "      <td>0.00</td>\n",
       "      <td>0.05</td>\n",
       "      <td>alfalfa</td>\n",
       "      <td>1</td>\n",
       "    </tr>\n",
       "    <tr>\n",
       "      <th>1</th>\n",
       "      <td>101B</td>\n",
       "      <td>39.38447</td>\n",
       "      <td>-112.65022</td>\n",
       "      <td>0.32</td>\n",
       "      <td>0.15</td>\n",
       "      <td>0.11</td>\n",
       "      <td>0.13</td>\n",
       "      <td>25.20</td>\n",
       "      <td>25.23</td>\n",
       "      <td>24.90</td>\n",
       "      <td>29.10</td>\n",
       "      <td>0.59</td>\n",
       "      <td>0.07</td>\n",
       "      <td>0.02</td>\n",
       "      <td>0.05</td>\n",
       "      <td>alfalfa</td>\n",
       "      <td>2</td>\n",
       "    </tr>\n",
       "    <tr>\n",
       "      <th>2</th>\n",
       "      <td>104A</td>\n",
       "      <td>39.39835</td>\n",
       "      <td>-112.64149</td>\n",
       "      <td>0.50</td>\n",
       "      <td>0.54</td>\n",
       "      <td>0.29</td>\n",
       "      <td>0.08</td>\n",
       "      <td>25.37</td>\n",
       "      <td>24.03</td>\n",
       "      <td>25.87</td>\n",
       "      <td>28.50</td>\n",
       "      <td>1.01</td>\n",
       "      <td>0.36</td>\n",
       "      <td>0.40</td>\n",
       "      <td>0.01</td>\n",
       "      <td>grain</td>\n",
       "      <td>3</td>\n",
       "    </tr>\n",
       "    <tr>\n",
       "      <th>3</th>\n",
       "      <td>104B</td>\n",
       "      <td>39.39805</td>\n",
       "      <td>-112.64149</td>\n",
       "      <td>0.47</td>\n",
       "      <td>0.12</td>\n",
       "      <td>0.26</td>\n",
       "      <td>0.10</td>\n",
       "      <td>23.07</td>\n",
       "      <td>24.30</td>\n",
       "      <td>25.90</td>\n",
       "      <td>30.17</td>\n",
       "      <td>0.95</td>\n",
       "      <td>0.04</td>\n",
       "      <td>0.38</td>\n",
       "      <td>0.00</td>\n",
       "      <td>grain</td>\n",
       "      <td>4</td>\n",
       "    </tr>\n",
       "    <tr>\n",
       "      <th>4</th>\n",
       "      <td>105A</td>\n",
       "      <td>39.41692</td>\n",
       "      <td>-112.62920</td>\n",
       "      <td>0.07</td>\n",
       "      <td>0.24</td>\n",
       "      <td>0.56</td>\n",
       "      <td>0.65</td>\n",
       "      <td>26.10</td>\n",
       "      <td>25.60</td>\n",
       "      <td>28.20</td>\n",
       "      <td>29.27</td>\n",
       "      <td>0.00</td>\n",
       "      <td>0.50</td>\n",
       "      <td>2.23</td>\n",
       "      <td>3.73</td>\n",
       "      <td>corn</td>\n",
       "      <td>5</td>\n",
       "    </tr>\n",
       "    <tr>\n",
       "      <th>5</th>\n",
       "      <td>105B</td>\n",
       "      <td>39.41664</td>\n",
       "      <td>-112.62922</td>\n",
       "      <td>0.07</td>\n",
       "      <td>0.22</td>\n",
       "      <td>0.46</td>\n",
       "      <td>0.52</td>\n",
       "      <td>27.53</td>\n",
       "      <td>26.03</td>\n",
       "      <td>26.00</td>\n",
       "      <td>25.87</td>\n",
       "      <td>0.00</td>\n",
       "      <td>0.22</td>\n",
       "      <td>1.17</td>\n",
       "      <td>1.35</td>\n",
       "      <td>corn</td>\n",
       "      <td>6</td>\n",
       "    </tr>\n",
       "    <tr>\n",
       "      <th>6</th>\n",
       "      <td>107A</td>\n",
       "      <td>39.42558</td>\n",
       "      <td>-112.65076</td>\n",
       "      <td>0.44</td>\n",
       "      <td>0.36</td>\n",
       "      <td>0.12</td>\n",
       "      <td>0.23</td>\n",
       "      <td>29.10</td>\n",
       "      <td>25.10</td>\n",
       "      <td>26.83</td>\n",
       "      <td>28.20</td>\n",
       "      <td>0.77</td>\n",
       "      <td>0.77</td>\n",
       "      <td>0.32</td>\n",
       "      <td>0.33</td>\n",
       "      <td>corn</td>\n",
       "      <td>7</td>\n",
       "    </tr>\n",
       "    <tr>\n",
       "      <th>7</th>\n",
       "      <td>107B</td>\n",
       "      <td>39.42521</td>\n",
       "      <td>-112.65077</td>\n",
       "      <td>0.54</td>\n",
       "      <td>0.15</td>\n",
       "      <td>0.12</td>\n",
       "      <td>0.18</td>\n",
       "      <td>28.83</td>\n",
       "      <td>25.90</td>\n",
       "      <td>27.97</td>\n",
       "      <td>29.30</td>\n",
       "      <td>0.87</td>\n",
       "      <td>0.12</td>\n",
       "      <td>0.02</td>\n",
       "      <td>0.13</td>\n",
       "      <td>grain</td>\n",
       "      <td>8</td>\n",
       "    </tr>\n",
       "    <tr>\n",
       "      <th>8</th>\n",
       "      <td>108A</td>\n",
       "      <td>39.43149</td>\n",
       "      <td>-112.62613</td>\n",
       "      <td>0.09</td>\n",
       "      <td>0.36</td>\n",
       "      <td>0.09</td>\n",
       "      <td>0.10</td>\n",
       "      <td>27.67</td>\n",
       "      <td>26.10</td>\n",
       "      <td>26.40</td>\n",
       "      <td>29.60</td>\n",
       "      <td>0.00</td>\n",
       "      <td>0.63</td>\n",
       "      <td>0.02</td>\n",
       "      <td>0.00</td>\n",
       "      <td>grain</td>\n",
       "      <td>9</td>\n",
       "    </tr>\n",
       "    <tr>\n",
       "      <th>9</th>\n",
       "      <td>108B</td>\n",
       "      <td>39.43152</td>\n",
       "      <td>-112.62648</td>\n",
       "      <td>0.07</td>\n",
       "      <td>0.42</td>\n",
       "      <td>0.08</td>\n",
       "      <td>0.08</td>\n",
       "      <td>27.00</td>\n",
       "      <td>25.33</td>\n",
       "      <td>27.07</td>\n",
       "      <td>30.73</td>\n",
       "      <td>0.03</td>\n",
       "      <td>0.81</td>\n",
       "      <td>0.01</td>\n",
       "      <td>0.00</td>\n",
       "      <td>grain</td>\n",
       "      <td>10</td>\n",
       "    </tr>\n",
       "    <tr>\n",
       "      <th>10</th>\n",
       "      <td>110A</td>\n",
       "      <td>39.36116</td>\n",
       "      <td>-112.63804</td>\n",
       "      <td>0.10</td>\n",
       "      <td>0.35</td>\n",
       "      <td>0.13</td>\n",
       "      <td>0.44</td>\n",
       "      <td>23.80</td>\n",
       "      <td>16.83</td>\n",
       "      <td>22.80</td>\n",
       "      <td>21.20</td>\n",
       "      <td>0.03</td>\n",
       "      <td>0.59</td>\n",
       "      <td>0.05</td>\n",
       "      <td>0.86</td>\n",
       "      <td>corn</td>\n",
       "      <td>11</td>\n",
       "    </tr>\n",
       "    <tr>\n",
       "      <th>11</th>\n",
       "      <td>110B</td>\n",
       "      <td>39.36113</td>\n",
       "      <td>-112.63842</td>\n",
       "      <td>0.13</td>\n",
       "      <td>0.43</td>\n",
       "      <td>0.12</td>\n",
       "      <td>0.47</td>\n",
       "      <td>24.53</td>\n",
       "      <td>16.57</td>\n",
       "      <td>21.43</td>\n",
       "      <td>21.27</td>\n",
       "      <td>0.06</td>\n",
       "      <td>0.93</td>\n",
       "      <td>0.03</td>\n",
       "      <td>0.91</td>\n",
       "      <td>alfalfa</td>\n",
       "      <td>12</td>\n",
       "    </tr>\n",
       "    <tr>\n",
       "      <th>12</th>\n",
       "      <td>111A</td>\n",
       "      <td>39.37198</td>\n",
       "      <td>-112.64099</td>\n",
       "      <td>0.26</td>\n",
       "      <td>0.15</td>\n",
       "      <td>0.50</td>\n",
       "      <td>0.13</td>\n",
       "      <td>25.23</td>\n",
       "      <td>25.07</td>\n",
       "      <td>24.67</td>\n",
       "      <td>26.90</td>\n",
       "      <td>0.43</td>\n",
       "      <td>0.06</td>\n",
       "      <td>0.94</td>\n",
       "      <td>0.04</td>\n",
       "      <td>alfalfa</td>\n",
       "      <td>13</td>\n",
       "    </tr>\n",
       "    <tr>\n",
       "      <th>13</th>\n",
       "      <td>111B</td>\n",
       "      <td>39.37169</td>\n",
       "      <td>-112.64102</td>\n",
       "      <td>0.26</td>\n",
       "      <td>0.15</td>\n",
       "      <td>0.54</td>\n",
       "      <td>0.14</td>\n",
       "      <td>24.93</td>\n",
       "      <td>25.23</td>\n",
       "      <td>23.00</td>\n",
       "      <td>27.07</td>\n",
       "      <td>0.45</td>\n",
       "      <td>0.03</td>\n",
       "      <td>1.37</td>\n",
       "      <td>0.07</td>\n",
       "      <td>alfalfa</td>\n",
       "      <td>14</td>\n",
       "    </tr>\n",
       "    <tr>\n",
       "      <th>14</th>\n",
       "      <td>113A</td>\n",
       "      <td>39.43207</td>\n",
       "      <td>-112.62260</td>\n",
       "      <td>0.07</td>\n",
       "      <td>0.14</td>\n",
       "      <td>0.06</td>\n",
       "      <td>0.17</td>\n",
       "      <td>27.10</td>\n",
       "      <td>24.93</td>\n",
       "      <td>28.13</td>\n",
       "      <td>31.33</td>\n",
       "      <td>0.13</td>\n",
       "      <td>0.06</td>\n",
       "      <td>0.03</td>\n",
       "      <td>0.10</td>\n",
       "      <td>alfalfa</td>\n",
       "      <td>15</td>\n",
       "    </tr>\n",
       "    <tr>\n",
       "      <th>15</th>\n",
       "      <td>113B</td>\n",
       "      <td>39.43212</td>\n",
       "      <td>-112.62296</td>\n",
       "      <td>0.10</td>\n",
       "      <td>0.17</td>\n",
       "      <td>0.06</td>\n",
       "      <td>0.17</td>\n",
       "      <td>26.93</td>\n",
       "      <td>24.80</td>\n",
       "      <td>29.27</td>\n",
       "      <td>30.70</td>\n",
       "      <td>0.11</td>\n",
       "      <td>0.08</td>\n",
       "      <td>0.03</td>\n",
       "      <td>0.13</td>\n",
       "      <td>alfalfa</td>\n",
       "      <td>16</td>\n",
       "    </tr>\n",
       "    <tr>\n",
       "      <th>16</th>\n",
       "      <td>117A</td>\n",
       "      <td>39.43937</td>\n",
       "      <td>-112.61599</td>\n",
       "      <td>0.27</td>\n",
       "      <td>0.37</td>\n",
       "      <td>0.13</td>\n",
       "      <td>0.11</td>\n",
       "      <td>27.03</td>\n",
       "      <td>26.93</td>\n",
       "      <td>30.50</td>\n",
       "      <td>29.70</td>\n",
       "      <td>0.33</td>\n",
       "      <td>0.52</td>\n",
       "      <td>0.07</td>\n",
       "      <td>0.02</td>\n",
       "      <td>alfalfa</td>\n",
       "      <td>17</td>\n",
       "    </tr>\n",
       "    <tr>\n",
       "      <th>17</th>\n",
       "      <td>117B</td>\n",
       "      <td>39.43936</td>\n",
       "      <td>-112.61637</td>\n",
       "      <td>0.19</td>\n",
       "      <td>0.27</td>\n",
       "      <td>0.08</td>\n",
       "      <td>0.08</td>\n",
       "      <td>26.90</td>\n",
       "      <td>25.57</td>\n",
       "      <td>30.63</td>\n",
       "      <td>30.37</td>\n",
       "      <td>0.12</td>\n",
       "      <td>0.35</td>\n",
       "      <td>0.04</td>\n",
       "      <td>0.01</td>\n",
       "      <td>alfalfa</td>\n",
       "      <td>18</td>\n",
       "    </tr>\n",
       "    <tr>\n",
       "      <th>18</th>\n",
       "      <td>119A</td>\n",
       "      <td>39.37638</td>\n",
       "      <td>-112.64129</td>\n",
       "      <td>0.25</td>\n",
       "      <td>0.14</td>\n",
       "      <td>0.10</td>\n",
       "      <td>0.16</td>\n",
       "      <td>24.27</td>\n",
       "      <td>21.40</td>\n",
       "      <td>24.57</td>\n",
       "      <td>22.33</td>\n",
       "      <td>0.41</td>\n",
       "      <td>0.05</td>\n",
       "      <td>0.02</td>\n",
       "      <td>0.06</td>\n",
       "      <td>alfalfa</td>\n",
       "      <td>19</td>\n",
       "    </tr>\n",
       "    <tr>\n",
       "      <th>19</th>\n",
       "      <td>119B</td>\n",
       "      <td>39.37606</td>\n",
       "      <td>-112.64129</td>\n",
       "      <td>0.21</td>\n",
       "      <td>0.15</td>\n",
       "      <td>0.10</td>\n",
       "      <td>0.33</td>\n",
       "      <td>24.43</td>\n",
       "      <td>22.73</td>\n",
       "      <td>24.87</td>\n",
       "      <td>23.40</td>\n",
       "      <td>0.24</td>\n",
       "      <td>0.10</td>\n",
       "      <td>0.00</td>\n",
       "      <td>0.73</td>\n",
       "      <td>alfalfa</td>\n",
       "      <td>20</td>\n",
       "    </tr>\n",
       "  </tbody>\n",
       "</table>\n",
       "</div>"
      ],
      "text/plain": [
       "   FIELD       LAT       LONG  SM0513  SM0529  SM0614  SM0630  T0513  T0529  \\\n",
       "0   101A  39.38476 -112.65024    0.39    0.14    0.10    0.13  24.93  25.80   \n",
       "1   101B  39.38447 -112.65022    0.32    0.15    0.11    0.13  25.20  25.23   \n",
       "2   104A  39.39835 -112.64149    0.50    0.54    0.29    0.08  25.37  24.03   \n",
       "3   104B  39.39805 -112.64149    0.47    0.12    0.26    0.10  23.07  24.30   \n",
       "4   105A  39.41692 -112.62920    0.07    0.24    0.56    0.65  26.10  25.60   \n",
       "5   105B  39.41664 -112.62922    0.07    0.22    0.46    0.52  27.53  26.03   \n",
       "6   107A  39.42558 -112.65076    0.44    0.36    0.12    0.23  29.10  25.10   \n",
       "7   107B  39.42521 -112.65077    0.54    0.15    0.12    0.18  28.83  25.90   \n",
       "8   108A  39.43149 -112.62613    0.09    0.36    0.09    0.10  27.67  26.10   \n",
       "9   108B  39.43152 -112.62648    0.07    0.42    0.08    0.08  27.00  25.33   \n",
       "10  110A  39.36116 -112.63804    0.10    0.35    0.13    0.44  23.80  16.83   \n",
       "11  110B  39.36113 -112.63842    0.13    0.43    0.12    0.47  24.53  16.57   \n",
       "12  111A  39.37198 -112.64099    0.26    0.15    0.50    0.13  25.23  25.07   \n",
       "13  111B  39.37169 -112.64102    0.26    0.15    0.54    0.14  24.93  25.23   \n",
       "14  113A  39.43207 -112.62260    0.07    0.14    0.06    0.17  27.10  24.93   \n",
       "15  113B  39.43212 -112.62296    0.10    0.17    0.06    0.17  26.93  24.80   \n",
       "16  117A  39.43937 -112.61599    0.27    0.37    0.13    0.11  27.03  26.93   \n",
       "17  117B  39.43936 -112.61637    0.19    0.27    0.08    0.08  26.90  25.57   \n",
       "18  119A  39.37638 -112.64129    0.25    0.14    0.10    0.16  24.27  21.40   \n",
       "19  119B  39.37606 -112.64129    0.21    0.15    0.10    0.33  24.43  22.73   \n",
       "\n",
       "    T0614  T0630  SA0513  SA0529  SA0614  SA0630     CROP  sampling point  \n",
       "0   23.77  28.97    0.60    0.09    0.00    0.05  alfalfa               1  \n",
       "1   24.90  29.10    0.59    0.07    0.02    0.05  alfalfa               2  \n",
       "2   25.87  28.50    1.01    0.36    0.40    0.01    grain               3  \n",
       "3   25.90  30.17    0.95    0.04    0.38    0.00    grain               4  \n",
       "4   28.20  29.27    0.00    0.50    2.23    3.73     corn               5  \n",
       "5   26.00  25.87    0.00    0.22    1.17    1.35     corn               6  \n",
       "6   26.83  28.20    0.77    0.77    0.32    0.33     corn               7  \n",
       "7   27.97  29.30    0.87    0.12    0.02    0.13    grain               8  \n",
       "8   26.40  29.60    0.00    0.63    0.02    0.00    grain               9  \n",
       "9   27.07  30.73    0.03    0.81    0.01    0.00    grain              10  \n",
       "10  22.80  21.20    0.03    0.59    0.05    0.86     corn              11  \n",
       "11  21.43  21.27    0.06    0.93    0.03    0.91  alfalfa              12  \n",
       "12  24.67  26.90    0.43    0.06    0.94    0.04  alfalfa              13  \n",
       "13  23.00  27.07    0.45    0.03    1.37    0.07  alfalfa              14  \n",
       "14  28.13  31.33    0.13    0.06    0.03    0.10  alfalfa              15  \n",
       "15  29.27  30.70    0.11    0.08    0.03    0.13  alfalfa              16  \n",
       "16  30.50  29.70    0.33    0.52    0.07    0.02  alfalfa              17  \n",
       "17  30.63  30.37    0.12    0.35    0.04    0.01  alfalfa              18  \n",
       "18  24.57  22.33    0.41    0.05    0.02    0.06  alfalfa              19  \n",
       "19  24.87  23.40    0.24    0.10    0.00    0.73  alfalfa              20  "
      ]
     },
     "execution_count": 1,
     "metadata": {},
     "output_type": "execute_result"
    }
   ],
   "source": [
    "# Load the Pandas libraries with alias 'pd' \n",
    "import pandas as pd \n",
    "# Read data from file 'filename.csv' \n",
    "# (in the same directory that your python process is based)\n",
    "data = pd.read_csv(\".//Ground_Information//Prj_Delta_2012_SoilMoisture_topsoil.csv\") \n",
    "# Preview the the loaded data \n",
    "data"
   ]
  },
  {
   "cell_type": "markdown",
   "metadata": {},
   "source": [
    "The explanation for the column names are as follow:\n",
    "\n",
    "- FIELD\t: custom name for the farm\n",
    "- LAT\tLONG\t: GPS coordinates\n",
    "- SM0513\tSM0529\tSM0614\tSM0630\t: soil moisture values in May 13, May 29, Jun 14, June 30.\n",
    "- T0513\tT0529\tT0614\tT0630\t: soil temperature in May 13, May 29, Jun 14, June 30.\n",
    "- SA0513\tSA0529\tSA0614\tSA0630\t: soil electrical conductivity in May 13, May 29, Jun 14, June 30.\n",
    "- CROP\t: vegetation present in the farm\n",
    "- sampling point:  custom sequential numeration."
   ]
  },
  {
   "cell_type": "markdown",
   "metadata": {},
   "source": [
    "# Let's display the Soil Moisture locations in a map"
   ]
  },
  {
   "cell_type": "code",
   "execution_count": 2,
   "metadata": {},
   "outputs": [
    {
     "data": {
      "application/vnd.jupyter.widget-view+json": {
       "model_id": "6757665b91304d71b96139344833f3b6",
       "version_major": 2,
       "version_minor": 0
      },
      "text/plain": [
       "Map(center=[20, 0], controls=(WidgetControl(options=['position', 'transparent_bg'], widget=HBox(children=(Togg…"
      ]
     },
     "metadata": {},
     "output_type": "display_data"
    }
   ],
   "source": [
    "#Creating a web based MAP\n",
    "import geemap\n",
    "Map = geemap.Map() \n",
    "# Map.add_basemap( \"Esri Satellite\")\n",
    "Map\n",
    "\n",
    "# to learn how to change basemaps, run the command below in a new cell\n",
    "# geemap.show_youtube('6J5ZCIUPXfI')\n"
   ]
  },
  {
   "cell_type": "code",
   "execution_count": 3,
   "metadata": {},
   "outputs": [
    {
     "data": {
      "application/vnd.jupyter.widget-view+json": {
       "model_id": "85764c922424419399bf23907ba95a08",
       "version_major": 2,
       "version_minor": 0
      },
      "text/plain": [
       "Map(center=[39.4037160204789, -112.63575111241983], controls=(WidgetControl(options=['position', 'transparent_…"
      ]
     },
     "metadata": {},
     "output_type": "display_data"
    }
   ],
   "source": [
    "# plotting the points on the map.\n",
    "in_csv = \".//Ground_Information//Prj_Delta_2012_SoilMoisture_topsoil.csv\"\n",
    "\n",
    "import pandas\n",
    "import geopandas\n",
    "\n",
    "# from io import StringIO\n",
    "\n",
    "# gdf = geopandas.GeoDataFrame(pandas.read_csv(in_csv))\n",
    "# gdf.set_geometry(\n",
    "#     geopandas.points_from_xy(gdf['LONG'], gdf['LAT']),\n",
    "#     inplace=True, crs='EPSG:4326') #EPSG:4326 is WGS84\n",
    "# gdf.drop(['LAT', 'LONG'], axis=1, inplace=True)  # optional\n",
    "\n",
    "\n",
    "# points = geemap.xy_to_points(in_csv, latitude='LAT', longitude='LONG')\n",
    "in_shp = './/Results Step 1//soil_moisture.shp'\n",
    "\n",
    "sm_locations = geemap.shp_to_ee(in_shp)\n",
    "\n",
    "Map1 = geemap.Map() \n",
    "Map1.addLayer(sm_locations, {'color': 'red'}, 'Soil Moisture')\n",
    "\n",
    "Map1.centerObject(sm_locations, 12)\n",
    "\n",
    "Map1"
   ]
  },
  {
   "cell_type": "markdown",
   "metadata": {},
   "source": [
    "You can use the zoom option to see in detail the soil moisture locations (for every location, currently are two locations)."
   ]
  },
  {
   "cell_type": "markdown",
   "metadata": {},
   "source": [
    "### Adquire Remote Sensing Data \n",
    "\n",
    "For the dates we have soil moisture data available, we know that Landsat 7 was passing over. So, to retrive satellite information, we need the following information:\n",
    "\n",
    "- Remote Sensing data : Landsat 7\n",
    "- Dates: '2012-05-13', '2012-05-29', '2012-06-14', '2012-06-30' (DOYs 136, 152, 168, 184)\n",
    "- Location: Delta, UT (39.375103,-112.633001) \n",
    "- Area of interest: [-112.810777, 39.495071, -112.503826,  39.230045] #two corners.\n",
    "\n",
    "We do not want to process the entire Landsat, but a section. In the text above, we defined two corners of a reactangular area that emcompases the agricutural land of Delta, UT. \n",
    "\n",
    "Let's include the area in the map."
   ]
  },
  {
   "cell_type": "code",
   "execution_count": 4,
   "metadata": {},
   "outputs": [
    {
     "data": {
      "application/vnd.jupyter.widget-view+json": {
       "model_id": "cdcc026036834329a41159dfa217184d",
       "version_major": 2,
       "version_minor": 0
      },
      "text/plain": [
       "Map(center=[39.399978753927925, -112.63224349999895], controls=(WidgetControl(options=['position', 'transparen…"
      ]
     },
     "metadata": {},
     "output_type": "display_data"
    }
   ],
   "source": [
    "import ee\n",
    "\n",
    "Delta_area = ee.Geometry.Rectangle([-112.658355,39.442565,-112.606132,39.357404])\n",
    "Map2 = geemap.Map() \n",
    "Map2.addLayer(Delta_area, {}, name='Delta_area')\n",
    "Map2.centerObject(Delta_area, 11)\n",
    "\n",
    "Map2"
   ]
  },
  {
   "cell_type": "markdown",
   "metadata": {},
   "source": [
    "Let's display the Landsat images corrresponing to the dates. See details of landsat 7 metadata [here](https://developers.google.com/earth-engine/datasets/catalog/LANDSAT_LE07_C01_T1_SR#bands\n",
    ") "
   ]
  },
  {
   "cell_type": "code",
   "execution_count": 5,
   "metadata": {},
   "outputs": [],
   "source": [
    "# identifying landsat 7 image on the dates of interest\n",
    "\n",
    "import eemont\n",
    "\n",
    "landsat7 = ee.ImageCollection(\"LANDSAT/LE07/C02/T1_L2\").filterBounds(Delta_area) # Landsat 7 archive.\n",
    "landsat7 = landsat7.preprocess()"
   ]
  },
  {
   "cell_type": "markdown",
   "metadata": {},
   "source": [
    "A satellite image consists of \"bands\", images that capture specific waveleghts of light. Landsat 7 captures 7 bands called:\n",
    "\n",
    "B1 = blue\n",
    "B2 = green\n",
    "B3 = red\n",
    "B4 = infrared\n",
    "B5 = shortwave 1\n",
    "B6 = thermal\n",
    "B7 = shortwave 2\n",
    "\n",
    "by combining the bands in different ways (e.g. B3, B2, B1) re replicate what our eyes can see. and other combinations (B4, B3, B2) allows us to see certain surfaces, e,g. vegetation."
   ]
  },
  {
   "cell_type": "markdown",
   "metadata": {},
   "source": [
    "The bands are useful for visual assessment, but the best information is extracted from the bands using vegetation indices. See this link for a summarized explanantion of vegetation indices.https://eemont.readthedocs.io/en/0.1.7/guide/spectralIndices.html"
   ]
  },
  {
   "cell_type": "markdown",
   "metadata": {},
   "source": [
    "Let's calculate vegetation indices for all Landsat images"
   ]
  },
  {
   "cell_type": "code",
   "execution_count": 6,
   "metadata": {},
   "outputs": [
    {
     "name": "stderr",
     "output_type": "stream",
     "text": [
      "/opt/conda/lib/python3.9/site-packages/ee_extra/Spectral/core.py:171: UserWarning: This platform doesn't have the required bands for ARI computation!\n",
      "  warnings.warn(\n",
      "/opt/conda/lib/python3.9/site-packages/ee_extra/Spectral/core.py:171: UserWarning: This platform doesn't have the required bands for ARI computation!\n",
      "  warnings.warn(\n",
      "/opt/conda/lib/python3.9/site-packages/ee_extra/Spectral/core.py:171: UserWarning: This platform doesn't have the required bands for ARI computation!\n",
      "  warnings.warn(\n",
      "/opt/conda/lib/python3.9/site-packages/ee_extra/Spectral/core.py:171: UserWarning: This platform doesn't have the required bands for ARI2 computation!\n",
      "  warnings.warn(\n",
      "/opt/conda/lib/python3.9/site-packages/ee_extra/Spectral/core.py:171: UserWarning: This platform doesn't have the required bands for ARI2 computation!\n",
      "  warnings.warn(\n",
      "/opt/conda/lib/python3.9/site-packages/ee_extra/Spectral/core.py:171: UserWarning: This platform doesn't have the required bands for ARI2 computation!\n",
      "  warnings.warn(\n",
      "/opt/conda/lib/python3.9/site-packages/ee_extra/Spectral/core.py:171: UserWarning: This platform doesn't have the required bands for CIRE computation!\n",
      "  warnings.warn(\n",
      "/opt/conda/lib/python3.9/site-packages/ee_extra/Spectral/core.py:171: UserWarning: This platform doesn't have the required bands for CIRE computation!\n",
      "  warnings.warn(\n",
      "/opt/conda/lib/python3.9/site-packages/ee_extra/Spectral/core.py:171: UserWarning: This platform doesn't have the required bands for CIRE computation!\n",
      "  warnings.warn(\n",
      "/opt/conda/lib/python3.9/site-packages/ee_extra/Spectral/core.py:171: UserWarning: This platform doesn't have the required bands for GM1 computation!\n",
      "  warnings.warn(\n",
      "/opt/conda/lib/python3.9/site-packages/ee_extra/Spectral/core.py:171: UserWarning: This platform doesn't have the required bands for GM1 computation!\n",
      "  warnings.warn(\n",
      "/opt/conda/lib/python3.9/site-packages/ee_extra/Spectral/core.py:171: UserWarning: This platform doesn't have the required bands for GM1 computation!\n",
      "  warnings.warn(\n",
      "/opt/conda/lib/python3.9/site-packages/ee_extra/Spectral/core.py:171: UserWarning: This platform doesn't have the required bands for GM2 computation!\n",
      "  warnings.warn(\n",
      "/opt/conda/lib/python3.9/site-packages/ee_extra/Spectral/core.py:171: UserWarning: This platform doesn't have the required bands for GM2 computation!\n",
      "  warnings.warn(\n",
      "/opt/conda/lib/python3.9/site-packages/ee_extra/Spectral/core.py:171: UserWarning: This platform doesn't have the required bands for GM2 computation!\n",
      "  warnings.warn(\n",
      "/opt/conda/lib/python3.9/site-packages/ee_extra/Spectral/core.py:171: UserWarning: This platform doesn't have the required bands for IRECI computation!\n",
      "  warnings.warn(\n",
      "/opt/conda/lib/python3.9/site-packages/ee_extra/Spectral/core.py:171: UserWarning: This platform doesn't have the required bands for IRECI computation!\n",
      "  warnings.warn(\n",
      "/opt/conda/lib/python3.9/site-packages/ee_extra/Spectral/core.py:171: UserWarning: This platform doesn't have the required bands for IRECI computation!\n",
      "  warnings.warn(\n",
      "/opt/conda/lib/python3.9/site-packages/ee_extra/Spectral/core.py:171: UserWarning: This platform doesn't have the required bands for MCARI computation!\n",
      "  warnings.warn(\n",
      "/opt/conda/lib/python3.9/site-packages/ee_extra/Spectral/core.py:171: UserWarning: This platform doesn't have the required bands for MCARI computation!\n",
      "  warnings.warn(\n",
      "/opt/conda/lib/python3.9/site-packages/ee_extra/Spectral/core.py:171: UserWarning: This platform doesn't have the required bands for MCARI computation!\n",
      "  warnings.warn(\n",
      "/opt/conda/lib/python3.9/site-packages/ee_extra/Spectral/core.py:171: UserWarning: This platform doesn't have the required bands for MCARI705 computation!\n",
      "  warnings.warn(\n",
      "/opt/conda/lib/python3.9/site-packages/ee_extra/Spectral/core.py:171: UserWarning: This platform doesn't have the required bands for MCARI705 computation!\n",
      "  warnings.warn(\n",
      "/opt/conda/lib/python3.9/site-packages/ee_extra/Spectral/core.py:171: UserWarning: This platform doesn't have the required bands for MCARI705 computation!\n",
      "  warnings.warn(\n",
      "/opt/conda/lib/python3.9/site-packages/ee_extra/Spectral/core.py:171: UserWarning: This platform doesn't have the required bands for MCARIOSAVI computation!\n",
      "  warnings.warn(\n",
      "/opt/conda/lib/python3.9/site-packages/ee_extra/Spectral/core.py:171: UserWarning: This platform doesn't have the required bands for MCARIOSAVI computation!\n",
      "  warnings.warn(\n",
      "/opt/conda/lib/python3.9/site-packages/ee_extra/Spectral/core.py:171: UserWarning: This platform doesn't have the required bands for MCARIOSAVI computation!\n",
      "  warnings.warn(\n",
      "/opt/conda/lib/python3.9/site-packages/ee_extra/Spectral/core.py:171: UserWarning: This platform doesn't have the required bands for MCARIOSAVI705 computation!\n",
      "  warnings.warn(\n",
      "/opt/conda/lib/python3.9/site-packages/ee_extra/Spectral/core.py:171: UserWarning: This platform doesn't have the required bands for MCARIOSAVI705 computation!\n",
      "  warnings.warn(\n",
      "/opt/conda/lib/python3.9/site-packages/ee_extra/Spectral/core.py:171: UserWarning: This platform doesn't have the required bands for MCARIOSAVI705 computation!\n",
      "  warnings.warn(\n",
      "/opt/conda/lib/python3.9/site-packages/ee_extra/Spectral/core.py:171: UserWarning: This platform doesn't have the required bands for MSR705 computation!\n",
      "  warnings.warn(\n",
      "/opt/conda/lib/python3.9/site-packages/ee_extra/Spectral/core.py:171: UserWarning: This platform doesn't have the required bands for MSR705 computation!\n",
      "  warnings.warn(\n",
      "/opt/conda/lib/python3.9/site-packages/ee_extra/Spectral/core.py:171: UserWarning: This platform doesn't have the required bands for MSR705 computation!\n",
      "  warnings.warn(\n",
      "/opt/conda/lib/python3.9/site-packages/ee_extra/Spectral/core.py:171: UserWarning: This platform doesn't have the required bands for MTCI computation!\n",
      "  warnings.warn(\n",
      "/opt/conda/lib/python3.9/site-packages/ee_extra/Spectral/core.py:171: UserWarning: This platform doesn't have the required bands for MTCI computation!\n",
      "  warnings.warn(\n",
      "/opt/conda/lib/python3.9/site-packages/ee_extra/Spectral/core.py:171: UserWarning: This platform doesn't have the required bands for MTCI computation!\n",
      "  warnings.warn(\n",
      "/opt/conda/lib/python3.9/site-packages/ee_extra/Spectral/core.py:171: UserWarning: This platform doesn't have the required bands for ND705 computation!\n",
      "  warnings.warn(\n",
      "/opt/conda/lib/python3.9/site-packages/ee_extra/Spectral/core.py:171: UserWarning: This platform doesn't have the required bands for ND705 computation!\n",
      "  warnings.warn(\n",
      "/opt/conda/lib/python3.9/site-packages/ee_extra/Spectral/core.py:171: UserWarning: This platform doesn't have the required bands for ND705 computation!\n",
      "  warnings.warn(\n",
      "/opt/conda/lib/python3.9/site-packages/ee_extra/Spectral/core.py:171: UserWarning: This platform doesn't have the required bands for NDREI computation!\n",
      "  warnings.warn(\n",
      "/opt/conda/lib/python3.9/site-packages/ee_extra/Spectral/core.py:171: UserWarning: This platform doesn't have the required bands for NDREI computation!\n",
      "  warnings.warn(\n",
      "/opt/conda/lib/python3.9/site-packages/ee_extra/Spectral/core.py:171: UserWarning: This platform doesn't have the required bands for NDREI computation!\n",
      "  warnings.warn(\n",
      "/opt/conda/lib/python3.9/site-packages/ee_extra/Spectral/core.py:171: UserWarning: This platform doesn't have the required bands for NDVI705 computation!\n",
      "  warnings.warn(\n",
      "/opt/conda/lib/python3.9/site-packages/ee_extra/Spectral/core.py:171: UserWarning: This platform doesn't have the required bands for NDVI705 computation!\n",
      "  warnings.warn(\n",
      "/opt/conda/lib/python3.9/site-packages/ee_extra/Spectral/core.py:171: UserWarning: This platform doesn't have the required bands for NDVI705 computation!\n",
      "  warnings.warn(\n",
      "/opt/conda/lib/python3.9/site-packages/ee_extra/Spectral/core.py:171: UserWarning: This platform doesn't have the required bands for NIRvP computation!\n",
      "  warnings.warn(\n",
      "/opt/conda/lib/python3.9/site-packages/ee_extra/Spectral/core.py:171: UserWarning: This platform doesn't have the required bands for NIRvP computation!\n",
      "  warnings.warn(\n",
      "/opt/conda/lib/python3.9/site-packages/ee_extra/Spectral/core.py:171: UserWarning: This platform doesn't have the required bands for NIRvP computation!\n",
      "  warnings.warn(\n",
      "/opt/conda/lib/python3.9/site-packages/ee_extra/Spectral/core.py:171: UserWarning: This platform doesn't have the required bands for PSRI computation!\n",
      "  warnings.warn(\n",
      "/opt/conda/lib/python3.9/site-packages/ee_extra/Spectral/core.py:171: UserWarning: This platform doesn't have the required bands for PSRI computation!\n",
      "  warnings.warn(\n",
      "/opt/conda/lib/python3.9/site-packages/ee_extra/Spectral/core.py:171: UserWarning: This platform doesn't have the required bands for PSRI computation!\n",
      "  warnings.warn(\n",
      "/opt/conda/lib/python3.9/site-packages/ee_extra/Spectral/core.py:171: UserWarning: This platform doesn't have the required bands for REDSI computation!\n",
      "  warnings.warn(\n",
      "/opt/conda/lib/python3.9/site-packages/ee_extra/Spectral/core.py:171: UserWarning: This platform doesn't have the required bands for REDSI computation!\n",
      "  warnings.warn(\n",
      "/opt/conda/lib/python3.9/site-packages/ee_extra/Spectral/core.py:171: UserWarning: This platform doesn't have the required bands for REDSI computation!\n",
      "  warnings.warn(\n",
      "/opt/conda/lib/python3.9/site-packages/ee_extra/Spectral/core.py:171: UserWarning: This platform doesn't have the required bands for RENDVI computation!\n",
      "  warnings.warn(\n",
      "/opt/conda/lib/python3.9/site-packages/ee_extra/Spectral/core.py:171: UserWarning: This platform doesn't have the required bands for RENDVI computation!\n",
      "  warnings.warn(\n",
      "/opt/conda/lib/python3.9/site-packages/ee_extra/Spectral/core.py:171: UserWarning: This platform doesn't have the required bands for RENDVI computation!\n",
      "  warnings.warn(\n",
      "/opt/conda/lib/python3.9/site-packages/ee_extra/Spectral/core.py:171: UserWarning: This platform doesn't have the required bands for RVI computation!\n",
      "  warnings.warn(\n",
      "/opt/conda/lib/python3.9/site-packages/ee_extra/Spectral/core.py:171: UserWarning: This platform doesn't have the required bands for RVI computation!\n",
      "  warnings.warn(\n",
      "/opt/conda/lib/python3.9/site-packages/ee_extra/Spectral/core.py:171: UserWarning: This platform doesn't have the required bands for RVI computation!\n",
      "  warnings.warn(\n",
      "/opt/conda/lib/python3.9/site-packages/ee_extra/Spectral/core.py:171: UserWarning: This platform doesn't have the required bands for S2REP computation!\n",
      "  warnings.warn(\n",
      "/opt/conda/lib/python3.9/site-packages/ee_extra/Spectral/core.py:171: UserWarning: This platform doesn't have the required bands for S2REP computation!\n",
      "  warnings.warn(\n",
      "/opt/conda/lib/python3.9/site-packages/ee_extra/Spectral/core.py:171: UserWarning: This platform doesn't have the required bands for S2REP computation!\n",
      "  warnings.warn(\n",
      "/opt/conda/lib/python3.9/site-packages/ee_extra/Spectral/core.py:171: UserWarning: This platform doesn't have the required bands for SIPI computation!\n",
      "  warnings.warn(\n",
      "/opt/conda/lib/python3.9/site-packages/ee_extra/Spectral/core.py:171: UserWarning: This platform doesn't have the required bands for SIPI computation!\n",
      "  warnings.warn(\n",
      "/opt/conda/lib/python3.9/site-packages/ee_extra/Spectral/core.py:171: UserWarning: This platform doesn't have the required bands for SIPI computation!\n",
      "  warnings.warn(\n",
      "/opt/conda/lib/python3.9/site-packages/ee_extra/Spectral/core.py:171: UserWarning: This platform doesn't have the required bands for SR3 computation!\n",
      "  warnings.warn(\n",
      "/opt/conda/lib/python3.9/site-packages/ee_extra/Spectral/core.py:171: UserWarning: This platform doesn't have the required bands for SR3 computation!\n",
      "  warnings.warn(\n",
      "/opt/conda/lib/python3.9/site-packages/ee_extra/Spectral/core.py:171: UserWarning: This platform doesn't have the required bands for SR3 computation!\n",
      "  warnings.warn(\n",
      "/opt/conda/lib/python3.9/site-packages/ee_extra/Spectral/core.py:171: UserWarning: This platform doesn't have the required bands for SR555 computation!\n",
      "  warnings.warn(\n",
      "/opt/conda/lib/python3.9/site-packages/ee_extra/Spectral/core.py:171: UserWarning: This platform doesn't have the required bands for SR555 computation!\n",
      "  warnings.warn(\n",
      "/opt/conda/lib/python3.9/site-packages/ee_extra/Spectral/core.py:171: UserWarning: This platform doesn't have the required bands for SR555 computation!\n",
      "  warnings.warn(\n",
      "/opt/conda/lib/python3.9/site-packages/ee_extra/Spectral/core.py:171: UserWarning: This platform doesn't have the required bands for SR705 computation!\n",
      "  warnings.warn(\n",
      "/opt/conda/lib/python3.9/site-packages/ee_extra/Spectral/core.py:171: UserWarning: This platform doesn't have the required bands for SR705 computation!\n",
      "  warnings.warn(\n",
      "/opt/conda/lib/python3.9/site-packages/ee_extra/Spectral/core.py:171: UserWarning: This platform doesn't have the required bands for SR705 computation!\n",
      "  warnings.warn(\n",
      "/opt/conda/lib/python3.9/site-packages/ee_extra/Spectral/core.py:171: UserWarning: This platform doesn't have the required bands for SeLI computation!\n",
      "  warnings.warn(\n",
      "/opt/conda/lib/python3.9/site-packages/ee_extra/Spectral/core.py:171: UserWarning: This platform doesn't have the required bands for SeLI computation!\n",
      "  warnings.warn(\n",
      "/opt/conda/lib/python3.9/site-packages/ee_extra/Spectral/core.py:171: UserWarning: This platform doesn't have the required bands for SeLI computation!\n",
      "  warnings.warn(\n",
      "/opt/conda/lib/python3.9/site-packages/ee_extra/Spectral/core.py:171: UserWarning: This platform doesn't have the required bands for TCARI computation!\n",
      "  warnings.warn(\n",
      "/opt/conda/lib/python3.9/site-packages/ee_extra/Spectral/core.py:171: UserWarning: This platform doesn't have the required bands for TCARI computation!\n",
      "  warnings.warn(\n",
      "/opt/conda/lib/python3.9/site-packages/ee_extra/Spectral/core.py:171: UserWarning: This platform doesn't have the required bands for TCARI computation!\n",
      "  warnings.warn(\n",
      "/opt/conda/lib/python3.9/site-packages/ee_extra/Spectral/core.py:171: UserWarning: This platform doesn't have the required bands for TCARIOSAVI computation!\n",
      "  warnings.warn(\n",
      "/opt/conda/lib/python3.9/site-packages/ee_extra/Spectral/core.py:171: UserWarning: This platform doesn't have the required bands for TCARIOSAVI computation!\n",
      "  warnings.warn(\n",
      "/opt/conda/lib/python3.9/site-packages/ee_extra/Spectral/core.py:171: UserWarning: This platform doesn't have the required bands for TCARIOSAVI computation!\n",
      "  warnings.warn(\n",
      "/opt/conda/lib/python3.9/site-packages/ee_extra/Spectral/core.py:171: UserWarning: This platform doesn't have the required bands for TCARIOSAVI705 computation!\n",
      "  warnings.warn(\n",
      "/opt/conda/lib/python3.9/site-packages/ee_extra/Spectral/core.py:171: UserWarning: This platform doesn't have the required bands for TCARIOSAVI705 computation!\n",
      "  warnings.warn(\n",
      "/opt/conda/lib/python3.9/site-packages/ee_extra/Spectral/core.py:171: UserWarning: This platform doesn't have the required bands for TCARIOSAVI705 computation!\n",
      "  warnings.warn(\n",
      "/opt/conda/lib/python3.9/site-packages/ee_extra/Spectral/core.py:171: UserWarning: This platform doesn't have the required bands for TCI computation!\n",
      "  warnings.warn(\n",
      "/opt/conda/lib/python3.9/site-packages/ee_extra/Spectral/core.py:171: UserWarning: This platform doesn't have the required bands for TCI computation!\n",
      "  warnings.warn(\n",
      "/opt/conda/lib/python3.9/site-packages/ee_extra/Spectral/core.py:171: UserWarning: This platform doesn't have the required bands for TCI computation!\n",
      "  warnings.warn(\n",
      "/opt/conda/lib/python3.9/site-packages/ee_extra/Spectral/core.py:171: UserWarning: This platform doesn't have the required bands for TRRVI computation!\n",
      "  warnings.warn(\n",
      "/opt/conda/lib/python3.9/site-packages/ee_extra/Spectral/core.py:171: UserWarning: This platform doesn't have the required bands for TRRVI computation!\n",
      "  warnings.warn(\n",
      "/opt/conda/lib/python3.9/site-packages/ee_extra/Spectral/core.py:171: UserWarning: This platform doesn't have the required bands for TRRVI computation!\n",
      "  warnings.warn(\n",
      "/opt/conda/lib/python3.9/site-packages/ee_extra/Spectral/core.py:171: UserWarning: This platform doesn't have the required bands for TTVI computation!\n",
      "  warnings.warn(\n",
      "/opt/conda/lib/python3.9/site-packages/ee_extra/Spectral/core.py:171: UserWarning: This platform doesn't have the required bands for TTVI computation!\n",
      "  warnings.warn(\n",
      "/opt/conda/lib/python3.9/site-packages/ee_extra/Spectral/core.py:171: UserWarning: This platform doesn't have the required bands for TTVI computation!\n",
      "  warnings.warn(\n",
      "/opt/conda/lib/python3.9/site-packages/ee_extra/Spectral/core.py:171: UserWarning: This platform doesn't have the required bands for VARI700 computation!\n",
      "  warnings.warn(\n",
      "/opt/conda/lib/python3.9/site-packages/ee_extra/Spectral/core.py:171: UserWarning: This platform doesn't have the required bands for VARI700 computation!\n",
      "  warnings.warn(\n",
      "/opt/conda/lib/python3.9/site-packages/ee_extra/Spectral/core.py:171: UserWarning: This platform doesn't have the required bands for VARI700 computation!\n",
      "  warnings.warn(\n",
      "/opt/conda/lib/python3.9/site-packages/ee_extra/Spectral/core.py:171: UserWarning: This platform doesn't have the required bands for VI700 computation!\n",
      "  warnings.warn(\n",
      "/opt/conda/lib/python3.9/site-packages/ee_extra/Spectral/core.py:171: UserWarning: This platform doesn't have the required bands for VI700 computation!\n",
      "  warnings.warn(\n",
      "/opt/conda/lib/python3.9/site-packages/ee_extra/Spectral/core.py:171: UserWarning: This platform doesn't have the required bands for VI700 computation!\n",
      "  warnings.warn(\n",
      "/opt/conda/lib/python3.9/site-packages/ee_extra/Spectral/core.py:171: UserWarning: This platform doesn't have the required bands for mND705 computation!\n",
      "  warnings.warn(\n",
      "/opt/conda/lib/python3.9/site-packages/ee_extra/Spectral/core.py:171: UserWarning: This platform doesn't have the required bands for mND705 computation!\n",
      "  warnings.warn(\n",
      "/opt/conda/lib/python3.9/site-packages/ee_extra/Spectral/core.py:171: UserWarning: This platform doesn't have the required bands for mND705 computation!\n",
      "  warnings.warn(\n",
      "/opt/conda/lib/python3.9/site-packages/ee_extra/Spectral/core.py:171: UserWarning: This platform doesn't have the required bands for mSR705 computation!\n",
      "  warnings.warn(\n",
      "/opt/conda/lib/python3.9/site-packages/ee_extra/Spectral/core.py:171: UserWarning: This platform doesn't have the required bands for mSR705 computation!\n",
      "  warnings.warn(\n",
      "/opt/conda/lib/python3.9/site-packages/ee_extra/Spectral/core.py:171: UserWarning: This platform doesn't have the required bands for mSR705 computation!\n",
      "  warnings.warn(\n"
     ]
    }
   ],
   "source": [
    "landsat7 = landsat7.spectralIndices('vegetation')\n"
   ]
  },
  {
   "cell_type": "code",
   "execution_count": 7,
   "metadata": {},
   "outputs": [],
   "source": [
    "# code for the first Landsat date\n",
    "landsat7_may_13 = ee.Image(landsat7. #the dataset\n",
    "                    filterDate('2012-05-12','2012-05-14'). # the date before and after\n",
    "                    first()) # the first image from the aplication of the two previous filters\n",
    "# code for the other three landsat dates\n",
    "landsat7_may_29 = ee.Image(landsat7.filterDate('2012-05-28','2012-05-30').first()) # all commands in one line.\n",
    "landsat7_jun_14 = ee.Image(landsat7.filterDate('2012-06-13','2012-06-15').first()) # all commands in one line.\n",
    "landsat7_jun_30 = ee.Image(landsat7.filterDate('2012-06-29','2012-07-01').first()) # all commands in one line."
   ]
  },
  {
   "cell_type": "code",
   "execution_count": 8,
   "metadata": {},
   "outputs": [
    {
     "data": {
      "application/vnd.jupyter.widget-view+json": {
       "model_id": "e3486b6f8bd0465f88a361caaf140146",
       "version_major": 2,
       "version_minor": 0
      },
      "text/plain": [
       "Map(center=[38.90616239179155, -112.38476873624566], controls=(WidgetControl(options=['position', 'transparent…"
      ]
     },
     "metadata": {},
     "output_type": "display_data"
    }
   ],
   "source": [
    "#sending images to the map. Check the individual images clicking in the layer icon.\n",
    "Map3 = geemap.Map() \n",
    "Map3.addLayer(landsat7_may_13, {'bands': ['SR_B3', 'SR_B2', 'SR_B1'], 'min': 0, 'max': 0.3}, 'landsat7_may_13')\n",
    "Map3.addLayer(landsat7_may_29, {'bands': ['SR_B3', 'SR_B2', 'SR_B1'], 'min': 0, 'max': 0.3}, 'landsat7_may_29')\n",
    "Map3.addLayer(landsat7_jun_14, {'bands': ['SR_B3', 'SR_B2', 'SR_B1'], 'min': 0, 'max': 0.3}, 'landsat7_jun_14')\n",
    "Map3.addLayer(landsat7_jun_30, {'bands': ['SR_B3', 'SR_B2', 'SR_B1'], 'min': 0, 'max': 0.3}, 'landsat7_jun_30')\n",
    "\n",
    "Map3.centerObject(landsat7_jun_30, 8)\n",
    "\n",
    "\n",
    "Map3"
   ]
  },
  {
   "cell_type": "markdown",
   "metadata": {},
   "source": [
    "We can clearly see that each Landsat image shows different conditions in vegetation. This is good. We want our model to be able to describe a range of vegetation and soil conditions."
   ]
  },
  {
   "cell_type": "markdown",
   "metadata": {},
   "source": [
    "### Getting only the area of interest from Landsat images\n",
    "\n",
    "We are not interested in the entire Landsat 7 image, but on Delta's agricultural lands. So we will clip the Landsat images using the Delta_area polygon."
   ]
  },
  {
   "cell_type": "markdown",
   "metadata": {},
   "source": [
    "To know more about Landsat bands, check the pdf *SelectingAppropriateBandCombinations_Final.pdf* included in this repository."
   ]
  },
  {
   "cell_type": "markdown",
   "metadata": {},
   "source": [
    "Now let's get images for the dates, selecting only the bands of interest and clipping image to the AOI region. Let's verify the images are adequately clipped in the map."
   ]
  },
  {
   "cell_type": "code",
   "execution_count": 9,
   "metadata": {
    "jupyter": {
     "source_hidden": true
    },
    "tags": []
   },
   "outputs": [
    {
     "data": {
      "application/vnd.jupyter.widget-view+json": {
       "model_id": "05cf331fd4824d59a6fb64aec1fd17e0",
       "version_major": 2,
       "version_minor": 0
      },
      "text/plain": [
       "Map(center=[39.399978753927925, -112.63224349999895], controls=(WidgetControl(options=['position', 'transparen…"
      ]
     },
     "metadata": {},
     "output_type": "display_data"
    }
   ],
   "source": [
    "landsat7_may_13 = landsat7_may_13.clip(Delta_area)\n",
    "landsat7_may_29 = landsat7_may_29.clip(Delta_area)\n",
    "landsat7_jun_14 = landsat7_jun_14.clip(Delta_area)\n",
    "landsat7_jun_30 = landsat7_jun_30.clip(Delta_area)\n",
    "\n",
    "#sending images to the map\n",
    "Map4 = geemap.Map() \n",
    "\n",
    "Map4.addLayer(landsat7_may_13, {'bands': ['SR_B4', 'SR_B3', 'SR_B2'], 'min': 0, 'max': 0.3}, 'landsat7_may_13_clipped')\n",
    "Map4.addLayer(landsat7_may_29, {'bands': ['SR_B4', 'SR_B3', 'SR_B2'], 'min': 0, 'max': 0.3}, 'landsat7_may_29_clipped')\n",
    "Map4.addLayer(landsat7_jun_14, {'bands': ['SR_B4', 'SR_B3', 'SR_B2'], 'min': 0, 'max': 0.3}, 'landsat7_jun_14_clipped')\n",
    "Map4.addLayer(landsat7_jun_30, {'bands': ['SR_B4', 'SR_B3', 'SR_B2'], 'min': 0, 'max': 0.3}, 'landsat7_jun_30_clipped')\n",
    "\n",
    "Map4.centerObject(landsat7_jun_30, 11)\n",
    "\n",
    "Map4"
   ]
  },
  {
   "cell_type": "markdown",
   "metadata": {},
   "source": [
    "We changed the order of the bands when displaying the clipped images. Do not worry the satellite information is still the same. Note: this change in bands is called \"false color\".\n",
    "\n",
    "### Exporting images to HydroShare JupyterHUB environment"
   ]
  },
  {
   "cell_type": "markdown",
   "metadata": {},
   "source": [
    "While we can use existing machine learning implementation in Google Earth Engine, we will use a local machine learning implementation from a Github repostory. So, we need to bring the clipped Landsat images into the local environment.\n",
    "\n",
    "We will store the clipped images in the folder \"Results Step 1\""
   ]
  },
  {
   "cell_type": "code",
   "execution_count": 10,
   "metadata": {},
   "outputs": [
    {
     "data": {
      "text/plain": [
       "'/home/jovyan/data/projects/Machine-Learning-Applications-in-Remote-Sensing-Data/Results Step 1/'"
      ]
     },
     "execution_count": 10,
     "metadata": {},
     "output_type": "execute_result"
    }
   ],
   "source": [
    "import os\n",
    "# defining directory for storing results\n",
    "out_dir = os.path.join(os.path.expanduser('~'), 'projects/Machine-Learning-Applications-in-Remote-Sensing-Data/Results Step 1/')\n",
    "out_dir"
   ]
  },
  {
   "cell_type": "code",
   "execution_count": 11,
   "metadata": {},
   "outputs": [
    {
     "name": "stdout",
     "output_type": "stream",
     "text": [
      "Generating URL ...\n",
      "Downloading data from https://earthengine.googleapis.com/v1alpha/projects/earthengine-legacy/thumbnails/9255b455e409bb54258b8524b19ae23b-15ef974cb5a462201a88f890382c28a8:getPixels\n",
      "Please wait ...\n",
      "Data downloaded to /home/jovyan/data/projects/Machine-Learning-Applications-in-Remote-Sensing-Data/Results Step 1/landsat7_may_13_clipped.tif\n",
      "Generating URL ...\n",
      "Downloading data from https://earthengine.googleapis.com/v1alpha/projects/earthengine-legacy/thumbnails/ce4de98af9c9d2a3a6642b2a4e95a355-f48932e84be68a43b8d2fa28d088bfd1:getPixels\n",
      "Please wait ...\n",
      "Data downloaded to /home/jovyan/data/projects/Machine-Learning-Applications-in-Remote-Sensing-Data/Results Step 1/landsat7_may_29_clipped.tif\n",
      "Generating URL ...\n",
      "Downloading data from https://earthengine.googleapis.com/v1alpha/projects/earthengine-legacy/thumbnails/d608d3203b02e54188c0088003c5e30d-2d8da4885e6472ce91c7c039cad61fda:getPixels\n",
      "Please wait ...\n",
      "Data downloaded to /home/jovyan/data/projects/Machine-Learning-Applications-in-Remote-Sensing-Data/Results Step 1/landsat7_jun_14_clipped.tif\n",
      "Generating URL ...\n",
      "Downloading data from https://earthengine.googleapis.com/v1alpha/projects/earthengine-legacy/thumbnails/21ae6394b803c103966b538e20f4085a-da713f8a1e4ec3b7f7529a871f7a727f:getPixels\n",
      "Please wait ...\n",
      "Data downloaded to /home/jovyan/data/projects/Machine-Learning-Applications-in-Remote-Sensing-Data/Results Step 1/landsat7_jun_30_clipped.tif\n"
     ]
    }
   ],
   "source": [
    "filename=os.path.join(out_dir,'landsat7_may_13'+'_clipped.tif')\n",
    "geemap.ee_export_image(landsat7_may_13, filename=filename, scale=30, region=Delta_area, file_per_band=False)\n",
    "\n",
    "filename=os.path.join(out_dir,'landsat7_may_29'+'_clipped.tif')\n",
    "geemap.ee_export_image(landsat7_may_29, filename=filename, scale=30, region=Delta_area, file_per_band=False)\n",
    "\n",
    "filename=os.path.join(out_dir,'landsat7_jun_14'+'_clipped.tif')\n",
    "geemap.ee_export_image(landsat7_jun_14, filename=filename, scale=30, region=Delta_area, file_per_band=False)\n",
    "\n",
    "filename=os.path.join(out_dir,'landsat7_jun_30'+'_clipped.tif')\n",
    "geemap.ee_export_image(landsat7_jun_30, filename=filename, scale=30, region=Delta_area, file_per_band=False)"
   ]
  },
  {
   "cell_type": "markdown",
   "metadata": {},
   "source": [
    "### Extracting pixel information from Landsat images\n",
    "\n",
    "To train a machine learning, we need to get the pixel information for the soil moisture locations. Since we have the coordinates of the soil moisture locations and the respective Landsat images, we can query each image and extract the pixel information. Let's export the pixel values to HydroShare JupyterHUB environment"
   ]
  },
  {
   "cell_type": "code",
   "execution_count": 12,
   "metadata": {},
   "outputs": [
    {
     "name": "stdout",
     "output_type": "stream",
     "text": [
      "Generating URL ...\n",
      "Downloading data from https://earthengine.googleapis.com/v1alpha/projects/earthengine-legacy/tables/384e1b2c6a23a2b04b88618012839722-a8b509fc610b7c770f93707e9efd3194:getFeatures\n",
      "Please wait ...\n",
      "Data downloaded to /home/jovyan/data/projects/Machine-Learning-Applications-in-Remote-Sensing-Data/Results Step 1/landsat7_may_13_sm_pixels.csv\n",
      "Generating URL ...\n",
      "Downloading data from https://earthengine.googleapis.com/v1alpha/projects/earthengine-legacy/tables/3052aedb996ddb31ac7853db9ac1c6ea-6e1d958a659623e8bc075b85dd4a0b06:getFeatures\n",
      "Please wait ...\n",
      "Data downloaded to /home/jovyan/data/projects/Machine-Learning-Applications-in-Remote-Sensing-Data/Results Step 1/landsat7_may_29_sm_pixels.csv\n",
      "Generating URL ...\n",
      "Downloading data from https://earthengine.googleapis.com/v1alpha/projects/earthengine-legacy/tables/70aec010d93c1a56053a0419e7078fc8-321e5d9a49cbc75cf307294f2952b650:getFeatures\n",
      "Please wait ...\n",
      "Data downloaded to /home/jovyan/data/projects/Machine-Learning-Applications-in-Remote-Sensing-Data/Results Step 1/landsat7_jun_14_sm_pixels.csv\n",
      "Generating URL ...\n",
      "Downloading data from https://earthengine.googleapis.com/v1alpha/projects/earthengine-legacy/tables/f63b79e407322429cba1372bc2c79dc9-430ba6b534586bf591973cf5e78a1036:getFeatures\n",
      "Please wait ...\n",
      "Data downloaded to /home/jovyan/data/projects/Machine-Learning-Applications-in-Remote-Sensing-Data/Results Step 1/landsat7_jun_30_sm_pixels.csv\n"
     ]
    }
   ],
   "source": [
    "filename=os.path.join(out_dir,'landsat7_may_13_sm_pixels.csv')\n",
    "geemap.extract_values_to_points(sm_locations, landsat7_may_13, filename)\n",
    "\n",
    "filename=os.path.join(out_dir,'landsat7_may_29_sm_pixels.csv')\n",
    "geemap.extract_values_to_points(sm_locations, landsat7_may_29, filename)\n",
    "\n",
    "filename=os.path.join(out_dir,'landsat7_jun_14_sm_pixels.csv')\n",
    "geemap.extract_values_to_points(sm_locations, landsat7_jun_14, filename)\n",
    "\n",
    "filename=os.path.join(out_dir,'landsat7_jun_30_sm_pixels.csv')\n",
    "geemap.extract_values_to_points(sm_locations, landsat7_jun_30, filename)"
   ]
  },
  {
   "cell_type": "markdown",
   "metadata": {},
   "source": [
    "Let's move to [Step 2](./DSAW_Application_1_Step_2.ipynb)."
   ]
  },
  {
   "cell_type": "code",
   "execution_count": null,
   "metadata": {},
   "outputs": [],
   "source": []
  },
  {
   "cell_type": "code",
   "execution_count": null,
   "metadata": {},
   "outputs": [],
   "source": []
  }
 ],
 "metadata": {
  "kernelspec": {
   "display_name": "Python 3 (ipykernel)",
   "language": "python",
   "name": "python3"
  },
  "language_info": {
   "codemirror_mode": {
    "name": "ipython",
    "version": 3
   },
   "file_extension": ".py",
   "mimetype": "text/x-python",
   "name": "python",
   "nbconvert_exporter": "python",
   "pygments_lexer": "ipython3",
   "version": "3.9.7"
  },
  "latex_envs": {
   "LaTeX_envs_menu_present": true,
   "autoclose": false,
   "autocomplete": true,
   "bibliofile": "biblio.bib",
   "cite_by": "apalike",
   "current_citInitial": 1,
   "eqLabelWithNumbers": true,
   "eqNumInitial": 1,
   "hotkeys": {
    "equation": "Ctrl-E",
    "itemize": "Ctrl-I"
   },
   "labels_anchors": false,
   "latex_user_defs": false,
   "report_style_numbering": false,
   "user_envs_cfg": false
  },
  "widgets": {
   "application/vnd.jupyter.widget-state+json": {
    "state": {
     "0009c92b56c1492982f1f613942a7d92": {
      "model_module": "@jupyter-widgets/base",
      "model_module_version": "1.2.0",
      "model_name": "LayoutModel",
      "state": {
       "height": "auto",
       "padding": "0px 0px 0px 4px",
       "width": "auto"
      }
     },
     "003f2e4372bc4ac2a849a64760043b13": {
      "model_module": "jupyter-leaflet",
      "model_module_version": "^0.17.0",
      "model_name": "LeafletMarkerClusterModel",
      "state": {
       "_model_module_version": "^0.17.0",
       "_view_module_version": "^0.17.0",
       "disable_clustering_at_zoom": 18,
       "max_cluster_radius": 80,
       "name": "Marker Cluster",
       "options": [
        "disable_clustering_at_zoom",
        "max_cluster_radius"
       ]
      }
     },
     "00630dd1b1954aa492ccf93434f7d1d9": {
      "model_module": "@jupyter-widgets/controls",
      "model_module_version": "1.5.0",
      "model_name": "VBoxModel",
      "state": {
       "children": [
        "IPY_MODEL_de89dcc3e1994f18af18c64e675a7b38",
        "IPY_MODEL_2bfdb5eb73814169a02f5ee8d2b22b61"
       ],
       "layout": "IPY_MODEL_e36c8a12e5054484a60d32635ea84726"
      }
     },
     "009a5220936840c780a1938f5d4209c7": {
      "model_module": "jupyter-leaflet",
      "model_module_version": "^0.17.0",
      "model_name": "LeafletScaleControlModel",
      "state": {
       "_model_module_version": "^0.17.0",
       "_view_module_version": "^0.17.0",
       "imperial": true,
       "max_width": 100,
       "metric": true,
       "options": [
        "imperial",
        "max_width",
        "metric",
        "position",
        "update_when_idle"
       ],
       "position": "bottomleft",
       "update_when_idle": false
      }
     },
     "00c08eff2cf442b28b3e2dbe8c50887d": {
      "model_module": "@jupyter-widgets/base",
      "model_module_version": "1.2.0",
      "model_name": "LayoutModel",
      "state": {
       "height": "auto",
       "padding": "0px 0px 0px 4px",
       "width": "auto"
      }
     },
     "0112d8c6cad341fb95ca5dab9f5bb0db": {
      "model_module": "jupyter-leaflet",
      "model_module_version": "^0.17.0",
      "model_name": "LeafletZoomControlModel",
      "state": {
       "_model_module_version": "^0.17.0",
       "_view_module_version": "^0.17.0",
       "options": [
        "position",
        "zoom_in_text",
        "zoom_in_title",
        "zoom_out_text",
        "zoom_out_title"
       ]
      }
     },
     "0123e23495104671862a5b3f9f774843": {
      "model_module": "@jupyter-widgets/controls",
      "model_module_version": "1.5.0",
      "model_name": "DescriptionStyleModel",
      "state": {
       "description_width": ""
      }
     },
     "014c8380755a4581bb2b39c6f8caed39": {
      "model_module": "@jupyter-widgets/controls",
      "model_module_version": "1.5.0",
      "model_name": "VBoxModel",
      "state": {
       "children": [
        "IPY_MODEL_39558c6eb04e4795bc0c9dde54b8d035",
        "IPY_MODEL_0a621904fd394753918cf0d156bba886",
        "IPY_MODEL_f787297af7674894bb43f667054d8400"
       ],
       "layout": "IPY_MODEL_ed4902410b7c4fe0811a2836aa65d1a5"
      }
     },
     "01d1a2c5050f4febb43faa0f2b683c6e": {
      "model_module": "jupyter-leaflet",
      "model_module_version": "^0.17.0",
      "model_name": "LeafletMapStyleModel",
      "state": {
       "_model_module_version": "^0.17.0",
       "cursor": "move"
      }
     },
     "02af950dd1a240e5a205af36e82b2ed2": {
      "model_module": "@jupyter-widgets/controls",
      "model_module_version": "1.5.0",
      "model_name": "ButtonModel",
      "state": {
       "button_style": "primary",
       "description": "import",
       "layout": "IPY_MODEL_0354e1e0ab1d44c8a04fbcc5f9de8a3b",
       "style": "IPY_MODEL_22ebcbfe7f1148d9ac392c4c401ac9d9",
       "tooltip": "Click to import the selected asset"
      }
     },
     "032acd3ada1a4f5ab83e17449eff9992": {
      "model_module": "@jupyter-widgets/controls",
      "model_module_version": "1.5.0",
      "model_name": "ToggleButtonModel",
      "state": {
       "button_style": "primary",
       "icon": "google",
       "layout": "IPY_MODEL_e6c3101d06654373be47c20d65974dd1",
       "style": "IPY_MODEL_812d9bd88cd84c5584385ffb8ebe33c4",
       "tooltip": "GEE Toolbox for cloud computing"
      }
     },
     "0354e1e0ab1d44c8a04fbcc5f9de8a3b": {
      "model_module": "@jupyter-widgets/base",
      "model_module_version": "1.2.0",
      "model_name": "LayoutModel",
      "state": {
       "max_width": "57px",
       "min_width": "57px"
      }
     },
     "03bc3df8b0c74c3583dedb3327cbd62e": {
      "model_module": "@jupyter-widgets/controls",
      "model_module_version": "1.5.0",
      "model_name": "DescriptionStyleModel",
      "state": {
       "description_width": ""
      }
     },
     "0468a053d78943da9c7e60b6d854f4b2": {
      "model_module": "jupyter-leaflet",
      "model_module_version": "^0.17.0",
      "model_name": "LeafletTileLayerModel",
      "state": {
       "_model_module_version": "^0.17.0",
       "_view_module_version": "^0.17.0",
       "attribution": "Map data: (C) OpenStreetMap contributors | Map style: (C) waymarkedtrails.org (CC-BY-SA)",
       "name": "WaymarkedTrails.skating",
       "options": [
        "attribution",
        "bounds",
        "detect_retina",
        "max_native_zoom",
        "max_zoom",
        "min_native_zoom",
        "min_zoom",
        "no_wrap",
        "tile_size",
        "tms"
       ],
       "url": "https://tile.waymarkedtrails.org/skating/{z}/{x}/{y}.png"
      }
     },
     "0471c9b3ac4d4a5d9c98072383d343c1": {
      "model_module": "@jupyter-widgets/controls",
      "model_module_version": "1.5.0",
      "model_name": "ToggleButtonModel",
      "state": {
       "button_style": "primary",
       "icon": "google",
       "layout": "IPY_MODEL_97006567325949bdb25dd33221953f44",
       "style": "IPY_MODEL_aa1acdcec9414e73854c0e2b9f4bc72a",
       "tooltip": "GEE Toolbox for cloud computing"
      }
     },
     "047d2936d7b043268f8ba5925ee1bfaa": {
      "model_module": "@jupyter-widgets/controls",
      "model_module_version": "1.5.0",
      "model_name": "HBoxModel",
      "state": {
       "children": [
        "IPY_MODEL_1a11554f132b4a46b36323a7af70db96",
        "IPY_MODEL_7a187b36b711423e9a7871927c706460"
       ],
       "layout": "IPY_MODEL_2d2688aeb06b4ba7ad083e6665b089f0"
      }
     },
     "04e39eda08cf4db39f3f62c4725e8232": {
      "model_module": "@jupyter-widgets/controls",
      "model_module_version": "1.5.0",
      "model_name": "DescriptionStyleModel",
      "state": {
       "description_width": ""
      }
     },
     "04f0b05defd14e1c81ac9cb4aa3dd595": {
      "model_module": "@jupyter-widgets/base",
      "model_module_version": "1.2.0",
      "model_name": "LayoutModel",
      "state": {
       "width": "auto"
      }
     },
     "05178f154e5e4869927396b34469d9dd": {
      "model_module": "@jupyter-widgets/base",
      "model_module_version": "1.2.0",
      "model_name": "LayoutModel",
      "state": {
       "height": "auto",
       "padding": "0px 0px 0px 4px",
       "width": "auto"
      }
     },
     "05952112fe6647ca9e165359a7183864": {
      "model_module": "jupyter-leaflet",
      "model_module_version": "^0.17.0",
      "model_name": "LeafletWMSLayerModel",
      "state": {
       "_model_module_version": "^0.17.0",
       "_view_module_version": "^0.17.0",
       "attribution": "MRLC",
       "crs": {
        "custom": false,
        "name": "EPSG3857"
       },
       "format": "image/png",
       "layers": "NLCD_2008_Land_Cover_L48",
       "name": "NLCD 2008 CONUS Land Cover",
       "options": [
        "attribution",
        "bounds",
        "detect_retina",
        "format",
        "layers",
        "max_native_zoom",
        "max_zoom",
        "min_native_zoom",
        "min_zoom",
        "no_wrap",
        "styles",
        "tile_size",
        "tms",
        "transparent",
        "uppercase"
       ],
       "transparent": true,
       "url": "https://www.mrlc.gov/geoserver/mrlc_display/NLCD_2008_Land_Cover_L48/wms?"
      }
     },
     "05b305c1a21348558768a92cb2d5a3d2": {
      "model_module": "@jupyter-widgets/controls",
      "model_module_version": "1.5.0",
      "model_name": "ToggleButtonModel",
      "state": {
       "button_style": "primary",
       "icon": "info",
       "layout": "IPY_MODEL_7dffd87c181947eb97fb3ef79e303afc",
       "style": "IPY_MODEL_c0016aa3753f409288c61cecf593ba53",
       "tooltip": "Inspector"
      }
     },
     "05bb095ff08f47e6af957e9d94bb9130": {
      "model_module": "@jupyter-widgets/controls",
      "model_module_version": "1.5.0",
      "model_name": "DescriptionStyleModel",
      "state": {
       "description_width": ""
      }
     },
     "05c95eca9e7247b284844b0ebe2d1cd3": {
      "model_module": "jupyter-leaflet",
      "model_module_version": "^0.17.0",
      "model_name": "LeafletTileLayerModel",
      "state": {
       "_model_module_version": "^0.17.0",
       "_view_module_version": "^0.17.0",
       "attribution": "Earthstar Geographics",
       "max_zoom": 24,
       "name": "Esri.AntarcticImagery",
       "options": [
        "attribution",
        "bounds",
        "detect_retina",
        "max_native_zoom",
        "max_zoom",
        "min_native_zoom",
        "min_zoom",
        "no_wrap",
        "tile_size",
        "tms"
       ],
       "url": "http://server.arcgisonline.com/ArcGIS/rest/services/Polar/Antarctic_Imagery/MapServer/tile/{z}/{y}/{x}"
      }
     },
     "05cf331fd4824d59a6fb64aec1fd17e0": {
      "model_module": "jupyter-leaflet",
      "model_module_version": "^0.17.0",
      "model_name": "LeafletMapModel",
      "state": {
       "_model_module_version": "^0.17.0",
       "_view_module_version": "^0.17.0",
       "bottom": 199920,
       "center": [
        39.399978753927925,
        -112.63224349999895
       ],
       "controls": [
        "IPY_MODEL_ccfa4ed024f144d1a075c017119e7b05",
        "IPY_MODEL_5dec580785c6401aa3550292c355a91f",
        "IPY_MODEL_12bb3280e8df48b0a8daab9af2598ac4",
        "IPY_MODEL_b40a8d8cee134846bf7a87d71c9c1e62",
        "IPY_MODEL_66c683b377b6448494c8ac9936db1695",
        "IPY_MODEL_fab0a814e4c742eebfcababb267442f8",
        "IPY_MODEL_3e92c54e20024e7584817636eb5c4ac6",
        "IPY_MODEL_f7de358aa1944109979c5e25bc1358b7"
       ],
       "default_style": "IPY_MODEL_5308bfe39f2e45fcb677ab0b9eb3b9f4",
       "dragging_style": "IPY_MODEL_ac0065429ec74de8b037a069a456bd86",
       "east": -112.3070526123047,
       "fullscreen": false,
       "interpolation": "bilinear",
       "layers": [
        "IPY_MODEL_29b7853846084671a98f3a52687c1142",
        "IPY_MODEL_dccd4bb897e648a3882e5ff861596586",
        "IPY_MODEL_d170f216c5e344ebb297581d5b3d47fc",
        "IPY_MODEL_aea230a9c962425185ebce08aa01f959",
        "IPY_MODEL_21a405584d9744849a9d58851761f6e3",
        "IPY_MODEL_290e1fda329c44458597e7ae91801b3d"
       ],
       "layout": "IPY_MODEL_c009efd3783045bbb5b4cfb52b49e5a8",
       "left": 97637,
       "max_zoom": 24,
       "modisdate": "2023-01-20",
       "north": 39.55911824217187,
       "options": [
        "bounce_at_zoom_limits",
        "box_zoom",
        "center",
        "close_popup_on_click",
        "double_click_zoom",
        "dragging",
        "fullscreen",
        "inertia",
        "inertia_deceleration",
        "inertia_max_speed",
        "interpolation",
        "keyboard",
        "keyboard_pan_offset",
        "keyboard_zoom_offset",
        "max_zoom",
        "min_zoom",
        "prefer_canvas",
        "scroll_wheel_zoom",
        "tap",
        "tap_tolerance",
        "touch_zoom",
        "world_copy_jump",
        "zoom",
        "zoom_animation_threshold",
        "zoom_delta",
        "zoom_snap"
       ],
       "prefer_canvas": false,
       "right": 98585,
       "scroll_wheel_zoom": true,
       "south": 39.2407625100131,
       "style": "IPY_MODEL_b981e62383a746399ca93d0c32a2b957",
       "top": 199320,
       "west": -112.95799255371095,
       "window_url": "https://jupyterhub.cuahsi.org/user/torresrua/lab/tree/projects/Machine-Learning-Applications-in-Remote-Sensing-Data/DSAW_Application_1_Step_1.ipynb",
       "zoom": 11
      }
     },
     "06584cb8c36b4a7db0a0ef68afa228d0": {
      "model_module": "@jupyter-widgets/output",
      "model_module_version": "1.0.0",
      "model_name": "OutputModel",
      "state": {
       "layout": "IPY_MODEL_93d12e69626447dcaa0f39650cac5950"
      }
     },
     "068d4cdb41ea4ee98112888bb57c899f": {
      "model_module": "@jupyter-widgets/controls",
      "model_module_version": "1.5.0",
      "model_name": "DescriptionStyleModel",
      "state": {
       "description_width": ""
      }
     },
     "071cd32583224994aaa843c38564880d": {
      "model_module": "@jupyter-widgets/controls",
      "model_module_version": "1.5.0",
      "model_name": "DescriptionStyleModel",
      "state": {
       "description_width": ""
      }
     },
     "072ea0b80e9645f3b6a50d38415bcff9": {
      "model_module": "@jupyter-widgets/controls",
      "model_module_version": "1.5.0",
      "model_name": "DescriptionStyleModel",
      "state": {
       "description_width": ""
      }
     },
     "083d2ad640464937b71d8980115ce8c6": {
      "model_module": "jupyter-leaflet",
      "model_module_version": "^0.17.0",
      "model_name": "LeafletTileLayerModel",
      "state": {
       "_model_module_version": "^0.17.0",
       "_view_module_version": "^0.17.0",
       "attribution": "Map data: (C) OpenStreetMap contributors | Map style: (C) OpenFireMap (CC-BY-SA)",
       "max_zoom": 19,
       "name": "OpenFireMap",
       "options": [
        "attribution",
        "bounds",
        "detect_retina",
        "max_native_zoom",
        "max_zoom",
        "min_native_zoom",
        "min_zoom",
        "no_wrap",
        "tile_size",
        "tms"
       ],
       "url": "http://openfiremap.org/hytiles/{z}/{x}/{y}.png"
      }
     },
     "08879b8be975403e96df851da149a1bf": {
      "model_module": "@jupyter-widgets/base",
      "model_module_version": "1.2.0",
      "model_name": "LayoutModel",
      "state": {
       "height": "auto",
       "padding": "0px 0px 0px 4px",
       "width": "auto"
      }
     },
     "0892c9660d7e4aba8839568113c81997": {
      "model_module": "jupyter-leaflet",
      "model_module_version": "^0.17.0",
      "model_name": "LeafletTileLayerModel",
      "state": {
       "_model_module_version": "^0.17.0",
       "_view_module_version": "^0.17.0",
       "attribution": "(C) Stadia Maps, (C) OpenMapTiles (C) OpenStreetMap contributors",
       "max_zoom": 20,
       "name": "Stadia.AlidadeSmoothDark",
       "options": [
        "attribution",
        "bounds",
        "detect_retina",
        "max_native_zoom",
        "max_zoom",
        "min_native_zoom",
        "min_zoom",
        "no_wrap",
        "tile_size",
        "tms"
       ],
       "url": "https://tiles.stadiamaps.com/tiles/alidade_smooth_dark/{z}/{x}/{y}.png"
      }
     },
     "092751e043634b45b47d9eaf9d4615ef": {
      "model_module": "jupyter-leaflet",
      "model_module_version": "^0.17.0",
      "model_name": "LeafletWMSLayerModel",
      "state": {
       "_model_module_version": "^0.17.0",
       "_view_module_version": "^0.17.0",
       "attribution": "MRLC",
       "crs": {
        "custom": false,
        "name": "EPSG3857"
       },
       "format": "image/png",
       "layers": "NLCD_2011_Land_Cover_L48",
       "name": "NLCD 2011 CONUS Land Cover",
       "options": [
        "attribution",
        "bounds",
        "detect_retina",
        "format",
        "layers",
        "max_native_zoom",
        "max_zoom",
        "min_native_zoom",
        "min_zoom",
        "no_wrap",
        "styles",
        "tile_size",
        "tms",
        "transparent",
        "uppercase"
       ],
       "transparent": true,
       "url": "https://www.mrlc.gov/geoserver/mrlc_display/NLCD_2011_Land_Cover_L48/wms?"
      }
     },
     "092872eb97364bdc9b50078742038ef2": {
      "model_module": "jupyter-leaflet",
      "model_module_version": "^0.17.0",
      "model_name": "LeafletTileLayerModel",
      "state": {
       "_model_module_version": "^0.17.0",
       "_view_module_version": "^0.17.0",
       "attribution": "(C) OpenStreetMap contributors, Tiles courtesy of Breton OpenStreetMap Team",
       "max_zoom": 19,
       "name": "OpenStreetMap.BZH",
       "options": [
        "attribution",
        "bounds",
        "detect_retina",
        "max_native_zoom",
        "max_zoom",
        "min_native_zoom",
        "min_zoom",
        "no_wrap",
        "tile_size",
        "tms"
       ],
       "url": "https://tile.openstreetmap.bzh/br/{z}/{x}/{y}.png"
      }
     },
     "0a1676f87cb749bf966f956c3dd0f04d": {
      "model_module": "@jupyter-widgets/controls",
      "model_module_version": "1.5.0",
      "model_name": "RadioButtonsModel",
      "state": {
       "index": null,
       "layout": "IPY_MODEL_4bc576ca42304a9283eea65a3442eada",
       "style": "IPY_MODEL_16fa9ce304dc47f18b9661458fdd5dbc"
      }
     },
     "0a1feff05dee460e825d6922bcda6130": {
      "model_module": "@jupyter-widgets/controls",
      "model_module_version": "1.5.0",
      "model_name": "ToggleButtonModel",
      "state": {
       "button_style": "primary",
       "icon": "hand-o-up",
       "layout": "IPY_MODEL_81e23c0402094eb2bc7bbe5d64433f11",
       "style": "IPY_MODEL_b1e2b21636a446629d9ca855b98265a9",
       "tooltip": "Collect training samples"
      }
     },
     "0a5b102116284ff0bf9b4449751c6a0b": {
      "model_module": "@jupyter-widgets/controls",
      "model_module_version": "1.5.0",
      "model_name": "ButtonStyleModel",
      "state": {}
     },
     "0a621904fd394753918cf0d156bba886": {
      "model_module": "@jupyter-widgets/controls",
      "model_module_version": "1.5.0",
      "model_name": "GridBoxModel",
      "state": {
       "children": [
        "IPY_MODEL_14899e647dae407a9e4828087b8bfbad",
        "IPY_MODEL_aaca930435e6474693c9096fc04af9fa",
        "IPY_MODEL_e04a3e7df20f4c1bb691633294f38eb5"
       ],
       "layout": "IPY_MODEL_4cf10efaddeb42578a94f5e3f47e7bbd"
      }
     },
     "0a9a4518048f4b80b6091f2658222668": {
      "model_module": "@jupyter-widgets/base",
      "model_module_version": "1.2.0",
      "model_name": "LayoutModel",
      "state": {}
     },
     "0add41fbfba94173af47fa88deaf243e": {
      "model_module": "jupyter-leaflet",
      "model_module_version": "^0.17.0",
      "model_name": "LeafletMapStyleModel",
      "state": {
       "_model_module_version": "^0.17.0"
      }
     },
     "0af8d5cefa7e4e69bf740bd7770ca1e8": {
      "model_module": "@jupyter-widgets/base",
      "model_module_version": "1.2.0",
      "model_name": "LayoutModel",
      "state": {
       "display": "none",
       "min_width": "6em",
       "width": "6em"
      }
     },
     "0b063f39a3a24a48952d07baf320782b": {
      "model_module": "@jupyter-widgets/base",
      "model_module_version": "1.2.0",
      "model_name": "LayoutModel",
      "state": {
       "min_width": "6em",
       "width": "6em"
      }
     },
     "0b2ed9f4c15f400cbe33109a799447c7": {
      "model_module": "@jupyter-widgets/controls",
      "model_module_version": "1.5.0",
      "model_name": "ToggleButtonModel",
      "state": {
       "button_style": "primary",
       "icon": "eraser",
       "layout": "IPY_MODEL_c50f4d2011284a7ea7a823434d0a9061",
       "style": "IPY_MODEL_5c5e0047419f45a7801e90a9a00a9077",
       "tooltip": "Remove all drawn features"
      }
     },
     "0b50f773b4bc479fb78146f44b216969": {
      "model_module": "jupyter-leaflet",
      "model_module_version": "^0.17.0",
      "model_name": "LeafletTileLayerModel",
      "state": {
       "_model_module_version": "^0.17.0",
       "_view_module_version": "^0.17.0",
       "attribution": "Kaartgegevens (C) Kadaster",
       "max_zoom": 19,
       "name": "nlmaps.luchtfoto",
       "options": [
        "attribution",
        "bounds",
        "detect_retina",
        "max_native_zoom",
        "max_zoom",
        "min_native_zoom",
        "min_zoom",
        "no_wrap",
        "tile_size",
        "tms"
       ],
       "url": "https://service.pdok.nl/hwh/luchtfotorgb/wmts/v1_0/Actueel_ortho25/EPSG:3857/{z}/{x}/{y}.jpeg"
      }
     },
     "0b81c9663ef04a2987b96794ad98116a": {
      "model_module": "@jupyter-widgets/controls",
      "model_module_version": "1.5.0",
      "model_name": "ToggleButtonModel",
      "state": {
       "button_style": "primary",
       "icon": "spinner",
       "layout": "IPY_MODEL_521872c2e0934d96ae5426af66823fa7",
       "style": "IPY_MODEL_69882c0f2c2c432383edafecc20f83c7",
       "tooltip": "This is a placehold"
      }
     },
     "0bb917b4dff94f01b76500285baf934f": {
      "model_module": "@jupyter-widgets/base",
      "model_module_version": "1.2.0",
      "model_name": "LayoutModel",
      "state": {}
     },
     "0bee881de446485d944f02762f0dd47c": {
      "model_module": "@jupyter-widgets/base",
      "model_module_version": "1.2.0",
      "model_name": "LayoutModel",
      "state": {}
     },
     "0c12b88550a8432aad6bbdb6b454fa5f": {
      "model_module": "@jupyter-widgets/controls",
      "model_module_version": "1.5.0",
      "model_name": "DescriptionStyleModel",
      "state": {
       "description_width": ""
      }
     },
     "0c1e856eee2d40c1a43d845ad28bb9aa": {
      "model_module": "@jupyter-widgets/controls",
      "model_module_version": "1.5.0",
      "model_name": "ToggleButtonsStyleModel",
      "state": {
       "button_width": "",
       "description_width": ""
      }
     },
     "0c3a84778e774691afd15ab095182e44": {
      "model_module": "@jupyter-widgets/controls",
      "model_module_version": "1.5.0",
      "model_name": "HBoxModel",
      "state": {
       "children": [
        "IPY_MODEL_f03241ca41524ea7b91eff2083eb2525",
        "IPY_MODEL_673182e23f8345f399aec7840d73280a"
       ],
       "layout": "IPY_MODEL_3e2a0f230ec047b4a9b0f36e365f80b1"
      }
     },
     "0cd4951a8e684580b3955ce33d70807e": {
      "model_module": "@jupyter-widgets/controls",
      "model_module_version": "1.5.0",
      "model_name": "ButtonStyleModel",
      "state": {}
     },
     "0cff6ec3fb374126abda2d1d11894983": {
      "model_module": "@jupyter-widgets/base",
      "model_module_version": "1.2.0",
      "model_name": "LayoutModel",
      "state": {}
     },
     "0d31ad971b824d228a79772c3970e5b7": {
      "model_module": "jupyter-leaflet",
      "model_module_version": "^0.17.0",
      "model_name": "LeafletWMSLayerModel",
      "state": {
       "_model_module_version": "^0.17.0",
       "_view_module_version": "^0.17.0",
       "attribution": "ESA",
       "crs": {
        "custom": false,
        "name": "EPSG3857"
       },
       "format": "image/png",
       "layers": "WORLDCOVER_2020_S2_TCC",
       "name": "ESA Worldcover 2020 S2 TCC",
       "options": [
        "attribution",
        "bounds",
        "detect_retina",
        "format",
        "layers",
        "max_native_zoom",
        "max_zoom",
        "min_native_zoom",
        "min_zoom",
        "no_wrap",
        "styles",
        "tile_size",
        "tms",
        "transparent",
        "uppercase"
       ],
       "transparent": true,
       "url": "https://services.terrascope.be/wms/v2"
      }
     },
     "0d4dd5c87a274a819044c01a384e032f": {
      "model_module": "jupyter-leaflet",
      "model_module_version": "^0.17.0",
      "model_name": "LeafletAttributionControlModel",
      "state": {
       "_model_module_version": "^0.17.0",
       "_view_module_version": "^0.17.0",
       "options": [
        "position",
        "prefix"
       ],
       "position": "bottomright",
       "prefix": "ipyleaflet"
      }
     },
     "0dd0f09c47ba4de3a1f0abfd39b84d9a": {
      "model_module": "@jupyter-widgets/controls",
      "model_module_version": "1.5.0",
      "model_name": "DescriptionStyleModel",
      "state": {
       "description_width": ""
      }
     },
     "0e0fa70bd5824b11824066718830c108": {
      "model_module": "@jupyter-widgets/base",
      "model_module_version": "1.2.0",
      "model_name": "LayoutModel",
      "state": {
       "height": "auto",
       "padding": "0px 0px 0px 4px",
       "width": "auto"
      }
     },
     "0e44f9aad80c4fd596d38a63139ebef6": {
      "model_module": "@jupyter-widgets/base",
      "model_module_version": "1.2.0",
      "model_name": "LayoutModel",
      "state": {
       "padding": "0px 0px 0px 4px"
      }
     },
     "0eace0c670034ed5868b8a5315cf09e3": {
      "model_module": "@jupyter-widgets/base",
      "model_module_version": "1.2.0",
      "model_name": "LayoutModel",
      "state": {
       "max_width": "279px",
       "min_width": "279px"
      }
     },
     "0ed58fcb65694c66a225bdeedfc96089": {
      "model_module": "@jupyter-widgets/controls",
      "model_module_version": "1.5.0",
      "model_name": "ToggleButtonsStyleModel",
      "state": {
       "button_width": "110px",
       "description_width": ""
      }
     },
     "0f4e00faa25e4a26a21b3b0d28e20b06": {
      "model_module": "@jupyter-widgets/base",
      "model_module_version": "1.2.0",
      "model_name": "LayoutModel",
      "state": {}
     },
     "0fed063f560d41b1aab44079c3b5d483": {
      "model_module": "@jupyter-widgets/controls",
      "model_module_version": "1.5.0",
      "model_name": "ToggleButtonsModel",
      "state": {
       "_options_labels": [
        "OK",
        "Cancel"
       ],
       "button_style": "primary",
       "icons": [],
       "index": null,
       "layout": "IPY_MODEL_9cdf51d8a3b146cbbb3ab23bca99c576",
       "style": "IPY_MODEL_865524668ba746c7847e4c94f6f85806",
       "tooltips": [
        "OK",
        "Cancel"
       ]
      }
     },
     "0ff6d4dea17642f4a0626821d3ae7c5a": {
      "model_module": "@jupyter-widgets/controls",
      "model_module_version": "1.5.0",
      "model_name": "ToggleButtonModel",
      "state": {
       "button_style": "primary",
       "icon": "globe",
       "layout": "IPY_MODEL_582f953d7ce24a1a827c26166ecb5da8",
       "style": "IPY_MODEL_db683167c37e4eb2b8124c1ea4b5d2ad",
       "tooltip": "Create timelapse"
      }
     },
     "1025fb771e26498ba6d64e190881a580": {
      "model_module": "@jupyter-widgets/base",
      "model_module_version": "1.2.0",
      "model_name": "LayoutModel",
      "state": {
       "overflow": "auto"
      }
     },
     "104922d0d09743f49f0532432d6d8e34": {
      "model_module": "@jupyter-widgets/controls",
      "model_module_version": "1.5.0",
      "model_name": "HTMLModel",
      "state": {
       "layout": "IPY_MODEL_d5316f0b18f544ca8b7b07b1e8211374",
       "placeholder": "",
       "style": "IPY_MODEL_79e3e0659ffd4608b27ed278ddb618d0",
       "value": "<span style=\"color:black;\">No selection</span>"
      }
     },
     "105e0e507c8a4578b9e97b0ffd9c9c19": {
      "model_module": "@jupyter-widgets/controls",
      "model_module_version": "1.5.0",
      "model_name": "ToggleButtonModel",
      "state": {
       "button_style": "primary",
       "icon": "question",
       "layout": "IPY_MODEL_ac27d780531948bc867fab881ba049d9",
       "style": "IPY_MODEL_d878703944af4051b3287a297291ddcb",
       "tooltip": "Get help"
      }
     },
     "10d0b9819fe547a09dddf3e67c9611ea": {
      "model_module": "@jupyter-widgets/controls",
      "model_module_version": "1.5.0",
      "model_name": "LabelModel",
      "state": {
       "layout": "IPY_MODEL_eea84380db17403fa6886033276d8723",
       "style": "IPY_MODEL_196f0b7aa4f94d2692ec7d00dc51aecd"
      }
     },
     "10e44e4be21d46c188aa94ff54450d14": {
      "model_module": "jupyter-leaflet",
      "model_module_version": "^0.17.0",
      "model_name": "LeafletTileLayerModel",
      "state": {
       "_model_module_version": "^0.17.0",
       "_view_module_version": "^0.17.0",
       "attribution": "Tiles (C) Esri -- Source: US National Park Service",
       "max_zoom": 8,
       "name": "Esri.WorldPhysical",
       "options": [
        "attribution",
        "bounds",
        "detect_retina",
        "max_native_zoom",
        "max_zoom",
        "min_native_zoom",
        "min_zoom",
        "no_wrap",
        "tile_size",
        "tms"
       ],
       "url": "https://server.arcgisonline.com/ArcGIS/rest/services/World_Physical_Map/MapServer/tile/{z}/{y}/{x}"
      }
     },
     "11237c7220e5466fa23a8ecfebfc4bd5": {
      "model_module": "ipyevents",
      "model_module_version": "2.0.1",
      "model_name": "EventModel",
      "state": {
       "_supported_key_events": [
        "keydown",
        "keyup"
       ],
       "_supported_mouse_events": [
        "click",
        "auxclick",
        "dblclick",
        "mouseenter",
        "mouseleave",
        "mousedown",
        "mouseup",
        "mousemove",
        "wheel",
        "contextmenu",
        "dragstart",
        "drag",
        "dragend",
        "dragenter",
        "dragover",
        "dragleave",
        "drop"
       ],
       "_supported_touch_events": [
        "touchstart",
        "touchend",
        "touchmove",
        "touchcancel"
       ],
       "_view_module": "@jupyter-widgets/controls",
       "_view_module_version": "1.5.0",
       "source": "IPY_MODEL_4d220d022ae04d0091f515f4c4d283fc",
       "throttle_or_debounce": "",
       "watched_events": [
        "mouseenter",
        "mouseleave"
       ],
       "xy_coordinate_system": ""
      }
     },
     "117a340297e34336909feb7e6773591c": {
      "model_module": "@jupyter-widgets/controls",
      "model_module_version": "1.5.0",
      "model_name": "DropdownModel",
      "state": {
       "index": null,
       "layout": "IPY_MODEL_6549ff79b9eb4d28b348bb728ce7e10f",
       "style": "IPY_MODEL_b845c8a60d8946319a47da48c38cccce"
      }
     },
     "11adfd92c16a4514aac5003a66eddd25": {
      "model_module": "@jupyter-widgets/controls",
      "model_module_version": "1.5.0",
      "model_name": "ToggleButtonModel",
      "state": {
       "button_style": "primary",
       "icon": "map",
       "layout": "IPY_MODEL_b79dcd8a316f4e93a3c29bf7f6043bcb",
       "style": "IPY_MODEL_b8ec77b78ea648518ed806c582975289",
       "tooltip": "Change basemap"
      }
     },
     "12bb3280e8df48b0a8daab9af2598ac4": {
      "model_module": "jupyter-leaflet",
      "model_module_version": "^0.17.0",
      "model_name": "LeafletScaleControlModel",
      "state": {
       "_model_module_version": "^0.17.0",
       "_view_module_version": "^0.17.0",
       "imperial": true,
       "max_width": 100,
       "metric": true,
       "options": [
        "imperial",
        "max_width",
        "metric",
        "position",
        "update_when_idle"
       ],
       "position": "bottomleft",
       "update_when_idle": false
      }
     },
     "130992e4e7a544cc8c1df59b786e2335": {
      "model_module": "@jupyter-widgets/controls",
      "model_module_version": "1.5.0",
      "model_name": "DescriptionStyleModel",
      "state": {
       "description_width": ""
      }
     },
     "1313ac59aa304a189954b0193a693e39": {
      "model_module": "@jupyter-widgets/controls",
      "model_module_version": "1.5.0",
      "model_name": "DescriptionStyleModel",
      "state": {
       "description_width": ""
      }
     },
     "13243667b0aa4432841ee45e32d8b97f": {
      "model_module": "@jupyter-widgets/controls",
      "model_module_version": "1.5.0",
      "model_name": "DescriptionStyleModel",
      "state": {
       "description_width": ""
      }
     },
     "13755cbafd7f4aa5aa98349ebf5054e9": {
      "model_module": "@jupyter-widgets/base",
      "model_module_version": "1.2.0",
      "model_name": "LayoutModel",
      "state": {}
     },
     "1382ac326a0145b88a4f3be0671cb1bd": {
      "model_module": "jupyter-leaflet",
      "model_module_version": "^0.17.0",
      "model_name": "LeafletZoomControlModel",
      "state": {
       "_model_module_version": "^0.17.0",
       "_view_module_version": "^0.17.0",
       "options": [
        "position",
        "zoom_in_text",
        "zoom_in_title",
        "zoom_out_text",
        "zoom_out_title"
       ]
      }
     },
     "13baaccca95f424da0a2c1a763ebcb42": {
      "model_module": "@jupyter-widgets/base",
      "model_module_version": "1.2.0",
      "model_name": "LayoutModel",
      "state": {
       "display": "none",
       "min_width": "6em",
       "width": "6em"
      }
     },
     "13be79c29ee748feb4610af8d0dcfe3e": {
      "model_module": "jupyter-leaflet",
      "model_module_version": "^0.17.0",
      "model_name": "LeafletAttributionControlModel",
      "state": {
       "_model_module_version": "^0.17.0",
       "_view_module_version": "^0.17.0",
       "options": [
        "position",
        "prefix"
       ],
       "position": "bottomright",
       "prefix": "ipyleaflet"
      }
     },
     "13d76315eff34b00bc46407c6b6666b4": {
      "model_module": "jupyter-leaflet",
      "model_module_version": "^0.17.0",
      "model_name": "LeafletTileLayerModel",
      "state": {
       "_model_module_version": "^0.17.0",
       "_view_module_version": "^0.17.0",
       "attribution": "Google Earth Engine",
       "max_zoom": 24,
       "name": "Delta_area",
       "options": [
        "attribution",
        "bounds",
        "detect_retina",
        "max_native_zoom",
        "max_zoom",
        "min_native_zoom",
        "min_zoom",
        "no_wrap",
        "tile_size",
        "tms"
       ],
       "url": "https://earthengine.googleapis.com/v1alpha/projects/earthengine-legacy/maps/067014612e948b7315565d82ee2e81dd-d2d93d661c02e7d10e82b780ddb16f12/tiles/{z}/{x}/{y}"
      }
     },
     "13e7ddc7d9724ee9b7f985ecc5d75f64": {
      "model_module": "@jupyter-widgets/controls",
      "model_module_version": "1.5.0",
      "model_name": "DescriptionStyleModel",
      "state": {
       "description_width": ""
      }
     },
     "141068ee6298499d81b96d248d6b7839": {
      "model_module": "ipyevents",
      "model_module_version": "2.0.1",
      "model_name": "EventModel",
      "state": {
       "_supported_key_events": [
        "keydown",
        "keyup"
       ],
       "_supported_mouse_events": [
        "click",
        "auxclick",
        "dblclick",
        "mouseenter",
        "mouseleave",
        "mousedown",
        "mouseup",
        "mousemove",
        "wheel",
        "contextmenu",
        "dragstart",
        "drag",
        "dragend",
        "dragenter",
        "dragover",
        "dragleave",
        "drop"
       ],
       "_supported_touch_events": [
        "touchstart",
        "touchend",
        "touchmove",
        "touchcancel"
       ],
       "_view_module": "@jupyter-widgets/controls",
       "_view_module_version": "1.5.0",
       "source": "IPY_MODEL_b6d59b16917a4fc7aa106240fbd97cba",
       "throttle_or_debounce": "",
       "watched_events": [
        "mouseenter",
        "mouseleave"
       ],
       "xy_coordinate_system": ""
      }
     },
     "141a03456bce4b45b413dc07547080db": {
      "model_module": "@jupyter-widgets/base",
      "model_module_version": "1.2.0",
      "model_name": "LayoutModel",
      "state": {}
     },
     "1423902661a3423db7961f926f1d7905": {
      "model_module": "@jupyter-widgets/controls",
      "model_module_version": "1.5.0",
      "model_name": "DescriptionStyleModel",
      "state": {
       "description_width": ""
      }
     },
     "14675de957394737a342094090d4575a": {
      "model_module": "@jupyter-widgets/base",
      "model_module_version": "1.2.0",
      "model_name": "LayoutModel",
      "state": {
       "height": "auto",
       "padding": "0px 0px 0px 4px",
       "width": "auto"
      }
     },
     "14899e647dae407a9e4828087b8bfbad": {
      "model_module": "@jupyter-widgets/controls",
      "model_module_version": "1.5.0",
      "model_name": "DropdownModel",
      "state": {
       "_options_labels": [
        "/home/jovyan/data/projects/Machine-Learning-Applications-in-Remote-Sensing-Data",
        "/home/jovyan/data/projects",
        "/home/jovyan/data",
        "/home/jovyan",
        "/home",
        "/"
       ],
       "index": 0,
       "layout": "IPY_MODEL_16b63a2e036b4d97951ef33570a83ee4",
       "style": "IPY_MODEL_d3b25048617e402db24cfb94b47b0a35"
      }
     },
     "14c5609c288e4eecbfa3e440b0ba114c": {
      "model_module": "@jupyter-widgets/controls",
      "model_module_version": "1.5.0",
      "model_name": "RadioButtonsModel",
      "state": {
       "index": null,
       "layout": "IPY_MODEL_f96bc2ef17124253afc28539f82870bf",
       "style": "IPY_MODEL_67719c4f979b4744b69c5ce7f2c1baff"
      }
     },
     "15638934430d402fb0aa1fc403d1cd50": {
      "model_module": "jupyter-leaflet",
      "model_module_version": "^0.17.0",
      "model_name": "LeafletTileLayerModel",
      "state": {
       "_model_module_version": "^0.17.0",
       "_view_module_version": "^0.17.0",
       "attribution": "![](https://docs.onemap.sg/maps/images/oneMap64-01.png) New OneMap | Map data (C) contributors, Singapore Land Authority",
       "name": "OneMapSG.Night",
       "options": [
        "attribution",
        "bounds",
        "detect_retina",
        "max_native_zoom",
        "max_zoom",
        "min_native_zoom",
        "min_zoom",
        "no_wrap",
        "tile_size",
        "tms"
       ],
       "url": "https://maps-a.onemap.sg/v3/Night/{z}/{x}/{y}.png"
      }
     },
     "15685d09343b4405bd8171dda2d2b763": {
      "model_module": "@jupyter-widgets/controls",
      "model_module_version": "1.5.0",
      "model_name": "DescriptionStyleModel",
      "state": {
       "description_width": ""
      }
     },
     "15cdf115af1b4c199f33631298df9c07": {
      "model_module": "@jupyter-widgets/base",
      "model_module_version": "1.2.0",
      "model_name": "LayoutModel",
      "state": {
       "width": "65px"
      }
     },
     "16173b1bb980477481e2112009eb0a69": {
      "model_module": "jupyter-leaflet",
      "model_module_version": "^0.17.0",
      "model_name": "LeafletWidgetControlModel",
      "state": {
       "_model_module": "jupyter-leaflet",
       "_model_module_version": "^0.17.0",
       "_view_count": null,
       "_view_module": "jupyter-leaflet",
       "_view_module_version": "^0.17.0",
       "options": [
        "position",
        "transparent_bg"
       ],
       "position": "topright",
       "widget": "IPY_MODEL_8809c925bd7647ebba401de14b27be82"
      }
     },
     "165eedece224480491940ad537fe4eba": {
      "model_module": "@jupyter-widgets/base",
      "model_module_version": "1.2.0",
      "model_name": "LayoutModel",
      "state": {}
     },
     "168de3363c00476ba0d26c005388d5e1": {
      "model_module": "@jupyter-widgets/base",
      "model_module_version": "1.2.0",
      "model_name": "LayoutModel",
      "state": {}
     },
     "16986441c3d64c8c97a608ff6a88966e": {
      "model_module": "@jupyter-widgets/controls",
      "model_module_version": "1.5.0",
      "model_name": "SelectModel",
      "state": {
       "_options_labels": [
        "📁 ..",
        "📁 Ground_Information",
        "📁 Results Step 1",
        "📁 Results Step 2",
        "📁 old code",
        "11_export_image-Copy1.ipynb",
        "2020 Geemap in HS.pdf",
        "2020 Geemap in HS.pptx",
        "DSAW Application 1 MAIN.ipynb",
        "DSAW_Application_1_Step_1.ipynb",
        "DSAW_Application_1_Step_2.ipynb",
        "DSAW_Application_1_Step_3-Copy1.ipynb",
        "DSAW_Application_1_Step_3.ipynb",
        "Landsat Evapotranspiration for Wellsville.ipynb",
        "README.md",
        "SelectingAppropriateBandCombinations_Final.pdf",
        "Untitled.ipynb",
        "area_of_study.jpg"
       ],
       "index": null,
       "layout": "IPY_MODEL_e43a119c5a23424089f9400a67ed0d68",
       "rows": 8,
       "style": "IPY_MODEL_6198b218683746d09aba189f572bb294"
      }
     },
     "16b63a2e036b4d97951ef33570a83ee4": {
      "model_module": "@jupyter-widgets/base",
      "model_module_version": "1.2.0",
      "model_name": "LayoutModel",
      "state": {
       "grid_area": "pathlist",
       "width": "auto"
      }
     },
     "16b7f503d1ef4558aef30e2c3caac785": {
      "model_module": "@jupyter-widgets/base",
      "model_module_version": "1.2.0",
      "model_name": "LayoutModel",
      "state": {
       "height": "28px",
       "padding": "0px 0px 0px 4px",
       "width": "28px"
      }
     },
     "16fa9ce304dc47f18b9661458fdd5dbc": {
      "model_module": "@jupyter-widgets/controls",
      "model_module_version": "1.5.0",
      "model_name": "DescriptionStyleModel",
      "state": {
       "description_width": ""
      }
     },
     "179482512d55413680fe0e4dc0451900": {
      "model_module": "jupyter-leaflet",
      "model_module_version": "^0.17.0",
      "model_name": "LeafletWMSLayerModel",
      "state": {
       "_model_module_version": "^0.17.0",
       "_view_module_version": "^0.17.0",
       "attribution": "ESA",
       "crs": {
        "custom": false,
        "name": "EPSG3857"
       },
       "format": "image/png",
       "layers": "WORLDCOVER_2020_MAP",
       "name": "ESA Worldcover 2020",
       "options": [
        "attribution",
        "bounds",
        "detect_retina",
        "format",
        "layers",
        "max_native_zoom",
        "max_zoom",
        "min_native_zoom",
        "min_zoom",
        "no_wrap",
        "styles",
        "tile_size",
        "tms",
        "transparent",
        "uppercase"
       ],
       "transparent": true,
       "url": "https://services.terrascope.be/wms/v2"
      }
     },
     "17aee274da0242eea10ca3ab20629b98": {
      "model_module": "@jupyter-widgets/controls",
      "model_module_version": "1.5.0",
      "model_name": "DescriptionStyleModel",
      "state": {
       "description_width": ""
      }
     },
     "1877a63f63644eb6bd12615f55bc5f7a": {
      "model_module": "jupyter-leaflet",
      "model_module_version": "^0.17.0",
      "model_name": "LeafletTileLayerModel",
      "state": {
       "_model_module_version": "^0.17.0",
       "_view_module_version": "^0.17.0",
       "attribution": "Map tiles by Stamen Design, CC BY 3.0 -- Map data (C) OpenStreetMap contributors",
       "max_zoom": 20,
       "name": "Stamen.TonerLite",
       "options": [
        "attribution",
        "bounds",
        "detect_retina",
        "max_native_zoom",
        "max_zoom",
        "min_native_zoom",
        "min_zoom",
        "no_wrap",
        "tile_size",
        "tms"
       ],
       "url": "https://stamen-tiles-a.a.ssl.fastly.net/toner-lite/{z}/{x}/{y}.png"
      }
     },
     "18bcac5ab6a2486bae0e4dc60fb06fc1": {
      "model_module": "jupyter-leaflet",
      "model_module_version": "^0.17.0",
      "model_name": "LeafletDrawControlModel",
      "state": {
       "_model_module_version": "^0.17.0",
       "_view_module_version": "^0.17.0",
       "circle": {
        "shapeOptions": {
         "color": "#3388ff"
        }
       },
       "edit": false,
       "options": [
        "position"
       ],
       "polygon": {},
       "polyline": {},
       "rectangle": {
        "shapeOptions": {
         "color": "#3388ff"
        }
       },
       "remove": false
      }
     },
     "193154d422d842d6a2d109b9c542db19": {
      "model_module": "@jupyter-widgets/base",
      "model_module_version": "1.2.0",
      "model_name": "LayoutModel",
      "state": {
       "height": "auto",
       "padding": "0px 0px 0px 4px",
       "width": "auto"
      }
     },
     "194714f8eb2746909fd379105629e50a": {
      "model_module": "jupyter-leaflet",
      "model_module_version": "^0.17.0",
      "model_name": "LeafletTileLayerModel",
      "state": {
       "_model_module_version": "^0.17.0",
       "_view_module_version": "^0.17.0",
       "attribution": "Imagery provided by services from the Global Imagery Browse Services (GIBS), operated by the NASA/GSFC/Earth Science Data and Information System (ESDIS) with funding provided by NASA/HQ.",
       "max_zoom": 9,
       "name": "NASAGIBS.ViirsTrueColorCR",
       "options": [
        "attribution",
        "bounds",
        "detect_retina",
        "max_native_zoom",
        "max_zoom",
        "min_native_zoom",
        "min_zoom",
        "no_wrap",
        "tile_size",
        "tms"
       ],
       "url": "https://gibs.earthdata.nasa.gov/wmts/epsg3857/best/VIIRS_SNPP_CorrectedReflectance_TrueColor/default//GoogleMapsCompatible_Level9/{z}/{y}/{x}.jpg"
      }
     },
     "196f0b7aa4f94d2692ec7d00dc51aecd": {
      "model_module": "@jupyter-widgets/controls",
      "model_module_version": "1.5.0",
      "model_name": "DescriptionStyleModel",
      "state": {
       "description_width": ""
      }
     },
     "1979e65d0ceb45aba8917a447ec5370f": {
      "model_module": "@jupyter-widgets/controls",
      "model_module_version": "1.5.0",
      "model_name": "DescriptionStyleModel",
      "state": {
       "description_width": ""
      }
     },
     "19ef73c819574ef68fcdac5941fe7571": {
      "model_module": "jupyter-leaflet",
      "model_module_version": "^0.17.0",
      "model_name": "LeafletTileLayerModel",
      "state": {
       "_model_module_version": "^0.17.0",
       "_view_module_version": "^0.17.0",
       "attribution": "Justice Map",
       "max_zoom": 22,
       "name": "JusticeMap.hispanic",
       "options": [
        "attribution",
        "bounds",
        "detect_retina",
        "max_native_zoom",
        "max_zoom",
        "min_native_zoom",
        "min_zoom",
        "no_wrap",
        "tile_size",
        "tms"
       ],
       "url": "https://www.justicemap.org/tile/county/hispanic/{z}/{x}/{y}.png"
      }
     },
     "1a05a98c7383422a8e1915ad6357abff": {
      "model_module": "@jupyter-widgets/controls",
      "model_module_version": "1.5.0",
      "model_name": "LabelModel",
      "state": {
       "layout": "IPY_MODEL_0bee881de446485d944f02762f0dd47c",
       "style": "IPY_MODEL_8170ce93303d46c580ca0de431a1d0ff"
      }
     },
     "1a11554f132b4a46b36323a7af70db96": {
      "model_module": "@jupyter-widgets/controls",
      "model_module_version": "1.5.0",
      "model_name": "ToggleButtonModel",
      "state": {
       "icon": "server",
       "layout": "IPY_MODEL_338923bf8a184be3816f450f8354fc53",
       "style": "IPY_MODEL_54d7d91558e942edacc9fd86b45455d1",
       "tooltip": "Layers"
      }
     },
     "1a2614f412d64712b2d10191bbe8f161": {
      "model_module": "@jupyter-widgets/controls",
      "model_module_version": "1.5.0",
      "model_name": "ToggleButtonsModel",
      "state": {
       "_options_labels": [
        "name/address",
        "lat-lon",
        "data"
       ],
       "button_style": "",
       "icons": [],
       "index": 0,
       "layout": "IPY_MODEL_6e813b837a494e41b4d7b76c743519d1",
       "style": "IPY_MODEL_c8e1d4fda0d643939c8a2086388fca22",
       "tooltips": [
        "Search by place name or address",
        "Search by lat-lon coordinates",
        "Search Earth Engine data catalog"
       ]
      }
     },
     "1a309e6d45734a96a263cbfa40e246de": {
      "model_module": "jupyter-leaflet",
      "model_module_version": "^0.17.0",
      "model_name": "LeafletAttributionControlModel",
      "state": {
       "_model_module_version": "^0.17.0",
       "_view_module_version": "^0.17.0",
       "options": [
        "position",
        "prefix"
       ],
       "position": "bottomright",
       "prefix": "ipyleaflet"
      }
     },
     "1aa24bd5f5734b05898303df33a43a3c": {
      "model_module": "jupyter-leaflet",
      "model_module_version": "^0.17.0",
      "model_name": "LeafletTileLayerModel",
      "state": {
       "_model_module_version": "^0.17.0",
       "_view_module_version": "^0.17.0",
       "attribution": "Google Earth Engine",
       "max_zoom": 24,
       "name": "landsat7_jun_30",
       "options": [
        "attribution",
        "bounds",
        "detect_retina",
        "max_native_zoom",
        "max_zoom",
        "min_native_zoom",
        "min_zoom",
        "no_wrap",
        "tile_size",
        "tms"
       ],
       "url": "https://earthengine.googleapis.com/v1alpha/projects/earthengine-legacy/maps/c998db84a36857ee120359d42db7a83b-8b1e5a3cacc28a4d6a08c2284a989dd6/tiles/{z}/{x}/{y}"
      }
     },
     "1add83b9f2dd47369c2731f39a9bf6fb": {
      "model_module": "@jupyter-widgets/base",
      "model_module_version": "1.2.0",
      "model_name": "LayoutModel",
      "state": {
       "grid_area": "filename",
       "width": "auto"
      }
     },
     "1af8544c6d214ab9872387a6b125a7ba": {
      "model_module": "@jupyter-widgets/base",
      "model_module_version": "1.2.0",
      "model_name": "LayoutModel",
      "state": {
       "height": "28px",
       "padding": "0px 0px 0px 4px",
       "width": "28px"
      }
     },
     "1b008a0b2d5948a68f16aefb2487854d": {
      "model_module": "@jupyter-widgets/controls",
      "model_module_version": "1.5.0",
      "model_name": "DescriptionStyleModel",
      "state": {
       "description_width": ""
      }
     },
     "1b01a178da1a48b3972f5ebfa29e833d": {
      "model_module": "@jupyter-widgets/controls",
      "model_module_version": "1.5.0",
      "model_name": "DescriptionStyleModel",
      "state": {
       "description_width": ""
      }
     },
     "1b14786107fa4a9286bf989528e7b956": {
      "model_module": "@jupyter-widgets/base",
      "model_module_version": "1.2.0",
      "model_name": "LayoutModel",
      "state": {
       "width": "auto"
      }
     },
     "1b5fa91c623448baa9ee7fb6f48d7fa7": {
      "model_module": "@jupyter-widgets/base",
      "model_module_version": "1.2.0",
      "model_name": "LayoutModel",
      "state": {
       "overflow": "auto"
      }
     },
     "1bb177433cb04091a63d1e57a0592761": {
      "model_module": "@jupyter-widgets/base",
      "model_module_version": "1.2.0",
      "model_name": "LayoutModel",
      "state": {
       "height": "auto",
       "padding": "0px 0px 0px 4px",
       "width": "auto"
      }
     },
     "1bbf2221d3394caaa0e5db2e79549463": {
      "model_module": "@jupyter-widgets/base",
      "model_module_version": "1.2.0",
      "model_name": "LayoutModel",
      "state": {
       "height": "auto",
       "padding": "0px 0px 0px 4px",
       "width": "auto"
      }
     },
     "1bf1b899677c45d98ae1aeef8a5c8aa6": {
      "model_module": "@jupyter-widgets/controls",
      "model_module_version": "1.5.0",
      "model_name": "DescriptionStyleModel",
      "state": {
       "description_width": ""
      }
     },
     "1c22f0117d6645edac266296cb283183": {
      "model_module": "@jupyter-widgets/controls",
      "model_module_version": "1.5.0",
      "model_name": "DescriptionStyleModel",
      "state": {
       "description_width": ""
      }
     },
     "1cdcc5d75afb4834adba4fba85e5d320": {
      "model_module": "@jupyter-widgets/base",
      "model_module_version": "1.2.0",
      "model_name": "LayoutModel",
      "state": {
       "padding": "0px 0px 0px 4px"
      }
     },
     "1cfdd1d1ddd7467394525f527f1acc53": {
      "model_module": "jupyter-leaflet",
      "model_module_version": "^0.17.0",
      "model_name": "LeafletTileLayerModel",
      "state": {
       "_model_module_version": "^0.17.0",
       "_view_module_version": "^0.17.0",
       "attribution": "![](https://docs.onemap.sg/maps/images/oneMap64-01.png) New OneMap | Map data (C) contributors, Singapore Land Authority",
       "name": "OneMapSG.LandLot",
       "options": [
        "attribution",
        "bounds",
        "detect_retina",
        "max_native_zoom",
        "max_zoom",
        "min_native_zoom",
        "min_zoom",
        "no_wrap",
        "tile_size",
        "tms"
       ],
       "url": "https://maps-a.onemap.sg/v3/LandLot/{z}/{x}/{y}.png"
      }
     },
     "1d2e2449bfa74f9ab57d22c9e6a27af0": {
      "model_module": "@jupyter-widgets/controls",
      "model_module_version": "1.5.0",
      "model_name": "ToggleButtonModel",
      "state": {
       "button_style": "primary",
       "icon": "fast-forward",
       "layout": "IPY_MODEL_0e0fa70bd5824b11824066718830c108",
       "style": "IPY_MODEL_5004f79e730a4b9da5c252a295541a30",
       "tooltip": "Activate timeslider"
      }
     },
     "1d31d39982f54859ba58e6f5cd7a7f2b": {
      "model_module": "@jupyter-widgets/controls",
      "model_module_version": "1.5.0",
      "model_name": "DescriptionStyleModel",
      "state": {
       "description_width": ""
      }
     },
     "1d43826353b24972b37d939e61a126f7": {
      "model_module": "@jupyter-widgets/controls",
      "model_module_version": "1.5.0",
      "model_name": "ToggleButtonModel",
      "state": {
       "button_style": "primary",
       "icon": "camera",
       "layout": "IPY_MODEL_20f188be75a645ce8312ad9d7ae7ae4a",
       "style": "IPY_MODEL_e2036378594843b08634be2b2bb78768",
       "tooltip": "Save map as HTML or image"
      }
     },
     "1d62c04786894bd782d9318066ee7250": {
      "model_module": "@jupyter-widgets/controls",
      "model_module_version": "1.5.0",
      "model_name": "DescriptionStyleModel",
      "state": {
       "description_width": ""
      }
     },
     "1d751df7bca546a48bf6ca4b980b32b8": {
      "model_module": "@jupyter-widgets/controls",
      "model_module_version": "1.5.0",
      "model_name": "DescriptionStyleModel",
      "state": {
       "description_width": ""
      }
     },
     "1dd3514ddd334a02b8c46271ffa57b92": {
      "model_module": "@jupyter-widgets/controls",
      "model_module_version": "1.5.0",
      "model_name": "DescriptionStyleModel",
      "state": {
       "description_width": ""
      }
     },
     "1dfc42bb5a144fa3badd6c1e2cc56e66": {
      "model_module": "jupyter-leaflet",
      "model_module_version": "^0.17.0",
      "model_name": "LeafletWMSLayerModel",
      "state": {
       "_model_module_version": "^0.17.0",
       "_view_module_version": "^0.17.0",
       "attribution": "FWS",
       "crs": {
        "custom": false,
        "name": "EPSG3857"
       },
       "format": "image/png",
       "layers": "0",
       "name": "FWS NWI Wetlands Raster",
       "options": [
        "attribution",
        "bounds",
        "detect_retina",
        "format",
        "layers",
        "max_native_zoom",
        "max_zoom",
        "min_native_zoom",
        "min_zoom",
        "no_wrap",
        "styles",
        "tile_size",
        "tms",
        "transparent",
        "uppercase"
       ],
       "transparent": true,
       "url": "https://www.fws.gov/wetlands/arcgis/services/Wetlands_Raster/ImageServer/WMSServer?"
      }
     },
     "1e713f3332e842969d334049b5013460": {
      "model_module": "jupyter-leaflet",
      "model_module_version": "^0.17.0",
      "model_name": "LeafletTileLayerModel",
      "state": {
       "_model_module_version": "^0.17.0",
       "_view_module_version": "^0.17.0",
       "attribution": "Earthstar Geographics",
       "max_zoom": 24,
       "name": "Esri.ArcticImagery",
       "options": [
        "attribution",
        "bounds",
        "detect_retina",
        "max_native_zoom",
        "max_zoom",
        "min_native_zoom",
        "min_zoom",
        "no_wrap",
        "tile_size",
        "tms"
       ],
       "url": "http://server.arcgisonline.com/ArcGIS/rest/services/Polar/Arctic_Imagery/MapServer/tile/{z}/{y}/{x}"
      }
     },
     "1f6fc5e5839d4e4688b960c6ee0d8d33": {
      "model_module": "jupyter-leaflet",
      "model_module_version": "^0.17.0",
      "model_name": "LeafletTileLayerModel",
      "state": {
       "_model_module_version": "^0.17.0",
       "_view_module_version": "^0.17.0",
       "attribution": "Geoportail France",
       "name": "GeoportailFrance.plan",
       "options": [
        "attribution",
        "bounds",
        "detect_retina",
        "max_native_zoom",
        "max_zoom",
        "min_native_zoom",
        "min_zoom",
        "no_wrap",
        "tile_size",
        "tms"
       ],
       "url": "https://wxs.ign.fr/choisirgeoportail/geoportail/wmts?REQUEST=GetTile&SERVICE=WMTS&VERSION=1.0.0&STYLE=normal&TILEMATRIXSET=PM&FORMAT=image/png&LAYER=GEOGRAPHICALGRIDSYSTEMS.PLANIGNV2&TILEMATRIX={z}&TILEROW={y}&TILECOL={x}"
      }
     },
     "1fb6d5e37aa84c19b8903016ad0f0505": {
      "model_module": "@jupyter-widgets/base",
      "model_module_version": "1.2.0",
      "model_name": "LayoutModel",
      "state": {
       "height": "auto",
       "padding": "0px 0px 0px 4px",
       "width": "auto"
      }
     },
     "2016f5b77f9649d58ad117316f182121": {
      "model_module": "@jupyter-widgets/controls",
      "model_module_version": "1.5.0",
      "model_name": "ToggleButtonModel",
      "state": {
       "icon": "globe",
       "layout": "IPY_MODEL_842be6d8b8274590bdd8bb1523f85745",
       "style": "IPY_MODEL_1dd3514ddd334a02b8c46271ffa57b92",
       "tooltip": "Search location/data"
      }
     },
     "202af7986b4645389061d6734eb1cac2": {
      "model_module": "@jupyter-widgets/base",
      "model_module_version": "1.2.0",
      "model_name": "LayoutModel",
      "state": {
       "height": "28px",
       "padding": "0px 0px 0px 4px",
       "width": "28px"
      }
     },
     "204940712c2341748dd7d60f1efb0533": {
      "model_module": "jupyter-leaflet",
      "model_module_version": "^0.17.0",
      "model_name": "LeafletWMSLayerModel",
      "state": {
       "_model_module_version": "^0.17.0",
       "_view_module_version": "^0.17.0",
       "attribution": "USGS",
       "crs": {
        "custom": false,
        "name": "EPSG3857"
       },
       "format": "image/png",
       "layers": "33DEPElevation:Hillshade Elevation Tinted",
       "name": "USGS 3DEP Elevation",
       "options": [
        "attribution",
        "bounds",
        "detect_retina",
        "format",
        "layers",
        "max_native_zoom",
        "max_zoom",
        "min_native_zoom",
        "min_zoom",
        "no_wrap",
        "styles",
        "tile_size",
        "tms",
        "transparent",
        "uppercase"
       ],
       "transparent": true,
       "url": "https://elevation.nationalmap.gov/arcgis/services/3DEPElevation/ImageServer/WMSServer?"
      }
     },
     "2090034e3fcb450aaee4ba9a84973aef": {
      "model_module": "@jupyter-widgets/base",
      "model_module_version": "1.2.0",
      "model_name": "LayoutModel",
      "state": {}
     },
     "20905ef0658946418732bb30961f3844": {
      "model_module": "jupyter-leaflet",
      "model_module_version": "^0.17.0",
      "model_name": "LeafletFullScreenControlModel",
      "state": {
       "_model_module_version": "^0.17.0",
       "_view_module_version": "^0.17.0",
       "options": [
        "position"
       ]
      }
     },
     "209820eb246d457393aa9699cda5c7d1": {
      "model_module": "@jupyter-widgets/base",
      "model_module_version": "1.2.0",
      "model_name": "LayoutModel",
      "state": {
       "height": "auto",
       "padding": "0px 0px 0px 4px",
       "width": "auto"
      }
     },
     "20f188be75a645ce8312ad9d7ae7ae4a": {
      "model_module": "@jupyter-widgets/base",
      "model_module_version": "1.2.0",
      "model_name": "LayoutModel",
      "state": {
       "height": "auto",
       "padding": "0px 0px 0px 4px",
       "width": "auto"
      }
     },
     "2112772fcdf1444bb6156eac7d03df2f": {
      "model_module": "@jupyter-widgets/base",
      "model_module_version": "1.2.0",
      "model_name": "LayoutModel",
      "state": {
       "width": "340px"
      }
     },
     "21206cede8394463a197f397eee0a562": {
      "model_module": "@jupyter-widgets/controls",
      "model_module_version": "1.5.0",
      "model_name": "ToggleButtonModel",
      "state": {
       "button_style": "primary",
       "icon": "bar-chart",
       "layout": "IPY_MODEL_a9d30966394c4fa3a1d0f31cada1e15b",
       "style": "IPY_MODEL_7230ce5057664ecaa753f904c1944ceb",
       "tooltip": "Plotting"
      }
     },
     "2184aa8d3b864920a72f8e61e3675ebd": {
      "model_module": "jupyter-leaflet",
      "model_module_version": "^0.17.0",
      "model_name": "LeafletAttributionControlModel",
      "state": {
       "_model_module_version": "^0.17.0",
       "_view_module_version": "^0.17.0",
       "options": [
        "position",
        "prefix"
       ],
       "position": "bottomright",
       "prefix": "ipyleaflet"
      }
     },
     "21a405584d9744849a9d58851761f6e3": {
      "model_module": "jupyter-leaflet",
      "model_module_version": "^0.17.0",
      "model_name": "LeafletTileLayerModel",
      "state": {
       "_model_module_version": "^0.17.0",
       "_view_module_version": "^0.17.0",
       "attribution": "Google Earth Engine",
       "max_zoom": 24,
       "name": "landsat7_jun_14_clipped",
       "options": [
        "attribution",
        "bounds",
        "detect_retina",
        "max_native_zoom",
        "max_zoom",
        "min_native_zoom",
        "min_zoom",
        "no_wrap",
        "tile_size",
        "tms"
       ],
       "url": "https://earthengine.googleapis.com/v1alpha/projects/earthengine-legacy/maps/15b687c0d3eb2425dba14f8096ca82e2-a8674c438c68c57252935c7c4b885e99/tiles/{z}/{x}/{y}"
      }
     },
     "2227fe15591d461ebb7fdf6058e1c28a": {
      "model_module": "jupyter-leaflet",
      "model_module_version": "^0.17.0",
      "model_name": "LeafletTileLayerModel",
      "state": {
       "_model_module_version": "^0.17.0",
       "_view_module_version": "^0.17.0",
       "attribution": "Map tiles by Stamen Design, CC BY 3.0 -- Map data (C) OpenStreetMap contributors",
       "name": "Stamen.TerrainBackground",
       "options": [
        "attribution",
        "bounds",
        "detect_retina",
        "max_native_zoom",
        "max_zoom",
        "min_native_zoom",
        "min_zoom",
        "no_wrap",
        "tile_size",
        "tms"
       ],
       "url": "https://stamen-tiles-a.a.ssl.fastly.net/terrain-background/{z}/{x}/{y}.png"
      }
     },
     "22bfde9de76841c4bb745b5a13884174": {
      "model_module": "@jupyter-widgets/base",
      "model_module_version": "1.2.0",
      "model_name": "LayoutModel",
      "state": {}
     },
     "22ebcbfe7f1148d9ac392c4c401ac9d9": {
      "model_module": "@jupyter-widgets/controls",
      "model_module_version": "1.5.0",
      "model_name": "ButtonStyleModel",
      "state": {}
     },
     "22f77b4cf77b4e42b27898ec285d7f4c": {
      "model_module": "@jupyter-widgets/base",
      "model_module_version": "1.2.0",
      "model_name": "LayoutModel",
      "state": {}
     },
     "23bb6ea5fc8f4978992a23ecdcab7ab0": {
      "model_module": "@jupyter-widgets/controls",
      "model_module_version": "1.5.0",
      "model_name": "DescriptionStyleModel",
      "state": {
       "description_width": ""
      }
     },
     "23e48b6ea00f4d1aa174446d6bd2bb67": {
      "model_module": "@jupyter-widgets/base",
      "model_module_version": "1.2.0",
      "model_name": "LayoutModel",
      "state": {
       "max_width": "57px",
       "min_width": "57px"
      }
     },
     "2442f160958a4448bfc07d5fbd09bb20": {
      "model_module": "jupyter-leaflet",
      "model_module_version": "^0.17.0",
      "model_name": "LeafletTileLayerModel",
      "state": {
       "_model_module_version": "^0.17.0",
       "_view_module_version": "^0.17.0",
       "attribution": "Datenquelle: basemap.at",
       "max_zoom": 20,
       "name": "BasemapAT.orthofoto",
       "options": [
        "attribution",
        "bounds",
        "detect_retina",
        "max_native_zoom",
        "max_zoom",
        "min_native_zoom",
        "min_zoom",
        "no_wrap",
        "tile_size",
        "tms"
       ],
       "url": "https://maps.wien.gv.at/basemap/bmaporthofoto30cm/normal/google3857/{z}/{y}/{x}.jpeg"
      }
     },
     "24d6a577d4c9441ebbec6af40c6d70b0": {
      "model_module": "jupyter-leaflet",
      "model_module_version": "^0.17.0",
      "model_name": "LeafletTileLayerModel",
      "state": {
       "_model_module_version": "^0.17.0",
       "_view_module_version": "^0.17.0",
       "attribution": "Kaartgegevens (C) Kadaster",
       "max_zoom": 19,
       "name": "nlmaps.pastel",
       "options": [
        "attribution",
        "bounds",
        "detect_retina",
        "max_native_zoom",
        "max_zoom",
        "min_native_zoom",
        "min_zoom",
        "no_wrap",
        "tile_size",
        "tms"
       ],
       "url": "https://service.pdok.nl/brt/achtergrondkaart/wmts/v2_0/pastel/EPSG:3857/{z}/{x}/{y}.png"
      }
     },
     "25080ce380c446c4884664ff2584493d": {
      "model_module": "jupyter-leaflet",
      "model_module_version": "^0.17.0",
      "model_name": "LeafletTileLayerModel",
      "state": {
       "_model_module_version": "^0.17.0",
       "_view_module_version": "^0.17.0",
       "attribution": "Google",
       "max_zoom": 22,
       "name": "Google Satellite",
       "options": [
        "attribution",
        "bounds",
        "detect_retina",
        "max_native_zoom",
        "max_zoom",
        "min_native_zoom",
        "min_zoom",
        "no_wrap",
        "tile_size",
        "tms"
       ],
       "url": "https://mt1.google.com/vt/lyrs=y&x={x}&y={y}&z={z}"
      }
     },
     "258776a0506549d8b471876dc90e2df4": {
      "model_module": "jupyter-leaflet",
      "model_module_version": "^0.17.0",
      "model_name": "LeafletTileLayerModel",
      "state": {
       "_model_module_version": "^0.17.0",
       "_view_module_version": "^0.17.0",
       "attribution": "Datenquelle: basemap.at",
       "max_zoom": 19,
       "name": "BasemapAT.overlay",
       "options": [
        "attribution",
        "bounds",
        "detect_retina",
        "max_native_zoom",
        "max_zoom",
        "min_native_zoom",
        "min_zoom",
        "no_wrap",
        "tile_size",
        "tms"
       ],
       "url": "https://maps.wien.gv.at/basemap/bmapoverlay/normal/google3857/{z}/{y}/{x}.png"
      }
     },
     "25a322819ebd45f7aa35d3533228e789": {
      "model_module": "@jupyter-widgets/controls",
      "model_module_version": "1.5.0",
      "model_name": "RadioButtonsModel",
      "state": {
       "index": null,
       "layout": "IPY_MODEL_0a9a4518048f4b80b6091f2658222668",
       "style": "IPY_MODEL_48929563aaad4069ad74028308fb173a"
      }
     },
     "25aa9dc03f7448ada659c72ff0f5f120": {
      "model_module": "@jupyter-widgets/controls",
      "model_module_version": "1.5.0",
      "model_name": "VBoxModel",
      "state": {
       "children": [
        "IPY_MODEL_5889ddef4f124d9887cf5ec0b2557dc5",
        "IPY_MODEL_61409fb53a61446cabe1fc91480b5835"
       ],
       "layout": "IPY_MODEL_26d71c590eb04b418a182c2a4fcefa28"
      }
     },
     "25d880a3073a450aa3997410cdd1590a": {
      "model_module": "@jupyter-widgets/base",
      "model_module_version": "1.2.0",
      "model_name": "LayoutModel",
      "state": {
       "height": "auto",
       "padding": "0px 0px 0px 4px",
       "width": "auto"
      }
     },
     "2647ced4c0ac4a598c296699ad4ec122": {
      "model_module": "@jupyter-widgets/controls",
      "model_module_version": "1.5.0",
      "model_name": "VBoxModel",
      "state": {
       "children": [
        "IPY_MODEL_89c276b270f84804886fd77a8ea00ad8",
        "IPY_MODEL_8755ffb4eaf34f2f963b5150cfc12776",
        "IPY_MODEL_2dc9fa4e04a545b9a17a9a0b992045c9"
       ],
       "layout": "IPY_MODEL_ed4902410b7c4fe0811a2836aa65d1a5"
      }
     },
     "266e8dd344594b02909f28231dc8b3d4": {
      "model_module": "@jupyter-widgets/controls",
      "model_module_version": "1.5.0",
      "model_name": "CheckboxModel",
      "state": {
       "description": "Pixels",
       "disabled": false,
       "indent": false,
       "layout": "IPY_MODEL_b88929136bee45b19df379d210e2e14a",
       "style": "IPY_MODEL_cac5f83c37974b299bd41087dbae4f43",
       "value": true
      }
     },
     "2690d5d34d794de1bf9590c554adbc7c": {
      "model_module": "jupyter-leaflet",
      "model_module_version": "^0.17.0",
      "model_name": "LeafletZoomControlModel",
      "state": {
       "_model_module_version": "^0.17.0",
       "_view_module_version": "^0.17.0",
       "options": [
        "position",
        "zoom_in_text",
        "zoom_in_title",
        "zoom_out_text",
        "zoom_out_title"
       ]
      }
     },
     "2699de2f4a8a4acdb21a7a8af89edd5e": {
      "model_module": "@jupyter-widgets/base",
      "model_module_version": "1.2.0",
      "model_name": "LayoutModel",
      "state": {
       "height": "auto",
       "padding": "0px 0px 0px 4px",
       "width": "auto"
      }
     },
     "26c6ed4dda0448829196c134b2544980": {
      "model_module": "jupyter-leaflet",
      "model_module_version": "^0.17.0",
      "model_name": "LeafletWidgetControlModel",
      "state": {
       "_model_module": "jupyter-leaflet",
       "_model_module_version": "^0.17.0",
       "_view_count": null,
       "_view_module": "jupyter-leaflet",
       "_view_module_version": "^0.17.0",
       "options": [
        "position",
        "transparent_bg"
       ],
       "position": "topright",
       "widget": "IPY_MODEL_6263235d6ace43f1a2a893aa9392c5ee"
      }
     },
     "26d71c590eb04b418a182c2a4fcefa28": {
      "model_module": "@jupyter-widgets/base",
      "model_module_version": "1.2.0",
      "model_name": "LayoutModel",
      "state": {}
     },
     "27186c322ef84418b37a450839a4e59f": {
      "model_module": "@jupyter-widgets/controls",
      "model_module_version": "1.5.0",
      "model_name": "ToggleButtonModel",
      "state": {
       "button_style": "primary",
       "icon": "question",
       "layout": "IPY_MODEL_a8ce5709e4ae4ab9a3203beec4b82b6a",
       "style": "IPY_MODEL_c08e16a63cc54b0e93f983ecfffc5e25",
       "tooltip": "Get help"
      }
     },
     "271d1fa412514186a98babccae3180dd": {
      "model_module": "jupyter-leaflet",
      "model_module_version": "^0.17.0",
      "model_name": "LeafletTileLayerModel",
      "state": {
       "_model_module_version": "^0.17.0",
       "_view_module_version": "^0.17.0",
       "attribution": "© swisstopo",
       "name": "SwissFederalGeoportal.JourneyThroughTime",
       "options": [
        "attribution",
        "bounds",
        "detect_retina",
        "max_native_zoom",
        "max_zoom",
        "min_native_zoom",
        "min_zoom",
        "no_wrap",
        "tile_size",
        "tms"
       ],
       "url": "https://wmts.geo.admin.ch/1.0.0/ch.swisstopo.zeitreihen/default/18641231/3857/{z}/{x}/{y}.png"
      }
     },
     "272de72bcf034856aaf710d880db570e": {
      "model_module": "@jupyter-widgets/base",
      "model_module_version": "1.2.0",
      "model_name": "LayoutModel",
      "state": {}
     },
     "2733575a0c334eb4b430aa49e6e176dd": {
      "model_module": "@jupyter-widgets/controls",
      "model_module_version": "1.5.0",
      "model_name": "ToggleButtonModel",
      "state": {
       "icon": "globe",
       "layout": "IPY_MODEL_fca4a1d826a64e1aa06de0c4b2ce1992",
       "style": "IPY_MODEL_fd4a6931e837446fa5af385b7e2dde5a",
       "tooltip": "Search location/data"
      }
     },
     "273929f911374d9c93c8a7f1fe5e085f": {
      "model_module": "@jupyter-widgets/controls",
      "model_module_version": "1.5.0",
      "model_name": "DescriptionStyleModel",
      "state": {
       "description_width": ""
      }
     },
     "275d3b66c75c42a5817908a072ec531f": {
      "model_module": "@jupyter-widgets/base",
      "model_module_version": "1.2.0",
      "model_name": "LayoutModel",
      "state": {
       "max_width": "279px",
       "min_width": "279px"
      }
     },
     "277a5499d49f4cfb8415df0034976800": {
      "model_module": "@jupyter-widgets/controls",
      "model_module_version": "1.5.0",
      "model_name": "DescriptionStyleModel",
      "state": {
       "description_width": ""
      }
     },
     "277fb6c30be84ade8a8980a8a0be5cff": {
      "model_module": "@jupyter-widgets/base",
      "model_module_version": "1.2.0",
      "model_name": "LayoutModel",
      "state": {
       "width": "340px"
      }
     },
     "285d50616ba24c668d1da56b7f63990e": {
      "model_module": "@jupyter-widgets/controls",
      "model_module_version": "1.5.0",
      "model_name": "DescriptionStyleModel",
      "state": {
       "description_width": ""
      }
     },
     "28b1015e46ce498c93d7eee8924e625f": {
      "model_module": "jupyter-leaflet",
      "model_module_version": "^0.17.0",
      "model_name": "LeafletTileLayerModel",
      "state": {
       "_model_module_version": "^0.17.0",
       "_view_module_version": "^0.17.0",
       "attribution": "(C) OpenStreetMap contributors & USGS",
       "max_zoom": 22,
       "name": "MtbMap",
       "options": [
        "attribution",
        "bounds",
        "detect_retina",
        "max_native_zoom",
        "max_zoom",
        "min_native_zoom",
        "min_zoom",
        "no_wrap",
        "tile_size",
        "tms"
       ],
       "url": "http://tile.mtbmap.cz/mtbmap_tiles/{z}/{x}/{y}.png"
      }
     },
     "28cbd310087749e299ce2d6d6eeede7f": {
      "model_module": "@jupyter-widgets/base",
      "model_module_version": "1.2.0",
      "model_name": "LayoutModel",
      "state": {
       "height": "auto",
       "padding": "0px 0px 0px 4px",
       "width": "auto"
      }
     },
     "28d8f9db811949688be70f6130eec0e0": {
      "model_module": "@jupyter-widgets/base",
      "model_module_version": "1.2.0",
      "model_name": "LayoutModel",
      "state": {
       "grid_area": "filename",
       "width": "auto"
      }
     },
     "290e1fda329c44458597e7ae91801b3d": {
      "model_module": "jupyter-leaflet",
      "model_module_version": "^0.17.0",
      "model_name": "LeafletTileLayerModel",
      "state": {
       "_model_module_version": "^0.17.0",
       "_view_module_version": "^0.17.0",
       "attribution": "Google Earth Engine",
       "max_zoom": 24,
       "name": "landsat7_jun_30_clipped",
       "options": [
        "attribution",
        "bounds",
        "detect_retina",
        "max_native_zoom",
        "max_zoom",
        "min_native_zoom",
        "min_zoom",
        "no_wrap",
        "tile_size",
        "tms"
       ],
       "url": "https://earthengine.googleapis.com/v1alpha/projects/earthengine-legacy/maps/c5d523f8fd84ad112969da3fd10ac283-1c25f51d1e23a36760a8aa890751435f/tiles/{z}/{x}/{y}"
      }
     },
     "2917b71290ea4b4eaf574f145413dc90": {
      "model_module": "@jupyter-widgets/controls",
      "model_module_version": "1.5.0",
      "model_name": "DescriptionStyleModel",
      "state": {
       "description_width": ""
      }
     },
     "2941ddd2904a4b9a82360df04f085bf8": {
      "model_module": "jupyter-leaflet",
      "model_module_version": "^0.17.0",
      "model_name": "LeafletWMSLayerModel",
      "state": {
       "_model_module_version": "^0.17.0",
       "_view_module_version": "^0.17.0",
       "attribution": "MRLC",
       "crs": {
        "custom": false,
        "name": "EPSG3857"
       },
       "format": "image/png",
       "layers": "NLCD_2013_Land_Cover_L48",
       "name": "NLCD 2013 CONUS Land Cover",
       "options": [
        "attribution",
        "bounds",
        "detect_retina",
        "format",
        "layers",
        "max_native_zoom",
        "max_zoom",
        "min_native_zoom",
        "min_zoom",
        "no_wrap",
        "styles",
        "tile_size",
        "tms",
        "transparent",
        "uppercase"
       ],
       "transparent": true,
       "url": "https://www.mrlc.gov/geoserver/mrlc_display/NLCD_2013_Land_Cover_L48/wms?"
      }
     },
     "299517ed021543bba168ea3066861800": {
      "model_module": "@jupyter-widgets/controls",
      "model_module_version": "1.5.0",
      "model_name": "DescriptionStyleModel",
      "state": {
       "description_width": ""
      }
     },
     "29a39c5de76b49b19d0125c6450953f6": {
      "model_module": "@jupyter-widgets/controls",
      "model_module_version": "1.5.0",
      "model_name": "DescriptionStyleModel",
      "state": {
       "description_width": ""
      }
     },
     "29b7853846084671a98f3a52687c1142": {
      "model_module": "jupyter-leaflet",
      "model_module_version": "^0.17.0",
      "model_name": "LeafletTileLayerModel",
      "state": {
       "_model_module_version": "^0.17.0",
       "_view_module_version": "^0.17.0",
       "attribution": "&copy; <a href=\"https://www.openstreetmap.org/copyright\">OpenStreetMap</a> contributors",
       "base": true,
       "max_zoom": 19,
       "min_zoom": 1,
       "name": "OpenStreetMap.Mapnik",
       "options": [
        "attribution",
        "bounds",
        "detect_retina",
        "max_native_zoom",
        "max_zoom",
        "min_native_zoom",
        "min_zoom",
        "no_wrap",
        "tile_size",
        "tms"
       ],
       "url": "https://a.tile.openstreetmap.org/{z}/{x}/{y}.png"
      }
     },
     "2a01bc68fc624c0a99fbe6816966dbea": {
      "model_module": "@jupyter-widgets/controls",
      "model_module_version": "1.5.0",
      "model_name": "LabelModel",
      "state": {
       "layout": "IPY_MODEL_a0ca325193a94787a2300de008192829",
       "style": "IPY_MODEL_1bf1b899677c45d98ae1aeef8a5c8aa6",
       "value": "Expand   "
      }
     },
     "2aa16c15a6f04161970ba826b2eb8e2f": {
      "model_module": "@jupyter-widgets/controls",
      "model_module_version": "1.5.0",
      "model_name": "HBoxModel",
      "state": {
       "children": [
        "IPY_MODEL_5276ccf33c23457bb26a93e658c638c4",
        "IPY_MODEL_80a9f398b32645f382b6c457a54c6967"
       ],
       "layout": "IPY_MODEL_22bfde9de76841c4bb745b5a13884174"
      }
     },
     "2ab38a8ec6c4456fbc587b377830b57f": {
      "model_module": "@jupyter-widgets/base",
      "model_module_version": "1.2.0",
      "model_name": "LayoutModel",
      "state": {
       "grid_area": "pathlist",
       "width": "auto"
      }
     },
     "2ac613ebdcbc43b597b00d5ebc0592f8": {
      "model_module": "@jupyter-widgets/controls",
      "model_module_version": "1.5.0",
      "model_name": "ToggleButtonModel",
      "state": {
       "button_style": "primary",
       "icon": "bar-chart",
       "layout": "IPY_MODEL_25d880a3073a450aa3997410cdd1590a",
       "style": "IPY_MODEL_94ea0f5c6b5a4615b39793e07cd7130f",
       "tooltip": "Plotting"
      }
     },
     "2b3362bedb3449eb94663b2879b82e39": {
      "model_module": "@jupyter-widgets/base",
      "model_module_version": "1.2.0",
      "model_name": "LayoutModel",
      "state": {
       "height": "auto",
       "padding": "0px 0px 0px 4px",
       "width": "auto"
      }
     },
     "2b664f348f3045768526ea335038ed7a": {
      "model_module": "jupyter-leaflet",
      "model_module_version": "^0.17.0",
      "model_name": "LeafletMapStyleModel",
      "state": {
       "_model_module_version": "^0.17.0"
      }
     },
     "2bfdb5eb73814169a02f5ee8d2b22b61": {
      "model_module": "@jupyter-widgets/controls",
      "model_module_version": "1.5.0",
      "model_name": "TextModel",
      "state": {
       "layout": "IPY_MODEL_c167d9f3b094467a899aae24c4fb42e3",
       "placeholder": "Search by place name or address",
       "style": "IPY_MODEL_ffcd6f85faf14de5b9b58b9c440010ba"
      }
     },
     "2c59124394ec473cb9e43ba9606a9b4c": {
      "model_module": "@jupyter-widgets/controls",
      "model_module_version": "1.5.0",
      "model_name": "DescriptionStyleModel",
      "state": {
       "description_width": ""
      }
     },
     "2cb329fb9bbe42eb99262e3dcaf2d6b3": {
      "model_module": "@jupyter-widgets/controls",
      "model_module_version": "1.5.0",
      "model_name": "HTMLModel",
      "state": {
       "layout": "IPY_MODEL_331f8bf4e1734420aaf2ebca1688c67d",
       "placeholder": "",
       "style": "IPY_MODEL_0c12b88550a8432aad6bbdb6b454fa5f",
       "value": "<span style=\"color:black;\">No selection</span>"
      }
     },
     "2cf9df332da9451eb8e7b267cd27c8f7": {
      "model_module": "@jupyter-widgets/base",
      "model_module_version": "1.2.0",
      "model_name": "LayoutModel",
      "state": {}
     },
     "2d2688aeb06b4ba7ad083e6665b089f0": {
      "model_module": "@jupyter-widgets/base",
      "model_module_version": "1.2.0",
      "model_name": "LayoutModel",
      "state": {}
     },
     "2d92a799a3bb49548f0b643c3903659f": {
      "model_module": "jupyter-leaflet",
      "model_module_version": "^0.17.0",
      "model_name": "LeafletTileLayerModel",
      "state": {
       "_model_module_version": "^0.17.0",
       "_view_module_version": "^0.17.0",
       "attribution": "Justice Map",
       "max_zoom": 22,
       "name": "JusticeMap.nonWhite",
       "options": [
        "attribution",
        "bounds",
        "detect_retina",
        "max_native_zoom",
        "max_zoom",
        "min_native_zoom",
        "min_zoom",
        "no_wrap",
        "tile_size",
        "tms"
       ],
       "url": "https://www.justicemap.org/tile/county/nonwhite/{z}/{x}/{y}.png"
      }
     },
     "2d94c68af0e0460795f7e362fea5fe1b": {
      "model_module": "jupyter-leaflet",
      "model_module_version": "^0.17.0",
      "model_name": "LeafletDrawControlModel",
      "state": {
       "_model_module_version": "^0.17.0",
       "_view_module_version": "^0.17.0",
       "circle": {
        "shapeOptions": {
         "color": "#3388ff"
        }
       },
       "marker": {
        "shapeOptions": {
         "color": "#3388ff"
        }
       },
       "options": [
        "position"
       ],
       "rectangle": {
        "shapeOptions": {
         "color": "#3388ff"
        }
       }
      }
     },
     "2dc9fa4e04a545b9a17a9a0b992045c9": {
      "model_module": "@jupyter-widgets/controls",
      "model_module_version": "1.5.0",
      "model_name": "HBoxModel",
      "state": {
       "children": [
        "IPY_MODEL_d5e0bd1342d64441a55544acf3087a02",
        "IPY_MODEL_810697b5dc9f4953b518cbefe1ac6d47",
        "IPY_MODEL_ef5543d01c4b4d7a8c44a71aaf8c5060"
       ],
       "layout": "IPY_MODEL_73b0a226a3054c24ba703217f48a7d89"
      }
     },
     "2e186b2cdb4d4d91994133c43e77848f": {
      "model_module": "@jupyter-widgets/controls",
      "model_module_version": "1.5.0",
      "model_name": "VBoxModel",
      "state": {
       "children": [
        "IPY_MODEL_fe2068db017e4781a39f1df6ffadeb06",
        "IPY_MODEL_6591d5d85b544a358e5010504518b7b0"
       ],
       "layout": "IPY_MODEL_b125ebb97d0d48cb8442f58b4f578fcc"
      }
     },
     "2e1b3836c670433789f592345576df41": {
      "model_module": "jupyter-leaflet",
      "model_module_version": "^0.17.0",
      "model_name": "LeafletWidgetControlModel",
      "state": {
       "_model_module": "jupyter-leaflet",
       "_model_module_version": "^0.17.0",
       "_view_count": null,
       "_view_module": "jupyter-leaflet",
       "_view_module_version": "^0.17.0",
       "options": [
        "position",
        "transparent_bg"
       ],
       "position": "topleft",
       "widget": "IPY_MODEL_a8e340e08e3f4b6fb67813213e9cdd07"
      }
     },
     "2f2e9eca4b9a4df5aca773a75fd83cdc": {
      "model_module": "@jupyter-widgets/controls",
      "model_module_version": "1.5.0",
      "model_name": "VBoxModel",
      "state": {
       "children": [
        "IPY_MODEL_57b7716cf7134d7a92f07bb32c6abd68"
       ],
       "layout": "IPY_MODEL_8180bdb0d2174e05ab766f974522b099"
      }
     },
     "2f5ad9d9c1b4424db39e647b43c99f63": {
      "model_module": "@jupyter-widgets/controls",
      "model_module_version": "1.5.0",
      "model_name": "ToggleButtonModel",
      "state": {
       "button_style": "primary",
       "icon": "google",
       "layout": "IPY_MODEL_73c31a23d5e140c5b6167a377c1d9eec",
       "style": "IPY_MODEL_60d516bfdc3d49a882b610fb447d06ba",
       "tooltip": "GEE Toolbox for cloud computing"
      }
     },
     "2fccbb62a4664428a9b4e7181e898467": {
      "model_module": "@jupyter-widgets/controls",
      "model_module_version": "1.5.0",
      "model_name": "CheckboxModel",
      "state": {
       "description": "Objects",
       "disabled": false,
       "indent": false,
       "layout": "IPY_MODEL_66f70543611a457fb13abe70947338eb",
       "style": "IPY_MODEL_ad5ce9afd6f34b288934ae3a6aa0208b",
       "value": false
      }
     },
     "2ffbc60ec3084e96aff2c573001251a1": {
      "model_module": "@jupyter-widgets/controls",
      "model_module_version": "1.5.0",
      "model_name": "DescriptionStyleModel",
      "state": {
       "description_width": ""
      }
     },
     "3002779046f349fdaa4df962220c4d39": {
      "model_module": "@jupyter-widgets/controls",
      "model_module_version": "1.5.0",
      "model_name": "DescriptionStyleModel",
      "state": {
       "description_width": ""
      }
     },
     "30a46a78c1c44d0f9cc4d5c5f00f5e98": {
      "model_module": "@jupyter-widgets/controls",
      "model_module_version": "1.5.0",
      "model_name": "DescriptionStyleModel",
      "state": {
       "description_width": ""
      }
     },
     "30ad46714a024c8d8b45cd1b521b7719": {
      "model_module": "@jupyter-widgets/base",
      "model_module_version": "1.2.0",
      "model_name": "LayoutModel",
      "state": {
       "grid_area": "filename",
       "width": "auto"
      }
     },
     "30c829bd89af4e50bb6f8699cb06a2b6": {
      "model_module": "@jupyter-widgets/controls",
      "model_module_version": "1.5.0",
      "model_name": "DescriptionStyleModel",
      "state": {
       "description_width": ""
      }
     },
     "3198a17e7b72454c975742e75e2aebb3": {
      "model_module": "@jupyter-widgets/controls",
      "model_module_version": "1.5.0",
      "model_name": "DescriptionStyleModel",
      "state": {
       "description_width": ""
      }
     },
     "319a1624fad04cdc818b514421c38190": {
      "model_module": "@jupyter-widgets/base",
      "model_module_version": "1.2.0",
      "model_name": "LayoutModel",
      "state": {
       "height": "auto",
       "padding": "0px 0px 0px 4px",
       "width": "auto"
      }
     },
     "31a4866ea99a4694bf2bb95bb8edaee9": {
      "model_module": "@jupyter-widgets/base",
      "model_module_version": "1.2.0",
      "model_name": "LayoutModel",
      "state": {}
     },
     "31c293eefd93476db6f29899ffe6073b": {
      "model_module": "jupyter-leaflet",
      "model_module_version": "^0.17.0",
      "model_name": "LeafletMeasureControlModel",
      "state": {
       "_model_module_version": "^0.17.0",
       "_view_module_version": "^0.17.0",
       "active_color": "orange",
       "options": [
        "active_color",
        "capture_z_index",
        "completed_color",
        "popup_options",
        "position",
        "primary_area_unit",
        "primary_length_unit",
        "secondary_area_unit",
        "secondary_length_unit"
       ],
       "position": "bottomleft",
       "primary_length_unit": "kilometers",
       "secondary_area_unit": null,
       "secondary_length_unit": null
      }
     },
     "32481a4a9a564d4f8ef1a591f3207864": {
      "model_module": "@jupyter-widgets/base",
      "model_module_version": "1.2.0",
      "model_name": "LayoutModel",
      "state": {
       "display": "none"
      }
     },
     "32d9d37972b24902bdada487ef702116": {
      "model_module": "@jupyter-widgets/controls",
      "model_module_version": "1.5.0",
      "model_name": "CheckboxModel",
      "state": {
       "description": "Point",
       "disabled": false,
       "indent": false,
       "layout": "IPY_MODEL_acb2e6d01ef544689914683167264868",
       "style": "IPY_MODEL_b8988b83bab64d45b0b131ced5e60669",
       "value": false
      }
     },
     "331f8bf4e1734420aaf2ebca1688c67d": {
      "model_module": "@jupyter-widgets/base",
      "model_module_version": "1.2.0",
      "model_name": "LayoutModel",
      "state": {
       "margin": "0 0 0 1em"
      }
     },
     "338923bf8a184be3816f450f8354fc53": {
      "model_module": "@jupyter-widgets/base",
      "model_module_version": "1.2.0",
      "model_name": "LayoutModel",
      "state": {
       "height": "28px",
       "width": "72px"
      }
     },
     "33c168edfd8e4329acec599071a9b248": {
      "model_module": "jupyter-leaflet",
      "model_module_version": "^0.17.0",
      "model_name": "LeafletTileLayerModel",
      "state": {
       "_model_module_version": "^0.17.0",
       "_view_module_version": "^0.17.0",
       "attribution": "Map tiles by <a href=\"https://labs.strava.com/heatmap\">Strava 2021</a>",
       "max_zoom": 15,
       "name": "Strava.Winter",
       "options": [
        "attribution",
        "bounds",
        "detect_retina",
        "max_native_zoom",
        "max_zoom",
        "min_native_zoom",
        "min_zoom",
        "no_wrap",
        "tile_size",
        "tms"
       ],
       "url": "https://heatmap-external-a.strava.com/tiles/winter/hot/{z}/{x}/{y}.png"
      }
     },
     "33c211bb1c004f32b3d6b1da60dbabb2": {
      "model_module": "@jupyter-widgets/controls",
      "model_module_version": "1.5.0",
      "model_name": "ButtonModel",
      "state": {
       "description": "Cancel",
       "layout": "IPY_MODEL_c1deac44a41e49eab22ed1167d7019ee",
       "style": "IPY_MODEL_47bf0b049473457e8b8d56d8120c0545"
      }
     },
     "340101693e1a4664ae4a06160eb36a11": {
      "model_module": "@jupyter-widgets/controls",
      "model_module_version": "1.5.0",
      "model_name": "DescriptionStyleModel",
      "state": {
       "description_width": ""
      }
     },
     "34a74ab4724b44c1b981f77ea94bf270": {
      "model_module": "jupyter-leaflet",
      "model_module_version": "^0.17.0",
      "model_name": "LeafletTileLayerModel",
      "state": {
       "_model_module_version": "^0.17.0",
       "_view_module_version": "^0.17.0",
       "attribution": "Geoportail France",
       "max_zoom": 19,
       "name": "GeoportailFrance.orthos",
       "options": [
        "attribution",
        "bounds",
        "detect_retina",
        "max_native_zoom",
        "max_zoom",
        "min_native_zoom",
        "min_zoom",
        "no_wrap",
        "tile_size",
        "tms"
       ],
       "url": "https://wxs.ign.fr/choisirgeoportail/geoportail/wmts?REQUEST=GetTile&SERVICE=WMTS&VERSION=1.0.0&STYLE=normal&TILEMATRIXSET=PM&FORMAT=image/jpeg&LAYER=ORTHOIMAGERY.ORTHOPHOTOS&TILEMATRIX={z}&TILEROW={y}&TILECOL={x}"
      }
     },
     "3514842764c94635b318ba463ab3ea6d": {
      "model_module": "jupyter-leaflet",
      "model_module_version": "^0.17.0",
      "model_name": "LeafletAttributionControlModel",
      "state": {
       "_model_module_version": "^0.17.0",
       "_view_module_version": "^0.17.0",
       "options": [
        "position",
        "prefix"
       ],
       "position": "bottomright",
       "prefix": "ipyleaflet"
      }
     },
     "352a9988803742e1b6ef44b63de3231d": {
      "model_module": "jupyter-leaflet",
      "model_module_version": "^0.17.0",
      "model_name": "LeafletFullScreenControlModel",
      "state": {
       "_model_module_version": "^0.17.0",
       "_view_module_version": "^0.17.0",
       "options": [
        "position"
       ]
      }
     },
     "356c4d5d44a3419fb4e5fee820f573d0": {
      "model_module": "@jupyter-widgets/controls",
      "model_module_version": "1.5.0",
      "model_name": "ToggleButtonModel",
      "state": {
       "button_style": "primary",
       "icon": "line-chart",
       "layout": "IPY_MODEL_193154d422d842d6a2d109b9c542db19",
       "style": "IPY_MODEL_13243667b0aa4432841ee45e32d8b97f",
       "tooltip": "Creating and plotting transects"
      }
     },
     "35a9c805033b412f8950bfb339137866": {
      "model_module": "@jupyter-widgets/output",
      "model_module_version": "1.0.0",
      "model_name": "OutputModel",
      "state": {
       "layout": "IPY_MODEL_e982ce044ec545df8b35f3dd1b6234d1"
      }
     },
     "35ab8b7949854175b142f152697a769a": {
      "model_module": "@jupyter-widgets/base",
      "model_module_version": "1.2.0",
      "model_name": "LayoutModel",
      "state": {
       "grid_area": "dircontent",
       "width": "auto"
      }
     },
     "35ae3a7d82b64bd5adeb790b4fd214f7": {
      "model_module": "@jupyter-widgets/controls",
      "model_module_version": "1.5.0",
      "model_name": "DescriptionStyleModel",
      "state": {
       "description_width": ""
      }
     },
     "35bd8b0de0514de796664f7bb77c85bd": {
      "model_module": "jupyter-leaflet",
      "model_module_version": "^0.17.0",
      "model_name": "LeafletTileLayerModel",
      "state": {
       "_model_module_version": "^0.17.0",
       "_view_module_version": "^0.17.0",
       "attribution": "Datenquelle: basemap.at",
       "max_zoom": 19,
       "name": "BasemapAT.grau",
       "options": [
        "attribution",
        "bounds",
        "detect_retina",
        "max_native_zoom",
        "max_zoom",
        "min_native_zoom",
        "min_zoom",
        "no_wrap",
        "tile_size",
        "tms"
       ],
       "url": "https://maps.wien.gv.at/basemap/bmapgrau/normal/google3857/{z}/{y}/{x}.png"
      }
     },
     "35fc6dc0ac704c7d9fb30404e1b86fd2": {
      "model_module": "jupyter-leaflet",
      "model_module_version": "^0.17.0",
      "model_name": "LeafletTileLayerModel",
      "state": {
       "_model_module_version": "^0.17.0",
       "_view_module_version": "^0.17.0",
       "attribution": "(C) OpenStreetMap France | (C) OpenStreetMap contributors",
       "max_zoom": 20,
       "name": "OpenStreetMap.France",
       "options": [
        "attribution",
        "bounds",
        "detect_retina",
        "max_native_zoom",
        "max_zoom",
        "min_native_zoom",
        "min_zoom",
        "no_wrap",
        "tile_size",
        "tms"
       ],
       "url": "https://a.tile.openstreetmap.fr/osmfr/{z}/{x}/{y}.png"
      }
     },
     "360532310c5747139c05174dd5c21ca9": {
      "model_module": "@jupyter-widgets/controls",
      "model_module_version": "1.5.0",
      "model_name": "LabelModel",
      "state": {
       "layout": "IPY_MODEL_1cdcc5d75afb4834adba4fba85e5d320",
       "style": "IPY_MODEL_fcb7b57492a548c292192075fff7ab13",
       "value": "Expand   "
      }
     },
     "362c049a5b12444da78ca765770794ec": {
      "model_module": "@jupyter-widgets/controls",
      "model_module_version": "1.5.0",
      "model_name": "VBoxModel",
      "state": {
       "children": [
        "IPY_MODEL_61fcfc28b9cc4cceb579d5c27614f19f",
        "IPY_MODEL_fddc3198db89413bba6894faa1544db1"
       ],
       "layout": "IPY_MODEL_53dc0be420384defb8978375e5c5bb8a"
      }
     },
     "3640fc06ca234f56a40849b3425d989d": {
      "model_module": "@jupyter-widgets/controls",
      "model_module_version": "1.5.0",
      "model_name": "DescriptionStyleModel",
      "state": {
       "description_width": ""
      }
     },
     "369212def6cf484b897c979bea1cd56a": {
      "model_module": "@jupyter-widgets/base",
      "model_module_version": "1.2.0",
      "model_name": "LayoutModel",
      "state": {}
     },
     "36deb46eab814f1ab4c5b0868d04b0ed": {
      "model_module": "@jupyter-widgets/controls",
      "model_module_version": "1.5.0",
      "model_name": "HBoxModel",
      "state": {
       "children": [
        "IPY_MODEL_606dc114147646dea9b868bd872510b3",
        "IPY_MODEL_9c00d58467dd4c44ac4257d11b55f29f",
        "IPY_MODEL_32d9d37972b24902bdada487ef702116",
        "IPY_MODEL_e3a997b8a8314d189f060f5c16af4d3a",
        "IPY_MODEL_627532c671404a24bfb3c7c0c2a63fbc"
       ],
       "layout": "IPY_MODEL_f2f7b0436763467f8c60df30a5748a71"
      }
     },
     "372d997cf2da4b939cde1616561b9312": {
      "model_module": "@jupyter-widgets/base",
      "model_module_version": "1.2.0",
      "model_name": "LayoutModel",
      "state": {
       "height": "auto",
       "padding": "0px 0px 0px 4px",
       "width": "auto"
      }
     },
     "376e96aefa35451e9e7f123e8eba4cb0": {
      "model_module": "@jupyter-widgets/controls",
      "model_module_version": "1.5.0",
      "model_name": "DescriptionStyleModel",
      "state": {
       "description_width": ""
      }
     },
     "37af4ccabcf4468b8b6f701eac5a1047": {
      "model_module": "jupyter-leaflet",
      "model_module_version": "^0.17.0",
      "model_name": "LeafletTileLayerModel",
      "state": {
       "_model_module_version": "^0.17.0",
       "_view_module_version": "^0.17.0",
       "attribution": "(C) OpenStreetMap contributors",
       "name": "OpenStreetMap.BlackAndWhite",
       "options": [
        "attribution",
        "bounds",
        "detect_retina",
        "max_native_zoom",
        "max_zoom",
        "min_native_zoom",
        "min_zoom",
        "no_wrap",
        "tile_size",
        "tms"
       ],
       "url": "http://a.tiles.wmflabs.org/bw-mapnik/{z}/{x}/{y}.png"
      }
     },
     "37d5035bbb7e4afd99960155b355862b": {
      "model_module": "jupyter-leaflet",
      "model_module_version": "^0.17.0",
      "model_name": "LeafletTileLayerModel",
      "state": {
       "_model_module_version": "^0.17.0",
       "_view_module_version": "^0.17.0",
       "attribution": "Tiles courtesy of the U.S. Geological Survey",
       "max_zoom": 20,
       "name": "USGS.USTopo",
       "options": [
        "attribution",
        "bounds",
        "detect_retina",
        "max_native_zoom",
        "max_zoom",
        "min_native_zoom",
        "min_zoom",
        "no_wrap",
        "tile_size",
        "tms"
       ],
       "url": "https://basemap.nationalmap.gov/arcgis/rest/services/USGSTopo/MapServer/tile/{z}/{y}/{x}"
      }
     },
     "382c375553e04950b0f15571337ad8c3": {
      "model_module": "@jupyter-widgets/base",
      "model_module_version": "1.2.0",
      "model_name": "LayoutModel",
      "state": {
       "border": "1px solid black",
       "max_height": "530px",
       "max_width": "600px",
       "overflow": "auto"
      }
     },
     "38c5c5aac13743fcb2fe703a681bde15": {
      "model_module": "@jupyter-widgets/base",
      "model_module_version": "1.2.0",
      "model_name": "LayoutModel",
      "state": {
       "height": "auto",
       "padding": "0px 0px 0px 4px",
       "width": "auto"
      }
     },
     "3933faca62b244fca4dfb3a5d8ab7aa3": {
      "model_module": "@jupyter-widgets/base",
      "model_module_version": "1.2.0",
      "model_name": "LayoutModel",
      "state": {
       "height": "auto",
       "padding": "0px 0px 0px 4px",
       "width": "auto"
      }
     },
     "39558c6eb04e4795bc0c9dde54b8d035": {
      "model_module": "@jupyter-widgets/controls",
      "model_module_version": "1.5.0",
      "model_name": "HTMLModel",
      "state": {
       "layout": "IPY_MODEL_a0e7f1e9a3744f31bf4a7a97890f0ab6",
       "style": "IPY_MODEL_8c11eaf0ec85435190546cc803cdb1ee"
      }
     },
     "3962013ad11e4a1a91e4f4491189b0df": {
      "model_module": "@jupyter-widgets/controls",
      "model_module_version": "1.5.0",
      "model_name": "DescriptionStyleModel",
      "state": {
       "description_width": ""
      }
     },
     "39aedda7ccc04e888c9f3d27c50591ad": {
      "model_module": "jupyter-leaflet",
      "model_module_version": "^0.17.0",
      "model_name": "LeafletWidgetControlModel",
      "state": {
       "_model_module": "jupyter-leaflet",
       "_model_module_version": "^0.17.0",
       "_view_count": null,
       "_view_module": "jupyter-leaflet",
       "_view_module_version": "^0.17.0",
       "options": [
        "position",
        "transparent_bg"
       ],
       "position": "topright",
       "widget": "IPY_MODEL_b6a4d41b5e434a05a2d2ae51366ef9ba"
      }
     },
     "3a2f0e49ebd54925b343b40feca5d0a6": {
      "model_module": "jupyter-leaflet",
      "model_module_version": "^0.17.0",
      "model_name": "LeafletTileLayerModel",
      "state": {
       "_model_module_version": "^0.17.0",
       "_view_module_version": "^0.17.0",
       "attribution": "![](https://docs.onemap.sg/maps/images/oneMap64-01.png) New OneMap | Map data (C) contributors, Singapore Land Authority",
       "name": "OneMapSG.Default",
       "options": [
        "attribution",
        "bounds",
        "detect_retina",
        "max_native_zoom",
        "max_zoom",
        "min_native_zoom",
        "min_zoom",
        "no_wrap",
        "tile_size",
        "tms"
       ],
       "url": "https://maps-a.onemap.sg/v3/Default/{z}/{x}/{y}.png"
      }
     },
     "3a501b9c5a094c44a60277fc1af9d8b0": {
      "model_module": "@jupyter-widgets/base",
      "model_module_version": "1.2.0",
      "model_name": "LayoutModel",
      "state": {
       "height": "auto",
       "padding": "0px 0px 0px 4px",
       "width": "auto"
      }
     },
     "3a7262fcf7294f7e99a06d134cded9e3": {
      "model_module": "jupyter-leaflet",
      "model_module_version": "^0.17.0",
      "model_name": "LeafletTileLayerModel",
      "state": {
       "_model_module_version": "^0.17.0",
       "_view_module_version": "^0.17.0",
       "attribution": "(C) OpenStreetMap contributors (C) CARTO",
       "max_zoom": 20,
       "name": "CartoDB.PositronNoLabels",
       "options": [
        "attribution",
        "bounds",
        "detect_retina",
        "max_native_zoom",
        "max_zoom",
        "min_native_zoom",
        "min_zoom",
        "no_wrap",
        "tile_size",
        "tms"
       ],
       "url": "https://a.basemaps.cartocdn.com/light_nolabels/{z}/{x}/{y}.png"
      }
     },
     "3aa91c1171f44022ade98e28b92fd9ea": {
      "model_module": "@jupyter-widgets/controls",
      "model_module_version": "1.5.0",
      "model_name": "ToggleButtonModel",
      "state": {
       "button_style": "primary",
       "icon": "adjust",
       "layout": "IPY_MODEL_d707933a767d4f01a409691920d02c6c",
       "style": "IPY_MODEL_c4e5145a6a2c40059b3d10f0c76028f8",
       "tooltip": "Planet imagery"
      }
     },
     "3ad0a621ce314bfc8604f02491cf5b6f": {
      "model_module": "@jupyter-widgets/controls",
      "model_module_version": "1.5.0",
      "model_name": "CheckboxModel",
      "state": {
       "description": "Objects",
       "disabled": false,
       "indent": false,
       "layout": "IPY_MODEL_e9206725e2174ee681c3aa54e9ea4df0",
       "style": "IPY_MODEL_30a46a78c1c44d0f9cc4d5c5f00f5e98",
       "value": false
      }
     },
     "3b04ce1ddec446fcb5649714db763dd0": {
      "model_module": "@jupyter-widgets/controls",
      "model_module_version": "1.5.0",
      "model_name": "ButtonStyleModel",
      "state": {}
     },
     "3b0db13ab3d148a4823e495d1c7e7823": {
      "model_module": "jupyter-leaflet",
      "model_module_version": "^0.17.0",
      "model_name": "LeafletTileLayerModel",
      "state": {
       "_model_module_version": "^0.17.0",
       "_view_module_version": "^0.17.0",
       "attribution": "Tiles &copy; Esri &mdash; Esri, DeLorme, NAVTEQ, TomTom, Intermap, iPC, USGS, FAO, NPS, NRCAN, GeoBase, Kadaster NL, Ordnance Survey, Esri Japan, METI, Esri China (Hong Kong), and the GIS User Community",
       "max_zoom": 24,
       "name": "Esri.ArcticOceanReference",
       "options": [
        "attribution",
        "bounds",
        "detect_retina",
        "max_native_zoom",
        "max_zoom",
        "min_native_zoom",
        "min_zoom",
        "no_wrap",
        "tile_size",
        "tms"
       ],
       "url": "http://server.arcgisonline.com/ArcGIS/rest/services/Polar/Arctic_Ocean_Reference/MapServer/tile/{z}/{y}/{x}"
      }
     },
     "3b0f6f1d5d1f4017b179ae93fbe7e925": {
      "model_module": "@jupyter-widgets/base",
      "model_module_version": "1.2.0",
      "model_name": "LayoutModel",
      "state": {
       "max_height": "350px",
       "max_width": "340px",
       "overflow": "scroll"
      }
     },
     "3b7f89b9da87426aa1db639f5e97cbae": {
      "model_module": "@jupyter-widgets/base",
      "model_module_version": "1.2.0",
      "model_name": "LayoutModel",
      "state": {}
     },
     "3bde30135cb34d1ea83787d9777bcb9c": {
      "model_module": "jupyter-leaflet",
      "model_module_version": "^0.17.0",
      "model_name": "LeafletWMSLayerModel",
      "state": {
       "_model_module_version": "^0.17.0",
       "_view_module_version": "^0.17.0",
       "attribution": "ESA",
       "crs": {
        "custom": false,
        "name": "EPSG3857"
       },
       "format": "image/png",
       "layers": "WORLDCOVER_2020_S2_FCC",
       "name": "ESA Worldcover 2020 S2 FCC",
       "options": [
        "attribution",
        "bounds",
        "detect_retina",
        "format",
        "layers",
        "max_native_zoom",
        "max_zoom",
        "min_native_zoom",
        "min_zoom",
        "no_wrap",
        "styles",
        "tile_size",
        "tms",
        "transparent",
        "uppercase"
       ],
       "transparent": true,
       "url": "https://services.terrascope.be/wms/v2"
      }
     },
     "3beb6447e626468d94976bb6cf9f19b1": {
      "model_module": "@jupyter-widgets/base",
      "model_module_version": "1.2.0",
      "model_name": "LayoutModel",
      "state": {}
     },
     "3c0ba8d0abb94bc3b21326182fd888dd": {
      "model_module": "@jupyter-widgets/base",
      "model_module_version": "1.2.0",
      "model_name": "LayoutModel",
      "state": {}
     },
     "3c723edb5fe24bf08d5295d91e6d2bea": {
      "model_module": "@jupyter-widgets/base",
      "model_module_version": "1.2.0",
      "model_name": "LayoutModel",
      "state": {
       "height": "auto",
       "padding": "0px 0px 0px 4px",
       "width": "auto"
      }
     },
     "3c939a96de8b444fbce5a9fa3c54e965": {
      "model_module": "jupyter-leaflet",
      "model_module_version": "^0.17.0",
      "model_name": "LeafletAwesomeIconModel",
      "state": {
       "_model_module_version": "^0.17.0",
       "_view_module_version": "^0.17.0",
       "icon_color": "darkgreen",
       "marker_color": "green",
       "name": "check"
      }
     },
     "3d33d459569b497aab1a64313911e3e2": {
      "model_module": "@jupyter-widgets/controls",
      "model_module_version": "1.5.0",
      "model_name": "GridBoxModel",
      "state": {
       "children": [
        "IPY_MODEL_53581ea5c13844aebba509b26c9e747b",
        "IPY_MODEL_ff9ef10b7e104785a76b96b853be8535",
        "IPY_MODEL_e0857fea8f874922ba10b45f5cd9bbab"
       ],
       "layout": "IPY_MODEL_47040f084e3148c5afd08559c5526793"
      }
     },
     "3d44cf7355664049b43b933c038aa8ef": {
      "model_module": "jupyter-leaflet",
      "model_module_version": "^0.17.0",
      "model_name": "LeafletTileLayerModel",
      "state": {
       "_model_module_version": "^0.17.0",
       "_view_module_version": "^0.17.0",
       "attribution": "Map tiles by Stamen Design, CC BY 3.0 -- Map data (C) OpenStreetMap contributors",
       "name": "Stamen.TerrainLabels",
       "options": [
        "attribution",
        "bounds",
        "detect_retina",
        "max_native_zoom",
        "max_zoom",
        "min_native_zoom",
        "min_zoom",
        "no_wrap",
        "tile_size",
        "tms"
       ],
       "url": "https://stamen-tiles-a.a.ssl.fastly.net/terrain-labels/{z}/{x}/{y}.png"
      }
     },
     "3d80507b15904829907a379254ffef9b": {
      "model_module": "@jupyter-widgets/controls",
      "model_module_version": "1.5.0",
      "model_name": "ButtonModel",
      "state": {
       "description": "Select",
       "layout": "IPY_MODEL_938e6877b4dc439c9e29c0768c9e32c3",
       "style": "IPY_MODEL_73a6b6cde75a42e6bbf6274e603a8451"
      }
     },
     "3e2a0f230ec047b4a9b0f36e365f80b1": {
      "model_module": "@jupyter-widgets/base",
      "model_module_version": "1.2.0",
      "model_name": "LayoutModel",
      "state": {}
     },
     "3e4866892a3442199c1de905ab507add": {
      "model_module": "@jupyter-widgets/base",
      "model_module_version": "1.2.0",
      "model_name": "LayoutModel",
      "state": {}
     },
     "3e522ffd8ca54109a7b22fe1aaa1af8c": {
      "model_module": "@jupyter-widgets/base",
      "model_module_version": "1.2.0",
      "model_name": "LayoutModel",
      "state": {
       "height": "auto",
       "padding": "0px 0px 0px 4px",
       "width": "auto"
      }
     },
     "3e92c54e20024e7584817636eb5c4ac6": {
      "model_module": "jupyter-leaflet",
      "model_module_version": "^0.17.0",
      "model_name": "LeafletDrawControlModel",
      "state": {
       "_model_module_version": "^0.17.0",
       "_view_module_version": "^0.17.0",
       "circle": {
        "shapeOptions": {
         "color": "#3388ff"
        }
       },
       "marker": {
        "shapeOptions": {
         "color": "#3388ff"
        }
       },
       "options": [
        "position"
       ],
       "rectangle": {
        "shapeOptions": {
         "color": "#3388ff"
        }
       }
      }
     },
     "3e992ce87fc84fe5b7fc027041085a42": {
      "model_module": "jupyter-leaflet",
      "model_module_version": "^0.17.0",
      "model_name": "LeafletTileLayerModel",
      "state": {
       "_model_module_version": "^0.17.0",
       "_view_module_version": "^0.17.0",
       "attribution": "Tiles courtesy of the U.S. Geological Survey",
       "max_zoom": 20,
       "name": "USGS.USImagery",
       "options": [
        "attribution",
        "bounds",
        "detect_retina",
        "max_native_zoom",
        "max_zoom",
        "min_native_zoom",
        "min_zoom",
        "no_wrap",
        "tile_size",
        "tms"
       ],
       "url": "https://basemap.nationalmap.gov/arcgis/rest/services/USGSImageryOnly/MapServer/tile/{z}/{y}/{x}"
      }
     },
     "3ea21823d4e44c37bdff1c2fe26475fa": {
      "model_module": "@jupyter-widgets/controls",
      "model_module_version": "1.5.0",
      "model_name": "GridBoxModel",
      "state": {
       "children": [
        "IPY_MODEL_d7a5f99a13d04e809ec452b8171c70c6",
        "IPY_MODEL_59bf59651dde442a8db1702a6cf5e9c3",
        "IPY_MODEL_16986441c3d64c8c97a608ff6a88966e"
       ],
       "layout": "IPY_MODEL_546f994eb67a4ec5a74929ab75103df2"
      }
     },
     "3eaf86033a6a4430bbde5e81e024d42f": {
      "model_module": "jupyter-leaflet",
      "model_module_version": "^0.17.0",
      "model_name": "LeafletTileLayerModel",
      "state": {
       "_model_module_version": "^0.17.0",
       "_view_module_version": "^0.17.0",
       "attribution": "Map data: (C) OpenSeaMap contributors",
       "max_zoom": 22,
       "name": "OpenSeaMap",
       "options": [
        "attribution",
        "bounds",
        "detect_retina",
        "max_native_zoom",
        "max_zoom",
        "min_native_zoom",
        "min_zoom",
        "no_wrap",
        "tile_size",
        "tms"
       ],
       "url": "https://tiles.openseamap.org/seamark/{z}/{x}/{y}.png"
      }
     },
     "3ef7c132cb9641b4bffa7a9e80574631": {
      "model_module": "@jupyter-widgets/output",
      "model_module_version": "1.0.0",
      "model_name": "OutputModel",
      "state": {
       "layout": "IPY_MODEL_3c0ba8d0abb94bc3b21326182fd888dd"
      }
     },
     "3efc8c89879f453896b82a01816779fc": {
      "model_module": "@jupyter-widgets/controls",
      "model_module_version": "1.5.0",
      "model_name": "ToggleButtonModel",
      "state": {
       "button_style": "primary",
       "icon": "bar-chart",
       "layout": "IPY_MODEL_dfb33ee124ff4c0f9c673fcabf762848",
       "style": "IPY_MODEL_0123e23495104671862a5b3f9f774843",
       "tooltip": "Plotting"
      }
     },
     "3f0695a877d04d5eae9f470d2eb6b6ca": {
      "model_module": "@jupyter-widgets/base",
      "model_module_version": "1.2.0",
      "model_name": "LayoutModel",
      "state": {
       "height": "auto",
       "padding": "0px 0px 0px 4px",
       "width": "auto"
      }
     },
     "3f7085893b0447af86c46efc92a10edf": {
      "model_module": "@jupyter-widgets/controls",
      "model_module_version": "1.5.0",
      "model_name": "DescriptionStyleModel",
      "state": {
       "description_width": ""
      }
     },
     "4009d08df80c4535aa58cbecfcedcac0": {
      "model_module": "@jupyter-widgets/controls",
      "model_module_version": "1.5.0",
      "model_name": "ToggleButtonModel",
      "state": {
       "button_style": "primary",
       "icon": "random",
       "layout": "IPY_MODEL_dc7b0c9e66474fd38ad07906415edacd",
       "style": "IPY_MODEL_fa104b7773624a0f8f5e594886c9f210",
       "tooltip": "Sankey plots"
      }
     },
     "40472d46a4084c588b448244645314c8": {
      "model_module": "jupyter-leaflet",
      "model_module_version": "^0.17.0",
      "model_name": "LeafletSearchControlModel",
      "state": {
       "_model_module_version": "^0.17.0",
       "_view_module_version": "^0.17.0",
       "marker": "IPY_MODEL_6b68ba4875df4e928fdcd31e5d1dc396",
       "options": [
        "animate_location",
        "auto_collapse",
        "auto_type",
        "found_style",
        "jsonp_param",
        "position",
        "property_loc",
        "property_name",
        "url",
        "zoom"
       ],
       "url": "https://nominatim.openstreetmap.org/search?format=json&q={s}",
       "zoom": 5
      }
     },
     "407969305ad54789935295c73dc450d7": {
      "model_module": "@jupyter-widgets/controls",
      "model_module_version": "1.5.0",
      "model_name": "DescriptionStyleModel",
      "state": {
       "description_width": ""
      }
     },
     "40b1946d57b740ef9e779a5309e21211": {
      "model_module": "jupyter-leaflet",
      "model_module_version": "^0.17.0",
      "model_name": "LeafletTileLayerModel",
      "state": {
       "_model_module_version": "^0.17.0",
       "_view_module_version": "^0.17.0",
       "attribution": "Imagery provided by services from the Global Imagery Browse Services (GIBS), operated by the NASA/GSFC/Earth Science Data and Information System (ESDIS) with funding provided by NASA/HQ.",
       "max_zoom": 9,
       "name": "NASAGIBS.ModisTerraBands721CR",
       "options": [
        "attribution",
        "bounds",
        "detect_retina",
        "max_native_zoom",
        "max_zoom",
        "min_native_zoom",
        "min_zoom",
        "no_wrap",
        "tile_size",
        "tms"
       ],
       "url": "https://gibs.earthdata.nasa.gov/wmts/epsg3857/best/MODIS_Terra_CorrectedReflectance_Bands721/default//GoogleMapsCompatible_Level9/{z}/{y}/{x}.jpg"
      }
     },
     "40bdc74b70b64664af0515e415a6b67a": {
      "model_module": "@jupyter-widgets/controls",
      "model_module_version": "1.5.0",
      "model_name": "DescriptionStyleModel",
      "state": {
       "description_width": ""
      }
     },
     "415d1bda8e7649378f0329b70963eaf4": {
      "model_module": "jupyter-leaflet",
      "model_module_version": "^0.17.0",
      "model_name": "LeafletTileLayerModel",
      "state": {
       "_model_module_version": "^0.17.0",
       "_view_module_version": "^0.17.0",
       "attribution": "(C) OpenStreetMap contributors (C) CARTO",
       "max_zoom": 20,
       "name": "CartoDB.DarkMatterNoLabels",
       "options": [
        "attribution",
        "bounds",
        "detect_retina",
        "max_native_zoom",
        "max_zoom",
        "min_native_zoom",
        "min_zoom",
        "no_wrap",
        "tile_size",
        "tms"
       ],
       "url": "https://a.basemaps.cartocdn.com/dark_nolabels/{z}/{x}/{y}.png"
      }
     },
     "41dbd4e51ea94bf999fb810d87631f9a": {
      "model_module": "@jupyter-widgets/base",
      "model_module_version": "1.2.0",
      "model_name": "LayoutModel",
      "state": {
       "grid_area": "dircontent",
       "width": "auto"
      }
     },
     "42f7de0815454ac5b26140a06f0547a8": {
      "model_module": "jupyter-leaflet",
      "model_module_version": "^0.17.0",
      "model_name": "LeafletTileLayerModel",
      "state": {
       "_model_module_version": "^0.17.0",
       "_view_module_version": "^0.17.0",
       "attribution": "Map memomaps.de CC-BY-SA, map data (C) OpenStreetMap contributors",
       "name": "OPNVKarte",
       "options": [
        "attribution",
        "bounds",
        "detect_retina",
        "max_native_zoom",
        "max_zoom",
        "min_native_zoom",
        "min_zoom",
        "no_wrap",
        "tile_size",
        "tms"
       ],
       "url": "https://tileserver.memomaps.de/tilegen/{z}/{x}/{y}.png"
      }
     },
     "43425585b0374a459ace1203e63fa6d7": {
      "model_module": "@jupyter-widgets/controls",
      "model_module_version": "1.5.0",
      "model_name": "VBoxModel",
      "state": {
       "children": [
        "IPY_MODEL_db43f2fe86934c08809d3ad69cb3bea8",
        "IPY_MODEL_3ea21823d4e44c37bdff1c2fe26475fa",
        "IPY_MODEL_8cee93decd314cf8ab25b528b5fc533b"
       ],
       "layout": "IPY_MODEL_ed4902410b7c4fe0811a2836aa65d1a5"
      }
     },
     "43490ccbd6ad4d10929d13931db5f103": {
      "model_module": "@jupyter-widgets/base",
      "model_module_version": "1.2.0",
      "model_name": "LayoutModel",
      "state": {
       "overflow": "auto"
      }
     },
     "434b1d10b33c4c6eb8bab76dd56a9b1f": {
      "model_module": "@jupyter-widgets/controls",
      "model_module_version": "1.5.0",
      "model_name": "DescriptionStyleModel",
      "state": {
       "description_width": ""
      }
     },
     "43a7df51482046389a835cf74ea07435": {
      "model_module": "jupyter-leaflet",
      "model_module_version": "^0.17.0",
      "model_name": "LeafletTileLayerModel",
      "state": {
       "_model_module_version": "^0.17.0",
       "_view_module_version": "^0.17.0",
       "attribution": "(C) OpenStreetMap contributors",
       "max_zoom": 19,
       "name": "HikeBike.HikeBike",
       "options": [
        "attribution",
        "bounds",
        "detect_retina",
        "max_native_zoom",
        "max_zoom",
        "min_native_zoom",
        "min_zoom",
        "no_wrap",
        "tile_size",
        "tms"
       ],
       "url": "https://tiles.wmflabs.org/hikebike/{z}/{x}/{y}.png"
      }
     },
     "4402c11812704f7a983398e350989e0f": {
      "model_module": "@jupyter-widgets/controls",
      "model_module_version": "1.5.0",
      "model_name": "CheckboxModel",
      "state": {
       "description": "Pixels",
       "disabled": false,
       "indent": false,
       "layout": "IPY_MODEL_f4ded60e8fbb472a99559a96f15a6fc1",
       "style": "IPY_MODEL_997b2486165148fba69ffb1d4363ee48",
       "value": true
      }
     },
     "440ff5b9c9b64752b79f7949a2704278": {
      "model_module": "@jupyter-widgets/controls",
      "model_module_version": "1.5.0",
      "model_name": "BoxModel",
      "state": {
       "children": [
        "IPY_MODEL_c3fefb5751af45299e7eda6c04baa5dc"
       ],
       "layout": "IPY_MODEL_1b5fa91c623448baa9ee7fb6f48d7fa7"
      }
     },
     "442d7415790e4e4fbc247f81f82573d4": {
      "model_module": "@jupyter-widgets/controls",
      "model_module_version": "1.5.0",
      "model_name": "ButtonStyleModel",
      "state": {}
     },
     "448d549fdf274267b18e4d47059d9750": {
      "model_module": "jupyter-leaflet",
      "model_module_version": "^0.17.0",
      "model_name": "LeafletWidgetControlModel",
      "state": {
       "_model_module": "jupyter-leaflet",
       "_model_module_version": "^0.17.0",
       "_view_count": null,
       "_view_module": "jupyter-leaflet",
       "_view_module_version": "^0.17.0",
       "options": [
        "position",
        "transparent_bg"
       ],
       "position": "topright",
       "widget": "IPY_MODEL_861d4cd19c234e3790aadd48a436fff0"
      }
     },
     "450c49432f2242678f0a574d4330f984": {
      "model_module": "@jupyter-widgets/controls",
      "model_module_version": "1.5.0",
      "model_name": "ToggleButtonsModel",
      "state": {
       "_options_labels": [
        "HTML",
        "PNG",
        "JPG"
       ],
       "button_style": "",
       "icons": [],
       "index": 0,
       "layout": "IPY_MODEL_7e76d840a2f84a069bc5adc97d3bbe66",
       "style": "IPY_MODEL_9740b8edf0b24e88a0993ea0b2eadd00",
       "tooltips": [
        "Save the map as an HTML file",
        "Take a screenshot and save as a PNG file",
        "Take a screenshot and save as a JPG file"
       ]
      }
     },
     "4532bfb5062f49359a3e291c68cd0f00": {
      "model_module": "@jupyter-widgets/base",
      "model_module_version": "1.2.0",
      "model_name": "LayoutModel",
      "state": {
       "height": "28px",
       "padding": "0px 0px 0px 4px",
       "width": "28px"
      }
     },
     "459a1339631f4e739f94e45469140884": {
      "model_module": "@jupyter-widgets/controls",
      "model_module_version": "1.5.0",
      "model_name": "ToggleButtonModel",
      "state": {
       "button_style": "primary",
       "icon": "gears",
       "layout": "IPY_MODEL_e91d2d03003a4ab690febeb7c873fc66",
       "style": "IPY_MODEL_1423902661a3423db7961f926f1d7905",
       "tooltip": "WhiteboxTools for local geoprocessing"
      }
     },
     "45f7efcc699f41a78ce71729116a3ff4": {
      "model_module": "jupyter-leaflet",
      "model_module_version": "^0.17.0",
      "model_name": "LeafletTileLayerModel",
      "state": {
       "_model_module_version": "^0.17.0",
       "_view_module_version": "^0.17.0",
       "attribution": "(C) OpenStreetMap contributors (C) CARTO",
       "max_zoom": 20,
       "name": "CartoDB.VoyagerNoLabels",
       "options": [
        "attribution",
        "bounds",
        "detect_retina",
        "max_native_zoom",
        "max_zoom",
        "min_native_zoom",
        "min_zoom",
        "no_wrap",
        "tile_size",
        "tms"
       ],
       "url": "https://a.basemaps.cartocdn.com/rastertiles/voyager_nolabels/{z}/{x}/{y}.png"
      }
     },
     "45f9fb07d2374c339d5ccbfbfbf83ebb": {
      "model_module": "jupyter-leaflet",
      "model_module_version": "^0.17.0",
      "model_name": "LeafletTileLayerModel",
      "state": {
       "_model_module_version": "^0.17.0",
       "_view_module_version": "^0.17.0",
       "attribution": "Map tiles by <a href=\"https://labs.strava.com/heatmap\">Strava 2021</a>",
       "max_zoom": 15,
       "name": "Strava.All",
       "options": [
        "attribution",
        "bounds",
        "detect_retina",
        "max_native_zoom",
        "max_zoom",
        "min_native_zoom",
        "min_zoom",
        "no_wrap",
        "tile_size",
        "tms"
       ],
       "url": "https://heatmap-external-a.strava.com/tiles/all/hot/{z}/{x}/{y}.png"
      }
     },
     "47040f084e3148c5afd08559c5526793": {
      "model_module": "@jupyter-widgets/base",
      "model_module_version": "1.2.0",
      "model_name": "LayoutModel",
      "state": {
       "display": "none",
       "grid_gap": "0px 0px",
       "grid_template_areas": "\n                    'pathlist filename'\n                    'dircontent dircontent'\n                    ",
       "grid_template_columns": "60% 40%",
       "grid_template_rows": "auto auto",
       "width": "auto"
      }
     },
     "471873ce8b8b4dd3bc9874a59116e836": {
      "model_module": "@jupyter-widgets/controls",
      "model_module_version": "1.5.0",
      "model_name": "HBoxModel",
      "state": {
       "children": [
        "IPY_MODEL_742448e424e94c32ae77e8b7859ee47b",
        "IPY_MODEL_8f7901ae32794851b28d40b4f0b3a4c1"
       ],
       "layout": "IPY_MODEL_fa679979207141efa77da45d70fee743"
      }
     },
     "473afd41d1c4434597e805b359bb9247": {
      "model_module": "@jupyter-widgets/controls",
      "model_module_version": "1.5.0",
      "model_name": "HTMLModel",
      "state": {
       "layout": "IPY_MODEL_f672617ccf3943fb9a5f383c2c41f7b9",
       "placeholder": "",
       "style": "IPY_MODEL_d52e6b2a612f4b81ba1798e019ad8c76",
       "value": "<span style=\"color:black;\">No selection</span>"
      }
     },
     "47913b899d0540329e9808455e950e6e": {
      "model_module": "@jupyter-widgets/controls",
      "model_module_version": "1.5.0",
      "model_name": "DescriptionStyleModel",
      "state": {
       "description_width": ""
      }
     },
     "47bf0b049473457e8b8d56d8120c0545": {
      "model_module": "@jupyter-widgets/controls",
      "model_module_version": "1.5.0",
      "model_name": "ButtonStyleModel",
      "state": {}
     },
     "47d718e113e54bbc8cffac7e6564e9fa": {
      "model_module": "jupyter-leaflet",
      "model_module_version": "^0.17.0",
      "model_name": "LeafletMeasureControlModel",
      "state": {
       "_model_module_version": "^0.17.0",
       "_view_module_version": "^0.17.0",
       "active_color": "orange",
       "options": [
        "active_color",
        "capture_z_index",
        "completed_color",
        "popup_options",
        "position",
        "primary_area_unit",
        "primary_length_unit",
        "secondary_area_unit",
        "secondary_length_unit"
       ],
       "position": "bottomleft",
       "primary_length_unit": "kilometers",
       "secondary_area_unit": null,
       "secondary_length_unit": null
      }
     },
     "488d37edede3421f9bfc36bf1b36ea2e": {
      "model_module": "@jupyter-widgets/controls",
      "model_module_version": "1.5.0",
      "model_name": "ToggleButtonModel",
      "state": {
       "button_style": "primary",
       "icon": "google",
       "layout": "IPY_MODEL_3c723edb5fe24bf08d5295d91e6d2bea",
       "style": "IPY_MODEL_04e39eda08cf4db39f3f62c4725e8232",
       "tooltip": "GEE Toolbox for cloud computing"
      }
     },
     "48929563aaad4069ad74028308fb173a": {
      "model_module": "@jupyter-widgets/controls",
      "model_module_version": "1.5.0",
      "model_name": "DescriptionStyleModel",
      "state": {
       "description_width": ""
      }
     },
     "48acf37abb0d44008dbaf180ea4d36ac": {
      "model_module": "jupyter-leaflet",
      "model_module_version": "^0.17.0",
      "model_name": "LeafletTileLayerModel",
      "state": {
       "_model_module_version": "^0.17.0",
       "_view_module_version": "^0.17.0",
       "attribution": "Tiles (C) Esri -- Esri, DeLorme, NAVTEQ, TomTom, Intermap, iPC, USGS, FAO, NPS, NRCAN, GeoBase, Kadaster NL, Ordnance Survey, Esri Japan, METI, Esri China (Hong Kong), and the GIS User Community",
       "max_zoom": 22,
       "name": "Esri.WorldTopoMap",
       "options": [
        "attribution",
        "bounds",
        "detect_retina",
        "max_native_zoom",
        "max_zoom",
        "min_native_zoom",
        "min_zoom",
        "no_wrap",
        "tile_size",
        "tms"
       ],
       "url": "https://server.arcgisonline.com/ArcGIS/rest/services/World_Topo_Map/MapServer/tile/{z}/{y}/{x}"
      }
     },
     "48ae7f12d7b24e4dafbf673d82a25d1e": {
      "model_module": "@jupyter-widgets/base",
      "model_module_version": "1.2.0",
      "model_name": "LayoutModel",
      "state": {
       "height": "28px",
       "width": "72px"
      }
     },
     "48e5ec31cfb1491f9b64f9168ee0368a": {
      "model_module": "jupyter-leaflet",
      "model_module_version": "^0.17.0",
      "model_name": "LeafletMarkerClusterModel",
      "state": {
       "_model_module_version": "^0.17.0",
       "_view_module_version": "^0.17.0",
       "disable_clustering_at_zoom": 18,
       "max_cluster_radius": 80,
       "name": "Marker Cluster",
       "options": [
        "disable_clustering_at_zoom",
        "max_cluster_radius"
       ]
      }
     },
     "4977e124281546c194b8bbc8eb763b52": {
      "model_module": "jupyter-leaflet",
      "model_module_version": "^0.17.0",
      "model_name": "LeafletAttributionControlModel",
      "state": {
       "_model_module_version": "^0.17.0",
       "_view_module_version": "^0.17.0",
       "options": [
        "position",
        "prefix"
       ],
       "position": "bottomright",
       "prefix": "ipyleaflet"
      }
     },
     "49983fbe745c4253acbbd52eed8a1ce9": {
      "model_module": "@jupyter-widgets/controls",
      "model_module_version": "1.5.0",
      "model_name": "ToggleButtonsStyleModel",
      "state": {
       "button_width": "110px",
       "description_width": ""
      }
     },
     "49b776be5f6a46618ee731ffb9d3b0df": {
      "model_module": "@jupyter-widgets/base",
      "model_module_version": "1.2.0",
      "model_name": "LayoutModel",
      "state": {
       "width": "70px"
      }
     },
     "4a64f2bfdfac4755be9bf366c0b8ab0f": {
      "model_module": "@jupyter-widgets/base",
      "model_module_version": "1.2.0",
      "model_name": "LayoutModel",
      "state": {
       "height": "600px"
      }
     },
     "4adfe99839b3477c80d4db79a04e43bf": {
      "model_module": "@jupyter-widgets/controls",
      "model_module_version": "1.5.0",
      "model_name": "DescriptionStyleModel",
      "state": {
       "description_width": ""
      }
     },
     "4b00440ccb05438e9c6b15856ee37b51": {
      "model_module": "@jupyter-widgets/controls",
      "model_module_version": "1.5.0",
      "model_name": "HTMLModel",
      "state": {
       "layout": "IPY_MODEL_fa56f8809efa4ca3b081ec97146125f5",
       "style": "IPY_MODEL_5b96952387fe4e438523578e5656a488"
      }
     },
     "4b01c2b79d1a4096a6bef38cfa595c87": {
      "model_module": "jupyter-leaflet",
      "model_module_version": "^0.17.0",
      "model_name": "LeafletTileLayerModel",
      "state": {
       "_model_module_version": "^0.17.0",
       "_view_module_version": "^0.17.0",
       "attribution": "Datenquelle: basemap.at",
       "max_zoom": 19,
       "name": "BasemapAT.highdpi",
       "options": [
        "attribution",
        "bounds",
        "detect_retina",
        "max_native_zoom",
        "max_zoom",
        "min_native_zoom",
        "min_zoom",
        "no_wrap",
        "tile_size",
        "tms"
       ],
       "url": "https://maps.wien.gv.at/basemap/bmaphidpi/normal/google3857/{z}/{y}/{x}.jpeg"
      }
     },
     "4b4847b3a5304e5e96924da731c19d2e": {
      "model_module": "@jupyter-widgets/base",
      "model_module_version": "1.2.0",
      "model_name": "LayoutModel",
      "state": {
       "max_width": "57px",
       "min_width": "57px"
      }
     },
     "4b63cbaefe5e440ca13824bb2b037dc6": {
      "model_module": "@jupyter-widgets/base",
      "model_module_version": "1.2.0",
      "model_name": "LayoutModel",
      "state": {
       "height": "auto",
       "padding": "0px 0px 0px 4px",
       "width": "auto"
      }
     },
     "4b93ce45f6b348f98e855d603a3d5ce1": {
      "model_module": "@jupyter-widgets/controls",
      "model_module_version": "1.5.0",
      "model_name": "DescriptionStyleModel",
      "state": {
       "description_width": ""
      }
     },
     "4bbeb30ecd0d4340a0a3971120e6ce17": {
      "model_module": "@jupyter-widgets/controls",
      "model_module_version": "1.5.0",
      "model_name": "DescriptionStyleModel",
      "state": {
       "description_width": ""
      }
     },
     "4bc576ca42304a9283eea65a3442eada": {
      "model_module": "@jupyter-widgets/base",
      "model_module_version": "1.2.0",
      "model_name": "LayoutModel",
      "state": {}
     },
     "4bfa46e8b82b4c2ea1cdacdc0c910a28": {
      "model_module": "jupyter-leaflet",
      "model_module_version": "^0.17.0",
      "model_name": "LeafletTileLayerModel",
      "state": {
       "_model_module_version": "^0.17.0",
       "_view_module_version": "^0.17.0",
       "attribution": "&copy; <a href=\"https://www.openstreetmap.org/copyright\">OpenStreetMap</a> contributors",
       "base": true,
       "max_zoom": 19,
       "min_zoom": 1,
       "name": "OpenStreetMap.Mapnik",
       "options": [
        "attribution",
        "bounds",
        "detect_retina",
        "max_native_zoom",
        "max_zoom",
        "min_native_zoom",
        "min_zoom",
        "no_wrap",
        "tile_size",
        "tms"
       ],
       "url": "https://a.tile.openstreetmap.org/{z}/{x}/{y}.png"
      }
     },
     "4c200163361848c79c16d278bd67b976": {
      "model_module": "@jupyter-widgets/base",
      "model_module_version": "1.2.0",
      "model_name": "LayoutModel",
      "state": {
       "display": "none"
      }
     },
     "4c36a5d3a1c14df3abb09c2a9208b241": {
      "model_module": "@jupyter-widgets/controls",
      "model_module_version": "1.5.0",
      "model_name": "HBoxModel",
      "state": {
       "children": [
        "IPY_MODEL_2a01bc68fc624c0a99fbe6816966dbea",
        "IPY_MODEL_c909234f876e4b78a3f749711da042d3",
        "IPY_MODEL_6f7aebfafe5242398ead96c018eae468",
        "IPY_MODEL_4402c11812704f7a983398e350989e0f",
        "IPY_MODEL_3ad0a621ce314bfc8604f02491cf5b6f"
       ],
       "layout": "IPY_MODEL_a1f803e6a2b44f468344927b4d52e5fc"
      }
     },
     "4c4f0b7f60e24e4e9fbf11d35c1c6963": {
      "model_module": "@jupyter-widgets/controls",
      "model_module_version": "1.5.0",
      "model_name": "ToggleButtonModel",
      "state": {
       "button_style": "primary",
       "icon": "map",
       "layout": "IPY_MODEL_3f0695a877d04d5eae9f470d2eb6b6ca",
       "style": "IPY_MODEL_cf1f0c0a29264c82936794c0f37ff049",
       "tooltip": "Change basemap"
      }
     },
     "4c6ba53781a74fed8dcda4b37884da6e": {
      "model_module": "jupyter-leaflet",
      "model_module_version": "^0.17.0",
      "model_name": "LeafletTileLayerModel",
      "state": {
       "_model_module_version": "^0.17.0",
       "_view_module_version": "^0.17.0",
       "attribution": "Justice Map",
       "max_zoom": 22,
       "name": "JusticeMap.plurality",
       "options": [
        "attribution",
        "bounds",
        "detect_retina",
        "max_native_zoom",
        "max_zoom",
        "min_native_zoom",
        "min_zoom",
        "no_wrap",
        "tile_size",
        "tms"
       ],
       "url": "https://www.justicemap.org/tile/county/plural/{z}/{x}/{y}.png"
      }
     },
     "4cad62ba96d54196843120574bdaba23": {
      "model_module": "@jupyter-widgets/base",
      "model_module_version": "1.2.0",
      "model_name": "LayoutModel",
      "state": {
       "width": "70px"
      }
     },
     "4cf10efaddeb42578a94f5e3f47e7bbd": {
      "model_module": "@jupyter-widgets/base",
      "model_module_version": "1.2.0",
      "model_name": "LayoutModel",
      "state": {
       "display": "none",
       "grid_gap": "0px 0px",
       "grid_template_areas": "\n                    'pathlist filename'\n                    'dircontent dircontent'\n                    ",
       "grid_template_columns": "60% 40%",
       "grid_template_rows": "auto auto",
       "width": "auto"
      }
     },
     "4d220d022ae04d0091f515f4c4d283fc": {
      "model_module": "@jupyter-widgets/controls",
      "model_module_version": "1.5.0",
      "model_name": "HBoxModel",
      "state": {
       "_view_count": 1,
       "children": [
        "IPY_MODEL_2016f5b77f9649d58ad117316f182121"
       ],
       "layout": "IPY_MODEL_31a4866ea99a4694bf2bb95bb8edaee9"
      }
     },
     "4d385113ea5847c6a18de81474c4fde1": {
      "model_module": "@jupyter-widgets/controls",
      "model_module_version": "1.5.0",
      "model_name": "VBoxModel",
      "state": {
       "children": [
        "IPY_MODEL_77e23a2b51db4f2db4cab0a473f7082d",
        "IPY_MODEL_43425585b0374a459ace1203e63fa6d7"
       ],
       "layout": "IPY_MODEL_56faabf81a95402fa616d7b7c05801ed"
      }
     },
     "4d8938fb6c0c4c1ca83619454f6de893": {
      "model_module": "@jupyter-widgets/base",
      "model_module_version": "1.2.0",
      "model_name": "LayoutModel",
      "state": {}
     },
     "4e0677d9b8d041dcb85efe6ea60b1e12": {
      "model_module": "@jupyter-widgets/base",
      "model_module_version": "1.2.0",
      "model_name": "LayoutModel",
      "state": {
       "padding": "0px 0px 0px 4px"
      }
     },
     "4f4c6835184c40e49ca7c4b0d21a604c": {
      "model_module": "@jupyter-widgets/base",
      "model_module_version": "1.2.0",
      "model_name": "LayoutModel",
      "state": {}
     },
     "4fdb3feee8b64753b4bac29065db482f": {
      "model_module": "@jupyter-widgets/controls",
      "model_module_version": "1.5.0",
      "model_name": "DescriptionStyleModel",
      "state": {
       "description_width": ""
      }
     },
     "4fdbd4bf4e084d0c9685f7d61390c7ac": {
      "model_module": "@jupyter-widgets/controls",
      "model_module_version": "1.5.0",
      "model_name": "ToggleButtonsStyleModel",
      "state": {
       "button_width": "",
       "description_width": ""
      }
     },
     "5004f79e730a4b9da5c252a295541a30": {
      "model_module": "@jupyter-widgets/controls",
      "model_module_version": "1.5.0",
      "model_name": "DescriptionStyleModel",
      "state": {
       "description_width": ""
      }
     },
     "5064fd7544ca452e942f5d4e2fa9de52": {
      "model_module": "@jupyter-widgets/controls",
      "model_module_version": "1.5.0",
      "model_name": "DescriptionStyleModel",
      "state": {
       "description_width": ""
      }
     },
     "5097fc9d2fcd46498e3955da6b5873ef": {
      "model_module": "@jupyter-widgets/base",
      "model_module_version": "1.2.0",
      "model_name": "LayoutModel",
      "state": {
       "height": "600px"
      }
     },
     "50cc9fdcc25441f1bfef9ef94af91b97": {
      "model_module": "@jupyter-widgets/base",
      "model_module_version": "1.2.0",
      "model_name": "LayoutModel",
      "state": {
       "height": "auto",
       "padding": "0px 0px 0px 4px",
       "width": "auto"
      }
     },
     "51915efd92124a7f9a8f785058274d71": {
      "model_module": "jupyter-leaflet",
      "model_module_version": "^0.17.0",
      "model_name": "LeafletTileLayerModel",
      "state": {
       "_model_module_version": "^0.17.0",
       "_view_module_version": "^0.17.0",
       "attribution": "(C) OpenStreetMap contributors (C) CARTO",
       "max_zoom": 20,
       "name": "CartoDB.PositronOnlyLabels",
       "options": [
        "attribution",
        "bounds",
        "detect_retina",
        "max_native_zoom",
        "max_zoom",
        "min_native_zoom",
        "min_zoom",
        "no_wrap",
        "tile_size",
        "tms"
       ],
       "url": "https://a.basemaps.cartocdn.com/light_only_labels/{z}/{x}/{y}.png"
      }
     },
     "51b8384e84bc4971ba021ec758b80c23": {
      "model_module": "@jupyter-widgets/base",
      "model_module_version": "1.2.0",
      "model_name": "LayoutModel",
      "state": {}
     },
     "521872c2e0934d96ae5426af66823fa7": {
      "model_module": "@jupyter-widgets/base",
      "model_module_version": "1.2.0",
      "model_name": "LayoutModel",
      "state": {
       "height": "auto",
       "padding": "0px 0px 0px 4px",
       "width": "auto"
      }
     },
     "5276ccf33c23457bb26a93e658c638c4": {
      "model_module": "@jupyter-widgets/controls",
      "model_module_version": "1.5.0",
      "model_name": "ToggleButtonModel",
      "state": {
       "icon": "server",
       "layout": "IPY_MODEL_8d5eee180444416fac29e93460036743",
       "style": "IPY_MODEL_f94553a61d04422b9c3381e9a5dae47c",
       "tooltip": "Layers"
      }
     },
     "52d74aac88524700a0e2911a7b17adf9": {
      "model_module": "@jupyter-widgets/base",
      "model_module_version": "1.2.0",
      "model_name": "LayoutModel",
      "state": {
       "height": "auto",
       "padding": "0px 0px 0px 4px",
       "width": "auto"
      }
     },
     "5308bfe39f2e45fcb677ab0b9eb3b9f4": {
      "model_module": "jupyter-leaflet",
      "model_module_version": "^0.17.0",
      "model_name": "LeafletMapStyleModel",
      "state": {
       "_model_module_version": "^0.17.0"
      }
     },
     "5315711b8d8b4821bcb7bcf7c2cb8585": {
      "model_module": "@jupyter-widgets/controls",
      "model_module_version": "1.5.0",
      "model_name": "DescriptionStyleModel",
      "state": {
       "description_width": ""
      }
     },
     "53581ea5c13844aebba509b26c9e747b": {
      "model_module": "@jupyter-widgets/controls",
      "model_module_version": "1.5.0",
      "model_name": "DropdownModel",
      "state": {
       "_options_labels": [
        "/home/jovyan/data/projects/Machine-Learning-Applications-in-Remote-Sensing-Data",
        "/home/jovyan/data/projects",
        "/home/jovyan/data",
        "/home/jovyan",
        "/home",
        "/"
       ],
       "index": 0,
       "layout": "IPY_MODEL_e3774fb97fd444269ec21ea99494084b",
       "style": "IPY_MODEL_8352db49bdd445d9b599a2d9b1554850"
      }
     },
     "5399dc543d8b485db048a6a2538a56c9": {
      "model_module": "@jupyter-widgets/controls",
      "model_module_version": "1.5.0",
      "model_name": "ToggleButtonModel",
      "state": {
       "button_style": "primary",
       "icon": "question",
       "layout": "IPY_MODEL_a63fdd435ff14287a36322c72b030632",
       "style": "IPY_MODEL_cfb3f61a42984594a6faf4e5d98f9da6",
       "tooltip": "Get help"
      }
     },
     "53dc0be420384defb8978375e5c5bb8a": {
      "model_module": "@jupyter-widgets/base",
      "model_module_version": "1.2.0",
      "model_name": "LayoutModel",
      "state": {}
     },
     "5417ca91754a47db8002b25a831a0a93": {
      "model_module": "jupyter-leaflet",
      "model_module_version": "^0.17.0",
      "model_name": "LeafletMapStyleModel",
      "state": {
       "_model_module_version": "^0.17.0"
      }
     },
     "5444742c59d94626ab763d77e0d3bb07": {
      "model_module": "@jupyter-widgets/controls",
      "model_module_version": "1.5.0",
      "model_name": "DescriptionStyleModel",
      "state": {
       "description_width": ""
      }
     },
     "54546fd03c47411cbe2df5a0fedfbb70": {
      "model_module": "jupyter-leaflet",
      "model_module_version": "^0.17.0",
      "model_name": "LeafletTileLayerModel",
      "state": {
       "_model_module_version": "^0.17.0",
       "_view_module_version": "^0.17.0",
       "attribution": "Imagery provided by services from the Global Imagery Browse Services (GIBS), operated by the NASA/GSFC/Earth Science Data and Information System (ESDIS) with funding provided by NASA/HQ.",
       "max_zoom": 12,
       "name": "NASAGIBS.ASTER_GDEM_Greyscale_Shaded_Relief",
       "options": [
        "attribution",
        "bounds",
        "detect_retina",
        "max_native_zoom",
        "max_zoom",
        "min_native_zoom",
        "min_zoom",
        "no_wrap",
        "tile_size",
        "tms"
       ],
       "url": "https://gibs.earthdata.nasa.gov/wmts/epsg3857/best/ASTER_GDEM_Greyscale_Shaded_Relief/default/GoogleMapsCompatible_Level12/{z}/{y}/{x}.jpg"
      }
     },
     "546f994eb67a4ec5a74929ab75103df2": {
      "model_module": "@jupyter-widgets/base",
      "model_module_version": "1.2.0",
      "model_name": "LayoutModel",
      "state": {
       "display": "none",
       "grid_gap": "0px 0px",
       "grid_template_areas": "\n                    'pathlist filename'\n                    'dircontent dircontent'\n                    ",
       "grid_template_columns": "60% 40%",
       "grid_template_rows": "auto auto",
       "width": "auto"
      }
     },
     "54d7d91558e942edacc9fd86b45455d1": {
      "model_module": "@jupyter-widgets/controls",
      "model_module_version": "1.5.0",
      "model_name": "DescriptionStyleModel",
      "state": {
       "description_width": ""
      }
     },
     "54fb87a287d04d249deb1dc7e53b412c": {
      "model_module": "@jupyter-widgets/base",
      "model_module_version": "1.2.0",
      "model_name": "LayoutModel",
      "state": {}
     },
     "554a7212110940f5a074c2bcde5b8b98": {
      "model_module": "jupyter-leaflet",
      "model_module_version": "^0.17.0",
      "model_name": "LeafletTileLayerModel",
      "state": {
       "_model_module_version": "^0.17.0",
       "_view_module_version": "^0.17.0",
       "attribution": "Imagery provided by services from the Global Imagery Browse Services (GIBS), operated by the NASA/GSFC/Earth Science Data and Information System (ESDIS) with funding provided by NASA/HQ.",
       "max_zoom": 5,
       "name": "NASAGIBS.BlueMarble3031",
       "options": [
        "attribution",
        "bounds",
        "detect_retina",
        "max_native_zoom",
        "max_zoom",
        "min_native_zoom",
        "min_zoom",
        "no_wrap",
        "tile_size",
        "tms"
       ],
       "url": "https://gibs.earthdata.nasa.gov/wmts/epsg3031/best/BlueMarble_NextGeneration/default/EPSG3031_500m/{z}/{y}/{x}.jpeg"
      }
     },
     "5565992c5f5947a2843306bf0889893d": {
      "model_module": "jupyter-leaflet",
      "model_module_version": "^0.17.0",
      "model_name": "LeafletSearchControlModel",
      "state": {
       "_model_module_version": "^0.17.0",
       "_view_module_version": "^0.17.0",
       "marker": "IPY_MODEL_f18a248688f3434a8bd5eaea6ca22f02",
       "options": [
        "animate_location",
        "auto_collapse",
        "auto_type",
        "found_style",
        "jsonp_param",
        "position",
        "property_loc",
        "property_name",
        "url",
        "zoom"
       ],
       "url": "https://nominatim.openstreetmap.org/search?format=json&q={s}",
       "zoom": 5
      }
     },
     "55ee3fbf72624f9b883f1f8f86425415": {
      "model_module": "jupyter-leaflet",
      "model_module_version": "^0.17.0",
      "model_name": "LeafletTileLayerModel",
      "state": {
       "_model_module_version": "^0.17.0",
       "_view_module_version": "^0.17.0",
       "attribution": "Imagery provided by services from the Global Imagery Browse Services (GIBS), operated by the NASA/GSFC/Earth Science Data and Information System (ESDIS) with funding provided by NASA/HQ.",
       "max_zoom": 7,
       "name": "NASAGIBS.ModisTerraLSTDay",
       "options": [
        "attribution",
        "bounds",
        "detect_retina",
        "max_native_zoom",
        "max_zoom",
        "min_native_zoom",
        "min_zoom",
        "no_wrap",
        "tile_size",
        "tms"
       ],
       "url": "https://map1.vis.earthdata.nasa.gov/wmts-webmerc/MODIS_Terra_Land_Surface_Temp_Day/default//GoogleMapsCompatible_Level7/{z}/{y}/{x}.png"
      }
     },
     "56faabf81a95402fa616d7b7c05801ed": {
      "model_module": "@jupyter-widgets/base",
      "model_module_version": "1.2.0",
      "model_name": "LayoutModel",
      "state": {}
     },
     "57075a14112f4b30bd399f605df7187e": {
      "model_module": "@jupyter-widgets/controls",
      "model_module_version": "1.5.0",
      "model_name": "ToggleButtonModel",
      "state": {
       "button_style": "primary",
       "icon": "info-circle",
       "layout": "IPY_MODEL_a45c06f95da140fb9fb3c46206aceb7e",
       "style": "IPY_MODEL_5b47235fc6e846cc9dee6aac4c56a09e",
       "tooltip": "Get COG/STAC pixel value"
      }
     },
     "5723ddd1818b498594c20fd721a13375": {
      "model_module": "ipyevents",
      "model_module_version": "2.0.1",
      "model_name": "EventModel",
      "state": {
       "_supported_key_events": [
        "keydown",
        "keyup"
       ],
       "_supported_mouse_events": [
        "click",
        "auxclick",
        "dblclick",
        "mouseenter",
        "mouseleave",
        "mousedown",
        "mouseup",
        "mousemove",
        "wheel",
        "contextmenu",
        "dragstart",
        "drag",
        "dragend",
        "dragenter",
        "dragover",
        "dragleave",
        "drop"
       ],
       "_supported_touch_events": [
        "touchstart",
        "touchend",
        "touchmove",
        "touchcancel"
       ],
       "_view_module": "@jupyter-widgets/controls",
       "_view_module_version": "1.5.0",
       "source": "IPY_MODEL_d268bec40104414e8706da0140270425",
       "throttle_or_debounce": "",
       "watched_events": [
        "mouseenter",
        "mouseleave"
       ],
       "xy_coordinate_system": ""
      }
     },
     "5758515dfef74d64bac8c9e3c78464b5": {
      "model_module": "jupyter-leaflet",
      "model_module_version": "^0.17.0",
      "model_name": "LeafletTileLayerModel",
      "state": {
       "_model_module_version": "^0.17.0",
       "_view_module_version": "^0.17.0",
       "attribution": "© swisstopo",
       "name": "SwissFederalGeoportal.NationalMapGrey",
       "options": [
        "attribution",
        "bounds",
        "detect_retina",
        "max_native_zoom",
        "max_zoom",
        "min_native_zoom",
        "min_zoom",
        "no_wrap",
        "tile_size",
        "tms"
       ],
       "url": "https://wmts.geo.admin.ch/1.0.0/ch.swisstopo.pixelkarte-grau/default/current/3857/{z}/{x}/{y}.jpeg"
      }
     },
     "577740ff5b724b03801e633b0a323f67": {
      "model_module": "@jupyter-widgets/controls",
      "model_module_version": "1.5.0",
      "model_name": "DescriptionStyleModel",
      "state": {
       "description_width": ""
      }
     },
     "57b7716cf7134d7a92f07bb32c6abd68": {
      "model_module": "@jupyter-widgets/controls",
      "model_module_version": "1.5.0",
      "model_name": "GridBoxModel",
      "state": {
       "children": [
        "IPY_MODEL_bcd10910816645178e54ae2eedc4cde8",
        "IPY_MODEL_59262d3e6a7941d28025dc6eb0067a3e",
        "IPY_MODEL_7e954e24f8c0437a9ee95597fb615fab",
        "IPY_MODEL_b4de9f7d37084474b8fc9ef62b777676",
        "IPY_MODEL_5df4d7e7cd204fa8ae9477a16e0ec6f2",
        "IPY_MODEL_d867375b609f4684818dbea922d20532",
        "IPY_MODEL_74a1997d25fe40acbe9b411864cb8264",
        "IPY_MODEL_5de09ae182e7410baae0047fa1c3077a",
        "IPY_MODEL_85d2f04c8fdf4e399a3ab84af2955dca",
        "IPY_MODEL_94cb2dfe9767414294b4c22e0fa84222",
        "IPY_MODEL_8d1ab55354fe4eb4900711501603a7a7",
        "IPY_MODEL_acda40eeaf1c45e48c866dd8f80c0360",
        "IPY_MODEL_6a0cbe4af6fb48869735643b5151cc5e",
        "IPY_MODEL_7eca303e5b734ce68cc9720cb63cbf2d",
        "IPY_MODEL_d83fb794b6c946ab989eb326f7666fe1",
        "IPY_MODEL_719690371e674deab1e8bd4022973c74",
        "IPY_MODEL_b4ed45d37e9642e99e7542e5be33ad6c",
        "IPY_MODEL_5d59e13c44fc4014a716c07637203692"
       ],
       "layout": "IPY_MODEL_95c45722102a4c16bc0ba902f9eea41c"
      }
     },
     "57d78a473a494b46b734b66cbf047f33": {
      "model_module": "@jupyter-widgets/base",
      "model_module_version": "1.2.0",
      "model_name": "LayoutModel",
      "state": {
       "height": "auto",
       "padding": "0px 0px 0px 4px",
       "width": "auto"
      }
     },
     "582f953d7ce24a1a827c26166ecb5da8": {
      "model_module": "@jupyter-widgets/base",
      "model_module_version": "1.2.0",
      "model_name": "LayoutModel",
      "state": {
       "height": "auto",
       "padding": "0px 0px 0px 4px",
       "width": "auto"
      }
     },
     "5842c39e00e64f3cbbc1972a1b85b97c": {
      "model_module": "@jupyter-widgets/base",
      "model_module_version": "1.2.0",
      "model_name": "LayoutModel",
      "state": {
       "padding": "0px 0px 0px 4px"
      }
     },
     "584763dc2c224323a05d8a1027e625e9": {
      "model_module": "@jupyter-widgets/base",
      "model_module_version": "1.2.0",
      "model_name": "LayoutModel",
      "state": {}
     },
     "58553f7def894c119a40b6b637b949e3": {
      "model_module": "jupyter-leaflet",
      "model_module_version": "^0.17.0",
      "model_name": "LeafletTileLayerModel",
      "state": {
       "_model_module_version": "^0.17.0",
       "_view_module_version": "^0.17.0",
       "attribution": "&copy; <a href=\"https://www.openstreetmap.org/copyright\">OpenStreetMap</a> contributors",
       "base": true,
       "max_zoom": 19,
       "min_zoom": 1,
       "name": "OpenStreetMap.Mapnik",
       "options": [
        "attribution",
        "bounds",
        "detect_retina",
        "max_native_zoom",
        "max_zoom",
        "min_native_zoom",
        "min_zoom",
        "no_wrap",
        "tile_size",
        "tms"
       ],
       "url": "https://a.tile.openstreetmap.org/{z}/{x}/{y}.png"
      }
     },
     "5875671f4e8f46b19a2792e345a240b9": {
      "model_module": "@jupyter-widgets/base",
      "model_module_version": "1.2.0",
      "model_name": "LayoutModel",
      "state": {
       "height": "auto",
       "padding": "0px 0px 0px 4px",
       "width": "auto"
      }
     },
     "587665716ee64622a633f42ce1bf2004": {
      "model_module": "jupyter-leaflet",
      "model_module_version": "^0.17.0",
      "model_name": "LeafletTileLayerModel",
      "state": {
       "_model_module_version": "^0.17.0",
       "_view_module_version": "^0.17.0",
       "attribution": "Datenquelle: basemap.at",
       "max_zoom": 19,
       "name": "BasemapAT.terrain",
       "options": [
        "attribution",
        "bounds",
        "detect_retina",
        "max_native_zoom",
        "max_zoom",
        "min_native_zoom",
        "min_zoom",
        "no_wrap",
        "tile_size",
        "tms"
       ],
       "url": "https://maps.wien.gv.at/basemap/bmapgelaende/grau/google3857/{z}/{y}/{x}.jpeg"
      }
     },
     "5889ddef4f124d9887cf5ec0b2557dc5": {
      "model_module": "@jupyter-widgets/controls",
      "model_module_version": "1.5.0",
      "model_name": "ToggleButtonsModel",
      "state": {
       "_options_labels": [
        "name/address",
        "lat-lon",
        "data"
       ],
       "button_style": "",
       "icons": [],
       "index": 0,
       "layout": "IPY_MODEL_584763dc2c224323a05d8a1027e625e9",
       "style": "IPY_MODEL_addc22f1202e4340b52ac85b7300f0a6",
       "tooltips": [
        "Search by place name or address",
        "Search by lat-lon coordinates",
        "Search Earth Engine data catalog"
       ]
      }
     },
     "590307c3b000417a9b892daedc71f431": {
      "model_module": "jupyter-leaflet",
      "model_module_version": "^0.17.0",
      "model_name": "LeafletAttributionControlModel",
      "state": {
       "_model_module_version": "^0.17.0",
       "_view_module_version": "^0.17.0",
       "options": [
        "position",
        "prefix"
       ],
       "position": "bottomright",
       "prefix": "ipyleaflet"
      }
     },
     "59262d3e6a7941d28025dc6eb0067a3e": {
      "model_module": "@jupyter-widgets/controls",
      "model_module_version": "1.5.0",
      "model_name": "ToggleButtonModel",
      "state": {
       "button_style": "primary",
       "icon": "bar-chart",
       "layout": "IPY_MODEL_372d997cf2da4b939cde1616561b9312",
       "style": "IPY_MODEL_1d751df7bca546a48bf6ca4b980b32b8",
       "tooltip": "Plotting"
      }
     },
     "59760314d8ec44769ddd31fc276dedca": {
      "model_module": "@jupyter-widgets/output",
      "model_module_version": "1.0.0",
      "model_name": "OutputModel",
      "state": {
       "layout": "IPY_MODEL_a3a1b0b1bbf041bda23e6e6d4e78ae2e"
      }
     },
     "5977554da4b64eda86ab01b428bbc5d1": {
      "model_module": "@jupyter-widgets/base",
      "model_module_version": "1.2.0",
      "model_name": "LayoutModel",
      "state": {
       "height": "auto",
       "padding": "0px 0px 0px 4px",
       "width": "auto"
      }
     },
     "597a5dff8f8243cf8a3624af261ec69a": {
      "model_module": "@jupyter-widgets/controls",
      "model_module_version": "1.5.0",
      "model_name": "ToggleButtonModel",
      "state": {
       "button_style": "primary",
       "icon": "map",
       "layout": "IPY_MODEL_8eefffffa3a14bacab8e07ee4dc2d147",
       "style": "IPY_MODEL_a45b3ae6b2b342b8860cbb828c6a9257",
       "tooltip": "Change basemap"
      }
     },
     "59bf59651dde442a8db1702a6cf5e9c3": {
      "model_module": "@jupyter-widgets/controls",
      "model_module_version": "1.5.0",
      "model_name": "TextModel",
      "state": {
       "layout": "IPY_MODEL_1add83b9f2dd47369c2731f39a9bf6fb",
       "placeholder": "output filename",
       "style": "IPY_MODEL_577740ff5b724b03801e633b0a323f67",
       "value": "my_map.html"
      }
     },
     "59c6013a94a944ba960269a7b0514acd": {
      "model_module": "@jupyter-widgets/controls",
      "model_module_version": "1.5.0",
      "model_name": "ToggleButtonModel",
      "state": {
       "button_style": "primary",
       "icon": "hand-o-up",
       "layout": "IPY_MODEL_e56a041f58b84596b7f4d9ee1f997674",
       "style": "IPY_MODEL_13e7ddc7d9724ee9b7f985ecc5d75f64",
       "tooltip": "Collect training samples"
      }
     },
     "59cb6df20f344dbdbcdac365b693d8dc": {
      "model_module": "jupyter-leaflet",
      "model_module_version": "^0.17.0",
      "model_name": "LeafletTileLayerModel",
      "state": {
       "_model_module_version": "^0.17.0",
       "_view_module_version": "^0.17.0",
       "attribution": "National Library of Scotland Historic Maps",
       "name": "NLS",
       "options": [
        "attribution",
        "bounds",
        "detect_retina",
        "max_native_zoom",
        "max_zoom",
        "min_native_zoom",
        "min_zoom",
        "no_wrap",
        "tile_size",
        "tms"
       ],
       "url": "https://nls-0.tileserver.com/nls/{z}/{x}/{y}.jpg"
      }
     },
     "5a48f2cd31714611b8c3360c5a56caf3": {
      "model_module": "@jupyter-widgets/controls",
      "model_module_version": "1.5.0",
      "model_name": "GridBoxModel",
      "state": {
       "children": [
        "IPY_MODEL_05b305c1a21348558768a92cb2d5a3d2",
        "IPY_MODEL_21206cede8394463a197f397eee0a562",
        "IPY_MODEL_1d43826353b24972b37d939e61a126f7",
        "IPY_MODEL_806b2642930747e1aecf305c144925c5",
        "IPY_MODEL_9402e571986744b0afb06eeda3a28b77",
        "IPY_MODEL_f5105a19cc774f6d9ee3aaec68c425de",
        "IPY_MODEL_63bc711403a740019e86260932a2812b",
        "IPY_MODEL_0471c9b3ac4d4a5d9c98072383d343c1",
        "IPY_MODEL_597a5dff8f8243cf8a3624af261ec69a",
        "IPY_MODEL_5d7063bc8f934fb09c3c46942b2f5f27",
        "IPY_MODEL_d1adf18362e6485894d1d3bba5116f84",
        "IPY_MODEL_59c6013a94a944ba960269a7b0514acd",
        "IPY_MODEL_e874cc9630f044928eeceb793a891047",
        "IPY_MODEL_fc36afe719944ad893fd373cb47c5af5",
        "IPY_MODEL_769fec9c553b41feaf7e794ccb52bb7c",
        "IPY_MODEL_a9e8b354f56d4293a92228558f5b6e4c",
        "IPY_MODEL_0b81c9663ef04a2987b96794ad98116a",
        "IPY_MODEL_27186c322ef84418b37a450839a4e59f"
       ],
       "layout": "IPY_MODEL_75dbdc601315410d96af30652e11ee62"
      }
     },
     "5ae58ed368d14b88a456f67e2f38ea19": {
      "model_module": "@jupyter-widgets/controls",
      "model_module_version": "1.5.0",
      "model_name": "DescriptionStyleModel",
      "state": {
       "description_width": ""
      }
     },
     "5b262e97bd3d4d848bcce1e9702b41b1": {
      "model_module": "@jupyter-widgets/controls",
      "model_module_version": "1.5.0",
      "model_name": "ToggleButtonsStyleModel",
      "state": {
       "button_width": "",
       "description_width": ""
      }
     },
     "5b2b6ddbd5804075ad8988e840886cd3": {
      "model_module": "@jupyter-widgets/base",
      "model_module_version": "1.2.0",
      "model_name": "LayoutModel",
      "state": {
       "width": "65px"
      }
     },
     "5b47235fc6e846cc9dee6aac4c56a09e": {
      "model_module": "@jupyter-widgets/controls",
      "model_module_version": "1.5.0",
      "model_name": "DescriptionStyleModel",
      "state": {
       "description_width": ""
      }
     },
     "5b6333523a90492faf73425a73890baa": {
      "model_module": "jupyter-leaflet",
      "model_module_version": "^0.17.0",
      "model_name": "LeafletTileLayerModel",
      "state": {
       "_model_module_version": "^0.17.0",
       "_view_module_version": "^0.17.0",
       "attribution": "(C) OpenStreetMap contributors, Tiles style by Humanitarian OpenStreetMap Team hosted by OpenStreetMap France",
       "max_zoom": 19,
       "name": "OpenStreetMap.HOT",
       "options": [
        "attribution",
        "bounds",
        "detect_retina",
        "max_native_zoom",
        "max_zoom",
        "min_native_zoom",
        "min_zoom",
        "no_wrap",
        "tile_size",
        "tms"
       ],
       "url": "https://a.tile.openstreetmap.fr/hot/{z}/{x}/{y}.png"
      }
     },
     "5b96952387fe4e438523578e5656a488": {
      "model_module": "@jupyter-widgets/controls",
      "model_module_version": "1.5.0",
      "model_name": "DescriptionStyleModel",
      "state": {
       "description_width": ""
      }
     },
     "5bb7d7fbec624540a3a0288a8b6d4a2b": {
      "model_module": "@jupyter-widgets/controls",
      "model_module_version": "1.5.0",
      "model_name": "DescriptionStyleModel",
      "state": {
       "description_width": ""
      }
     },
     "5bc4a3f412814718ac72c12d6cae28d7": {
      "model_module": "@jupyter-widgets/controls",
      "model_module_version": "1.5.0",
      "model_name": "ButtonModel",
      "state": {
       "description": "Cancel",
       "layout": "IPY_MODEL_688f3f1063624b9bb90b25c41dae0033",
       "style": "IPY_MODEL_72999ef0006540c6bb9d1be3d1fbcec7"
      }
     },
     "5bcf39b946a74b0383347c4fb10bb870": {
      "model_module": "@jupyter-widgets/base",
      "model_module_version": "1.2.0",
      "model_name": "LayoutModel",
      "state": {
       "height": "28px",
       "padding": "0px 0px 0px 4px",
       "width": "28px"
      }
     },
     "5c4e67ea51bb42aeb099c6eb8b0be114": {
      "model_module": "ipyevents",
      "model_module_version": "2.0.1",
      "model_name": "EventModel",
      "state": {
       "_supported_key_events": [
        "keydown",
        "keyup"
       ],
       "_supported_mouse_events": [
        "click",
        "auxclick",
        "dblclick",
        "mouseenter",
        "mouseleave",
        "mousedown",
        "mouseup",
        "mousemove",
        "wheel",
        "contextmenu",
        "dragstart",
        "drag",
        "dragend",
        "dragenter",
        "dragover",
        "dragleave",
        "drop"
       ],
       "_supported_touch_events": [
        "touchstart",
        "touchend",
        "touchmove",
        "touchcancel"
       ],
       "_view_module": "@jupyter-widgets/controls",
       "_view_module_version": "1.5.0",
       "source": "IPY_MODEL_a8e340e08e3f4b6fb67813213e9cdd07",
       "throttle_or_debounce": "",
       "watched_events": [
        "mouseenter",
        "mouseleave"
       ],
       "xy_coordinate_system": ""
      }
     },
     "5c5e0047419f45a7801e90a9a00a9077": {
      "model_module": "@jupyter-widgets/controls",
      "model_module_version": "1.5.0",
      "model_name": "DescriptionStyleModel",
      "state": {
       "description_width": ""
      }
     },
     "5ca6bfe5f94d4e88aafeb6d05d3cf1bf": {
      "model_module": "@jupyter-widgets/controls",
      "model_module_version": "1.5.0",
      "model_name": "LabelModel",
      "state": {
       "layout": "IPY_MODEL_5842c39e00e64f3cbbc1972a1b85b97c",
       "style": "IPY_MODEL_3640fc06ca234f56a40849b3425d989d",
       "value": "Expand   "
      }
     },
     "5caf5c973bad43158446ffd85a6b3dcc": {
      "model_module": "@jupyter-widgets/controls",
      "model_module_version": "1.5.0",
      "model_name": "ToggleButtonModel",
      "state": {
       "button_style": "primary",
       "icon": "map",
       "layout": "IPY_MODEL_50cc9fdcc25441f1bfef9ef94af91b97",
       "style": "IPY_MODEL_ffa5997607c8457bb8ed0eee599c9b71",
       "tooltip": "Change basemap"
      }
     },
     "5d4458d37d46473a8c4fced0811617ad": {
      "model_module": "jupyter-leaflet",
      "model_module_version": "^0.17.0",
      "model_name": "LeafletTileLayerModel",
      "state": {
       "_model_module_version": "^0.17.0",
       "_view_module_version": "^0.17.0",
       "attribution": "Tiles (C) Esri -- National Geographic, Esri, DeLorme, NAVTEQ, UNEP-WCMC, USGS, NASA, ESA, METI, NRCAN, GEBCO, NOAA, iPC",
       "max_zoom": 16,
       "name": "Esri.NatGeoWorldMap",
       "options": [
        "attribution",
        "bounds",
        "detect_retina",
        "max_native_zoom",
        "max_zoom",
        "min_native_zoom",
        "min_zoom",
        "no_wrap",
        "tile_size",
        "tms"
       ],
       "url": "https://server.arcgisonline.com/ArcGIS/rest/services/NatGeo_World_Map/MapServer/tile/{z}/{y}/{x}"
      }
     },
     "5d59e13c44fc4014a716c07637203692": {
      "model_module": "@jupyter-widgets/controls",
      "model_module_version": "1.5.0",
      "model_name": "ToggleButtonModel",
      "state": {
       "button_style": "primary",
       "icon": "question",
       "layout": "IPY_MODEL_cebf9cf1cc464025ab746274c49ff40c",
       "style": "IPY_MODEL_c31b285e4f5b4e54a94b6830e61c6674",
       "tooltip": "Get help"
      }
     },
     "5d7063bc8f934fb09c3c46942b2f5f27": {
      "model_module": "@jupyter-widgets/controls",
      "model_module_version": "1.5.0",
      "model_name": "ToggleButtonModel",
      "state": {
       "button_style": "primary",
       "icon": "globe",
       "layout": "IPY_MODEL_38c5c5aac13743fcb2fe703a681bde15",
       "style": "IPY_MODEL_6eb61c828ad24b4ebd5773e81f2a4f22",
       "tooltip": "Create timelapse"
      }
     },
     "5dc05b691a104cf7ac9d5da8e962376e": {
      "model_module": "@jupyter-widgets/controls",
      "model_module_version": "1.5.0",
      "model_name": "ButtonStyleModel",
      "state": {}
     },
     "5de09ae182e7410baae0047fa1c3077a": {
      "model_module": "@jupyter-widgets/controls",
      "model_module_version": "1.5.0",
      "model_name": "ToggleButtonModel",
      "state": {
       "button_style": "primary",
       "icon": "google",
       "layout": "IPY_MODEL_1bbf2221d3394caaa0e5db2e79549463",
       "style": "IPY_MODEL_cc3ccab02f0c4c52ae05efc38f815395",
       "tooltip": "GEE Toolbox for cloud computing"
      }
     },
     "5dec580785c6401aa3550292c355a91f": {
      "model_module": "jupyter-leaflet",
      "model_module_version": "^0.17.0",
      "model_name": "LeafletZoomControlModel",
      "state": {
       "_model_module_version": "^0.17.0",
       "_view_module_version": "^0.17.0",
       "options": [
        "position",
        "zoom_in_text",
        "zoom_in_title",
        "zoom_out_text",
        "zoom_out_title"
       ]
      }
     },
     "5df4d7e7cd204fa8ae9477a16e0ec6f2": {
      "model_module": "@jupyter-widgets/controls",
      "model_module_version": "1.5.0",
      "model_name": "ToggleButtonModel",
      "state": {
       "button_style": "primary",
       "icon": "folder-open",
       "layout": "IPY_MODEL_1fb6d5e37aa84c19b8903016ad0f0505",
       "style": "IPY_MODEL_82bdb699fc3043b5b705720e77aaeae8",
       "tooltip": "Open local vector/raster data"
      }
     },
     "5f6a202d990142b6a56f0b7aadf76830": {
      "model_module": "@jupyter-widgets/controls",
      "model_module_version": "1.5.0",
      "model_name": "ToggleButtonModel",
      "state": {
       "button_style": "primary",
       "icon": "info",
       "layout": "IPY_MODEL_3933faca62b244fca4dfb3a5d8ab7aa3",
       "style": "IPY_MODEL_b250caaef0264d5a9589bea0f4f33fe3",
       "tooltip": "Inspector"
      }
     },
     "5f7834bc73884fa188b50b31578d4589": {
      "model_module": "jupyter-leaflet",
      "model_module_version": "^0.17.0",
      "model_name": "LeafletTileLayerModel",
      "state": {
       "_model_module_version": "^0.17.0",
       "_view_module_version": "^0.17.0",
       "attribution": "Map data: (C) OpenStreetMap contributors | Map style: (C) SafeCast (CC-BY-SA)",
       "max_zoom": 16,
       "name": "SafeCast",
       "options": [
        "attribution",
        "bounds",
        "detect_retina",
        "max_native_zoom",
        "max_zoom",
        "min_native_zoom",
        "min_zoom",
        "no_wrap",
        "tile_size",
        "tms"
       ],
       "url": "https://s3.amazonaws.com/te512.safecast.org/{z}/{x}/{y}.png"
      }
     },
     "606dc114147646dea9b868bd872510b3": {
      "model_module": "@jupyter-widgets/controls",
      "model_module_version": "1.5.0",
      "model_name": "LabelModel",
      "state": {
       "layout": "IPY_MODEL_0e44f9aad80c4fd596d38a63139ebef6",
       "style": "IPY_MODEL_658bc115c1e647ffae5c018f41f0a446",
       "value": "Expand   "
      }
     },
     "60ab36d9eb514326b3a899a30ae2271e": {
      "model_module": "jupyter-leaflet",
      "model_module_version": "^0.17.0",
      "model_name": "LeafletTileLayerModel",
      "state": {
       "_model_module_version": "^0.17.0",
       "_view_module_version": "^0.17.0",
       "attribution": "![](https://docs.onemap.sg/maps/images/oneMap64-01.png) New OneMap | Map data (C) contributors, Singapore Land Authority",
       "name": "OneMapSG.Grey",
       "options": [
        "attribution",
        "bounds",
        "detect_retina",
        "max_native_zoom",
        "max_zoom",
        "min_native_zoom",
        "min_zoom",
        "no_wrap",
        "tile_size",
        "tms"
       ],
       "url": "https://maps-a.onemap.sg/v3/Grey/{z}/{x}/{y}.png"
      }
     },
     "60b00b07a4c249efb0d179e469c1751b": {
      "model_module": "@jupyter-widgets/controls",
      "model_module_version": "1.5.0",
      "model_name": "DescriptionStyleModel",
      "state": {
       "description_width": ""
      }
     },
     "60d516bfdc3d49a882b610fb447d06ba": {
      "model_module": "@jupyter-widgets/controls",
      "model_module_version": "1.5.0",
      "model_name": "DescriptionStyleModel",
      "state": {
       "description_width": ""
      }
     },
     "61409fb53a61446cabe1fc91480b5835": {
      "model_module": "@jupyter-widgets/controls",
      "model_module_version": "1.5.0",
      "model_name": "TextModel",
      "state": {
       "layout": "IPY_MODEL_d9ba0a92f66140508a6ae0da5f04b47b",
       "placeholder": "Search by place name or address",
       "style": "IPY_MODEL_6c9632994cd1409a95e6ebee557994cd"
      }
     },
     "6148fd3602ca49b2823f202ff6e338db": {
      "model_module": "@jupyter-widgets/controls",
      "model_module_version": "1.5.0",
      "model_name": "ButtonStyleModel",
      "state": {}
     },
     "616f2c5d454442009cd49b6dc3fac5a9": {
      "model_module": "@jupyter-widgets/controls",
      "model_module_version": "1.5.0",
      "model_name": "CheckboxModel",
      "state": {
       "description": "Objects",
       "disabled": false,
       "indent": false,
       "layout": "IPY_MODEL_49b776be5f6a46618ee731ffb9d3b0df",
       "style": "IPY_MODEL_277a5499d49f4cfb8415df0034976800",
       "value": false
      }
     },
     "6198b218683746d09aba189f572bb294": {
      "model_module": "@jupyter-widgets/controls",
      "model_module_version": "1.5.0",
      "model_name": "DescriptionStyleModel",
      "state": {
       "description_width": ""
      }
     },
     "619bfd194dd148f18f907d3c930c6aee": {
      "model_module": "@jupyter-widgets/base",
      "model_module_version": "1.2.0",
      "model_name": "LayoutModel",
      "state": {}
     },
     "61fcfc28b9cc4cceb579d5c27614f19f": {
      "model_module": "@jupyter-widgets/controls",
      "model_module_version": "1.5.0",
      "model_name": "ToggleButtonsModel",
      "state": {
       "_options_labels": [
        "HTML",
        "PNG",
        "JPG"
       ],
       "button_style": "",
       "icons": [],
       "index": 0,
       "layout": "IPY_MODEL_f30de38b72b94fd3803eec68b90d1ee5",
       "style": "IPY_MODEL_4fdbd4bf4e084d0c9685f7d61390c7ac",
       "tooltips": [
        "Save the map as an HTML file",
        "Take a screenshot and save as a PNG file",
        "Take a screenshot and save as a JPG file"
       ]
      }
     },
     "624502b6c0314080b990c3e61a28a0eb": {
      "model_module": "@jupyter-widgets/controls",
      "model_module_version": "1.5.0",
      "model_name": "ToggleButtonModel",
      "state": {
       "button_style": "primary",
       "icon": "folder-open",
       "layout": "IPY_MODEL_7e7f3b22fcb64f10b70477c1bc09ed3e",
       "style": "IPY_MODEL_068d4cdb41ea4ee98112888bb57c899f",
       "tooltip": "Open local vector/raster data"
      }
     },
     "6263235d6ace43f1a2a893aa9392c5ee": {
      "model_module": "@jupyter-widgets/output",
      "model_module_version": "1.0.0",
      "model_name": "OutputModel",
      "state": {
       "layout": "IPY_MODEL_cac9969d10924b5b9e84552bf0c22c4e"
      }
     },
     "627532c671404a24bfb3c7c0c2a63fbc": {
      "model_module": "@jupyter-widgets/controls",
      "model_module_version": "1.5.0",
      "model_name": "CheckboxModel",
      "state": {
       "description": "Objects",
       "disabled": false,
       "indent": false,
       "layout": "IPY_MODEL_4cad62ba96d54196843120574bdaba23",
       "style": "IPY_MODEL_3198a17e7b72454c975742e75e2aebb3",
       "value": false
      }
     },
     "633f310e84b540ee9d5a15a3dc5f2ae1": {
      "model_module": "jupyter-leaflet",
      "model_module_version": "^0.17.0",
      "model_name": "LeafletTileLayerModel",
      "state": {
       "_model_module_version": "^0.17.0",
       "_view_module_version": "^0.17.0",
       "attribution": "Tiles (C) Esri -- Sources: GEBCO, NOAA, CHS, OSU, UNH, CSUMB, National Geographic, DeLorme, NAVTEQ, and Esri",
       "max_zoom": 13,
       "name": "Esri.OceanBasemap",
       "options": [
        "attribution",
        "bounds",
        "detect_retina",
        "max_native_zoom",
        "max_zoom",
        "min_native_zoom",
        "min_zoom",
        "no_wrap",
        "tile_size",
        "tms"
       ],
       "url": "https://server.arcgisonline.com/ArcGIS/rest/services/Ocean_Basemap/MapServer/tile/{z}/{y}/{x}"
      }
     },
     "63bc711403a740019e86260932a2812b": {
      "model_module": "@jupyter-widgets/controls",
      "model_module_version": "1.5.0",
      "model_name": "ToggleButtonModel",
      "state": {
       "button_style": "primary",
       "icon": "gears",
       "layout": "IPY_MODEL_850c71418ba04ef9893f383ea219f626",
       "style": "IPY_MODEL_f32b2875b2994592b6044b526aff103c",
       "tooltip": "WhiteboxTools for local geoprocessing"
      }
     },
     "63f28dbaa35444e6b315fcb143fafb6e": {
      "model_module": "@jupyter-widgets/output",
      "model_module_version": "1.0.0",
      "model_name": "OutputModel",
      "state": {
       "layout": "IPY_MODEL_fe75da3514f04e0cbbc2d2a680ad7aeb"
      }
     },
     "641a683dbf314fd88cedae8e1fc0d7bc": {
      "model_module": "@jupyter-widgets/controls",
      "model_module_version": "1.5.0",
      "model_name": "TextModel",
      "state": {
       "layout": "IPY_MODEL_a0f5132e84a0482c9e774a1d79673b09",
       "placeholder": "output filename",
       "style": "IPY_MODEL_2c59124394ec473cb9e43ba9606a9b4c",
       "value": "my_map.html"
      }
     },
     "645be2b43da247f2be887b62eba51f70": {
      "model_module": "ipyevents",
      "model_module_version": "2.0.1",
      "model_name": "EventModel",
      "state": {
       "_supported_key_events": [
        "keydown",
        "keyup"
       ],
       "_supported_mouse_events": [
        "click",
        "auxclick",
        "dblclick",
        "mouseenter",
        "mouseleave",
        "mousedown",
        "mouseup",
        "mousemove",
        "wheel",
        "contextmenu",
        "dragstart",
        "drag",
        "dragend",
        "dragenter",
        "dragover",
        "dragleave",
        "drop"
       ],
       "_supported_touch_events": [
        "touchstart",
        "touchend",
        "touchmove",
        "touchcancel"
       ],
       "_view_module": "@jupyter-widgets/controls",
       "_view_module_version": "1.5.0",
       "source": "IPY_MODEL_c82ae82b411f4201b80a0e3814ab145c",
       "throttle_or_debounce": "",
       "watched_events": [
        "mouseenter",
        "mouseleave"
       ],
       "xy_coordinate_system": ""
      }
     },
     "649df1faf4ab424dbfbf8d863c45da58": {
      "model_module": "@jupyter-widgets/base",
      "model_module_version": "1.2.0",
      "model_name": "LayoutModel",
      "state": {
       "height": "auto",
       "padding": "0px 0px 0px 4px",
       "width": "auto"
      }
     },
     "64e6ece02b2649a490f68e07370feacc": {
      "model_module": "@jupyter-widgets/controls",
      "model_module_version": "1.5.0",
      "model_name": "ToggleButtonsStyleModel",
      "state": {
       "button_width": "110px",
       "description_width": ""
      }
     },
     "6524845b6d594058abd0025b60cc69c2": {
      "model_module": "jupyter-leaflet",
      "model_module_version": "^0.17.0",
      "model_name": "LeafletTileLayerModel",
      "state": {
       "_model_module_version": "^0.17.0",
       "_view_module_version": "^0.17.0",
       "attribution": "Justice Map",
       "max_zoom": 22,
       "name": "JusticeMap.asian",
       "options": [
        "attribution",
        "bounds",
        "detect_retina",
        "max_native_zoom",
        "max_zoom",
        "min_native_zoom",
        "min_zoom",
        "no_wrap",
        "tile_size",
        "tms"
       ],
       "url": "https://www.justicemap.org/tile/county/asian/{z}/{x}/{y}.png"
      }
     },
     "6549ff79b9eb4d28b348bb728ce7e10f": {
      "model_module": "@jupyter-widgets/base",
      "model_module_version": "1.2.0",
      "model_name": "LayoutModel",
      "state": {
       "max_width": "279px",
       "min_width": "279px"
      }
     },
     "654f4a05b029494eb3b917cb6298756a": {
      "model_module": "@jupyter-widgets/base",
      "model_module_version": "1.2.0",
      "model_name": "LayoutModel",
      "state": {
       "max_width": "279px",
       "min_width": "279px"
      }
     },
     "658bc115c1e647ffae5c018f41f0a446": {
      "model_module": "@jupyter-widgets/controls",
      "model_module_version": "1.5.0",
      "model_name": "DescriptionStyleModel",
      "state": {
       "description_width": ""
      }
     },
     "6591d5d85b544a358e5010504518b7b0": {
      "model_module": "@jupyter-widgets/controls",
      "model_module_version": "1.5.0",
      "model_name": "VBoxModel",
      "state": {
       "children": [
        "IPY_MODEL_d9ef2213d19343ed8227f6fd0226c14c",
        "IPY_MODEL_3d33d459569b497aab1a64313911e3e2",
        "IPY_MODEL_6b08736400ad47bf9f26d3a8de8e58bd"
       ],
       "layout": "IPY_MODEL_ed4902410b7c4fe0811a2836aa65d1a5"
      }
     },
     "65934c9ffaed400586ea7492c8cbf2e3": {
      "model_module": "@jupyter-widgets/controls",
      "model_module_version": "1.5.0",
      "model_name": "ToggleButtonModel",
      "state": {
       "button_style": "primary",
       "icon": "spinner",
       "layout": "IPY_MODEL_a368d7af6bf8404faaef6668d557b458",
       "style": "IPY_MODEL_5ae58ed368d14b88a456f67e2f38ea19",
       "tooltip": "This is a placehold"
      }
     },
     "6622208b276f4198b4cb1da665af7c2f": {
      "model_module": "jupyter-leaflet",
      "model_module_version": "^0.17.0",
      "model_name": "LeafletTileLayerModel",
      "state": {
       "_model_module_version": "^0.17.0",
       "_view_module_version": "^0.17.0",
       "attribution": "Map tiles by <a href=\"https://labs.strava.com/heatmap\">Strava 2021</a>",
       "max_zoom": 15,
       "name": "Strava.Water",
       "options": [
        "attribution",
        "bounds",
        "detect_retina",
        "max_native_zoom",
        "max_zoom",
        "min_native_zoom",
        "min_zoom",
        "no_wrap",
        "tile_size",
        "tms"
       ],
       "url": "https://heatmap-external-a.strava.com/tiles/water/blue/{z}/{x}/{y}.png"
      }
     },
     "662aac6d49b54e9f9bc860a65c05ffa1": {
      "model_module": "jupyter-leaflet",
      "model_module_version": "^0.17.0",
      "model_name": "LeafletWMSLayerModel",
      "state": {
       "_model_module_version": "^0.17.0",
       "_view_module_version": "^0.17.0",
       "attribution": "MRLC",
       "crs": {
        "custom": false,
        "name": "EPSG3857"
       },
       "format": "image/png",
       "layers": "NLCD_2006_Land_Cover_L48",
       "name": "NLCD 2006 CONUS Land Cover",
       "options": [
        "attribution",
        "bounds",
        "detect_retina",
        "format",
        "layers",
        "max_native_zoom",
        "max_zoom",
        "min_native_zoom",
        "min_zoom",
        "no_wrap",
        "styles",
        "tile_size",
        "tms",
        "transparent",
        "uppercase"
       ],
       "transparent": true,
       "url": "https://www.mrlc.gov/geoserver/mrlc_display/NLCD_2006_Land_Cover_L48/wms?"
      }
     },
     "666824d9650b43f29786a93cd1e498f3": {
      "model_module": "jupyter-leaflet",
      "model_module_version": "^0.17.0",
      "model_name": "LeafletWidgetControlModel",
      "state": {
       "_model_module": "jupyter-leaflet",
       "_model_module_version": "^0.17.0",
       "_view_count": null,
       "_view_module": "jupyter-leaflet",
       "_view_module_version": "^0.17.0",
       "options": [
        "position",
        "transparent_bg"
       ],
       "position": "topleft",
       "widget": "IPY_MODEL_a6f56bd781704f119e3ff244051c61c8"
      }
     },
     "66861d16ae3f4e66bffe1b7d5ab05709": {
      "model_module": "@jupyter-widgets/base",
      "model_module_version": "1.2.0",
      "model_name": "LayoutModel",
      "state": {}
     },
     "66a3cdf4028d4a5abda452dd7be80e5d": {
      "model_module": "@jupyter-widgets/base",
      "model_module_version": "1.2.0",
      "model_name": "LayoutModel",
      "state": {
       "height": "28px",
       "padding": "0px 0px 0px 4px",
       "width": "28px"
      }
     },
     "66c0b5b4d19144d4aa5d21c3a7b25213": {
      "model_module": "@jupyter-widgets/base",
      "model_module_version": "1.2.0",
      "model_name": "LayoutModel",
      "state": {
       "max_width": "57px",
       "min_width": "57px"
      }
     },
     "66c683b377b6448494c8ac9936db1695": {
      "model_module": "jupyter-leaflet",
      "model_module_version": "^0.17.0",
      "model_name": "LeafletMeasureControlModel",
      "state": {
       "_model_module_version": "^0.17.0",
       "_view_module_version": "^0.17.0",
       "active_color": "orange",
       "options": [
        "active_color",
        "capture_z_index",
        "completed_color",
        "popup_options",
        "position",
        "primary_area_unit",
        "primary_length_unit",
        "secondary_area_unit",
        "secondary_length_unit"
       ],
       "position": "bottomleft",
       "primary_length_unit": "kilometers",
       "secondary_area_unit": null,
       "secondary_length_unit": null
      }
     },
     "66f70543611a457fb13abe70947338eb": {
      "model_module": "@jupyter-widgets/base",
      "model_module_version": "1.2.0",
      "model_name": "LayoutModel",
      "state": {
       "width": "70px"
      }
     },
     "670279e4eb47431cbde5d2ab7967da3c": {
      "model_module": "jupyter-leaflet",
      "model_module_version": "^0.17.0",
      "model_name": "LeafletTileLayerModel",
      "state": {
       "_model_module_version": "^0.17.0",
       "_view_module_version": "^0.17.0",
       "attribution": "Map tiles by Stamen Design, CC BY 3.0 -- Map data (C) OpenStreetMap contributors",
       "max_zoom": 16,
       "name": "Stamen.Watercolor",
       "options": [
        "attribution",
        "bounds",
        "detect_retina",
        "max_native_zoom",
        "max_zoom",
        "min_native_zoom",
        "min_zoom",
        "no_wrap",
        "tile_size",
        "tms"
       ],
       "url": "https://stamen-tiles-a.a.ssl.fastly.net/watercolor/{z}/{x}/{y}.jpg"
      }
     },
     "673182e23f8345f399aec7840d73280a": {
      "model_module": "@jupyter-widgets/controls",
      "model_module_version": "1.5.0",
      "model_name": "DropdownModel",
      "state": {
       "index": null,
       "layout": "IPY_MODEL_654f4a05b029494eb3b917cb6298756a",
       "style": "IPY_MODEL_1b01a178da1a48b3972f5ebfa29e833d"
      }
     },
     "6732a48a76e74f2ea06840569c90741f": {
      "model_module": "@jupyter-widgets/controls",
      "model_module_version": "1.5.0",
      "model_name": "CheckboxModel",
      "state": {
       "description": "Objects",
       "disabled": false,
       "indent": false,
       "layout": "IPY_MODEL_9e87dc37343d4d85a99777988e313f46",
       "style": "IPY_MODEL_6eacae366f90475c9852242526553b05",
       "value": false
      }
     },
     "6757665b91304d71b96139344833f3b6": {
      "model_module": "jupyter-leaflet",
      "model_module_version": "^0.17.0",
      "model_name": "LeafletMapModel",
      "state": {
       "_model_module_version": "^0.17.0",
       "_view_module_version": "^0.17.0",
       "bottom": 754,
       "center": [
        20,
        0
       ],
       "controls": [
        "IPY_MODEL_2e1b3836c670433789f592345576df41",
        "IPY_MODEL_6d7a83be4c3d4d28b890564f3b8bfd09",
        "IPY_MODEL_009a5220936840c780a1938f5d4209c7",
        "IPY_MODEL_352a9988803742e1b6ef44b63de3231d",
        "IPY_MODEL_eb9d68e16e4442afa2ff2755c2562fbc",
        "IPY_MODEL_4977e124281546c194b8bbc8eb763b52",
        "IPY_MODEL_2d94c68af0e0460795f7e362fea5fe1b",
        "IPY_MODEL_b8070bc191854816a1d3b07fe0ed6a09"
       ],
       "default_style": "IPY_MODEL_0add41fbfba94173af47fa88deaf243e",
       "dragging_style": "IPY_MODEL_a05492bf7cc84ea2b09bee8f7e332668",
       "east": 166.64062500000003,
       "fullscreen": false,
       "interpolation": "bilinear",
       "layers": [
        "IPY_MODEL_4bfa46e8b82b4c2ea1cdacdc0c910a28",
        "IPY_MODEL_dccd4bb897e648a3882e5ff861596586"
       ],
       "layout": "IPY_MODEL_ce770fc5ef5c4dd09f7608b23f84216c",
       "left": 38,
       "max_zoom": 24,
       "modisdate": "2023-01-20",
       "north": 77.31251993823143,
       "options": [
        "bounce_at_zoom_limits",
        "box_zoom",
        "center",
        "close_popup_on_click",
        "double_click_zoom",
        "dragging",
        "fullscreen",
        "inertia",
        "inertia_deceleration",
        "inertia_max_speed",
        "interpolation",
        "keyboard",
        "keyboard_pan_offset",
        "keyboard_zoom_offset",
        "max_zoom",
        "min_zoom",
        "prefer_canvas",
        "scroll_wheel_zoom",
        "tap",
        "tap_tolerance",
        "touch_zoom",
        "world_copy_jump",
        "zoom",
        "zoom_animation_threshold",
        "zoom_delta",
        "zoom_snap"
       ],
       "prefer_canvas": false,
       "right": 986,
       "scroll_wheel_zoom": true,
       "south": -64.47279382008165,
       "style": "IPY_MODEL_d29ec94e2c3c4b29b26c52158596311f",
       "top": 154,
       "west": -166.64062500000003,
       "window_url": "https://jupyterhub.cuahsi.org/user/torresrua/lab/tree/projects/Machine-Learning-Applications-in-Remote-Sensing-Data/DSAW_Application_1_Step_1.ipynb",
       "zoom": 2
      }
     },
     "67719c4f979b4744b69c5ce7f2c1baff": {
      "model_module": "@jupyter-widgets/controls",
      "model_module_version": "1.5.0",
      "model_name": "DescriptionStyleModel",
      "state": {
       "description_width": ""
      }
     },
     "67db899298824821b2545255b5e4f1ef": {
      "model_module": "@jupyter-widgets/controls",
      "model_module_version": "1.5.0",
      "model_name": "DescriptionStyleModel",
      "state": {
       "description_width": ""
      }
     },
     "6874d29310d74761b4d6298403a0718b": {
      "model_module": "jupyter-leaflet",
      "model_module_version": "^0.17.0",
      "model_name": "LeafletDrawControlModel",
      "state": {
       "_model_module_version": "^0.17.0",
       "_view_module_version": "^0.17.0",
       "circle": {
        "shapeOptions": {
         "color": "#3388ff"
        }
       },
       "edit": false,
       "options": [
        "position"
       ],
       "polygon": {},
       "polyline": {},
       "rectangle": {
        "shapeOptions": {
         "color": "#3388ff"
        }
       },
       "remove": false
      }
     },
     "688f3f1063624b9bb90b25c41dae0033": {
      "model_module": "@jupyter-widgets/base",
      "model_module_version": "1.2.0",
      "model_name": "LayoutModel",
      "state": {
       "display": "none",
       "min_width": "6em",
       "width": "6em"
      }
     },
     "68fa4a9d727d43709233eac30fcde958": {
      "model_module": "@jupyter-widgets/controls",
      "model_module_version": "1.5.0",
      "model_name": "ToggleButtonsModel",
      "state": {
       "_options_labels": [
        "OK",
        "Cancel"
       ],
       "button_style": "primary",
       "icons": [],
       "index": null,
       "layout": "IPY_MODEL_db52c16f2814428b9f6d066315792128",
       "style": "IPY_MODEL_76aa32968cff46c69fbe0dfbb765590f",
       "tooltips": [
        "OK",
        "Cancel"
       ]
      }
     },
     "69882c0f2c2c432383edafecc20f83c7": {
      "model_module": "@jupyter-widgets/controls",
      "model_module_version": "1.5.0",
      "model_name": "DescriptionStyleModel",
      "state": {
       "description_width": ""
      }
     },
     "6a0cbe4af6fb48869735643b5151cc5e": {
      "model_module": "@jupyter-widgets/controls",
      "model_module_version": "1.5.0",
      "model_name": "ToggleButtonModel",
      "state": {
       "button_style": "primary",
       "icon": "line-chart",
       "layout": "IPY_MODEL_970553042f2e47239a61d7fddde989c4",
       "style": "IPY_MODEL_23bb6ea5fc8f4978992a23ecdcab7ab0",
       "tooltip": "Creating and plotting transects"
      }
     },
     "6a0d4cc77e8e4e6cb162cd2c87d5bdd0": {
      "model_module": "jupyter-leaflet",
      "model_module_version": "^0.17.0",
      "model_name": "LeafletMarkerClusterModel",
      "state": {
       "_model_module_version": "^0.17.0",
       "_view_module_version": "^0.17.0",
       "disable_clustering_at_zoom": 18,
       "max_cluster_radius": 80,
       "name": "Marker Cluster",
       "options": [
        "disable_clustering_at_zoom",
        "max_cluster_radius"
       ]
      }
     },
     "6b08736400ad47bf9f26d3a8de8e58bd": {
      "model_module": "@jupyter-widgets/controls",
      "model_module_version": "1.5.0",
      "model_name": "HBoxModel",
      "state": {
       "children": [
        "IPY_MODEL_7314e0c27fa9491eb758ae33f442c01c",
        "IPY_MODEL_5bc4a3f412814718ac72c12d6cae28d7",
        "IPY_MODEL_7e8dd75f2d4e4ce8a36cf8f1c2b12550"
       ],
       "layout": "IPY_MODEL_b5053af83f4041e1bda3ef7279696bdf"
      }
     },
     "6b0cbbc479f64960adc3a28b67a834f7": {
      "model_module": "@jupyter-widgets/base",
      "model_module_version": "1.2.0",
      "model_name": "LayoutModel",
      "state": {
       "display": "none",
       "grid_gap": "0px 0px",
       "grid_template_areas": "\n                    'pathlist filename'\n                    'dircontent dircontent'\n                    ",
       "grid_template_columns": "60% 40%",
       "grid_template_rows": "auto auto",
       "width": "auto"
      }
     },
     "6b68ba4875df4e928fdcd31e5d1dc396": {
      "model_module": "jupyter-leaflet",
      "model_module_version": "^0.17.0",
      "model_name": "LeafletMarkerModel",
      "state": {
       "_model_module_version": "^0.17.0",
       "_view_module_version": "^0.17.0",
       "icon": "IPY_MODEL_9ae3b28c93124659a94bd66edc494853",
       "options": [
        "alt",
        "draggable",
        "keyboard",
        "rise_offset",
        "rise_on_hover",
        "rotation_angle",
        "rotation_origin",
        "title",
        "z_index_offset"
       ]
      }
     },
     "6b8d8e6543104441858239825e503f14": {
      "model_module": "jupyter-leaflet",
      "model_module_version": "^0.17.0",
      "model_name": "LeafletTileLayerModel",
      "state": {
       "_model_module_version": "^0.17.0",
       "_view_module_version": "^0.17.0",
       "attribution": "(C) OpenStreetMap contributors (C) CARTO",
       "max_zoom": 20,
       "name": "CartoDB.Voyager",
       "options": [
        "attribution",
        "bounds",
        "detect_retina",
        "max_native_zoom",
        "max_zoom",
        "min_native_zoom",
        "min_zoom",
        "no_wrap",
        "tile_size",
        "tms"
       ],
       "url": "https://a.basemaps.cartocdn.com/rastertiles/voyager/{z}/{x}/{y}.png"
      }
     },
     "6bb9e8282ee5441288ce1498f01acaaa": {
      "model_module": "@jupyter-widgets/controls",
      "model_module_version": "1.5.0",
      "model_name": "HBoxModel",
      "state": {
       "children": [
        "IPY_MODEL_a5536a955c3a4ee9b11d5274a17bdd2d",
        "IPY_MODEL_ece17c1d7eec4379a336a5e688a74a33"
       ],
       "layout": "IPY_MODEL_a8aab9fad6ac42d4bcbd99dac79543bf"
      }
     },
     "6c3fb49153d54600a532772485043076": {
      "model_module": "@jupyter-widgets/base",
      "model_module_version": "1.2.0",
      "model_name": "LayoutModel",
      "state": {
       "height": "auto",
       "padding": "0px 0px 0px 4px",
       "width": "auto"
      }
     },
     "6c8d5eaff31146a79f2ea492b9b4769b": {
      "model_module": "@jupyter-widgets/controls",
      "model_module_version": "1.5.0",
      "model_name": "ToggleButtonModel",
      "state": {
       "button_style": "primary",
       "icon": "bar-chart",
       "layout": "IPY_MODEL_9dc2deed24194e5a8db350f4b95abcb9",
       "style": "IPY_MODEL_2917b71290ea4b4eaf574f145413dc90",
       "tooltip": "Plotting"
      }
     },
     "6c9094c86e5b466cb1c84a56621005e8": {
      "model_module": "jupyter-leaflet",
      "model_module_version": "^0.17.0",
      "model_name": "LeafletWidgetControlModel",
      "state": {
       "_model_module": "jupyter-leaflet",
       "_model_module_version": "^0.17.0",
       "_view_count": null,
       "_view_module": "jupyter-leaflet",
       "_view_module_version": "^0.17.0",
       "options": [
        "position",
        "transparent_bg"
       ],
       "position": "topleft",
       "widget": "IPY_MODEL_a345b987d1144b019ddc08546b7ad5db"
      }
     },
     "6c9632994cd1409a95e6ebee557994cd": {
      "model_module": "@jupyter-widgets/controls",
      "model_module_version": "1.5.0",
      "model_name": "DescriptionStyleModel",
      "state": {
       "description_width": ""
      }
     },
     "6cd0d007107240d9a7a2da91254ecbde": {
      "model_module": "jupyter-leaflet",
      "model_module_version": "^0.17.0",
      "model_name": "LeafletMapStyleModel",
      "state": {
       "_model_module_version": "^0.17.0"
      }
     },
     "6cd577a6a56a42e6a723b70e823001dd": {
      "model_module": "@jupyter-widgets/controls",
      "model_module_version": "1.5.0",
      "model_name": "DropdownModel",
      "state": {
       "_options_labels": [
        "/home/jovyan/data/projects/Machine-Learning-Applications-in-Remote-Sensing-Data",
        "/home/jovyan/data/projects",
        "/home/jovyan/data",
        "/home/jovyan",
        "/home",
        "/"
       ],
       "index": 0,
       "layout": "IPY_MODEL_eb91528d3c1b4f26b232ed3841f1c120",
       "style": "IPY_MODEL_407969305ad54789935295c73dc450d7"
      }
     },
     "6d7a83be4c3d4d28b890564f3b8bfd09": {
      "model_module": "jupyter-leaflet",
      "model_module_version": "^0.17.0",
      "model_name": "LeafletZoomControlModel",
      "state": {
       "_model_module_version": "^0.17.0",
       "_view_module_version": "^0.17.0",
       "options": [
        "position",
        "zoom_in_text",
        "zoom_in_title",
        "zoom_out_text",
        "zoom_out_title"
       ]
      }
     },
     "6e10d98504b848e0a4d913940568f39a": {
      "model_module": "jupyter-leaflet",
      "model_module_version": "^0.17.0",
      "model_name": "LeafletDrawControlModel",
      "state": {
       "_model_module_version": "^0.17.0",
       "_view_module_version": "^0.17.0",
       "circle": {
        "shapeOptions": {
         "color": "#3388ff"
        }
       },
       "edit": false,
       "options": [
        "position"
       ],
       "polygon": {},
       "polyline": {},
       "rectangle": {
        "shapeOptions": {
         "color": "#3388ff"
        }
       },
       "remove": false
      }
     },
     "6e127ace3608455086fc237c47a3978f": {
      "model_module": "ipyevents",
      "model_module_version": "2.0.1",
      "model_name": "EventModel",
      "state": {
       "_supported_key_events": [
        "keydown",
        "keyup"
       ],
       "_supported_mouse_events": [
        "click",
        "auxclick",
        "dblclick",
        "mouseenter",
        "mouseleave",
        "mousedown",
        "mouseup",
        "mousemove",
        "wheel",
        "contextmenu",
        "dragstart",
        "drag",
        "dragend",
        "dragenter",
        "dragover",
        "dragleave",
        "drop"
       ],
       "_supported_touch_events": [
        "touchstart",
        "touchend",
        "touchmove",
        "touchcancel"
       ],
       "_view_module": "@jupyter-widgets/controls",
       "_view_module_version": "1.5.0",
       "source": "IPY_MODEL_b18520b0d46f42958a579bfa1e498873",
       "throttle_or_debounce": "",
       "watched_events": [
        "mouseenter",
        "mouseleave"
       ],
       "xy_coordinate_system": ""
      }
     },
     "6e44b5cc3c7e4c1783aa25ee9bea844c": {
      "model_module": "@jupyter-widgets/controls",
      "model_module_version": "1.5.0",
      "model_name": "ToggleButtonModel",
      "state": {
       "button_style": "primary",
       "icon": "info-circle",
       "layout": "IPY_MODEL_05178f154e5e4869927396b34469d9dd",
       "style": "IPY_MODEL_15685d09343b4405bd8171dda2d2b763",
       "tooltip": "Get COG/STAC pixel value"
      }
     },
     "6e613404d84f449f86502e96afe11f43": {
      "model_module": "@jupyter-widgets/controls",
      "model_module_version": "1.5.0",
      "model_name": "DescriptionStyleModel",
      "state": {
       "description_width": ""
      }
     },
     "6e8103243304477d9289d8d4362f8abc": {
      "model_module": "@jupyter-widgets/base",
      "model_module_version": "1.2.0",
      "model_name": "LayoutModel",
      "state": {
       "max_height": "350px",
       "max_width": "340px",
       "overflow": "scroll"
      }
     },
     "6e813b837a494e41b4d7b76c743519d1": {
      "model_module": "@jupyter-widgets/base",
      "model_module_version": "1.2.0",
      "model_name": "LayoutModel",
      "state": {}
     },
     "6eac7cf623294e5a8303a4ccf4e4eca6": {
      "model_module": "@jupyter-widgets/base",
      "model_module_version": "1.2.0",
      "model_name": "LayoutModel",
      "state": {}
     },
     "6eacae366f90475c9852242526553b05": {
      "model_module": "@jupyter-widgets/controls",
      "model_module_version": "1.5.0",
      "model_name": "DescriptionStyleModel",
      "state": {
       "description_width": ""
      }
     },
     "6eb61c828ad24b4ebd5773e81f2a4f22": {
      "model_module": "@jupyter-widgets/controls",
      "model_module_version": "1.5.0",
      "model_name": "DescriptionStyleModel",
      "state": {
       "description_width": ""
      }
     },
     "6f213bb61be344f58c4778336f78564e": {
      "model_module": "@jupyter-widgets/controls",
      "model_module_version": "1.5.0",
      "model_name": "ToggleButtonModel",
      "state": {
       "button_style": "primary",
       "icon": "eraser",
       "layout": "IPY_MODEL_d1d2e753aafb4e92b6bb502a19a92bd2",
       "style": "IPY_MODEL_beb6250612eb4cb0b7516ec97b88ec50",
       "tooltip": "Remove all drawn features"
      }
     },
     "6f3631ba97744870967014e9153ccdd0": {
      "model_module": "jupyter-leaflet",
      "model_module_version": "^0.17.0",
      "model_name": "LeafletWMSLayerModel",
      "state": {
       "_model_module_version": "^0.17.0",
       "_view_module_version": "^0.17.0",
       "attribution": "ESA",
       "crs": {
        "custom": false,
        "name": "EPSG3857"
       },
       "format": "image/png",
       "layers": "WORLDCOVER_2021_S2_TCC",
       "name": "ESA Worldcover 2021 S2 TCC",
       "options": [
        "attribution",
        "bounds",
        "detect_retina",
        "format",
        "layers",
        "max_native_zoom",
        "max_zoom",
        "min_native_zoom",
        "min_zoom",
        "no_wrap",
        "styles",
        "tile_size",
        "tms",
        "transparent",
        "uppercase"
       ],
       "transparent": true,
       "url": "https://services.terrascope.be/wms/v2"
      }
     },
     "6f414e76747240af8e3bd5bf3bcb2bc7": {
      "model_module": "jupyter-leaflet",
      "model_module_version": "^0.17.0",
      "model_name": "LeafletFullScreenControlModel",
      "state": {
       "_model_module_version": "^0.17.0",
       "_view_module_version": "^0.17.0",
       "options": [
        "position"
       ]
      }
     },
     "6f603ce8f753438ba2dfd4329a10ef94": {
      "model_module": "@jupyter-widgets/controls",
      "model_module_version": "1.5.0",
      "model_name": "DescriptionStyleModel",
      "state": {
       "description_width": ""
      }
     },
     "6f7aebfafe5242398ead96c018eae468": {
      "model_module": "@jupyter-widgets/controls",
      "model_module_version": "1.5.0",
      "model_name": "CheckboxModel",
      "state": {
       "description": "Point",
       "disabled": false,
       "indent": false,
       "layout": "IPY_MODEL_cf0aa054785f4dd5b59dca3fde066744",
       "style": "IPY_MODEL_9d84eba3fec242e0ad4fa06570cdc289",
       "value": false
      }
     },
     "6fb17e0aa4f84b448f8c930a3c1ddf22": {
      "model_module": "@jupyter-widgets/base",
      "model_module_version": "1.2.0",
      "model_name": "LayoutModel",
      "state": {}
     },
     "6feb8be95b684d3bbb9ca740c837cc8f": {
      "model_module": "@jupyter-widgets/controls",
      "model_module_version": "1.5.0",
      "model_name": "DescriptionStyleModel",
      "state": {
       "description_width": ""
      }
     },
     "7024b3ca9bf64463aeca60a0c52c224d": {
      "model_module": "@jupyter-widgets/base",
      "model_module_version": "1.2.0",
      "model_name": "LayoutModel",
      "state": {
       "display": "none"
      }
     },
     "704f9dfc8f0e4cbea35caa5368821b55": {
      "model_module": "jupyter-leaflet",
      "model_module_version": "^0.17.0",
      "model_name": "LeafletTileLayerModel",
      "state": {
       "_model_module_version": "^0.17.0",
       "_view_module_version": "^0.17.0",
       "attribution": "&copy; <a href=\"https://www.openstreetmap.org/copyright\">OpenStreetMap</a> contributors",
       "base": true,
       "max_zoom": 19,
       "min_zoom": 1,
       "name": "OpenStreetMap.Mapnik",
       "options": [
        "attribution",
        "bounds",
        "detect_retina",
        "max_native_zoom",
        "max_zoom",
        "min_native_zoom",
        "min_zoom",
        "no_wrap",
        "tile_size",
        "tms"
       ],
       "url": "https://a.tile.openstreetmap.org/{z}/{x}/{y}.png"
      }
     },
     "706d9438179d4ef8826a2ed19384fd72": {
      "model_module": "@jupyter-widgets/controls",
      "model_module_version": "1.5.0",
      "model_name": "TextModel",
      "state": {
       "layout": "IPY_MODEL_b23a4249b7da47859fc5bebfdf975378",
       "placeholder": "Search by place name or address",
       "style": "IPY_MODEL_ac5c5362ae9e4c958aea2d201b51ba37"
      }
     },
     "7091db740f22497aa5cd46431bf576ec": {
      "model_module": "jupyter-leaflet",
      "model_module_version": "^0.17.0",
      "model_name": "LeafletDrawControlModel",
      "state": {
       "_model_module_version": "^0.17.0",
       "_view_module_version": "^0.17.0",
       "circle": {
        "shapeOptions": {
         "color": "#3388ff"
        }
       },
       "edit": false,
       "options": [
        "position"
       ],
       "polygon": {},
       "polyline": {},
       "rectangle": {
        "shapeOptions": {
         "color": "#3388ff"
        }
       },
       "remove": false
      }
     },
     "70a21040fd7b4d288a301a551ee09807": {
      "model_module": "@jupyter-widgets/controls",
      "model_module_version": "1.5.0",
      "model_name": "ToggleButtonsStyleModel",
      "state": {
       "button_width": "",
       "description_width": ""
      }
     },
     "70ca1ddf96ba491d80d8774786d734a7": {
      "model_module": "@jupyter-widgets/controls",
      "model_module_version": "1.5.0",
      "model_name": "DescriptionStyleModel",
      "state": {
       "description_width": ""
      }
     },
     "7126ed72b4344125b9916d3cc5f78720": {
      "model_module": "@jupyter-widgets/controls",
      "model_module_version": "1.5.0",
      "model_name": "DescriptionStyleModel",
      "state": {
       "description_width": ""
      }
     },
     "715c107e38aa4058b4cf7d2cb17548dc": {
      "model_module": "@jupyter-widgets/controls",
      "model_module_version": "1.5.0",
      "model_name": "ToggleButtonModel",
      "state": {
       "button_style": "primary",
       "icon": "line-chart",
       "layout": "IPY_MODEL_0009c92b56c1492982f1f613942a7d92",
       "style": "IPY_MODEL_5315711b8d8b4821bcb7bcf7c2cb8585",
       "tooltip": "Creating and plotting transects"
      }
     },
     "7172743672fa4fb799122aa817ce5e75": {
      "model_module": "@jupyter-widgets/base",
      "model_module_version": "1.2.0",
      "model_name": "LayoutModel",
      "state": {
       "display": "none"
      }
     },
     "719690371e674deab1e8bd4022973c74": {
      "model_module": "@jupyter-widgets/controls",
      "model_module_version": "1.5.0",
      "model_name": "ToggleButtonModel",
      "state": {
       "button_style": "primary",
       "icon": "info-circle",
       "layout": "IPY_MODEL_319a1624fad04cdc818b514421c38190",
       "style": "IPY_MODEL_c0f235fead4544e99c7f4b010ccecdfd",
       "tooltip": "Get COG/STAC pixel value"
      }
     },
     "719bd3234ff3473095f755ad150cda49": {
      "model_module": "jupyter-leaflet",
      "model_module_version": "^0.17.0",
      "model_name": "LeafletTileLayerModel",
      "state": {
       "_model_module_version": "^0.17.0",
       "_view_module_version": "^0.17.0",
       "attribution": "&copy; <a href=\"http://www.gaode.com/\">Gaode.com</a>",
       "max_zoom": 19,
       "name": "Gaode.Satellite",
       "options": [
        "attribution",
        "bounds",
        "detect_retina",
        "max_native_zoom",
        "max_zoom",
        "min_native_zoom",
        "min_zoom",
        "no_wrap",
        "tile_size",
        "tms"
       ],
       "url": "http://webst01.is.autonavi.com/appmaptile?style=6&x={x}&y={y}&z={z}"
      }
     },
     "7230ce5057664ecaa753f904c1944ceb": {
      "model_module": "@jupyter-widgets/controls",
      "model_module_version": "1.5.0",
      "model_name": "DescriptionStyleModel",
      "state": {
       "description_width": ""
      }
     },
     "728812335329478ca3488e5523a3f1af": {
      "model_module": "jupyter-leaflet",
      "model_module_version": "^0.17.0",
      "model_name": "LeafletTileLayerModel",
      "state": {
       "_model_module_version": "^0.17.0",
       "_view_module_version": "^0.17.0",
       "attribution": "Tiles (C) Esri -- Source: Esri, i-cubed, USDA, USGS, AEX, GeoEye, Getmapping, Aerogrid, IGN, IGP, UPR-EGP, and the GIS User Community",
       "max_zoom": 22,
       "name": "Esri.WorldImagery",
       "options": [
        "attribution",
        "bounds",
        "detect_retina",
        "max_native_zoom",
        "max_zoom",
        "min_native_zoom",
        "min_zoom",
        "no_wrap",
        "tile_size",
        "tms"
       ],
       "url": "https://server.arcgisonline.com/ArcGIS/rest/services/World_Imagery/MapServer/tile/{z}/{y}/{x}"
      }
     },
     "72999ef0006540c6bb9d1be3d1fbcec7": {
      "model_module": "@jupyter-widgets/controls",
      "model_module_version": "1.5.0",
      "model_name": "ButtonStyleModel",
      "state": {}
     },
     "72e8c74221c34247a1ebcfe6ee432c22": {
      "model_module": "jupyter-leaflet",
      "model_module_version": "^0.17.0",
      "model_name": "LeafletWidgetControlModel",
      "state": {
       "_model_module": "jupyter-leaflet",
       "_model_module_version": "^0.17.0",
       "_view_count": null,
       "_view_module": "jupyter-leaflet",
       "_view_module_version": "^0.17.0",
       "options": [
        "position",
        "transparent_bg"
       ],
       "position": "topright",
       "widget": "IPY_MODEL_06584cb8c36b4a7db0a0ef68afa228d0"
      }
     },
     "7314e0c27fa9491eb758ae33f442c01c": {
      "model_module": "@jupyter-widgets/controls",
      "model_module_version": "1.5.0",
      "model_name": "ButtonModel",
      "state": {
       "description": "Select",
       "layout": "IPY_MODEL_0b063f39a3a24a48952d07baf320782b",
       "style": "IPY_MODEL_83d03127e60640f487a38a481778e91a"
      }
     },
     "7344e1d8779a440e9392cce1bcf65ad0": {
      "model_module": "jupyter-leaflet",
      "model_module_version": "^0.17.0",
      "model_name": "LeafletTileLayerModel",
      "state": {
       "_model_module_version": "^0.17.0",
       "_view_module_version": "^0.17.0",
       "attribution": "(C) OpenStreetMap contributors (C) CARTO",
       "max_zoom": 20,
       "name": "CartoDB.Positron",
       "options": [
        "attribution",
        "bounds",
        "detect_retina",
        "max_native_zoom",
        "max_zoom",
        "min_native_zoom",
        "min_zoom",
        "no_wrap",
        "tile_size",
        "tms"
       ],
       "url": "https://a.basemaps.cartocdn.com/light_all/{z}/{x}/{y}.png"
      }
     },
     "7369406d9e7544d69595b19870a4e4b1": {
      "model_module": "@jupyter-widgets/controls",
      "model_module_version": "1.5.0",
      "model_name": "ToggleButtonModel",
      "state": {
       "button_style": "primary",
       "icon": "random",
       "layout": "IPY_MODEL_28cbd310087749e299ce2d6d6eeede7f",
       "style": "IPY_MODEL_d0dd509cf59641f9a331924e74f73336",
       "tooltip": "Sankey plots"
      }
     },
     "738bb17b02344319a0e69f484e4a7481": {
      "model_module": "@jupyter-widgets/base",
      "model_module_version": "1.2.0",
      "model_name": "LayoutModel",
      "state": {
       "height": "auto",
       "padding": "0px 0px 0px 4px",
       "width": "auto"
      }
     },
     "73a6b6cde75a42e6bbf6274e603a8451": {
      "model_module": "@jupyter-widgets/controls",
      "model_module_version": "1.5.0",
      "model_name": "ButtonStyleModel",
      "state": {}
     },
     "73b0a226a3054c24ba703217f48a7d89": {
      "model_module": "@jupyter-widgets/base",
      "model_module_version": "1.2.0",
      "model_name": "LayoutModel",
      "state": {
       "width": "auto"
      }
     },
     "73c31a23d5e140c5b6167a377c1d9eec": {
      "model_module": "@jupyter-widgets/base",
      "model_module_version": "1.2.0",
      "model_name": "LayoutModel",
      "state": {
       "height": "auto",
       "padding": "0px 0px 0px 4px",
       "width": "auto"
      }
     },
     "73da0c1cac304e23ab1c052c6a6b6f4e": {
      "model_module": "@jupyter-widgets/base",
      "model_module_version": "1.2.0",
      "model_name": "LayoutModel",
      "state": {
       "width": "65px"
      }
     },
     "73e6f6781ebd4635a2f17467af887818": {
      "model_module": "@jupyter-widgets/output",
      "model_module_version": "1.0.0",
      "model_name": "OutputModel",
      "state": {
       "layout": "IPY_MODEL_ddca9ba7e55548c7b1b17e5a954602d0"
      }
     },
     "742448e424e94c32ae77e8b7859ee47b": {
      "model_module": "@jupyter-widgets/controls",
      "model_module_version": "1.5.0",
      "model_name": "ToggleButtonModel",
      "state": {
       "icon": "server",
       "layout": "IPY_MODEL_eef8eda17c994de0b526059d71b37e06",
       "style": "IPY_MODEL_d757ec7046da40388531bb9803dead08",
       "tooltip": "Layers"
      }
     },
     "743ad95e079f47c99a3149d4cc6675e2": {
      "model_module": "@jupyter-widgets/base",
      "model_module_version": "1.2.0",
      "model_name": "LayoutModel",
      "state": {
       "height": "auto",
       "padding": "0px 0px 0px 4px",
       "width": "auto"
      }
     },
     "744b09dd8e2b4842a4ea15ed6962a975": {
      "model_module": "@jupyter-widgets/base",
      "model_module_version": "1.2.0",
      "model_name": "LayoutModel",
      "state": {
       "height": "auto",
       "padding": "0px 0px 0px 4px",
       "width": "auto"
      }
     },
     "746d79387c8b4804b267d8f4aa7657e0": {
      "model_module": "@jupyter-widgets/controls",
      "model_module_version": "1.5.0",
      "model_name": "DescriptionStyleModel",
      "state": {
       "description_width": ""
      }
     },
     "7496f30b2bc04893baf36e61133b381f": {
      "model_module": "@jupyter-widgets/base",
      "model_module_version": "1.2.0",
      "model_name": "LayoutModel",
      "state": {
       "grid_gap": "1px 1px",
       "grid_template_columns": "32px 32px 32px ",
       "grid_template_rows": "32px 32px 32px 32px 32px 32px ",
       "padding": "5px",
       "width": "109px"
      }
     },
     "74a1997d25fe40acbe9b411864cb8264": {
      "model_module": "@jupyter-widgets/controls",
      "model_module_version": "1.5.0",
      "model_name": "ToggleButtonModel",
      "state": {
       "button_style": "primary",
       "icon": "gears",
       "layout": "IPY_MODEL_7bc192c49dcb4d7aa3031115883b086c",
       "style": "IPY_MODEL_f09645c7e6de4523b2e9a31017983530",
       "tooltip": "WhiteboxTools for local geoprocessing"
      }
     },
     "74af98ccb4434edba291710c8c0ff958": {
      "model_module": "@jupyter-widgets/controls",
      "model_module_version": "1.5.0",
      "model_name": "ToggleButtonModel",
      "state": {
       "button_style": "primary",
       "icon": "camera",
       "layout": "IPY_MODEL_649df1faf4ab424dbfbf8d863c45da58",
       "style": "IPY_MODEL_130992e4e7a544cc8c1df59b786e2335",
       "tooltip": "Save map as HTML or image"
      }
     },
     "750f65ba950043b78dbfa1bb948be81e": {
      "model_module": "@jupyter-widgets/controls",
      "model_module_version": "1.5.0",
      "model_name": "ToggleButtonModel",
      "state": {
       "button_style": "primary",
       "icon": "hand-o-up",
       "layout": "IPY_MODEL_78821f7256a141bb9a7186703e30725c",
       "style": "IPY_MODEL_4b93ce45f6b348f98e855d603a3d5ce1",
       "tooltip": "Collect training samples"
      }
     },
     "752c0258e69448d281203ea5e409653f": {
      "model_module": "@jupyter-widgets/controls",
      "model_module_version": "1.5.0",
      "model_name": "DescriptionStyleModel",
      "state": {
       "description_width": ""
      }
     },
     "75c1348aeab642539d37bce166617931": {
      "model_module": "@jupyter-widgets/controls",
      "model_module_version": "1.5.0",
      "model_name": "DropdownModel",
      "state": {
       "index": null,
       "layout": "IPY_MODEL_0eace0c670034ed5868b8a5315cf09e3",
       "style": "IPY_MODEL_875cc7ef6238494dac3745fe21e80bd4"
      }
     },
     "75dbdc601315410d96af30652e11ee62": {
      "model_module": "@jupyter-widgets/base",
      "model_module_version": "1.2.0",
      "model_name": "LayoutModel",
      "state": {
       "grid_gap": "1px 1px",
       "grid_template_columns": "32px 32px 32px ",
       "grid_template_rows": "32px 32px 32px 32px 32px 32px ",
       "padding": "5px",
       "width": "109px"
      }
     },
     "75f57b9272f442f08fa718099f64b7fc": {
      "model_module": "@jupyter-widgets/controls",
      "model_module_version": "1.5.0",
      "model_name": "DescriptionStyleModel",
      "state": {
       "description_width": ""
      }
     },
     "7612a7e62ddc4e98b2419c9b3118475e": {
      "model_module": "@jupyter-widgets/controls",
      "model_module_version": "1.5.0",
      "model_name": "ToggleButtonModel",
      "state": {
       "button_style": "primary",
       "icon": "line-chart",
       "layout": "IPY_MODEL_5977554da4b64eda86ab01b428bbc5d1",
       "style": "IPY_MODEL_e00721293fca419f842efb618993ae97",
       "tooltip": "Creating and plotting transects"
      }
     },
     "76657353d2e34eaab1527d2d6f7d954f": {
      "model_module": "@jupyter-widgets/base",
      "model_module_version": "1.2.0",
      "model_name": "LayoutModel",
      "state": {}
     },
     "76733d72e3044099ad192ace01c57aaf": {
      "model_module": "@jupyter-widgets/controls",
      "model_module_version": "1.5.0",
      "model_name": "DropdownModel",
      "state": {
       "_options_labels": [
        "/home/jovyan/data/projects/Machine-Learning-Applications-in-Remote-Sensing-Data",
        "/home/jovyan/data/projects",
        "/home/jovyan/data",
        "/home/jovyan",
        "/home",
        "/"
       ],
       "index": 0,
       "layout": "IPY_MODEL_2ab38a8ec6c4456fbc587b377830b57f",
       "style": "IPY_MODEL_c3b0bde9bfe64c3293ad01d5c62234d6"
      }
     },
     "769fec9c553b41feaf7e794ccb52bb7c": {
      "model_module": "@jupyter-widgets/controls",
      "model_module_version": "1.5.0",
      "model_name": "ToggleButtonModel",
      "state": {
       "button_style": "primary",
       "icon": "adjust",
       "layout": "IPY_MODEL_a7803499b62347388ee5cdc7b23b523c",
       "style": "IPY_MODEL_f6c9ae6f4bc94c8b94c33140d06e2255",
       "tooltip": "Planet imagery"
      }
     },
     "76aa32968cff46c69fbe0dfbb765590f": {
      "model_module": "@jupyter-widgets/controls",
      "model_module_version": "1.5.0",
      "model_name": "ToggleButtonsStyleModel",
      "state": {
       "button_width": "",
       "description_width": ""
      }
     },
     "771f940603b8409892f1172d9507455b": {
      "model_module": "jupyter-leaflet",
      "model_module_version": "^0.17.0",
      "model_name": "LeafletTileLayerModel",
      "state": {
       "_model_module_version": "^0.17.0",
       "_view_module_version": "^0.17.0",
       "attribution": "CyclOSM | Map data: (C) OpenStreetMap contributors",
       "max_zoom": 20,
       "name": "CyclOSM",
       "options": [
        "attribution",
        "bounds",
        "detect_retina",
        "max_native_zoom",
        "max_zoom",
        "min_native_zoom",
        "min_zoom",
        "no_wrap",
        "tile_size",
        "tms"
       ],
       "url": "https://a.tile-cyclosm.openstreetmap.fr/cyclosm/{z}/{x}/{y}.png"
      }
     },
     "77e23a2b51db4f2db4cab0a473f7082d": {
      "model_module": "@jupyter-widgets/controls",
      "model_module_version": "1.5.0",
      "model_name": "ToggleButtonsModel",
      "state": {
       "_options_labels": [
        "HTML",
        "PNG",
        "JPG"
       ],
       "button_style": "",
       "icons": [],
       "index": 0,
       "layout": "IPY_MODEL_e8ac5319a6864cd3aa65049497a291fd",
       "style": "IPY_MODEL_5b262e97bd3d4d848bcce1e9702b41b1",
       "tooltips": [
        "Save the map as an HTML file",
        "Take a screenshot and save as a PNG file",
        "Take a screenshot and save as a JPG file"
       ]
      }
     },
     "78821f7256a141bb9a7186703e30725c": {
      "model_module": "@jupyter-widgets/base",
      "model_module_version": "1.2.0",
      "model_name": "LayoutModel",
      "state": {
       "height": "auto",
       "padding": "0px 0px 0px 4px",
       "width": "auto"
      }
     },
     "791cfc6de49d4ae8803ede6f375d0413": {
      "model_module": "jupyter-leaflet",
      "model_module_version": "^0.17.0",
      "model_name": "LeafletTileLayerModel",
      "state": {
       "_model_module_version": "^0.17.0",
       "_view_module_version": "^0.17.0",
       "attribution": "Justice Map",
       "max_zoom": 22,
       "name": "JusticeMap.white",
       "options": [
        "attribution",
        "bounds",
        "detect_retina",
        "max_native_zoom",
        "max_zoom",
        "min_native_zoom",
        "min_zoom",
        "no_wrap",
        "tile_size",
        "tms"
       ],
       "url": "https://www.justicemap.org/tile/county/white/{z}/{x}/{y}.png"
      }
     },
     "794417e5b2cb4565966ad70c817cc0f6": {
      "model_module": "jupyter-leaflet",
      "model_module_version": "^0.17.0",
      "model_name": "LeafletTileLayerModel",
      "state": {
       "_model_module_version": "^0.17.0",
       "_view_module_version": "^0.17.0",
       "attribution": "Google Earth Engine",
       "max_zoom": 24,
       "name": "Soil Moisture",
       "options": [
        "attribution",
        "bounds",
        "detect_retina",
        "max_native_zoom",
        "max_zoom",
        "min_native_zoom",
        "min_zoom",
        "no_wrap",
        "tile_size",
        "tms"
       ],
       "url": "https://earthengine.googleapis.com/v1alpha/projects/earthengine-legacy/maps/c0471652014914a491c820e650b41e2b-55ece864910254582c3449f4774de094/tiles/{z}/{x}/{y}"
      }
     },
     "79859769b92641f6b09b054d92842bc3": {
      "model_module": "@jupyter-widgets/controls",
      "model_module_version": "1.5.0",
      "model_name": "VBoxModel",
      "state": {
       "children": [
        "IPY_MODEL_c36951afb776438aa8cceda0e7ca5d84"
       ],
       "layout": "IPY_MODEL_0f4e00faa25e4a26a21b3b0d28e20b06"
      }
     },
     "79bfa56107464eeb94ebaeaedeb60662": {
      "model_module": "@jupyter-widgets/controls",
      "model_module_version": "1.5.0",
      "model_name": "VBoxModel",
      "state": {
       "_view_count": 1,
       "children": [
        "IPY_MODEL_8eb25956cfa94a12bc104726cc1c43c6"
       ],
       "layout": "IPY_MODEL_b7399efb782c4fccb1879cce102aeb3f"
      }
     },
     "79e3e0659ffd4608b27ed278ddb618d0": {
      "model_module": "@jupyter-widgets/controls",
      "model_module_version": "1.5.0",
      "model_name": "DescriptionStyleModel",
      "state": {
       "description_width": ""
      }
     },
     "79eda8a907514a9e896b09b682c0966a": {
      "model_module": "@jupyter-widgets/base",
      "model_module_version": "1.2.0",
      "model_name": "LayoutModel",
      "state": {
       "height": "auto",
       "padding": "0px 0px 0px 4px",
       "width": "auto"
      }
     },
     "7a187b36b711423e9a7871927c706460": {
      "model_module": "@jupyter-widgets/controls",
      "model_module_version": "1.5.0",
      "model_name": "ToggleButtonModel",
      "state": {
       "icon": "wrench",
       "layout": "IPY_MODEL_4532bfb5062f49359a3e291c68cd0f00",
       "style": "IPY_MODEL_072ea0b80e9645f3b6a50d38415bcff9",
       "tooltip": "Toolbar"
      }
     },
     "7a43c8fcca3143bd9aa04d4cf0155103": {
      "model_module": "jupyter-leaflet",
      "model_module_version": "^0.17.0",
      "model_name": "LeafletMarkerModel",
      "state": {
       "_model_module_version": "^0.17.0",
       "_view_module_version": "^0.17.0",
       "icon": "IPY_MODEL_973ca481abb14454b3ff7696b34f6561",
       "options": [
        "alt",
        "draggable",
        "keyboard",
        "rise_offset",
        "rise_on_hover",
        "rotation_angle",
        "rotation_origin",
        "title",
        "z_index_offset"
       ]
      }
     },
     "7a49814190c342ebb1841907a954834c": {
      "model_module": "jupyter-leaflet",
      "model_module_version": "^0.17.0",
      "model_name": "LeafletTileLayerModel",
      "state": {
       "_model_module_version": "^0.17.0",
       "_view_module_version": "^0.17.0",
       "attribution": "Imagery provided by services from the Global Imagery Browse Services (GIBS), operated by the NASA/GSFC/Earth Science Data and Information System (ESDIS) with funding provided by NASA/HQ.",
       "max_zoom": 9,
       "name": "NASAGIBS.ModisTerraTrueColorCR",
       "options": [
        "attribution",
        "bounds",
        "detect_retina",
        "max_native_zoom",
        "max_zoom",
        "min_native_zoom",
        "min_zoom",
        "no_wrap",
        "tile_size",
        "tms"
       ],
       "url": "https://map1.vis.earthdata.nasa.gov/wmts-webmerc/MODIS_Terra_CorrectedReflectance_TrueColor/default//GoogleMapsCompatible_Level9/{z}/{y}/{x}.jpg"
      }
     },
     "7a65e4b7101548f497603ff1694999ac": {
      "model_module": "@jupyter-widgets/controls",
      "model_module_version": "1.5.0",
      "model_name": "ToggleButtonModel",
      "state": {
       "button_style": "primary",
       "icon": "spinner",
       "layout": "IPY_MODEL_bd4eb5d80dd5460d977a259054675096",
       "style": "IPY_MODEL_746d79387c8b4804b267d8f4aa7657e0",
       "tooltip": "This is a placehold"
      }
     },
     "7a7e661a91514fa4bbfca173f0aefdb6": {
      "model_module": "jupyter-leaflet",
      "model_module_version": "^0.17.0",
      "model_name": "LeafletTileLayerModel",
      "state": {
       "_model_module_version": "^0.17.0",
       "_view_module_version": "^0.17.0",
       "attribution": "Imagery provided by services from the Global Imagery Browse Services (GIBS), operated by the NASA/GSFC/Earth Science Data and Information System (ESDIS) with funding provided by NASA/HQ.",
       "max_zoom": 9,
       "name": "NASAGIBS.ModisTerraBands367CR",
       "options": [
        "attribution",
        "bounds",
        "detect_retina",
        "max_native_zoom",
        "max_zoom",
        "min_native_zoom",
        "min_zoom",
        "no_wrap",
        "tile_size",
        "tms"
       ],
       "url": "https://map1.vis.earthdata.nasa.gov/wmts-webmerc/MODIS_Terra_CorrectedReflectance_Bands367/default//GoogleMapsCompatible_Level9/{z}/{y}/{x}.jpg"
      }
     },
     "7b0591bdffe74d1bab10261f2398ad17": {
      "model_module": "jupyter-leaflet",
      "model_module_version": "^0.17.0",
      "model_name": "LeafletTileLayerModel",
      "state": {
       "_model_module_version": "^0.17.0",
       "_view_module_version": "^0.17.0",
       "attribution": "(C) OpenStreetMap contributors (C) CARTO",
       "max_zoom": 20,
       "name": "CartoDB.DarkMatter",
       "options": [
        "attribution",
        "bounds",
        "detect_retina",
        "max_native_zoom",
        "max_zoom",
        "min_native_zoom",
        "min_zoom",
        "no_wrap",
        "tile_size",
        "tms"
       ],
       "url": "https://a.basemaps.cartocdn.com/dark_all/{z}/{x}/{y}.png"
      }
     },
     "7ba3127b16984b6a99164a6bcbe3828f": {
      "model_module": "@jupyter-widgets/controls",
      "model_module_version": "1.5.0",
      "model_name": "ButtonModel",
      "state": {
       "description": "Select",
       "layout": "IPY_MODEL_81ef08b695d142cfa9e68c8c2b0b150b",
       "style": "IPY_MODEL_d20909cfef9d49d4999a4eed0d5aa4e0"
      }
     },
     "7ba4c576c8394b7794118bdbb60e6146": {
      "model_module": "@jupyter-widgets/controls",
      "model_module_version": "1.5.0",
      "model_name": "DescriptionStyleModel",
      "state": {
       "description_width": ""
      }
     },
     "7bb441fe474c4c6787af3fabf5f9600d": {
      "model_module": "jupyter-leaflet",
      "model_module_version": "^0.17.0",
      "model_name": "LeafletTileLayerModel",
      "state": {
       "_model_module_version": "^0.17.0",
       "_view_module_version": "^0.17.0",
       "attribution": "Map tiles by Stamen Design, CC BY 3.0 -- Map data (C) OpenStreetMap contributors",
       "name": "Stamen.Terrain",
       "options": [
        "attribution",
        "bounds",
        "detect_retina",
        "max_native_zoom",
        "max_zoom",
        "min_native_zoom",
        "min_zoom",
        "no_wrap",
        "tile_size",
        "tms"
       ],
       "url": "https://stamen-tiles-a.a.ssl.fastly.net/terrain/{z}/{x}/{y}.png"
      }
     },
     "7bc192c49dcb4d7aa3031115883b086c": {
      "model_module": "@jupyter-widgets/base",
      "model_module_version": "1.2.0",
      "model_name": "LayoutModel",
      "state": {
       "height": "auto",
       "padding": "0px 0px 0px 4px",
       "width": "auto"
      }
     },
     "7cdbbb7aec2c47a2a90cb11fd5f3247c": {
      "model_module": "@jupyter-widgets/base",
      "model_module_version": "1.2.0",
      "model_name": "LayoutModel",
      "state": {
       "height": "auto",
       "padding": "0px 0px 0px 4px",
       "width": "auto"
      }
     },
     "7cf1f07028ab4470a6a169831c4b2f42": {
      "model_module": "@jupyter-widgets/controls",
      "model_module_version": "1.5.0",
      "model_name": "CheckboxModel",
      "state": {
       "description": "Pixels",
       "disabled": false,
       "indent": false,
       "layout": "IPY_MODEL_73da0c1cac304e23ab1c052c6a6b6f4e",
       "style": "IPY_MODEL_0dd0f09c47ba4de3a1f0abfd39b84d9a",
       "value": true
      }
     },
     "7d50cf4b92c745dcbf2fd92f3b59a4da": {
      "model_module": "@jupyter-widgets/base",
      "model_module_version": "1.2.0",
      "model_name": "LayoutModel",
      "state": {
       "width": "65px"
      }
     },
     "7d6e35e973484ee4a4a1cdcccfef0a41": {
      "model_module": "@jupyter-widgets/controls",
      "model_module_version": "1.5.0",
      "model_name": "DescriptionStyleModel",
      "state": {
       "description_width": ""
      }
     },
     "7d89d397ef89406f9873c387169e7b72": {
      "model_module": "@jupyter-widgets/controls",
      "model_module_version": "1.5.0",
      "model_name": "DescriptionStyleModel",
      "state": {
       "description_width": ""
      }
     },
     "7dafdaa88d204ed9a798405e4443407f": {
      "model_module": "@jupyter-widgets/controls",
      "model_module_version": "1.5.0",
      "model_name": "ButtonStyleModel",
      "state": {}
     },
     "7dffd87c181947eb97fb3ef79e303afc": {
      "model_module": "@jupyter-widgets/base",
      "model_module_version": "1.2.0",
      "model_name": "LayoutModel",
      "state": {
       "height": "auto",
       "padding": "0px 0px 0px 4px",
       "width": "auto"
      }
     },
     "7e1ac3b7e67546868219fcd96921d953": {
      "model_module": "jupyter-leaflet",
      "model_module_version": "^0.17.0",
      "model_name": "LeafletTileLayerModel",
      "state": {
       "_model_module_version": "^0.17.0",
       "_view_module_version": "^0.17.0",
       "attribution": "Tiles (C) Esri -- Source: Esri",
       "max_zoom": 13,
       "name": "Esri.WorldShadedRelief",
       "options": [
        "attribution",
        "bounds",
        "detect_retina",
        "max_native_zoom",
        "max_zoom",
        "min_native_zoom",
        "min_zoom",
        "no_wrap",
        "tile_size",
        "tms"
       ],
       "url": "https://server.arcgisonline.com/ArcGIS/rest/services/World_Shaded_Relief/MapServer/tile/{z}/{y}/{x}"
      }
     },
     "7e76d840a2f84a069bc5adc97d3bbe66": {
      "model_module": "@jupyter-widgets/base",
      "model_module_version": "1.2.0",
      "model_name": "LayoutModel",
      "state": {}
     },
     "7e7f3b22fcb64f10b70477c1bc09ed3e": {
      "model_module": "@jupyter-widgets/base",
      "model_module_version": "1.2.0",
      "model_name": "LayoutModel",
      "state": {
       "height": "auto",
       "padding": "0px 0px 0px 4px",
       "width": "auto"
      }
     },
     "7e8dd75f2d4e4ce8a36cf8f1c2b12550": {
      "model_module": "@jupyter-widgets/controls",
      "model_module_version": "1.5.0",
      "model_name": "BoxModel",
      "state": {
       "children": [
        "IPY_MODEL_2cb329fb9bbe42eb99262e3dcaf2d6b3"
       ],
       "layout": "IPY_MODEL_43490ccbd6ad4d10929d13931db5f103"
      }
     },
     "7e954e24f8c0437a9ee95597fb615fab": {
      "model_module": "@jupyter-widgets/controls",
      "model_module_version": "1.5.0",
      "model_name": "ToggleButtonModel",
      "state": {
       "button_style": "primary",
       "icon": "camera",
       "layout": "IPY_MODEL_52d74aac88524700a0e2911a7b17adf9",
       "style": "IPY_MODEL_974b5c16d6994653ba53aaee249fc3a3",
       "tooltip": "Save map as HTML or image"
      }
     },
     "7eca303e5b734ce68cc9720cb63cbf2d": {
      "model_module": "@jupyter-widgets/controls",
      "model_module_version": "1.5.0",
      "model_name": "ToggleButtonModel",
      "state": {
       "button_style": "primary",
       "icon": "random",
       "layout": "IPY_MODEL_bae075ad6f70435795d4770b21c976ae",
       "style": "IPY_MODEL_84439a43d4ef4571bdd06a81081fbf76",
       "tooltip": "Sankey plots"
      }
     },
     "7f516217cda94093ae6ee7d36e60a5d7": {
      "model_module": "@jupyter-widgets/base",
      "model_module_version": "1.2.0",
      "model_name": "LayoutModel",
      "state": {
       "height": "auto",
       "padding": "0px 0px 0px 4px",
       "width": "auto"
      }
     },
     "7f70ebd449d046bba2f6526d0398b22b": {
      "model_module": "@jupyter-widgets/controls",
      "model_module_version": "1.5.0",
      "model_name": "ButtonModel",
      "state": {
       "description": "Cancel",
       "layout": "IPY_MODEL_0af8d5cefa7e4e69bf740bd7770ca1e8",
       "style": "IPY_MODEL_5dc05b691a104cf7ac9d5da8e962376e"
      }
     },
     "7fc00faca2ee47a2a3b44a5527cfe94e": {
      "model_module": "@jupyter-widgets/base",
      "model_module_version": "1.2.0",
      "model_name": "LayoutModel",
      "state": {
       "height": "auto",
       "padding": "0px 0px 0px 4px",
       "width": "auto"
      }
     },
     "806b2642930747e1aecf305c144925c5": {
      "model_module": "@jupyter-widgets/controls",
      "model_module_version": "1.5.0",
      "model_name": "ToggleButtonModel",
      "state": {
       "button_style": "primary",
       "icon": "eraser",
       "layout": "IPY_MODEL_744b09dd8e2b4842a4ea15ed6962a975",
       "style": "IPY_MODEL_4adfe99839b3477c80d4db79a04e43bf",
       "tooltip": "Remove all drawn features"
      }
     },
     "807d8db1310847319e78ba139bdd95ec": {
      "model_module": "jupyter-leaflet",
      "model_module_version": "^0.17.0",
      "model_name": "LeafletTileLayerModel",
      "state": {
       "_model_module_version": "^0.17.0",
       "_view_module_version": "^0.17.0",
       "attribution": "© swisstopo",
       "max_zoom": 19,
       "name": "SwissFederalGeoportal.SWISSIMAGE",
       "options": [
        "attribution",
        "bounds",
        "detect_retina",
        "max_native_zoom",
        "max_zoom",
        "min_native_zoom",
        "min_zoom",
        "no_wrap",
        "tile_size",
        "tms"
       ],
       "url": "https://wmts.geo.admin.ch/1.0.0/ch.swisstopo.swissimage/default/current/3857/{z}/{x}/{y}.jpeg"
      }
     },
     "80a3ad70045a4e0fa68f9bad07a6e46a": {
      "model_module": "@jupyter-widgets/controls",
      "model_module_version": "1.5.0",
      "model_name": "LabelModel",
      "state": {
       "layout": "IPY_MODEL_3e4866892a3442199c1de905ab507add",
       "style": "IPY_MODEL_ceb52eb2ecf443a98053741a448433ac"
      }
     },
     "80a9f398b32645f382b6c457a54c6967": {
      "model_module": "@jupyter-widgets/controls",
      "model_module_version": "1.5.0",
      "model_name": "ToggleButtonModel",
      "state": {
       "icon": "wrench",
       "layout": "IPY_MODEL_83ee03b2b3984da19cae9c7d9dcaceed",
       "style": "IPY_MODEL_60b00b07a4c249efb0d179e469c1751b",
       "tooltip": "Toolbar"
      }
     },
     "810697b5dc9f4953b518cbefe1ac6d47": {
      "model_module": "@jupyter-widgets/controls",
      "model_module_version": "1.5.0",
      "model_name": "ButtonModel",
      "state": {
       "description": "Cancel",
       "layout": "IPY_MODEL_d8858e55af2847ae88ce53c2e5fd09fe",
       "style": "IPY_MODEL_0a5b102116284ff0bf9b4449751c6a0b"
      }
     },
     "812d9bd88cd84c5584385ffb8ebe33c4": {
      "model_module": "@jupyter-widgets/controls",
      "model_module_version": "1.5.0",
      "model_name": "DescriptionStyleModel",
      "state": {
       "description_width": ""
      }
     },
     "8170ce93303d46c580ca0de431a1d0ff": {
      "model_module": "@jupyter-widgets/controls",
      "model_module_version": "1.5.0",
      "model_name": "DescriptionStyleModel",
      "state": {
       "description_width": ""
      }
     },
     "817d681f700847aba0413371da4f3bc2": {
      "model_module": "@jupyter-widgets/controls",
      "model_module_version": "1.5.0",
      "model_name": "ToggleButtonModel",
      "state": {
       "button_style": "primary",
       "icon": "globe",
       "layout": "IPY_MODEL_dfb92c9eb73c47198d097def1d8003e7",
       "style": "IPY_MODEL_340101693e1a4664ae4a06160eb36a11",
       "tooltip": "Create timelapse"
      }
     },
     "8180bdb0d2174e05ab766f974522b099": {
      "model_module": "@jupyter-widgets/base",
      "model_module_version": "1.2.0",
      "model_name": "LayoutModel",
      "state": {}
     },
     "81e23c0402094eb2bc7bbe5d64433f11": {
      "model_module": "@jupyter-widgets/base",
      "model_module_version": "1.2.0",
      "model_name": "LayoutModel",
      "state": {
       "height": "auto",
       "padding": "0px 0px 0px 4px",
       "width": "auto"
      }
     },
     "81ef08b695d142cfa9e68c8c2b0b150b": {
      "model_module": "@jupyter-widgets/base",
      "model_module_version": "1.2.0",
      "model_name": "LayoutModel",
      "state": {
       "min_width": "6em",
       "width": "6em"
      }
     },
     "8249064b76ca42e184bb087c5c0604fb": {
      "model_module": "@jupyter-widgets/controls",
      "model_module_version": "1.5.0",
      "model_name": "VBoxModel",
      "state": {
       "children": [
        "IPY_MODEL_1a2614f412d64712b2d10191bbe8f161",
        "IPY_MODEL_e1c31e2a59994c068d69a17f5885408d"
       ],
       "layout": "IPY_MODEL_ea862d6f58144bbdadff3158179b05a0"
      }
     },
     "8266957bab824ed0b033071baf330092": {
      "model_module": "@jupyter-widgets/controls",
      "model_module_version": "1.5.0",
      "model_name": "VBoxModel",
      "state": {
       "children": [
        "IPY_MODEL_5a48f2cd31714611b8c3360c5a56caf3"
       ],
       "layout": "IPY_MODEL_f27a6e7d543d40d29180d0c1d1b43b82"
      }
     },
     "82bdb699fc3043b5b705720e77aaeae8": {
      "model_module": "@jupyter-widgets/controls",
      "model_module_version": "1.5.0",
      "model_name": "DescriptionStyleModel",
      "state": {
       "description_width": ""
      }
     },
     "82cf0ed79db04502b591d142995d0faf": {
      "model_module": "jupyter-leaflet",
      "model_module_version": "^0.17.0",
      "model_name": "LeafletTileLayerModel",
      "state": {
       "_model_module_version": "^0.17.0",
       "_view_module_version": "^0.17.0",
       "attribution": "Imagery provided by services from the Global Imagery Browse Services (GIBS), operated by the NASA/GSFC/Earth Science Data and Information System (ESDIS) with funding provided by NASA/HQ.",
       "max_zoom": 8,
       "name": "NASAGIBS.ViirsEarthAtNight2012",
       "options": [
        "attribution",
        "bounds",
        "detect_retina",
        "max_native_zoom",
        "max_zoom",
        "min_native_zoom",
        "min_zoom",
        "no_wrap",
        "tile_size",
        "tms"
       ],
       "url": "https://map1.vis.earthdata.nasa.gov/wmts-webmerc/VIIRS_CityLights_2012/default//GoogleMapsCompatible_Level8/{z}/{y}/{x}.jpg"
      }
     },
     "83167507397345198f8898c9630e56e8": {
      "model_module": "@jupyter-widgets/controls",
      "model_module_version": "1.5.0",
      "model_name": "ButtonModel",
      "state": {
       "description": "Cancel",
       "layout": "IPY_MODEL_13baaccca95f424da0a2c1a763ebcb42",
       "style": "IPY_MODEL_faf9cba1775d4680bf8f20817ae56ce7"
      }
     },
     "833bcb4e701a479ebf028acd823e1501": {
      "model_module": "@jupyter-widgets/controls",
      "model_module_version": "1.5.0",
      "model_name": "DescriptionStyleModel",
      "state": {
       "description_width": ""
      }
     },
     "8352db49bdd445d9b599a2d9b1554850": {
      "model_module": "@jupyter-widgets/controls",
      "model_module_version": "1.5.0",
      "model_name": "DescriptionStyleModel",
      "state": {
       "description_width": ""
      }
     },
     "838dc528f49b48af859aa147124c36d9": {
      "model_module": "jupyter-leaflet",
      "model_module_version": "^0.17.0",
      "model_name": "LeafletMarkerClusterModel",
      "state": {
       "_model_module_version": "^0.17.0",
       "_view_module_version": "^0.17.0",
       "disable_clustering_at_zoom": 18,
       "max_cluster_radius": 80,
       "name": "Marker Cluster",
       "options": [
        "disable_clustering_at_zoom",
        "max_cluster_radius"
       ]
      }
     },
     "83ceb8803a954c6e9542a685c10f0db4": {
      "model_module": "@jupyter-widgets/controls",
      "model_module_version": "1.5.0",
      "model_name": "ToggleButtonModel",
      "state": {
       "button_style": "primary",
       "icon": "retweet",
       "layout": "IPY_MODEL_eac6af329a534fa3bf8f7413c3e2a0be",
       "style": "IPY_MODEL_5bb7d7fbec624540a3a0288a8b6d4a2b",
       "tooltip": "Convert Earth Engine JavaScript to Python"
      }
     },
     "83d03127e60640f487a38a481778e91a": {
      "model_module": "@jupyter-widgets/controls",
      "model_module_version": "1.5.0",
      "model_name": "ButtonStyleModel",
      "state": {}
     },
     "83ee03b2b3984da19cae9c7d9dcaceed": {
      "model_module": "@jupyter-widgets/base",
      "model_module_version": "1.2.0",
      "model_name": "LayoutModel",
      "state": {
       "height": "28px",
       "padding": "0px 0px 0px 4px",
       "width": "28px"
      }
     },
     "842be6d8b8274590bdd8bb1523f85745": {
      "model_module": "@jupyter-widgets/base",
      "model_module_version": "1.2.0",
      "model_name": "LayoutModel",
      "state": {
       "height": "28px",
       "padding": "0px 0px 0px 4px",
       "width": "28px"
      }
     },
     "84439a43d4ef4571bdd06a81081fbf76": {
      "model_module": "@jupyter-widgets/controls",
      "model_module_version": "1.5.0",
      "model_name": "DescriptionStyleModel",
      "state": {
       "description_width": ""
      }
     },
     "850c71418ba04ef9893f383ea219f626": {
      "model_module": "@jupyter-widgets/base",
      "model_module_version": "1.2.0",
      "model_name": "LayoutModel",
      "state": {
       "height": "auto",
       "padding": "0px 0px 0px 4px",
       "width": "auto"
      }
     },
     "85764c922424419399bf23907ba95a08": {
      "model_module": "jupyter-leaflet",
      "model_module_version": "^0.17.0",
      "model_name": "LeafletMapModel",
      "state": {
       "_model_module_version": "^0.17.0",
       "_view_module_version": "^0.17.0",
       "bottom": 399526,
       "center": [
        39.4037160204789,
        -112.63575111241983
       ],
       "controls": [
        "IPY_MODEL_666824d9650b43f29786a93cd1e498f3",
        "IPY_MODEL_949f3486ba414239b649288aa6efbdd4",
        "IPY_MODEL_ce0fcec4a78948d7845690d3f213899c",
        "IPY_MODEL_20905ef0658946418732bb30961f3844",
        "IPY_MODEL_47d718e113e54bbc8cffac7e6564e9fa",
        "IPY_MODEL_2184aa8d3b864920a72f8e61e3675ebd",
        "IPY_MODEL_bf82fe0598604e0fbcc6612f320fa5b4",
        "IPY_MODEL_d725619a10e74d328dd3a48e53133cda"
       ],
       "default_style": "IPY_MODEL_9996998b167a414facacfab5df526ec6",
       "dragging_style": "IPY_MODEL_01d1a2c5050f4febb43faa0f2b683c6e",
       "east": -112.47287750244142,
       "fullscreen": false,
       "interpolation": "bilinear",
       "layers": [
        "IPY_MODEL_58553f7def894c119a40b6b637b949e3",
        "IPY_MODEL_dccd4bb897e648a3882e5ff861596586",
        "IPY_MODEL_794417e5b2cb4565966ad70c817cc0f6"
       ],
       "layout": "IPY_MODEL_4a64f2bfdfac4755be9bf366c0b8ab0f",
       "left": 195739,
       "max_zoom": 24,
       "modisdate": "2023-01-20",
       "north": 39.48337536581216,
       "options": [
        "bounce_at_zoom_limits",
        "box_zoom",
        "center",
        "close_popup_on_click",
        "double_click_zoom",
        "dragging",
        "fullscreen",
        "inertia",
        "inertia_deceleration",
        "inertia_max_speed",
        "interpolation",
        "keyboard",
        "keyboard_pan_offset",
        "keyboard_zoom_offset",
        "max_zoom",
        "min_zoom",
        "prefer_canvas",
        "scroll_wheel_zoom",
        "tap",
        "tap_tolerance",
        "touch_zoom",
        "world_copy_jump",
        "zoom",
        "zoom_animation_threshold",
        "zoom_delta",
        "zoom_snap"
       ],
       "prefer_canvas": false,
       "right": 196687,
       "scroll_wheel_zoom": true,
       "south": 39.3242059256878,
       "style": "IPY_MODEL_dc92ff38152e4fd59b68172b4efd1660",
       "top": 398926,
       "west": -112.79834747314455,
       "window_url": "https://jupyterhub.cuahsi.org/user/torresrua/lab/tree/projects/Machine-Learning-Applications-in-Remote-Sensing-Data/DSAW_Application_1_Step_1.ipynb"
      }
     },
     "85d2f04c8fdf4e399a3ab84af2955dca": {
      "model_module": "@jupyter-widgets/controls",
      "model_module_version": "1.5.0",
      "model_name": "ToggleButtonModel",
      "state": {
       "button_style": "primary",
       "icon": "map",
       "layout": "IPY_MODEL_738bb17b02344319a0e69f484e4a7481",
       "style": "IPY_MODEL_1313ac59aa304a189954b0193a693e39",
       "tooltip": "Change basemap"
      }
     },
     "861d4cd19c234e3790aadd48a436fff0": {
      "model_module": "@jupyter-widgets/output",
      "model_module_version": "1.0.0",
      "model_name": "OutputModel",
      "state": {
       "layout": "IPY_MODEL_8c077563262c41e0829d8879dc633e85"
      }
     },
     "86541a84d09145d6bcae43ad291c8c2b": {
      "model_module": "@jupyter-widgets/controls",
      "model_module_version": "1.5.0",
      "model_name": "ToggleButtonsModel",
      "state": {
       "_options_labels": [
        "OK",
        "Cancel"
       ],
       "button_style": "primary",
       "icons": [],
       "index": null,
       "layout": "IPY_MODEL_4f4c6835184c40e49ca7c4b0d21a604c",
       "style": "IPY_MODEL_aaff72b125234f22a741d9a6c5feb43b",
       "tooltips": [
        "OK",
        "Cancel"
       ]
      }
     },
     "865524668ba746c7847e4c94f6f85806": {
      "model_module": "@jupyter-widgets/controls",
      "model_module_version": "1.5.0",
      "model_name": "ToggleButtonsStyleModel",
      "state": {
       "button_width": "",
       "description_width": ""
      }
     },
     "8755ffb4eaf34f2f963b5150cfc12776": {
      "model_module": "@jupyter-widgets/controls",
      "model_module_version": "1.5.0",
      "model_name": "GridBoxModel",
      "state": {
       "children": [
        "IPY_MODEL_76733d72e3044099ad192ace01c57aaf",
        "IPY_MODEL_641a683dbf314fd88cedae8e1fc0d7bc",
        "IPY_MODEL_c16395ac822b46ca8a2e9cb26d672dde"
       ],
       "layout": "IPY_MODEL_6b0cbbc479f64960adc3a28b67a834f7"
      }
     },
     "875cc7ef6238494dac3745fe21e80bd4": {
      "model_module": "@jupyter-widgets/controls",
      "model_module_version": "1.5.0",
      "model_name": "DescriptionStyleModel",
      "state": {
       "description_width": ""
      }
     },
     "87854debe68d4fedac35feab58e477a7": {
      "model_module": "@jupyter-widgets/controls",
      "model_module_version": "1.5.0",
      "model_name": "BoxModel",
      "state": {
       "children": [
        "IPY_MODEL_473afd41d1c4434597e805b359bb9247"
       ],
       "layout": "IPY_MODEL_1025fb771e26498ba6d64e190881a580"
      }
     },
     "87c95bc0705b49bebc500279694186e7": {
      "model_module": "jupyter-leaflet",
      "model_module_version": "^0.17.0",
      "model_name": "LeafletScaleControlModel",
      "state": {
       "_model_module_version": "^0.17.0",
       "_view_module_version": "^0.17.0",
       "imperial": true,
       "max_width": 100,
       "metric": true,
       "options": [
        "imperial",
        "max_width",
        "metric",
        "position",
        "update_when_idle"
       ],
       "position": "bottomleft",
       "update_when_idle": false
      }
     },
     "8809c925bd7647ebba401de14b27be82": {
      "model_module": "@jupyter-widgets/controls",
      "model_module_version": "1.5.0",
      "model_name": "VBoxModel",
      "state": {
       "_view_count": 1,
       "children": [
        "IPY_MODEL_80a9f398b32645f382b6c457a54c6967"
       ],
       "layout": "IPY_MODEL_369212def6cf484b897c979bea1cd56a"
      }
     },
     "88109b5eada94a02825d83b39e57db9b": {
      "model_module": "jupyter-leaflet",
      "model_module_version": "^0.17.0",
      "model_name": "LeafletWidgetControlModel",
      "state": {
       "_model_module": "jupyter-leaflet",
       "_model_module_version": "^0.17.0",
       "_view_count": null,
       "_view_module": "jupyter-leaflet",
       "_view_module_version": "^0.17.0",
       "options": [
        "position",
        "transparent_bg"
       ],
       "position": "topright",
       "widget": "IPY_MODEL_3ef7c132cb9641b4bffa7a9e80574631"
      }
     },
     "8889909160ce49eabc3b70ea1d7f982f": {
      "model_module": "@jupyter-widgets/controls",
      "model_module_version": "1.5.0",
      "model_name": "CheckboxModel",
      "state": {
       "description": "Point",
       "disabled": false,
       "indent": false,
       "layout": "IPY_MODEL_5b2b6ddbd5804075ad8988e840886cd3",
       "style": "IPY_MODEL_833bcb4e701a479ebf028acd823e1501",
       "value": false
      }
     },
     "88baae7cbeeb4efdac6f51ccf7b19081": {
      "model_module": "jupyter-leaflet",
      "model_module_version": "^0.17.0",
      "model_name": "LeafletAttributionControlModel",
      "state": {
       "_model_module_version": "^0.17.0",
       "_view_module_version": "^0.17.0",
       "options": [
        "position",
        "prefix"
       ],
       "position": "bottomright",
       "prefix": "ipyleaflet"
      }
     },
     "89c276b270f84804886fd77a8ea00ad8": {
      "model_module": "@jupyter-widgets/controls",
      "model_module_version": "1.5.0",
      "model_name": "HTMLModel",
      "state": {
       "layout": "IPY_MODEL_32481a4a9a564d4f8ef1a591f3207864",
       "style": "IPY_MODEL_a131f7c1389344379bf15b57c94f8205"
      }
     },
     "8a336d4bc9534b60825902db861921c3": {
      "model_module": "@jupyter-widgets/controls",
      "model_module_version": "1.5.0",
      "model_name": "ToggleButtonModel",
      "state": {
       "icon": "globe",
       "layout": "IPY_MODEL_66a3cdf4028d4a5abda452dd7be80e5d",
       "style": "IPY_MODEL_f196d65e997a40558d3fa4ddeade4f34",
       "tooltip": "Search location/data"
      }
     },
     "8a626b81453d4e6490c4022da424ac00": {
      "model_module": "@jupyter-widgets/controls",
      "model_module_version": "1.5.0",
      "model_name": "DescriptionStyleModel",
      "state": {
       "description_width": ""
      }
     },
     "8aa948e947d441c1a3d1ac21609f3c16": {
      "model_module": "jupyter-leaflet",
      "model_module_version": "^0.17.0",
      "model_name": "LeafletTileLayerModel",
      "state": {
       "_model_module_version": "^0.17.0",
       "_view_module_version": "^0.17.0",
       "attribution": "Geoportail France",
       "max_zoom": 20,
       "name": "GeoportailFrance.parcels",
       "options": [
        "attribution",
        "bounds",
        "detect_retina",
        "max_native_zoom",
        "max_zoom",
        "min_native_zoom",
        "min_zoom",
        "no_wrap",
        "tile_size",
        "tms"
       ],
       "url": "https://wxs.ign.fr/choisirgeoportail/geoportail/wmts?REQUEST=GetTile&SERVICE=WMTS&VERSION=1.0.0&STYLE=PCI vecteur&TILEMATRIXSET=PM&FORMAT=image/png&LAYER=CADASTRALPARCELS.PARCELLAIRE_EXPRESS&TILEMATRIX={z}&TILEROW={y}&TILECOL={x}"
      }
     },
     "8b328e20e7604d4abec0054511a43dfb": {
      "model_module": "jupyter-leaflet",
      "model_module_version": "^0.17.0",
      "model_name": "LeafletAwesomeIconModel",
      "state": {
       "_model_module_version": "^0.17.0",
       "_view_module_version": "^0.17.0",
       "icon_color": "darkgreen",
       "marker_color": "green",
       "name": "check"
      }
     },
     "8c077563262c41e0829d8879dc633e85": {
      "model_module": "@jupyter-widgets/base",
      "model_module_version": "1.2.0",
      "model_name": "LayoutModel",
      "state": {
       "border": "1px solid black",
       "max_height": "530px",
       "max_width": "600px",
       "overflow": "auto"
      }
     },
     "8c11eaf0ec85435190546cc803cdb1ee": {
      "model_module": "@jupyter-widgets/controls",
      "model_module_version": "1.5.0",
      "model_name": "DescriptionStyleModel",
      "state": {
       "description_width": ""
      }
     },
     "8c87a98081514608a73c66406f410d34": {
      "model_module": "@jupyter-widgets/controls",
      "model_module_version": "1.5.0",
      "model_name": "HTMLModel",
      "state": {
       "layout": "IPY_MODEL_272de72bcf034856aaf710d880db570e",
       "style": "IPY_MODEL_6f603ce8f753438ba2dfd4329a10ef94"
      }
     },
     "8c90745bf2be49d0a588a04eda842cc0": {
      "model_module": "@jupyter-widgets/controls",
      "model_module_version": "1.5.0",
      "model_name": "ToggleButtonModel",
      "state": {
       "button_style": "primary",
       "icon": "info",
       "layout": "IPY_MODEL_4b63cbaefe5e440ca13824bb2b037dc6",
       "style": "IPY_MODEL_e090776e203e49fe9f0d2651efd30f65",
       "tooltip": "Inspector"
      }
     },
     "8cee93decd314cf8ab25b528b5fc533b": {
      "model_module": "@jupyter-widgets/controls",
      "model_module_version": "1.5.0",
      "model_name": "HBoxModel",
      "state": {
       "children": [
        "IPY_MODEL_7ba3127b16984b6a99164a6bcbe3828f",
        "IPY_MODEL_83167507397345198f8898c9630e56e8",
        "IPY_MODEL_440ff5b9c9b64752b79f7949a2704278"
       ],
       "layout": "IPY_MODEL_04f0b05defd14e1c81ac9cb4aa3dd595"
      }
     },
     "8cfd13f7c8704149a7dc1b66b9d0e069": {
      "model_module": "jupyter-leaflet",
      "model_module_version": "^0.17.0",
      "model_name": "LeafletTileLayerModel",
      "state": {
       "_model_module_version": "^0.17.0",
       "_view_module_version": "^0.17.0",
       "attribution": "Tiles (C) Esri -- Esri, DeLorme, NAVTEQ",
       "max_zoom": 16,
       "name": "Esri.WorldGrayCanvas",
       "options": [
        "attribution",
        "bounds",
        "detect_retina",
        "max_native_zoom",
        "max_zoom",
        "min_native_zoom",
        "min_zoom",
        "no_wrap",
        "tile_size",
        "tms"
       ],
       "url": "https://server.arcgisonline.com/ArcGIS/rest/services/Canvas/World_Light_Gray_Base/MapServer/tile/{z}/{y}/{x}"
      }
     },
     "8d1ab55354fe4eb4900711501603a7a7": {
      "model_module": "@jupyter-widgets/controls",
      "model_module_version": "1.5.0",
      "model_name": "ToggleButtonModel",
      "state": {
       "button_style": "primary",
       "icon": "fast-forward",
       "layout": "IPY_MODEL_2b3362bedb3449eb94663b2879b82e39",
       "style": "IPY_MODEL_cee71a9290ba4d5491a731efea64f718",
       "tooltip": "Activate timeslider"
      }
     },
     "8d4a399c35ec44b79fffb099ce1298b8": {
      "model_module": "jupyter-leaflet",
      "model_module_version": "^0.17.0",
      "model_name": "LeafletTileLayerModel",
      "state": {
       "_model_module_version": "^0.17.0",
       "_view_module_version": "^0.17.0",
       "attribution": "Imagery provided by services from the Global Imagery Browse Services (GIBS), operated by the NASA/GSFC/Earth Science Data and Information System (ESDIS) with funding provided by NASA/HQ.",
       "max_zoom": 8,
       "name": "NASAGIBS.ModisTerraSnowCover",
       "options": [
        "attribution",
        "bounds",
        "detect_retina",
        "max_native_zoom",
        "max_zoom",
        "min_native_zoom",
        "min_zoom",
        "no_wrap",
        "tile_size",
        "tms"
       ],
       "url": "https://map1.vis.earthdata.nasa.gov/wmts-webmerc/MODIS_Terra_NDSI_Snow_Cover/default//GoogleMapsCompatible_Level8/{z}/{y}/{x}.png"
      }
     },
     "8d5eee180444416fac29e93460036743": {
      "model_module": "@jupyter-widgets/base",
      "model_module_version": "1.2.0",
      "model_name": "LayoutModel",
      "state": {
       "height": "28px",
       "width": "72px"
      }
     },
     "8d650189fe3d4ac6912160a3bab43a9c": {
      "model_module": "@jupyter-widgets/controls",
      "model_module_version": "1.5.0",
      "model_name": "ButtonStyleModel",
      "state": {}
     },
     "8d7189a097af4bf0aff7419104e18e16": {
      "model_module": "jupyter-leaflet",
      "model_module_version": "^0.17.0",
      "model_name": "LeafletSearchControlModel",
      "state": {
       "_model_module_version": "^0.17.0",
       "_view_module_version": "^0.17.0",
       "marker": "IPY_MODEL_7a43c8fcca3143bd9aa04d4cf0155103",
       "options": [
        "animate_location",
        "auto_collapse",
        "auto_type",
        "found_style",
        "jsonp_param",
        "position",
        "property_loc",
        "property_name",
        "url",
        "zoom"
       ],
       "url": "https://nominatim.openstreetmap.org/search?format=json&q={s}",
       "zoom": 5
      }
     },
     "8d754cfc60ba4dc68d42d5d2b651cb1c": {
      "model_module": "@jupyter-widgets/controls",
      "model_module_version": "1.5.0",
      "model_name": "ToggleButtonModel",
      "state": {
       "button_style": "primary",
       "icon": "gears",
       "layout": "IPY_MODEL_209820eb246d457393aa9699cda5c7d1",
       "style": "IPY_MODEL_3962013ad11e4a1a91e4f4491189b0df",
       "tooltip": "WhiteboxTools for local geoprocessing"
      }
     },
     "8dfa09ee43294e62b988fa872af7c066": {
      "model_module": "jupyter-leaflet",
      "model_module_version": "^0.17.0",
      "model_name": "LeafletFullScreenControlModel",
      "state": {
       "_model_module_version": "^0.17.0",
       "_view_module_version": "^0.17.0",
       "options": [
        "position"
       ]
      }
     },
     "8dfec75b02f94fffb1ece32418f4605b": {
      "model_module": "@jupyter-widgets/base",
      "model_module_version": "1.2.0",
      "model_name": "LayoutModel",
      "state": {
       "min_width": "6em",
       "width": "6em"
      }
     },
     "8e53deff751c4d459cb22fa4c15afbc7": {
      "model_module": "jupyter-leaflet",
      "model_module_version": "^0.17.0",
      "model_name": "LeafletTileLayerModel",
      "state": {
       "_model_module_version": "^0.17.0",
       "_view_module_version": "^0.17.0",
       "attribution": "© swisstopo",
       "name": "SwissFederalGeoportal.NationalMapColor",
       "options": [
        "attribution",
        "bounds",
        "detect_retina",
        "max_native_zoom",
        "max_zoom",
        "min_native_zoom",
        "min_zoom",
        "no_wrap",
        "tile_size",
        "tms"
       ],
       "url": "https://wmts.geo.admin.ch/1.0.0/ch.swisstopo.pixelkarte-farbe/default/current/3857/{z}/{x}/{y}.jpeg"
      }
     },
     "8e66eff585e5438b8b330a68adc373f9": {
      "model_module": "@jupyter-widgets/controls",
      "model_module_version": "1.5.0",
      "model_name": "ToggleButtonsStyleModel",
      "state": {
       "button_width": "",
       "description_width": ""
      }
     },
     "8eadfeb4a3954599bb93f7c09ffb2853": {
      "model_module": "@jupyter-widgets/base",
      "model_module_version": "1.2.0",
      "model_name": "LayoutModel",
      "state": {
       "height": "auto",
       "padding": "0px 0px 0px 4px",
       "width": "auto"
      }
     },
     "8eb25956cfa94a12bc104726cc1c43c6": {
      "model_module": "@jupyter-widgets/controls",
      "model_module_version": "1.5.0",
      "model_name": "ToggleButtonModel",
      "state": {
       "icon": "wrench",
       "layout": "IPY_MODEL_1af8544c6d214ab9872387a6b125a7ba",
       "style": "IPY_MODEL_defc79c29ac148a1a863319f3d34c13c",
       "tooltip": "Toolbar"
      }
     },
     "8eefffffa3a14bacab8e07ee4dc2d147": {
      "model_module": "@jupyter-widgets/base",
      "model_module_version": "1.2.0",
      "model_name": "LayoutModel",
      "state": {
       "height": "auto",
       "padding": "0px 0px 0px 4px",
       "width": "auto"
      }
     },
     "8f7901ae32794851b28d40b4f0b3a4c1": {
      "model_module": "@jupyter-widgets/controls",
      "model_module_version": "1.5.0",
      "model_name": "ToggleButtonModel",
      "state": {
       "icon": "wrench",
       "layout": "IPY_MODEL_5bcf39b946a74b0383347c4fb10bb870",
       "style": "IPY_MODEL_d0e8fd9aa5ef476d9815070ad83b4cc7",
       "tooltip": "Toolbar"
      }
     },
     "8fb33942fd874edf8e55572b8097a5fd": {
      "model_module": "@jupyter-widgets/controls",
      "model_module_version": "1.5.0",
      "model_name": "CheckboxModel",
      "state": {
       "description": "Pixels",
       "disabled": false,
       "indent": false,
       "layout": "IPY_MODEL_15cdf115af1b4c199f33631298df9c07",
       "style": "IPY_MODEL_434b1d10b33c4c6eb8bab76dd56a9b1f",
       "value": true
      }
     },
     "8fd56cbf6f72447389201c8eea710444": {
      "model_module": "jupyter-leaflet",
      "model_module_version": "^0.17.0",
      "model_name": "LeafletTileLayerModel",
      "state": {
       "_model_module_version": "^0.17.0",
       "_view_module_version": "^0.17.0",
       "attribution": "(C) OpenStreetMap contributors",
       "name": "OpenStreetMap.DE",
       "options": [
        "attribution",
        "bounds",
        "detect_retina",
        "max_native_zoom",
        "max_zoom",
        "min_native_zoom",
        "min_zoom",
        "no_wrap",
        "tile_size",
        "tms"
       ],
       "url": "https://a.tile.openstreetmap.de/{z}/{x}/{y}.png"
      }
     },
     "9063f89c635f491c8b4cbcecb672656d": {
      "model_module": "@jupyter-widgets/controls",
      "model_module_version": "1.5.0",
      "model_name": "ToggleButtonModel",
      "state": {
       "button_style": "primary",
       "icon": "info",
       "layout": "IPY_MODEL_d3d2588e0ca94c25aa38fc2a3a5053b6",
       "style": "IPY_MODEL_5064fd7544ca452e942f5d4e2fa9de52",
       "tooltip": "Inspector"
      }
     },
     "9081fe28bf1e4364bee404b2e1a4e474": {
      "model_module": "@jupyter-widgets/controls",
      "model_module_version": "1.5.0",
      "model_name": "VBoxModel",
      "state": {
       "children": [
        "IPY_MODEL_9e8f451ec72b49659c69bfa144cbb763"
       ],
       "layout": "IPY_MODEL_f9818856f7924853926dc8611cb21ec2"
      }
     },
     "908d7b86c02c42c6aab7666c7e703c95": {
      "model_module": "@jupyter-widgets/base",
      "model_module_version": "1.2.0",
      "model_name": "LayoutModel",
      "state": {
       "height": "auto",
       "padding": "0px 0px 0px 4px",
       "width": "auto"
      }
     },
     "9302cd75a2294fdeb1ed5fd25dc381fe": {
      "model_module": "@jupyter-widgets/base",
      "model_module_version": "1.2.0",
      "model_name": "LayoutModel",
      "state": {
       "height": "auto",
       "padding": "0px 0px 0px 4px",
       "width": "auto"
      }
     },
     "938e6877b4dc439c9e29c0768c9e32c3": {
      "model_module": "@jupyter-widgets/base",
      "model_module_version": "1.2.0",
      "model_name": "LayoutModel",
      "state": {
       "min_width": "6em",
       "width": "6em"
      }
     },
     "93958726c9f740209b8076ea4c3f7eb7": {
      "model_module": "jupyter-leaflet",
      "model_module_version": "^0.17.0",
      "model_name": "LeafletTileLayerModel",
      "state": {
       "_model_module_version": "^0.17.0",
       "_view_module_version": "^0.17.0",
       "attribution": "Map tiles by Stamen Design, CC BY 3.0 -- Map data (C) OpenStreetMap contributors",
       "max_zoom": 20,
       "name": "Stamen.Toner",
       "options": [
        "attribution",
        "bounds",
        "detect_retina",
        "max_native_zoom",
        "max_zoom",
        "min_native_zoom",
        "min_zoom",
        "no_wrap",
        "tile_size",
        "tms"
       ],
       "url": "https://stamen-tiles-a.a.ssl.fastly.net/toner/{z}/{x}/{y}.png"
      }
     },
     "939bd008468043c6b97c74c0a8e3d264": {
      "model_module": "@jupyter-widgets/controls",
      "model_module_version": "1.5.0",
      "model_name": "ToggleButtonModel",
      "state": {
       "button_style": "primary",
       "icon": "question",
       "layout": "IPY_MODEL_7cdbbb7aec2c47a2a90cb11fd5f3247c",
       "style": "IPY_MODEL_cf1be6da40cc4666a103f53eff747143",
       "tooltip": "Get help"
      }
     },
     "93bf88eed668433fa3bece9007e3d568": {
      "model_module": "@jupyter-widgets/base",
      "model_module_version": "1.2.0",
      "model_name": "LayoutModel",
      "state": {
       "height": "600px"
      }
     },
     "93d12e69626447dcaa0f39650cac5950": {
      "model_module": "@jupyter-widgets/base",
      "model_module_version": "1.2.0",
      "model_name": "LayoutModel",
      "state": {}
     },
     "9402e571986744b0afb06eeda3a28b77": {
      "model_module": "@jupyter-widgets/controls",
      "model_module_version": "1.5.0",
      "model_name": "ToggleButtonModel",
      "state": {
       "button_style": "primary",
       "icon": "folder-open",
       "layout": "IPY_MODEL_b46fcd45cf5c467ba4c1a8dc0d80a9e2",
       "style": "IPY_MODEL_7126ed72b4344125b9916d3cc5f78720",
       "tooltip": "Open local vector/raster data"
      }
     },
     "944a5d9a22d640a487cf33653a067c94": {
      "model_module": "@jupyter-widgets/base",
      "model_module_version": "1.2.0",
      "model_name": "LayoutModel",
      "state": {
       "height": "auto",
       "padding": "0px 0px 0px 4px",
       "width": "auto"
      }
     },
     "944fd05ab68549ca91d710f639610708": {
      "model_module": "@jupyter-widgets/controls",
      "model_module_version": "1.5.0",
      "model_name": "VBoxModel",
      "state": {
       "children": [
        "IPY_MODEL_c53dcf6c29824689b9401e29a6794786"
       ],
       "layout": "IPY_MODEL_c0b69cca033d4295baa505cac967d738"
      }
     },
     "949f3486ba414239b649288aa6efbdd4": {
      "model_module": "jupyter-leaflet",
      "model_module_version": "^0.17.0",
      "model_name": "LeafletZoomControlModel",
      "state": {
       "_model_module_version": "^0.17.0",
       "_view_module_version": "^0.17.0",
       "options": [
        "position",
        "zoom_in_text",
        "zoom_in_title",
        "zoom_out_text",
        "zoom_out_title"
       ]
      }
     },
     "94c742b72f7d446289e57bf8e97336eb": {
      "model_module": "jupyter-leaflet",
      "model_module_version": "^0.17.0",
      "model_name": "LeafletTileLayerModel",
      "state": {
       "_model_module_version": "^0.17.0",
       "_view_module_version": "^0.17.0",
       "attribution": "&copy; <a href=\"https://www.openstreetmap.org/copyright\">OpenStreetMap</a> contributors",
       "base": true,
       "max_zoom": 19,
       "min_zoom": 1,
       "name": "OpenStreetMap.Mapnik",
       "options": [
        "attribution",
        "bounds",
        "detect_retina",
        "max_native_zoom",
        "max_zoom",
        "min_native_zoom",
        "min_zoom",
        "no_wrap",
        "tile_size",
        "tms"
       ],
       "url": "https://a.tile.openstreetmap.org/{z}/{x}/{y}.png"
      }
     },
     "94cb2dfe9767414294b4c22e0fa84222": {
      "model_module": "@jupyter-widgets/controls",
      "model_module_version": "1.5.0",
      "model_name": "ToggleButtonModel",
      "state": {
       "button_style": "primary",
       "icon": "globe",
       "layout": "IPY_MODEL_3e522ffd8ca54109a7b22fe1aaa1af8c",
       "style": "IPY_MODEL_3f7085893b0447af86c46efc92a10edf",
       "tooltip": "Create timelapse"
      }
     },
     "94db00dbbdd1422c9c8805a8ab39dbe2": {
      "model_module": "@jupyter-widgets/controls",
      "model_module_version": "1.5.0",
      "model_name": "ButtonModel",
      "state": {
       "button_style": "primary",
       "description": "import",
       "layout": "IPY_MODEL_b9ad7e5fc316457184e0afbf8d05c4be",
       "style": "IPY_MODEL_6148fd3602ca49b2823f202ff6e338db",
       "tooltip": "Click to import the selected asset"
      }
     },
     "94ea0f5c6b5a4615b39793e07cd7130f": {
      "model_module": "@jupyter-widgets/controls",
      "model_module_version": "1.5.0",
      "model_name": "DescriptionStyleModel",
      "state": {
       "description_width": ""
      }
     },
     "959d822302594031bb38c18690b45b72": {
      "model_module": "@jupyter-widgets/base",
      "model_module_version": "1.2.0",
      "model_name": "LayoutModel",
      "state": {
       "height": "auto",
       "padding": "0px 0px 0px 4px",
       "width": "auto"
      }
     },
     "95abdeb421b047d8bb05c2929610863e": {
      "model_module": "@jupyter-widgets/base",
      "model_module_version": "1.2.0",
      "model_name": "LayoutModel",
      "state": {
       "width": "auto"
      }
     },
     "95c45722102a4c16bc0ba902f9eea41c": {
      "model_module": "@jupyter-widgets/base",
      "model_module_version": "1.2.0",
      "model_name": "LayoutModel",
      "state": {
       "grid_gap": "1px 1px",
       "grid_template_columns": "32px 32px 32px ",
       "grid_template_rows": "32px 32px 32px 32px 32px 32px ",
       "padding": "5px",
       "width": "109px"
      }
     },
     "96df9d84cdd843b9947f28b8ab45be7d": {
      "model_module": "jupyter-leaflet",
      "model_module_version": "^0.17.0",
      "model_name": "LeafletTileLayerModel",
      "state": {
       "_model_module_version": "^0.17.0",
       "_view_module_version": "^0.17.0",
       "attribution": "Imagery provided by services from the Global Imagery Browse Services (GIBS), operated by the NASA/GSFC/Earth Science Data and Information System (ESDIS) with funding provided by NASA/HQ.",
       "max_zoom": 7,
       "name": "NASAGIBS.ModisTerraChlorophyll",
       "options": [
        "attribution",
        "bounds",
        "detect_retina",
        "max_native_zoom",
        "max_zoom",
        "min_native_zoom",
        "min_zoom",
        "no_wrap",
        "tile_size",
        "tms"
       ],
       "url": "https://map1.vis.earthdata.nasa.gov/wmts-webmerc/MODIS_Terra_Chlorophyll_A/default//GoogleMapsCompatible_Level7/{z}/{y}/{x}.png"
      }
     },
     "96e7ac3b3bd249babfbe682d3fa4b61f": {
      "model_module": "jupyter-leaflet",
      "model_module_version": "^0.17.0",
      "model_name": "LeafletDrawControlModel",
      "state": {
       "_model_module_version": "^0.17.0",
       "_view_module_version": "^0.17.0",
       "circle": {
        "shapeOptions": {
         "color": "#3388ff"
        }
       },
       "marker": {
        "shapeOptions": {
         "color": "#3388ff"
        }
       },
       "options": [
        "position"
       ],
       "rectangle": {
        "shapeOptions": {
         "color": "#3388ff"
        }
       }
      }
     },
     "97006567325949bdb25dd33221953f44": {
      "model_module": "@jupyter-widgets/base",
      "model_module_version": "1.2.0",
      "model_name": "LayoutModel",
      "state": {
       "height": "auto",
       "padding": "0px 0px 0px 4px",
       "width": "auto"
      }
     },
     "970553042f2e47239a61d7fddde989c4": {
      "model_module": "@jupyter-widgets/base",
      "model_module_version": "1.2.0",
      "model_name": "LayoutModel",
      "state": {
       "height": "auto",
       "padding": "0px 0px 0px 4px",
       "width": "auto"
      }
     },
     "973ca481abb14454b3ff7696b34f6561": {
      "model_module": "jupyter-leaflet",
      "model_module_version": "^0.17.0",
      "model_name": "LeafletAwesomeIconModel",
      "state": {
       "_model_module_version": "^0.17.0",
       "_view_module_version": "^0.17.0",
       "icon_color": "darkgreen",
       "marker_color": "green",
       "name": "check"
      }
     },
     "9740b8edf0b24e88a0993ea0b2eadd00": {
      "model_module": "@jupyter-widgets/controls",
      "model_module_version": "1.5.0",
      "model_name": "ToggleButtonsStyleModel",
      "state": {
       "button_width": "",
       "description_width": ""
      }
     },
     "974b5c16d6994653ba53aaee249fc3a3": {
      "model_module": "@jupyter-widgets/controls",
      "model_module_version": "1.5.0",
      "model_name": "DescriptionStyleModel",
      "state": {
       "description_width": ""
      }
     },
     "98146f1926f249e390cf18882032d2ff": {
      "model_module": "@jupyter-widgets/controls",
      "model_module_version": "1.5.0",
      "model_name": "TextModel",
      "state": {
       "layout": "IPY_MODEL_277fb6c30be84ade8a8980a8a0be5cff",
       "placeholder": "Search by place name or address",
       "style": "IPY_MODEL_6feb8be95b684d3bbb9ca740c837cc8f"
      }
     },
     "984fd56f540c4c90848592c3b89d1312": {
      "model_module": "@jupyter-widgets/output",
      "model_module_version": "1.0.0",
      "model_name": "OutputModel",
      "state": {
       "layout": "IPY_MODEL_382c375553e04950b0f15571337ad8c3"
      }
     },
     "9892bd7a7ff6426f8f15592f628b8471": {
      "model_module": "@jupyter-widgets/controls",
      "model_module_version": "1.5.0",
      "model_name": "RadioButtonsModel",
      "state": {
       "index": null,
       "layout": "IPY_MODEL_990fd99084714291993b2322b4904069",
       "style": "IPY_MODEL_bcdf95b3863a4e36a2b864895329ed82"
      }
     },
     "990fd99084714291993b2322b4904069": {
      "model_module": "@jupyter-widgets/base",
      "model_module_version": "1.2.0",
      "model_name": "LayoutModel",
      "state": {}
     },
     "993a490175d74b6fbcc2544bfdad8dfe": {
      "model_module": "jupyter-leaflet",
      "model_module_version": "^0.17.0",
      "model_name": "LeafletTileLayerModel",
      "state": {
       "_model_module_version": "^0.17.0",
       "_view_module_version": "^0.17.0",
       "attribution": "Map data: (C) OpenStreetMap contributors | Map style: (C) waymarkedtrails.org (CC-BY-SA)",
       "name": "WaymarkedTrails.mtb",
       "options": [
        "attribution",
        "bounds",
        "detect_retina",
        "max_native_zoom",
        "max_zoom",
        "min_native_zoom",
        "min_zoom",
        "no_wrap",
        "tile_size",
        "tms"
       ],
       "url": "https://tile.waymarkedtrails.org/mtb/{z}/{x}/{y}.png"
      }
     },
     "997b2486165148fba69ffb1d4363ee48": {
      "model_module": "@jupyter-widgets/controls",
      "model_module_version": "1.5.0",
      "model_name": "DescriptionStyleModel",
      "state": {
       "description_width": ""
      }
     },
     "9996998b167a414facacfab5df526ec6": {
      "model_module": "jupyter-leaflet",
      "model_module_version": "^0.17.0",
      "model_name": "LeafletMapStyleModel",
      "state": {
       "_model_module_version": "^0.17.0"
      }
     },
     "99d7ceb64a7744ffb849057062ff3b88": {
      "model_module": "@jupyter-widgets/controls",
      "model_module_version": "1.5.0",
      "model_name": "ToggleButtonModel",
      "state": {
       "button_style": "primary",
       "icon": "globe",
       "layout": "IPY_MODEL_ceb429dd43ad436b8d21c1a04fa38e03",
       "style": "IPY_MODEL_f7823a74a5834c5d83a48b699ce03b41",
       "tooltip": "Create timelapse"
      }
     },
     "99ead80a02ff4976a2ce7affc4e965fd": {
      "model_module": "@jupyter-widgets/controls",
      "model_module_version": "1.5.0",
      "model_name": "HTMLModel",
      "state": {
       "layout": "IPY_MODEL_7172743672fa4fb799122aa817ce5e75",
       "style": "IPY_MODEL_f398973aa22043c09d937994465d5065"
      }
     },
     "9a8438554d3f47968bdebfdadc618dfe": {
      "model_module": "@jupyter-widgets/controls",
      "model_module_version": "1.5.0",
      "model_name": "CheckboxModel",
      "state": {
       "description": "Point",
       "disabled": false,
       "indent": false,
       "layout": "IPY_MODEL_9e30012436c946608bbca97ad797efec",
       "style": "IPY_MODEL_4bbeb30ecd0d4340a0a3971120e6ce17",
       "value": false
      }
     },
     "9ad600d557e6480fa2356fc65c6aa053": {
      "model_module": "@jupyter-widgets/base",
      "model_module_version": "1.2.0",
      "model_name": "LayoutModel",
      "state": {
       "border": "1px solid black",
       "max_height": "530px",
       "max_width": "600px",
       "overflow": "auto"
      }
     },
     "9ae3b28c93124659a94bd66edc494853": {
      "model_module": "jupyter-leaflet",
      "model_module_version": "^0.17.0",
      "model_name": "LeafletAwesomeIconModel",
      "state": {
       "_model_module_version": "^0.17.0",
       "_view_module_version": "^0.17.0",
       "icon_color": "darkgreen",
       "marker_color": "green",
       "name": "check"
      }
     },
     "9b4d0fbe56544476a57bda67dd95d101": {
      "model_module": "jupyter-leaflet",
      "model_module_version": "^0.17.0",
      "model_name": "LeafletWMSLayerModel",
      "state": {
       "_model_module_version": "^0.17.0",
       "_view_module_version": "^0.17.0",
       "attribution": "ESA",
       "crs": {
        "custom": false,
        "name": "EPSG3857"
       },
       "format": "image/png",
       "layers": "WORLDCOVER_2021_S2_FCC",
       "name": "ESA Worldcover 2021 S2 FCC",
       "options": [
        "attribution",
        "bounds",
        "detect_retina",
        "format",
        "layers",
        "max_native_zoom",
        "max_zoom",
        "min_native_zoom",
        "min_zoom",
        "no_wrap",
        "styles",
        "tile_size",
        "tms",
        "transparent",
        "uppercase"
       ],
       "transparent": true,
       "url": "https://services.terrascope.be/wms/v2"
      }
     },
     "9b7b50fe36794bbea9a967ef8c23bd00": {
      "model_module": "@jupyter-widgets/controls",
      "model_module_version": "1.5.0",
      "model_name": "ToggleButtonModel",
      "state": {
       "icon": "globe",
       "layout": "IPY_MODEL_202af7986b4645389061d6734eb1cac2",
       "style": "IPY_MODEL_75f57b9272f442f08fa718099f64b7fc",
       "tooltip": "Search location/data"
      }
     },
     "9c00d58467dd4c44ac4257d11b55f29f": {
      "model_module": "@jupyter-widgets/controls",
      "model_module_version": "1.5.0",
      "model_name": "LabelModel",
      "state": {
       "layout": "IPY_MODEL_3b7f89b9da87426aa1db639f5e97cbae",
       "style": "IPY_MODEL_e716089ad33f46f898ad4cea7335bc5c"
      }
     },
     "9c63028e28f843cb83ca17b4ed857b8e": {
      "model_module": "@jupyter-widgets/controls",
      "model_module_version": "1.5.0",
      "model_name": "DescriptionStyleModel",
      "state": {
       "description_width": ""
      }
     },
     "9c83b74df3d449d39791195ca606f348": {
      "model_module": "jupyter-leaflet",
      "model_module_version": "^0.17.0",
      "model_name": "LeafletWMSLayerModel",
      "state": {
       "_model_module_version": "^0.17.0",
       "_view_module_version": "^0.17.0",
       "attribution": "USGS",
       "crs": {
        "custom": false,
        "name": "EPSG3857"
       },
       "format": "image/png",
       "layers": "USGSNAIPImagery:NaturalColor",
       "name": "USGS NAIP Imagery",
       "options": [
        "attribution",
        "bounds",
        "detect_retina",
        "format",
        "layers",
        "max_native_zoom",
        "max_zoom",
        "min_native_zoom",
        "min_zoom",
        "no_wrap",
        "styles",
        "tile_size",
        "tms",
        "transparent",
        "uppercase"
       ],
       "transparent": true,
       "url": "https://imagery.nationalmap.gov/arcgis/services/USGSNAIPImagery/ImageServer/WMSServer?"
      }
     },
     "9cdf51d8a3b146cbbb3ab23bca99c576": {
      "model_module": "@jupyter-widgets/base",
      "model_module_version": "1.2.0",
      "model_name": "LayoutModel",
      "state": {}
     },
     "9d70602eae0847d4b1c802fe3d894c54": {
      "model_module": "jupyter-leaflet",
      "model_module_version": "^0.17.0",
      "model_name": "LeafletTileLayerModel",
      "state": {
       "_model_module_version": "^0.17.0",
       "_view_module_version": "^0.17.0",
       "attribution": "(C) OpenStreetMap contributors, vizualization CC-By-SA 2.0 Freemap.sk",
       "max_zoom": 16,
       "name": "FreeMapSK",
       "options": [
        "attribution",
        "bounds",
        "detect_retina",
        "max_native_zoom",
        "max_zoom",
        "min_native_zoom",
        "min_zoom",
        "no_wrap",
        "tile_size",
        "tms"
       ],
       "url": "https://a.freemap.sk/T/{z}/{x}/{y}.jpeg"
      }
     },
     "9d84eba3fec242e0ad4fa06570cdc289": {
      "model_module": "@jupyter-widgets/controls",
      "model_module_version": "1.5.0",
      "model_name": "DescriptionStyleModel",
      "state": {
       "description_width": ""
      }
     },
     "9da253e2a05342399d60c7f294eda7e9": {
      "model_module": "@jupyter-widgets/controls",
      "model_module_version": "1.5.0",
      "model_name": "DescriptionStyleModel",
      "state": {
       "description_width": ""
      }
     },
     "9dc2deed24194e5a8db350f4b95abcb9": {
      "model_module": "@jupyter-widgets/base",
      "model_module_version": "1.2.0",
      "model_name": "LayoutModel",
      "state": {
       "height": "auto",
       "padding": "0px 0px 0px 4px",
       "width": "auto"
      }
     },
     "9e164a436b464d6e98703ffbbfe29a79": {
      "model_module": "@jupyter-widgets/base",
      "model_module_version": "1.2.0",
      "model_name": "LayoutModel",
      "state": {}
     },
     "9e30012436c946608bbca97ad797efec": {
      "model_module": "@jupyter-widgets/base",
      "model_module_version": "1.2.0",
      "model_name": "LayoutModel",
      "state": {
       "width": "65px"
      }
     },
     "9e5c285f54964ccf98909a8861e9de8e": {
      "model_module": "jupyter-leaflet",
      "model_module_version": "^0.17.0",
      "model_name": "LeafletTileLayerModel",
      "state": {
       "_model_module_version": "^0.17.0",
       "_view_module_version": "^0.17.0",
       "attribution": "Imagery provided by services from the Global Imagery Browse Services (GIBS), operated by the NASA/GSFC/Earth Science Data and Information System (ESDIS) with funding provided by NASA/HQ.",
       "max_zoom": 5,
       "name": "NASAGIBS.BlueMarble3413",
       "options": [
        "attribution",
        "bounds",
        "detect_retina",
        "max_native_zoom",
        "max_zoom",
        "min_native_zoom",
        "min_zoom",
        "no_wrap",
        "tile_size",
        "tms"
       ],
       "url": "https://gibs.earthdata.nasa.gov/wmts/epsg3413/best/BlueMarble_NextGeneration/default/EPSG3413_500m/{z}/{y}/{x}.jpeg"
      }
     },
     "9e87dc37343d4d85a99777988e313f46": {
      "model_module": "@jupyter-widgets/base",
      "model_module_version": "1.2.0",
      "model_name": "LayoutModel",
      "state": {
       "width": "70px"
      }
     },
     "9e8f451ec72b49659c69bfa144cbb763": {
      "model_module": "@jupyter-widgets/controls",
      "model_module_version": "1.5.0",
      "model_name": "GridBoxModel",
      "state": {
       "children": [
        "IPY_MODEL_9063f89c635f491c8b4cbcecb672656d",
        "IPY_MODEL_3efc8c89879f453896b82a01816779fc",
        "IPY_MODEL_e217c14da3754fb3a756f742a22dfbd7",
        "IPY_MODEL_6f213bb61be344f58c4778336f78564e",
        "IPY_MODEL_624502b6c0314080b990c3e61a28a0eb",
        "IPY_MODEL_caabaab830984b43b4e31e69f0474033",
        "IPY_MODEL_459a1339631f4e739f94e45469140884",
        "IPY_MODEL_032acd3ada1a4f5ab83e17449eff9992",
        "IPY_MODEL_11adfd92c16a4514aac5003a66eddd25",
        "IPY_MODEL_99d7ceb64a7744ffb849057062ff3b88",
        "IPY_MODEL_e5607a3dd45b4e33a7b5a20bcb85a947",
        "IPY_MODEL_f8f899a6a0d44767b9c731ded94b81b7",
        "IPY_MODEL_715c107e38aa4058b4cf7d2cb17548dc",
        "IPY_MODEL_d014188b49cc44d186f7031e95054bf3",
        "IPY_MODEL_3aa91c1171f44022ade98e28b92fd9ea",
        "IPY_MODEL_57075a14112f4b30bd399f605df7187e",
        "IPY_MODEL_f5c2f4df4f6c46ebb92d4695d896bb34",
        "IPY_MODEL_105e0e507c8a4578b9e97b0ffd9c9c19"
       ],
       "layout": "IPY_MODEL_7496f30b2bc04893baf36e61133b381f"
      }
     },
     "9e9d9caf69004d5db9c9e5b2d31dae4a": {
      "model_module": "@jupyter-widgets/base",
      "model_module_version": "1.2.0",
      "model_name": "LayoutModel",
      "state": {
       "grid_area": "pathlist",
       "width": "auto"
      }
     },
     "9f060b33d50f4d29912698f3a3180ec4": {
      "model_module": "jupyter-leaflet",
      "model_module_version": "^0.17.0",
      "model_name": "LeafletTileLayerModel",
      "state": {
       "_model_module_version": "^0.17.0",
       "_view_module_version": "^0.17.0",
       "attribution": "Google Earth Engine",
       "max_zoom": 24,
       "name": "landsat7_jun_14",
       "options": [
        "attribution",
        "bounds",
        "detect_retina",
        "max_native_zoom",
        "max_zoom",
        "min_native_zoom",
        "min_zoom",
        "no_wrap",
        "tile_size",
        "tms"
       ],
       "url": "https://earthengine.googleapis.com/v1alpha/projects/earthengine-legacy/maps/c7bfa7fc49f7426551154ec727162226-5ae266e7d2c7c78d60a01b5dd8129407/tiles/{z}/{x}/{y}"
      }
     },
     "9f436a34da824bccb41a95b0e16526b7": {
      "model_module": "jupyter-leaflet",
      "model_module_version": "^0.17.0",
      "model_name": "LeafletTileLayerModel",
      "state": {
       "_model_module_version": "^0.17.0",
       "_view_module_version": "^0.17.0",
       "attribution": "Map data: (C) OpenStreetMap contributors & ODbL, (C) www.opensnowmap.org CC-BY-SA",
       "name": "OpenSnowMap.pistes",
       "options": [
        "attribution",
        "bounds",
        "detect_retina",
        "max_native_zoom",
        "max_zoom",
        "min_native_zoom",
        "min_zoom",
        "no_wrap",
        "tile_size",
        "tms"
       ],
       "url": "https://tiles.opensnowmap.org/pistes/{z}/{x}/{y}.png"
      }
     },
     "a05492bf7cc84ea2b09bee8f7e332668": {
      "model_module": "jupyter-leaflet",
      "model_module_version": "^0.17.0",
      "model_name": "LeafletMapStyleModel",
      "state": {
       "_model_module_version": "^0.17.0",
       "cursor": "move"
      }
     },
     "a061f152d0384658bac6f364a856bcd1": {
      "model_module": "jupyter-leaflet",
      "model_module_version": "^0.17.0",
      "model_name": "LeafletTileLayerModel",
      "state": {
       "_model_module_version": "^0.17.0",
       "_view_module_version": "^0.17.0",
       "attribution": "Tiles (C) Esri -- Source: Esri, DeLorme, NAVTEQ, USGS, Intermap, iPC, NRCAN, Esri Japan, METI, Esri China (Hong Kong), Esri (Thailand), TomTom, 2012",
       "max_zoom": 22,
       "name": "Esri.WorldStreetMap",
       "options": [
        "attribution",
        "bounds",
        "detect_retina",
        "max_native_zoom",
        "max_zoom",
        "min_native_zoom",
        "min_zoom",
        "no_wrap",
        "tile_size",
        "tms"
       ],
       "url": "https://server.arcgisonline.com/ArcGIS/rest/services/World_Street_Map/MapServer/tile/{z}/{y}/{x}"
      }
     },
     "a0ca325193a94787a2300de008192829": {
      "model_module": "@jupyter-widgets/base",
      "model_module_version": "1.2.0",
      "model_name": "LayoutModel",
      "state": {
       "padding": "0px 0px 0px 4px"
      }
     },
     "a0e7f1e9a3744f31bf4a7a97890f0ab6": {
      "model_module": "@jupyter-widgets/base",
      "model_module_version": "1.2.0",
      "model_name": "LayoutModel",
      "state": {
       "display": "none"
      }
     },
     "a0f5132e84a0482c9e774a1d79673b09": {
      "model_module": "@jupyter-widgets/base",
      "model_module_version": "1.2.0",
      "model_name": "LayoutModel",
      "state": {
       "grid_area": "filename",
       "width": "auto"
      }
     },
     "a131f7c1389344379bf15b57c94f8205": {
      "model_module": "@jupyter-widgets/controls",
      "model_module_version": "1.5.0",
      "model_name": "DescriptionStyleModel",
      "state": {
       "description_width": ""
      }
     },
     "a1c36d8c3e8b461889de1c9abfc2151c": {
      "model_module": "@jupyter-widgets/base",
      "model_module_version": "1.2.0",
      "model_name": "LayoutModel",
      "state": {
       "min_width": "6em",
       "width": "6em"
      }
     },
     "a1f803e6a2b44f468344927b4d52e5fc": {
      "model_module": "@jupyter-widgets/base",
      "model_module_version": "1.2.0",
      "model_name": "LayoutModel",
      "state": {}
     },
     "a2421f72d10f44a99ef7a84540cbaeb2": {
      "model_module": "@jupyter-widgets/controls",
      "model_module_version": "1.5.0",
      "model_name": "BoxModel",
      "state": {
       "children": [
        "IPY_MODEL_104922d0d09743f49f0532432d6d8e34"
       ],
       "layout": "IPY_MODEL_e6ede545be274329bd31ffd3aac053bf"
      }
     },
     "a25daf86180f498e855797c078564dac": {
      "model_module": "@jupyter-widgets/base",
      "model_module_version": "1.2.0",
      "model_name": "LayoutModel",
      "state": {}
     },
     "a2ac298c180045d2988e0aef063cb7e2": {
      "model_module": "jupyter-leaflet",
      "model_module_version": "^0.17.0",
      "model_name": "LeafletTileLayerModel",
      "state": {
       "_model_module_version": "^0.17.0",
       "_view_module_version": "^0.17.0",
       "attribution": "Google Earth Engine",
       "max_zoom": 24,
       "name": "landsat7_may_29",
       "options": [
        "attribution",
        "bounds",
        "detect_retina",
        "max_native_zoom",
        "max_zoom",
        "min_native_zoom",
        "min_zoom",
        "no_wrap",
        "tile_size",
        "tms"
       ],
       "url": "https://earthengine.googleapis.com/v1alpha/projects/earthengine-legacy/maps/ae69496c2e961fd3deb269ca95d9fd4c-e3c239ed289d9fae06addad1a98036d5/tiles/{z}/{x}/{y}"
      }
     },
     "a2b17c16ce724ac8ab66b78a257b2328": {
      "model_module": "@jupyter-widgets/controls",
      "model_module_version": "1.5.0",
      "model_name": "ButtonModel",
      "state": {
       "description": "Select",
       "layout": "IPY_MODEL_a1c36d8c3e8b461889de1c9abfc2151c",
       "style": "IPY_MODEL_8d650189fe3d4ac6912160a3bab43a9c"
      }
     },
     "a2f83f38f4fc48c5814aa444aa8e2513": {
      "model_module": "@jupyter-widgets/controls",
      "model_module_version": "1.5.0",
      "model_name": "DescriptionStyleModel",
      "state": {
       "description_width": ""
      }
     },
     "a319a5484e414b9bafce3decb65b7e5d": {
      "model_module": "@jupyter-widgets/base",
      "model_module_version": "1.2.0",
      "model_name": "LayoutModel",
      "state": {}
     },
     "a345b987d1144b019ddc08546b7ad5db": {
      "model_module": "@jupyter-widgets/controls",
      "model_module_version": "1.5.0",
      "model_name": "HBoxModel",
      "state": {
       "_view_count": 1,
       "children": [
        "IPY_MODEL_d88bdb210b1d46fb9ae6e4f9ff4b1aa6"
       ],
       "layout": "IPY_MODEL_e94635116c644381a2e6def82ae6971e"
      }
     },
     "a368d7af6bf8404faaef6668d557b458": {
      "model_module": "@jupyter-widgets/base",
      "model_module_version": "1.2.0",
      "model_name": "LayoutModel",
      "state": {
       "height": "auto",
       "padding": "0px 0px 0px 4px",
       "width": "auto"
      }
     },
     "a3a1b0b1bbf041bda23e6e6d4e78ae2e": {
      "model_module": "@jupyter-widgets/base",
      "model_module_version": "1.2.0",
      "model_name": "LayoutModel",
      "state": {
       "max_height": "350px",
       "max_width": "340px",
       "overflow": "scroll"
      }
     },
     "a3ef836c44524a6cb91de2bdc9cfd643": {
      "model_module": "jupyter-leaflet",
      "model_module_version": "^0.17.0",
      "model_name": "LeafletTileLayerModel",
      "state": {
       "_model_module_version": "^0.17.0",
       "_view_module_version": "^0.17.0",
       "attribution": "Tiles courtesy of the U.S. Geological Survey",
       "max_zoom": 20,
       "name": "USGS.USImageryTopo",
       "options": [
        "attribution",
        "bounds",
        "detect_retina",
        "max_native_zoom",
        "max_zoom",
        "min_native_zoom",
        "min_zoom",
        "no_wrap",
        "tile_size",
        "tms"
       ],
       "url": "https://basemap.nationalmap.gov/arcgis/rest/services/USGSImageryTopo/MapServer/tile/{z}/{y}/{x}"
      }
     },
     "a45b3ae6b2b342b8860cbb828c6a9257": {
      "model_module": "@jupyter-widgets/controls",
      "model_module_version": "1.5.0",
      "model_name": "DescriptionStyleModel",
      "state": {
       "description_width": ""
      }
     },
     "a45c06f95da140fb9fb3c46206aceb7e": {
      "model_module": "@jupyter-widgets/base",
      "model_module_version": "1.2.0",
      "model_name": "LayoutModel",
      "state": {
       "height": "auto",
       "padding": "0px 0px 0px 4px",
       "width": "auto"
      }
     },
     "a46fda8c494244d1be50b930441625ee": {
      "model_module": "jupyter-leaflet",
      "model_module_version": "^0.17.0",
      "model_name": "LeafletTileLayerModel",
      "state": {
       "_model_module_version": "^0.17.0",
       "_view_module_version": "^0.17.0",
       "attribution": "OpenStreetMap",
       "max_zoom": 22,
       "name": "OpenStreetMap",
       "options": [
        "attribution",
        "bounds",
        "detect_retina",
        "max_native_zoom",
        "max_zoom",
        "min_native_zoom",
        "min_zoom",
        "no_wrap",
        "tile_size",
        "tms"
       ]
      }
     },
     "a47ea493cad64228814c73466ef95bc1": {
      "model_module": "jupyter-leaflet",
      "model_module_version": "^0.17.0",
      "model_name": "LeafletTileLayerModel",
      "state": {
       "_model_module_version": "^0.17.0",
       "_view_module_version": "^0.17.0",
       "attribution": "Map data: (C) OpenStreetMap contributors | Map style: (C) waymarkedtrails.org (CC-BY-SA)",
       "name": "WaymarkedTrails.riding",
       "options": [
        "attribution",
        "bounds",
        "detect_retina",
        "max_native_zoom",
        "max_zoom",
        "min_native_zoom",
        "min_zoom",
        "no_wrap",
        "tile_size",
        "tms"
       ],
       "url": "https://tile.waymarkedtrails.org/riding/{z}/{x}/{y}.png"
      }
     },
     "a49a52fcbeeb475d86567ac64a3a55b5": {
      "model_module": "@jupyter-widgets/controls",
      "model_module_version": "1.5.0",
      "model_name": "HTMLModel",
      "state": {
       "layout": "IPY_MODEL_d6e755b29dcd4f7f99e9f662b26a9419",
       "placeholder": "",
       "style": "IPY_MODEL_cd527737fe6f4639befca3c82818b700",
       "value": "<span style=\"color:black;\">No selection</span>"
      }
     },
     "a5536a955c3a4ee9b11d5274a17bdd2d": {
      "model_module": "@jupyter-widgets/controls",
      "model_module_version": "1.5.0",
      "model_name": "ButtonModel",
      "state": {
       "button_style": "primary",
       "description": "import",
       "layout": "IPY_MODEL_23e48b6ea00f4d1aa174446d6bd2bb67",
       "style": "IPY_MODEL_3b04ce1ddec446fcb5649714db763dd0",
       "tooltip": "Click to import the selected asset"
      }
     },
     "a63fdd435ff14287a36322c72b030632": {
      "model_module": "@jupyter-widgets/base",
      "model_module_version": "1.2.0",
      "model_name": "LayoutModel",
      "state": {
       "height": "auto",
       "padding": "0px 0px 0px 4px",
       "width": "auto"
      }
     },
     "a69dc80f0fe946c0937a0af091f48234": {
      "model_module": "jupyter-leaflet",
      "model_module_version": "^0.17.0",
      "model_name": "LeafletTileLayerModel",
      "state": {
       "_model_module_version": "^0.17.0",
       "_view_module_version": "^0.17.0",
       "attribution": "Imagery provided by services from the Global Imagery Browse Services (GIBS), operated by the NASA/GSFC/Earth Science Data and Information System (ESDIS) with funding provided by NASA/HQ.",
       "max_zoom": 8,
       "name": "NASAGIBS.BlueMarble",
       "options": [
        "attribution",
        "bounds",
        "detect_retina",
        "max_native_zoom",
        "max_zoom",
        "min_native_zoom",
        "min_zoom",
        "no_wrap",
        "tile_size",
        "tms"
       ],
       "url": "https://gibs.earthdata.nasa.gov/wmts/epsg3857/best/BlueMarble_NextGeneration/default/EPSG3857_500m/{z}/{y}/{x}.jpeg"
      }
     },
     "a6a698cdb5554313a4f7a96001a408e1": {
      "model_module": "jupyter-leaflet",
      "model_module_version": "^0.17.0",
      "model_name": "LeafletZoomControlModel",
      "state": {
       "_model_module_version": "^0.17.0",
       "_view_module_version": "^0.17.0",
       "options": [
        "position",
        "zoom_in_text",
        "zoom_in_title",
        "zoom_out_text",
        "zoom_out_title"
       ]
      }
     },
     "a6f56bd781704f119e3ff244051c61c8": {
      "model_module": "@jupyter-widgets/controls",
      "model_module_version": "1.5.0",
      "model_name": "HBoxModel",
      "state": {
       "_view_count": 1,
       "children": [
        "IPY_MODEL_9b7b50fe36794bbea9a967ef8c23bd00"
       ],
       "layout": "IPY_MODEL_e72f99dd7ab144c3bba58296890e8811"
      }
     },
     "a7803499b62347388ee5cdc7b23b523c": {
      "model_module": "@jupyter-widgets/base",
      "model_module_version": "1.2.0",
      "model_name": "LayoutModel",
      "state": {
       "height": "auto",
       "padding": "0px 0px 0px 4px",
       "width": "auto"
      }
     },
     "a7f97e5a16f34b66b806551a0a13fad5": {
      "model_module": "jupyter-leaflet",
      "model_module_version": "^0.17.0",
      "model_name": "LeafletWidgetControlModel",
      "state": {
       "_model_module": "jupyter-leaflet",
       "_model_module_version": "^0.17.0",
       "_view_count": null,
       "_view_module": "jupyter-leaflet",
       "_view_module_version": "^0.17.0",
       "options": [
        "position",
        "transparent_bg"
       ],
       "position": "topleft",
       "widget": "IPY_MODEL_4d220d022ae04d0091f515f4c4d283fc"
      }
     },
     "a819722f6f294d23b7988cc6ed4b38cc": {
      "model_module": "@jupyter-widgets/controls",
      "model_module_version": "1.5.0",
      "model_name": "DescriptionStyleModel",
      "state": {
       "description_width": ""
      }
     },
     "a8754b87d35f4a3ba5c2439809aeb6db": {
      "model_module": "jupyter-leaflet",
      "model_module_version": "^0.17.0",
      "model_name": "LeafletTileLayerModel",
      "state": {
       "_model_module_version": "^0.17.0",
       "_view_module_version": "^0.17.0",
       "attribution": "Map tiles by Stamen Design, CC BY 3.0 -- Map data (C) OpenStreetMap contributors",
       "max_zoom": 20,
       "name": "Stamen.TonerLabels",
       "options": [
        "attribution",
        "bounds",
        "detect_retina",
        "max_native_zoom",
        "max_zoom",
        "min_native_zoom",
        "min_zoom",
        "no_wrap",
        "tile_size",
        "tms"
       ],
       "url": "https://stamen-tiles-a.a.ssl.fastly.net/toner-labels/{z}/{x}/{y}.png"
      }
     },
     "a8a9f0b9d990455185b727e67f3a3772": {
      "model_module": "jupyter-leaflet",
      "model_module_version": "^0.17.0",
      "model_name": "LeafletTileLayerModel",
      "state": {
       "_model_module_version": "^0.17.0",
       "_view_module_version": "^0.17.0",
       "attribution": "Map tiles by Stamen Design, CC BY 3.0 -- Map data (C) OpenStreetMap contributors",
       "max_zoom": 20,
       "name": "Stamen.TonerHybrid",
       "options": [
        "attribution",
        "bounds",
        "detect_retina",
        "max_native_zoom",
        "max_zoom",
        "min_native_zoom",
        "min_zoom",
        "no_wrap",
        "tile_size",
        "tms"
       ],
       "url": "https://stamen-tiles-a.a.ssl.fastly.net/toner-hybrid/{z}/{x}/{y}.png"
      }
     },
     "a8aab9fad6ac42d4bcbd99dac79543bf": {
      "model_module": "@jupyter-widgets/base",
      "model_module_version": "1.2.0",
      "model_name": "LayoutModel",
      "state": {}
     },
     "a8ce5709e4ae4ab9a3203beec4b82b6a": {
      "model_module": "@jupyter-widgets/base",
      "model_module_version": "1.2.0",
      "model_name": "LayoutModel",
      "state": {
       "height": "auto",
       "padding": "0px 0px 0px 4px",
       "width": "auto"
      }
     },
     "a8e340e08e3f4b6fb67813213e9cdd07": {
      "model_module": "@jupyter-widgets/controls",
      "model_module_version": "1.5.0",
      "model_name": "HBoxModel",
      "state": {
       "_view_count": 1,
       "children": [
        "IPY_MODEL_8a336d4bc9534b60825902db861921c3"
       ],
       "layout": "IPY_MODEL_a319a5484e414b9bafce3decb65b7e5d"
      }
     },
     "a99d0312810b4da98568156360591fe7": {
      "model_module": "@jupyter-widgets/controls",
      "model_module_version": "1.5.0",
      "model_name": "ToggleButtonModel",
      "state": {
       "button_style": "primary",
       "icon": "gears",
       "layout": "IPY_MODEL_57d78a473a494b46b734b66cbf047f33",
       "style": "IPY_MODEL_30c829bd89af4e50bb6f8699cb06a2b6",
       "tooltip": "WhiteboxTools for local geoprocessing"
      }
     },
     "a9d30966394c4fa3a1d0f31cada1e15b": {
      "model_module": "@jupyter-widgets/base",
      "model_module_version": "1.2.0",
      "model_name": "LayoutModel",
      "state": {
       "height": "auto",
       "padding": "0px 0px 0px 4px",
       "width": "auto"
      }
     },
     "a9e8b354f56d4293a92228558f5b6e4c": {
      "model_module": "@jupyter-widgets/controls",
      "model_module_version": "1.5.0",
      "model_name": "ToggleButtonModel",
      "state": {
       "button_style": "primary",
       "icon": "info-circle",
       "layout": "IPY_MODEL_8eadfeb4a3954599bb93f7c09ffb2853",
       "style": "IPY_MODEL_8a626b81453d4e6490c4022da424ac00",
       "tooltip": "Get COG/STAC pixel value"
      }
     },
     "aa1acdcec9414e73854c0e2b9f4bc72a": {
      "model_module": "@jupyter-widgets/controls",
      "model_module_version": "1.5.0",
      "model_name": "DescriptionStyleModel",
      "state": {
       "description_width": ""
      }
     },
     "aa411d4d50984548ac9d064399b09c66": {
      "model_module": "jupyter-leaflet",
      "model_module_version": "^0.17.0",
      "model_name": "LeafletAwesomeIconModel",
      "state": {
       "_model_module_version": "^0.17.0",
       "_view_module_version": "^0.17.0",
       "icon_color": "darkgreen",
       "marker_color": "green",
       "name": "check"
      }
     },
     "aabba2464008496eb5092b960a135ba7": {
      "model_module": "@jupyter-widgets/controls",
      "model_module_version": "1.5.0",
      "model_name": "DescriptionStyleModel",
      "state": {
       "description_width": ""
      }
     },
     "aaca930435e6474693c9096fc04af9fa": {
      "model_module": "@jupyter-widgets/controls",
      "model_module_version": "1.5.0",
      "model_name": "TextModel",
      "state": {
       "layout": "IPY_MODEL_30ad46714a024c8d8b45cd1b521b7719",
       "placeholder": "output filename",
       "style": "IPY_MODEL_1979e65d0ceb45aba8917a447ec5370f",
       "value": "my_map.html"
      }
     },
     "aaff72b125234f22a741d9a6c5feb43b": {
      "model_module": "@jupyter-widgets/controls",
      "model_module_version": "1.5.0",
      "model_name": "ToggleButtonsStyleModel",
      "state": {
       "button_width": "",
       "description_width": ""
      }
     },
     "ab2b1fc572fc409ca3fea1b5aa754401": {
      "model_module": "jupyter-leaflet",
      "model_module_version": "^0.17.0",
      "model_name": "LeafletWMSLayerModel",
      "state": {
       "_model_module_version": "^0.17.0",
       "_view_module_version": "^0.17.0",
       "attribution": "ESA",
       "crs": {
        "custom": false,
        "name": "EPSG3857"
       },
       "format": "image/png",
       "layers": "WORLDCOVER_2021_MAP",
       "name": "ESA Worldcover 2021",
       "options": [
        "attribution",
        "bounds",
        "detect_retina",
        "format",
        "layers",
        "max_native_zoom",
        "max_zoom",
        "min_native_zoom",
        "min_zoom",
        "no_wrap",
        "styles",
        "tile_size",
        "tms",
        "transparent",
        "uppercase"
       ],
       "transparent": true,
       "url": "https://services.terrascope.be/wms/v2"
      }
     },
     "ab685d89baab43b0b63929d435605e0c": {
      "model_module": "jupyter-leaflet",
      "model_module_version": "^0.17.0",
      "model_name": "LeafletTileLayerModel",
      "state": {
       "_model_module_version": "^0.17.0",
       "_view_module_version": "^0.17.0",
       "attribution": "Map tiles by Stamen Design, CC BY 3.0 -- Map data (C) OpenStreetMap contributors",
       "max_zoom": 20,
       "name": "Stamen.TopOSMRelief",
       "options": [
        "attribution",
        "bounds",
        "detect_retina",
        "max_native_zoom",
        "max_zoom",
        "min_native_zoom",
        "min_zoom",
        "no_wrap",
        "tile_size",
        "tms"
       ],
       "url": "https://stamen-tiles-a.a.ssl.fastly.net/toposm-color-relief/{z}/{x}/{y}.jpg"
      }
     },
     "abc436c47d9d44cf8aaf9e99e0829304": {
      "model_module": "jupyter-leaflet",
      "model_module_version": "^0.17.0",
      "model_name": "LeafletDrawControlModel",
      "state": {
       "_model_module_version": "^0.17.0",
       "_view_module_version": "^0.17.0",
       "circle": {
        "shapeOptions": {
         "color": "#3388ff"
        }
       },
       "marker": {
        "shapeOptions": {
         "color": "#3388ff"
        }
       },
       "options": [
        "position"
       ],
       "rectangle": {
        "shapeOptions": {
         "color": "#3388ff"
        }
       }
      }
     },
     "ac0065429ec74de8b037a069a456bd86": {
      "model_module": "jupyter-leaflet",
      "model_module_version": "^0.17.0",
      "model_name": "LeafletMapStyleModel",
      "state": {
       "_model_module_version": "^0.17.0",
       "cursor": "move"
      }
     },
     "ac27d780531948bc867fab881ba049d9": {
      "model_module": "@jupyter-widgets/base",
      "model_module_version": "1.2.0",
      "model_name": "LayoutModel",
      "state": {
       "height": "auto",
       "padding": "0px 0px 0px 4px",
       "width": "auto"
      }
     },
     "ac5c5362ae9e4c958aea2d201b51ba37": {
      "model_module": "@jupyter-widgets/controls",
      "model_module_version": "1.5.0",
      "model_name": "DescriptionStyleModel",
      "state": {
       "description_width": ""
      }
     },
     "ac80f5bab8a540fd93cf22457cb54df9": {
      "model_module": "@jupyter-widgets/base",
      "model_module_version": "1.2.0",
      "model_name": "LayoutModel",
      "state": {
       "height": "auto",
       "padding": "0px 0px 0px 4px",
       "width": "auto"
      }
     },
     "ac9aefe43429420ea771dfdeaf83c2f3": {
      "model_module": "jupyter-leaflet",
      "model_module_version": "^0.17.0",
      "model_name": "LeafletTileLayerModel",
      "state": {
       "_model_module_version": "^0.17.0",
       "_view_module_version": "^0.17.0",
       "attribution": "(C) OpenStreetMap contributors",
       "max_zoom": 15,
       "name": "HikeBike.HillShading",
       "options": [
        "attribution",
        "bounds",
        "detect_retina",
        "max_native_zoom",
        "max_zoom",
        "min_native_zoom",
        "min_zoom",
        "no_wrap",
        "tile_size",
        "tms"
       ],
       "url": "https://tiles.wmflabs.org/hillshading/{z}/{x}/{y}.png"
      }
     },
     "acb2e6d01ef544689914683167264868": {
      "model_module": "@jupyter-widgets/base",
      "model_module_version": "1.2.0",
      "model_name": "LayoutModel",
      "state": {
       "width": "65px"
      }
     },
     "acda40eeaf1c45e48c866dd8f80c0360": {
      "model_module": "@jupyter-widgets/controls",
      "model_module_version": "1.5.0",
      "model_name": "ToggleButtonModel",
      "state": {
       "button_style": "primary",
       "icon": "hand-o-up",
       "layout": "IPY_MODEL_08879b8be975403e96df851da149a1bf",
       "style": "IPY_MODEL_c636d8bbc00e46b7935edcd15bbd53fe",
       "tooltip": "Collect training samples"
      }
     },
     "ad2b5674e97b4806bb4cf4f48626e00f": {
      "model_module": "jupyter-leaflet",
      "model_module_version": "^0.17.0",
      "model_name": "LeafletTileLayerModel",
      "state": {
       "_model_module_version": "^0.17.0",
       "_view_module_version": "^0.17.0",
       "attribution": "Map data: (C) OpenStreetMap contributors | Map style: (C) waymarkedtrails.org (CC-BY-SA)",
       "name": "WaymarkedTrails.hiking",
       "options": [
        "attribution",
        "bounds",
        "detect_retina",
        "max_native_zoom",
        "max_zoom",
        "min_native_zoom",
        "min_zoom",
        "no_wrap",
        "tile_size",
        "tms"
       ],
       "url": "https://tile.waymarkedtrails.org/hiking/{z}/{x}/{y}.png"
      }
     },
     "ad5ce9afd6f34b288934ae3a6aa0208b": {
      "model_module": "@jupyter-widgets/controls",
      "model_module_version": "1.5.0",
      "model_name": "DescriptionStyleModel",
      "state": {
       "description_width": ""
      }
     },
     "ada88594dc6d433aaaa0407bfc1987c3": {
      "model_module": "jupyter-leaflet",
      "model_module_version": "^0.17.0",
      "model_name": "LeafletMarkerModel",
      "state": {
       "_model_module_version": "^0.17.0",
       "_view_module_version": "^0.17.0",
       "icon": "IPY_MODEL_8b328e20e7604d4abec0054511a43dfb",
       "options": [
        "alt",
        "draggable",
        "keyboard",
        "rise_offset",
        "rise_on_hover",
        "rotation_angle",
        "rotation_origin",
        "title",
        "z_index_offset"
       ]
      }
     },
     "adcf8461360f4932a26e76bcf6b2a480": {
      "model_module": "jupyter-leaflet",
      "model_module_version": "^0.17.0",
      "model_name": "LeafletWidgetControlModel",
      "state": {
       "_model_module": "jupyter-leaflet",
       "_model_module_version": "^0.17.0",
       "_view_count": null,
       "_view_module": "jupyter-leaflet",
       "_view_module_version": "^0.17.0",
       "options": [
        "position",
        "transparent_bg"
       ],
       "position": "topright",
       "widget": "IPY_MODEL_e9c0d422a81d4b2dbfb22343b2524332"
      }
     },
     "addc22f1202e4340b52ac85b7300f0a6": {
      "model_module": "@jupyter-widgets/controls",
      "model_module_version": "1.5.0",
      "model_name": "ToggleButtonsStyleModel",
      "state": {
       "button_width": "110px",
       "description_width": ""
      }
     },
     "ae9356fe1b0948a78e5cadc64de4abd7": {
      "model_module": "@jupyter-widgets/controls",
      "model_module_version": "1.5.0",
      "model_name": "DescriptionStyleModel",
      "state": {
       "description_width": ""
      }
     },
     "aea230a9c962425185ebce08aa01f959": {
      "model_module": "jupyter-leaflet",
      "model_module_version": "^0.17.0",
      "model_name": "LeafletTileLayerModel",
      "state": {
       "_model_module_version": "^0.17.0",
       "_view_module_version": "^0.17.0",
       "attribution": "Google Earth Engine",
       "max_zoom": 24,
       "name": "landsat7_may_29_clipped",
       "options": [
        "attribution",
        "bounds",
        "detect_retina",
        "max_native_zoom",
        "max_zoom",
        "min_native_zoom",
        "min_zoom",
        "no_wrap",
        "tile_size",
        "tms"
       ],
       "url": "https://earthengine.googleapis.com/v1alpha/projects/earthengine-legacy/maps/4ad1bb00cec8f94ee2e6c1d86784fd5b-ace704836bc88007ed7e33abd54984a6/tiles/{z}/{x}/{y}"
      }
     },
     "afbbf92741c04f5b98a945b60c088598": {
      "model_module": "jupyter-leaflet",
      "model_module_version": "^0.17.0",
      "model_name": "LeafletTileLayerModel",
      "state": {
       "_model_module_version": "^0.17.0",
       "_view_module_version": "^0.17.0",
       "attribution": "Kaartgegevens (C) Kadaster",
       "max_zoom": 19,
       "name": "nlmaps.standaard",
       "options": [
        "attribution",
        "bounds",
        "detect_retina",
        "max_native_zoom",
        "max_zoom",
        "min_native_zoom",
        "min_zoom",
        "no_wrap",
        "tile_size",
        "tms"
       ],
       "url": "https://service.pdok.nl/brt/achtergrondkaart/wmts/v2_0/standaard/EPSG:3857/{z}/{x}/{y}.png"
      }
     },
     "b125789ee244471fa93bdd720b412333": {
      "model_module": "@jupyter-widgets/controls",
      "model_module_version": "1.5.0",
      "model_name": "DescriptionStyleModel",
      "state": {
       "description_width": ""
      }
     },
     "b125ebb97d0d48cb8442f58b4f578fcc": {
      "model_module": "@jupyter-widgets/base",
      "model_module_version": "1.2.0",
      "model_name": "LayoutModel",
      "state": {}
     },
     "b13dbc0c6fbe44f1ad7701257f6f559e": {
      "model_module": "@jupyter-widgets/controls",
      "model_module_version": "1.5.0",
      "model_name": "ButtonModel",
      "state": {
       "button_style": "primary",
       "description": "import",
       "layout": "IPY_MODEL_66c0b5b4d19144d4aa5d21c3a7b25213",
       "style": "IPY_MODEL_0cd4951a8e684580b3955ce33d70807e",
       "tooltip": "Click to import the selected asset"
      }
     },
     "b18520b0d46f42958a579bfa1e498873": {
      "model_module": "@jupyter-widgets/controls",
      "model_module_version": "1.5.0",
      "model_name": "VBoxModel",
      "state": {
       "_view_count": 1,
       "children": [
        "IPY_MODEL_7a187b36b711423e9a7871927c706460"
       ],
       "layout": "IPY_MODEL_e9adf1738e2f40cfa77c092c71d6b2a1"
      }
     },
     "b19ee26ac7594a9ba0325e39e175cb88": {
      "model_module": "@jupyter-widgets/controls",
      "model_module_version": "1.5.0",
      "model_name": "HBoxModel",
      "state": {
       "children": [
        "IPY_MODEL_a2b17c16ce724ac8ab66b78a257b2328",
        "IPY_MODEL_7f70ebd449d046bba2f6526d0398b22b",
        "IPY_MODEL_87854debe68d4fedac35feab58e477a7"
       ],
       "layout": "IPY_MODEL_95abdeb421b047d8bb05c2929610863e"
      }
     },
     "b1e2b21636a446629d9ca855b98265a9": {
      "model_module": "@jupyter-widgets/controls",
      "model_module_version": "1.5.0",
      "model_name": "DescriptionStyleModel",
      "state": {
       "description_width": ""
      }
     },
     "b237a3fff16c4477b72e69556947a5af": {
      "model_module": "jupyter-leaflet",
      "model_module_version": "^0.17.0",
      "model_name": "LeafletWidgetControlModel",
      "state": {
       "_model_module": "jupyter-leaflet",
       "_model_module_version": "^0.17.0",
       "_view_count": null,
       "_view_module": "jupyter-leaflet",
       "_view_module_version": "^0.17.0",
       "options": [
        "position",
        "transparent_bg"
       ],
       "position": "topright",
       "widget": "IPY_MODEL_b6d59b16917a4fc7aa106240fbd97cba"
      }
     },
     "b23a4249b7da47859fc5bebfdf975378": {
      "model_module": "@jupyter-widgets/base",
      "model_module_version": "1.2.0",
      "model_name": "LayoutModel",
      "state": {
       "width": "340px"
      }
     },
     "b24beea54b7c49e49b550982c0fef00f": {
      "model_module": "jupyter-leaflet",
      "model_module_version": "^0.17.0",
      "model_name": "LeafletMapStyleModel",
      "state": {
       "_model_module_version": "^0.17.0",
       "cursor": "move"
      }
     },
     "b250caaef0264d5a9589bea0f4f33fe3": {
      "model_module": "@jupyter-widgets/controls",
      "model_module_version": "1.5.0",
      "model_name": "DescriptionStyleModel",
      "state": {
       "description_width": ""
      }
     },
     "b25c007136804b47a6620487edbd36e3": {
      "model_module": "jupyter-leaflet",
      "model_module_version": "^0.17.0",
      "model_name": "LeafletTileLayerModel",
      "state": {
       "_model_module_version": "^0.17.0",
       "_view_module_version": "^0.17.0",
       "attribution": "openAIP Data (CC-BY-NC-SA)",
       "max_zoom": 14,
       "name": "OpenAIP",
       "options": [
        "attribution",
        "bounds",
        "detect_retina",
        "max_native_zoom",
        "max_zoom",
        "min_native_zoom",
        "min_zoom",
        "no_wrap",
        "tile_size",
        "tms"
       ],
       "url": "https://1.tile.maps.openaip.net/geowebcache/service/tms/1.0.0/openaip_basemap@EPSG%3A900913@png/{z}/{x}/{y}.png"
      }
     },
     "b294eed04ee74a6ab42fa4064c38d7fb": {
      "model_module": "@jupyter-widgets/base",
      "model_module_version": "1.2.0",
      "model_name": "LayoutModel",
      "state": {
       "grid_area": "dircontent",
       "width": "auto"
      }
     },
     "b2cb7a78d8e24e0cb483299ee2fd8d9e": {
      "model_module": "@jupyter-widgets/controls",
      "model_module_version": "1.5.0",
      "model_name": "DescriptionStyleModel",
      "state": {
       "description_width": ""
      }
     },
     "b36a7dc14f7a4e7d99da319b05ff45d1": {
      "model_module": "@jupyter-widgets/base",
      "model_module_version": "1.2.0",
      "model_name": "LayoutModel",
      "state": {
       "overflow": "auto"
      }
     },
     "b3d9e4d1abb24fc196db53b6eb3bac11": {
      "model_module": "jupyter-leaflet",
      "model_module_version": "^0.17.0",
      "model_name": "LeafletTileLayerModel",
      "state": {
       "_model_module_version": "^0.17.0",
       "_view_module_version": "^0.17.0",
       "attribution": "Imagery provided by services from the Global Imagery Browse Services (GIBS), operated by the NASA/GSFC/Earth Science Data and Information System (ESDIS) with funding provided by NASA/HQ.",
       "max_zoom": 6,
       "name": "NASAGIBS.ModisTerraAOD",
       "options": [
        "attribution",
        "bounds",
        "detect_retina",
        "max_native_zoom",
        "max_zoom",
        "min_native_zoom",
        "min_zoom",
        "no_wrap",
        "tile_size",
        "tms"
       ],
       "url": "https://map1.vis.earthdata.nasa.gov/wmts-webmerc/MODIS_Terra_Aerosol/default//GoogleMapsCompatible_Level6/{z}/{y}/{x}.png"
      }
     },
     "b3deb9766b624773a14d6f9c220f3770": {
      "model_module": "jupyter-leaflet",
      "model_module_version": "^0.17.0",
      "model_name": "LeafletTileLayerModel",
      "state": {
       "_model_module_version": "^0.17.0",
       "_view_module_version": "^0.17.0",
       "attribution": "Imagery provided by NOAA National Centers for Environmental Information (NCEI); International Bathymetric Chart of the Southern Ocean (IBCSO); General Bathymetric Chart of the Oceans (GEBCO).",
       "max_zoom": 9,
       "name": "Esri.AntarcticBasemap",
       "options": [
        "attribution",
        "bounds",
        "detect_retina",
        "max_native_zoom",
        "max_zoom",
        "min_native_zoom",
        "min_zoom",
        "no_wrap",
        "tile_size",
        "tms"
       ],
       "url": "https://tiles.arcgis.com/tiles/C8EMgrsFcRFL6LrL/arcgis/rest/services/Antarctic_Basemap/MapServer/tile/{z}/{y}/{x}"
      }
     },
     "b40a8d8cee134846bf7a87d71c9c1e62": {
      "model_module": "jupyter-leaflet",
      "model_module_version": "^0.17.0",
      "model_name": "LeafletFullScreenControlModel",
      "state": {
       "_model_module_version": "^0.17.0",
       "_view_module_version": "^0.17.0",
       "options": [
        "position"
       ]
      }
     },
     "b4454fc8de0a4e00b78737045a67aeb9": {
      "model_module": "@jupyter-widgets/controls",
      "model_module_version": "1.5.0",
      "model_name": "VBoxModel",
      "state": {
       "children": [
        "IPY_MODEL_d9e17c00f5e349688d019c4a48e2d0eb",
        "IPY_MODEL_706d9438179d4ef8826a2ed19384fd72"
       ],
       "layout": "IPY_MODEL_54fb87a287d04d249deb1dc7e53b412c"
      }
     },
     "b45a04cfd3cf4a17b2c567e08c3aae7c": {
      "model_module": "@jupyter-widgets/controls",
      "model_module_version": "1.5.0",
      "model_name": "DescriptionStyleModel",
      "state": {
       "description_width": ""
      }
     },
     "b45a096187be4e2abb7fd88198a6a7b7": {
      "model_module": "jupyter-leaflet",
      "model_module_version": "^0.17.0",
      "model_name": "LeafletTileLayerModel",
      "state": {
       "_model_module_version": "^0.17.0",
       "_view_module_version": "^0.17.0",
       "attribution": "(C) OpenStreetMap contributors (C) CARTO",
       "max_zoom": 20,
       "name": "CartoDB.VoyagerLabelsUnder",
       "options": [
        "attribution",
        "bounds",
        "detect_retina",
        "max_native_zoom",
        "max_zoom",
        "min_native_zoom",
        "min_zoom",
        "no_wrap",
        "tile_size",
        "tms"
       ],
       "url": "https://a.basemaps.cartocdn.com/rastertiles/voyager_labels_under/{z}/{x}/{y}.png"
      }
     },
     "b45cc9d056ed43cab5a5076b47e4036b": {
      "model_module": "@jupyter-widgets/controls",
      "model_module_version": "1.5.0",
      "model_name": "DescriptionStyleModel",
      "state": {
       "description_width": ""
      }
     },
     "b46fcd45cf5c467ba4c1a8dc0d80a9e2": {
      "model_module": "@jupyter-widgets/base",
      "model_module_version": "1.2.0",
      "model_name": "LayoutModel",
      "state": {
       "height": "auto",
       "padding": "0px 0px 0px 4px",
       "width": "auto"
      }
     },
     "b4de9f7d37084474b8fc9ef62b777676": {
      "model_module": "@jupyter-widgets/controls",
      "model_module_version": "1.5.0",
      "model_name": "ToggleButtonModel",
      "state": {
       "button_style": "primary",
       "icon": "eraser",
       "layout": "IPY_MODEL_cdc2742918af4813b958ee4ad9f68d33",
       "style": "IPY_MODEL_b45a04cfd3cf4a17b2c567e08c3aae7c",
       "tooltip": "Remove all drawn features"
      }
     },
     "b4ed45d37e9642e99e7542e5be33ad6c": {
      "model_module": "@jupyter-widgets/controls",
      "model_module_version": "1.5.0",
      "model_name": "ToggleButtonModel",
      "state": {
       "button_style": "primary",
       "icon": "spinner",
       "layout": "IPY_MODEL_908d7b86c02c42c6aab7666c7e703c95",
       "style": "IPY_MODEL_071cd32583224994aaa843c38564880d",
       "tooltip": "This is a placehold"
      }
     },
     "b5053af83f4041e1bda3ef7279696bdf": {
      "model_module": "@jupyter-widgets/base",
      "model_module_version": "1.2.0",
      "model_name": "LayoutModel",
      "state": {
       "width": "auto"
      }
     },
     "b678b98ec2524bbd90279e5a901b2396": {
      "model_module": "@jupyter-widgets/controls",
      "model_module_version": "1.5.0",
      "model_name": "VBoxModel",
      "state": {
       "children": [
        "IPY_MODEL_fb092071f9bc4393b1c9e2ace3080413",
        "IPY_MODEL_98146f1926f249e390cf18882032d2ff"
       ],
       "layout": "IPY_MODEL_cea647d357794b1c87d00d7c4a3f9864"
      }
     },
     "b6a4d41b5e434a05a2d2ae51366ef9ba": {
      "model_module": "@jupyter-widgets/output",
      "model_module_version": "1.0.0",
      "model_name": "OutputModel",
      "state": {
       "layout": "IPY_MODEL_9ad600d557e6480fa2356fc65c6aa053"
      }
     },
     "b6d59b16917a4fc7aa106240fbd97cba": {
      "model_module": "@jupyter-widgets/controls",
      "model_module_version": "1.5.0",
      "model_name": "VBoxModel",
      "state": {
       "_view_count": 1,
       "children": [
        "IPY_MODEL_d3ca70869c6d499cb345b0bfdc142b8c"
       ],
       "layout": "IPY_MODEL_2cf9df332da9451eb8e7b267cd27c8f7"
      }
     },
     "b6dc210a9fc149348fdf432940b070eb": {
      "model_module": "@jupyter-widgets/base",
      "model_module_version": "1.2.0",
      "model_name": "LayoutModel",
      "state": {
       "margin": "0 0 0 1em"
      }
     },
     "b7399efb782c4fccb1879cce102aeb3f": {
      "model_module": "@jupyter-widgets/base",
      "model_module_version": "1.2.0",
      "model_name": "LayoutModel",
      "state": {}
     },
     "b776c271d86b4b9e8a5cf66536e7fa06": {
      "model_module": "jupyter-leaflet",
      "model_module_version": "^0.17.0",
      "model_name": "LeafletMarkerClusterModel",
      "state": {
       "_model_module_version": "^0.17.0",
       "_view_module_version": "^0.17.0",
       "disable_clustering_at_zoom": 18,
       "max_cluster_radius": 80,
       "name": "Marker Cluster",
       "options": [
        "disable_clustering_at_zoom",
        "max_cluster_radius"
       ]
      }
     },
     "b79dbdc2cd104e2e8393ec3f3d7b45b1": {
      "model_module": "jupyter-leaflet",
      "model_module_version": "^0.17.0",
      "model_name": "LeafletDrawControlModel",
      "state": {
       "_model_module_version": "^0.17.0",
       "_view_module_version": "^0.17.0",
       "circle": {
        "shapeOptions": {
         "color": "#3388ff"
        }
       },
       "edit": false,
       "options": [
        "position"
       ],
       "polygon": {},
       "polyline": {},
       "rectangle": {
        "shapeOptions": {
         "color": "#3388ff"
        }
       },
       "remove": false
      }
     },
     "b79dcd8a316f4e93a3c29bf7f6043bcb": {
      "model_module": "@jupyter-widgets/base",
      "model_module_version": "1.2.0",
      "model_name": "LayoutModel",
      "state": {
       "height": "auto",
       "padding": "0px 0px 0px 4px",
       "width": "auto"
      }
     },
     "b7c72e2a99e5452ba658a105098c009f": {
      "model_module": "@jupyter-widgets/controls",
      "model_module_version": "1.5.0",
      "model_name": "ToggleButtonModel",
      "state": {
       "icon": "server",
       "layout": "IPY_MODEL_48ae7f12d7b24e4dafbf673d82a25d1e",
       "style": "IPY_MODEL_9da253e2a05342399d60c7f294eda7e9",
       "tooltip": "Layers"
      }
     },
     "b8070bc191854816a1d3b07fe0ed6a09": {
      "model_module": "jupyter-leaflet",
      "model_module_version": "^0.17.0",
      "model_name": "LeafletWidgetControlModel",
      "state": {
       "_model_module": "jupyter-leaflet",
       "_model_module_version": "^0.17.0",
       "_view_count": null,
       "_view_module": "jupyter-leaflet",
       "_view_module_version": "^0.17.0",
       "options": [
        "position",
        "transparent_bg"
       ],
       "position": "topright",
       "widget": "IPY_MODEL_79bfa56107464eeb94ebaeaedeb60662"
      }
     },
     "b845c8a60d8946319a47da48c38cccce": {
      "model_module": "@jupyter-widgets/controls",
      "model_module_version": "1.5.0",
      "model_name": "DescriptionStyleModel",
      "state": {
       "description_width": ""
      }
     },
     "b86194870dc64ff69799ec1fbd855cab": {
      "model_module": "jupyter-leaflet",
      "model_module_version": "^0.17.0",
      "model_name": "LeafletMarkerModel",
      "state": {
       "_model_module_version": "^0.17.0",
       "_view_module_version": "^0.17.0",
       "icon": "IPY_MODEL_aa411d4d50984548ac9d064399b09c66",
       "options": [
        "alt",
        "draggable",
        "keyboard",
        "rise_offset",
        "rise_on_hover",
        "rotation_angle",
        "rotation_origin",
        "title",
        "z_index_offset"
       ]
      }
     },
     "b88929136bee45b19df379d210e2e14a": {
      "model_module": "@jupyter-widgets/base",
      "model_module_version": "1.2.0",
      "model_name": "LayoutModel",
      "state": {
       "width": "65px"
      }
     },
     "b8988b83bab64d45b0b131ced5e60669": {
      "model_module": "@jupyter-widgets/controls",
      "model_module_version": "1.5.0",
      "model_name": "DescriptionStyleModel",
      "state": {
       "description_width": ""
      }
     },
     "b8a700a98c3145f78677ccd7e50db149": {
      "model_module": "jupyter-leaflet",
      "model_module_version": "^0.17.0",
      "model_name": "LeafletWMSLayerModel",
      "state": {
       "_model_module_version": "^0.17.0",
       "_view_module_version": "^0.17.0",
       "attribution": "MRLC",
       "crs": {
        "custom": false,
        "name": "EPSG3857"
       },
       "format": "image/png",
       "layers": "NLCD_2016_Land_Cover_L48",
       "name": "NLCD 2016 CONUS Land Cover",
       "options": [
        "attribution",
        "bounds",
        "detect_retina",
        "format",
        "layers",
        "max_native_zoom",
        "max_zoom",
        "min_native_zoom",
        "min_zoom",
        "no_wrap",
        "styles",
        "tile_size",
        "tms",
        "transparent",
        "uppercase"
       ],
       "transparent": true,
       "url": "https://www.mrlc.gov/geoserver/mrlc_display/NLCD_2016_Land_Cover_L48/wms?"
      }
     },
     "b8ec77b78ea648518ed806c582975289": {
      "model_module": "@jupyter-widgets/controls",
      "model_module_version": "1.5.0",
      "model_name": "DescriptionStyleModel",
      "state": {
       "description_width": ""
      }
     },
     "b943b8d33eea47bbb607942c330dea2f": {
      "model_module": "@jupyter-widgets/output",
      "model_module_version": "1.0.0",
      "model_name": "OutputModel",
      "state": {
       "layout": "IPY_MODEL_ea462404f8ec40b18affcdd70fc96c7f"
      }
     },
     "b945f8d5a9704be098766b76c05e34d8": {
      "model_module": "jupyter-leaflet",
      "model_module_version": "^0.17.0",
      "model_name": "LeafletTileLayerModel",
      "state": {
       "_model_module_version": "^0.17.0",
       "_view_module_version": "^0.17.0",
       "attribution": "![](https://docs.onemap.sg/maps/images/oneMap64-01.png) New OneMap | Map data (C) contributors, Singapore Land Authority",
       "name": "OneMapSG.Original",
       "options": [
        "attribution",
        "bounds",
        "detect_retina",
        "max_native_zoom",
        "max_zoom",
        "min_native_zoom",
        "min_zoom",
        "no_wrap",
        "tile_size",
        "tms"
       ],
       "url": "https://maps-a.onemap.sg/v3/Original/{z}/{x}/{y}.png"
      }
     },
     "b981e62383a746399ca93d0c32a2b957": {
      "model_module": "jupyter-leaflet",
      "model_module_version": "^0.17.0",
      "model_name": "LeafletMapStyleModel",
      "state": {
       "_model_module_version": "^0.17.0"
      }
     },
     "b9ad7e5fc316457184e0afbf8d05c4be": {
      "model_module": "@jupyter-widgets/base",
      "model_module_version": "1.2.0",
      "model_name": "LayoutModel",
      "state": {
       "max_width": "57px",
       "min_width": "57px"
      }
     },
     "ba23d833bf3642e7b1c574555c6509cb": {
      "model_module": "jupyter-leaflet",
      "model_module_version": "^0.17.0",
      "model_name": "LeafletTileLayerModel",
      "state": {
       "_model_module_version": "^0.17.0",
       "_view_module_version": "^0.17.0",
       "attribution": "Map data: (C) OpenStreetMap contributors | Map style: (C) waymarkedtrails.org (CC-BY-SA)",
       "name": "WaymarkedTrails.slopes",
       "options": [
        "attribution",
        "bounds",
        "detect_retina",
        "max_native_zoom",
        "max_zoom",
        "min_native_zoom",
        "min_zoom",
        "no_wrap",
        "tile_size",
        "tms"
       ],
       "url": "https://tile.waymarkedtrails.org/slopes/{z}/{x}/{y}.png"
      }
     },
     "ba754cceff6c48b887ab22211db524db": {
      "model_module": "jupyter-leaflet",
      "model_module_version": "^0.17.0",
      "model_name": "LeafletZoomControlModel",
      "state": {
       "_model_module_version": "^0.17.0",
       "_view_module_version": "^0.17.0",
       "options": [
        "position",
        "zoom_in_text",
        "zoom_in_title",
        "zoom_out_text",
        "zoom_out_title"
       ]
      }
     },
     "bae075ad6f70435795d4770b21c976ae": {
      "model_module": "@jupyter-widgets/base",
      "model_module_version": "1.2.0",
      "model_name": "LayoutModel",
      "state": {
       "height": "auto",
       "padding": "0px 0px 0px 4px",
       "width": "auto"
      }
     },
     "bb1934e38d744a30b003b29964ef91c7": {
      "model_module": "ipyevents",
      "model_module_version": "2.0.1",
      "model_name": "EventModel",
      "state": {
       "_supported_key_events": [
        "keydown",
        "keyup"
       ],
       "_supported_mouse_events": [
        "click",
        "auxclick",
        "dblclick",
        "mouseenter",
        "mouseleave",
        "mousedown",
        "mouseup",
        "mousemove",
        "wheel",
        "contextmenu",
        "dragstart",
        "drag",
        "dragend",
        "dragenter",
        "dragover",
        "dragleave",
        "drop"
       ],
       "_supported_touch_events": [
        "touchstart",
        "touchend",
        "touchmove",
        "touchcancel"
       ],
       "_view_module": "@jupyter-widgets/controls",
       "_view_module_version": "1.5.0",
       "source": "IPY_MODEL_79bfa56107464eeb94ebaeaedeb60662",
       "throttle_or_debounce": "",
       "watched_events": [
        "mouseenter",
        "mouseleave"
       ],
       "xy_coordinate_system": ""
      }
     },
     "bb7e240788b24f09999afea511f25782": {
      "model_module": "@jupyter-widgets/controls",
      "model_module_version": "1.5.0",
      "model_name": "DescriptionStyleModel",
      "state": {
       "description_width": ""
      }
     },
     "bbd9ac3d7fb947fda7ceb725c8815d1f": {
      "model_module": "@jupyter-widgets/controls",
      "model_module_version": "1.5.0",
      "model_name": "GridBoxModel",
      "state": {
       "children": [
        "IPY_MODEL_6cd577a6a56a42e6a723b70e823001dd",
        "IPY_MODEL_f5d0025c02e14d2681ea6de9164fb053",
        "IPY_MODEL_c0540c7e2b224c0ea436d8f5d74f6ce6"
       ],
       "layout": "IPY_MODEL_f27d639974bf4f56846a1e013cf66c21"
      }
     },
     "bc20e4a9d2af4159bb19361afda2d759": {
      "model_module": "jupyter-leaflet",
      "model_module_version": "^0.17.0",
      "model_name": "LeafletTileLayerModel",
      "state": {
       "_model_module_version": "^0.17.0",
       "_view_module_version": "^0.17.0",
       "attribution": "(C) Stadia Maps, (C) OpenMapTiles (C) OpenStreetMap contributors",
       "max_zoom": 20,
       "name": "Stadia.AlidadeSmooth",
       "options": [
        "attribution",
        "bounds",
        "detect_retina",
        "max_native_zoom",
        "max_zoom",
        "min_native_zoom",
        "min_zoom",
        "no_wrap",
        "tile_size",
        "tms"
       ],
       "url": "https://tiles.stadiamaps.com/tiles/alidade_smooth/{z}/{x}/{y}.png"
      }
     },
     "bcd10910816645178e54ae2eedc4cde8": {
      "model_module": "@jupyter-widgets/controls",
      "model_module_version": "1.5.0",
      "model_name": "ToggleButtonModel",
      "state": {
       "button_style": "primary",
       "icon": "info",
       "layout": "IPY_MODEL_c7e6e34232b94c6ea724d55e7eb2ef46",
       "style": "IPY_MODEL_7d6e35e973484ee4a4a1cdcccfef0a41",
       "tooltip": "Inspector"
      }
     },
     "bcdf95b3863a4e36a2b864895329ed82": {
      "model_module": "@jupyter-widgets/controls",
      "model_module_version": "1.5.0",
      "model_name": "DescriptionStyleModel",
      "state": {
       "description_width": ""
      }
     },
     "bd1e1e87b3524af6bed6fa9844d93b6a": {
      "model_module": "jupyter-leaflet",
      "model_module_version": "^0.17.0",
      "model_name": "LeafletTileLayerModel",
      "state": {
       "_model_module_version": "^0.17.0",
       "_view_module_version": "^0.17.0",
       "attribution": "Map tiles by Stamen Design, CC BY 3.0 -- Map data (C) OpenStreetMap contributors",
       "max_zoom": 20,
       "name": "Stamen.TonerLines",
       "options": [
        "attribution",
        "bounds",
        "detect_retina",
        "max_native_zoom",
        "max_zoom",
        "min_native_zoom",
        "min_zoom",
        "no_wrap",
        "tile_size",
        "tms"
       ],
       "url": "https://stamen-tiles-a.a.ssl.fastly.net/toner-lines/{z}/{x}/{y}.png"
      }
     },
     "bd4eb5d80dd5460d977a259054675096": {
      "model_module": "@jupyter-widgets/base",
      "model_module_version": "1.2.0",
      "model_name": "LayoutModel",
      "state": {
       "height": "auto",
       "padding": "0px 0px 0px 4px",
       "width": "auto"
      }
     },
     "be4f8138bd0846a0942f11e25077d14b": {
      "model_module": "jupyter-leaflet",
      "model_module_version": "^0.17.0",
      "model_name": "LeafletTileLayerModel",
      "state": {
       "_model_module_version": "^0.17.0",
       "_view_module_version": "^0.17.0",
       "attribution": "Datenquelle: basemap.at",
       "max_zoom": 19,
       "name": "BasemapAT.surface",
       "options": [
        "attribution",
        "bounds",
        "detect_retina",
        "max_native_zoom",
        "max_zoom",
        "min_native_zoom",
        "min_zoom",
        "no_wrap",
        "tile_size",
        "tms"
       ],
       "url": "https://maps.wien.gv.at/basemap/bmapoberflaeche/grau/google3857/{z}/{y}/{x}.jpeg"
      }
     },
     "beb6250612eb4cb0b7516ec97b88ec50": {
      "model_module": "@jupyter-widgets/controls",
      "model_module_version": "1.5.0",
      "model_name": "DescriptionStyleModel",
      "state": {
       "description_width": ""
      }
     },
     "bf554944f9bd46a5a5afdc646965869c": {
      "model_module": "jupyter-leaflet",
      "model_module_version": "^0.17.0",
      "model_name": "LeafletTileLayerModel",
      "state": {
       "_model_module_version": "^0.17.0",
       "_view_module_version": "^0.17.0",
       "attribution": "Map tiles by <a href=\"https://labs.strava.com/heatmap\">Strava 2021</a>",
       "max_zoom": 15,
       "name": "Strava.Run",
       "options": [
        "attribution",
        "bounds",
        "detect_retina",
        "max_native_zoom",
        "max_zoom",
        "min_native_zoom",
        "min_zoom",
        "no_wrap",
        "tile_size",
        "tms"
       ],
       "url": "https://heatmap-external-a.strava.com/tiles/run/bluered/{z}/{x}/{y}.png"
      }
     },
     "bf61b5167d3447d2b8b775c3a735b98c": {
      "model_module": "jupyter-leaflet",
      "model_module_version": "^0.17.0",
      "model_name": "LeafletZoomControlModel",
      "state": {
       "_model_module_version": "^0.17.0",
       "_view_module_version": "^0.17.0",
       "options": [
        "position",
        "zoom_in_text",
        "zoom_in_title",
        "zoom_out_text",
        "zoom_out_title"
       ]
      }
     },
     "bf82fe0598604e0fbcc6612f320fa5b4": {
      "model_module": "jupyter-leaflet",
      "model_module_version": "^0.17.0",
      "model_name": "LeafletDrawControlModel",
      "state": {
       "_model_module_version": "^0.17.0",
       "_view_module_version": "^0.17.0",
       "circle": {
        "shapeOptions": {
         "color": "#3388ff"
        }
       },
       "marker": {
        "shapeOptions": {
         "color": "#3388ff"
        }
       },
       "options": [
        "position"
       ],
       "rectangle": {
        "shapeOptions": {
         "color": "#3388ff"
        }
       }
      }
     },
     "bf9f926aeb394d20854bc3f0fb9eab46": {
      "model_module": "jupyter-leaflet",
      "model_module_version": "^0.17.0",
      "model_name": "LeafletTileLayerModel",
      "state": {
       "_model_module_version": "^0.17.0",
       "_view_module_version": "^0.17.0",
       "attribution": "(C) OpenStreetMap contributors",
       "name": "OpenStreetMap.CH",
       "options": [
        "attribution",
        "bounds",
        "detect_retina",
        "max_native_zoom",
        "max_zoom",
        "min_native_zoom",
        "min_zoom",
        "no_wrap",
        "tile_size",
        "tms"
       ],
       "url": "https://tile.osm.ch/switzerland/{z}/{x}/{y}.png"
      }
     },
     "c0016aa3753f409288c61cecf593ba53": {
      "model_module": "@jupyter-widgets/controls",
      "model_module_version": "1.5.0",
      "model_name": "DescriptionStyleModel",
      "state": {
       "description_width": ""
      }
     },
     "c009efd3783045bbb5b4cfb52b49e5a8": {
      "model_module": "@jupyter-widgets/base",
      "model_module_version": "1.2.0",
      "model_name": "LayoutModel",
      "state": {
       "height": "600px"
      }
     },
     "c0540c7e2b224c0ea436d8f5d74f6ce6": {
      "model_module": "@jupyter-widgets/controls",
      "model_module_version": "1.5.0",
      "model_name": "SelectModel",
      "state": {
       "_options_labels": [
        "📁 ..",
        "📁 Ground_Information",
        "📁 Results Step 1",
        "📁 Results Step 2",
        "📁 old code",
        "11_export_image-Copy1.ipynb",
        "2020 Geemap in HS.pdf",
        "2020 Geemap in HS.pptx",
        "DSAW Application 1 MAIN.ipynb",
        "DSAW_Application_1_Step_1.ipynb",
        "DSAW_Application_1_Step_2.ipynb",
        "DSAW_Application_1_Step_3-Copy1.ipynb",
        "DSAW_Application_1_Step_3.ipynb",
        "Landsat Evapotranspiration for Wellsville.ipynb",
        "README.md",
        "SelectingAppropriateBandCombinations_Final.pdf",
        "Untitled.ipynb",
        "area_of_study.jpg"
       ],
       "index": null,
       "layout": "IPY_MODEL_35ab8b7949854175b142f152697a769a",
       "rows": 8,
       "style": "IPY_MODEL_70ca1ddf96ba491d80d8774786d734a7"
      }
     },
     "c085a25f00104f02b178c7f1487c7fab": {
      "model_module": "@jupyter-widgets/controls",
      "model_module_version": "1.5.0",
      "model_name": "HBoxModel",
      "state": {
       "children": [
        "IPY_MODEL_b7c72e2a99e5452ba658a105098c009f",
        "IPY_MODEL_d3ca70869c6d499cb345b0bfdc142b8c"
       ],
       "layout": "IPY_MODEL_fe009f44885b463187602d3b95c17ef1"
      }
     },
     "c08e16a63cc54b0e93f983ecfffc5e25": {
      "model_module": "@jupyter-widgets/controls",
      "model_module_version": "1.5.0",
      "model_name": "DescriptionStyleModel",
      "state": {
       "description_width": ""
      }
     },
     "c0b69cca033d4295baa505cac967d738": {
      "model_module": "@jupyter-widgets/base",
      "model_module_version": "1.2.0",
      "model_name": "LayoutModel",
      "state": {}
     },
     "c0cfa1107c3040e1b74f306ee45ba46d": {
      "model_module": "@jupyter-widgets/base",
      "model_module_version": "1.2.0",
      "model_name": "LayoutModel",
      "state": {
       "grid_area": "dircontent",
       "width": "auto"
      }
     },
     "c0f235fead4544e99c7f4b010ccecdfd": {
      "model_module": "@jupyter-widgets/controls",
      "model_module_version": "1.5.0",
      "model_name": "DescriptionStyleModel",
      "state": {
       "description_width": ""
      }
     },
     "c11a2d6fd8614284a13d743457267ad4": {
      "model_module": "@jupyter-widgets/controls",
      "model_module_version": "1.5.0",
      "model_name": "ToggleButtonModel",
      "state": {
       "button_style": "primary",
       "icon": "fast-forward",
       "layout": "IPY_MODEL_2699de2f4a8a4acdb21a7a8af89edd5e",
       "style": "IPY_MODEL_273929f911374d9c93c8a7f1fe5e085f",
       "tooltip": "Activate timeslider"
      }
     },
     "c12e56618bea491c9247f0dff8288b01": {
      "model_module": "jupyter-leaflet",
      "model_module_version": "^0.17.0",
      "model_name": "LeafletTileLayerModel",
      "state": {
       "_model_module_version": "^0.17.0",
       "_view_module_version": "^0.17.0",
       "attribution": "Kaartgegevens (C) Kadaster",
       "max_zoom": 19,
       "name": "nlmaps.grijs",
       "options": [
        "attribution",
        "bounds",
        "detect_retina",
        "max_native_zoom",
        "max_zoom",
        "min_native_zoom",
        "min_zoom",
        "no_wrap",
        "tile_size",
        "tms"
       ],
       "url": "https://service.pdok.nl/brt/achtergrondkaart/wmts/v2_0/grijs/EPSG:3857/{z}/{x}/{y}.png"
      }
     },
     "c16395ac822b46ca8a2e9cb26d672dde": {
      "model_module": "@jupyter-widgets/controls",
      "model_module_version": "1.5.0",
      "model_name": "SelectModel",
      "state": {
       "_options_labels": [
        "📁 ..",
        "📁 Ground_Information",
        "📁 Results Step 1",
        "📁 Results Step 2",
        "📁 old code",
        "11_export_image-Copy1.ipynb",
        "2020 Geemap in HS.pdf",
        "2020 Geemap in HS.pptx",
        "DSAW Application 1 MAIN.ipynb",
        "DSAW_Application_1_Step_1.ipynb",
        "DSAW_Application_1_Step_2.ipynb",
        "DSAW_Application_1_Step_3-Copy1.ipynb",
        "DSAW_Application_1_Step_3.ipynb",
        "Landsat Evapotranspiration for Wellsville.ipynb",
        "README.md",
        "SelectingAppropriateBandCombinations_Final.pdf",
        "Untitled.ipynb",
        "area_of_study.jpg"
       ],
       "index": null,
       "layout": "IPY_MODEL_41dbd4e51ea94bf999fb810d87631f9a",
       "rows": 8,
       "style": "IPY_MODEL_f3e6c310d69b43f1bf3e974008dd8921"
      }
     },
     "c167d9f3b094467a899aae24c4fb42e3": {
      "model_module": "@jupyter-widgets/base",
      "model_module_version": "1.2.0",
      "model_name": "LayoutModel",
      "state": {
       "width": "340px"
      }
     },
     "c1deac44a41e49eab22ed1167d7019ee": {
      "model_module": "@jupyter-widgets/base",
      "model_module_version": "1.2.0",
      "model_name": "LayoutModel",
      "state": {
       "display": "none",
       "min_width": "6em",
       "width": "6em"
      }
     },
     "c239e4ad93ae4a53a6d6077b74f528fc": {
      "model_module": "jupyter-leaflet",
      "model_module_version": "^0.17.0",
      "model_name": "LeafletTileLayerModel",
      "state": {
       "_model_module_version": "^0.17.0",
       "_view_module_version": "^0.17.0",
       "attribution": "Map tiles by Stamen Design, CC BY 3.0 -- Map data (C) OpenStreetMap contributors",
       "max_zoom": 20,
       "name": "Stamen.TonerBackground",
       "options": [
        "attribution",
        "bounds",
        "detect_retina",
        "max_native_zoom",
        "max_zoom",
        "min_native_zoom",
        "min_zoom",
        "no_wrap",
        "tile_size",
        "tms"
       ],
       "url": "https://stamen-tiles-a.a.ssl.fastly.net/toner-background/{z}/{x}/{y}.png"
      }
     },
     "c23b474880b9497b9b1f032e9aeea9d9": {
      "model_module": "jupyter-leaflet",
      "model_module_version": "^0.17.0",
      "model_name": "LeafletZoomControlModel",
      "state": {
       "_model_module_version": "^0.17.0",
       "_view_module_version": "^0.17.0",
       "options": [
        "position",
        "zoom_in_text",
        "zoom_in_title",
        "zoom_out_text",
        "zoom_out_title"
       ]
      }
     },
     "c2d308fc8029414485071970bfc5b1ef": {
      "model_module": "@jupyter-widgets/controls",
      "model_module_version": "1.5.0",
      "model_name": "DescriptionStyleModel",
      "state": {
       "description_width": ""
      }
     },
     "c2d8f13fabe347598635cb1ad907d61d": {
      "model_module": "jupyter-leaflet",
      "model_module_version": "^0.17.0",
      "model_name": "LeafletWMSLayerModel",
      "state": {
       "_model_module_version": "^0.17.0",
       "_view_module_version": "^0.17.0",
       "attribution": "MRLC",
       "crs": {
        "custom": false,
        "name": "EPSG3857"
       },
       "format": "image/png",
       "layers": "NLCD_2019_Land_Cover_L48",
       "name": "NLCD 2019 CONUS Land Cover",
       "options": [
        "attribution",
        "bounds",
        "detect_retina",
        "format",
        "layers",
        "max_native_zoom",
        "max_zoom",
        "min_native_zoom",
        "min_zoom",
        "no_wrap",
        "styles",
        "tile_size",
        "tms",
        "transparent",
        "uppercase"
       ],
       "transparent": true,
       "url": "https://www.mrlc.gov/geoserver/mrlc_display/NLCD_2019_Land_Cover_L48/wms?"
      }
     },
     "c2f0c007ace74ccea289ec88f35416b6": {
      "model_module": "jupyter-leaflet",
      "model_module_version": "^0.17.0",
      "model_name": "LeafletWMSLayerModel",
      "state": {
       "_model_module_version": "^0.17.0",
       "_view_module_version": "^0.17.0",
       "attribution": "USGS",
       "crs": {
        "custom": false,
        "name": "EPSG3857"
       },
       "format": "image/png",
       "layers": "0",
       "name": "USGS Hydrography",
       "options": [
        "attribution",
        "bounds",
        "detect_retina",
        "format",
        "layers",
        "max_native_zoom",
        "max_zoom",
        "min_native_zoom",
        "min_zoom",
        "no_wrap",
        "styles",
        "tile_size",
        "tms",
        "transparent",
        "uppercase"
       ],
       "transparent": true,
       "url": "https://basemap.nationalmap.gov/arcgis/services/USGSHydroCached/MapServer/WMSServer?"
      }
     },
     "c31b285e4f5b4e54a94b6830e61c6674": {
      "model_module": "@jupyter-widgets/controls",
      "model_module_version": "1.5.0",
      "model_name": "DescriptionStyleModel",
      "state": {
       "description_width": ""
      }
     },
     "c358f880fe4e4bc59c199cfdd2004fe5": {
      "model_module": "@jupyter-widgets/controls",
      "model_module_version": "1.5.0",
      "model_name": "DescriptionStyleModel",
      "state": {
       "description_width": ""
      }
     },
     "c36951afb776438aa8cceda0e7ca5d84": {
      "model_module": "@jupyter-widgets/controls",
      "model_module_version": "1.5.0",
      "model_name": "GridBoxModel",
      "state": {
       "children": [
        "IPY_MODEL_8c90745bf2be49d0a588a04eda842cc0",
        "IPY_MODEL_2ac613ebdcbc43b597b00d5ebc0592f8",
        "IPY_MODEL_d0eb6e91c7204df082529360a698da03",
        "IPY_MODEL_f6f4b1bfa9c44c63ae19863b5935653c",
        "IPY_MODEL_c78022859c44445eb0b0767c9e5cfe8a",
        "IPY_MODEL_83ceb8803a954c6e9542a685c10f0db4",
        "IPY_MODEL_8d754cfc60ba4dc68d42d5d2b651cb1c",
        "IPY_MODEL_2f5ad9d9c1b4424db39e647b43c99f63",
        "IPY_MODEL_5caf5c973bad43158446ffd85a6b3dcc",
        "IPY_MODEL_0ff6d4dea17642f4a0626821d3ae7c5a",
        "IPY_MODEL_c11a2d6fd8614284a13d743457267ad4",
        "IPY_MODEL_750f65ba950043b78dbfa1bb948be81e",
        "IPY_MODEL_7612a7e62ddc4e98b2419c9b3118475e",
        "IPY_MODEL_4009d08df80c4535aa58cbecfcedcac0",
        "IPY_MODEL_fef007da31e54f9c8081ff47e710e1af",
        "IPY_MODEL_6e44b5cc3c7e4c1783aa25ee9bea844c",
        "IPY_MODEL_65934c9ffaed400586ea7492c8cbf2e3",
        "IPY_MODEL_939bd008468043c6b97c74c0a8e3d264"
       ],
       "layout": "IPY_MODEL_e711164ae7f14330b70243c3fa8239e3"
      }
     },
     "c3b0bde9bfe64c3293ad01d5c62234d6": {
      "model_module": "@jupyter-widgets/controls",
      "model_module_version": "1.5.0",
      "model_name": "DescriptionStyleModel",
      "state": {
       "description_width": ""
      }
     },
     "c3b9e67e76514bdaa776cd509ea6cf78": {
      "model_module": "jupyter-leaflet",
      "model_module_version": "^0.17.0",
      "model_name": "LeafletTileLayerModel",
      "state": {
       "_model_module_version": "^0.17.0",
       "_view_module_version": "^0.17.0",
       "attribution": "Map data: (C) OpenStreetMap contributors | Map style: (C) waymarkedtrails.org (CC-BY-SA)",
       "name": "WaymarkedTrails.cycling",
       "options": [
        "attribution",
        "bounds",
        "detect_retina",
        "max_native_zoom",
        "max_zoom",
        "min_native_zoom",
        "min_zoom",
        "no_wrap",
        "tile_size",
        "tms"
       ],
       "url": "https://tile.waymarkedtrails.org/cycling/{z}/{x}/{y}.png"
      }
     },
     "c3fefb5751af45299e7eda6c04baa5dc": {
      "model_module": "@jupyter-widgets/controls",
      "model_module_version": "1.5.0",
      "model_name": "HTMLModel",
      "state": {
       "layout": "IPY_MODEL_b6dc210a9fc149348fdf432940b070eb",
       "placeholder": "",
       "style": "IPY_MODEL_aabba2464008496eb5092b960a135ba7",
       "value": "<span style=\"color:black;\">No selection</span>"
      }
     },
     "c4778b5ad890432eba62ae8afe48f5cb": {
      "model_module": "@jupyter-widgets/controls",
      "model_module_version": "1.5.0",
      "model_name": "ToggleButtonModel",
      "state": {
       "button_style": "primary",
       "icon": "retweet",
       "layout": "IPY_MODEL_944a5d9a22d640a487cf33653a067c94",
       "style": "IPY_MODEL_4fdb3feee8b64753b4bac29065db482f",
       "tooltip": "Convert Earth Engine JavaScript to Python"
      }
     },
     "c493a773bd3b4a9282e1709350fa307f": {
      "model_module": "@jupyter-widgets/controls",
      "model_module_version": "1.5.0",
      "model_name": "ToggleButtonsModel",
      "state": {
       "_options_labels": [
        "OK",
        "Cancel"
       ],
       "button_style": "primary",
       "icons": [],
       "index": null,
       "layout": "IPY_MODEL_22f77b4cf77b4e42b27898ec285d7f4c",
       "style": "IPY_MODEL_0c1e856eee2d40c1a43d845ad28bb9aa",
       "tooltips": [
        "OK",
        "Cancel"
       ]
      }
     },
     "c493fa911d0f471783d2619fd4455e7a": {
      "model_module": "jupyter-leaflet",
      "model_module_version": "^0.17.0",
      "model_name": "LeafletTileLayerModel",
      "state": {
       "_model_module_version": "^0.17.0",
       "_view_module_version": "^0.17.0",
       "attribution": "Justice Map",
       "max_zoom": 22,
       "name": "JusticeMap.black",
       "options": [
        "attribution",
        "bounds",
        "detect_retina",
        "max_native_zoom",
        "max_zoom",
        "min_native_zoom",
        "min_zoom",
        "no_wrap",
        "tile_size",
        "tms"
       ],
       "url": "https://www.justicemap.org/tile/county/black/{z}/{x}/{y}.png"
      }
     },
     "c4e5145a6a2c40059b3d10f0c76028f8": {
      "model_module": "@jupyter-widgets/controls",
      "model_module_version": "1.5.0",
      "model_name": "DescriptionStyleModel",
      "state": {
       "description_width": ""
      }
     },
     "c50dbd68570b45b3a5d9a9ca8aae78a7": {
      "model_module": "jupyter-leaflet",
      "model_module_version": "^0.17.0",
      "model_name": "LeafletTileLayerModel",
      "state": {
       "_model_module_version": "^0.17.0",
       "_view_module_version": "^0.17.0",
       "attribution": "(C) OpenStreetMap contributors (C) CARTO",
       "max_zoom": 20,
       "name": "CartoDB.DarkMatterOnlyLabels",
       "options": [
        "attribution",
        "bounds",
        "detect_retina",
        "max_native_zoom",
        "max_zoom",
        "min_native_zoom",
        "min_zoom",
        "no_wrap",
        "tile_size",
        "tms"
       ],
       "url": "https://a.basemaps.cartocdn.com/dark_only_labels/{z}/{x}/{y}.png"
      }
     },
     "c50f4d2011284a7ea7a823434d0a9061": {
      "model_module": "@jupyter-widgets/base",
      "model_module_version": "1.2.0",
      "model_name": "LayoutModel",
      "state": {
       "height": "auto",
       "padding": "0px 0px 0px 4px",
       "width": "auto"
      }
     },
     "c5268572d8114b98a40e827485436fde": {
      "model_module": "@jupyter-widgets/base",
      "model_module_version": "1.2.0",
      "model_name": "LayoutModel",
      "state": {
       "height": "28px",
       "padding": "0px 0px 0px 4px",
       "width": "28px"
      }
     },
     "c53dcf6c29824689b9401e29a6794786": {
      "model_module": "@jupyter-widgets/controls",
      "model_module_version": "1.5.0",
      "model_name": "GridBoxModel",
      "state": {
       "children": [
        "IPY_MODEL_5f6a202d990142b6a56f0b7aadf76830",
        "IPY_MODEL_6c8d5eaff31146a79f2ea492b9b4769b",
        "IPY_MODEL_74af98ccb4434edba291710c8c0ff958",
        "IPY_MODEL_0b2ed9f4c15f400cbe33109a799447c7",
        "IPY_MODEL_e2c2087be7b6409fa2da872c62835046",
        "IPY_MODEL_c4778b5ad890432eba62ae8afe48f5cb",
        "IPY_MODEL_a99d0312810b4da98568156360591fe7",
        "IPY_MODEL_488d37edede3421f9bfc36bf1b36ea2e",
        "IPY_MODEL_4c4f0b7f60e24e4e9fbf11d35c1c6963",
        "IPY_MODEL_817d681f700847aba0413371da4f3bc2",
        "IPY_MODEL_1d2e2449bfa74f9ab57d22c9e6a27af0",
        "IPY_MODEL_0a1feff05dee460e825d6922bcda6130",
        "IPY_MODEL_356c4d5d44a3419fb4e5fee820f573d0",
        "IPY_MODEL_7369406d9e7544d69595b19870a4e4b1",
        "IPY_MODEL_e8a068d989424dfa947e56c4ee348c82",
        "IPY_MODEL_f89565cb764d463b96a5c974d3c5de9f",
        "IPY_MODEL_7a65e4b7101548f497603ff1694999ac",
        "IPY_MODEL_5399dc543d8b485db048a6a2538a56c9"
       ],
       "layout": "IPY_MODEL_fbaacbe0d9c94e40ba5af37f95a14066"
      }
     },
     "c636d8bbc00e46b7935edcd15bbd53fe": {
      "model_module": "@jupyter-widgets/controls",
      "model_module_version": "1.5.0",
      "model_name": "DescriptionStyleModel",
      "state": {
       "description_width": ""
      }
     },
     "c638d46543b941e3a56d2071e70aeb1e": {
      "model_module": "@jupyter-widgets/controls",
      "model_module_version": "1.5.0",
      "model_name": "HBoxModel",
      "state": {
       "children": [
        "IPY_MODEL_5ca6bfe5f94d4e88aafeb6d05d3cf1bf",
        "IPY_MODEL_1a05a98c7383422a8e1915ad6357abff",
        "IPY_MODEL_9a8438554d3f47968bdebfdadc618dfe",
        "IPY_MODEL_8fb33942fd874edf8e55572b8097a5fd",
        "IPY_MODEL_6732a48a76e74f2ea06840569c90741f"
       ],
       "layout": "IPY_MODEL_619bfd194dd148f18f907d3c930c6aee"
      }
     },
     "c6b4189bffbc4f14b6fef08220fe215a": {
      "model_module": "jupyter-leaflet",
      "model_module_version": "^0.17.0",
      "model_name": "LeafletWidgetControlModel",
      "state": {
       "_model_module": "jupyter-leaflet",
       "_model_module_version": "^0.17.0",
       "_view_count": null,
       "_view_module": "jupyter-leaflet",
       "_view_module_version": "^0.17.0",
       "options": [
        "position",
        "transparent_bg"
       ],
       "position": "topright",
       "widget": "IPY_MODEL_e8a71da146f848f99fd2bf64b904e7cb"
      }
     },
     "c766b25df3f4450a8dfd1fc9e0f2874c": {
      "model_module": "jupyter-leaflet",
      "model_module_version": "^0.17.0",
      "model_name": "LeafletTileLayerModel",
      "state": {
       "_model_module_version": "^0.17.0",
       "_view_module_version": "^0.17.0",
       "attribution": "Justice Map",
       "max_zoom": 22,
       "name": "JusticeMap.income",
       "options": [
        "attribution",
        "bounds",
        "detect_retina",
        "max_native_zoom",
        "max_zoom",
        "min_native_zoom",
        "min_zoom",
        "no_wrap",
        "tile_size",
        "tms"
       ],
       "url": "https://www.justicemap.org/tile/county/income/{z}/{x}/{y}.png"
      }
     },
     "c78022859c44445eb0b0767c9e5cfe8a": {
      "model_module": "@jupyter-widgets/controls",
      "model_module_version": "1.5.0",
      "model_name": "ToggleButtonModel",
      "state": {
       "button_style": "primary",
       "icon": "folder-open",
       "layout": "IPY_MODEL_e9a5eeeaff5b4043b7c43c0fd1922f1d",
       "style": "IPY_MODEL_29a39c5de76b49b19d0125c6450953f6",
       "tooltip": "Open local vector/raster data"
      }
     },
     "c7e6e34232b94c6ea724d55e7eb2ef46": {
      "model_module": "@jupyter-widgets/base",
      "model_module_version": "1.2.0",
      "model_name": "LayoutModel",
      "state": {
       "height": "auto",
       "padding": "0px 0px 0px 4px",
       "width": "auto"
      }
     },
     "c82ae82b411f4201b80a0e3814ab145c": {
      "model_module": "@jupyter-widgets/controls",
      "model_module_version": "1.5.0",
      "model_name": "HBoxModel",
      "state": {
       "_view_count": 1,
       "children": [
        "IPY_MODEL_2733575a0c334eb4b430aa49e6e176dd"
       ],
       "layout": "IPY_MODEL_3beb6447e626468d94976bb6cf9f19b1"
      }
     },
     "c859a22d43714b72880e73b99bfd899d": {
      "model_module": "@jupyter-widgets/controls",
      "model_module_version": "1.5.0",
      "model_name": "DescriptionStyleModel",
      "state": {
       "description_width": ""
      }
     },
     "c8e1d4fda0d643939c8a2086388fca22": {
      "model_module": "@jupyter-widgets/controls",
      "model_module_version": "1.5.0",
      "model_name": "ToggleButtonsStyleModel",
      "state": {
       "button_width": "110px",
       "description_width": ""
      }
     },
     "c909234f876e4b78a3f749711da042d3": {
      "model_module": "@jupyter-widgets/controls",
      "model_module_version": "1.5.0",
      "model_name": "LabelModel",
      "state": {
       "layout": "IPY_MODEL_e21faf3e34e5489289e7d2b8cfa07602",
       "style": "IPY_MODEL_f2228e868829496fa1c2aeb42b0fb52c"
      }
     },
     "ca03e7614280454e8de4096c98335184": {
      "model_module": "ipyevents",
      "model_module_version": "2.0.1",
      "model_name": "EventModel",
      "state": {
       "_supported_key_events": [
        "keydown",
        "keyup"
       ],
       "_supported_mouse_events": [
        "click",
        "auxclick",
        "dblclick",
        "mouseenter",
        "mouseleave",
        "mousedown",
        "mouseup",
        "mousemove",
        "wheel",
        "contextmenu",
        "dragstart",
        "drag",
        "dragend",
        "dragenter",
        "dragover",
        "dragleave",
        "drop"
       ],
       "_supported_touch_events": [
        "touchstart",
        "touchend",
        "touchmove",
        "touchcancel"
       ],
       "_view_module": "@jupyter-widgets/controls",
       "_view_module_version": "1.5.0",
       "source": "IPY_MODEL_8809c925bd7647ebba401de14b27be82",
       "throttle_or_debounce": "",
       "watched_events": [
        "mouseenter",
        "mouseleave"
       ],
       "xy_coordinate_system": ""
      }
     },
     "caabaab830984b43b4e31e69f0474033": {
      "model_module": "@jupyter-widgets/controls",
      "model_module_version": "1.5.0",
      "model_name": "ToggleButtonModel",
      "state": {
       "button_style": "primary",
       "icon": "retweet",
       "layout": "IPY_MODEL_d81722a5e6ef4cabb6eea5a05f961375",
       "style": "IPY_MODEL_3002779046f349fdaa4df962220c4d39",
       "tooltip": "Convert Earth Engine JavaScript to Python"
      }
     },
     "cac5f83c37974b299bd41087dbae4f43": {
      "model_module": "@jupyter-widgets/controls",
      "model_module_version": "1.5.0",
      "model_name": "DescriptionStyleModel",
      "state": {
       "description_width": ""
      }
     },
     "cac9969d10924b5b9e84552bf0c22c4e": {
      "model_module": "@jupyter-widgets/base",
      "model_module_version": "1.2.0",
      "model_name": "LayoutModel",
      "state": {
       "border": "1px solid black",
       "max_height": "530px",
       "max_width": "600px",
       "overflow": "auto"
      }
     },
     "cbb218e408864d29a0ba5e6db09df466": {
      "model_module": "jupyter-leaflet",
      "model_module_version": "^0.17.0",
      "model_name": "LeafletTileLayerModel",
      "state": {
       "_model_module_version": "^0.17.0",
       "_view_module_version": "^0.17.0",
       "attribution": "Map data: (C) OpenStreetMap contributors | Map style: (C) OpenRailwayMap (CC-BY-SA)",
       "max_zoom": 19,
       "name": "OpenRailwayMap",
       "options": [
        "attribution",
        "bounds",
        "detect_retina",
        "max_native_zoom",
        "max_zoom",
        "min_native_zoom",
        "min_zoom",
        "no_wrap",
        "tile_size",
        "tms"
       ],
       "url": "https://a.tiles.openrailwaymap.org/standard/{z}/{x}/{y}.png"
      }
     },
     "cc1f1e72316c442093dca42869d60e91": {
      "model_module": "@jupyter-widgets/controls",
      "model_module_version": "1.5.0",
      "model_name": "HTMLModel",
      "state": {
       "layout": "IPY_MODEL_0bb917b4dff94f01b76500285baf934f",
       "style": "IPY_MODEL_05bb095ff08f47e6af957e9d94bb9130"
      }
     },
     "cc3ccab02f0c4c52ae05efc38f815395": {
      "model_module": "@jupyter-widgets/controls",
      "model_module_version": "1.5.0",
      "model_name": "DescriptionStyleModel",
      "state": {
       "description_width": ""
      }
     },
     "cc91d5b435e249768cd8309b85bd035e": {
      "model_module": "jupyter-leaflet",
      "model_module_version": "^0.17.0",
      "model_name": "LeafletSearchControlModel",
      "state": {
       "_model_module_version": "^0.17.0",
       "_view_module_version": "^0.17.0",
       "marker": "IPY_MODEL_ada88594dc6d433aaaa0407bfc1987c3",
       "options": [
        "animate_location",
        "auto_collapse",
        "auto_type",
        "found_style",
        "jsonp_param",
        "position",
        "property_loc",
        "property_name",
        "url",
        "zoom"
       ],
       "url": "https://nominatim.openstreetmap.org/search?format=json&q={s}",
       "zoom": 5
      }
     },
     "ccfa4ed024f144d1a075c017119e7b05": {
      "model_module": "jupyter-leaflet",
      "model_module_version": "^0.17.0",
      "model_name": "LeafletWidgetControlModel",
      "state": {
       "_model_module": "jupyter-leaflet",
       "_model_module_version": "^0.17.0",
       "_view_count": null,
       "_view_module": "jupyter-leaflet",
       "_view_module_version": "^0.17.0",
       "options": [
        "position",
        "transparent_bg"
       ],
       "position": "topleft",
       "widget": "IPY_MODEL_c82ae82b411f4201b80a0e3814ab145c"
      }
     },
     "cd527737fe6f4639befca3c82818b700": {
      "model_module": "@jupyter-widgets/controls",
      "model_module_version": "1.5.0",
      "model_name": "DescriptionStyleModel",
      "state": {
       "description_width": ""
      }
     },
     "cdc2742918af4813b958ee4ad9f68d33": {
      "model_module": "@jupyter-widgets/base",
      "model_module_version": "1.2.0",
      "model_name": "LayoutModel",
      "state": {
       "height": "auto",
       "padding": "0px 0px 0px 4px",
       "width": "auto"
      }
     },
     "cdcc026036834329a41159dfa217184d": {
      "model_module": "jupyter-leaflet",
      "model_module_version": "^0.17.0",
      "model_name": "LeafletMapModel",
      "state": {
       "_model_module_version": "^0.17.0",
       "_view_module_version": "^0.17.0",
       "bottom": 199920,
       "center": [
        39.399978753927925,
        -112.63224349999895
       ],
       "controls": [
        "IPY_MODEL_a7f97e5a16f34b66b806551a0a13fad5",
        "IPY_MODEL_c23b474880b9497b9b1f032e9aeea9d9",
        "IPY_MODEL_de2f7c96d08a43428d5e11468b37d8b2",
        "IPY_MODEL_6f414e76747240af8e3bd5bf3bcb2bc7",
        "IPY_MODEL_f0699b7d8be142619f784b309d90d238",
        "IPY_MODEL_13be79c29ee748feb4610af8d0dcfe3e",
        "IPY_MODEL_96e7ac3b3bd249babfbe682d3fa4b61f",
        "IPY_MODEL_b237a3fff16c4477b72e69556947a5af"
       ],
       "default_style": "IPY_MODEL_e88110392eab4c23816139a34c57e75c",
       "dragging_style": "IPY_MODEL_b24beea54b7c49e49b550982c0fef00f",
       "east": -112.3070526123047,
       "fullscreen": false,
       "interpolation": "bilinear",
       "layers": [
        "IPY_MODEL_94c742b72f7d446289e57bf8e97336eb",
        "IPY_MODEL_dccd4bb897e648a3882e5ff861596586",
        "IPY_MODEL_13d76315eff34b00bc46407c6b6666b4"
       ],
       "layout": "IPY_MODEL_93bf88eed668433fa3bece9007e3d568",
       "left": 97637,
       "max_zoom": 24,
       "modisdate": "2023-01-20",
       "north": 39.55911824217187,
       "options": [
        "bounce_at_zoom_limits",
        "box_zoom",
        "center",
        "close_popup_on_click",
        "double_click_zoom",
        "dragging",
        "fullscreen",
        "inertia",
        "inertia_deceleration",
        "inertia_max_speed",
        "interpolation",
        "keyboard",
        "keyboard_pan_offset",
        "keyboard_zoom_offset",
        "max_zoom",
        "min_zoom",
        "prefer_canvas",
        "scroll_wheel_zoom",
        "tap",
        "tap_tolerance",
        "touch_zoom",
        "world_copy_jump",
        "zoom",
        "zoom_animation_threshold",
        "zoom_delta",
        "zoom_snap"
       ],
       "prefer_canvas": false,
       "right": 98585,
       "scroll_wheel_zoom": true,
       "south": 39.2407625100131,
       "style": "IPY_MODEL_6cd0d007107240d9a7a2da91254ecbde",
       "top": 199320,
       "west": -112.95799255371095,
       "window_url": "https://jupyterhub.cuahsi.org/user/torresrua/lab/tree/projects/Machine-Learning-Applications-in-Remote-Sensing-Data/DSAW_Application_1_Step_1.ipynb",
       "zoom": 11
      }
     },
     "cde8c8fa0acd4433a3d23f9f4a5dd92a": {
      "model_module": "jupyter-leaflet",
      "model_module_version": "^0.17.0",
      "model_name": "LeafletWMSLayerModel",
      "state": {
       "_model_module_version": "^0.17.0",
       "_view_module_version": "^0.17.0",
       "attribution": "USGS",
       "crs": {
        "custom": false,
        "name": "EPSG3857"
       },
       "format": "image/png",
       "layers": "USGSNAIPImagery:NDVI_Color",
       "name": "USGS NAIP Imagery NDVI",
       "options": [
        "attribution",
        "bounds",
        "detect_retina",
        "format",
        "layers",
        "max_native_zoom",
        "max_zoom",
        "min_native_zoom",
        "min_zoom",
        "no_wrap",
        "styles",
        "tile_size",
        "tms",
        "transparent",
        "uppercase"
       ],
       "transparent": true,
       "url": "https://imagery.nationalmap.gov/arcgis/services/USGSNAIPImagery/ImageServer/WMSServer?"
      }
     },
     "ce0fcec4a78948d7845690d3f213899c": {
      "model_module": "jupyter-leaflet",
      "model_module_version": "^0.17.0",
      "model_name": "LeafletScaleControlModel",
      "state": {
       "_model_module_version": "^0.17.0",
       "_view_module_version": "^0.17.0",
       "imperial": true,
       "max_width": 100,
       "metric": true,
       "options": [
        "imperial",
        "max_width",
        "metric",
        "position",
        "update_when_idle"
       ],
       "position": "bottomleft",
       "update_when_idle": false
      }
     },
     "ce770fc5ef5c4dd09f7608b23f84216c": {
      "model_module": "@jupyter-widgets/base",
      "model_module_version": "1.2.0",
      "model_name": "LayoutModel",
      "state": {
       "height": "600px"
      }
     },
     "cea647d357794b1c87d00d7c4a3f9864": {
      "model_module": "@jupyter-widgets/base",
      "model_module_version": "1.2.0",
      "model_name": "LayoutModel",
      "state": {}
     },
     "ceb429dd43ad436b8d21c1a04fa38e03": {
      "model_module": "@jupyter-widgets/base",
      "model_module_version": "1.2.0",
      "model_name": "LayoutModel",
      "state": {
       "height": "auto",
       "padding": "0px 0px 0px 4px",
       "width": "auto"
      }
     },
     "ceb52eb2ecf443a98053741a448433ac": {
      "model_module": "@jupyter-widgets/controls",
      "model_module_version": "1.5.0",
      "model_name": "DescriptionStyleModel",
      "state": {
       "description_width": ""
      }
     },
     "cebf9cf1cc464025ab746274c49ff40c": {
      "model_module": "@jupyter-widgets/base",
      "model_module_version": "1.2.0",
      "model_name": "LayoutModel",
      "state": {
       "height": "auto",
       "padding": "0px 0px 0px 4px",
       "width": "auto"
      }
     },
     "cee71a9290ba4d5491a731efea64f718": {
      "model_module": "@jupyter-widgets/controls",
      "model_module_version": "1.5.0",
      "model_name": "DescriptionStyleModel",
      "state": {
       "description_width": ""
      }
     },
     "ceec8f3e29c74de9b968cabf9a00b028": {
      "model_module": "jupyter-leaflet",
      "model_module_version": "^0.17.0",
      "model_name": "LeafletTileLayerModel",
      "state": {
       "_model_module_version": "^0.17.0",
       "_view_module_version": "^0.17.0",
       "attribution": "(C) Stadia Maps, (C) OpenMapTiles (C) OpenStreetMap contributors",
       "max_zoom": 20,
       "name": "Stadia.Outdoors",
       "options": [
        "attribution",
        "bounds",
        "detect_retina",
        "max_native_zoom",
        "max_zoom",
        "min_native_zoom",
        "min_zoom",
        "no_wrap",
        "tile_size",
        "tms"
       ],
       "url": "https://tiles.stadiamaps.com/tiles/outdoors/{z}/{x}/{y}.png"
      }
     },
     "cf0aa054785f4dd5b59dca3fde066744": {
      "model_module": "@jupyter-widgets/base",
      "model_module_version": "1.2.0",
      "model_name": "LayoutModel",
      "state": {
       "width": "65px"
      }
     },
     "cf1be6da40cc4666a103f53eff747143": {
      "model_module": "@jupyter-widgets/controls",
      "model_module_version": "1.5.0",
      "model_name": "DescriptionStyleModel",
      "state": {
       "description_width": ""
      }
     },
     "cf1f0c0a29264c82936794c0f37ff049": {
      "model_module": "@jupyter-widgets/controls",
      "model_module_version": "1.5.0",
      "model_name": "DescriptionStyleModel",
      "state": {
       "description_width": ""
      }
     },
     "cf9e74583c6546a5bb8d5a9e5bd6c15b": {
      "model_module": "@jupyter-widgets/controls",
      "model_module_version": "1.5.0",
      "model_name": "HBoxModel",
      "state": {
       "children": [
        "IPY_MODEL_02af950dd1a240e5a205af36e82b2ed2",
        "IPY_MODEL_75c1348aeab642539d37bce166617931"
       ],
       "layout": "IPY_MODEL_51b8384e84bc4971ba021ec758b80c23"
      }
     },
     "cfb3f61a42984594a6faf4e5d98f9da6": {
      "model_module": "@jupyter-widgets/controls",
      "model_module_version": "1.5.0",
      "model_name": "DescriptionStyleModel",
      "state": {
       "description_width": ""
      }
     },
     "d014188b49cc44d186f7031e95054bf3": {
      "model_module": "@jupyter-widgets/controls",
      "model_module_version": "1.5.0",
      "model_name": "ToggleButtonModel",
      "state": {
       "button_style": "primary",
       "icon": "random",
       "layout": "IPY_MODEL_00c08eff2cf442b28b3e2dbe8c50887d",
       "style": "IPY_MODEL_7d89d397ef89406f9873c387169e7b72",
       "tooltip": "Sankey plots"
      }
     },
     "d0dd509cf59641f9a331924e74f73336": {
      "model_module": "@jupyter-widgets/controls",
      "model_module_version": "1.5.0",
      "model_name": "DescriptionStyleModel",
      "state": {
       "description_width": ""
      }
     },
     "d0e8fd9aa5ef476d9815070ad83b4cc7": {
      "model_module": "@jupyter-widgets/controls",
      "model_module_version": "1.5.0",
      "model_name": "DescriptionStyleModel",
      "state": {
       "description_width": ""
      }
     },
     "d0eb6e91c7204df082529360a698da03": {
      "model_module": "@jupyter-widgets/controls",
      "model_module_version": "1.5.0",
      "model_name": "ToggleButtonModel",
      "state": {
       "button_style": "primary",
       "icon": "camera",
       "layout": "IPY_MODEL_7fc00faca2ee47a2a3b44a5527cfe94e",
       "style": "IPY_MODEL_f41c1b70c28c401aa23333d87fd68114",
       "tooltip": "Save map as HTML or image"
      }
     },
     "d1008878b8584aa39456a3a51542ad54": {
      "model_module": "jupyter-leaflet",
      "model_module_version": "^0.17.0",
      "model_name": "LeafletTileLayerModel",
      "state": {
       "_model_module_version": "^0.17.0",
       "_view_module_version": "^0.17.0",
       "attribution": "Imagery provided by services from the Global Imagery Browse Services (GIBS), operated by the NASA/GSFC/Earth Science Data and Information System (ESDIS) with funding provided by NASA/HQ.",
       "max_zoom": 9,
       "name": "NASAGIBS.ModisAquaBands721CR",
       "options": [
        "attribution",
        "bounds",
        "detect_retina",
        "max_native_zoom",
        "max_zoom",
        "min_native_zoom",
        "min_zoom",
        "no_wrap",
        "tile_size",
        "tms"
       ],
       "url": "https://gibs.earthdata.nasa.gov/wmts/epsg3857/best/MODIS_Aqua_CorrectedReflectance_Bands721/default//GoogleMapsCompatible_Level9/{z}/{y}/{x}.jpg"
      }
     },
     "d170f216c5e344ebb297581d5b3d47fc": {
      "model_module": "jupyter-leaflet",
      "model_module_version": "^0.17.0",
      "model_name": "LeafletTileLayerModel",
      "state": {
       "_model_module_version": "^0.17.0",
       "_view_module_version": "^0.17.0",
       "attribution": "Google Earth Engine",
       "max_zoom": 24,
       "name": "landsat7_may_13_clipped",
       "options": [
        "attribution",
        "bounds",
        "detect_retina",
        "max_native_zoom",
        "max_zoom",
        "min_native_zoom",
        "min_zoom",
        "no_wrap",
        "tile_size",
        "tms"
       ],
       "url": "https://earthengine.googleapis.com/v1alpha/projects/earthengine-legacy/maps/c9ea7c300b2d1f624fdc0598dfd123eb-0caaf8519ac3b812742254d3e811c051/tiles/{z}/{x}/{y}"
      }
     },
     "d1adf18362e6485894d1d3bba5116f84": {
      "model_module": "@jupyter-widgets/controls",
      "model_module_version": "1.5.0",
      "model_name": "ToggleButtonModel",
      "state": {
       "button_style": "primary",
       "icon": "fast-forward",
       "layout": "IPY_MODEL_79eda8a907514a9e896b09b682c0966a",
       "style": "IPY_MODEL_47913b899d0540329e9808455e950e6e",
       "tooltip": "Activate timeslider"
      }
     },
     "d1d2e753aafb4e92b6bb502a19a92bd2": {
      "model_module": "@jupyter-widgets/base",
      "model_module_version": "1.2.0",
      "model_name": "LayoutModel",
      "state": {
       "height": "auto",
       "padding": "0px 0px 0px 4px",
       "width": "auto"
      }
     },
     "d1e22699150c4d1e884e0f235e46d2d3": {
      "model_module": "@jupyter-widgets/controls",
      "model_module_version": "1.5.0",
      "model_name": "VBoxModel",
      "state": {
       "children": [
        "IPY_MODEL_450c49432f2242678f0a574d4330f984",
        "IPY_MODEL_2647ced4c0ac4a598c296699ad4ec122"
       ],
       "layout": "IPY_MODEL_66861d16ae3f4e66bffe1b7d5ab05709"
      }
     },
     "d20909cfef9d49d4999a4eed0d5aa4e0": {
      "model_module": "@jupyter-widgets/controls",
      "model_module_version": "1.5.0",
      "model_name": "ButtonStyleModel",
      "state": {}
     },
     "d24fd60849a24fa0af4ed1491c7c046d": {
      "model_module": "jupyter-leaflet",
      "model_module_version": "^0.17.0",
      "model_name": "LeafletWidgetControlModel",
      "state": {
       "_model_module": "jupyter-leaflet",
       "_model_module_version": "^0.17.0",
       "_view_count": null,
       "_view_module": "jupyter-leaflet",
       "_view_module_version": "^0.17.0",
       "options": [
        "position",
        "transparent_bg"
       ],
       "position": "topright",
       "widget": "IPY_MODEL_b943b8d33eea47bbb607942c330dea2f"
      }
     },
     "d268bec40104414e8706da0140270425": {
      "model_module": "@jupyter-widgets/controls",
      "model_module_version": "1.5.0",
      "model_name": "VBoxModel",
      "state": {
       "_view_count": 1,
       "children": [
        "IPY_MODEL_8f7901ae32794851b28d40b4f0b3a4c1"
       ],
       "layout": "IPY_MODEL_de9974f392bd4979be6f432b0b34f1c1"
      }
     },
     "d29ec94e2c3c4b29b26c52158596311f": {
      "model_module": "jupyter-leaflet",
      "model_module_version": "^0.17.0",
      "model_name": "LeafletMapStyleModel",
      "state": {
       "_model_module_version": "^0.17.0"
      }
     },
     "d2daf97110fd4e4992396c0000137045": {
      "model_module": "jupyter-leaflet",
      "model_module_version": "^0.17.0",
      "model_name": "LeafletMapStyleModel",
      "state": {
       "_model_module_version": "^0.17.0",
       "cursor": "move"
      }
     },
     "d3b25048617e402db24cfb94b47b0a35": {
      "model_module": "@jupyter-widgets/controls",
      "model_module_version": "1.5.0",
      "model_name": "DescriptionStyleModel",
      "state": {
       "description_width": ""
      }
     },
     "d3ca70869c6d499cb345b0bfdc142b8c": {
      "model_module": "@jupyter-widgets/controls",
      "model_module_version": "1.5.0",
      "model_name": "ToggleButtonModel",
      "state": {
       "icon": "wrench",
       "layout": "IPY_MODEL_16b7f503d1ef4558aef30e2c3caac785",
       "style": "IPY_MODEL_1b008a0b2d5948a68f16aefb2487854d",
       "tooltip": "Toolbar"
      }
     },
     "d3d2588e0ca94c25aa38fc2a3a5053b6": {
      "model_module": "@jupyter-widgets/base",
      "model_module_version": "1.2.0",
      "model_name": "LayoutModel",
      "state": {
       "height": "auto",
       "padding": "0px 0px 0px 4px",
       "width": "auto"
      }
     },
     "d495034dd9cb45d2a03e4fdbc0f80b58": {
      "model_module": "@jupyter-widgets/controls",
      "model_module_version": "1.5.0",
      "model_name": "HBoxModel",
      "state": {
       "children": [
        "IPY_MODEL_b13dbc0c6fbe44f1ad7701257f6f559e",
        "IPY_MODEL_f8051cd2d528439d8d3efd644860723f"
       ],
       "layout": "IPY_MODEL_168de3363c00476ba0d26c005388d5e1"
      }
     },
     "d4d1b6463d514c5099ba628cbac2a8ad": {
      "model_module": "jupyter-leaflet",
      "model_module_version": "^0.17.0",
      "model_name": "LeafletTileLayerModel",
      "state": {
       "_model_module_version": "^0.17.0",
       "_view_module_version": "^0.17.0",
       "attribution": "Imagery provided by services from the Global Imagery Browse Services (GIBS), operated by the NASA/GSFC/Earth Science Data and Information System (ESDIS) with funding provided by NASA/HQ.",
       "max_zoom": 9,
       "name": "NASAGIBS.ModisAquaTrueColorCR",
       "options": [
        "attribution",
        "bounds",
        "detect_retina",
        "max_native_zoom",
        "max_zoom",
        "min_native_zoom",
        "min_zoom",
        "no_wrap",
        "tile_size",
        "tms"
       ],
       "url": "https://gibs.earthdata.nasa.gov/wmts/epsg3857/best/MODIS_Aqua_CorrectedReflectance_TrueColor/default//GoogleMapsCompatible_Level9/{z}/{y}/{x}.jpg"
      }
     },
     "d52e6b2a612f4b81ba1798e019ad8c76": {
      "model_module": "@jupyter-widgets/controls",
      "model_module_version": "1.5.0",
      "model_name": "DescriptionStyleModel",
      "state": {
       "description_width": ""
      }
     },
     "d5316f0b18f544ca8b7b07b1e8211374": {
      "model_module": "@jupyter-widgets/base",
      "model_module_version": "1.2.0",
      "model_name": "LayoutModel",
      "state": {
       "margin": "0 0 0 1em"
      }
     },
     "d5e0bd1342d64441a55544acf3087a02": {
      "model_module": "@jupyter-widgets/controls",
      "model_module_version": "1.5.0",
      "model_name": "ButtonModel",
      "state": {
       "description": "Select",
       "layout": "IPY_MODEL_8dfec75b02f94fffb1ece32418f4605b",
       "style": "IPY_MODEL_442d7415790e4e4fbc247f81f82573d4"
      }
     },
     "d5fa829ed7a44d51a6b51849f1268982": {
      "model_module": "@jupyter-widgets/base",
      "model_module_version": "1.2.0",
      "model_name": "LayoutModel",
      "state": {
       "height": "auto",
       "padding": "0px 0px 0px 4px",
       "width": "auto"
      }
     },
     "d624c981491644d09d60f1953e89b2ba": {
      "model_module": "@jupyter-widgets/controls",
      "model_module_version": "1.5.0",
      "model_name": "LabelModel",
      "state": {
       "layout": "IPY_MODEL_4e0677d9b8d041dcb85efe6ea60b1e12",
       "style": "IPY_MODEL_a819722f6f294d23b7988cc6ed4b38cc",
       "value": "Expand   "
      }
     },
     "d66e3a85de2f488c963d8831e1e9fd02": {
      "model_module": "jupyter-leaflet",
      "model_module_version": "^0.17.0",
      "model_name": "LeafletWMSLayerModel",
      "state": {
       "_model_module_version": "^0.17.0",
       "_view_module_version": "^0.17.0",
       "attribution": "MRLC",
       "crs": {
        "custom": false,
        "name": "EPSG3857"
       },
       "format": "image/png",
       "layers": "NLCD_2001_Land_Cover_L48",
       "name": "NLCD 2001 CONUS Land Cover",
       "options": [
        "attribution",
        "bounds",
        "detect_retina",
        "format",
        "layers",
        "max_native_zoom",
        "max_zoom",
        "min_native_zoom",
        "min_zoom",
        "no_wrap",
        "styles",
        "tile_size",
        "tms",
        "transparent",
        "uppercase"
       ],
       "transparent": true,
       "url": "https://www.mrlc.gov/geoserver/mrlc_display/NLCD_2001_Land_Cover_L48/wms?"
      }
     },
     "d6b5a67e3b6a4971b7046c848dfe799a": {
      "model_module": "jupyter-leaflet",
      "model_module_version": "^0.17.0",
      "model_name": "LeafletTileLayerModel",
      "state": {
       "_model_module_version": "^0.17.0",
       "_view_module_version": "^0.17.0",
       "attribution": "(C) Stadia Maps, (C) OpenMapTiles (C) OpenStreetMap contributors",
       "max_zoom": 20,
       "name": "Stadia.OSMBright",
       "options": [
        "attribution",
        "bounds",
        "detect_retina",
        "max_native_zoom",
        "max_zoom",
        "min_native_zoom",
        "min_zoom",
        "no_wrap",
        "tile_size",
        "tms"
       ],
       "url": "https://tiles.stadiamaps.com/tiles/osm_bright/{z}/{x}/{y}.png"
      }
     },
     "d6d2b210180d4dcaa8086a1948e004db": {
      "model_module": "@jupyter-widgets/base",
      "model_module_version": "1.2.0",
      "model_name": "LayoutModel",
      "state": {
       "height": "28px",
       "width": "72px"
      }
     },
     "d6e755b29dcd4f7f99e9f662b26a9419": {
      "model_module": "@jupyter-widgets/base",
      "model_module_version": "1.2.0",
      "model_name": "LayoutModel",
      "state": {
       "margin": "0 0 0 1em"
      }
     },
     "d6f3d633a93f4dbc8bc212a6453bd859": {
      "model_module": "@jupyter-widgets/controls",
      "model_module_version": "1.5.0",
      "model_name": "DescriptionStyleModel",
      "state": {
       "description_width": ""
      }
     },
     "d707933a767d4f01a409691920d02c6c": {
      "model_module": "@jupyter-widgets/base",
      "model_module_version": "1.2.0",
      "model_name": "LayoutModel",
      "state": {
       "height": "auto",
       "padding": "0px 0px 0px 4px",
       "width": "auto"
      }
     },
     "d725619a10e74d328dd3a48e53133cda": {
      "model_module": "jupyter-leaflet",
      "model_module_version": "^0.17.0",
      "model_name": "LeafletWidgetControlModel",
      "state": {
       "_model_module": "jupyter-leaflet",
       "_model_module_version": "^0.17.0",
       "_view_count": null,
       "_view_module": "jupyter-leaflet",
       "_view_module_version": "^0.17.0",
       "options": [
        "position",
        "transparent_bg"
       ],
       "position": "topright",
       "widget": "IPY_MODEL_d268bec40104414e8706da0140270425"
      }
     },
     "d757ec7046da40388531bb9803dead08": {
      "model_module": "@jupyter-widgets/controls",
      "model_module_version": "1.5.0",
      "model_name": "DescriptionStyleModel",
      "state": {
       "description_width": ""
      }
     },
     "d7a5f99a13d04e809ec452b8171c70c6": {
      "model_module": "@jupyter-widgets/controls",
      "model_module_version": "1.5.0",
      "model_name": "DropdownModel",
      "state": {
       "_options_labels": [
        "/home/jovyan/data/projects/Machine-Learning-Applications-in-Remote-Sensing-Data",
        "/home/jovyan/data/projects",
        "/home/jovyan/data",
        "/home/jovyan",
        "/home",
        "/"
       ],
       "index": 0,
       "layout": "IPY_MODEL_9e9d9caf69004d5db9c9e5b2d31dae4a",
       "style": "IPY_MODEL_7ba4c576c8394b7794118bdbb60e6146"
      }
     },
     "d81722a5e6ef4cabb6eea5a05f961375": {
      "model_module": "@jupyter-widgets/base",
      "model_module_version": "1.2.0",
      "model_name": "LayoutModel",
      "state": {
       "height": "auto",
       "padding": "0px 0px 0px 4px",
       "width": "auto"
      }
     },
     "d83fb794b6c946ab989eb326f7666fe1": {
      "model_module": "@jupyter-widgets/controls",
      "model_module_version": "1.5.0",
      "model_name": "ToggleButtonModel",
      "state": {
       "button_style": "primary",
       "icon": "adjust",
       "layout": "IPY_MODEL_ac80f5bab8a540fd93cf22457cb54df9",
       "style": "IPY_MODEL_c859a22d43714b72880e73b99bfd899d",
       "tooltip": "Planet imagery"
      }
     },
     "d867375b609f4684818dbea922d20532": {
      "model_module": "@jupyter-widgets/controls",
      "model_module_version": "1.5.0",
      "model_name": "ToggleButtonModel",
      "state": {
       "button_style": "primary",
       "icon": "retweet",
       "layout": "IPY_MODEL_7f516217cda94093ae6ee7d36e60a5d7",
       "style": "IPY_MODEL_1d62c04786894bd782d9318066ee7250",
       "tooltip": "Convert Earth Engine JavaScript to Python"
      }
     },
     "d878703944af4051b3287a297291ddcb": {
      "model_module": "@jupyter-widgets/controls",
      "model_module_version": "1.5.0",
      "model_name": "DescriptionStyleModel",
      "state": {
       "description_width": ""
      }
     },
     "d8858e55af2847ae88ce53c2e5fd09fe": {
      "model_module": "@jupyter-widgets/base",
      "model_module_version": "1.2.0",
      "model_name": "LayoutModel",
      "state": {
       "display": "none",
       "min_width": "6em",
       "width": "6em"
      }
     },
     "d88bdb210b1d46fb9ae6e4f9ff4b1aa6": {
      "model_module": "@jupyter-widgets/controls",
      "model_module_version": "1.5.0",
      "model_name": "ToggleButtonModel",
      "state": {
       "icon": "globe",
       "layout": "IPY_MODEL_c5268572d8114b98a40e827485436fde",
       "style": "IPY_MODEL_285d50616ba24c668d1da56b7f63990e",
       "tooltip": "Search location/data"
      }
     },
     "d96c59de972043549a9eb2f5c3637aef": {
      "model_module": "@jupyter-widgets/base",
      "model_module_version": "1.2.0",
      "model_name": "LayoutModel",
      "state": {}
     },
     "d9ba0a92f66140508a6ae0da5f04b47b": {
      "model_module": "@jupyter-widgets/base",
      "model_module_version": "1.2.0",
      "model_name": "LayoutModel",
      "state": {
       "width": "340px"
      }
     },
     "d9e17c00f5e349688d019c4a48e2d0eb": {
      "model_module": "@jupyter-widgets/controls",
      "model_module_version": "1.5.0",
      "model_name": "ToggleButtonsModel",
      "state": {
       "_options_labels": [
        "name/address",
        "lat-lon",
        "data"
       ],
       "button_style": "",
       "icons": [],
       "index": 0,
       "layout": "IPY_MODEL_fcb6a45aec8042edb1e7d83e0bf86402",
       "style": "IPY_MODEL_0ed58fcb65694c66a225bdeedfc96089",
       "tooltips": [
        "Search by place name or address",
        "Search by lat-lon coordinates",
        "Search Earth Engine data catalog"
       ]
      }
     },
     "d9ef2213d19343ed8227f6fd0226c14c": {
      "model_module": "@jupyter-widgets/controls",
      "model_module_version": "1.5.0",
      "model_name": "HTMLModel",
      "state": {
       "layout": "IPY_MODEL_4c200163361848c79c16d278bd67b976",
       "style": "IPY_MODEL_f3a972ea3c864a428523c2f277fcf856"
      }
     },
     "db127410cdff4726900302680f4b1abe": {
      "model_module": "@jupyter-widgets/base",
      "model_module_version": "1.2.0",
      "model_name": "LayoutModel",
      "state": {}
     },
     "db43f2fe86934c08809d3ad69cb3bea8": {
      "model_module": "@jupyter-widgets/controls",
      "model_module_version": "1.5.0",
      "model_name": "HTMLModel",
      "state": {
       "layout": "IPY_MODEL_7024b3ca9bf64463aeca60a0c52c224d",
       "style": "IPY_MODEL_a2f83f38f4fc48c5814aa444aa8e2513"
      }
     },
     "db452f1494cf4a979d8f3c7c272f127c": {
      "model_module": "@jupyter-widgets/controls",
      "model_module_version": "1.5.0",
      "model_name": "HBoxModel",
      "state": {
       "children": [
        "IPY_MODEL_e6c99167c5fd401cac94023b6b244208",
        "IPY_MODEL_8eb25956cfa94a12bc104726cc1c43c6"
       ],
       "layout": "IPY_MODEL_9e164a436b464d6e98703ffbbfe29a79"
      }
     },
     "db52c16f2814428b9f6d066315792128": {
      "model_module": "@jupyter-widgets/base",
      "model_module_version": "1.2.0",
      "model_name": "LayoutModel",
      "state": {}
     },
     "db683167c37e4eb2b8124c1ea4b5d2ad": {
      "model_module": "@jupyter-widgets/controls",
      "model_module_version": "1.5.0",
      "model_name": "DescriptionStyleModel",
      "state": {
       "description_width": ""
      }
     },
     "dbe44f4dd426440cab266d47be9b1eee": {
      "model_module": "ipyevents",
      "model_module_version": "2.0.1",
      "model_name": "EventModel",
      "state": {
       "_supported_key_events": [
        "keydown",
        "keyup"
       ],
       "_supported_mouse_events": [
        "click",
        "auxclick",
        "dblclick",
        "mouseenter",
        "mouseleave",
        "mousedown",
        "mouseup",
        "mousemove",
        "wheel",
        "contextmenu",
        "dragstart",
        "drag",
        "dragend",
        "dragenter",
        "dragover",
        "dragleave",
        "drop"
       ],
       "_supported_touch_events": [
        "touchstart",
        "touchend",
        "touchmove",
        "touchcancel"
       ],
       "_view_module": "@jupyter-widgets/controls",
       "_view_module_version": "1.5.0",
       "source": "IPY_MODEL_a6f56bd781704f119e3ff244051c61c8",
       "throttle_or_debounce": "",
       "watched_events": [
        "mouseenter",
        "mouseleave"
       ],
       "xy_coordinate_system": ""
      }
     },
     "dc7b0c9e66474fd38ad07906415edacd": {
      "model_module": "@jupyter-widgets/base",
      "model_module_version": "1.2.0",
      "model_name": "LayoutModel",
      "state": {
       "height": "auto",
       "padding": "0px 0px 0px 4px",
       "width": "auto"
      }
     },
     "dc92ff38152e4fd59b68172b4efd1660": {
      "model_module": "jupyter-leaflet",
      "model_module_version": "^0.17.0",
      "model_name": "LeafletMapStyleModel",
      "state": {
       "_model_module_version": "^0.17.0"
      }
     },
     "dccd4bb897e648a3882e5ff861596586": {
      "model_module": "jupyter-leaflet",
      "model_module_version": "^0.17.0",
      "model_name": "LeafletTileLayerModel",
      "state": {
       "_model_module_version": "^0.17.0",
       "_view_module_version": "^0.17.0",
       "attribution": "Google",
       "max_zoom": 22,
       "name": "Google Maps",
       "options": [
        "attribution",
        "bounds",
        "detect_retina",
        "max_native_zoom",
        "max_zoom",
        "min_native_zoom",
        "min_zoom",
        "no_wrap",
        "tile_size",
        "tms"
       ],
       "url": "https://mt1.google.com/vt/lyrs=m&x={x}&y={y}&z={z}"
      }
     },
     "dcf01882c95e43a79857b7a61872c8e8": {
      "model_module": "@jupyter-widgets/controls",
      "model_module_version": "1.5.0",
      "model_name": "RadioButtonsModel",
      "state": {
       "index": null,
       "layout": "IPY_MODEL_0cff6ec3fb374126abda2d1d11894983",
       "style": "IPY_MODEL_d6f3d633a93f4dbc8bc212a6453bd859"
      }
     },
     "dd1e98fc19924e7aa8191200246245d1": {
      "model_module": "@jupyter-widgets/base",
      "model_module_version": "1.2.0",
      "model_name": "LayoutModel",
      "state": {
       "grid_area": "filename",
       "width": "auto"
      }
     },
     "ddbdf7fd120949fc9681e0b96eb11df7": {
      "model_module": "@jupyter-widgets/controls",
      "model_module_version": "1.5.0",
      "model_name": "HTMLModel",
      "state": {
       "layout": "IPY_MODEL_db127410cdff4726900302680f4b1abe",
       "style": "IPY_MODEL_9c63028e28f843cb83ca17b4ed857b8e"
      }
     },
     "ddca9ba7e55548c7b1b17e5a954602d0": {
      "model_module": "@jupyter-widgets/base",
      "model_module_version": "1.2.0",
      "model_name": "LayoutModel",
      "state": {}
     },
     "de141e77c06b473e916a1cdd3d075976": {
      "model_module": "jupyter-leaflet",
      "model_module_version": "^0.17.0",
      "model_name": "LeafletTileLayerModel",
      "state": {
       "_model_module_version": "^0.17.0",
       "_view_module_version": "^0.17.0",
       "attribution": "Map tiles by Stamen Design, CC BY 3.0 -- Map data (C) OpenStreetMap contributors",
       "max_zoom": 20,
       "name": "Stamen.TopOSMFeatures",
       "options": [
        "attribution",
        "bounds",
        "detect_retina",
        "max_native_zoom",
        "max_zoom",
        "min_native_zoom",
        "min_zoom",
        "no_wrap",
        "tile_size",
        "tms"
       ],
       "url": "https://stamen-tiles-a.a.ssl.fastly.net/toposm-features/{z}/{x}/{y}.png"
      }
     },
     "de2f7c96d08a43428d5e11468b37d8b2": {
      "model_module": "jupyter-leaflet",
      "model_module_version": "^0.17.0",
      "model_name": "LeafletScaleControlModel",
      "state": {
       "_model_module_version": "^0.17.0",
       "_view_module_version": "^0.17.0",
       "imperial": true,
       "max_width": 100,
       "metric": true,
       "options": [
        "imperial",
        "max_width",
        "metric",
        "position",
        "update_when_idle"
       ],
       "position": "bottomleft",
       "update_when_idle": false
      }
     },
     "de89dcc3e1994f18af18c64e675a7b38": {
      "model_module": "@jupyter-widgets/controls",
      "model_module_version": "1.5.0",
      "model_name": "ToggleButtonsModel",
      "state": {
       "_options_labels": [
        "name/address",
        "lat-lon",
        "data"
       ],
       "button_style": "",
       "icons": [],
       "index": 0,
       "layout": "IPY_MODEL_6eac7cf623294e5a8303a4ccf4e4eca6",
       "style": "IPY_MODEL_49983fbe745c4253acbbd52eed8a1ce9",
       "tooltips": [
        "Search by place name or address",
        "Search by lat-lon coordinates",
        "Search Earth Engine data catalog"
       ]
      }
     },
     "de98b09e126547a893a30add46c81a4d": {
      "model_module": "jupyter-leaflet",
      "model_module_version": "^0.17.0",
      "model_name": "LeafletTileLayerModel",
      "state": {
       "_model_module_version": "^0.17.0",
       "_view_module_version": "^0.17.0",
       "attribution": "Google Earth Engine",
       "max_zoom": 24,
       "name": "landsat7_may_13",
       "options": [
        "attribution",
        "bounds",
        "detect_retina",
        "max_native_zoom",
        "max_zoom",
        "min_native_zoom",
        "min_zoom",
        "no_wrap",
        "tile_size",
        "tms"
       ],
       "url": "https://earthengine.googleapis.com/v1alpha/projects/earthengine-legacy/maps/a10ae2e9070b4b1c87dc45c3c278935b-64904b8a9f6173f517239a9c1f8fbc4d/tiles/{z}/{x}/{y}"
      }
     },
     "de9974f392bd4979be6f432b0b34f1c1": {
      "model_module": "@jupyter-widgets/base",
      "model_module_version": "1.2.0",
      "model_name": "LayoutModel",
      "state": {}
     },
     "defc79c29ac148a1a863319f3d34c13c": {
      "model_module": "@jupyter-widgets/controls",
      "model_module_version": "1.5.0",
      "model_name": "DescriptionStyleModel",
      "state": {
       "description_width": ""
      }
     },
     "df58d3b110244a8eb6e81f2191bacfc8": {
      "model_module": "@jupyter-widgets/controls",
      "model_module_version": "1.5.0",
      "model_name": "VBoxModel",
      "state": {
       "children": [
        "IPY_MODEL_f67efb04571a479fb9f7776f53e92088",
        "IPY_MODEL_014c8380755a4581bb2b39c6f8caed39"
       ],
       "layout": "IPY_MODEL_4d8938fb6c0c4c1ca83619454f6de893"
      }
     },
     "dfb33ee124ff4c0f9c673fcabf762848": {
      "model_module": "@jupyter-widgets/base",
      "model_module_version": "1.2.0",
      "model_name": "LayoutModel",
      "state": {
       "height": "auto",
       "padding": "0px 0px 0px 4px",
       "width": "auto"
      }
     },
     "dfb92c9eb73c47198d097def1d8003e7": {
      "model_module": "@jupyter-widgets/base",
      "model_module_version": "1.2.0",
      "model_name": "LayoutModel",
      "state": {
       "height": "auto",
       "padding": "0px 0px 0px 4px",
       "width": "auto"
      }
     },
     "dfd31f71bc1b4547a461a2ee9cdca674": {
      "model_module": "jupyter-leaflet",
      "model_module_version": "^0.17.0",
      "model_name": "LeafletWMSLayerModel",
      "state": {
       "_model_module_version": "^0.17.0",
       "_view_module_version": "^0.17.0",
       "attribution": "MRLC",
       "crs": {
        "custom": false,
        "name": "EPSG3857"
       },
       "format": "image/png",
       "layers": "NLCD_2004_Land_Cover_L48",
       "name": "NLCD 2004 CONUS Land Cover",
       "options": [
        "attribution",
        "bounds",
        "detect_retina",
        "format",
        "layers",
        "max_native_zoom",
        "max_zoom",
        "min_native_zoom",
        "min_zoom",
        "no_wrap",
        "styles",
        "tile_size",
        "tms",
        "transparent",
        "uppercase"
       ],
       "transparent": true,
       "url": "https://www.mrlc.gov/geoserver/mrlc_display/NLCD_2004_Land_Cover_L48/wms?"
      }
     },
     "e00721293fca419f842efb618993ae97": {
      "model_module": "@jupyter-widgets/controls",
      "model_module_version": "1.5.0",
      "model_name": "DescriptionStyleModel",
      "state": {
       "description_width": ""
      }
     },
     "e04a3e7df20f4c1bb691633294f38eb5": {
      "model_module": "@jupyter-widgets/controls",
      "model_module_version": "1.5.0",
      "model_name": "SelectModel",
      "state": {
       "_options_labels": [
        "📁 ..",
        "📁 Ground_Information",
        "📁 Results Step 1",
        "📁 Results Step 2",
        "📁 old code",
        "11_export_image-Copy1.ipynb",
        "2020 Geemap in HS.pdf",
        "2020 Geemap in HS.pptx",
        "DSAW Application 1 MAIN.ipynb",
        "DSAW_Application_1_Step_1.ipynb",
        "DSAW_Application_1_Step_2.ipynb",
        "DSAW_Application_1_Step_3-Copy1.ipynb",
        "DSAW_Application_1_Step_3.ipynb",
        "Landsat Evapotranspiration for Wellsville.ipynb",
        "README.md",
        "SelectingAppropriateBandCombinations_Final.pdf",
        "Untitled.ipynb",
        "area_of_study.jpg"
       ],
       "index": null,
       "layout": "IPY_MODEL_c0cfa1107c3040e1b74f306ee45ba46d",
       "rows": 8,
       "style": "IPY_MODEL_b2cb7a78d8e24e0cb483299ee2fd8d9e"
      }
     },
     "e0836d2590314df0ad02181dbd20338f": {
      "model_module": "@jupyter-widgets/controls",
      "model_module_version": "1.5.0",
      "model_name": "HBoxModel",
      "state": {
       "children": [
        "IPY_MODEL_360532310c5747139c05174dd5c21ca9",
        "IPY_MODEL_80a3ad70045a4e0fa68f9bad07a6e46a",
        "IPY_MODEL_8889909160ce49eabc3b70ea1d7f982f",
        "IPY_MODEL_7cf1f07028ab4470a6a169831c4b2f42",
        "IPY_MODEL_616f2c5d454442009cd49b6dc3fac5a9"
       ],
       "layout": "IPY_MODEL_e5735b57e6014b3cb854fa67450abd21"
      }
     },
     "e0857fea8f874922ba10b45f5cd9bbab": {
      "model_module": "@jupyter-widgets/controls",
      "model_module_version": "1.5.0",
      "model_name": "SelectModel",
      "state": {
       "_options_labels": [
        "📁 ..",
        "📁 Ground_Information",
        "📁 Results Step 1",
        "📁 Results Step 2",
        "📁 old code",
        "11_export_image-Copy1.ipynb",
        "2020 Geemap in HS.pdf",
        "2020 Geemap in HS.pptx",
        "DSAW Application 1 MAIN.ipynb",
        "DSAW_Application_1_Step_1.ipynb",
        "DSAW_Application_1_Step_2.ipynb",
        "DSAW_Application_1_Step_3-Copy1.ipynb",
        "DSAW_Application_1_Step_3.ipynb",
        "Landsat Evapotranspiration for Wellsville.ipynb",
        "README.md",
        "SelectingAppropriateBandCombinations_Final.pdf",
        "Untitled.ipynb",
        "area_of_study.jpg"
       ],
       "index": null,
       "layout": "IPY_MODEL_b294eed04ee74a6ab42fa4064c38d7fb",
       "rows": 8,
       "style": "IPY_MODEL_b45cc9d056ed43cab5a5076b47e4036b"
      }
     },
     "e090776e203e49fe9f0d2651efd30f65": {
      "model_module": "@jupyter-widgets/controls",
      "model_module_version": "1.5.0",
      "model_name": "DescriptionStyleModel",
      "state": {
       "description_width": ""
      }
     },
     "e0ee3107319e4cbb8ec2c082edf6810e": {
      "model_module": "@jupyter-widgets/controls",
      "model_module_version": "1.5.0",
      "model_name": "HTMLModel",
      "state": {
       "layout": "IPY_MODEL_d96c59de972043549a9eb2f5c3637aef",
       "style": "IPY_MODEL_ae9356fe1b0948a78e5cadc64de4abd7"
      }
     },
     "e125d5b95d4a4eec983cf8fb9a3f4bba": {
      "model_module": "jupyter-leaflet",
      "model_module_version": "^0.17.0",
      "model_name": "LeafletWMSLayerModel",
      "state": {
       "_model_module_version": "^0.17.0",
       "_view_module_version": "^0.17.0",
       "attribution": "USGS",
       "crs": {
        "custom": false,
        "name": "EPSG3857"
       },
       "format": "image/png",
       "layers": "USGSNAIPImagery:FalseColorComposite",
       "name": "USGS NAIP Imagery False Color",
       "options": [
        "attribution",
        "bounds",
        "detect_retina",
        "format",
        "layers",
        "max_native_zoom",
        "max_zoom",
        "min_native_zoom",
        "min_zoom",
        "no_wrap",
        "styles",
        "tile_size",
        "tms",
        "transparent",
        "uppercase"
       ],
       "transparent": true,
       "url": "https://imagery.nationalmap.gov/arcgis/services/USGSNAIPImagery/ImageServer/WMSServer?"
      }
     },
     "e16e535f816e490fa8b496db2f7624c2": {
      "model_module": "jupyter-leaflet",
      "model_module_version": "^0.17.0",
      "model_name": "LeafletAttributionControlModel",
      "state": {
       "_model_module_version": "^0.17.0",
       "_view_module_version": "^0.17.0",
       "options": [
        "position",
        "prefix"
       ],
       "position": "bottomright",
       "prefix": "ipyleaflet"
      }
     },
     "e1c31e2a59994c068d69a17f5885408d": {
      "model_module": "@jupyter-widgets/controls",
      "model_module_version": "1.5.0",
      "model_name": "TextModel",
      "state": {
       "layout": "IPY_MODEL_2112772fcdf1444bb6156eac7d03df2f",
       "placeholder": "Search by place name or address",
       "style": "IPY_MODEL_5444742c59d94626ab763d77e0d3bb07"
      }
     },
     "e2036378594843b08634be2b2bb78768": {
      "model_module": "@jupyter-widgets/controls",
      "model_module_version": "1.5.0",
      "model_name": "DescriptionStyleModel",
      "state": {
       "description_width": ""
      }
     },
     "e217c14da3754fb3a756f742a22dfbd7": {
      "model_module": "@jupyter-widgets/controls",
      "model_module_version": "1.5.0",
      "model_name": "ToggleButtonModel",
      "state": {
       "button_style": "primary",
       "icon": "camera",
       "layout": "IPY_MODEL_14675de957394737a342094090d4575a",
       "style": "IPY_MODEL_2ffbc60ec3084e96aff2c573001251a1",
       "tooltip": "Save map as HTML or image"
      }
     },
     "e21faf3e34e5489289e7d2b8cfa07602": {
      "model_module": "@jupyter-widgets/base",
      "model_module_version": "1.2.0",
      "model_name": "LayoutModel",
      "state": {}
     },
     "e266783d0bd94ba197e1c879a1d16180": {
      "model_module": "@jupyter-widgets/controls",
      "model_module_version": "1.5.0",
      "model_name": "HBoxModel",
      "state": {
       "children": [
        "IPY_MODEL_94db00dbbdd1422c9c8805a8ab39dbe2",
        "IPY_MODEL_117a340297e34336909feb7e6773591c"
       ],
       "layout": "IPY_MODEL_e58e54028f73424cad06b96b3e623fc5"
      }
     },
     "e2c2087be7b6409fa2da872c62835046": {
      "model_module": "@jupyter-widgets/controls",
      "model_module_version": "1.5.0",
      "model_name": "ToggleButtonModel",
      "state": {
       "button_style": "primary",
       "icon": "folder-open",
       "layout": "IPY_MODEL_959d822302594031bb38c18690b45b72",
       "style": "IPY_MODEL_fbb960d765994a69a222fbc7e59484e9",
       "tooltip": "Open local vector/raster data"
      }
     },
     "e3486b6f8bd0465f88a361caaf140146": {
      "model_module": "jupyter-leaflet",
      "model_module_version": "^0.17.0",
      "model_name": "LeafletMapModel",
      "state": {
       "_model_module_version": "^0.17.0",
       "_view_module_version": "^0.17.0",
       "bottom": 25368,
       "center": [
        38.90616239179155,
        -112.38476873624566
       ],
       "controls": [
        "IPY_MODEL_6c9094c86e5b466cb1c84a56621005e8",
        "IPY_MODEL_0112d8c6cad341fb95ca5dab9f5bb0db",
        "IPY_MODEL_87c95bc0705b49bebc500279694186e7",
        "IPY_MODEL_8dfa09ee43294e62b988fa872af7c066",
        "IPY_MODEL_31c293eefd93476db6f29899ffe6073b",
        "IPY_MODEL_0d4dd5c87a274a819044c01a384e032f",
        "IPY_MODEL_abc436c47d9d44cf8aaf9e99e0829304",
        "IPY_MODEL_16173b1bb980477481e2112009eb0a69"
       ],
       "default_style": "IPY_MODEL_2b664f348f3045768526ea335038ed7a",
       "dragging_style": "IPY_MODEL_d2daf97110fd4e4992396c0000137045",
       "east": -109.78088378906251,
       "fullscreen": false,
       "interpolation": "bilinear",
       "layers": [
        "IPY_MODEL_704f9dfc8f0e4cbea35caa5368821b55",
        "IPY_MODEL_dccd4bb897e648a3882e5ff861596586",
        "IPY_MODEL_de98b09e126547a893a30add46c81a4d",
        "IPY_MODEL_a2ac298c180045d2988e0aef063cb7e2",
        "IPY_MODEL_9f060b33d50f4d29912698f3a3180ec4",
        "IPY_MODEL_1aa24bd5f5734b05898303df33a43a3c"
       ],
       "layout": "IPY_MODEL_5097fc9d2fcd46498e3955da6b5873ef",
       "left": 11835,
       "max_zoom": 24,
       "modisdate": "2023-01-20",
       "north": 40.17887331434698,
       "options": [
        "bounce_at_zoom_limits",
        "box_zoom",
        "center",
        "close_popup_on_click",
        "double_click_zoom",
        "dragging",
        "fullscreen",
        "inertia",
        "inertia_deceleration",
        "inertia_max_speed",
        "interpolation",
        "keyboard",
        "keyboard_pan_offset",
        "keyboard_zoom_offset",
        "max_zoom",
        "min_zoom",
        "prefer_canvas",
        "scroll_wheel_zoom",
        "tap",
        "tap_tolerance",
        "touch_zoom",
        "world_copy_jump",
        "zoom",
        "zoom_animation_threshold",
        "zoom_delta",
        "zoom_snap"
       ],
       "prefer_canvas": false,
       "right": 12783,
       "scroll_wheel_zoom": true,
       "south": 37.61423141542417,
       "style": "IPY_MODEL_5417ca91754a47db8002b25a831a0a93",
       "top": 24768,
       "west": -114.9884033203125,
       "window_url": "https://jupyterhub.cuahsi.org/user/torresrua/lab/tree/projects/Machine-Learning-Applications-in-Remote-Sensing-Data/DSAW_Application_1_Step_1.ipynb",
       "zoom": 8
      }
     },
     "e348d6ead83a4d9bbadfc63ecd7b1b3d": {
      "model_module": "jupyter-leaflet",
      "model_module_version": "^0.17.0",
      "model_name": "LeafletTileLayerModel",
      "state": {
       "_model_module_version": "^0.17.0",
       "_view_module_version": "^0.17.0",
       "attribution": "Justice Map",
       "max_zoom": 22,
       "name": "JusticeMap.americanIndian",
       "options": [
        "attribution",
        "bounds",
        "detect_retina",
        "max_native_zoom",
        "max_zoom",
        "min_native_zoom",
        "min_zoom",
        "no_wrap",
        "tile_size",
        "tms"
       ],
       "url": "https://www.justicemap.org/tile/county/indian/{z}/{x}/{y}.png"
      }
     },
     "e35d09e1da5b4562ab97aa15bd2d03f4": {
      "model_module": "jupyter-leaflet",
      "model_module_version": "^0.17.0",
      "model_name": "LeafletWidgetControlModel",
      "state": {
       "_model_module": "jupyter-leaflet",
       "_model_module_version": "^0.17.0",
       "_view_count": null,
       "_view_module": "jupyter-leaflet",
       "_view_module_version": "^0.17.0",
       "options": [
        "position",
        "transparent_bg"
       ],
       "position": "topright",
       "widget": "IPY_MODEL_73e6f6781ebd4635a2f17467af887818"
      }
     },
     "e36c8a12e5054484a60d32635ea84726": {
      "model_module": "@jupyter-widgets/base",
      "model_module_version": "1.2.0",
      "model_name": "LayoutModel",
      "state": {}
     },
     "e3774fb97fd444269ec21ea99494084b": {
      "model_module": "@jupyter-widgets/base",
      "model_module_version": "1.2.0",
      "model_name": "LayoutModel",
      "state": {
       "grid_area": "pathlist",
       "width": "auto"
      }
     },
     "e3a997b8a8314d189f060f5c16af4d3a": {
      "model_module": "@jupyter-widgets/controls",
      "model_module_version": "1.5.0",
      "model_name": "CheckboxModel",
      "state": {
       "description": "Pixels",
       "disabled": false,
       "indent": false,
       "layout": "IPY_MODEL_7d50cf4b92c745dcbf2fd92f3b59a4da",
       "style": "IPY_MODEL_1d31d39982f54859ba58e6f5cd7a7f2b",
       "value": true
      }
     },
     "e43a119c5a23424089f9400a67ed0d68": {
      "model_module": "@jupyter-widgets/base",
      "model_module_version": "1.2.0",
      "model_name": "LayoutModel",
      "state": {
       "grid_area": "dircontent",
       "width": "auto"
      }
     },
     "e462c863f53a4218ab5974e88ed3e3bf": {
      "model_module": "jupyter-leaflet",
      "model_module_version": "^0.17.0",
      "model_name": "LeafletTileLayerModel",
      "state": {
       "_model_module_version": "^0.17.0",
       "_view_module_version": "^0.17.0",
       "attribution": "Datenquelle: basemap.at",
       "max_zoom": 20,
       "name": "BasemapAT.basemap",
       "options": [
        "attribution",
        "bounds",
        "detect_retina",
        "max_native_zoom",
        "max_zoom",
        "min_native_zoom",
        "min_zoom",
        "no_wrap",
        "tile_size",
        "tms"
       ],
       "url": "https://maps.wien.gv.at/basemap/geolandbasemap/normal/google3857/{z}/{y}/{x}.png"
      }
     },
     "e4755cd89ae645efbb2d933536e8b1cd": {
      "model_module": "@jupyter-widgets/controls",
      "model_module_version": "1.5.0",
      "model_name": "DescriptionStyleModel",
      "state": {
       "description_width": ""
      }
     },
     "e497b387ccb9488fb13774999d5bfee7": {
      "model_module": "@jupyter-widgets/output",
      "model_module_version": "1.0.0",
      "model_name": "OutputModel",
      "state": {
       "layout": "IPY_MODEL_3b0f6f1d5d1f4017b179ae93fbe7e925"
      }
     },
     "e49b7b2342f64213a3da5da2e93e5f8b": {
      "model_module": "@jupyter-widgets/controls",
      "model_module_version": "1.5.0",
      "model_name": "ToggleButtonsModel",
      "state": {
       "_options_labels": [
        "OK",
        "Cancel"
       ],
       "button_style": "primary",
       "icons": [],
       "index": null,
       "layout": "IPY_MODEL_13755cbafd7f4aa5aa98349ebf5054e9",
       "style": "IPY_MODEL_e8afd9d56b2b4ac7bef1e3f77e2a0ae1",
       "tooltips": [
        "OK",
        "Cancel"
       ]
      }
     },
     "e5607a3dd45b4e33a7b5a20bcb85a947": {
      "model_module": "@jupyter-widgets/controls",
      "model_module_version": "1.5.0",
      "model_name": "ToggleButtonModel",
      "state": {
       "button_style": "primary",
       "icon": "fast-forward",
       "layout": "IPY_MODEL_5875671f4e8f46b19a2792e345a240b9",
       "style": "IPY_MODEL_17aee274da0242eea10ca3ab20629b98",
       "tooltip": "Activate timeslider"
      }
     },
     "e56a041f58b84596b7f4d9ee1f997674": {
      "model_module": "@jupyter-widgets/base",
      "model_module_version": "1.2.0",
      "model_name": "LayoutModel",
      "state": {
       "height": "auto",
       "padding": "0px 0px 0px 4px",
       "width": "auto"
      }
     },
     "e5735b57e6014b3cb854fa67450abd21": {
      "model_module": "@jupyter-widgets/base",
      "model_module_version": "1.2.0",
      "model_name": "LayoutModel",
      "state": {}
     },
     "e58e54028f73424cad06b96b3e623fc5": {
      "model_module": "@jupyter-widgets/base",
      "model_module_version": "1.2.0",
      "model_name": "LayoutModel",
      "state": {}
     },
     "e5ceafa8de6a4090909d14f90a393ac3": {
      "model_module": "@jupyter-widgets/controls",
      "model_module_version": "1.5.0",
      "model_name": "HBoxModel",
      "state": {
       "children": [
        "IPY_MODEL_d624c981491644d09d60f1953e89b2ba",
        "IPY_MODEL_10d0b9819fe547a09dddf3e67c9611ea",
        "IPY_MODEL_fd54bdabba4d450dabcd77d0d55d0404",
        "IPY_MODEL_266e8dd344594b02909f28231dc8b3d4",
        "IPY_MODEL_2fccbb62a4664428a9b4e7181e898467"
       ],
       "layout": "IPY_MODEL_2090034e3fcb450aaee4ba9a84973aef"
      }
     },
     "e61874a2dd67413e83d77b00e3d284ae": {
      "model_module": "@jupyter-widgets/output",
      "model_module_version": "1.0.0",
      "model_name": "OutputModel",
      "state": {
       "layout": "IPY_MODEL_6e8103243304477d9289d8d4362f8abc"
      }
     },
     "e6c3101d06654373be47c20d65974dd1": {
      "model_module": "@jupyter-widgets/base",
      "model_module_version": "1.2.0",
      "model_name": "LayoutModel",
      "state": {
       "height": "auto",
       "padding": "0px 0px 0px 4px",
       "width": "auto"
      }
     },
     "e6c99167c5fd401cac94023b6b244208": {
      "model_module": "@jupyter-widgets/controls",
      "model_module_version": "1.5.0",
      "model_name": "ToggleButtonModel",
      "state": {
       "icon": "server",
       "layout": "IPY_MODEL_d6d2b210180d4dcaa8086a1948e004db",
       "style": "IPY_MODEL_40bdc74b70b64664af0515e415a6b67a",
       "tooltip": "Layers"
      }
     },
     "e6ede545be274329bd31ffd3aac053bf": {
      "model_module": "@jupyter-widgets/base",
      "model_module_version": "1.2.0",
      "model_name": "LayoutModel",
      "state": {
       "overflow": "auto"
      }
     },
     "e711164ae7f14330b70243c3fa8239e3": {
      "model_module": "@jupyter-widgets/base",
      "model_module_version": "1.2.0",
      "model_name": "LayoutModel",
      "state": {
       "grid_gap": "1px 1px",
       "grid_template_columns": "32px 32px 32px ",
       "grid_template_rows": "32px 32px 32px 32px 32px 32px ",
       "padding": "5px",
       "width": "109px"
      }
     },
     "e716089ad33f46f898ad4cea7335bc5c": {
      "model_module": "@jupyter-widgets/controls",
      "model_module_version": "1.5.0",
      "model_name": "DescriptionStyleModel",
      "state": {
       "description_width": ""
      }
     },
     "e72f99dd7ab144c3bba58296890e8811": {
      "model_module": "@jupyter-widgets/base",
      "model_module_version": "1.2.0",
      "model_name": "LayoutModel",
      "state": {}
     },
     "e835d8f5e1944917914b2eb01358bd3d": {
      "model_module": "@jupyter-widgets/base",
      "model_module_version": "1.2.0",
      "model_name": "LayoutModel",
      "state": {
       "width": "65px"
      }
     },
     "e874cc9630f044928eeceb793a891047": {
      "model_module": "@jupyter-widgets/controls",
      "model_module_version": "1.5.0",
      "model_name": "ToggleButtonModel",
      "state": {
       "button_style": "primary",
       "icon": "line-chart",
       "layout": "IPY_MODEL_d5fa829ed7a44d51a6b51849f1268982",
       "style": "IPY_MODEL_67db899298824821b2545255b5e4f1ef",
       "tooltip": "Creating and plotting transects"
      }
     },
     "e88110392eab4c23816139a34c57e75c": {
      "model_module": "jupyter-leaflet",
      "model_module_version": "^0.17.0",
      "model_name": "LeafletMapStyleModel",
      "state": {
       "_model_module_version": "^0.17.0"
      }
     },
     "e8a068d989424dfa947e56c4ee348c82": {
      "model_module": "@jupyter-widgets/controls",
      "model_module_version": "1.5.0",
      "model_name": "ToggleButtonModel",
      "state": {
       "button_style": "primary",
       "icon": "adjust",
       "layout": "IPY_MODEL_e9ba2767f715431597db0a64c1779769",
       "style": "IPY_MODEL_35ae3a7d82b64bd5adeb790b4fd214f7",
       "tooltip": "Planet imagery"
      }
     },
     "e8a71da146f848f99fd2bf64b904e7cb": {
      "model_module": "@jupyter-widgets/output",
      "model_module_version": "1.0.0",
      "model_name": "OutputModel",
      "state": {
       "layout": "IPY_MODEL_76657353d2e34eaab1527d2d6f7d954f"
      }
     },
     "e8ac5319a6864cd3aa65049497a291fd": {
      "model_module": "@jupyter-widgets/base",
      "model_module_version": "1.2.0",
      "model_name": "LayoutModel",
      "state": {}
     },
     "e8afd9d56b2b4ac7bef1e3f77e2a0ae1": {
      "model_module": "@jupyter-widgets/controls",
      "model_module_version": "1.5.0",
      "model_name": "ToggleButtonsStyleModel",
      "state": {
       "button_width": "",
       "description_width": ""
      }
     },
     "e91d2d03003a4ab690febeb7c873fc66": {
      "model_module": "@jupyter-widgets/base",
      "model_module_version": "1.2.0",
      "model_name": "LayoutModel",
      "state": {
       "height": "auto",
       "padding": "0px 0px 0px 4px",
       "width": "auto"
      }
     },
     "e9206725e2174ee681c3aa54e9ea4df0": {
      "model_module": "@jupyter-widgets/base",
      "model_module_version": "1.2.0",
      "model_name": "LayoutModel",
      "state": {
       "width": "70px"
      }
     },
     "e94635116c644381a2e6def82ae6971e": {
      "model_module": "@jupyter-widgets/base",
      "model_module_version": "1.2.0",
      "model_name": "LayoutModel",
      "state": {}
     },
     "e982ce044ec545df8b35f3dd1b6234d1": {
      "model_module": "@jupyter-widgets/base",
      "model_module_version": "1.2.0",
      "model_name": "LayoutModel",
      "state": {
       "max_height": "350px",
       "max_width": "340px",
       "overflow": "scroll"
      }
     },
     "e9a5eeeaff5b4043b7c43c0fd1922f1d": {
      "model_module": "@jupyter-widgets/base",
      "model_module_version": "1.2.0",
      "model_name": "LayoutModel",
      "state": {
       "height": "auto",
       "padding": "0px 0px 0px 4px",
       "width": "auto"
      }
     },
     "e9adf1738e2f40cfa77c092c71d6b2a1": {
      "model_module": "@jupyter-widgets/base",
      "model_module_version": "1.2.0",
      "model_name": "LayoutModel",
      "state": {}
     },
     "e9ba2767f715431597db0a64c1779769": {
      "model_module": "@jupyter-widgets/base",
      "model_module_version": "1.2.0",
      "model_name": "LayoutModel",
      "state": {
       "height": "auto",
       "padding": "0px 0px 0px 4px",
       "width": "auto"
      }
     },
     "e9c0d422a81d4b2dbfb22343b2524332": {
      "model_module": "@jupyter-widgets/output",
      "model_module_version": "1.0.0",
      "model_name": "OutputModel",
      "state": {
       "layout": "IPY_MODEL_a25daf86180f498e855797c078564dac"
      }
     },
     "e9e724ceeaef41d29c5b73217f0e00d0": {
      "model_module": "@jupyter-widgets/base",
      "model_module_version": "1.2.0",
      "model_name": "LayoutModel",
      "state": {
       "height": "auto",
       "padding": "0px 0px 0px 4px",
       "width": "auto"
      }
     },
     "ea462404f8ec40b18affcdd70fc96c7f": {
      "model_module": "@jupyter-widgets/base",
      "model_module_version": "1.2.0",
      "model_name": "LayoutModel",
      "state": {
       "border": "1px solid black",
       "max_height": "530px",
       "max_width": "600px",
       "overflow": "auto"
      }
     },
     "ea862d6f58144bbdadff3158179b05a0": {
      "model_module": "@jupyter-widgets/base",
      "model_module_version": "1.2.0",
      "model_name": "LayoutModel",
      "state": {}
     },
     "eaa95b9853514a4384d0310655fe7eef": {
      "model_module": "@jupyter-widgets/base",
      "model_module_version": "1.2.0",
      "model_name": "LayoutModel",
      "state": {
       "max_width": "279px",
       "min_width": "279px"
      }
     },
     "eac6af329a534fa3bf8f7413c3e2a0be": {
      "model_module": "@jupyter-widgets/base",
      "model_module_version": "1.2.0",
      "model_name": "LayoutModel",
      "state": {
       "height": "auto",
       "padding": "0px 0px 0px 4px",
       "width": "auto"
      }
     },
     "eb91528d3c1b4f26b232ed3841f1c120": {
      "model_module": "@jupyter-widgets/base",
      "model_module_version": "1.2.0",
      "model_name": "LayoutModel",
      "state": {
       "grid_area": "pathlist",
       "width": "auto"
      }
     },
     "eb9d68e16e4442afa2ff2755c2562fbc": {
      "model_module": "jupyter-leaflet",
      "model_module_version": "^0.17.0",
      "model_name": "LeafletMeasureControlModel",
      "state": {
       "_model_module_version": "^0.17.0",
       "_view_module_version": "^0.17.0",
       "active_color": "orange",
       "options": [
        "active_color",
        "capture_z_index",
        "completed_color",
        "popup_options",
        "position",
        "primary_area_unit",
        "primary_length_unit",
        "secondary_area_unit",
        "secondary_length_unit"
       ],
       "position": "bottomleft",
       "primary_length_unit": "kilometers",
       "secondary_area_unit": null,
       "secondary_length_unit": null
      }
     },
     "ec2389852d594138a704b0ef7509abbc": {
      "model_module": "@jupyter-widgets/base",
      "model_module_version": "1.2.0",
      "model_name": "LayoutModel",
      "state": {
       "height": "auto",
       "padding": "0px 0px 0px 4px",
       "width": "auto"
      }
     },
     "ecd5c998a58a4937885884b2c9433bec": {
      "model_module": "ipyevents",
      "model_module_version": "2.0.1",
      "model_name": "EventModel",
      "state": {
       "_supported_key_events": [
        "keydown",
        "keyup"
       ],
       "_supported_mouse_events": [
        "click",
        "auxclick",
        "dblclick",
        "mouseenter",
        "mouseleave",
        "mousedown",
        "mouseup",
        "mousemove",
        "wheel",
        "contextmenu",
        "dragstart",
        "drag",
        "dragend",
        "dragenter",
        "dragover",
        "dragleave",
        "drop"
       ],
       "_supported_touch_events": [
        "touchstart",
        "touchend",
        "touchmove",
        "touchcancel"
       ],
       "_view_module": "@jupyter-widgets/controls",
       "_view_module_version": "1.5.0",
       "source": "IPY_MODEL_a345b987d1144b019ddc08546b7ad5db",
       "throttle_or_debounce": "",
       "watched_events": [
        "mouseenter",
        "mouseleave"
       ],
       "xy_coordinate_system": ""
      }
     },
     "ece17c1d7eec4379a336a5e688a74a33": {
      "model_module": "@jupyter-widgets/controls",
      "model_module_version": "1.5.0",
      "model_name": "DropdownModel",
      "state": {
       "index": null,
       "layout": "IPY_MODEL_eaa95b9853514a4384d0310655fe7eef",
       "style": "IPY_MODEL_1c22f0117d6645edac266296cb283183"
      }
     },
     "ed4902410b7c4fe0811a2836aa65d1a5": {
      "model_module": "@jupyter-widgets/base",
      "model_module_version": "1.2.0",
      "model_name": "LayoutModel",
      "state": {
       "width": "500px"
      }
     },
     "ee07b22f0cb54e70978102ca9828a7a8": {
      "model_module": "jupyter-leaflet",
      "model_module_version": "^0.17.0",
      "model_name": "LeafletTileLayerModel",
      "state": {
       "_model_module_version": "^0.17.0",
       "_view_module_version": "^0.17.0",
       "attribution": "&copy; <a href=\"http://www.gaode.com/\">Gaode.com</a>",
       "max_zoom": 19,
       "name": "Gaode.Normal",
       "options": [
        "attribution",
        "bounds",
        "detect_retina",
        "max_native_zoom",
        "max_zoom",
        "min_native_zoom",
        "min_zoom",
        "no_wrap",
        "tile_size",
        "tms"
       ],
       "url": "http://webrd01.is.autonavi.com/appmaptile?lang=zh_cn&size=1&scale=1&style=7&x={x}&y={y}&z={z}"
      }
     },
     "eea84380db17403fa6886033276d8723": {
      "model_module": "@jupyter-widgets/base",
      "model_module_version": "1.2.0",
      "model_name": "LayoutModel",
      "state": {}
     },
     "eeca880d6fcb4422bcd6d10b843a9a29": {
      "model_module": "jupyter-leaflet",
      "model_module_version": "^0.17.0",
      "model_name": "LeafletTileLayerModel",
      "state": {
       "_model_module_version": "^0.17.0",
       "_view_module_version": "^0.17.0",
       "attribution": "Justice Map",
       "max_zoom": 22,
       "name": "JusticeMap.multi",
       "options": [
        "attribution",
        "bounds",
        "detect_retina",
        "max_native_zoom",
        "max_zoom",
        "min_native_zoom",
        "min_zoom",
        "no_wrap",
        "tile_size",
        "tms"
       ],
       "url": "https://www.justicemap.org/tile/county/multi/{z}/{x}/{y}.png"
      }
     },
     "eef8eda17c994de0b526059d71b37e06": {
      "model_module": "@jupyter-widgets/base",
      "model_module_version": "1.2.0",
      "model_name": "LayoutModel",
      "state": {
       "height": "28px",
       "width": "72px"
      }
     },
     "ef5543d01c4b4d7a8c44a71aaf8c5060": {
      "model_module": "@jupyter-widgets/controls",
      "model_module_version": "1.5.0",
      "model_name": "BoxModel",
      "state": {
       "children": [
        "IPY_MODEL_a49a52fcbeeb475d86567ac64a3a55b5"
       ],
       "layout": "IPY_MODEL_b36a7dc14f7a4e7d99da319b05ff45d1"
      }
     },
     "f03241ca41524ea7b91eff2083eb2525": {
      "model_module": "@jupyter-widgets/controls",
      "model_module_version": "1.5.0",
      "model_name": "ButtonModel",
      "state": {
       "button_style": "primary",
       "description": "import",
       "layout": "IPY_MODEL_4b4847b3a5304e5e96924da731c19d2e",
       "style": "IPY_MODEL_7dafdaa88d204ed9a798405e4443407f",
       "tooltip": "Click to import the selected asset"
      }
     },
     "f0699b7d8be142619f784b309d90d238": {
      "model_module": "jupyter-leaflet",
      "model_module_version": "^0.17.0",
      "model_name": "LeafletMeasureControlModel",
      "state": {
       "_model_module_version": "^0.17.0",
       "_view_module_version": "^0.17.0",
       "active_color": "orange",
       "options": [
        "active_color",
        "capture_z_index",
        "completed_color",
        "popup_options",
        "position",
        "primary_area_unit",
        "primary_length_unit",
        "secondary_area_unit",
        "secondary_length_unit"
       ],
       "position": "bottomleft",
       "primary_length_unit": "kilometers",
       "secondary_area_unit": null,
       "secondary_length_unit": null
      }
     },
     "f09645c7e6de4523b2e9a31017983530": {
      "model_module": "@jupyter-widgets/controls",
      "model_module_version": "1.5.0",
      "model_name": "DescriptionStyleModel",
      "state": {
       "description_width": ""
      }
     },
     "f18a248688f3434a8bd5eaea6ca22f02": {
      "model_module": "jupyter-leaflet",
      "model_module_version": "^0.17.0",
      "model_name": "LeafletMarkerModel",
      "state": {
       "_model_module_version": "^0.17.0",
       "_view_module_version": "^0.17.0",
       "icon": "IPY_MODEL_3c939a96de8b444fbce5a9fa3c54e965",
       "options": [
        "alt",
        "draggable",
        "keyboard",
        "rise_offset",
        "rise_on_hover",
        "rotation_angle",
        "rotation_origin",
        "title",
        "z_index_offset"
       ]
      }
     },
     "f196d65e997a40558d3fa4ddeade4f34": {
      "model_module": "@jupyter-widgets/controls",
      "model_module_version": "1.5.0",
      "model_name": "DescriptionStyleModel",
      "state": {
       "description_width": ""
      }
     },
     "f1c858200b4d4dc29e28dc26fe8f5f19": {
      "model_module": "jupyter-leaflet",
      "model_module_version": "^0.17.0",
      "model_name": "LeafletTileLayerModel",
      "state": {
       "_model_module_version": "^0.17.0",
       "_view_module_version": "^0.17.0",
       "attribution": "Tiles (C) Esri -- Source: USGS, Esri, TANA, DeLorme, and NPS",
       "max_zoom": 13,
       "name": "Esri.WorldTerrain",
       "options": [
        "attribution",
        "bounds",
        "detect_retina",
        "max_native_zoom",
        "max_zoom",
        "min_native_zoom",
        "min_zoom",
        "no_wrap",
        "tile_size",
        "tms"
       ],
       "url": "https://server.arcgisonline.com/ArcGIS/rest/services/World_Terrain_Base/MapServer/tile/{z}/{y}/{x}"
      }
     },
     "f21c8869d04f42c7ada342163b481ef9": {
      "model_module": "jupyter-leaflet",
      "model_module_version": "^0.17.0",
      "model_name": "LeafletSearchControlModel",
      "state": {
       "_model_module_version": "^0.17.0",
       "_view_module_version": "^0.17.0",
       "marker": "IPY_MODEL_b86194870dc64ff69799ec1fbd855cab",
       "options": [
        "animate_location",
        "auto_collapse",
        "auto_type",
        "found_style",
        "jsonp_param",
        "position",
        "property_loc",
        "property_name",
        "url",
        "zoom"
       ],
       "url": "https://nominatim.openstreetmap.org/search?format=json&q={s}",
       "zoom": 5
      }
     },
     "f2228e868829496fa1c2aeb42b0fb52c": {
      "model_module": "@jupyter-widgets/controls",
      "model_module_version": "1.5.0",
      "model_name": "DescriptionStyleModel",
      "state": {
       "description_width": ""
      }
     },
     "f26bdec748364e69970132dc881ff6db": {
      "model_module": "jupyter-leaflet",
      "model_module_version": "^0.17.0",
      "model_name": "LeafletTileLayerModel",
      "state": {
       "_model_module_version": "^0.17.0",
       "_view_module_version": "^0.17.0",
       "attribution": "Tiles (C) Esri -- Copyright: (C)2012 DeLorme",
       "max_zoom": 11,
       "name": "Esri.DeLorme",
       "options": [
        "attribution",
        "bounds",
        "detect_retina",
        "max_native_zoom",
        "max_zoom",
        "min_native_zoom",
        "min_zoom",
        "no_wrap",
        "tile_size",
        "tms"
       ],
       "url": "https://server.arcgisonline.com/ArcGIS/rest/services/Specialty/DeLorme_World_Base_Map/MapServer/tile/{z}/{y}/{x}"
      }
     },
     "f27a6e7d543d40d29180d0c1d1b43b82": {
      "model_module": "@jupyter-widgets/base",
      "model_module_version": "1.2.0",
      "model_name": "LayoutModel",
      "state": {}
     },
     "f27d639974bf4f56846a1e013cf66c21": {
      "model_module": "@jupyter-widgets/base",
      "model_module_version": "1.2.0",
      "model_name": "LayoutModel",
      "state": {
       "display": "none",
       "grid_gap": "0px 0px",
       "grid_template_areas": "\n                    'pathlist filename'\n                    'dircontent dircontent'\n                    ",
       "grid_template_columns": "60% 40%",
       "grid_template_rows": "auto auto",
       "width": "auto"
      }
     },
     "f2f7b0436763467f8c60df30a5748a71": {
      "model_module": "@jupyter-widgets/base",
      "model_module_version": "1.2.0",
      "model_name": "LayoutModel",
      "state": {}
     },
     "f30de38b72b94fd3803eec68b90d1ee5": {
      "model_module": "@jupyter-widgets/base",
      "model_module_version": "1.2.0",
      "model_name": "LayoutModel",
      "state": {}
     },
     "f32b2875b2994592b6044b526aff103c": {
      "model_module": "@jupyter-widgets/controls",
      "model_module_version": "1.5.0",
      "model_name": "DescriptionStyleModel",
      "state": {
       "description_width": ""
      }
     },
     "f389215cca7e42ba94f95e3f720aed62": {
      "model_module": "@jupyter-widgets/controls",
      "model_module_version": "1.5.0",
      "model_name": "DescriptionStyleModel",
      "state": {
       "description_width": ""
      }
     },
     "f398973aa22043c09d937994465d5065": {
      "model_module": "@jupyter-widgets/controls",
      "model_module_version": "1.5.0",
      "model_name": "DescriptionStyleModel",
      "state": {
       "description_width": ""
      }
     },
     "f3a972ea3c864a428523c2f277fcf856": {
      "model_module": "@jupyter-widgets/controls",
      "model_module_version": "1.5.0",
      "model_name": "DescriptionStyleModel",
      "state": {
       "description_width": ""
      }
     },
     "f3e6c310d69b43f1bf3e974008dd8921": {
      "model_module": "@jupyter-widgets/controls",
      "model_module_version": "1.5.0",
      "model_name": "DescriptionStyleModel",
      "state": {
       "description_width": ""
      }
     },
     "f41c1b70c28c401aa23333d87fd68114": {
      "model_module": "@jupyter-widgets/controls",
      "model_module_version": "1.5.0",
      "model_name": "DescriptionStyleModel",
      "state": {
       "description_width": ""
      }
     },
     "f4ca987627ba4919a38b1dc51cd5eeee": {
      "model_module": "jupyter-leaflet",
      "model_module_version": "^0.17.0",
      "model_name": "LeafletTileLayerModel",
      "state": {
       "_model_module_version": "^0.17.0",
       "_view_module_version": "^0.17.0",
       "attribution": "(C) OpenStreetMap contributors (C) CARTO",
       "max_zoom": 20,
       "name": "CartoDB.VoyagerOnlyLabels",
       "options": [
        "attribution",
        "bounds",
        "detect_retina",
        "max_native_zoom",
        "max_zoom",
        "min_native_zoom",
        "min_zoom",
        "no_wrap",
        "tile_size",
        "tms"
       ],
       "url": "https://a.basemaps.cartocdn.com/rastertiles/voyager_only_labels/{z}/{x}/{y}.png"
      }
     },
     "f4ded60e8fbb472a99559a96f15a6fc1": {
      "model_module": "@jupyter-widgets/base",
      "model_module_version": "1.2.0",
      "model_name": "LayoutModel",
      "state": {
       "width": "65px"
      }
     },
     "f5105a19cc774f6d9ee3aaec68c425de": {
      "model_module": "@jupyter-widgets/controls",
      "model_module_version": "1.5.0",
      "model_name": "ToggleButtonModel",
      "state": {
       "button_style": "primary",
       "icon": "retweet",
       "layout": "IPY_MODEL_e9e724ceeaef41d29c5b73217f0e00d0",
       "style": "IPY_MODEL_c358f880fe4e4bc59c199cfdd2004fe5",
       "tooltip": "Convert Earth Engine JavaScript to Python"
      }
     },
     "f5b881ef2c8f4a328b4568dea5bbd6d4": {
      "model_module": "jupyter-leaflet",
      "model_module_version": "^0.17.0",
      "model_name": "LeafletTileLayerModel",
      "state": {
       "_model_module_version": "^0.17.0",
       "_view_module_version": "^0.17.0",
       "attribution": "Google",
       "max_zoom": 22,
       "name": "Google Satellite",
       "options": [
        "attribution",
        "bounds",
        "detect_retina",
        "max_native_zoom",
        "max_zoom",
        "min_native_zoom",
        "min_zoom",
        "no_wrap",
        "tile_size",
        "tms"
       ],
       "url": "https://mt1.google.com/vt/lyrs=s&x={x}&y={y}&z={z}"
      }
     },
     "f5c2f4df4f6c46ebb92d4695d896bb34": {
      "model_module": "@jupyter-widgets/controls",
      "model_module_version": "1.5.0",
      "model_name": "ToggleButtonModel",
      "state": {
       "button_style": "primary",
       "icon": "spinner",
       "layout": "IPY_MODEL_3a501b9c5a094c44a60277fc1af9d8b0",
       "style": "IPY_MODEL_376e96aefa35451e9e7f123e8eba4cb0",
       "tooltip": "This is a placehold"
      }
     },
     "f5d0025c02e14d2681ea6de9164fb053": {
      "model_module": "@jupyter-widgets/controls",
      "model_module_version": "1.5.0",
      "model_name": "TextModel",
      "state": {
       "layout": "IPY_MODEL_28d8f9db811949688be70f6130eec0e0",
       "placeholder": "output filename",
       "style": "IPY_MODEL_c2d308fc8029414485071970bfc5b1ef",
       "value": "my_map.html"
      }
     },
     "f632f6426cbd480c83d380e8427298f2": {
      "model_module": "jupyter-leaflet",
      "model_module_version": "^0.17.0",
      "model_name": "LeafletTileLayerModel",
      "state": {
       "_model_module_version": "^0.17.0",
       "_view_module_version": "^0.17.0",
       "attribution": "Tiles &copy; Esri &mdash; Esri, DeLorme, NAVTEQ, TomTom, Intermap, iPC, USGS, FAO, NPS, NRCAN, GeoBase, Kadaster NL, Ordnance Survey, Esri Japan, METI, Esri China (Hong Kong), and the GIS User Community",
       "max_zoom": 24,
       "name": "Esri.ArcticOceanBase",
       "options": [
        "attribution",
        "bounds",
        "detect_retina",
        "max_native_zoom",
        "max_zoom",
        "min_native_zoom",
        "min_zoom",
        "no_wrap",
        "tile_size",
        "tms"
       ],
       "url": "http://server.arcgisonline.com/ArcGIS/rest/services/Polar/Arctic_Ocean_Base/MapServer/tile/{z}/{y}/{x}"
      }
     },
     "f672617ccf3943fb9a5f383c2c41f7b9": {
      "model_module": "@jupyter-widgets/base",
      "model_module_version": "1.2.0",
      "model_name": "LayoutModel",
      "state": {
       "margin": "0 0 0 1em"
      }
     },
     "f67efb04571a479fb9f7776f53e92088": {
      "model_module": "@jupyter-widgets/controls",
      "model_module_version": "1.5.0",
      "model_name": "ToggleButtonsModel",
      "state": {
       "_options_labels": [
        "HTML",
        "PNG",
        "JPG"
       ],
       "button_style": "",
       "icons": [],
       "index": 0,
       "layout": "IPY_MODEL_141a03456bce4b45b413dc07547080db",
       "style": "IPY_MODEL_8e66eff585e5438b8b330a68adc373f9",
       "tooltips": [
        "Save the map as an HTML file",
        "Take a screenshot and save as a PNG file",
        "Take a screenshot and save as a JPG file"
       ]
      }
     },
     "f6c9ae6f4bc94c8b94c33140d06e2255": {
      "model_module": "@jupyter-widgets/controls",
      "model_module_version": "1.5.0",
      "model_name": "DescriptionStyleModel",
      "state": {
       "description_width": ""
      }
     },
     "f6f4b1bfa9c44c63ae19863b5935653c": {
      "model_module": "@jupyter-widgets/controls",
      "model_module_version": "1.5.0",
      "model_name": "ToggleButtonModel",
      "state": {
       "button_style": "primary",
       "icon": "eraser",
       "layout": "IPY_MODEL_743ad95e079f47c99a3149d4cc6675e2",
       "style": "IPY_MODEL_752c0258e69448d281203ea5e409653f",
       "tooltip": "Remove all drawn features"
      }
     },
     "f7823a74a5834c5d83a48b699ce03b41": {
      "model_module": "@jupyter-widgets/controls",
      "model_module_version": "1.5.0",
      "model_name": "DescriptionStyleModel",
      "state": {
       "description_width": ""
      }
     },
     "f787297af7674894bb43f667054d8400": {
      "model_module": "@jupyter-widgets/controls",
      "model_module_version": "1.5.0",
      "model_name": "HBoxModel",
      "state": {
       "children": [
        "IPY_MODEL_3d80507b15904829907a379254ffef9b",
        "IPY_MODEL_33c211bb1c004f32b3d6b1da60dbabb2",
        "IPY_MODEL_a2421f72d10f44a99ef7a84540cbaeb2"
       ],
       "layout": "IPY_MODEL_1b14786107fa4a9286bf989528e7b956"
      }
     },
     "f7de358aa1944109979c5e25bc1358b7": {
      "model_module": "jupyter-leaflet",
      "model_module_version": "^0.17.0",
      "model_name": "LeafletWidgetControlModel",
      "state": {
       "_model_module": "jupyter-leaflet",
       "_model_module_version": "^0.17.0",
       "_view_count": null,
       "_view_module": "jupyter-leaflet",
       "_view_module_version": "^0.17.0",
       "options": [
        "position",
        "transparent_bg"
       ],
       "position": "topright",
       "widget": "IPY_MODEL_b18520b0d46f42958a579bfa1e498873"
      }
     },
     "f7f19899d9c94ca2b62be86a2e378053": {
      "model_module": "jupyter-leaflet",
      "model_module_version": "^0.17.0",
      "model_name": "LeafletTileLayerModel",
      "state": {
       "_model_module_version": "^0.17.0",
       "_view_module_version": "^0.17.0",
       "attribution": "(C) OpenStreetMap contributors",
       "max_zoom": 19,
       "name": "OpenStreetMap.Mapnik",
       "options": [
        "attribution",
        "bounds",
        "detect_retina",
        "max_native_zoom",
        "max_zoom",
        "min_native_zoom",
        "min_zoom",
        "no_wrap",
        "tile_size",
        "tms"
       ],
       "url": "https://a.tile.openstreetmap.org/{z}/{x}/{y}.png"
      }
     },
     "f8051cd2d528439d8d3efd644860723f": {
      "model_module": "@jupyter-widgets/controls",
      "model_module_version": "1.5.0",
      "model_name": "DropdownModel",
      "state": {
       "index": null,
       "layout": "IPY_MODEL_275d3b66c75c42a5817908a072ec531f",
       "style": "IPY_MODEL_03bc3df8b0c74c3583dedb3327cbd62e"
      }
     },
     "f8079a433ba8435ab671cece736d02f0": {
      "model_module": "jupyter-leaflet",
      "model_module_version": "^0.17.0",
      "model_name": "LeafletTileLayerModel",
      "state": {
       "_model_module_version": "^0.17.0",
       "_view_module_version": "^0.17.0",
       "attribution": "Map tiles by <a href=\"https://labs.strava.com/heatmap\">Strava 2021</a>",
       "max_zoom": 15,
       "name": "Strava.Ride",
       "options": [
        "attribution",
        "bounds",
        "detect_retina",
        "max_native_zoom",
        "max_zoom",
        "min_native_zoom",
        "min_zoom",
        "no_wrap",
        "tile_size",
        "tms"
       ],
       "url": "https://heatmap-external-a.strava.com/tiles/ride/hot/{z}/{x}/{y}.png"
      }
     },
     "f89565cb764d463b96a5c974d3c5de9f": {
      "model_module": "@jupyter-widgets/controls",
      "model_module_version": "1.5.0",
      "model_name": "ToggleButtonModel",
      "state": {
       "button_style": "primary",
       "icon": "info-circle",
       "layout": "IPY_MODEL_1bb177433cb04091a63d1e57a0592761",
       "style": "IPY_MODEL_f389215cca7e42ba94f95e3f720aed62",
       "tooltip": "Get COG/STAC pixel value"
      }
     },
     "f8f899a6a0d44767b9c731ded94b81b7": {
      "model_module": "@jupyter-widgets/controls",
      "model_module_version": "1.5.0",
      "model_name": "ToggleButtonModel",
      "state": {
       "button_style": "primary",
       "icon": "hand-o-up",
       "layout": "IPY_MODEL_9302cd75a2294fdeb1ed5fd25dc381fe",
       "style": "IPY_MODEL_299517ed021543bba168ea3066861800",
       "tooltip": "Collect training samples"
      }
     },
     "f94553a61d04422b9c3381e9a5dae47c": {
      "model_module": "@jupyter-widgets/controls",
      "model_module_version": "1.5.0",
      "model_name": "DescriptionStyleModel",
      "state": {
       "description_width": ""
      }
     },
     "f96bc2ef17124253afc28539f82870bf": {
      "model_module": "@jupyter-widgets/base",
      "model_module_version": "1.2.0",
      "model_name": "LayoutModel",
      "state": {}
     },
     "f9818856f7924853926dc8611cb21ec2": {
      "model_module": "@jupyter-widgets/base",
      "model_module_version": "1.2.0",
      "model_name": "LayoutModel",
      "state": {}
     },
     "f988e7bf158a4ef490f6fee443426bf7": {
      "model_module": "jupyter-leaflet",
      "model_module_version": "^0.17.0",
      "model_name": "LeafletTileLayerModel",
      "state": {
       "_model_module_version": "^0.17.0",
       "_view_module_version": "^0.17.0",
       "attribution": "Kaartgegevens (C) Kadaster",
       "max_zoom": 19,
       "name": "nlmaps.water",
       "options": [
        "attribution",
        "bounds",
        "detect_retina",
        "max_native_zoom",
        "max_zoom",
        "min_native_zoom",
        "min_zoom",
        "no_wrap",
        "tile_size",
        "tms"
       ],
       "url": "https://service.pdok.nl/brt/achtergrondkaart/wmts/v2_0/water/EPSG:3857/{z}/{x}/{y}.png"
      }
     },
     "fa104b7773624a0f8f5e594886c9f210": {
      "model_module": "@jupyter-widgets/controls",
      "model_module_version": "1.5.0",
      "model_name": "DescriptionStyleModel",
      "state": {
       "description_width": ""
      }
     },
     "fa56f8809efa4ca3b081ec97146125f5": {
      "model_module": "@jupyter-widgets/base",
      "model_module_version": "1.2.0",
      "model_name": "LayoutModel",
      "state": {}
     },
     "fa679979207141efa77da45d70fee743": {
      "model_module": "@jupyter-widgets/base",
      "model_module_version": "1.2.0",
      "model_name": "LayoutModel",
      "state": {}
     },
     "fab0a814e4c742eebfcababb267442f8": {
      "model_module": "jupyter-leaflet",
      "model_module_version": "^0.17.0",
      "model_name": "LeafletAttributionControlModel",
      "state": {
       "_model_module_version": "^0.17.0",
       "_view_module_version": "^0.17.0",
       "options": [
        "position",
        "prefix"
       ],
       "position": "bottomright",
       "prefix": "ipyleaflet"
      }
     },
     "faf9cba1775d4680bf8f20817ae56ce7": {
      "model_module": "@jupyter-widgets/controls",
      "model_module_version": "1.5.0",
      "model_name": "ButtonStyleModel",
      "state": {}
     },
     "fb092071f9bc4393b1c9e2ace3080413": {
      "model_module": "@jupyter-widgets/controls",
      "model_module_version": "1.5.0",
      "model_name": "ToggleButtonsModel",
      "state": {
       "_options_labels": [
        "name/address",
        "lat-lon",
        "data"
       ],
       "button_style": "",
       "icons": [],
       "index": 0,
       "layout": "IPY_MODEL_6fb17e0aa4f84b448f8c930a3c1ddf22",
       "style": "IPY_MODEL_64e6ece02b2649a490f68e07370feacc",
       "tooltips": [
        "Search by place name or address",
        "Search by lat-lon coordinates",
        "Search Earth Engine data catalog"
       ]
      }
     },
     "fb398372839a4b138747d5c83e9c0d8c": {
      "model_module": "jupyter-leaflet",
      "model_module_version": "^0.17.0",
      "model_name": "LeafletWidgetControlModel",
      "state": {
       "_model_module": "jupyter-leaflet",
       "_model_module_version": "^0.17.0",
       "_view_count": null,
       "_view_module": "jupyter-leaflet",
       "_view_module_version": "^0.17.0",
       "options": [
        "position",
        "transparent_bg"
       ],
       "position": "topright",
       "widget": "IPY_MODEL_984fd56f540c4c90848592c3b89d1312"
      }
     },
     "fbaacbe0d9c94e40ba5af37f95a14066": {
      "model_module": "@jupyter-widgets/base",
      "model_module_version": "1.2.0",
      "model_name": "LayoutModel",
      "state": {
       "grid_gap": "1px 1px",
       "grid_template_columns": "32px 32px 32px ",
       "grid_template_rows": "32px 32px 32px 32px 32px 32px ",
       "padding": "5px",
       "width": "109px"
      }
     },
     "fbb960d765994a69a222fbc7e59484e9": {
      "model_module": "@jupyter-widgets/controls",
      "model_module_version": "1.5.0",
      "model_name": "DescriptionStyleModel",
      "state": {
       "description_width": ""
      }
     },
     "fc36afe719944ad893fd373cb47c5af5": {
      "model_module": "@jupyter-widgets/controls",
      "model_module_version": "1.5.0",
      "model_name": "ToggleButtonModel",
      "state": {
       "button_style": "primary",
       "icon": "random",
       "layout": "IPY_MODEL_ec2389852d594138a704b0ef7509abbc",
       "style": "IPY_MODEL_bb7e240788b24f09999afea511f25782",
       "tooltip": "Sankey plots"
      }
     },
     "fca4a1d826a64e1aa06de0c4b2ce1992": {
      "model_module": "@jupyter-widgets/base",
      "model_module_version": "1.2.0",
      "model_name": "LayoutModel",
      "state": {
       "height": "28px",
       "padding": "0px 0px 0px 4px",
       "width": "28px"
      }
     },
     "fcb6a45aec8042edb1e7d83e0bf86402": {
      "model_module": "@jupyter-widgets/base",
      "model_module_version": "1.2.0",
      "model_name": "LayoutModel",
      "state": {}
     },
     "fcb7b57492a548c292192075fff7ab13": {
      "model_module": "@jupyter-widgets/controls",
      "model_module_version": "1.5.0",
      "model_name": "DescriptionStyleModel",
      "state": {
       "description_width": ""
      }
     },
     "fcf407153e9e4999b1b5a36342df3313": {
      "model_module": "jupyter-leaflet",
      "model_module_version": "^0.17.0",
      "model_name": "LeafletWMSLayerModel",
      "state": {
       "_model_module_version": "^0.17.0",
       "_view_module_version": "^0.17.0",
       "attribution": "FWS",
       "crs": {
        "custom": false,
        "name": "EPSG3857"
       },
       "format": "image/png",
       "layers": "1",
       "name": "FWS NWI Wetlands",
       "options": [
        "attribution",
        "bounds",
        "detect_retina",
        "format",
        "layers",
        "max_native_zoom",
        "max_zoom",
        "min_native_zoom",
        "min_zoom",
        "no_wrap",
        "styles",
        "tile_size",
        "tms",
        "transparent",
        "uppercase"
       ],
       "transparent": true,
       "url": "https://www.fws.gov/wetlands/arcgis/services/Wetlands/MapServer/WMSServer?"
      }
     },
     "fd22c8cdde3b4c4ab0ffaaa1b615c76e": {
      "model_module": "jupyter-leaflet",
      "model_module_version": "^0.17.0",
      "model_name": "LeafletTileLayerModel",
      "state": {
       "_model_module_version": "^0.17.0",
       "_view_module_version": "^0.17.0",
       "attribution": "Map data: (C) OpenStreetMap contributors, SRTM | Map style: (C) OpenTopoMap (CC-BY-SA)",
       "max_zoom": 17,
       "name": "OpenTopoMap",
       "options": [
        "attribution",
        "bounds",
        "detect_retina",
        "max_native_zoom",
        "max_zoom",
        "min_native_zoom",
        "min_zoom",
        "no_wrap",
        "tile_size",
        "tms"
       ],
       "url": "https://a.tile.opentopomap.org/{z}/{x}/{y}.png"
      }
     },
     "fd4a6931e837446fa5af385b7e2dde5a": {
      "model_module": "@jupyter-widgets/controls",
      "model_module_version": "1.5.0",
      "model_name": "DescriptionStyleModel",
      "state": {
       "description_width": ""
      }
     },
     "fd54bdabba4d450dabcd77d0d55d0404": {
      "model_module": "@jupyter-widgets/controls",
      "model_module_version": "1.5.0",
      "model_name": "CheckboxModel",
      "state": {
       "description": "Point",
       "disabled": false,
       "indent": false,
       "layout": "IPY_MODEL_e835d8f5e1944917914b2eb01358bd3d",
       "style": "IPY_MODEL_e4755cd89ae645efbb2d933536e8b1cd",
       "value": false
      }
     },
     "fddc3198db89413bba6894faa1544db1": {
      "model_module": "@jupyter-widgets/controls",
      "model_module_version": "1.5.0",
      "model_name": "VBoxModel",
      "state": {
       "children": [
        "IPY_MODEL_99ead80a02ff4976a2ce7affc4e965fd",
        "IPY_MODEL_bbd9ac3d7fb947fda7ceb725c8815d1f",
        "IPY_MODEL_b19ee26ac7594a9ba0325e39e175cb88"
       ],
       "layout": "IPY_MODEL_ed4902410b7c4fe0811a2836aa65d1a5"
      }
     },
     "fe009f44885b463187602d3b95c17ef1": {
      "model_module": "@jupyter-widgets/base",
      "model_module_version": "1.2.0",
      "model_name": "LayoutModel",
      "state": {}
     },
     "fe2068db017e4781a39f1df6ffadeb06": {
      "model_module": "@jupyter-widgets/controls",
      "model_module_version": "1.5.0",
      "model_name": "ToggleButtonsModel",
      "state": {
       "_options_labels": [
        "HTML",
        "PNG",
        "JPG"
       ],
       "button_style": "",
       "icons": [],
       "index": 0,
       "layout": "IPY_MODEL_165eedece224480491940ad537fe4eba",
       "style": "IPY_MODEL_70a21040fd7b4d288a301a551ee09807",
       "tooltips": [
        "Save the map as an HTML file",
        "Take a screenshot and save as a PNG file",
        "Take a screenshot and save as a JPG file"
       ]
      }
     },
     "fe75da3514f04e0cbbc2d2a680ad7aeb": {
      "model_module": "@jupyter-widgets/base",
      "model_module_version": "1.2.0",
      "model_name": "LayoutModel",
      "state": {
       "max_height": "350px",
       "max_width": "340px",
       "overflow": "scroll"
      }
     },
     "fef007da31e54f9c8081ff47e710e1af": {
      "model_module": "@jupyter-widgets/controls",
      "model_module_version": "1.5.0",
      "model_name": "ToggleButtonModel",
      "state": {
       "button_style": "primary",
       "icon": "adjust",
       "layout": "IPY_MODEL_6c3fb49153d54600a532772485043076",
       "style": "IPY_MODEL_6e613404d84f449f86502e96afe11f43",
       "tooltip": "Planet imagery"
      }
     },
     "ff9ef10b7e104785a76b96b853be8535": {
      "model_module": "@jupyter-widgets/controls",
      "model_module_version": "1.5.0",
      "model_name": "TextModel",
      "state": {
       "layout": "IPY_MODEL_dd1e98fc19924e7aa8191200246245d1",
       "placeholder": "output filename",
       "style": "IPY_MODEL_b125789ee244471fa93bdd720b412333",
       "value": "my_map.html"
      }
     },
     "ffa5997607c8457bb8ed0eee599c9b71": {
      "model_module": "@jupyter-widgets/controls",
      "model_module_version": "1.5.0",
      "model_name": "DescriptionStyleModel",
      "state": {
       "description_width": ""
      }
     },
     "ffcaf278eecb415f873a3e0ce4b7993b": {
      "model_module": "jupyter-leaflet",
      "model_module_version": "^0.17.0",
      "model_name": "LeafletTileLayerModel",
      "state": {
       "_model_module_version": "^0.17.0",
       "_view_module_version": "^0.17.0",
       "attribution": "Google",
       "max_zoom": 22,
       "name": "Google Terrain",
       "options": [
        "attribution",
        "bounds",
        "detect_retina",
        "max_native_zoom",
        "max_zoom",
        "min_native_zoom",
        "min_zoom",
        "no_wrap",
        "tile_size",
        "tms"
       ],
       "url": "https://mt1.google.com/vt/lyrs=p&x={x}&y={y}&z={z}"
      }
     },
     "ffcd6f85faf14de5b9b58b9c440010ba": {
      "model_module": "@jupyter-widgets/controls",
      "model_module_version": "1.5.0",
      "model_name": "DescriptionStyleModel",
      "state": {
       "description_width": ""
      }
     }
    },
    "version_major": 2,
    "version_minor": 0
   }
  }
 },
 "nbformat": 4,
 "nbformat_minor": 4
}
