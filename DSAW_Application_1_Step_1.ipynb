{
 "cells": [
  {
   "cell_type": "markdown",
   "metadata": {},
   "source": [
    "# Application 1: Farm Scale Soil Moisture Estimation using Remote Sensing and Water Budget Products\n",
    "## Step 1: Preparing Information (satellite and ground measurements) \n",
    "\n",
    "NOTE: BEFORE RUNNING THIS NOTEBOOK, OPEN A TERMINAL AND RUN THE FOLLOWING COMMAND:"
   ]
  },
  {
   "cell_type": "raw",
   "metadata": {},
   "source": [
    "pip install -U geemap\n",
    "pip install eemont"
   ]
  },
  {
   "cell_type": "markdown",
   "metadata": {},
   "source": [
    "### Background: \n",
    "\n",
    "Remote Sensing is a very valuable source of information to understand current conditions and changes in Earth, Atmosphere and Subsurface. These conditions and changes are related to natural factors e.g. solar radiation and rainfall, amount and type of vegetation on top, urban development, among others. For hydrology and water balance components, efforts to estimate precipitation, evapotranspiration, and groundwater have been sucessful (and continue to improve). Still, estimation of at small scales of certain variables (100 m or less) is still challenging. \n",
    "\n",
    "A remote sensing source (satellite) what regularly provides information at 30m scale is Landsat https://landsat.gsfc.nasa.gov/about. This satellite has been the longest remote sensing source (~20 years) for continental locations and will continue to provide with future satellite \"missions\".\n",
    "\n",
    "In this step, you will access Landsat information for a study site in Utah as shown in the figure below:"
   ]
  },
  {
   "cell_type": "markdown",
   "metadata": {},
   "source": [
    "![area_of_stud](area_of_study.jpg)"
   ]
  },
  {
   "cell_type": "markdown",
   "metadata": {},
   "source": [
    "The figure on the left is showing the Area of Study, which are agricultural lands nearby a Utah town called Delta. This agricultural land is part of the Lower Sevier River Basin (by the end of the basin). The figure on the right shows a Landsat image (called false color due to its red hue for vegetation), and locations where soil moisture information was collected in four specific dates in 2012.\n",
    "\n",
    "So, these are the dates we have available soil moisture information:\n",
    "\n",
    "- May 13\n",
    "- May 29\n",
    "- Jun 14\n",
    "- Jun 30\n",
    "\n",
    "The information collected, crop type, and GPS coordinates are sumarized in the csv file */Ground_Information/Prj_Delta_2012_SoilMoisture_topsoil.csv.* We can visualize the file below:"
   ]
  },
  {
   "cell_type": "code",
   "execution_count": 2,
   "metadata": {},
   "outputs": [
    {
     "data": {
      "text/html": [
       "<div>\n",
       "<style scoped>\n",
       "    .dataframe tbody tr th:only-of-type {\n",
       "        vertical-align: middle;\n",
       "    }\n",
       "\n",
       "    .dataframe tbody tr th {\n",
       "        vertical-align: top;\n",
       "    }\n",
       "\n",
       "    .dataframe thead th {\n",
       "        text-align: right;\n",
       "    }\n",
       "</style>\n",
       "<table border=\"1\" class=\"dataframe\">\n",
       "  <thead>\n",
       "    <tr style=\"text-align: right;\">\n",
       "      <th></th>\n",
       "      <th>FIELD</th>\n",
       "      <th>LAT</th>\n",
       "      <th>LONG</th>\n",
       "      <th>SM0513</th>\n",
       "      <th>SM0529</th>\n",
       "      <th>SM0614</th>\n",
       "      <th>SM0630</th>\n",
       "      <th>T0513</th>\n",
       "      <th>T0529</th>\n",
       "      <th>T0614</th>\n",
       "      <th>T0630</th>\n",
       "      <th>SA0513</th>\n",
       "      <th>SA0529</th>\n",
       "      <th>SA0614</th>\n",
       "      <th>SA0630</th>\n",
       "      <th>CROP</th>\n",
       "      <th>sampling point</th>\n",
       "    </tr>\n",
       "  </thead>\n",
       "  <tbody>\n",
       "    <tr>\n",
       "      <th>0</th>\n",
       "      <td>101A</td>\n",
       "      <td>39.38476</td>\n",
       "      <td>-112.65024</td>\n",
       "      <td>0.39</td>\n",
       "      <td>0.14</td>\n",
       "      <td>0.10</td>\n",
       "      <td>0.13</td>\n",
       "      <td>24.93</td>\n",
       "      <td>25.80</td>\n",
       "      <td>23.77</td>\n",
       "      <td>28.97</td>\n",
       "      <td>0.60</td>\n",
       "      <td>0.09</td>\n",
       "      <td>0.00</td>\n",
       "      <td>0.05</td>\n",
       "      <td>alfalfa</td>\n",
       "      <td>1</td>\n",
       "    </tr>\n",
       "    <tr>\n",
       "      <th>1</th>\n",
       "      <td>101B</td>\n",
       "      <td>39.38447</td>\n",
       "      <td>-112.65022</td>\n",
       "      <td>0.32</td>\n",
       "      <td>0.15</td>\n",
       "      <td>0.11</td>\n",
       "      <td>0.13</td>\n",
       "      <td>25.20</td>\n",
       "      <td>25.23</td>\n",
       "      <td>24.90</td>\n",
       "      <td>29.10</td>\n",
       "      <td>0.59</td>\n",
       "      <td>0.07</td>\n",
       "      <td>0.02</td>\n",
       "      <td>0.05</td>\n",
       "      <td>alfalfa</td>\n",
       "      <td>2</td>\n",
       "    </tr>\n",
       "    <tr>\n",
       "      <th>2</th>\n",
       "      <td>104A</td>\n",
       "      <td>39.39835</td>\n",
       "      <td>-112.64149</td>\n",
       "      <td>0.50</td>\n",
       "      <td>0.54</td>\n",
       "      <td>0.29</td>\n",
       "      <td>0.08</td>\n",
       "      <td>25.37</td>\n",
       "      <td>24.03</td>\n",
       "      <td>25.87</td>\n",
       "      <td>28.50</td>\n",
       "      <td>1.01</td>\n",
       "      <td>0.36</td>\n",
       "      <td>0.40</td>\n",
       "      <td>0.01</td>\n",
       "      <td>grain</td>\n",
       "      <td>3</td>\n",
       "    </tr>\n",
       "    <tr>\n",
       "      <th>3</th>\n",
       "      <td>104B</td>\n",
       "      <td>39.39805</td>\n",
       "      <td>-112.64149</td>\n",
       "      <td>0.47</td>\n",
       "      <td>0.12</td>\n",
       "      <td>0.26</td>\n",
       "      <td>0.10</td>\n",
       "      <td>23.07</td>\n",
       "      <td>24.30</td>\n",
       "      <td>25.90</td>\n",
       "      <td>30.17</td>\n",
       "      <td>0.95</td>\n",
       "      <td>0.04</td>\n",
       "      <td>0.38</td>\n",
       "      <td>0.00</td>\n",
       "      <td>grain</td>\n",
       "      <td>4</td>\n",
       "    </tr>\n",
       "    <tr>\n",
       "      <th>4</th>\n",
       "      <td>105A</td>\n",
       "      <td>39.41692</td>\n",
       "      <td>-112.62920</td>\n",
       "      <td>0.07</td>\n",
       "      <td>0.24</td>\n",
       "      <td>0.56</td>\n",
       "      <td>0.65</td>\n",
       "      <td>26.10</td>\n",
       "      <td>25.60</td>\n",
       "      <td>28.20</td>\n",
       "      <td>29.27</td>\n",
       "      <td>0.00</td>\n",
       "      <td>0.50</td>\n",
       "      <td>2.23</td>\n",
       "      <td>3.73</td>\n",
       "      <td>corn</td>\n",
       "      <td>5</td>\n",
       "    </tr>\n",
       "    <tr>\n",
       "      <th>5</th>\n",
       "      <td>105B</td>\n",
       "      <td>39.41664</td>\n",
       "      <td>-112.62922</td>\n",
       "      <td>0.07</td>\n",
       "      <td>0.22</td>\n",
       "      <td>0.46</td>\n",
       "      <td>0.52</td>\n",
       "      <td>27.53</td>\n",
       "      <td>26.03</td>\n",
       "      <td>26.00</td>\n",
       "      <td>25.87</td>\n",
       "      <td>0.00</td>\n",
       "      <td>0.22</td>\n",
       "      <td>1.17</td>\n",
       "      <td>1.35</td>\n",
       "      <td>corn</td>\n",
       "      <td>6</td>\n",
       "    </tr>\n",
       "    <tr>\n",
       "      <th>6</th>\n",
       "      <td>107A</td>\n",
       "      <td>39.42558</td>\n",
       "      <td>-112.65076</td>\n",
       "      <td>0.44</td>\n",
       "      <td>0.36</td>\n",
       "      <td>0.12</td>\n",
       "      <td>0.23</td>\n",
       "      <td>29.10</td>\n",
       "      <td>25.10</td>\n",
       "      <td>26.83</td>\n",
       "      <td>28.20</td>\n",
       "      <td>0.77</td>\n",
       "      <td>0.77</td>\n",
       "      <td>0.32</td>\n",
       "      <td>0.33</td>\n",
       "      <td>corn</td>\n",
       "      <td>7</td>\n",
       "    </tr>\n",
       "    <tr>\n",
       "      <th>7</th>\n",
       "      <td>107B</td>\n",
       "      <td>39.42521</td>\n",
       "      <td>-112.65077</td>\n",
       "      <td>0.54</td>\n",
       "      <td>0.15</td>\n",
       "      <td>0.12</td>\n",
       "      <td>0.18</td>\n",
       "      <td>28.83</td>\n",
       "      <td>25.90</td>\n",
       "      <td>27.97</td>\n",
       "      <td>29.30</td>\n",
       "      <td>0.87</td>\n",
       "      <td>0.12</td>\n",
       "      <td>0.02</td>\n",
       "      <td>0.13</td>\n",
       "      <td>grain</td>\n",
       "      <td>8</td>\n",
       "    </tr>\n",
       "    <tr>\n",
       "      <th>8</th>\n",
       "      <td>108A</td>\n",
       "      <td>39.43149</td>\n",
       "      <td>-112.62613</td>\n",
       "      <td>0.09</td>\n",
       "      <td>0.36</td>\n",
       "      <td>0.09</td>\n",
       "      <td>0.10</td>\n",
       "      <td>27.67</td>\n",
       "      <td>26.10</td>\n",
       "      <td>26.40</td>\n",
       "      <td>29.60</td>\n",
       "      <td>0.00</td>\n",
       "      <td>0.63</td>\n",
       "      <td>0.02</td>\n",
       "      <td>0.00</td>\n",
       "      <td>grain</td>\n",
       "      <td>9</td>\n",
       "    </tr>\n",
       "    <tr>\n",
       "      <th>9</th>\n",
       "      <td>108B</td>\n",
       "      <td>39.43152</td>\n",
       "      <td>-112.62648</td>\n",
       "      <td>0.07</td>\n",
       "      <td>0.42</td>\n",
       "      <td>0.08</td>\n",
       "      <td>0.08</td>\n",
       "      <td>27.00</td>\n",
       "      <td>25.33</td>\n",
       "      <td>27.07</td>\n",
       "      <td>30.73</td>\n",
       "      <td>0.03</td>\n",
       "      <td>0.81</td>\n",
       "      <td>0.01</td>\n",
       "      <td>0.00</td>\n",
       "      <td>grain</td>\n",
       "      <td>10</td>\n",
       "    </tr>\n",
       "    <tr>\n",
       "      <th>10</th>\n",
       "      <td>110A</td>\n",
       "      <td>39.36116</td>\n",
       "      <td>-112.63804</td>\n",
       "      <td>0.10</td>\n",
       "      <td>0.35</td>\n",
       "      <td>0.13</td>\n",
       "      <td>0.44</td>\n",
       "      <td>23.80</td>\n",
       "      <td>16.83</td>\n",
       "      <td>22.80</td>\n",
       "      <td>21.20</td>\n",
       "      <td>0.03</td>\n",
       "      <td>0.59</td>\n",
       "      <td>0.05</td>\n",
       "      <td>0.86</td>\n",
       "      <td>corn</td>\n",
       "      <td>11</td>\n",
       "    </tr>\n",
       "    <tr>\n",
       "      <th>11</th>\n",
       "      <td>110B</td>\n",
       "      <td>39.36113</td>\n",
       "      <td>-112.63842</td>\n",
       "      <td>0.13</td>\n",
       "      <td>0.43</td>\n",
       "      <td>0.12</td>\n",
       "      <td>0.47</td>\n",
       "      <td>24.53</td>\n",
       "      <td>16.57</td>\n",
       "      <td>21.43</td>\n",
       "      <td>21.27</td>\n",
       "      <td>0.06</td>\n",
       "      <td>0.93</td>\n",
       "      <td>0.03</td>\n",
       "      <td>0.91</td>\n",
       "      <td>alfalfa</td>\n",
       "      <td>12</td>\n",
       "    </tr>\n",
       "    <tr>\n",
       "      <th>12</th>\n",
       "      <td>111A</td>\n",
       "      <td>39.37198</td>\n",
       "      <td>-112.64099</td>\n",
       "      <td>0.26</td>\n",
       "      <td>0.15</td>\n",
       "      <td>0.50</td>\n",
       "      <td>0.13</td>\n",
       "      <td>25.23</td>\n",
       "      <td>25.07</td>\n",
       "      <td>24.67</td>\n",
       "      <td>26.90</td>\n",
       "      <td>0.43</td>\n",
       "      <td>0.06</td>\n",
       "      <td>0.94</td>\n",
       "      <td>0.04</td>\n",
       "      <td>alfalfa</td>\n",
       "      <td>13</td>\n",
       "    </tr>\n",
       "    <tr>\n",
       "      <th>13</th>\n",
       "      <td>111B</td>\n",
       "      <td>39.37169</td>\n",
       "      <td>-112.64102</td>\n",
       "      <td>0.26</td>\n",
       "      <td>0.15</td>\n",
       "      <td>0.54</td>\n",
       "      <td>0.14</td>\n",
       "      <td>24.93</td>\n",
       "      <td>25.23</td>\n",
       "      <td>23.00</td>\n",
       "      <td>27.07</td>\n",
       "      <td>0.45</td>\n",
       "      <td>0.03</td>\n",
       "      <td>1.37</td>\n",
       "      <td>0.07</td>\n",
       "      <td>alfalfa</td>\n",
       "      <td>14</td>\n",
       "    </tr>\n",
       "    <tr>\n",
       "      <th>14</th>\n",
       "      <td>113A</td>\n",
       "      <td>39.43207</td>\n",
       "      <td>-112.62260</td>\n",
       "      <td>0.07</td>\n",
       "      <td>0.14</td>\n",
       "      <td>0.06</td>\n",
       "      <td>0.17</td>\n",
       "      <td>27.10</td>\n",
       "      <td>24.93</td>\n",
       "      <td>28.13</td>\n",
       "      <td>31.33</td>\n",
       "      <td>0.13</td>\n",
       "      <td>0.06</td>\n",
       "      <td>0.03</td>\n",
       "      <td>0.10</td>\n",
       "      <td>alfalfa</td>\n",
       "      <td>15</td>\n",
       "    </tr>\n",
       "    <tr>\n",
       "      <th>15</th>\n",
       "      <td>113B</td>\n",
       "      <td>39.43212</td>\n",
       "      <td>-112.62296</td>\n",
       "      <td>0.10</td>\n",
       "      <td>0.17</td>\n",
       "      <td>0.06</td>\n",
       "      <td>0.17</td>\n",
       "      <td>26.93</td>\n",
       "      <td>24.80</td>\n",
       "      <td>29.27</td>\n",
       "      <td>30.70</td>\n",
       "      <td>0.11</td>\n",
       "      <td>0.08</td>\n",
       "      <td>0.03</td>\n",
       "      <td>0.13</td>\n",
       "      <td>alfalfa</td>\n",
       "      <td>16</td>\n",
       "    </tr>\n",
       "    <tr>\n",
       "      <th>16</th>\n",
       "      <td>117A</td>\n",
       "      <td>39.43937</td>\n",
       "      <td>-112.61599</td>\n",
       "      <td>0.27</td>\n",
       "      <td>0.37</td>\n",
       "      <td>0.13</td>\n",
       "      <td>0.11</td>\n",
       "      <td>27.03</td>\n",
       "      <td>26.93</td>\n",
       "      <td>30.50</td>\n",
       "      <td>29.70</td>\n",
       "      <td>0.33</td>\n",
       "      <td>0.52</td>\n",
       "      <td>0.07</td>\n",
       "      <td>0.02</td>\n",
       "      <td>alfalfa</td>\n",
       "      <td>17</td>\n",
       "    </tr>\n",
       "    <tr>\n",
       "      <th>17</th>\n",
       "      <td>117B</td>\n",
       "      <td>39.43936</td>\n",
       "      <td>-112.61637</td>\n",
       "      <td>0.19</td>\n",
       "      <td>0.27</td>\n",
       "      <td>0.08</td>\n",
       "      <td>0.08</td>\n",
       "      <td>26.90</td>\n",
       "      <td>25.57</td>\n",
       "      <td>30.63</td>\n",
       "      <td>30.37</td>\n",
       "      <td>0.12</td>\n",
       "      <td>0.35</td>\n",
       "      <td>0.04</td>\n",
       "      <td>0.01</td>\n",
       "      <td>alfalfa</td>\n",
       "      <td>18</td>\n",
       "    </tr>\n",
       "    <tr>\n",
       "      <th>18</th>\n",
       "      <td>119A</td>\n",
       "      <td>39.37638</td>\n",
       "      <td>-112.64129</td>\n",
       "      <td>0.25</td>\n",
       "      <td>0.14</td>\n",
       "      <td>0.10</td>\n",
       "      <td>0.16</td>\n",
       "      <td>24.27</td>\n",
       "      <td>21.40</td>\n",
       "      <td>24.57</td>\n",
       "      <td>22.33</td>\n",
       "      <td>0.41</td>\n",
       "      <td>0.05</td>\n",
       "      <td>0.02</td>\n",
       "      <td>0.06</td>\n",
       "      <td>alfalfa</td>\n",
       "      <td>19</td>\n",
       "    </tr>\n",
       "    <tr>\n",
       "      <th>19</th>\n",
       "      <td>119B</td>\n",
       "      <td>39.37606</td>\n",
       "      <td>-112.64129</td>\n",
       "      <td>0.21</td>\n",
       "      <td>0.15</td>\n",
       "      <td>0.10</td>\n",
       "      <td>0.33</td>\n",
       "      <td>24.43</td>\n",
       "      <td>22.73</td>\n",
       "      <td>24.87</td>\n",
       "      <td>23.40</td>\n",
       "      <td>0.24</td>\n",
       "      <td>0.10</td>\n",
       "      <td>0.00</td>\n",
       "      <td>0.73</td>\n",
       "      <td>alfalfa</td>\n",
       "      <td>20</td>\n",
       "    </tr>\n",
       "  </tbody>\n",
       "</table>\n",
       "</div>"
      ],
      "text/plain": [
       "   FIELD       LAT       LONG  SM0513  SM0529  SM0614  SM0630  T0513  T0529  \\\n",
       "0   101A  39.38476 -112.65024    0.39    0.14    0.10    0.13  24.93  25.80   \n",
       "1   101B  39.38447 -112.65022    0.32    0.15    0.11    0.13  25.20  25.23   \n",
       "2   104A  39.39835 -112.64149    0.50    0.54    0.29    0.08  25.37  24.03   \n",
       "3   104B  39.39805 -112.64149    0.47    0.12    0.26    0.10  23.07  24.30   \n",
       "4   105A  39.41692 -112.62920    0.07    0.24    0.56    0.65  26.10  25.60   \n",
       "5   105B  39.41664 -112.62922    0.07    0.22    0.46    0.52  27.53  26.03   \n",
       "6   107A  39.42558 -112.65076    0.44    0.36    0.12    0.23  29.10  25.10   \n",
       "7   107B  39.42521 -112.65077    0.54    0.15    0.12    0.18  28.83  25.90   \n",
       "8   108A  39.43149 -112.62613    0.09    0.36    0.09    0.10  27.67  26.10   \n",
       "9   108B  39.43152 -112.62648    0.07    0.42    0.08    0.08  27.00  25.33   \n",
       "10  110A  39.36116 -112.63804    0.10    0.35    0.13    0.44  23.80  16.83   \n",
       "11  110B  39.36113 -112.63842    0.13    0.43    0.12    0.47  24.53  16.57   \n",
       "12  111A  39.37198 -112.64099    0.26    0.15    0.50    0.13  25.23  25.07   \n",
       "13  111B  39.37169 -112.64102    0.26    0.15    0.54    0.14  24.93  25.23   \n",
       "14  113A  39.43207 -112.62260    0.07    0.14    0.06    0.17  27.10  24.93   \n",
       "15  113B  39.43212 -112.62296    0.10    0.17    0.06    0.17  26.93  24.80   \n",
       "16  117A  39.43937 -112.61599    0.27    0.37    0.13    0.11  27.03  26.93   \n",
       "17  117B  39.43936 -112.61637    0.19    0.27    0.08    0.08  26.90  25.57   \n",
       "18  119A  39.37638 -112.64129    0.25    0.14    0.10    0.16  24.27  21.40   \n",
       "19  119B  39.37606 -112.64129    0.21    0.15    0.10    0.33  24.43  22.73   \n",
       "\n",
       "    T0614  T0630  SA0513  SA0529  SA0614  SA0630     CROP  sampling point  \n",
       "0   23.77  28.97    0.60    0.09    0.00    0.05  alfalfa               1  \n",
       "1   24.90  29.10    0.59    0.07    0.02    0.05  alfalfa               2  \n",
       "2   25.87  28.50    1.01    0.36    0.40    0.01    grain               3  \n",
       "3   25.90  30.17    0.95    0.04    0.38    0.00    grain               4  \n",
       "4   28.20  29.27    0.00    0.50    2.23    3.73     corn               5  \n",
       "5   26.00  25.87    0.00    0.22    1.17    1.35     corn               6  \n",
       "6   26.83  28.20    0.77    0.77    0.32    0.33     corn               7  \n",
       "7   27.97  29.30    0.87    0.12    0.02    0.13    grain               8  \n",
       "8   26.40  29.60    0.00    0.63    0.02    0.00    grain               9  \n",
       "9   27.07  30.73    0.03    0.81    0.01    0.00    grain              10  \n",
       "10  22.80  21.20    0.03    0.59    0.05    0.86     corn              11  \n",
       "11  21.43  21.27    0.06    0.93    0.03    0.91  alfalfa              12  \n",
       "12  24.67  26.90    0.43    0.06    0.94    0.04  alfalfa              13  \n",
       "13  23.00  27.07    0.45    0.03    1.37    0.07  alfalfa              14  \n",
       "14  28.13  31.33    0.13    0.06    0.03    0.10  alfalfa              15  \n",
       "15  29.27  30.70    0.11    0.08    0.03    0.13  alfalfa              16  \n",
       "16  30.50  29.70    0.33    0.52    0.07    0.02  alfalfa              17  \n",
       "17  30.63  30.37    0.12    0.35    0.04    0.01  alfalfa              18  \n",
       "18  24.57  22.33    0.41    0.05    0.02    0.06  alfalfa              19  \n",
       "19  24.87  23.40    0.24    0.10    0.00    0.73  alfalfa              20  "
      ]
     },
     "execution_count": 2,
     "metadata": {},
     "output_type": "execute_result"
    }
   ],
   "source": [
    "# Load the Pandas libraries with alias 'pd' \n",
    "import pandas as pd \n",
    "# Read data from file 'filename.csv' \n",
    "# (in the same directory that your python process is based)\n",
    "data = pd.read_csv(\".//Ground_Information//Prj_Delta_2012_SoilMoisture_topsoil.csv\") \n",
    "# Preview the the loaded data \n",
    "data"
   ]
  },
  {
   "cell_type": "markdown",
   "metadata": {},
   "source": [
    "The explanation for the column names are as follow:\n",
    "\n",
    "- FIELD\t: custom name for the farm\n",
    "- LAT\tLONG\t: GPS coordinates\n",
    "- SM0513\tSM0529\tSM0614\tSM0630\t: soil moisture values in May 13, May 29, Jun 14, June 30.\n",
    "- T0513\tT0529\tT0614\tT0630\t: soil temperature in May 13, May 29, Jun 14, June 30.\n",
    "- SA0513\tSA0529\tSA0614\tSA0630\t: soil electrical conductivity in May 13, May 29, Jun 14, June 30.\n",
    "- CROP\t: vegetation present in the farm\n",
    "- sampling point:  custom sequential numeration."
   ]
  },
  {
   "cell_type": "markdown",
   "metadata": {},
   "source": [
    "# Let's display the Soil Moisture locations in a map"
   ]
  },
  {
   "cell_type": "code",
   "execution_count": 3,
   "metadata": {},
   "outputs": [
    {
     "data": {
      "application/vnd.jupyter.widget-view+json": {
       "model_id": "6002daa514704cbcb856c8cb7ca734fd",
       "version_major": 2,
       "version_minor": 0
      },
      "text/plain": [
       "Map(center=[40, -100], controls=(WidgetControl(options=['position', 'transparent_bg'], widget=HBox(children=(T…"
      ]
     },
     "metadata": {},
     "output_type": "display_data"
    }
   ],
   "source": [
    "#Creating a web based MAP\n",
    "import geemap\n",
    "Map = geemap.Map() \n",
    "# Map.add_basemap( \"Esri Satellite\")\n",
    "Map\n",
    "\n",
    "# to learn how to change basemaps, run the command below in a new cell\n",
    "# geemap.show_youtube('6J5ZCIUPXfI')\n"
   ]
  },
  {
   "cell_type": "code",
   "execution_count": 4,
   "metadata": {},
   "outputs": [
    {
     "name": "stderr",
     "output_type": "stream",
     "text": [
      "<ipython-input-4-ef7ae9af445c>:21: UserWarning: Column names longer than 10 characters will be truncated when saved to ESRI Shapefile.\n",
      "  gdf.to_file(filename)\n"
     ]
    },
    {
     "data": {
      "application/vnd.jupyter.widget-view+json": {
       "model_id": "6002daa514704cbcb856c8cb7ca734fd",
       "version_major": 2,
       "version_minor": 0
      },
      "text/plain": [
       "Map(bottom=1851.0, center=[39.4037160204789, -112.63575111241983], controls=(WidgetControl(options=['position'…"
      ]
     },
     "metadata": {},
     "output_type": "display_data"
    }
   ],
   "source": [
    "# plotting the points on the map.\n",
    "in_csv = \".//Ground_Information//Prj_Delta_2012_SoilMoisture_topsoil.csv\"\n",
    "\n",
    "import pandas\n",
    "import geopandas\n",
    "\n",
    "from io import StringIO\n",
    "\n",
    "gdf = geopandas.GeoDataFrame(pandas.read_csv(in_csv))\n",
    "gdf.set_geometry(\n",
    "    geopandas.points_from_xy(gdf['LONG'], gdf['LAT']),\n",
    "    inplace=True, crs='EPSG:4326') #EPSG:4326 is WGS84\n",
    "gdf.drop(['LAT', 'LONG'], axis=1, inplace=True)  # optional\n",
    "\n",
    "import os\n",
    "# defining directoty\n",
    "out_dir = os.path.join(os.path.expanduser('~'), 'git_repos/nsf_dsaw_application_1/Results Step 1/')\n",
    "# out_dir\n",
    "filename=os.path.join(out_dir,'soil_moisture.shp')\n",
    "\n",
    "gdf.to_file(filename)\n",
    "\n",
    "# points = geemap.xy_to_points(in_csv, latitude='LAT', longitude='LONG')\n",
    "in_shp = './/Results Step 1//soil_moisture.shp'\n",
    "\n",
    "sm_locations = geemap.shp_to_ee(in_shp)\n",
    "\n",
    "\n",
    "Map.addLayer(sm_locations, {'color': 'red'}, 'Soil Moisture')\n",
    "\n",
    "Map.centerObject(sm_locations, 12)\n",
    "\n",
    "Map"
   ]
  },
  {
   "cell_type": "markdown",
   "metadata": {},
   "source": [
    "You can use the zoom option to see in detail the soil moisture locations (for every location, currently are two locations)."
   ]
  },
  {
   "cell_type": "markdown",
   "metadata": {},
   "source": [
    "### Adquire Remote Sensing Data \n",
    "\n",
    "For the dates we have soil moisture data available, we know that Landsat 7 was passing over. So, to retrive satellite information, we need the following information:\n",
    "\n",
    "- Remote Sensing data : Landsat 7\n",
    "- Dates: '2012-05-13', '2012-05-29', '2012-06-14', '2012-06-30' (DOYs 136, 152, 168, 184)\n",
    "- Location: Delta, UT (39.375103,-112.633001) \n",
    "- Area of interest: [-112.810777, 39.495071, -112.503826,  39.230045] #two corners.\n",
    "\n",
    "We do not want to process the entire Landsat, but a section. In the text above, we defined two corners of a reactangular area that emcompases the agricutural land of Delta, UT. \n",
    "\n",
    "Let's include the area in the map."
   ]
  },
  {
   "cell_type": "code",
   "execution_count": 5,
   "metadata": {},
   "outputs": [
    {
     "data": {
      "application/vnd.jupyter.widget-view+json": {
       "model_id": "6002daa514704cbcb856c8cb7ca734fd",
       "version_major": 2,
       "version_minor": 0
      },
      "text/plain": [
       "Map(bottom=399526.0, center=[39.399978753927925, -112.63224349999895], controls=(WidgetControl(options=['posit…"
      ]
     },
     "metadata": {},
     "output_type": "display_data"
    }
   ],
   "source": [
    "import ee\n",
    "\n",
    "Delta_area = ee.Geometry.Rectangle([-112.658355,39.442565,-112.606132,39.357404])\n",
    "Map.addLayer(Delta_area, {}, name='Delta_area')\n",
    "Map.centerObject(Delta_area, 11)\n",
    "\n",
    "Map"
   ]
  },
  {
   "cell_type": "markdown",
   "metadata": {},
   "source": [
    "Let's display the Landsat images corrresponing to the dates. See details of landsat 7 metadata [here](https://developers.google.com/earth-engine/datasets/catalog/LANDSAT_LE07_C01_T1_SR#bands\n",
    ") "
   ]
  },
  {
   "cell_type": "code",
   "execution_count": 6,
   "metadata": {},
   "outputs": [],
   "source": [
    "# identifying landsat 7 image on the dates of interest\n",
    "\n",
    "import eemont\n",
    "\n",
    "landsat7 = ee.ImageCollection(\"LANDSAT/LE07/C01/T1_SR\").filterBounds(Delta_area) # Landsat 7 archive.\n",
    "landsat7 = landsat7.preprocess()"
   ]
  },
  {
   "cell_type": "markdown",
   "metadata": {},
   "source": [
    "A satellite image consists of \"bands\", images that capture specific waveleghts of light. Landsat 7 captures 7 bands called:\n",
    "\n",
    "B1 = blue\n",
    "B2 = green\n",
    "B3 = red\n",
    "B4 = infrared\n",
    "B5 = shortwave 1\n",
    "B6 = thermal\n",
    "B7 = shortwave 2\n",
    "\n",
    "by combining the bands in different ways (e.g. B3, B2, B1) re replicate what our eyes can see. and other combinations (B4, B3, B2) allows us to see certain surfaces, e,g. vegetation."
   ]
  },
  {
   "cell_type": "markdown",
   "metadata": {},
   "source": [
    "The bands are useful for visual assessment, but the best information is extracted from the bands using vegetation indices. See this link for a summarized explanantion of vegetation indices.https://eemont.readthedocs.io/en/0.1.7/guide/spectralIndices.html"
   ]
  },
  {
   "cell_type": "markdown",
   "metadata": {},
   "source": [
    "Let's calculate vegetation indices for all Landsat images"
   ]
  },
  {
   "cell_type": "code",
   "execution_count": 7,
   "metadata": {},
   "outputs": [
    {
     "name": "stderr",
     "output_type": "stream",
     "text": [
      "/opt/conda/lib/python3.8/site-packages/eemont/common.py:488: UserWarning: This platform doesn't have the required bands for BAIS2 computation!\n",
      "  warnings.warn(\n",
      "/opt/conda/lib/python3.8/site-packages/eemont/common.py:488: UserWarning: This platform doesn't have the required bands for BAIS2 computation!\n",
      "  warnings.warn(\n",
      "/opt/conda/lib/python3.8/site-packages/eemont/common.py:488: UserWarning: This platform doesn't have the required bands for BAIS2 computation!\n",
      "  warnings.warn(\n",
      "/opt/conda/lib/python3.8/site-packages/eemont/common.py:488: UserWarning: This platform doesn't have the required bands for CIRE computation!\n",
      "  warnings.warn(\n",
      "/opt/conda/lib/python3.8/site-packages/eemont/common.py:488: UserWarning: This platform doesn't have the required bands for CIRE computation!\n",
      "  warnings.warn(\n",
      "/opt/conda/lib/python3.8/site-packages/eemont/common.py:488: UserWarning: This platform doesn't have the required bands for CIRE computation!\n",
      "  warnings.warn(\n",
      "/opt/conda/lib/python3.8/site-packages/eemont/common.py:488: UserWarning: This platform doesn't have the required bands for MCARI computation!\n",
      "  warnings.warn(\n",
      "/opt/conda/lib/python3.8/site-packages/eemont/common.py:488: UserWarning: This platform doesn't have the required bands for MCARI computation!\n",
      "  warnings.warn(\n",
      "/opt/conda/lib/python3.8/site-packages/eemont/common.py:488: UserWarning: This platform doesn't have the required bands for MCARI computation!\n",
      "  warnings.warn(\n",
      "/opt/conda/lib/python3.8/site-packages/eemont/common.py:488: UserWarning: This platform doesn't have the required bands for MTCI computation!\n",
      "  warnings.warn(\n",
      "/opt/conda/lib/python3.8/site-packages/eemont/common.py:488: UserWarning: This platform doesn't have the required bands for MTCI computation!\n",
      "  warnings.warn(\n",
      "/opt/conda/lib/python3.8/site-packages/eemont/common.py:488: UserWarning: This platform doesn't have the required bands for MTCI computation!\n",
      "  warnings.warn(\n",
      "/opt/conda/lib/python3.8/site-packages/eemont/common.py:488: UserWarning: This platform doesn't have the required bands for NDREI computation!\n",
      "  warnings.warn(\n",
      "/opt/conda/lib/python3.8/site-packages/eemont/common.py:488: UserWarning: This platform doesn't have the required bands for NDREI computation!\n",
      "  warnings.warn(\n",
      "/opt/conda/lib/python3.8/site-packages/eemont/common.py:488: UserWarning: This platform doesn't have the required bands for NDREI computation!\n",
      "  warnings.warn(\n",
      "/opt/conda/lib/python3.8/site-packages/eemont/common.py:488: UserWarning: This platform doesn't have the required bands for SeLI computation!\n",
      "  warnings.warn(\n",
      "/opt/conda/lib/python3.8/site-packages/eemont/common.py:488: UserWarning: This platform doesn't have the required bands for SeLI computation!\n",
      "  warnings.warn(\n",
      "/opt/conda/lib/python3.8/site-packages/eemont/common.py:488: UserWarning: This platform doesn't have the required bands for SeLI computation!\n",
      "  warnings.warn(\n",
      "/opt/conda/lib/python3.8/site-packages/eemont/common.py:488: UserWarning: This platform doesn't have the required bands for TCARI computation!\n",
      "  warnings.warn(\n",
      "/opt/conda/lib/python3.8/site-packages/eemont/common.py:488: UserWarning: This platform doesn't have the required bands for TCARI computation!\n",
      "  warnings.warn(\n",
      "/opt/conda/lib/python3.8/site-packages/eemont/common.py:488: UserWarning: This platform doesn't have the required bands for TCARI computation!\n",
      "  warnings.warn(\n",
      "/opt/conda/lib/python3.8/site-packages/eemont/common.py:488: UserWarning: This platform doesn't have the required bands for TCI computation!\n",
      "  warnings.warn(\n",
      "/opt/conda/lib/python3.8/site-packages/eemont/common.py:488: UserWarning: This platform doesn't have the required bands for TCI computation!\n",
      "  warnings.warn(\n",
      "/opt/conda/lib/python3.8/site-packages/eemont/common.py:488: UserWarning: This platform doesn't have the required bands for TCI computation!\n",
      "  warnings.warn(\n"
     ]
    }
   ],
   "source": [
    "landsat7 = landsat7.index('all')"
   ]
  },
  {
   "cell_type": "code",
   "execution_count": 8,
   "metadata": {},
   "outputs": [],
   "source": [
    "# code for the first Landsat date\n",
    "landsat7_may_13 = ee.Image(landsat7. #the dataset\n",
    "                    filterDate('2012-05-12','2012-05-14'). # the date before and after\n",
    "                    first()) # the first image from the aplication of the two previous filters\n",
    "# code for the other three landsat dates\n",
    "landsat7_may_29 = ee.Image(landsat7.filterDate('2012-05-28','2012-05-30').first()) # all commands in one line.\n",
    "landsat7_jun_14 = ee.Image(landsat7.filterDate('2012-06-13','2012-06-15').first()) # all commands in one line.\n",
    "landsat7_jun_30 = ee.Image(landsat7.filterDate('2012-06-29','2012-07-01').first()) # all commands in one line."
   ]
  },
  {
   "cell_type": "code",
   "execution_count": 9,
   "metadata": {},
   "outputs": [
    {
     "data": {
      "application/vnd.jupyter.widget-view+json": {
       "model_id": "6002daa514704cbcb856c8cb7ca734fd",
       "version_major": 2,
       "version_minor": 0
      },
      "text/plain": [
       "Map(bottom=199920.0, center=[38.907101707274194, -112.39111104947412], controls=(WidgetControl(options=['posit…"
      ]
     },
     "metadata": {},
     "output_type": "display_data"
    }
   ],
   "source": [
    "#sending images to the map. Check the individual images clicking in the layer icon.\n",
    "Map.addLayer(landsat7_may_13, {'bands': ['B3', 'B2', 'B1'], 'min': 0, 'max': 0.3}, 'landsat7_may_13')\n",
    "Map.addLayer(landsat7_may_29, {'bands': ['B3', 'B2', 'B1'], 'min': 0, 'max': 0.3}, 'landsat7_may_29')\n",
    "Map.addLayer(landsat7_jun_14, {'bands': ['B3', 'B2', 'B1'], 'min': 0, 'max': 0.3}, 'landsat7_jun_14')\n",
    "Map.addLayer(landsat7_jun_30, {'bands': ['B3', 'B2', 'B1'], 'min': 0, 'max': 0.3}, 'landsat7_jun_30')\n",
    "\n",
    "Map.centerObject(landsat7_jun_30, 8)\n",
    "\n",
    "\n",
    "Map"
   ]
  },
  {
   "cell_type": "markdown",
   "metadata": {},
   "source": [
    "We can clearly see that each Landsat image shows different conditions in vegetation. This is good. We want our model to be able to describe a range of vegetation and soil conditions."
   ]
  },
  {
   "cell_type": "markdown",
   "metadata": {},
   "source": [
    "### Getting only the area of interest from Landsat images\n",
    "\n",
    "We are not interested in the entire Landsat 7 image, but on Delta's agricultural lands. So we will clip the Landsat images using the Delta_area polygon."
   ]
  },
  {
   "cell_type": "markdown",
   "metadata": {},
   "source": [
    "To know more about Landsat bands, check the pdf *SelectingAppropriateBandCombinations_Final.pdf* included in this repository."
   ]
  },
  {
   "cell_type": "markdown",
   "metadata": {},
   "source": [
    "Now let's get images for the dates, selecting only the bands of interest and clipping image to the AOI region. Let's verify the images are adequately clipped in the map."
   ]
  },
  {
   "cell_type": "code",
   "execution_count": 10,
   "metadata": {},
   "outputs": [
    {
     "data": {
      "application/vnd.jupyter.widget-view+json": {
       "model_id": "6002daa514704cbcb856c8cb7ca734fd",
       "version_major": 2,
       "version_minor": 0
      },
      "text/plain": [
       "Map(bottom=25368.0, center=[39.399978753927925, -112.63224349999895], controls=(WidgetControl(options=['positi…"
      ]
     },
     "metadata": {},
     "output_type": "display_data"
    }
   ],
   "source": [
    "landsat7_may_13 = landsat7_may_13.clip(Delta_area)\n",
    "landsat7_may_29 = landsat7_may_29.clip(Delta_area)\n",
    "landsat7_jun_14 = landsat7_jun_14.clip(Delta_area)\n",
    "landsat7_jun_30 = landsat7_jun_30.clip(Delta_area)\n",
    "\n",
    "#sending images to the map\n",
    "Map.addLayer(landsat7_may_13, {'bands': ['B4', 'B3', 'B2'], 'min': 0, 'max': 0.3}, 'landsat7_may_13_clipped')\n",
    "Map.addLayer(landsat7_may_29, {'bands': ['B4', 'B3', 'B2'], 'min': 0, 'max': 0.3}, 'landsat7_may_29_clipped')\n",
    "Map.addLayer(landsat7_jun_14, {'bands': ['B4', 'B3', 'B2'], 'min': 0, 'max': 0.3}, 'landsat7_jun_14_clipped')\n",
    "Map.addLayer(landsat7_jun_30, {'bands': ['B4', 'B3', 'B2'], 'min': 0, 'max': 0.3}, 'landsat7_jun_30_clipped')\n",
    "\n",
    "Map.centerObject(landsat7_jun_30, 11)\n",
    "\n",
    "Map"
   ]
  },
  {
   "cell_type": "markdown",
   "metadata": {},
   "source": [
    "We changed the order of the bands when displaying the clipped images. Do not worry the satellite information is still the same. Note: this change in bands is called \"false color\".\n",
    "\n",
    "### Exporting images to HydroShare JupyterHUB environment"
   ]
  },
  {
   "cell_type": "markdown",
   "metadata": {},
   "source": [
    "While we can use existing machine learning implementation in Google Earth Engine, we will use a local machine learning implementation from a Github repostory. So, we need to bring the clipped Landsat images into the local environment.\n",
    "\n",
    "We will store the clipped images in the folder \"Results Step 1\""
   ]
  },
  {
   "cell_type": "code",
   "execution_count": 11,
   "metadata": {},
   "outputs": [
    {
     "data": {
      "text/plain": [
       "'/home/jovyan/data/git_repos/nsf_dsaw_application_1/Results Step 1/'"
      ]
     },
     "execution_count": 11,
     "metadata": {},
     "output_type": "execute_result"
    }
   ],
   "source": [
    "import os\n",
    "# defining directory for storing results\n",
    "out_dir = os.path.join(os.path.expanduser('~'), 'git_repos/nsf_dsaw_application_1/Results Step 1/')\n",
    "out_dir"
   ]
  },
  {
   "cell_type": "code",
   "execution_count": 12,
   "metadata": {},
   "outputs": [
    {
     "name": "stdout",
     "output_type": "stream",
     "text": [
      "Generating URL ...\n",
      "Downloading data from https://earthengine.googleapis.com/v1alpha/projects/earthengine-legacy/thumbnails/1ec9507dbd8944f3b9ba52efe6f258f1-72d9b1ca893ae4db4b8d2e91cf6edc36:getPixels\n",
      "Please wait ...\n",
      "Data downloaded to /home/jovyan/data/git_repos/nsf_dsaw_application_1/Results Step 1/landsat7_may_13_clipped.tif\n",
      "Generating URL ...\n",
      "Downloading data from https://earthengine.googleapis.com/v1alpha/projects/earthengine-legacy/thumbnails/40b7b7632c22571e5466e7bf34d5363d-91b853685fdabaf37031d9ec12d50d09:getPixels\n",
      "Please wait ...\n",
      "Data downloaded to /home/jovyan/data/git_repos/nsf_dsaw_application_1/Results Step 1/landsat7_may_29_clipped.tif\n",
      "Generating URL ...\n",
      "Downloading data from https://earthengine.googleapis.com/v1alpha/projects/earthengine-legacy/thumbnails/6cb22f1fe731ebc9b7f38f27b94c281e-dbff582578a0e00565736d6713a456d8:getPixels\n",
      "Please wait ...\n",
      "Data downloaded to /home/jovyan/data/git_repos/nsf_dsaw_application_1/Results Step 1/landsat7_jun_14_clipped.tif\n",
      "Generating URL ...\n",
      "Downloading data from https://earthengine.googleapis.com/v1alpha/projects/earthengine-legacy/thumbnails/406545efc7e9e5e033b2dc7b8516de9c-a5ff423ccdd67a755e57f431bee448db:getPixels\n",
      "Please wait ...\n",
      "Data downloaded to /home/jovyan/data/git_repos/nsf_dsaw_application_1/Results Step 1/landsat7_jun_30_clipped.tif\n"
     ]
    }
   ],
   "source": [
    "filename=os.path.join(out_dir,'landsat7_may_13'+'_clipped.tif')\n",
    "geemap.ee_export_image(landsat7_may_13, filename=filename, scale=30, region=Delta_area, file_per_band=False)\n",
    "\n",
    "filename=os.path.join(out_dir,'landsat7_may_29'+'_clipped.tif')\n",
    "geemap.ee_export_image(landsat7_may_29, filename=filename, scale=30, region=Delta_area, file_per_band=False)\n",
    "\n",
    "filename=os.path.join(out_dir,'landsat7_jun_14'+'_clipped.tif')\n",
    "geemap.ee_export_image(landsat7_jun_14, filename=filename, scale=30, region=Delta_area, file_per_band=False)\n",
    "\n",
    "filename=os.path.join(out_dir,'landsat7_jun_30'+'_clipped.tif')\n",
    "geemap.ee_export_image(landsat7_jun_30, filename=filename, scale=30, region=Delta_area, file_per_band=False)"
   ]
  },
  {
   "cell_type": "markdown",
   "metadata": {},
   "source": [
    "### Extracting pixel information from Landsat images\n",
    "\n",
    "To train a machine learning, we need to get the pixel information for the soil moisture locations. Since we have the coordinates of the soil moisture locations and the respective Landsat images, we can query each image and extract the pixel information. Let's export the pixel values to HydroShare JupyterHUB environment"
   ]
  },
  {
   "cell_type": "code",
   "execution_count": 13,
   "metadata": {},
   "outputs": [
    {
     "name": "stdout",
     "output_type": "stream",
     "text": [
      "Generating URL ...\n",
      "Downloading data from https://earthengine.googleapis.com/v1alpha/projects/earthengine-legacy/tables/cbc88ba0303a3a981f481694895ac362-3e80079d4b9c9adae0673bc32236a894:getFeatures\n",
      "Please wait ...\n",
      "Data downloaded to /home/jovyan/data/git_repos/nsf_dsaw_application_1/Results Step 1/landsat7_may_13_sm_pixels.csv\n",
      "Generating URL ...\n",
      "Downloading data from https://earthengine.googleapis.com/v1alpha/projects/earthengine-legacy/tables/e095d99c5b7e9d0bcb893e494291d9e3-5315972fd0b2b457a633be5c8b8f324a:getFeatures\n",
      "Please wait ...\n",
      "Data downloaded to /home/jovyan/data/git_repos/nsf_dsaw_application_1/Results Step 1/landsat7_may_29_sm_pixels.csv\n",
      "Generating URL ...\n",
      "Downloading data from https://earthengine.googleapis.com/v1alpha/projects/earthengine-legacy/tables/abfef37b3b8ddedfa440024765efc326-5402253c56cf4187f6664a5c55d6fae2:getFeatures\n",
      "Please wait ...\n",
      "Data downloaded to /home/jovyan/data/git_repos/nsf_dsaw_application_1/Results Step 1/landsat7_jun_14_sm_pixels.csv\n",
      "Generating URL ...\n",
      "Downloading data from https://earthengine.googleapis.com/v1alpha/projects/earthengine-legacy/tables/62be50117be4e6062217185f975f41dc-c890634f637169fab5fba6e1fc798a82:getFeatures\n",
      "Please wait ...\n",
      "Data downloaded to /home/jovyan/data/git_repos/nsf_dsaw_application_1/Results Step 1/landsat7_jun_30_sm_pixels.csv\n"
     ]
    }
   ],
   "source": [
    "filename=os.path.join(out_dir,'landsat7_may_13_sm_pixels.csv')\n",
    "geemap.extract_values_to_points(sm_locations, landsat7_may_13, filename)\n",
    "\n",
    "filename=os.path.join(out_dir,'landsat7_may_29_sm_pixels.csv')\n",
    "geemap.extract_values_to_points(sm_locations, landsat7_may_29, filename)\n",
    "\n",
    "filename=os.path.join(out_dir,'landsat7_jun_14_sm_pixels.csv')\n",
    "geemap.extract_values_to_points(sm_locations, landsat7_jun_14, filename)\n",
    "\n",
    "filename=os.path.join(out_dir,'landsat7_jun_30_sm_pixels.csv')\n",
    "geemap.extract_values_to_points(sm_locations, landsat7_jun_30, filename)"
   ]
  },
  {
   "cell_type": "markdown",
   "metadata": {},
   "source": [
    "Let's move to [Step 2](./DSAW_Application_1_Step_2.ipynb)."
   ]
  },
  {
   "cell_type": "code",
   "execution_count": null,
   "metadata": {},
   "outputs": [],
   "source": []
  }
 ],
 "metadata": {
  "kernelspec": {
   "display_name": "Python 3",
   "language": "python",
   "name": "python3"
  },
  "language_info": {
   "codemirror_mode": {
    "name": "ipython",
    "version": 3
   },
   "file_extension": ".py",
   "mimetype": "text/x-python",
   "name": "python",
   "nbconvert_exporter": "python",
   "pygments_lexer": "ipython3",
   "version": "3.8.6"
  },
  "latex_envs": {
   "LaTeX_envs_menu_present": true,
   "autoclose": false,
   "autocomplete": true,
   "bibliofile": "biblio.bib",
   "cite_by": "apalike",
   "current_citInitial": 1,
   "eqLabelWithNumbers": true,
   "eqNumInitial": 1,
   "hotkeys": {
    "equation": "Ctrl-E",
    "itemize": "Ctrl-I"
   },
   "labels_anchors": false,
   "latex_user_defs": false,
   "report_style_numbering": false,
   "user_envs_cfg": false
  }
 },
 "nbformat": 4,
 "nbformat_minor": 4
}
