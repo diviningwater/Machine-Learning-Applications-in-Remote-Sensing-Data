{
 "cells": [
  {
   "cell_type": "markdown",
   "metadata": {},
   "source": [
    "### Application 1: Farm Scale Soil Moisture Estimation using Remote Sensing  \n",
    "\n",
    "NOTE: BEFORE RUNNING THIS NOTEBOOK, OPEN A TERMINAL AND RUN THE FOLLOWING COMMAND:"
   ]
  },
  {
   "cell_type": "raw",
   "metadata": {},
   "source": [
    "pip install -U geemap\n",
    "pip install eemont"
   ]
  },
  {
   "cell_type": "code",
   "execution_count": 1,
   "metadata": {},
   "outputs": [
    {
     "name": "stdout",
     "output_type": "stream",
     "text": [
      "Confirm changes: [Y/n] Preparing transaction: ...working... done\n",
      "Verifying transaction: ...working... done\n",
      "Executing transaction: ...working... done\n",
      "yes: standard output: Broken pipe\n"
     ]
    }
   ],
   "source": [
    "!yes | mamba install eemont -q"
   ]
  },
  {
   "cell_type": "markdown",
   "metadata": {},
   "source": [
    "### Background: \n",
    "\n",
    "Remote Sensing is a very valuable source of information to understand current conditions and changes in Earth, Atmosphere and Subsurface. These conditions and changes are related to natural factors e.g. solar radiation and rainfall, amount and type of vegetation on top, urban development, among others. For hydrology and water balance components, efforts to estimate precipitation, evapotranspiration, and groundwater have been sucessful (and continue to improve). Still, estimation of at small scales of certain variables (100 m or less) is still challenging. \n",
    "\n",
    "A remote sensing source (satellite) what regularly provides information at 30m scale is Landsat https://landsat.gsfc.nasa.gov/about. This satellite has been the longest remote sensing source (~20 years) for continental locations and will continue to provide with future satellite \"missions\".\n",
    "\n",
    "In this step, you will access Landsat information for a study site in Utah as shown in the figure below:"
   ]
  },
  {
   "cell_type": "markdown",
   "metadata": {},
   "source": [
    "![area_of_stud](area_of_study.jpg)"
   ]
  },
  {
   "cell_type": "markdown",
   "metadata": {},
   "source": [
    "The figure on the left is showing the Area of Study, which are agricultural lands nearby a Utah town called Delta. This agricultural land is part of the Lower Sevier River Basin (by the end of the basin). The figure on the right shows a Landsat image (called false color due to its red hue for vegetation), and locations where soil moisture information was collected in four specific dates in 2012.\n",
    "\n",
    "So, these are the dates we have available soil moisture information:\n",
    "\n",
    "- May 13\n",
    "- May 29\n",
    "- Jun 14\n",
    "- Jun 30\n",
    "\n",
    "The information collected, crop type, and GPS coordinates are sumarized in the csv file */Ground_Information/Prj_Delta_2012_SoilMoisture_topsoil.csv.* We can visualize the file below:"
   ]
  },
  {
   "cell_type": "code",
   "execution_count": 2,
   "metadata": {},
   "outputs": [
    {
     "data": {
      "text/html": [
       "<div>\n",
       "<style scoped>\n",
       "    .dataframe tbody tr th:only-of-type {\n",
       "        vertical-align: middle;\n",
       "    }\n",
       "\n",
       "    .dataframe tbody tr th {\n",
       "        vertical-align: top;\n",
       "    }\n",
       "\n",
       "    .dataframe thead th {\n",
       "        text-align: right;\n",
       "    }\n",
       "</style>\n",
       "<table border=\"1\" class=\"dataframe\">\n",
       "  <thead>\n",
       "    <tr style=\"text-align: right;\">\n",
       "      <th></th>\n",
       "      <th>FIELD</th>\n",
       "      <th>LAT</th>\n",
       "      <th>LONG</th>\n",
       "      <th>SM0513</th>\n",
       "      <th>SM0529</th>\n",
       "      <th>SM0614</th>\n",
       "      <th>SM0630</th>\n",
       "      <th>T0513</th>\n",
       "      <th>T0529</th>\n",
       "      <th>T0614</th>\n",
       "      <th>T0630</th>\n",
       "      <th>SA0513</th>\n",
       "      <th>SA0529</th>\n",
       "      <th>SA0614</th>\n",
       "      <th>SA0630</th>\n",
       "      <th>CROP</th>\n",
       "      <th>sampling point</th>\n",
       "    </tr>\n",
       "  </thead>\n",
       "  <tbody>\n",
       "    <tr>\n",
       "      <th>0</th>\n",
       "      <td>101A</td>\n",
       "      <td>39.38476</td>\n",
       "      <td>-112.65024</td>\n",
       "      <td>0.39</td>\n",
       "      <td>0.14</td>\n",
       "      <td>0.10</td>\n",
       "      <td>0.13</td>\n",
       "      <td>24.93</td>\n",
       "      <td>25.80</td>\n",
       "      <td>23.77</td>\n",
       "      <td>28.97</td>\n",
       "      <td>0.60</td>\n",
       "      <td>0.09</td>\n",
       "      <td>0.00</td>\n",
       "      <td>0.05</td>\n",
       "      <td>alfalfa</td>\n",
       "      <td>1</td>\n",
       "    </tr>\n",
       "    <tr>\n",
       "      <th>1</th>\n",
       "      <td>101B</td>\n",
       "      <td>39.38447</td>\n",
       "      <td>-112.65022</td>\n",
       "      <td>0.32</td>\n",
       "      <td>0.15</td>\n",
       "      <td>0.11</td>\n",
       "      <td>0.13</td>\n",
       "      <td>25.20</td>\n",
       "      <td>25.23</td>\n",
       "      <td>24.90</td>\n",
       "      <td>29.10</td>\n",
       "      <td>0.59</td>\n",
       "      <td>0.07</td>\n",
       "      <td>0.02</td>\n",
       "      <td>0.05</td>\n",
       "      <td>alfalfa</td>\n",
       "      <td>2</td>\n",
       "    </tr>\n",
       "    <tr>\n",
       "      <th>2</th>\n",
       "      <td>104A</td>\n",
       "      <td>39.39835</td>\n",
       "      <td>-112.64149</td>\n",
       "      <td>0.50</td>\n",
       "      <td>0.54</td>\n",
       "      <td>0.29</td>\n",
       "      <td>0.08</td>\n",
       "      <td>25.37</td>\n",
       "      <td>24.03</td>\n",
       "      <td>25.87</td>\n",
       "      <td>28.50</td>\n",
       "      <td>1.01</td>\n",
       "      <td>0.36</td>\n",
       "      <td>0.40</td>\n",
       "      <td>0.01</td>\n",
       "      <td>grain</td>\n",
       "      <td>3</td>\n",
       "    </tr>\n",
       "    <tr>\n",
       "      <th>3</th>\n",
       "      <td>104B</td>\n",
       "      <td>39.39805</td>\n",
       "      <td>-112.64149</td>\n",
       "      <td>0.47</td>\n",
       "      <td>0.12</td>\n",
       "      <td>0.26</td>\n",
       "      <td>0.10</td>\n",
       "      <td>23.07</td>\n",
       "      <td>24.30</td>\n",
       "      <td>25.90</td>\n",
       "      <td>30.17</td>\n",
       "      <td>0.95</td>\n",
       "      <td>0.04</td>\n",
       "      <td>0.38</td>\n",
       "      <td>0.00</td>\n",
       "      <td>grain</td>\n",
       "      <td>4</td>\n",
       "    </tr>\n",
       "    <tr>\n",
       "      <th>4</th>\n",
       "      <td>105A</td>\n",
       "      <td>39.41692</td>\n",
       "      <td>-112.62920</td>\n",
       "      <td>0.07</td>\n",
       "      <td>0.24</td>\n",
       "      <td>0.56</td>\n",
       "      <td>0.65</td>\n",
       "      <td>26.10</td>\n",
       "      <td>25.60</td>\n",
       "      <td>28.20</td>\n",
       "      <td>29.27</td>\n",
       "      <td>0.00</td>\n",
       "      <td>0.50</td>\n",
       "      <td>2.23</td>\n",
       "      <td>3.73</td>\n",
       "      <td>corn</td>\n",
       "      <td>5</td>\n",
       "    </tr>\n",
       "    <tr>\n",
       "      <th>5</th>\n",
       "      <td>105B</td>\n",
       "      <td>39.41664</td>\n",
       "      <td>-112.62922</td>\n",
       "      <td>0.07</td>\n",
       "      <td>0.22</td>\n",
       "      <td>0.46</td>\n",
       "      <td>0.52</td>\n",
       "      <td>27.53</td>\n",
       "      <td>26.03</td>\n",
       "      <td>26.00</td>\n",
       "      <td>25.87</td>\n",
       "      <td>0.00</td>\n",
       "      <td>0.22</td>\n",
       "      <td>1.17</td>\n",
       "      <td>1.35</td>\n",
       "      <td>corn</td>\n",
       "      <td>6</td>\n",
       "    </tr>\n",
       "    <tr>\n",
       "      <th>6</th>\n",
       "      <td>107A</td>\n",
       "      <td>39.42558</td>\n",
       "      <td>-112.65076</td>\n",
       "      <td>0.44</td>\n",
       "      <td>0.36</td>\n",
       "      <td>0.12</td>\n",
       "      <td>0.23</td>\n",
       "      <td>29.10</td>\n",
       "      <td>25.10</td>\n",
       "      <td>26.83</td>\n",
       "      <td>28.20</td>\n",
       "      <td>0.77</td>\n",
       "      <td>0.77</td>\n",
       "      <td>0.32</td>\n",
       "      <td>0.33</td>\n",
       "      <td>corn</td>\n",
       "      <td>7</td>\n",
       "    </tr>\n",
       "    <tr>\n",
       "      <th>7</th>\n",
       "      <td>107B</td>\n",
       "      <td>39.42521</td>\n",
       "      <td>-112.65077</td>\n",
       "      <td>0.54</td>\n",
       "      <td>0.15</td>\n",
       "      <td>0.12</td>\n",
       "      <td>0.18</td>\n",
       "      <td>28.83</td>\n",
       "      <td>25.90</td>\n",
       "      <td>27.97</td>\n",
       "      <td>29.30</td>\n",
       "      <td>0.87</td>\n",
       "      <td>0.12</td>\n",
       "      <td>0.02</td>\n",
       "      <td>0.13</td>\n",
       "      <td>grain</td>\n",
       "      <td>8</td>\n",
       "    </tr>\n",
       "    <tr>\n",
       "      <th>8</th>\n",
       "      <td>108A</td>\n",
       "      <td>39.43149</td>\n",
       "      <td>-112.62613</td>\n",
       "      <td>0.09</td>\n",
       "      <td>0.36</td>\n",
       "      <td>0.09</td>\n",
       "      <td>0.10</td>\n",
       "      <td>27.67</td>\n",
       "      <td>26.10</td>\n",
       "      <td>26.40</td>\n",
       "      <td>29.60</td>\n",
       "      <td>0.00</td>\n",
       "      <td>0.63</td>\n",
       "      <td>0.02</td>\n",
       "      <td>0.00</td>\n",
       "      <td>grain</td>\n",
       "      <td>9</td>\n",
       "    </tr>\n",
       "    <tr>\n",
       "      <th>9</th>\n",
       "      <td>108B</td>\n",
       "      <td>39.43152</td>\n",
       "      <td>-112.62648</td>\n",
       "      <td>0.07</td>\n",
       "      <td>0.42</td>\n",
       "      <td>0.08</td>\n",
       "      <td>0.08</td>\n",
       "      <td>27.00</td>\n",
       "      <td>25.33</td>\n",
       "      <td>27.07</td>\n",
       "      <td>30.73</td>\n",
       "      <td>0.03</td>\n",
       "      <td>0.81</td>\n",
       "      <td>0.01</td>\n",
       "      <td>0.00</td>\n",
       "      <td>grain</td>\n",
       "      <td>10</td>\n",
       "    </tr>\n",
       "    <tr>\n",
       "      <th>10</th>\n",
       "      <td>110A</td>\n",
       "      <td>39.36116</td>\n",
       "      <td>-112.63804</td>\n",
       "      <td>0.10</td>\n",
       "      <td>0.35</td>\n",
       "      <td>0.13</td>\n",
       "      <td>0.44</td>\n",
       "      <td>23.80</td>\n",
       "      <td>16.83</td>\n",
       "      <td>22.80</td>\n",
       "      <td>21.20</td>\n",
       "      <td>0.03</td>\n",
       "      <td>0.59</td>\n",
       "      <td>0.05</td>\n",
       "      <td>0.86</td>\n",
       "      <td>corn</td>\n",
       "      <td>11</td>\n",
       "    </tr>\n",
       "    <tr>\n",
       "      <th>11</th>\n",
       "      <td>110B</td>\n",
       "      <td>39.36113</td>\n",
       "      <td>-112.63842</td>\n",
       "      <td>0.13</td>\n",
       "      <td>0.43</td>\n",
       "      <td>0.12</td>\n",
       "      <td>0.47</td>\n",
       "      <td>24.53</td>\n",
       "      <td>16.57</td>\n",
       "      <td>21.43</td>\n",
       "      <td>21.27</td>\n",
       "      <td>0.06</td>\n",
       "      <td>0.93</td>\n",
       "      <td>0.03</td>\n",
       "      <td>0.91</td>\n",
       "      <td>alfalfa</td>\n",
       "      <td>12</td>\n",
       "    </tr>\n",
       "    <tr>\n",
       "      <th>12</th>\n",
       "      <td>111A</td>\n",
       "      <td>39.37198</td>\n",
       "      <td>-112.64099</td>\n",
       "      <td>0.26</td>\n",
       "      <td>0.15</td>\n",
       "      <td>0.50</td>\n",
       "      <td>0.13</td>\n",
       "      <td>25.23</td>\n",
       "      <td>25.07</td>\n",
       "      <td>24.67</td>\n",
       "      <td>26.90</td>\n",
       "      <td>0.43</td>\n",
       "      <td>0.06</td>\n",
       "      <td>0.94</td>\n",
       "      <td>0.04</td>\n",
       "      <td>alfalfa</td>\n",
       "      <td>13</td>\n",
       "    </tr>\n",
       "    <tr>\n",
       "      <th>13</th>\n",
       "      <td>111B</td>\n",
       "      <td>39.37169</td>\n",
       "      <td>-112.64102</td>\n",
       "      <td>0.26</td>\n",
       "      <td>0.15</td>\n",
       "      <td>0.54</td>\n",
       "      <td>0.14</td>\n",
       "      <td>24.93</td>\n",
       "      <td>25.23</td>\n",
       "      <td>23.00</td>\n",
       "      <td>27.07</td>\n",
       "      <td>0.45</td>\n",
       "      <td>0.03</td>\n",
       "      <td>1.37</td>\n",
       "      <td>0.07</td>\n",
       "      <td>alfalfa</td>\n",
       "      <td>14</td>\n",
       "    </tr>\n",
       "    <tr>\n",
       "      <th>14</th>\n",
       "      <td>113A</td>\n",
       "      <td>39.43207</td>\n",
       "      <td>-112.62260</td>\n",
       "      <td>0.07</td>\n",
       "      <td>0.14</td>\n",
       "      <td>0.06</td>\n",
       "      <td>0.17</td>\n",
       "      <td>27.10</td>\n",
       "      <td>24.93</td>\n",
       "      <td>28.13</td>\n",
       "      <td>31.33</td>\n",
       "      <td>0.13</td>\n",
       "      <td>0.06</td>\n",
       "      <td>0.03</td>\n",
       "      <td>0.10</td>\n",
       "      <td>alfalfa</td>\n",
       "      <td>15</td>\n",
       "    </tr>\n",
       "    <tr>\n",
       "      <th>15</th>\n",
       "      <td>113B</td>\n",
       "      <td>39.43212</td>\n",
       "      <td>-112.62296</td>\n",
       "      <td>0.10</td>\n",
       "      <td>0.17</td>\n",
       "      <td>0.06</td>\n",
       "      <td>0.17</td>\n",
       "      <td>26.93</td>\n",
       "      <td>24.80</td>\n",
       "      <td>29.27</td>\n",
       "      <td>30.70</td>\n",
       "      <td>0.11</td>\n",
       "      <td>0.08</td>\n",
       "      <td>0.03</td>\n",
       "      <td>0.13</td>\n",
       "      <td>alfalfa</td>\n",
       "      <td>16</td>\n",
       "    </tr>\n",
       "    <tr>\n",
       "      <th>16</th>\n",
       "      <td>117A</td>\n",
       "      <td>39.43937</td>\n",
       "      <td>-112.61599</td>\n",
       "      <td>0.27</td>\n",
       "      <td>0.37</td>\n",
       "      <td>0.13</td>\n",
       "      <td>0.11</td>\n",
       "      <td>27.03</td>\n",
       "      <td>26.93</td>\n",
       "      <td>30.50</td>\n",
       "      <td>29.70</td>\n",
       "      <td>0.33</td>\n",
       "      <td>0.52</td>\n",
       "      <td>0.07</td>\n",
       "      <td>0.02</td>\n",
       "      <td>alfalfa</td>\n",
       "      <td>17</td>\n",
       "    </tr>\n",
       "    <tr>\n",
       "      <th>17</th>\n",
       "      <td>117B</td>\n",
       "      <td>39.43936</td>\n",
       "      <td>-112.61637</td>\n",
       "      <td>0.19</td>\n",
       "      <td>0.27</td>\n",
       "      <td>0.08</td>\n",
       "      <td>0.08</td>\n",
       "      <td>26.90</td>\n",
       "      <td>25.57</td>\n",
       "      <td>30.63</td>\n",
       "      <td>30.37</td>\n",
       "      <td>0.12</td>\n",
       "      <td>0.35</td>\n",
       "      <td>0.04</td>\n",
       "      <td>0.01</td>\n",
       "      <td>alfalfa</td>\n",
       "      <td>18</td>\n",
       "    </tr>\n",
       "    <tr>\n",
       "      <th>18</th>\n",
       "      <td>119A</td>\n",
       "      <td>39.37638</td>\n",
       "      <td>-112.64129</td>\n",
       "      <td>0.25</td>\n",
       "      <td>0.14</td>\n",
       "      <td>0.10</td>\n",
       "      <td>0.16</td>\n",
       "      <td>24.27</td>\n",
       "      <td>21.40</td>\n",
       "      <td>24.57</td>\n",
       "      <td>22.33</td>\n",
       "      <td>0.41</td>\n",
       "      <td>0.05</td>\n",
       "      <td>0.02</td>\n",
       "      <td>0.06</td>\n",
       "      <td>alfalfa</td>\n",
       "      <td>19</td>\n",
       "    </tr>\n",
       "    <tr>\n",
       "      <th>19</th>\n",
       "      <td>119B</td>\n",
       "      <td>39.37606</td>\n",
       "      <td>-112.64129</td>\n",
       "      <td>0.21</td>\n",
       "      <td>0.15</td>\n",
       "      <td>0.10</td>\n",
       "      <td>0.33</td>\n",
       "      <td>24.43</td>\n",
       "      <td>22.73</td>\n",
       "      <td>24.87</td>\n",
       "      <td>23.40</td>\n",
       "      <td>0.24</td>\n",
       "      <td>0.10</td>\n",
       "      <td>0.00</td>\n",
       "      <td>0.73</td>\n",
       "      <td>alfalfa</td>\n",
       "      <td>20</td>\n",
       "    </tr>\n",
       "  </tbody>\n",
       "</table>\n",
       "</div>"
      ],
      "text/plain": [
       "   FIELD       LAT       LONG  SM0513  SM0529  SM0614  SM0630  T0513  T0529  \\\n",
       "0   101A  39.38476 -112.65024    0.39    0.14    0.10    0.13  24.93  25.80   \n",
       "1   101B  39.38447 -112.65022    0.32    0.15    0.11    0.13  25.20  25.23   \n",
       "2   104A  39.39835 -112.64149    0.50    0.54    0.29    0.08  25.37  24.03   \n",
       "3   104B  39.39805 -112.64149    0.47    0.12    0.26    0.10  23.07  24.30   \n",
       "4   105A  39.41692 -112.62920    0.07    0.24    0.56    0.65  26.10  25.60   \n",
       "5   105B  39.41664 -112.62922    0.07    0.22    0.46    0.52  27.53  26.03   \n",
       "6   107A  39.42558 -112.65076    0.44    0.36    0.12    0.23  29.10  25.10   \n",
       "7   107B  39.42521 -112.65077    0.54    0.15    0.12    0.18  28.83  25.90   \n",
       "8   108A  39.43149 -112.62613    0.09    0.36    0.09    0.10  27.67  26.10   \n",
       "9   108B  39.43152 -112.62648    0.07    0.42    0.08    0.08  27.00  25.33   \n",
       "10  110A  39.36116 -112.63804    0.10    0.35    0.13    0.44  23.80  16.83   \n",
       "11  110B  39.36113 -112.63842    0.13    0.43    0.12    0.47  24.53  16.57   \n",
       "12  111A  39.37198 -112.64099    0.26    0.15    0.50    0.13  25.23  25.07   \n",
       "13  111B  39.37169 -112.64102    0.26    0.15    0.54    0.14  24.93  25.23   \n",
       "14  113A  39.43207 -112.62260    0.07    0.14    0.06    0.17  27.10  24.93   \n",
       "15  113B  39.43212 -112.62296    0.10    0.17    0.06    0.17  26.93  24.80   \n",
       "16  117A  39.43937 -112.61599    0.27    0.37    0.13    0.11  27.03  26.93   \n",
       "17  117B  39.43936 -112.61637    0.19    0.27    0.08    0.08  26.90  25.57   \n",
       "18  119A  39.37638 -112.64129    0.25    0.14    0.10    0.16  24.27  21.40   \n",
       "19  119B  39.37606 -112.64129    0.21    0.15    0.10    0.33  24.43  22.73   \n",
       "\n",
       "    T0614  T0630  SA0513  SA0529  SA0614  SA0630     CROP  sampling point  \n",
       "0   23.77  28.97    0.60    0.09    0.00    0.05  alfalfa               1  \n",
       "1   24.90  29.10    0.59    0.07    0.02    0.05  alfalfa               2  \n",
       "2   25.87  28.50    1.01    0.36    0.40    0.01    grain               3  \n",
       "3   25.90  30.17    0.95    0.04    0.38    0.00    grain               4  \n",
       "4   28.20  29.27    0.00    0.50    2.23    3.73     corn               5  \n",
       "5   26.00  25.87    0.00    0.22    1.17    1.35     corn               6  \n",
       "6   26.83  28.20    0.77    0.77    0.32    0.33     corn               7  \n",
       "7   27.97  29.30    0.87    0.12    0.02    0.13    grain               8  \n",
       "8   26.40  29.60    0.00    0.63    0.02    0.00    grain               9  \n",
       "9   27.07  30.73    0.03    0.81    0.01    0.00    grain              10  \n",
       "10  22.80  21.20    0.03    0.59    0.05    0.86     corn              11  \n",
       "11  21.43  21.27    0.06    0.93    0.03    0.91  alfalfa              12  \n",
       "12  24.67  26.90    0.43    0.06    0.94    0.04  alfalfa              13  \n",
       "13  23.00  27.07    0.45    0.03    1.37    0.07  alfalfa              14  \n",
       "14  28.13  31.33    0.13    0.06    0.03    0.10  alfalfa              15  \n",
       "15  29.27  30.70    0.11    0.08    0.03    0.13  alfalfa              16  \n",
       "16  30.50  29.70    0.33    0.52    0.07    0.02  alfalfa              17  \n",
       "17  30.63  30.37    0.12    0.35    0.04    0.01  alfalfa              18  \n",
       "18  24.57  22.33    0.41    0.05    0.02    0.06  alfalfa              19  \n",
       "19  24.87  23.40    0.24    0.10    0.00    0.73  alfalfa              20  "
      ]
     },
     "execution_count": 2,
     "metadata": {},
     "output_type": "execute_result"
    }
   ],
   "source": [
    "# Load the Pandas libraries with alias 'pd' \n",
    "import pandas as pd \n",
    "# Read data from file 'filename.csv' \n",
    "# (in the same directory that your python process is based)\n",
    "data = pd.read_csv(\".//Ground_Information//Prj_Delta_2012_SoilMoisture_topsoil.csv\") \n",
    "# Preview the the loaded data \n",
    "data"
   ]
  },
  {
   "cell_type": "markdown",
   "metadata": {},
   "source": [
    "The explanation for the column names are as follow:\n",
    "\n",
    "- FIELD\t: custom name for the farm\n",
    "- LAT\tLONG\t: GPS coordinates\n",
    "- SM0513\tSM0529\tSM0614\tSM0630\t: soil moisture values in May 13, May 29, Jun 14, June 30.\n",
    "- T0513\tT0529\tT0614\tT0630\t: soil temperature in May 13, May 29, Jun 14, June 30.\n",
    "- SA0513\tSA0529\tSA0614\tSA0630\t: soil electrical conductivity in May 13, May 29, Jun 14, June 30.\n",
    "- CROP\t: vegetation present in the farm\n",
    "- sampling point:  custom sequential numeration."
   ]
  },
  {
   "cell_type": "markdown",
   "metadata": {},
   "source": [
    "# Let's display the Soil Moisture locations in a map"
   ]
  },
  {
   "cell_type": "code",
   "execution_count": 3,
   "metadata": {},
   "outputs": [
    {
     "data": {
      "application/vnd.jupyter.widget-view+json": {
       "model_id": "2fd6dd9e36e148809a16c92b1f981a81",
       "version_major": 2,
       "version_minor": 0
      },
      "text/plain": [
       "Map(center=[0, 0], controls=(WidgetControl(options=['position', 'transparent_bg'], widget=SearchDataGUI(childr…"
      ]
     },
     "execution_count": 3,
     "metadata": {},
     "output_type": "execute_result"
    }
   ],
   "source": [
    "#Creating a web based MAP\n",
    "import geemap\n",
    "Map = geemap.Map() \n",
    "# Map.add_basemap( \"Esri Satellite\")\n",
    "Map\n",
    "\n",
    "# to learn how to change basemaps, run the command below in a new cell\n",
    "# geemap.show_youtube('6J5ZCIUPXfI')\n"
   ]
  },
  {
   "cell_type": "code",
   "execution_count": 4,
   "metadata": {},
   "outputs": [
    {
     "data": {
      "text/html": [
       "\n",
       "            <style>\n",
       "                .geemap-dark {\n",
       "                    --jp-widgets-color: white;\n",
       "                    --jp-widgets-label-color: white;\n",
       "                    --jp-ui-font-color1: white;\n",
       "                    --jp-layout-color2: #454545;\n",
       "                    background-color: #383838;\n",
       "                }\n",
       "\n",
       "                .geemap-dark .jupyter-button {\n",
       "                    --jp-layout-color3: #383838;\n",
       "                }\n",
       "\n",
       "                .geemap-colab {\n",
       "                    background-color: var(--colab-primary-surface-color, white);\n",
       "                }\n",
       "\n",
       "                .geemap-colab .jupyter-button {\n",
       "                    --jp-layout-color3: var(--colab-primary-surface-color, white);\n",
       "                }\n",
       "            </style>\n",
       "            "
      ],
      "text/plain": [
       "<IPython.core.display.HTML object>"
      ]
     },
     "metadata": {},
     "output_type": "display_data"
    },
    {
     "data": {
      "application/vnd.jupyter.widget-view+json": {
       "model_id": "c629098ea7ed41538b005174b9624299",
       "version_major": 2,
       "version_minor": 0
      },
      "text/plain": [
       "Map(center=[39.4037160204789, -112.63575111241983], controls=(WidgetControl(options=['position', 'transparent_…"
      ]
     },
     "execution_count": 4,
     "metadata": {},
     "output_type": "execute_result"
    }
   ],
   "source": [
    "# plotting the points on the map.\n",
    "in_csv = \".//Ground_Information//Prj_Delta_2012_SoilMoisture_topsoil.csv\"\n",
    "\n",
    "import pandas\n",
    "import geopandas\n",
    "\n",
    "# from io import StringIO\n",
    "\n",
    "# gdf = geopandas.GeoDataFrame(pandas.read_csv(in_csv))\n",
    "# gdf.set_geometry(\n",
    "#     geopandas.points_from_xy(gdf['LONG'], gdf['LAT']),\n",
    "#     inplace=True, crs='EPSG:4326') #EPSG:4326 is WGS84\n",
    "# gdf.drop(['LAT', 'LONG'], axis=1, inplace=True)  # optional\n",
    "\n",
    "\n",
    "# points = geemap.xy_to_points(in_csv, latitude='LAT', longitude='LONG')\n",
    "in_shp = './/Results Step 1//soil_moisture.shp'\n",
    "\n",
    "sm_locations = geemap.shp_to_ee(in_shp)\n",
    "\n",
    "Map1 = geemap.Map() \n",
    "Map1.addLayer(sm_locations, {'color': 'red'}, 'Soil Moisture')\n",
    "\n",
    "Map1.centerObject(sm_locations, 12)\n",
    "\n",
    "Map1"
   ]
  },
  {
   "cell_type": "markdown",
   "metadata": {},
   "source": [
    "You can use the zoom option to see in detail the soil moisture locations (for every location, currently are two locations)."
   ]
  },
  {
   "cell_type": "markdown",
   "metadata": {},
   "source": [
    "### Adquire Remote Sensing Data \n",
    "\n",
    "For the dates we have soil moisture data available, we know that Landsat 7 was passing over. So, to retrive satellite information, we need the following information:\n",
    "\n",
    "- Remote Sensing data : Landsat 7\n",
    "- Dates: '2012-05-13', '2012-05-29', '2012-06-14', '2012-06-30' (DOYs 136, 152, 168, 184)\n",
    "- Location: Delta, UT (39.375103,-112.633001) \n",
    "- Area of interest: [-112.810777, 39.495071, -112.503826,  39.230045] #two corners.\n",
    "\n",
    "We do not want to process the entire Landsat, but a section. In the text above, we defined two corners of a reactangular area that emcompases the agricutural land of Delta, UT. \n",
    "\n",
    "Let's include the area in the map."
   ]
  },
  {
   "cell_type": "code",
   "execution_count": 5,
   "metadata": {},
   "outputs": [
    {
     "data": {
      "text/html": [
       "\n",
       "            <style>\n",
       "                .geemap-dark {\n",
       "                    --jp-widgets-color: white;\n",
       "                    --jp-widgets-label-color: white;\n",
       "                    --jp-ui-font-color1: white;\n",
       "                    --jp-layout-color2: #454545;\n",
       "                    background-color: #383838;\n",
       "                }\n",
       "\n",
       "                .geemap-dark .jupyter-button {\n",
       "                    --jp-layout-color3: #383838;\n",
       "                }\n",
       "\n",
       "                .geemap-colab {\n",
       "                    background-color: var(--colab-primary-surface-color, white);\n",
       "                }\n",
       "\n",
       "                .geemap-colab .jupyter-button {\n",
       "                    --jp-layout-color3: var(--colab-primary-surface-color, white);\n",
       "                }\n",
       "            </style>\n",
       "            "
      ],
      "text/plain": [
       "<IPython.core.display.HTML object>"
      ]
     },
     "metadata": {},
     "output_type": "display_data"
    },
    {
     "data": {
      "application/vnd.jupyter.widget-view+json": {
       "model_id": "a779efec63844875877e6c86fdc9ce61",
       "version_major": 2,
       "version_minor": 0
      },
      "text/plain": [
       "Map(center=[39.399978753927925, -112.63224349999895], controls=(WidgetControl(options=['position', 'transparen…"
      ]
     },
     "execution_count": 5,
     "metadata": {},
     "output_type": "execute_result"
    }
   ],
   "source": [
    "import ee\n",
    "\n",
    "Delta_area = ee.Geometry.Rectangle([-112.658355,39.442565,-112.606132,39.357404])\n",
    "Map2 = geemap.Map() \n",
    "Map2.addLayer(Delta_area, {}, name='Delta_area')\n",
    "Map2.centerObject(Delta_area, 11)\n",
    "\n",
    "Map2"
   ]
  },
  {
   "cell_type": "markdown",
   "metadata": {},
   "source": [
    "Let's display the Landsat images corrresponing to the dates. See details of landsat 7 metadata [here](https://developers.google.com/earth-engine/datasets/catalog/LANDSAT_LE07_C01_T1_SR#bands\n",
    ") "
   ]
  },
  {
   "cell_type": "code",
   "execution_count": 6,
   "metadata": {},
   "outputs": [
    {
     "data": {
      "text/html": [
       "\n",
       "            <style>\n",
       "                .geemap-dark {\n",
       "                    --jp-widgets-color: white;\n",
       "                    --jp-widgets-label-color: white;\n",
       "                    --jp-ui-font-color1: white;\n",
       "                    --jp-layout-color2: #454545;\n",
       "                    background-color: #383838;\n",
       "                }\n",
       "\n",
       "                .geemap-dark .jupyter-button {\n",
       "                    --jp-layout-color3: #383838;\n",
       "                }\n",
       "\n",
       "                .geemap-colab {\n",
       "                    background-color: var(--colab-primary-surface-color, white);\n",
       "                }\n",
       "\n",
       "                .geemap-colab .jupyter-button {\n",
       "                    --jp-layout-color3: var(--colab-primary-surface-color, white);\n",
       "                }\n",
       "            </style>\n",
       "            "
      ],
      "text/plain": [
       "<IPython.core.display.HTML object>"
      ]
     },
     "metadata": {},
     "output_type": "display_data"
    }
   ],
   "source": [
    "# identifying landsat 7 image on the dates of interest\n",
    "\n",
    "import eemont\n",
    "\n",
    "landsat7 = ee.ImageCollection(\"LANDSAT/LE07/C02/T1_L2\").filterBounds(Delta_area) # Landsat 7 archive.\n",
    "landsat7 = landsat7.preprocess()"
   ]
  },
  {
   "cell_type": "markdown",
   "metadata": {},
   "source": [
    "A satellite image consists of \"bands\", images that capture specific waveleghts of light. Landsat 7 captures 7 bands called:\n",
    "\n",
    "B1 = blue\n",
    "B2 = green\n",
    "B3 = red\n",
    "B4 = infrared\n",
    "B5 = shortwave 1\n",
    "B6 = thermal\n",
    "B7 = shortwave 2\n",
    "\n",
    "by combining the bands in different ways (e.g. B3, B2, B1) re replicate what our eyes can see. and other combinations (B4, B3, B2) allows us to see certain surfaces, e,g. vegetation."
   ]
  },
  {
   "cell_type": "markdown",
   "metadata": {},
   "source": [
    "The bands are useful for visual assessment, but the best information is extracted from the bands using vegetation indices. See this link for a summarized explanantion of vegetation indices.https://eemont.readthedocs.io/en/0.1.7/guide/spectralIndices.html"
   ]
  },
  {
   "cell_type": "markdown",
   "metadata": {},
   "source": [
    "Let's calculate vegetation indices for all Landsat images"
   ]
  },
  {
   "cell_type": "code",
   "execution_count": 7,
   "metadata": {},
   "outputs": [
    {
     "data": {
      "text/html": [
       "\n",
       "            <style>\n",
       "                .geemap-dark {\n",
       "                    --jp-widgets-color: white;\n",
       "                    --jp-widgets-label-color: white;\n",
       "                    --jp-ui-font-color1: white;\n",
       "                    --jp-layout-color2: #454545;\n",
       "                    background-color: #383838;\n",
       "                }\n",
       "\n",
       "                .geemap-dark .jupyter-button {\n",
       "                    --jp-layout-color3: #383838;\n",
       "                }\n",
       "\n",
       "                .geemap-colab {\n",
       "                    background-color: var(--colab-primary-surface-color, white);\n",
       "                }\n",
       "\n",
       "                .geemap-colab .jupyter-button {\n",
       "                    --jp-layout-color3: var(--colab-primary-surface-color, white);\n",
       "                }\n",
       "            </style>\n",
       "            "
      ],
      "text/plain": [
       "<IPython.core.display.HTML object>"
      ]
     },
     "metadata": {},
     "output_type": "display_data"
    }
   ],
   "source": [
    "import warnings #the last command produces a lot of warnings\n",
    "warnings.filterwarnings('ignore')\n",
    "\n",
    "landsat7 = landsat7.spectralIndices('vegetation')\n"
   ]
  },
  {
   "cell_type": "code",
   "execution_count": 8,
   "metadata": {},
   "outputs": [
    {
     "data": {
      "text/html": [
       "\n",
       "            <style>\n",
       "                .geemap-dark {\n",
       "                    --jp-widgets-color: white;\n",
       "                    --jp-widgets-label-color: white;\n",
       "                    --jp-ui-font-color1: white;\n",
       "                    --jp-layout-color2: #454545;\n",
       "                    background-color: #383838;\n",
       "                }\n",
       "\n",
       "                .geemap-dark .jupyter-button {\n",
       "                    --jp-layout-color3: #383838;\n",
       "                }\n",
       "\n",
       "                .geemap-colab {\n",
       "                    background-color: var(--colab-primary-surface-color, white);\n",
       "                }\n",
       "\n",
       "                .geemap-colab .jupyter-button {\n",
       "                    --jp-layout-color3: var(--colab-primary-surface-color, white);\n",
       "                }\n",
       "            </style>\n",
       "            "
      ],
      "text/plain": [
       "<IPython.core.display.HTML object>"
      ]
     },
     "metadata": {},
     "output_type": "display_data"
    }
   ],
   "source": [
    "# code for the first Landsat date\n",
    "landsat7_may_13 = ee.Image(landsat7. #the dataset\n",
    "                    filterDate('2012-05-12','2012-05-14'). # the date before and after\n",
    "                    first()) # the first image from the aplication of the two previous filters\n",
    "# code for the other three landsat dates\n",
    "landsat7_may_29 = ee.Image(landsat7.filterDate('2012-05-28','2012-05-30').first()) # all commands in one line.\n",
    "landsat7_jun_14 = ee.Image(landsat7.filterDate('2012-06-13','2012-06-15').first()) # all commands in one line.\n",
    "landsat7_jun_30 = ee.Image(landsat7.filterDate('2012-06-29','2012-07-01').first()) # all commands in one line."
   ]
  },
  {
   "cell_type": "code",
   "execution_count": 9,
   "metadata": {},
   "outputs": [
    {
     "data": {
      "text/html": [
       "\n",
       "            <style>\n",
       "                .geemap-dark {\n",
       "                    --jp-widgets-color: white;\n",
       "                    --jp-widgets-label-color: white;\n",
       "                    --jp-ui-font-color1: white;\n",
       "                    --jp-layout-color2: #454545;\n",
       "                    background-color: #383838;\n",
       "                }\n",
       "\n",
       "                .geemap-dark .jupyter-button {\n",
       "                    --jp-layout-color3: #383838;\n",
       "                }\n",
       "\n",
       "                .geemap-colab {\n",
       "                    background-color: var(--colab-primary-surface-color, white);\n",
       "                }\n",
       "\n",
       "                .geemap-colab .jupyter-button {\n",
       "                    --jp-layout-color3: var(--colab-primary-surface-color, white);\n",
       "                }\n",
       "            </style>\n",
       "            "
      ],
      "text/plain": [
       "<IPython.core.display.HTML object>"
      ]
     },
     "metadata": {},
     "output_type": "display_data"
    },
    {
     "data": {
      "application/vnd.jupyter.widget-view+json": {
       "model_id": "45127567e46b4a948a3cb8e5a72ebd65",
       "version_major": 2,
       "version_minor": 0
      },
      "text/plain": [
       "Map(center=[38.90616239179155, -112.38476873624566], controls=(WidgetControl(options=['position', 'transparent…"
      ]
     },
     "execution_count": 9,
     "metadata": {},
     "output_type": "execute_result"
    }
   ],
   "source": [
    "#sending images to the map. Check the individual images clicking in the layer icon.\n",
    "Map3 = geemap.Map() \n",
    "Map3.addLayer(landsat7_may_13, {'bands': ['SR_B3', 'SR_B2', 'SR_B1'], 'min': 0, 'max': 0.3}, 'landsat7_may_13')\n",
    "Map3.addLayer(landsat7_may_29, {'bands': ['SR_B3', 'SR_B2', 'SR_B1'], 'min': 0, 'max': 0.3}, 'landsat7_may_29')\n",
    "Map3.addLayer(landsat7_jun_14, {'bands': ['SR_B3', 'SR_B2', 'SR_B1'], 'min': 0, 'max': 0.3}, 'landsat7_jun_14')\n",
    "Map3.addLayer(landsat7_jun_30, {'bands': ['SR_B3', 'SR_B2', 'SR_B1'], 'min': 0, 'max': 0.3}, 'landsat7_jun_30')\n",
    "\n",
    "Map3.centerObject(landsat7_jun_30, 8)\n",
    "\n",
    "\n",
    "Map3"
   ]
  },
  {
   "cell_type": "markdown",
   "metadata": {},
   "source": [
    "We can clearly see that each Landsat image shows different conditions in vegetation. This is good. We want our model to be able to describe a range of vegetation and soil conditions."
   ]
  },
  {
   "cell_type": "markdown",
   "metadata": {},
   "source": [
    "### Getting only the area of interest from Landsat images\n",
    "\n",
    "We are not interested in the entire Landsat 7 image, but on Delta's agricultural lands. So we will clip the Landsat images using the Delta_area polygon."
   ]
  },
  {
   "cell_type": "markdown",
   "metadata": {},
   "source": [
    "To know more about Landsat bands, check the pdf *SelectingAppropriateBandCombinations_Final.pdf* included in this repository."
   ]
  },
  {
   "cell_type": "markdown",
   "metadata": {},
   "source": [
    "Now let's get images for the dates, selecting only the bands of interest and clipping image to the AOI region. Let's verify the images are adequately clipped in the map."
   ]
  },
  {
   "cell_type": "code",
   "execution_count": 10,
   "metadata": {
    "tags": []
   },
   "outputs": [
    {
     "data": {
      "text/html": [
       "\n",
       "            <style>\n",
       "                .geemap-dark {\n",
       "                    --jp-widgets-color: white;\n",
       "                    --jp-widgets-label-color: white;\n",
       "                    --jp-ui-font-color1: white;\n",
       "                    --jp-layout-color2: #454545;\n",
       "                    background-color: #383838;\n",
       "                }\n",
       "\n",
       "                .geemap-dark .jupyter-button {\n",
       "                    --jp-layout-color3: #383838;\n",
       "                }\n",
       "\n",
       "                .geemap-colab {\n",
       "                    background-color: var(--colab-primary-surface-color, white);\n",
       "                }\n",
       "\n",
       "                .geemap-colab .jupyter-button {\n",
       "                    --jp-layout-color3: var(--colab-primary-surface-color, white);\n",
       "                }\n",
       "            </style>\n",
       "            "
      ],
      "text/plain": [
       "<IPython.core.display.HTML object>"
      ]
     },
     "metadata": {},
     "output_type": "display_data"
    },
    {
     "data": {
      "application/vnd.jupyter.widget-view+json": {
       "model_id": "ebea4c07194f426086d19e7db338bf76",
       "version_major": 2,
       "version_minor": 0
      },
      "text/plain": [
       "Map(center=[39.399978753927925, -112.63224349999895], controls=(WidgetControl(options=['position', 'transparen…"
      ]
     },
     "execution_count": 10,
     "metadata": {},
     "output_type": "execute_result"
    }
   ],
   "source": [
    "landsat7_may_13 = landsat7_may_13.clip(Delta_area)\n",
    "landsat7_may_29 = landsat7_may_29.clip(Delta_area)\n",
    "landsat7_jun_14 = landsat7_jun_14.clip(Delta_area)\n",
    "landsat7_jun_30 = landsat7_jun_30.clip(Delta_area)\n",
    "\n",
    "#sending images to the map\n",
    "Map4 = geemap.Map() \n",
    "\n",
    "Map4.addLayer(landsat7_may_13, {'bands': ['SR_B4', 'SR_B3', 'SR_B2'], 'min': 0, 'max': 0.3}, 'landsat7_may_13_clipped')\n",
    "Map4.addLayer(landsat7_may_29, {'bands': ['SR_B4', 'SR_B3', 'SR_B2'], 'min': 0, 'max': 0.3}, 'landsat7_may_29_clipped')\n",
    "Map4.addLayer(landsat7_jun_14, {'bands': ['SR_B4', 'SR_B3', 'SR_B2'], 'min': 0, 'max': 0.3}, 'landsat7_jun_14_clipped')\n",
    "Map4.addLayer(landsat7_jun_30, {'bands': ['SR_B4', 'SR_B3', 'SR_B2'], 'min': 0, 'max': 0.3}, 'landsat7_jun_30_clipped')\n",
    "\n",
    "Map4.centerObject(landsat7_jun_30, 11)\n",
    "\n",
    "Map4"
   ]
  },
  {
   "cell_type": "markdown",
   "metadata": {
    "tags": []
   },
   "source": [
    "We changed the order of the bands when displaying the clipped images. Do not worry the satellite information is still the same. Note: this change in bands is called \"false color\".\n",
    "\n",
    "### Extracting pixel information from Landsat images\n",
    "\n",
    "To train a machine learning, we need to get the pixel information for the soil moisture locations. Since we have the coordinates of the soil moisture locations and the respective Landsat images, we can query each image and extract the pixel information. Let's export the pixel values to HydroShare JupyterHUB environment"
   ]
  },
  {
   "cell_type": "code",
   "execution_count": 11,
   "metadata": {},
   "outputs": [
    {
     "data": {
      "text/html": [
       "\n",
       "            <style>\n",
       "                .geemap-dark {\n",
       "                    --jp-widgets-color: white;\n",
       "                    --jp-widgets-label-color: white;\n",
       "                    --jp-ui-font-color1: white;\n",
       "                    --jp-layout-color2: #454545;\n",
       "                    background-color: #383838;\n",
       "                }\n",
       "\n",
       "                .geemap-dark .jupyter-button {\n",
       "                    --jp-layout-color3: #383838;\n",
       "                }\n",
       "\n",
       "                .geemap-colab {\n",
       "                    background-color: var(--colab-primary-surface-color, white);\n",
       "                }\n",
       "\n",
       "                .geemap-colab .jupyter-button {\n",
       "                    --jp-layout-color3: var(--colab-primary-surface-color, white);\n",
       "                }\n",
       "            </style>\n",
       "            "
      ],
      "text/plain": [
       "<IPython.core.display.HTML object>"
      ]
     },
     "metadata": {},
     "output_type": "display_data"
    },
    {
     "name": "stdout",
     "output_type": "stream",
     "text": [
      "Generating URL ...\n",
      "Downloading data from https://earthengine.googleapis.com/v1/projects/earthengine-legacy/thumbnails/72b1e8c443360d709b1e99167d952a7d-328cc2169a9d83927be41dbd470b0101:getPixels\n",
      "Please wait ...\n",
      "Data downloaded to /home/jovyan/data/courses/Machine-Learning-Applications-in-Remote-Sensing-Data/Results Step 1/landsat7_may_13_clipped.tif\n",
      "Generating URL ...\n",
      "Downloading data from https://earthengine.googleapis.com/v1/projects/earthengine-legacy/thumbnails/0dce20f57213c4a002c3f4c8922c8c97-72e4043c145ec0f6c47c93aac5cc1b08:getPixels\n",
      "Please wait ...\n",
      "Data downloaded to /home/jovyan/data/courses/Machine-Learning-Applications-in-Remote-Sensing-Data/Results Step 1/landsat7_may_29_clipped.tif\n",
      "Generating URL ...\n",
      "Downloading data from https://earthengine.googleapis.com/v1/projects/earthengine-legacy/thumbnails/dc3c19cb288d1995d725318815eb949f-baf16a44670da9151f4f3c803594f299:getPixels\n",
      "Please wait ...\n",
      "Data downloaded to /home/jovyan/data/courses/Machine-Learning-Applications-in-Remote-Sensing-Data/Results Step 1/landsat7_jun_14_clipped.tif\n",
      "Generating URL ...\n",
      "Downloading data from https://earthengine.googleapis.com/v1/projects/earthengine-legacy/thumbnails/23ddcccffd24c7be42c428f16bcc8e69-a957b0feccbab9c70a2f5dfaeae7147b:getPixels\n",
      "Please wait ...\n",
      "Data downloaded to /home/jovyan/data/courses/Machine-Learning-Applications-in-Remote-Sensing-Data/Results Step 1/landsat7_jun_30_clipped.tif\n"
     ]
    }
   ],
   "source": [
    "import os\n",
    "\n",
    "# plotting the points on the map.\n",
    "out_dir = \".//Results Step 1\"\n",
    "\n",
    "filename=os.path.join(out_dir,'landsat7_may_13'+'_clipped.tif')\n",
    "geemap.ee_export_image(landsat7_may_13.select(['SR_B4', 'SR_B3', 'SR_B2']), filename=filename, scale=30, region=Delta_area, file_per_band=False)\n",
    "\n",
    "filename=os.path.join(out_dir,'landsat7_may_29'+'_clipped.tif')\n",
    "geemap.ee_export_image(landsat7_may_29.select(['SR_B4', 'SR_B3', 'SR_B2']), filename=filename, scale=30, region=Delta_area, file_per_band=False)\n",
    "\n",
    "filename=os.path.join(out_dir,'landsat7_jun_14'+'_clipped.tif')\n",
    "geemap.ee_export_image(landsat7_jun_14.select(['SR_B4', 'SR_B3', 'SR_B2']), filename=filename, scale=30, region=Delta_area, file_per_band=False)\n",
    "\n",
    "filename=os.path.join(out_dir,'landsat7_jun_30'+'_clipped.tif')\n",
    "geemap.ee_export_image(landsat7_jun_30.select(['SR_B4', 'SR_B3', 'SR_B2']), filename=filename, scale=30, region=Delta_area, file_per_band=False)"
   ]
  },
  {
   "cell_type": "code",
   "execution_count": 12,
   "metadata": {},
   "outputs": [
    {
     "data": {
      "text/html": [
       "\n",
       "            <style>\n",
       "                .geemap-dark {\n",
       "                    --jp-widgets-color: white;\n",
       "                    --jp-widgets-label-color: white;\n",
       "                    --jp-ui-font-color1: white;\n",
       "                    --jp-layout-color2: #454545;\n",
       "                    background-color: #383838;\n",
       "                }\n",
       "\n",
       "                .geemap-dark .jupyter-button {\n",
       "                    --jp-layout-color3: #383838;\n",
       "                }\n",
       "\n",
       "                .geemap-colab {\n",
       "                    background-color: var(--colab-primary-surface-color, white);\n",
       "                }\n",
       "\n",
       "                .geemap-colab .jupyter-button {\n",
       "                    --jp-layout-color3: var(--colab-primary-surface-color, white);\n",
       "                }\n",
       "            </style>\n",
       "            "
      ],
      "text/plain": [
       "<IPython.core.display.HTML object>"
      ]
     },
     "metadata": {},
     "output_type": "display_data"
    },
    {
     "name": "stdout",
     "output_type": "stream",
     "text": [
      "Generating URL ...\n",
      "Downloading data from https://earthengine.googleapis.com/v1/projects/earthengine-legacy/tables/4c86e19f0a3b576ea6a4c2fbc9af8a3f-c861a140b135f04a7ec5af2881dd05a4:getFeatures\n",
      "Please wait ...\n",
      "Data downloaded to /home/jovyan/data/courses/Machine-Learning-Applications-in-Remote-Sensing-Data/Results Step 1/landsat7_may_13_sm_pixels.csv\n",
      "Generating URL ...\n",
      "Downloading data from https://earthengine.googleapis.com/v1/projects/earthengine-legacy/tables/56910ce5e5fd53bcd2999ffe74285ca1-ed938ee4589b58a75b5c4795fd74a5e8:getFeatures\n",
      "Please wait ...\n",
      "Data downloaded to /home/jovyan/data/courses/Machine-Learning-Applications-in-Remote-Sensing-Data/Results Step 1/landsat7_may_29_sm_pixels.csv\n",
      "Generating URL ...\n",
      "Downloading data from https://earthengine.googleapis.com/v1/projects/earthengine-legacy/tables/50e1f251a551a36e5f18e636d61a0df9-20f25afc46cb0a8cbdb85ffe8bc78a86:getFeatures\n",
      "Please wait ...\n",
      "Data downloaded to /home/jovyan/data/courses/Machine-Learning-Applications-in-Remote-Sensing-Data/Results Step 1/landsat7_jun_14_sm_pixels.csv\n",
      "Generating URL ...\n",
      "Downloading data from https://earthengine.googleapis.com/v1/projects/earthengine-legacy/tables/0a77c440c4607878a2144b312ee0208a-4cba6f0a35763d98b880ade34918b727:getFeatures\n",
      "Please wait ...\n",
      "Data downloaded to /home/jovyan/data/courses/Machine-Learning-Applications-in-Remote-Sensing-Data/Results Step 1/landsat7_jun_30_sm_pixels.csv\n"
     ]
    }
   ],
   "source": [
    "filename=os.path.join(out_dir,'landsat7_may_13_sm_pixels.csv')\n",
    "geemap.extract_values_to_points(sm_locations, landsat7_may_13, filename)\n",
    "\n",
    "filename=os.path.join(out_dir,'landsat7_may_29_sm_pixels.csv')\n",
    "geemap.extract_values_to_points(sm_locations, landsat7_may_29, filename)\n",
    "\n",
    "filename=os.path.join(out_dir,'landsat7_jun_14_sm_pixels.csv')\n",
    "geemap.extract_values_to_points(sm_locations, landsat7_jun_14, filename)\n",
    "\n",
    "filename=os.path.join(out_dir,'landsat7_jun_30_sm_pixels.csv')\n",
    "geemap.extract_values_to_points(sm_locations, landsat7_jun_30, filename)"
   ]
  },
  {
   "cell_type": "markdown",
   "metadata": {},
   "source": [
    "Let's move to [Step 2](./DSAW_Application_1_Step_2.ipynb)."
   ]
  },
  {
   "cell_type": "code",
   "execution_count": null,
   "metadata": {},
   "outputs": [],
   "source": []
  },
  {
   "cell_type": "code",
   "execution_count": null,
   "metadata": {},
   "outputs": [],
   "source": []
  }
 ],
 "metadata": {
  "kernelspec": {
   "display_name": "Python 3 (ipykernel)",
   "language": "python",
   "name": "python3"
  },
  "language_info": {
   "codemirror_mode": {
    "name": "ipython",
    "version": 3
   },
   "file_extension": ".py",
   "mimetype": "text/x-python",
   "name": "python",
   "nbconvert_exporter": "python",
   "pygments_lexer": "ipython3",
   "version": "3.9.7"
  },
  "latex_envs": {
   "LaTeX_envs_menu_present": true,
   "autoclose": false,
   "autocomplete": true,
   "bibliofile": "biblio.bib",
   "cite_by": "apalike",
   "current_citInitial": 1,
   "eqLabelWithNumbers": true,
   "eqNumInitial": 1,
   "hotkeys": {
    "equation": "Ctrl-E",
    "itemize": "Ctrl-I"
   },
   "labels_anchors": false,
   "latex_user_defs": false,
   "report_style_numbering": false,
   "user_envs_cfg": false
  },
  "widgets": {
   "application/vnd.jupyter.widget-state+json": {
    "state": {
     "009d0f6226234a6d9bde542db66b2596": {
      "model_module": "jupyter-leaflet",
      "model_module_version": "2.0.0",
      "model_name": "LeafletFullScreenControlModel",
      "state": {
       "_view_name": "ErrorWidgetView",
       "error": {},
       "msg": "Failed to load model class 'LeafletFullScreenControlModel' from module 'jupyter-leaflet'",
       "options": [
        "position"
       ]
      }
     },
     "010e874f821b4c29aa23f5c5a43be0bc": {
      "model_module": "jupyter-leaflet",
      "model_module_version": "2.0.0",
      "model_name": "LeafletTileLayerModel",
      "state": {
       "_view_name": "ErrorWidgetView",
       "attribution": "Google Earth Engine",
       "error": {},
       "max_zoom": 24,
       "msg": "Failed to load model class 'LeafletTileLayerModel' from module 'jupyter-leaflet'",
       "name": "landsat7_jun_14",
       "options": [
        "attribution",
        "bounds",
        "detect_retina",
        "max_native_zoom",
        "max_zoom",
        "min_native_zoom",
        "min_zoom",
        "no_wrap",
        "tile_size",
        "tms",
        "zoom_offset"
       ],
       "url": "https://earthengine.googleapis.com/v1/projects/earthengine-legacy/maps/3ccba73d9094b762d4b619d492b31806-dfdb77eb0b8320e75c42b3983c4b5ede/tiles/{z}/{x}/{y}"
      }
     },
     "031ea813291e4dedad086c73176f1391": {
      "model_module": "jupyter-leaflet",
      "model_module_version": "2.0.0",
      "model_name": "LeafletTileLayerModel",
      "state": {
       "_view_name": "ErrorWidgetView",
       "attribution": "&copy; <a href=\"https://www.openstreetmap.org/copyright\">OpenStreetMap</a> contributors",
       "base": true,
       "error": {},
       "max_zoom": 19,
       "min_zoom": 1,
       "msg": "Failed to load model class 'LeafletTileLayerModel' from module 'jupyter-leaflet'",
       "name": "OpenStreetMap.Mapnik",
       "options": [
        "attribution",
        "bounds",
        "detect_retina",
        "max_native_zoom",
        "max_zoom",
        "min_native_zoom",
        "min_zoom",
        "no_wrap",
        "tile_size",
        "tms",
        "zoom_offset"
       ],
       "url": "https://tile.openstreetmap.org/{z}/{x}/{y}.png"
      }
     },
     "03cf7646062a46858a3e7bc8dd8c520a": {
      "model_module": "jupyter-leaflet",
      "model_module_version": "2.0.0",
      "model_name": "LeafletWidgetControlModel",
      "state": {
       "_model_module": "jupyter-leaflet",
       "_view_name": "ErrorWidgetView",
       "error": {},
       "msg": "Failed to load model class 'LeafletWidgetControlModel' from module 'jupyter-leaflet'",
       "options": [
        "position",
        "transparent_bg"
       ],
       "position": "topleft",
       "widget": "IPY_MODEL_2ba0a26577a34ffea869d131644a4a9d"
      }
     },
     "03dc7a0cf72c4df9b13ad75f19606df7": {
      "model_module": "jupyter-leaflet",
      "model_module_version": "2.0.0",
      "model_name": "LeafletMeasureControlModel",
      "state": {
       "_view_name": "ErrorWidgetView",
       "active_color": "orange",
       "error": {},
       "msg": "Failed to load model class 'LeafletMeasureControlModel' from module 'jupyter-leaflet'",
       "options": [
        "active_color",
        "capture_z_index",
        "completed_color",
        "popup_options",
        "position",
        "primary_area_unit",
        "primary_length_unit",
        "secondary_area_unit",
        "secondary_length_unit"
       ],
       "position": "bottomleft",
       "primary_length_unit": "kilometers",
       "secondary_area_unit": null,
       "secondary_length_unit": null
      }
     },
     "04dc339fe4ab4337b6444a30f73a4d11": {
      "model_module": "jupyter-leaflet",
      "model_module_version": "2.0.0",
      "model_name": "LeafletMeasureControlModel",
      "state": {
       "_view_name": "ErrorWidgetView",
       "active_color": "orange",
       "error": {},
       "msg": "Failed to load model class 'LeafletMeasureControlModel' from module 'jupyter-leaflet'",
       "options": [
        "active_color",
        "capture_z_index",
        "completed_color",
        "popup_options",
        "position",
        "primary_area_unit",
        "primary_length_unit",
        "secondary_area_unit",
        "secondary_length_unit"
       ],
       "position": "bottomleft",
       "primary_length_unit": "kilometers",
       "secondary_area_unit": null,
       "secondary_length_unit": null
      }
     },
     "05044dea756c443ca07bbf3cc441607a": {
      "model_module": "jupyter-leaflet",
      "model_module_version": "2.0.0",
      "model_name": "LeafletAttributionControlModel",
      "state": {
       "_view_name": "ErrorWidgetView",
       "error": {},
       "msg": "Failed to load model class 'LeafletAttributionControlModel' from module 'jupyter-leaflet'",
       "options": [
        "position",
        "prefix"
       ],
       "position": "bottomright",
       "prefix": "ipyleaflet"
      }
     },
     "0525a4437a7e4bcbb0d85f5f9c6e19ed": {
      "model_module": "jupyter-leaflet",
      "model_module_version": "2.0.0",
      "model_name": "LeafletZoomControlModel",
      "state": {
       "_view_name": "ErrorWidgetView",
       "error": {},
       "msg": "Failed to load model class 'LeafletZoomControlModel' from module 'jupyter-leaflet'",
       "options": [
        "position",
        "zoom_in_text",
        "zoom_in_title",
        "zoom_out_text",
        "zoom_out_title"
       ]
      }
     },
     "05ba41e06d2c4443aeaafa2bf8ac5fe7": {
      "model_module": "jupyter-leaflet",
      "model_module_version": "2.0.0",
      "model_name": "LeafletWidgetControlModel",
      "state": {
       "_model_module": "jupyter-leaflet",
       "_view_name": "ErrorWidgetView",
       "error": {},
       "msg": "Failed to load model class 'LeafletWidgetControlModel' from module 'jupyter-leaflet'",
       "options": [
        "position",
        "transparent_bg"
       ],
       "position": "topleft",
       "widget": "IPY_MODEL_945a1c3bd91d43088e955734431f6cb6"
      }
     },
     "087875f6f4c04bb0949ba8d1d58d9a02": {
      "model_module": "jupyter-leaflet",
      "model_module_version": "2.0.0",
      "model_name": "LeafletTileLayerModel",
      "state": {
       "_view_name": "ErrorWidgetView",
       "attribution": "Google Earth Engine",
       "error": {},
       "max_zoom": 24,
       "msg": "Failed to load model class 'LeafletTileLayerModel' from module 'jupyter-leaflet'",
       "name": "landsat7_jun_30",
       "options": [
        "attribution",
        "bounds",
        "detect_retina",
        "max_native_zoom",
        "max_zoom",
        "min_native_zoom",
        "min_zoom",
        "no_wrap",
        "tile_size",
        "tms",
        "zoom_offset"
       ],
       "url": "https://earthengine.googleapis.com/v1/projects/earthengine-legacy/maps/7b4eb8949c98997cb514ccd4c887659a-60b4422a4cc7b74dd6012aaca14f6cf2/tiles/{z}/{x}/{y}"
      }
     },
     "0a0edee616074150b29d693c0de4d0b0": {
      "model_module": "jupyter-leaflet",
      "model_module_version": "2.0.0",
      "model_name": "LeafletFullScreenControlModel",
      "state": {
       "_view_name": "ErrorWidgetView",
       "error": {},
       "msg": "Failed to load model class 'LeafletFullScreenControlModel' from module 'jupyter-leaflet'",
       "options": [
        "position"
       ]
      }
     },
     "0a1167331e5f4d01ba1a64319da981d4": {
      "model_module": "jupyter-leaflet",
      "model_module_version": "2.0.0",
      "model_name": "LeafletWidgetControlModel",
      "state": {
       "_model_module": "jupyter-leaflet",
       "_view_name": "ErrorWidgetView",
       "error": {},
       "msg": "Failed to load model class 'LeafletWidgetControlModel' from module 'jupyter-leaflet'",
       "options": [
        "position",
        "transparent_bg"
       ],
       "position": "topleft",
       "widget": "IPY_MODEL_a03cd97dd6284ab8b98fea7e47a67b94"
      }
     },
     "0d2a96712144400ca737bcd69ac125ba": {
      "model_module": "jupyter-leaflet",
      "model_module_version": "2.0.0",
      "model_name": "LeafletAttributionControlModel",
      "state": {
       "_view_name": "ErrorWidgetView",
       "error": {},
       "msg": "Failed to load model class 'LeafletAttributionControlModel' from module 'jupyter-leaflet'",
       "options": [
        "position",
        "prefix"
       ],
       "position": "bottomright",
       "prefix": "ipyleaflet"
      }
     },
     "0dcf8c83e45f4b91a472b92f8706ce83": {
      "model_module": "jupyter-leaflet",
      "model_module_version": "2.0.0",
      "model_name": "LeafletWidgetControlModel",
      "state": {
       "_model_module": "jupyter-leaflet",
       "_view_name": "ErrorWidgetView",
       "error": {},
       "msg": "Failed to load model class 'LeafletWidgetControlModel' from module 'jupyter-leaflet'",
       "options": [
        "position",
        "transparent_bg"
       ],
       "position": "topright",
       "widget": "IPY_MODEL_d5336df21aa44c29b9329e0db17e869c"
      }
     },
     "0eb0c175cf35464b854c94496889b9ea": {
      "model_module": "jupyter-leaflet",
      "model_module_version": "2.0.0",
      "model_name": "LeafletZoomControlModel",
      "state": {
       "_view_name": "ErrorWidgetView",
       "error": {},
       "msg": "Failed to load model class 'LeafletZoomControlModel' from module 'jupyter-leaflet'",
       "options": [
        "position",
        "zoom_in_text",
        "zoom_in_title",
        "zoom_out_text",
        "zoom_out_title"
       ]
      }
     },
     "11ac3fc24181481cbf82240eadbc11a7": {
      "model_module": "jupyter-leaflet",
      "model_module_version": "2.0.0",
      "model_name": "LeafletTileLayerModel",
      "state": {
       "_view_name": "ErrorWidgetView",
       "attribution": "&copy; <a href=\"https://www.openstreetmap.org/copyright\">OpenStreetMap</a> contributors",
       "base": true,
       "error": {},
       "max_zoom": 19,
       "min_zoom": 1,
       "msg": "Failed to load model class 'LeafletTileLayerModel' from module 'jupyter-leaflet'",
       "name": "OpenStreetMap.Mapnik",
       "options": [
        "attribution",
        "bounds",
        "detect_retina",
        "max_native_zoom",
        "max_zoom",
        "min_native_zoom",
        "min_zoom",
        "no_wrap",
        "tile_size",
        "tms",
        "zoom_offset"
       ],
       "url": "https://tile.openstreetmap.org/{z}/{x}/{y}.png"
      }
     },
     "1217fc37ff7d4789b1ac42c5019d5561": {
      "model_module": "jupyter-leaflet",
      "model_module_version": "2.0.0",
      "model_name": "LeafletWidgetControlModel",
      "state": {
       "_model_module": "jupyter-leaflet",
       "_view_name": "ErrorWidgetView",
       "error": {},
       "msg": "Failed to load model class 'LeafletWidgetControlModel' from module 'jupyter-leaflet'",
       "options": [
        "position",
        "transparent_bg"
       ],
       "position": "topright",
       "widget": "IPY_MODEL_a4056140d54645f9830d3bd9e03e52bc"
      }
     },
     "121d4b12b233444f9e55e0f81ee17346": {
      "model_module": "jupyter-leaflet",
      "model_module_version": "2.0.0",
      "model_name": "LeafletWidgetControlModel",
      "state": {
       "_model_module": "jupyter-leaflet",
       "_view_name": "ErrorWidgetView",
       "error": {},
       "msg": "Failed to load model class 'LeafletWidgetControlModel' from module 'jupyter-leaflet'",
       "options": [
        "position",
        "transparent_bg"
       ],
       "position": "topleft",
       "widget": "IPY_MODEL_b82f7ffae7934fc8919134dc337705b5"
      }
     },
     "1249b5b36c1b49f085982d33f4bd64ec": {
      "model_module": "jupyter-leaflet",
      "model_module_version": "2.0.0",
      "model_name": "LeafletAttributionControlModel",
      "state": {
       "_view_name": "ErrorWidgetView",
       "error": {},
       "msg": "Failed to load model class 'LeafletAttributionControlModel' from module 'jupyter-leaflet'",
       "options": [
        "position",
        "prefix"
       ],
       "position": "bottomright",
       "prefix": "ipyleaflet"
      }
     },
     "141eab42b024403c82bf339b86d90f64": {
      "model_module": "jupyter-leaflet",
      "model_module_version": "2.0.0",
      "model_name": "LeafletDrawControlModel",
      "state": {
       "_view_name": "ErrorWidgetView",
       "error": {},
       "marker": {
        "shapeOptions": {
         "color": "#3388ff"
        }
       },
       "msg": "Failed to load model class 'LeafletDrawControlModel' from module 'jupyter-leaflet'",
       "options": [
        "position"
       ],
       "polygon": {
        "shapeOptions": {
         "clickable": true,
         "color": "#3388ff",
         "fill": true,
         "fillColor": null,
         "fillOpacity": 0.2,
         "opacity": 0.5,
         "stroke": true,
         "weight": 4
        }
       },
       "polyline": {
        "shapeOptions": {
         "clickable": true,
         "color": "#3388ff",
         "fill": false,
         "opacity": 0.5,
         "stroke": true,
         "weight": 4
        }
       },
       "rectangle": {
        "shapeOptions": {
         "clickable": true,
         "color": "#3388ff",
         "fill": true,
         "fillColor": null,
         "fillOpacity": 0.2,
         "opacity": 0.5,
         "stroke": true,
         "weight": 4
        }
       }
      }
     },
     "144b4e65cc5a49e084a55d0bb3db169a": {
      "model_module": "jupyter-leaflet",
      "model_module_version": "2.0.0",
      "model_name": "LeafletTileLayerModel",
      "state": {
       "_view_name": "ErrorWidgetView",
       "attribution": "&copy; <a href=\"https://www.openstreetmap.org/copyright\">OpenStreetMap</a> contributors",
       "base": true,
       "error": {},
       "max_zoom": 19,
       "min_zoom": 1,
       "msg": "Failed to load model class 'LeafletTileLayerModel' from module 'jupyter-leaflet'",
       "name": "OpenStreetMap.Mapnik",
       "options": [
        "attribution",
        "bounds",
        "detect_retina",
        "max_native_zoom",
        "max_zoom",
        "min_native_zoom",
        "min_zoom",
        "no_wrap",
        "tile_size",
        "tms",
        "zoom_offset"
       ],
       "url": "https://tile.openstreetmap.org/{z}/{x}/{y}.png"
      }
     },
     "1537a420073e4b52a52ae15f2b620f8d": {
      "model_module": "jupyter-leaflet",
      "model_module_version": "2.0.0",
      "model_name": "LeafletAttributionControlModel",
      "state": {
       "_view_name": "ErrorWidgetView",
       "error": {},
       "msg": "Failed to load model class 'LeafletAttributionControlModel' from module 'jupyter-leaflet'",
       "options": [
        "position",
        "prefix"
       ],
       "position": "bottomright",
       "prefix": "ipyleaflet"
      }
     },
     "17aff2452b9f41e680931991b6692018": {
      "model_module": "jupyter-leaflet",
      "model_module_version": "2.0.0",
      "model_name": "LeafletTileLayerModel",
      "state": {
       "_view_name": "ErrorWidgetView",
       "attribution": "Google Earth Engine",
       "error": {},
       "max_zoom": 24,
       "msg": "Failed to load model class 'LeafletTileLayerModel' from module 'jupyter-leaflet'",
       "name": "landsat7_may_29_clipped",
       "options": [
        "attribution",
        "bounds",
        "detect_retina",
        "max_native_zoom",
        "max_zoom",
        "min_native_zoom",
        "min_zoom",
        "no_wrap",
        "tile_size",
        "tms",
        "zoom_offset"
       ],
       "url": "https://earthengine.googleapis.com/v1/projects/earthengine-legacy/maps/81f963e4b89dc26848f8f955400a434f-80257cd4f8099f5b4389e5626fe18d49/tiles/{z}/{x}/{y}"
      }
     },
     "18f39ebcaa0e4da58dbbbd78ea8ec9da": {
      "model_module": "jupyter-leaflet",
      "model_module_version": "2.0.0",
      "model_name": "LeafletMeasureControlModel",
      "state": {
       "_view_name": "ErrorWidgetView",
       "active_color": "orange",
       "error": {},
       "msg": "Failed to load model class 'LeafletMeasureControlModel' from module 'jupyter-leaflet'",
       "options": [
        "active_color",
        "capture_z_index",
        "completed_color",
        "popup_options",
        "position",
        "primary_area_unit",
        "primary_length_unit",
        "secondary_area_unit",
        "secondary_length_unit"
       ],
       "position": "bottomleft",
       "primary_length_unit": "kilometers",
       "secondary_area_unit": null,
       "secondary_length_unit": null
      }
     },
     "1a683e9aaed54d15a9743959fcb39bb6": {
      "model_module": "jupyter-leaflet",
      "model_module_version": "2.0.0",
      "model_name": "LeafletMapStyleModel",
      "state": {
       "_view_name": "ErrorWidgetView",
       "error": {},
       "msg": "Failed to load model class 'LeafletMapStyleModel' from module 'jupyter-leaflet'"
      }
     },
     "1cb41c4769754086a497244114be82e4": {
      "model_module": "jupyter-leaflet",
      "model_module_version": "2.0.0",
      "model_name": "LeafletFullScreenControlModel",
      "state": {
       "_view_name": "ErrorWidgetView",
       "error": {},
       "msg": "Failed to load model class 'LeafletFullScreenControlModel' from module 'jupyter-leaflet'",
       "options": [
        "position"
       ]
      }
     },
     "1d9ac146757c42209c7096ffa81951a0": {
      "model_module": "jupyter-leaflet",
      "model_module_version": "2.0.0",
      "model_name": "LeafletTileLayerModel",
      "state": {
       "_view_name": "ErrorWidgetView",
       "attribution": "Google Earth Engine",
       "error": {},
       "max_zoom": 24,
       "msg": "Failed to load model class 'LeafletTileLayerModel' from module 'jupyter-leaflet'",
       "name": "Soil Moisture",
       "options": [
        "attribution",
        "bounds",
        "detect_retina",
        "max_native_zoom",
        "max_zoom",
        "min_native_zoom",
        "min_zoom",
        "no_wrap",
        "tile_size",
        "tms",
        "zoom_offset"
       ],
       "url": "https://earthengine.googleapis.com/v1/projects/earthengine-legacy/maps/c0471652014914a491c820e650b41e2b-a4d7a84a204e946a46c79b90bb9b5b19/tiles/{z}/{x}/{y}"
      }
     },
     "1e887901aa984d5cb350fc878944c965": {
      "model_module": "jupyter-leaflet",
      "model_module_version": "2.0.0",
      "model_name": "LeafletZoomControlModel",
      "state": {
       "_view_name": "ErrorWidgetView",
       "error": {},
       "msg": "Failed to load model class 'LeafletZoomControlModel' from module 'jupyter-leaflet'",
       "options": [
        "position",
        "zoom_in_text",
        "zoom_in_title",
        "zoom_out_text",
        "zoom_out_title"
       ]
      }
     },
     "216951b842004b149338491b61525885": {
      "model_module": "jupyter-leaflet",
      "model_module_version": "2.0.0",
      "model_name": "LeafletWidgetControlModel",
      "state": {
       "_model_module": "jupyter-leaflet",
       "_view_name": "ErrorWidgetView",
       "error": {},
       "msg": "Failed to load model class 'LeafletWidgetControlModel' from module 'jupyter-leaflet'",
       "options": [
        "position",
        "transparent_bg"
       ],
       "position": "topright",
       "widget": "IPY_MODEL_bf93e02386974efdb232993d9330418f"
      }
     },
     "26566272ec1a4f83be2bb26557157208": {
      "model_module": "jupyter-leaflet",
      "model_module_version": "2.0.0",
      "model_name": "LeafletAttributionControlModel",
      "state": {
       "_view_name": "ErrorWidgetView",
       "error": {},
       "msg": "Failed to load model class 'LeafletAttributionControlModel' from module 'jupyter-leaflet'",
       "options": [
        "position",
        "prefix"
       ],
       "position": "bottomright",
       "prefix": "ipyleaflet"
      }
     },
     "26e73e2fa7b74b2f9e5f49e1a3fa4b6e": {
      "model_module": "jupyter-leaflet",
      "model_module_version": "2.0.0",
      "model_name": "LeafletTileLayerModel",
      "state": {
       "_view_name": "ErrorWidgetView",
       "attribution": "Google Earth Engine",
       "error": {},
       "max_zoom": 24,
       "msg": "Failed to load model class 'LeafletTileLayerModel' from module 'jupyter-leaflet'",
       "name": "landsat7_may_29",
       "options": [
        "attribution",
        "bounds",
        "detect_retina",
        "max_native_zoom",
        "max_zoom",
        "min_native_zoom",
        "min_zoom",
        "no_wrap",
        "tile_size",
        "tms",
        "zoom_offset"
       ],
       "url": "https://earthengine.googleapis.com/v1/projects/earthengine-legacy/maps/ec03cb2ec2c443baa991111fe9861289-97acc7ab75a51f2a852f65c6fb153b09/tiles/{z}/{x}/{y}"
      }
     },
     "28d1ad4af3804cfb83565c83e887e780": {
      "model_module": "jupyter-leaflet",
      "model_module_version": "2.0.0",
      "model_name": "LeafletDrawControlModel",
      "state": {
       "_view_name": "ErrorWidgetView",
       "error": {},
       "marker": {
        "shapeOptions": {
         "color": "#3388ff"
        }
       },
       "msg": "Failed to load model class 'LeafletDrawControlModel' from module 'jupyter-leaflet'",
       "options": [
        "position"
       ],
       "polygon": {
        "shapeOptions": {
         "clickable": true,
         "color": "#3388ff",
         "fill": true,
         "fillColor": null,
         "fillOpacity": 0.2,
         "opacity": 0.5,
         "stroke": true,
         "weight": 4
        }
       },
       "polyline": {
        "shapeOptions": {
         "clickable": true,
         "color": "#3388ff",
         "fill": false,
         "opacity": 0.5,
         "stroke": true,
         "weight": 4
        }
       },
       "rectangle": {
        "shapeOptions": {
         "clickable": true,
         "color": "#3388ff",
         "fill": true,
         "fillColor": null,
         "fillOpacity": 0.2,
         "opacity": 0.5,
         "stroke": true,
         "weight": 4
        }
       }
      }
     },
     "2910b03c03d149f2b57d3cad6149b16c": {
      "model_module": "jupyter-leaflet",
      "model_module_version": "2.0.0",
      "model_name": "LeafletMapStyleModel",
      "state": {
       "_view_name": "ErrorWidgetView",
       "cursor": "move",
       "error": {},
       "msg": "Failed to load model class 'LeafletMapStyleModel' from module 'jupyter-leaflet'"
      }
     },
     "2bfa6227db904a5992ac71ddcad758d2": {
      "model_module": "jupyter-leaflet",
      "model_module_version": "2.0.0",
      "model_name": "LeafletFullScreenControlModel",
      "state": {
       "_view_name": "ErrorWidgetView",
       "error": {},
       "msg": "Failed to load model class 'LeafletFullScreenControlModel' from module 'jupyter-leaflet'",
       "options": [
        "position"
       ]
      }
     },
     "2c8cf2afdb794eff9129fa36fe14f031": {
      "model_module": "jupyter-leaflet",
      "model_module_version": "2.0.0",
      "model_name": "LeafletWidgetControlModel",
      "state": {
       "_model_module": "jupyter-leaflet",
       "_view_name": "ErrorWidgetView",
       "error": {},
       "msg": "Failed to load model class 'LeafletWidgetControlModel' from module 'jupyter-leaflet'",
       "options": [
        "position",
        "transparent_bg"
       ],
       "position": "topleft",
       "widget": "IPY_MODEL_92c5fa2b29eb49a6a1eb7d23f6c4c8f7"
      }
     },
     "2c8e49d5823f48b4b1fd6a425ef22a53": {
      "model_module": "jupyter-leaflet",
      "model_module_version": "2.0.0",
      "model_name": "LeafletTileLayerModel",
      "state": {
       "_view_name": "ErrorWidgetView",
       "attribution": "&copy; <a href=\"https://www.openstreetmap.org/copyright\">OpenStreetMap</a> contributors",
       "base": true,
       "error": {},
       "max_zoom": 19,
       "min_zoom": 1,
       "msg": "Failed to load model class 'LeafletTileLayerModel' from module 'jupyter-leaflet'",
       "name": "OpenStreetMap.Mapnik",
       "options": [
        "attribution",
        "bounds",
        "detect_retina",
        "max_native_zoom",
        "max_zoom",
        "min_native_zoom",
        "min_zoom",
        "no_wrap",
        "tile_size",
        "tms",
        "zoom_offset"
       ],
       "url": "https://tile.openstreetmap.org/{z}/{x}/{y}.png"
      }
     },
     "2ce8b8e1dc704fd9975bf35f73512eb4": {
      "model_module": "jupyter-leaflet",
      "model_module_version": "2.0.0",
      "model_name": "LeafletZoomControlModel",
      "state": {
       "_view_name": "ErrorWidgetView",
       "error": {},
       "msg": "Failed to load model class 'LeafletZoomControlModel' from module 'jupyter-leaflet'",
       "options": [
        "position",
        "zoom_in_text",
        "zoom_in_title",
        "zoom_out_text",
        "zoom_out_title"
       ]
      }
     },
     "2e452d34d9ea4479b43ba5106c933971": {
      "model_module": "jupyter-leaflet",
      "model_module_version": "2.0.0",
      "model_name": "LeafletTileLayerModel",
      "state": {
       "_view_name": "ErrorWidgetView",
       "attribution": "Google Earth Engine",
       "error": {},
       "max_zoom": 24,
       "msg": "Failed to load model class 'LeafletTileLayerModel' from module 'jupyter-leaflet'",
       "name": "landsat7_may_29",
       "options": [
        "attribution",
        "bounds",
        "detect_retina",
        "max_native_zoom",
        "max_zoom",
        "min_native_zoom",
        "min_zoom",
        "no_wrap",
        "tile_size",
        "tms",
        "zoom_offset"
       ],
       "url": "https://earthengine.googleapis.com/v1/projects/earthengine-legacy/maps/ec03cb2ec2c443baa991111fe9861289-d4c2c4d9db37f666c579d4d20956fdde/tiles/{z}/{x}/{y}"
      }
     },
     "2fd6646934c542ce98c28feef647b0ab": {
      "model_module": "jupyter-leaflet",
      "model_module_version": "2.0.0",
      "model_name": "LeafletDrawControlModel",
      "state": {
       "_view_name": "ErrorWidgetView",
       "error": {},
       "marker": {
        "shapeOptions": {
         "color": "#3388ff"
        }
       },
       "msg": "Failed to load model class 'LeafletDrawControlModel' from module 'jupyter-leaflet'",
       "options": [
        "position"
       ],
       "polygon": {
        "shapeOptions": {
         "clickable": true,
         "color": "#3388ff",
         "fill": true,
         "fillColor": null,
         "fillOpacity": 0.2,
         "opacity": 0.5,
         "stroke": true,
         "weight": 4
        }
       },
       "polyline": {
        "shapeOptions": {
         "clickable": true,
         "color": "#3388ff",
         "fill": false,
         "opacity": 0.5,
         "stroke": true,
         "weight": 4
        }
       },
       "rectangle": {
        "shapeOptions": {
         "clickable": true,
         "color": "#3388ff",
         "fill": true,
         "fillColor": null,
         "fillOpacity": 0.2,
         "opacity": 0.5,
         "stroke": true,
         "weight": 4
        }
       }
      }
     },
     "2ff7386876a44a90b8151d564e974a19": {
      "model_module": "jupyter-leaflet",
      "model_module_version": "2.0.0",
      "model_name": "LeafletScaleControlModel",
      "state": {
       "_view_name": "ErrorWidgetView",
       "error": {},
       "imperial": true,
       "max_width": 100,
       "metric": true,
       "msg": "Failed to load model class 'LeafletScaleControlModel' from module 'jupyter-leaflet'",
       "options": [
        "imperial",
        "max_width",
        "metric",
        "position",
        "update_when_idle"
       ],
       "position": "bottomleft",
       "update_when_idle": false
      }
     },
     "314942fec22848948d99e32371c6e987": {
      "model_module": "jupyter-leaflet",
      "model_module_version": "2.0.0",
      "model_name": "LeafletAttributionControlModel",
      "state": {
       "_view_name": "ErrorWidgetView",
       "error": {},
       "msg": "Failed to load model class 'LeafletAttributionControlModel' from module 'jupyter-leaflet'",
       "options": [
        "position",
        "prefix"
       ],
       "position": "bottomright",
       "prefix": "ipyleaflet"
      }
     },
     "31e35342f0ce4714951d55e4f0dd5ae0": {
      "model_module": "jupyter-leaflet",
      "model_module_version": "2.0.0",
      "model_name": "LeafletMapStyleModel",
      "state": {
       "_view_name": "ErrorWidgetView",
       "error": {},
       "msg": "Failed to load model class 'LeafletMapStyleModel' from module 'jupyter-leaflet'"
      }
     },
     "33acb2f57e8441dea508413ba321b2a6": {
      "model_module": "jupyter-leaflet",
      "model_module_version": "2.0.0",
      "model_name": "LeafletAttributionControlModel",
      "state": {
       "_view_name": "ErrorWidgetView",
       "error": {},
       "msg": "Failed to load model class 'LeafletAttributionControlModel' from module 'jupyter-leaflet'",
       "options": [
        "position",
        "prefix"
       ],
       "position": "bottomright",
       "prefix": "ipyleaflet"
      }
     },
     "356ae7ec0e534f3886369afe133f5747": {
      "model_module": "jupyter-leaflet",
      "model_module_version": "2.0.0",
      "model_name": "LeafletFullScreenControlModel",
      "state": {
       "_view_name": "ErrorWidgetView",
       "error": {},
       "msg": "Failed to load model class 'LeafletFullScreenControlModel' from module 'jupyter-leaflet'",
       "options": [
        "position"
       ]
      }
     },
     "35af5b56c04c4e58af28d5d57a16be73": {
      "model_module": "jupyter-leaflet",
      "model_module_version": "2.0.0",
      "model_name": "LeafletAttributionControlModel",
      "state": {
       "_view_name": "ErrorWidgetView",
       "error": {},
       "msg": "Failed to load model class 'LeafletAttributionControlModel' from module 'jupyter-leaflet'",
       "options": [
        "position",
        "prefix"
       ],
       "position": "bottomright",
       "prefix": "ipyleaflet"
      }
     },
     "3635ea4b522b4846b59af04df3e84866": {
      "model_module": "jupyter-leaflet",
      "model_module_version": "2.0.0",
      "model_name": "LeafletMapStyleModel",
      "state": {
       "_view_name": "ErrorWidgetView",
       "cursor": "move",
       "error": {},
       "msg": "Failed to load model class 'LeafletMapStyleModel' from module 'jupyter-leaflet'"
      }
     },
     "36eb59ebd2b3452b80f7fee1738052ef": {
      "model_module": "jupyter-leaflet",
      "model_module_version": "2.0.0",
      "model_name": "LeafletScaleControlModel",
      "state": {
       "_view_name": "ErrorWidgetView",
       "error": {},
       "imperial": true,
       "max_width": 100,
       "metric": true,
       "msg": "Failed to load model class 'LeafletScaleControlModel' from module 'jupyter-leaflet'",
       "options": [
        "imperial",
        "max_width",
        "metric",
        "position",
        "update_when_idle"
       ],
       "position": "bottomleft",
       "update_when_idle": false
      }
     },
     "382415c4a7ce4620961dc1472f225013": {
      "model_module": "jupyter-leaflet",
      "model_module_version": "2.0.0",
      "model_name": "LeafletTileLayerModel",
      "state": {
       "_view_name": "ErrorWidgetView",
       "attribution": "Google",
       "error": {},
       "max_zoom": 24,
       "msg": "Failed to load model class 'LeafletTileLayerModel' from module 'jupyter-leaflet'",
       "name": "Google Maps",
       "options": [
        "attribution",
        "bounds",
        "detect_retina",
        "max_native_zoom",
        "max_zoom",
        "min_native_zoom",
        "min_zoom",
        "no_wrap",
        "tile_size",
        "tms",
        "zoom_offset"
       ],
       "url": "https://mt1.google.com/vt/lyrs=m&x={x}&y={y}&z={z}"
      }
     },
     "38bf9125dcd449fe89bfb1c958421148": {
      "model_module": "jupyter-leaflet",
      "model_module_version": "2.0.0",
      "model_name": "LeafletZoomControlModel",
      "state": {
       "_view_name": "ErrorWidgetView",
       "error": {},
       "msg": "Failed to load model class 'LeafletZoomControlModel' from module 'jupyter-leaflet'",
       "options": [
        "position",
        "zoom_in_text",
        "zoom_in_title",
        "zoom_out_text",
        "zoom_out_title"
       ]
      }
     },
     "39cfdaac398d414fa2a2f3152bcae157": {
      "model_module": "jupyter-leaflet",
      "model_module_version": "2.0.0",
      "model_name": "LeafletZoomControlModel",
      "state": {
       "_view_name": "ErrorWidgetView",
       "error": {},
       "msg": "Failed to load model class 'LeafletZoomControlModel' from module 'jupyter-leaflet'",
       "options": [
        "position",
        "zoom_in_text",
        "zoom_in_title",
        "zoom_out_text",
        "zoom_out_title"
       ]
      }
     },
     "3c6412ba09604ae0a06bfa026fa431cb": {
      "model_module": "jupyter-leaflet",
      "model_module_version": "2.0.0",
      "model_name": "LeafletTileLayerModel",
      "state": {
       "_view_name": "ErrorWidgetView",
       "attribution": "Google Earth Engine",
       "error": {},
       "max_zoom": 24,
       "msg": "Failed to load model class 'LeafletTileLayerModel' from module 'jupyter-leaflet'",
       "name": "landsat7_may_13",
       "options": [
        "attribution",
        "bounds",
        "detect_retina",
        "max_native_zoom",
        "max_zoom",
        "min_native_zoom",
        "min_zoom",
        "no_wrap",
        "tile_size",
        "tms",
        "zoom_offset"
       ],
       "url": "https://earthengine.googleapis.com/v1/projects/earthengine-legacy/maps/95205f3230152fb95b8a6101f065e561-16a4e6368fe7b714a42e22f0753314d2/tiles/{z}/{x}/{y}"
      }
     },
     "3f2de33fc747426e8e50cbf0b20a8c05": {
      "model_module": "jupyter-leaflet",
      "model_module_version": "2.0.0",
      "model_name": "LeafletMeasureControlModel",
      "state": {
       "_view_name": "ErrorWidgetView",
       "active_color": "orange",
       "error": {},
       "msg": "Failed to load model class 'LeafletMeasureControlModel' from module 'jupyter-leaflet'",
       "options": [
        "active_color",
        "capture_z_index",
        "completed_color",
        "popup_options",
        "position",
        "primary_area_unit",
        "primary_length_unit",
        "secondary_area_unit",
        "secondary_length_unit"
       ],
       "position": "bottomleft",
       "primary_length_unit": "kilometers",
       "secondary_area_unit": null,
       "secondary_length_unit": null
      }
     },
     "42f8b160a39d4297992d3b84ab9f4f50": {
      "model_module": "jupyter-leaflet",
      "model_module_version": "2.0.0",
      "model_name": "LeafletTileLayerModel",
      "state": {
       "_view_name": "ErrorWidgetView",
       "attribution": "Google",
       "error": {},
       "max_zoom": 24,
       "msg": "Failed to load model class 'LeafletTileLayerModel' from module 'jupyter-leaflet'",
       "name": "Google Maps",
       "options": [
        "attribution",
        "bounds",
        "detect_retina",
        "max_native_zoom",
        "max_zoom",
        "min_native_zoom",
        "min_zoom",
        "no_wrap",
        "tile_size",
        "tms",
        "zoom_offset"
       ],
       "url": "https://mt1.google.com/vt/lyrs=m&x={x}&y={y}&z={z}"
      }
     },
     "430083964589418f92f4daa9965cd655": {
      "model_module": "jupyter-leaflet",
      "model_module_version": "2.0.0",
      "model_name": "LeafletAttributionControlModel",
      "state": {
       "_view_name": "ErrorWidgetView",
       "error": {},
       "msg": "Failed to load model class 'LeafletAttributionControlModel' from module 'jupyter-leaflet'",
       "options": [
        "position",
        "prefix"
       ],
       "position": "bottomright",
       "prefix": "ipyleaflet"
      }
     },
     "432e9531b44b443ca29efa3c2cbc5816": {
      "model_module": "jupyter-leaflet",
      "model_module_version": "2.0.0",
      "model_name": "LeafletTileLayerModel",
      "state": {
       "_view_name": "ErrorWidgetView",
       "attribution": "&copy; <a href=\"https://www.openstreetmap.org/copyright\">OpenStreetMap</a> contributors",
       "base": true,
       "error": {},
       "max_zoom": 19,
       "min_zoom": 1,
       "msg": "Failed to load model class 'LeafletTileLayerModel' from module 'jupyter-leaflet'",
       "name": "OpenStreetMap.Mapnik",
       "options": [
        "attribution",
        "bounds",
        "detect_retina",
        "max_native_zoom",
        "max_zoom",
        "min_native_zoom",
        "min_zoom",
        "no_wrap",
        "tile_size",
        "tms",
        "zoom_offset"
       ],
       "url": "https://tile.openstreetmap.org/{z}/{x}/{y}.png"
      }
     },
     "444312a3424a4570ba5c39d1618403e6": {
      "model_module": "jupyter-leaflet",
      "model_module_version": "2.0.0",
      "model_name": "LeafletDrawControlModel",
      "state": {
       "_view_name": "ErrorWidgetView",
       "error": {},
       "marker": {
        "shapeOptions": {
         "color": "#3388ff"
        }
       },
       "msg": "Failed to load model class 'LeafletDrawControlModel' from module 'jupyter-leaflet'",
       "options": [
        "position"
       ],
       "polygon": {
        "shapeOptions": {
         "clickable": true,
         "color": "#3388ff",
         "fill": true,
         "fillColor": null,
         "fillOpacity": 0.2,
         "opacity": 0.5,
         "stroke": true,
         "weight": 4
        }
       },
       "polyline": {
        "shapeOptions": {
         "clickable": true,
         "color": "#3388ff",
         "fill": false,
         "opacity": 0.5,
         "stroke": true,
         "weight": 4
        }
       },
       "rectangle": {
        "shapeOptions": {
         "clickable": true,
         "color": "#3388ff",
         "fill": true,
         "fillColor": null,
         "fillOpacity": 0.2,
         "opacity": 0.5,
         "stroke": true,
         "weight": 4
        }
       }
      }
     },
     "45f5b97b8e5e4cb7b1ea4de872369586": {
      "model_module": "jupyter-leaflet",
      "model_module_version": "2.0.0",
      "model_name": "LeafletMapStyleModel",
      "state": {
       "_view_name": "ErrorWidgetView",
       "cursor": "move",
       "error": {},
       "msg": "Failed to load model class 'LeafletMapStyleModel' from module 'jupyter-leaflet'"
      }
     },
     "473e2f4aed884c95977ea568859f5181": {
      "model_module": "jupyter-leaflet",
      "model_module_version": "2.0.0",
      "model_name": "LeafletAttributionControlModel",
      "state": {
       "_view_name": "ErrorWidgetView",
       "error": {},
       "msg": "Failed to load model class 'LeafletAttributionControlModel' from module 'jupyter-leaflet'",
       "options": [
        "position",
        "prefix"
       ],
       "position": "bottomright",
       "prefix": "ipyleaflet"
      }
     },
     "4847a0310aa3471d9638f9908127f31e": {
      "model_module": "jupyter-leaflet",
      "model_module_version": "2.0.0",
      "model_name": "LeafletScaleControlModel",
      "state": {
       "_view_name": "ErrorWidgetView",
       "error": {},
       "imperial": true,
       "max_width": 100,
       "metric": true,
       "msg": "Failed to load model class 'LeafletScaleControlModel' from module 'jupyter-leaflet'",
       "options": [
        "imperial",
        "max_width",
        "metric",
        "position",
        "update_when_idle"
       ],
       "position": "bottomleft",
       "update_when_idle": false
      }
     },
     "48bb0fde51824077817ec7423c1be8d8": {
      "model_module": "jupyter-leaflet",
      "model_module_version": "2.0.0",
      "model_name": "LeafletTileLayerModel",
      "state": {
       "_view_name": "ErrorWidgetView",
       "attribution": "Google Earth Engine",
       "error": {},
       "max_zoom": 24,
       "msg": "Failed to load model class 'LeafletTileLayerModel' from module 'jupyter-leaflet'",
       "name": "Soil Moisture",
       "options": [
        "attribution",
        "bounds",
        "detect_retina",
        "max_native_zoom",
        "max_zoom",
        "min_native_zoom",
        "min_zoom",
        "no_wrap",
        "tile_size",
        "tms",
        "zoom_offset"
       ],
       "url": "https://earthengine.googleapis.com/v1/projects/earthengine-legacy/maps/c0471652014914a491c820e650b41e2b-409d1fe7dd426ffae9facdc3f798b3a4/tiles/{z}/{x}/{y}"
      }
     },
     "4935344a20bd4a4c9988c28860c20727": {
      "model_module": "jupyter-leaflet",
      "model_module_version": "2.0.0",
      "model_name": "LeafletDrawControlModel",
      "state": {
       "_view_name": "ErrorWidgetView",
       "error": {},
       "marker": {
        "shapeOptions": {
         "color": "#3388ff"
        }
       },
       "msg": "Failed to load model class 'LeafletDrawControlModel' from module 'jupyter-leaflet'",
       "options": [
        "position"
       ],
       "polygon": {
        "shapeOptions": {
         "clickable": true,
         "color": "#3388ff",
         "fill": true,
         "fillColor": null,
         "fillOpacity": 0.2,
         "opacity": 0.5,
         "stroke": true,
         "weight": 4
        }
       },
       "polyline": {
        "shapeOptions": {
         "clickable": true,
         "color": "#3388ff",
         "fill": false,
         "opacity": 0.5,
         "stroke": true,
         "weight": 4
        }
       },
       "rectangle": {
        "shapeOptions": {
         "clickable": true,
         "color": "#3388ff",
         "fill": true,
         "fillColor": null,
         "fillOpacity": 0.2,
         "opacity": 0.5,
         "stroke": true,
         "weight": 4
        }
       }
      }
     },
     "4ad78cda910248429ff058379e8d7110": {
      "model_module": "jupyter-leaflet",
      "model_module_version": "2.0.0",
      "model_name": "LeafletZoomControlModel",
      "state": {
       "_view_name": "ErrorWidgetView",
       "error": {},
       "msg": "Failed to load model class 'LeafletZoomControlModel' from module 'jupyter-leaflet'",
       "options": [
        "position",
        "zoom_in_text",
        "zoom_in_title",
        "zoom_out_text",
        "zoom_out_title"
       ]
      }
     },
     "4b8b585b5c924fa3a97c5aff9b394fcc": {
      "model_module": "jupyter-leaflet",
      "model_module_version": "2.0.0",
      "model_name": "LeafletAttributionControlModel",
      "state": {
       "_view_name": "ErrorWidgetView",
       "error": {},
       "msg": "Failed to load model class 'LeafletAttributionControlModel' from module 'jupyter-leaflet'",
       "options": [
        "position",
        "prefix"
       ],
       "position": "bottomright",
       "prefix": "ipyleaflet"
      }
     },
     "51ae55b93e0c46ddaab342fe71b815ef": {
      "model_module": "jupyter-leaflet",
      "model_module_version": "2.0.0",
      "model_name": "LeafletAttributionControlModel",
      "state": {
       "_view_name": "ErrorWidgetView",
       "error": {},
       "msg": "Failed to load model class 'LeafletAttributionControlModel' from module 'jupyter-leaflet'",
       "options": [
        "position",
        "prefix"
       ],
       "position": "bottomright",
       "prefix": "ipyleaflet"
      }
     },
     "53f9d41699db4472ad9c6b171e4c6eb0": {
      "model_module": "jupyter-leaflet",
      "model_module_version": "2.0.0",
      "model_name": "LeafletMapStyleModel",
      "state": {
       "_view_name": "ErrorWidgetView",
       "error": {},
       "msg": "Failed to load model class 'LeafletMapStyleModel' from module 'jupyter-leaflet'"
      }
     },
     "5b5f15dcf67e4ee5a93df758835dd31d": {
      "model_module": "jupyter-leaflet",
      "model_module_version": "2.0.0",
      "model_name": "LeafletZoomControlModel",
      "state": {
       "_view_name": "ErrorWidgetView",
       "error": {},
       "msg": "Failed to load model class 'LeafletZoomControlModel' from module 'jupyter-leaflet'",
       "options": [
        "position",
        "zoom_in_text",
        "zoom_in_title",
        "zoom_out_text",
        "zoom_out_title"
       ]
      }
     },
     "5d026da6a97841698bc1210f8bfacd0c": {
      "model_module": "jupyter-leaflet",
      "model_module_version": "2.0.0",
      "model_name": "LeafletTileLayerModel",
      "state": {
       "_view_name": "ErrorWidgetView",
       "attribution": "Google",
       "error": {},
       "max_zoom": 24,
       "msg": "Failed to load model class 'LeafletTileLayerModel' from module 'jupyter-leaflet'",
       "name": "Google Maps",
       "options": [
        "attribution",
        "bounds",
        "detect_retina",
        "max_native_zoom",
        "max_zoom",
        "min_native_zoom",
        "min_zoom",
        "no_wrap",
        "tile_size",
        "tms",
        "zoom_offset"
       ],
       "url": "https://mt1.google.com/vt/lyrs=m&x={x}&y={y}&z={z}"
      }
     },
     "5de4c9119e08439c9cac439be4bb3678": {
      "model_module": "jupyter-leaflet",
      "model_module_version": "2.0.0",
      "model_name": "LeafletTileLayerModel",
      "state": {
       "_view_name": "ErrorWidgetView",
       "attribution": "&copy; <a href=\"https://www.openstreetmap.org/copyright\">OpenStreetMap</a> contributors",
       "base": true,
       "error": {},
       "max_zoom": 19,
       "min_zoom": 1,
       "msg": "Failed to load model class 'LeafletTileLayerModel' from module 'jupyter-leaflet'",
       "name": "OpenStreetMap.Mapnik",
       "options": [
        "attribution",
        "bounds",
        "detect_retina",
        "max_native_zoom",
        "max_zoom",
        "min_native_zoom",
        "min_zoom",
        "no_wrap",
        "tile_size",
        "tms",
        "zoom_offset"
       ],
       "url": "https://tile.openstreetmap.org/{z}/{x}/{y}.png"
      }
     },
     "5f1d8089636e45f79c26fcba118d7021": {
      "model_module": "jupyter-leaflet",
      "model_module_version": "2.0.0",
      "model_name": "LeafletAttributionControlModel",
      "state": {
       "_view_name": "ErrorWidgetView",
       "error": {},
       "msg": "Failed to load model class 'LeafletAttributionControlModel' from module 'jupyter-leaflet'",
       "options": [
        "position",
        "prefix"
       ],
       "position": "bottomright",
       "prefix": "ipyleaflet"
      }
     },
     "606d5259281c4881b48e322259bcaf50": {
      "model_module": "jupyter-leaflet",
      "model_module_version": "2.0.0",
      "model_name": "LeafletZoomControlModel",
      "state": {
       "_view_name": "ErrorWidgetView",
       "error": {},
       "msg": "Failed to load model class 'LeafletZoomControlModel' from module 'jupyter-leaflet'",
       "options": [
        "position",
        "zoom_in_text",
        "zoom_in_title",
        "zoom_out_text",
        "zoom_out_title"
       ]
      }
     },
     "65390f4e0dda47ae8a6943ea80b3909f": {
      "model_module": "jupyter-leaflet",
      "model_module_version": "2.0.0",
      "model_name": "LeafletTileLayerModel",
      "state": {
       "_view_name": "ErrorWidgetView",
       "attribution": "Google",
       "error": {},
       "max_zoom": 24,
       "msg": "Failed to load model class 'LeafletTileLayerModel' from module 'jupyter-leaflet'",
       "name": "Google Maps",
       "options": [
        "attribution",
        "bounds",
        "detect_retina",
        "max_native_zoom",
        "max_zoom",
        "min_native_zoom",
        "min_zoom",
        "no_wrap",
        "tile_size",
        "tms",
        "zoom_offset"
       ],
       "url": "https://mt1.google.com/vt/lyrs=m&x={x}&y={y}&z={z}"
      }
     },
     "661eebe08d1f4e9db3dc0bd458e8dd59": {
      "model_module": "jupyter-leaflet",
      "model_module_version": "2.0.0",
      "model_name": "LeafletAttributionControlModel",
      "state": {
       "_view_name": "ErrorWidgetView",
       "error": {},
       "msg": "Failed to load model class 'LeafletAttributionControlModel' from module 'jupyter-leaflet'",
       "options": [
        "position",
        "prefix"
       ],
       "position": "bottomright",
       "prefix": "ipyleaflet"
      }
     },
     "694ce05070204c138ce1431da25db685": {
      "model_module": "jupyter-leaflet",
      "model_module_version": "2.0.0",
      "model_name": "LeafletMapStyleModel",
      "state": {
       "_view_name": "ErrorWidgetView",
       "error": {},
       "msg": "Failed to load model class 'LeafletMapStyleModel' from module 'jupyter-leaflet'"
      }
     },
     "6b14aedd3af44a0ca77746ece3dd7835": {
      "model_module": "jupyter-leaflet",
      "model_module_version": "2.0.0",
      "model_name": "LeafletFullScreenControlModel",
      "state": {
       "_view_name": "ErrorWidgetView",
       "error": {},
       "msg": "Failed to load model class 'LeafletFullScreenControlModel' from module 'jupyter-leaflet'",
       "options": [
        "position"
       ]
      }
     },
     "6d249f4872214faeb1604ad6138042a5": {
      "model_module": "jupyter-leaflet",
      "model_module_version": "2.0.0",
      "model_name": "LeafletMeasureControlModel",
      "state": {
       "_view_name": "ErrorWidgetView",
       "active_color": "orange",
       "error": {},
       "msg": "Failed to load model class 'LeafletMeasureControlModel' from module 'jupyter-leaflet'",
       "options": [
        "active_color",
        "capture_z_index",
        "completed_color",
        "popup_options",
        "position",
        "primary_area_unit",
        "primary_length_unit",
        "secondary_area_unit",
        "secondary_length_unit"
       ],
       "position": "bottomleft",
       "primary_length_unit": "kilometers",
       "secondary_area_unit": null,
       "secondary_length_unit": null
      }
     },
     "6f9e61828f8f4dd6b835849a91c28e70": {
      "model_module": "jupyter-leaflet",
      "model_module_version": "2.0.0",
      "model_name": "LeafletMapStyleModel",
      "state": {
       "_view_name": "ErrorWidgetView",
       "cursor": "move",
       "error": {},
       "msg": "Failed to load model class 'LeafletMapStyleModel' from module 'jupyter-leaflet'"
      }
     },
     "72445af07b6d45d18b7a35e219b3d81d": {
      "model_module": "jupyter-leaflet",
      "model_module_version": "2.0.0",
      "model_name": "LeafletScaleControlModel",
      "state": {
       "_view_name": "ErrorWidgetView",
       "error": {},
       "imperial": true,
       "max_width": 100,
       "metric": true,
       "msg": "Failed to load model class 'LeafletScaleControlModel' from module 'jupyter-leaflet'",
       "options": [
        "imperial",
        "max_width",
        "metric",
        "position",
        "update_when_idle"
       ],
       "position": "bottomleft",
       "update_when_idle": false
      }
     },
     "77e299094a354c0c90a0c5da8ee47cab": {
      "model_module": "jupyter-leaflet",
      "model_module_version": "2.0.0",
      "model_name": "LeafletMapStyleModel",
      "state": {
       "_view_name": "ErrorWidgetView",
       "error": {},
       "msg": "Failed to load model class 'LeafletMapStyleModel' from module 'jupyter-leaflet'"
      }
     },
     "7897b1ab6490410c9be876df5bb7ca30": {
      "model_module": "jupyter-leaflet",
      "model_module_version": "2.0.0",
      "model_name": "LeafletMapStyleModel",
      "state": {
       "_view_name": "ErrorWidgetView",
       "error": {},
       "msg": "Failed to load model class 'LeafletMapStyleModel' from module 'jupyter-leaflet'"
      }
     },
     "78bf0d5c0a9c4de7a3cf76e62d257628": {
      "model_module": "jupyter-leaflet",
      "model_module_version": "2.0.0",
      "model_name": "LeafletMapStyleModel",
      "state": {
       "_view_name": "ErrorWidgetView",
       "error": {},
       "msg": "Failed to load model class 'LeafletMapStyleModel' from module 'jupyter-leaflet'"
      }
     },
     "78c58fbe9c3b4d5ab8015e206f3c527c": {
      "model_module": "jupyter-leaflet",
      "model_module_version": "2.0.0",
      "model_name": "LeafletTileLayerModel",
      "state": {
       "_view_name": "ErrorWidgetView",
       "attribution": "Google",
       "error": {},
       "max_zoom": 24,
       "msg": "Failed to load model class 'LeafletTileLayerModel' from module 'jupyter-leaflet'",
       "name": "Google Maps",
       "options": [
        "attribution",
        "bounds",
        "detect_retina",
        "max_native_zoom",
        "max_zoom",
        "min_native_zoom",
        "min_zoom",
        "no_wrap",
        "tile_size",
        "tms",
        "zoom_offset"
       ],
       "url": "https://mt1.google.com/vt/lyrs=m&x={x}&y={y}&z={z}"
      }
     },
     "7a88b0425cfa41c6ae7ba669362f71c6": {
      "model_module": "jupyter-leaflet",
      "model_module_version": "2.0.0",
      "model_name": "LeafletTileLayerModel",
      "state": {
       "_view_name": "ErrorWidgetView",
       "attribution": "&copy; <a href=\"https://www.openstreetmap.org/copyright\">OpenStreetMap</a> contributors",
       "base": true,
       "error": {},
       "max_zoom": 19,
       "min_zoom": 1,
       "msg": "Failed to load model class 'LeafletTileLayerModel' from module 'jupyter-leaflet'",
       "name": "OpenStreetMap.Mapnik",
       "options": [
        "attribution",
        "bounds",
        "detect_retina",
        "max_native_zoom",
        "max_zoom",
        "min_native_zoom",
        "min_zoom",
        "no_wrap",
        "tile_size",
        "tms",
        "zoom_offset"
       ],
       "url": "https://tile.openstreetmap.org/{z}/{x}/{y}.png"
      }
     },
     "7d3469e89a2749bcb3c4a23fc353d973": {
      "model_module": "jupyter-leaflet",
      "model_module_version": "2.0.0",
      "model_name": "LeafletTileLayerModel",
      "state": {
       "_view_name": "ErrorWidgetView",
       "attribution": "Google Earth Engine",
       "error": {},
       "max_zoom": 24,
       "msg": "Failed to load model class 'LeafletTileLayerModel' from module 'jupyter-leaflet'",
       "name": "Delta_area",
       "options": [
        "attribution",
        "bounds",
        "detect_retina",
        "max_native_zoom",
        "max_zoom",
        "min_native_zoom",
        "min_zoom",
        "no_wrap",
        "tile_size",
        "tms",
        "zoom_offset"
       ],
       "url": "https://earthengine.googleapis.com/v1/projects/earthengine-legacy/maps/067014612e948b7315565d82ee2e81dd-217a1029de3e842f485afdce75f0ec93/tiles/{z}/{x}/{y}"
      }
     },
     "803743768ce941058b2a8e311b8d02ca": {
      "model_module": "jupyter-leaflet",
      "model_module_version": "2.0.0",
      "model_name": "LeafletMapStyleModel",
      "state": {
       "_view_name": "ErrorWidgetView",
       "cursor": "move",
       "error": {},
       "msg": "Failed to load model class 'LeafletMapStyleModel' from module 'jupyter-leaflet'"
      }
     },
     "804f8d6f94744ed09d21ae8697a3fdb5": {
      "model_module": "jupyter-leaflet",
      "model_module_version": "2.0.0",
      "model_name": "LeafletTileLayerModel",
      "state": {
       "_view_name": "ErrorWidgetView",
       "attribution": "Google Earth Engine",
       "error": {},
       "max_zoom": 24,
       "msg": "Failed to load model class 'LeafletTileLayerModel' from module 'jupyter-leaflet'",
       "name": "landsat7_may_13",
       "options": [
        "attribution",
        "bounds",
        "detect_retina",
        "max_native_zoom",
        "max_zoom",
        "min_native_zoom",
        "min_zoom",
        "no_wrap",
        "tile_size",
        "tms",
        "zoom_offset"
       ],
       "url": "https://earthengine.googleapis.com/v1/projects/earthengine-legacy/maps/95205f3230152fb95b8a6101f065e561-99b76ee364c9ec36c03481ca0b3baf11/tiles/{z}/{x}/{y}"
      }
     },
     "80772f5027db4087854cde9510a34a84": {
      "model_module": "jupyter-leaflet",
      "model_module_version": "2.0.0",
      "model_name": "LeafletMapStyleModel",
      "state": {
       "_view_name": "ErrorWidgetView",
       "cursor": "move",
       "error": {},
       "msg": "Failed to load model class 'LeafletMapStyleModel' from module 'jupyter-leaflet'"
      }
     },
     "8354269f7ab5454cb721a4c06d12a538": {
      "model_module": "jupyter-leaflet",
      "model_module_version": "2.0.0",
      "model_name": "LeafletTileLayerModel",
      "state": {
       "_view_name": "ErrorWidgetView",
       "attribution": "&copy; <a href=\"https://www.openstreetmap.org/copyright\">OpenStreetMap</a> contributors",
       "base": true,
       "error": {},
       "max_zoom": 19,
       "min_zoom": 1,
       "msg": "Failed to load model class 'LeafletTileLayerModel' from module 'jupyter-leaflet'",
       "name": "OpenStreetMap.Mapnik",
       "options": [
        "attribution",
        "bounds",
        "detect_retina",
        "max_native_zoom",
        "max_zoom",
        "min_native_zoom",
        "min_zoom",
        "no_wrap",
        "tile_size",
        "tms",
        "zoom_offset"
       ],
       "url": "https://tile.openstreetmap.org/{z}/{x}/{y}.png"
      }
     },
     "87af13fc3d254759b4c7a790090afcb4": {
      "model_module": "jupyter-leaflet",
      "model_module_version": "2.0.0",
      "model_name": "LeafletDrawControlModel",
      "state": {
       "_view_name": "ErrorWidgetView",
       "error": {},
       "marker": {
        "shapeOptions": {
         "color": "#3388ff"
        }
       },
       "msg": "Failed to load model class 'LeafletDrawControlModel' from module 'jupyter-leaflet'",
       "options": [
        "position"
       ],
       "polygon": {
        "shapeOptions": {
         "clickable": true,
         "color": "#3388ff",
         "fill": true,
         "fillColor": null,
         "fillOpacity": 0.2,
         "opacity": 0.5,
         "stroke": true,
         "weight": 4
        }
       },
       "polyline": {
        "shapeOptions": {
         "clickable": true,
         "color": "#3388ff",
         "fill": false,
         "opacity": 0.5,
         "stroke": true,
         "weight": 4
        }
       },
       "rectangle": {
        "shapeOptions": {
         "clickable": true,
         "color": "#3388ff",
         "fill": true,
         "fillColor": null,
         "fillOpacity": 0.2,
         "opacity": 0.5,
         "stroke": true,
         "weight": 4
        }
       }
      }
     },
     "8b27fcab7d3b46cebf5327ac25085cc9": {
      "model_module": "jupyter-leaflet",
      "model_module_version": "2.0.0",
      "model_name": "LeafletMapStyleModel",
      "state": {
       "_view_name": "ErrorWidgetView",
       "error": {},
       "msg": "Failed to load model class 'LeafletMapStyleModel' from module 'jupyter-leaflet'"
      }
     },
     "8b8baa7c21854076a9a94fc717a4b6b0": {
      "model_module": "jupyter-leaflet",
      "model_module_version": "2.0.0",
      "model_name": "LeafletWidgetControlModel",
      "state": {
       "_model_module": "jupyter-leaflet",
       "_view_name": "ErrorWidgetView",
       "error": {},
       "msg": "Failed to load model class 'LeafletWidgetControlModel' from module 'jupyter-leaflet'",
       "options": [
        "position",
        "transparent_bg"
       ],
       "position": "topleft",
       "widget": "IPY_MODEL_919e50d6d1fe4bb0a07452a3b8ddfad8"
      }
     },
     "8c513b32f1ca44fc8bb64817662b0a24": {
      "model_module": "jupyter-leaflet",
      "model_module_version": "2.0.0",
      "model_name": "LeafletMeasureControlModel",
      "state": {
       "_view_name": "ErrorWidgetView",
       "active_color": "orange",
       "error": {},
       "msg": "Failed to load model class 'LeafletMeasureControlModel' from module 'jupyter-leaflet'",
       "options": [
        "active_color",
        "capture_z_index",
        "completed_color",
        "popup_options",
        "position",
        "primary_area_unit",
        "primary_length_unit",
        "secondary_area_unit",
        "secondary_length_unit"
       ],
       "position": "bottomleft",
       "primary_length_unit": "kilometers",
       "secondary_area_unit": null,
       "secondary_length_unit": null
      }
     },
     "8d3df1cd6bb645a28ffa20f9b41d2b64": {
      "model_module": "jupyter-leaflet",
      "model_module_version": "2.0.0",
      "model_name": "LeafletMapStyleModel",
      "state": {
       "_view_name": "ErrorWidgetView",
       "error": {},
       "msg": "Failed to load model class 'LeafletMapStyleModel' from module 'jupyter-leaflet'"
      }
     },
     "8f280af44ea647a59b2ec12e12ff31f2": {
      "model_module": "jupyter-leaflet",
      "model_module_version": "2.0.0",
      "model_name": "LeafletMapStyleModel",
      "state": {
       "_view_name": "ErrorWidgetView",
       "error": {},
       "msg": "Failed to load model class 'LeafletMapStyleModel' from module 'jupyter-leaflet'"
      }
     },
     "9204742609864c0794d5bb479cdcffc9": {
      "model_module": "jupyter-leaflet",
      "model_module_version": "2.0.0",
      "model_name": "LeafletMapStyleModel",
      "state": {
       "_view_name": "ErrorWidgetView",
       "error": {},
       "msg": "Failed to load model class 'LeafletMapStyleModel' from module 'jupyter-leaflet'"
      }
     },
     "9260c7bd155a462cb945704e2a7fb134": {
      "model_module": "jupyter-leaflet",
      "model_module_version": "2.0.0",
      "model_name": "LeafletMapStyleModel",
      "state": {
       "_view_name": "ErrorWidgetView",
       "cursor": "move",
       "error": {},
       "msg": "Failed to load model class 'LeafletMapStyleModel' from module 'jupyter-leaflet'"
      }
     },
     "93c561726cc64482bf51e8575c686bd6": {
      "model_module": "jupyter-leaflet",
      "model_module_version": "2.0.0",
      "model_name": "LeafletZoomControlModel",
      "state": {
       "_view_name": "ErrorWidgetView",
       "error": {},
       "msg": "Failed to load model class 'LeafletZoomControlModel' from module 'jupyter-leaflet'",
       "options": [
        "position",
        "zoom_in_text",
        "zoom_in_title",
        "zoom_out_text",
        "zoom_out_title"
       ]
      }
     },
     "940369228ca84c4dbc5fb0b8aa64d2b6": {
      "model_module": "jupyter-leaflet",
      "model_module_version": "2.0.0",
      "model_name": "LeafletMapStyleModel",
      "state": {
       "_view_name": "ErrorWidgetView",
       "error": {},
       "msg": "Failed to load model class 'LeafletMapStyleModel' from module 'jupyter-leaflet'"
      }
     },
     "967e13357cbc48288ff0dc7d2eaa5d90": {
      "model_module": "jupyter-leaflet",
      "model_module_version": "2.0.0",
      "model_name": "LeafletScaleControlModel",
      "state": {
       "_view_name": "ErrorWidgetView",
       "error": {},
       "imperial": true,
       "max_width": 100,
       "metric": true,
       "msg": "Failed to load model class 'LeafletScaleControlModel' from module 'jupyter-leaflet'",
       "options": [
        "imperial",
        "max_width",
        "metric",
        "position",
        "update_when_idle"
       ],
       "position": "bottomleft",
       "update_when_idle": false
      }
     },
     "9794dd4fef66430fadb06630eddf41e3": {
      "model_module": "jupyter-leaflet",
      "model_module_version": "2.0.0",
      "model_name": "LeafletFullScreenControlModel",
      "state": {
       "_view_name": "ErrorWidgetView",
       "error": {},
       "msg": "Failed to load model class 'LeafletFullScreenControlModel' from module 'jupyter-leaflet'",
       "options": [
        "position"
       ]
      }
     },
     "985eae1563d54d6f81f1e9c6baf8b1c1": {
      "model_module": "jupyter-leaflet",
      "model_module_version": "2.0.0",
      "model_name": "LeafletWidgetControlModel",
      "state": {
       "_model_module": "jupyter-leaflet",
       "_view_name": "ErrorWidgetView",
       "error": {},
       "msg": "Failed to load model class 'LeafletWidgetControlModel' from module 'jupyter-leaflet'",
       "options": [
        "position",
        "transparent_bg"
       ],
       "position": "topleft",
       "widget": "IPY_MODEL_003d3ad9923c4db192b04718dcd5bc11"
      }
     },
     "98ac5a6343174460b6318cdab0a86825": {
      "model_module": "jupyter-leaflet",
      "model_module_version": "2.0.0",
      "model_name": "LeafletTileLayerModel",
      "state": {
       "_view_name": "ErrorWidgetView",
       "attribution": "Google Earth Engine",
       "error": {},
       "max_zoom": 24,
       "msg": "Failed to load model class 'LeafletTileLayerModel' from module 'jupyter-leaflet'",
       "name": "Delta_area",
       "options": [
        "attribution",
        "bounds",
        "detect_retina",
        "max_native_zoom",
        "max_zoom",
        "min_native_zoom",
        "min_zoom",
        "no_wrap",
        "tile_size",
        "tms",
        "zoom_offset"
       ],
       "url": "https://earthengine.googleapis.com/v1/projects/earthengine-legacy/maps/067014612e948b7315565d82ee2e81dd-a0da8d6d2131ef7e5e1ff0f6bf51f931/tiles/{z}/{x}/{y}"
      }
     },
     "98b356db5e7940e3b03cc5845b8cfcad": {
      "model_module": "jupyter-leaflet",
      "model_module_version": "2.0.0",
      "model_name": "LeafletScaleControlModel",
      "state": {
       "_view_name": "ErrorWidgetView",
       "error": {},
       "imperial": true,
       "max_width": 100,
       "metric": true,
       "msg": "Failed to load model class 'LeafletScaleControlModel' from module 'jupyter-leaflet'",
       "options": [
        "imperial",
        "max_width",
        "metric",
        "position",
        "update_when_idle"
       ],
       "position": "bottomleft",
       "update_when_idle": false
      }
     },
     "9ab8a41a55014b73a3d2fee061a6c236": {
      "model_module": "jupyter-leaflet",
      "model_module_version": "2.0.0",
      "model_name": "LeafletMapStyleModel",
      "state": {
       "_view_name": "ErrorWidgetView",
       "error": {},
       "msg": "Failed to load model class 'LeafletMapStyleModel' from module 'jupyter-leaflet'"
      }
     },
     "9e9ffb9c28294d68a4f798c246eb5c5f": {
      "model_module": "jupyter-leaflet",
      "model_module_version": "2.0.0",
      "model_name": "LeafletMeasureControlModel",
      "state": {
       "_view_name": "ErrorWidgetView",
       "active_color": "orange",
       "error": {},
       "msg": "Failed to load model class 'LeafletMeasureControlModel' from module 'jupyter-leaflet'",
       "options": [
        "active_color",
        "capture_z_index",
        "completed_color",
        "popup_options",
        "position",
        "primary_area_unit",
        "primary_length_unit",
        "secondary_area_unit",
        "secondary_length_unit"
       ],
       "position": "bottomleft",
       "primary_length_unit": "kilometers",
       "secondary_area_unit": null,
       "secondary_length_unit": null
      }
     },
     "9ec3f3f4ca4c4fd8880841e72a59a196": {
      "model_module": "jupyter-leaflet",
      "model_module_version": "2.0.0",
      "model_name": "LeafletTileLayerModel",
      "state": {
       "_view_name": "ErrorWidgetView",
       "attribution": "Google Earth Engine",
       "error": {},
       "max_zoom": 24,
       "msg": "Failed to load model class 'LeafletTileLayerModel' from module 'jupyter-leaflet'",
       "name": "landsat7_may_13_clipped",
       "options": [
        "attribution",
        "bounds",
        "detect_retina",
        "max_native_zoom",
        "max_zoom",
        "min_native_zoom",
        "min_zoom",
        "no_wrap",
        "tile_size",
        "tms",
        "zoom_offset"
       ],
       "url": "https://earthengine.googleapis.com/v1/projects/earthengine-legacy/maps/b98cd2d6f3b2261d186e3a84b2e71155-bfb0138a8e00618821406e2567acaf90/tiles/{z}/{x}/{y}"
      }
     },
     "a0fc3d69c9c148cbbafa421eb22cff01": {
      "model_module": "jupyter-leaflet",
      "model_module_version": "2.0.0",
      "model_name": "LeafletScaleControlModel",
      "state": {
       "_view_name": "ErrorWidgetView",
       "error": {},
       "imperial": true,
       "max_width": 100,
       "metric": true,
       "msg": "Failed to load model class 'LeafletScaleControlModel' from module 'jupyter-leaflet'",
       "options": [
        "imperial",
        "max_width",
        "metric",
        "position",
        "update_when_idle"
       ],
       "position": "bottomleft",
       "update_when_idle": false
      }
     },
     "a347d4061ff94d5d89b6d4911487db2a": {
      "model_module": "jupyter-leaflet",
      "model_module_version": "2.0.0",
      "model_name": "LeafletTileLayerModel",
      "state": {
       "_view_name": "ErrorWidgetView",
       "attribution": "Google Earth Engine",
       "error": {},
       "max_zoom": 24,
       "msg": "Failed to load model class 'LeafletTileLayerModel' from module 'jupyter-leaflet'",
       "name": "landsat7_jun_14",
       "options": [
        "attribution",
        "bounds",
        "detect_retina",
        "max_native_zoom",
        "max_zoom",
        "min_native_zoom",
        "min_zoom",
        "no_wrap",
        "tile_size",
        "tms",
        "zoom_offset"
       ],
       "url": "https://earthengine.googleapis.com/v1/projects/earthengine-legacy/maps/3ccba73d9094b762d4b619d492b31806-0e5873f48081ac1730f57215c6e9f1b0/tiles/{z}/{x}/{y}"
      }
     },
     "a4d528919ecb49719678573dc07f49ae": {
      "model_module": "jupyter-leaflet",
      "model_module_version": "2.0.0",
      "model_name": "LeafletTileLayerModel",
      "state": {
       "_view_name": "ErrorWidgetView",
       "attribution": "Google",
       "error": {},
       "max_zoom": 24,
       "msg": "Failed to load model class 'LeafletTileLayerModel' from module 'jupyter-leaflet'",
       "name": "Google Maps",
       "options": [
        "attribution",
        "bounds",
        "detect_retina",
        "max_native_zoom",
        "max_zoom",
        "min_native_zoom",
        "min_zoom",
        "no_wrap",
        "tile_size",
        "tms",
        "zoom_offset"
       ],
       "url": "https://mt1.google.com/vt/lyrs=m&x={x}&y={y}&z={z}"
      }
     },
     "a6e42fc3809a4a6293c6a8513ab19c21": {
      "model_module": "jupyter-leaflet",
      "model_module_version": "2.0.0",
      "model_name": "LeafletZoomControlModel",
      "state": {
       "_view_name": "ErrorWidgetView",
       "error": {},
       "msg": "Failed to load model class 'LeafletZoomControlModel' from module 'jupyter-leaflet'",
       "options": [
        "position",
        "zoom_in_text",
        "zoom_in_title",
        "zoom_out_text",
        "zoom_out_title"
       ]
      }
     },
     "a7e795dda6234c8398bb214894625051": {
      "model_module": "jupyter-leaflet",
      "model_module_version": "2.0.0",
      "model_name": "LeafletZoomControlModel",
      "state": {
       "_view_name": "ErrorWidgetView",
       "error": {},
       "msg": "Failed to load model class 'LeafletZoomControlModel' from module 'jupyter-leaflet'",
       "options": [
        "position",
        "zoom_in_text",
        "zoom_in_title",
        "zoom_out_text",
        "zoom_out_title"
       ]
      }
     },
     "a8768a9f9333426f8d28d4dae1724c33": {
      "model_module": "jupyter-leaflet",
      "model_module_version": "2.0.0",
      "model_name": "LeafletMapStyleModel",
      "state": {
       "_view_name": "ErrorWidgetView",
       "error": {},
       "msg": "Failed to load model class 'LeafletMapStyleModel' from module 'jupyter-leaflet'"
      }
     },
     "a964343d6fff4c75a375a307ab0d41a4": {
      "model_module": "jupyter-leaflet",
      "model_module_version": "2.0.0",
      "model_name": "LeafletAttributionControlModel",
      "state": {
       "_view_name": "ErrorWidgetView",
       "error": {},
       "msg": "Failed to load model class 'LeafletAttributionControlModel' from module 'jupyter-leaflet'",
       "options": [
        "position",
        "prefix"
       ],
       "position": "bottomright",
       "prefix": "ipyleaflet"
      }
     },
     "a985e80d968545b79a35b6fb1f396701": {
      "model_module": "jupyter-leaflet",
      "model_module_version": "2.0.0",
      "model_name": "LeafletScaleControlModel",
      "state": {
       "_view_name": "ErrorWidgetView",
       "error": {},
       "imperial": true,
       "max_width": 100,
       "metric": true,
       "msg": "Failed to load model class 'LeafletScaleControlModel' from module 'jupyter-leaflet'",
       "options": [
        "imperial",
        "max_width",
        "metric",
        "position",
        "update_when_idle"
       ],
       "position": "bottomleft",
       "update_when_idle": false
      }
     },
     "ad0514835ec44a52b2db7b1c338ced77": {
      "model_module": "jupyter-leaflet",
      "model_module_version": "2.0.0",
      "model_name": "LeafletTileLayerModel",
      "state": {
       "_view_name": "ErrorWidgetView",
       "attribution": "&copy; <a href=\"https://www.openstreetmap.org/copyright\">OpenStreetMap</a> contributors",
       "base": true,
       "error": {},
       "max_zoom": 19,
       "min_zoom": 1,
       "msg": "Failed to load model class 'LeafletTileLayerModel' from module 'jupyter-leaflet'",
       "name": "OpenStreetMap.Mapnik",
       "options": [
        "attribution",
        "bounds",
        "detect_retina",
        "max_native_zoom",
        "max_zoom",
        "min_native_zoom",
        "min_zoom",
        "no_wrap",
        "tile_size",
        "tms",
        "zoom_offset"
       ],
       "url": "https://tile.openstreetmap.org/{z}/{x}/{y}.png"
      }
     },
     "ad97b2f7138f4a098ab90d0542338c59": {
      "model_module": "jupyter-leaflet",
      "model_module_version": "2.0.0",
      "model_name": "LeafletZoomControlModel",
      "state": {
       "_view_name": "ErrorWidgetView",
       "error": {},
       "msg": "Failed to load model class 'LeafletZoomControlModel' from module 'jupyter-leaflet'",
       "options": [
        "position",
        "zoom_in_text",
        "zoom_in_title",
        "zoom_out_text",
        "zoom_out_title"
       ]
      }
     },
     "af63eeda0b3344a59984f01417a3256c": {
      "model_module": "jupyter-leaflet",
      "model_module_version": "2.0.0",
      "model_name": "LeafletWidgetControlModel",
      "state": {
       "_model_module": "jupyter-leaflet",
       "_view_name": "ErrorWidgetView",
       "error": {},
       "msg": "Failed to load model class 'LeafletWidgetControlModel' from module 'jupyter-leaflet'",
       "options": [
        "position",
        "transparent_bg"
       ],
       "position": "topright",
       "widget": "IPY_MODEL_f0dbc4e1611b4366823cd27c630b2c66"
      }
     },
     "b0f2ec4c5523401cbe13893a72efd106": {
      "model_module": "jupyter-leaflet",
      "model_module_version": "2.0.0",
      "model_name": "LeafletZoomControlModel",
      "state": {
       "_view_name": "ErrorWidgetView",
       "error": {},
       "msg": "Failed to load model class 'LeafletZoomControlModel' from module 'jupyter-leaflet'",
       "options": [
        "position",
        "zoom_in_text",
        "zoom_in_title",
        "zoom_out_text",
        "zoom_out_title"
       ]
      }
     },
     "b3d65dbd6bb048578cc971aca653eaab": {
      "model_module": "jupyter-leaflet",
      "model_module_version": "2.0.0",
      "model_name": "LeafletZoomControlModel",
      "state": {
       "_view_name": "ErrorWidgetView",
       "error": {},
       "msg": "Failed to load model class 'LeafletZoomControlModel' from module 'jupyter-leaflet'",
       "options": [
        "position",
        "zoom_in_text",
        "zoom_in_title",
        "zoom_out_text",
        "zoom_out_title"
       ]
      }
     },
     "ba4357a2f83a4e70848883d572bb1f5e": {
      "model_module": "jupyter-leaflet",
      "model_module_version": "2.0.0",
      "model_name": "LeafletDrawControlModel",
      "state": {
       "_view_name": "ErrorWidgetView",
       "error": {},
       "marker": {
        "shapeOptions": {
         "color": "#3388ff"
        }
       },
       "msg": "Failed to load model class 'LeafletDrawControlModel' from module 'jupyter-leaflet'",
       "options": [
        "position"
       ],
       "polygon": {
        "shapeOptions": {
         "clickable": true,
         "color": "#3388ff",
         "fill": true,
         "fillColor": null,
         "fillOpacity": 0.2,
         "opacity": 0.5,
         "stroke": true,
         "weight": 4
        }
       },
       "polyline": {
        "shapeOptions": {
         "clickable": true,
         "color": "#3388ff",
         "fill": false,
         "opacity": 0.5,
         "stroke": true,
         "weight": 4
        }
       },
       "rectangle": {
        "shapeOptions": {
         "clickable": true,
         "color": "#3388ff",
         "fill": true,
         "fillColor": null,
         "fillOpacity": 0.2,
         "opacity": 0.5,
         "stroke": true,
         "weight": 4
        }
       }
      }
     },
     "bacb4f6c4ff949809d81619a335240bc": {
      "model_module": "jupyter-leaflet",
      "model_module_version": "2.0.0",
      "model_name": "LeafletFullScreenControlModel",
      "state": {
       "_view_name": "ErrorWidgetView",
       "error": {},
       "msg": "Failed to load model class 'LeafletFullScreenControlModel' from module 'jupyter-leaflet'",
       "options": [
        "position"
       ]
      }
     },
     "bc3c230ec7fd4e49b20650767d4b5ce6": {
      "model_module": "jupyter-leaflet",
      "model_module_version": "2.0.0",
      "model_name": "LeafletTileLayerModel",
      "state": {
       "_view_name": "ErrorWidgetView",
       "attribution": "Google Earth Engine",
       "error": {},
       "max_zoom": 24,
       "msg": "Failed to load model class 'LeafletTileLayerModel' from module 'jupyter-leaflet'",
       "name": "landsat7_jun_30_clipped",
       "options": [
        "attribution",
        "bounds",
        "detect_retina",
        "max_native_zoom",
        "max_zoom",
        "min_native_zoom",
        "min_zoom",
        "no_wrap",
        "tile_size",
        "tms",
        "zoom_offset"
       ],
       "url": "https://earthengine.googleapis.com/v1/projects/earthengine-legacy/maps/87f1e6063539a4a3b43e45485d97f91e-8b9eb20a77b8c0a0a882e3a51ba9ba74/tiles/{z}/{x}/{y}"
      }
     },
     "bcd703039f7e401cb0aa716a4ca7759b": {
      "model_module": "jupyter-leaflet",
      "model_module_version": "2.0.0",
      "model_name": "LeafletScaleControlModel",
      "state": {
       "_view_name": "ErrorWidgetView",
       "error": {},
       "imperial": true,
       "max_width": 100,
       "metric": true,
       "msg": "Failed to load model class 'LeafletScaleControlModel' from module 'jupyter-leaflet'",
       "options": [
        "imperial",
        "max_width",
        "metric",
        "position",
        "update_when_idle"
       ],
       "position": "bottomleft",
       "update_when_idle": false
      }
     },
     "bd07548443234488a0d36391e0380aa9": {
      "model_module": "jupyter-leaflet",
      "model_module_version": "2.0.0",
      "model_name": "LeafletZoomControlModel",
      "state": {
       "_view_name": "ErrorWidgetView",
       "error": {},
       "msg": "Failed to load model class 'LeafletZoomControlModel' from module 'jupyter-leaflet'",
       "options": [
        "position",
        "zoom_in_text",
        "zoom_in_title",
        "zoom_out_text",
        "zoom_out_title"
       ]
      }
     },
     "bd1dd4dcb1ed488a84ad1e664febac52": {
      "model_module": "jupyter-leaflet",
      "model_module_version": "2.0.0",
      "model_name": "LeafletTileLayerModel",
      "state": {
       "_view_name": "ErrorWidgetView",
       "attribution": "Google Earth Engine",
       "error": {},
       "max_zoom": 24,
       "msg": "Failed to load model class 'LeafletTileLayerModel' from module 'jupyter-leaflet'",
       "name": "landsat7_jun_30",
       "options": [
        "attribution",
        "bounds",
        "detect_retina",
        "max_native_zoom",
        "max_zoom",
        "min_native_zoom",
        "min_zoom",
        "no_wrap",
        "tile_size",
        "tms",
        "zoom_offset"
       ],
       "url": "https://earthengine.googleapis.com/v1/projects/earthengine-legacy/maps/7b4eb8949c98997cb514ccd4c887659a-89ea9b2a2fcfe6b337fd5d3204d3a194/tiles/{z}/{x}/{y}"
      }
     },
     "bd6c4ccb3cb84a4780eb535ce9f2cd4c": {
      "model_module": "jupyter-leaflet",
      "model_module_version": "2.0.0",
      "model_name": "LeafletTileLayerModel",
      "state": {
       "_view_name": "ErrorWidgetView",
       "attribution": "Google Earth Engine",
       "error": {},
       "max_zoom": 24,
       "msg": "Failed to load model class 'LeafletTileLayerModel' from module 'jupyter-leaflet'",
       "name": "landsat7_jun_30_clipped",
       "options": [
        "attribution",
        "bounds",
        "detect_retina",
        "max_native_zoom",
        "max_zoom",
        "min_native_zoom",
        "min_zoom",
        "no_wrap",
        "tile_size",
        "tms",
        "zoom_offset"
       ],
       "url": "https://earthengine.googleapis.com/v1/projects/earthengine-legacy/maps/87f1e6063539a4a3b43e45485d97f91e-1dbcc601e37285c251b4fe9fe6bd9557/tiles/{z}/{x}/{y}"
      }
     },
     "be9dbefff11f479f8e5c7e1964c4a3ad": {
      "model_module": "jupyter-leaflet",
      "model_module_version": "2.0.0",
      "model_name": "LeafletAttributionControlModel",
      "state": {
       "_view_name": "ErrorWidgetView",
       "error": {},
       "msg": "Failed to load model class 'LeafletAttributionControlModel' from module 'jupyter-leaflet'",
       "options": [
        "position",
        "prefix"
       ],
       "position": "bottomright",
       "prefix": "ipyleaflet"
      }
     },
     "bf87d54717fd452ca600c325ad5f2b36": {
      "model_module": "jupyter-leaflet",
      "model_module_version": "2.0.0",
      "model_name": "LeafletScaleControlModel",
      "state": {
       "_view_name": "ErrorWidgetView",
       "error": {},
       "imperial": true,
       "max_width": 100,
       "metric": true,
       "msg": "Failed to load model class 'LeafletScaleControlModel' from module 'jupyter-leaflet'",
       "options": [
        "imperial",
        "max_width",
        "metric",
        "position",
        "update_when_idle"
       ],
       "position": "bottomleft",
       "update_when_idle": false
      }
     },
     "c343eab73b4645b99b158758e25896d2": {
      "model_module": "jupyter-leaflet",
      "model_module_version": "2.0.0",
      "model_name": "LeafletWidgetControlModel",
      "state": {
       "_model_module": "jupyter-leaflet",
       "_view_name": "ErrorWidgetView",
       "error": {},
       "msg": "Failed to load model class 'LeafletWidgetControlModel' from module 'jupyter-leaflet'",
       "options": [
        "position",
        "transparent_bg"
       ],
       "position": "topleft",
       "widget": "IPY_MODEL_44930397c2734612bf50b5bb01af293f"
      }
     },
     "c6893d59c5604260baf6bd207d21ece3": {
      "model_module": "jupyter-leaflet",
      "model_module_version": "2.0.0",
      "model_name": "LeafletMeasureControlModel",
      "state": {
       "_view_name": "ErrorWidgetView",
       "active_color": "orange",
       "error": {},
       "msg": "Failed to load model class 'LeafletMeasureControlModel' from module 'jupyter-leaflet'",
       "options": [
        "active_color",
        "capture_z_index",
        "completed_color",
        "popup_options",
        "position",
        "primary_area_unit",
        "primary_length_unit",
        "secondary_area_unit",
        "secondary_length_unit"
       ],
       "position": "bottomleft",
       "primary_length_unit": "kilometers",
       "secondary_area_unit": null,
       "secondary_length_unit": null
      }
     },
     "c71ab6828f3b46c9935b49bb8b3154b5": {
      "model_module": "jupyter-leaflet",
      "model_module_version": "2.0.0",
      "model_name": "LeafletMapStyleModel",
      "state": {
       "_view_name": "ErrorWidgetView",
       "error": {},
       "msg": "Failed to load model class 'LeafletMapStyleModel' from module 'jupyter-leaflet'"
      }
     },
     "c8e266a30b2f471bab387c2820d5875f": {
      "model_module": "jupyter-leaflet",
      "model_module_version": "2.0.0",
      "model_name": "LeafletTileLayerModel",
      "state": {
       "_view_name": "ErrorWidgetView",
       "attribution": "Google",
       "error": {},
       "max_zoom": 24,
       "msg": "Failed to load model class 'LeafletTileLayerModel' from module 'jupyter-leaflet'",
       "name": "Google Maps",
       "options": [
        "attribution",
        "bounds",
        "detect_retina",
        "max_native_zoom",
        "max_zoom",
        "min_native_zoom",
        "min_zoom",
        "no_wrap",
        "tile_size",
        "tms",
        "zoom_offset"
       ],
       "url": "https://mt1.google.com/vt/lyrs=m&x={x}&y={y}&z={z}"
      }
     },
     "c960b6689a054abf8662cb0a78f389e2": {
      "model_module": "jupyter-leaflet",
      "model_module_version": "2.0.0",
      "model_name": "LeafletTileLayerModel",
      "state": {
       "_view_name": "ErrorWidgetView",
       "attribution": "Google Earth Engine",
       "error": {},
       "max_zoom": 24,
       "msg": "Failed to load model class 'LeafletTileLayerModel' from module 'jupyter-leaflet'",
       "name": "landsat7_jun_14_clipped",
       "options": [
        "attribution",
        "bounds",
        "detect_retina",
        "max_native_zoom",
        "max_zoom",
        "min_native_zoom",
        "min_zoom",
        "no_wrap",
        "tile_size",
        "tms",
        "zoom_offset"
       ],
       "url": "https://earthengine.googleapis.com/v1/projects/earthengine-legacy/maps/88cd55512fbabb3a5a79da73e41df60b-541d8a9dff66abd8ec1142eba4b3d72e/tiles/{z}/{x}/{y}"
      }
     },
     "cc2e745f639e4b34af8baf7dcfcee599": {
      "model_module": "jupyter-leaflet",
      "model_module_version": "2.0.0",
      "model_name": "LeafletTileLayerModel",
      "state": {
       "_view_name": "ErrorWidgetView",
       "attribution": "Google Earth Engine",
       "error": {},
       "max_zoom": 24,
       "msg": "Failed to load model class 'LeafletTileLayerModel' from module 'jupyter-leaflet'",
       "name": "landsat7_may_29_clipped",
       "options": [
        "attribution",
        "bounds",
        "detect_retina",
        "max_native_zoom",
        "max_zoom",
        "min_native_zoom",
        "min_zoom",
        "no_wrap",
        "tile_size",
        "tms",
        "zoom_offset"
       ],
       "url": "https://earthengine.googleapis.com/v1/projects/earthengine-legacy/maps/81f963e4b89dc26848f8f955400a434f-5ea16268657f8e7c8a6ca576407055a8/tiles/{z}/{x}/{y}"
      }
     },
     "cfd30676f4c943478f8c71a30f5198a0": {
      "model_module": "jupyter-leaflet",
      "model_module_version": "2.0.0",
      "model_name": "LeafletFullScreenControlModel",
      "state": {
       "_view_name": "ErrorWidgetView",
       "error": {},
       "msg": "Failed to load model class 'LeafletFullScreenControlModel' from module 'jupyter-leaflet'",
       "options": [
        "position"
       ]
      }
     },
     "d17ef2e01a4a4a1f86218ec655c6b5f1": {
      "model_module": "jupyter-leaflet",
      "model_module_version": "2.0.0",
      "model_name": "LeafletTileLayerModel",
      "state": {
       "_view_name": "ErrorWidgetView",
       "attribution": "&copy; <a href=\"https://www.openstreetmap.org/copyright\">OpenStreetMap</a> contributors",
       "base": true,
       "error": {},
       "max_zoom": 19,
       "min_zoom": 1,
       "msg": "Failed to load model class 'LeafletTileLayerModel' from module 'jupyter-leaflet'",
       "name": "OpenStreetMap.Mapnik",
       "options": [
        "attribution",
        "bounds",
        "detect_retina",
        "max_native_zoom",
        "max_zoom",
        "min_native_zoom",
        "min_zoom",
        "no_wrap",
        "tile_size",
        "tms",
        "zoom_offset"
       ],
       "url": "https://tile.openstreetmap.org/{z}/{x}/{y}.png"
      }
     },
     "d40a538bfb8c4fbd9bcb96db177a39d3": {
      "model_module": "jupyter-leaflet",
      "model_module_version": "2.0.0",
      "model_name": "LeafletTileLayerModel",
      "state": {
       "_view_name": "ErrorWidgetView",
       "attribution": "Google Earth Engine",
       "error": {},
       "max_zoom": 24,
       "msg": "Failed to load model class 'LeafletTileLayerModel' from module 'jupyter-leaflet'",
       "name": "landsat7_may_13_clipped",
       "options": [
        "attribution",
        "bounds",
        "detect_retina",
        "max_native_zoom",
        "max_zoom",
        "min_native_zoom",
        "min_zoom",
        "no_wrap",
        "tile_size",
        "tms",
        "zoom_offset"
       ],
       "url": "https://earthengine.googleapis.com/v1/projects/earthengine-legacy/maps/b98cd2d6f3b2261d186e3a84b2e71155-fc8ee386d1f38ad8804e6c7688eeb659/tiles/{z}/{x}/{y}"
      }
     },
     "d45ca3820d8845a5bf7e49559d9d6eea": {
      "model_module": "jupyter-leaflet",
      "model_module_version": "2.0.0",
      "model_name": "LeafletZoomControlModel",
      "state": {
       "_view_name": "ErrorWidgetView",
       "error": {},
       "msg": "Failed to load model class 'LeafletZoomControlModel' from module 'jupyter-leaflet'",
       "options": [
        "position",
        "zoom_in_text",
        "zoom_in_title",
        "zoom_out_text",
        "zoom_out_title"
       ]
      }
     },
     "d493b63e6ded47e7ba3a689843f2cc58": {
      "model_module": "jupyter-leaflet",
      "model_module_version": "2.0.0",
      "model_name": "LeafletAttributionControlModel",
      "state": {
       "_view_name": "ErrorWidgetView",
       "error": {},
       "msg": "Failed to load model class 'LeafletAttributionControlModel' from module 'jupyter-leaflet'",
       "options": [
        "position",
        "prefix"
       ],
       "position": "bottomright",
       "prefix": "ipyleaflet"
      }
     },
     "d521493165254e48b598b3c4cf2d4c92": {
      "model_module": "jupyter-leaflet",
      "model_module_version": "2.0.0",
      "model_name": "LeafletDrawControlModel",
      "state": {
       "_view_name": "ErrorWidgetView",
       "error": {},
       "marker": {
        "shapeOptions": {
         "color": "#3388ff"
        }
       },
       "msg": "Failed to load model class 'LeafletDrawControlModel' from module 'jupyter-leaflet'",
       "options": [
        "position"
       ],
       "polygon": {
        "shapeOptions": {
         "clickable": true,
         "color": "#3388ff",
         "fill": true,
         "fillColor": null,
         "fillOpacity": 0.2,
         "opacity": 0.5,
         "stroke": true,
         "weight": 4
        }
       },
       "polyline": {
        "shapeOptions": {
         "clickable": true,
         "color": "#3388ff",
         "fill": false,
         "opacity": 0.5,
         "stroke": true,
         "weight": 4
        }
       },
       "rectangle": {
        "shapeOptions": {
         "clickable": true,
         "color": "#3388ff",
         "fill": true,
         "fillColor": null,
         "fillOpacity": 0.2,
         "opacity": 0.5,
         "stroke": true,
         "weight": 4
        }
       }
      }
     },
     "d871dd008d574422904d702c871e81ba": {
      "model_module": "jupyter-leaflet",
      "model_module_version": "2.0.0",
      "model_name": "LeafletTileLayerModel",
      "state": {
       "_view_name": "ErrorWidgetView",
       "attribution": "Google",
       "error": {},
       "max_zoom": 24,
       "msg": "Failed to load model class 'LeafletTileLayerModel' from module 'jupyter-leaflet'",
       "name": "Google Maps",
       "options": [
        "attribution",
        "bounds",
        "detect_retina",
        "max_native_zoom",
        "max_zoom",
        "min_native_zoom",
        "min_zoom",
        "no_wrap",
        "tile_size",
        "tms",
        "zoom_offset"
       ],
       "url": "https://mt1.google.com/vt/lyrs=m&x={x}&y={y}&z={z}"
      }
     },
     "d93a7d4b1e944f53a73750a01fc62616": {
      "model_module": "jupyter-leaflet",
      "model_module_version": "2.0.0",
      "model_name": "LeafletZoomControlModel",
      "state": {
       "_view_name": "ErrorWidgetView",
       "error": {},
       "msg": "Failed to load model class 'LeafletZoomControlModel' from module 'jupyter-leaflet'",
       "options": [
        "position",
        "zoom_in_text",
        "zoom_in_title",
        "zoom_out_text",
        "zoom_out_title"
       ]
      }
     },
     "daba2893c42b4bc59f4afc12d9151bb6": {
      "model_module": "jupyter-leaflet",
      "model_module_version": "2.0.0",
      "model_name": "LeafletFullScreenControlModel",
      "state": {
       "_view_name": "ErrorWidgetView",
       "error": {},
       "msg": "Failed to load model class 'LeafletFullScreenControlModel' from module 'jupyter-leaflet'",
       "options": [
        "position"
       ]
      }
     },
     "de196982166c46c3bcf23a3e6eae5b76": {
      "model_module": "jupyter-leaflet",
      "model_module_version": "2.0.0",
      "model_name": "LeafletDrawControlModel",
      "state": {
       "_view_name": "ErrorWidgetView",
       "error": {},
       "marker": {
        "shapeOptions": {
         "color": "#3388ff"
        }
       },
       "msg": "Failed to load model class 'LeafletDrawControlModel' from module 'jupyter-leaflet'",
       "options": [
        "position"
       ],
       "polygon": {
        "shapeOptions": {
         "clickable": true,
         "color": "#3388ff",
         "fill": true,
         "fillColor": null,
         "fillOpacity": 0.2,
         "opacity": 0.5,
         "stroke": true,
         "weight": 4
        }
       },
       "polyline": {
        "shapeOptions": {
         "clickable": true,
         "color": "#3388ff",
         "fill": false,
         "opacity": 0.5,
         "stroke": true,
         "weight": 4
        }
       },
       "rectangle": {
        "shapeOptions": {
         "clickable": true,
         "color": "#3388ff",
         "fill": true,
         "fillColor": null,
         "fillOpacity": 0.2,
         "opacity": 0.5,
         "stroke": true,
         "weight": 4
        }
       }
      }
     },
     "de460cda5a3f418a8350580b96d6dd5a": {
      "model_module": "jupyter-leaflet",
      "model_module_version": "2.0.0",
      "model_name": "LeafletAttributionControlModel",
      "state": {
       "_view_name": "ErrorWidgetView",
       "error": {},
       "msg": "Failed to load model class 'LeafletAttributionControlModel' from module 'jupyter-leaflet'",
       "options": [
        "position",
        "prefix"
       ],
       "position": "bottomright",
       "prefix": "ipyleaflet"
      }
     },
     "deddd71ab14440e79708f876241c1dec": {
      "model_module": "jupyter-leaflet",
      "model_module_version": "2.0.0",
      "model_name": "LeafletWidgetControlModel",
      "state": {
       "_model_module": "jupyter-leaflet",
       "_view_name": "ErrorWidgetView",
       "error": {},
       "msg": "Failed to load model class 'LeafletWidgetControlModel' from module 'jupyter-leaflet'",
       "options": [
        "position",
        "transparent_bg"
       ],
       "position": "topright",
       "widget": "IPY_MODEL_ca4ea327d3a54dab8527d9ce5f6471f4"
      }
     },
     "dfa0443ff1d642828f3f8ffe2d9b97e4": {
      "model_module": "jupyter-leaflet",
      "model_module_version": "2.0.0",
      "model_name": "LeafletMeasureControlModel",
      "state": {
       "_view_name": "ErrorWidgetView",
       "active_color": "orange",
       "error": {},
       "msg": "Failed to load model class 'LeafletMeasureControlModel' from module 'jupyter-leaflet'",
       "options": [
        "active_color",
        "capture_z_index",
        "completed_color",
        "popup_options",
        "position",
        "primary_area_unit",
        "primary_length_unit",
        "secondary_area_unit",
        "secondary_length_unit"
       ],
       "position": "bottomleft",
       "primary_length_unit": "kilometers",
       "secondary_area_unit": null,
       "secondary_length_unit": null
      }
     },
     "dfb424bca1e24f0c84e76b9b40f1168d": {
      "model_module": "jupyter-leaflet",
      "model_module_version": "2.0.0",
      "model_name": "LeafletMapStyleModel",
      "state": {
       "_view_name": "ErrorWidgetView",
       "cursor": "move",
       "error": {},
       "msg": "Failed to load model class 'LeafletMapStyleModel' from module 'jupyter-leaflet'"
      }
     },
     "e2dd44cfeab347c28f7cf3bcd9c2ba0d": {
      "model_module": "jupyter-leaflet",
      "model_module_version": "2.0.0",
      "model_name": "LeafletAttributionControlModel",
      "state": {
       "_view_name": "ErrorWidgetView",
       "error": {},
       "msg": "Failed to load model class 'LeafletAttributionControlModel' from module 'jupyter-leaflet'",
       "options": [
        "position",
        "prefix"
       ],
       "position": "bottomright",
       "prefix": "ipyleaflet"
      }
     },
     "e40482be4d964621a94e0945d79b955e": {
      "model_module": "jupyter-leaflet",
      "model_module_version": "2.0.0",
      "model_name": "LeafletWidgetControlModel",
      "state": {
       "_model_module": "jupyter-leaflet",
       "_view_name": "ErrorWidgetView",
       "error": {},
       "msg": "Failed to load model class 'LeafletWidgetControlModel' from module 'jupyter-leaflet'",
       "options": [
        "position",
        "transparent_bg"
       ],
       "position": "topright",
       "widget": "IPY_MODEL_50f739dab871451b861b2e4d3e53b521"
      }
     },
     "e4a13e18fbb34628a0ecec3d8c62a7b3": {
      "model_module": "jupyter-leaflet",
      "model_module_version": "2.0.0",
      "model_name": "LeafletMapStyleModel",
      "state": {
       "_view_name": "ErrorWidgetView",
       "cursor": "move",
       "error": {},
       "msg": "Failed to load model class 'LeafletMapStyleModel' from module 'jupyter-leaflet'"
      }
     },
     "e55dfb51632a4a1db95d184e01c9c782": {
      "model_module": "jupyter-leaflet",
      "model_module_version": "2.0.0",
      "model_name": "LeafletWidgetControlModel",
      "state": {
       "_model_module": "jupyter-leaflet",
       "_view_name": "ErrorWidgetView",
       "error": {},
       "msg": "Failed to load model class 'LeafletWidgetControlModel' from module 'jupyter-leaflet'",
       "options": [
        "position",
        "transparent_bg"
       ],
       "position": "topleft",
       "widget": "IPY_MODEL_fd91741d5fef464894d681dce1b46609"
      }
     },
     "e64b8cd245c14d529154ec319c4f55bd": {
      "model_module": "jupyter-leaflet",
      "model_module_version": "2.0.0",
      "model_name": "LeafletDrawControlModel",
      "state": {
       "_view_name": "ErrorWidgetView",
       "error": {},
       "marker": {
        "shapeOptions": {
         "color": "#3388ff"
        }
       },
       "msg": "Failed to load model class 'LeafletDrawControlModel' from module 'jupyter-leaflet'",
       "options": [
        "position"
       ],
       "polygon": {
        "shapeOptions": {
         "clickable": true,
         "color": "#3388ff",
         "fill": true,
         "fillColor": null,
         "fillOpacity": 0.2,
         "opacity": 0.5,
         "stroke": true,
         "weight": 4
        }
       },
       "polyline": {
        "shapeOptions": {
         "clickable": true,
         "color": "#3388ff",
         "fill": false,
         "opacity": 0.5,
         "stroke": true,
         "weight": 4
        }
       },
       "rectangle": {
        "shapeOptions": {
         "clickable": true,
         "color": "#3388ff",
         "fill": true,
         "fillColor": null,
         "fillOpacity": 0.2,
         "opacity": 0.5,
         "stroke": true,
         "weight": 4
        }
       }
      }
     },
     "e70dd473a91041c2a73f1d0ce0c5718a": {
      "model_module": "jupyter-leaflet",
      "model_module_version": "2.0.0",
      "model_name": "LeafletWidgetControlModel",
      "state": {
       "_model_module": "jupyter-leaflet",
       "_view_name": "ErrorWidgetView",
       "error": {},
       "msg": "Failed to load model class 'LeafletWidgetControlModel' from module 'jupyter-leaflet'",
       "options": [
        "position",
        "transparent_bg"
       ],
       "position": "topleft",
       "widget": "IPY_MODEL_beaf1b924c9f4c45b8e07e77aee7410e"
      }
     },
     "e728907df3a144eba1a6a84968a7a463": {
      "model_module": "jupyter-leaflet",
      "model_module_version": "2.0.0",
      "model_name": "LeafletZoomControlModel",
      "state": {
       "_view_name": "ErrorWidgetView",
       "error": {},
       "msg": "Failed to load model class 'LeafletZoomControlModel' from module 'jupyter-leaflet'",
       "options": [
        "position",
        "zoom_in_text",
        "zoom_in_title",
        "zoom_out_text",
        "zoom_out_title"
       ]
      }
     },
     "e78b04a9f10c45e0884e7dfba55b08f9": {
      "model_module": "jupyter-leaflet",
      "model_module_version": "2.0.0",
      "model_name": "LeafletMapStyleModel",
      "state": {
       "_view_name": "ErrorWidgetView",
       "error": {},
       "msg": "Failed to load model class 'LeafletMapStyleModel' from module 'jupyter-leaflet'"
      }
     },
     "e7d1921f2f6f47cbb9134f02fc532ed1": {
      "model_module": "jupyter-leaflet",
      "model_module_version": "2.0.0",
      "model_name": "LeafletTileLayerModel",
      "state": {
       "_view_name": "ErrorWidgetView",
       "attribution": "Google",
       "error": {},
       "max_zoom": 24,
       "msg": "Failed to load model class 'LeafletTileLayerModel' from module 'jupyter-leaflet'",
       "name": "Google Maps",
       "options": [
        "attribution",
        "bounds",
        "detect_retina",
        "max_native_zoom",
        "max_zoom",
        "min_native_zoom",
        "min_zoom",
        "no_wrap",
        "tile_size",
        "tms",
        "zoom_offset"
       ],
       "url": "https://mt1.google.com/vt/lyrs=m&x={x}&y={y}&z={z}"
      }
     },
     "e8b941a1b3504fbb8f1ead8ae7625755": {
      "model_module": "jupyter-leaflet",
      "model_module_version": "2.0.0",
      "model_name": "LeafletTileLayerModel",
      "state": {
       "_view_name": "ErrorWidgetView",
       "attribution": "Google Earth Engine",
       "error": {},
       "max_zoom": 24,
       "msg": "Failed to load model class 'LeafletTileLayerModel' from module 'jupyter-leaflet'",
       "name": "landsat7_jun_14_clipped",
       "options": [
        "attribution",
        "bounds",
        "detect_retina",
        "max_native_zoom",
        "max_zoom",
        "min_native_zoom",
        "min_zoom",
        "no_wrap",
        "tile_size",
        "tms",
        "zoom_offset"
       ],
       "url": "https://earthengine.googleapis.com/v1/projects/earthengine-legacy/maps/88cd55512fbabb3a5a79da73e41df60b-dc479a4c1f7b5f83a7b154423ae1fbf2/tiles/{z}/{x}/{y}"
      }
     },
     "e9c5fffc28874e668144a6418a1af215": {
      "model_module": "jupyter-leaflet",
      "model_module_version": "2.0.0",
      "model_name": "LeafletMapStyleModel",
      "state": {
       "_view_name": "ErrorWidgetView",
       "cursor": "move",
       "error": {},
       "msg": "Failed to load model class 'LeafletMapStyleModel' from module 'jupyter-leaflet'"
      }
     },
     "ea577fc82767406eaa41d7ef31f0dc7d": {
      "model_module": "jupyter-leaflet",
      "model_module_version": "2.0.0",
      "model_name": "LeafletMapStyleModel",
      "state": {
       "_view_name": "ErrorWidgetView",
       "error": {},
       "msg": "Failed to load model class 'LeafletMapStyleModel' from module 'jupyter-leaflet'"
      }
     },
     "ebc199a3ed26405286bfd13ae23914b9": {
      "model_module": "jupyter-leaflet",
      "model_module_version": "2.0.0",
      "model_name": "LeafletMeasureControlModel",
      "state": {
       "_view_name": "ErrorWidgetView",
       "active_color": "orange",
       "error": {},
       "msg": "Failed to load model class 'LeafletMeasureControlModel' from module 'jupyter-leaflet'",
       "options": [
        "active_color",
        "capture_z_index",
        "completed_color",
        "popup_options",
        "position",
        "primary_area_unit",
        "primary_length_unit",
        "secondary_area_unit",
        "secondary_length_unit"
       ],
       "position": "bottomleft",
       "primary_length_unit": "kilometers",
       "secondary_area_unit": null,
       "secondary_length_unit": null
      }
     },
     "ec26addc9b984462a67324a887813d1d": {
      "model_module": "jupyter-leaflet",
      "model_module_version": "2.0.0",
      "model_name": "LeafletZoomControlModel",
      "state": {
       "_view_name": "ErrorWidgetView",
       "error": {},
       "msg": "Failed to load model class 'LeafletZoomControlModel' from module 'jupyter-leaflet'",
       "options": [
        "position",
        "zoom_in_text",
        "zoom_in_title",
        "zoom_out_text",
        "zoom_out_title"
       ]
      }
     },
     "efacbfeb02994473b605aab3fd48d8e1": {
      "model_module": "jupyter-leaflet",
      "model_module_version": "2.0.0",
      "model_name": "LeafletWidgetControlModel",
      "state": {
       "_model_module": "jupyter-leaflet",
       "_view_name": "ErrorWidgetView",
       "error": {},
       "msg": "Failed to load model class 'LeafletWidgetControlModel' from module 'jupyter-leaflet'",
       "options": [
        "position",
        "transparent_bg"
       ],
       "position": "topright",
       "widget": "IPY_MODEL_56c1885c5f9e4442a3b6d00aaca3761a"
      }
     },
     "f06aabd2f97a40ff9ff6d00b9e0c916e": {
      "model_module": "jupyter-leaflet",
      "model_module_version": "2.0.0",
      "model_name": "LeafletWidgetControlModel",
      "state": {
       "_model_module": "jupyter-leaflet",
       "_view_name": "ErrorWidgetView",
       "error": {},
       "msg": "Failed to load model class 'LeafletWidgetControlModel' from module 'jupyter-leaflet'",
       "options": [
        "position",
        "transparent_bg"
       ],
       "position": "topright",
       "widget": "IPY_MODEL_8ccf0b69187d4ac3ad600d1dcdddb1ec"
      }
     },
     "f10acfd6e86b455ebb029dd6f8dd15ed": {
      "model_module": "jupyter-leaflet",
      "model_module_version": "2.0.0",
      "model_name": "LeafletTileLayerModel",
      "state": {
       "_view_name": "ErrorWidgetView",
       "attribution": "Google",
       "error": {},
       "max_zoom": 24,
       "msg": "Failed to load model class 'LeafletTileLayerModel' from module 'jupyter-leaflet'",
       "name": "Google Maps",
       "options": [
        "attribution",
        "bounds",
        "detect_retina",
        "max_native_zoom",
        "max_zoom",
        "min_native_zoom",
        "min_zoom",
        "no_wrap",
        "tile_size",
        "tms",
        "zoom_offset"
       ],
       "url": "https://mt1.google.com/vt/lyrs=m&x={x}&y={y}&z={z}"
      }
     },
     "f1d52d6eaebf488881c5c1998ba705a2": {
      "model_module": "jupyter-leaflet",
      "model_module_version": "2.0.0",
      "model_name": "LeafletMapStyleModel",
      "state": {
       "_view_name": "ErrorWidgetView",
       "error": {},
       "msg": "Failed to load model class 'LeafletMapStyleModel' from module 'jupyter-leaflet'"
      }
     },
     "f244c20440c4442d86edba4ce541ad2e": {
      "model_module": "jupyter-leaflet",
      "model_module_version": "2.0.0",
      "model_name": "LeafletMapStyleModel",
      "state": {
       "_view_name": "ErrorWidgetView",
       "error": {},
       "msg": "Failed to load model class 'LeafletMapStyleModel' from module 'jupyter-leaflet'"
      }
     },
     "f5b339a560e54168b27e321391a8c991": {
      "model_module": "jupyter-leaflet",
      "model_module_version": "2.0.0",
      "model_name": "LeafletMapStyleModel",
      "state": {
       "_view_name": "ErrorWidgetView",
       "error": {},
       "msg": "Failed to load model class 'LeafletMapStyleModel' from module 'jupyter-leaflet'"
      }
     },
     "f8cd5855f1604633a0656160e7957771": {
      "model_module": "jupyter-leaflet",
      "model_module_version": "2.0.0",
      "model_name": "LeafletWidgetControlModel",
      "state": {
       "_model_module": "jupyter-leaflet",
       "_view_name": "ErrorWidgetView",
       "error": {},
       "msg": "Failed to load model class 'LeafletWidgetControlModel' from module 'jupyter-leaflet'",
       "options": [
        "position",
        "transparent_bg"
       ],
       "position": "topright",
       "widget": "IPY_MODEL_851e4ea93c57495bbf8a8f9c7654119f"
      }
     },
     "f9063ec430b2445eb57407dd052ceb52": {
      "model_module": "jupyter-leaflet",
      "model_module_version": "2.0.0",
      "model_name": "LeafletWidgetControlModel",
      "state": {
       "_model_module": "jupyter-leaflet",
       "_view_name": "ErrorWidgetView",
       "error": {},
       "msg": "Failed to load model class 'LeafletWidgetControlModel' from module 'jupyter-leaflet'",
       "options": [
        "position",
        "transparent_bg"
       ],
       "position": "topright",
       "widget": "IPY_MODEL_7bc28dd093624d2691b24d4f9eaf0d6d"
      }
     },
     "ff08501667b24cc7a9425e6b62706647": {
      "model_module": "jupyter-leaflet",
      "model_module_version": "2.0.0",
      "model_name": "LeafletAttributionControlModel",
      "state": {
       "_view_name": "ErrorWidgetView",
       "error": {},
       "msg": "Failed to load model class 'LeafletAttributionControlModel' from module 'jupyter-leaflet'",
       "options": [
        "position",
        "prefix"
       ],
       "position": "bottomright",
       "prefix": "ipyleaflet"
      }
     },
     "undefined": {
      "model_module": "jupyter-leaflet",
      "model_module_version": "2.0.0",
      "model_name": "LeafletMapModel",
      "state": {
       "_view_name": "ErrorWidgetView",
       "error": {},
       "msg": "Model class 'LeafletMapModel' from module 'jupyter-leaflet' is loaded but can not be instantiated"
      }
     }
    },
    "version_major": 2,
    "version_minor": 0
   }
  }
 },
 "nbformat": 4,
 "nbformat_minor": 4
}
