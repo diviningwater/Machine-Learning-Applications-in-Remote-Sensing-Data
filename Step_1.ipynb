{
 "cells": [
  {
   "cell_type": "markdown",
   "metadata": {},
   "source": [
    "### Application 1: Farm Scale Soil Moisture Estimation using Remote Sensing  \n",
    "\n",
    "NOTE: BEFORE RUNNING THIS NOTEBOOK, OPEN A TERMINAL AND RUN THE FOLLOWING COMMAND:"
   ]
  },
  {
   "cell_type": "raw",
   "metadata": {},
   "source": [
    "pip install -U geemap\n",
    "pip install eemont"
   ]
  },
  {
   "cell_type": "code",
   "execution_count": 14,
   "metadata": {},
   "outputs": [
    {
     "name": "stdout",
     "output_type": "stream",
     "text": [
      "yes: standard output: Broken pipe\n"
     ]
    }
   ],
   "source": [
    "!yes | mamba install eemont -q"
   ]
  },
  {
   "cell_type": "markdown",
   "metadata": {},
   "source": [
    "### Background: \n",
    "\n",
    "Remote Sensing is a very valuable source of information to understand current conditions and changes in Earth, Atmosphere and Subsurface. These conditions and changes are related to natural factors e.g. solar radiation and rainfall, amount and type of vegetation on top, urban development, among others. For hydrology and water balance components, efforts to estimate precipitation, evapotranspiration, and groundwater have been sucessful (and continue to improve). Still, estimation of at small scales of certain variables (100 m or less) is still challenging. \n",
    "\n",
    "A remote sensing source (satellite) what regularly provides information at 30m scale is Landsat https://landsat.gsfc.nasa.gov/about. This satellite has been the longest remote sensing source (~20 years) for continental locations and will continue to provide with future satellite \"missions\".\n",
    "\n",
    "In this step, you will access Landsat information for a study site in Utah as shown in the figure below:"
   ]
  },
  {
   "cell_type": "markdown",
   "metadata": {},
   "source": [
    "![area_of_stud](area_of_study.jpg)"
   ]
  },
  {
   "cell_type": "markdown",
   "metadata": {},
   "source": [
    "The figure on the left is showing the Area of Study, which are agricultural lands nearby a Utah town called Delta. This agricultural land is part of the Lower Sevier River Basin (by the end of the basin). The figure on the right shows a Landsat image (called false color due to its red hue for vegetation), and locations where soil moisture information was collected in four specific dates in 2012.\n",
    "\n",
    "So, these are the dates we have available soil moisture information:\n",
    "\n",
    "- May 13\n",
    "- May 29\n",
    "- Jun 14\n",
    "- Jun 30\n",
    "\n",
    "The information collected, crop type, and GPS coordinates are sumarized in the csv file */Ground_Information/Prj_Delta_2012_SoilMoisture_topsoil.csv.* We can visualize the file below:"
   ]
  },
  {
   "cell_type": "code",
   "execution_count": 15,
   "metadata": {},
   "outputs": [
    {
     "data": {
      "text/html": [
       "<div>\n",
       "<style scoped>\n",
       "    .dataframe tbody tr th:only-of-type {\n",
       "        vertical-align: middle;\n",
       "    }\n",
       "\n",
       "    .dataframe tbody tr th {\n",
       "        vertical-align: top;\n",
       "    }\n",
       "\n",
       "    .dataframe thead th {\n",
       "        text-align: right;\n",
       "    }\n",
       "</style>\n",
       "<table border=\"1\" class=\"dataframe\">\n",
       "  <thead>\n",
       "    <tr style=\"text-align: right;\">\n",
       "      <th></th>\n",
       "      <th>FIELD</th>\n",
       "      <th>LAT</th>\n",
       "      <th>LONG</th>\n",
       "      <th>SM0513</th>\n",
       "      <th>SM0529</th>\n",
       "      <th>SM0614</th>\n",
       "      <th>SM0630</th>\n",
       "      <th>T0513</th>\n",
       "      <th>T0529</th>\n",
       "      <th>T0614</th>\n",
       "      <th>T0630</th>\n",
       "      <th>SA0513</th>\n",
       "      <th>SA0529</th>\n",
       "      <th>SA0614</th>\n",
       "      <th>SA0630</th>\n",
       "      <th>CROP</th>\n",
       "      <th>sampling point</th>\n",
       "    </tr>\n",
       "  </thead>\n",
       "  <tbody>\n",
       "    <tr>\n",
       "      <th>0</th>\n",
       "      <td>101A</td>\n",
       "      <td>39.38476</td>\n",
       "      <td>-112.65024</td>\n",
       "      <td>0.39</td>\n",
       "      <td>0.14</td>\n",
       "      <td>0.10</td>\n",
       "      <td>0.13</td>\n",
       "      <td>24.93</td>\n",
       "      <td>25.80</td>\n",
       "      <td>23.77</td>\n",
       "      <td>28.97</td>\n",
       "      <td>0.60</td>\n",
       "      <td>0.09</td>\n",
       "      <td>0.00</td>\n",
       "      <td>0.05</td>\n",
       "      <td>alfalfa</td>\n",
       "      <td>1</td>\n",
       "    </tr>\n",
       "    <tr>\n",
       "      <th>1</th>\n",
       "      <td>101B</td>\n",
       "      <td>39.38447</td>\n",
       "      <td>-112.65022</td>\n",
       "      <td>0.32</td>\n",
       "      <td>0.15</td>\n",
       "      <td>0.11</td>\n",
       "      <td>0.13</td>\n",
       "      <td>25.20</td>\n",
       "      <td>25.23</td>\n",
       "      <td>24.90</td>\n",
       "      <td>29.10</td>\n",
       "      <td>0.59</td>\n",
       "      <td>0.07</td>\n",
       "      <td>0.02</td>\n",
       "      <td>0.05</td>\n",
       "      <td>alfalfa</td>\n",
       "      <td>2</td>\n",
       "    </tr>\n",
       "    <tr>\n",
       "      <th>2</th>\n",
       "      <td>104A</td>\n",
       "      <td>39.39835</td>\n",
       "      <td>-112.64149</td>\n",
       "      <td>0.50</td>\n",
       "      <td>0.54</td>\n",
       "      <td>0.29</td>\n",
       "      <td>0.08</td>\n",
       "      <td>25.37</td>\n",
       "      <td>24.03</td>\n",
       "      <td>25.87</td>\n",
       "      <td>28.50</td>\n",
       "      <td>1.01</td>\n",
       "      <td>0.36</td>\n",
       "      <td>0.40</td>\n",
       "      <td>0.01</td>\n",
       "      <td>grain</td>\n",
       "      <td>3</td>\n",
       "    </tr>\n",
       "    <tr>\n",
       "      <th>3</th>\n",
       "      <td>104B</td>\n",
       "      <td>39.39805</td>\n",
       "      <td>-112.64149</td>\n",
       "      <td>0.47</td>\n",
       "      <td>0.12</td>\n",
       "      <td>0.26</td>\n",
       "      <td>0.10</td>\n",
       "      <td>23.07</td>\n",
       "      <td>24.30</td>\n",
       "      <td>25.90</td>\n",
       "      <td>30.17</td>\n",
       "      <td>0.95</td>\n",
       "      <td>0.04</td>\n",
       "      <td>0.38</td>\n",
       "      <td>0.00</td>\n",
       "      <td>grain</td>\n",
       "      <td>4</td>\n",
       "    </tr>\n",
       "    <tr>\n",
       "      <th>4</th>\n",
       "      <td>105A</td>\n",
       "      <td>39.41692</td>\n",
       "      <td>-112.62920</td>\n",
       "      <td>0.07</td>\n",
       "      <td>0.24</td>\n",
       "      <td>0.56</td>\n",
       "      <td>0.65</td>\n",
       "      <td>26.10</td>\n",
       "      <td>25.60</td>\n",
       "      <td>28.20</td>\n",
       "      <td>29.27</td>\n",
       "      <td>0.00</td>\n",
       "      <td>0.50</td>\n",
       "      <td>2.23</td>\n",
       "      <td>3.73</td>\n",
       "      <td>corn</td>\n",
       "      <td>5</td>\n",
       "    </tr>\n",
       "    <tr>\n",
       "      <th>5</th>\n",
       "      <td>105B</td>\n",
       "      <td>39.41664</td>\n",
       "      <td>-112.62922</td>\n",
       "      <td>0.07</td>\n",
       "      <td>0.22</td>\n",
       "      <td>0.46</td>\n",
       "      <td>0.52</td>\n",
       "      <td>27.53</td>\n",
       "      <td>26.03</td>\n",
       "      <td>26.00</td>\n",
       "      <td>25.87</td>\n",
       "      <td>0.00</td>\n",
       "      <td>0.22</td>\n",
       "      <td>1.17</td>\n",
       "      <td>1.35</td>\n",
       "      <td>corn</td>\n",
       "      <td>6</td>\n",
       "    </tr>\n",
       "    <tr>\n",
       "      <th>6</th>\n",
       "      <td>107A</td>\n",
       "      <td>39.42558</td>\n",
       "      <td>-112.65076</td>\n",
       "      <td>0.44</td>\n",
       "      <td>0.36</td>\n",
       "      <td>0.12</td>\n",
       "      <td>0.23</td>\n",
       "      <td>29.10</td>\n",
       "      <td>25.10</td>\n",
       "      <td>26.83</td>\n",
       "      <td>28.20</td>\n",
       "      <td>0.77</td>\n",
       "      <td>0.77</td>\n",
       "      <td>0.32</td>\n",
       "      <td>0.33</td>\n",
       "      <td>corn</td>\n",
       "      <td>7</td>\n",
       "    </tr>\n",
       "    <tr>\n",
       "      <th>7</th>\n",
       "      <td>107B</td>\n",
       "      <td>39.42521</td>\n",
       "      <td>-112.65077</td>\n",
       "      <td>0.54</td>\n",
       "      <td>0.15</td>\n",
       "      <td>0.12</td>\n",
       "      <td>0.18</td>\n",
       "      <td>28.83</td>\n",
       "      <td>25.90</td>\n",
       "      <td>27.97</td>\n",
       "      <td>29.30</td>\n",
       "      <td>0.87</td>\n",
       "      <td>0.12</td>\n",
       "      <td>0.02</td>\n",
       "      <td>0.13</td>\n",
       "      <td>grain</td>\n",
       "      <td>8</td>\n",
       "    </tr>\n",
       "    <tr>\n",
       "      <th>8</th>\n",
       "      <td>108A</td>\n",
       "      <td>39.43149</td>\n",
       "      <td>-112.62613</td>\n",
       "      <td>0.09</td>\n",
       "      <td>0.36</td>\n",
       "      <td>0.09</td>\n",
       "      <td>0.10</td>\n",
       "      <td>27.67</td>\n",
       "      <td>26.10</td>\n",
       "      <td>26.40</td>\n",
       "      <td>29.60</td>\n",
       "      <td>0.00</td>\n",
       "      <td>0.63</td>\n",
       "      <td>0.02</td>\n",
       "      <td>0.00</td>\n",
       "      <td>grain</td>\n",
       "      <td>9</td>\n",
       "    </tr>\n",
       "    <tr>\n",
       "      <th>9</th>\n",
       "      <td>108B</td>\n",
       "      <td>39.43152</td>\n",
       "      <td>-112.62648</td>\n",
       "      <td>0.07</td>\n",
       "      <td>0.42</td>\n",
       "      <td>0.08</td>\n",
       "      <td>0.08</td>\n",
       "      <td>27.00</td>\n",
       "      <td>25.33</td>\n",
       "      <td>27.07</td>\n",
       "      <td>30.73</td>\n",
       "      <td>0.03</td>\n",
       "      <td>0.81</td>\n",
       "      <td>0.01</td>\n",
       "      <td>0.00</td>\n",
       "      <td>grain</td>\n",
       "      <td>10</td>\n",
       "    </tr>\n",
       "    <tr>\n",
       "      <th>10</th>\n",
       "      <td>110A</td>\n",
       "      <td>39.36116</td>\n",
       "      <td>-112.63804</td>\n",
       "      <td>0.10</td>\n",
       "      <td>0.35</td>\n",
       "      <td>0.13</td>\n",
       "      <td>0.44</td>\n",
       "      <td>23.80</td>\n",
       "      <td>16.83</td>\n",
       "      <td>22.80</td>\n",
       "      <td>21.20</td>\n",
       "      <td>0.03</td>\n",
       "      <td>0.59</td>\n",
       "      <td>0.05</td>\n",
       "      <td>0.86</td>\n",
       "      <td>corn</td>\n",
       "      <td>11</td>\n",
       "    </tr>\n",
       "    <tr>\n",
       "      <th>11</th>\n",
       "      <td>110B</td>\n",
       "      <td>39.36113</td>\n",
       "      <td>-112.63842</td>\n",
       "      <td>0.13</td>\n",
       "      <td>0.43</td>\n",
       "      <td>0.12</td>\n",
       "      <td>0.47</td>\n",
       "      <td>24.53</td>\n",
       "      <td>16.57</td>\n",
       "      <td>21.43</td>\n",
       "      <td>21.27</td>\n",
       "      <td>0.06</td>\n",
       "      <td>0.93</td>\n",
       "      <td>0.03</td>\n",
       "      <td>0.91</td>\n",
       "      <td>alfalfa</td>\n",
       "      <td>12</td>\n",
       "    </tr>\n",
       "    <tr>\n",
       "      <th>12</th>\n",
       "      <td>111A</td>\n",
       "      <td>39.37198</td>\n",
       "      <td>-112.64099</td>\n",
       "      <td>0.26</td>\n",
       "      <td>0.15</td>\n",
       "      <td>0.50</td>\n",
       "      <td>0.13</td>\n",
       "      <td>25.23</td>\n",
       "      <td>25.07</td>\n",
       "      <td>24.67</td>\n",
       "      <td>26.90</td>\n",
       "      <td>0.43</td>\n",
       "      <td>0.06</td>\n",
       "      <td>0.94</td>\n",
       "      <td>0.04</td>\n",
       "      <td>alfalfa</td>\n",
       "      <td>13</td>\n",
       "    </tr>\n",
       "    <tr>\n",
       "      <th>13</th>\n",
       "      <td>111B</td>\n",
       "      <td>39.37169</td>\n",
       "      <td>-112.64102</td>\n",
       "      <td>0.26</td>\n",
       "      <td>0.15</td>\n",
       "      <td>0.54</td>\n",
       "      <td>0.14</td>\n",
       "      <td>24.93</td>\n",
       "      <td>25.23</td>\n",
       "      <td>23.00</td>\n",
       "      <td>27.07</td>\n",
       "      <td>0.45</td>\n",
       "      <td>0.03</td>\n",
       "      <td>1.37</td>\n",
       "      <td>0.07</td>\n",
       "      <td>alfalfa</td>\n",
       "      <td>14</td>\n",
       "    </tr>\n",
       "    <tr>\n",
       "      <th>14</th>\n",
       "      <td>113A</td>\n",
       "      <td>39.43207</td>\n",
       "      <td>-112.62260</td>\n",
       "      <td>0.07</td>\n",
       "      <td>0.14</td>\n",
       "      <td>0.06</td>\n",
       "      <td>0.17</td>\n",
       "      <td>27.10</td>\n",
       "      <td>24.93</td>\n",
       "      <td>28.13</td>\n",
       "      <td>31.33</td>\n",
       "      <td>0.13</td>\n",
       "      <td>0.06</td>\n",
       "      <td>0.03</td>\n",
       "      <td>0.10</td>\n",
       "      <td>alfalfa</td>\n",
       "      <td>15</td>\n",
       "    </tr>\n",
       "    <tr>\n",
       "      <th>15</th>\n",
       "      <td>113B</td>\n",
       "      <td>39.43212</td>\n",
       "      <td>-112.62296</td>\n",
       "      <td>0.10</td>\n",
       "      <td>0.17</td>\n",
       "      <td>0.06</td>\n",
       "      <td>0.17</td>\n",
       "      <td>26.93</td>\n",
       "      <td>24.80</td>\n",
       "      <td>29.27</td>\n",
       "      <td>30.70</td>\n",
       "      <td>0.11</td>\n",
       "      <td>0.08</td>\n",
       "      <td>0.03</td>\n",
       "      <td>0.13</td>\n",
       "      <td>alfalfa</td>\n",
       "      <td>16</td>\n",
       "    </tr>\n",
       "    <tr>\n",
       "      <th>16</th>\n",
       "      <td>117A</td>\n",
       "      <td>39.43937</td>\n",
       "      <td>-112.61599</td>\n",
       "      <td>0.27</td>\n",
       "      <td>0.37</td>\n",
       "      <td>0.13</td>\n",
       "      <td>0.11</td>\n",
       "      <td>27.03</td>\n",
       "      <td>26.93</td>\n",
       "      <td>30.50</td>\n",
       "      <td>29.70</td>\n",
       "      <td>0.33</td>\n",
       "      <td>0.52</td>\n",
       "      <td>0.07</td>\n",
       "      <td>0.02</td>\n",
       "      <td>alfalfa</td>\n",
       "      <td>17</td>\n",
       "    </tr>\n",
       "    <tr>\n",
       "      <th>17</th>\n",
       "      <td>117B</td>\n",
       "      <td>39.43936</td>\n",
       "      <td>-112.61637</td>\n",
       "      <td>0.19</td>\n",
       "      <td>0.27</td>\n",
       "      <td>0.08</td>\n",
       "      <td>0.08</td>\n",
       "      <td>26.90</td>\n",
       "      <td>25.57</td>\n",
       "      <td>30.63</td>\n",
       "      <td>30.37</td>\n",
       "      <td>0.12</td>\n",
       "      <td>0.35</td>\n",
       "      <td>0.04</td>\n",
       "      <td>0.01</td>\n",
       "      <td>alfalfa</td>\n",
       "      <td>18</td>\n",
       "    </tr>\n",
       "    <tr>\n",
       "      <th>18</th>\n",
       "      <td>119A</td>\n",
       "      <td>39.37638</td>\n",
       "      <td>-112.64129</td>\n",
       "      <td>0.25</td>\n",
       "      <td>0.14</td>\n",
       "      <td>0.10</td>\n",
       "      <td>0.16</td>\n",
       "      <td>24.27</td>\n",
       "      <td>21.40</td>\n",
       "      <td>24.57</td>\n",
       "      <td>22.33</td>\n",
       "      <td>0.41</td>\n",
       "      <td>0.05</td>\n",
       "      <td>0.02</td>\n",
       "      <td>0.06</td>\n",
       "      <td>alfalfa</td>\n",
       "      <td>19</td>\n",
       "    </tr>\n",
       "    <tr>\n",
       "      <th>19</th>\n",
       "      <td>119B</td>\n",
       "      <td>39.37606</td>\n",
       "      <td>-112.64129</td>\n",
       "      <td>0.21</td>\n",
       "      <td>0.15</td>\n",
       "      <td>0.10</td>\n",
       "      <td>0.33</td>\n",
       "      <td>24.43</td>\n",
       "      <td>22.73</td>\n",
       "      <td>24.87</td>\n",
       "      <td>23.40</td>\n",
       "      <td>0.24</td>\n",
       "      <td>0.10</td>\n",
       "      <td>0.00</td>\n",
       "      <td>0.73</td>\n",
       "      <td>alfalfa</td>\n",
       "      <td>20</td>\n",
       "    </tr>\n",
       "  </tbody>\n",
       "</table>\n",
       "</div>"
      ],
      "text/plain": [
       "   FIELD       LAT       LONG  SM0513  SM0529  SM0614  SM0630  T0513  T0529  \\\n",
       "0   101A  39.38476 -112.65024    0.39    0.14    0.10    0.13  24.93  25.80   \n",
       "1   101B  39.38447 -112.65022    0.32    0.15    0.11    0.13  25.20  25.23   \n",
       "2   104A  39.39835 -112.64149    0.50    0.54    0.29    0.08  25.37  24.03   \n",
       "3   104B  39.39805 -112.64149    0.47    0.12    0.26    0.10  23.07  24.30   \n",
       "4   105A  39.41692 -112.62920    0.07    0.24    0.56    0.65  26.10  25.60   \n",
       "5   105B  39.41664 -112.62922    0.07    0.22    0.46    0.52  27.53  26.03   \n",
       "6   107A  39.42558 -112.65076    0.44    0.36    0.12    0.23  29.10  25.10   \n",
       "7   107B  39.42521 -112.65077    0.54    0.15    0.12    0.18  28.83  25.90   \n",
       "8   108A  39.43149 -112.62613    0.09    0.36    0.09    0.10  27.67  26.10   \n",
       "9   108B  39.43152 -112.62648    0.07    0.42    0.08    0.08  27.00  25.33   \n",
       "10  110A  39.36116 -112.63804    0.10    0.35    0.13    0.44  23.80  16.83   \n",
       "11  110B  39.36113 -112.63842    0.13    0.43    0.12    0.47  24.53  16.57   \n",
       "12  111A  39.37198 -112.64099    0.26    0.15    0.50    0.13  25.23  25.07   \n",
       "13  111B  39.37169 -112.64102    0.26    0.15    0.54    0.14  24.93  25.23   \n",
       "14  113A  39.43207 -112.62260    0.07    0.14    0.06    0.17  27.10  24.93   \n",
       "15  113B  39.43212 -112.62296    0.10    0.17    0.06    0.17  26.93  24.80   \n",
       "16  117A  39.43937 -112.61599    0.27    0.37    0.13    0.11  27.03  26.93   \n",
       "17  117B  39.43936 -112.61637    0.19    0.27    0.08    0.08  26.90  25.57   \n",
       "18  119A  39.37638 -112.64129    0.25    0.14    0.10    0.16  24.27  21.40   \n",
       "19  119B  39.37606 -112.64129    0.21    0.15    0.10    0.33  24.43  22.73   \n",
       "\n",
       "    T0614  T0630  SA0513  SA0529  SA0614  SA0630     CROP  sampling point  \n",
       "0   23.77  28.97    0.60    0.09    0.00    0.05  alfalfa               1  \n",
       "1   24.90  29.10    0.59    0.07    0.02    0.05  alfalfa               2  \n",
       "2   25.87  28.50    1.01    0.36    0.40    0.01    grain               3  \n",
       "3   25.90  30.17    0.95    0.04    0.38    0.00    grain               4  \n",
       "4   28.20  29.27    0.00    0.50    2.23    3.73     corn               5  \n",
       "5   26.00  25.87    0.00    0.22    1.17    1.35     corn               6  \n",
       "6   26.83  28.20    0.77    0.77    0.32    0.33     corn               7  \n",
       "7   27.97  29.30    0.87    0.12    0.02    0.13    grain               8  \n",
       "8   26.40  29.60    0.00    0.63    0.02    0.00    grain               9  \n",
       "9   27.07  30.73    0.03    0.81    0.01    0.00    grain              10  \n",
       "10  22.80  21.20    0.03    0.59    0.05    0.86     corn              11  \n",
       "11  21.43  21.27    0.06    0.93    0.03    0.91  alfalfa              12  \n",
       "12  24.67  26.90    0.43    0.06    0.94    0.04  alfalfa              13  \n",
       "13  23.00  27.07    0.45    0.03    1.37    0.07  alfalfa              14  \n",
       "14  28.13  31.33    0.13    0.06    0.03    0.10  alfalfa              15  \n",
       "15  29.27  30.70    0.11    0.08    0.03    0.13  alfalfa              16  \n",
       "16  30.50  29.70    0.33    0.52    0.07    0.02  alfalfa              17  \n",
       "17  30.63  30.37    0.12    0.35    0.04    0.01  alfalfa              18  \n",
       "18  24.57  22.33    0.41    0.05    0.02    0.06  alfalfa              19  \n",
       "19  24.87  23.40    0.24    0.10    0.00    0.73  alfalfa              20  "
      ]
     },
     "execution_count": 15,
     "metadata": {},
     "output_type": "execute_result"
    }
   ],
   "source": [
    "# Load the Pandas libraries with alias 'pd' \n",
    "import pandas as pd \n",
    "# Read data from file 'filename.csv' \n",
    "# (in the same directory that your python process is based)\n",
    "data = pd.read_csv(\".//Ground_Information//Prj_Delta_2012_SoilMoisture_topsoil.csv\") \n",
    "# Preview the the loaded data \n",
    "data"
   ]
  },
  {
   "cell_type": "markdown",
   "metadata": {},
   "source": [
    "The explanation for the column names are as follow:\n",
    "\n",
    "- FIELD\t: custom name for the farm\n",
    "- LAT\tLONG\t: GPS coordinates\n",
    "- SM0513\tSM0529\tSM0614\tSM0630\t: soil moisture values in May 13, May 29, Jun 14, June 30.\n",
    "- T0513\tT0529\tT0614\tT0630\t: soil temperature in May 13, May 29, Jun 14, June 30.\n",
    "- SA0513\tSA0529\tSA0614\tSA0630\t: soil electrical conductivity in May 13, May 29, Jun 14, June 30.\n",
    "- CROP\t: vegetation present in the farm\n",
    "- sampling point:  custom sequential numeration."
   ]
  },
  {
   "cell_type": "markdown",
   "metadata": {},
   "source": [
    "# Let's display the Soil Moisture locations in a map"
   ]
  },
  {
   "cell_type": "code",
   "execution_count": 16,
   "metadata": {},
   "outputs": [
    {
     "data": {
      "application/vnd.jupyter.widget-view+json": {
       "model_id": "580d7db471c9421ba8cf3affc202d61d",
       "version_major": 2,
       "version_minor": 0
      },
      "text/plain": [
       "Map(center=[20, 0], controls=(WidgetControl(options=['position', 'transparent_bg'], widget=HBox(children=(Togg…"
      ]
     },
     "execution_count": 16,
     "metadata": {},
     "output_type": "execute_result"
    }
   ],
   "source": [
    "#Creating a web based MAP\n",
    "import geemap\n",
    "Map = geemap.Map() \n",
    "# Map.add_basemap( \"Esri Satellite\")\n",
    "Map\n",
    "\n",
    "# to learn how to change basemaps, run the command below in a new cell\n",
    "# geemap.show_youtube('6J5ZCIUPXfI')\n"
   ]
  },
  {
   "cell_type": "code",
   "execution_count": 17,
   "metadata": {},
   "outputs": [
    {
     "data": {
      "application/vnd.jupyter.widget-view+json": {
       "model_id": "ac5420de277247439417bb2c50abec99",
       "version_major": 2,
       "version_minor": 0
      },
      "text/plain": [
       "Map(center=[39.4037160204789, -112.63575111241983], controls=(WidgetControl(options=['position', 'transparent_…"
      ]
     },
     "execution_count": 17,
     "metadata": {},
     "output_type": "execute_result"
    }
   ],
   "source": [
    "# plotting the points on the map.\n",
    "in_csv = \".//Ground_Information//Prj_Delta_2012_SoilMoisture_topsoil.csv\"\n",
    "\n",
    "import pandas\n",
    "import geopandas\n",
    "\n",
    "# from io import StringIO\n",
    "\n",
    "# gdf = geopandas.GeoDataFrame(pandas.read_csv(in_csv))\n",
    "# gdf.set_geometry(\n",
    "#     geopandas.points_from_xy(gdf['LONG'], gdf['LAT']),\n",
    "#     inplace=True, crs='EPSG:4326') #EPSG:4326 is WGS84\n",
    "# gdf.drop(['LAT', 'LONG'], axis=1, inplace=True)  # optional\n",
    "\n",
    "\n",
    "# points = geemap.xy_to_points(in_csv, latitude='LAT', longitude='LONG')\n",
    "in_shp = './/Results Step 1//soil_moisture.shp'\n",
    "\n",
    "sm_locations = geemap.shp_to_ee(in_shp)\n",
    "\n",
    "Map1 = geemap.Map() \n",
    "Map1.addLayer(sm_locations, {'color': 'red'}, 'Soil Moisture')\n",
    "\n",
    "Map1.centerObject(sm_locations, 12)\n",
    "\n",
    "Map1"
   ]
  },
  {
   "cell_type": "markdown",
   "metadata": {},
   "source": [
    "You can use the zoom option to see in detail the soil moisture locations (for every location, currently are two locations)."
   ]
  },
  {
   "cell_type": "markdown",
   "metadata": {},
   "source": [
    "### Adquire Remote Sensing Data \n",
    "\n",
    "For the dates we have soil moisture data available, we know that Landsat 7 was passing over. So, to retrive satellite information, we need the following information:\n",
    "\n",
    "- Remote Sensing data : Landsat 7\n",
    "- Dates: '2012-05-13', '2012-05-29', '2012-06-14', '2012-06-30' (DOYs 136, 152, 168, 184)\n",
    "- Location: Delta, UT (39.375103,-112.633001) \n",
    "- Area of interest: [-112.810777, 39.495071, -112.503826,  39.230045] #two corners.\n",
    "\n",
    "We do not want to process the entire Landsat, but a section. In the text above, we defined two corners of a reactangular area that emcompases the agricutural land of Delta, UT. \n",
    "\n",
    "Let's include the area in the map."
   ]
  },
  {
   "cell_type": "code",
   "execution_count": 18,
   "metadata": {},
   "outputs": [
    {
     "data": {
      "application/vnd.jupyter.widget-view+json": {
       "model_id": "a3298e615204489ea4233c490201d575",
       "version_major": 2,
       "version_minor": 0
      },
      "text/plain": [
       "Map(center=[39.399978753927925, -112.63224349999895], controls=(WidgetControl(options=['position', 'transparen…"
      ]
     },
     "execution_count": 18,
     "metadata": {},
     "output_type": "execute_result"
    }
   ],
   "source": [
    "import ee\n",
    "\n",
    "Delta_area = ee.Geometry.Rectangle([-112.658355,39.442565,-112.606132,39.357404])\n",
    "Map2 = geemap.Map() \n",
    "Map2.addLayer(Delta_area, {}, name='Delta_area')\n",
    "Map2.centerObject(Delta_area, 11)\n",
    "\n",
    "Map2"
   ]
  },
  {
   "cell_type": "markdown",
   "metadata": {},
   "source": [
    "Let's display the Landsat images corrresponing to the dates. See details of landsat 7 metadata [here](https://developers.google.com/earth-engine/datasets/catalog/LANDSAT_LE07_C01_T1_SR#bands\n",
    ") "
   ]
  },
  {
   "cell_type": "code",
   "execution_count": 19,
   "metadata": {},
   "outputs": [],
   "source": [
    "# identifying landsat 7 image on the dates of interest\n",
    "\n",
    "import eemont\n",
    "\n",
    "landsat7 = ee.ImageCollection(\"LANDSAT/LE07/C02/T1_L2\").filterBounds(Delta_area) # Landsat 7 archive.\n",
    "landsat7 = landsat7.preprocess()"
   ]
  },
  {
   "cell_type": "markdown",
   "metadata": {},
   "source": [
    "A satellite image consists of \"bands\", images that capture specific waveleghts of light. Landsat 7 captures 7 bands called:\n",
    "\n",
    "B1 = blue\n",
    "B2 = green\n",
    "B3 = red\n",
    "B4 = infrared\n",
    "B5 = shortwave 1\n",
    "B6 = thermal\n",
    "B7 = shortwave 2\n",
    "\n",
    "by combining the bands in different ways (e.g. B3, B2, B1) re replicate what our eyes can see. and other combinations (B4, B3, B2) allows us to see certain surfaces, e,g. vegetation."
   ]
  },
  {
   "cell_type": "markdown",
   "metadata": {},
   "source": [
    "The bands are useful for visual assessment, but the best information is extracted from the bands using vegetation indices. See this link for a summarized explanantion of vegetation indices.https://eemont.readthedocs.io/en/0.1.7/guide/spectralIndices.html"
   ]
  },
  {
   "cell_type": "markdown",
   "metadata": {},
   "source": [
    "Let's calculate vegetation indices for all Landsat images"
   ]
  },
  {
   "cell_type": "code",
   "execution_count": 20,
   "metadata": {},
   "outputs": [],
   "source": [
    "import warnings #the last command produces a lot of warnings\n",
    "warnings.filterwarnings('ignore')\n",
    "\n",
    "landsat7 = landsat7.spectralIndices('vegetation')\n"
   ]
  },
  {
   "cell_type": "code",
   "execution_count": 21,
   "metadata": {},
   "outputs": [],
   "source": [
    "# code for the first Landsat date\n",
    "landsat7_may_13 = ee.Image(landsat7. #the dataset\n",
    "                    filterDate('2012-05-12','2012-05-14'). # the date before and after\n",
    "                    first()) # the first image from the aplication of the two previous filters\n",
    "# code for the other three landsat dates\n",
    "landsat7_may_29 = ee.Image(landsat7.filterDate('2012-05-28','2012-05-30').first()) # all commands in one line.\n",
    "landsat7_jun_14 = ee.Image(landsat7.filterDate('2012-06-13','2012-06-15').first()) # all commands in one line.\n",
    "landsat7_jun_30 = ee.Image(landsat7.filterDate('2012-06-29','2012-07-01').first()) # all commands in one line."
   ]
  },
  {
   "cell_type": "code",
   "execution_count": 22,
   "metadata": {},
   "outputs": [
    {
     "data": {
      "application/vnd.jupyter.widget-view+json": {
       "model_id": "9513193f861b429bb284f71d5e7a58a7",
       "version_major": 2,
       "version_minor": 0
      },
      "text/plain": [
       "Map(center=[38.90616239179155, -112.38476873624566], controls=(WidgetControl(options=['position', 'transparent…"
      ]
     },
     "execution_count": 22,
     "metadata": {},
     "output_type": "execute_result"
    }
   ],
   "source": [
    "#sending images to the map. Check the individual images clicking in the layer icon.\n",
    "Map3 = geemap.Map() \n",
    "Map3.addLayer(landsat7_may_13, {'bands': ['SR_B3', 'SR_B2', 'SR_B1'], 'min': 0, 'max': 0.3}, 'landsat7_may_13')\n",
    "Map3.addLayer(landsat7_may_29, {'bands': ['SR_B3', 'SR_B2', 'SR_B1'], 'min': 0, 'max': 0.3}, 'landsat7_may_29')\n",
    "Map3.addLayer(landsat7_jun_14, {'bands': ['SR_B3', 'SR_B2', 'SR_B1'], 'min': 0, 'max': 0.3}, 'landsat7_jun_14')\n",
    "Map3.addLayer(landsat7_jun_30, {'bands': ['SR_B3', 'SR_B2', 'SR_B1'], 'min': 0, 'max': 0.3}, 'landsat7_jun_30')\n",
    "\n",
    "Map3.centerObject(landsat7_jun_30, 8)\n",
    "\n",
    "\n",
    "Map3"
   ]
  },
  {
   "cell_type": "markdown",
   "metadata": {},
   "source": [
    "We can clearly see that each Landsat image shows different conditions in vegetation. This is good. We want our model to be able to describe a range of vegetation and soil conditions."
   ]
  },
  {
   "cell_type": "markdown",
   "metadata": {},
   "source": [
    "### Getting only the area of interest from Landsat images\n",
    "\n",
    "We are not interested in the entire Landsat 7 image, but on Delta's agricultural lands. So we will clip the Landsat images using the Delta_area polygon."
   ]
  },
  {
   "cell_type": "markdown",
   "metadata": {},
   "source": [
    "To know more about Landsat bands, check the pdf *SelectingAppropriateBandCombinations_Final.pdf* included in this repository."
   ]
  },
  {
   "cell_type": "markdown",
   "metadata": {},
   "source": [
    "Now let's get images for the dates, selecting only the bands of interest and clipping image to the AOI region. Let's verify the images are adequately clipped in the map."
   ]
  },
  {
   "cell_type": "code",
   "execution_count": 23,
   "metadata": {
    "tags": []
   },
   "outputs": [
    {
     "data": {
      "application/vnd.jupyter.widget-view+json": {
       "model_id": "c71828de2c744ae58f7ccd67edad1a1b",
       "version_major": 2,
       "version_minor": 0
      },
      "text/plain": [
       "Map(center=[39.399978753927925, -112.63224349999895], controls=(WidgetControl(options=['position', 'transparen…"
      ]
     },
     "execution_count": 23,
     "metadata": {},
     "output_type": "execute_result"
    }
   ],
   "source": [
    "landsat7_may_13 = landsat7_may_13.clip(Delta_area)\n",
    "landsat7_may_29 = landsat7_may_29.clip(Delta_area)\n",
    "landsat7_jun_14 = landsat7_jun_14.clip(Delta_area)\n",
    "landsat7_jun_30 = landsat7_jun_30.clip(Delta_area)\n",
    "\n",
    "#sending images to the map\n",
    "Map4 = geemap.Map() \n",
    "\n",
    "Map4.addLayer(landsat7_may_13, {'bands': ['SR_B4', 'SR_B3', 'SR_B2'], 'min': 0, 'max': 0.3}, 'landsat7_may_13_clipped')\n",
    "Map4.addLayer(landsat7_may_29, {'bands': ['SR_B4', 'SR_B3', 'SR_B2'], 'min': 0, 'max': 0.3}, 'landsat7_may_29_clipped')\n",
    "Map4.addLayer(landsat7_jun_14, {'bands': ['SR_B4', 'SR_B3', 'SR_B2'], 'min': 0, 'max': 0.3}, 'landsat7_jun_14_clipped')\n",
    "Map4.addLayer(landsat7_jun_30, {'bands': ['SR_B4', 'SR_B3', 'SR_B2'], 'min': 0, 'max': 0.3}, 'landsat7_jun_30_clipped')\n",
    "\n",
    "Map4.centerObject(landsat7_jun_30, 11)\n",
    "\n",
    "Map4"
   ]
  },
  {
   "cell_type": "markdown",
   "metadata": {
    "tags": []
   },
   "source": [
    "We changed the order of the bands when displaying the clipped images. Do not worry the satellite information is still the same. Note: this change in bands is called \"false color\".\n",
    "\n",
    "### Extracting pixel information from Landsat images\n",
    "\n",
    "To train a machine learning, we need to get the pixel information for the soil moisture locations. Since we have the coordinates of the soil moisture locations and the respective Landsat images, we can query each image and extract the pixel information. Let's export the pixel values to HydroShare JupyterHUB environment"
   ]
  },
  {
   "cell_type": "code",
   "execution_count": 25,
   "metadata": {},
   "outputs": [
    {
     "name": "stdout",
     "output_type": "stream",
     "text": [
      "Generating URL ...\n",
      "Downloading data from https://earthengine.googleapis.com/v1/projects/earthengine-legacy/thumbnails/0a4264b3a2fa048ee352c10b9f0c26bc-35faba14c815639672414600bbe17e26:getPixels\n",
      "Please wait ...\n",
      "Data downloaded to /home/jovyan/data/courses/Machine-Learning-Applications-in-Remote-Sensing-Data/Results Step 1/landsat7_may_13_clipped.tif\n",
      "Generating URL ...\n",
      "Downloading data from https://earthengine.googleapis.com/v1/projects/earthengine-legacy/thumbnails/8d54434b7ce789649c95c023851ce729-36b0d7edeecae11715a2a1ecd2180265:getPixels\n",
      "Please wait ...\n",
      "Data downloaded to /home/jovyan/data/courses/Machine-Learning-Applications-in-Remote-Sensing-Data/Results Step 1/landsat7_may_29_clipped.tif\n",
      "Generating URL ...\n",
      "Downloading data from https://earthengine.googleapis.com/v1/projects/earthengine-legacy/thumbnails/117c72003d0ed9d9e24dbf37c0dc29c2-be70c4bd51e115866511bc8d104cd846:getPixels\n",
      "Please wait ...\n",
      "Data downloaded to /home/jovyan/data/courses/Machine-Learning-Applications-in-Remote-Sensing-Data/Results Step 1/landsat7_jun_14_clipped.tif\n",
      "Generating URL ...\n",
      "Downloading data from https://earthengine.googleapis.com/v1/projects/earthengine-legacy/thumbnails/295e402b4ae8ea300d46268cc6f92045-5c1ff2589f91323d9718a85621d39bee:getPixels\n",
      "Please wait ...\n",
      "Data downloaded to /home/jovyan/data/courses/Machine-Learning-Applications-in-Remote-Sensing-Data/Results Step 1/landsat7_jun_30_clipped.tif\n"
     ]
    }
   ],
   "source": [
    "import os\n",
    "\n",
    "# plotting the points on the map.\n",
    "out_dir = \".//Results Step 1\"\n",
    "\n",
    "filename=os.path.join(out_dir,'landsat7_may_13'+'_clipped.tif')\n",
    "geemap.ee_export_image(landsat7_may_13.select(['SR_B4', 'SR_B3', 'SR_B2']), filename=filename, scale=30, region=Delta_area, file_per_band=False)\n",
    "\n",
    "filename=os.path.join(out_dir,'landsat7_may_29'+'_clipped.tif')\n",
    "geemap.ee_export_image(landsat7_may_29.select(['SR_B4', 'SR_B3', 'SR_B2']), filename=filename, scale=30, region=Delta_area, file_per_band=False)\n",
    "\n",
    "filename=os.path.join(out_dir,'landsat7_jun_14'+'_clipped.tif')\n",
    "geemap.ee_export_image(landsat7_jun_14.select(['SR_B4', 'SR_B3', 'SR_B2']), filename=filename, scale=30, region=Delta_area, file_per_band=False)\n",
    "\n",
    "filename=os.path.join(out_dir,'landsat7_jun_30'+'_clipped.tif')\n",
    "geemap.ee_export_image(landsat7_jun_30.select(['SR_B4', 'SR_B3', 'SR_B2']), filename=filename, scale=30, region=Delta_area, file_per_band=False)"
   ]
  },
  {
   "cell_type": "code",
   "execution_count": 26,
   "metadata": {},
   "outputs": [
    {
     "name": "stdout",
     "output_type": "stream",
     "text": [
      "Generating URL ...\n",
      "Downloading data from https://earthengine.googleapis.com/v1/projects/earthengine-legacy/tables/8e24841a4cef534c4ff3a25afbcc0bb6-bf00f19b4d0f61105b9ed6b8745c8a38:getFeatures\n",
      "Please wait ...\n",
      "Data downloaded to /home/jovyan/data/courses/Machine-Learning-Applications-in-Remote-Sensing-Data/Results Step 1/landsat7_may_13_sm_pixels.csv\n",
      "Generating URL ...\n",
      "Downloading data from https://earthengine.googleapis.com/v1/projects/earthengine-legacy/tables/a2fbafbbec83b67fc90079aebba531b7-971325d61795743acc7fc415ce477192:getFeatures\n",
      "Please wait ...\n",
      "Data downloaded to /home/jovyan/data/courses/Machine-Learning-Applications-in-Remote-Sensing-Data/Results Step 1/landsat7_may_29_sm_pixels.csv\n",
      "Generating URL ...\n",
      "Downloading data from https://earthengine.googleapis.com/v1/projects/earthengine-legacy/tables/d1643b40bca8f1eb9603c9a9208e12e4-b7840a1261704bc3783894a669809392:getFeatures\n",
      "Please wait ...\n",
      "Data downloaded to /home/jovyan/data/courses/Machine-Learning-Applications-in-Remote-Sensing-Data/Results Step 1/landsat7_jun_14_sm_pixels.csv\n",
      "Generating URL ...\n",
      "Downloading data from https://earthengine.googleapis.com/v1/projects/earthengine-legacy/tables/6697912a3f0dd29cc3680a19f5071243-5e1425e8d169065c6ed1e04e7f7f2031:getFeatures\n",
      "Please wait ...\n",
      "Data downloaded to /home/jovyan/data/courses/Machine-Learning-Applications-in-Remote-Sensing-Data/Results Step 1/landsat7_jun_30_sm_pixels.csv\n"
     ]
    }
   ],
   "source": [
    "filename=os.path.join(out_dir,'landsat7_may_13_sm_pixels.csv')\n",
    "geemap.extract_values_to_points(sm_locations, landsat7_may_13, filename)\n",
    "\n",
    "filename=os.path.join(out_dir,'landsat7_may_29_sm_pixels.csv')\n",
    "geemap.extract_values_to_points(sm_locations, landsat7_may_29, filename)\n",
    "\n",
    "filename=os.path.join(out_dir,'landsat7_jun_14_sm_pixels.csv')\n",
    "geemap.extract_values_to_points(sm_locations, landsat7_jun_14, filename)\n",
    "\n",
    "filename=os.path.join(out_dir,'landsat7_jun_30_sm_pixels.csv')\n",
    "geemap.extract_values_to_points(sm_locations, landsat7_jun_30, filename)"
   ]
  },
  {
   "cell_type": "markdown",
   "metadata": {},
   "source": [
    "Let's move to [Step 2](./DSAW_Application_1_Step_2.ipynb)."
   ]
  },
  {
   "cell_type": "code",
   "execution_count": null,
   "metadata": {},
   "outputs": [],
   "source": []
  },
  {
   "cell_type": "code",
   "execution_count": null,
   "metadata": {},
   "outputs": [],
   "source": []
  }
 ],
 "metadata": {
  "kernelspec": {
   "display_name": "Python 3 (ipykernel)",
   "language": "python",
   "name": "python3"
  },
  "language_info": {
   "codemirror_mode": {
    "name": "ipython",
    "version": 3
   },
   "file_extension": ".py",
   "mimetype": "text/x-python",
   "name": "python",
   "nbconvert_exporter": "python",
   "pygments_lexer": "ipython3",
   "version": "3.9.7"
  },
  "latex_envs": {
   "LaTeX_envs_menu_present": true,
   "autoclose": false,
   "autocomplete": true,
   "bibliofile": "biblio.bib",
   "cite_by": "apalike",
   "current_citInitial": 1,
   "eqLabelWithNumbers": true,
   "eqNumInitial": 1,
   "hotkeys": {
    "equation": "Ctrl-E",
    "itemize": "Ctrl-I"
   },
   "labels_anchors": false,
   "latex_user_defs": false,
   "report_style_numbering": false,
   "user_envs_cfg": false
  },
  "widgets": {
   "application/vnd.jupyter.widget-state+json": {
    "state": {
     "003d3ad9923c4db192b04718dcd5bc11": {
      "model_module": "@jupyter-widgets/controls",
      "model_module_version": "2.0.0",
      "model_name": "HBoxModel",
      "state": {
       "_view_count": 1,
       "children": [
        "IPY_MODEL_bdefaa29b8e64416a0efb82691b8c02a"
       ],
       "layout": "IPY_MODEL_9cc5b273f20a4e79be8cf6aab4146849"
      }
     },
     "004d8113aa124390b9abbb0664869bff": {
      "model_module": "@jupyter-widgets/base",
      "model_module_version": "2.0.0",
      "model_name": "LayoutModel",
      "state": {
       "height": "28px",
       "padding": "0px 0px 0px 4px",
       "width": "28px"
      }
     },
     "005a324f677c461b8c8b63925aab6fd6": {
      "model_module": "@jupyter-widgets/controls",
      "model_module_version": "2.0.0",
      "model_name": "ToggleButtonStyleModel",
      "state": {
       "description_width": "",
       "font_family": null,
       "font_size": null,
       "font_style": null,
       "font_variant": null,
       "font_weight": null,
       "text_color": null,
       "text_decoration": null
      }
     },
     "009d0f6226234a6d9bde542db66b2596": {
      "model_module": "jupyter-leaflet",
      "model_module_version": "^0.17",
      "model_name": "LeafletFullScreenControlModel",
      "state": {
       "_model_module_version": "^0.17",
       "_view_module_version": "^0.17",
       "options": [
        "position"
       ]
      }
     },
     "010e874f821b4c29aa23f5c5a43be0bc": {
      "model_module": "jupyter-leaflet",
      "model_module_version": "^0.17",
      "model_name": "LeafletTileLayerModel",
      "state": {
       "_model_module_version": "^0.17",
       "_view_module_version": "^0.17",
       "attribution": "Google Earth Engine",
       "max_zoom": 24,
       "name": "landsat7_jun_14",
       "options": [
        "attribution",
        "bounds",
        "detect_retina",
        "max_native_zoom",
        "max_zoom",
        "min_native_zoom",
        "min_zoom",
        "no_wrap",
        "tile_size",
        "tms",
        "zoom_offset"
       ],
       "url": "https://earthengine.googleapis.com/v1/projects/earthengine-legacy/maps/3ccba73d9094b762d4b619d492b31806-dfdb77eb0b8320e75c42b3983c4b5ede/tiles/{z}/{x}/{y}"
      }
     },
     "017283183b484fe1b76abf63beeaef72": {
      "model_module": "@jupyter-widgets/controls",
      "model_module_version": "2.0.0",
      "model_name": "ToggleButtonStyleModel",
      "state": {
       "description_width": "",
       "font_family": null,
       "font_size": null,
       "font_style": null,
       "font_variant": null,
       "font_weight": null,
       "text_color": null,
       "text_decoration": null
      }
     },
     "01d1afb77e1d40d9980b0b306f593f54": {
      "model_module": "@jupyter-widgets/base",
      "model_module_version": "2.0.0",
      "model_name": "LayoutModel",
      "state": {
       "height": "auto",
       "padding": "0px 0px 0px 4px",
       "width": "auto"
      }
     },
     "01da4565616145dea354c042e311fa2b": {
      "model_module": "@jupyter-widgets/base",
      "model_module_version": "2.0.0",
      "model_name": "LayoutModel",
      "state": {
       "height": "28px",
       "padding": "0px 0px 0px 4px",
       "width": "28px"
      }
     },
     "02027be84f9246c4acadfbf8213880f8": {
      "model_module": "@jupyter-widgets/base",
      "model_module_version": "2.0.0",
      "model_name": "LayoutModel",
      "state": {
       "height": "auto",
       "padding": "0px 0px 0px 4px",
       "width": "auto"
      }
     },
     "029d51c10cfe42198ae8b6b0f6eb5701": {
      "model_module": "@jupyter-widgets/controls",
      "model_module_version": "2.0.0",
      "model_name": "ToggleButtonsStyleModel",
      "state": {
       "button_width": "110px",
       "description_width": ""
      }
     },
     "02b74d8e7d724e7b9ccd3b876118035d": {
      "model_module": "@jupyter-widgets/controls",
      "model_module_version": "2.0.0",
      "model_name": "ToggleButtonModel",
      "state": {
       "icon": "globe",
       "layout": "IPY_MODEL_e7d39d65df674d2cb818b413d275f50e",
       "style": "IPY_MODEL_f815ebca3634418ba0abbda4a965023c",
       "tooltip": "Search location/data"
      }
     },
     "02c1e4a874674480b44e4fb8c55e740c": {
      "model_module": "@jupyter-widgets/controls",
      "model_module_version": "2.0.0",
      "model_name": "DropdownModel",
      "state": {
       "index": null,
       "layout": "IPY_MODEL_f286a260b4eb4d63a1ed08a569c84f5a",
       "style": "IPY_MODEL_122daa7b9a1b40198016c7f6ece3be4e"
      }
     },
     "031ea813291e4dedad086c73176f1391": {
      "model_module": "jupyter-leaflet",
      "model_module_version": "^0.17",
      "model_name": "LeafletTileLayerModel",
      "state": {
       "_model_module_version": "^0.17",
       "_view_module_version": "^0.17",
       "attribution": "&copy; <a href=\"https://www.openstreetmap.org/copyright\">OpenStreetMap</a> contributors",
       "base": true,
       "max_zoom": 19,
       "min_zoom": 1,
       "name": "OpenStreetMap.Mapnik",
       "options": [
        "attribution",
        "bounds",
        "detect_retina",
        "max_native_zoom",
        "max_zoom",
        "min_native_zoom",
        "min_zoom",
        "no_wrap",
        "tile_size",
        "tms",
        "zoom_offset"
       ],
       "url": "https://tile.openstreetmap.org/{z}/{x}/{y}.png"
      }
     },
     "031f7eb5a0c54a1991738ea3f31eec9f": {
      "model_module": "@jupyter-widgets/base",
      "model_module_version": "2.0.0",
      "model_name": "LayoutModel",
      "state": {
       "height": "auto",
       "padding": "0px 0px 0px 4px",
       "width": "auto"
      }
     },
     "035726a5ddca449a8916da6aefe398b1": {
      "model_module": "@jupyter-widgets/base",
      "model_module_version": "2.0.0",
      "model_name": "LayoutModel",
      "state": {
       "height": "auto",
       "padding": "0px 0px 0px 4px",
       "width": "auto"
      }
     },
     "03cf7646062a46858a3e7bc8dd8c520a": {
      "model_module": "jupyter-leaflet",
      "model_module_version": "^0.17",
      "model_name": "LeafletWidgetControlModel",
      "state": {
       "_model_module": "jupyter-leaflet",
       "_model_module_version": "^0.17",
       "_view_count": null,
       "_view_module": "jupyter-leaflet",
       "_view_module_version": "^0.17",
       "options": [
        "position",
        "transparent_bg"
       ],
       "position": "topleft",
       "widget": "IPY_MODEL_2ba0a26577a34ffea869d131644a4a9d"
      }
     },
     "03d376a6c89240dfb0c7ace8f4a3b55d": {
      "model_module": "@jupyter-widgets/controls",
      "model_module_version": "2.0.0",
      "model_name": "ToggleButtonStyleModel",
      "state": {
       "description_width": "",
       "font_family": null,
       "font_size": null,
       "font_style": null,
       "font_variant": null,
       "font_weight": null,
       "text_color": null,
       "text_decoration": null
      }
     },
     "03dc7a0cf72c4df9b13ad75f19606df7": {
      "model_module": "jupyter-leaflet",
      "model_module_version": "^0.17",
      "model_name": "LeafletMeasureControlModel",
      "state": {
       "_model_module_version": "^0.17",
       "_view_module_version": "^0.17",
       "active_color": "orange",
       "options": [
        "active_color",
        "capture_z_index",
        "completed_color",
        "popup_options",
        "position",
        "primary_area_unit",
        "primary_length_unit",
        "secondary_area_unit",
        "secondary_length_unit"
       ],
       "position": "bottomleft",
       "primary_length_unit": "kilometers",
       "secondary_area_unit": null,
       "secondary_length_unit": null
      }
     },
     "0414e751694d4503a64f367e8ee6d24b": {
      "model_module": "@jupyter-widgets/base",
      "model_module_version": "2.0.0",
      "model_name": "LayoutModel",
      "state": {}
     },
     "049b3081b20f465e86b7c6b11c358df0": {
      "model_module": "@jupyter-widgets/controls",
      "model_module_version": "2.0.0",
      "model_name": "DescriptionStyleModel",
      "state": {
       "description_width": ""
      }
     },
     "04dc339fe4ab4337b6444a30f73a4d11": {
      "model_module": "jupyter-leaflet",
      "model_module_version": "^0.17",
      "model_name": "LeafletMeasureControlModel",
      "state": {
       "_model_module_version": "^0.17",
       "_view_module_version": "^0.17",
       "active_color": "orange",
       "options": [
        "active_color",
        "capture_z_index",
        "completed_color",
        "popup_options",
        "position",
        "primary_area_unit",
        "primary_length_unit",
        "secondary_area_unit",
        "secondary_length_unit"
       ],
       "position": "bottomleft",
       "primary_length_unit": "kilometers",
       "secondary_area_unit": null,
       "secondary_length_unit": null
      }
     },
     "05023fec40f64f6a915aa299e4d98a25": {
      "model_module": "@jupyter-widgets/controls",
      "model_module_version": "2.0.0",
      "model_name": "ToggleButtonStyleModel",
      "state": {
       "description_width": "",
       "font_family": null,
       "font_size": null,
       "font_style": null,
       "font_variant": null,
       "font_weight": null,
       "text_color": null,
       "text_decoration": null
      }
     },
     "05044dea756c443ca07bbf3cc441607a": {
      "model_module": "jupyter-leaflet",
      "model_module_version": "^0.17",
      "model_name": "LeafletAttributionControlModel",
      "state": {
       "_model_module_version": "^0.17",
       "_view_module_version": "^0.17",
       "options": [
        "position",
        "prefix"
       ],
       "position": "bottomright",
       "prefix": "ipyleaflet"
      }
     },
     "05196513eba742309037ed4434160083": {
      "model_module": "@jupyter-widgets/base",
      "model_module_version": "2.0.0",
      "model_name": "LayoutModel",
      "state": {
       "max_width": "279px",
       "min_width": "279px"
      }
     },
     "0525a4437a7e4bcbb0d85f5f9c6e19ed": {
      "model_module": "jupyter-leaflet",
      "model_module_version": "^0.17",
      "model_name": "LeafletZoomControlModel",
      "state": {
       "_model_module_version": "^0.17",
       "_view_module_version": "^0.17",
       "options": [
        "position",
        "zoom_in_text",
        "zoom_in_title",
        "zoom_out_text",
        "zoom_out_title"
       ]
      }
     },
     "0550b3f0ce0c49aa908c7a25f1d56bd7": {
      "model_module": "@jupyter-widgets/controls",
      "model_module_version": "2.0.0",
      "model_name": "ToggleButtonStyleModel",
      "state": {
       "description_width": "",
       "font_family": null,
       "font_size": null,
       "font_style": null,
       "font_variant": null,
       "font_weight": null,
       "text_color": null,
       "text_decoration": null
      }
     },
     "056a512c4f9943a5a3ced07383bc368a": {
      "model_module": "@jupyter-widgets/base",
      "model_module_version": "2.0.0",
      "model_name": "LayoutModel",
      "state": {
       "height": "auto",
       "padding": "0px 0px 0px 4px",
       "width": "auto"
      }
     },
     "05b2a97b257348fc96e31a5417600f90": {
      "model_module": "@jupyter-widgets/controls",
      "model_module_version": "2.0.0",
      "model_name": "ButtonModel",
      "state": {
       "button_style": "primary",
       "description": "import",
       "layout": "IPY_MODEL_9ea74d2c874f40faa738624d001af490",
       "style": "IPY_MODEL_a8a6f9b783f54fb2a7d66af56a8ce0ce",
       "tooltip": "Click to import the selected asset"
      }
     },
     "05ba41e06d2c4443aeaafa2bf8ac5fe7": {
      "model_module": "jupyter-leaflet",
      "model_module_version": "^0.17",
      "model_name": "LeafletWidgetControlModel",
      "state": {
       "_model_module": "jupyter-leaflet",
       "_model_module_version": "^0.17",
       "_view_count": null,
       "_view_module": "jupyter-leaflet",
       "_view_module_version": "^0.17",
       "options": [
        "position",
        "transparent_bg"
       ],
       "position": "topleft",
       "widget": "IPY_MODEL_945a1c3bd91d43088e955734431f6cb6"
      }
     },
     "05cd679e8f614f519e3e375a2118eeda": {
      "model_module": "@jupyter-widgets/base",
      "model_module_version": "2.0.0",
      "model_name": "LayoutModel",
      "state": {
       "max_width": "57px",
       "min_width": "57px"
      }
     },
     "05cf27af26304e9e90a1f5fd7dfda8b5": {
      "model_module": "@jupyter-widgets/controls",
      "model_module_version": "2.0.0",
      "model_name": "ToggleButtonStyleModel",
      "state": {
       "description_width": "",
       "font_family": null,
       "font_size": null,
       "font_style": null,
       "font_variant": null,
       "font_weight": null,
       "text_color": null,
       "text_decoration": null
      }
     },
     "0642c9e557d14d5c84607949b838d4c2": {
      "model_module": "@jupyter-widgets/base",
      "model_module_version": "2.0.0",
      "model_name": "LayoutModel",
      "state": {}
     },
     "064dee5405c7459cbeeb9553242a6f7b": {
      "model_module": "ipyevents",
      "model_module_version": "2.0.2",
      "model_name": "EventModel",
      "state": {
       "_supported_key_events": [
        "keydown",
        "keyup"
       ],
       "_supported_mouse_events": [
        "click",
        "auxclick",
        "dblclick",
        "mouseenter",
        "mouseleave",
        "mousedown",
        "mouseup",
        "mousemove",
        "wheel",
        "contextmenu",
        "dragstart",
        "drag",
        "dragend",
        "dragenter",
        "dragover",
        "dragleave",
        "drop"
       ],
       "_supported_touch_events": [
        "touchstart",
        "touchend",
        "touchmove",
        "touchcancel"
       ],
       "_view_module": "@jupyter-widgets/controls",
       "source": "IPY_MODEL_919e50d6d1fe4bb0a07452a3b8ddfad8",
       "throttle_or_debounce": "",
       "watched_events": [
        "mouseenter",
        "mouseleave"
       ],
       "xy_coordinate_system": ""
      }
     },
     "067f78638ae34226a9c99aaf4636378e": {
      "model_module": "@jupyter-widgets/controls",
      "model_module_version": "2.0.0",
      "model_name": "HBoxModel",
      "state": {
       "children": [
        "IPY_MODEL_4026a78de0ac461bbb1d0febed321e2f",
        "IPY_MODEL_9593f92c91ba4a11b2092c8fe045897b"
       ],
       "layout": "IPY_MODEL_89207b914ffe401baf8e6ff931eb0330"
      }
     },
     "068d43626155457e9e9e8b1323982cf6": {
      "model_module": "@jupyter-widgets/controls",
      "model_module_version": "2.0.0",
      "model_name": "GridBoxModel",
      "state": {
       "children": [
        "IPY_MODEL_a66391dc6c4a431f905e27e8ee3fff07",
        "IPY_MODEL_3496bafdb34c4c87b5b78898b819e40d",
        "IPY_MODEL_2ece2456af5e4b9c81ed2784223bf94b",
        "IPY_MODEL_dedeb4f52631441e8a67a807b7905ea6",
        "IPY_MODEL_76b52c78e8984e1eb93ff264b47c4a92",
        "IPY_MODEL_c608f206c72645c6bdfa72b8b5672acc"
       ],
       "layout": "IPY_MODEL_137d48b41eab49c38c5be075b016e111"
      }
     },
     "06aa966a06b04de79e5aed2cd40ce57e": {
      "model_module": "@jupyter-widgets/base",
      "model_module_version": "2.0.0",
      "model_name": "LayoutModel",
      "state": {}
     },
     "07398aeae4e149cf9c60bde5499b619b": {
      "model_module": "@jupyter-widgets/controls",
      "model_module_version": "2.0.0",
      "model_name": "DropdownModel",
      "state": {
       "index": null,
       "layout": "IPY_MODEL_e47ed969b0f24809abd0b721e2687ef6",
       "style": "IPY_MODEL_b9971e4df99e47b7a629be621ffeb885"
      }
     },
     "0794a52248d34bc6a98365641cccc872": {
      "model_module": "@jupyter-widgets/base",
      "model_module_version": "2.0.0",
      "model_name": "LayoutModel",
      "state": {
       "height": "auto",
       "padding": "0px 0px 0px 4px",
       "width": "auto"
      }
     },
     "0834b5d2f7f8438496a30389c0582a99": {
      "model_module": "@jupyter-widgets/controls",
      "model_module_version": "2.0.0",
      "model_name": "HBoxModel",
      "state": {
       "children": [
        "IPY_MODEL_c973051a4fb7477aa4442d2abd7b5def",
        "IPY_MODEL_07398aeae4e149cf9c60bde5499b619b"
       ],
       "layout": "IPY_MODEL_06aa966a06b04de79e5aed2cd40ce57e"
      }
     },
     "084019d009484ac4b39a403cae251516": {
      "model_module": "@jupyter-widgets/base",
      "model_module_version": "2.0.0",
      "model_name": "LayoutModel",
      "state": {
       "height": "auto",
       "padding": "0px 0px 0px 4px",
       "width": "auto"
      }
     },
     "084484e3754a46888ec9d36b48f32ed8": {
      "model_module": "@jupyter-widgets/controls",
      "model_module_version": "2.0.0",
      "model_name": "ToggleButtonStyleModel",
      "state": {
       "description_width": "",
       "font_family": null,
       "font_size": null,
       "font_style": null,
       "font_variant": null,
       "font_weight": null,
       "text_color": null,
       "text_decoration": null
      }
     },
     "087875f6f4c04bb0949ba8d1d58d9a02": {
      "model_module": "jupyter-leaflet",
      "model_module_version": "^0.17",
      "model_name": "LeafletTileLayerModel",
      "state": {
       "_model_module_version": "^0.17",
       "_view_module_version": "^0.17",
       "attribution": "Google Earth Engine",
       "max_zoom": 24,
       "name": "landsat7_jun_30",
       "options": [
        "attribution",
        "bounds",
        "detect_retina",
        "max_native_zoom",
        "max_zoom",
        "min_native_zoom",
        "min_zoom",
        "no_wrap",
        "tile_size",
        "tms",
        "zoom_offset"
       ],
       "url": "https://earthengine.googleapis.com/v1/projects/earthengine-legacy/maps/7b4eb8949c98997cb514ccd4c887659a-60b4422a4cc7b74dd6012aaca14f6cf2/tiles/{z}/{x}/{y}"
      }
     },
     "08a1ba76d0e9457f9ff4a747da50e84f": {
      "model_module": "@jupyter-widgets/base",
      "model_module_version": "2.0.0",
      "model_name": "LayoutModel",
      "state": {}
     },
     "09d99f374035421a93155fe380bdf9af": {
      "model_module": "@jupyter-widgets/controls",
      "model_module_version": "2.0.0",
      "model_name": "ToggleButtonStyleModel",
      "state": {
       "description_width": "",
       "font_family": null,
       "font_size": null,
       "font_style": null,
       "font_variant": null,
       "font_weight": null,
       "text_color": null,
       "text_decoration": null
      }
     },
     "0a0edee616074150b29d693c0de4d0b0": {
      "model_module": "jupyter-leaflet",
      "model_module_version": "^0.17",
      "model_name": "LeafletFullScreenControlModel",
      "state": {
       "_model_module_version": "^0.17",
       "_view_module_version": "^0.17",
       "options": [
        "position"
       ]
      }
     },
     "0a1167331e5f4d01ba1a64319da981d4": {
      "model_module": "jupyter-leaflet",
      "model_module_version": "^0.17",
      "model_name": "LeafletWidgetControlModel",
      "state": {
       "_model_module": "jupyter-leaflet",
       "_model_module_version": "^0.17",
       "_view_count": null,
       "_view_module": "jupyter-leaflet",
       "_view_module_version": "^0.17",
       "options": [
        "position",
        "transparent_bg"
       ],
       "position": "topleft",
       "widget": "IPY_MODEL_a03cd97dd6284ab8b98fea7e47a67b94"
      }
     },
     "0a393773fb374689b416098ecea2e39e": {
      "model_module": "@jupyter-widgets/controls",
      "model_module_version": "2.0.0",
      "model_name": "ToggleButtonStyleModel",
      "state": {
       "description_width": "",
       "font_family": null,
       "font_size": null,
       "font_style": null,
       "font_variant": null,
       "font_weight": null,
       "text_color": null,
       "text_decoration": null
      }
     },
     "0a423b1247974a7ead5c997b762964b5": {
      "model_module": "@jupyter-widgets/controls",
      "model_module_version": "2.0.0",
      "model_name": "HTMLModel",
      "state": {
       "layout": "IPY_MODEL_822be9d7a44d4e48be234b5bfe14a0f7",
       "style": "IPY_MODEL_6ba64ce0ac5a4b94b14a7ced87bf326a"
      }
     },
     "0a4b0d5427fa49c29c6dff14fce8e515": {
      "model_module": "@jupyter-widgets/controls",
      "model_module_version": "2.0.0",
      "model_name": "ToggleButtonModel",
      "state": {
       "button_style": "primary",
       "icon": "bar-chart",
       "layout": "IPY_MODEL_056a512c4f9943a5a3ced07383bc368a",
       "style": "IPY_MODEL_888a46cd610f4112956450183cfefde7",
       "tooltip": "Plotting"
      }
     },
     "0a9a5e86e38e447e8fcf9994032d546f": {
      "model_module": "@jupyter-widgets/controls",
      "model_module_version": "2.0.0",
      "model_name": "ToggleButtonStyleModel",
      "state": {
       "description_width": "",
       "font_family": null,
       "font_size": null,
       "font_style": null,
       "font_variant": null,
       "font_weight": null,
       "text_color": null,
       "text_decoration": null
      }
     },
     "0a9cd4a5d0f7430bba50e2f2ace9cc4c": {
      "model_module": "@jupyter-widgets/base",
      "model_module_version": "2.0.0",
      "model_name": "LayoutModel",
      "state": {
       "height": "auto",
       "padding": "0px 0px 0px 4px",
       "width": "auto"
      }
     },
     "0aeedcaae68546138cde67871b0e0dc5": {
      "model_module": "@jupyter-widgets/controls",
      "model_module_version": "2.0.0",
      "model_name": "DropdownModel",
      "state": {
       "index": null,
       "layout": "IPY_MODEL_fa2c4fbd6efc49878bfd6132565a852c",
       "style": "IPY_MODEL_85d5057046044ac388c39910d54c112d"
      }
     },
     "0b07b824937c498c9d5002f97de52ae0": {
      "model_module": "@jupyter-widgets/controls",
      "model_module_version": "2.0.0",
      "model_name": "ToggleButtonModel",
      "state": {
       "button_style": "primary",
       "icon": "random",
       "layout": "IPY_MODEL_fa89cc559a2348e0acba353e41df8dd7",
       "style": "IPY_MODEL_0e99f9891c594739bfe0d699c6de807f",
       "tooltip": "Sankey plots"
      }
     },
     "0b99652791914faf8553a179b5f4519b": {
      "model_module": "@jupyter-widgets/controls",
      "model_module_version": "2.0.0",
      "model_name": "ToggleButtonStyleModel",
      "state": {
       "description_width": "",
       "font_family": null,
       "font_size": null,
       "font_style": null,
       "font_variant": null,
       "font_weight": null,
       "text_color": null,
       "text_decoration": null
      }
     },
     "0bbd323d23714603926f30e9b56a7454": {
      "model_module": "@jupyter-widgets/controls",
      "model_module_version": "2.0.0",
      "model_name": "ToggleButtonModel",
      "state": {
       "icon": "globe",
       "layout": "IPY_MODEL_004d8113aa124390b9abbb0664869bff",
       "style": "IPY_MODEL_e0ceb12f8df84995bfc9f611f12be0b7",
       "tooltip": "Search location/data"
      }
     },
     "0c2760e6b5e1495cb0c0cc36127ca635": {
      "model_module": "@jupyter-widgets/controls",
      "model_module_version": "2.0.0",
      "model_name": "ToggleButtonStyleModel",
      "state": {
       "description_width": "",
       "font_family": null,
       "font_size": null,
       "font_style": null,
       "font_variant": null,
       "font_weight": null,
       "text_color": null,
       "text_decoration": null
      }
     },
     "0c67835fbbc9467f9e88597cef250145": {
      "model_module": "@jupyter-widgets/controls",
      "model_module_version": "2.0.0",
      "model_name": "ToggleButtonStyleModel",
      "state": {
       "description_width": "",
       "font_family": null,
       "font_size": null,
       "font_style": null,
       "font_variant": null,
       "font_weight": null,
       "text_color": null,
       "text_decoration": null
      }
     },
     "0c6873d597d54a7db6a39ac2a9cffc12": {
      "model_module": "@jupyter-widgets/base",
      "model_module_version": "2.0.0",
      "model_name": "LayoutModel",
      "state": {
       "height": "auto",
       "padding": "0px 0px 0px 4px",
       "width": "auto"
      }
     },
     "0c87f0af235940ae81ac73f48c57a514": {
      "model_module": "@jupyter-widgets/controls",
      "model_module_version": "2.0.0",
      "model_name": "ToggleButtonModel",
      "state": {
       "button_style": "primary",
       "icon": "info",
       "layout": "IPY_MODEL_a945f1b2668c46fc8936870a146e179e",
       "style": "IPY_MODEL_ff4357b9fc0c442796724169a2687fc3",
       "tooltip": "Inspector"
      }
     },
     "0ca28a4dfa354f1580da2dbfaa8d1ea9": {
      "model_module": "@jupyter-widgets/controls",
      "model_module_version": "2.0.0",
      "model_name": "ToggleButtonModel",
      "state": {
       "button_style": "primary",
       "icon": "eraser",
       "layout": "IPY_MODEL_b59be095780c47c99c35e0545706b147",
       "style": "IPY_MODEL_56358c8922af47bd86ded319c5d8ef92",
       "tooltip": "Remove all drawn features"
      }
     },
     "0cb6cac511da48fe9fccb9ff69309506": {
      "model_module": "@jupyter-widgets/controls",
      "model_module_version": "2.0.0",
      "model_name": "ToggleButtonStyleModel",
      "state": {
       "description_width": "",
       "font_family": null,
       "font_size": null,
       "font_style": null,
       "font_variant": null,
       "font_weight": null,
       "text_color": null,
       "text_decoration": null
      }
     },
     "0d1b7ce7ab8f4c0aa765acc264c34baa": {
      "model_module": "@jupyter-widgets/controls",
      "model_module_version": "2.0.0",
      "model_name": "ToggleButtonModel",
      "state": {
       "button_style": "primary",
       "icon": "globe",
       "layout": "IPY_MODEL_31ce8e74481049fa835cf1495e08eb58",
       "style": "IPY_MODEL_ac3ef49caa634685b350e4e6d05749e2",
       "tooltip": "Create timelapse"
      }
     },
     "0d2a96712144400ca737bcd69ac125ba": {
      "model_module": "jupyter-leaflet",
      "model_module_version": "^0.17",
      "model_name": "LeafletAttributionControlModel",
      "state": {
       "_model_module_version": "^0.17",
       "_view_module_version": "^0.17",
       "options": [
        "position",
        "prefix"
       ],
       "position": "bottomright",
       "prefix": "ipyleaflet"
      }
     },
     "0d7a1046c2094608a4cff836d21a5eaa": {
      "model_module": "@jupyter-widgets/controls",
      "model_module_version": "2.0.0",
      "model_name": "DescriptionStyleModel",
      "state": {
       "description_width": ""
      }
     },
     "0dcf8c83e45f4b91a472b92f8706ce83": {
      "model_module": "jupyter-leaflet",
      "model_module_version": "^0.17",
      "model_name": "LeafletWidgetControlModel",
      "state": {
       "_model_module": "jupyter-leaflet",
       "_model_module_version": "^0.17",
       "_view_count": null,
       "_view_module": "jupyter-leaflet",
       "_view_module_version": "^0.17",
       "options": [
        "position",
        "transparent_bg"
       ],
       "position": "topright",
       "widget": "IPY_MODEL_d5336df21aa44c29b9329e0db17e869c"
      }
     },
     "0de419a46d0a4b35a4769afc211c4e03": {
      "model_module": "@jupyter-widgets/controls",
      "model_module_version": "2.0.0",
      "model_name": "ToggleButtonModel",
      "state": {
       "button_style": "primary",
       "icon": "map",
       "layout": "IPY_MODEL_171dbd5843f44fa79b4ad43f86a2153d",
       "style": "IPY_MODEL_21ee195ff8d2410ab9e8c4f6e555d434",
       "tooltip": "Change basemap"
      }
     },
     "0e0f6425ab714c0482e6ba9302a3f61a": {
      "model_module": "@jupyter-widgets/base",
      "model_module_version": "2.0.0",
      "model_name": "LayoutModel",
      "state": {
       "height": "auto",
       "padding": "0px 0px 0px 4px",
       "width": "auto"
      }
     },
     "0e99f9891c594739bfe0d699c6de807f": {
      "model_module": "@jupyter-widgets/controls",
      "model_module_version": "2.0.0",
      "model_name": "ToggleButtonStyleModel",
      "state": {
       "description_width": "",
       "font_family": null,
       "font_size": null,
       "font_style": null,
       "font_variant": null,
       "font_weight": null,
       "text_color": null,
       "text_decoration": null
      }
     },
     "0eb0c175cf35464b854c94496889b9ea": {
      "model_module": "jupyter-leaflet",
      "model_module_version": "^0.17",
      "model_name": "LeafletZoomControlModel",
      "state": {
       "_model_module_version": "^0.17",
       "_view_module_version": "^0.17",
       "options": [
        "position",
        "zoom_in_text",
        "zoom_in_title",
        "zoom_out_text",
        "zoom_out_title"
       ]
      }
     },
     "0f410cc00d6f4ed98b68b45a37831339": {
      "model_module": "@jupyter-widgets/controls",
      "model_module_version": "2.0.0",
      "model_name": "ToggleButtonModel",
      "state": {
       "button_style": "primary",
       "icon": "bar-chart",
       "layout": "IPY_MODEL_58b24dc43c1d48e4a4a4f8b6ac7b4a17",
       "style": "IPY_MODEL_19491388525442518e40113b11c453c9",
       "tooltip": "Plotting"
      }
     },
     "0f44711d1d1045879dae6b643e3b264b": {
      "model_module": "@jupyter-widgets/base",
      "model_module_version": "2.0.0",
      "model_name": "LayoutModel",
      "state": {}
     },
     "0f7e0b8ef5084b3cb5777ddf7a399837": {
      "model_module": "@jupyter-widgets/controls",
      "model_module_version": "2.0.0",
      "model_name": "HBoxModel",
      "state": {
       "children": [
        "IPY_MODEL_a978c239ec3b4bbc802949c7653fc02b",
        "IPY_MODEL_f78dc9d53373431dbcf037f5d60cc655"
       ],
       "layout": "IPY_MODEL_1beacecd0df549ad8b1782607099142d"
      }
     },
     "0fcac498f83a46c5b8f36278ff5a05a2": {
      "model_module": "@jupyter-widgets/controls",
      "model_module_version": "2.0.0",
      "model_name": "ToggleButtonModel",
      "state": {
       "button_style": "primary",
       "icon": "random",
       "layout": "IPY_MODEL_95ca0bc277e049c6a4e81172bf800f4e",
       "style": "IPY_MODEL_893a34bebe6442109cefb3bf4e0806c2",
       "tooltip": "Sankey plots"
      }
     },
     "0fe596b033aa4d17a44e6bb1301c2e63": {
      "model_module": "@jupyter-widgets/controls",
      "model_module_version": "2.0.0",
      "model_name": "ButtonStyleModel",
      "state": {
       "font_family": null,
       "font_size": null,
       "font_style": null,
       "font_variant": null,
       "font_weight": null,
       "text_color": null,
       "text_decoration": null
      }
     },
     "0febd3b1eaca4df3856a71e7996d1294": {
      "model_module": "@jupyter-widgets/controls",
      "model_module_version": "2.0.0",
      "model_name": "ToggleButtonStyleModel",
      "state": {
       "description_width": "",
       "font_family": null,
       "font_size": null,
       "font_style": null,
       "font_variant": null,
       "font_weight": null,
       "text_color": null,
       "text_decoration": null
      }
     },
     "101fd11400bc4e9cbbbad919dcf4a049": {
      "model_module": "@jupyter-widgets/base",
      "model_module_version": "2.0.0",
      "model_name": "LayoutModel",
      "state": {}
     },
     "10d199e94fde4dc09626038168c02c60": {
      "model_module": "@jupyter-widgets/base",
      "model_module_version": "2.0.0",
      "model_name": "LayoutModel",
      "state": {}
     },
     "10daa2ee8cbf4e09a69633f681093408": {
      "model_module": "@jupyter-widgets/controls",
      "model_module_version": "2.0.0",
      "model_name": "ToggleButtonStyleModel",
      "state": {
       "description_width": "",
       "font_family": null,
       "font_size": null,
       "font_style": null,
       "font_variant": null,
       "font_weight": null,
       "text_color": null,
       "text_decoration": null
      }
     },
     "116e33fa7a2641ff8103e3adaa41727c": {
      "model_module": "@jupyter-widgets/controls",
      "model_module_version": "2.0.0",
      "model_name": "ToggleButtonStyleModel",
      "state": {
       "description_width": "",
       "font_family": null,
       "font_size": null,
       "font_style": null,
       "font_variant": null,
       "font_weight": null,
       "text_color": null,
       "text_decoration": null
      }
     },
     "11ac3fc24181481cbf82240eadbc11a7": {
      "model_module": "jupyter-leaflet",
      "model_module_version": "^0.17",
      "model_name": "LeafletTileLayerModel",
      "state": {
       "_model_module_version": "^0.17",
       "_view_module_version": "^0.17",
       "attribution": "&copy; <a href=\"https://www.openstreetmap.org/copyright\">OpenStreetMap</a> contributors",
       "base": true,
       "max_zoom": 19,
       "min_zoom": 1,
       "name": "OpenStreetMap.Mapnik",
       "options": [
        "attribution",
        "bounds",
        "detect_retina",
        "max_native_zoom",
        "max_zoom",
        "min_native_zoom",
        "min_zoom",
        "no_wrap",
        "tile_size",
        "tms",
        "zoom_offset"
       ],
       "url": "https://tile.openstreetmap.org/{z}/{x}/{y}.png"
      }
     },
     "1217fc37ff7d4789b1ac42c5019d5561": {
      "model_module": "jupyter-leaflet",
      "model_module_version": "^0.17",
      "model_name": "LeafletWidgetControlModel",
      "state": {
       "_model_module": "jupyter-leaflet",
       "_model_module_version": "^0.17",
       "_view_count": null,
       "_view_module": "jupyter-leaflet",
       "_view_module_version": "^0.17",
       "options": [
        "position",
        "transparent_bg"
       ],
       "position": "topright",
       "widget": "IPY_MODEL_a4056140d54645f9830d3bd9e03e52bc"
      }
     },
     "121d4b12b233444f9e55e0f81ee17346": {
      "model_module": "jupyter-leaflet",
      "model_module_version": "^0.17",
      "model_name": "LeafletWidgetControlModel",
      "state": {
       "_model_module": "jupyter-leaflet",
       "_model_module_version": "^0.17",
       "_view_count": null,
       "_view_module": "jupyter-leaflet",
       "_view_module_version": "^0.17",
       "options": [
        "position",
        "transparent_bg"
       ],
       "position": "topleft",
       "widget": "IPY_MODEL_b82f7ffae7934fc8919134dc337705b5"
      }
     },
     "122daa7b9a1b40198016c7f6ece3be4e": {
      "model_module": "@jupyter-widgets/controls",
      "model_module_version": "2.0.0",
      "model_name": "DescriptionStyleModel",
      "state": {
       "description_width": ""
      }
     },
     "1249b5b36c1b49f085982d33f4bd64ec": {
      "model_module": "jupyter-leaflet",
      "model_module_version": "^0.17",
      "model_name": "LeafletAttributionControlModel",
      "state": {
       "_model_module_version": "^0.17",
       "_view_module_version": "^0.17",
       "options": [
        "position",
        "prefix"
       ],
       "position": "bottomright",
       "prefix": "ipyleaflet"
      }
     },
     "130788b420854f19971fa6c1ed33899f": {
      "model_module": "@jupyter-widgets/controls",
      "model_module_version": "2.0.0",
      "model_name": "ToggleButtonModel",
      "state": {
       "icon": "server",
       "layout": "IPY_MODEL_34e607abf85b4c0cbe58655b2fc61e72",
       "style": "IPY_MODEL_dba49e0e00504466a7ca9dd6574abefd",
       "tooltip": "Layers"
      }
     },
     "131830a1cdf1402ebf3a9e94af21bf93": {
      "model_module": "@jupyter-widgets/base",
      "model_module_version": "2.0.0",
      "model_name": "LayoutModel",
      "state": {
       "height": "auto",
       "padding": "0px 0px 0px 4px",
       "width": "auto"
      }
     },
     "1354069db07c483e801f2b9c37581d5c": {
      "model_module": "@jupyter-widgets/base",
      "model_module_version": "2.0.0",
      "model_name": "LayoutModel",
      "state": {
       "grid_gap": "1px 1px",
       "grid_template_columns": "32px 32px 32px ",
       "grid_template_rows": "32px 32px ",
       "padding": "5px",
       "width": "109px"
      }
     },
     "137d48b41eab49c38c5be075b016e111": {
      "model_module": "@jupyter-widgets/base",
      "model_module_version": "2.0.0",
      "model_name": "LayoutModel",
      "state": {
       "grid_gap": "1px 1px",
       "grid_template_columns": "32px 32px 32px ",
       "grid_template_rows": "32px 32px ",
       "padding": "5px",
       "width": "109px"
      }
     },
     "141eab42b024403c82bf339b86d90f64": {
      "model_module": "jupyter-leaflet",
      "model_module_version": "^0.17",
      "model_name": "LeafletDrawControlModel",
      "state": {
       "_model_module_version": "^0.17",
       "_view_module_version": "^0.17",
       "marker": {
        "shapeOptions": {
         "color": "#3388ff"
        }
       },
       "options": [
        "position"
       ],
       "polygon": {
        "shapeOptions": {
         "clickable": true,
         "color": "#3388ff",
         "fill": true,
         "fillColor": null,
         "fillOpacity": 0.2,
         "opacity": 0.5,
         "stroke": true,
         "weight": 4
        }
       },
       "polyline": {
        "shapeOptions": {
         "clickable": true,
         "color": "#3388ff",
         "fill": false,
         "opacity": 0.5,
         "stroke": true,
         "weight": 4
        }
       },
       "rectangle": {
        "shapeOptions": {
         "clickable": true,
         "color": "#3388ff",
         "fill": true,
         "fillColor": null,
         "fillOpacity": 0.2,
         "opacity": 0.5,
         "stroke": true,
         "weight": 4
        }
       }
      }
     },
     "144b4e65cc5a49e084a55d0bb3db169a": {
      "model_module": "jupyter-leaflet",
      "model_module_version": "^0.17",
      "model_name": "LeafletTileLayerModel",
      "state": {
       "_model_module_version": "^0.17",
       "_view_module_version": "^0.17",
       "attribution": "&copy; <a href=\"https://www.openstreetmap.org/copyright\">OpenStreetMap</a> contributors",
       "base": true,
       "max_zoom": 19,
       "min_zoom": 1,
       "name": "OpenStreetMap.Mapnik",
       "options": [
        "attribution",
        "bounds",
        "detect_retina",
        "max_native_zoom",
        "max_zoom",
        "min_native_zoom",
        "min_zoom",
        "no_wrap",
        "tile_size",
        "tms",
        "zoom_offset"
       ],
       "url": "https://tile.openstreetmap.org/{z}/{x}/{y}.png"
      }
     },
     "14893f1cb8be49b19292988ee402964c": {
      "model_module": "@jupyter-widgets/controls",
      "model_module_version": "2.0.0",
      "model_name": "ToggleButtonStyleModel",
      "state": {
       "description_width": "",
       "font_family": null,
       "font_size": null,
       "font_style": null,
       "font_variant": null,
       "font_weight": null,
       "text_color": null,
       "text_decoration": null
      }
     },
     "14c8d42273004685964c6e59a0eaa79b": {
      "model_module": "@jupyter-widgets/controls",
      "model_module_version": "2.0.0",
      "model_name": "ToggleButtonModel",
      "state": {
       "icon": "server",
       "layout": "IPY_MODEL_a8e799ae19a646e091235018a4320692",
       "style": "IPY_MODEL_e9a1b37850a24c6eae5cb0ce0753e6ba",
       "tooltip": "Layers"
      }
     },
     "14e22db3a6d8426eaf853013794f9384": {
      "model_module": "@jupyter-widgets/controls",
      "model_module_version": "2.0.0",
      "model_name": "GridBoxModel",
      "state": {
       "children": [
        "IPY_MODEL_0c87f0af235940ae81ac73f48c57a514",
        "IPY_MODEL_ff809ea877c446d8a8cec9ffda453afd",
        "IPY_MODEL_e7713504d0d84647a3f2e0171d5fc324",
        "IPY_MODEL_e640b9c8b0bb4a2ab60419b9f6cd98cd",
        "IPY_MODEL_636bc99286db43b5aa1f8843c09798b5",
        "IPY_MODEL_8a4b7b2004e54dfbae05101d396a2b81"
       ],
       "layout": "IPY_MODEL_5f285d8500934f758745d6a38ac16760"
      }
     },
     "1507b8a89f0a4dc28192474c6ff57cbe": {
      "model_module": "@jupyter-widgets/output",
      "model_module_version": "1.0.0",
      "model_name": "OutputModel",
      "state": {
       "layout": "IPY_MODEL_e3c5b97d04334daa817f8d05ef9a83c5"
      }
     },
     "1537a420073e4b52a52ae15f2b620f8d": {
      "model_module": "jupyter-leaflet",
      "model_module_version": "^0.17",
      "model_name": "LeafletAttributionControlModel",
      "state": {
       "_model_module_version": "^0.17",
       "_view_module_version": "^0.17",
       "options": [
        "position",
        "prefix"
       ],
       "position": "bottomright",
       "prefix": "ipyleaflet"
      }
     },
     "157b30469dfb4f829030bed3af5a904e": {
      "model_module": "@jupyter-widgets/controls",
      "model_module_version": "2.0.0",
      "model_name": "RadioButtonsModel",
      "state": {
       "index": null,
       "layout": "IPY_MODEL_d36caa917abb49459f8a1b8b0c76a6b6",
       "style": "IPY_MODEL_7c132c23dd894d7aa3f4336f4a6464c2"
      }
     },
     "15f72b87152547f18f34a8f176d989ba": {
      "model_module": "@jupyter-widgets/controls",
      "model_module_version": "2.0.0",
      "model_name": "ToggleButtonModel",
      "state": {
       "button_style": "primary",
       "icon": "info-circle",
       "layout": "IPY_MODEL_27789e8dfb4f439f941d5ef12dfa81ee",
       "style": "IPY_MODEL_0550b3f0ce0c49aa908c7a25f1d56bd7",
       "tooltip": "Get COG/STAC pixel value"
      }
     },
     "160f452a3dfc4d7ebfc730cba69a59e0": {
      "model_module": "@jupyter-widgets/base",
      "model_module_version": "2.0.0",
      "model_name": "LayoutModel",
      "state": {
       "width": "340px"
      }
     },
     "160f5b22243c481e8a8bb2d0c7024453": {
      "model_module": "@jupyter-widgets/controls",
      "model_module_version": "2.0.0",
      "model_name": "ToggleButtonStyleModel",
      "state": {
       "description_width": "",
       "font_family": null,
       "font_size": null,
       "font_style": null,
       "font_variant": null,
       "font_weight": null,
       "text_color": null,
       "text_decoration": null
      }
     },
     "161d9fa4c8354ae09f787a892b1b7455": {
      "model_module": "@jupyter-widgets/controls",
      "model_module_version": "2.0.0",
      "model_name": "HTMLStyleModel",
      "state": {
       "description_width": "",
       "font_size": null,
       "text_color": null
      }
     },
     "16272d290bc14d529dd78ffe569b6bb9": {
      "model_module": "@jupyter-widgets/base",
      "model_module_version": "2.0.0",
      "model_name": "LayoutModel",
      "state": {
       "height": "28px",
       "padding": "0px 0px 0px 4px",
       "width": "28px"
      }
     },
     "168bb71c1ce34ff8811b98025a0c8192": {
      "model_module": "@jupyter-widgets/base",
      "model_module_version": "2.0.0",
      "model_name": "LayoutModel",
      "state": {}
     },
     "16db447a574a43ad8e12e9763d8818cb": {
      "model_module": "@jupyter-widgets/base",
      "model_module_version": "2.0.0",
      "model_name": "LayoutModel",
      "state": {
       "max_height": "350px",
       "max_width": "340px",
       "overflow": "scroll"
      }
     },
     "16e63369c31149e9b4ac01d4b3814e52": {
      "model_module": "@jupyter-widgets/controls",
      "model_module_version": "2.0.0",
      "model_name": "ToggleButtonModel",
      "state": {
       "button_style": "primary",
       "icon": "hand-o-up",
       "layout": "IPY_MODEL_9c4247f456d4449e8cfb5b3413b6e748",
       "style": "IPY_MODEL_9b8063762a5f4207afd7d26765392cc8",
       "tooltip": "Collect training samples"
      }
     },
     "16f5c51b54624f97af2436336382ac44": {
      "model_module": "@jupyter-widgets/controls",
      "model_module_version": "2.0.0",
      "model_name": "DescriptionStyleModel",
      "state": {
       "description_width": ""
      }
     },
     "171dbd5843f44fa79b4ad43f86a2153d": {
      "model_module": "@jupyter-widgets/base",
      "model_module_version": "2.0.0",
      "model_name": "LayoutModel",
      "state": {
       "height": "auto",
       "padding": "0px 0px 0px 4px",
       "width": "auto"
      }
     },
     "174dd3d176994290b4aa4728891a9343": {
      "model_module": "@jupyter-widgets/controls",
      "model_module_version": "2.0.0",
      "model_name": "ToggleButtonModel",
      "state": {
       "button_style": "primary",
       "icon": "folder-open",
       "layout": "IPY_MODEL_e64701a4760b4e12b8d15bc9ceb6af57",
       "style": "IPY_MODEL_53bacc9429fa4510ba75285140ae6d23",
       "tooltip": "Open local vector/raster data"
      }
     },
     "176c69c8a55f46f8b8a8b7da2186a209": {
      "model_module": "@jupyter-widgets/controls",
      "model_module_version": "2.0.0",
      "model_name": "ToggleButtonStyleModel",
      "state": {
       "description_width": "",
       "font_family": null,
       "font_size": null,
       "font_style": null,
       "font_variant": null,
       "font_weight": null,
       "text_color": null,
       "text_decoration": null
      }
     },
     "178080e531f9499891d57f6869b6f466": {
      "model_module": "@jupyter-widgets/base",
      "model_module_version": "2.0.0",
      "model_name": "LayoutModel",
      "state": {
       "height": "auto",
       "padding": "0px 0px 0px 4px",
       "width": "auto"
      }
     },
     "17910c4e4af3451481f58640f01d1334": {
      "model_module": "@jupyter-widgets/controls",
      "model_module_version": "2.0.0",
      "model_name": "DescriptionStyleModel",
      "state": {
       "description_width": ""
      }
     },
     "17ac99a9499445c3b178806f337e15dd": {
      "model_module": "@jupyter-widgets/base",
      "model_module_version": "2.0.0",
      "model_name": "LayoutModel",
      "state": {
       "max_width": "57px",
       "min_width": "57px"
      }
     },
     "17aff2452b9f41e680931991b6692018": {
      "model_module": "jupyter-leaflet",
      "model_module_version": "^0.17",
      "model_name": "LeafletTileLayerModel",
      "state": {
       "_model_module_version": "^0.17",
       "_view_module_version": "^0.17",
       "attribution": "Google Earth Engine",
       "max_zoom": 24,
       "name": "landsat7_may_29_clipped",
       "options": [
        "attribution",
        "bounds",
        "detect_retina",
        "max_native_zoom",
        "max_zoom",
        "min_native_zoom",
        "min_zoom",
        "no_wrap",
        "tile_size",
        "tms",
        "zoom_offset"
       ],
       "url": "https://earthengine.googleapis.com/v1/projects/earthengine-legacy/maps/81f963e4b89dc26848f8f955400a434f-80257cd4f8099f5b4389e5626fe18d49/tiles/{z}/{x}/{y}"
      }
     },
     "18a2c7b43a89480a88bba90d545f7e7d": {
      "model_module": "@jupyter-widgets/controls",
      "model_module_version": "2.0.0",
      "model_name": "ToggleButtonStyleModel",
      "state": {
       "description_width": "",
       "font_family": null,
       "font_size": null,
       "font_style": null,
       "font_variant": null,
       "font_weight": null,
       "text_color": null,
       "text_decoration": null
      }
     },
     "18f39ebcaa0e4da58dbbbd78ea8ec9da": {
      "model_module": "jupyter-leaflet",
      "model_module_version": "^0.17",
      "model_name": "LeafletMeasureControlModel",
      "state": {
       "_model_module_version": "^0.17",
       "_view_module_version": "^0.17",
       "active_color": "orange",
       "options": [
        "active_color",
        "capture_z_index",
        "completed_color",
        "popup_options",
        "position",
        "primary_area_unit",
        "primary_length_unit",
        "secondary_area_unit",
        "secondary_length_unit"
       ],
       "position": "bottomleft",
       "primary_length_unit": "kilometers",
       "secondary_area_unit": null,
       "secondary_length_unit": null
      }
     },
     "194479d6417c484abb18cb20dcedcab2": {
      "model_module": "@jupyter-widgets/controls",
      "model_module_version": "2.0.0",
      "model_name": "VBoxModel",
      "state": {
       "children": [
        "IPY_MODEL_e62b4ac0aeb748609ed38679ebd2a9df"
       ],
       "layout": "IPY_MODEL_d61502c97da14650808ff05a434bc4f1"
      }
     },
     "19491388525442518e40113b11c453c9": {
      "model_module": "@jupyter-widgets/controls",
      "model_module_version": "2.0.0",
      "model_name": "ToggleButtonStyleModel",
      "state": {
       "description_width": "",
       "font_family": null,
       "font_size": null,
       "font_style": null,
       "font_variant": null,
       "font_weight": null,
       "text_color": null,
       "text_decoration": null
      }
     },
     "1954370d884b470a817585d94fec2bf1": {
      "model_module": "@jupyter-widgets/controls",
      "model_module_version": "2.0.0",
      "model_name": "ToggleButtonStyleModel",
      "state": {
       "description_width": "",
       "font_family": null,
       "font_size": null,
       "font_style": null,
       "font_variant": null,
       "font_weight": null,
       "text_color": null,
       "text_decoration": null
      }
     },
     "196b6194592c44359b8c3053f2afcf45": {
      "model_module": "@jupyter-widgets/controls",
      "model_module_version": "2.0.0",
      "model_name": "ToggleButtonModel",
      "state": {
       "button_style": "primary",
       "icon": "map",
       "layout": "IPY_MODEL_f6ae4e89a0af4824a5bb3c0921cdddaa",
       "style": "IPY_MODEL_03d376a6c89240dfb0c7ace8f4a3b55d",
       "tooltip": "Change basemap"
      }
     },
     "1a683e9aaed54d15a9743959fcb39bb6": {
      "model_module": "jupyter-leaflet",
      "model_module_version": "^0.17",
      "model_name": "LeafletMapStyleModel",
      "state": {
       "_model_module_version": "^0.17"
      }
     },
     "1a868a25562d4782af1c09861b6e8722": {
      "model_module": "@jupyter-widgets/controls",
      "model_module_version": "2.0.0",
      "model_name": "ToggleButtonStyleModel",
      "state": {
       "description_width": "",
       "font_family": null,
       "font_size": null,
       "font_style": null,
       "font_variant": null,
       "font_weight": null,
       "text_color": null,
       "text_decoration": null
      }
     },
     "1a875220df364b2d87411478b377af6b": {
      "model_module": "@jupyter-widgets/controls",
      "model_module_version": "2.0.0",
      "model_name": "ToggleButtonModel",
      "state": {
       "button_style": "primary",
       "icon": "eraser",
       "layout": "IPY_MODEL_5cf5db7cd3ea431a9c08db2de47fe173",
       "style": "IPY_MODEL_254436917d67422cbc0e99eb7c38633b",
       "tooltip": "Remove all drawn features"
      }
     },
     "1ab432933d1f45a3b724090b88ab5165": {
      "model_module": "@jupyter-widgets/base",
      "model_module_version": "2.0.0",
      "model_name": "LayoutModel",
      "state": {}
     },
     "1af6a43402f94c53a4b5f18d024f5d37": {
      "model_module": "@jupyter-widgets/base",
      "model_module_version": "2.0.0",
      "model_name": "LayoutModel",
      "state": {
       "height": "auto",
       "padding": "0px 0px 0px 4px",
       "width": "auto"
      }
     },
     "1b168ef60b6f42ee890061572dee9ad1": {
      "model_module": "@jupyter-widgets/controls",
      "model_module_version": "2.0.0",
      "model_name": "ToggleButtonModel",
      "state": {
       "button_style": "primary",
       "icon": "hand-o-up",
       "layout": "IPY_MODEL_dc14b22496084f448493b21711f3f079",
       "style": "IPY_MODEL_67de8cbb13ae4f408d390b589ea1b166",
       "tooltip": "Collect training samples"
      }
     },
     "1beacecd0df549ad8b1782607099142d": {
      "model_module": "@jupyter-widgets/base",
      "model_module_version": "2.0.0",
      "model_name": "LayoutModel",
      "state": {}
     },
     "1c9f28cb028743a1a6d97bdc8b905a42": {
      "model_module": "@jupyter-widgets/base",
      "model_module_version": "2.0.0",
      "model_name": "LayoutModel",
      "state": {
       "height": "28px",
       "padding": "0px 0px 0px 4px",
       "width": "28px"
      }
     },
     "1ca4b5b6c0ac4800ba1e17b3585986a4": {
      "model_module": "@jupyter-widgets/base",
      "model_module_version": "2.0.0",
      "model_name": "LayoutModel",
      "state": {
       "height": "auto",
       "padding": "0px 0px 0px 4px",
       "width": "auto"
      }
     },
     "1ca550b05a8d4458a902172b352719ad": {
      "model_module": "@jupyter-widgets/base",
      "model_module_version": "2.0.0",
      "model_name": "LayoutModel",
      "state": {
       "height": "auto",
       "padding": "0px 0px 0px 4px",
       "width": "auto"
      }
     },
     "1cb41c4769754086a497244114be82e4": {
      "model_module": "jupyter-leaflet",
      "model_module_version": "^0.17",
      "model_name": "LeafletFullScreenControlModel",
      "state": {
       "_model_module_version": "^0.17",
       "_view_module_version": "^0.17",
       "options": [
        "position"
       ]
      }
     },
     "1d57d9f905d448fda8ccddf5b9121801": {
      "model_module": "@jupyter-widgets/controls",
      "model_module_version": "2.0.0",
      "model_name": "ToggleButtonStyleModel",
      "state": {
       "description_width": "",
       "font_family": null,
       "font_size": null,
       "font_style": null,
       "font_variant": null,
       "font_weight": null,
       "text_color": null,
       "text_decoration": null
      }
     },
     "1d9ac146757c42209c7096ffa81951a0": {
      "model_module": "jupyter-leaflet",
      "model_module_version": "^0.17",
      "model_name": "LeafletTileLayerModel",
      "state": {
       "_model_module_version": "^0.17",
       "_view_module_version": "^0.17",
       "attribution": "Google Earth Engine",
       "max_zoom": 24,
       "name": "Soil Moisture",
       "options": [
        "attribution",
        "bounds",
        "detect_retina",
        "max_native_zoom",
        "max_zoom",
        "min_native_zoom",
        "min_zoom",
        "no_wrap",
        "tile_size",
        "tms",
        "zoom_offset"
       ],
       "url": "https://earthengine.googleapis.com/v1/projects/earthengine-legacy/maps/c0471652014914a491c820e650b41e2b-a4d7a84a204e946a46c79b90bb9b5b19/tiles/{z}/{x}/{y}"
      }
     },
     "1e66cc8421244ab286773e50aadbea70": {
      "model_module": "@jupyter-widgets/controls",
      "model_module_version": "2.0.0",
      "model_name": "ToggleButtonModel",
      "state": {
       "icon": "server",
       "layout": "IPY_MODEL_6c84464d948644979fd770080e7ae82c",
       "style": "IPY_MODEL_db876ef2ee3e4e6fa4518208cdc257b9",
       "tooltip": "Layers"
      }
     },
     "1e887901aa984d5cb350fc878944c965": {
      "model_module": "jupyter-leaflet",
      "model_module_version": "^0.17",
      "model_name": "LeafletZoomControlModel",
      "state": {
       "_model_module_version": "^0.17",
       "_view_module_version": "^0.17",
       "options": [
        "position",
        "zoom_in_text",
        "zoom_in_title",
        "zoom_out_text",
        "zoom_out_title"
       ]
      }
     },
     "1e8af32fa1bf4a8b81c5f4cf0d03be70": {
      "model_module": "@jupyter-widgets/base",
      "model_module_version": "2.0.0",
      "model_name": "LayoutModel",
      "state": {
       "width": "500px"
      }
     },
     "1e933bd1e8bd4657afceb46f66e99269": {
      "model_module": "@jupyter-widgets/controls",
      "model_module_version": "2.0.0",
      "model_name": "ToggleButtonModel",
      "state": {
       "button_style": "primary",
       "icon": "plus",
       "layout": "IPY_MODEL_faf875e3f24a4a309f78d31f29ee9ae9",
       "style": "IPY_MODEL_d46ed9018f7e402c975013256926e190",
       "tooltip": "Expand toolbar"
      }
     },
     "1eae3695469b49aabea09842e0c335bf": {
      "model_module": "@jupyter-widgets/controls",
      "model_module_version": "2.0.0",
      "model_name": "ButtonModel",
      "state": {
       "button_style": "primary",
       "description": "import",
       "layout": "IPY_MODEL_994686b887eb48b4ad2840c2617d2c68",
       "style": "IPY_MODEL_a0b9553a260a4a528e760eedac8b0031",
       "tooltip": "Click to import the selected asset"
      }
     },
     "1fc917d2b47e43fd9a5241ad45f56d1c": {
      "model_module": "@jupyter-widgets/base",
      "model_module_version": "2.0.0",
      "model_name": "LayoutModel",
      "state": {
       "grid_gap": "1px 1px",
       "grid_template_columns": "32px 32px 32px ",
       "grid_template_rows": "32px 32px ",
       "padding": "5px",
       "width": "109px"
      }
     },
     "2067ef10542741b9bc006fb2b2b2f2e0": {
      "model_module": "@jupyter-widgets/controls",
      "model_module_version": "2.0.0",
      "model_name": "ToggleButtonStyleModel",
      "state": {
       "description_width": "",
       "font_family": null,
       "font_size": null,
       "font_style": null,
       "font_variant": null,
       "font_weight": null,
       "text_color": null,
       "text_decoration": null
      }
     },
     "20c8f6dc7d134a5b83867991124ff183": {
      "model_module": "@jupyter-widgets/base",
      "model_module_version": "2.0.0",
      "model_name": "LayoutModel",
      "state": {}
     },
     "20ce710125724a89bce3cc00f0bca9a1": {
      "model_module": "@jupyter-widgets/base",
      "model_module_version": "2.0.0",
      "model_name": "LayoutModel",
      "state": {
       "max_width": "57px",
       "min_width": "57px"
      }
     },
     "214dfbc204424094a5d88c63378314dc": {
      "model_module": "@jupyter-widgets/controls",
      "model_module_version": "2.0.0",
      "model_name": "ToggleButtonModel",
      "state": {
       "button_style": "primary",
       "icon": "adjust",
       "layout": "IPY_MODEL_cdd622e3e20746eca387001dbbf61df0",
       "style": "IPY_MODEL_0cb6cac511da48fe9fccb9ff69309506",
       "tooltip": "Planet imagery"
      }
     },
     "216951b842004b149338491b61525885": {
      "model_module": "jupyter-leaflet",
      "model_module_version": "^0.17",
      "model_name": "LeafletWidgetControlModel",
      "state": {
       "_model_module": "jupyter-leaflet",
       "_model_module_version": "^0.17",
       "_view_count": null,
       "_view_module": "jupyter-leaflet",
       "_view_module_version": "^0.17",
       "options": [
        "position",
        "transparent_bg"
       ],
       "position": "topright",
       "widget": "IPY_MODEL_bf93e02386974efdb232993d9330418f"
      }
     },
     "21e5999508254b3086d5c5dc798f1d90": {
      "model_module": "@jupyter-widgets/base",
      "model_module_version": "2.0.0",
      "model_name": "LayoutModel",
      "state": {}
     },
     "21ee195ff8d2410ab9e8c4f6e555d434": {
      "model_module": "@jupyter-widgets/controls",
      "model_module_version": "2.0.0",
      "model_name": "ToggleButtonStyleModel",
      "state": {
       "description_width": "",
       "font_family": null,
       "font_size": null,
       "font_style": null,
       "font_variant": null,
       "font_weight": null,
       "text_color": null,
       "text_decoration": null
      }
     },
     "21f356c6efdc46dea021f5e6d38c5e5e": {
      "model_module": "@jupyter-widgets/base",
      "model_module_version": "2.0.0",
      "model_name": "LayoutModel",
      "state": {
       "height": "600px"
      }
     },
     "2222ac67acd14d48a42a7f3636e9af8a": {
      "model_module": "@jupyter-widgets/controls",
      "model_module_version": "2.0.0",
      "model_name": "DescriptionStyleModel",
      "state": {
       "description_width": ""
      }
     },
     "2259f645260846f4b30a9c77d19b3629": {
      "model_module": "@jupyter-widgets/controls",
      "model_module_version": "2.0.0",
      "model_name": "ToggleButtonModel",
      "state": {
       "button_style": "primary",
       "icon": "eraser",
       "layout": "IPY_MODEL_53d66d48c3304f5498999cf1e3d590e3",
       "style": "IPY_MODEL_55fd60db3abb49c4ac9ae9a635cfdff7",
       "tooltip": "Remove all drawn features"
      }
     },
     "22f248e99a7b494ea81988159d8657f4": {
      "model_module": "@jupyter-widgets/controls",
      "model_module_version": "2.0.0",
      "model_name": "ToggleButtonModel",
      "state": {
       "button_style": "primary",
       "icon": "gears",
       "layout": "IPY_MODEL_0e0f6425ab714c0482e6ba9302a3f61a",
       "style": "IPY_MODEL_392388b5d35d4004ab0c75930dc5b8c5",
       "tooltip": "WhiteboxTools for local geoprocessing"
      }
     },
     "239b37f3864a4bc9950a754f118c4642": {
      "model_module": "@jupyter-widgets/controls",
      "model_module_version": "2.0.0",
      "model_name": "HTMLModel",
      "state": {
       "layout": "IPY_MODEL_625dbf74cfb14bb79f192b133e919dc9",
       "style": "IPY_MODEL_4f19003da5564f96ae241fc525e1bb82"
      }
     },
     "2410b4d385e14260829d0f26280ff0c9": {
      "model_module": "@jupyter-widgets/output",
      "model_module_version": "1.0.0",
      "model_name": "OutputModel",
      "state": {
       "layout": "IPY_MODEL_8a2dfcf442ec4dc49383ac34d91ba7ef"
      }
     },
     "2421e869044844b483a22ed430c51a54": {
      "model_module": "@jupyter-widgets/controls",
      "model_module_version": "2.0.0",
      "model_name": "ToggleButtonModel",
      "state": {
       "icon": "server",
       "layout": "IPY_MODEL_3dac1a30ad7947b5a798afa05e731123",
       "style": "IPY_MODEL_db934ef0c072405e9ed2181948f31a97",
       "tooltip": "Layers"
      }
     },
     "2482177611eb4aecb42a9f1dd7f3360f": {
      "model_module": "@jupyter-widgets/base",
      "model_module_version": "2.0.0",
      "model_name": "LayoutModel",
      "state": {}
     },
     "254436917d67422cbc0e99eb7c38633b": {
      "model_module": "@jupyter-widgets/controls",
      "model_module_version": "2.0.0",
      "model_name": "ToggleButtonStyleModel",
      "state": {
       "description_width": "",
       "font_family": null,
       "font_size": null,
       "font_style": null,
       "font_variant": null,
       "font_weight": null,
       "text_color": null,
       "text_decoration": null
      }
     },
     "25552372bc5b4c80b753f496f5ededca": {
      "model_module": "@jupyter-widgets/base",
      "model_module_version": "2.0.0",
      "model_name": "LayoutModel",
      "state": {
       "height": "auto",
       "padding": "0px 0px 0px 4px",
       "width": "auto"
      }
     },
     "25ab9a0c773d444fb16a78ab1e468b87": {
      "model_module": "@jupyter-widgets/controls",
      "model_module_version": "2.0.0",
      "model_name": "TextStyleModel",
      "state": {
       "description_width": "",
       "font_size": null,
       "text_color": null
      }
     },
     "2642978557684d21b11c50871e490a71": {
      "model_module": "@jupyter-widgets/base",
      "model_module_version": "2.0.0",
      "model_name": "LayoutModel",
      "state": {
       "height": "auto",
       "padding": "0px 0px 0px 4px",
       "width": "auto"
      }
     },
     "26566272ec1a4f83be2bb26557157208": {
      "model_module": "jupyter-leaflet",
      "model_module_version": "^0.17",
      "model_name": "LeafletAttributionControlModel",
      "state": {
       "_model_module_version": "^0.17",
       "_view_module_version": "^0.17",
       "options": [
        "position",
        "prefix"
       ],
       "position": "bottomright",
       "prefix": "ipyleaflet"
      }
     },
     "268e413402b7446194881b3f8d4748ef": {
      "model_module": "@jupyter-widgets/controls",
      "model_module_version": "2.0.0",
      "model_name": "ToggleButtonStyleModel",
      "state": {
       "description_width": "",
       "font_family": null,
       "font_size": null,
       "font_style": null,
       "font_variant": null,
       "font_weight": null,
       "text_color": null,
       "text_decoration": null
      }
     },
     "26e73e2fa7b74b2f9e5f49e1a3fa4b6e": {
      "model_module": "jupyter-leaflet",
      "model_module_version": "^0.17",
      "model_name": "LeafletTileLayerModel",
      "state": {
       "_model_module_version": "^0.17",
       "_view_module_version": "^0.17",
       "attribution": "Google Earth Engine",
       "max_zoom": 24,
       "name": "landsat7_may_29",
       "options": [
        "attribution",
        "bounds",
        "detect_retina",
        "max_native_zoom",
        "max_zoom",
        "min_native_zoom",
        "min_zoom",
        "no_wrap",
        "tile_size",
        "tms",
        "zoom_offset"
       ],
       "url": "https://earthengine.googleapis.com/v1/projects/earthengine-legacy/maps/ec03cb2ec2c443baa991111fe9861289-97acc7ab75a51f2a852f65c6fb153b09/tiles/{z}/{x}/{y}"
      }
     },
     "27789e8dfb4f439f941d5ef12dfa81ee": {
      "model_module": "@jupyter-widgets/base",
      "model_module_version": "2.0.0",
      "model_name": "LayoutModel",
      "state": {
       "height": "auto",
       "padding": "0px 0px 0px 4px",
       "width": "auto"
      }
     },
     "27f1cb3cbb5f4441bfa9e974fc22a941": {
      "model_module": "@jupyter-widgets/base",
      "model_module_version": "2.0.0",
      "model_name": "LayoutModel",
      "state": {
       "height": "auto",
       "padding": "0px 0px 0px 4px",
       "width": "auto"
      }
     },
     "27f4e5148a6c42a09af81df1d3917697": {
      "model_module": "ipyevents",
      "model_module_version": "2.0.2",
      "model_name": "EventModel",
      "state": {
       "_supported_key_events": [
        "keydown",
        "keyup"
       ],
       "_supported_mouse_events": [
        "click",
        "auxclick",
        "dblclick",
        "mouseenter",
        "mouseleave",
        "mousedown",
        "mouseup",
        "mousemove",
        "wheel",
        "contextmenu",
        "dragstart",
        "drag",
        "dragend",
        "dragenter",
        "dragover",
        "dragleave",
        "drop"
       ],
       "_supported_touch_events": [
        "touchstart",
        "touchend",
        "touchmove",
        "touchcancel"
       ],
       "_view_module": "@jupyter-widgets/controls",
       "source": "IPY_MODEL_d5336df21aa44c29b9329e0db17e869c",
       "throttle_or_debounce": "",
       "watched_events": [
        "mouseenter",
        "mouseleave"
       ],
       "xy_coordinate_system": ""
      }
     },
     "27fa8708ff1a4cc7827c1de02ccacd82": {
      "model_module": "@jupyter-widgets/controls",
      "model_module_version": "2.0.0",
      "model_name": "RadioButtonsModel",
      "state": {
       "index": null,
       "layout": "IPY_MODEL_e2d930e88e93481ea64ed34ea0a3f707",
       "style": "IPY_MODEL_61f9534d417c48e9aaa3d5bab12e931e"
      }
     },
     "2828875aee274a57bc8512d1f04be289": {
      "model_module": "@jupyter-widgets/controls",
      "model_module_version": "2.0.0",
      "model_name": "ToggleButtonModel",
      "state": {
       "button_style": "primary",
       "icon": "random",
       "layout": "IPY_MODEL_bd7427b79a4f4fa3bc924fa37efb96a3",
       "style": "IPY_MODEL_0a9a5e86e38e447e8fcf9994032d546f",
       "tooltip": "Sankey plots"
      }
     },
     "284ccd6341744ed3b888554e2a41a994": {
      "model_module": "@jupyter-widgets/base",
      "model_module_version": "2.0.0",
      "model_name": "LayoutModel",
      "state": {
       "height": "auto",
       "padding": "0px 0px 0px 4px",
       "width": "auto"
      }
     },
     "2873567491ec4e6b93fe3a286d2f0330": {
      "model_module": "@jupyter-widgets/controls",
      "model_module_version": "2.0.0",
      "model_name": "ToggleButtonModel",
      "state": {
       "button_style": "primary",
       "icon": "random",
       "layout": "IPY_MODEL_5891aae3aa1e436a9da006632820fd27",
       "style": "IPY_MODEL_52256aeda0c94f1281bba5d0b59412af",
       "tooltip": "Sankey plots"
      }
     },
     "28d1ad4af3804cfb83565c83e887e780": {
      "model_module": "jupyter-leaflet",
      "model_module_version": "^0.17",
      "model_name": "LeafletDrawControlModel",
      "state": {
       "_model_module_version": "^0.17",
       "_view_module_version": "^0.17",
       "marker": {
        "shapeOptions": {
         "color": "#3388ff"
        }
       },
       "options": [
        "position"
       ],
       "polygon": {
        "shapeOptions": {
         "clickable": true,
         "color": "#3388ff",
         "fill": true,
         "fillColor": null,
         "fillOpacity": 0.2,
         "opacity": 0.5,
         "stroke": true,
         "weight": 4
        }
       },
       "polyline": {
        "shapeOptions": {
         "clickable": true,
         "color": "#3388ff",
         "fill": false,
         "opacity": 0.5,
         "stroke": true,
         "weight": 4
        }
       },
       "rectangle": {
        "shapeOptions": {
         "clickable": true,
         "color": "#3388ff",
         "fill": true,
         "fillColor": null,
         "fillOpacity": 0.2,
         "opacity": 0.5,
         "stroke": true,
         "weight": 4
        }
       }
      }
     },
     "2910b03c03d149f2b57d3cad6149b16c": {
      "model_module": "jupyter-leaflet",
      "model_module_version": "^0.17",
      "model_name": "LeafletMapStyleModel",
      "state": {
       "_model_module_version": "^0.17",
       "cursor": "move"
      }
     },
     "292a1f88dcd144a991bda82071f6ab07": {
      "model_module": "@jupyter-widgets/base",
      "model_module_version": "2.0.0",
      "model_name": "LayoutModel",
      "state": {
       "max_height": "350px",
       "max_width": "340px",
       "overflow": "scroll"
      }
     },
     "2942b9d66218468e9ac12d3dd67541c4": {
      "model_module": "@jupyter-widgets/controls",
      "model_module_version": "2.0.0",
      "model_name": "ToggleButtonStyleModel",
      "state": {
       "description_width": "",
       "font_family": null,
       "font_size": null,
       "font_style": null,
       "font_variant": null,
       "font_weight": null,
       "text_color": null,
       "text_decoration": null
      }
     },
     "2957e745317d41a8b06079b82e591b07": {
      "model_module": "@jupyter-widgets/controls",
      "model_module_version": "2.0.0",
      "model_name": "ToggleButtonStyleModel",
      "state": {
       "description_width": "",
       "font_family": null,
       "font_size": null,
       "font_style": null,
       "font_variant": null,
       "font_weight": null,
       "text_color": null,
       "text_decoration": null
      }
     },
     "299c054a70b54f07b4b44a1ed9888ba7": {
      "model_module": "@jupyter-widgets/controls",
      "model_module_version": "2.0.0",
      "model_name": "DropdownModel",
      "state": {
       "index": null,
       "layout": "IPY_MODEL_6b26c850741b4cfa92e645d1f8075ecc",
       "style": "IPY_MODEL_c8c7adb573c746f6944bec17d9e9072a"
      }
     },
     "2a8bb1eb5f004de49b6f1204462931ac": {
      "model_module": "@jupyter-widgets/controls",
      "model_module_version": "2.0.0",
      "model_name": "ToggleButtonStyleModel",
      "state": {
       "description_width": "",
       "font_family": null,
       "font_size": null,
       "font_style": null,
       "font_variant": null,
       "font_weight": null,
       "text_color": null,
       "text_decoration": null
      }
     },
     "2a92f4946d074642924fd3a2d03325ef": {
      "model_module": "@jupyter-widgets/controls",
      "model_module_version": "2.0.0",
      "model_name": "ToggleButtonModel",
      "state": {
       "button_style": "primary",
       "icon": "hand-o-up",
       "layout": "IPY_MODEL_492731dbcd8d4ca78bf81f598acc41af",
       "style": "IPY_MODEL_7f6ec780468a40beb8b8672baafeff08",
       "tooltip": "Collect training samples"
      }
     },
     "2a9e07b37ad44466b3c7ef9fdab2989f": {
      "model_module": "@jupyter-widgets/controls",
      "model_module_version": "2.0.0",
      "model_name": "ToggleButtonStyleModel",
      "state": {
       "description_width": "",
       "font_family": null,
       "font_size": null,
       "font_style": null,
       "font_variant": null,
       "font_weight": null,
       "text_color": null,
       "text_decoration": null
      }
     },
     "2b38910e1a784c1b802809376b11cabb": {
      "model_module": "@jupyter-widgets/base",
      "model_module_version": "2.0.0",
      "model_name": "LayoutModel",
      "state": {}
     },
     "2ba0a26577a34ffea869d131644a4a9d": {
      "model_module": "@jupyter-widgets/controls",
      "model_module_version": "2.0.0",
      "model_name": "HBoxModel",
      "state": {
       "_view_count": 1,
       "children": [
        "IPY_MODEL_76b5adca728d477982010991efb7ab0c"
       ],
       "layout": "IPY_MODEL_aca8556c10bf4d869ae559da1f4545d6"
      }
     },
     "2beec1ae62474ce5a31e95a341e94cc3": {
      "model_module": "@jupyter-widgets/base",
      "model_module_version": "2.0.0",
      "model_name": "LayoutModel",
      "state": {}
     },
     "2bfa6227db904a5992ac71ddcad758d2": {
      "model_module": "jupyter-leaflet",
      "model_module_version": "^0.17",
      "model_name": "LeafletFullScreenControlModel",
      "state": {
       "_model_module_version": "^0.17",
       "_view_module_version": "^0.17",
       "options": [
        "position"
       ]
      }
     },
     "2bfe38990ae748529ac1729af404a46e": {
      "model_module": "@jupyter-widgets/controls",
      "model_module_version": "2.0.0",
      "model_name": "GridBoxModel",
      "state": {
       "children": [
        "IPY_MODEL_df7c954dd24f4ce89bcdd152557263b7",
        "IPY_MODEL_0f410cc00d6f4ed98b68b45a37831339",
        "IPY_MODEL_7389261797d24bd791c552697a8f2d68",
        "IPY_MODEL_0de419a46d0a4b35a4769afc211c4e03",
        "IPY_MODEL_6aa004e0aea24092912ad3f68515271b",
        "IPY_MODEL_5cc8f1766c15422abd8b0c6f2d045570"
       ],
       "layout": "IPY_MODEL_536624914de641d1b42e4046f8f46acf"
      }
     },
     "2c326bbb7d8847829308e79eea9c588f": {
      "model_module": "@jupyter-widgets/base",
      "model_module_version": "2.0.0",
      "model_name": "LayoutModel",
      "state": {}
     },
     "2c58cc52228d4fc79366751e7efad921": {
      "model_module": "@jupyter-widgets/base",
      "model_module_version": "2.0.0",
      "model_name": "LayoutModel",
      "state": {
       "height": "auto",
       "padding": "0px 0px 0px 4px",
       "width": "auto"
      }
     },
     "2c8cf2afdb794eff9129fa36fe14f031": {
      "model_module": "jupyter-leaflet",
      "model_module_version": "^0.17",
      "model_name": "LeafletWidgetControlModel",
      "state": {
       "_model_module": "jupyter-leaflet",
       "_model_module_version": "^0.17",
       "_view_count": null,
       "_view_module": "jupyter-leaflet",
       "_view_module_version": "^0.17",
       "options": [
        "position",
        "transparent_bg"
       ],
       "position": "topleft",
       "widget": "IPY_MODEL_92c5fa2b29eb49a6a1eb7d23f6c4c8f7"
      }
     },
     "2c8e49d5823f48b4b1fd6a425ef22a53": {
      "model_module": "jupyter-leaflet",
      "model_module_version": "^0.17",
      "model_name": "LeafletTileLayerModel",
      "state": {
       "_model_module_version": "^0.17",
       "_view_module_version": "^0.17",
       "attribution": "&copy; <a href=\"https://www.openstreetmap.org/copyright\">OpenStreetMap</a> contributors",
       "base": true,
       "max_zoom": 19,
       "min_zoom": 1,
       "name": "OpenStreetMap.Mapnik",
       "options": [
        "attribution",
        "bounds",
        "detect_retina",
        "max_native_zoom",
        "max_zoom",
        "min_native_zoom",
        "min_zoom",
        "no_wrap",
        "tile_size",
        "tms",
        "zoom_offset"
       ],
       "url": "https://tile.openstreetmap.org/{z}/{x}/{y}.png"
      }
     },
     "2ca7954dc9f5490bab8c99f4ef338b3b": {
      "model_module": "@jupyter-widgets/base",
      "model_module_version": "2.0.0",
      "model_name": "LayoutModel",
      "state": {
       "height": "auto",
       "padding": "0px 0px 0px 4px",
       "width": "auto"
      }
     },
     "2cb996fa24474dd19f611c0f32fb2889": {
      "model_module": "@jupyter-widgets/controls",
      "model_module_version": "2.0.0",
      "model_name": "DescriptionStyleModel",
      "state": {
       "description_width": ""
      }
     },
     "2ce8b8e1dc704fd9975bf35f73512eb4": {
      "model_module": "jupyter-leaflet",
      "model_module_version": "^0.17",
      "model_name": "LeafletZoomControlModel",
      "state": {
       "_model_module_version": "^0.17",
       "_view_module_version": "^0.17",
       "options": [
        "position",
        "zoom_in_text",
        "zoom_in_title",
        "zoom_out_text",
        "zoom_out_title"
       ]
      }
     },
     "2cf60ea9992a4263bfc08ae233d8fab9": {
      "model_module": "@jupyter-widgets/base",
      "model_module_version": "2.0.0",
      "model_name": "LayoutModel",
      "state": {
       "height": "auto",
       "padding": "0px 0px 0px 4px",
       "width": "auto"
      }
     },
     "2d0ae6cf1706431587dd7fa98e1baa24": {
      "model_module": "@jupyter-widgets/controls",
      "model_module_version": "2.0.0",
      "model_name": "ToggleButtonStyleModel",
      "state": {
       "description_width": "",
       "font_family": null,
       "font_size": null,
       "font_style": null,
       "font_variant": null,
       "font_weight": null,
       "text_color": null,
       "text_decoration": null
      }
     },
     "2d177eb72af34c169cf400df25ccbe59": {
      "model_module": "@jupyter-widgets/controls",
      "model_module_version": "2.0.0",
      "model_name": "ToggleButtonModel",
      "state": {
       "button_style": "primary",
       "icon": "fast-forward",
       "layout": "IPY_MODEL_f15004f51e5043f5aa766f158eadbe8f",
       "style": "IPY_MODEL_e01cc7d575834b49a62bc8e96c16beb9",
       "tooltip": "Activate timeslider"
      }
     },
     "2d740f3a19684e6ab7d2a7be698e0aa3": {
      "model_module": "@jupyter-widgets/controls",
      "model_module_version": "2.0.0",
      "model_name": "ToggleButtonsStyleModel",
      "state": {
       "button_width": "110px",
       "description_width": ""
      }
     },
     "2d98f8765d5f424b88aa277181e145df": {
      "model_module": "@jupyter-widgets/controls",
      "model_module_version": "2.0.0",
      "model_name": "RadioButtonsModel",
      "state": {
       "index": null,
       "layout": "IPY_MODEL_6b3a4066eeef4d37b31fb83a0e6563c3",
       "style": "IPY_MODEL_3052499ec5824e4ab70e59e39c270b73"
      }
     },
     "2dc5716f32f248dea13a8b19e90d1c95": {
      "model_module": "@jupyter-widgets/controls",
      "model_module_version": "2.0.0",
      "model_name": "ToggleButtonStyleModel",
      "state": {
       "description_width": "",
       "font_family": null,
       "font_size": null,
       "font_style": null,
       "font_variant": null,
       "font_weight": null,
       "text_color": null,
       "text_decoration": null
      }
     },
     "2dcb1996e6a7484e9e144480eb7f06b4": {
      "model_module": "@jupyter-widgets/base",
      "model_module_version": "2.0.0",
      "model_name": "LayoutModel",
      "state": {}
     },
     "2de8a93b186b406f85184ef64b6c8e5b": {
      "model_module": "@jupyter-widgets/controls",
      "model_module_version": "2.0.0",
      "model_name": "ToggleButtonStyleModel",
      "state": {
       "description_width": "",
       "font_family": null,
       "font_size": null,
       "font_style": null,
       "font_variant": null,
       "font_weight": null,
       "text_color": null,
       "text_decoration": null
      }
     },
     "2e3c8d922b1b4385961a5d89a8e1e2c0": {
      "model_module": "@jupyter-widgets/base",
      "model_module_version": "2.0.0",
      "model_name": "LayoutModel",
      "state": {
       "height": "auto",
       "padding": "0px 0px 0px 4px",
       "width": "auto"
      }
     },
     "2e452d34d9ea4479b43ba5106c933971": {
      "model_module": "jupyter-leaflet",
      "model_module_version": "^0.17",
      "model_name": "LeafletTileLayerModel",
      "state": {
       "_model_module_version": "^0.17",
       "_view_module_version": "^0.17",
       "attribution": "Google Earth Engine",
       "max_zoom": 24,
       "name": "landsat7_may_29",
       "options": [
        "attribution",
        "bounds",
        "detect_retina",
        "max_native_zoom",
        "max_zoom",
        "min_native_zoom",
        "min_zoom",
        "no_wrap",
        "tile_size",
        "tms",
        "zoom_offset"
       ],
       "url": "https://earthengine.googleapis.com/v1/projects/earthengine-legacy/maps/ec03cb2ec2c443baa991111fe9861289-d4c2c4d9db37f666c579d4d20956fdde/tiles/{z}/{x}/{y}"
      }
     },
     "2e63c7e6856047359e58e84d595ca868": {
      "model_module": "@jupyter-widgets/base",
      "model_module_version": "2.0.0",
      "model_name": "LayoutModel",
      "state": {}
     },
     "2e7208e03d0f4afb8864d95e139ead4e": {
      "model_module": "@jupyter-widgets/controls",
      "model_module_version": "2.0.0",
      "model_name": "HBoxModel",
      "state": {
       "children": [
        "IPY_MODEL_c9a0ca77c8354b638b796547f066e605",
        "IPY_MODEL_299c054a70b54f07b4b44a1ed9888ba7"
       ],
       "layout": "IPY_MODEL_6a76734473544d64a521e20f6666927d"
      }
     },
     "2eb452e8be83497ab649538f4a6b915a": {
      "model_module": "@jupyter-widgets/controls",
      "model_module_version": "2.0.0",
      "model_name": "HBoxModel",
      "state": {
       "children": [
        "IPY_MODEL_1eae3695469b49aabea09842e0c335bf",
        "IPY_MODEL_4b9311999e7c4da7a4f0c2a529225f31"
       ],
       "layout": "IPY_MODEL_0f44711d1d1045879dae6b643e3b264b"
      }
     },
     "2ece2456af5e4b9c81ed2784223bf94b": {
      "model_module": "@jupyter-widgets/controls",
      "model_module_version": "2.0.0",
      "model_name": "ToggleButtonModel",
      "state": {
       "button_style": "primary",
       "icon": "globe",
       "layout": "IPY_MODEL_b7acdc613530400d8be8e02bfb203291",
       "style": "IPY_MODEL_a4c88bb52db449c8813995f7a161c2da",
       "tooltip": "Create timelapse"
      }
     },
     "2ed2776081194b00963f698048acfa91": {
      "model_module": "@jupyter-widgets/controls",
      "model_module_version": "2.0.0",
      "model_name": "ToggleButtonStyleModel",
      "state": {
       "description_width": "",
       "font_family": null,
       "font_size": null,
       "font_style": null,
       "font_variant": null,
       "font_weight": null,
       "text_color": null,
       "text_decoration": null
      }
     },
     "2efd1e88c2e9427c9f0b71a141bcc3b6": {
      "model_module": "@jupyter-widgets/base",
      "model_module_version": "2.0.0",
      "model_name": "LayoutModel",
      "state": {}
     },
     "2efee416b12b40e5928d5cfb9a424895": {
      "model_module": "@jupyter-widgets/controls",
      "model_module_version": "2.0.0",
      "model_name": "ToggleButtonsModel",
      "state": {
       "_options_labels": [
        "name/address",
        "lat-lon",
        "data"
       ],
       "button_style": "",
       "icons": [],
       "index": 0,
       "layout": "IPY_MODEL_d7b5389ef2554500958934e1b314e6df",
       "style": "IPY_MODEL_dd35572bd97743a694f2973c3064d1ff",
       "tooltips": [
        "Search by place name or address",
        "Search by lat-lon coordinates",
        "Search Earth Engine data catalog"
       ]
      }
     },
     "2f8f5f02aee24fcc943385bd9078fce5": {
      "model_module": "@jupyter-widgets/base",
      "model_module_version": "2.0.0",
      "model_name": "LayoutModel",
      "state": {
       "height": "auto",
       "padding": "0px 0px 0px 4px",
       "width": "auto"
      }
     },
     "2fd6646934c542ce98c28feef647b0ab": {
      "model_module": "jupyter-leaflet",
      "model_module_version": "^0.17",
      "model_name": "LeafletDrawControlModel",
      "state": {
       "_model_module_version": "^0.17",
       "_view_module_version": "^0.17",
       "marker": {
        "shapeOptions": {
         "color": "#3388ff"
        }
       },
       "options": [
        "position"
       ],
       "polygon": {
        "shapeOptions": {
         "clickable": true,
         "color": "#3388ff",
         "fill": true,
         "fillColor": null,
         "fillOpacity": 0.2,
         "opacity": 0.5,
         "stroke": true,
         "weight": 4
        }
       },
       "polyline": {
        "shapeOptions": {
         "clickable": true,
         "color": "#3388ff",
         "fill": false,
         "opacity": 0.5,
         "stroke": true,
         "weight": 4
        }
       },
       "rectangle": {
        "shapeOptions": {
         "clickable": true,
         "color": "#3388ff",
         "fill": true,
         "fillColor": null,
         "fillOpacity": 0.2,
         "opacity": 0.5,
         "stroke": true,
         "weight": 4
        }
       }
      }
     },
     "2ff7386876a44a90b8151d564e974a19": {
      "model_module": "jupyter-leaflet",
      "model_module_version": "^0.17",
      "model_name": "LeafletScaleControlModel",
      "state": {
       "_model_module_version": "^0.17",
       "_view_module_version": "^0.17",
       "imperial": true,
       "max_width": 100,
       "metric": true,
       "options": [
        "imperial",
        "max_width",
        "metric",
        "position",
        "update_when_idle"
       ],
       "position": "bottomleft",
       "update_when_idle": false
      }
     },
     "3052499ec5824e4ab70e59e39c270b73": {
      "model_module": "@jupyter-widgets/controls",
      "model_module_version": "2.0.0",
      "model_name": "DescriptionStyleModel",
      "state": {
       "description_width": ""
      }
     },
     "306ae803b016418ca81207afdc74b5d8": {
      "model_module": "@jupyter-widgets/base",
      "model_module_version": "2.0.0",
      "model_name": "LayoutModel",
      "state": {
       "max_height": "350px",
       "max_width": "340px",
       "overflow": "scroll"
      }
     },
     "30a2e955ea99408083a1342d73c02fb6": {
      "model_module": "@jupyter-widgets/controls",
      "model_module_version": "2.0.0",
      "model_name": "ToggleButtonStyleModel",
      "state": {
       "description_width": "",
       "font_family": null,
       "font_size": null,
       "font_style": null,
       "font_variant": null,
       "font_weight": null,
       "text_color": null,
       "text_decoration": null
      }
     },
     "30ca8d934bb24c28b20c2082d71f1f65": {
      "model_module": "@jupyter-widgets/base",
      "model_module_version": "2.0.0",
      "model_name": "LayoutModel",
      "state": {
       "max_width": "57px",
       "min_width": "57px"
      }
     },
     "30f830876e834900bc67a592f4f111fe": {
      "model_module": "@jupyter-widgets/base",
      "model_module_version": "2.0.0",
      "model_name": "LayoutModel",
      "state": {}
     },
     "314942fec22848948d99e32371c6e987": {
      "model_module": "jupyter-leaflet",
      "model_module_version": "^0.17",
      "model_name": "LeafletAttributionControlModel",
      "state": {
       "_model_module_version": "^0.17",
       "_view_module_version": "^0.17",
       "options": [
        "position",
        "prefix"
       ],
       "position": "bottomright",
       "prefix": "ipyleaflet"
      }
     },
     "317632ae7cdc47ada5f37d1be9d5973f": {
      "model_module": "@jupyter-widgets/controls",
      "model_module_version": "2.0.0",
      "model_name": "ToggleButtonStyleModel",
      "state": {
       "description_width": "",
       "font_family": null,
       "font_size": null,
       "font_style": null,
       "font_variant": null,
       "font_weight": null,
       "text_color": null,
       "text_decoration": null
      }
     },
     "3199cbf536c446d187104831295b7c02": {
      "model_module": "@jupyter-widgets/controls",
      "model_module_version": "2.0.0",
      "model_name": "VBoxModel",
      "state": {
       "children": [
        "IPY_MODEL_c7c83b76eb3f4a778dc27e92c33f1f79",
        "IPY_MODEL_6da59b332f0b4882af2b1dd27c6c6842"
       ],
       "layout": "IPY_MODEL_79956ce939ff47a980d6f8128d911e55"
      }
     },
     "31b4b73e958644ccaf4314429c375f0f": {
      "model_module": "@jupyter-widgets/base",
      "model_module_version": "2.0.0",
      "model_name": "LayoutModel",
      "state": {
       "height": "auto",
       "padding": "0px 0px 0px 4px",
       "width": "auto"
      }
     },
     "31ce8e74481049fa835cf1495e08eb58": {
      "model_module": "@jupyter-widgets/base",
      "model_module_version": "2.0.0",
      "model_name": "LayoutModel",
      "state": {
       "height": "auto",
       "padding": "0px 0px 0px 4px",
       "width": "auto"
      }
     },
     "31e35342f0ce4714951d55e4f0dd5ae0": {
      "model_module": "jupyter-leaflet",
      "model_module_version": "^0.17",
      "model_name": "LeafletMapStyleModel",
      "state": {
       "_model_module_version": "^0.17"
      }
     },
     "320e7f0af94943e1ae72be702b0edafb": {
      "model_module": "@jupyter-widgets/controls",
      "model_module_version": "2.0.0",
      "model_name": "ToggleButtonStyleModel",
      "state": {
       "description_width": "",
       "font_family": null,
       "font_size": null,
       "font_style": null,
       "font_variant": null,
       "font_weight": null,
       "text_color": null,
       "text_decoration": null
      }
     },
     "32199576d8564ce7b6263f923c362d92": {
      "model_module": "@jupyter-widgets/controls",
      "model_module_version": "2.0.0",
      "model_name": "ToggleButtonModel",
      "state": {
       "icon": "wrench",
       "layout": "IPY_MODEL_16272d290bc14d529dd78ffe569b6bb9",
       "style": "IPY_MODEL_ac31be15d4ef4830b0fe8a613714528b",
       "tooltip": "Toolbar"
      }
     },
     "32bd062b94f24aaa8676432e1b26be98": {
      "model_module": "@jupyter-widgets/controls",
      "model_module_version": "2.0.0",
      "model_name": "ToggleButtonStyleModel",
      "state": {
       "description_width": "",
       "font_family": null,
       "font_size": null,
       "font_style": null,
       "font_variant": null,
       "font_weight": null,
       "text_color": null,
       "text_decoration": null
      }
     },
     "3323daa0f7e645b3b8db2267e9d6f71c": {
      "model_module": "@jupyter-widgets/controls",
      "model_module_version": "2.0.0",
      "model_name": "ToggleButtonStyleModel",
      "state": {
       "description_width": "",
       "font_family": null,
       "font_size": null,
       "font_style": null,
       "font_variant": null,
       "font_weight": null,
       "text_color": null,
       "text_decoration": null
      }
     },
     "333a2545827646719232101dee9887aa": {
      "model_module": "@jupyter-widgets/controls",
      "model_module_version": "2.0.0",
      "model_name": "ToggleButtonModel",
      "state": {
       "button_style": "primary",
       "icon": "fast-forward",
       "layout": "IPY_MODEL_dc7c38fe4d8a4224993ebdafa0479ad0",
       "style": "IPY_MODEL_9218e15419b144fa86e6059cd5a868a4",
       "tooltip": "Activate timeslider"
      }
     },
     "33403bd26a2d43afa39cd26a2fae3cfd": {
      "model_module": "@jupyter-widgets/controls",
      "model_module_version": "2.0.0",
      "model_name": "GridBoxModel",
      "state": {
       "children": [
        "IPY_MODEL_fedd93ce980f41c8bc8adae2490180b1",
        "IPY_MODEL_bf0a7af3d8b042688cc5dbda8f03f4a5",
        "IPY_MODEL_0d1b7ce7ab8f4c0aa765acc264c34baa",
        "IPY_MODEL_196b6194592c44359b8c3053f2afcf45",
        "IPY_MODEL_a267bf5ee49d418fa893a7dc0f27b42b",
        "IPY_MODEL_d8c57c5a9d474efe942602b225e215de"
       ],
       "layout": "IPY_MODEL_1fc917d2b47e43fd9a5241ad45f56d1c"
      }
     },
     "33acb2f57e8441dea508413ba321b2a6": {
      "model_module": "jupyter-leaflet",
      "model_module_version": "^0.17",
      "model_name": "LeafletAttributionControlModel",
      "state": {
       "_model_module_version": "^0.17",
       "_view_module_version": "^0.17",
       "options": [
        "position",
        "prefix"
       ],
       "position": "bottomright",
       "prefix": "ipyleaflet"
      }
     },
     "33e83ec8225d420abc51b1b8990dc506": {
      "model_module": "@jupyter-widgets/controls",
      "model_module_version": "2.0.0",
      "model_name": "DescriptionStyleModel",
      "state": {
       "description_width": ""
      }
     },
     "33ec2edb4a2b4215ad78de6d8f43bedf": {
      "model_module": "@jupyter-widgets/base",
      "model_module_version": "2.0.0",
      "model_name": "LayoutModel",
      "state": {
       "height": "auto",
       "padding": "0px 0px 0px 4px",
       "width": "auto"
      }
     },
     "343394fb23b64416a3e3fdb4d9c91ec8": {
      "model_module": "@jupyter-widgets/base",
      "model_module_version": "2.0.0",
      "model_name": "LayoutModel",
      "state": {
       "width": "340px"
      }
     },
     "34433e57dcf84e4aad1c3959ff0e6570": {
      "model_module": "@jupyter-widgets/controls",
      "model_module_version": "2.0.0",
      "model_name": "ToggleButtonModel",
      "state": {
       "button_style": "primary",
       "icon": "info-circle",
       "layout": "IPY_MODEL_27f1cb3cbb5f4441bfa9e974fc22a941",
       "style": "IPY_MODEL_b4f0e846a5194542aad311210fe38ed3",
       "tooltip": "Get COG/STAC pixel value"
      }
     },
     "3496bafdb34c4c87b5b78898b819e40d": {
      "model_module": "@jupyter-widgets/controls",
      "model_module_version": "2.0.0",
      "model_name": "ToggleButtonModel",
      "state": {
       "button_style": "primary",
       "icon": "bar-chart",
       "layout": "IPY_MODEL_ee8107e9282848bfa55dc5109eaa5eda",
       "style": "IPY_MODEL_a3495936596d489eacba886c1db6d435",
       "tooltip": "Plotting"
      }
     },
     "349f33ab709e4968891d863229b0a3ec": {
      "model_module": "@jupyter-widgets/controls",
      "model_module_version": "2.0.0",
      "model_name": "ToggleButtonModel",
      "state": {
       "button_style": "primary",
       "icon": "line-chart",
       "layout": "IPY_MODEL_2f8f5f02aee24fcc943385bd9078fce5",
       "style": "IPY_MODEL_dd0e39a46a8244f1bf298b5c1d7d6501",
       "tooltip": "Creating and plotting transects"
      }
     },
     "34adbc1f392a4fc09acbfb4867c696bf": {
      "model_module": "@jupyter-widgets/controls",
      "model_module_version": "2.0.0",
      "model_name": "HBoxModel",
      "state": {
       "children": [
        "IPY_MODEL_b4fb1d2f555546e69ae68ceed2943948",
        "IPY_MODEL_96511dd446c44d23bd2da1d37977907b"
       ],
       "layout": "IPY_MODEL_f79dcc7ff4c84622a20959ec3602700c"
      }
     },
     "34e607abf85b4c0cbe58655b2fc61e72": {
      "model_module": "@jupyter-widgets/base",
      "model_module_version": "2.0.0",
      "model_name": "LayoutModel",
      "state": {
       "height": "28px",
       "width": "72px"
      }
     },
     "351a643d81f84129a240e309751909f8": {
      "model_module": "@jupyter-widgets/controls",
      "model_module_version": "2.0.0",
      "model_name": "ToggleButtonStyleModel",
      "state": {
       "description_width": "",
       "font_family": null,
       "font_size": null,
       "font_style": null,
       "font_variant": null,
       "font_weight": null,
       "text_color": null,
       "text_decoration": null
      }
     },
     "356ae7ec0e534f3886369afe133f5747": {
      "model_module": "jupyter-leaflet",
      "model_module_version": "^0.17",
      "model_name": "LeafletFullScreenControlModel",
      "state": {
       "_model_module_version": "^0.17",
       "_view_module_version": "^0.17",
       "options": [
        "position"
       ]
      }
     },
     "3588b36ebfc74867b8dde236783fe47c": {
      "model_module": "@jupyter-widgets/controls",
      "model_module_version": "2.0.0",
      "model_name": "ToggleButtonModel",
      "state": {
       "button_style": "primary",
       "icon": "globe",
       "layout": "IPY_MODEL_5c3a86ea6caf40ecb09366d31a3f9703",
       "style": "IPY_MODEL_c81edb210c6641539e1db5ec97d55fea",
       "tooltip": "Create timelapse"
      }
     },
     "35af5b56c04c4e58af28d5d57a16be73": {
      "model_module": "jupyter-leaflet",
      "model_module_version": "^0.17",
      "model_name": "LeafletAttributionControlModel",
      "state": {
       "_model_module_version": "^0.17",
       "_view_module_version": "^0.17",
       "options": [
        "position",
        "prefix"
       ],
       "position": "bottomright",
       "prefix": "ipyleaflet"
      }
     },
     "3635ea4b522b4846b59af04df3e84866": {
      "model_module": "jupyter-leaflet",
      "model_module_version": "^0.17",
      "model_name": "LeafletMapStyleModel",
      "state": {
       "_model_module_version": "^0.17",
       "cursor": "move"
      }
     },
     "3689fe197fc54c76bd0c3e91ef5c7442": {
      "model_module": "@jupyter-widgets/controls",
      "model_module_version": "2.0.0",
      "model_name": "ToggleButtonModel",
      "state": {
       "button_style": "primary",
       "icon": "adjust",
       "layout": "IPY_MODEL_035726a5ddca449a8916da6aefe398b1",
       "style": "IPY_MODEL_6d4fa82a06874794a7a88d53e25a0e1c",
       "tooltip": "Planet imagery"
      }
     },
     "3696f3922ce241b183fc1cc16ad2439e": {
      "model_module": "@jupyter-widgets/base",
      "model_module_version": "2.0.0",
      "model_name": "LayoutModel",
      "state": {
       "max_width": "279px",
       "min_width": "279px"
      }
     },
     "36eb59ebd2b3452b80f7fee1738052ef": {
      "model_module": "jupyter-leaflet",
      "model_module_version": "^0.17",
      "model_name": "LeafletScaleControlModel",
      "state": {
       "_model_module_version": "^0.17",
       "_view_module_version": "^0.17",
       "imperial": true,
       "max_width": 100,
       "metric": true,
       "options": [
        "imperial",
        "max_width",
        "metric",
        "position",
        "update_when_idle"
       ],
       "position": "bottomleft",
       "update_when_idle": false
      }
     },
     "376b7642fa824f43b84178881eb44a19": {
      "model_module": "@jupyter-widgets/base",
      "model_module_version": "2.0.0",
      "model_name": "LayoutModel",
      "state": {
       "width": "340px"
      }
     },
     "3774280d18f74b0ca3052975f0214944": {
      "model_module": "@jupyter-widgets/base",
      "model_module_version": "2.0.0",
      "model_name": "LayoutModel",
      "state": {
       "height": "28px",
       "width": "72px"
      }
     },
     "382415c4a7ce4620961dc1472f225013": {
      "model_module": "jupyter-leaflet",
      "model_module_version": "^0.17",
      "model_name": "LeafletTileLayerModel",
      "state": {
       "_model_module_version": "^0.17",
       "_view_module_version": "^0.17",
       "attribution": "Google",
       "max_zoom": 24,
       "name": "Google Maps",
       "options": [
        "attribution",
        "bounds",
        "detect_retina",
        "max_native_zoom",
        "max_zoom",
        "min_native_zoom",
        "min_zoom",
        "no_wrap",
        "tile_size",
        "tms",
        "zoom_offset"
       ],
       "url": "https://mt1.google.com/vt/lyrs=m&x={x}&y={y}&z={z}"
      }
     },
     "3853ed7e619a4dc695a2d49115172eee": {
      "model_module": "@jupyter-widgets/base",
      "model_module_version": "2.0.0",
      "model_name": "LayoutModel",
      "state": {
       "height": "auto",
       "padding": "0px 0px 0px 4px",
       "width": "auto"
      }
     },
     "385c4a67d81541f8882808b5c3993070": {
      "model_module": "@jupyter-widgets/controls",
      "model_module_version": "2.0.0",
      "model_name": "ToggleButtonModel",
      "state": {
       "button_style": "primary",
       "icon": "gears",
       "layout": "IPY_MODEL_f45942d8f69949809a3527c112c5d94f",
       "style": "IPY_MODEL_2067ef10542741b9bc006fb2b2b2f2e0",
       "tooltip": "WhiteboxTools for local geoprocessing"
      }
     },
     "38bf9125dcd449fe89bfb1c958421148": {
      "model_module": "jupyter-leaflet",
      "model_module_version": "^0.17",
      "model_name": "LeafletZoomControlModel",
      "state": {
       "_model_module_version": "^0.17",
       "_view_module_version": "^0.17",
       "options": [
        "position",
        "zoom_in_text",
        "zoom_in_title",
        "zoom_out_text",
        "zoom_out_title"
       ]
      }
     },
     "38e350fdea3249a9a6c00fc4bac8e484": {
      "model_module": "@jupyter-widgets/base",
      "model_module_version": "2.0.0",
      "model_name": "LayoutModel",
      "state": {
       "height": "auto",
       "padding": "0px 0px 0px 4px",
       "width": "auto"
      }
     },
     "38ecc77cf7ff426885d6faf24a2d59ce": {
      "model_module": "@jupyter-widgets/controls",
      "model_module_version": "2.0.0",
      "model_name": "ButtonStyleModel",
      "state": {
       "font_family": null,
       "font_size": null,
       "font_style": null,
       "font_variant": null,
       "font_weight": null,
       "text_color": null,
       "text_decoration": null
      }
     },
     "392388b5d35d4004ab0c75930dc5b8c5": {
      "model_module": "@jupyter-widgets/controls",
      "model_module_version": "2.0.0",
      "model_name": "ToggleButtonStyleModel",
      "state": {
       "description_width": "",
       "font_family": null,
       "font_size": null,
       "font_style": null,
       "font_variant": null,
       "font_weight": null,
       "text_color": null,
       "text_decoration": null
      }
     },
     "392745cee847455fa80876410dc99dc3": {
      "model_module": "@jupyter-widgets/controls",
      "model_module_version": "2.0.0",
      "model_name": "ToggleButtonStyleModel",
      "state": {
       "description_width": "",
       "font_family": null,
       "font_size": null,
       "font_style": null,
       "font_variant": null,
       "font_weight": null,
       "text_color": null,
       "text_decoration": null
      }
     },
     "39cfdaac398d414fa2a2f3152bcae157": {
      "model_module": "jupyter-leaflet",
      "model_module_version": "^0.17",
      "model_name": "LeafletZoomControlModel",
      "state": {
       "_model_module_version": "^0.17",
       "_view_module_version": "^0.17",
       "options": [
        "position",
        "zoom_in_text",
        "zoom_in_title",
        "zoom_out_text",
        "zoom_out_title"
       ]
      }
     },
     "3ae56cc4303a4180bbd1fa0462088146": {
      "model_module": "@jupyter-widgets/base",
      "model_module_version": "2.0.0",
      "model_name": "LayoutModel",
      "state": {}
     },
     "3b2552574aea4545b510ab3326f278e2": {
      "model_module": "@jupyter-widgets/base",
      "model_module_version": "2.0.0",
      "model_name": "LayoutModel",
      "state": {
       "height": "28px",
       "padding": "0px 0px 0px 4px",
       "width": "28px"
      }
     },
     "3b380fd612d44167b1089cb9ede09d8b": {
      "model_module": "@jupyter-widgets/controls",
      "model_module_version": "2.0.0",
      "model_name": "ToggleButtonModel",
      "state": {
       "button_style": "primary",
       "icon": "gears",
       "layout": "IPY_MODEL_4d2faa11f45e489a9978390cbd7e2d04",
       "style": "IPY_MODEL_6a3ba41a5f9c489184ab4812f52d2ee2",
       "tooltip": "WhiteboxTools for local geoprocessing"
      }
     },
     "3b7ab709b1b641ca89b5369ff4b97c03": {
      "model_module": "@jupyter-widgets/controls",
      "model_module_version": "2.0.0",
      "model_name": "HTMLModel",
      "state": {
       "layout": "IPY_MODEL_d5f84aa48cd64bfd805684cff80d8a28",
       "style": "IPY_MODEL_161d9fa4c8354ae09f787a892b1b7455"
      }
     },
     "3b889ffb11c44163a17716336fd5008d": {
      "model_module": "@jupyter-widgets/base",
      "model_module_version": "2.0.0",
      "model_name": "LayoutModel",
      "state": {
       "height": "auto",
       "padding": "0px 0px 0px 4px",
       "width": "auto"
      }
     },
     "3b911f0fcb6c43b49894576647e52879": {
      "model_module": "@jupyter-widgets/base",
      "model_module_version": "2.0.0",
      "model_name": "LayoutModel",
      "state": {
       "max_width": "279px",
       "min_width": "279px"
      }
     },
     "3bdd0b8288d44217a2ef2d8fe48ec505": {
      "model_module": "@jupyter-widgets/controls",
      "model_module_version": "2.0.0",
      "model_name": "RadioButtonsModel",
      "state": {
       "index": null,
       "layout": "IPY_MODEL_c3664a82ec40463694d4cb74f2de898d",
       "style": "IPY_MODEL_7c075566cd1e47cfa06ec9934558421a"
      }
     },
     "3c348850d6b84a23b7f71a6630366e6f": {
      "model_module": "@jupyter-widgets/controls",
      "model_module_version": "2.0.0",
      "model_name": "HTMLModel",
      "state": {
       "layout": "IPY_MODEL_ec4fbd30bfa740f78a1c5ac11f62e440",
       "style": "IPY_MODEL_4147ad13c59c40e48e039352ebde27ee"
      }
     },
     "3c47095f320147ab976f659bc3a80535": {
      "model_module": "@jupyter-widgets/base",
      "model_module_version": "2.0.0",
      "model_name": "LayoutModel",
      "state": {
       "height": "auto",
       "padding": "0px 0px 0px 4px",
       "width": "auto"
      }
     },
     "3c6412ba09604ae0a06bfa026fa431cb": {
      "model_module": "jupyter-leaflet",
      "model_module_version": "^0.17",
      "model_name": "LeafletTileLayerModel",
      "state": {
       "_model_module_version": "^0.17",
       "_view_module_version": "^0.17",
       "attribution": "Google Earth Engine",
       "max_zoom": 24,
       "name": "landsat7_may_13",
       "options": [
        "attribution",
        "bounds",
        "detect_retina",
        "max_native_zoom",
        "max_zoom",
        "min_native_zoom",
        "min_zoom",
        "no_wrap",
        "tile_size",
        "tms",
        "zoom_offset"
       ],
       "url": "https://earthengine.googleapis.com/v1/projects/earthengine-legacy/maps/95205f3230152fb95b8a6101f065e561-16a4e6368fe7b714a42e22f0753314d2/tiles/{z}/{x}/{y}"
      }
     },
     "3ccb48241ad84196a23b3927588404a5": {
      "model_module": "@jupyter-widgets/base",
      "model_module_version": "2.0.0",
      "model_name": "LayoutModel",
      "state": {}
     },
     "3cdd4d81e8e14776906cc8d5d92d8bec": {
      "model_module": "jupyter-leaflet",
      "model_module_version": "^0.17",
      "model_name": "LeafletMapModel",
      "state": {
       "_model_module_version": "^0.17",
       "_view_module_version": "^0.17",
       "bottom": 399526,
       "center": [
        39.4037160204789,
        -112.63575111241983
       ],
       "controls": [
        "IPY_MODEL_985eae1563d54d6f81f1e9c6baf8b1c1",
        "IPY_MODEL_ec26addc9b984462a67324a887813d1d",
        "IPY_MODEL_356ae7ec0e534f3886369afe133f5747",
        "IPY_MODEL_87af13fc3d254759b4c7a790090afcb4",
        "IPY_MODEL_72445af07b6d45d18b7a35e219b3d81d",
        "IPY_MODEL_6d249f4872214faeb1604ad6138042a5",
        "IPY_MODEL_deddd71ab14440e79708f876241c1dec",
        "IPY_MODEL_35af5b56c04c4e58af28d5d57a16be73"
       ],
       "default_style": "IPY_MODEL_c71ab6828f3b46c9935b49bb8b3154b5",
       "dragging_style": "IPY_MODEL_80772f5027db4087854cde9510a34a84",
       "east": -112.46772766113283,
       "fullscreen": false,
       "interpolation": "bilinear",
       "layers": [
        "IPY_MODEL_432e9531b44b443ca29efa3c2cbc5816",
        "IPY_MODEL_d871dd008d574422904d702c871e81ba",
        "IPY_MODEL_1d9ac146757c42209c7096ffa81951a0"
       ],
       "layout": "IPY_MODEL_44e6ca1956714ba8b9d2f2b13bc31a3d",
       "left": 195724,
       "max_zoom": 24,
       "modisdate": "2024-03-11",
       "north": 39.48337536581216,
       "options": [
        "bounce_at_zoom_limits",
        "box_zoom",
        "center",
        "close_popup_on_click",
        "double_click_zoom",
        "dragging",
        "fullscreen",
        "inertia",
        "inertia_deceleration",
        "inertia_max_speed",
        "interpolation",
        "keyboard",
        "keyboard_pan_offset",
        "keyboard_zoom_offset",
        "max_zoom",
        "min_zoom",
        "prefer_canvas",
        "scroll_wheel_zoom",
        "tap",
        "tap_tolerance",
        "touch_zoom",
        "world_copy_jump",
        "zoom",
        "zoom_animation_threshold",
        "zoom_delta",
        "zoom_snap"
       ],
       "prefer_canvas": false,
       "right": 196702,
       "scroll_wheel_zoom": true,
       "south": 39.3242059256878,
       "style": "IPY_MODEL_8f280af44ea647a59b2ec12e12ff31f2",
       "top": 398926,
       "west": -112.80349731445312,
       "window_url": "https://jupyterhub.cuahsi.org/user/torresrua/lab/tree/courses/Machine-Learning-Applications-in-Remote-Sensing-Data/Step_1.ipynb"
      }
     },
     "3d2742b9acd94785a07927baf5449eac": {
      "model_module": "@jupyter-widgets/base",
      "model_module_version": "2.0.0",
      "model_name": "LayoutModel",
      "state": {
       "height": "auto",
       "padding": "0px 0px 0px 4px",
       "width": "auto"
      }
     },
     "3dac1a30ad7947b5a798afa05e731123": {
      "model_module": "@jupyter-widgets/base",
      "model_module_version": "2.0.0",
      "model_name": "LayoutModel",
      "state": {
       "height": "28px",
       "width": "72px"
      }
     },
     "3e5ae665cee84c3a938f32d44e3b6a47": {
      "model_module": "@jupyter-widgets/controls",
      "model_module_version": "2.0.0",
      "model_name": "ToggleButtonModel",
      "state": {
       "button_style": "primary",
       "icon": "retweet",
       "layout": "IPY_MODEL_b0e8201448bf4598a708dd2c3c046a1c",
       "style": "IPY_MODEL_f4d3859891664d5683b81d5bb990bd44",
       "tooltip": "Convert Earth Engine JavaScript to Python"
      }
     },
     "3e6068f17df240de959e366a38f48372": {
      "model_module": "@jupyter-widgets/controls",
      "model_module_version": "2.0.0",
      "model_name": "ToggleButtonStyleModel",
      "state": {
       "description_width": "",
       "font_family": null,
       "font_size": null,
       "font_style": null,
       "font_variant": null,
       "font_weight": null,
       "text_color": null,
       "text_decoration": null
      }
     },
     "3e9ec994b0b44bce857bdedb9d9e08f6": {
      "model_module": "@jupyter-widgets/controls",
      "model_module_version": "2.0.0",
      "model_name": "ToggleButtonStyleModel",
      "state": {
       "description_width": "",
       "font_family": null,
       "font_size": null,
       "font_style": null,
       "font_variant": null,
       "font_weight": null,
       "text_color": null,
       "text_decoration": null
      }
     },
     "3ea60625b4e34e29b685749d44908f13": {
      "model_module": "@jupyter-widgets/controls",
      "model_module_version": "2.0.0",
      "model_name": "TextModel",
      "state": {
       "layout": "IPY_MODEL_b8b3acf22dfc4431b45f0e8d6e17ecb5",
       "placeholder": "Search by place name or address",
       "style": "IPY_MODEL_9618780f9ccb4fe292e3d87d33943b06",
       "tooltip": "Search location"
      }
     },
     "3f2de33fc747426e8e50cbf0b20a8c05": {
      "model_module": "jupyter-leaflet",
      "model_module_version": "^0.17",
      "model_name": "LeafletMeasureControlModel",
      "state": {
       "_model_module_version": "^0.17",
       "_view_module_version": "^0.17",
       "active_color": "orange",
       "options": [
        "active_color",
        "capture_z_index",
        "completed_color",
        "popup_options",
        "position",
        "primary_area_unit",
        "primary_length_unit",
        "secondary_area_unit",
        "secondary_length_unit"
       ],
       "position": "bottomleft",
       "primary_length_unit": "kilometers",
       "secondary_area_unit": null,
       "secondary_length_unit": null
      }
     },
     "3f64a8d4565a4ebe9a024af4393a907c": {
      "model_module": "@jupyter-widgets/controls",
      "model_module_version": "2.0.0",
      "model_name": "ToggleButtonStyleModel",
      "state": {
       "description_width": "",
       "font_family": null,
       "font_size": null,
       "font_style": null,
       "font_variant": null,
       "font_weight": null,
       "text_color": null,
       "text_decoration": null
      }
     },
     "3f6df2e315574a4aa8605333ef04668b": {
      "model_module": "@jupyter-widgets/base",
      "model_module_version": "2.0.0",
      "model_name": "LayoutModel",
      "state": {
       "height": "auto",
       "padding": "0px 0px 0px 4px",
       "width": "auto"
      }
     },
     "3fcc94c99b5045d29928e25bf25436fc": {
      "model_module": "@jupyter-widgets/controls",
      "model_module_version": "2.0.0",
      "model_name": "ToggleButtonModel",
      "state": {
       "button_style": "primary",
       "icon": "folder-open",
       "layout": "IPY_MODEL_ef83e7c95f294dfe9137b7fb9d34ef21",
       "style": "IPY_MODEL_564e387176ce4abb9e119d85328ccf4d",
       "tooltip": "Open local vector/raster data"
      }
     },
     "3feecae08688445cadf1ae534f1982b3": {
      "model_module": "@jupyter-widgets/controls",
      "model_module_version": "2.0.0",
      "model_name": "ToggleButtonStyleModel",
      "state": {
       "description_width": "",
       "font_family": null,
       "font_size": null,
       "font_style": null,
       "font_variant": null,
       "font_weight": null,
       "text_color": null,
       "text_decoration": null
      }
     },
     "3ff9da6c56a24294b1ca225d8f3b6d61": {
      "model_module": "ipyevents",
      "model_module_version": "2.0.2",
      "model_name": "EventModel",
      "state": {
       "_supported_key_events": [
        "keydown",
        "keyup"
       ],
       "_supported_mouse_events": [
        "click",
        "auxclick",
        "dblclick",
        "mouseenter",
        "mouseleave",
        "mousedown",
        "mouseup",
        "mousemove",
        "wheel",
        "contextmenu",
        "dragstart",
        "drag",
        "dragend",
        "dragenter",
        "dragover",
        "dragleave",
        "drop"
       ],
       "_supported_touch_events": [
        "touchstart",
        "touchend",
        "touchmove",
        "touchcancel"
       ],
       "_view_module": "@jupyter-widgets/controls",
       "source": "IPY_MODEL_7bc28dd093624d2691b24d4f9eaf0d6d",
       "throttle_or_debounce": "",
       "watched_events": [
        "mouseenter",
        "mouseleave"
       ],
       "xy_coordinate_system": ""
      }
     },
     "401986645e4a45dbb862a99a5a025b37": {
      "model_module": "@jupyter-widgets/base",
      "model_module_version": "2.0.0",
      "model_name": "LayoutModel",
      "state": {
       "height": "auto",
       "padding": "0px 0px 0px 4px",
       "width": "auto"
      }
     },
     "40249f6c3b874edb8d906064ece1f900": {
      "model_module": "@jupyter-widgets/controls",
      "model_module_version": "2.0.0",
      "model_name": "ToggleButtonModel",
      "state": {
       "button_style": "primary",
       "icon": "line-chart",
       "layout": "IPY_MODEL_77bca8d6b3e84bc687aee730c1e5e3e6",
       "style": "IPY_MODEL_9601ad8cbf0f4e439359bcb0dbbb83f7",
       "tooltip": "Creating and plotting transects"
      }
     },
     "4026a78de0ac461bbb1d0febed321e2f": {
      "model_module": "@jupyter-widgets/controls",
      "model_module_version": "2.0.0",
      "model_name": "ToggleButtonModel",
      "state": {
       "icon": "server",
       "layout": "IPY_MODEL_c6d230a6a8cd47bf805488be11d3ee44",
       "style": "IPY_MODEL_bde088a4ba944dae96c27d5ecd5097b5",
       "tooltip": "Layers"
      }
     },
     "4046647fda3f46e1bd81a48bad247efa": {
      "model_module": "@jupyter-widgets/controls",
      "model_module_version": "2.0.0",
      "model_name": "ToggleButtonModel",
      "state": {
       "icon": "server",
       "layout": "IPY_MODEL_57f38a34b1914eef9de682a959b7c84e",
       "style": "IPY_MODEL_ad935b077b4f404296c6074873b8f062",
       "tooltip": "Layers"
      }
     },
     "408871a963574cdb87f42cea3da698c1": {
      "model_module": "@jupyter-widgets/controls",
      "model_module_version": "2.0.0",
      "model_name": "ToggleButtonModel",
      "state": {
       "button_style": "primary",
       "icon": "fast-forward",
       "layout": "IPY_MODEL_c5317c6634a544f5a0547caa2751489b",
       "style": "IPY_MODEL_3e6068f17df240de959e366a38f48372",
       "tooltip": "Activate timeslider"
      }
     },
     "4147ad13c59c40e48e039352ebde27ee": {
      "model_module": "@jupyter-widgets/controls",
      "model_module_version": "2.0.0",
      "model_name": "HTMLStyleModel",
      "state": {
       "description_width": "",
       "font_size": null,
       "text_color": null
      }
     },
     "41586b61ba654432b8ced834ac81fafc": {
      "model_module": "@jupyter-widgets/controls",
      "model_module_version": "2.0.0",
      "model_name": "TextModel",
      "state": {
       "layout": "IPY_MODEL_c89bfa287bbf410782585baade43b667",
       "placeholder": "Search by place name or address",
       "style": "IPY_MODEL_b4a9c423c6054ba284f2cf1b82fab126",
       "tooltip": "Search location"
      }
     },
     "41a3ea911ce7405c9ad6c60dcde9ad82": {
      "model_module": "@jupyter-widgets/controls",
      "model_module_version": "2.0.0",
      "model_name": "ToggleButtonsModel",
      "state": {
       "_options_labels": [
        "name/address",
        "lat-lon",
        "data"
       ],
       "button_style": "",
       "icons": [],
       "index": 0,
       "layout": "IPY_MODEL_58622484a6284cdcb82eb18570470090",
       "style": "IPY_MODEL_d832a88f423d4d30a4589db13a6c0b69",
       "tooltips": [
        "Search by place name or address",
        "Search by lat-lon coordinates",
        "Search Earth Engine data catalog"
       ]
      }
     },
     "41b0e556b2de4a068894bc5e7f503a82": {
      "model_module": "@jupyter-widgets/base",
      "model_module_version": "2.0.0",
      "model_name": "LayoutModel",
      "state": {
       "height": "28px",
       "padding": "0px 0px 0px 4px",
       "width": "28px"
      }
     },
     "42395be588a448079a5fd9aae1d3d0c4": {
      "model_module": "@jupyter-widgets/base",
      "model_module_version": "2.0.0",
      "model_name": "LayoutModel",
      "state": {}
     },
     "42f8b160a39d4297992d3b84ab9f4f50": {
      "model_module": "jupyter-leaflet",
      "model_module_version": "^0.17",
      "model_name": "LeafletTileLayerModel",
      "state": {
       "_model_module_version": "^0.17",
       "_view_module_version": "^0.17",
       "attribution": "Google",
       "max_zoom": 24,
       "name": "Google Maps",
       "options": [
        "attribution",
        "bounds",
        "detect_retina",
        "max_native_zoom",
        "max_zoom",
        "min_native_zoom",
        "min_zoom",
        "no_wrap",
        "tile_size",
        "tms",
        "zoom_offset"
       ],
       "url": "https://mt1.google.com/vt/lyrs=m&x={x}&y={y}&z={z}"
      }
     },
     "430083964589418f92f4daa9965cd655": {
      "model_module": "jupyter-leaflet",
      "model_module_version": "^0.17",
      "model_name": "LeafletAttributionControlModel",
      "state": {
       "_model_module_version": "^0.17",
       "_view_module_version": "^0.17",
       "options": [
        "position",
        "prefix"
       ],
       "position": "bottomright",
       "prefix": "ipyleaflet"
      }
     },
     "432e9531b44b443ca29efa3c2cbc5816": {
      "model_module": "jupyter-leaflet",
      "model_module_version": "^0.17",
      "model_name": "LeafletTileLayerModel",
      "state": {
       "_model_module_version": "^0.17",
       "_view_module_version": "^0.17",
       "attribution": "&copy; <a href=\"https://www.openstreetmap.org/copyright\">OpenStreetMap</a> contributors",
       "base": true,
       "max_zoom": 19,
       "min_zoom": 1,
       "name": "OpenStreetMap.Mapnik",
       "options": [
        "attribution",
        "bounds",
        "detect_retina",
        "max_native_zoom",
        "max_zoom",
        "min_native_zoom",
        "min_zoom",
        "no_wrap",
        "tile_size",
        "tms",
        "zoom_offset"
       ],
       "url": "https://tile.openstreetmap.org/{z}/{x}/{y}.png"
      }
     },
     "4410f586a0a54a01ab45eb633977b7bd": {
      "model_module": "@jupyter-widgets/controls",
      "model_module_version": "2.0.0",
      "model_name": "ToggleButtonStyleModel",
      "state": {
       "description_width": "",
       "font_family": null,
       "font_size": null,
       "font_style": null,
       "font_variant": null,
       "font_weight": null,
       "text_color": null,
       "text_decoration": null
      }
     },
     "443b5737c94b47a1b24ca198dad9b1c6": {
      "model_module": "@jupyter-widgets/controls",
      "model_module_version": "2.0.0",
      "model_name": "ToggleButtonsModel",
      "state": {
       "_options_labels": [
        "name/address",
        "lat-lon",
        "data"
       ],
       "button_style": "",
       "icons": [],
       "index": 0,
       "layout": "IPY_MODEL_2efd1e88c2e9427c9f0b71a141bcc3b6",
       "style": "IPY_MODEL_029d51c10cfe42198ae8b6b0f6eb5701",
       "tooltips": [
        "Search by place name or address",
        "Search by lat-lon coordinates",
        "Search Earth Engine data catalog"
       ]
      }
     },
     "444312a3424a4570ba5c39d1618403e6": {
      "model_module": "jupyter-leaflet",
      "model_module_version": "^0.17",
      "model_name": "LeafletDrawControlModel",
      "state": {
       "_model_module_version": "^0.17",
       "_view_module_version": "^0.17",
       "marker": {
        "shapeOptions": {
         "color": "#3388ff"
        }
       },
       "options": [
        "position"
       ],
       "polygon": {
        "shapeOptions": {
         "clickable": true,
         "color": "#3388ff",
         "fill": true,
         "fillColor": null,
         "fillOpacity": 0.2,
         "opacity": 0.5,
         "stroke": true,
         "weight": 4
        }
       },
       "polyline": {
        "shapeOptions": {
         "clickable": true,
         "color": "#3388ff",
         "fill": false,
         "opacity": 0.5,
         "stroke": true,
         "weight": 4
        }
       },
       "rectangle": {
        "shapeOptions": {
         "clickable": true,
         "color": "#3388ff",
         "fill": true,
         "fillColor": null,
         "fillOpacity": 0.2,
         "opacity": 0.5,
         "stroke": true,
         "weight": 4
        }
       }
      }
     },
     "44930397c2734612bf50b5bb01af293f": {
      "model_module": "@jupyter-widgets/controls",
      "model_module_version": "2.0.0",
      "model_name": "HBoxModel",
      "state": {
       "_view_count": 1,
       "children": [
        "IPY_MODEL_955d78634f2641f28f2463cd60bae1b0"
       ],
       "layout": "IPY_MODEL_4690ffe2e9774c9aadc84cc7c1c21ab3"
      }
     },
     "44e6ca1956714ba8b9d2f2b13bc31a3d": {
      "model_module": "@jupyter-widgets/base",
      "model_module_version": "2.0.0",
      "model_name": "LayoutModel",
      "state": {
       "height": "600px"
      }
     },
     "45f5b97b8e5e4cb7b1ea4de872369586": {
      "model_module": "jupyter-leaflet",
      "model_module_version": "^0.17",
      "model_name": "LeafletMapStyleModel",
      "state": {
       "_model_module_version": "^0.17",
       "cursor": "move"
      }
     },
     "4690ffe2e9774c9aadc84cc7c1c21ab3": {
      "model_module": "@jupyter-widgets/base",
      "model_module_version": "2.0.0",
      "model_name": "LayoutModel",
      "state": {}
     },
     "46a667a9ac4347519d49e03d056ca09a": {
      "model_module": "@jupyter-widgets/controls",
      "model_module_version": "2.0.0",
      "model_name": "ToggleButtonModel",
      "state": {
       "button_style": "primary",
       "icon": "eraser",
       "layout": "IPY_MODEL_eabc7e8e4d6642f6b7285c790b99ceaa",
       "style": "IPY_MODEL_751faa92a3d14e568a3493ec1e0ec404",
       "tooltip": "Remove all drawn features"
      }
     },
     "473e2f4aed884c95977ea568859f5181": {
      "model_module": "jupyter-leaflet",
      "model_module_version": "^0.17",
      "model_name": "LeafletAttributionControlModel",
      "state": {
       "_model_module_version": "^0.17",
       "_view_module_version": "^0.17",
       "options": [
        "position",
        "prefix"
       ],
       "position": "bottomright",
       "prefix": "ipyleaflet"
      }
     },
     "477c6722a7ac4f6bbd9d4e04f55735d8": {
      "model_module": "@jupyter-widgets/base",
      "model_module_version": "2.0.0",
      "model_name": "LayoutModel",
      "state": {
       "height": "28px",
       "padding": "0px 0px 0px 4px",
       "width": "28px"
      }
     },
     "47d88fb87dd849dcb4b93fa5357605a5": {
      "model_module": "@jupyter-widgets/base",
      "model_module_version": "2.0.0",
      "model_name": "LayoutModel",
      "state": {
       "height": "auto",
       "padding": "0px 0px 0px 4px",
       "width": "auto"
      }
     },
     "4847a0310aa3471d9638f9908127f31e": {
      "model_module": "jupyter-leaflet",
      "model_module_version": "^0.17",
      "model_name": "LeafletScaleControlModel",
      "state": {
       "_model_module_version": "^0.17",
       "_view_module_version": "^0.17",
       "imperial": true,
       "max_width": 100,
       "metric": true,
       "options": [
        "imperial",
        "max_width",
        "metric",
        "position",
        "update_when_idle"
       ],
       "position": "bottomleft",
       "update_when_idle": false
      }
     },
     "4869eb6605cc4d3fa900edf40943436e": {
      "model_module": "@jupyter-widgets/controls",
      "model_module_version": "2.0.0",
      "model_name": "ToggleButtonStyleModel",
      "state": {
       "description_width": "",
       "font_family": null,
       "font_size": null,
       "font_style": null,
       "font_variant": null,
       "font_weight": null,
       "text_color": null,
       "text_decoration": null
      }
     },
     "4870211ec2914937981c6d9ba4d67124": {
      "model_module": "@jupyter-widgets/base",
      "model_module_version": "2.0.0",
      "model_name": "LayoutModel",
      "state": {
       "height": "auto",
       "padding": "0px 0px 0px 4px",
       "width": "auto"
      }
     },
     "489bcdc1a5d646798247439a70ac3738": {
      "model_module": "@jupyter-widgets/controls",
      "model_module_version": "2.0.0",
      "model_name": "ToggleButtonModel",
      "state": {
       "icon": "wrench",
       "layout": "IPY_MODEL_477c6722a7ac4f6bbd9d4e04f55735d8",
       "style": "IPY_MODEL_0c67835fbbc9467f9e88597cef250145",
       "tooltip": "Toolbar"
      }
     },
     "48bb0fde51824077817ec7423c1be8d8": {
      "model_module": "jupyter-leaflet",
      "model_module_version": "^0.17",
      "model_name": "LeafletTileLayerModel",
      "state": {
       "_model_module_version": "^0.17",
       "_view_module_version": "^0.17",
       "attribution": "Google Earth Engine",
       "max_zoom": 24,
       "name": "Soil Moisture",
       "options": [
        "attribution",
        "bounds",
        "detect_retina",
        "max_native_zoom",
        "max_zoom",
        "min_native_zoom",
        "min_zoom",
        "no_wrap",
        "tile_size",
        "tms",
        "zoom_offset"
       ],
       "url": "https://earthengine.googleapis.com/v1/projects/earthengine-legacy/maps/c0471652014914a491c820e650b41e2b-409d1fe7dd426ffae9facdc3f798b3a4/tiles/{z}/{x}/{y}"
      }
     },
     "48cb71f56bac4dfbb65660ba40d7899b": {
      "model_module": "@jupyter-widgets/controls",
      "model_module_version": "2.0.0",
      "model_name": "ToggleButtonModel",
      "state": {
       "button_style": "primary",
       "icon": "adjust",
       "layout": "IPY_MODEL_9c56c1b60c8c4977930e787649cd05f1",
       "style": "IPY_MODEL_a886c6962101468b959b63a656a4e5cb",
       "tooltip": "Planet imagery"
      }
     },
     "48cdadee7cb04ab68d5c6abaee89c193": {
      "model_module": "@jupyter-widgets/base",
      "model_module_version": "2.0.0",
      "model_name": "LayoutModel",
      "state": {
       "height": "28px",
       "padding": "0px 0px 0px 4px",
       "width": "28px"
      }
     },
     "492731dbcd8d4ca78bf81f598acc41af": {
      "model_module": "@jupyter-widgets/base",
      "model_module_version": "2.0.0",
      "model_name": "LayoutModel",
      "state": {
       "height": "auto",
       "padding": "0px 0px 0px 4px",
       "width": "auto"
      }
     },
     "4935344a20bd4a4c9988c28860c20727": {
      "model_module": "jupyter-leaflet",
      "model_module_version": "^0.17",
      "model_name": "LeafletDrawControlModel",
      "state": {
       "_model_module_version": "^0.17",
       "_view_module_version": "^0.17",
       "marker": {
        "shapeOptions": {
         "color": "#3388ff"
        }
       },
       "options": [
        "position"
       ],
       "polygon": {
        "shapeOptions": {
         "clickable": true,
         "color": "#3388ff",
         "fill": true,
         "fillColor": null,
         "fillOpacity": 0.2,
         "opacity": 0.5,
         "stroke": true,
         "weight": 4
        }
       },
       "polyline": {
        "shapeOptions": {
         "clickable": true,
         "color": "#3388ff",
         "fill": false,
         "opacity": 0.5,
         "stroke": true,
         "weight": 4
        }
       },
       "rectangle": {
        "shapeOptions": {
         "clickable": true,
         "color": "#3388ff",
         "fill": true,
         "fillColor": null,
         "fillOpacity": 0.2,
         "opacity": 0.5,
         "stroke": true,
         "weight": 4
        }
       }
      }
     },
     "49783675649f419890e79636ac5cac19": {
      "model_module": "@jupyter-widgets/controls",
      "model_module_version": "2.0.0",
      "model_name": "ToggleButtonStyleModel",
      "state": {
       "description_width": "",
       "font_family": null,
       "font_size": null,
       "font_style": null,
       "font_variant": null,
       "font_weight": null,
       "text_color": null,
       "text_decoration": null
      }
     },
     "49cdd0f9773d4ed5a4045bbc39b38fda": {
      "model_module": "@jupyter-widgets/controls",
      "model_module_version": "2.0.0",
      "model_name": "HBoxModel",
      "state": {
       "children": [
        "IPY_MODEL_4046647fda3f46e1bd81a48bad247efa",
        "IPY_MODEL_32199576d8564ce7b6263f923c362d92"
       ],
       "layout": "IPY_MODEL_a82cdd7dd3d943b2853370de43473788"
      }
     },
     "4a48920f794d42a2ba10c94956c6f161": {
      "model_module": "@jupyter-widgets/controls",
      "model_module_version": "2.0.0",
      "model_name": "ToggleButtonStyleModel",
      "state": {
       "description_width": "",
       "font_family": null,
       "font_size": null,
       "font_style": null,
       "font_variant": null,
       "font_weight": null,
       "text_color": null,
       "text_decoration": null
      }
     },
     "4a68168000974e20a9b7fdaea735a5f8": {
      "model_module": "@jupyter-widgets/base",
      "model_module_version": "2.0.0",
      "model_name": "LayoutModel",
      "state": {}
     },
     "4aa2c4c8a048457d8f0c1182a48a3ba7": {
      "model_module": "@jupyter-widgets/controls",
      "model_module_version": "2.0.0",
      "model_name": "DescriptionStyleModel",
      "state": {
       "description_width": ""
      }
     },
     "4ad78cda910248429ff058379e8d7110": {
      "model_module": "jupyter-leaflet",
      "model_module_version": "^0.17",
      "model_name": "LeafletZoomControlModel",
      "state": {
       "_model_module_version": "^0.17",
       "_view_module_version": "^0.17",
       "options": [
        "position",
        "zoom_in_text",
        "zoom_in_title",
        "zoom_out_text",
        "zoom_out_title"
       ]
      }
     },
     "4b1ac3432929464f9e1930c9ecb5a485": {
      "model_module": "@jupyter-widgets/controls",
      "model_module_version": "2.0.0",
      "model_name": "VBoxModel",
      "state": {
       "children": [
        "IPY_MODEL_c4412e1422fb47a2889610ba5b59d741",
        "IPY_MODEL_ab24c995fa6f44f68c11a28942ea5451"
       ],
       "layout": "IPY_MODEL_ff8071ace6a84dc0807b90695cafa2ad"
      }
     },
     "4b7c708bd36b42878e5abbee512e4c82": {
      "model_module": "@jupyter-widgets/base",
      "model_module_version": "2.0.0",
      "model_name": "LayoutModel",
      "state": {}
     },
     "4b8b585b5c924fa3a97c5aff9b394fcc": {
      "model_module": "jupyter-leaflet",
      "model_module_version": "^0.17",
      "model_name": "LeafletAttributionControlModel",
      "state": {
       "_model_module_version": "^0.17",
       "_view_module_version": "^0.17",
       "options": [
        "position",
        "prefix"
       ],
       "position": "bottomright",
       "prefix": "ipyleaflet"
      }
     },
     "4b9311999e7c4da7a4f0c2a529225f31": {
      "model_module": "@jupyter-widgets/controls",
      "model_module_version": "2.0.0",
      "model_name": "DropdownModel",
      "state": {
       "index": null,
       "layout": "IPY_MODEL_c9cd371786134d3b91b0f6fac6c89c8c",
       "style": "IPY_MODEL_fd8e07ba6bec4f55b2ccb82941b57865"
      }
     },
     "4b94f4e9b5b54937977d56c06712a80c": {
      "model_module": "@jupyter-widgets/controls",
      "model_module_version": "2.0.0",
      "model_name": "ToggleButtonStyleModel",
      "state": {
       "description_width": "",
       "font_family": null,
       "font_size": null,
       "font_style": null,
       "font_variant": null,
       "font_weight": null,
       "text_color": null,
       "text_decoration": null
      }
     },
     "4bd46df64bb84eb48992921b3bfb0a72": {
      "model_module": "@jupyter-widgets/controls",
      "model_module_version": "2.0.0",
      "model_name": "ToggleButtonModel",
      "state": {
       "button_style": "primary",
       "icon": "info",
       "layout": "IPY_MODEL_47d88fb87dd849dcb4b93fa5357605a5",
       "style": "IPY_MODEL_67711c5c49204829b7b160e1975de9bc",
       "tooltip": "Inspector"
      }
     },
     "4c620fa8625e4e358e7ee859056ccdb2": {
      "model_module": "@jupyter-widgets/controls",
      "model_module_version": "2.0.0",
      "model_name": "ToggleButtonStyleModel",
      "state": {
       "description_width": "",
       "font_family": null,
       "font_size": null,
       "font_style": null,
       "font_variant": null,
       "font_weight": null,
       "text_color": null,
       "text_decoration": null
      }
     },
     "4c8f354ae95844898ac939df0fc7eb6c": {
      "model_module": "@jupyter-widgets/controls",
      "model_module_version": "2.0.0",
      "model_name": "DescriptionStyleModel",
      "state": {
       "description_width": ""
      }
     },
     "4d0d7eb3288942fc9e34cdd5b9695197": {
      "model_module": "@jupyter-widgets/controls",
      "model_module_version": "2.0.0",
      "model_name": "ToggleButtonModel",
      "state": {
       "button_style": "primary",
       "icon": "gears",
       "layout": "IPY_MODEL_918adfaa2fec4d9e8fbeb0b84d7bc8d7",
       "style": "IPY_MODEL_2dc5716f32f248dea13a8b19e90d1c95",
       "tooltip": "WhiteboxTools for local geoprocessing"
      }
     },
     "4d20a934f0a54d4e891c4f4ee8f9ae15": {
      "model_module": "@jupyter-widgets/base",
      "model_module_version": "2.0.0",
      "model_name": "LayoutModel",
      "state": {}
     },
     "4d2faa11f45e489a9978390cbd7e2d04": {
      "model_module": "@jupyter-widgets/base",
      "model_module_version": "2.0.0",
      "model_name": "LayoutModel",
      "state": {
       "height": "auto",
       "padding": "0px 0px 0px 4px",
       "width": "auto"
      }
     },
     "4d70f1437e77431f87b11acf2cb78e43": {
      "model_module": "@jupyter-widgets/controls",
      "model_module_version": "2.0.0",
      "model_name": "ToggleButtonModel",
      "state": {
       "button_style": "primary",
       "icon": "info-circle",
       "layout": "IPY_MODEL_0a9cd4a5d0f7430bba50e2f2ace9cc4c",
       "style": "IPY_MODEL_320e7f0af94943e1ae72be702b0edafb",
       "tooltip": "Get COG/STAC pixel value"
      }
     },
     "4da70a8d8d744c3f8e38fa7baa91c91e": {
      "model_module": "@jupyter-widgets/controls",
      "model_module_version": "2.0.0",
      "model_name": "ToggleButtonStyleModel",
      "state": {
       "description_width": "",
       "font_family": null,
       "font_size": null,
       "font_style": null,
       "font_variant": null,
       "font_weight": null,
       "text_color": null,
       "text_decoration": null
      }
     },
     "4daac0a71bf24a05890596c0b2ce4820": {
      "model_module": "@jupyter-widgets/base",
      "model_module_version": "2.0.0",
      "model_name": "LayoutModel",
      "state": {
       "height": "auto",
       "padding": "0px 0px 0px 4px",
       "width": "auto"
      }
     },
     "4e09ba2fe8a84dce95db072dfe9c8e99": {
      "model_module": "@jupyter-widgets/controls",
      "model_module_version": "2.0.0",
      "model_name": "ToggleButtonModel",
      "state": {
       "button_style": "primary",
       "icon": "map",
       "layout": "IPY_MODEL_4daac0a71bf24a05890596c0b2ce4820",
       "style": "IPY_MODEL_3323daa0f7e645b3b8db2267e9d6f71c",
       "tooltip": "Change basemap"
      }
     },
     "4e4124f723ea470bb96fde14957d641d": {
      "model_module": "@jupyter-widgets/base",
      "model_module_version": "2.0.0",
      "model_name": "LayoutModel",
      "state": {
       "height": "auto",
       "padding": "0px 0px 0px 4px",
       "width": "auto"
      }
     },
     "4e89b871327e43568b9161cbe372d78c": {
      "model_module": "@jupyter-widgets/base",
      "model_module_version": "2.0.0",
      "model_name": "LayoutModel",
      "state": {}
     },
     "4ea33b05f5bd453fbec93dc469e17858": {
      "model_module": "@jupyter-widgets/controls",
      "model_module_version": "2.0.0",
      "model_name": "ToggleButtonModel",
      "state": {
       "button_style": "primary",
       "icon": "random",
       "layout": "IPY_MODEL_a628313e0da0438583664ca28a14de5b",
       "style": "IPY_MODEL_c66bde4a67874cb3acd2ee333b846aeb",
       "tooltip": "Sankey plots"
      }
     },
     "4eeb1266ac9e4ed2abbe037850050688": {
      "model_module": "@jupyter-widgets/base",
      "model_module_version": "2.0.0",
      "model_name": "LayoutModel",
      "state": {
       "height": "auto",
       "padding": "0px 0px 0px 4px",
       "width": "auto"
      }
     },
     "4f19003da5564f96ae241fc525e1bb82": {
      "model_module": "@jupyter-widgets/controls",
      "model_module_version": "2.0.0",
      "model_name": "HTMLStyleModel",
      "state": {
       "description_width": "",
       "font_size": null,
       "text_color": null
      }
     },
     "4f20e9be9d7549fe97a8f2640c1a15fa": {
      "model_module": "@jupyter-widgets/controls",
      "model_module_version": "2.0.0",
      "model_name": "VBoxModel",
      "state": {
       "children": [
        "IPY_MODEL_c1e97038bb9e4fe6a52ba69a9ab4a97a",
        "IPY_MODEL_3ea60625b4e34e29b685749d44908f13"
       ],
       "layout": "IPY_MODEL_83ddeef5bd8649f3853a9c1c62167a33"
      }
     },
     "4fb2c78c085748aabfcee4d985bc6a8a": {
      "model_module": "@jupyter-widgets/controls",
      "model_module_version": "2.0.0",
      "model_name": "ToggleButtonStyleModel",
      "state": {
       "description_width": "",
       "font_family": null,
       "font_size": null,
       "font_style": null,
       "font_variant": null,
       "font_weight": null,
       "text_color": null,
       "text_decoration": null
      }
     },
     "50e102c0b4eb4b7d9765add61a605943": {
      "model_module": "@jupyter-widgets/base",
      "model_module_version": "2.0.0",
      "model_name": "LayoutModel",
      "state": {
       "height": "auto",
       "padding": "0px 0px 0px 4px",
       "width": "auto"
      }
     },
     "50e631e726fe4876be81cc9fb38f15b4": {
      "model_module": "@jupyter-widgets/base",
      "model_module_version": "2.0.0",
      "model_name": "LayoutModel",
      "state": {
       "height": "auto",
       "padding": "0px 0px 0px 4px",
       "width": "auto"
      }
     },
     "50f739dab871451b861b2e4d3e53b521": {
      "model_module": "@jupyter-widgets/controls",
      "model_module_version": "2.0.0",
      "model_name": "VBoxModel",
      "state": {
       "_view_count": 1,
       "children": [
        "IPY_MODEL_feab8ceafa2c441a89631f62aa0dadf7"
       ],
       "layout": "IPY_MODEL_67752fcf1dc54821bfa3395828c1322e"
      }
     },
     "512858512eac4027b8f6809b1afe7fd0": {
      "model_module": "@jupyter-widgets/controls",
      "model_module_version": "2.0.0",
      "model_name": "ToggleButtonModel",
      "state": {
       "button_style": "primary",
       "icon": "plus",
       "layout": "IPY_MODEL_95929e1bb76f4db895d4575f20bb5504",
       "style": "IPY_MODEL_ccf85a6164aa4990b90a65a5b7424aef",
       "tooltip": "Expand toolbar"
      }
     },
     "51968016a5094f11841bbb7e7859fe45": {
      "model_module": "@jupyter-widgets/controls",
      "model_module_version": "2.0.0",
      "model_name": "ToggleButtonStyleModel",
      "state": {
       "description_width": "",
       "font_family": null,
       "font_size": null,
       "font_style": null,
       "font_variant": null,
       "font_weight": null,
       "text_color": null,
       "text_decoration": null
      }
     },
     "51a95cf3237441cc87980267374e7c87": {
      "model_module": "@jupyter-widgets/controls",
      "model_module_version": "2.0.0",
      "model_name": "ToggleButtonModel",
      "state": {
       "button_style": "primary",
       "icon": "random",
       "layout": "IPY_MODEL_1ca4b5b6c0ac4800ba1e17b3585986a4",
       "style": "IPY_MODEL_05cf27af26304e9e90a1f5fd7dfda8b5",
       "tooltip": "Sankey plots"
      }
     },
     "51ae55b93e0c46ddaab342fe71b815ef": {
      "model_module": "jupyter-leaflet",
      "model_module_version": "^0.17",
      "model_name": "LeafletAttributionControlModel",
      "state": {
       "_model_module_version": "^0.17",
       "_view_module_version": "^0.17",
       "options": [
        "position",
        "prefix"
       ],
       "position": "bottomright",
       "prefix": "ipyleaflet"
      }
     },
     "5200257fba9f4822a5d3eff3ebd08a8c": {
      "model_module": "@jupyter-widgets/base",
      "model_module_version": "2.0.0",
      "model_name": "LayoutModel",
      "state": {
       "height": "auto",
       "padding": "0px 0px 0px 4px",
       "width": "auto"
      }
     },
     "52256aeda0c94f1281bba5d0b59412af": {
      "model_module": "@jupyter-widgets/controls",
      "model_module_version": "2.0.0",
      "model_name": "ToggleButtonStyleModel",
      "state": {
       "description_width": "",
       "font_family": null,
       "font_size": null,
       "font_style": null,
       "font_variant": null,
       "font_weight": null,
       "text_color": null,
       "text_decoration": null
      }
     },
     "52938bee236c4d69ab2415666e72aec8": {
      "model_module": "@jupyter-widgets/controls",
      "model_module_version": "2.0.0",
      "model_name": "ToggleButtonModel",
      "state": {
       "button_style": "primary",
       "icon": "folder-open",
       "layout": "IPY_MODEL_f1f562690ed3491cbcd43fa62f646fb5",
       "style": "IPY_MODEL_6bff53ef314a417cb777fa4450de8b90",
       "tooltip": "Open local vector/raster data"
      }
     },
     "52a662cd558449ac9950c4f9f63fd8db": {
      "model_module": "@jupyter-widgets/controls",
      "model_module_version": "2.0.0",
      "model_name": "ToggleButtonStyleModel",
      "state": {
       "description_width": "",
       "font_family": null,
       "font_size": null,
       "font_style": null,
       "font_variant": null,
       "font_weight": null,
       "text_color": null,
       "text_decoration": null
      }
     },
     "53578949089048a7bd8ec7e9acc99e93": {
      "model_module": "@jupyter-widgets/base",
      "model_module_version": "2.0.0",
      "model_name": "LayoutModel",
      "state": {}
     },
     "536624914de641d1b42e4046f8f46acf": {
      "model_module": "@jupyter-widgets/base",
      "model_module_version": "2.0.0",
      "model_name": "LayoutModel",
      "state": {
       "grid_gap": "1px 1px",
       "grid_template_columns": "32px 32px 32px ",
       "grid_template_rows": "32px 32px ",
       "padding": "5px",
       "width": "109px"
      }
     },
     "53b4b4205f794aeebaa50a16b7d2545d": {
      "model_module": "@jupyter-widgets/base",
      "model_module_version": "2.0.0",
      "model_name": "LayoutModel",
      "state": {}
     },
     "53bacc9429fa4510ba75285140ae6d23": {
      "model_module": "@jupyter-widgets/controls",
      "model_module_version": "2.0.0",
      "model_name": "ToggleButtonStyleModel",
      "state": {
       "description_width": "",
       "font_family": null,
       "font_size": null,
       "font_style": null,
       "font_variant": null,
       "font_weight": null,
       "text_color": null,
       "text_decoration": null
      }
     },
     "53d66d48c3304f5498999cf1e3d590e3": {
      "model_module": "@jupyter-widgets/base",
      "model_module_version": "2.0.0",
      "model_name": "LayoutModel",
      "state": {
       "height": "auto",
       "padding": "0px 0px 0px 4px",
       "width": "auto"
      }
     },
     "53f9d41699db4472ad9c6b171e4c6eb0": {
      "model_module": "jupyter-leaflet",
      "model_module_version": "^0.17",
      "model_name": "LeafletMapStyleModel",
      "state": {
       "_model_module_version": "^0.17"
      }
     },
     "54512a8704c845938b8c53e301349b91": {
      "model_module": "@jupyter-widgets/controls",
      "model_module_version": "2.0.0",
      "model_name": "DropdownModel",
      "state": {
       "index": null,
       "layout": "IPY_MODEL_3696f3922ce241b183fc1cc16ad2439e",
       "style": "IPY_MODEL_ee3c9c1013bb428d8ffbf72e675632bb"
      }
     },
     "554edee41bef47df8cf70ab524051ff9": {
      "model_module": "@jupyter-widgets/base",
      "model_module_version": "2.0.0",
      "model_name": "LayoutModel",
      "state": {
       "height": "auto",
       "padding": "0px 0px 0px 4px",
       "width": "auto"
      }
     },
     "5569c505e94c475898e1320a09ad1dae": {
      "model_module": "@jupyter-widgets/controls",
      "model_module_version": "2.0.0",
      "model_name": "VBoxModel",
      "state": {
       "children": [
        "IPY_MODEL_d22495c961f74ba0bf8f03062c0c849b",
        "IPY_MODEL_d1d210cc3e294c02b935dba97c8b11f8"
       ],
       "layout": "IPY_MODEL_168bb71c1ce34ff8811b98025a0c8192"
      }
     },
     "558cb5baf4914b4c8fcd4dae9002568f": {
      "model_module": "@jupyter-widgets/controls",
      "model_module_version": "2.0.0",
      "model_name": "ToggleButtonModel",
      "state": {
       "button_style": "primary",
       "icon": "info",
       "layout": "IPY_MODEL_6ba2e1cb054a43009a28af723cf97010",
       "style": "IPY_MODEL_017283183b484fe1b76abf63beeaef72",
       "tooltip": "Inspector"
      }
     },
     "55a70b0f40ee4e258a8b40c25196e175": {
      "model_module": "@jupyter-widgets/base",
      "model_module_version": "2.0.0",
      "model_name": "LayoutModel",
      "state": {
       "height": "auto",
       "padding": "0px 0px 0px 4px",
       "width": "auto"
      }
     },
     "55aba056304e47bbaa620a763377c7d7": {
      "model_module": "@jupyter-widgets/base",
      "model_module_version": "2.0.0",
      "model_name": "LayoutModel",
      "state": {
       "grid_gap": "1px 1px",
       "grid_template_columns": "32px 32px 32px ",
       "grid_template_rows": "32px 32px ",
       "padding": "5px",
       "width": "109px"
      }
     },
     "55b01924b9454bfc8877a6bfe17e4fe6": {
      "model_module": "@jupyter-widgets/controls",
      "model_module_version": "2.0.0",
      "model_name": "ToggleButtonStyleModel",
      "state": {
       "description_width": "",
       "font_family": null,
       "font_size": null,
       "font_style": null,
       "font_variant": null,
       "font_weight": null,
       "text_color": null,
       "text_decoration": null
      }
     },
     "55fd60db3abb49c4ac9ae9a635cfdff7": {
      "model_module": "@jupyter-widgets/controls",
      "model_module_version": "2.0.0",
      "model_name": "ToggleButtonStyleModel",
      "state": {
       "description_width": "",
       "font_family": null,
       "font_size": null,
       "font_style": null,
       "font_variant": null,
       "font_weight": null,
       "text_color": null,
       "text_decoration": null
      }
     },
     "56358c8922af47bd86ded319c5d8ef92": {
      "model_module": "@jupyter-widgets/controls",
      "model_module_version": "2.0.0",
      "model_name": "ToggleButtonStyleModel",
      "state": {
       "description_width": "",
       "font_family": null,
       "font_size": null,
       "font_style": null,
       "font_variant": null,
       "font_weight": null,
       "text_color": null,
       "text_decoration": null
      }
     },
     "5643c3e38f2e4f9c8c2fe7ce144fa3ff": {
      "model_module": "@jupyter-widgets/controls",
      "model_module_version": "2.0.0",
      "model_name": "ToggleButtonModel",
      "state": {
       "button_style": "primary",
       "icon": "globe",
       "layout": "IPY_MODEL_3f6df2e315574a4aa8605333ef04668b",
       "style": "IPY_MODEL_b39b325518e34bbc891bd620bbd2f809",
       "tooltip": "Create timelapse"
      }
     },
     "564e387176ce4abb9e119d85328ccf4d": {
      "model_module": "@jupyter-widgets/controls",
      "model_module_version": "2.0.0",
      "model_name": "ToggleButtonStyleModel",
      "state": {
       "description_width": "",
       "font_family": null,
       "font_size": null,
       "font_style": null,
       "font_variant": null,
       "font_weight": null,
       "text_color": null,
       "text_decoration": null
      }
     },
     "56c1885c5f9e4442a3b6d00aaca3761a": {
      "model_module": "@jupyter-widgets/controls",
      "model_module_version": "2.0.0",
      "model_name": "VBoxModel",
      "state": {
       "_view_count": 1,
       "children": [
        "IPY_MODEL_74bcda7dc2394e239f5fd48fe685b24e"
       ],
       "layout": "IPY_MODEL_cd50a77dc44c425ebc755e16fab84992"
      }
     },
     "56f39cdbd28e490f97c4d67c9eadba2a": {
      "model_module": "@jupyter-widgets/base",
      "model_module_version": "2.0.0",
      "model_name": "LayoutModel",
      "state": {
       "height": "600px"
      }
     },
     "5732be1b486449de86c3c02205057647": {
      "model_module": "@jupyter-widgets/controls",
      "model_module_version": "2.0.0",
      "model_name": "ToggleButtonStyleModel",
      "state": {
       "description_width": "",
       "font_family": null,
       "font_size": null,
       "font_style": null,
       "font_variant": null,
       "font_weight": null,
       "text_color": null,
       "text_decoration": null
      }
     },
     "57a3c17360004855bba76a4b1e8c2d23": {
      "model_module": "@jupyter-widgets/base",
      "model_module_version": "2.0.0",
      "model_name": "LayoutModel",
      "state": {}
     },
     "57f38a34b1914eef9de682a959b7c84e": {
      "model_module": "@jupyter-widgets/base",
      "model_module_version": "2.0.0",
      "model_name": "LayoutModel",
      "state": {
       "height": "28px",
       "width": "72px"
      }
     },
     "580d7db471c9421ba8cf3affc202d61d": {
      "model_module": "jupyter-leaflet",
      "model_module_version": "^0.17",
      "model_name": "LeafletMapModel",
      "state": {
       "_model_module_version": "^0.17",
       "_view_module_version": "^0.17",
       "bottom": 754,
       "center": [
        20,
        0
       ],
       "controls": [
        "IPY_MODEL_e70dd473a91041c2a73f1d0ce0c5718a",
        "IPY_MODEL_bd07548443234488a0d36391e0380aa9",
        "IPY_MODEL_bacb4f6c4ff949809d81619a335240bc",
        "IPY_MODEL_2fd6646934c542ce98c28feef647b0ab",
        "IPY_MODEL_4847a0310aa3471d9638f9908127f31e",
        "IPY_MODEL_c6893d59c5604260baf6bd207d21ece3",
        "IPY_MODEL_1217fc37ff7d4789b1ac42c5019d5561",
        "IPY_MODEL_33acb2f57e8441dea508413ba321b2a6"
       ],
       "default_style": "IPY_MODEL_f244c20440c4442d86edba4ce541ad2e",
       "dragging_style": "IPY_MODEL_9260c7bd155a462cb945704e2a7fb134",
       "east": 171.91406250000003,
       "fullscreen": false,
       "interpolation": "bilinear",
       "layers": [
        "IPY_MODEL_5de4c9119e08439c9cac439be4bb3678",
        "IPY_MODEL_382415c4a7ce4620961dc1472f225013"
       ],
       "layout": "IPY_MODEL_ffcdc784cdb34528914701c2aaa33937",
       "left": 23,
       "max_zoom": 24,
       "modisdate": "2024-03-11",
       "north": 77.31251993823143,
       "options": [
        "bounce_at_zoom_limits",
        "box_zoom",
        "center",
        "close_popup_on_click",
        "double_click_zoom",
        "dragging",
        "fullscreen",
        "inertia",
        "inertia_deceleration",
        "inertia_max_speed",
        "interpolation",
        "keyboard",
        "keyboard_pan_offset",
        "keyboard_zoom_offset",
        "max_zoom",
        "min_zoom",
        "prefer_canvas",
        "scroll_wheel_zoom",
        "tap",
        "tap_tolerance",
        "touch_zoom",
        "world_copy_jump",
        "zoom",
        "zoom_animation_threshold",
        "zoom_delta",
        "zoom_snap"
       ],
       "prefer_canvas": false,
       "right": 1001,
       "scroll_wheel_zoom": true,
       "south": -64.47279382008165,
       "style": "IPY_MODEL_a8768a9f9333426f8d28d4dae1724c33",
       "top": 154,
       "west": -171.91406250000003,
       "window_url": "https://jupyterhub.cuahsi.org/user/torresrua/lab/tree/courses/Machine-Learning-Applications-in-Remote-Sensing-Data/Step_1.ipynb",
       "zoom": 2
      }
     },
     "58146b71fb794b0f9a70670114bca15c": {
      "model_module": "@jupyter-widgets/controls",
      "model_module_version": "2.0.0",
      "model_name": "ToggleButtonModel",
      "state": {
       "button_style": "primary",
       "icon": "info",
       "layout": "IPY_MODEL_6ecb5628612e4dbe8eacf9c85ae30e04",
       "style": "IPY_MODEL_b61b266bc7404ded9051e4edba35b86d",
       "tooltip": "Inspector"
      }
     },
     "58622484a6284cdcb82eb18570470090": {
      "model_module": "@jupyter-widgets/base",
      "model_module_version": "2.0.0",
      "model_name": "LayoutModel",
      "state": {}
     },
     "5869453995064d198743c768788be257": {
      "model_module": "@jupyter-widgets/base",
      "model_module_version": "2.0.0",
      "model_name": "LayoutModel",
      "state": {
       "height": "600px"
      }
     },
     "587eb429dd7145c3a523445d49fa8315": {
      "model_module": "@jupyter-widgets/base",
      "model_module_version": "2.0.0",
      "model_name": "LayoutModel",
      "state": {
       "width": "340px"
      }
     },
     "5891aae3aa1e436a9da006632820fd27": {
      "model_module": "@jupyter-widgets/base",
      "model_module_version": "2.0.0",
      "model_name": "LayoutModel",
      "state": {
       "height": "auto",
       "padding": "0px 0px 0px 4px",
       "width": "auto"
      }
     },
     "58b24dc43c1d48e4a4a4f8b6ac7b4a17": {
      "model_module": "@jupyter-widgets/base",
      "model_module_version": "2.0.0",
      "model_name": "LayoutModel",
      "state": {
       "height": "auto",
       "padding": "0px 0px 0px 4px",
       "width": "auto"
      }
     },
     "58d566fa6ec94382ac94114784d55f62": {
      "model_module": "@jupyter-widgets/controls",
      "model_module_version": "2.0.0",
      "model_name": "ToggleButtonStyleModel",
      "state": {
       "description_width": "",
       "font_family": null,
       "font_size": null,
       "font_style": null,
       "font_variant": null,
       "font_weight": null,
       "text_color": null,
       "text_decoration": null
      }
     },
     "58e5472581f549ce89f386826b1873c2": {
      "model_module": "@jupyter-widgets/controls",
      "model_module_version": "2.0.0",
      "model_name": "HTMLModel",
      "state": {
       "layout": "IPY_MODEL_89b4c7ad21e64b7d9ec9a9d9cbd071f5",
       "style": "IPY_MODEL_f1b9a88a17304f4f9fd912d3bd232308"
      }
     },
     "594a475c2d494b4c892a4f0af0b7bb09": {
      "model_module": "@jupyter-widgets/base",
      "model_module_version": "2.0.0",
      "model_name": "LayoutModel",
      "state": {
       "height": "auto",
       "padding": "0px 0px 0px 4px",
       "width": "auto"
      }
     },
     "59f55989e3944ecf82dc5608aae5f582": {
      "model_module": "@jupyter-widgets/controls",
      "model_module_version": "2.0.0",
      "model_name": "ToggleButtonModel",
      "state": {
       "button_style": "primary",
       "icon": "globe",
       "layout": "IPY_MODEL_8b69a86d387a486cad2937795c51028b",
       "style": "IPY_MODEL_084484e3754a46888ec9d36b48f32ed8",
       "tooltip": "Create timelapse"
      }
     },
     "5a29a674125240698dd79979cbe813a8": {
      "model_module": "ipyevents",
      "model_module_version": "2.0.2",
      "model_name": "EventModel",
      "state": {
       "_supported_key_events": [
        "keydown",
        "keyup"
       ],
       "_supported_mouse_events": [
        "click",
        "auxclick",
        "dblclick",
        "mouseenter",
        "mouseleave",
        "mousedown",
        "mouseup",
        "mousemove",
        "wheel",
        "contextmenu",
        "dragstart",
        "drag",
        "dragend",
        "dragenter",
        "dragover",
        "dragleave",
        "drop"
       ],
       "_supported_touch_events": [
        "touchstart",
        "touchend",
        "touchmove",
        "touchcancel"
       ],
       "_view_module": "@jupyter-widgets/controls",
       "source": "IPY_MODEL_945a1c3bd91d43088e955734431f6cb6",
       "throttle_or_debounce": "",
       "watched_events": [
        "mouseenter",
        "mouseleave"
       ],
       "xy_coordinate_system": ""
      }
     },
     "5a4478c33da7483d82b9e3a40509471c": {
      "model_module": "@jupyter-widgets/controls",
      "model_module_version": "2.0.0",
      "model_name": "ToggleButtonStyleModel",
      "state": {
       "description_width": "",
       "font_family": null,
       "font_size": null,
       "font_style": null,
       "font_variant": null,
       "font_weight": null,
       "text_color": null,
       "text_decoration": null
      }
     },
     "5aa4874d8ece4e2eb7da75c24002d4a9": {
      "model_module": "@jupyter-widgets/base",
      "model_module_version": "2.0.0",
      "model_name": "LayoutModel",
      "state": {
       "height": "auto",
       "padding": "0px 0px 0px 4px",
       "width": "auto"
      }
     },
     "5b5f15dcf67e4ee5a93df758835dd31d": {
      "model_module": "jupyter-leaflet",
      "model_module_version": "^0.17",
      "model_name": "LeafletZoomControlModel",
      "state": {
       "_model_module_version": "^0.17",
       "_view_module_version": "^0.17",
       "options": [
        "position",
        "zoom_in_text",
        "zoom_in_title",
        "zoom_out_text",
        "zoom_out_title"
       ]
      }
     },
     "5bc9f9334ea2495c9d43c07b4d4c36b1": {
      "model_module": "@jupyter-widgets/controls",
      "model_module_version": "2.0.0",
      "model_name": "ToggleButtonsModel",
      "state": {
       "_options_labels": [
        "name/address",
        "lat-lon",
        "data"
       ],
       "button_style": "",
       "icons": [],
       "index": 0,
       "layout": "IPY_MODEL_4b7c708bd36b42878e5abbee512e4c82",
       "style": "IPY_MODEL_f9bad52ec02143f592d602c61860c783",
       "tooltips": [
        "Search by place name or address",
        "Search by lat-lon coordinates",
        "Search Earth Engine data catalog"
       ]
      }
     },
     "5c1371f38b35464b979e1d33fe49dfa0": {
      "model_module": "@jupyter-widgets/controls",
      "model_module_version": "2.0.0",
      "model_name": "ToggleButtonModel",
      "state": {
       "button_style": "primary",
       "icon": "random",
       "layout": "IPY_MODEL_d357cb19390d4dedb30898356c5e695c",
       "style": "IPY_MODEL_d44560f6ff274113848b90d895435476",
       "tooltip": "Sankey plots"
      }
     },
     "5c27976e21a1415996b9cb24f1bb4bde": {
      "model_module": "@jupyter-widgets/base",
      "model_module_version": "2.0.0",
      "model_name": "LayoutModel",
      "state": {
       "max_height": "350px",
       "max_width": "340px",
       "overflow": "scroll"
      }
     },
     "5c3a86ea6caf40ecb09366d31a3f9703": {
      "model_module": "@jupyter-widgets/base",
      "model_module_version": "2.0.0",
      "model_name": "LayoutModel",
      "state": {
       "height": "auto",
       "padding": "0px 0px 0px 4px",
       "width": "auto"
      }
     },
     "5cc8f1766c15422abd8b0c6f2d045570": {
      "model_module": "@jupyter-widgets/controls",
      "model_module_version": "2.0.0",
      "model_name": "ToggleButtonModel",
      "state": {
       "button_style": "primary",
       "icon": "plus",
       "layout": "IPY_MODEL_7353104999fb40259d99df78456958e6",
       "style": "IPY_MODEL_ea55faac8d0144fda58bc4963888f2fd",
       "tooltip": "Expand toolbar"
      }
     },
     "5cebb3ee74c342609345ed26a7453969": {
      "model_module": "@jupyter-widgets/controls",
      "model_module_version": "2.0.0",
      "model_name": "ToggleButtonModel",
      "state": {
       "button_style": "primary",
       "icon": "line-chart",
       "layout": "IPY_MODEL_800ebcfbaece436492293344f47741a5",
       "style": "IPY_MODEL_8fd80f6f09ba46aba485ab861c044c23",
       "tooltip": "Creating and plotting transects"
      }
     },
     "5cf5db7cd3ea431a9c08db2de47fe173": {
      "model_module": "@jupyter-widgets/base",
      "model_module_version": "2.0.0",
      "model_name": "LayoutModel",
      "state": {
       "height": "auto",
       "padding": "0px 0px 0px 4px",
       "width": "auto"
      }
     },
     "5d026da6a97841698bc1210f8bfacd0c": {
      "model_module": "jupyter-leaflet",
      "model_module_version": "^0.17",
      "model_name": "LeafletTileLayerModel",
      "state": {
       "_model_module_version": "^0.17",
       "_view_module_version": "^0.17",
       "attribution": "Google",
       "max_zoom": 24,
       "name": "Google Maps",
       "options": [
        "attribution",
        "bounds",
        "detect_retina",
        "max_native_zoom",
        "max_zoom",
        "min_native_zoom",
        "min_zoom",
        "no_wrap",
        "tile_size",
        "tms",
        "zoom_offset"
       ],
       "url": "https://mt1.google.com/vt/lyrs=m&x={x}&y={y}&z={z}"
      }
     },
     "5d4fd9a5c5c546a590a8d02623efca2f": {
      "model_module": "@jupyter-widgets/base",
      "model_module_version": "2.0.0",
      "model_name": "LayoutModel",
      "state": {
       "height": "auto",
       "padding": "0px 0px 0px 4px",
       "width": "auto"
      }
     },
     "5da65f8f740547f7b9498d124d37a08a": {
      "model_module": "@jupyter-widgets/controls",
      "model_module_version": "2.0.0",
      "model_name": "ToggleButtonModel",
      "state": {
       "button_style": "primary",
       "icon": "gears",
       "layout": "IPY_MODEL_7e76ca792f504816bfe632d0a7dd017e",
       "style": "IPY_MODEL_9fbdfeba1eeb435fa710d94e41e053aa",
       "tooltip": "WhiteboxTools for local geoprocessing"
      }
     },
     "5de1124458ad4a5e8df8f432c1645fe9": {
      "model_module": "@jupyter-widgets/controls",
      "model_module_version": "2.0.0",
      "model_name": "ToggleButtonModel",
      "state": {
       "icon": "server",
       "layout": "IPY_MODEL_d5b93e57067b47c2b75441867376c6fe",
       "style": "IPY_MODEL_c804988e14bd4cd09bf74cdefabe4ea2",
       "tooltip": "Layers"
      }
     },
     "5de4c9119e08439c9cac439be4bb3678": {
      "model_module": "jupyter-leaflet",
      "model_module_version": "^0.17",
      "model_name": "LeafletTileLayerModel",
      "state": {
       "_model_module_version": "^0.17",
       "_view_module_version": "^0.17",
       "attribution": "&copy; <a href=\"https://www.openstreetmap.org/copyright\">OpenStreetMap</a> contributors",
       "base": true,
       "max_zoom": 19,
       "min_zoom": 1,
       "name": "OpenStreetMap.Mapnik",
       "options": [
        "attribution",
        "bounds",
        "detect_retina",
        "max_native_zoom",
        "max_zoom",
        "min_native_zoom",
        "min_zoom",
        "no_wrap",
        "tile_size",
        "tms",
        "zoom_offset"
       ],
       "url": "https://tile.openstreetmap.org/{z}/{x}/{y}.png"
      }
     },
     "5e2a73906b3e4d898ce5743f0b962a7f": {
      "model_module": "@jupyter-widgets/controls",
      "model_module_version": "2.0.0",
      "model_name": "ToggleButtonStyleModel",
      "state": {
       "description_width": "",
       "font_family": null,
       "font_size": null,
       "font_style": null,
       "font_variant": null,
       "font_weight": null,
       "text_color": null,
       "text_decoration": null
      }
     },
     "5f1d8089636e45f79c26fcba118d7021": {
      "model_module": "jupyter-leaflet",
      "model_module_version": "^0.17",
      "model_name": "LeafletAttributionControlModel",
      "state": {
       "_model_module_version": "^0.17",
       "_view_module_version": "^0.17",
       "options": [
        "position",
        "prefix"
       ],
       "position": "bottomright",
       "prefix": "ipyleaflet"
      }
     },
     "5f285d8500934f758745d6a38ac16760": {
      "model_module": "@jupyter-widgets/base",
      "model_module_version": "2.0.0",
      "model_name": "LayoutModel",
      "state": {
       "grid_gap": "1px 1px",
       "grid_template_columns": "32px 32px 32px ",
       "grid_template_rows": "32px 32px ",
       "padding": "5px",
       "width": "109px"
      }
     },
     "60368d0cc2d1421ebf22b473323ad6ac": {
      "model_module": "@jupyter-widgets/controls",
      "model_module_version": "2.0.0",
      "model_name": "ToggleButtonModel",
      "state": {
       "button_style": "primary",
       "icon": "map",
       "layout": "IPY_MODEL_719de48a346144ffaa81438d5174900b",
       "style": "IPY_MODEL_05023fec40f64f6a915aa299e4d98a25",
       "tooltip": "Change basemap"
      }
     },
     "604050bc33e04155b9e22bc0c46189c4": {
      "model_module": "@jupyter-widgets/base",
      "model_module_version": "2.0.0",
      "model_name": "LayoutModel",
      "state": {
       "height": "auto",
       "padding": "0px 0px 0px 4px",
       "width": "auto"
      }
     },
     "606d5259281c4881b48e322259bcaf50": {
      "model_module": "jupyter-leaflet",
      "model_module_version": "^0.17",
      "model_name": "LeafletZoomControlModel",
      "state": {
       "_model_module_version": "^0.17",
       "_view_module_version": "^0.17",
       "options": [
        "position",
        "zoom_in_text",
        "zoom_in_title",
        "zoom_out_text",
        "zoom_out_title"
       ]
      }
     },
     "60dd8eefa67347f1a0837ff0193244a9": {
      "model_module": "@jupyter-widgets/controls",
      "model_module_version": "2.0.0",
      "model_name": "VBoxModel",
      "state": {
       "children": [
        "IPY_MODEL_88a594f049de4010a42e4f61e57bc77c"
       ],
       "layout": "IPY_MODEL_101fd11400bc4e9cbbbad919dcf4a049"
      }
     },
     "60fa56ef99294344be5c01b652f17019": {
      "model_module": "@jupyter-widgets/base",
      "model_module_version": "2.0.0",
      "model_name": "LayoutModel",
      "state": {
       "max_width": "279px",
       "min_width": "279px"
      }
     },
     "61091f0098fd44e2877937eba2890817": {
      "model_module": "@jupyter-widgets/base",
      "model_module_version": "2.0.0",
      "model_name": "LayoutModel",
      "state": {
       "height": "auto",
       "padding": "0px 0px 0px 4px",
       "width": "auto"
      }
     },
     "61320e2940b849849dbf4993f0735b1e": {
      "model_module": "@jupyter-widgets/base",
      "model_module_version": "2.0.0",
      "model_name": "LayoutModel",
      "state": {
       "height": "auto",
       "padding": "0px 0px 0px 4px",
       "width": "auto"
      }
     },
     "61f59b64395c47d6be4496255bfb75c0": {
      "model_module": "@jupyter-widgets/controls",
      "model_module_version": "2.0.0",
      "model_name": "ToggleButtonStyleModel",
      "state": {
       "description_width": "",
       "font_family": null,
       "font_size": null,
       "font_style": null,
       "font_variant": null,
       "font_weight": null,
       "text_color": null,
       "text_decoration": null
      }
     },
     "61f9534d417c48e9aaa3d5bab12e931e": {
      "model_module": "@jupyter-widgets/controls",
      "model_module_version": "2.0.0",
      "model_name": "DescriptionStyleModel",
      "state": {
       "description_width": ""
      }
     },
     "625dbf74cfb14bb79f192b133e919dc9": {
      "model_module": "@jupyter-widgets/base",
      "model_module_version": "2.0.0",
      "model_name": "LayoutModel",
      "state": {}
     },
     "6311af45725a41f791a9e2bcb7af1675": {
      "model_module": "@jupyter-widgets/base",
      "model_module_version": "2.0.0",
      "model_name": "LayoutModel",
      "state": {
       "height": "auto",
       "padding": "0px 0px 0px 4px",
       "width": "auto"
      }
     },
     "6339243eeaa341e0b912896b05a0490d": {
      "model_module": "@jupyter-widgets/controls",
      "model_module_version": "2.0.0",
      "model_name": "ToggleButtonModel",
      "state": {
       "button_style": "primary",
       "icon": "fast-forward",
       "layout": "IPY_MODEL_401986645e4a45dbb862a99a5a025b37",
       "style": "IPY_MODEL_3feecae08688445cadf1ae534f1982b3",
       "tooltip": "Activate timeslider"
      }
     },
     "635ce255a5044c1287981c45486f8a29": {
      "model_module": "@jupyter-widgets/base",
      "model_module_version": "2.0.0",
      "model_name": "LayoutModel",
      "state": {}
     },
     "636bc99286db43b5aa1f8843c09798b5": {
      "model_module": "@jupyter-widgets/controls",
      "model_module_version": "2.0.0",
      "model_name": "ToggleButtonModel",
      "state": {
       "button_style": "primary",
       "icon": "retweet",
       "layout": "IPY_MODEL_cd0f339e0b0940b49147ee0038e536b1",
       "style": "IPY_MODEL_6733d8427f9748ddb10529ad64a72158",
       "tooltip": "Convert Earth Engine JavaScript to Python"
      }
     },
     "63e1a572ccb74f7c91a3f802367d8eaa": {
      "model_module": "@jupyter-widgets/controls",
      "model_module_version": "2.0.0",
      "model_name": "ToggleButtonModel",
      "state": {
       "button_style": "primary",
       "icon": "hand-o-up",
       "layout": "IPY_MODEL_01d1afb77e1d40d9980b0b306f593f54",
       "style": "IPY_MODEL_a4eae6d7cb5f467b8b94588b27e17432",
       "tooltip": "Collect training samples"
      }
     },
     "640d01dcb4b9494eb88210ad68d8cb4f": {
      "model_module": "@jupyter-widgets/controls",
      "model_module_version": "2.0.0",
      "model_name": "RadioButtonsModel",
      "state": {
       "index": null,
       "layout": "IPY_MODEL_721d92a456d149568dd3f86a91de1d4e",
       "style": "IPY_MODEL_4aa2c4c8a048457d8f0c1182a48a3ba7"
      }
     },
     "6428cd447b1d479d83d5f07b56808993": {
      "model_module": "@jupyter-widgets/controls",
      "model_module_version": "2.0.0",
      "model_name": "VBoxModel",
      "state": {
       "children": [
        "IPY_MODEL_996999e326454e3fba74bab0d2894f84",
        "IPY_MODEL_c3d675e125ab46df8baa9ef63d384df5"
       ],
       "layout": "IPY_MODEL_f46e8ffdd4414a6c990d256241e8263d"
      }
     },
     "64d8d7d9d52b4988aebf28b0cb688f33": {
      "model_module": "@jupyter-widgets/controls",
      "model_module_version": "2.0.0",
      "model_name": "ToggleButtonModel",
      "state": {
       "button_style": "primary",
       "icon": "bar-chart",
       "layout": "IPY_MODEL_50e631e726fe4876be81cc9fb38f15b4",
       "style": "IPY_MODEL_61f59b64395c47d6be4496255bfb75c0",
       "tooltip": "Plotting"
      }
     },
     "64f15445bcb54c51ad501ff7d0af6565": {
      "model_module": "@jupyter-widgets/base",
      "model_module_version": "2.0.0",
      "model_name": "LayoutModel",
      "state": {
       "height": "28px",
       "padding": "0px 0px 0px 4px",
       "width": "28px"
      }
     },
     "65390f4e0dda47ae8a6943ea80b3909f": {
      "model_module": "jupyter-leaflet",
      "model_module_version": "^0.17",
      "model_name": "LeafletTileLayerModel",
      "state": {
       "_model_module_version": "^0.17",
       "_view_module_version": "^0.17",
       "attribution": "Google",
       "max_zoom": 24,
       "name": "Google Maps",
       "options": [
        "attribution",
        "bounds",
        "detect_retina",
        "max_native_zoom",
        "max_zoom",
        "min_native_zoom",
        "min_zoom",
        "no_wrap",
        "tile_size",
        "tms",
        "zoom_offset"
       ],
       "url": "https://mt1.google.com/vt/lyrs=m&x={x}&y={y}&z={z}"
      }
     },
     "65850b1ae00e4879a36f8da83192d562": {
      "model_module": "@jupyter-widgets/controls",
      "model_module_version": "2.0.0",
      "model_name": "ToggleButtonModel",
      "state": {
       "button_style": "primary",
       "icon": "info-circle",
       "layout": "IPY_MODEL_554edee41bef47df8cf70ab524051ff9",
       "style": "IPY_MODEL_2942b9d66218468e9ac12d3dd67541c4",
       "tooltip": "Get COG/STAC pixel value"
      }
     },
     "65f6b0fc58fb49638cd7afd02a2b9117": {
      "model_module": "@jupyter-widgets/controls",
      "model_module_version": "2.0.0",
      "model_name": "VBoxModel",
      "state": {
       "children": [
        "IPY_MODEL_2bfe38990ae748529ac1729af404a46e"
       ],
       "layout": "IPY_MODEL_90f1ff90d7694007859f65e8e0f45e86"
      }
     },
     "661eebe08d1f4e9db3dc0bd458e8dd59": {
      "model_module": "jupyter-leaflet",
      "model_module_version": "^0.17",
      "model_name": "LeafletAttributionControlModel",
      "state": {
       "_model_module_version": "^0.17",
       "_view_module_version": "^0.17",
       "options": [
        "position",
        "prefix"
       ],
       "position": "bottomright",
       "prefix": "ipyleaflet"
      }
     },
     "662d7e31949f4989bc28accb89a50f3c": {
      "model_module": "@jupyter-widgets/base",
      "model_module_version": "2.0.0",
      "model_name": "LayoutModel",
      "state": {
       "height": "600px"
      }
     },
     "662e9ceed00a4d63be75cdbcab1b5bd5": {
      "model_module": "@jupyter-widgets/base",
      "model_module_version": "2.0.0",
      "model_name": "LayoutModel",
      "state": {}
     },
     "6667707f3d1b42c0b85e353eee6d2665": {
      "model_module": "@jupyter-widgets/controls",
      "model_module_version": "2.0.0",
      "model_name": "RadioButtonsModel",
      "state": {
       "index": null,
       "layout": "IPY_MODEL_57a3c17360004855bba76a4b1e8c2d23",
       "style": "IPY_MODEL_2222ac67acd14d48a42a7f3636e9af8a"
      }
     },
     "669f009d45bd4aad8b846764830c060d": {
      "model_module": "@jupyter-widgets/controls",
      "model_module_version": "2.0.0",
      "model_name": "ToggleButtonModel",
      "state": {
       "button_style": "primary",
       "icon": "adjust",
       "layout": "IPY_MODEL_9f27691e67014302bde808c7ac61b1cf",
       "style": "IPY_MODEL_dcd18cd9567241e6a96351b0f9334d27",
       "tooltip": "Planet imagery"
      }
     },
     "6733d8427f9748ddb10529ad64a72158": {
      "model_module": "@jupyter-widgets/controls",
      "model_module_version": "2.0.0",
      "model_name": "ToggleButtonStyleModel",
      "state": {
       "description_width": "",
       "font_family": null,
       "font_size": null,
       "font_style": null,
       "font_variant": null,
       "font_weight": null,
       "text_color": null,
       "text_decoration": null
      }
     },
     "6745a91c8c2b4abd95c4fd67be70ba52": {
      "model_module": "@jupyter-widgets/base",
      "model_module_version": "2.0.0",
      "model_name": "LayoutModel",
      "state": {
       "max_height": "350px",
       "max_width": "340px",
       "overflow": "scroll"
      }
     },
     "675c439b52ed4090a79bb35f46df9bb4": {
      "model_module": "@jupyter-widgets/controls",
      "model_module_version": "2.0.0",
      "model_name": "ButtonStyleModel",
      "state": {
       "font_family": null,
       "font_size": null,
       "font_style": null,
       "font_variant": null,
       "font_weight": null,
       "text_color": null,
       "text_decoration": null
      }
     },
     "676f794e096349aeac602defb17bd056": {
      "model_module": "@jupyter-widgets/controls",
      "model_module_version": "2.0.0",
      "model_name": "ToggleButtonModel",
      "state": {
       "button_style": "primary",
       "icon": "folder-open",
       "layout": "IPY_MODEL_db2e7101c56a4ade86afa8cc2f220080",
       "style": "IPY_MODEL_9a42ee7992624b0388ee58a04fa7443f",
       "tooltip": "Open local vector/raster data"
      }
     },
     "67711c5c49204829b7b160e1975de9bc": {
      "model_module": "@jupyter-widgets/controls",
      "model_module_version": "2.0.0",
      "model_name": "ToggleButtonStyleModel",
      "state": {
       "description_width": "",
       "font_family": null,
       "font_size": null,
       "font_style": null,
       "font_variant": null,
       "font_weight": null,
       "text_color": null,
       "text_decoration": null
      }
     },
     "67752fcf1dc54821bfa3395828c1322e": {
      "model_module": "@jupyter-widgets/base",
      "model_module_version": "2.0.0",
      "model_name": "LayoutModel",
      "state": {}
     },
     "6781dfbde7234e7490ef715515df7287": {
      "model_module": "@jupyter-widgets/controls",
      "model_module_version": "2.0.0",
      "model_name": "DropdownModel",
      "state": {
       "index": null,
       "layout": "IPY_MODEL_3b911f0fcb6c43b49894576647e52879",
       "style": "IPY_MODEL_16f5c51b54624f97af2436336382ac44"
      }
     },
     "67de8cbb13ae4f408d390b589ea1b166": {
      "model_module": "@jupyter-widgets/controls",
      "model_module_version": "2.0.0",
      "model_name": "ToggleButtonStyleModel",
      "state": {
       "description_width": "",
       "font_family": null,
       "font_size": null,
       "font_style": null,
       "font_variant": null,
       "font_weight": null,
       "text_color": null,
       "text_decoration": null
      }
     },
     "67e603352beb4cd4bfa6222acd71c480": {
      "model_module": "@jupyter-widgets/controls",
      "model_module_version": "2.0.0",
      "model_name": "TextModel",
      "state": {
       "layout": "IPY_MODEL_c823941d566d4727a5c57270856c4687",
       "placeholder": "Search by place name or address",
       "style": "IPY_MODEL_da6ebc25bfb0450a94f10c45d408b7e9",
       "tooltip": "Search location"
      }
     },
     "694ce05070204c138ce1431da25db685": {
      "model_module": "jupyter-leaflet",
      "model_module_version": "^0.17",
      "model_name": "LeafletMapStyleModel",
      "state": {
       "_model_module_version": "^0.17"
      }
     },
     "69b1ad4c162a443da5a830896737723b": {
      "model_module": "@jupyter-widgets/base",
      "model_module_version": "2.0.0",
      "model_name": "LayoutModel",
      "state": {
       "height": "auto",
       "padding": "0px 0px 0px 4px",
       "width": "auto"
      }
     },
     "69b862ca091e4d049a4387c3aed61677": {
      "model_module": "@jupyter-widgets/base",
      "model_module_version": "2.0.0",
      "model_name": "LayoutModel",
      "state": {}
     },
     "69f497c1bc7c43ae9166945f712fd11a": {
      "model_module": "@jupyter-widgets/base",
      "model_module_version": "2.0.0",
      "model_name": "LayoutModel",
      "state": {
       "height": "auto",
       "padding": "0px 0px 0px 4px",
       "width": "auto"
      }
     },
     "6a3ba41a5f9c489184ab4812f52d2ee2": {
      "model_module": "@jupyter-widgets/controls",
      "model_module_version": "2.0.0",
      "model_name": "ToggleButtonStyleModel",
      "state": {
       "description_width": "",
       "font_family": null,
       "font_size": null,
       "font_style": null,
       "font_variant": null,
       "font_weight": null,
       "text_color": null,
       "text_decoration": null
      }
     },
     "6a76734473544d64a521e20f6666927d": {
      "model_module": "@jupyter-widgets/base",
      "model_module_version": "2.0.0",
      "model_name": "LayoutModel",
      "state": {}
     },
     "6aa004e0aea24092912ad3f68515271b": {
      "model_module": "@jupyter-widgets/controls",
      "model_module_version": "2.0.0",
      "model_name": "ToggleButtonModel",
      "state": {
       "button_style": "primary",
       "icon": "retweet",
       "layout": "IPY_MODEL_7c4007b430c24cbd864be0e05758034d",
       "style": "IPY_MODEL_392745cee847455fa80876410dc99dc3",
       "tooltip": "Convert Earth Engine JavaScript to Python"
      }
     },
     "6aa0ec4bee604fffb9a2f1fba002c946": {
      "model_module": "@jupyter-widgets/controls",
      "model_module_version": "2.0.0",
      "model_name": "ToggleButtonModel",
      "state": {
       "button_style": "primary",
       "icon": "bar-chart",
       "layout": "IPY_MODEL_c449f69c6925423fa7ec866ae2948e5c",
       "style": "IPY_MODEL_86de3256f1ab41c3a9231b641816db0d",
       "tooltip": "Plotting"
      }
     },
     "6ac16dd288da4ac3bc0700379f233df9": {
      "model_module": "@jupyter-widgets/base",
      "model_module_version": "2.0.0",
      "model_name": "LayoutModel",
      "state": {}
     },
     "6adaad792b1a4ef8a273d231f84e8931": {
      "model_module": "@jupyter-widgets/controls",
      "model_module_version": "2.0.0",
      "model_name": "HTMLStyleModel",
      "state": {
       "description_width": "",
       "font_size": null,
       "text_color": null
      }
     },
     "6adf8440b06047039509096d9085b852": {
      "model_module": "@jupyter-widgets/base",
      "model_module_version": "2.0.0",
      "model_name": "LayoutModel",
      "state": {
       "grid_gap": "1px 1px",
       "grid_template_columns": "32px 32px 32px ",
       "grid_template_rows": "32px 32px ",
       "padding": "5px",
       "width": "109px"
      }
     },
     "6b14aedd3af44a0ca77746ece3dd7835": {
      "model_module": "jupyter-leaflet",
      "model_module_version": "^0.17",
      "model_name": "LeafletFullScreenControlModel",
      "state": {
       "_model_module_version": "^0.17",
       "_view_module_version": "^0.17",
       "options": [
        "position"
       ]
      }
     },
     "6b1d7e07e10f431da78f31bd57306b69": {
      "model_module": "@jupyter-widgets/base",
      "model_module_version": "2.0.0",
      "model_name": "LayoutModel",
      "state": {
       "height": "28px",
       "padding": "0px 0px 0px 4px",
       "width": "28px"
      }
     },
     "6b26c850741b4cfa92e645d1f8075ecc": {
      "model_module": "@jupyter-widgets/base",
      "model_module_version": "2.0.0",
      "model_name": "LayoutModel",
      "state": {
       "max_width": "279px",
       "min_width": "279px"
      }
     },
     "6b3a4066eeef4d37b31fb83a0e6563c3": {
      "model_module": "@jupyter-widgets/base",
      "model_module_version": "2.0.0",
      "model_name": "LayoutModel",
      "state": {}
     },
     "6b684bdc48424c10901339e3aa39cf36": {
      "model_module": "@jupyter-widgets/controls",
      "model_module_version": "2.0.0",
      "model_name": "VBoxModel",
      "state": {
       "children": [
        "IPY_MODEL_dae9fd9b2edc4d299663b197ace87551"
       ],
       "layout": "IPY_MODEL_2c326bbb7d8847829308e79eea9c588f"
      }
     },
     "6ba2e1cb054a43009a28af723cf97010": {
      "model_module": "@jupyter-widgets/base",
      "model_module_version": "2.0.0",
      "model_name": "LayoutModel",
      "state": {
       "height": "auto",
       "padding": "0px 0px 0px 4px",
       "width": "auto"
      }
     },
     "6ba64ce0ac5a4b94b14a7ced87bf326a": {
      "model_module": "@jupyter-widgets/controls",
      "model_module_version": "2.0.0",
      "model_name": "HTMLStyleModel",
      "state": {
       "description_width": "",
       "font_size": null,
       "text_color": null
      }
     },
     "6bad6da5c40741c2918d40f5fa1dab0e": {
      "model_module": "@jupyter-widgets/controls",
      "model_module_version": "2.0.0",
      "model_name": "ToggleButtonStyleModel",
      "state": {
       "description_width": "",
       "font_family": null,
       "font_size": null,
       "font_style": null,
       "font_variant": null,
       "font_weight": null,
       "text_color": null,
       "text_decoration": null
      }
     },
     "6bc1618d09ad48a5932d1c652d6c45c2": {
      "model_module": "@jupyter-widgets/controls",
      "model_module_version": "2.0.0",
      "model_name": "GridBoxModel",
      "state": {
       "children": [
        "IPY_MODEL_aa04dfc5172d4f839f1f143053fa0326",
        "IPY_MODEL_0a4b0d5427fa49c29c6dff14fce8e515",
        "IPY_MODEL_8314fd0b9a7742a9a2b082081f5e92d8",
        "IPY_MODEL_4e09ba2fe8a84dce95db072dfe9c8e99",
        "IPY_MODEL_3e5ae665cee84c3a938f32d44e3b6a47",
        "IPY_MODEL_512858512eac4027b8f6809b1afe7fd0"
       ],
       "layout": "IPY_MODEL_55aba056304e47bbaa620a763377c7d7"
      }
     },
     "6bff53ef314a417cb777fa4450de8b90": {
      "model_module": "@jupyter-widgets/controls",
      "model_module_version": "2.0.0",
      "model_name": "ToggleButtonStyleModel",
      "state": {
       "description_width": "",
       "font_family": null,
       "font_size": null,
       "font_style": null,
       "font_variant": null,
       "font_weight": null,
       "text_color": null,
       "text_decoration": null
      }
     },
     "6c84464d948644979fd770080e7ae82c": {
      "model_module": "@jupyter-widgets/base",
      "model_module_version": "2.0.0",
      "model_name": "LayoutModel",
      "state": {
       "height": "28px",
       "width": "72px"
      }
     },
     "6c9c897e6cd84392ac78946ea505fbd4": {
      "model_module": "@jupyter-widgets/controls",
      "model_module_version": "2.0.0",
      "model_name": "ToggleButtonStyleModel",
      "state": {
       "description_width": "",
       "font_family": null,
       "font_size": null,
       "font_style": null,
       "font_variant": null,
       "font_weight": null,
       "text_color": null,
       "text_decoration": null
      }
     },
     "6d117d46868a4ef587b1bf81519850c1": {
      "model_module": "@jupyter-widgets/base",
      "model_module_version": "2.0.0",
      "model_name": "LayoutModel",
      "state": {
       "height": "auto",
       "padding": "0px 0px 0px 4px",
       "width": "auto"
      }
     },
     "6d249f4872214faeb1604ad6138042a5": {
      "model_module": "jupyter-leaflet",
      "model_module_version": "^0.17",
      "model_name": "LeafletMeasureControlModel",
      "state": {
       "_model_module_version": "^0.17",
       "_view_module_version": "^0.17",
       "active_color": "orange",
       "options": [
        "active_color",
        "capture_z_index",
        "completed_color",
        "popup_options",
        "position",
        "primary_area_unit",
        "primary_length_unit",
        "secondary_area_unit",
        "secondary_length_unit"
       ],
       "position": "bottomleft",
       "primary_length_unit": "kilometers",
       "secondary_area_unit": null,
       "secondary_length_unit": null
      }
     },
     "6d4fa82a06874794a7a88d53e25a0e1c": {
      "model_module": "@jupyter-widgets/controls",
      "model_module_version": "2.0.0",
      "model_name": "ToggleButtonStyleModel",
      "state": {
       "description_width": "",
       "font_family": null,
       "font_size": null,
       "font_style": null,
       "font_variant": null,
       "font_weight": null,
       "text_color": null,
       "text_decoration": null
      }
     },
     "6d8f625ad1f849b596e91c241b42ce7f": {
      "model_module": "@jupyter-widgets/controls",
      "model_module_version": "2.0.0",
      "model_name": "ToggleButtonModel",
      "state": {
       "button_style": "primary",
       "icon": "random",
       "layout": "IPY_MODEL_cbcee54e4d71432183a07e9d9c7a3b69",
       "style": "IPY_MODEL_e1fc674686b44a3a81ead7e595236559",
       "tooltip": "Sankey plots"
      }
     },
     "6da59b332f0b4882af2b1dd27c6c6842": {
      "model_module": "@jupyter-widgets/controls",
      "model_module_version": "2.0.0",
      "model_name": "TextModel",
      "state": {
       "layout": "IPY_MODEL_7f573adcfbfb4f4fa0016a529ddeb1b7",
       "placeholder": "Search by place name or address",
       "style": "IPY_MODEL_8a6da60f208d479ab98a7d683b02f47e",
       "tooltip": "Search location"
      }
     },
     "6dc4d9c68af24db5868daa857918e43c": {
      "model_module": "@jupyter-widgets/base",
      "model_module_version": "2.0.0",
      "model_name": "LayoutModel",
      "state": {
       "height": "auto",
       "padding": "0px 0px 0px 4px",
       "width": "auto"
      }
     },
     "6ecb5628612e4dbe8eacf9c85ae30e04": {
      "model_module": "@jupyter-widgets/base",
      "model_module_version": "2.0.0",
      "model_name": "LayoutModel",
      "state": {
       "height": "auto",
       "padding": "0px 0px 0px 4px",
       "width": "auto"
      }
     },
     "6f9e61828f8f4dd6b835849a91c28e70": {
      "model_module": "jupyter-leaflet",
      "model_module_version": "^0.17",
      "model_name": "LeafletMapStyleModel",
      "state": {
       "_model_module_version": "^0.17",
       "cursor": "move"
      }
     },
     "71279c9187bb46f68663bf99649f3d68": {
      "model_module": "@jupyter-widgets/controls",
      "model_module_version": "2.0.0",
      "model_name": "ToggleButtonModel",
      "state": {
       "button_style": "primary",
       "icon": "info-circle",
       "layout": "IPY_MODEL_4eeb1266ac9e4ed2abbe037850050688",
       "style": "IPY_MODEL_b80d3c7b2c384343a1faf16abe5be86d",
       "tooltip": "Get COG/STAC pixel value"
      }
     },
     "71465b8146cb433c82ce83d92b6b819a": {
      "model_module": "@jupyter-widgets/controls",
      "model_module_version": "2.0.0",
      "model_name": "ToggleButtonModel",
      "state": {
       "icon": "server",
       "layout": "IPY_MODEL_b0d32ec063f54d47ad53e8f0027d3a1f",
       "style": "IPY_MODEL_30a2e955ea99408083a1342d73c02fb6",
       "tooltip": "Layers"
      }
     },
     "719de48a346144ffaa81438d5174900b": {
      "model_module": "@jupyter-widgets/base",
      "model_module_version": "2.0.0",
      "model_name": "LayoutModel",
      "state": {
       "height": "auto",
       "padding": "0px 0px 0px 4px",
       "width": "auto"
      }
     },
     "71d5f7dd9da14104b945e4abbafb9e94": {
      "model_module": "@jupyter-widgets/base",
      "model_module_version": "2.0.0",
      "model_name": "LayoutModel",
      "state": {}
     },
     "721d92a456d149568dd3f86a91de1d4e": {
      "model_module": "@jupyter-widgets/base",
      "model_module_version": "2.0.0",
      "model_name": "LayoutModel",
      "state": {}
     },
     "7230f619070c457d935a66a46216b733": {
      "model_module": "@jupyter-widgets/base",
      "model_module_version": "2.0.0",
      "model_name": "LayoutModel",
      "state": {
       "height": "auto",
       "padding": "0px 0px 0px 4px",
       "width": "auto"
      }
     },
     "72445af07b6d45d18b7a35e219b3d81d": {
      "model_module": "jupyter-leaflet",
      "model_module_version": "^0.17",
      "model_name": "LeafletScaleControlModel",
      "state": {
       "_model_module_version": "^0.17",
       "_view_module_version": "^0.17",
       "imperial": true,
       "max_width": 100,
       "metric": true,
       "options": [
        "imperial",
        "max_width",
        "metric",
        "position",
        "update_when_idle"
       ],
       "position": "bottomleft",
       "update_when_idle": false
      }
     },
     "724c9538a7004b35a1ed178c14b78fbd": {
      "model_module": "@jupyter-widgets/controls",
      "model_module_version": "2.0.0",
      "model_name": "ToggleButtonStyleModel",
      "state": {
       "description_width": "",
       "font_family": null,
       "font_size": null,
       "font_style": null,
       "font_variant": null,
       "font_weight": null,
       "text_color": null,
       "text_decoration": null
      }
     },
     "72a3623533f64eb8ad0692075f8bcb4a": {
      "model_module": "@jupyter-widgets/controls",
      "model_module_version": "2.0.0",
      "model_name": "GridBoxModel",
      "state": {
       "children": [
        "IPY_MODEL_b67dc0011b2f40eea1a018156dca738d",
        "IPY_MODEL_64d8d7d9d52b4988aebf28b0cb688f33",
        "IPY_MODEL_5643c3e38f2e4f9c8c2fe7ce144fa3ff",
        "IPY_MODEL_60368d0cc2d1421ebf22b473323ad6ac",
        "IPY_MODEL_8d55793ce9774b84bb3cdda8838af1cb",
        "IPY_MODEL_d871e9be94ce4b41bd8fd4ae034b764e"
       ],
       "layout": "IPY_MODEL_79042cdbb72a4623a872760cc396b0e5"
      }
     },
     "72e703d13a474348aff7892592622002": {
      "model_module": "@jupyter-widgets/controls",
      "model_module_version": "2.0.0",
      "model_name": "VBoxModel",
      "state": {
       "children": [
        "IPY_MODEL_41a3ea911ce7405c9ad6c60dcde9ad82",
        "IPY_MODEL_88c3f171b974440fac0d17badb757782"
       ],
       "layout": "IPY_MODEL_e60020db90eb428f96720c6169b49d35"
      }
     },
     "734068a2598a4051b2e527ce86158490": {
      "model_module": "@jupyter-widgets/base",
      "model_module_version": "2.0.0",
      "model_name": "LayoutModel",
      "state": {
       "height": "auto",
       "padding": "0px 0px 0px 4px",
       "width": "auto"
      }
     },
     "7353104999fb40259d99df78456958e6": {
      "model_module": "@jupyter-widgets/base",
      "model_module_version": "2.0.0",
      "model_name": "LayoutModel",
      "state": {
       "height": "auto",
       "padding": "0px 0px 0px 4px",
       "width": "auto"
      }
     },
     "7389261797d24bd791c552697a8f2d68": {
      "model_module": "@jupyter-widgets/controls",
      "model_module_version": "2.0.0",
      "model_name": "ToggleButtonModel",
      "state": {
       "button_style": "primary",
       "icon": "globe",
       "layout": "IPY_MODEL_a17f956b9f124ac0b9e9eedb432d6654",
       "style": "IPY_MODEL_f833f66a9daf4387aa0837a770c06122",
       "tooltip": "Create timelapse"
      }
     },
     "7399fe884e0c48deab4d9301a5eb8550": {
      "model_module": "@jupyter-widgets/controls",
      "model_module_version": "2.0.0",
      "model_name": "ToggleButtonStyleModel",
      "state": {
       "description_width": "",
       "font_family": null,
       "font_size": null,
       "font_style": null,
       "font_variant": null,
       "font_weight": null,
       "text_color": null,
       "text_decoration": null
      }
     },
     "743229d620a04a718e8619da25c802d0": {
      "model_module": "@jupyter-widgets/controls",
      "model_module_version": "2.0.0",
      "model_name": "ToggleButtonStyleModel",
      "state": {
       "description_width": "",
       "font_family": null,
       "font_size": null,
       "font_style": null,
       "font_variant": null,
       "font_weight": null,
       "text_color": null,
       "text_decoration": null
      }
     },
     "74a30e3eae434aa09e162a2072cb977f": {
      "model_module": "@jupyter-widgets/base",
      "model_module_version": "2.0.0",
      "model_name": "LayoutModel",
      "state": {
       "height": "auto",
       "padding": "0px 0px 0px 4px",
       "width": "auto"
      }
     },
     "74bcda7dc2394e239f5fd48fe685b24e": {
      "model_module": "@jupyter-widgets/controls",
      "model_module_version": "2.0.0",
      "model_name": "ToggleButtonModel",
      "state": {
       "icon": "wrench",
       "layout": "IPY_MODEL_6b1d7e07e10f431da78f31bd57306b69",
       "style": "IPY_MODEL_d6ec6b5e0d584545965dfe2dd50c52d9",
       "tooltip": "Toolbar"
      }
     },
     "74f7afbe53db4c0c9c50d67a6eb6b1af": {
      "model_module": "ipyevents",
      "model_module_version": "2.0.2",
      "model_name": "EventModel",
      "state": {
       "_supported_key_events": [
        "keydown",
        "keyup"
       ],
       "_supported_mouse_events": [
        "click",
        "auxclick",
        "dblclick",
        "mouseenter",
        "mouseleave",
        "mousedown",
        "mouseup",
        "mousemove",
        "wheel",
        "contextmenu",
        "dragstart",
        "drag",
        "dragend",
        "dragenter",
        "dragover",
        "dragleave",
        "drop"
       ],
       "_supported_touch_events": [
        "touchstart",
        "touchend",
        "touchmove",
        "touchcancel"
       ],
       "_view_module": "@jupyter-widgets/controls",
       "source": "IPY_MODEL_fd91741d5fef464894d681dce1b46609",
       "throttle_or_debounce": "",
       "watched_events": [
        "mouseenter",
        "mouseleave"
       ],
       "xy_coordinate_system": ""
      }
     },
     "751faa92a3d14e568a3493ec1e0ec404": {
      "model_module": "@jupyter-widgets/controls",
      "model_module_version": "2.0.0",
      "model_name": "ToggleButtonStyleModel",
      "state": {
       "description_width": "",
       "font_family": null,
       "font_size": null,
       "font_style": null,
       "font_variant": null,
       "font_weight": null,
       "text_color": null,
       "text_decoration": null
      }
     },
     "75a0bb09a5bc4a2d91694780bccfd267": {
      "model_module": "@jupyter-widgets/base",
      "model_module_version": "2.0.0",
      "model_name": "LayoutModel",
      "state": {}
     },
     "75a46870a37c440084f826456a854167": {
      "model_module": "@jupyter-widgets/controls",
      "model_module_version": "2.0.0",
      "model_name": "ToggleButtonsModel",
      "state": {
       "_options_labels": [
        "name/address",
        "lat-lon",
        "data"
       ],
       "button_style": "",
       "icons": [],
       "index": 0,
       "layout": "IPY_MODEL_21e5999508254b3086d5c5dc798f1d90",
       "style": "IPY_MODEL_2d740f3a19684e6ab7d2a7be698e0aa3",
       "tooltips": [
        "Search by place name or address",
        "Search by lat-lon coordinates",
        "Search Earth Engine data catalog"
       ]
      }
     },
     "7610f7c06fce4a54948c928b80e9e8e4": {
      "model_module": "@jupyter-widgets/base",
      "model_module_version": "2.0.0",
      "model_name": "LayoutModel",
      "state": {
       "height": "auto",
       "padding": "0px 0px 0px 4px",
       "width": "auto"
      }
     },
     "76a5f6a0dffb4c08b2720551ddfe17fa": {
      "model_module": "@jupyter-widgets/controls",
      "model_module_version": "2.0.0",
      "model_name": "ToggleButtonModel",
      "state": {
       "icon": "globe",
       "layout": "IPY_MODEL_1c9f28cb028743a1a6d97bdc8b905a42",
       "style": "IPY_MODEL_2ed2776081194b00963f698048acfa91",
       "tooltip": "Search location/data"
      }
     },
     "76b52c78e8984e1eb93ff264b47c4a92": {
      "model_module": "@jupyter-widgets/controls",
      "model_module_version": "2.0.0",
      "model_name": "ToggleButtonModel",
      "state": {
       "button_style": "primary",
       "icon": "retweet",
       "layout": "IPY_MODEL_5d4fd9a5c5c546a590a8d02623efca2f",
       "style": "IPY_MODEL_4c620fa8625e4e358e7ee859056ccdb2",
       "tooltip": "Convert Earth Engine JavaScript to Python"
      }
     },
     "76b5adca728d477982010991efb7ab0c": {
      "model_module": "@jupyter-widgets/controls",
      "model_module_version": "2.0.0",
      "model_name": "ToggleButtonModel",
      "state": {
       "icon": "globe",
       "layout": "IPY_MODEL_df70cc69e9b64e2fbc282c773dec11a5",
       "style": "IPY_MODEL_8cd9b2b8ee3341d8a7c62a507490ccde",
       "tooltip": "Search location/data"
      }
     },
     "777aa38e75a04272981d94df86789f15": {
      "model_module": "@jupyter-widgets/controls",
      "model_module_version": "2.0.0",
      "model_name": "ToggleButtonStyleModel",
      "state": {
       "description_width": "",
       "font_family": null,
       "font_size": null,
       "font_style": null,
       "font_variant": null,
       "font_weight": null,
       "text_color": null,
       "text_decoration": null
      }
     },
     "77bca8d6b3e84bc687aee730c1e5e3e6": {
      "model_module": "@jupyter-widgets/base",
      "model_module_version": "2.0.0",
      "model_name": "LayoutModel",
      "state": {
       "height": "auto",
       "padding": "0px 0px 0px 4px",
       "width": "auto"
      }
     },
     "77e299094a354c0c90a0c5da8ee47cab": {
      "model_module": "jupyter-leaflet",
      "model_module_version": "^0.17",
      "model_name": "LeafletMapStyleModel",
      "state": {
       "_model_module_version": "^0.17"
      }
     },
     "7803575e96ea4be884c64f9e8e0965f3": {
      "model_module": "@jupyter-widgets/controls",
      "model_module_version": "2.0.0",
      "model_name": "HTMLModel",
      "state": {
       "layout": "IPY_MODEL_ded30ee12c094059aa0ddeb1e2ca4850",
       "style": "IPY_MODEL_f316e8d93ef6477bb2dbae27be8a2c51"
      }
     },
     "7836cb0e75a94209919b8c7cdc5f1fd1": {
      "model_module": "@jupyter-widgets/controls",
      "model_module_version": "2.0.0",
      "model_name": "ToggleButtonStyleModel",
      "state": {
       "description_width": "",
       "font_family": null,
       "font_size": null,
       "font_style": null,
       "font_variant": null,
       "font_weight": null,
       "text_color": null,
       "text_decoration": null
      }
     },
     "788a3758664c4e559217b0c54ed0f616": {
      "model_module": "@jupyter-widgets/controls",
      "model_module_version": "2.0.0",
      "model_name": "ToggleButtonModel",
      "state": {
       "button_style": "primary",
       "icon": "gears",
       "layout": "IPY_MODEL_dab1fd8c2c754b60ae4912074944b1b2",
       "style": "IPY_MODEL_a7fcbe1964ef40cf9a57dfb2600f3e09",
       "tooltip": "WhiteboxTools for local geoprocessing"
      }
     },
     "7897b1ab6490410c9be876df5bb7ca30": {
      "model_module": "jupyter-leaflet",
      "model_module_version": "^0.17",
      "model_name": "LeafletMapStyleModel",
      "state": {
       "_model_module_version": "^0.17"
      }
     },
     "78a8937bc17c4845b4c5ca3b6262810d": {
      "model_module": "@jupyter-widgets/base",
      "model_module_version": "2.0.0",
      "model_name": "LayoutModel",
      "state": {
       "max_width": "57px",
       "min_width": "57px"
      }
     },
     "78bf0d5c0a9c4de7a3cf76e62d257628": {
      "model_module": "jupyter-leaflet",
      "model_module_version": "^0.17",
      "model_name": "LeafletMapStyleModel",
      "state": {
       "_model_module_version": "^0.17"
      }
     },
     "78c58fbe9c3b4d5ab8015e206f3c527c": {
      "model_module": "jupyter-leaflet",
      "model_module_version": "^0.17",
      "model_name": "LeafletTileLayerModel",
      "state": {
       "_model_module_version": "^0.17",
       "_view_module_version": "^0.17",
       "attribution": "Google",
       "max_zoom": 24,
       "name": "Google Maps",
       "options": [
        "attribution",
        "bounds",
        "detect_retina",
        "max_native_zoom",
        "max_zoom",
        "min_native_zoom",
        "min_zoom",
        "no_wrap",
        "tile_size",
        "tms",
        "zoom_offset"
       ],
       "url": "https://mt1.google.com/vt/lyrs=m&x={x}&y={y}&z={z}"
      }
     },
     "79042cdbb72a4623a872760cc396b0e5": {
      "model_module": "@jupyter-widgets/base",
      "model_module_version": "2.0.0",
      "model_name": "LayoutModel",
      "state": {
       "grid_gap": "1px 1px",
       "grid_template_columns": "32px 32px 32px ",
       "grid_template_rows": "32px 32px ",
       "padding": "5px",
       "width": "109px"
      }
     },
     "7945bb282da546f48604d15927e095b5": {
      "model_module": "@jupyter-widgets/controls",
      "model_module_version": "2.0.0",
      "model_name": "HTMLModel",
      "state": {
       "layout": "IPY_MODEL_ae1a8fe06d284813ac9f748265c50a79",
       "style": "IPY_MODEL_9e9203a108b8416caa3f2e6373b2df55"
      }
     },
     "79956ce939ff47a980d6f8128d911e55": {
      "model_module": "@jupyter-widgets/base",
      "model_module_version": "2.0.0",
      "model_name": "LayoutModel",
      "state": {}
     },
     "7a50f6d5ed0c41c0ad6ad03d3aeeafdf": {
      "model_module": "@jupyter-widgets/base",
      "model_module_version": "2.0.0",
      "model_name": "LayoutModel",
      "state": {}
     },
     "7a88b0425cfa41c6ae7ba669362f71c6": {
      "model_module": "jupyter-leaflet",
      "model_module_version": "^0.17",
      "model_name": "LeafletTileLayerModel",
      "state": {
       "_model_module_version": "^0.17",
       "_view_module_version": "^0.17",
       "attribution": "&copy; <a href=\"https://www.openstreetmap.org/copyright\">OpenStreetMap</a> contributors",
       "base": true,
       "max_zoom": 19,
       "min_zoom": 1,
       "name": "OpenStreetMap.Mapnik",
       "options": [
        "attribution",
        "bounds",
        "detect_retina",
        "max_native_zoom",
        "max_zoom",
        "min_native_zoom",
        "min_zoom",
        "no_wrap",
        "tile_size",
        "tms",
        "zoom_offset"
       ],
       "url": "https://tile.openstreetmap.org/{z}/{x}/{y}.png"
      }
     },
     "7b115b50ea6848d3bc474aa14e365fe3": {
      "model_module": "@jupyter-widgets/controls",
      "model_module_version": "2.0.0",
      "model_name": "VBoxModel",
      "state": {
       "children": [
        "IPY_MODEL_068d43626155457e9e9e8b1323982cf6"
       ],
       "layout": "IPY_MODEL_88171c290cf84e12be0308952f82101d"
      }
     },
     "7b65ac623bba48c688cb2c6e31a807ab": {
      "model_module": "@jupyter-widgets/controls",
      "model_module_version": "2.0.0",
      "model_name": "ToggleButtonModel",
      "state": {
       "button_style": "primary",
       "icon": "folder-open",
       "layout": "IPY_MODEL_61320e2940b849849dbf4993f0735b1e",
       "style": "IPY_MODEL_4869eb6605cc4d3fa900edf40943436e",
       "tooltip": "Open local vector/raster data"
      }
     },
     "7b740ec13c94436ba856039866596ed7": {
      "model_module": "@jupyter-widgets/controls",
      "model_module_version": "2.0.0",
      "model_name": "ToggleButtonStyleModel",
      "state": {
       "description_width": "",
       "font_family": null,
       "font_size": null,
       "font_style": null,
       "font_variant": null,
       "font_weight": null,
       "text_color": null,
       "text_decoration": null
      }
     },
     "7b986895504343b5a889b684561471d9": {
      "model_module": "@jupyter-widgets/controls",
      "model_module_version": "2.0.0",
      "model_name": "HTMLStyleModel",
      "state": {
       "description_width": "",
       "font_size": null,
       "text_color": null
      }
     },
     "7bc28dd093624d2691b24d4f9eaf0d6d": {
      "model_module": "@jupyter-widgets/controls",
      "model_module_version": "2.0.0",
      "model_name": "VBoxModel",
      "state": {
       "_view_count": 1,
       "children": [
        "IPY_MODEL_8f3b0996dbbb4281ad3a3d7a53327eb2"
       ],
       "layout": "IPY_MODEL_d344a0696a8a4f6a91c0eb44932edcc6"
      }
     },
     "7c075566cd1e47cfa06ec9934558421a": {
      "model_module": "@jupyter-widgets/controls",
      "model_module_version": "2.0.0",
      "model_name": "DescriptionStyleModel",
      "state": {
       "description_width": ""
      }
     },
     "7c132c23dd894d7aa3f4336f4a6464c2": {
      "model_module": "@jupyter-widgets/controls",
      "model_module_version": "2.0.0",
      "model_name": "DescriptionStyleModel",
      "state": {
       "description_width": ""
      }
     },
     "7c200061451246c7b2d4df593922158a": {
      "model_module": "@jupyter-widgets/controls",
      "model_module_version": "2.0.0",
      "model_name": "ToggleButtonModel",
      "state": {
       "button_style": "primary",
       "icon": "info-circle",
       "layout": "IPY_MODEL_a7a83a0459314281938b4e96a7f25c12",
       "style": "IPY_MODEL_09d99f374035421a93155fe380bdf9af",
       "tooltip": "Get COG/STAC pixel value"
      }
     },
     "7c4007b430c24cbd864be0e05758034d": {
      "model_module": "@jupyter-widgets/base",
      "model_module_version": "2.0.0",
      "model_name": "LayoutModel",
      "state": {
       "height": "auto",
       "padding": "0px 0px 0px 4px",
       "width": "auto"
      }
     },
     "7caa674b8a4b45819a1c83b4bf5018df": {
      "model_module": "@jupyter-widgets/controls",
      "model_module_version": "2.0.0",
      "model_name": "ToggleButtonModel",
      "state": {
       "button_style": "primary",
       "icon": "map",
       "layout": "IPY_MODEL_b445b44ebfb7468d94d4163651e8a983",
       "style": "IPY_MODEL_724c9538a7004b35a1ed178c14b78fbd",
       "tooltip": "Change basemap"
      }
     },
     "7cca363ca2f74d9c861590894236983c": {
      "model_module": "@jupyter-widgets/controls",
      "model_module_version": "2.0.0",
      "model_name": "ToggleButtonModel",
      "state": {
       "button_style": "primary",
       "icon": "gears",
       "layout": "IPY_MODEL_f51efda21cb04624beee8a3b4306ad61",
       "style": "IPY_MODEL_ec6b807a157e4737884876bd45b87b68",
       "tooltip": "WhiteboxTools for local geoprocessing"
      }
     },
     "7d3469e89a2749bcb3c4a23fc353d973": {
      "model_module": "jupyter-leaflet",
      "model_module_version": "^0.17",
      "model_name": "LeafletTileLayerModel",
      "state": {
       "_model_module_version": "^0.17",
       "_view_module_version": "^0.17",
       "attribution": "Google Earth Engine",
       "max_zoom": 24,
       "name": "Delta_area",
       "options": [
        "attribution",
        "bounds",
        "detect_retina",
        "max_native_zoom",
        "max_zoom",
        "min_native_zoom",
        "min_zoom",
        "no_wrap",
        "tile_size",
        "tms",
        "zoom_offset"
       ],
       "url": "https://earthengine.googleapis.com/v1/projects/earthengine-legacy/maps/067014612e948b7315565d82ee2e81dd-217a1029de3e842f485afdce75f0ec93/tiles/{z}/{x}/{y}"
      }
     },
     "7e2601b8af704f98a0d191f82f79e311": {
      "model_module": "@jupyter-widgets/base",
      "model_module_version": "2.0.0",
      "model_name": "LayoutModel",
      "state": {
       "height": "auto",
       "padding": "0px 0px 0px 4px",
       "width": "auto"
      }
     },
     "7e76ca792f504816bfe632d0a7dd017e": {
      "model_module": "@jupyter-widgets/base",
      "model_module_version": "2.0.0",
      "model_name": "LayoutModel",
      "state": {
       "height": "auto",
       "padding": "0px 0px 0px 4px",
       "width": "auto"
      }
     },
     "7f169ec15f2a43ebb951e573c0cfefee": {
      "model_module": "@jupyter-widgets/controls",
      "model_module_version": "2.0.0",
      "model_name": "ToggleButtonStyleModel",
      "state": {
       "description_width": "",
       "font_family": null,
       "font_size": null,
       "font_style": null,
       "font_variant": null,
       "font_weight": null,
       "text_color": null,
       "text_decoration": null
      }
     },
     "7f573adcfbfb4f4fa0016a529ddeb1b7": {
      "model_module": "@jupyter-widgets/base",
      "model_module_version": "2.0.0",
      "model_name": "LayoutModel",
      "state": {
       "width": "340px"
      }
     },
     "7f6ec780468a40beb8b8672baafeff08": {
      "model_module": "@jupyter-widgets/controls",
      "model_module_version": "2.0.0",
      "model_name": "ToggleButtonStyleModel",
      "state": {
       "description_width": "",
       "font_family": null,
       "font_size": null,
       "font_style": null,
       "font_variant": null,
       "font_weight": null,
       "text_color": null,
       "text_decoration": null
      }
     },
     "7f7f913c06394585995e50d94ab3fdc5": {
      "model_module": "@jupyter-widgets/base",
      "model_module_version": "2.0.0",
      "model_name": "LayoutModel",
      "state": {
       "height": "auto",
       "padding": "0px 0px 0px 4px",
       "width": "auto"
      }
     },
     "7f9d5b7862d84afeb47e428072aafb5b": {
      "model_module": "@jupyter-widgets/controls",
      "model_module_version": "2.0.0",
      "model_name": "ToggleButtonStyleModel",
      "state": {
       "description_width": "",
       "font_family": null,
       "font_size": null,
       "font_style": null,
       "font_variant": null,
       "font_weight": null,
       "text_color": null,
       "text_decoration": null
      }
     },
     "7fe73628476747e08b44145137290216": {
      "model_module": "@jupyter-widgets/base",
      "model_module_version": "2.0.0",
      "model_name": "LayoutModel",
      "state": {
       "height": "auto",
       "padding": "0px 0px 0px 4px",
       "width": "auto"
      }
     },
     "800ebcfbaece436492293344f47741a5": {
      "model_module": "@jupyter-widgets/base",
      "model_module_version": "2.0.0",
      "model_name": "LayoutModel",
      "state": {
       "height": "auto",
       "padding": "0px 0px 0px 4px",
       "width": "auto"
      }
     },
     "803743768ce941058b2a8e311b8d02ca": {
      "model_module": "jupyter-leaflet",
      "model_module_version": "^0.17",
      "model_name": "LeafletMapStyleModel",
      "state": {
       "_model_module_version": "^0.17",
       "cursor": "move"
      }
     },
     "804f8d6f94744ed09d21ae8697a3fdb5": {
      "model_module": "jupyter-leaflet",
      "model_module_version": "^0.17",
      "model_name": "LeafletTileLayerModel",
      "state": {
       "_model_module_version": "^0.17",
       "_view_module_version": "^0.17",
       "attribution": "Google Earth Engine",
       "max_zoom": 24,
       "name": "landsat7_may_13",
       "options": [
        "attribution",
        "bounds",
        "detect_retina",
        "max_native_zoom",
        "max_zoom",
        "min_native_zoom",
        "min_zoom",
        "no_wrap",
        "tile_size",
        "tms",
        "zoom_offset"
       ],
       "url": "https://earthengine.googleapis.com/v1/projects/earthengine-legacy/maps/95205f3230152fb95b8a6101f065e561-99b76ee364c9ec36c03481ca0b3baf11/tiles/{z}/{x}/{y}"
      }
     },
     "80772f5027db4087854cde9510a34a84": {
      "model_module": "jupyter-leaflet",
      "model_module_version": "^0.17",
      "model_name": "LeafletMapStyleModel",
      "state": {
       "_model_module_version": "^0.17",
       "cursor": "move"
      }
     },
     "81abf2429ac644e7a451e0d2d5d97dc0": {
      "model_module": "@jupyter-widgets/base",
      "model_module_version": "2.0.0",
      "model_name": "LayoutModel",
      "state": {
       "height": "auto",
       "padding": "0px 0px 0px 4px",
       "width": "auto"
      }
     },
     "81f3978b45f445a899ad5abfc4c53cc2": {
      "model_module": "@jupyter-widgets/controls",
      "model_module_version": "2.0.0",
      "model_name": "ToggleButtonStyleModel",
      "state": {
       "description_width": "",
       "font_family": null,
       "font_size": null,
       "font_style": null,
       "font_variant": null,
       "font_weight": null,
       "text_color": null,
       "text_decoration": null
      }
     },
     "822be9d7a44d4e48be234b5bfe14a0f7": {
      "model_module": "@jupyter-widgets/base",
      "model_module_version": "2.0.0",
      "model_name": "LayoutModel",
      "state": {}
     },
     "8314fd0b9a7742a9a2b082081f5e92d8": {
      "model_module": "@jupyter-widgets/controls",
      "model_module_version": "2.0.0",
      "model_name": "ToggleButtonModel",
      "state": {
       "button_style": "primary",
       "icon": "globe",
       "layout": "IPY_MODEL_7e2601b8af704f98a0d191f82f79e311",
       "style": "IPY_MODEL_b17dd6ce7e2f4dc898345f7ac873c696",
       "tooltip": "Create timelapse"
      }
     },
     "8354269f7ab5454cb721a4c06d12a538": {
      "model_module": "jupyter-leaflet",
      "model_module_version": "^0.17",
      "model_name": "LeafletTileLayerModel",
      "state": {
       "_model_module_version": "^0.17",
       "_view_module_version": "^0.17",
       "attribution": "&copy; <a href=\"https://www.openstreetmap.org/copyright\">OpenStreetMap</a> contributors",
       "base": true,
       "max_zoom": 19,
       "min_zoom": 1,
       "name": "OpenStreetMap.Mapnik",
       "options": [
        "attribution",
        "bounds",
        "detect_retina",
        "max_native_zoom",
        "max_zoom",
        "min_native_zoom",
        "min_zoom",
        "no_wrap",
        "tile_size",
        "tms",
        "zoom_offset"
       ],
       "url": "https://tile.openstreetmap.org/{z}/{x}/{y}.png"
      }
     },
     "8389caf4e4f54b59a43d434b063422db": {
      "model_module": "@jupyter-widgets/controls",
      "model_module_version": "2.0.0",
      "model_name": "VBoxModel",
      "state": {
       "children": [
        "IPY_MODEL_33403bd26a2d43afa39cd26a2fae3cfd"
       ],
       "layout": "IPY_MODEL_f5ef1a5f50ef42ac9ec81a1655bcc9a6"
      }
     },
     "83ddeef5bd8649f3853a9c1c62167a33": {
      "model_module": "@jupyter-widgets/base",
      "model_module_version": "2.0.0",
      "model_name": "LayoutModel",
      "state": {}
     },
     "8442e269354e4ea3bb2d45399f79976d": {
      "model_module": "@jupyter-widgets/controls",
      "model_module_version": "2.0.0",
      "model_name": "ToggleButtonModel",
      "state": {
       "button_style": "primary",
       "icon": "info-circle",
       "layout": "IPY_MODEL_33ec2edb4a2b4215ad78de6d8f43bedf",
       "style": "IPY_MODEL_a83efa8be7164a3e9b026f224ee70f42",
       "tooltip": "Get COG/STAC pixel value"
      }
     },
     "846bd42c6ef24bb78a6997e50e339b4c": {
      "model_module": "@jupyter-widgets/base",
      "model_module_version": "2.0.0",
      "model_name": "LayoutModel",
      "state": {
       "height": "auto",
       "padding": "0px 0px 0px 4px",
       "width": "auto"
      }
     },
     "84787df8b7dd4a0d859adfbbee0c7a64": {
      "model_module": "@jupyter-widgets/controls",
      "model_module_version": "2.0.0",
      "model_name": "ToggleButtonStyleModel",
      "state": {
       "description_width": "",
       "font_family": null,
       "font_size": null,
       "font_style": null,
       "font_variant": null,
       "font_weight": null,
       "text_color": null,
       "text_decoration": null
      }
     },
     "847b1b743e934e87bb223de4e78723bc": {
      "model_module": "@jupyter-widgets/controls",
      "model_module_version": "2.0.0",
      "model_name": "VBoxModel",
      "state": {
       "children": [
        "IPY_MODEL_6bc1618d09ad48a5932d1c652d6c45c2"
       ],
       "layout": "IPY_MODEL_75a0bb09a5bc4a2d91694780bccfd267"
      }
     },
     "84e3daa740924ada9ddf4c5cfb1d33bb": {
      "model_module": "@jupyter-widgets/controls",
      "model_module_version": "2.0.0",
      "model_name": "ToggleButtonModel",
      "state": {
       "button_style": "primary",
       "icon": "info-circle",
       "layout": "IPY_MODEL_d3ab69ea8a154f489d948763dafd1d7e",
       "style": "IPY_MODEL_be9518108eb942a8b8ec176afdf7f790",
       "tooltip": "Get COG/STAC pixel value"
      }
     },
     "851e4ea93c57495bbf8a8f9c7654119f": {
      "model_module": "@jupyter-widgets/controls",
      "model_module_version": "2.0.0",
      "model_name": "VBoxModel",
      "state": {
       "_view_count": 1,
       "children": [
        "IPY_MODEL_a2c0716b033a44d2962408aa23d9f0ca"
       ],
       "layout": "IPY_MODEL_3ccb48241ad84196a23b3927588404a5"
      }
     },
     "859e6f67fda242bcb3a5bd9a2439862a": {
      "model_module": "@jupyter-widgets/controls",
      "model_module_version": "2.0.0",
      "model_name": "ToggleButtonModel",
      "state": {
       "button_style": "primary",
       "icon": "bar-chart",
       "layout": "IPY_MODEL_d0abc03974db4140aa062cc67cc4ef64",
       "style": "IPY_MODEL_d3b586199db744f28bde2106f62d7eb1",
       "tooltip": "Plotting"
      }
     },
     "85d5057046044ac388c39910d54c112d": {
      "model_module": "@jupyter-widgets/controls",
      "model_module_version": "2.0.0",
      "model_name": "DescriptionStyleModel",
      "state": {
       "description_width": ""
      }
     },
     "86788d64e58d47c8b5c04db250371570": {
      "model_module": "@jupyter-widgets/base",
      "model_module_version": "2.0.0",
      "model_name": "LayoutModel",
      "state": {
       "height": "28px",
       "padding": "0px 0px 0px 4px",
       "width": "28px"
      }
     },
     "86de3256f1ab41c3a9231b641816db0d": {
      "model_module": "@jupyter-widgets/controls",
      "model_module_version": "2.0.0",
      "model_name": "ToggleButtonStyleModel",
      "state": {
       "description_width": "",
       "font_family": null,
       "font_size": null,
       "font_style": null,
       "font_variant": null,
       "font_weight": null,
       "text_color": null,
       "text_decoration": null
      }
     },
     "871d2ae6d9e54bfba26db5bda6020e61": {
      "model_module": "@jupyter-widgets/base",
      "model_module_version": "2.0.0",
      "model_name": "LayoutModel",
      "state": {
       "max_width": "57px",
       "min_width": "57px"
      }
     },
     "873baa5dcb0f4b98a6fedb6f5a67c1e0": {
      "model_module": "@jupyter-widgets/controls",
      "model_module_version": "2.0.0",
      "model_name": "ToggleButtonModel",
      "state": {
       "button_style": "primary",
       "icon": "retweet",
       "layout": "IPY_MODEL_6d117d46868a4ef587b1bf81519850c1",
       "style": "IPY_MODEL_7f9d5b7862d84afeb47e428072aafb5b",
       "tooltip": "Convert Earth Engine JavaScript to Python"
      }
     },
     "878986e3e5714504873c5c055b85e80a": {
      "model_module": "@jupyter-widgets/controls",
      "model_module_version": "2.0.0",
      "model_name": "ToggleButtonStyleModel",
      "state": {
       "description_width": "",
       "font_family": null,
       "font_size": null,
       "font_style": null,
       "font_variant": null,
       "font_weight": null,
       "text_color": null,
       "text_decoration": null
      }
     },
     "878bea8919eb4554ad9e18498e7ef125": {
      "model_module": "@jupyter-widgets/controls",
      "model_module_version": "2.0.0",
      "model_name": "TextModel",
      "state": {
       "layout": "IPY_MODEL_343394fb23b64416a3e3fdb4d9c91ec8",
       "placeholder": "Search by place name or address",
       "style": "IPY_MODEL_cf1e2b6be0da4ddea4ead9fb6b850cf4",
       "tooltip": "Search location"
      }
     },
     "87af13fc3d254759b4c7a790090afcb4": {
      "model_module": "jupyter-leaflet",
      "model_module_version": "^0.17",
      "model_name": "LeafletDrawControlModel",
      "state": {
       "_model_module_version": "^0.17",
       "_view_module_version": "^0.17",
       "marker": {
        "shapeOptions": {
         "color": "#3388ff"
        }
       },
       "options": [
        "position"
       ],
       "polygon": {
        "shapeOptions": {
         "clickable": true,
         "color": "#3388ff",
         "fill": true,
         "fillColor": null,
         "fillOpacity": 0.2,
         "opacity": 0.5,
         "stroke": true,
         "weight": 4
        }
       },
       "polyline": {
        "shapeOptions": {
         "clickable": true,
         "color": "#3388ff",
         "fill": false,
         "opacity": 0.5,
         "stroke": true,
         "weight": 4
        }
       },
       "rectangle": {
        "shapeOptions": {
         "clickable": true,
         "color": "#3388ff",
         "fill": true,
         "fillColor": null,
         "fillOpacity": 0.2,
         "opacity": 0.5,
         "stroke": true,
         "weight": 4
        }
       }
      }
     },
     "87b10e98565f47358d4910614fd4ff89": {
      "model_module": "@jupyter-widgets/controls",
      "model_module_version": "2.0.0",
      "model_name": "ToggleButtonStyleModel",
      "state": {
       "description_width": "",
       "font_family": null,
       "font_size": null,
       "font_style": null,
       "font_variant": null,
       "font_weight": null,
       "text_color": null,
       "text_decoration": null
      }
     },
     "87e7fe436e32445f91e6f4b995c04ace": {
      "model_module": "@jupyter-widgets/controls",
      "model_module_version": "2.0.0",
      "model_name": "ToggleButtonModel",
      "state": {
       "button_style": "primary",
       "icon": "gears",
       "layout": "IPY_MODEL_b3ee6bf1da444663a0216d7c0b736019",
       "style": "IPY_MODEL_0a393773fb374689b416098ecea2e39e",
       "tooltip": "WhiteboxTools for local geoprocessing"
      }
     },
     "88171c290cf84e12be0308952f82101d": {
      "model_module": "@jupyter-widgets/base",
      "model_module_version": "2.0.0",
      "model_name": "LayoutModel",
      "state": {}
     },
     "88206dbbd312453da943706aff1425ff": {
      "model_module": "@jupyter-widgets/controls",
      "model_module_version": "2.0.0",
      "model_name": "ToggleButtonsStyleModel",
      "state": {
       "button_width": "110px",
       "description_width": ""
      }
     },
     "888a46cd610f4112956450183cfefde7": {
      "model_module": "@jupyter-widgets/controls",
      "model_module_version": "2.0.0",
      "model_name": "ToggleButtonStyleModel",
      "state": {
       "description_width": "",
       "font_family": null,
       "font_size": null,
       "font_style": null,
       "font_variant": null,
       "font_weight": null,
       "text_color": null,
       "text_decoration": null
      }
     },
     "88a594f049de4010a42e4f61e57bc77c": {
      "model_module": "@jupyter-widgets/controls",
      "model_module_version": "2.0.0",
      "model_name": "GridBoxModel",
      "state": {
       "children": [
        "IPY_MODEL_4bd46df64bb84eb48992921b3bfb0a72",
        "IPY_MODEL_ab2cef7386b14d57967893432bf1a16f",
        "IPY_MODEL_59f55989e3944ecf82dc5608aae5f582",
        "IPY_MODEL_d0cb7fb5278449ea95a2d4e9292eea48",
        "IPY_MODEL_873baa5dcb0f4b98a6fedb6f5a67c1e0",
        "IPY_MODEL_1e933bd1e8bd4657afceb46f66e99269"
       ],
       "layout": "IPY_MODEL_1354069db07c483e801f2b9c37581d5c"
      }
     },
     "88c3f171b974440fac0d17badb757782": {
      "model_module": "@jupyter-widgets/controls",
      "model_module_version": "2.0.0",
      "model_name": "TextModel",
      "state": {
       "layout": "IPY_MODEL_a6ec1f5d5a4a400f801e4a7a434580e3",
       "placeholder": "Search by place name or address",
       "style": "IPY_MODEL_bda8ff5c16564e5890a73aba6d8d60b0",
       "tooltip": "Search location"
      }
     },
     "89207b914ffe401baf8e6ff931eb0330": {
      "model_module": "@jupyter-widgets/base",
      "model_module_version": "2.0.0",
      "model_name": "LayoutModel",
      "state": {}
     },
     "893a34bebe6442109cefb3bf4e0806c2": {
      "model_module": "@jupyter-widgets/controls",
      "model_module_version": "2.0.0",
      "model_name": "ToggleButtonStyleModel",
      "state": {
       "description_width": "",
       "font_family": null,
       "font_size": null,
       "font_style": null,
       "font_variant": null,
       "font_weight": null,
       "text_color": null,
       "text_decoration": null
      }
     },
     "895f0244d36542f2b0956554a89b03f0": {
      "model_module": "@jupyter-widgets/controls",
      "model_module_version": "2.0.0",
      "model_name": "ToggleButtonStyleModel",
      "state": {
       "description_width": "",
       "font_family": null,
       "font_size": null,
       "font_style": null,
       "font_variant": null,
       "font_weight": null,
       "text_color": null,
       "text_decoration": null
      }
     },
     "89b4c7ad21e64b7d9ec9a9d9cbd071f5": {
      "model_module": "@jupyter-widgets/base",
      "model_module_version": "2.0.0",
      "model_name": "LayoutModel",
      "state": {}
     },
     "8a2dfcf442ec4dc49383ac34d91ba7ef": {
      "model_module": "@jupyter-widgets/base",
      "model_module_version": "2.0.0",
      "model_name": "LayoutModel",
      "state": {
       "max_height": "350px",
       "max_width": "340px",
       "overflow": "scroll"
      }
     },
     "8a444062f6b940d18576c41ec2a12f5f": {
      "model_module": "@jupyter-widgets/base",
      "model_module_version": "2.0.0",
      "model_name": "LayoutModel",
      "state": {
       "height": "auto",
       "padding": "0px 0px 0px 4px",
       "width": "auto"
      }
     },
     "8a4b7b2004e54dfbae05101d396a2b81": {
      "model_module": "@jupyter-widgets/controls",
      "model_module_version": "2.0.0",
      "model_name": "ToggleButtonModel",
      "state": {
       "button_style": "primary",
       "icon": "plus",
       "layout": "IPY_MODEL_1ca550b05a8d4458a902172b352719ad",
       "style": "IPY_MODEL_5732be1b486449de86c3c02205057647",
       "tooltip": "Expand toolbar"
      }
     },
     "8a6da60f208d479ab98a7d683b02f47e": {
      "model_module": "@jupyter-widgets/controls",
      "model_module_version": "2.0.0",
      "model_name": "TextStyleModel",
      "state": {
       "description_width": "",
       "font_size": null,
       "text_color": null
      }
     },
     "8a7d7d723b764e19b608a2020c24238f": {
      "model_module": "@jupyter-widgets/controls",
      "model_module_version": "2.0.0",
      "model_name": "ToggleButtonModel",
      "state": {
       "button_style": "primary",
       "icon": "eraser",
       "layout": "IPY_MODEL_7230f619070c457d935a66a46216b733",
       "style": "IPY_MODEL_b47b4d88fb8141bab97c7afcf1e80f1d",
       "tooltip": "Remove all drawn features"
      }
     },
     "8aa22353e9e24f87b2f62355c3a19db5": {
      "model_module": "@jupyter-widgets/output",
      "model_module_version": "1.0.0",
      "model_name": "OutputModel",
      "state": {
       "layout": "IPY_MODEL_306ae803b016418ca81207afdc74b5d8"
      }
     },
     "8ae57ddc9522435c99f1e3d5a64d6f47": {
      "model_module": "@jupyter-widgets/controls",
      "model_module_version": "2.0.0",
      "model_name": "HTMLModel",
      "state": {
       "layout": "IPY_MODEL_b86f1ea65107417981a8cdbf2844dbaf",
       "style": "IPY_MODEL_7b986895504343b5a889b684561471d9"
      }
     },
     "8b27fcab7d3b46cebf5327ac25085cc9": {
      "model_module": "jupyter-leaflet",
      "model_module_version": "^0.17",
      "model_name": "LeafletMapStyleModel",
      "state": {
       "_model_module_version": "^0.17"
      }
     },
     "8b69a86d387a486cad2937795c51028b": {
      "model_module": "@jupyter-widgets/base",
      "model_module_version": "2.0.0",
      "model_name": "LayoutModel",
      "state": {
       "height": "auto",
       "padding": "0px 0px 0px 4px",
       "width": "auto"
      }
     },
     "8b8baa7c21854076a9a94fc717a4b6b0": {
      "model_module": "jupyter-leaflet",
      "model_module_version": "^0.17",
      "model_name": "LeafletWidgetControlModel",
      "state": {
       "_model_module": "jupyter-leaflet",
       "_model_module_version": "^0.17",
       "_view_count": null,
       "_view_module": "jupyter-leaflet",
       "_view_module_version": "^0.17",
       "options": [
        "position",
        "transparent_bg"
       ],
       "position": "topleft",
       "widget": "IPY_MODEL_919e50d6d1fe4bb0a07452a3b8ddfad8"
      }
     },
     "8b93b336cef94945be4fa83aba5e45fb": {
      "model_module": "@jupyter-widgets/controls",
      "model_module_version": "2.0.0",
      "model_name": "HBoxModel",
      "state": {
       "children": [
        "IPY_MODEL_2421e869044844b483a22ed430c51a54",
        "IPY_MODEL_74bcda7dc2394e239f5fd48fe685b24e"
       ],
       "layout": "IPY_MODEL_a1b84ae4aeb744bcb12e10f0d92f3fc3"
      }
     },
     "8c513b32f1ca44fc8bb64817662b0a24": {
      "model_module": "jupyter-leaflet",
      "model_module_version": "^0.17",
      "model_name": "LeafletMeasureControlModel",
      "state": {
       "_model_module_version": "^0.17",
       "_view_module_version": "^0.17",
       "active_color": "orange",
       "options": [
        "active_color",
        "capture_z_index",
        "completed_color",
        "popup_options",
        "position",
        "primary_area_unit",
        "primary_length_unit",
        "secondary_area_unit",
        "secondary_length_unit"
       ],
       "position": "bottomleft",
       "primary_length_unit": "kilometers",
       "secondary_area_unit": null,
       "secondary_length_unit": null
      }
     },
     "8ccf0b69187d4ac3ad600d1dcdddb1ec": {
      "model_module": "@jupyter-widgets/controls",
      "model_module_version": "2.0.0",
      "model_name": "VBoxModel",
      "state": {
       "_view_count": 1,
       "children": [
        "IPY_MODEL_9593f92c91ba4a11b2092c8fe045897b"
       ],
       "layout": "IPY_MODEL_c1baf79d134847c5813c5c1b54d46de1"
      }
     },
     "8cd9b2b8ee3341d8a7c62a507490ccde": {
      "model_module": "@jupyter-widgets/controls",
      "model_module_version": "2.0.0",
      "model_name": "ToggleButtonStyleModel",
      "state": {
       "description_width": "",
       "font_family": null,
       "font_size": null,
       "font_style": null,
       "font_variant": null,
       "font_weight": null,
       "text_color": null,
       "text_decoration": null
      }
     },
     "8d1efccb9f2c48a0a3c37a359cf71c3b": {
      "model_module": "jupyter-leaflet",
      "model_module_version": "^0.17",
      "model_name": "LeafletMapModel",
      "state": {
       "_model_module_version": "^0.17",
       "_view_module_version": "^0.17",
       "bottom": 199920,
       "center": [
        39.399978753927925,
        -112.63224349999895
       ],
       "controls": [
        "IPY_MODEL_2c8cf2afdb794eff9129fa36fe14f031",
        "IPY_MODEL_0eb0c175cf35464b854c94496889b9ea",
        "IPY_MODEL_daba2893c42b4bc59f4afc12d9151bb6",
        "IPY_MODEL_e64b8cd245c14d529154ec319c4f55bd",
        "IPY_MODEL_36eb59ebd2b3452b80f7fee1738052ef",
        "IPY_MODEL_03dc7a0cf72c4df9b13ad75f19606df7",
        "IPY_MODEL_f06aabd2f97a40ff9ff6d00b9e0c916e",
        "IPY_MODEL_473e2f4aed884c95977ea568859f5181"
       ],
       "default_style": "IPY_MODEL_7897b1ab6490410c9be876df5bb7ca30",
       "dragging_style": "IPY_MODEL_2910b03c03d149f2b57d3cad6149b16c",
       "east": -112.29675292968751,
       "fullscreen": false,
       "interpolation": "bilinear",
       "layers": [
        "IPY_MODEL_8354269f7ab5454cb721a4c06d12a538",
        "IPY_MODEL_42f8b160a39d4297992d3b84ab9f4f50",
        "IPY_MODEL_9ec3f3f4ca4c4fd8880841e72a59a196",
        "IPY_MODEL_cc2e745f639e4b34af8baf7dcfcee599",
        "IPY_MODEL_c960b6689a054abf8662cb0a78f389e2",
        "IPY_MODEL_bd6c4ccb3cb84a4780eb535ce9f2cd4c"
       ],
       "layout": "IPY_MODEL_cc9b5956f9114eaf83ffeffb175c7be9",
       "left": 97622,
       "max_zoom": 24,
       "modisdate": "2024-03-11",
       "north": 39.55911824217187,
       "options": [
        "bounce_at_zoom_limits",
        "box_zoom",
        "center",
        "close_popup_on_click",
        "double_click_zoom",
        "dragging",
        "fullscreen",
        "inertia",
        "inertia_deceleration",
        "inertia_max_speed",
        "interpolation",
        "keyboard",
        "keyboard_pan_offset",
        "keyboard_zoom_offset",
        "max_zoom",
        "min_zoom",
        "prefer_canvas",
        "scroll_wheel_zoom",
        "tap",
        "tap_tolerance",
        "touch_zoom",
        "world_copy_jump",
        "zoom",
        "zoom_animation_threshold",
        "zoom_delta",
        "zoom_snap"
       ],
       "prefer_canvas": false,
       "right": 98600,
       "scroll_wheel_zoom": true,
       "south": 39.2407625100131,
       "style": "IPY_MODEL_78bf0d5c0a9c4de7a3cf76e62d257628",
       "top": 199320,
       "west": -112.96829223632814,
       "window_url": "https://jupyterhub.cuahsi.org/user/torresrua/lab/tree/courses/Machine-Learning-Applications-in-Remote-Sensing-Data/Step_1.ipynb",
       "zoom": 11
      }
     },
     "8d3df1cd6bb645a28ffa20f9b41d2b64": {
      "model_module": "jupyter-leaflet",
      "model_module_version": "^0.17",
      "model_name": "LeafletMapStyleModel",
      "state": {
       "_model_module_version": "^0.17"
      }
     },
     "8d450be7e21546a0bd7b05dac046336b": {
      "model_module": "@jupyter-widgets/controls",
      "model_module_version": "2.0.0",
      "model_name": "ToggleButtonStyleModel",
      "state": {
       "description_width": "",
       "font_family": null,
       "font_size": null,
       "font_style": null,
       "font_variant": null,
       "font_weight": null,
       "text_color": null,
       "text_decoration": null
      }
     },
     "8d55793ce9774b84bb3cdda8838af1cb": {
      "model_module": "@jupyter-widgets/controls",
      "model_module_version": "2.0.0",
      "model_name": "ToggleButtonModel",
      "state": {
       "button_style": "primary",
       "icon": "retweet",
       "layout": "IPY_MODEL_ae31f650018748b198011dc1916eed94",
       "style": "IPY_MODEL_e14eaf555f094e62aee9ae2e9e89c708",
       "tooltip": "Convert Earth Engine JavaScript to Python"
      }
     },
     "8d96a8a137834db1800cde42e8505a33": {
      "model_module": "@jupyter-widgets/base",
      "model_module_version": "2.0.0",
      "model_name": "LayoutModel",
      "state": {
       "height": "auto",
       "padding": "0px 0px 0px 4px",
       "width": "auto"
      }
     },
     "8dd5f5c69d564e55a93ecc6e3797273c": {
      "model_module": "@jupyter-widgets/controls",
      "model_module_version": "2.0.0",
      "model_name": "ToggleButtonStyleModel",
      "state": {
       "description_width": "",
       "font_family": null,
       "font_size": null,
       "font_style": null,
       "font_variant": null,
       "font_weight": null,
       "text_color": null,
       "text_decoration": null
      }
     },
     "8ea81f38748c4123b5a8dc568c1d53db": {
      "model_module": "@jupyter-widgets/controls",
      "model_module_version": "2.0.0",
      "model_name": "ToggleButtonModel",
      "state": {
       "button_style": "primary",
       "icon": "info-circle",
       "layout": "IPY_MODEL_db25ccb0417d4c6ea7312ba0d48c05c9",
       "style": "IPY_MODEL_a4e851a89d2c4e3588dec8c085048eb7",
       "tooltip": "Get COG/STAC pixel value"
      }
     },
     "8f280af44ea647a59b2ec12e12ff31f2": {
      "model_module": "jupyter-leaflet",
      "model_module_version": "^0.17",
      "model_name": "LeafletMapStyleModel",
      "state": {
       "_model_module_version": "^0.17"
      }
     },
     "8f31f5ef5aaf4a8d8082f07f2159b85b": {
      "model_module": "@jupyter-widgets/base",
      "model_module_version": "2.0.0",
      "model_name": "LayoutModel",
      "state": {}
     },
     "8f3b0996dbbb4281ad3a3d7a53327eb2": {
      "model_module": "@jupyter-widgets/controls",
      "model_module_version": "2.0.0",
      "model_name": "ToggleButtonModel",
      "state": {
       "icon": "wrench",
       "layout": "IPY_MODEL_c09650bbcac848a1a23633827485ae76",
       "style": "IPY_MODEL_0febd3b1eaca4df3856a71e7996d1294",
       "tooltip": "Toolbar"
      }
     },
     "8fb9cf3559434421be36dda0d4d0773b": {
      "model_module": "@jupyter-widgets/controls",
      "model_module_version": "2.0.0",
      "model_name": "ToggleButtonStyleModel",
      "state": {
       "description_width": "",
       "font_family": null,
       "font_size": null,
       "font_style": null,
       "font_variant": null,
       "font_weight": null,
       "text_color": null,
       "text_decoration": null
      }
     },
     "8fd80f6f09ba46aba485ab861c044c23": {
      "model_module": "@jupyter-widgets/controls",
      "model_module_version": "2.0.0",
      "model_name": "ToggleButtonStyleModel",
      "state": {
       "description_width": "",
       "font_family": null,
       "font_size": null,
       "font_style": null,
       "font_variant": null,
       "font_weight": null,
       "text_color": null,
       "text_decoration": null
      }
     },
     "90f1ff90d7694007859f65e8e0f45e86": {
      "model_module": "@jupyter-widgets/base",
      "model_module_version": "2.0.0",
      "model_name": "LayoutModel",
      "state": {}
     },
     "9155548890134a67ae08f19908b79aef": {
      "model_module": "@jupyter-widgets/controls",
      "model_module_version": "2.0.0",
      "model_name": "ButtonStyleModel",
      "state": {
       "font_family": null,
       "font_size": null,
       "font_style": null,
       "font_variant": null,
       "font_weight": null,
       "text_color": null,
       "text_decoration": null
      }
     },
     "918adfaa2fec4d9e8fbeb0b84d7bc8d7": {
      "model_module": "@jupyter-widgets/base",
      "model_module_version": "2.0.0",
      "model_name": "LayoutModel",
      "state": {
       "height": "auto",
       "padding": "0px 0px 0px 4px",
       "width": "auto"
      }
     },
     "919e50d6d1fe4bb0a07452a3b8ddfad8": {
      "model_module": "@jupyter-widgets/controls",
      "model_module_version": "2.0.0",
      "model_name": "HBoxModel",
      "state": {
       "_view_count": 1,
       "children": [
        "IPY_MODEL_02b74d8e7d724e7b9ccd3b876118035d"
       ],
       "layout": "IPY_MODEL_a9a2900d787b4c829ba8e18893c87819"
      }
     },
     "91a2f028828c4987803243c4ccb66242": {
      "model_module": "@jupyter-widgets/controls",
      "model_module_version": "2.0.0",
      "model_name": "ToggleButtonModel",
      "state": {
       "button_style": "primary",
       "icon": "adjust",
       "layout": "IPY_MODEL_8a444062f6b940d18576c41ec2a12f5f",
       "style": "IPY_MODEL_84787df8b7dd4a0d859adfbbee0c7a64",
       "tooltip": "Planet imagery"
      }
     },
     "91e458635b65417c9d319404ae50afc4": {
      "model_module": "@jupyter-widgets/controls",
      "model_module_version": "2.0.0",
      "model_name": "ToggleButtonModel",
      "state": {
       "button_style": "primary",
       "icon": "line-chart",
       "layout": "IPY_MODEL_69f497c1bc7c43ae9166945f712fd11a",
       "style": "IPY_MODEL_d5120b3690b641e68206f3adcca965f5",
       "tooltip": "Creating and plotting transects"
      }
     },
     "9204742609864c0794d5bb479cdcffc9": {
      "model_module": "jupyter-leaflet",
      "model_module_version": "^0.17",
      "model_name": "LeafletMapStyleModel",
      "state": {
       "_model_module_version": "^0.17"
      }
     },
     "9218e15419b144fa86e6059cd5a868a4": {
      "model_module": "@jupyter-widgets/controls",
      "model_module_version": "2.0.0",
      "model_name": "ToggleButtonStyleModel",
      "state": {
       "description_width": "",
       "font_family": null,
       "font_size": null,
       "font_style": null,
       "font_variant": null,
       "font_weight": null,
       "text_color": null,
       "text_decoration": null
      }
     },
     "925aacf6a5094fb28692aba207d5e82c": {
      "model_module": "@jupyter-widgets/controls",
      "model_module_version": "2.0.0",
      "model_name": "ToggleButtonStyleModel",
      "state": {
       "description_width": "",
       "font_family": null,
       "font_size": null,
       "font_style": null,
       "font_variant": null,
       "font_weight": null,
       "text_color": null,
       "text_decoration": null
      }
     },
     "9260c7bd155a462cb945704e2a7fb134": {
      "model_module": "jupyter-leaflet",
      "model_module_version": "^0.17",
      "model_name": "LeafletMapStyleModel",
      "state": {
       "_model_module_version": "^0.17",
       "cursor": "move"
      }
     },
     "927d27e3230f402a83f4122d72af082d": {
      "model_module": "@jupyter-widgets/controls",
      "model_module_version": "2.0.0",
      "model_name": "ToggleButtonStyleModel",
      "state": {
       "description_width": "",
       "font_family": null,
       "font_size": null,
       "font_style": null,
       "font_variant": null,
       "font_weight": null,
       "text_color": null,
       "text_decoration": null
      }
     },
     "92badda28a6f419695b3618382953f19": {
      "model_module": "@jupyter-widgets/controls",
      "model_module_version": "2.0.0",
      "model_name": "ToggleButtonModel",
      "state": {
       "button_style": "primary",
       "icon": "folder-open",
       "layout": "IPY_MODEL_604050bc33e04155b9e22bc0c46189c4",
       "style": "IPY_MODEL_005a324f677c461b8c8b63925aab6fd6",
       "tooltip": "Open local vector/raster data"
      }
     },
     "92c5fa2b29eb49a6a1eb7d23f6c4c8f7": {
      "model_module": "@jupyter-widgets/controls",
      "model_module_version": "2.0.0",
      "model_name": "HBoxModel",
      "state": {
       "_view_count": 1,
       "children": [
        "IPY_MODEL_e4bb4847195147d092463f19f2deb339"
       ],
       "layout": "IPY_MODEL_42395be588a448079a5fd9aae1d3d0c4"
      }
     },
     "92fa2aee3ad04ec19758c9742141a37b": {
      "model_module": "@jupyter-widgets/base",
      "model_module_version": "2.0.0",
      "model_name": "LayoutModel",
      "state": {
       "grid_gap": "1px 1px",
       "grid_template_columns": "32px 32px 32px ",
       "grid_template_rows": "32px 32px ",
       "padding": "5px",
       "width": "109px"
      }
     },
     "931dd1ab7089453f8ac8bf75ab4dc60e": {
      "model_module": "@jupyter-widgets/controls",
      "model_module_version": "2.0.0",
      "model_name": "ToggleButtonModel",
      "state": {
       "button_style": "primary",
       "icon": "adjust",
       "layout": "IPY_MODEL_4e4124f723ea470bb96fde14957d641d",
       "style": "IPY_MODEL_b7153acb24614b8d9673f8f063fa511e",
       "tooltip": "Planet imagery"
      }
     },
     "937e0da7ad2a467dab10abc007f0ecaa": {
      "model_module": "@jupyter-widgets/base",
      "model_module_version": "2.0.0",
      "model_name": "LayoutModel",
      "state": {
       "height": "auto",
       "padding": "0px 0px 0px 4px",
       "width": "auto"
      }
     },
     "93c561726cc64482bf51e8575c686bd6": {
      "model_module": "jupyter-leaflet",
      "model_module_version": "^0.17",
      "model_name": "LeafletZoomControlModel",
      "state": {
       "_model_module_version": "^0.17",
       "_view_module_version": "^0.17",
       "options": [
        "position",
        "zoom_in_text",
        "zoom_in_title",
        "zoom_out_text",
        "zoom_out_title"
       ]
      }
     },
     "940369228ca84c4dbc5fb0b8aa64d2b6": {
      "model_module": "jupyter-leaflet",
      "model_module_version": "^0.17",
      "model_name": "LeafletMapStyleModel",
      "state": {
       "_model_module_version": "^0.17"
      }
     },
     "945a1c3bd91d43088e955734431f6cb6": {
      "model_module": "@jupyter-widgets/controls",
      "model_module_version": "2.0.0",
      "model_name": "HBoxModel",
      "state": {
       "_view_count": 1,
       "children": [
        "IPY_MODEL_f0b4af7654d04d77b97e8a45e055eab9"
       ],
       "layout": "IPY_MODEL_953aaaf08cb945dd89fa08762c714f7c"
      }
     },
     "9513193f861b429bb284f71d5e7a58a7": {
      "model_module": "jupyter-leaflet",
      "model_module_version": "^0.17",
      "model_name": "LeafletMapModel",
      "state": {
       "_model_module_version": "^0.17",
       "_view_module_version": "^0.17",
       "bottom": 25368,
       "center": [
        38.90616239179155,
        -112.38476873624566
       ],
       "controls": [
        "IPY_MODEL_8b8baa7c21854076a9a94fc717a4b6b0",
        "IPY_MODEL_4ad78cda910248429ff058379e8d7110",
        "IPY_MODEL_cfd30676f4c943478f8c71a30f5198a0",
        "IPY_MODEL_d521493165254e48b598b3c4cf2d4c92",
        "IPY_MODEL_bf87d54717fd452ca600c325ad5f2b36",
        "IPY_MODEL_3f2de33fc747426e8e50cbf0b20a8c05",
        "IPY_MODEL_216951b842004b149338491b61525885",
        "IPY_MODEL_1249b5b36c1b49f085982d33f4bd64ec"
       ],
       "default_style": "IPY_MODEL_8b27fcab7d3b46cebf5327ac25085cc9",
       "dragging_style": "IPY_MODEL_45f5b97b8e5e4cb7b1ea4de872369586",
       "east": -109.69848632812501,
       "fullscreen": false,
       "interpolation": "bilinear",
       "layers": [
        "IPY_MODEL_ad0514835ec44a52b2db7b1c338ced77",
        "IPY_MODEL_5d026da6a97841698bc1210f8bfacd0c",
        "IPY_MODEL_3c6412ba09604ae0a06bfa026fa431cb",
        "IPY_MODEL_26e73e2fa7b74b2f9e5f49e1a3fa4b6e",
        "IPY_MODEL_a347d4061ff94d5d89b6d4911487db2a",
        "IPY_MODEL_bd1dd4dcb1ed488a84ad1e664febac52"
       ],
       "layout": "IPY_MODEL_21f356c6efdc46dea021f5e6d38c5e5e",
       "left": 11820,
       "max_zoom": 24,
       "modisdate": "2024-03-11",
       "north": 40.17887331434698,
       "options": [
        "bounce_at_zoom_limits",
        "box_zoom",
        "center",
        "close_popup_on_click",
        "double_click_zoom",
        "dragging",
        "fullscreen",
        "inertia",
        "inertia_deceleration",
        "inertia_max_speed",
        "interpolation",
        "keyboard",
        "keyboard_pan_offset",
        "keyboard_zoom_offset",
        "max_zoom",
        "min_zoom",
        "prefer_canvas",
        "scroll_wheel_zoom",
        "tap",
        "tap_tolerance",
        "touch_zoom",
        "world_copy_jump",
        "zoom",
        "zoom_animation_threshold",
        "zoom_delta",
        "zoom_snap"
       ],
       "prefer_canvas": false,
       "right": 12798,
       "scroll_wheel_zoom": true,
       "south": 37.61423141542417,
       "style": "IPY_MODEL_31e35342f0ce4714951d55e4f0dd5ae0",
       "top": 24768,
       "west": -115.07080078125001,
       "window_url": "https://jupyterhub.cuahsi.org/user/torresrua/lab/tree/courses/Machine-Learning-Applications-in-Remote-Sensing-Data/Step_1.ipynb",
       "zoom": 8
      }
     },
     "953aaaf08cb945dd89fa08762c714f7c": {
      "model_module": "@jupyter-widgets/base",
      "model_module_version": "2.0.0",
      "model_name": "LayoutModel",
      "state": {}
     },
     "955d78634f2641f28f2463cd60bae1b0": {
      "model_module": "@jupyter-widgets/controls",
      "model_module_version": "2.0.0",
      "model_name": "ToggleButtonModel",
      "state": {
       "icon": "globe",
       "layout": "IPY_MODEL_41b0e556b2de4a068894bc5e7f503a82",
       "style": "IPY_MODEL_743229d620a04a718e8619da25c802d0",
       "tooltip": "Search location/data"
      }
     },
     "95929e1bb76f4db895d4575f20bb5504": {
      "model_module": "@jupyter-widgets/base",
      "model_module_version": "2.0.0",
      "model_name": "LayoutModel",
      "state": {
       "height": "auto",
       "padding": "0px 0px 0px 4px",
       "width": "auto"
      }
     },
     "9593f92c91ba4a11b2092c8fe045897b": {
      "model_module": "@jupyter-widgets/controls",
      "model_module_version": "2.0.0",
      "model_name": "ToggleButtonModel",
      "state": {
       "icon": "wrench",
       "layout": "IPY_MODEL_48cdadee7cb04ab68d5c6abaee89c193",
       "style": "IPY_MODEL_dc91df3ae5d2478bbea564f5447374cd",
       "tooltip": "Toolbar"
      }
     },
     "95ca0bc277e049c6a4e81172bf800f4e": {
      "model_module": "@jupyter-widgets/base",
      "model_module_version": "2.0.0",
      "model_name": "LayoutModel",
      "state": {
       "height": "auto",
       "padding": "0px 0px 0px 4px",
       "width": "auto"
      }
     },
     "95ceb8a2af3946feb44c8ae625ce4740": {
      "model_module": "@jupyter-widgets/controls",
      "model_module_version": "2.0.0",
      "model_name": "VBoxModel",
      "state": {
       "children": [
        "IPY_MODEL_e1bd23c5d83e4314a5010038b8fcd89f"
       ],
       "layout": "IPY_MODEL_ac6ef66ecd714973ae3bf4e89712b06e"
      }
     },
     "95f3cb5afb5a442380655befc5891a48": {
      "model_module": "@jupyter-widgets/base",
      "model_module_version": "2.0.0",
      "model_name": "LayoutModel",
      "state": {}
     },
     "9601ad8cbf0f4e439359bcb0dbbb83f7": {
      "model_module": "@jupyter-widgets/controls",
      "model_module_version": "2.0.0",
      "model_name": "ToggleButtonStyleModel",
      "state": {
       "description_width": "",
       "font_family": null,
       "font_size": null,
       "font_style": null,
       "font_variant": null,
       "font_weight": null,
       "text_color": null,
       "text_decoration": null
      }
     },
     "9618780f9ccb4fe292e3d87d33943b06": {
      "model_module": "@jupyter-widgets/controls",
      "model_module_version": "2.0.0",
      "model_name": "TextStyleModel",
      "state": {
       "description_width": "",
       "font_size": null,
       "text_color": null
      }
     },
     "96511dd446c44d23bd2da1d37977907b": {
      "model_module": "@jupyter-widgets/controls",
      "model_module_version": "2.0.0",
      "model_name": "ToggleButtonModel",
      "state": {
       "icon": "wrench",
       "layout": "IPY_MODEL_de270e71fe82420b84667daf235ed8f3",
       "style": "IPY_MODEL_4a48920f794d42a2ba10c94956c6f161",
       "tooltip": "Toolbar"
      }
     },
     "967e13357cbc48288ff0dc7d2eaa5d90": {
      "model_module": "jupyter-leaflet",
      "model_module_version": "^0.17",
      "model_name": "LeafletScaleControlModel",
      "state": {
       "_model_module_version": "^0.17",
       "_view_module_version": "^0.17",
       "imperial": true,
       "max_width": 100,
       "metric": true,
       "options": [
        "imperial",
        "max_width",
        "metric",
        "position",
        "update_when_idle"
       ],
       "position": "bottomleft",
       "update_when_idle": false
      }
     },
     "9693573ed2d444deb0d7e13a141958d6": {
      "model_module": "@jupyter-widgets/controls",
      "model_module_version": "2.0.0",
      "model_name": "VBoxModel",
      "state": {
       "children": [
        "IPY_MODEL_72a3623533f64eb8ad0692075f8bcb4a"
       ],
       "layout": "IPY_MODEL_4d20a934f0a54d4e891c4f4ee8f9ae15"
      }
     },
     "970aa0e9560e4ed6aeda73fe98dd8888": {
      "model_module": "@jupyter-widgets/controls",
      "model_module_version": "2.0.0",
      "model_name": "ToggleButtonModel",
      "state": {
       "button_style": "primary",
       "icon": "hand-o-up",
       "layout": "IPY_MODEL_f3151a6d87994cfab3a614cd313e91be",
       "style": "IPY_MODEL_51968016a5094f11841bbb7e7859fe45",
       "tooltip": "Collect training samples"
      }
     },
     "9794dd4fef66430fadb06630eddf41e3": {
      "model_module": "jupyter-leaflet",
      "model_module_version": "^0.17",
      "model_name": "LeafletFullScreenControlModel",
      "state": {
       "_model_module_version": "^0.17",
       "_view_module_version": "^0.17",
       "options": [
        "position"
       ]
      }
     },
     "9798d4f0a7284a4db2fc03220e05ea72": {
      "model_module": "@jupyter-widgets/base",
      "model_module_version": "2.0.0",
      "model_name": "LayoutModel",
      "state": {
       "height": "auto",
       "padding": "0px 0px 0px 4px",
       "width": "auto"
      }
     },
     "981374a11cc346b499f0a63236d3971e": {
      "model_module": "@jupyter-widgets/controls",
      "model_module_version": "2.0.0",
      "model_name": "ToggleButtonModel",
      "state": {
       "button_style": "primary",
       "icon": "hand-o-up",
       "layout": "IPY_MODEL_178080e531f9499891d57f6869b6f466",
       "style": "IPY_MODEL_49783675649f419890e79636ac5cac19",
       "tooltip": "Collect training samples"
      }
     },
     "985eae1563d54d6f81f1e9c6baf8b1c1": {
      "model_module": "jupyter-leaflet",
      "model_module_version": "^0.17",
      "model_name": "LeafletWidgetControlModel",
      "state": {
       "_model_module": "jupyter-leaflet",
       "_model_module_version": "^0.17",
       "_view_count": null,
       "_view_module": "jupyter-leaflet",
       "_view_module_version": "^0.17",
       "options": [
        "position",
        "transparent_bg"
       ],
       "position": "topleft",
       "widget": "IPY_MODEL_003d3ad9923c4db192b04718dcd5bc11"
      }
     },
     "98ac5a6343174460b6318cdab0a86825": {
      "model_module": "jupyter-leaflet",
      "model_module_version": "^0.17",
      "model_name": "LeafletTileLayerModel",
      "state": {
       "_model_module_version": "^0.17",
       "_view_module_version": "^0.17",
       "attribution": "Google Earth Engine",
       "max_zoom": 24,
       "name": "Delta_area",
       "options": [
        "attribution",
        "bounds",
        "detect_retina",
        "max_native_zoom",
        "max_zoom",
        "min_native_zoom",
        "min_zoom",
        "no_wrap",
        "tile_size",
        "tms",
        "zoom_offset"
       ],
       "url": "https://earthengine.googleapis.com/v1/projects/earthengine-legacy/maps/067014612e948b7315565d82ee2e81dd-a0da8d6d2131ef7e5e1ff0f6bf51f931/tiles/{z}/{x}/{y}"
      }
     },
     "98b356db5e7940e3b03cc5845b8cfcad": {
      "model_module": "jupyter-leaflet",
      "model_module_version": "^0.17",
      "model_name": "LeafletScaleControlModel",
      "state": {
       "_model_module_version": "^0.17",
       "_view_module_version": "^0.17",
       "imperial": true,
       "max_width": 100,
       "metric": true,
       "options": [
        "imperial",
        "max_width",
        "metric",
        "position",
        "update_when_idle"
       ],
       "position": "bottomleft",
       "update_when_idle": false
      }
     },
     "99068d5f96a64b1f8e311e7c2adc9d75": {
      "model_module": "jupyter-leaflet",
      "model_module_version": "^0.17",
      "model_name": "LeafletMapModel",
      "state": {
       "_model_module_version": "^0.17",
       "_view_module_version": "^0.17",
       "bottom": 25368,
       "center": [
        38.90616239179155,
        -112.38476873624566
       ],
       "controls": [
        "IPY_MODEL_0a1167331e5f4d01ba1a64319da981d4",
        "IPY_MODEL_d45ca3820d8845a5bf7e49559d9d6eea",
        "IPY_MODEL_1cb41c4769754086a497244114be82e4",
        "IPY_MODEL_141eab42b024403c82bf339b86d90f64",
        "IPY_MODEL_967e13357cbc48288ff0dc7d2eaa5d90",
        "IPY_MODEL_04dc339fe4ab4337b6444a30f73a4d11",
        "IPY_MODEL_f8cd5855f1604633a0656160e7957771",
        "IPY_MODEL_d493b63e6ded47e7ba3a689843f2cc58"
       ],
       "default_style": "IPY_MODEL_9204742609864c0794d5bb479cdcffc9",
       "dragging_style": "IPY_MODEL_803743768ce941058b2a8e311b8d02ca",
       "east": -109.69848632812501,
       "fullscreen": false,
       "interpolation": "bilinear",
       "layers": [
        "IPY_MODEL_11ac3fc24181481cbf82240eadbc11a7",
        "IPY_MODEL_65390f4e0dda47ae8a6943ea80b3909f",
        "IPY_MODEL_804f8d6f94744ed09d21ae8697a3fdb5",
        "IPY_MODEL_2e452d34d9ea4479b43ba5106c933971",
        "IPY_MODEL_010e874f821b4c29aa23f5c5a43be0bc",
        "IPY_MODEL_087875f6f4c04bb0949ba8d1d58d9a02"
       ],
       "layout": "IPY_MODEL_c7f51d3369304445a9110c4be21be422",
       "left": 11820,
       "max_zoom": 24,
       "modisdate": "2024-03-11",
       "north": 40.17887331434698,
       "options": [
        "bounce_at_zoom_limits",
        "box_zoom",
        "center",
        "close_popup_on_click",
        "double_click_zoom",
        "dragging",
        "fullscreen",
        "inertia",
        "inertia_deceleration",
        "inertia_max_speed",
        "interpolation",
        "keyboard",
        "keyboard_pan_offset",
        "keyboard_zoom_offset",
        "max_zoom",
        "min_zoom",
        "prefer_canvas",
        "scroll_wheel_zoom",
        "tap",
        "tap_tolerance",
        "touch_zoom",
        "world_copy_jump",
        "zoom",
        "zoom_animation_threshold",
        "zoom_delta",
        "zoom_snap"
       ],
       "prefer_canvas": false,
       "right": 12798,
       "scroll_wheel_zoom": true,
       "south": 37.61423141542417,
       "style": "IPY_MODEL_f5b339a560e54168b27e321391a8c991",
       "top": 24768,
       "west": -115.07080078125001,
       "window_url": "https://jupyterhub.cuahsi.org/user/torresrua/lab/tree/courses/Machine-Learning-Applications-in-Remote-Sensing-Data/Step_1.ipynb",
       "zoom": 8
      }
     },
     "994686b887eb48b4ad2840c2617d2c68": {
      "model_module": "@jupyter-widgets/base",
      "model_module_version": "2.0.0",
      "model_name": "LayoutModel",
      "state": {
       "max_width": "57px",
       "min_width": "57px"
      }
     },
     "996999e326454e3fba74bab0d2894f84": {
      "model_module": "@jupyter-widgets/controls",
      "model_module_version": "2.0.0",
      "model_name": "ToggleButtonsModel",
      "state": {
       "_options_labels": [
        "name/address",
        "lat-lon",
        "data"
       ],
       "button_style": "",
       "icons": [],
       "index": 0,
       "layout": "IPY_MODEL_8f31f5ef5aaf4a8d8082f07f2159b85b",
       "style": "IPY_MODEL_dbbf2aca50bd4871a13868fc31c4dc59",
       "tooltips": [
        "Search by place name or address",
        "Search by lat-lon coordinates",
        "Search Earth Engine data catalog"
       ]
      }
     },
     "99acdf9252ec4c1c89e7ff4d6a6ce540": {
      "model_module": "@jupyter-widgets/base",
      "model_module_version": "2.0.0",
      "model_name": "LayoutModel",
      "state": {}
     },
     "9a42ee7992624b0388ee58a04fa7443f": {
      "model_module": "@jupyter-widgets/controls",
      "model_module_version": "2.0.0",
      "model_name": "ToggleButtonStyleModel",
      "state": {
       "description_width": "",
       "font_family": null,
       "font_size": null,
       "font_style": null,
       "font_variant": null,
       "font_weight": null,
       "text_color": null,
       "text_decoration": null
      }
     },
     "9ab8a41a55014b73a3d2fee061a6c236": {
      "model_module": "jupyter-leaflet",
      "model_module_version": "^0.17",
      "model_name": "LeafletMapStyleModel",
      "state": {
       "_model_module_version": "^0.17"
      }
     },
     "9b1a56b5da3e4746a75108106af51532": {
      "model_module": "@jupyter-widgets/base",
      "model_module_version": "2.0.0",
      "model_name": "LayoutModel",
      "state": {
       "height": "auto",
       "padding": "0px 0px 0px 4px",
       "width": "auto"
      }
     },
     "9b1dff6a778342988460587163a12ea2": {
      "model_module": "@jupyter-widgets/base",
      "model_module_version": "2.0.0",
      "model_name": "LayoutModel",
      "state": {
       "height": "auto",
       "padding": "0px 0px 0px 4px",
       "width": "auto"
      }
     },
     "9b8063762a5f4207afd7d26765392cc8": {
      "model_module": "@jupyter-widgets/controls",
      "model_module_version": "2.0.0",
      "model_name": "ToggleButtonStyleModel",
      "state": {
       "description_width": "",
       "font_family": null,
       "font_size": null,
       "font_style": null,
       "font_variant": null,
       "font_weight": null,
       "text_color": null,
       "text_decoration": null
      }
     },
     "9bb150e77c7447aa93913fa3ed7824cb": {
      "model_module": "@jupyter-widgets/controls",
      "model_module_version": "2.0.0",
      "model_name": "ToggleButtonModel",
      "state": {
       "button_style": "primary",
       "icon": "globe",
       "layout": "IPY_MODEL_4870211ec2914937981c6d9ba4d67124",
       "style": "IPY_MODEL_4da70a8d8d744c3f8e38fa7baa91c91e",
       "tooltip": "Create timelapse"
      }
     },
     "9c4247f456d4449e8cfb5b3413b6e748": {
      "model_module": "@jupyter-widgets/base",
      "model_module_version": "2.0.0",
      "model_name": "LayoutModel",
      "state": {
       "height": "auto",
       "padding": "0px 0px 0px 4px",
       "width": "auto"
      }
     },
     "9c56c1b60c8c4977930e787649cd05f1": {
      "model_module": "@jupyter-widgets/base",
      "model_module_version": "2.0.0",
      "model_name": "LayoutModel",
      "state": {
       "height": "auto",
       "padding": "0px 0px 0px 4px",
       "width": "auto"
      }
     },
     "9cc5b273f20a4e79be8cf6aab4146849": {
      "model_module": "@jupyter-widgets/base",
      "model_module_version": "2.0.0",
      "model_name": "LayoutModel",
      "state": {}
     },
     "9d5be733d33946e784256cd67334cd45": {
      "model_module": "@jupyter-widgets/controls",
      "model_module_version": "2.0.0",
      "model_name": "ToggleButtonModel",
      "state": {
       "button_style": "primary",
       "icon": "gears",
       "layout": "IPY_MODEL_c68024d2c56b4580b8b86e810839c0f3",
       "style": "IPY_MODEL_b583759308944568bb6af5d348839ce4",
       "tooltip": "WhiteboxTools for local geoprocessing"
      }
     },
     "9d64c3e52e6949f8b8478343cf5bf3b9": {
      "model_module": "@jupyter-widgets/controls",
      "model_module_version": "2.0.0",
      "model_name": "ToggleButtonModel",
      "state": {
       "button_style": "primary",
       "icon": "adjust",
       "layout": "IPY_MODEL_5aa4874d8ece4e2eb7da75c24002d4a9",
       "style": "IPY_MODEL_dbe87d161e81438b8d3c22ec6f33d847",
       "tooltip": "Planet imagery"
      }
     },
     "9d8cd75e7c4b414bb7c1a115f974eaf8": {
      "model_module": "@jupyter-widgets/base",
      "model_module_version": "2.0.0",
      "model_name": "LayoutModel",
      "state": {}
     },
     "9e9203a108b8416caa3f2e6373b2df55": {
      "model_module": "@jupyter-widgets/controls",
      "model_module_version": "2.0.0",
      "model_name": "HTMLStyleModel",
      "state": {
       "description_width": "",
       "font_size": null,
       "text_color": null
      }
     },
     "9e9ffb9c28294d68a4f798c246eb5c5f": {
      "model_module": "jupyter-leaflet",
      "model_module_version": "^0.17",
      "model_name": "LeafletMeasureControlModel",
      "state": {
       "_model_module_version": "^0.17",
       "_view_module_version": "^0.17",
       "active_color": "orange",
       "options": [
        "active_color",
        "capture_z_index",
        "completed_color",
        "popup_options",
        "position",
        "primary_area_unit",
        "primary_length_unit",
        "secondary_area_unit",
        "secondary_length_unit"
       ],
       "position": "bottomleft",
       "primary_length_unit": "kilometers",
       "secondary_area_unit": null,
       "secondary_length_unit": null
      }
     },
     "9ea74d2c874f40faa738624d001af490": {
      "model_module": "@jupyter-widgets/base",
      "model_module_version": "2.0.0",
      "model_name": "LayoutModel",
      "state": {
       "max_width": "57px",
       "min_width": "57px"
      }
     },
     "9eb23c24d7cb43a3911650671fb7dc11": {
      "model_module": "@jupyter-widgets/controls",
      "model_module_version": "2.0.0",
      "model_name": "ButtonStyleModel",
      "state": {
       "font_family": null,
       "font_size": null,
       "font_style": null,
       "font_variant": null,
       "font_weight": null,
       "text_color": null,
       "text_decoration": null
      }
     },
     "9ec3f3f4ca4c4fd8880841e72a59a196": {
      "model_module": "jupyter-leaflet",
      "model_module_version": "^0.17",
      "model_name": "LeafletTileLayerModel",
      "state": {
       "_model_module_version": "^0.17",
       "_view_module_version": "^0.17",
       "attribution": "Google Earth Engine",
       "max_zoom": 24,
       "name": "landsat7_may_13_clipped",
       "options": [
        "attribution",
        "bounds",
        "detect_retina",
        "max_native_zoom",
        "max_zoom",
        "min_native_zoom",
        "min_zoom",
        "no_wrap",
        "tile_size",
        "tms",
        "zoom_offset"
       ],
       "url": "https://earthengine.googleapis.com/v1/projects/earthengine-legacy/maps/b98cd2d6f3b2261d186e3a84b2e71155-bfb0138a8e00618821406e2567acaf90/tiles/{z}/{x}/{y}"
      }
     },
     "9f222c5c36d146739684a8d627941cb6": {
      "model_module": "@jupyter-widgets/base",
      "model_module_version": "2.0.0",
      "model_name": "LayoutModel",
      "state": {
       "max_height": "350px",
       "max_width": "340px",
       "overflow": "scroll"
      }
     },
     "9f27691e67014302bde808c7ac61b1cf": {
      "model_module": "@jupyter-widgets/base",
      "model_module_version": "2.0.0",
      "model_name": "LayoutModel",
      "state": {
       "height": "auto",
       "padding": "0px 0px 0px 4px",
       "width": "auto"
      }
     },
     "9fa63248d74347909ad4fa62da5a5d4d": {
      "model_module": "@jupyter-widgets/base",
      "model_module_version": "2.0.0",
      "model_name": "LayoutModel",
      "state": {}
     },
     "9fbdfeba1eeb435fa710d94e41e053aa": {
      "model_module": "@jupyter-widgets/controls",
      "model_module_version": "2.0.0",
      "model_name": "ToggleButtonStyleModel",
      "state": {
       "description_width": "",
       "font_family": null,
       "font_size": null,
       "font_style": null,
       "font_variant": null,
       "font_weight": null,
       "text_color": null,
       "text_decoration": null
      }
     },
     "a03a915deb95420cb3bd9fb3ee9d35f9": {
      "model_module": "@jupyter-widgets/controls",
      "model_module_version": "2.0.0",
      "model_name": "DescriptionStyleModel",
      "state": {
       "description_width": ""
      }
     },
     "a03cd97dd6284ab8b98fea7e47a67b94": {
      "model_module": "@jupyter-widgets/controls",
      "model_module_version": "2.0.0",
      "model_name": "HBoxModel",
      "state": {
       "_view_count": 1,
       "children": [
        "IPY_MODEL_c07b40223786412b9fe3a39434a3f451"
       ],
       "layout": "IPY_MODEL_e8ea5663bf7c4f69a4f3f3074deffc66"
      }
     },
     "a0b9553a260a4a528e760eedac8b0031": {
      "model_module": "@jupyter-widgets/controls",
      "model_module_version": "2.0.0",
      "model_name": "ButtonStyleModel",
      "state": {
       "font_family": null,
       "font_size": null,
       "font_style": null,
       "font_variant": null,
       "font_weight": null,
       "text_color": null,
       "text_decoration": null
      }
     },
     "a0e11862093c481cb107db22439d4a9e": {
      "model_module": "ipyevents",
      "model_module_version": "2.0.2",
      "model_name": "EventModel",
      "state": {
       "_supported_key_events": [
        "keydown",
        "keyup"
       ],
       "_supported_mouse_events": [
        "click",
        "auxclick",
        "dblclick",
        "mouseenter",
        "mouseleave",
        "mousedown",
        "mouseup",
        "mousemove",
        "wheel",
        "contextmenu",
        "dragstart",
        "drag",
        "dragend",
        "dragenter",
        "dragover",
        "dragleave",
        "drop"
       ],
       "_supported_touch_events": [
        "touchstart",
        "touchend",
        "touchmove",
        "touchcancel"
       ],
       "_view_module": "@jupyter-widgets/controls",
       "source": "IPY_MODEL_beaf1b924c9f4c45b8e07e77aee7410e",
       "throttle_or_debounce": "",
       "watched_events": [
        "mouseenter",
        "mouseleave"
       ],
       "xy_coordinate_system": ""
      }
     },
     "a0fc3d69c9c148cbbafa421eb22cff01": {
      "model_module": "jupyter-leaflet",
      "model_module_version": "^0.17",
      "model_name": "LeafletScaleControlModel",
      "state": {
       "_model_module_version": "^0.17",
       "_view_module_version": "^0.17",
       "imperial": true,
       "max_width": 100,
       "metric": true,
       "options": [
        "imperial",
        "max_width",
        "metric",
        "position",
        "update_when_idle"
       ],
       "position": "bottomleft",
       "update_when_idle": false
      }
     },
     "a17f956b9f124ac0b9e9eedb432d6654": {
      "model_module": "@jupyter-widgets/base",
      "model_module_version": "2.0.0",
      "model_name": "LayoutModel",
      "state": {
       "height": "auto",
       "padding": "0px 0px 0px 4px",
       "width": "auto"
      }
     },
     "a1b84ae4aeb744bcb12e10f0d92f3fc3": {
      "model_module": "@jupyter-widgets/base",
      "model_module_version": "2.0.0",
      "model_name": "LayoutModel",
      "state": {}
     },
     "a267bf5ee49d418fa893a7dc0f27b42b": {
      "model_module": "@jupyter-widgets/controls",
      "model_module_version": "2.0.0",
      "model_name": "ToggleButtonModel",
      "state": {
       "button_style": "primary",
       "icon": "retweet",
       "layout": "IPY_MODEL_937e0da7ad2a467dab10abc007f0ecaa",
       "style": "IPY_MODEL_bd13c52388434cfda595a0b2cffd4198",
       "tooltip": "Convert Earth Engine JavaScript to Python"
      }
     },
     "a2c0716b033a44d2962408aa23d9f0ca": {
      "model_module": "@jupyter-widgets/controls",
      "model_module_version": "2.0.0",
      "model_name": "ToggleButtonModel",
      "state": {
       "icon": "wrench",
       "layout": "IPY_MODEL_64f15445bcb54c51ad501ff7d0af6565",
       "style": "IPY_MODEL_8fb9cf3559434421be36dda0d4d0773b",
       "tooltip": "Toolbar"
      }
     },
     "a3298e615204489ea4233c490201d575": {
      "model_module": "jupyter-leaflet",
      "model_module_version": "^0.17",
      "model_name": "LeafletMapModel",
      "state": {
       "_model_module_version": "^0.17",
       "_view_module_version": "^0.17",
       "bottom": 199920,
       "center": [
        39.399978753927925,
        -112.63224349999895
       ],
       "controls": [
        "IPY_MODEL_e55dfb51632a4a1db95d184e01c9c782",
        "IPY_MODEL_2ce8b8e1dc704fd9975bf35f73512eb4",
        "IPY_MODEL_009d0f6226234a6d9bde542db66b2596",
        "IPY_MODEL_28d1ad4af3804cfb83565c83e887e780",
        "IPY_MODEL_98b356db5e7940e3b03cc5845b8cfcad",
        "IPY_MODEL_18f39ebcaa0e4da58dbbbd78ea8ec9da",
        "IPY_MODEL_f9063ec430b2445eb57407dd052ceb52",
        "IPY_MODEL_de460cda5a3f418a8350580b96d6dd5a"
       ],
       "default_style": "IPY_MODEL_77e299094a354c0c90a0c5da8ee47cab",
       "dragging_style": "IPY_MODEL_e9c5fffc28874e668144a6418a1af215",
       "east": -112.29675292968751,
       "fullscreen": false,
       "interpolation": "bilinear",
       "layers": [
        "IPY_MODEL_031ea813291e4dedad086c73176f1391",
        "IPY_MODEL_78c58fbe9c3b4d5ab8015e206f3c527c",
        "IPY_MODEL_7d3469e89a2749bcb3c4a23fc353d973"
       ],
       "layout": "IPY_MODEL_a9eff7918da84786aac1c91dfa11bd51",
       "left": 97622,
       "max_zoom": 24,
       "modisdate": "2024-03-11",
       "north": 39.55911824217187,
       "options": [
        "bounce_at_zoom_limits",
        "box_zoom",
        "center",
        "close_popup_on_click",
        "double_click_zoom",
        "dragging",
        "fullscreen",
        "inertia",
        "inertia_deceleration",
        "inertia_max_speed",
        "interpolation",
        "keyboard",
        "keyboard_pan_offset",
        "keyboard_zoom_offset",
        "max_zoom",
        "min_zoom",
        "prefer_canvas",
        "scroll_wheel_zoom",
        "tap",
        "tap_tolerance",
        "touch_zoom",
        "world_copy_jump",
        "zoom",
        "zoom_animation_threshold",
        "zoom_delta",
        "zoom_snap"
       ],
       "prefer_canvas": false,
       "right": 98600,
       "scroll_wheel_zoom": true,
       "south": 39.2407625100131,
       "style": "IPY_MODEL_f1d52d6eaebf488881c5c1998ba705a2",
       "top": 199320,
       "west": -112.96829223632814,
       "window_url": "https://jupyterhub.cuahsi.org/user/torresrua/lab/tree/courses/Machine-Learning-Applications-in-Remote-Sensing-Data/Step_1.ipynb",
       "zoom": 11
      }
     },
     "a347d4061ff94d5d89b6d4911487db2a": {
      "model_module": "jupyter-leaflet",
      "model_module_version": "^0.17",
      "model_name": "LeafletTileLayerModel",
      "state": {
       "_model_module_version": "^0.17",
       "_view_module_version": "^0.17",
       "attribution": "Google Earth Engine",
       "max_zoom": 24,
       "name": "landsat7_jun_14",
       "options": [
        "attribution",
        "bounds",
        "detect_retina",
        "max_native_zoom",
        "max_zoom",
        "min_native_zoom",
        "min_zoom",
        "no_wrap",
        "tile_size",
        "tms",
        "zoom_offset"
       ],
       "url": "https://earthengine.googleapis.com/v1/projects/earthengine-legacy/maps/3ccba73d9094b762d4b619d492b31806-0e5873f48081ac1730f57215c6e9f1b0/tiles/{z}/{x}/{y}"
      }
     },
     "a3495936596d489eacba886c1db6d435": {
      "model_module": "@jupyter-widgets/controls",
      "model_module_version": "2.0.0",
      "model_name": "ToggleButtonStyleModel",
      "state": {
       "description_width": "",
       "font_family": null,
       "font_size": null,
       "font_style": null,
       "font_variant": null,
       "font_weight": null,
       "text_color": null,
       "text_decoration": null
      }
     },
     "a4056140d54645f9830d3bd9e03e52bc": {
      "model_module": "@jupyter-widgets/controls",
      "model_module_version": "2.0.0",
      "model_name": "VBoxModel",
      "state": {
       "_view_count": 1,
       "children": [
        "IPY_MODEL_489bcdc1a5d646798247439a70ac3738"
       ],
       "layout": "IPY_MODEL_3ae56cc4303a4180bbd1fa0462088146"
      }
     },
     "a44d5096c9f14a05843c40a77a5a814c": {
      "model_module": "@jupyter-widgets/controls",
      "model_module_version": "2.0.0",
      "model_name": "ToggleButtonModel",
      "state": {
       "button_style": "primary",
       "icon": "retweet",
       "layout": "IPY_MODEL_1af6a43402f94c53a4b5f18d024f5d37",
       "style": "IPY_MODEL_e2ddd4ded92a431e8e8f41856452d785",
       "tooltip": "Convert Earth Engine JavaScript to Python"
      }
     },
     "a4c88bb52db449c8813995f7a161c2da": {
      "model_module": "@jupyter-widgets/controls",
      "model_module_version": "2.0.0",
      "model_name": "ToggleButtonStyleModel",
      "state": {
       "description_width": "",
       "font_family": null,
       "font_size": null,
       "font_style": null,
       "font_variant": null,
       "font_weight": null,
       "text_color": null,
       "text_decoration": null
      }
     },
     "a4d528919ecb49719678573dc07f49ae": {
      "model_module": "jupyter-leaflet",
      "model_module_version": "^0.17",
      "model_name": "LeafletTileLayerModel",
      "state": {
       "_model_module_version": "^0.17",
       "_view_module_version": "^0.17",
       "attribution": "Google",
       "max_zoom": 24,
       "name": "Google Maps",
       "options": [
        "attribution",
        "bounds",
        "detect_retina",
        "max_native_zoom",
        "max_zoom",
        "min_native_zoom",
        "min_zoom",
        "no_wrap",
        "tile_size",
        "tms",
        "zoom_offset"
       ],
       "url": "https://mt1.google.com/vt/lyrs=m&x={x}&y={y}&z={z}"
      }
     },
     "a4e851a89d2c4e3588dec8c085048eb7": {
      "model_module": "@jupyter-widgets/controls",
      "model_module_version": "2.0.0",
      "model_name": "ToggleButtonStyleModel",
      "state": {
       "description_width": "",
       "font_family": null,
       "font_size": null,
       "font_style": null,
       "font_variant": null,
       "font_weight": null,
       "text_color": null,
       "text_decoration": null
      }
     },
     "a4eae6d7cb5f467b8b94588b27e17432": {
      "model_module": "@jupyter-widgets/controls",
      "model_module_version": "2.0.0",
      "model_name": "ToggleButtonStyleModel",
      "state": {
       "description_width": "",
       "font_family": null,
       "font_size": null,
       "font_style": null,
       "font_variant": null,
       "font_weight": null,
       "text_color": null,
       "text_decoration": null
      }
     },
     "a4f15bc6dca84eaaba5ff99e371f32e6": {
      "model_module": "@jupyter-widgets/controls",
      "model_module_version": "2.0.0",
      "model_name": "ToggleButtonStyleModel",
      "state": {
       "description_width": "",
       "font_family": null,
       "font_size": null,
       "font_style": null,
       "font_variant": null,
       "font_weight": null,
       "text_color": null,
       "text_decoration": null
      }
     },
     "a51b1335a4144c509fffcecfefb712ba": {
      "model_module": "@jupyter-widgets/base",
      "model_module_version": "2.0.0",
      "model_name": "LayoutModel",
      "state": {}
     },
     "a590917957344e2e853fed6ee59752da": {
      "model_module": "@jupyter-widgets/controls",
      "model_module_version": "2.0.0",
      "model_name": "ToggleButtonModel",
      "state": {
       "button_style": "primary",
       "icon": "hand-o-up",
       "layout": "IPY_MODEL_9b1dff6a778342988460587163a12ea2",
       "style": "IPY_MODEL_1a868a25562d4782af1c09861b6e8722",
       "tooltip": "Collect training samples"
      }
     },
     "a5d1cb134edc449b9eaa47858c06e6b6": {
      "model_module": "@jupyter-widgets/controls",
      "model_module_version": "2.0.0",
      "model_name": "DropdownModel",
      "state": {
       "index": null,
       "layout": "IPY_MODEL_05196513eba742309037ed4434160083",
       "style": "IPY_MODEL_0d7a1046c2094608a4cff836d21a5eaa"
      }
     },
     "a628313e0da0438583664ca28a14de5b": {
      "model_module": "@jupyter-widgets/base",
      "model_module_version": "2.0.0",
      "model_name": "LayoutModel",
      "state": {
       "height": "auto",
       "padding": "0px 0px 0px 4px",
       "width": "auto"
      }
     },
     "a66391dc6c4a431f905e27e8ee3fff07": {
      "model_module": "@jupyter-widgets/controls",
      "model_module_version": "2.0.0",
      "model_name": "ToggleButtonModel",
      "state": {
       "button_style": "primary",
       "icon": "info",
       "layout": "IPY_MODEL_3c47095f320147ab976f659bc3a80535",
       "style": "IPY_MODEL_7f169ec15f2a43ebb951e573c0cfefee",
       "tooltip": "Inspector"
      }
     },
     "a6e42fc3809a4a6293c6a8513ab19c21": {
      "model_module": "jupyter-leaflet",
      "model_module_version": "^0.17",
      "model_name": "LeafletZoomControlModel",
      "state": {
       "_model_module_version": "^0.17",
       "_view_module_version": "^0.17",
       "options": [
        "position",
        "zoom_in_text",
        "zoom_in_title",
        "zoom_out_text",
        "zoom_out_title"
       ]
      }
     },
     "a6e58c04505e4b94a81e64196a43a40b": {
      "model_module": "@jupyter-widgets/controls",
      "model_module_version": "2.0.0",
      "model_name": "ToggleButtonModel",
      "state": {
       "button_style": "primary",
       "icon": "fast-forward",
       "layout": "IPY_MODEL_38e350fdea3249a9a6c00fc4bac8e484",
       "style": "IPY_MODEL_2957e745317d41a8b06079b82e591b07",
       "tooltip": "Activate timeslider"
      }
     },
     "a6ec1f5d5a4a400f801e4a7a434580e3": {
      "model_module": "@jupyter-widgets/base",
      "model_module_version": "2.0.0",
      "model_name": "LayoutModel",
      "state": {
       "width": "340px"
      }
     },
     "a706c0e68c5d4dbba56895c733c310f5": {
      "model_module": "@jupyter-widgets/controls",
      "model_module_version": "2.0.0",
      "model_name": "HBoxModel",
      "state": {
       "children": [
        "IPY_MODEL_d672f49b40834dc89d80c47cf5dbb9dc",
        "IPY_MODEL_0aeedcaae68546138cde67871b0e0dc5"
       ],
       "layout": "IPY_MODEL_4e89b871327e43568b9161cbe372d78c"
      }
     },
     "a719ad3992b94a73a952a0153aab420f": {
      "model_module": "@jupyter-widgets/base",
      "model_module_version": "2.0.0",
      "model_name": "LayoutModel",
      "state": {
       "max_width": "57px",
       "min_width": "57px"
      }
     },
     "a7a83a0459314281938b4e96a7f25c12": {
      "model_module": "@jupyter-widgets/base",
      "model_module_version": "2.0.0",
      "model_name": "LayoutModel",
      "state": {
       "height": "auto",
       "padding": "0px 0px 0px 4px",
       "width": "auto"
      }
     },
     "a7e795dda6234c8398bb214894625051": {
      "model_module": "jupyter-leaflet",
      "model_module_version": "^0.17",
      "model_name": "LeafletZoomControlModel",
      "state": {
       "_model_module_version": "^0.17",
       "_view_module_version": "^0.17",
       "options": [
        "position",
        "zoom_in_text",
        "zoom_in_title",
        "zoom_out_text",
        "zoom_out_title"
       ]
      }
     },
     "a7fcbe1964ef40cf9a57dfb2600f3e09": {
      "model_module": "@jupyter-widgets/controls",
      "model_module_version": "2.0.0",
      "model_name": "ToggleButtonStyleModel",
      "state": {
       "description_width": "",
       "font_family": null,
       "font_size": null,
       "font_style": null,
       "font_variant": null,
       "font_weight": null,
       "text_color": null,
       "text_decoration": null
      }
     },
     "a82cdd7dd3d943b2853370de43473788": {
      "model_module": "@jupyter-widgets/base",
      "model_module_version": "2.0.0",
      "model_name": "LayoutModel",
      "state": {}
     },
     "a83bffa11c7843cc95a99fe21b005496": {
      "model_module": "@jupyter-widgets/controls",
      "model_module_version": "2.0.0",
      "model_name": "ToggleButtonModel",
      "state": {
       "button_style": "primary",
       "icon": "eraser",
       "layout": "IPY_MODEL_2c58cc52228d4fc79366751e7efad921",
       "style": "IPY_MODEL_f4f330e583d3494cab6c5a153f1424f2",
       "tooltip": "Remove all drawn features"
      }
     },
     "a83efa8be7164a3e9b026f224ee70f42": {
      "model_module": "@jupyter-widgets/controls",
      "model_module_version": "2.0.0",
      "model_name": "ToggleButtonStyleModel",
      "state": {
       "description_width": "",
       "font_family": null,
       "font_size": null,
       "font_style": null,
       "font_variant": null,
       "font_weight": null,
       "text_color": null,
       "text_decoration": null
      }
     },
     "a8768a9f9333426f8d28d4dae1724c33": {
      "model_module": "jupyter-leaflet",
      "model_module_version": "^0.17",
      "model_name": "LeafletMapStyleModel",
      "state": {
       "_model_module_version": "^0.17"
      }
     },
     "a886c6962101468b959b63a656a4e5cb": {
      "model_module": "@jupyter-widgets/controls",
      "model_module_version": "2.0.0",
      "model_name": "ToggleButtonStyleModel",
      "state": {
       "description_width": "",
       "font_family": null,
       "font_size": null,
       "font_style": null,
       "font_variant": null,
       "font_weight": null,
       "text_color": null,
       "text_decoration": null
      }
     },
     "a8a6f9b783f54fb2a7d66af56a8ce0ce": {
      "model_module": "@jupyter-widgets/controls",
      "model_module_version": "2.0.0",
      "model_name": "ButtonStyleModel",
      "state": {
       "font_family": null,
       "font_size": null,
       "font_style": null,
       "font_variant": null,
       "font_weight": null,
       "text_color": null,
       "text_decoration": null
      }
     },
     "a8b1eec14b1f44249d52fcee2393c2b4": {
      "model_module": "@jupyter-widgets/controls",
      "model_module_version": "2.0.0",
      "model_name": "ToggleButtonStyleModel",
      "state": {
       "description_width": "",
       "font_family": null,
       "font_size": null,
       "font_style": null,
       "font_variant": null,
       "font_weight": null,
       "text_color": null,
       "text_decoration": null
      }
     },
     "a8e799ae19a646e091235018a4320692": {
      "model_module": "@jupyter-widgets/base",
      "model_module_version": "2.0.0",
      "model_name": "LayoutModel",
      "state": {
       "height": "28px",
       "width": "72px"
      }
     },
     "a94458b89e4c461c88a8eba39225aae0": {
      "model_module": "@jupyter-widgets/controls",
      "model_module_version": "2.0.0",
      "model_name": "ToggleButtonStyleModel",
      "state": {
       "description_width": "",
       "font_family": null,
       "font_size": null,
       "font_style": null,
       "font_variant": null,
       "font_weight": null,
       "text_color": null,
       "text_decoration": null
      }
     },
     "a945f1b2668c46fc8936870a146e179e": {
      "model_module": "@jupyter-widgets/base",
      "model_module_version": "2.0.0",
      "model_name": "LayoutModel",
      "state": {
       "height": "auto",
       "padding": "0px 0px 0px 4px",
       "width": "auto"
      }
     },
     "a964343d6fff4c75a375a307ab0d41a4": {
      "model_module": "jupyter-leaflet",
      "model_module_version": "^0.17",
      "model_name": "LeafletAttributionControlModel",
      "state": {
       "_model_module_version": "^0.17",
       "_view_module_version": "^0.17",
       "options": [
        "position",
        "prefix"
       ],
       "position": "bottomright",
       "prefix": "ipyleaflet"
      }
     },
     "a978c239ec3b4bbc802949c7653fc02b": {
      "model_module": "@jupyter-widgets/controls",
      "model_module_version": "2.0.0",
      "model_name": "ToggleButtonModel",
      "state": {
       "icon": "server",
       "layout": "IPY_MODEL_3774280d18f74b0ca3052975f0214944",
       "style": "IPY_MODEL_e65431b21246446ca8b6e85af723ea89",
       "tooltip": "Layers"
      }
     },
     "a985e80d968545b79a35b6fb1f396701": {
      "model_module": "jupyter-leaflet",
      "model_module_version": "^0.17",
      "model_name": "LeafletScaleControlModel",
      "state": {
       "_model_module_version": "^0.17",
       "_view_module_version": "^0.17",
       "imperial": true,
       "max_width": 100,
       "metric": true,
       "options": [
        "imperial",
        "max_width",
        "metric",
        "position",
        "update_when_idle"
       ],
       "position": "bottomleft",
       "update_when_idle": false
      }
     },
     "a9a2900d787b4c829ba8e18893c87819": {
      "model_module": "@jupyter-widgets/base",
      "model_module_version": "2.0.0",
      "model_name": "LayoutModel",
      "state": {}
     },
     "a9e9aa07ac7143c188efc61d20357d18": {
      "model_module": "@jupyter-widgets/controls",
      "model_module_version": "2.0.0",
      "model_name": "HTMLStyleModel",
      "state": {
       "description_width": "",
       "font_size": null,
       "text_color": null
      }
     },
     "a9eff7918da84786aac1c91dfa11bd51": {
      "model_module": "@jupyter-widgets/base",
      "model_module_version": "2.0.0",
      "model_name": "LayoutModel",
      "state": {
       "height": "600px"
      }
     },
     "aa04dfc5172d4f839f1f143053fa0326": {
      "model_module": "@jupyter-widgets/controls",
      "model_module_version": "2.0.0",
      "model_name": "ToggleButtonModel",
      "state": {
       "button_style": "primary",
       "icon": "info",
       "layout": "IPY_MODEL_31b4b73e958644ccaf4314429c375f0f",
       "style": "IPY_MODEL_2a9e07b37ad44466b3c7ef9fdab2989f",
       "tooltip": "Inspector"
      }
     },
     "aa162874e5634ab889fdc11363c5399f": {
      "model_module": "@jupyter-widgets/controls",
      "model_module_version": "2.0.0",
      "model_name": "ButtonStyleModel",
      "state": {
       "font_family": null,
       "font_size": null,
       "font_style": null,
       "font_variant": null,
       "font_weight": null,
       "text_color": null,
       "text_decoration": null
      }
     },
     "aa1ebf66d129485d9c786a01311a949e": {
      "model_module": "@jupyter-widgets/base",
      "model_module_version": "2.0.0",
      "model_name": "LayoutModel",
      "state": {
       "height": "auto",
       "padding": "0px 0px 0px 4px",
       "width": "auto"
      }
     },
     "aa8d4c6236554a128b6d68467dad2a98": {
      "model_module": "@jupyter-widgets/controls",
      "model_module_version": "2.0.0",
      "model_name": "ToggleButtonModel",
      "state": {
       "button_style": "primary",
       "icon": "eraser",
       "layout": "IPY_MODEL_2e3c8d922b1b4385961a5d89a8e1e2c0",
       "style": "IPY_MODEL_895f0244d36542f2b0956554a89b03f0",
       "tooltip": "Remove all drawn features"
      }
     },
     "ab00b0ece40e48ba81fd3a2062d9e251": {
      "model_module": "ipyevents",
      "model_module_version": "2.0.2",
      "model_name": "EventModel",
      "state": {
       "_supported_key_events": [
        "keydown",
        "keyup"
       ],
       "_supported_mouse_events": [
        "click",
        "auxclick",
        "dblclick",
        "mouseenter",
        "mouseleave",
        "mousedown",
        "mouseup",
        "mousemove",
        "wheel",
        "contextmenu",
        "dragstart",
        "drag",
        "dragend",
        "dragenter",
        "dragover",
        "dragleave",
        "drop"
       ],
       "_supported_touch_events": [
        "touchstart",
        "touchend",
        "touchmove",
        "touchcancel"
       ],
       "_view_module": "@jupyter-widgets/controls",
       "source": "IPY_MODEL_a4056140d54645f9830d3bd9e03e52bc",
       "throttle_or_debounce": "",
       "watched_events": [
        "mouseenter",
        "mouseleave"
       ],
       "xy_coordinate_system": ""
      }
     },
     "ab24c995fa6f44f68c11a28942ea5451": {
      "model_module": "@jupyter-widgets/controls",
      "model_module_version": "2.0.0",
      "model_name": "TextModel",
      "state": {
       "layout": "IPY_MODEL_cdda0da8b7be4d11aaa75fe0e9f2489f",
       "placeholder": "Search by place name or address",
       "style": "IPY_MODEL_ccc4f1609b0647728384c84862da0bbf",
       "tooltip": "Search location"
      }
     },
     "ab2cef7386b14d57967893432bf1a16f": {
      "model_module": "@jupyter-widgets/controls",
      "model_module_version": "2.0.0",
      "model_name": "ToggleButtonModel",
      "state": {
       "button_style": "primary",
       "icon": "bar-chart",
       "layout": "IPY_MODEL_3853ed7e619a4dc695a2d49115172eee",
       "style": "IPY_MODEL_18a2c7b43a89480a88bba90d545f7e7d",
       "tooltip": "Plotting"
      }
     },
     "abb6284e8f4e46a3ba61e274ffa855fd": {
      "model_module": "@jupyter-widgets/base",
      "model_module_version": "2.0.0",
      "model_name": "LayoutModel",
      "state": {
       "height": "auto",
       "padding": "0px 0px 0px 4px",
       "width": "auto"
      }
     },
     "abf6217e76fa4eecbe358f235be1f986": {
      "model_module": "@jupyter-widgets/controls",
      "model_module_version": "2.0.0",
      "model_name": "ToggleButtonsStyleModel",
      "state": {
       "button_width": "110px",
       "description_width": ""
      }
     },
     "ac15291d4d9349cd936ed3feea0ada85": {
      "model_module": "@jupyter-widgets/controls",
      "model_module_version": "2.0.0",
      "model_name": "ToggleButtonModel",
      "state": {
       "button_style": "primary",
       "icon": "eraser",
       "layout": "IPY_MODEL_cc5dbbca26464129b66ec4b1b437c4b3",
       "style": "IPY_MODEL_dc263435fb384c0cb287f5a08e73fec3",
       "tooltip": "Remove all drawn features"
      }
     },
     "ac31be15d4ef4830b0fe8a613714528b": {
      "model_module": "@jupyter-widgets/controls",
      "model_module_version": "2.0.0",
      "model_name": "ToggleButtonStyleModel",
      "state": {
       "description_width": "",
       "font_family": null,
       "font_size": null,
       "font_style": null,
       "font_variant": null,
       "font_weight": null,
       "text_color": null,
       "text_decoration": null
      }
     },
     "ac3ef49caa634685b350e4e6d05749e2": {
      "model_module": "@jupyter-widgets/controls",
      "model_module_version": "2.0.0",
      "model_name": "ToggleButtonStyleModel",
      "state": {
       "description_width": "",
       "font_family": null,
       "font_size": null,
       "font_style": null,
       "font_variant": null,
       "font_weight": null,
       "text_color": null,
       "text_decoration": null
      }
     },
     "ac5420de277247439417bb2c50abec99": {
      "model_module": "jupyter-leaflet",
      "model_module_version": "^0.17",
      "model_name": "LeafletMapModel",
      "state": {
       "_model_module_version": "^0.17",
       "_view_module_version": "^0.17",
       "bottom": 399526,
       "center": [
        39.4037160204789,
        -112.63575111241983
       ],
       "controls": [
        "IPY_MODEL_c343eab73b4645b99b158758e25896d2",
        "IPY_MODEL_0525a4437a7e4bcbb0d85f5f9c6e19ed",
        "IPY_MODEL_0a0edee616074150b29d693c0de4d0b0",
        "IPY_MODEL_de196982166c46c3bcf23a3e6eae5b76",
        "IPY_MODEL_a0fc3d69c9c148cbbafa421eb22cff01",
        "IPY_MODEL_8c513b32f1ca44fc8bb64817662b0a24",
        "IPY_MODEL_0dcf8c83e45f4b91a472b92f8706ce83",
        "IPY_MODEL_be9dbefff11f479f8e5c7e1964c4a3ad"
       ],
       "default_style": "IPY_MODEL_8d3df1cd6bb645a28ffa20f9b41d2b64",
       "dragging_style": "IPY_MODEL_e4a13e18fbb34628a0ecec3d8c62a7b3",
       "east": -112.46772766113283,
       "fullscreen": false,
       "interpolation": "bilinear",
       "layers": [
        "IPY_MODEL_7a88b0425cfa41c6ae7ba669362f71c6",
        "IPY_MODEL_f10acfd6e86b455ebb029dd6f8dd15ed",
        "IPY_MODEL_48bb0fde51824077817ec7423c1be8d8"
       ],
       "layout": "IPY_MODEL_cfe8fdaf2f0f4a45914371e5297f8f0d",
       "left": 195724,
       "max_zoom": 24,
       "modisdate": "2024-03-11",
       "north": 39.48337536581216,
       "options": [
        "bounce_at_zoom_limits",
        "box_zoom",
        "center",
        "close_popup_on_click",
        "double_click_zoom",
        "dragging",
        "fullscreen",
        "inertia",
        "inertia_deceleration",
        "inertia_max_speed",
        "interpolation",
        "keyboard",
        "keyboard_pan_offset",
        "keyboard_zoom_offset",
        "max_zoom",
        "min_zoom",
        "prefer_canvas",
        "scroll_wheel_zoom",
        "tap",
        "tap_tolerance",
        "touch_zoom",
        "world_copy_jump",
        "zoom",
        "zoom_animation_threshold",
        "zoom_delta",
        "zoom_snap"
       ],
       "prefer_canvas": false,
       "right": 196702,
       "scroll_wheel_zoom": true,
       "south": 39.3242059256878,
       "style": "IPY_MODEL_ea577fc82767406eaa41d7ef31f0dc7d",
       "top": 398926,
       "west": -112.80349731445312,
       "window_url": "https://jupyterhub.cuahsi.org/user/torresrua/lab/tree/courses/Machine-Learning-Applications-in-Remote-Sensing-Data/Step_1.ipynb"
      }
     },
     "ac6ef66ecd714973ae3bf4e89712b06e": {
      "model_module": "@jupyter-widgets/base",
      "model_module_version": "2.0.0",
      "model_name": "LayoutModel",
      "state": {}
     },
     "aca8556c10bf4d869ae559da1f4545d6": {
      "model_module": "@jupyter-widgets/base",
      "model_module_version": "2.0.0",
      "model_name": "LayoutModel",
      "state": {}
     },
     "acf35f36f7d048ecab7a0d7f40bafd8a": {
      "model_module": "@jupyter-widgets/controls",
      "model_module_version": "2.0.0",
      "model_name": "ToggleButtonModel",
      "state": {
       "button_style": "primary",
       "icon": "hand-o-up",
       "layout": "IPY_MODEL_0794a52248d34bc6a98365641cccc872",
       "style": "IPY_MODEL_7836cb0e75a94209919b8c7cdc5f1fd1",
       "tooltip": "Collect training samples"
      }
     },
     "ad0514835ec44a52b2db7b1c338ced77": {
      "model_module": "jupyter-leaflet",
      "model_module_version": "^0.17",
      "model_name": "LeafletTileLayerModel",
      "state": {
       "_model_module_version": "^0.17",
       "_view_module_version": "^0.17",
       "attribution": "&copy; <a href=\"https://www.openstreetmap.org/copyright\">OpenStreetMap</a> contributors",
       "base": true,
       "max_zoom": 19,
       "min_zoom": 1,
       "name": "OpenStreetMap.Mapnik",
       "options": [
        "attribution",
        "bounds",
        "detect_retina",
        "max_native_zoom",
        "max_zoom",
        "min_native_zoom",
        "min_zoom",
        "no_wrap",
        "tile_size",
        "tms",
        "zoom_offset"
       ],
       "url": "https://tile.openstreetmap.org/{z}/{x}/{y}.png"
      }
     },
     "ad119a3a2186456ba4919220ddaba29d": {
      "model_module": "@jupyter-widgets/controls",
      "model_module_version": "2.0.0",
      "model_name": "ToggleButtonStyleModel",
      "state": {
       "description_width": "",
       "font_family": null,
       "font_size": null,
       "font_style": null,
       "font_variant": null,
       "font_weight": null,
       "text_color": null,
       "text_decoration": null
      }
     },
     "ad651cde6b394c779c12de115a742795": {
      "model_module": "ipyevents",
      "model_module_version": "2.0.2",
      "model_name": "EventModel",
      "state": {
       "_supported_key_events": [
        "keydown",
        "keyup"
       ],
       "_supported_mouse_events": [
        "click",
        "auxclick",
        "dblclick",
        "mouseenter",
        "mouseleave",
        "mousedown",
        "mouseup",
        "mousemove",
        "wheel",
        "contextmenu",
        "dragstart",
        "drag",
        "dragend",
        "dragenter",
        "dragover",
        "dragleave",
        "drop"
       ],
       "_supported_touch_events": [
        "touchstart",
        "touchend",
        "touchmove",
        "touchcancel"
       ],
       "_view_module": "@jupyter-widgets/controls",
       "source": "IPY_MODEL_b82f7ffae7934fc8919134dc337705b5",
       "throttle_or_debounce": "",
       "watched_events": [
        "mouseenter",
        "mouseleave"
       ],
       "xy_coordinate_system": ""
      }
     },
     "ad81e39676294edd85aefc8ff0b730cb": {
      "model_module": "@jupyter-widgets/controls",
      "model_module_version": "2.0.0",
      "model_name": "ToggleButtonModel",
      "state": {
       "button_style": "primary",
       "icon": "fast-forward",
       "layout": "IPY_MODEL_3d2742b9acd94785a07927baf5449eac",
       "style": "IPY_MODEL_d79ffe3c59274234bad66b61a73fdb58",
       "tooltip": "Activate timeslider"
      }
     },
     "ad935b077b4f404296c6074873b8f062": {
      "model_module": "@jupyter-widgets/controls",
      "model_module_version": "2.0.0",
      "model_name": "ToggleButtonStyleModel",
      "state": {
       "description_width": "",
       "font_family": null,
       "font_size": null,
       "font_style": null,
       "font_variant": null,
       "font_weight": null,
       "text_color": null,
       "text_decoration": null
      }
     },
     "ad97b2f7138f4a098ab90d0542338c59": {
      "model_module": "jupyter-leaflet",
      "model_module_version": "^0.17",
      "model_name": "LeafletZoomControlModel",
      "state": {
       "_model_module_version": "^0.17",
       "_view_module_version": "^0.17",
       "options": [
        "position",
        "zoom_in_text",
        "zoom_in_title",
        "zoom_out_text",
        "zoom_out_title"
       ]
      }
     },
     "adf6a878acab44349f34ccf68eba5c6e": {
      "model_module": "@jupyter-widgets/controls",
      "model_module_version": "2.0.0",
      "model_name": "ToggleButtonModel",
      "state": {
       "button_style": "primary",
       "icon": "fast-forward",
       "layout": "IPY_MODEL_594a475c2d494b4c892a4f0af0b7bb09",
       "style": "IPY_MODEL_2de8a93b186b406f85184ef64b6c8e5b",
       "tooltip": "Activate timeslider"
      }
     },
     "ae1a8fe06d284813ac9f748265c50a79": {
      "model_module": "@jupyter-widgets/base",
      "model_module_version": "2.0.0",
      "model_name": "LayoutModel",
      "state": {}
     },
     "ae31f650018748b198011dc1916eed94": {
      "model_module": "@jupyter-widgets/base",
      "model_module_version": "2.0.0",
      "model_name": "LayoutModel",
      "state": {
       "height": "auto",
       "padding": "0px 0px 0px 4px",
       "width": "auto"
      }
     },
     "ae3b657a0a574bd8989ac529afb858e1": {
      "model_module": "@jupyter-widgets/controls",
      "model_module_version": "2.0.0",
      "model_name": "ToggleButtonsStyleModel",
      "state": {
       "button_width": "110px",
       "description_width": ""
      }
     },
     "af63eeda0b3344a59984f01417a3256c": {
      "model_module": "jupyter-leaflet",
      "model_module_version": "^0.17",
      "model_name": "LeafletWidgetControlModel",
      "state": {
       "_model_module": "jupyter-leaflet",
       "_model_module_version": "^0.17",
       "_view_count": null,
       "_view_module": "jupyter-leaflet",
       "_view_module_version": "^0.17",
       "options": [
        "position",
        "transparent_bg"
       ],
       "position": "topright",
       "widget": "IPY_MODEL_f0dbc4e1611b4366823cd27c630b2c66"
      }
     },
     "afd2a24cb84a4b37bf0d651b0d5fe9b7": {
      "model_module": "@jupyter-widgets/base",
      "model_module_version": "2.0.0",
      "model_name": "LayoutModel",
      "state": {
       "height": "auto",
       "padding": "0px 0px 0px 4px",
       "width": "auto"
      }
     },
     "b0d32ec063f54d47ad53e8f0027d3a1f": {
      "model_module": "@jupyter-widgets/base",
      "model_module_version": "2.0.0",
      "model_name": "LayoutModel",
      "state": {
       "height": "28px",
       "width": "72px"
      }
     },
     "b0e8201448bf4598a708dd2c3c046a1c": {
      "model_module": "@jupyter-widgets/base",
      "model_module_version": "2.0.0",
      "model_name": "LayoutModel",
      "state": {
       "height": "auto",
       "padding": "0px 0px 0px 4px",
       "width": "auto"
      }
     },
     "b0f2ec4c5523401cbe13893a72efd106": {
      "model_module": "jupyter-leaflet",
      "model_module_version": "^0.17",
      "model_name": "LeafletZoomControlModel",
      "state": {
       "_model_module_version": "^0.17",
       "_view_module_version": "^0.17",
       "options": [
        "position",
        "zoom_in_text",
        "zoom_in_title",
        "zoom_out_text",
        "zoom_out_title"
       ]
      }
     },
     "b1347e66dd4d4b308ddd4b872fb2e438": {
      "model_module": "@jupyter-widgets/controls",
      "model_module_version": "2.0.0",
      "model_name": "ToggleButtonStyleModel",
      "state": {
       "description_width": "",
       "font_family": null,
       "font_size": null,
       "font_style": null,
       "font_variant": null,
       "font_weight": null,
       "text_color": null,
       "text_decoration": null
      }
     },
     "b17dd6ce7e2f4dc898345f7ac873c696": {
      "model_module": "@jupyter-widgets/controls",
      "model_module_version": "2.0.0",
      "model_name": "ToggleButtonStyleModel",
      "state": {
       "description_width": "",
       "font_family": null,
       "font_size": null,
       "font_style": null,
       "font_variant": null,
       "font_weight": null,
       "text_color": null,
       "text_decoration": null
      }
     },
     "b2ffbe9be04740aea754c0d1f79a4b88": {
      "model_module": "@jupyter-widgets/base",
      "model_module_version": "2.0.0",
      "model_name": "LayoutModel",
      "state": {
       "height": "auto",
       "padding": "0px 0px 0px 4px",
       "width": "auto"
      }
     },
     "b39b325518e34bbc891bd620bbd2f809": {
      "model_module": "@jupyter-widgets/controls",
      "model_module_version": "2.0.0",
      "model_name": "ToggleButtonStyleModel",
      "state": {
       "description_width": "",
       "font_family": null,
       "font_size": null,
       "font_style": null,
       "font_variant": null,
       "font_weight": null,
       "text_color": null,
       "text_decoration": null
      }
     },
     "b3d65dbd6bb048578cc971aca653eaab": {
      "model_module": "jupyter-leaflet",
      "model_module_version": "^0.17",
      "model_name": "LeafletZoomControlModel",
      "state": {
       "_model_module_version": "^0.17",
       "_view_module_version": "^0.17",
       "options": [
        "position",
        "zoom_in_text",
        "zoom_in_title",
        "zoom_out_text",
        "zoom_out_title"
       ]
      }
     },
     "b3ee6bf1da444663a0216d7c0b736019": {
      "model_module": "@jupyter-widgets/base",
      "model_module_version": "2.0.0",
      "model_name": "LayoutModel",
      "state": {
       "height": "auto",
       "padding": "0px 0px 0px 4px",
       "width": "auto"
      }
     },
     "b3f447cc1d8143fdb56e9773c34a5de2": {
      "model_module": "ipyevents",
      "model_module_version": "2.0.2",
      "model_name": "EventModel",
      "state": {
       "_supported_key_events": [
        "keydown",
        "keyup"
       ],
       "_supported_mouse_events": [
        "click",
        "auxclick",
        "dblclick",
        "mouseenter",
        "mouseleave",
        "mousedown",
        "mouseup",
        "mousemove",
        "wheel",
        "contextmenu",
        "dragstart",
        "drag",
        "dragend",
        "dragenter",
        "dragover",
        "dragleave",
        "drop"
       ],
       "_supported_touch_events": [
        "touchstart",
        "touchend",
        "touchmove",
        "touchcancel"
       ],
       "_view_module": "@jupyter-widgets/controls",
       "source": "IPY_MODEL_8ccf0b69187d4ac3ad600d1dcdddb1ec",
       "throttle_or_debounce": "",
       "watched_events": [
        "mouseenter",
        "mouseleave"
       ],
       "xy_coordinate_system": ""
      }
     },
     "b445b44ebfb7468d94d4163651e8a983": {
      "model_module": "@jupyter-widgets/base",
      "model_module_version": "2.0.0",
      "model_name": "LayoutModel",
      "state": {
       "height": "auto",
       "padding": "0px 0px 0px 4px",
       "width": "auto"
      }
     },
     "b47b4d88fb8141bab97c7afcf1e80f1d": {
      "model_module": "@jupyter-widgets/controls",
      "model_module_version": "2.0.0",
      "model_name": "ToggleButtonStyleModel",
      "state": {
       "description_width": "",
       "font_family": null,
       "font_size": null,
       "font_style": null,
       "font_variant": null,
       "font_weight": null,
       "text_color": null,
       "text_decoration": null
      }
     },
     "b4a9c423c6054ba284f2cf1b82fab126": {
      "model_module": "@jupyter-widgets/controls",
      "model_module_version": "2.0.0",
      "model_name": "TextStyleModel",
      "state": {
       "description_width": "",
       "font_size": null,
       "text_color": null
      }
     },
     "b4f0e846a5194542aad311210fe38ed3": {
      "model_module": "@jupyter-widgets/controls",
      "model_module_version": "2.0.0",
      "model_name": "ToggleButtonStyleModel",
      "state": {
       "description_width": "",
       "font_family": null,
       "font_size": null,
       "font_style": null,
       "font_variant": null,
       "font_weight": null,
       "text_color": null,
       "text_decoration": null
      }
     },
     "b4fb1d2f555546e69ae68ceed2943948": {
      "model_module": "@jupyter-widgets/controls",
      "model_module_version": "2.0.0",
      "model_name": "ToggleButtonModel",
      "state": {
       "icon": "server",
       "layout": "IPY_MODEL_cc3c8391b36f4642a8819430e166770c",
       "style": "IPY_MODEL_a8b1eec14b1f44249d52fcee2393c2b4",
       "tooltip": "Layers"
      }
     },
     "b583759308944568bb6af5d348839ce4": {
      "model_module": "@jupyter-widgets/controls",
      "model_module_version": "2.0.0",
      "model_name": "ToggleButtonStyleModel",
      "state": {
       "description_width": "",
       "font_family": null,
       "font_size": null,
       "font_style": null,
       "font_variant": null,
       "font_weight": null,
       "text_color": null,
       "text_decoration": null
      }
     },
     "b59be095780c47c99c35e0545706b147": {
      "model_module": "@jupyter-widgets/base",
      "model_module_version": "2.0.0",
      "model_name": "LayoutModel",
      "state": {
       "height": "auto",
       "padding": "0px 0px 0px 4px",
       "width": "auto"
      }
     },
     "b61b266bc7404ded9051e4edba35b86d": {
      "model_module": "@jupyter-widgets/controls",
      "model_module_version": "2.0.0",
      "model_name": "ToggleButtonStyleModel",
      "state": {
       "description_width": "",
       "font_family": null,
       "font_size": null,
       "font_style": null,
       "font_variant": null,
       "font_weight": null,
       "text_color": null,
       "text_decoration": null
      }
     },
     "b6357c02ebba47a5850642eab9d5e433": {
      "model_module": "@jupyter-widgets/controls",
      "model_module_version": "2.0.0",
      "model_name": "ToggleButtonModel",
      "state": {
       "button_style": "primary",
       "icon": "bar-chart",
       "layout": "IPY_MODEL_02027be84f9246c4acadfbf8213880f8",
       "style": "IPY_MODEL_b1347e66dd4d4b308ddd4b872fb2e438",
       "tooltip": "Plotting"
      }
     },
     "b65d7865d26d43e5aa436e71bede9bab": {
      "model_module": "@jupyter-widgets/controls",
      "model_module_version": "2.0.0",
      "model_name": "ToggleButtonStyleModel",
      "state": {
       "description_width": "",
       "font_family": null,
       "font_size": null,
       "font_style": null,
       "font_variant": null,
       "font_weight": null,
       "text_color": null,
       "text_decoration": null
      }
     },
     "b662f6e48d6c440083b5d5d2b5108c3a": {
      "model_module": "@jupyter-widgets/controls",
      "model_module_version": "2.0.0",
      "model_name": "ToggleButtonModel",
      "state": {
       "button_style": "primary",
       "icon": "gears",
       "layout": "IPY_MODEL_084019d009484ac4b39a403cae251516",
       "style": "IPY_MODEL_52a662cd558449ac9950c4f9f63fd8db",
       "tooltip": "WhiteboxTools for local geoprocessing"
      }
     },
     "b6705e9cd7384ca797a3ceb3fe1bf6b8": {
      "model_module": "@jupyter-widgets/base",
      "model_module_version": "2.0.0",
      "model_name": "LayoutModel",
      "state": {
       "height": "auto",
       "padding": "0px 0px 0px 4px",
       "width": "auto"
      }
     },
     "b67dc0011b2f40eea1a018156dca738d": {
      "model_module": "@jupyter-widgets/controls",
      "model_module_version": "2.0.0",
      "model_name": "ToggleButtonModel",
      "state": {
       "button_style": "primary",
       "icon": "info",
       "layout": "IPY_MODEL_55a70b0f40ee4e258a8b40c25196e175",
       "style": "IPY_MODEL_3f64a8d4565a4ebe9a024af4393a907c",
       "tooltip": "Inspector"
      }
     },
     "b7153acb24614b8d9673f8f063fa511e": {
      "model_module": "@jupyter-widgets/controls",
      "model_module_version": "2.0.0",
      "model_name": "ToggleButtonStyleModel",
      "state": {
       "description_width": "",
       "font_family": null,
       "font_size": null,
       "font_style": null,
       "font_variant": null,
       "font_weight": null,
       "text_color": null,
       "text_decoration": null
      }
     },
     "b73871e995404006b867e38c2b4fc43d": {
      "model_module": "@jupyter-widgets/output",
      "model_module_version": "1.0.0",
      "model_name": "OutputModel",
      "state": {
       "layout": "IPY_MODEL_d5a9bb557e064f908c3d4905e44d61c5"
      }
     },
     "b780020061c54255af11eec89172770c": {
      "model_module": "@jupyter-widgets/controls",
      "model_module_version": "2.0.0",
      "model_name": "HBoxModel",
      "state": {
       "children": [
        "IPY_MODEL_bfa40ece1c634d6b9a5a44461f596975",
        "IPY_MODEL_d8b552d7f60643568099e611ba319d67"
       ],
       "layout": "IPY_MODEL_10d199e94fde4dc09626038168c02c60"
      }
     },
     "b7acdc613530400d8be8e02bfb203291": {
      "model_module": "@jupyter-widgets/base",
      "model_module_version": "2.0.0",
      "model_name": "LayoutModel",
      "state": {
       "height": "auto",
       "padding": "0px 0px 0px 4px",
       "width": "auto"
      }
     },
     "b7baade52bbf43a7a4e3ba2d787b361f": {
      "model_module": "@jupyter-widgets/controls",
      "model_module_version": "2.0.0",
      "model_name": "HTMLModel",
      "state": {
       "layout": "IPY_MODEL_2482177611eb4aecb42a9f1dd7f3360f",
       "style": "IPY_MODEL_6adaad792b1a4ef8a273d231f84e8931"
      }
     },
     "b80d3c7b2c384343a1faf16abe5be86d": {
      "model_module": "@jupyter-widgets/controls",
      "model_module_version": "2.0.0",
      "model_name": "ToggleButtonStyleModel",
      "state": {
       "description_width": "",
       "font_family": null,
       "font_size": null,
       "font_style": null,
       "font_variant": null,
       "font_weight": null,
       "text_color": null,
       "text_decoration": null
      }
     },
     "b82f7ffae7934fc8919134dc337705b5": {
      "model_module": "@jupyter-widgets/controls",
      "model_module_version": "2.0.0",
      "model_name": "HBoxModel",
      "state": {
       "_view_count": 1,
       "children": [
        "IPY_MODEL_0bbd323d23714603926f30e9b56a7454"
       ],
       "layout": "IPY_MODEL_db0db2432376434ebea1d1df296db210"
      }
     },
     "b86f1ea65107417981a8cdbf2844dbaf": {
      "model_module": "@jupyter-widgets/base",
      "model_module_version": "2.0.0",
      "model_name": "LayoutModel",
      "state": {}
     },
     "b8b3acf22dfc4431b45f0e8d6e17ecb5": {
      "model_module": "@jupyter-widgets/base",
      "model_module_version": "2.0.0",
      "model_name": "LayoutModel",
      "state": {
       "width": "340px"
      }
     },
     "b946c0ab74194e64ab4d9f7855c5feaf": {
      "model_module": "@jupyter-widgets/controls",
      "model_module_version": "2.0.0",
      "model_name": "ToggleButtonStyleModel",
      "state": {
       "description_width": "",
       "font_family": null,
       "font_size": null,
       "font_style": null,
       "font_variant": null,
       "font_weight": null,
       "text_color": null,
       "text_decoration": null
      }
     },
     "b9971e4df99e47b7a629be621ffeb885": {
      "model_module": "@jupyter-widgets/controls",
      "model_module_version": "2.0.0",
      "model_name": "DescriptionStyleModel",
      "state": {
       "description_width": ""
      }
     },
     "ba00a635197d47908ecc9dec889bb174": {
      "model_module": "ipyevents",
      "model_module_version": "2.0.2",
      "model_name": "EventModel",
      "state": {
       "_supported_key_events": [
        "keydown",
        "keyup"
       ],
       "_supported_mouse_events": [
        "click",
        "auxclick",
        "dblclick",
        "mouseenter",
        "mouseleave",
        "mousedown",
        "mouseup",
        "mousemove",
        "wheel",
        "contextmenu",
        "dragstart",
        "drag",
        "dragend",
        "dragenter",
        "dragover",
        "dragleave",
        "drop"
       ],
       "_supported_touch_events": [
        "touchstart",
        "touchend",
        "touchmove",
        "touchcancel"
       ],
       "_view_module": "@jupyter-widgets/controls",
       "source": "IPY_MODEL_92c5fa2b29eb49a6a1eb7d23f6c4c8f7",
       "throttle_or_debounce": "",
       "watched_events": [
        "mouseenter",
        "mouseleave"
       ],
       "xy_coordinate_system": ""
      }
     },
     "ba3416327f734ea9b90db5b9868de9a3": {
      "model_module": "@jupyter-widgets/base",
      "model_module_version": "2.0.0",
      "model_name": "LayoutModel",
      "state": {}
     },
     "ba4357a2f83a4e70848883d572bb1f5e": {
      "model_module": "jupyter-leaflet",
      "model_module_version": "^0.17",
      "model_name": "LeafletDrawControlModel",
      "state": {
       "_model_module_version": "^0.17",
       "_view_module_version": "^0.17",
       "marker": {
        "shapeOptions": {
         "color": "#3388ff"
        }
       },
       "options": [
        "position"
       ],
       "polygon": {
        "shapeOptions": {
         "clickable": true,
         "color": "#3388ff",
         "fill": true,
         "fillColor": null,
         "fillOpacity": 0.2,
         "opacity": 0.5,
         "stroke": true,
         "weight": 4
        }
       },
       "polyline": {
        "shapeOptions": {
         "clickable": true,
         "color": "#3388ff",
         "fill": false,
         "opacity": 0.5,
         "stroke": true,
         "weight": 4
        }
       },
       "rectangle": {
        "shapeOptions": {
         "clickable": true,
         "color": "#3388ff",
         "fill": true,
         "fillColor": null,
         "fillOpacity": 0.2,
         "opacity": 0.5,
         "stroke": true,
         "weight": 4
        }
       }
      }
     },
     "bacb4f6c4ff949809d81619a335240bc": {
      "model_module": "jupyter-leaflet",
      "model_module_version": "^0.17",
      "model_name": "LeafletFullScreenControlModel",
      "state": {
       "_model_module_version": "^0.17",
       "_view_module_version": "^0.17",
       "options": [
        "position"
       ]
      }
     },
     "bb28686fd6794bbea958e8623322c26f": {
      "model_module": "@jupyter-widgets/controls",
      "model_module_version": "2.0.0",
      "model_name": "ToggleButtonModel",
      "state": {
       "button_style": "primary",
       "icon": "folder-open",
       "layout": "IPY_MODEL_7f7f913c06394585995e50d94ab3fdc5",
       "style": "IPY_MODEL_87b10e98565f47358d4910614fd4ff89",
       "tooltip": "Open local vector/raster data"
      }
     },
     "bb4e0c906bc04f9b99cfdc0a98cd2d08": {
      "model_module": "@jupyter-widgets/controls",
      "model_module_version": "2.0.0",
      "model_name": "ToggleButtonStyleModel",
      "state": {
       "description_width": "",
       "font_family": null,
       "font_size": null,
       "font_style": null,
       "font_variant": null,
       "font_weight": null,
       "text_color": null,
       "text_decoration": null
      }
     },
     "bc3c230ec7fd4e49b20650767d4b5ce6": {
      "model_module": "jupyter-leaflet",
      "model_module_version": "^0.17",
      "model_name": "LeafletTileLayerModel",
      "state": {
       "_model_module_version": "^0.17",
       "_view_module_version": "^0.17",
       "attribution": "Google Earth Engine",
       "max_zoom": 24,
       "name": "landsat7_jun_30_clipped",
       "options": [
        "attribution",
        "bounds",
        "detect_retina",
        "max_native_zoom",
        "max_zoom",
        "min_native_zoom",
        "min_zoom",
        "no_wrap",
        "tile_size",
        "tms",
        "zoom_offset"
       ],
       "url": "https://earthengine.googleapis.com/v1/projects/earthengine-legacy/maps/87f1e6063539a4a3b43e45485d97f91e-8b9eb20a77b8c0a0a882e3a51ba9ba74/tiles/{z}/{x}/{y}"
      }
     },
     "bcd703039f7e401cb0aa716a4ca7759b": {
      "model_module": "jupyter-leaflet",
      "model_module_version": "^0.17",
      "model_name": "LeafletScaleControlModel",
      "state": {
       "_model_module_version": "^0.17",
       "_view_module_version": "^0.17",
       "imperial": true,
       "max_width": 100,
       "metric": true,
       "options": [
        "imperial",
        "max_width",
        "metric",
        "position",
        "update_when_idle"
       ],
       "position": "bottomleft",
       "update_when_idle": false
      }
     },
     "bd07548443234488a0d36391e0380aa9": {
      "model_module": "jupyter-leaflet",
      "model_module_version": "^0.17",
      "model_name": "LeafletZoomControlModel",
      "state": {
       "_model_module_version": "^0.17",
       "_view_module_version": "^0.17",
       "options": [
        "position",
        "zoom_in_text",
        "zoom_in_title",
        "zoom_out_text",
        "zoom_out_title"
       ]
      }
     },
     "bd13c52388434cfda595a0b2cffd4198": {
      "model_module": "@jupyter-widgets/controls",
      "model_module_version": "2.0.0",
      "model_name": "ToggleButtonStyleModel",
      "state": {
       "description_width": "",
       "font_family": null,
       "font_size": null,
       "font_style": null,
       "font_variant": null,
       "font_weight": null,
       "text_color": null,
       "text_decoration": null
      }
     },
     "bd1665d7bae2430eb838474c796ff3bb": {
      "model_module": "ipyevents",
      "model_module_version": "2.0.2",
      "model_name": "EventModel",
      "state": {
       "_supported_key_events": [
        "keydown",
        "keyup"
       ],
       "_supported_mouse_events": [
        "click",
        "auxclick",
        "dblclick",
        "mouseenter",
        "mouseleave",
        "mousedown",
        "mouseup",
        "mousemove",
        "wheel",
        "contextmenu",
        "dragstart",
        "drag",
        "dragend",
        "dragenter",
        "dragover",
        "dragleave",
        "drop"
       ],
       "_supported_touch_events": [
        "touchstart",
        "touchend",
        "touchmove",
        "touchcancel"
       ],
       "_view_module": "@jupyter-widgets/controls",
       "source": "IPY_MODEL_ca4ea327d3a54dab8527d9ce5f6471f4",
       "throttle_or_debounce": "",
       "watched_events": [
        "mouseenter",
        "mouseleave"
       ],
       "xy_coordinate_system": ""
      }
     },
     "bd1dd4dcb1ed488a84ad1e664febac52": {
      "model_module": "jupyter-leaflet",
      "model_module_version": "^0.17",
      "model_name": "LeafletTileLayerModel",
      "state": {
       "_model_module_version": "^0.17",
       "_view_module_version": "^0.17",
       "attribution": "Google Earth Engine",
       "max_zoom": 24,
       "name": "landsat7_jun_30",
       "options": [
        "attribution",
        "bounds",
        "detect_retina",
        "max_native_zoom",
        "max_zoom",
        "min_native_zoom",
        "min_zoom",
        "no_wrap",
        "tile_size",
        "tms",
        "zoom_offset"
       ],
       "url": "https://earthengine.googleapis.com/v1/projects/earthengine-legacy/maps/7b4eb8949c98997cb514ccd4c887659a-89ea9b2a2fcfe6b337fd5d3204d3a194/tiles/{z}/{x}/{y}"
      }
     },
     "bd6c4ccb3cb84a4780eb535ce9f2cd4c": {
      "model_module": "jupyter-leaflet",
      "model_module_version": "^0.17",
      "model_name": "LeafletTileLayerModel",
      "state": {
       "_model_module_version": "^0.17",
       "_view_module_version": "^0.17",
       "attribution": "Google Earth Engine",
       "max_zoom": 24,
       "name": "landsat7_jun_30_clipped",
       "options": [
        "attribution",
        "bounds",
        "detect_retina",
        "max_native_zoom",
        "max_zoom",
        "min_native_zoom",
        "min_zoom",
        "no_wrap",
        "tile_size",
        "tms",
        "zoom_offset"
       ],
       "url": "https://earthengine.googleapis.com/v1/projects/earthengine-legacy/maps/87f1e6063539a4a3b43e45485d97f91e-1dbcc601e37285c251b4fe9fe6bd9557/tiles/{z}/{x}/{y}"
      }
     },
     "bd7427b79a4f4fa3bc924fa37efb96a3": {
      "model_module": "@jupyter-widgets/base",
      "model_module_version": "2.0.0",
      "model_name": "LayoutModel",
      "state": {
       "height": "auto",
       "padding": "0px 0px 0px 4px",
       "width": "auto"
      }
     },
     "bda8ff5c16564e5890a73aba6d8d60b0": {
      "model_module": "@jupyter-widgets/controls",
      "model_module_version": "2.0.0",
      "model_name": "TextStyleModel",
      "state": {
       "description_width": "",
       "font_size": null,
       "text_color": null
      }
     },
     "bddc1c3ba67d4d608711ac602d2f7ea2": {
      "model_module": "@jupyter-widgets/base",
      "model_module_version": "2.0.0",
      "model_name": "LayoutModel",
      "state": {
       "height": "28px",
       "padding": "0px 0px 0px 4px",
       "width": "28px"
      }
     },
     "bde088a4ba944dae96c27d5ecd5097b5": {
      "model_module": "@jupyter-widgets/controls",
      "model_module_version": "2.0.0",
      "model_name": "ToggleButtonStyleModel",
      "state": {
       "description_width": "",
       "font_family": null,
       "font_size": null,
       "font_style": null,
       "font_variant": null,
       "font_weight": null,
       "text_color": null,
       "text_decoration": null
      }
     },
     "bdefaa29b8e64416a0efb82691b8c02a": {
      "model_module": "@jupyter-widgets/controls",
      "model_module_version": "2.0.0",
      "model_name": "ToggleButtonModel",
      "state": {
       "icon": "globe",
       "layout": "IPY_MODEL_c50010467c7a4b09a89dda2e3b5bff90",
       "style": "IPY_MODEL_925aacf6a5094fb28692aba207d5e82c",
       "tooltip": "Search location/data"
      }
     },
     "be05d98fa5a64818ba43e90844c69432": {
      "model_module": "@jupyter-widgets/controls",
      "model_module_version": "2.0.0",
      "model_name": "ToggleButtonModel",
      "state": {
       "button_style": "primary",
       "icon": "retweet",
       "layout": "IPY_MODEL_f80ae5a903b744ee9183bb1752d91c09",
       "style": "IPY_MODEL_4b94f4e9b5b54937977d56c06712a80c",
       "tooltip": "Convert Earth Engine JavaScript to Python"
      }
     },
     "be7060445e024c91a299f02d0470cc3f": {
      "model_module": "@jupyter-widgets/controls",
      "model_module_version": "2.0.0",
      "model_name": "HBoxModel",
      "state": {
       "children": [
        "IPY_MODEL_e99fccc818fb4466bd852f685681a588",
        "IPY_MODEL_54512a8704c845938b8c53e301349b91"
       ],
       "layout": "IPY_MODEL_30f830876e834900bc67a592f4f111fe"
      }
     },
     "be7169d38df94200a8e1c8cbe780a154": {
      "model_module": "@jupyter-widgets/controls",
      "model_module_version": "2.0.0",
      "model_name": "VBoxModel",
      "state": {
       "children": [
        "IPY_MODEL_5bc9f9334ea2495c9d43c07b4d4c36b1",
        "IPY_MODEL_67e603352beb4cd4bfa6222acd71c480"
       ],
       "layout": "IPY_MODEL_53b4b4205f794aeebaa50a16b7d2545d"
      }
     },
     "be9518108eb942a8b8ec176afdf7f790": {
      "model_module": "@jupyter-widgets/controls",
      "model_module_version": "2.0.0",
      "model_name": "ToggleButtonStyleModel",
      "state": {
       "description_width": "",
       "font_family": null,
       "font_size": null,
       "font_style": null,
       "font_variant": null,
       "font_weight": null,
       "text_color": null,
       "text_decoration": null
      }
     },
     "be9dbefff11f479f8e5c7e1964c4a3ad": {
      "model_module": "jupyter-leaflet",
      "model_module_version": "^0.17",
      "model_name": "LeafletAttributionControlModel",
      "state": {
       "_model_module_version": "^0.17",
       "_view_module_version": "^0.17",
       "options": [
        "position",
        "prefix"
       ],
       "position": "bottomright",
       "prefix": "ipyleaflet"
      }
     },
     "beaf1b924c9f4c45b8e07e77aee7410e": {
      "model_module": "@jupyter-widgets/controls",
      "model_module_version": "2.0.0",
      "model_name": "HBoxModel",
      "state": {
       "_view_count": 1,
       "children": [
        "IPY_MODEL_76a5f6a0dffb4c08b2720551ddfe17fa"
       ],
       "layout": "IPY_MODEL_71d5f7dd9da14104b945e4abbafb9e94"
      }
     },
     "bed0a82d3e25442287d2ceb2ff089ce7": {
      "model_module": "@jupyter-widgets/base",
      "model_module_version": "2.0.0",
      "model_name": "LayoutModel",
      "state": {
       "height": "auto",
       "padding": "0px 0px 0px 4px",
       "width": "auto"
      }
     },
     "beffaa8607e042d6a774c33acc0a25d7": {
      "model_module": "@jupyter-widgets/base",
      "model_module_version": "2.0.0",
      "model_name": "LayoutModel",
      "state": {
       "height": "auto",
       "padding": "0px 0px 0px 4px",
       "width": "auto"
      }
     },
     "bf0a7af3d8b042688cc5dbda8f03f4a5": {
      "model_module": "@jupyter-widgets/controls",
      "model_module_version": "2.0.0",
      "model_name": "ToggleButtonModel",
      "state": {
       "button_style": "primary",
       "icon": "bar-chart",
       "layout": "IPY_MODEL_0c6873d597d54a7db6a39ac2a9cffc12",
       "style": "IPY_MODEL_ad119a3a2186456ba4919220ddaba29d",
       "tooltip": "Plotting"
      }
     },
     "bf87d54717fd452ca600c325ad5f2b36": {
      "model_module": "jupyter-leaflet",
      "model_module_version": "^0.17",
      "model_name": "LeafletScaleControlModel",
      "state": {
       "_model_module_version": "^0.17",
       "_view_module_version": "^0.17",
       "imperial": true,
       "max_width": 100,
       "metric": true,
       "options": [
        "imperial",
        "max_width",
        "metric",
        "position",
        "update_when_idle"
       ],
       "position": "bottomleft",
       "update_when_idle": false
      }
     },
     "bf93e02386974efdb232993d9330418f": {
      "model_module": "@jupyter-widgets/controls",
      "model_module_version": "2.0.0",
      "model_name": "VBoxModel",
      "state": {
       "_view_count": 1,
       "children": [
        "IPY_MODEL_f99c3b7f00ff41b79f90c11366dcbfc7"
       ],
       "layout": "IPY_MODEL_99acdf9252ec4c1c89e7ff4d6a6ce540"
      }
     },
     "bfa0af12e43442739016bd7379ed77c8": {
      "model_module": "@jupyter-widgets/controls",
      "model_module_version": "2.0.0",
      "model_name": "ToggleButtonStyleModel",
      "state": {
       "description_width": "",
       "font_family": null,
       "font_size": null,
       "font_style": null,
       "font_variant": null,
       "font_weight": null,
       "text_color": null,
       "text_decoration": null
      }
     },
     "bfa40ece1c634d6b9a5a44461f596975": {
      "model_module": "@jupyter-widgets/controls",
      "model_module_version": "2.0.0",
      "model_name": "ButtonModel",
      "state": {
       "button_style": "primary",
       "description": "import",
       "layout": "IPY_MODEL_78a8937bc17c4845b4c5ca3b6262810d",
       "style": "IPY_MODEL_38ecc77cf7ff426885d6faf24a2d59ce",
       "tooltip": "Click to import the selected asset"
      }
     },
     "c0427107d3294fdd99c076150995b151": {
      "model_module": "@jupyter-widgets/controls",
      "model_module_version": "2.0.0",
      "model_name": "RadioButtonsModel",
      "state": {
       "index": null,
       "layout": "IPY_MODEL_cda3881d3f9141e28f78b4164e7038fe",
       "style": "IPY_MODEL_049b3081b20f465e86b7c6b11c358df0"
      }
     },
     "c07b40223786412b9fe3a39434a3f451": {
      "model_module": "@jupyter-widgets/controls",
      "model_module_version": "2.0.0",
      "model_name": "ToggleButtonModel",
      "state": {
       "icon": "globe",
       "layout": "IPY_MODEL_3b2552574aea4545b510ab3326f278e2",
       "style": "IPY_MODEL_8dd5f5c69d564e55a93ecc6e3797273c",
       "tooltip": "Search location/data"
      }
     },
     "c09650bbcac848a1a23633827485ae76": {
      "model_module": "@jupyter-widgets/base",
      "model_module_version": "2.0.0",
      "model_name": "LayoutModel",
      "state": {
       "height": "28px",
       "padding": "0px 0px 0px 4px",
       "width": "28px"
      }
     },
     "c0f4e03b6f7747ee970f1de5e03458fd": {
      "model_module": "ipyevents",
      "model_module_version": "2.0.2",
      "model_name": "EventModel",
      "state": {
       "_supported_key_events": [
        "keydown",
        "keyup"
       ],
       "_supported_mouse_events": [
        "click",
        "auxclick",
        "dblclick",
        "mouseenter",
        "mouseleave",
        "mousedown",
        "mouseup",
        "mousemove",
        "wheel",
        "contextmenu",
        "dragstart",
        "drag",
        "dragend",
        "dragenter",
        "dragover",
        "dragleave",
        "drop"
       ],
       "_supported_touch_events": [
        "touchstart",
        "touchend",
        "touchmove",
        "touchcancel"
       ],
       "_view_module": "@jupyter-widgets/controls",
       "source": "IPY_MODEL_f0dbc4e1611b4366823cd27c630b2c66",
       "throttle_or_debounce": "",
       "watched_events": [
        "mouseenter",
        "mouseleave"
       ],
       "xy_coordinate_system": ""
      }
     },
     "c1b66d0875f548579bc1e738f3e3dcab": {
      "model_module": "@jupyter-widgets/base",
      "model_module_version": "2.0.0",
      "model_name": "LayoutModel",
      "state": {}
     },
     "c1baf79d134847c5813c5c1b54d46de1": {
      "model_module": "@jupyter-widgets/base",
      "model_module_version": "2.0.0",
      "model_name": "LayoutModel",
      "state": {}
     },
     "c1e97038bb9e4fe6a52ba69a9ab4a97a": {
      "model_module": "@jupyter-widgets/controls",
      "model_module_version": "2.0.0",
      "model_name": "ToggleButtonsModel",
      "state": {
       "_options_labels": [
        "name/address",
        "lat-lon",
        "data"
       ],
       "button_style": "",
       "icons": [],
       "index": 0,
       "layout": "IPY_MODEL_69b862ca091e4d049a4387c3aed61677",
       "style": "IPY_MODEL_88206dbbd312453da943706aff1425ff",
       "tooltips": [
        "Search by place name or address",
        "Search by lat-lon coordinates",
        "Search Earth Engine data catalog"
       ]
      }
     },
     "c22500d766be412cbfda3a39865bb077": {
      "model_module": "@jupyter-widgets/base",
      "model_module_version": "2.0.0",
      "model_name": "LayoutModel",
      "state": {
       "height": "auto",
       "padding": "0px 0px 0px 4px",
       "width": "auto"
      }
     },
     "c28668cebeba4b75ab9a69b8517e1913": {
      "model_module": "@jupyter-widgets/controls",
      "model_module_version": "2.0.0",
      "model_name": "ToggleButtonModel",
      "state": {
       "button_style": "primary",
       "icon": "fast-forward",
       "layout": "IPY_MODEL_b6705e9cd7384ca797a3ceb3fe1bf6b8",
       "style": "IPY_MODEL_777aa38e75a04272981d94df86789f15",
       "tooltip": "Activate timeslider"
      }
     },
     "c29fcc5da8f742a38f3b1d407aae7995": {
      "model_module": "@jupyter-widgets/controls",
      "model_module_version": "2.0.0",
      "model_name": "RadioButtonsModel",
      "state": {
       "index": null,
       "layout": "IPY_MODEL_c1b66d0875f548579bc1e738f3e3dcab",
       "style": "IPY_MODEL_4c8f354ae95844898ac939df0fc7eb6c"
      }
     },
     "c2c03102ec6d4820bb8070a5fa58c683": {
      "model_module": "jupyter-leaflet",
      "model_module_version": "^0.17",
      "model_name": "LeafletMapModel",
      "state": {
       "_model_module_version": "^0.17",
       "_view_module_version": "^0.17",
       "bottom": 754,
       "center": [
        20,
        0
       ],
       "controls": [
        "IPY_MODEL_03cf7646062a46858a3e7bc8dd8c520a",
        "IPY_MODEL_b0f2ec4c5523401cbe13893a72efd106",
        "IPY_MODEL_2bfa6227db904a5992ac71ddcad758d2",
        "IPY_MODEL_444312a3424a4570ba5c39d1618403e6",
        "IPY_MODEL_2ff7386876a44a90b8151d564e974a19",
        "IPY_MODEL_9e9ffb9c28294d68a4f798c246eb5c5f",
        "IPY_MODEL_efacbfeb02994473b605aab3fd48d8e1",
        "IPY_MODEL_4b8b585b5c924fa3a97c5aff9b394fcc"
       ],
       "default_style": "IPY_MODEL_9ab8a41a55014b73a3d2fee061a6c236",
       "dragging_style": "IPY_MODEL_dfb424bca1e24f0c84e76b9b40f1168d",
       "east": 171.91406250000003,
       "fullscreen": false,
       "interpolation": "bilinear",
       "layers": [
        "IPY_MODEL_2c8e49d5823f48b4b1fd6a425ef22a53",
        "IPY_MODEL_c8e266a30b2f471bab387c2820d5875f"
       ],
       "layout": "IPY_MODEL_662d7e31949f4989bc28accb89a50f3c",
       "left": 23,
       "max_zoom": 24,
       "modisdate": "2024-03-11",
       "north": 77.31251993823143,
       "options": [
        "bounce_at_zoom_limits",
        "box_zoom",
        "center",
        "close_popup_on_click",
        "double_click_zoom",
        "dragging",
        "fullscreen",
        "inertia",
        "inertia_deceleration",
        "inertia_max_speed",
        "interpolation",
        "keyboard",
        "keyboard_pan_offset",
        "keyboard_zoom_offset",
        "max_zoom",
        "min_zoom",
        "prefer_canvas",
        "scroll_wheel_zoom",
        "tap",
        "tap_tolerance",
        "touch_zoom",
        "world_copy_jump",
        "zoom",
        "zoom_animation_threshold",
        "zoom_delta",
        "zoom_snap"
       ],
       "prefer_canvas": false,
       "right": 1001,
       "scroll_wheel_zoom": true,
       "south": -64.47279382008165,
       "style": "IPY_MODEL_694ce05070204c138ce1431da25db685",
       "top": 154,
       "west": -171.91406250000003,
       "window_url": "https://jupyterhub.cuahsi.org/user/torresrua/lab/tree/courses/Machine-Learning-Applications-in-Remote-Sensing-Data/Step_1.ipynb",
       "zoom": 2
      }
     },
     "c2ddf4a0aec84b7d9e21c15f39c6ef8f": {
      "model_module": "@jupyter-widgets/controls",
      "model_module_version": "2.0.0",
      "model_name": "TextStyleModel",
      "state": {
       "description_width": "",
       "font_size": null,
       "text_color": null
      }
     },
     "c343eab73b4645b99b158758e25896d2": {
      "model_module": "jupyter-leaflet",
      "model_module_version": "^0.17",
      "model_name": "LeafletWidgetControlModel",
      "state": {
       "_model_module": "jupyter-leaflet",
       "_model_module_version": "^0.17",
       "_view_count": null,
       "_view_module": "jupyter-leaflet",
       "_view_module_version": "^0.17",
       "options": [
        "position",
        "transparent_bg"
       ],
       "position": "topleft",
       "widget": "IPY_MODEL_44930397c2734612bf50b5bb01af293f"
      }
     },
     "c3664a82ec40463694d4cb74f2de898d": {
      "model_module": "@jupyter-widgets/base",
      "model_module_version": "2.0.0",
      "model_name": "LayoutModel",
      "state": {}
     },
     "c3d675e125ab46df8baa9ef63d384df5": {
      "model_module": "@jupyter-widgets/controls",
      "model_module_version": "2.0.0",
      "model_name": "TextModel",
      "state": {
       "layout": "IPY_MODEL_376b7642fa824f43b84178881eb44a19",
       "placeholder": "Search by place name or address",
       "style": "IPY_MODEL_e370623b49044a12a1dd2a5bf238107a",
       "tooltip": "Search location"
      }
     },
     "c4412e1422fb47a2889610ba5b59d741": {
      "model_module": "@jupyter-widgets/controls",
      "model_module_version": "2.0.0",
      "model_name": "ToggleButtonsModel",
      "state": {
       "_options_labels": [
        "name/address",
        "lat-lon",
        "data"
       ],
       "button_style": "",
       "icons": [],
       "index": 0,
       "layout": "IPY_MODEL_a51b1335a4144c509fffcecfefb712ba",
       "style": "IPY_MODEL_ae3b657a0a574bd8989ac529afb858e1",
       "tooltips": [
        "Search by place name or address",
        "Search by lat-lon coordinates",
        "Search Earth Engine data catalog"
       ]
      }
     },
     "c449f69c6925423fa7ec866ae2948e5c": {
      "model_module": "@jupyter-widgets/base",
      "model_module_version": "2.0.0",
      "model_name": "LayoutModel",
      "state": {
       "height": "auto",
       "padding": "0px 0px 0px 4px",
       "width": "auto"
      }
     },
     "c50010467c7a4b09a89dda2e3b5bff90": {
      "model_module": "@jupyter-widgets/base",
      "model_module_version": "2.0.0",
      "model_name": "LayoutModel",
      "state": {
       "height": "28px",
       "padding": "0px 0px 0px 4px",
       "width": "28px"
      }
     },
     "c5317c6634a544f5a0547caa2751489b": {
      "model_module": "@jupyter-widgets/base",
      "model_module_version": "2.0.0",
      "model_name": "LayoutModel",
      "state": {
       "height": "auto",
       "padding": "0px 0px 0px 4px",
       "width": "auto"
      }
     },
     "c5951eb31db34ef285d95039bdc3fe3b": {
      "model_module": "ipyevents",
      "model_module_version": "2.0.2",
      "model_name": "EventModel",
      "state": {
       "_supported_key_events": [
        "keydown",
        "keyup"
       ],
       "_supported_mouse_events": [
        "click",
        "auxclick",
        "dblclick",
        "mouseenter",
        "mouseleave",
        "mousedown",
        "mouseup",
        "mousemove",
        "wheel",
        "contextmenu",
        "dragstart",
        "drag",
        "dragend",
        "dragenter",
        "dragover",
        "dragleave",
        "drop"
       ],
       "_supported_touch_events": [
        "touchstart",
        "touchend",
        "touchmove",
        "touchcancel"
       ],
       "_view_module": "@jupyter-widgets/controls",
       "source": "IPY_MODEL_851e4ea93c57495bbf8a8f9c7654119f",
       "throttle_or_debounce": "",
       "watched_events": [
        "mouseenter",
        "mouseleave"
       ],
       "xy_coordinate_system": ""
      }
     },
     "c608f206c72645c6bdfa72b8b5672acc": {
      "model_module": "@jupyter-widgets/controls",
      "model_module_version": "2.0.0",
      "model_name": "ToggleButtonModel",
      "state": {
       "button_style": "primary",
       "icon": "plus",
       "layout": "IPY_MODEL_2642978557684d21b11c50871e490a71",
       "style": "IPY_MODEL_116e33fa7a2641ff8103e3adaa41727c",
       "tooltip": "Expand toolbar"
      }
     },
     "c66bde4a67874cb3acd2ee333b846aeb": {
      "model_module": "@jupyter-widgets/controls",
      "model_module_version": "2.0.0",
      "model_name": "ToggleButtonStyleModel",
      "state": {
       "description_width": "",
       "font_family": null,
       "font_size": null,
       "font_style": null,
       "font_variant": null,
       "font_weight": null,
       "text_color": null,
       "text_decoration": null
      }
     },
     "c68024d2c56b4580b8b86e810839c0f3": {
      "model_module": "@jupyter-widgets/base",
      "model_module_version": "2.0.0",
      "model_name": "LayoutModel",
      "state": {
       "height": "auto",
       "padding": "0px 0px 0px 4px",
       "width": "auto"
      }
     },
     "c6893d59c5604260baf6bd207d21ece3": {
      "model_module": "jupyter-leaflet",
      "model_module_version": "^0.17",
      "model_name": "LeafletMeasureControlModel",
      "state": {
       "_model_module_version": "^0.17",
       "_view_module_version": "^0.17",
       "active_color": "orange",
       "options": [
        "active_color",
        "capture_z_index",
        "completed_color",
        "popup_options",
        "position",
        "primary_area_unit",
        "primary_length_unit",
        "secondary_area_unit",
        "secondary_length_unit"
       ],
       "position": "bottomleft",
       "primary_length_unit": "kilometers",
       "secondary_area_unit": null,
       "secondary_length_unit": null
      }
     },
     "c699a80781894173a864d379c2a7cce8": {
      "model_module": "@jupyter-widgets/base",
      "model_module_version": "2.0.0",
      "model_name": "LayoutModel",
      "state": {
       "grid_gap": "1px 1px",
       "grid_template_columns": "32px 32px 32px ",
       "grid_template_rows": "32px 32px ",
       "padding": "5px",
       "width": "109px"
      }
     },
     "c6d230a6a8cd47bf805488be11d3ee44": {
      "model_module": "@jupyter-widgets/base",
      "model_module_version": "2.0.0",
      "model_name": "LayoutModel",
      "state": {
       "height": "28px",
       "width": "72px"
      }
     },
     "c71828de2c744ae58f7ccd67edad1a1b": {
      "model_module": "jupyter-leaflet",
      "model_module_version": "^0.17",
      "model_name": "LeafletMapModel",
      "state": {
       "_model_module_version": "^0.17",
       "_view_module_version": "^0.17",
       "bottom": 199920,
       "center": [
        39.399978753927925,
        -112.63224349999895
       ],
       "controls": [
        "IPY_MODEL_05ba41e06d2c4443aeaafa2bf8ac5fe7",
        "IPY_MODEL_e728907df3a144eba1a6a84968a7a463",
        "IPY_MODEL_9794dd4fef66430fadb06630eddf41e3",
        "IPY_MODEL_4935344a20bd4a4c9988c28860c20727",
        "IPY_MODEL_bcd703039f7e401cb0aa716a4ca7759b",
        "IPY_MODEL_dfa0443ff1d642828f3f8ffe2d9b97e4",
        "IPY_MODEL_af63eeda0b3344a59984f01417a3256c",
        "IPY_MODEL_661eebe08d1f4e9db3dc0bd458e8dd59"
       ],
       "default_style": "IPY_MODEL_53f9d41699db4472ad9c6b171e4c6eb0",
       "dragging_style": "IPY_MODEL_6f9e61828f8f4dd6b835849a91c28e70",
       "east": -112.29675292968751,
       "fullscreen": false,
       "interpolation": "bilinear",
       "layers": [
        "IPY_MODEL_144b4e65cc5a49e084a55d0bb3db169a",
        "IPY_MODEL_e7d1921f2f6f47cbb9134f02fc532ed1",
        "IPY_MODEL_d40a538bfb8c4fbd9bcb96db177a39d3",
        "IPY_MODEL_17aff2452b9f41e680931991b6692018",
        "IPY_MODEL_e8b941a1b3504fbb8f1ead8ae7625755",
        "IPY_MODEL_bc3c230ec7fd4e49b20650767d4b5ce6"
       ],
       "layout": "IPY_MODEL_5869453995064d198743c768788be257",
       "left": 97622,
       "max_zoom": 24,
       "modisdate": "2024-03-11",
       "north": 39.55911824217187,
       "options": [
        "bounce_at_zoom_limits",
        "box_zoom",
        "center",
        "close_popup_on_click",
        "double_click_zoom",
        "dragging",
        "fullscreen",
        "inertia",
        "inertia_deceleration",
        "inertia_max_speed",
        "interpolation",
        "keyboard",
        "keyboard_pan_offset",
        "keyboard_zoom_offset",
        "max_zoom",
        "min_zoom",
        "prefer_canvas",
        "scroll_wheel_zoom",
        "tap",
        "tap_tolerance",
        "touch_zoom",
        "world_copy_jump",
        "zoom",
        "zoom_animation_threshold",
        "zoom_delta",
        "zoom_snap"
       ],
       "prefer_canvas": false,
       "right": 98600,
       "scroll_wheel_zoom": true,
       "south": 39.2407625100131,
       "style": "IPY_MODEL_1a683e9aaed54d15a9743959fcb39bb6",
       "top": 199320,
       "west": -112.96829223632814,
       "window_url": "https://jupyterhub.cuahsi.org/user/torresrua/lab/tree/courses/Machine-Learning-Applications-in-Remote-Sensing-Data/Step_1.ipynb",
       "zoom": 11
      }
     },
     "c71ab6828f3b46c9935b49bb8b3154b5": {
      "model_module": "jupyter-leaflet",
      "model_module_version": "^0.17",
      "model_name": "LeafletMapStyleModel",
      "state": {
       "_model_module_version": "^0.17"
      }
     },
     "c7a39a7024f9403083c76d92ed25723e": {
      "model_module": "@jupyter-widgets/base",
      "model_module_version": "2.0.0",
      "model_name": "LayoutModel",
      "state": {
       "height": "auto",
       "padding": "0px 0px 0px 4px",
       "width": "auto"
      }
     },
     "c7c83b76eb3f4a778dc27e92c33f1f79": {
      "model_module": "@jupyter-widgets/controls",
      "model_module_version": "2.0.0",
      "model_name": "ToggleButtonsModel",
      "state": {
       "_options_labels": [
        "name/address",
        "lat-lon",
        "data"
       ],
       "button_style": "",
       "icons": [],
       "index": 0,
       "layout": "IPY_MODEL_08a1ba76d0e9457f9ff4a747da50e84f",
       "style": "IPY_MODEL_abf6217e76fa4eecbe358f235be1f986",
       "tooltips": [
        "Search by place name or address",
        "Search by lat-lon coordinates",
        "Search Earth Engine data catalog"
       ]
      }
     },
     "c7f51d3369304445a9110c4be21be422": {
      "model_module": "@jupyter-widgets/base",
      "model_module_version": "2.0.0",
      "model_name": "LayoutModel",
      "state": {
       "height": "600px"
      }
     },
     "c804988e14bd4cd09bf74cdefabe4ea2": {
      "model_module": "@jupyter-widgets/controls",
      "model_module_version": "2.0.0",
      "model_name": "ToggleButtonStyleModel",
      "state": {
       "description_width": "",
       "font_family": null,
       "font_size": null,
       "font_style": null,
       "font_variant": null,
       "font_weight": null,
       "text_color": null,
       "text_decoration": null
      }
     },
     "c81edb210c6641539e1db5ec97d55fea": {
      "model_module": "@jupyter-widgets/controls",
      "model_module_version": "2.0.0",
      "model_name": "ToggleButtonStyleModel",
      "state": {
       "description_width": "",
       "font_family": null,
       "font_size": null,
       "font_style": null,
       "font_variant": null,
       "font_weight": null,
       "text_color": null,
       "text_decoration": null
      }
     },
     "c81fb2901f8e41f59c545b810c1d1855": {
      "model_module": "@jupyter-widgets/base",
      "model_module_version": "2.0.0",
      "model_name": "LayoutModel",
      "state": {
       "height": "auto",
       "padding": "0px 0px 0px 4px",
       "width": "auto"
      }
     },
     "c823941d566d4727a5c57270856c4687": {
      "model_module": "@jupyter-widgets/base",
      "model_module_version": "2.0.0",
      "model_name": "LayoutModel",
      "state": {
       "width": "340px"
      }
     },
     "c83bb7a5124a450b9d51107b8f47031a": {
      "model_module": "@jupyter-widgets/controls",
      "model_module_version": "2.0.0",
      "model_name": "ToggleButtonModel",
      "state": {
       "button_style": "primary",
       "icon": "random",
       "layout": "IPY_MODEL_50e102c0b4eb4b7d9765add61a605943",
       "style": "IPY_MODEL_160f5b22243c481e8a8bb2d0c7024453",
       "tooltip": "Sankey plots"
      }
     },
     "c89bfa287bbf410782585baade43b667": {
      "model_module": "@jupyter-widgets/base",
      "model_module_version": "2.0.0",
      "model_name": "LayoutModel",
      "state": {
       "width": "340px"
      }
     },
     "c8c7adb573c746f6944bec17d9e9072a": {
      "model_module": "@jupyter-widgets/controls",
      "model_module_version": "2.0.0",
      "model_name": "DescriptionStyleModel",
      "state": {
       "description_width": ""
      }
     },
     "c8d61f38f2bd41a2aca8681ed45d33f4": {
      "model_module": "@jupyter-widgets/controls",
      "model_module_version": "2.0.0",
      "model_name": "ToggleButtonModel",
      "state": {
       "button_style": "primary",
       "icon": "line-chart",
       "layout": "IPY_MODEL_2cf60ea9992a4263bfc08ae233d8fab9",
       "style": "IPY_MODEL_351a643d81f84129a240e309751909f8",
       "tooltip": "Creating and plotting transects"
      }
     },
     "c8e266a30b2f471bab387c2820d5875f": {
      "model_module": "jupyter-leaflet",
      "model_module_version": "^0.17",
      "model_name": "LeafletTileLayerModel",
      "state": {
       "_model_module_version": "^0.17",
       "_view_module_version": "^0.17",
       "attribution": "Google",
       "max_zoom": 24,
       "name": "Google Maps",
       "options": [
        "attribution",
        "bounds",
        "detect_retina",
        "max_native_zoom",
        "max_zoom",
        "min_native_zoom",
        "min_zoom",
        "no_wrap",
        "tile_size",
        "tms",
        "zoom_offset"
       ],
       "url": "https://mt1.google.com/vt/lyrs=m&x={x}&y={y}&z={z}"
      }
     },
     "c8eb80dafe324698b50b933c9edcd69e": {
      "model_module": "@jupyter-widgets/base",
      "model_module_version": "2.0.0",
      "model_name": "LayoutModel",
      "state": {
       "height": "auto",
       "padding": "0px 0px 0px 4px",
       "width": "auto"
      }
     },
     "c960b6689a054abf8662cb0a78f389e2": {
      "model_module": "jupyter-leaflet",
      "model_module_version": "^0.17",
      "model_name": "LeafletTileLayerModel",
      "state": {
       "_model_module_version": "^0.17",
       "_view_module_version": "^0.17",
       "attribution": "Google Earth Engine",
       "max_zoom": 24,
       "name": "landsat7_jun_14_clipped",
       "options": [
        "attribution",
        "bounds",
        "detect_retina",
        "max_native_zoom",
        "max_zoom",
        "min_native_zoom",
        "min_zoom",
        "no_wrap",
        "tile_size",
        "tms",
        "zoom_offset"
       ],
       "url": "https://earthengine.googleapis.com/v1/projects/earthengine-legacy/maps/88cd55512fbabb3a5a79da73e41df60b-541d8a9dff66abd8ec1142eba4b3d72e/tiles/{z}/{x}/{y}"
      }
     },
     "c973051a4fb7477aa4442d2abd7b5def": {
      "model_module": "@jupyter-widgets/controls",
      "model_module_version": "2.0.0",
      "model_name": "ButtonModel",
      "state": {
       "button_style": "primary",
       "description": "import",
       "layout": "IPY_MODEL_05cd679e8f614f519e3e375a2118eeda",
       "style": "IPY_MODEL_cf5acdca4e2d4b998913b3e26cef4d99",
       "tooltip": "Click to import the selected asset"
      }
     },
     "c9a0ca77c8354b638b796547f066e605": {
      "model_module": "@jupyter-widgets/controls",
      "model_module_version": "2.0.0",
      "model_name": "ButtonModel",
      "state": {
       "button_style": "primary",
       "description": "import",
       "layout": "IPY_MODEL_871d2ae6d9e54bfba26db5bda6020e61",
       "style": "IPY_MODEL_ff4582c2505c499d80440ade8a65501e",
       "tooltip": "Click to import the selected asset"
      }
     },
     "c9cd371786134d3b91b0f6fac6c89c8c": {
      "model_module": "@jupyter-widgets/base",
      "model_module_version": "2.0.0",
      "model_name": "LayoutModel",
      "state": {
       "max_width": "279px",
       "min_width": "279px"
      }
     },
     "ca4996db8f584d06913b10aacf70b2a9": {
      "model_module": "@jupyter-widgets/base",
      "model_module_version": "2.0.0",
      "model_name": "LayoutModel",
      "state": {}
     },
     "ca4ea327d3a54dab8527d9ce5f6471f4": {
      "model_module": "@jupyter-widgets/controls",
      "model_module_version": "2.0.0",
      "model_name": "VBoxModel",
      "state": {
       "_view_count": 1,
       "children": [
        "IPY_MODEL_32199576d8564ce7b6263f923c362d92"
       ],
       "layout": "IPY_MODEL_fae13278a22843dd90665ea4d44f9c20"
      }
     },
     "cad2832e62bd44e0ba0fc7d224ccf5b9": {
      "model_module": "@jupyter-widgets/controls",
      "model_module_version": "2.0.0",
      "model_name": "VBoxModel",
      "state": {
       "children": [
        "IPY_MODEL_2efee416b12b40e5928d5cfb9a424895",
        "IPY_MODEL_f6f7df2f775845b6aca86615a60cc6fb"
       ],
       "layout": "IPY_MODEL_53578949089048a7bd8ec7e9acc99e93"
      }
     },
     "cb8d64cb2143484dbba91f533d1ed5bb": {
      "model_module": "@jupyter-widgets/controls",
      "model_module_version": "2.0.0",
      "model_name": "ButtonModel",
      "state": {
       "button_style": "primary",
       "description": "import",
       "layout": "IPY_MODEL_30ca8d934bb24c28b20c2082d71f1f65",
       "style": "IPY_MODEL_0fe596b033aa4d17a44e6bb1301c2e63",
       "tooltip": "Click to import the selected asset"
      }
     },
     "cbcee54e4d71432183a07e9d9c7a3b69": {
      "model_module": "@jupyter-widgets/base",
      "model_module_version": "2.0.0",
      "model_name": "LayoutModel",
      "state": {
       "height": "auto",
       "padding": "0px 0px 0px 4px",
       "width": "auto"
      }
     },
     "cc2e745f639e4b34af8baf7dcfcee599": {
      "model_module": "jupyter-leaflet",
      "model_module_version": "^0.17",
      "model_name": "LeafletTileLayerModel",
      "state": {
       "_model_module_version": "^0.17",
       "_view_module_version": "^0.17",
       "attribution": "Google Earth Engine",
       "max_zoom": 24,
       "name": "landsat7_may_29_clipped",
       "options": [
        "attribution",
        "bounds",
        "detect_retina",
        "max_native_zoom",
        "max_zoom",
        "min_native_zoom",
        "min_zoom",
        "no_wrap",
        "tile_size",
        "tms",
        "zoom_offset"
       ],
       "url": "https://earthengine.googleapis.com/v1/projects/earthengine-legacy/maps/81f963e4b89dc26848f8f955400a434f-5ea16268657f8e7c8a6ca576407055a8/tiles/{z}/{x}/{y}"
      }
     },
     "cc3c8391b36f4642a8819430e166770c": {
      "model_module": "@jupyter-widgets/base",
      "model_module_version": "2.0.0",
      "model_name": "LayoutModel",
      "state": {
       "height": "28px",
       "width": "72px"
      }
     },
     "cc5dbbca26464129b66ec4b1b437c4b3": {
      "model_module": "@jupyter-widgets/base",
      "model_module_version": "2.0.0",
      "model_name": "LayoutModel",
      "state": {
       "height": "auto",
       "padding": "0px 0px 0px 4px",
       "width": "auto"
      }
     },
     "cc83b37b345a4f43a159d5f3d4fce8a3": {
      "model_module": "@jupyter-widgets/base",
      "model_module_version": "2.0.0",
      "model_name": "LayoutModel",
      "state": {
       "height": "28px",
       "padding": "0px 0px 0px 4px",
       "width": "28px"
      }
     },
     "cc9b5956f9114eaf83ffeffb175c7be9": {
      "model_module": "@jupyter-widgets/base",
      "model_module_version": "2.0.0",
      "model_name": "LayoutModel",
      "state": {
       "height": "600px"
      }
     },
     "ccbad4a1868240059024f499b406c7c3": {
      "model_module": "@jupyter-widgets/controls",
      "model_module_version": "2.0.0",
      "model_name": "VBoxModel",
      "state": {
       "children": [
        "IPY_MODEL_75a46870a37c440084f826456a854167",
        "IPY_MODEL_41586b61ba654432b8ced834ac81fafc"
       ],
       "layout": "IPY_MODEL_662e9ceed00a4d63be75cdbcab1b5bd5"
      }
     },
     "ccc4f1609b0647728384c84862da0bbf": {
      "model_module": "@jupyter-widgets/controls",
      "model_module_version": "2.0.0",
      "model_name": "TextStyleModel",
      "state": {
       "description_width": "",
       "font_size": null,
       "text_color": null
      }
     },
     "ccf85a6164aa4990b90a65a5b7424aef": {
      "model_module": "@jupyter-widgets/controls",
      "model_module_version": "2.0.0",
      "model_name": "ToggleButtonStyleModel",
      "state": {
       "description_width": "",
       "font_family": null,
       "font_size": null,
       "font_style": null,
       "font_variant": null,
       "font_weight": null,
       "text_color": null,
       "text_decoration": null
      }
     },
     "cd0f339e0b0940b49147ee0038e536b1": {
      "model_module": "@jupyter-widgets/base",
      "model_module_version": "2.0.0",
      "model_name": "LayoutModel",
      "state": {
       "height": "auto",
       "padding": "0px 0px 0px 4px",
       "width": "auto"
      }
     },
     "cd2c490369e94bf2a1e8fcf64d8a83a9": {
      "model_module": "@jupyter-widgets/controls",
      "model_module_version": "2.0.0",
      "model_name": "RadioButtonsModel",
      "state": {
       "index": null,
       "layout": "IPY_MODEL_20c8f6dc7d134a5b83867991124ff183",
       "style": "IPY_MODEL_a03a915deb95420cb3bd9fb3ee9d35f9"
      }
     },
     "cd50a77dc44c425ebc755e16fab84992": {
      "model_module": "@jupyter-widgets/base",
      "model_module_version": "2.0.0",
      "model_name": "LayoutModel",
      "state": {}
     },
     "cd5d8c126f36481ca3c87a67ca042490": {
      "model_module": "@jupyter-widgets/base",
      "model_module_version": "2.0.0",
      "model_name": "LayoutModel",
      "state": {
       "height": "28px",
       "padding": "0px 0px 0px 4px",
       "width": "28px"
      }
     },
     "cd7ae3cc27974339bff82a9a58bb0ac4": {
      "model_module": "@jupyter-widgets/controls",
      "model_module_version": "2.0.0",
      "model_name": "ToggleButtonModel",
      "state": {
       "button_style": "primary",
       "icon": "folder-open",
       "layout": "IPY_MODEL_2ca7954dc9f5490bab8c99f4ef338b3b",
       "style": "IPY_MODEL_fbd3e1ddba1d4bbbbda716e01e4eb6e0",
       "tooltip": "Open local vector/raster data"
      }
     },
     "cda3881d3f9141e28f78b4164e7038fe": {
      "model_module": "@jupyter-widgets/base",
      "model_module_version": "2.0.0",
      "model_name": "LayoutModel",
      "state": {}
     },
     "cdd622e3e20746eca387001dbbf61df0": {
      "model_module": "@jupyter-widgets/base",
      "model_module_version": "2.0.0",
      "model_name": "LayoutModel",
      "state": {
       "height": "auto",
       "padding": "0px 0px 0px 4px",
       "width": "auto"
      }
     },
     "cdda0da8b7be4d11aaa75fe0e9f2489f": {
      "model_module": "@jupyter-widgets/base",
      "model_module_version": "2.0.0",
      "model_name": "LayoutModel",
      "state": {
       "width": "340px"
      }
     },
     "cf1e2b6be0da4ddea4ead9fb6b850cf4": {
      "model_module": "@jupyter-widgets/controls",
      "model_module_version": "2.0.0",
      "model_name": "TextStyleModel",
      "state": {
       "description_width": "",
       "font_size": null,
       "text_color": null
      }
     },
     "cf5acdca4e2d4b998913b3e26cef4d99": {
      "model_module": "@jupyter-widgets/controls",
      "model_module_version": "2.0.0",
      "model_name": "ButtonStyleModel",
      "state": {
       "font_family": null,
       "font_size": null,
       "font_style": null,
       "font_variant": null,
       "font_weight": null,
       "text_color": null,
       "text_decoration": null
      }
     },
     "cf9bbd7dd10c40df951a5f3f23701ad9": {
      "model_module": "@jupyter-widgets/controls",
      "model_module_version": "2.0.0",
      "model_name": "ToggleButtonStyleModel",
      "state": {
       "description_width": "",
       "font_family": null,
       "font_size": null,
       "font_style": null,
       "font_variant": null,
       "font_weight": null,
       "text_color": null,
       "text_decoration": null
      }
     },
     "cfd30676f4c943478f8c71a30f5198a0": {
      "model_module": "jupyter-leaflet",
      "model_module_version": "^0.17",
      "model_name": "LeafletFullScreenControlModel",
      "state": {
       "_model_module_version": "^0.17",
       "_view_module_version": "^0.17",
       "options": [
        "position"
       ]
      }
     },
     "cfe8fdaf2f0f4a45914371e5297f8f0d": {
      "model_module": "@jupyter-widgets/base",
      "model_module_version": "2.0.0",
      "model_name": "LayoutModel",
      "state": {
       "height": "600px"
      }
     },
     "d00c68cd541c4f5b98eee7927690d649": {
      "model_module": "@jupyter-widgets/controls",
      "model_module_version": "2.0.0",
      "model_name": "ToggleButtonModel",
      "state": {
       "button_style": "primary",
       "icon": "hand-o-up",
       "layout": "IPY_MODEL_aa1ebf66d129485d9c786a01311a949e",
       "style": "IPY_MODEL_81f3978b45f445a899ad5abfc4c53cc2",
       "tooltip": "Collect training samples"
      }
     },
     "d08f8981b51041a6ae1961d0c186b918": {
      "model_module": "@jupyter-widgets/controls",
      "model_module_version": "2.0.0",
      "model_name": "ToggleButtonModel",
      "state": {
       "button_style": "primary",
       "icon": "plus",
       "layout": "IPY_MODEL_dcc48ee6960f4f82b3273fca959df72a",
       "style": "IPY_MODEL_176c69c8a55f46f8b8a8b7da2186a209",
       "tooltip": "Expand toolbar"
      }
     },
     "d0abc03974db4140aa062cc67cc4ef64": {
      "model_module": "@jupyter-widgets/base",
      "model_module_version": "2.0.0",
      "model_name": "LayoutModel",
      "state": {
       "height": "auto",
       "padding": "0px 0px 0px 4px",
       "width": "auto"
      }
     },
     "d0cb7fb5278449ea95a2d4e9292eea48": {
      "model_module": "@jupyter-widgets/controls",
      "model_module_version": "2.0.0",
      "model_name": "ToggleButtonModel",
      "state": {
       "button_style": "primary",
       "icon": "map",
       "layout": "IPY_MODEL_6311af45725a41f791a9e2bcb7af1675",
       "style": "IPY_MODEL_4410f586a0a54a01ab45eb633977b7bd",
       "tooltip": "Change basemap"
      }
     },
     "d16821ac7a934d548711def35e1d3006": {
      "model_module": "@jupyter-widgets/controls",
      "model_module_version": "2.0.0",
      "model_name": "HTMLModel",
      "state": {
       "layout": "IPY_MODEL_1ab432933d1f45a3b724090b88ab5165",
       "style": "IPY_MODEL_a9e9aa07ac7143c188efc61d20357d18"
      }
     },
     "d17ef2e01a4a4a1f86218ec655c6b5f1": {
      "model_module": "jupyter-leaflet",
      "model_module_version": "^0.17",
      "model_name": "LeafletTileLayerModel",
      "state": {
       "_model_module_version": "^0.17",
       "_view_module_version": "^0.17",
       "attribution": "&copy; <a href=\"https://www.openstreetmap.org/copyright\">OpenStreetMap</a> contributors",
       "base": true,
       "max_zoom": 19,
       "min_zoom": 1,
       "name": "OpenStreetMap.Mapnik",
       "options": [
        "attribution",
        "bounds",
        "detect_retina",
        "max_native_zoom",
        "max_zoom",
        "min_native_zoom",
        "min_zoom",
        "no_wrap",
        "tile_size",
        "tms",
        "zoom_offset"
       ],
       "url": "https://tile.openstreetmap.org/{z}/{x}/{y}.png"
      }
     },
     "d19006f1bd174748b64ed14b71b60843": {
      "model_module": "@jupyter-widgets/controls",
      "model_module_version": "2.0.0",
      "model_name": "ToggleButtonModel",
      "state": {
       "button_style": "primary",
       "icon": "adjust",
       "layout": "IPY_MODEL_fbb2565b7510456e8bbb7bf7ccea25d3",
       "style": "IPY_MODEL_d8511b78e65a459497bebb3253af0e23",
       "tooltip": "Planet imagery"
      }
     },
     "d1d210cc3e294c02b935dba97c8b11f8": {
      "model_module": "@jupyter-widgets/controls",
      "model_module_version": "2.0.0",
      "model_name": "TextModel",
      "state": {
       "layout": "IPY_MODEL_587eb429dd7145c3a523445d49fa8315",
       "placeholder": "Search by place name or address",
       "style": "IPY_MODEL_c2ddf4a0aec84b7d9e21c15f39c6ef8f",
       "tooltip": "Search location"
      }
     },
     "d201a4dc2cfe4ed1924ac20b89c41c97": {
      "model_module": "@jupyter-widgets/controls",
      "model_module_version": "2.0.0",
      "model_name": "ButtonModel",
      "state": {
       "button_style": "primary",
       "description": "import",
       "layout": "IPY_MODEL_17ac99a9499445c3b178806f337e15dd",
       "style": "IPY_MODEL_aa162874e5634ab889fdc11363c5399f",
       "tooltip": "Click to import the selected asset"
      }
     },
     "d22495c961f74ba0bf8f03062c0c849b": {
      "model_module": "@jupyter-widgets/controls",
      "model_module_version": "2.0.0",
      "model_name": "ToggleButtonsModel",
      "state": {
       "_options_labels": [
        "name/address",
        "lat-lon",
        "data"
       ],
       "button_style": "",
       "icons": [],
       "index": 0,
       "layout": "IPY_MODEL_ba3416327f734ea9b90db5b9868de9a3",
       "style": "IPY_MODEL_ea3d9d9da76f4192b361e9560ee516f4",
       "tooltips": [
        "Search by place name or address",
        "Search by lat-lon coordinates",
        "Search Earth Engine data catalog"
       ]
      }
     },
     "d2b7678b2f3345f089a8ee5e31b58afb": {
      "model_module": "@jupyter-widgets/controls",
      "model_module_version": "2.0.0",
      "model_name": "ToggleButtonModel",
      "state": {
       "button_style": "primary",
       "icon": "fast-forward",
       "layout": "IPY_MODEL_7fe73628476747e08b44145137290216",
       "style": "IPY_MODEL_8d450be7e21546a0bd7b05dac046336b",
       "tooltip": "Activate timeslider"
      }
     },
     "d2cccd44bb7844539b6022954e2bc830": {
      "model_module": "@jupyter-widgets/controls",
      "model_module_version": "2.0.0",
      "model_name": "ToggleButtonStyleModel",
      "state": {
       "description_width": "",
       "font_family": null,
       "font_size": null,
       "font_style": null,
       "font_variant": null,
       "font_weight": null,
       "text_color": null,
       "text_decoration": null
      }
     },
     "d30a293bd48f49edab26ff409d73d409": {
      "model_module": "@jupyter-widgets/output",
      "model_module_version": "1.0.0",
      "model_name": "OutputModel",
      "state": {
       "layout": "IPY_MODEL_ffe200b0d4924fc588ff6bb473fe9972"
      }
     },
     "d344a0696a8a4f6a91c0eb44932edcc6": {
      "model_module": "@jupyter-widgets/base",
      "model_module_version": "2.0.0",
      "model_name": "LayoutModel",
      "state": {}
     },
     "d357cb19390d4dedb30898356c5e695c": {
      "model_module": "@jupyter-widgets/base",
      "model_module_version": "2.0.0",
      "model_name": "LayoutModel",
      "state": {
       "height": "auto",
       "padding": "0px 0px 0px 4px",
       "width": "auto"
      }
     },
     "d36caa917abb49459f8a1b8b0c76a6b6": {
      "model_module": "@jupyter-widgets/base",
      "model_module_version": "2.0.0",
      "model_name": "LayoutModel",
      "state": {}
     },
     "d3ab69ea8a154f489d948763dafd1d7e": {
      "model_module": "@jupyter-widgets/base",
      "model_module_version": "2.0.0",
      "model_name": "LayoutModel",
      "state": {
       "height": "auto",
       "padding": "0px 0px 0px 4px",
       "width": "auto"
      }
     },
     "d3b586199db744f28bde2106f62d7eb1": {
      "model_module": "@jupyter-widgets/controls",
      "model_module_version": "2.0.0",
      "model_name": "ToggleButtonStyleModel",
      "state": {
       "description_width": "",
       "font_family": null,
       "font_size": null,
       "font_style": null,
       "font_variant": null,
       "font_weight": null,
       "text_color": null,
       "text_decoration": null
      }
     },
     "d3c260e6791d464286a917afcc62a566": {
      "model_module": "@jupyter-widgets/output",
      "model_module_version": "1.0.0",
      "model_name": "OutputModel",
      "state": {
       "layout": "IPY_MODEL_292a1f88dcd144a991bda82071f6ab07"
      }
     },
     "d40a538bfb8c4fbd9bcb96db177a39d3": {
      "model_module": "jupyter-leaflet",
      "model_module_version": "^0.17",
      "model_name": "LeafletTileLayerModel",
      "state": {
       "_model_module_version": "^0.17",
       "_view_module_version": "^0.17",
       "attribution": "Google Earth Engine",
       "max_zoom": 24,
       "name": "landsat7_may_13_clipped",
       "options": [
        "attribution",
        "bounds",
        "detect_retina",
        "max_native_zoom",
        "max_zoom",
        "min_native_zoom",
        "min_zoom",
        "no_wrap",
        "tile_size",
        "tms",
        "zoom_offset"
       ],
       "url": "https://earthengine.googleapis.com/v1/projects/earthengine-legacy/maps/b98cd2d6f3b2261d186e3a84b2e71155-fc8ee386d1f38ad8804e6c7688eeb659/tiles/{z}/{x}/{y}"
      }
     },
     "d44560f6ff274113848b90d895435476": {
      "model_module": "@jupyter-widgets/controls",
      "model_module_version": "2.0.0",
      "model_name": "ToggleButtonStyleModel",
      "state": {
       "description_width": "",
       "font_family": null,
       "font_size": null,
       "font_style": null,
       "font_variant": null,
       "font_weight": null,
       "text_color": null,
       "text_decoration": null
      }
     },
     "d45214ef2ae149c48a16d00a6a9928ed": {
      "model_module": "ipyevents",
      "model_module_version": "2.0.2",
      "model_name": "EventModel",
      "state": {
       "_supported_key_events": [
        "keydown",
        "keyup"
       ],
       "_supported_mouse_events": [
        "click",
        "auxclick",
        "dblclick",
        "mouseenter",
        "mouseleave",
        "mousedown",
        "mouseup",
        "mousemove",
        "wheel",
        "contextmenu",
        "dragstart",
        "drag",
        "dragend",
        "dragenter",
        "dragover",
        "dragleave",
        "drop"
       ],
       "_supported_touch_events": [
        "touchstart",
        "touchend",
        "touchmove",
        "touchcancel"
       ],
       "_view_module": "@jupyter-widgets/controls",
       "source": "IPY_MODEL_bf93e02386974efdb232993d9330418f",
       "throttle_or_debounce": "",
       "watched_events": [
        "mouseenter",
        "mouseleave"
       ],
       "xy_coordinate_system": ""
      }
     },
     "d45ca3820d8845a5bf7e49559d9d6eea": {
      "model_module": "jupyter-leaflet",
      "model_module_version": "^0.17",
      "model_name": "LeafletZoomControlModel",
      "state": {
       "_model_module_version": "^0.17",
       "_view_module_version": "^0.17",
       "options": [
        "position",
        "zoom_in_text",
        "zoom_in_title",
        "zoom_out_text",
        "zoom_out_title"
       ]
      }
     },
     "d46ed9018f7e402c975013256926e190": {
      "model_module": "@jupyter-widgets/controls",
      "model_module_version": "2.0.0",
      "model_name": "ToggleButtonStyleModel",
      "state": {
       "description_width": "",
       "font_family": null,
       "font_size": null,
       "font_style": null,
       "font_variant": null,
       "font_weight": null,
       "text_color": null,
       "text_decoration": null
      }
     },
     "d48149216bef4190b7938156d91e6ef4": {
      "model_module": "@jupyter-widgets/output",
      "model_module_version": "1.0.0",
      "model_name": "OutputModel",
      "state": {
       "layout": "IPY_MODEL_5c27976e21a1415996b9cb24f1bb4bde"
      }
     },
     "d493b63e6ded47e7ba3a689843f2cc58": {
      "model_module": "jupyter-leaflet",
      "model_module_version": "^0.17",
      "model_name": "LeafletAttributionControlModel",
      "state": {
       "_model_module_version": "^0.17",
       "_view_module_version": "^0.17",
       "options": [
        "position",
        "prefix"
       ],
       "position": "bottomright",
       "prefix": "ipyleaflet"
      }
     },
     "d5120b3690b641e68206f3adcca965f5": {
      "model_module": "@jupyter-widgets/controls",
      "model_module_version": "2.0.0",
      "model_name": "ToggleButtonStyleModel",
      "state": {
       "description_width": "",
       "font_family": null,
       "font_size": null,
       "font_style": null,
       "font_variant": null,
       "font_weight": null,
       "text_color": null,
       "text_decoration": null
      }
     },
     "d521493165254e48b598b3c4cf2d4c92": {
      "model_module": "jupyter-leaflet",
      "model_module_version": "^0.17",
      "model_name": "LeafletDrawControlModel",
      "state": {
       "_model_module_version": "^0.17",
       "_view_module_version": "^0.17",
       "marker": {
        "shapeOptions": {
         "color": "#3388ff"
        }
       },
       "options": [
        "position"
       ],
       "polygon": {
        "shapeOptions": {
         "clickable": true,
         "color": "#3388ff",
         "fill": true,
         "fillColor": null,
         "fillOpacity": 0.2,
         "opacity": 0.5,
         "stroke": true,
         "weight": 4
        }
       },
       "polyline": {
        "shapeOptions": {
         "clickable": true,
         "color": "#3388ff",
         "fill": false,
         "opacity": 0.5,
         "stroke": true,
         "weight": 4
        }
       },
       "rectangle": {
        "shapeOptions": {
         "clickable": true,
         "color": "#3388ff",
         "fill": true,
         "fillColor": null,
         "fillOpacity": 0.2,
         "opacity": 0.5,
         "stroke": true,
         "weight": 4
        }
       }
      }
     },
     "d5336df21aa44c29b9329e0db17e869c": {
      "model_module": "@jupyter-widgets/controls",
      "model_module_version": "2.0.0",
      "model_name": "VBoxModel",
      "state": {
       "_view_count": 1,
       "children": [
        "IPY_MODEL_f78dc9d53373431dbcf037f5d60cc655"
       ],
       "layout": "IPY_MODEL_9fa63248d74347909ad4fa62da5a5d4d"
      }
     },
     "d5a71bf844ff45ac993a2c5def2bfe30": {
      "model_module": "@jupyter-widgets/controls",
      "model_module_version": "2.0.0",
      "model_name": "ToggleButtonStyleModel",
      "state": {
       "description_width": "",
       "font_family": null,
       "font_size": null,
       "font_style": null,
       "font_variant": null,
       "font_weight": null,
       "text_color": null,
       "text_decoration": null
      }
     },
     "d5a9bb557e064f908c3d4905e44d61c5": {
      "model_module": "@jupyter-widgets/base",
      "model_module_version": "2.0.0",
      "model_name": "LayoutModel",
      "state": {
       "max_height": "350px",
       "max_width": "340px",
       "overflow": "scroll"
      }
     },
     "d5b93e57067b47c2b75441867376c6fe": {
      "model_module": "@jupyter-widgets/base",
      "model_module_version": "2.0.0",
      "model_name": "LayoutModel",
      "state": {
       "height": "28px",
       "width": "72px"
      }
     },
     "d5dc804d55e24910b884763e2fc34868": {
      "model_module": "@jupyter-widgets/controls",
      "model_module_version": "2.0.0",
      "model_name": "ToggleButtonModel",
      "state": {
       "button_style": "primary",
       "icon": "globe",
       "layout": "IPY_MODEL_b2ffbe9be04740aea754c0d1f79a4b88",
       "style": "IPY_MODEL_878986e3e5714504873c5c055b85e80a",
       "tooltip": "Create timelapse"
      }
     },
     "d5f84aa48cd64bfd805684cff80d8a28": {
      "model_module": "@jupyter-widgets/base",
      "model_module_version": "2.0.0",
      "model_name": "LayoutModel",
      "state": {}
     },
     "d60329bbcb3042118bfb5fb23862cf0e": {
      "model_module": "@jupyter-widgets/controls",
      "model_module_version": "2.0.0",
      "model_name": "ToggleButtonModel",
      "state": {
       "button_style": "primary",
       "icon": "line-chart",
       "layout": "IPY_MODEL_efb1ba3cc7b24d9796e24c29bb1c53b9",
       "style": "IPY_MODEL_d5a71bf844ff45ac993a2c5def2bfe30",
       "tooltip": "Creating and plotting transects"
      }
     },
     "d61502c97da14650808ff05a434bc4f1": {
      "model_module": "@jupyter-widgets/base",
      "model_module_version": "2.0.0",
      "model_name": "LayoutModel",
      "state": {}
     },
     "d672f49b40834dc89d80c47cf5dbb9dc": {
      "model_module": "@jupyter-widgets/controls",
      "model_module_version": "2.0.0",
      "model_name": "ButtonModel",
      "state": {
       "button_style": "primary",
       "description": "import",
       "layout": "IPY_MODEL_a719ad3992b94a73a952a0153aab420f",
       "style": "IPY_MODEL_675c439b52ed4090a79bb35f46df9bb4",
       "tooltip": "Click to import the selected asset"
      }
     },
     "d6a1c06b652f4c2088d37887e7a6674b": {
      "model_module": "@jupyter-widgets/controls",
      "model_module_version": "2.0.0",
      "model_name": "ToggleButtonModel",
      "state": {
       "button_style": "primary",
       "icon": "line-chart",
       "layout": "IPY_MODEL_846bd42c6ef24bb78a6997e50e339b4c",
       "style": "IPY_MODEL_bfa0af12e43442739016bd7379ed77c8",
       "tooltip": "Creating and plotting transects"
      }
     },
     "d6ec6b5e0d584545965dfe2dd50c52d9": {
      "model_module": "@jupyter-widgets/controls",
      "model_module_version": "2.0.0",
      "model_name": "ToggleButtonStyleModel",
      "state": {
       "description_width": "",
       "font_family": null,
       "font_size": null,
       "font_style": null,
       "font_variant": null,
       "font_weight": null,
       "text_color": null,
       "text_decoration": null
      }
     },
     "d6f4e4c14c8c4616a78ce74ffdc90608": {
      "model_module": "ipyevents",
      "model_module_version": "2.0.2",
      "model_name": "EventModel",
      "state": {
       "_supported_key_events": [
        "keydown",
        "keyup"
       ],
       "_supported_mouse_events": [
        "click",
        "auxclick",
        "dblclick",
        "mouseenter",
        "mouseleave",
        "mousedown",
        "mouseup",
        "mousemove",
        "wheel",
        "contextmenu",
        "dragstart",
        "drag",
        "dragend",
        "dragenter",
        "dragover",
        "dragleave",
        "drop"
       ],
       "_supported_touch_events": [
        "touchstart",
        "touchend",
        "touchmove",
        "touchcancel"
       ],
       "_view_module": "@jupyter-widgets/controls",
       "source": "IPY_MODEL_56c1885c5f9e4442a3b6d00aaca3761a",
       "throttle_or_debounce": "",
       "watched_events": [
        "mouseenter",
        "mouseleave"
       ],
       "xy_coordinate_system": ""
      }
     },
     "d7213648862f432dbed5e0e77e807033": {
      "model_module": "@jupyter-widgets/controls",
      "model_module_version": "2.0.0",
      "model_name": "ToggleButtonModel",
      "state": {
       "button_style": "primary",
       "icon": "plus",
       "layout": "IPY_MODEL_beffaa8607e042d6a774c33acc0a25d7",
       "style": "IPY_MODEL_d2cccd44bb7844539b6022954e2bc830",
       "tooltip": "Expand toolbar"
      }
     },
     "d78d4c9f229548288bd032bc3262f6d9": {
      "model_module": "@jupyter-widgets/output",
      "model_module_version": "1.0.0",
      "model_name": "OutputModel",
      "state": {
       "layout": "IPY_MODEL_6745a91c8c2b4abd95c4fd67be70ba52"
      }
     },
     "d79ffe3c59274234bad66b61a73fdb58": {
      "model_module": "@jupyter-widgets/controls",
      "model_module_version": "2.0.0",
      "model_name": "ToggleButtonStyleModel",
      "state": {
       "description_width": "",
       "font_family": null,
       "font_size": null,
       "font_style": null,
       "font_variant": null,
       "font_weight": null,
       "text_color": null,
       "text_decoration": null
      }
     },
     "d7b5389ef2554500958934e1b314e6df": {
      "model_module": "@jupyter-widgets/base",
      "model_module_version": "2.0.0",
      "model_name": "LayoutModel",
      "state": {}
     },
     "d832a88f423d4d30a4589db13a6c0b69": {
      "model_module": "@jupyter-widgets/controls",
      "model_module_version": "2.0.0",
      "model_name": "ToggleButtonsStyleModel",
      "state": {
       "button_width": "110px",
       "description_width": ""
      }
     },
     "d8511b78e65a459497bebb3253af0e23": {
      "model_module": "@jupyter-widgets/controls",
      "model_module_version": "2.0.0",
      "model_name": "ToggleButtonStyleModel",
      "state": {
       "description_width": "",
       "font_family": null,
       "font_size": null,
       "font_style": null,
       "font_variant": null,
       "font_weight": null,
       "text_color": null,
       "text_decoration": null
      }
     },
     "d871dd008d574422904d702c871e81ba": {
      "model_module": "jupyter-leaflet",
      "model_module_version": "^0.17",
      "model_name": "LeafletTileLayerModel",
      "state": {
       "_model_module_version": "^0.17",
       "_view_module_version": "^0.17",
       "attribution": "Google",
       "max_zoom": 24,
       "name": "Google Maps",
       "options": [
        "attribution",
        "bounds",
        "detect_retina",
        "max_native_zoom",
        "max_zoom",
        "min_native_zoom",
        "min_zoom",
        "no_wrap",
        "tile_size",
        "tms",
        "zoom_offset"
       ],
       "url": "https://mt1.google.com/vt/lyrs=m&x={x}&y={y}&z={z}"
      }
     },
     "d871e9be94ce4b41bd8fd4ae034b764e": {
      "model_module": "@jupyter-widgets/controls",
      "model_module_version": "2.0.0",
      "model_name": "ToggleButtonModel",
      "state": {
       "button_style": "primary",
       "icon": "plus",
       "layout": "IPY_MODEL_8d96a8a137834db1800cde42e8505a33",
       "style": "IPY_MODEL_268e413402b7446194881b3f8d4748ef",
       "tooltip": "Expand toolbar"
      }
     },
     "d8b552d7f60643568099e611ba319d67": {
      "model_module": "@jupyter-widgets/controls",
      "model_module_version": "2.0.0",
      "model_name": "DropdownModel",
      "state": {
       "index": null,
       "layout": "IPY_MODEL_60fa56ef99294344be5c01b652f17019",
       "style": "IPY_MODEL_2cb996fa24474dd19f611c0f32fb2889"
      }
     },
     "d8c57c5a9d474efe942602b225e215de": {
      "model_module": "@jupyter-widgets/controls",
      "model_module_version": "2.0.0",
      "model_name": "ToggleButtonModel",
      "state": {
       "button_style": "primary",
       "icon": "plus",
       "layout": "IPY_MODEL_25552372bc5b4c80b753f496f5ededca",
       "style": "IPY_MODEL_6bad6da5c40741c2918d40f5fa1dab0e",
       "tooltip": "Expand toolbar"
      }
     },
     "d93a7d4b1e944f53a73750a01fc62616": {
      "model_module": "jupyter-leaflet",
      "model_module_version": "^0.17",
      "model_name": "LeafletZoomControlModel",
      "state": {
       "_model_module_version": "^0.17",
       "_view_module_version": "^0.17",
       "options": [
        "position",
        "zoom_in_text",
        "zoom_in_title",
        "zoom_out_text",
        "zoom_out_title"
       ]
      }
     },
     "d93b2b9dfa9b4f368f5369e610090883": {
      "model_module": "ipyevents",
      "model_module_version": "2.0.2",
      "model_name": "EventModel",
      "state": {
       "_supported_key_events": [
        "keydown",
        "keyup"
       ],
       "_supported_mouse_events": [
        "click",
        "auxclick",
        "dblclick",
        "mouseenter",
        "mouseleave",
        "mousedown",
        "mouseup",
        "mousemove",
        "wheel",
        "contextmenu",
        "dragstart",
        "drag",
        "dragend",
        "dragenter",
        "dragover",
        "dragleave",
        "drop"
       ],
       "_supported_touch_events": [
        "touchstart",
        "touchend",
        "touchmove",
        "touchcancel"
       ],
       "_view_module": "@jupyter-widgets/controls",
       "source": "IPY_MODEL_003d3ad9923c4db192b04718dcd5bc11",
       "throttle_or_debounce": "",
       "watched_events": [
        "mouseenter",
        "mouseleave"
       ],
       "xy_coordinate_system": ""
      }
     },
     "da6ebc25bfb0450a94f10c45d408b7e9": {
      "model_module": "@jupyter-widgets/controls",
      "model_module_version": "2.0.0",
      "model_name": "TextStyleModel",
      "state": {
       "description_width": "",
       "font_size": null,
       "text_color": null
      }
     },
     "dab1fd8c2c754b60ae4912074944b1b2": {
      "model_module": "@jupyter-widgets/base",
      "model_module_version": "2.0.0",
      "model_name": "LayoutModel",
      "state": {
       "height": "auto",
       "padding": "0px 0px 0px 4px",
       "width": "auto"
      }
     },
     "daba2893c42b4bc59f4afc12d9151bb6": {
      "model_module": "jupyter-leaflet",
      "model_module_version": "^0.17",
      "model_name": "LeafletFullScreenControlModel",
      "state": {
       "_model_module_version": "^0.17",
       "_view_module_version": "^0.17",
       "options": [
        "position"
       ]
      }
     },
     "dae9fd9b2edc4d299663b197ace87551": {
      "model_module": "@jupyter-widgets/controls",
      "model_module_version": "2.0.0",
      "model_name": "GridBoxModel",
      "state": {
       "children": [
        "IPY_MODEL_58146b71fb794b0f9a70670114bca15c",
        "IPY_MODEL_b6357c02ebba47a5850642eab9d5e433",
        "IPY_MODEL_9bb150e77c7447aa93913fa3ed7824cb",
        "IPY_MODEL_7caa674b8a4b45819a1c83b4bf5018df",
        "IPY_MODEL_be05d98fa5a64818ba43e90844c69432",
        "IPY_MODEL_d08f8981b51041a6ae1961d0c186b918"
       ],
       "layout": "IPY_MODEL_c699a80781894173a864d379c2a7cce8"
      }
     },
     "db0db2432376434ebea1d1df296db210": {
      "model_module": "@jupyter-widgets/base",
      "model_module_version": "2.0.0",
      "model_name": "LayoutModel",
      "state": {}
     },
     "db25ccb0417d4c6ea7312ba0d48c05c9": {
      "model_module": "@jupyter-widgets/base",
      "model_module_version": "2.0.0",
      "model_name": "LayoutModel",
      "state": {
       "height": "auto",
       "padding": "0px 0px 0px 4px",
       "width": "auto"
      }
     },
     "db2e7101c56a4ade86afa8cc2f220080": {
      "model_module": "@jupyter-widgets/base",
      "model_module_version": "2.0.0",
      "model_name": "LayoutModel",
      "state": {
       "height": "auto",
       "padding": "0px 0px 0px 4px",
       "width": "auto"
      }
     },
     "db876ef2ee3e4e6fa4518208cdc257b9": {
      "model_module": "@jupyter-widgets/controls",
      "model_module_version": "2.0.0",
      "model_name": "ToggleButtonStyleModel",
      "state": {
       "description_width": "",
       "font_family": null,
       "font_size": null,
       "font_style": null,
       "font_variant": null,
       "font_weight": null,
       "text_color": null,
       "text_decoration": null
      }
     },
     "db934ef0c072405e9ed2181948f31a97": {
      "model_module": "@jupyter-widgets/controls",
      "model_module_version": "2.0.0",
      "model_name": "ToggleButtonStyleModel",
      "state": {
       "description_width": "",
       "font_family": null,
       "font_size": null,
       "font_style": null,
       "font_variant": null,
       "font_weight": null,
       "text_color": null,
       "text_decoration": null
      }
     },
     "dba49e0e00504466a7ca9dd6574abefd": {
      "model_module": "@jupyter-widgets/controls",
      "model_module_version": "2.0.0",
      "model_name": "ToggleButtonStyleModel",
      "state": {
       "description_width": "",
       "font_family": null,
       "font_size": null,
       "font_style": null,
       "font_variant": null,
       "font_weight": null,
       "text_color": null,
       "text_decoration": null
      }
     },
     "dbafed9b7377435f939c490767270dff": {
      "model_module": "@jupyter-widgets/controls",
      "model_module_version": "2.0.0",
      "model_name": "HBoxModel",
      "state": {
       "children": [
        "IPY_MODEL_1e66cc8421244ab286773e50aadbea70",
        "IPY_MODEL_a2c0716b033a44d2962408aa23d9f0ca"
       ],
       "layout": "IPY_MODEL_95f3cb5afb5a442380655befc5891a48"
      }
     },
     "dbbf2aca50bd4871a13868fc31c4dc59": {
      "model_module": "@jupyter-widgets/controls",
      "model_module_version": "2.0.0",
      "model_name": "ToggleButtonsStyleModel",
      "state": {
       "button_width": "110px",
       "description_width": ""
      }
     },
     "dbe87d161e81438b8d3c22ec6f33d847": {
      "model_module": "@jupyter-widgets/controls",
      "model_module_version": "2.0.0",
      "model_name": "ToggleButtonStyleModel",
      "state": {
       "description_width": "",
       "font_family": null,
       "font_size": null,
       "font_style": null,
       "font_variant": null,
       "font_weight": null,
       "text_color": null,
       "text_decoration": null
      }
     },
     "dc0ba6931d404e2c9c064533385a93a4": {
      "model_module": "@jupyter-widgets/controls",
      "model_module_version": "2.0.0",
      "model_name": "ToggleButtonModel",
      "state": {
       "button_style": "primary",
       "icon": "map",
       "layout": "IPY_MODEL_031f7eb5a0c54a1991738ea3f31eec9f",
       "style": "IPY_MODEL_efc390fada2745ca9d00a4cd4c8f7021",
       "tooltip": "Change basemap"
      }
     },
     "dc14b22496084f448493b21711f3f079": {
      "model_module": "@jupyter-widgets/base",
      "model_module_version": "2.0.0",
      "model_name": "LayoutModel",
      "state": {
       "height": "auto",
       "padding": "0px 0px 0px 4px",
       "width": "auto"
      }
     },
     "dc263435fb384c0cb287f5a08e73fec3": {
      "model_module": "@jupyter-widgets/controls",
      "model_module_version": "2.0.0",
      "model_name": "ToggleButtonStyleModel",
      "state": {
       "description_width": "",
       "font_family": null,
       "font_size": null,
       "font_style": null,
       "font_variant": null,
       "font_weight": null,
       "text_color": null,
       "text_decoration": null
      }
     },
     "dc35ce1aba92492995d72509f96473fd": {
      "model_module": "@jupyter-widgets/controls",
      "model_module_version": "2.0.0",
      "model_name": "VBoxModel",
      "state": {
       "children": [
        "IPY_MODEL_443b5737c94b47a1b24ca198dad9b1c6",
        "IPY_MODEL_878bea8919eb4554ad9e18498e7ef125"
       ],
       "layout": "IPY_MODEL_7a50f6d5ed0c41c0ad6ad03d3aeeafdf"
      }
     },
     "dc7c38fe4d8a4224993ebdafa0479ad0": {
      "model_module": "@jupyter-widgets/base",
      "model_module_version": "2.0.0",
      "model_name": "LayoutModel",
      "state": {
       "height": "auto",
       "padding": "0px 0px 0px 4px",
       "width": "auto"
      }
     },
     "dc91df3ae5d2478bbea564f5447374cd": {
      "model_module": "@jupyter-widgets/controls",
      "model_module_version": "2.0.0",
      "model_name": "ToggleButtonStyleModel",
      "state": {
       "description_width": "",
       "font_family": null,
       "font_size": null,
       "font_style": null,
       "font_variant": null,
       "font_weight": null,
       "text_color": null,
       "text_decoration": null
      }
     },
     "dcc48ee6960f4f82b3273fca959df72a": {
      "model_module": "@jupyter-widgets/base",
      "model_module_version": "2.0.0",
      "model_name": "LayoutModel",
      "state": {
       "height": "auto",
       "padding": "0px 0px 0px 4px",
       "width": "auto"
      }
     },
     "dcd18cd9567241e6a96351b0f9334d27": {
      "model_module": "@jupyter-widgets/controls",
      "model_module_version": "2.0.0",
      "model_name": "ToggleButtonStyleModel",
      "state": {
       "description_width": "",
       "font_family": null,
       "font_size": null,
       "font_style": null,
       "font_variant": null,
       "font_weight": null,
       "text_color": null,
       "text_decoration": null
      }
     },
     "dd0e39a46a8244f1bf298b5c1d7d6501": {
      "model_module": "@jupyter-widgets/controls",
      "model_module_version": "2.0.0",
      "model_name": "ToggleButtonStyleModel",
      "state": {
       "description_width": "",
       "font_family": null,
       "font_size": null,
       "font_style": null,
       "font_variant": null,
       "font_weight": null,
       "text_color": null,
       "text_decoration": null
      }
     },
     "dd35572bd97743a694f2973c3064d1ff": {
      "model_module": "@jupyter-widgets/controls",
      "model_module_version": "2.0.0",
      "model_name": "ToggleButtonsStyleModel",
      "state": {
       "button_width": "110px",
       "description_width": ""
      }
     },
     "de07c360543140f683e93fc604295b26": {
      "model_module": "@jupyter-widgets/controls",
      "model_module_version": "2.0.0",
      "model_name": "ToggleButtonModel",
      "state": {
       "button_style": "primary",
       "icon": "fast-forward",
       "layout": "IPY_MODEL_c7a39a7024f9403083c76d92ed25723e",
       "style": "IPY_MODEL_ed4f16daee2a48c09db1d36bcb406a78",
       "tooltip": "Activate timeslider"
      }
     },
     "de196982166c46c3bcf23a3e6eae5b76": {
      "model_module": "jupyter-leaflet",
      "model_module_version": "^0.17",
      "model_name": "LeafletDrawControlModel",
      "state": {
       "_model_module_version": "^0.17",
       "_view_module_version": "^0.17",
       "marker": {
        "shapeOptions": {
         "color": "#3388ff"
        }
       },
       "options": [
        "position"
       ],
       "polygon": {
        "shapeOptions": {
         "clickable": true,
         "color": "#3388ff",
         "fill": true,
         "fillColor": null,
         "fillOpacity": 0.2,
         "opacity": 0.5,
         "stroke": true,
         "weight": 4
        }
       },
       "polyline": {
        "shapeOptions": {
         "clickable": true,
         "color": "#3388ff",
         "fill": false,
         "opacity": 0.5,
         "stroke": true,
         "weight": 4
        }
       },
       "rectangle": {
        "shapeOptions": {
         "clickable": true,
         "color": "#3388ff",
         "fill": true,
         "fillColor": null,
         "fillOpacity": 0.2,
         "opacity": 0.5,
         "stroke": true,
         "weight": 4
        }
       }
      }
     },
     "de270e71fe82420b84667daf235ed8f3": {
      "model_module": "@jupyter-widgets/base",
      "model_module_version": "2.0.0",
      "model_name": "LayoutModel",
      "state": {
       "height": "28px",
       "padding": "0px 0px 0px 4px",
       "width": "28px"
      }
     },
     "de460cda5a3f418a8350580b96d6dd5a": {
      "model_module": "jupyter-leaflet",
      "model_module_version": "^0.17",
      "model_name": "LeafletAttributionControlModel",
      "state": {
       "_model_module_version": "^0.17",
       "_view_module_version": "^0.17",
       "options": [
        "position",
        "prefix"
       ],
       "position": "bottomright",
       "prefix": "ipyleaflet"
      }
     },
     "ded30ee12c094059aa0ddeb1e2ca4850": {
      "model_module": "@jupyter-widgets/base",
      "model_module_version": "2.0.0",
      "model_name": "LayoutModel",
      "state": {}
     },
     "deddd71ab14440e79708f876241c1dec": {
      "model_module": "jupyter-leaflet",
      "model_module_version": "^0.17",
      "model_name": "LeafletWidgetControlModel",
      "state": {
       "_model_module": "jupyter-leaflet",
       "_model_module_version": "^0.17",
       "_view_count": null,
       "_view_module": "jupyter-leaflet",
       "_view_module_version": "^0.17",
       "options": [
        "position",
        "transparent_bg"
       ],
       "position": "topright",
       "widget": "IPY_MODEL_ca4ea327d3a54dab8527d9ce5f6471f4"
      }
     },
     "dedeb4f52631441e8a67a807b7905ea6": {
      "model_module": "@jupyter-widgets/controls",
      "model_module_version": "2.0.0",
      "model_name": "ToggleButtonModel",
      "state": {
       "button_style": "primary",
       "icon": "map",
       "layout": "IPY_MODEL_7610f7c06fce4a54948c928b80e9e8e4",
       "style": "IPY_MODEL_bb4e0c906bc04f9b99cfdc0a98cd2d08",
       "tooltip": "Change basemap"
      }
     },
     "dee496e0880242c280439e872c5a4a0b": {
      "model_module": "@jupyter-widgets/controls",
      "model_module_version": "2.0.0",
      "model_name": "ToggleButtonStyleModel",
      "state": {
       "description_width": "",
       "font_family": null,
       "font_size": null,
       "font_style": null,
       "font_variant": null,
       "font_weight": null,
       "text_color": null,
       "text_decoration": null
      }
     },
     "df48ad0808c74a0c97e4875e2b7c049f": {
      "model_module": "@jupyter-widgets/controls",
      "model_module_version": "2.0.0",
      "model_name": "ToggleButtonModel",
      "state": {
       "button_style": "primary",
       "icon": "hand-o-up",
       "layout": "IPY_MODEL_9b1a56b5da3e4746a75108106af51532",
       "style": "IPY_MODEL_10daa2ee8cbf4e09a69633f681093408",
       "tooltip": "Collect training samples"
      }
     },
     "df70cc69e9b64e2fbc282c773dec11a5": {
      "model_module": "@jupyter-widgets/base",
      "model_module_version": "2.0.0",
      "model_name": "LayoutModel",
      "state": {
       "height": "28px",
       "padding": "0px 0px 0px 4px",
       "width": "28px"
      }
     },
     "df7c954dd24f4ce89bcdd152557263b7": {
      "model_module": "@jupyter-widgets/controls",
      "model_module_version": "2.0.0",
      "model_name": "ToggleButtonModel",
      "state": {
       "button_style": "primary",
       "icon": "info",
       "layout": "IPY_MODEL_69b1ad4c162a443da5a830896737723b",
       "style": "IPY_MODEL_a94458b89e4c461c88a8eba39225aae0",
       "tooltip": "Inspector"
      }
     },
     "dfa0443ff1d642828f3f8ffe2d9b97e4": {
      "model_module": "jupyter-leaflet",
      "model_module_version": "^0.17",
      "model_name": "LeafletMeasureControlModel",
      "state": {
       "_model_module_version": "^0.17",
       "_view_module_version": "^0.17",
       "active_color": "orange",
       "options": [
        "active_color",
        "capture_z_index",
        "completed_color",
        "popup_options",
        "position",
        "primary_area_unit",
        "primary_length_unit",
        "secondary_area_unit",
        "secondary_length_unit"
       ],
       "position": "bottomleft",
       "primary_length_unit": "kilometers",
       "secondary_area_unit": null,
       "secondary_length_unit": null
      }
     },
     "dfb424bca1e24f0c84e76b9b40f1168d": {
      "model_module": "jupyter-leaflet",
      "model_module_version": "^0.17",
      "model_name": "LeafletMapStyleModel",
      "state": {
       "_model_module_version": "^0.17",
       "cursor": "move"
      }
     },
     "e01cc7d575834b49a62bc8e96c16beb9": {
      "model_module": "@jupyter-widgets/controls",
      "model_module_version": "2.0.0",
      "model_name": "ToggleButtonStyleModel",
      "state": {
       "description_width": "",
       "font_family": null,
       "font_size": null,
       "font_style": null,
       "font_variant": null,
       "font_weight": null,
       "text_color": null,
       "text_decoration": null
      }
     },
     "e0ceb12f8df84995bfc9f611f12be0b7": {
      "model_module": "@jupyter-widgets/controls",
      "model_module_version": "2.0.0",
      "model_name": "ToggleButtonStyleModel",
      "state": {
       "description_width": "",
       "font_family": null,
       "font_size": null,
       "font_style": null,
       "font_variant": null,
       "font_weight": null,
       "text_color": null,
       "text_decoration": null
      }
     },
     "e13c6ef1b2f14c18a7e961da2ff94d84": {
      "model_module": "@jupyter-widgets/controls",
      "model_module_version": "2.0.0",
      "model_name": "HBoxModel",
      "state": {
       "children": [
        "IPY_MODEL_05b2a97b257348fc96e31a5417600f90",
        "IPY_MODEL_ed1fa4680a3c4338b802c4eb5a35d17c"
       ],
       "layout": "IPY_MODEL_6ac16dd288da4ac3bc0700379f233df9"
      }
     },
     "e14eaf555f094e62aee9ae2e9e89c708": {
      "model_module": "@jupyter-widgets/controls",
      "model_module_version": "2.0.0",
      "model_name": "ToggleButtonStyleModel",
      "state": {
       "description_width": "",
       "font_family": null,
       "font_size": null,
       "font_style": null,
       "font_variant": null,
       "font_weight": null,
       "text_color": null,
       "text_decoration": null
      }
     },
     "e171ee8b61514a8ebe1d35f0a24545d4": {
      "model_module": "@jupyter-widgets/output",
      "model_module_version": "1.0.0",
      "model_name": "OutputModel",
      "state": {
       "layout": "IPY_MODEL_9f222c5c36d146739684a8d627941cb6"
      }
     },
     "e1bd23c5d83e4314a5010038b8fcd89f": {
      "model_module": "@jupyter-widgets/controls",
      "model_module_version": "2.0.0",
      "model_name": "GridBoxModel",
      "state": {
       "children": [
        "IPY_MODEL_558cb5baf4914b4c8fcd4dae9002568f",
        "IPY_MODEL_6aa0ec4bee604fffb9a2f1fba002c946",
        "IPY_MODEL_3588b36ebfc74867b8dde236783fe47c",
        "IPY_MODEL_dc0ba6931d404e2c9c064533385a93a4",
        "IPY_MODEL_eaf21f23bab74ab480f1fe4644b672f9",
        "IPY_MODEL_d7213648862f432dbed5e0e77e807033"
       ],
       "layout": "IPY_MODEL_92fa2aee3ad04ec19758c9742141a37b"
      }
     },
     "e1fc674686b44a3a81ead7e595236559": {
      "model_module": "@jupyter-widgets/controls",
      "model_module_version": "2.0.0",
      "model_name": "ToggleButtonStyleModel",
      "state": {
       "description_width": "",
       "font_family": null,
       "font_size": null,
       "font_style": null,
       "font_variant": null,
       "font_weight": null,
       "text_color": null,
       "text_decoration": null
      }
     },
     "e29f3baf8b5e402a96444452c9389f25": {
      "model_module": "@jupyter-widgets/controls",
      "model_module_version": "2.0.0",
      "model_name": "ToggleButtonModel",
      "state": {
       "button_style": "primary",
       "icon": "map",
       "layout": "IPY_MODEL_e65e151d92c54b97b3b335c801a29a30",
       "style": "IPY_MODEL_317632ae7cdc47ada5f37d1be9d5973f",
       "tooltip": "Change basemap"
      }
     },
     "e2d930e88e93481ea64ed34ea0a3f707": {
      "model_module": "@jupyter-widgets/base",
      "model_module_version": "2.0.0",
      "model_name": "LayoutModel",
      "state": {}
     },
     "e2dd44cfeab347c28f7cf3bcd9c2ba0d": {
      "model_module": "jupyter-leaflet",
      "model_module_version": "^0.17",
      "model_name": "LeafletAttributionControlModel",
      "state": {
       "_model_module_version": "^0.17",
       "_view_module_version": "^0.17",
       "options": [
        "position",
        "prefix"
       ],
       "position": "bottomright",
       "prefix": "ipyleaflet"
      }
     },
     "e2ddd4ded92a431e8e8f41856452d785": {
      "model_module": "@jupyter-widgets/controls",
      "model_module_version": "2.0.0",
      "model_name": "ToggleButtonStyleModel",
      "state": {
       "description_width": "",
       "font_family": null,
       "font_size": null,
       "font_style": null,
       "font_variant": null,
       "font_weight": null,
       "text_color": null,
       "text_decoration": null
      }
     },
     "e2e11ef445e24b9bb014ebe7a6fb1970": {
      "model_module": "@jupyter-widgets/controls",
      "model_module_version": "2.0.0",
      "model_name": "ToggleButtonModel",
      "state": {
       "icon": "globe",
       "layout": "IPY_MODEL_f2b3cdb30eec48819c3c096a82bb2685",
       "style": "IPY_MODEL_0c2760e6b5e1495cb0c0cc36127ca635",
       "tooltip": "Search location/data"
      }
     },
     "e33cdf0921fc429da0ec883d77dfad86": {
      "model_module": "ipyevents",
      "model_module_version": "2.0.2",
      "model_name": "EventModel",
      "state": {
       "_supported_key_events": [
        "keydown",
        "keyup"
       ],
       "_supported_mouse_events": [
        "click",
        "auxclick",
        "dblclick",
        "mouseenter",
        "mouseleave",
        "mousedown",
        "mouseup",
        "mousemove",
        "wheel",
        "contextmenu",
        "dragstart",
        "drag",
        "dragend",
        "dragenter",
        "dragover",
        "dragleave",
        "drop"
       ],
       "_supported_touch_events": [
        "touchstart",
        "touchend",
        "touchmove",
        "touchcancel"
       ],
       "_view_module": "@jupyter-widgets/controls",
       "source": "IPY_MODEL_a03cd97dd6284ab8b98fea7e47a67b94",
       "throttle_or_debounce": "",
       "watched_events": [
        "mouseenter",
        "mouseleave"
       ],
       "xy_coordinate_system": ""
      }
     },
     "e370623b49044a12a1dd2a5bf238107a": {
      "model_module": "@jupyter-widgets/controls",
      "model_module_version": "2.0.0",
      "model_name": "TextStyleModel",
      "state": {
       "description_width": "",
       "font_size": null,
       "text_color": null
      }
     },
     "e3c5b97d04334daa817f8d05ef9a83c5": {
      "model_module": "@jupyter-widgets/base",
      "model_module_version": "2.0.0",
      "model_name": "LayoutModel",
      "state": {
       "max_height": "350px",
       "max_width": "340px",
       "overflow": "scroll"
      }
     },
     "e40482be4d964621a94e0945d79b955e": {
      "model_module": "jupyter-leaflet",
      "model_module_version": "^0.17",
      "model_name": "LeafletWidgetControlModel",
      "state": {
       "_model_module": "jupyter-leaflet",
       "_model_module_version": "^0.17",
       "_view_count": null,
       "_view_module": "jupyter-leaflet",
       "_view_module_version": "^0.17",
       "options": [
        "position",
        "transparent_bg"
       ],
       "position": "topright",
       "widget": "IPY_MODEL_50f739dab871451b861b2e4d3e53b521"
      }
     },
     "e47ed969b0f24809abd0b721e2687ef6": {
      "model_module": "@jupyter-widgets/base",
      "model_module_version": "2.0.0",
      "model_name": "LayoutModel",
      "state": {
       "max_width": "279px",
       "min_width": "279px"
      }
     },
     "e4a13e18fbb34628a0ecec3d8c62a7b3": {
      "model_module": "jupyter-leaflet",
      "model_module_version": "^0.17",
      "model_name": "LeafletMapStyleModel",
      "state": {
       "_model_module_version": "^0.17",
       "cursor": "move"
      }
     },
     "e4bb4847195147d092463f19f2deb339": {
      "model_module": "@jupyter-widgets/controls",
      "model_module_version": "2.0.0",
      "model_name": "ToggleButtonModel",
      "state": {
       "icon": "globe",
       "layout": "IPY_MODEL_86788d64e58d47c8b5c04db250371570",
       "style": "IPY_MODEL_dee496e0880242c280439e872c5a4a0b",
       "tooltip": "Search location/data"
      }
     },
     "e4ff2072143b4a2b81163e3590752cd3": {
      "model_module": "@jupyter-widgets/controls",
      "model_module_version": "2.0.0",
      "model_name": "ToggleButtonModel",
      "state": {
       "button_style": "primary",
       "icon": "info-circle",
       "layout": "IPY_MODEL_131830a1cdf1402ebf3a9e94af21bf93",
       "style": "IPY_MODEL_a4f15bc6dca84eaaba5ff99e371f32e6",
       "tooltip": "Get COG/STAC pixel value"
      }
     },
     "e55dfb51632a4a1db95d184e01c9c782": {
      "model_module": "jupyter-leaflet",
      "model_module_version": "^0.17",
      "model_name": "LeafletWidgetControlModel",
      "state": {
       "_model_module": "jupyter-leaflet",
       "_model_module_version": "^0.17",
       "_view_count": null,
       "_view_module": "jupyter-leaflet",
       "_view_module_version": "^0.17",
       "options": [
        "position",
        "transparent_bg"
       ],
       "position": "topleft",
       "widget": "IPY_MODEL_fd91741d5fef464894d681dce1b46609"
      }
     },
     "e60020db90eb428f96720c6169b49d35": {
      "model_module": "@jupyter-widgets/base",
      "model_module_version": "2.0.0",
      "model_name": "LayoutModel",
      "state": {}
     },
     "e62b4ac0aeb748609ed38679ebd2a9df": {
      "model_module": "@jupyter-widgets/controls",
      "model_module_version": "2.0.0",
      "model_name": "GridBoxModel",
      "state": {
       "children": [
        "IPY_MODEL_f705fd772a7e45bcad9a3f81deebce64",
        "IPY_MODEL_859e6f67fda242bcb3a5bd9a2439862a",
        "IPY_MODEL_d5dc804d55e24910b884763e2fc34868",
        "IPY_MODEL_e29f3baf8b5e402a96444452c9389f25",
        "IPY_MODEL_a44d5096c9f14a05843c40a77a5a814c",
        "IPY_MODEL_ea9e6a8f61b64e73a62aa854db14cc88"
       ],
       "layout": "IPY_MODEL_6adf8440b06047039509096d9085b852"
      }
     },
     "e640b9c8b0bb4a2ab60419b9f6cd98cd": {
      "model_module": "@jupyter-widgets/controls",
      "model_module_version": "2.0.0",
      "model_name": "ToggleButtonModel",
      "state": {
       "button_style": "primary",
       "icon": "map",
       "layout": "IPY_MODEL_6dc4d9c68af24db5868daa857918e43c",
       "style": "IPY_MODEL_927d27e3230f402a83f4122d72af082d",
       "tooltip": "Change basemap"
      }
     },
     "e64701a4760b4e12b8d15bc9ceb6af57": {
      "model_module": "@jupyter-widgets/base",
      "model_module_version": "2.0.0",
      "model_name": "LayoutModel",
      "state": {
       "height": "auto",
       "padding": "0px 0px 0px 4px",
       "width": "auto"
      }
     },
     "e64b8cd245c14d529154ec319c4f55bd": {
      "model_module": "jupyter-leaflet",
      "model_module_version": "^0.17",
      "model_name": "LeafletDrawControlModel",
      "state": {
       "_model_module_version": "^0.17",
       "_view_module_version": "^0.17",
       "marker": {
        "shapeOptions": {
         "color": "#3388ff"
        }
       },
       "options": [
        "position"
       ],
       "polygon": {
        "shapeOptions": {
         "clickable": true,
         "color": "#3388ff",
         "fill": true,
         "fillColor": null,
         "fillOpacity": 0.2,
         "opacity": 0.5,
         "stroke": true,
         "weight": 4
        }
       },
       "polyline": {
        "shapeOptions": {
         "clickable": true,
         "color": "#3388ff",
         "fill": false,
         "opacity": 0.5,
         "stroke": true,
         "weight": 4
        }
       },
       "rectangle": {
        "shapeOptions": {
         "clickable": true,
         "color": "#3388ff",
         "fill": true,
         "fillColor": null,
         "fillOpacity": 0.2,
         "opacity": 0.5,
         "stroke": true,
         "weight": 4
        }
       }
      }
     },
     "e65431b21246446ca8b6e85af723ea89": {
      "model_module": "@jupyter-widgets/controls",
      "model_module_version": "2.0.0",
      "model_name": "ToggleButtonStyleModel",
      "state": {
       "description_width": "",
       "font_family": null,
       "font_size": null,
       "font_style": null,
       "font_variant": null,
       "font_weight": null,
       "text_color": null,
       "text_decoration": null
      }
     },
     "e65e151d92c54b97b3b335c801a29a30": {
      "model_module": "@jupyter-widgets/base",
      "model_module_version": "2.0.0",
      "model_name": "LayoutModel",
      "state": {
       "height": "auto",
       "padding": "0px 0px 0px 4px",
       "width": "auto"
      }
     },
     "e703170b9af0436c850ffa830ecae6ed": {
      "model_module": "@jupyter-widgets/controls",
      "model_module_version": "2.0.0",
      "model_name": "ToggleButtonStyleModel",
      "state": {
       "description_width": "",
       "font_family": null,
       "font_size": null,
       "font_style": null,
       "font_variant": null,
       "font_weight": null,
       "text_color": null,
       "text_decoration": null
      }
     },
     "e70dd473a91041c2a73f1d0ce0c5718a": {
      "model_module": "jupyter-leaflet",
      "model_module_version": "^0.17",
      "model_name": "LeafletWidgetControlModel",
      "state": {
       "_model_module": "jupyter-leaflet",
       "_model_module_version": "^0.17",
       "_view_count": null,
       "_view_module": "jupyter-leaflet",
       "_view_module_version": "^0.17",
       "options": [
        "position",
        "transparent_bg"
       ],
       "position": "topleft",
       "widget": "IPY_MODEL_beaf1b924c9f4c45b8e07e77aee7410e"
      }
     },
     "e728907df3a144eba1a6a84968a7a463": {
      "model_module": "jupyter-leaflet",
      "model_module_version": "^0.17",
      "model_name": "LeafletZoomControlModel",
      "state": {
       "_model_module_version": "^0.17",
       "_view_module_version": "^0.17",
       "options": [
        "position",
        "zoom_in_text",
        "zoom_in_title",
        "zoom_out_text",
        "zoom_out_title"
       ]
      }
     },
     "e7713504d0d84647a3f2e0171d5fc324": {
      "model_module": "@jupyter-widgets/controls",
      "model_module_version": "2.0.0",
      "model_name": "ToggleButtonModel",
      "state": {
       "button_style": "primary",
       "icon": "globe",
       "layout": "IPY_MODEL_5200257fba9f4822a5d3eff3ebd08a8c",
       "style": "IPY_MODEL_32bd062b94f24aaa8676432e1b26be98",
       "tooltip": "Create timelapse"
      }
     },
     "e7737ff60b9e483fb51335d9a9bb09d9": {
      "model_module": "@jupyter-widgets/base",
      "model_module_version": "2.0.0",
      "model_name": "LayoutModel",
      "state": {
       "height": "auto",
       "padding": "0px 0px 0px 4px",
       "width": "auto"
      }
     },
     "e78b04a9f10c45e0884e7dfba55b08f9": {
      "model_module": "jupyter-leaflet",
      "model_module_version": "^0.17",
      "model_name": "LeafletMapStyleModel",
      "state": {
       "_model_module_version": "^0.17"
      }
     },
     "e7922faa71af44c989786374e6bd76c2": {
      "model_module": "@jupyter-widgets/controls",
      "model_module_version": "2.0.0",
      "model_name": "ToggleButtonModel",
      "state": {
       "button_style": "primary",
       "icon": "eraser",
       "layout": "IPY_MODEL_afd2a24cb84a4b37bf0d651b0d5fe9b7",
       "style": "IPY_MODEL_55b01924b9454bfc8877a6bfe17e4fe6",
       "tooltip": "Remove all drawn features"
      }
     },
     "e7bc97e09e50408b9f998c5718937ac1": {
      "model_module": "@jupyter-widgets/controls",
      "model_module_version": "2.0.0",
      "model_name": "ToggleButtonModel",
      "state": {
       "button_style": "primary",
       "icon": "random",
       "layout": "IPY_MODEL_9798d4f0a7284a4db2fc03220e05ea72",
       "style": "IPY_MODEL_2d0ae6cf1706431587dd7fa98e1baa24",
       "tooltip": "Sankey plots"
      }
     },
     "e7d1921f2f6f47cbb9134f02fc532ed1": {
      "model_module": "jupyter-leaflet",
      "model_module_version": "^0.17",
      "model_name": "LeafletTileLayerModel",
      "state": {
       "_model_module_version": "^0.17",
       "_view_module_version": "^0.17",
       "attribution": "Google",
       "max_zoom": 24,
       "name": "Google Maps",
       "options": [
        "attribution",
        "bounds",
        "detect_retina",
        "max_native_zoom",
        "max_zoom",
        "min_native_zoom",
        "min_zoom",
        "no_wrap",
        "tile_size",
        "tms",
        "zoom_offset"
       ],
       "url": "https://mt1.google.com/vt/lyrs=m&x={x}&y={y}&z={z}"
      }
     },
     "e7d39d65df674d2cb818b413d275f50e": {
      "model_module": "@jupyter-widgets/base",
      "model_module_version": "2.0.0",
      "model_name": "LayoutModel",
      "state": {
       "height": "28px",
       "padding": "0px 0px 0px 4px",
       "width": "28px"
      }
     },
     "e7e2291b546845f991ad590ddffeec33": {
      "model_module": "@jupyter-widgets/controls",
      "model_module_version": "2.0.0",
      "model_name": "ToggleButtonModel",
      "state": {
       "button_style": "primary",
       "icon": "adjust",
       "layout": "IPY_MODEL_f3785caf088546e6b73dcf66ba4cd1bc",
       "style": "IPY_MODEL_4fb2c78c085748aabfcee4d985bc6a8a",
       "tooltip": "Planet imagery"
      }
     },
     "e81f813c9def412cb15797cd99f65586": {
      "model_module": "@jupyter-widgets/output",
      "model_module_version": "1.0.0",
      "model_name": "OutputModel",
      "state": {
       "layout": "IPY_MODEL_16db447a574a43ad8e12e9763d8818cb"
      }
     },
     "e8b941a1b3504fbb8f1ead8ae7625755": {
      "model_module": "jupyter-leaflet",
      "model_module_version": "^0.17",
      "model_name": "LeafletTileLayerModel",
      "state": {
       "_model_module_version": "^0.17",
       "_view_module_version": "^0.17",
       "attribution": "Google Earth Engine",
       "max_zoom": 24,
       "name": "landsat7_jun_14_clipped",
       "options": [
        "attribution",
        "bounds",
        "detect_retina",
        "max_native_zoom",
        "max_zoom",
        "min_native_zoom",
        "min_zoom",
        "no_wrap",
        "tile_size",
        "tms",
        "zoom_offset"
       ],
       "url": "https://earthengine.googleapis.com/v1/projects/earthengine-legacy/maps/88cd55512fbabb3a5a79da73e41df60b-dc479a4c1f7b5f83a7b154423ae1fbf2/tiles/{z}/{x}/{y}"
      }
     },
     "e8ea5663bf7c4f69a4f3f3074deffc66": {
      "model_module": "@jupyter-widgets/base",
      "model_module_version": "2.0.0",
      "model_name": "LayoutModel",
      "state": {}
     },
     "e99fccc818fb4466bd852f685681a588": {
      "model_module": "@jupyter-widgets/controls",
      "model_module_version": "2.0.0",
      "model_name": "ButtonModel",
      "state": {
       "button_style": "primary",
       "description": "import",
       "layout": "IPY_MODEL_f145289d631149ab8567a0d489852df5",
       "style": "IPY_MODEL_9eb23c24d7cb43a3911650671fb7dc11",
       "tooltip": "Click to import the selected asset"
      }
     },
     "e9a1b37850a24c6eae5cb0ce0753e6ba": {
      "model_module": "@jupyter-widgets/controls",
      "model_module_version": "2.0.0",
      "model_name": "ToggleButtonStyleModel",
      "state": {
       "description_width": "",
       "font_family": null,
       "font_size": null,
       "font_style": null,
       "font_variant": null,
       "font_weight": null,
       "text_color": null,
       "text_decoration": null
      }
     },
     "e9c5fffc28874e668144a6418a1af215": {
      "model_module": "jupyter-leaflet",
      "model_module_version": "^0.17",
      "model_name": "LeafletMapStyleModel",
      "state": {
       "_model_module_version": "^0.17",
       "cursor": "move"
      }
     },
     "ea3d9d9da76f4192b361e9560ee516f4": {
      "model_module": "@jupyter-widgets/controls",
      "model_module_version": "2.0.0",
      "model_name": "ToggleButtonsStyleModel",
      "state": {
       "button_width": "110px",
       "description_width": ""
      }
     },
     "ea55faac8d0144fda58bc4963888f2fd": {
      "model_module": "@jupyter-widgets/controls",
      "model_module_version": "2.0.0",
      "model_name": "ToggleButtonStyleModel",
      "state": {
       "description_width": "",
       "font_family": null,
       "font_size": null,
       "font_style": null,
       "font_variant": null,
       "font_weight": null,
       "text_color": null,
       "text_decoration": null
      }
     },
     "ea577fc82767406eaa41d7ef31f0dc7d": {
      "model_module": "jupyter-leaflet",
      "model_module_version": "^0.17",
      "model_name": "LeafletMapStyleModel",
      "state": {
       "_model_module_version": "^0.17"
      }
     },
     "ea9e6a8f61b64e73a62aa854db14cc88": {
      "model_module": "@jupyter-widgets/controls",
      "model_module_version": "2.0.0",
      "model_name": "ToggleButtonModel",
      "state": {
       "button_style": "primary",
       "icon": "plus",
       "layout": "IPY_MODEL_bed0a82d3e25442287d2ceb2ff089ce7",
       "style": "IPY_MODEL_b946c0ab74194e64ab4d9f7855c5feaf",
       "tooltip": "Expand toolbar"
      }
     },
     "eabc7e8e4d6642f6b7285c790b99ceaa": {
      "model_module": "@jupyter-widgets/base",
      "model_module_version": "2.0.0",
      "model_name": "LayoutModel",
      "state": {
       "height": "auto",
       "padding": "0px 0px 0px 4px",
       "width": "auto"
      }
     },
     "eaf21f23bab74ab480f1fe4644b672f9": {
      "model_module": "@jupyter-widgets/controls",
      "model_module_version": "2.0.0",
      "model_name": "ToggleButtonModel",
      "state": {
       "button_style": "primary",
       "icon": "retweet",
       "layout": "IPY_MODEL_74a30e3eae434aa09e162a2072cb977f",
       "style": "IPY_MODEL_3e9ec994b0b44bce857bdedb9d9e08f6",
       "tooltip": "Convert Earth Engine JavaScript to Python"
      }
     },
     "eb76b90b451444a3a137310a41e5643e": {
      "model_module": "@jupyter-widgets/controls",
      "model_module_version": "2.0.0",
      "model_name": "HBoxModel",
      "state": {
       "children": [
        "IPY_MODEL_d201a4dc2cfe4ed1924ac20b89c41c97",
        "IPY_MODEL_6781dfbde7234e7490ef715515df7287"
       ],
       "layout": "IPY_MODEL_ca4996db8f584d06913b10aacf70b2a9"
      }
     },
     "ebc199a3ed26405286bfd13ae23914b9": {
      "model_module": "jupyter-leaflet",
      "model_module_version": "^0.17",
      "model_name": "LeafletMeasureControlModel",
      "state": {
       "_model_module_version": "^0.17",
       "_view_module_version": "^0.17",
       "active_color": "orange",
       "options": [
        "active_color",
        "capture_z_index",
        "completed_color",
        "popup_options",
        "position",
        "primary_area_unit",
        "primary_length_unit",
        "secondary_area_unit",
        "secondary_length_unit"
       ],
       "position": "bottomleft",
       "primary_length_unit": "kilometers",
       "secondary_area_unit": null,
       "secondary_length_unit": null
      }
     },
     "ec26addc9b984462a67324a887813d1d": {
      "model_module": "jupyter-leaflet",
      "model_module_version": "^0.17",
      "model_name": "LeafletZoomControlModel",
      "state": {
       "_model_module_version": "^0.17",
       "_view_module_version": "^0.17",
       "options": [
        "position",
        "zoom_in_text",
        "zoom_in_title",
        "zoom_out_text",
        "zoom_out_title"
       ]
      }
     },
     "ec4fbd30bfa740f78a1c5ac11f62e440": {
      "model_module": "@jupyter-widgets/base",
      "model_module_version": "2.0.0",
      "model_name": "LayoutModel",
      "state": {}
     },
     "ec6b807a157e4737884876bd45b87b68": {
      "model_module": "@jupyter-widgets/controls",
      "model_module_version": "2.0.0",
      "model_name": "ToggleButtonStyleModel",
      "state": {
       "description_width": "",
       "font_family": null,
       "font_size": null,
       "font_style": null,
       "font_variant": null,
       "font_weight": null,
       "text_color": null,
       "text_decoration": null
      }
     },
     "ed1fa4680a3c4338b802c4eb5a35d17c": {
      "model_module": "@jupyter-widgets/controls",
      "model_module_version": "2.0.0",
      "model_name": "DropdownModel",
      "state": {
       "index": null,
       "layout": "IPY_MODEL_ffbcafdd12d943b0a65277dc4c1308f5",
       "style": "IPY_MODEL_33e83ec8225d420abc51b1b8990dc506"
      }
     },
     "ed4f16daee2a48c09db1d36bcb406a78": {
      "model_module": "@jupyter-widgets/controls",
      "model_module_version": "2.0.0",
      "model_name": "ToggleButtonStyleModel",
      "state": {
       "description_width": "",
       "font_family": null,
       "font_size": null,
       "font_style": null,
       "font_variant": null,
       "font_weight": null,
       "text_color": null,
       "text_decoration": null
      }
     },
     "edecba1006a546358b9842eb21336e8e": {
      "model_module": "@jupyter-widgets/base",
      "model_module_version": "2.0.0",
      "model_name": "LayoutModel",
      "state": {}
     },
     "ee3c9c1013bb428d8ffbf72e675632bb": {
      "model_module": "@jupyter-widgets/controls",
      "model_module_version": "2.0.0",
      "model_name": "DescriptionStyleModel",
      "state": {
       "description_width": ""
      }
     },
     "ee8107e9282848bfa55dc5109eaa5eda": {
      "model_module": "@jupyter-widgets/base",
      "model_module_version": "2.0.0",
      "model_name": "LayoutModel",
      "state": {
       "height": "auto",
       "padding": "0px 0px 0px 4px",
       "width": "auto"
      }
     },
     "eea7678cd41c40ca9345f87441c9f0d3": {
      "model_module": "@jupyter-widgets/controls",
      "model_module_version": "2.0.0",
      "model_name": "HBoxModel",
      "state": {
       "children": [
        "IPY_MODEL_71465b8146cb433c82ce83d92b6b819a",
        "IPY_MODEL_8f3b0996dbbb4281ad3a3d7a53327eb2"
       ],
       "layout": "IPY_MODEL_635ce255a5044c1287981c45486f8a29"
      }
     },
     "eeef7cb7f8d34c5ca31d31b2a41e724e": {
      "model_module": "@jupyter-widgets/controls",
      "model_module_version": "2.0.0",
      "model_name": "RadioButtonsModel",
      "state": {
       "index": null,
       "layout": "IPY_MODEL_2beec1ae62474ce5a31e95a341e94cc3",
       "style": "IPY_MODEL_17910c4e4af3451481f58640f01d1334"
      }
     },
     "ef792a3c0fda47199e0cb82dc774f7ad": {
      "model_module": "@jupyter-widgets/controls",
      "model_module_version": "2.0.0",
      "model_name": "HBoxModel",
      "state": {
       "children": [
        "IPY_MODEL_f794e2bcbc4e40e49f86d4b69f7ad7f4",
        "IPY_MODEL_a5d1cb134edc449b9eaa47858c06e6b6"
       ],
       "layout": "IPY_MODEL_9d8cd75e7c4b414bb7c1a115f974eaf8"
      }
     },
     "ef83e7c95f294dfe9137b7fb9d34ef21": {
      "model_module": "@jupyter-widgets/base",
      "model_module_version": "2.0.0",
      "model_name": "LayoutModel",
      "state": {
       "height": "auto",
       "padding": "0px 0px 0px 4px",
       "width": "auto"
      }
     },
     "efabf3c658e44f67afc46ed000c0e0b2": {
      "model_module": "@jupyter-widgets/controls",
      "model_module_version": "2.0.0",
      "model_name": "ToggleButtonModel",
      "state": {
       "button_style": "primary",
       "icon": "folder-open",
       "layout": "IPY_MODEL_c81fb2901f8e41f59c545b810c1d1855",
       "style": "IPY_MODEL_5a4478c33da7483d82b9e3a40509471c",
       "tooltip": "Open local vector/raster data"
      }
     },
     "efacbfeb02994473b605aab3fd48d8e1": {
      "model_module": "jupyter-leaflet",
      "model_module_version": "^0.17",
      "model_name": "LeafletWidgetControlModel",
      "state": {
       "_model_module": "jupyter-leaflet",
       "_model_module_version": "^0.17",
       "_view_count": null,
       "_view_module": "jupyter-leaflet",
       "_view_module_version": "^0.17",
       "options": [
        "position",
        "transparent_bg"
       ],
       "position": "topright",
       "widget": "IPY_MODEL_56c1885c5f9e4442a3b6d00aaca3761a"
      }
     },
     "efb1ba3cc7b24d9796e24c29bb1c53b9": {
      "model_module": "@jupyter-widgets/base",
      "model_module_version": "2.0.0",
      "model_name": "LayoutModel",
      "state": {
       "height": "auto",
       "padding": "0px 0px 0px 4px",
       "width": "auto"
      }
     },
     "efc390fada2745ca9d00a4cd4c8f7021": {
      "model_module": "@jupyter-widgets/controls",
      "model_module_version": "2.0.0",
      "model_name": "ToggleButtonStyleModel",
      "state": {
       "description_width": "",
       "font_family": null,
       "font_size": null,
       "font_style": null,
       "font_variant": null,
       "font_weight": null,
       "text_color": null,
       "text_decoration": null
      }
     },
     "efec71f3c7134400bb8446f920df56b5": {
      "model_module": "@jupyter-widgets/controls",
      "model_module_version": "2.0.0",
      "model_name": "HBoxModel",
      "state": {
       "children": [
        "IPY_MODEL_130788b420854f19971fa6c1ed33899f",
        "IPY_MODEL_f99c3b7f00ff41b79f90c11366dcbfc7"
       ],
       "layout": "IPY_MODEL_4a68168000974e20a9b7fdaea735a5f8"
      }
     },
     "f06aabd2f97a40ff9ff6d00b9e0c916e": {
      "model_module": "jupyter-leaflet",
      "model_module_version": "^0.17",
      "model_name": "LeafletWidgetControlModel",
      "state": {
       "_model_module": "jupyter-leaflet",
       "_model_module_version": "^0.17",
       "_view_count": null,
       "_view_module": "jupyter-leaflet",
       "_view_module_version": "^0.17",
       "options": [
        "position",
        "transparent_bg"
       ],
       "position": "topright",
       "widget": "IPY_MODEL_8ccf0b69187d4ac3ad600d1dcdddb1ec"
      }
     },
     "f0b4af7654d04d77b97e8a45e055eab9": {
      "model_module": "@jupyter-widgets/controls",
      "model_module_version": "2.0.0",
      "model_name": "ToggleButtonModel",
      "state": {
       "icon": "globe",
       "layout": "IPY_MODEL_bddc1c3ba67d4d608711ac602d2f7ea2",
       "style": "IPY_MODEL_7399fe884e0c48deab4d9301a5eb8550",
       "tooltip": "Search location/data"
      }
     },
     "f0dbc4e1611b4366823cd27c630b2c66": {
      "model_module": "@jupyter-widgets/controls",
      "model_module_version": "2.0.0",
      "model_name": "VBoxModel",
      "state": {
       "_view_count": 1,
       "children": [
        "IPY_MODEL_96511dd446c44d23bd2da1d37977907b"
       ],
       "layout": "IPY_MODEL_2dcb1996e6a7484e9e144480eb7f06b4"
      }
     },
     "f10acfd6e86b455ebb029dd6f8dd15ed": {
      "model_module": "jupyter-leaflet",
      "model_module_version": "^0.17",
      "model_name": "LeafletTileLayerModel",
      "state": {
       "_model_module_version": "^0.17",
       "_view_module_version": "^0.17",
       "attribution": "Google",
       "max_zoom": 24,
       "name": "Google Maps",
       "options": [
        "attribution",
        "bounds",
        "detect_retina",
        "max_native_zoom",
        "max_zoom",
        "min_native_zoom",
        "min_zoom",
        "no_wrap",
        "tile_size",
        "tms",
        "zoom_offset"
       ],
       "url": "https://mt1.google.com/vt/lyrs=m&x={x}&y={y}&z={z}"
      }
     },
     "f145289d631149ab8567a0d489852df5": {
      "model_module": "@jupyter-widgets/base",
      "model_module_version": "2.0.0",
      "model_name": "LayoutModel",
      "state": {
       "max_width": "57px",
       "min_width": "57px"
      }
     },
     "f15004f51e5043f5aa766f158eadbe8f": {
      "model_module": "@jupyter-widgets/base",
      "model_module_version": "2.0.0",
      "model_name": "LayoutModel",
      "state": {
       "height": "auto",
       "padding": "0px 0px 0px 4px",
       "width": "auto"
      }
     },
     "f19976cf2ce1409aab7455885a739af4": {
      "model_module": "@jupyter-widgets/controls",
      "model_module_version": "2.0.0",
      "model_name": "ToggleButtonModel",
      "state": {
       "button_style": "primary",
       "icon": "folder-open",
       "layout": "IPY_MODEL_c22500d766be412cbfda3a39865bb077",
       "style": "IPY_MODEL_58d566fa6ec94382ac94114784d55f62",
       "tooltip": "Open local vector/raster data"
      }
     },
     "f1a7ed0f771745e4bf7da849094c3588": {
      "model_module": "@jupyter-widgets/controls",
      "model_module_version": "2.0.0",
      "model_name": "ToggleButtonModel",
      "state": {
       "button_style": "primary",
       "icon": "eraser",
       "layout": "IPY_MODEL_3b889ffb11c44163a17716336fd5008d",
       "style": "IPY_MODEL_7b740ec13c94436ba856039866596ed7",
       "tooltip": "Remove all drawn features"
      }
     },
     "f1b9a88a17304f4f9fd912d3bd232308": {
      "model_module": "@jupyter-widgets/controls",
      "model_module_version": "2.0.0",
      "model_name": "HTMLStyleModel",
      "state": {
       "description_width": "",
       "font_size": null,
       "text_color": null
      }
     },
     "f1d52d6eaebf488881c5c1998ba705a2": {
      "model_module": "jupyter-leaflet",
      "model_module_version": "^0.17",
      "model_name": "LeafletMapStyleModel",
      "state": {
       "_model_module_version": "^0.17"
      }
     },
     "f1f562690ed3491cbcd43fa62f646fb5": {
      "model_module": "@jupyter-widgets/base",
      "model_module_version": "2.0.0",
      "model_name": "LayoutModel",
      "state": {
       "height": "auto",
       "padding": "0px 0px 0px 4px",
       "width": "auto"
      }
     },
     "f244c20440c4442d86edba4ce541ad2e": {
      "model_module": "jupyter-leaflet",
      "model_module_version": "^0.17",
      "model_name": "LeafletMapStyleModel",
      "state": {
       "_model_module_version": "^0.17"
      }
     },
     "f252bf1b25214271953845d886563164": {
      "model_module": "@jupyter-widgets/controls",
      "model_module_version": "2.0.0",
      "model_name": "ToggleButtonModel",
      "state": {
       "button_style": "primary",
       "icon": "line-chart",
       "layout": "IPY_MODEL_abb6284e8f4e46a3ba61e274ffa855fd",
       "style": "IPY_MODEL_e703170b9af0436c850ffa830ecae6ed",
       "tooltip": "Creating and plotting transects"
      }
     },
     "f286a260b4eb4d63a1ed08a569c84f5a": {
      "model_module": "@jupyter-widgets/base",
      "model_module_version": "2.0.0",
      "model_name": "LayoutModel",
      "state": {
       "max_width": "279px",
       "min_width": "279px"
      }
     },
     "f2b3cdb30eec48819c3c096a82bb2685": {
      "model_module": "@jupyter-widgets/base",
      "model_module_version": "2.0.0",
      "model_name": "LayoutModel",
      "state": {
       "height": "28px",
       "padding": "0px 0px 0px 4px",
       "width": "28px"
      }
     },
     "f3151a6d87994cfab3a614cd313e91be": {
      "model_module": "@jupyter-widgets/base",
      "model_module_version": "2.0.0",
      "model_name": "LayoutModel",
      "state": {
       "height": "auto",
       "padding": "0px 0px 0px 4px",
       "width": "auto"
      }
     },
     "f316e8d93ef6477bb2dbae27be8a2c51": {
      "model_module": "@jupyter-widgets/controls",
      "model_module_version": "2.0.0",
      "model_name": "HTMLStyleModel",
      "state": {
       "description_width": "",
       "font_size": null,
       "text_color": null
      }
     },
     "f3785caf088546e6b73dcf66ba4cd1bc": {
      "model_module": "@jupyter-widgets/base",
      "model_module_version": "2.0.0",
      "model_name": "LayoutModel",
      "state": {
       "height": "auto",
       "padding": "0px 0px 0px 4px",
       "width": "auto"
      }
     },
     "f3f0c77c8389481185df746d03b4d9d0": {
      "model_module": "@jupyter-widgets/controls",
      "model_module_version": "2.0.0",
      "model_name": "VBoxModel",
      "state": {
       "children": [
        "IPY_MODEL_14e22db3a6d8426eaf853013794f9384"
       ],
       "layout": "IPY_MODEL_2b38910e1a784c1b802809376b11cabb"
      }
     },
     "f45942d8f69949809a3527c112c5d94f": {
      "model_module": "@jupyter-widgets/base",
      "model_module_version": "2.0.0",
      "model_name": "LayoutModel",
      "state": {
       "height": "auto",
       "padding": "0px 0px 0px 4px",
       "width": "auto"
      }
     },
     "f46e8ffdd4414a6c990d256241e8263d": {
      "model_module": "@jupyter-widgets/base",
      "model_module_version": "2.0.0",
      "model_name": "LayoutModel",
      "state": {}
     },
     "f4d3859891664d5683b81d5bb990bd44": {
      "model_module": "@jupyter-widgets/controls",
      "model_module_version": "2.0.0",
      "model_name": "ToggleButtonStyleModel",
      "state": {
       "description_width": "",
       "font_family": null,
       "font_size": null,
       "font_style": null,
       "font_variant": null,
       "font_weight": null,
       "text_color": null,
       "text_decoration": null
      }
     },
     "f4f330e583d3494cab6c5a153f1424f2": {
      "model_module": "@jupyter-widgets/controls",
      "model_module_version": "2.0.0",
      "model_name": "ToggleButtonStyleModel",
      "state": {
       "description_width": "",
       "font_family": null,
       "font_size": null,
       "font_style": null,
       "font_variant": null,
       "font_weight": null,
       "text_color": null,
       "text_decoration": null
      }
     },
     "f51efda21cb04624beee8a3b4306ad61": {
      "model_module": "@jupyter-widgets/base",
      "model_module_version": "2.0.0",
      "model_name": "LayoutModel",
      "state": {
       "height": "auto",
       "padding": "0px 0px 0px 4px",
       "width": "auto"
      }
     },
     "f5b339a560e54168b27e321391a8c991": {
      "model_module": "jupyter-leaflet",
      "model_module_version": "^0.17",
      "model_name": "LeafletMapStyleModel",
      "state": {
       "_model_module_version": "^0.17"
      }
     },
     "f5ef1a5f50ef42ac9ec81a1655bcc9a6": {
      "model_module": "@jupyter-widgets/base",
      "model_module_version": "2.0.0",
      "model_name": "LayoutModel",
      "state": {}
     },
     "f620673bfe784b83a7aeaabaa82eaf4b": {
      "model_module": "ipyevents",
      "model_module_version": "2.0.2",
      "model_name": "EventModel",
      "state": {
       "_supported_key_events": [
        "keydown",
        "keyup"
       ],
       "_supported_mouse_events": [
        "click",
        "auxclick",
        "dblclick",
        "mouseenter",
        "mouseleave",
        "mousedown",
        "mouseup",
        "mousemove",
        "wheel",
        "contextmenu",
        "dragstart",
        "drag",
        "dragend",
        "dragenter",
        "dragover",
        "dragleave",
        "drop"
       ],
       "_supported_touch_events": [
        "touchstart",
        "touchend",
        "touchmove",
        "touchcancel"
       ],
       "_view_module": "@jupyter-widgets/controls",
       "source": "IPY_MODEL_50f739dab871451b861b2e4d3e53b521",
       "throttle_or_debounce": "",
       "watched_events": [
        "mouseenter",
        "mouseleave"
       ],
       "xy_coordinate_system": ""
      }
     },
     "f6ae4e89a0af4824a5bb3c0921cdddaa": {
      "model_module": "@jupyter-widgets/base",
      "model_module_version": "2.0.0",
      "model_name": "LayoutModel",
      "state": {
       "height": "auto",
       "padding": "0px 0px 0px 4px",
       "width": "auto"
      }
     },
     "f6f7df2f775845b6aca86615a60cc6fb": {
      "model_module": "@jupyter-widgets/controls",
      "model_module_version": "2.0.0",
      "model_name": "TextModel",
      "state": {
       "layout": "IPY_MODEL_160f452a3dfc4d7ebfc730cba69a59e0",
       "placeholder": "Search by place name or address",
       "style": "IPY_MODEL_25ab9a0c773d444fb16a78ab1e468b87",
       "tooltip": "Search location"
      }
     },
     "f705fd772a7e45bcad9a3f81deebce64": {
      "model_module": "@jupyter-widgets/controls",
      "model_module_version": "2.0.0",
      "model_name": "ToggleButtonModel",
      "state": {
       "button_style": "primary",
       "icon": "info",
       "layout": "IPY_MODEL_734068a2598a4051b2e527ce86158490",
       "style": "IPY_MODEL_14893f1cb8be49b19292988ee402964c",
       "tooltip": "Inspector"
      }
     },
     "f78dc9d53373431dbcf037f5d60cc655": {
      "model_module": "@jupyter-widgets/controls",
      "model_module_version": "2.0.0",
      "model_name": "ToggleButtonModel",
      "state": {
       "icon": "wrench",
       "layout": "IPY_MODEL_01da4565616145dea354c042e311fa2b",
       "style": "IPY_MODEL_1d57d9f905d448fda8ccddf5b9121801",
       "tooltip": "Toolbar"
      }
     },
     "f794e2bcbc4e40e49f86d4b69f7ad7f4": {
      "model_module": "@jupyter-widgets/controls",
      "model_module_version": "2.0.0",
      "model_name": "ButtonModel",
      "state": {
       "button_style": "primary",
       "description": "import",
       "layout": "IPY_MODEL_20ce710125724a89bce3cc00f0bca9a1",
       "style": "IPY_MODEL_9155548890134a67ae08f19908b79aef",
       "tooltip": "Click to import the selected asset"
      }
     },
     "f79dcc7ff4c84622a20959ec3602700c": {
      "model_module": "@jupyter-widgets/base",
      "model_module_version": "2.0.0",
      "model_name": "LayoutModel",
      "state": {}
     },
     "f80ae5a903b744ee9183bb1752d91c09": {
      "model_module": "@jupyter-widgets/base",
      "model_module_version": "2.0.0",
      "model_name": "LayoutModel",
      "state": {
       "height": "auto",
       "padding": "0px 0px 0px 4px",
       "width": "auto"
      }
     },
     "f815ebca3634418ba0abbda4a965023c": {
      "model_module": "@jupyter-widgets/controls",
      "model_module_version": "2.0.0",
      "model_name": "ToggleButtonStyleModel",
      "state": {
       "description_width": "",
       "font_family": null,
       "font_size": null,
       "font_style": null,
       "font_variant": null,
       "font_weight": null,
       "text_color": null,
       "text_decoration": null
      }
     },
     "f833f66a9daf4387aa0837a770c06122": {
      "model_module": "@jupyter-widgets/controls",
      "model_module_version": "2.0.0",
      "model_name": "ToggleButtonStyleModel",
      "state": {
       "description_width": "",
       "font_family": null,
       "font_size": null,
       "font_style": null,
       "font_variant": null,
       "font_weight": null,
       "text_color": null,
       "text_decoration": null
      }
     },
     "f850b464df5f4ca7b0d4e2e450063d21": {
      "model_module": "@jupyter-widgets/controls",
      "model_module_version": "2.0.0",
      "model_name": "ToggleButtonModel",
      "state": {
       "button_style": "primary",
       "icon": "line-chart",
       "layout": "IPY_MODEL_61091f0098fd44e2877937eba2890817",
       "style": "IPY_MODEL_cf9bbd7dd10c40df951a5f3f23701ad9",
       "tooltip": "Creating and plotting transects"
      }
     },
     "f874ec3416a24a60bd0867654671d920": {
      "model_module": "ipyevents",
      "model_module_version": "2.0.2",
      "model_name": "EventModel",
      "state": {
       "_supported_key_events": [
        "keydown",
        "keyup"
       ],
       "_supported_mouse_events": [
        "click",
        "auxclick",
        "dblclick",
        "mouseenter",
        "mouseleave",
        "mousedown",
        "mouseup",
        "mousemove",
        "wheel",
        "contextmenu",
        "dragstart",
        "drag",
        "dragend",
        "dragenter",
        "dragover",
        "dragleave",
        "drop"
       ],
       "_supported_touch_events": [
        "touchstart",
        "touchend",
        "touchmove",
        "touchcancel"
       ],
       "_view_module": "@jupyter-widgets/controls",
       "source": "IPY_MODEL_2ba0a26577a34ffea869d131644a4a9d",
       "throttle_or_debounce": "",
       "watched_events": [
        "mouseenter",
        "mouseleave"
       ],
       "xy_coordinate_system": ""
      }
     },
     "f8cd5855f1604633a0656160e7957771": {
      "model_module": "jupyter-leaflet",
      "model_module_version": "^0.17",
      "model_name": "LeafletWidgetControlModel",
      "state": {
       "_model_module": "jupyter-leaflet",
       "_model_module_version": "^0.17",
       "_view_count": null,
       "_view_module": "jupyter-leaflet",
       "_view_module_version": "^0.17",
       "options": [
        "position",
        "transparent_bg"
       ],
       "position": "topright",
       "widget": "IPY_MODEL_851e4ea93c57495bbf8a8f9c7654119f"
      }
     },
     "f9063ec430b2445eb57407dd052ceb52": {
      "model_module": "jupyter-leaflet",
      "model_module_version": "^0.17",
      "model_name": "LeafletWidgetControlModel",
      "state": {
       "_model_module": "jupyter-leaflet",
       "_model_module_version": "^0.17",
       "_view_count": null,
       "_view_module": "jupyter-leaflet",
       "_view_module_version": "^0.17",
       "options": [
        "position",
        "transparent_bg"
       ],
       "position": "topright",
       "widget": "IPY_MODEL_7bc28dd093624d2691b24d4f9eaf0d6d"
      }
     },
     "f99c3b7f00ff41b79f90c11366dcbfc7": {
      "model_module": "@jupyter-widgets/controls",
      "model_module_version": "2.0.0",
      "model_name": "ToggleButtonModel",
      "state": {
       "icon": "wrench",
       "layout": "IPY_MODEL_cd5d8c126f36481ca3c87a67ca042490",
       "style": "IPY_MODEL_1954370d884b470a817585d94fec2bf1",
       "tooltip": "Toolbar"
      }
     },
     "f9bad52ec02143f592d602c61860c783": {
      "model_module": "@jupyter-widgets/controls",
      "model_module_version": "2.0.0",
      "model_name": "ToggleButtonsStyleModel",
      "state": {
       "button_width": "110px",
       "description_width": ""
      }
     },
     "fa2c4fbd6efc49878bfd6132565a852c": {
      "model_module": "@jupyter-widgets/base",
      "model_module_version": "2.0.0",
      "model_name": "LayoutModel",
      "state": {
       "max_width": "279px",
       "min_width": "279px"
      }
     },
     "fa89cc559a2348e0acba353e41df8dd7": {
      "model_module": "@jupyter-widgets/base",
      "model_module_version": "2.0.0",
      "model_name": "LayoutModel",
      "state": {
       "height": "auto",
       "padding": "0px 0px 0px 4px",
       "width": "auto"
      }
     },
     "fae13278a22843dd90665ea4d44f9c20": {
      "model_module": "@jupyter-widgets/base",
      "model_module_version": "2.0.0",
      "model_name": "LayoutModel",
      "state": {}
     },
     "faf875e3f24a4a309f78d31f29ee9ae9": {
      "model_module": "@jupyter-widgets/base",
      "model_module_version": "2.0.0",
      "model_name": "LayoutModel",
      "state": {
       "height": "auto",
       "padding": "0px 0px 0px 4px",
       "width": "auto"
      }
     },
     "fbb2565b7510456e8bbb7bf7ccea25d3": {
      "model_module": "@jupyter-widgets/base",
      "model_module_version": "2.0.0",
      "model_name": "LayoutModel",
      "state": {
       "height": "auto",
       "padding": "0px 0px 0px 4px",
       "width": "auto"
      }
     },
     "fbd3e1ddba1d4bbbbda716e01e4eb6e0": {
      "model_module": "@jupyter-widgets/controls",
      "model_module_version": "2.0.0",
      "model_name": "ToggleButtonStyleModel",
      "state": {
       "description_width": "",
       "font_family": null,
       "font_size": null,
       "font_style": null,
       "font_variant": null,
       "font_weight": null,
       "text_color": null,
       "text_decoration": null
      }
     },
     "fbda4e9eba294d58a153c8591fbc1435": {
      "model_module": "@jupyter-widgets/controls",
      "model_module_version": "2.0.0",
      "model_name": "HBoxModel",
      "state": {
       "children": [
        "IPY_MODEL_14c8d42273004685964c6e59a0eaa79b",
        "IPY_MODEL_feab8ceafa2c441a89631f62aa0dadf7"
       ],
       "layout": "IPY_MODEL_2e63c7e6856047359e58e84d595ca868"
      }
     },
     "fc622bdb70a54bf58471df17a391c027": {
      "model_module": "ipyevents",
      "model_module_version": "2.0.2",
      "model_name": "EventModel",
      "state": {
       "_supported_key_events": [
        "keydown",
        "keyup"
       ],
       "_supported_mouse_events": [
        "click",
        "auxclick",
        "dblclick",
        "mouseenter",
        "mouseleave",
        "mousedown",
        "mouseup",
        "mousemove",
        "wheel",
        "contextmenu",
        "dragstart",
        "drag",
        "dragend",
        "dragenter",
        "dragover",
        "dragleave",
        "drop"
       ],
       "_supported_touch_events": [
        "touchstart",
        "touchend",
        "touchmove",
        "touchcancel"
       ],
       "_view_module": "@jupyter-widgets/controls",
       "source": "IPY_MODEL_44930397c2734612bf50b5bb01af293f",
       "throttle_or_debounce": "",
       "watched_events": [
        "mouseenter",
        "mouseleave"
       ],
       "xy_coordinate_system": ""
      }
     },
     "fd7cdc4e4b8a411194f97fe71ace3c50": {
      "model_module": "@jupyter-widgets/controls",
      "model_module_version": "2.0.0",
      "model_name": "ToggleButtonModel",
      "state": {
       "button_style": "primary",
       "icon": "adjust",
       "layout": "IPY_MODEL_e7737ff60b9e483fb51335d9a9bb09d9",
       "style": "IPY_MODEL_5e2a73906b3e4d898ce5743f0b962a7f",
       "tooltip": "Planet imagery"
      }
     },
     "fd8e07ba6bec4f55b2ccb82941b57865": {
      "model_module": "@jupyter-widgets/controls",
      "model_module_version": "2.0.0",
      "model_name": "DescriptionStyleModel",
      "state": {
       "description_width": ""
      }
     },
     "fd91741d5fef464894d681dce1b46609": {
      "model_module": "@jupyter-widgets/controls",
      "model_module_version": "2.0.0",
      "model_name": "HBoxModel",
      "state": {
       "_view_count": 1,
       "children": [
        "IPY_MODEL_e2e11ef445e24b9bb014ebe7a6fb1970"
       ],
       "layout": "IPY_MODEL_0414e751694d4503a64f367e8ee6d24b"
      }
     },
     "fddc4efe82804d2b993e3655b481de0c": {
      "model_module": "@jupyter-widgets/controls",
      "model_module_version": "2.0.0",
      "model_name": "HBoxModel",
      "state": {
       "children": [
        "IPY_MODEL_cb8d64cb2143484dbba91f533d1ed5bb",
        "IPY_MODEL_02c1e4a874674480b44e4fb8c55e740c"
       ],
       "layout": "IPY_MODEL_edecba1006a546358b9842eb21336e8e"
      }
     },
     "fe138cb27a1a486ab0de52cb1dabbf3a": {
      "model_module": "@jupyter-widgets/controls",
      "model_module_version": "2.0.0",
      "model_name": "HBoxModel",
      "state": {
       "children": [
        "IPY_MODEL_5de1124458ad4a5e8df8f432c1645fe9",
        "IPY_MODEL_489bcdc1a5d646798247439a70ac3738"
       ],
       "layout": "IPY_MODEL_0642c9e557d14d5c84607949b838d4c2"
      }
     },
     "feab8ceafa2c441a89631f62aa0dadf7": {
      "model_module": "@jupyter-widgets/controls",
      "model_module_version": "2.0.0",
      "model_name": "ToggleButtonModel",
      "state": {
       "icon": "wrench",
       "layout": "IPY_MODEL_cc83b37b345a4f43a159d5f3d4fce8a3",
       "style": "IPY_MODEL_0b99652791914faf8553a179b5f4519b",
       "tooltip": "Toolbar"
      }
     },
     "fedd93ce980f41c8bc8adae2490180b1": {
      "model_module": "@jupyter-widgets/controls",
      "model_module_version": "2.0.0",
      "model_name": "ToggleButtonModel",
      "state": {
       "button_style": "primary",
       "icon": "info",
       "layout": "IPY_MODEL_284ccd6341744ed3b888554e2a41a994",
       "style": "IPY_MODEL_6c9c897e6cd84392ac78946ea505fbd4",
       "tooltip": "Inspector"
      }
     },
     "ff08501667b24cc7a9425e6b62706647": {
      "model_module": "jupyter-leaflet",
      "model_module_version": "^0.17",
      "model_name": "LeafletAttributionControlModel",
      "state": {
       "_model_module_version": "^0.17",
       "_view_module_version": "^0.17",
       "options": [
        "position",
        "prefix"
       ],
       "position": "bottomright",
       "prefix": "ipyleaflet"
      }
     },
     "ff3f1adb0b214d38b446d7bf3eb6e7c6": {
      "model_module": "jupyter-leaflet",
      "model_module_version": "^0.17",
      "model_name": "LeafletMapModel",
      "state": {
       "_model_module_version": "^0.17",
       "_view_module_version": "^0.17",
       "bottom": 199920,
       "center": [
        39.399978753927925,
        -112.63224349999895
       ],
       "controls": [
        "IPY_MODEL_121d4b12b233444f9e55e0f81ee17346",
        "IPY_MODEL_38bf9125dcd449fe89bfb1c958421148",
        "IPY_MODEL_6b14aedd3af44a0ca77746ece3dd7835",
        "IPY_MODEL_ba4357a2f83a4e70848883d572bb1f5e",
        "IPY_MODEL_a985e80d968545b79a35b6fb1f396701",
        "IPY_MODEL_ebc199a3ed26405286bfd13ae23914b9",
        "IPY_MODEL_e40482be4d964621a94e0945d79b955e",
        "IPY_MODEL_51ae55b93e0c46ddaab342fe71b815ef"
       ],
       "default_style": "IPY_MODEL_e78b04a9f10c45e0884e7dfba55b08f9",
       "dragging_style": "IPY_MODEL_3635ea4b522b4846b59af04df3e84866",
       "east": -112.29675292968751,
       "fullscreen": false,
       "interpolation": "bilinear",
       "layers": [
        "IPY_MODEL_d17ef2e01a4a4a1f86218ec655c6b5f1",
        "IPY_MODEL_a4d528919ecb49719678573dc07f49ae",
        "IPY_MODEL_98ac5a6343174460b6318cdab0a86825"
       ],
       "layout": "IPY_MODEL_56f39cdbd28e490f97c4d67c9eadba2a",
       "left": 97622,
       "max_zoom": 24,
       "modisdate": "2024-03-11",
       "north": 39.55911824217187,
       "options": [
        "bounce_at_zoom_limits",
        "box_zoom",
        "center",
        "close_popup_on_click",
        "double_click_zoom",
        "dragging",
        "fullscreen",
        "inertia",
        "inertia_deceleration",
        "inertia_max_speed",
        "interpolation",
        "keyboard",
        "keyboard_pan_offset",
        "keyboard_zoom_offset",
        "max_zoom",
        "min_zoom",
        "prefer_canvas",
        "scroll_wheel_zoom",
        "tap",
        "tap_tolerance",
        "touch_zoom",
        "world_copy_jump",
        "zoom",
        "zoom_animation_threshold",
        "zoom_delta",
        "zoom_snap"
       ],
       "prefer_canvas": false,
       "right": 98600,
       "scroll_wheel_zoom": true,
       "south": 39.2407625100131,
       "style": "IPY_MODEL_940369228ca84c4dbc5fb0b8aa64d2b6",
       "top": 199320,
       "west": -112.96829223632814,
       "window_url": "https://jupyterhub.cuahsi.org/user/torresrua/lab/tree/courses/Machine-Learning-Applications-in-Remote-Sensing-Data/Step_1.ipynb",
       "zoom": 11
      }
     },
     "ff4357b9fc0c442796724169a2687fc3": {
      "model_module": "@jupyter-widgets/controls",
      "model_module_version": "2.0.0",
      "model_name": "ToggleButtonStyleModel",
      "state": {
       "description_width": "",
       "font_family": null,
       "font_size": null,
       "font_style": null,
       "font_variant": null,
       "font_weight": null,
       "text_color": null,
       "text_decoration": null
      }
     },
     "ff4582c2505c499d80440ade8a65501e": {
      "model_module": "@jupyter-widgets/controls",
      "model_module_version": "2.0.0",
      "model_name": "ButtonStyleModel",
      "state": {
       "font_family": null,
       "font_size": null,
       "font_style": null,
       "font_variant": null,
       "font_weight": null,
       "text_color": null,
       "text_decoration": null
      }
     },
     "ff8071ace6a84dc0807b90695cafa2ad": {
      "model_module": "@jupyter-widgets/base",
      "model_module_version": "2.0.0",
      "model_name": "LayoutModel",
      "state": {}
     },
     "ff809ea877c446d8a8cec9ffda453afd": {
      "model_module": "@jupyter-widgets/controls",
      "model_module_version": "2.0.0",
      "model_name": "ToggleButtonModel",
      "state": {
       "button_style": "primary",
       "icon": "bar-chart",
       "layout": "IPY_MODEL_c8eb80dafe324698b50b933c9edcd69e",
       "style": "IPY_MODEL_2a8bb1eb5f004de49b6f1204462931ac",
       "tooltip": "Plotting"
      }
     },
     "ffb0bcea5a3d4f6cbcb5af62dff8ac34": {
      "model_module": "@jupyter-widgets/controls",
      "model_module_version": "2.0.0",
      "model_name": "ToggleButtonModel",
      "state": {
       "button_style": "primary",
       "icon": "line-chart",
       "layout": "IPY_MODEL_81abf2429ac644e7a451e0d2d5d97dc0",
       "style": "IPY_MODEL_b65d7865d26d43e5aa436e71bede9bab",
       "tooltip": "Creating and plotting transects"
      }
     },
     "ffbcafdd12d943b0a65277dc4c1308f5": {
      "model_module": "@jupyter-widgets/base",
      "model_module_version": "2.0.0",
      "model_name": "LayoutModel",
      "state": {
       "max_width": "279px",
       "min_width": "279px"
      }
     },
     "ffcdc784cdb34528914701c2aaa33937": {
      "model_module": "@jupyter-widgets/base",
      "model_module_version": "2.0.0",
      "model_name": "LayoutModel",
      "state": {
       "height": "600px"
      }
     },
     "ffe200b0d4924fc588ff6bb473fe9972": {
      "model_module": "@jupyter-widgets/base",
      "model_module_version": "2.0.0",
      "model_name": "LayoutModel",
      "state": {
       "max_height": "350px",
       "max_width": "340px",
       "overflow": "scroll"
      }
     }
    },
    "version_major": 2,
    "version_minor": 0
   }
  }
 },
 "nbformat": 4,
 "nbformat_minor": 4
}
