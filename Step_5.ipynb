{
 "cells": [
  {
   "cell_type": "markdown",
   "metadata": {},
   "source": [
    "## Step 5: Implementing a Machine Learning algorithm \n",
    "\n",
    "### Background: \n",
    "Once we have the information from the satellite band pixels and the respective soil moisture values, we can implement a machine learning algorithm that can correlate  the band pixels (we will call this input) and soil moisture (output). There are plenty of machine learning algorithms. A good website where examples and Python implemented algorithms are compiled is https://scikit-learn.org/stable/.\n",
    "\n",
    "In this case, we are going to use several machine learning algorithms available in google earth engine. Thses algorithms are a good example of a \"classical machine learning\", different of more recent algorithms such as Deep Learning (e.g. Convolutional Neural Networks). The advantage of classical machine learning is the need of much less information than deep learning algorithms."
   ]
  },
  {
   "cell_type": "markdown",
   "metadata": {},
   "source": [
    "Let's install the necessary python library. Open the terminal and pass the following command."
   ]
  },
  {
   "cell_type": "raw",
   "metadata": {},
   "source": [
    "pip install sklearn_rvm\n",
    "pip install mlxtend\n",
    "pip install eemont"
   ]
  },
  {
   "cell_type": "code",
   "execution_count": 1,
   "metadata": {},
   "outputs": [],
   "source": [
    "import geemap\n",
    "import ee\n",
    "ee.Initialize()"
   ]
  },
  {
   "cell_type": "code",
   "execution_count": 2,
   "metadata": {},
   "outputs": [
    {
     "data": {
      "text/html": [
       "\n",
       "            <style>\n",
       "                .geemap-dark {\n",
       "                    --jp-widgets-color: white;\n",
       "                    --jp-widgets-label-color: white;\n",
       "                    --jp-ui-font-color1: white;\n",
       "                    --jp-layout-color2: #454545;\n",
       "                    background-color: #383838;\n",
       "                }\n",
       "\n",
       "                .geemap-dark .jupyter-button {\n",
       "                    --jp-layout-color3: #383838;\n",
       "                }\n",
       "\n",
       "                .geemap-colab {\n",
       "                    background-color: var(--colab-primary-surface-color, white);\n",
       "                }\n",
       "\n",
       "                .geemap-colab .jupyter-button {\n",
       "                    --jp-layout-color3: var(--colab-primary-surface-color, white);\n",
       "                }\n",
       "            </style>\n",
       "            "
      ],
      "text/plain": [
       "<IPython.core.display.HTML object>"
      ]
     },
     "metadata": {},
     "output_type": "display_data"
    },
    {
     "data": {
      "application/vnd.jupyter.widget-view+json": {
       "model_id": "35974bf0eaaa4445a3698f238a2463b1",
       "version_major": 2,
       "version_minor": 0
      },
      "text/plain": [
       "Map(center=[39.4037160204789, -112.63575111241983], controls=(WidgetControl(options=['position', 'transparent_…"
      ]
     },
     "execution_count": 2,
     "metadata": {},
     "output_type": "execute_result"
    }
   ],
   "source": [
    "in_shp = './/Results Step 1//soil_moisture.shp'\n",
    "\n",
    "sm_locations = geemap.shp_to_ee(in_shp)\n",
    "\n",
    "Map1 = geemap.Map() \n",
    "Map1.addLayer(sm_locations, {'color': 'red'}, 'Soil Moisture')\n",
    "\n",
    "Map1.centerObject(sm_locations, 12)\n",
    "\n",
    "Map1"
   ]
  },
  {
   "cell_type": "markdown",
   "metadata": {},
   "source": [
    "Let's start importing the csv file generated in Step 2:"
   ]
  },
  {
   "cell_type": "code",
   "execution_count": 3,
   "metadata": {},
   "outputs": [
    {
     "data": {
      "text/html": [
       "\n",
       "            <style>\n",
       "                .geemap-dark {\n",
       "                    --jp-widgets-color: white;\n",
       "                    --jp-widgets-label-color: white;\n",
       "                    --jp-ui-font-color1: white;\n",
       "                    --jp-layout-color2: #454545;\n",
       "                    background-color: #383838;\n",
       "                }\n",
       "\n",
       "                .geemap-dark .jupyter-button {\n",
       "                    --jp-layout-color3: #383838;\n",
       "                }\n",
       "\n",
       "                .geemap-colab {\n",
       "                    background-color: var(--colab-primary-surface-color, white);\n",
       "                }\n",
       "\n",
       "                .geemap-colab .jupyter-button {\n",
       "                    --jp-layout-color3: var(--colab-primary-surface-color, white);\n",
       "                }\n",
       "            </style>\n",
       "            "
      ],
      "text/plain": [
       "<IPython.core.display.HTML object>"
      ]
     },
     "metadata": {},
     "output_type": "display_data"
    },
    {
     "name": "stdout",
     "output_type": "stream",
     "text": [
      "{'type': 'Feature', 'geometry': {'type': 'Point', 'coordinates': [-112.65024, 39.38476]}, 'id': '0', 'properties': {'CROP': 'alfalfa', 'FIELD': '101A', 'SA0513': 0.6, 'SA0529': 0.09, 'SA0614': 0, 'SA0630': 0.05, 'SM0513': 0.39, 'SM0529': 0.14, 'SM0614': 0.1, 'SM0630': 0.13, 'T0513': 24.93, 'T0529': 25.8, 'T0614': 23.77, 'T0630': 28.97, 'sampling p': 1}}\n"
     ]
    }
   ],
   "source": [
    "print(sm_locations.first().getInfo())"
   ]
  },
  {
   "cell_type": "code",
   "execution_count": 4,
   "metadata": {},
   "outputs": [
    {
     "data": {
      "text/html": [
       "\n",
       "            <style>\n",
       "                .geemap-dark {\n",
       "                    --jp-widgets-color: white;\n",
       "                    --jp-widgets-label-color: white;\n",
       "                    --jp-ui-font-color1: white;\n",
       "                    --jp-layout-color2: #454545;\n",
       "                    background-color: #383838;\n",
       "                }\n",
       "\n",
       "                .geemap-dark .jupyter-button {\n",
       "                    --jp-layout-color3: #383838;\n",
       "                }\n",
       "\n",
       "                .geemap-colab {\n",
       "                    background-color: var(--colab-primary-surface-color, white);\n",
       "                }\n",
       "\n",
       "                .geemap-colab .jupyter-button {\n",
       "                    --jp-layout-color3: var(--colab-primary-surface-color, white);\n",
       "                }\n",
       "            </style>\n",
       "            "
      ],
      "text/plain": [
       "<IPython.core.display.HTML object>"
      ]
     },
     "metadata": {},
     "output_type": "display_data"
    }
   ],
   "source": [
    "def set_SM0513(feature):\n",
    "    # keepProperties = 'SA0513';\n",
    "    location=feature.geometry().centroid()\n",
    "    return ee.Feature(location).set('SM',feature.get('SM0513'))"
   ]
  },
  {
   "cell_type": "code",
   "execution_count": 5,
   "metadata": {},
   "outputs": [
    {
     "data": {
      "text/html": [
       "\n",
       "            <style>\n",
       "                .geemap-dark {\n",
       "                    --jp-widgets-color: white;\n",
       "                    --jp-widgets-label-color: white;\n",
       "                    --jp-ui-font-color1: white;\n",
       "                    --jp-layout-color2: #454545;\n",
       "                    background-color: #383838;\n",
       "                }\n",
       "\n",
       "                .geemap-dark .jupyter-button {\n",
       "                    --jp-layout-color3: #383838;\n",
       "                }\n",
       "\n",
       "                .geemap-colab {\n",
       "                    background-color: var(--colab-primary-surface-color, white);\n",
       "                }\n",
       "\n",
       "                .geemap-colab .jupyter-button {\n",
       "                    --jp-layout-color3: var(--colab-primary-surface-color, white);\n",
       "                }\n",
       "            </style>\n",
       "            "
      ],
      "text/plain": [
       "<IPython.core.display.HTML object>"
      ]
     },
     "metadata": {},
     "output_type": "display_data"
    },
    {
     "name": "stdout",
     "output_type": "stream",
     "text": [
      "{'type': 'Feature', 'geometry': {'type': 'Point', 'coordinates': [-112.65024000000001, 39.38476]}, 'id': '0', 'properties': {'SM': 0.39}}\n"
     ]
    }
   ],
   "source": [
    "sm_0513=sm_locations.map(set_SM0513)\n",
    "print(sm_0513.first().getInfo())"
   ]
  },
  {
   "cell_type": "code",
   "execution_count": 6,
   "metadata": {},
   "outputs": [
    {
     "data": {
      "text/html": [
       "\n",
       "            <style>\n",
       "                .geemap-dark {\n",
       "                    --jp-widgets-color: white;\n",
       "                    --jp-widgets-label-color: white;\n",
       "                    --jp-ui-font-color1: white;\n",
       "                    --jp-layout-color2: #454545;\n",
       "                    background-color: #383838;\n",
       "                }\n",
       "\n",
       "                .geemap-dark .jupyter-button {\n",
       "                    --jp-layout-color3: #383838;\n",
       "                }\n",
       "\n",
       "                .geemap-colab {\n",
       "                    background-color: var(--colab-primary-surface-color, white);\n",
       "                }\n",
       "\n",
       "                .geemap-colab .jupyter-button {\n",
       "                    --jp-layout-color3: var(--colab-primary-surface-color, white);\n",
       "                }\n",
       "            </style>\n",
       "            "
      ],
      "text/plain": [
       "<IPython.core.display.HTML object>"
      ]
     },
     "metadata": {},
     "output_type": "display_data"
    }
   ],
   "source": [
    "def set_SM0529(feature):\n",
    "    # keepProperties = 'SA0513';\n",
    "    location=feature.geometry().centroid()\n",
    "    return ee.Feature(location).set('SM',feature.get('SM0529'))"
   ]
  },
  {
   "cell_type": "code",
   "execution_count": 7,
   "metadata": {},
   "outputs": [
    {
     "data": {
      "text/html": [
       "\n",
       "            <style>\n",
       "                .geemap-dark {\n",
       "                    --jp-widgets-color: white;\n",
       "                    --jp-widgets-label-color: white;\n",
       "                    --jp-ui-font-color1: white;\n",
       "                    --jp-layout-color2: #454545;\n",
       "                    background-color: #383838;\n",
       "                }\n",
       "\n",
       "                .geemap-dark .jupyter-button {\n",
       "                    --jp-layout-color3: #383838;\n",
       "                }\n",
       "\n",
       "                .geemap-colab {\n",
       "                    background-color: var(--colab-primary-surface-color, white);\n",
       "                }\n",
       "\n",
       "                .geemap-colab .jupyter-button {\n",
       "                    --jp-layout-color3: var(--colab-primary-surface-color, white);\n",
       "                }\n",
       "            </style>\n",
       "            "
      ],
      "text/plain": [
       "<IPython.core.display.HTML object>"
      ]
     },
     "metadata": {},
     "output_type": "display_data"
    },
    {
     "name": "stdout",
     "output_type": "stream",
     "text": [
      "{'type': 'Feature', 'geometry': {'type': 'Point', 'coordinates': [-112.65024000000001, 39.38476]}, 'id': '0', 'properties': {'SM': 0.14}}\n"
     ]
    }
   ],
   "source": [
    "sm_0529=sm_locations.map(set_SM0529)\n",
    "print(sm_0529.first().getInfo())"
   ]
  },
  {
   "cell_type": "code",
   "execution_count": 8,
   "metadata": {},
   "outputs": [
    {
     "data": {
      "text/html": [
       "\n",
       "            <style>\n",
       "                .geemap-dark {\n",
       "                    --jp-widgets-color: white;\n",
       "                    --jp-widgets-label-color: white;\n",
       "                    --jp-ui-font-color1: white;\n",
       "                    --jp-layout-color2: #454545;\n",
       "                    background-color: #383838;\n",
       "                }\n",
       "\n",
       "                .geemap-dark .jupyter-button {\n",
       "                    --jp-layout-color3: #383838;\n",
       "                }\n",
       "\n",
       "                .geemap-colab {\n",
       "                    background-color: var(--colab-primary-surface-color, white);\n",
       "                }\n",
       "\n",
       "                .geemap-colab .jupyter-button {\n",
       "                    --jp-layout-color3: var(--colab-primary-surface-color, white);\n",
       "                }\n",
       "            </style>\n",
       "            "
      ],
      "text/plain": [
       "<IPython.core.display.HTML object>"
      ]
     },
     "metadata": {},
     "output_type": "display_data"
    }
   ],
   "source": [
    "def set_SM0614(feature):\n",
    "    # keepProperties = 'SA0513';\n",
    "    location=feature.geometry().centroid()\n",
    "    return ee.Feature(location).set('SM',feature.get('SM0614'))"
   ]
  },
  {
   "cell_type": "code",
   "execution_count": 9,
   "metadata": {},
   "outputs": [
    {
     "data": {
      "text/html": [
       "\n",
       "            <style>\n",
       "                .geemap-dark {\n",
       "                    --jp-widgets-color: white;\n",
       "                    --jp-widgets-label-color: white;\n",
       "                    --jp-ui-font-color1: white;\n",
       "                    --jp-layout-color2: #454545;\n",
       "                    background-color: #383838;\n",
       "                }\n",
       "\n",
       "                .geemap-dark .jupyter-button {\n",
       "                    --jp-layout-color3: #383838;\n",
       "                }\n",
       "\n",
       "                .geemap-colab {\n",
       "                    background-color: var(--colab-primary-surface-color, white);\n",
       "                }\n",
       "\n",
       "                .geemap-colab .jupyter-button {\n",
       "                    --jp-layout-color3: var(--colab-primary-surface-color, white);\n",
       "                }\n",
       "            </style>\n",
       "            "
      ],
      "text/plain": [
       "<IPython.core.display.HTML object>"
      ]
     },
     "metadata": {},
     "output_type": "display_data"
    },
    {
     "name": "stdout",
     "output_type": "stream",
     "text": [
      "{'type': 'Feature', 'geometry': {'type': 'Point', 'coordinates': [-112.65024000000001, 39.38476]}, 'id': '0', 'properties': {'SM': 0.1}}\n"
     ]
    }
   ],
   "source": [
    "sm_0614=sm_locations.map(set_SM0614)\n",
    "print(sm_0614.first().getInfo())"
   ]
  },
  {
   "cell_type": "code",
   "execution_count": 10,
   "metadata": {},
   "outputs": [
    {
     "data": {
      "text/html": [
       "\n",
       "            <style>\n",
       "                .geemap-dark {\n",
       "                    --jp-widgets-color: white;\n",
       "                    --jp-widgets-label-color: white;\n",
       "                    --jp-ui-font-color1: white;\n",
       "                    --jp-layout-color2: #454545;\n",
       "                    background-color: #383838;\n",
       "                }\n",
       "\n",
       "                .geemap-dark .jupyter-button {\n",
       "                    --jp-layout-color3: #383838;\n",
       "                }\n",
       "\n",
       "                .geemap-colab {\n",
       "                    background-color: var(--colab-primary-surface-color, white);\n",
       "                }\n",
       "\n",
       "                .geemap-colab .jupyter-button {\n",
       "                    --jp-layout-color3: var(--colab-primary-surface-color, white);\n",
       "                }\n",
       "            </style>\n",
       "            "
      ],
      "text/plain": [
       "<IPython.core.display.HTML object>"
      ]
     },
     "metadata": {},
     "output_type": "display_data"
    }
   ],
   "source": [
    "def set_SM0630(feature):\n",
    "    # keepProperties = 'SA0513';\n",
    "    location=feature.geometry().centroid()\n",
    "    return ee.Feature(location).set('SM',feature.get('SM0630'))"
   ]
  },
  {
   "cell_type": "code",
   "execution_count": 11,
   "metadata": {},
   "outputs": [
    {
     "data": {
      "text/html": [
       "\n",
       "            <style>\n",
       "                .geemap-dark {\n",
       "                    --jp-widgets-color: white;\n",
       "                    --jp-widgets-label-color: white;\n",
       "                    --jp-ui-font-color1: white;\n",
       "                    --jp-layout-color2: #454545;\n",
       "                    background-color: #383838;\n",
       "                }\n",
       "\n",
       "                .geemap-dark .jupyter-button {\n",
       "                    --jp-layout-color3: #383838;\n",
       "                }\n",
       "\n",
       "                .geemap-colab {\n",
       "                    background-color: var(--colab-primary-surface-color, white);\n",
       "                }\n",
       "\n",
       "                .geemap-colab .jupyter-button {\n",
       "                    --jp-layout-color3: var(--colab-primary-surface-color, white);\n",
       "                }\n",
       "            </style>\n",
       "            "
      ],
      "text/plain": [
       "<IPython.core.display.HTML object>"
      ]
     },
     "metadata": {},
     "output_type": "display_data"
    },
    {
     "name": "stdout",
     "output_type": "stream",
     "text": [
      "{'type': 'Feature', 'geometry': {'type': 'Point', 'coordinates': [-112.65024000000001, 39.38476]}, 'id': '0', 'properties': {'SM': 0.13}}\n"
     ]
    }
   ],
   "source": [
    "sm_0630=sm_locations.map(set_SM0630)\n",
    "print(sm_0630.first().getInfo())"
   ]
  },
  {
   "cell_type": "markdown",
   "metadata": {},
   "source": [
    "Now we have four feature collections that have soil moisture information only and now we need to retrieve the pixel values from the four different images."
   ]
  },
  {
   "cell_type": "code",
   "execution_count": 12,
   "metadata": {},
   "outputs": [
    {
     "data": {
      "text/html": [
       "\n",
       "            <style>\n",
       "                .geemap-dark {\n",
       "                    --jp-widgets-color: white;\n",
       "                    --jp-widgets-label-color: white;\n",
       "                    --jp-ui-font-color1: white;\n",
       "                    --jp-layout-color2: #454545;\n",
       "                    background-color: #383838;\n",
       "                }\n",
       "\n",
       "                .geemap-dark .jupyter-button {\n",
       "                    --jp-layout-color3: #383838;\n",
       "                }\n",
       "\n",
       "                .geemap-colab {\n",
       "                    background-color: var(--colab-primary-surface-color, white);\n",
       "                }\n",
       "\n",
       "                .geemap-colab .jupyter-button {\n",
       "                    --jp-layout-color3: var(--colab-primary-surface-color, white);\n",
       "                }\n",
       "            </style>\n",
       "            "
      ],
      "text/plain": [
       "<IPython.core.display.HTML object>"
      ]
     },
     "metadata": {},
     "output_type": "display_data"
    }
   ],
   "source": [
    "import eemont\n",
    "\n",
    "import warnings #the last command produces a lot of warnings\n",
    "warnings.filterwarnings('ignore')\n",
    "\n",
    "# identifying landsat 7 image on the dates of interest\n",
    "\n",
    "\n",
    "Delta_area=ee.Geometry.Point([-112.577170, 39.352178])\n",
    "\n",
    "# Let's use the bands and vegetation indices that are not correlated with others (Step 3)\n",
    "predictionBands=['SR_B1', 'SR_B4', 'SR_B5', 'ST_B6', 'AFRI1600', 'BCC', 'CVI', 'DSWI2', 'DSWI3',\n",
    " 'DSWI4', 'ExG', 'IKAW', 'NDDI', 'NDYI', 'NMDI', 'NRFIg', 'NRFIr']\n",
    "\n",
    "landsat7 = ee.ImageCollection(\"LANDSAT/LE07/C02/T1_L2\").filterBounds(Delta_area) # Landsat 7 archive.\n",
    "landsat7 = landsat7.preprocess()\n",
    "landsat7 = landsat7.spectralIndices('vegetation')\n",
    "landsat7 = landsat7.select(predictionBands);"
   ]
  },
  {
   "cell_type": "markdown",
   "metadata": {},
   "source": [
    "let's identify the images for the analysis"
   ]
  },
  {
   "cell_type": "code",
   "execution_count": 13,
   "metadata": {},
   "outputs": [
    {
     "data": {
      "text/html": [
       "\n",
       "            <style>\n",
       "                .geemap-dark {\n",
       "                    --jp-widgets-color: white;\n",
       "                    --jp-widgets-label-color: white;\n",
       "                    --jp-ui-font-color1: white;\n",
       "                    --jp-layout-color2: #454545;\n",
       "                    background-color: #383838;\n",
       "                }\n",
       "\n",
       "                .geemap-dark .jupyter-button {\n",
       "                    --jp-layout-color3: #383838;\n",
       "                }\n",
       "\n",
       "                .geemap-colab {\n",
       "                    background-color: var(--colab-primary-surface-color, white);\n",
       "                }\n",
       "\n",
       "                .geemap-colab .jupyter-button {\n",
       "                    --jp-layout-color3: var(--colab-primary-surface-color, white);\n",
       "                }\n",
       "            </style>\n",
       "            "
      ],
      "text/plain": [
       "<IPython.core.display.HTML object>"
      ]
     },
     "metadata": {},
     "output_type": "display_data"
    }
   ],
   "source": [
    "# code for the first Landsat date\n",
    "landsat7_may_13 = ee.Image(landsat7. #the dataset\n",
    "                    filterDate('2012-05-12','2012-05-14'). # the date before and after\n",
    "                    first()) # the first image from the aplication of the two previous filters\n",
    "# code for the other three landsat dates\n",
    "landsat7_may_29 = ee.Image(landsat7.filterDate('2012-05-28','2012-05-30').first()) # all commands in one line.\n",
    "landsat7_jun_14 = ee.Image(landsat7.filterDate('2012-06-13','2012-06-15').first()) # all commands in one line.\n",
    "landsat7_jun_30 = ee.Image(landsat7.filterDate('2012-06-29','2012-07-01').first()) # all commands in one line."
   ]
  },
  {
   "cell_type": "markdown",
   "metadata": {},
   "source": [
    "Extracting pixel information into the features"
   ]
  },
  {
   "cell_type": "code",
   "execution_count": 14,
   "metadata": {},
   "outputs": [
    {
     "data": {
      "text/html": [
       "\n",
       "            <style>\n",
       "                .geemap-dark {\n",
       "                    --jp-widgets-color: white;\n",
       "                    --jp-widgets-label-color: white;\n",
       "                    --jp-ui-font-color1: white;\n",
       "                    --jp-layout-color2: #454545;\n",
       "                    background-color: #383838;\n",
       "                }\n",
       "\n",
       "                .geemap-dark .jupyter-button {\n",
       "                    --jp-layout-color3: #383838;\n",
       "                }\n",
       "\n",
       "                .geemap-colab {\n",
       "                    background-color: var(--colab-primary-surface-color, white);\n",
       "                }\n",
       "\n",
       "                .geemap-colab .jupyter-button {\n",
       "                    --jp-layout-color3: var(--colab-primary-surface-color, white);\n",
       "                }\n",
       "            </style>\n",
       "            "
      ],
      "text/plain": [
       "<IPython.core.display.HTML object>"
      ]
     },
     "metadata": {},
     "output_type": "display_data"
    }
   ],
   "source": [
    "def pixelInfo_0513(feature):\n",
    "    meanDictionary = landsat7_may_13.reduceRegion(\n",
    "    reducer= ee.Reducer.mean(),\n",
    "    geometry= feature.geometry(),\n",
    "    scale= 30,\n",
    "    maxPixels= 1e9)\n",
    "    values= ee.Feature(feature.geometry().centroid(),meanDictionary).set('SM',feature.get('SM'))\n",
    "    return values\n",
    "    "
   ]
  },
  {
   "cell_type": "code",
   "execution_count": 15,
   "metadata": {},
   "outputs": [
    {
     "data": {
      "text/html": [
       "\n",
       "            <style>\n",
       "                .geemap-dark {\n",
       "                    --jp-widgets-color: white;\n",
       "                    --jp-widgets-label-color: white;\n",
       "                    --jp-ui-font-color1: white;\n",
       "                    --jp-layout-color2: #454545;\n",
       "                    background-color: #383838;\n",
       "                }\n",
       "\n",
       "                .geemap-dark .jupyter-button {\n",
       "                    --jp-layout-color3: #383838;\n",
       "                }\n",
       "\n",
       "                .geemap-colab {\n",
       "                    background-color: var(--colab-primary-surface-color, white);\n",
       "                }\n",
       "\n",
       "                .geemap-colab .jupyter-button {\n",
       "                    --jp-layout-color3: var(--colab-primary-surface-color, white);\n",
       "                }\n",
       "            </style>\n",
       "            "
      ],
      "text/plain": [
       "<IPython.core.display.HTML object>"
      ]
     },
     "metadata": {},
     "output_type": "display_data"
    },
    {
     "data": {
      "text/plain": [
       "{'type': 'Feature',\n",
       " 'geometry': {'type': 'Point', 'coordinates': [-112.65024000000001, 39.38476]},\n",
       " 'id': '0',\n",
       " 'properties': {'AFRI1600': 0.4884040935201041,\n",
       "  'BCC': 0.2455264621139362,\n",
       "  'CVI': 3.9705342399047927,\n",
       "  'DSWI2': 2.4865320898269725,\n",
       "  'DSWI3': 2.990039473198806,\n",
       "  'DSWI4': 1.2024938207842997,\n",
       "  'ExG': 0.04664000000000004,\n",
       "  'IKAW': 0.16499054495444382,\n",
       "  'NDDI': 27.31892837728061,\n",
       "  'NDYI': 0.2530898606439213,\n",
       "  'NMDI': 0.584506289420233,\n",
       "  'NRFIg': -0.10496039101006345,\n",
       "  'NRFIr': -0.19501692700599876,\n",
       "  'SM': 0.39,\n",
       "  'SR_B1': 0.04857249999999999,\n",
       "  'SR_B4': 0.3890775,\n",
       "  'SR_B5': 0.20262750000000002,\n",
       "  'ST_B6': 299.0681681}}"
      ]
     },
     "execution_count": 15,
     "metadata": {},
     "output_type": "execute_result"
    }
   ],
   "source": [
    "sm_0513_pix=sm_0513.map(pixelInfo_0513)\n",
    "properties=['SR_B1']\n",
    "sm_0513_pix = sm_0513_pix.filter(ee.Filter.notNull(properties))\n",
    "sm_0513_pix.first().getInfo()"
   ]
  },
  {
   "cell_type": "code",
   "execution_count": null,
   "metadata": {},
   "outputs": [],
   "source": []
  },
  {
   "cell_type": "code",
   "execution_count": 16,
   "metadata": {},
   "outputs": [
    {
     "data": {
      "text/html": [
       "\n",
       "            <style>\n",
       "                .geemap-dark {\n",
       "                    --jp-widgets-color: white;\n",
       "                    --jp-widgets-label-color: white;\n",
       "                    --jp-ui-font-color1: white;\n",
       "                    --jp-layout-color2: #454545;\n",
       "                    background-color: #383838;\n",
       "                }\n",
       "\n",
       "                .geemap-dark .jupyter-button {\n",
       "                    --jp-layout-color3: #383838;\n",
       "                }\n",
       "\n",
       "                .geemap-colab {\n",
       "                    background-color: var(--colab-primary-surface-color, white);\n",
       "                }\n",
       "\n",
       "                .geemap-colab .jupyter-button {\n",
       "                    --jp-layout-color3: var(--colab-primary-surface-color, white);\n",
       "                }\n",
       "            </style>\n",
       "            "
      ],
      "text/plain": [
       "<IPython.core.display.HTML object>"
      ]
     },
     "metadata": {},
     "output_type": "display_data"
    }
   ],
   "source": [
    "def pixelInfo_0529(feature):\n",
    "\n",
    "    meanDictionary = landsat7_may_29.reduceRegion(\n",
    "        reducer= ee.Reducer.mean(),\n",
    "        geometry= feature.geometry(),\n",
    "        scale= 30,\n",
    "        maxPixels= 1e9)\n",
    "    values= ee.Feature(feature.geometry().centroid(),meanDictionary).set('SM',feature.get('SM'))\n",
    "    return values\n",
    "    "
   ]
  },
  {
   "cell_type": "code",
   "execution_count": 17,
   "metadata": {},
   "outputs": [
    {
     "data": {
      "text/html": [
       "\n",
       "            <style>\n",
       "                .geemap-dark {\n",
       "                    --jp-widgets-color: white;\n",
       "                    --jp-widgets-label-color: white;\n",
       "                    --jp-ui-font-color1: white;\n",
       "                    --jp-layout-color2: #454545;\n",
       "                    background-color: #383838;\n",
       "                }\n",
       "\n",
       "                .geemap-dark .jupyter-button {\n",
       "                    --jp-layout-color3: #383838;\n",
       "                }\n",
       "\n",
       "                .geemap-colab {\n",
       "                    background-color: var(--colab-primary-surface-color, white);\n",
       "                }\n",
       "\n",
       "                .geemap-colab .jupyter-button {\n",
       "                    --jp-layout-color3: var(--colab-primary-surface-color, white);\n",
       "                }\n",
       "            </style>\n",
       "            "
      ],
      "text/plain": [
       "<IPython.core.display.HTML object>"
      ]
     },
     "metadata": {},
     "output_type": "display_data"
    },
    {
     "data": {
      "text/plain": [
       "{'type': 'Feature',\n",
       " 'geometry': {'type': 'Point', 'coordinates': [-112.65024000000001, 39.38476]},\n",
       " 'id': '0',\n",
       " 'properties': {'AFRI1600': 0.6047176083122665,\n",
       "  'BCC': 0.20469465277101384,\n",
       "  'CVI': 5.643696085557662,\n",
       "  'DSWI2': 3.059799015756171,\n",
       "  'DSWI3': 4.444851616003846,\n",
       "  'DSWI4': 1.4526613000120159,\n",
       "  'ExG': 0.05302000000000007,\n",
       "  'IKAW': 0.2260440450762319,\n",
       "  'NDDI': 26.040424498698712,\n",
       "  'NDYI': 0.3941595318400649,\n",
       "  'NMDI': 0.6463001947375197,\n",
       "  'NRFIg': -0.1298355464392385,\n",
       "  'NRFIr': -0.3070374456216309,\n",
       "  'SM': 0.14,\n",
       "  'SR_B1': 0.026269999999999988,\n",
       "  'SR_B4': 0.49561250000000007,\n",
       "  'SR_B5': 0.18497249999999998,\n",
       "  'ST_B6': 301.37191357999995}}"
      ]
     },
     "execution_count": 17,
     "metadata": {},
     "output_type": "execute_result"
    }
   ],
   "source": [
    "sm_0529_pix=sm_0529.map(pixelInfo_0529)\n",
    "# (sm_0529_pix.getInfo())\n",
    "properties=['SR_B1']\n",
    "sm_0529_pix = sm_0529_pix.filter(ee.Filter.notNull(properties))\n",
    "sm_0529_pix.first().getInfo()"
   ]
  },
  {
   "cell_type": "code",
   "execution_count": 18,
   "metadata": {},
   "outputs": [
    {
     "data": {
      "text/html": [
       "\n",
       "            <style>\n",
       "                .geemap-dark {\n",
       "                    --jp-widgets-color: white;\n",
       "                    --jp-widgets-label-color: white;\n",
       "                    --jp-ui-font-color1: white;\n",
       "                    --jp-layout-color2: #454545;\n",
       "                    background-color: #383838;\n",
       "                }\n",
       "\n",
       "                .geemap-dark .jupyter-button {\n",
       "                    --jp-layout-color3: #383838;\n",
       "                }\n",
       "\n",
       "                .geemap-colab {\n",
       "                    background-color: var(--colab-primary-surface-color, white);\n",
       "                }\n",
       "\n",
       "                .geemap-colab .jupyter-button {\n",
       "                    --jp-layout-color3: var(--colab-primary-surface-color, white);\n",
       "                }\n",
       "            </style>\n",
       "            "
      ],
      "text/plain": [
       "<IPython.core.display.HTML object>"
      ]
     },
     "metadata": {},
     "output_type": "display_data"
    }
   ],
   "source": [
    "def pixelInfo_0614(feature):\n",
    "    meanDictionary = landsat7_jun_14.reduceRegion(\n",
    "    reducer= ee.Reducer.mean(),\n",
    "    geometry= feature.geometry(),\n",
    "    scale= 30,\n",
    "    maxPixels= 1e9)\n",
    "    values= ee.Feature(feature.geometry().centroid(),meanDictionary).set('SM',feature.get('SM'))\n",
    "    return values\n",
    "    "
   ]
  },
  {
   "cell_type": "code",
   "execution_count": 19,
   "metadata": {},
   "outputs": [
    {
     "data": {
      "text/html": [
       "\n",
       "            <style>\n",
       "                .geemap-dark {\n",
       "                    --jp-widgets-color: white;\n",
       "                    --jp-widgets-label-color: white;\n",
       "                    --jp-ui-font-color1: white;\n",
       "                    --jp-layout-color2: #454545;\n",
       "                    background-color: #383838;\n",
       "                }\n",
       "\n",
       "                .geemap-dark .jupyter-button {\n",
       "                    --jp-layout-color3: #383838;\n",
       "                }\n",
       "\n",
       "                .geemap-colab {\n",
       "                    background-color: var(--colab-primary-surface-color, white);\n",
       "                }\n",
       "\n",
       "                .geemap-colab .jupyter-button {\n",
       "                    --jp-layout-color3: var(--colab-primary-surface-color, white);\n",
       "                }\n",
       "            </style>\n",
       "            "
      ],
      "text/plain": [
       "<IPython.core.display.HTML object>"
      ]
     },
     "metadata": {},
     "output_type": "display_data"
    },
    {
     "name": "stdout",
     "output_type": "stream",
     "text": [
      "{'type': 'Feature', 'geometry': {'type': 'Point', 'coordinates': [-112.65024000000001, 39.38476]}, 'id': '0', 'properties': {'AFRI1600': 0.28778720770345995, 'BCC': 0.2541624861024487, 'CVI': 3.0758342874912277, 'DSWI2': 2.3672988931290466, 'DSWI3': 2.1743103267882677, 'DSWI4': 0.9184773131517454, 'ExG': 0.026262499999999966, 'IKAW': 0.20935921633961427, 'NDDI': -27.486873719165022, 'NDYI': 0.16836361216477, 'NMDI': 0.5060195235998723, 'NRFIg': -0.18054950525857238, 'NRFIr': -0.13912345095213424, 'SM': 0.1, 'SR_B1': 0.09372750000000002, 'SR_B4': 0.37200000000000005, 'SR_B5': 0.31172000000000005, 'ST_B6': 313.83401449999997}}\n"
     ]
    }
   ],
   "source": [
    "sm_0614_pix=sm_0614.map(pixelInfo_0614)\n",
    "properties=['SR_B1']\n",
    "sm_0614_pix = sm_0614_pix.filter(ee.Filter.notNull(properties))\n",
    "print(sm_0614_pix.first().getInfo())"
   ]
  },
  {
   "cell_type": "code",
   "execution_count": null,
   "metadata": {
    "tags": []
   },
   "outputs": [],
   "source": []
  },
  {
   "cell_type": "code",
   "execution_count": 20,
   "metadata": {},
   "outputs": [
    {
     "data": {
      "text/html": [
       "\n",
       "            <style>\n",
       "                .geemap-dark {\n",
       "                    --jp-widgets-color: white;\n",
       "                    --jp-widgets-label-color: white;\n",
       "                    --jp-ui-font-color1: white;\n",
       "                    --jp-layout-color2: #454545;\n",
       "                    background-color: #383838;\n",
       "                }\n",
       "\n",
       "                .geemap-dark .jupyter-button {\n",
       "                    --jp-layout-color3: #383838;\n",
       "                }\n",
       "\n",
       "                .geemap-colab {\n",
       "                    background-color: var(--colab-primary-surface-color, white);\n",
       "                }\n",
       "\n",
       "                .geemap-colab .jupyter-button {\n",
       "                    --jp-layout-color3: var(--colab-primary-surface-color, white);\n",
       "                }\n",
       "            </style>\n",
       "            "
      ],
      "text/plain": [
       "<IPython.core.display.HTML object>"
      ]
     },
     "metadata": {},
     "output_type": "display_data"
    }
   ],
   "source": [
    "def pixelInfo_0630(feature):\n",
    "    meanDictionary = landsat7_jun_30.reduceRegion(\n",
    "    reducer= ee.Reducer.mean(),\n",
    "    geometry= feature.geometry(),\n",
    "    scale= 30,\n",
    "    maxPixels= 1e9)\n",
    "    values= ee.Feature(feature.geometry().centroid(),meanDictionary).set('SM',feature.get('SM'))\n",
    "    return values\n",
    "    "
   ]
  },
  {
   "cell_type": "code",
   "execution_count": 21,
   "metadata": {},
   "outputs": [
    {
     "data": {
      "text/html": [
       "\n",
       "            <style>\n",
       "                .geemap-dark {\n",
       "                    --jp-widgets-color: white;\n",
       "                    --jp-widgets-label-color: white;\n",
       "                    --jp-ui-font-color1: white;\n",
       "                    --jp-layout-color2: #454545;\n",
       "                    background-color: #383838;\n",
       "                }\n",
       "\n",
       "                .geemap-dark .jupyter-button {\n",
       "                    --jp-layout-color3: #383838;\n",
       "                }\n",
       "\n",
       "                .geemap-colab {\n",
       "                    background-color: var(--colab-primary-surface-color, white);\n",
       "                }\n",
       "\n",
       "                .geemap-colab .jupyter-button {\n",
       "                    --jp-layout-color3: var(--colab-primary-surface-color, white);\n",
       "                }\n",
       "            </style>\n",
       "            "
      ],
      "text/plain": [
       "<IPython.core.display.HTML object>"
      ]
     },
     "metadata": {},
     "output_type": "display_data"
    },
    {
     "name": "stdout",
     "output_type": "stream",
     "text": [
      "{'type': 'Feature', 'geometry': {'type': 'Point', 'coordinates': [-112.65024000000001, 39.38476]}, 'id': '0', 'properties': {'AFRI1600': 0.374613034505655, 'BCC': 0.2394789252016064, 'CVI': 3.6613756470520076, 'DSWI2': 2.3904419389713834, 'DSWI3': 2.264058679706602, 'DSWI4': 0.9471297515307298, 'ExG': 0.03363250000000001, 'IKAW': 0.23982744549376211, 'NDDI': -56.668676902172194, 'NDYI': 0.21406854800905387, 'NMDI': 0.5310006916100878, 'NRFIg': -0.14094277753558632, 'NRFIr': -0.11422701021768113, 'SM': 0.13, 'SR_B1': 0.07335000000000003, 'SR_B4': 0.39292750000000004, 'SR_B5': 0.270855, 'ST_B6': 310.95604166}}\n"
     ]
    }
   ],
   "source": [
    "sm_0630_pix=sm_0630.map(pixelInfo_0630)\n",
    "properties=['SR_B1']\n",
    "sm_0630_pix = sm_0630_pix.filter(ee.Filter.notNull(properties))\n",
    "print(sm_0630_pix.first().getInfo())"
   ]
  },
  {
   "cell_type": "markdown",
   "metadata": {},
   "source": [
    "Now that we have four feature collections with the soil moisture data and pixel information, we can merge them"
   ]
  },
  {
   "cell_type": "code",
   "execution_count": 22,
   "metadata": {},
   "outputs": [
    {
     "data": {
      "text/html": [
       "\n",
       "            <style>\n",
       "                .geemap-dark {\n",
       "                    --jp-widgets-color: white;\n",
       "                    --jp-widgets-label-color: white;\n",
       "                    --jp-ui-font-color1: white;\n",
       "                    --jp-layout-color2: #454545;\n",
       "                    background-color: #383838;\n",
       "                }\n",
       "\n",
       "                .geemap-dark .jupyter-button {\n",
       "                    --jp-layout-color3: #383838;\n",
       "                }\n",
       "\n",
       "                .geemap-colab {\n",
       "                    background-color: var(--colab-primary-surface-color, white);\n",
       "                }\n",
       "\n",
       "                .geemap-colab .jupyter-button {\n",
       "                    --jp-layout-color3: var(--colab-primary-surface-color, white);\n",
       "                }\n",
       "            </style>\n",
       "            "
      ],
      "text/plain": [
       "<IPython.core.display.HTML object>"
      ]
     },
     "metadata": {},
     "output_type": "display_data"
    }
   ],
   "source": [
    "sm_trainingTesting=sm_0513_pix.merge(sm_0529_pix).merge(sm_0614_pix).merge(sm_0630_pix)"
   ]
  },
  {
   "cell_type": "code",
   "execution_count": 23,
   "metadata": {},
   "outputs": [
    {
     "data": {
      "text/html": [
       "\n",
       "            <style>\n",
       "                .geemap-dark {\n",
       "                    --jp-widgets-color: white;\n",
       "                    --jp-widgets-label-color: white;\n",
       "                    --jp-ui-font-color1: white;\n",
       "                    --jp-layout-color2: #454545;\n",
       "                    background-color: #383838;\n",
       "                }\n",
       "\n",
       "                .geemap-dark .jupyter-button {\n",
       "                    --jp-layout-color3: #383838;\n",
       "                }\n",
       "\n",
       "                .geemap-colab {\n",
       "                    background-color: var(--colab-primary-surface-color, white);\n",
       "                }\n",
       "\n",
       "                .geemap-colab .jupyter-button {\n",
       "                    --jp-layout-color3: var(--colab-primary-surface-color, white);\n",
       "                }\n",
       "            </style>\n",
       "            "
      ],
      "text/plain": [
       "<IPython.core.display.HTML object>"
      ]
     },
     "metadata": {},
     "output_type": "display_data"
    }
   ],
   "source": [
    "# // Randomly split the data into 60% for training, and 40% for testing\n",
    "sm_trainingTesting = sm_trainingTesting.randomColumn('random',0);\n",
    "\n",
    "training = sm_trainingTesting.filter(ee.Filter.lt('random', 0.6));\n",
    "\n",
    "testing = sm_trainingTesting.filter(ee.Filter.gte('random', 0.6));"
   ]
  },
  {
   "cell_type": "markdown",
   "metadata": {},
   "source": [
    "### Non linear functions (machine learning)"
   ]
  },
  {
   "cell_type": "markdown",
   "metadata": {},
   "source": [
    "If the linear regression isn't satisfactory, Earth Engine contains other functions that can make predictions of a continuous variable.  Unlike linear regression, other regression functions are implemented by the classifier library.  \n",
    "\n",
    "- For example, a Classification and Regression Tree (CART, see Brieman et al. 1984) is a machine learning algorithm that can learn non-linear patterns in your data.  Reusing the T table (without the constant term), train a CART as follows:"
   ]
  },
  {
   "cell_type": "code",
   "execution_count": 24,
   "metadata": {},
   "outputs": [
    {
     "data": {
      "text/html": [
       "\n",
       "            <style>\n",
       "                .geemap-dark {\n",
       "                    --jp-widgets-color: white;\n",
       "                    --jp-widgets-label-color: white;\n",
       "                    --jp-ui-font-color1: white;\n",
       "                    --jp-layout-color2: #454545;\n",
       "                    background-color: #383838;\n",
       "                }\n",
       "\n",
       "                .geemap-dark .jupyter-button {\n",
       "                    --jp-layout-color3: #383838;\n",
       "                }\n",
       "\n",
       "                .geemap-colab {\n",
       "                    background-color: var(--colab-primary-surface-color, white);\n",
       "                }\n",
       "\n",
       "                .geemap-colab .jupyter-button {\n",
       "                    --jp-layout-color3: var(--colab-primary-surface-color, white);\n",
       "                }\n",
       "            </style>\n",
       "            "
      ],
      "text/plain": [
       "<IPython.core.display.HTML object>"
      ]
     },
     "metadata": {},
     "output_type": "display_data"
    }
   ],
   "source": [
    "leafs=1\n",
    "cartRegression = ee.Classifier.smileCart(minLeafPopulation=leafs).setOutputMode('REGRESSION').train(\n",
    "      features= training, \n",
    "      classProperty= 'SM', \n",
    "      inputProperties= predictionBands\n",
    "    );"
   ]
  },
  {
   "cell_type": "code",
   "execution_count": 25,
   "metadata": {},
   "outputs": [
    {
     "data": {
      "text/html": [
       "\n",
       "            <style>\n",
       "                .geemap-dark {\n",
       "                    --jp-widgets-color: white;\n",
       "                    --jp-widgets-label-color: white;\n",
       "                    --jp-ui-font-color1: white;\n",
       "                    --jp-layout-color2: #454545;\n",
       "                    background-color: #383838;\n",
       "                }\n",
       "\n",
       "                .geemap-dark .jupyter-button {\n",
       "                    --jp-layout-color3: #383838;\n",
       "                }\n",
       "\n",
       "                .geemap-colab {\n",
       "                    background-color: var(--colab-primary-surface-color, white);\n",
       "                }\n",
       "\n",
       "                .geemap-colab .jupyter-button {\n",
       "                    --jp-layout-color3: var(--colab-primary-surface-color, white);\n",
       "                }\n",
       "            </style>\n",
       "            "
      ],
      "text/plain": [
       "<IPython.core.display.HTML object>"
      ]
     },
     "metadata": {},
     "output_type": "display_data"
    },
    {
     "data": {
      "application/vnd.jupyter.widget-view+json": {
       "model_id": "f2b2c18b600f4b82a8c1fc93cd2d89bb",
       "version_major": 2,
       "version_minor": 0
      },
      "text/plain": [
       "Map(center=[0, 0], controls=(WidgetControl(options=['position', 'transparent_bg'], widget=SearchDataGUI(childr…"
      ]
     },
     "execution_count": 25,
     "metadata": {},
     "output_type": "execute_result"
    }
   ],
   "source": [
    "cartRegressionImage = landsat7_jun_30.select(predictionBands).classify(cartRegression, 'y_hat');\n",
    "\n",
    "Map=geemap.Map()\n",
    "\n",
    "Map.addLayer(cartRegressionImage, {'min': 0, 'max': 0.6,\n",
    "                                   'palette':['orange','yellow','green','cyan','blue']},'CART regression');\n",
    "Map\n",
    "Map.centerObject(sm_trainingTesting)\n"
   ]
  },
  {
   "cell_type": "code",
   "execution_count": null,
   "metadata": {},
   "outputs": [],
   "source": []
  },
  {
   "cell_type": "markdown",
   "metadata": {},
   "source": [
    "Use a Random Forest regression classifier"
   ]
  },
  {
   "cell_type": "code",
   "execution_count": 26,
   "metadata": {},
   "outputs": [
    {
     "data": {
      "text/html": [
       "\n",
       "            <style>\n",
       "                .geemap-dark {\n",
       "                    --jp-widgets-color: white;\n",
       "                    --jp-widgets-label-color: white;\n",
       "                    --jp-ui-font-color1: white;\n",
       "                    --jp-layout-color2: #454545;\n",
       "                    background-color: #383838;\n",
       "                }\n",
       "\n",
       "                .geemap-dark .jupyter-button {\n",
       "                    --jp-layout-color3: #383838;\n",
       "                }\n",
       "\n",
       "                .geemap-colab {\n",
       "                    background-color: var(--colab-primary-surface-color, white);\n",
       "                }\n",
       "\n",
       "                .geemap-colab .jupyter-button {\n",
       "                    --jp-layout-color3: var(--colab-primary-surface-color, white);\n",
       "                }\n",
       "            </style>\n",
       "            "
      ],
      "text/plain": [
       "<IPython.core.display.HTML object>"
      ]
     },
     "metadata": {},
     "output_type": "display_data"
    }
   ],
   "source": [
    "trees =5 #this value needs to be optimized\n",
    "\n",
    "rfRegression = ee.Classifier.smileRandomForest(numberOfTrees=trees, seed=0).setOutputMode('REGRESSION').train(\n",
    "      features= training, \n",
    "      classProperty= 'SM', \n",
    "      inputProperties= predictionBands\n",
    "    )"
   ]
  },
  {
   "cell_type": "code",
   "execution_count": 27,
   "metadata": {},
   "outputs": [
    {
     "data": {
      "text/html": [
       "\n",
       "            <style>\n",
       "                .geemap-dark {\n",
       "                    --jp-widgets-color: white;\n",
       "                    --jp-widgets-label-color: white;\n",
       "                    --jp-ui-font-color1: white;\n",
       "                    --jp-layout-color2: #454545;\n",
       "                    background-color: #383838;\n",
       "                }\n",
       "\n",
       "                .geemap-dark .jupyter-button {\n",
       "                    --jp-layout-color3: #383838;\n",
       "                }\n",
       "\n",
       "                .geemap-colab {\n",
       "                    background-color: var(--colab-primary-surface-color, white);\n",
       "                }\n",
       "\n",
       "                .geemap-colab .jupyter-button {\n",
       "                    --jp-layout-color3: var(--colab-primary-surface-color, white);\n",
       "                }\n",
       "            </style>\n",
       "            "
      ],
      "text/plain": [
       "<IPython.core.display.HTML object>"
      ]
     },
     "metadata": {},
     "output_type": "display_data"
    },
    {
     "data": {
      "application/vnd.jupyter.widget-view+json": {
       "model_id": "a6371b3b639d404bbe7f1c7ea3b56a61",
       "version_major": 2,
       "version_minor": 0
      },
      "text/plain": [
       "Map(center=[0, 0], controls=(WidgetControl(options=['position', 'transparent_bg'], widget=SearchDataGUI(childr…"
      ]
     },
     "execution_count": 27,
     "metadata": {},
     "output_type": "execute_result"
    }
   ],
   "source": [
    "# // Perform the RF regression on the landsat image\n",
    "rfRegressionImage = landsat7_jun_30.select(predictionBands).classify(rfRegression, 'y_hat');\n",
    "    \n",
    "# // Visualize the RF regression\n",
    "Map2=geemap.Map()\n",
    "\n",
    "Map2.addLayer(rfRegressionImage, {'min': 0, 'max': 0.6,\n",
    "                                   'palette':['orange','yellow','green','cyan','blue']},'RF regression');\n",
    "Map2.centerObject(sm_trainingTesting)\n",
    "Map2"
   ]
  },
  {
   "cell_type": "code",
   "execution_count": null,
   "metadata": {},
   "outputs": [],
   "source": []
  },
  {
   "cell_type": "markdown",
   "metadata": {},
   "source": [
    "Using Support Vector Machines"
   ]
  },
  {
   "cell_type": "code",
   "execution_count": 28,
   "metadata": {},
   "outputs": [
    {
     "data": {
      "text/html": [
       "\n",
       "            <style>\n",
       "                .geemap-dark {\n",
       "                    --jp-widgets-color: white;\n",
       "                    --jp-widgets-label-color: white;\n",
       "                    --jp-ui-font-color1: white;\n",
       "                    --jp-layout-color2: #454545;\n",
       "                    background-color: #383838;\n",
       "                }\n",
       "\n",
       "                .geemap-dark .jupyter-button {\n",
       "                    --jp-layout-color3: #383838;\n",
       "                }\n",
       "\n",
       "                .geemap-colab {\n",
       "                    background-color: var(--colab-primary-surface-color, white);\n",
       "                }\n",
       "\n",
       "                .geemap-colab .jupyter-button {\n",
       "                    --jp-layout-color3: var(--colab-primary-surface-color, white);\n",
       "                }\n",
       "            </style>\n",
       "            "
      ],
      "text/plain": [
       "<IPython.core.display.HTML object>"
      ]
     },
     "metadata": {},
     "output_type": "display_data"
    }
   ],
   "source": [
    "# ee.Classifier.libsvm(decisionProcedure, svmType, kernelType, shrinking, degree, gamma, coef0, cost, nu, terminationEpsilon, lossEpsilon, oneClass)\n",
    "\n",
    "gamma_v =1 #this value needs to be optimized\n",
    "\n",
    "# // Create an SVM classifier with custom parameters.\n",
    "svrRegression = ee.Classifier.libsvm(svmType ='EPSILON_SVR',kernelType='RBF',gamma=gamma_v,cost=100).setOutputMode('REGRESSION').train(\n",
    "      features= training, \n",
    "      classProperty= 'SM', \n",
    "      inputProperties= predictionBands\n",
    "    )"
   ]
  },
  {
   "cell_type": "code",
   "execution_count": 29,
   "metadata": {},
   "outputs": [
    {
     "data": {
      "text/html": [
       "\n",
       "            <style>\n",
       "                .geemap-dark {\n",
       "                    --jp-widgets-color: white;\n",
       "                    --jp-widgets-label-color: white;\n",
       "                    --jp-ui-font-color1: white;\n",
       "                    --jp-layout-color2: #454545;\n",
       "                    background-color: #383838;\n",
       "                }\n",
       "\n",
       "                .geemap-dark .jupyter-button {\n",
       "                    --jp-layout-color3: #383838;\n",
       "                }\n",
       "\n",
       "                .geemap-colab {\n",
       "                    background-color: var(--colab-primary-surface-color, white);\n",
       "                }\n",
       "\n",
       "                .geemap-colab .jupyter-button {\n",
       "                    --jp-layout-color3: var(--colab-primary-surface-color, white);\n",
       "                }\n",
       "            </style>\n",
       "            "
      ],
      "text/plain": [
       "<IPython.core.display.HTML object>"
      ]
     },
     "metadata": {},
     "output_type": "display_data"
    },
    {
     "data": {
      "application/vnd.jupyter.widget-view+json": {
       "model_id": "c514657de6174267aaf4b41a71cb42ba",
       "version_major": 2,
       "version_minor": 0
      },
      "text/plain": [
       "Map(center=[0, 0], controls=(WidgetControl(options=['position', 'transparent_bg'], widget=SearchDataGUI(childr…"
      ]
     },
     "execution_count": 29,
     "metadata": {},
     "output_type": "execute_result"
    }
   ],
   "source": [
    "# // Perform the RF regression on the landsat image\n",
    "svrRegressionImage = landsat7_jun_30.select(predictionBands).classify(svrRegression, 'y_hat');\n",
    "    \n",
    "# // Visualize the RF regression\n",
    "Map3=geemap.Map()\n",
    "Map3.addLayer(svrRegressionImage, {'min': 0, 'max': 0.6,'palette':['red','yellow', 'green', 'blue', 'purple']}, 'SVR regression');\n",
    "Map3.centerObject(sm_trainingTesting)\n",
    "\n",
    "Map3"
   ]
  },
  {
   "cell_type": "markdown",
   "metadata": {},
   "source": [
    "We need indicators of the performance of these models. We need a goodness of fit statistics. The most used is Root Mean Square Error (RMSE)"
   ]
  },
  {
   "cell_type": "code",
   "execution_count": 30,
   "metadata": {},
   "outputs": [
    {
     "data": {
      "text/html": [
       "\n",
       "            <style>\n",
       "                .geemap-dark {\n",
       "                    --jp-widgets-color: white;\n",
       "                    --jp-widgets-label-color: white;\n",
       "                    --jp-ui-font-color1: white;\n",
       "                    --jp-layout-color2: #454545;\n",
       "                    background-color: #383838;\n",
       "                }\n",
       "\n",
       "                .geemap-dark .jupyter-button {\n",
       "                    --jp-layout-color3: #383838;\n",
       "                }\n",
       "\n",
       "                .geemap-colab {\n",
       "                    background-color: var(--colab-primary-surface-color, white);\n",
       "                }\n",
       "\n",
       "                .geemap-colab .jupyter-button {\n",
       "                    --jp-layout-color3: var(--colab-primary-surface-color, white);\n",
       "                }\n",
       "            </style>\n",
       "            "
      ],
      "text/plain": [
       "<IPython.core.display.HTML object>"
      ]
     },
     "metadata": {},
     "output_type": "display_data"
    }
   ],
   "source": [
    "# ////////////////////////////////////////////////////////////////////////////////\n",
    "# // Function to compute the sum of squared differences for the results from \n",
    "# // any Regression. This function uses the actual values stored in the \n",
    "# // 'Percent_Tree_Cover' property of the 'regression' feature collection, and the predicted \n",
    "# // values stored in the 'prediction' property.\n",
    "def set_sqError(feature):\n",
    "    feature = ee.Feature(feature)\n",
    "    actualValue = ee.Number(feature.get('SM'))\n",
    "    predict = ee.Number(feature.get('y_hat'))\n",
    "    sqError = (actualValue.subtract(predict)).multiply(actualValue.subtract(predict))\n",
    "    feature = feature.set('sqError',sqError)\n",
    "    return feature\n"
   ]
  },
  {
   "cell_type": "markdown",
   "metadata": {},
   "source": [
    "Accuracy Assessment"
   ]
  },
  {
   "cell_type": "code",
   "execution_count": 31,
   "metadata": {},
   "outputs": [
    {
     "data": {
      "text/html": [
       "\n",
       "            <style>\n",
       "                .geemap-dark {\n",
       "                    --jp-widgets-color: white;\n",
       "                    --jp-widgets-label-color: white;\n",
       "                    --jp-ui-font-color1: white;\n",
       "                    --jp-layout-color2: #454545;\n",
       "                    background-color: #383838;\n",
       "                }\n",
       "\n",
       "                .geemap-dark .jupyter-button {\n",
       "                    --jp-layout-color3: #383838;\n",
       "                }\n",
       "\n",
       "                .geemap-colab {\n",
       "                    background-color: var(--colab-primary-surface-color, white);\n",
       "                }\n",
       "\n",
       "                .geemap-colab .jupyter-button {\n",
       "                    --jp-layout-color3: var(--colab-primary-surface-color, white);\n",
       "                }\n",
       "            </style>\n",
       "            "
      ],
      "text/plain": [
       "<IPython.core.display.HTML object>"
      ]
     },
     "metadata": {},
     "output_type": "display_data"
    },
    {
     "name": "stdout",
     "output_type": "stream",
     "text": [
      "CART Regression RMSE: 0.1480531384360571\n"
     ]
    }
   ],
   "source": [
    "# // Perform the CART regression on the test set\n",
    "cartRegressionTesting = testing.classify(cartRegression, 'y_hat');\n",
    "\n",
    "# // Calculate the RMSE for CART regression and print the result\n",
    "regression=cartRegressionTesting.map(set_sqError)\n",
    "regression = ee.FeatureCollection(regression)\n",
    "MSE = regression.reduceColumns(ee.Reducer.mean(),['sqError'])\n",
    "RMSE =  ee.Number(MSE.get('mean')).sqrt()\n",
    "\n",
    "print('CART Regression RMSE:', RMSE.getInfo());"
   ]
  },
  {
   "cell_type": "code",
   "execution_count": 32,
   "metadata": {},
   "outputs": [
    {
     "data": {
      "text/html": [
       "\n",
       "            <style>\n",
       "                .geemap-dark {\n",
       "                    --jp-widgets-color: white;\n",
       "                    --jp-widgets-label-color: white;\n",
       "                    --jp-ui-font-color1: white;\n",
       "                    --jp-layout-color2: #454545;\n",
       "                    background-color: #383838;\n",
       "                }\n",
       "\n",
       "                .geemap-dark .jupyter-button {\n",
       "                    --jp-layout-color3: #383838;\n",
       "                }\n",
       "\n",
       "                .geemap-colab {\n",
       "                    background-color: var(--colab-primary-surface-color, white);\n",
       "                }\n",
       "\n",
       "                .geemap-colab .jupyter-button {\n",
       "                    --jp-layout-color3: var(--colab-primary-surface-color, white);\n",
       "                }\n",
       "            </style>\n",
       "            "
      ],
      "text/plain": [
       "<IPython.core.display.HTML object>"
      ]
     },
     "metadata": {},
     "output_type": "display_data"
    },
    {
     "name": "stdout",
     "output_type": "stream",
     "text": [
      "RF Regression RMSE: 0.13988214798776322\n"
     ]
    }
   ],
   "source": [
    "# // Perform the RF regression on the test set\n",
    "rfRegressionTesting = testing.classify(rfRegression, 'y_hat');\n",
    "\n",
    "# // Calculate the RMSE for RF regression and print the result\n",
    "regression=rfRegressionTesting.map(set_sqError)\n",
    "regression = ee.FeatureCollection(regression)\n",
    "MSE = regression.reduceColumns(ee.Reducer.mean(),['sqError'])\n",
    "RMSE =  ee.Number(MSE.get('mean')).sqrt()\n",
    "\n",
    "print('RF Regression RMSE:', RMSE.getInfo());"
   ]
  },
  {
   "cell_type": "code",
   "execution_count": 33,
   "metadata": {},
   "outputs": [
    {
     "data": {
      "text/html": [
       "\n",
       "            <style>\n",
       "                .geemap-dark {\n",
       "                    --jp-widgets-color: white;\n",
       "                    --jp-widgets-label-color: white;\n",
       "                    --jp-ui-font-color1: white;\n",
       "                    --jp-layout-color2: #454545;\n",
       "                    background-color: #383838;\n",
       "                }\n",
       "\n",
       "                .geemap-dark .jupyter-button {\n",
       "                    --jp-layout-color3: #383838;\n",
       "                }\n",
       "\n",
       "                .geemap-colab {\n",
       "                    background-color: var(--colab-primary-surface-color, white);\n",
       "                }\n",
       "\n",
       "                .geemap-colab .jupyter-button {\n",
       "                    --jp-layout-color3: var(--colab-primary-surface-color, white);\n",
       "                }\n",
       "            </style>\n",
       "            "
      ],
      "text/plain": [
       "<IPython.core.display.HTML object>"
      ]
     },
     "metadata": {},
     "output_type": "display_data"
    },
    {
     "name": "stdout",
     "output_type": "stream",
     "text": [
      "SVR Regression RMSE: 0.14362656377533617\n"
     ]
    }
   ],
   "source": [
    "# // Perform the SVR regression on the test set\n",
    "svrRegressionTesting = testing.classify(svrRegression, 'y_hat');\n",
    "\n",
    "# // Calculate the RMSE for RF regression and print the result\n",
    "regression=svrRegressionTesting.map(set_sqError)\n",
    "regression = ee.FeatureCollection(regression)\n",
    "MSE = regression.reduceColumns(ee.Reducer.mean(),['sqError'])\n",
    "RMSE =  ee.Number(MSE.get('mean')).sqrt()\n",
    "\n",
    "print('SVR Regression RMSE:', RMSE.getInfo());"
   ]
  },
  {
   "cell_type": "markdown",
   "metadata": {},
   "source": [
    "### BONUS: Hyperparameters tuning\n",
    "\n",
    "A random forest is a collection of random trees the predictions of which are used to compute an average (regression) or vote on a label (classification).  Note that the only parameter to the classifier is the number of trees (10).  How many trees should you use?  Making that choice is best done by hyperparameter tuning.  For example, \n"
   ]
  },
  {
   "cell_type": "code",
   "execution_count": 34,
   "metadata": {},
   "outputs": [
    {
     "data": {
      "text/html": [
       "\n",
       "            <style>\n",
       "                .geemap-dark {\n",
       "                    --jp-widgets-color: white;\n",
       "                    --jp-widgets-label-color: white;\n",
       "                    --jp-ui-font-color1: white;\n",
       "                    --jp-layout-color2: #454545;\n",
       "                    background-color: #383838;\n",
       "                }\n",
       "\n",
       "                .geemap-dark .jupyter-button {\n",
       "                    --jp-layout-color3: #383838;\n",
       "                }\n",
       "\n",
       "                .geemap-colab {\n",
       "                    background-color: var(--colab-primary-surface-color, white);\n",
       "                }\n",
       "\n",
       "                .geemap-colab .jupyter-button {\n",
       "                    --jp-layout-color3: var(--colab-primary-surface-color, white);\n",
       "                }\n",
       "            </style>\n",
       "            "
      ],
      "text/plain": [
       "<IPython.core.display.HTML object>"
      ]
     },
     "metadata": {},
     "output_type": "display_data"
    },
    {
     "name": "stdout",
     "output_type": "stream",
     "text": [
      "Min RMSE = 0.11921642870261365\n",
      "Min Trees = 16\n"
     ]
    },
    {
     "data": {
      "image/png": "[encoded data removed]",
      "text/plain": [
       "<Figure size 432x288 with 1 Axes>"
      ]
     },
     "metadata": {
      "needs_background": "light"
     },
     "output_type": "display_data"
    }
   ],
   "source": [
    "numTrees = ee.List.sequence(1, 50, 1)\n",
    "\n",
    "\n",
    "def trees(t):\n",
    "    rfRegression = ee.Classifier.smileRandomForest(numberOfTrees=t, seed=0).setOutputMode('REGRESSION').train(\n",
    "    features= training, \n",
    "    classProperty= 'SM', \n",
    "    inputProperties= predictionBands)\n",
    "    \n",
    "    rfRegressionTesting = testing.classify(rfRegression, 'y_hat')\n",
    "\n",
    "    # // Calculate the RMSE for RF regression and print the result\n",
    "    regression=rfRegressionTesting.map(set_sqError)\n",
    "    regression = ee.FeatureCollection(regression)\n",
    "    MSE = regression.reduceColumns(ee.Reducer.mean(),['sqError'])\n",
    "    RMSE =  ee.Number(MSE.get('mean')).sqrt()        \n",
    "    return RMSE\n",
    "\n",
    "\n",
    "rmse_trees=numTrees.map(trees)\n",
    "value_info = rmse_trees.getInfo()\n",
    "\n",
    "# Extracting tree value for minimum RMSE\n",
    "min_rmse=min(value_info)\n",
    "print(\"Min RMSE =\", min_rmse)\n",
    "\n",
    "index=value_info.index(min(value_info))\n",
    "trees_range = numTrees.getInfo()\n",
    "min_trees =trees_range[index]\n",
    "print(\"Min Trees =\", min_trees)\n",
    "\n",
    "# print(rmse_gama.getInfo())\n",
    "\n",
    "# Plotting the interations\n",
    "\n",
    "import pandas as pd\n",
    "df =pd.DataFrame(value_info,columns=['RMSE'])\n",
    "df['numTrees'] = numTrees.getInfo() \n",
    "\n",
    "ax =df.plot.line(x='numTrees', \n",
    "             y='RMSE',\n",
    "             title= 'Impact of Number of Trees in Random Forest'\n",
    "             )\n",
    "ax.grid()"
   ]
  },
  {
   "cell_type": "markdown",
   "metadata": {},
   "source": [
    "same for svr"
   ]
  },
  {
   "cell_type": "code",
   "execution_count": 35,
   "metadata": {},
   "outputs": [
    {
     "data": {
      "text/html": [
       "\n",
       "            <style>\n",
       "                .geemap-dark {\n",
       "                    --jp-widgets-color: white;\n",
       "                    --jp-widgets-label-color: white;\n",
       "                    --jp-ui-font-color1: white;\n",
       "                    --jp-layout-color2: #454545;\n",
       "                    background-color: #383838;\n",
       "                }\n",
       "\n",
       "                .geemap-dark .jupyter-button {\n",
       "                    --jp-layout-color3: #383838;\n",
       "                }\n",
       "\n",
       "                .geemap-colab {\n",
       "                    background-color: var(--colab-primary-surface-color, white);\n",
       "                }\n",
       "\n",
       "                .geemap-colab .jupyter-button {\n",
       "                    --jp-layout-color3: var(--colab-primary-surface-color, white);\n",
       "                }\n",
       "            </style>\n",
       "            "
      ],
      "text/plain": [
       "<IPython.core.display.HTML object>"
      ]
     },
     "metadata": {},
     "output_type": "display_data"
    },
    {
     "name": "stdout",
     "output_type": "stream",
     "text": [
      "Min RMSE = 0.12570280092086217\n",
      "Min Gamma = 0.1\n"
     ]
    },
    {
     "data": {
      "image/png": "[encoded data removed]",
      "text/plain": [
       "<Figure size 432x288 with 1 Axes>"
      ]
     },
     "metadata": {
      "needs_background": "light"
     },
     "output_type": "display_data"
    }
   ],
   "source": [
    "gamma_vals = ee.List.sequence(0.1, 5, 0.1)\n",
    "\n",
    "\n",
    "def gammas(t):\n",
    "    svrRegression = ee.Classifier.libsvm(svmType ='EPSILON_SVR',kernelType='RBF',gamma=t,cost=100).setOutputMode('REGRESSION').train(\n",
    "      features= training, \n",
    "      classProperty= 'SM', \n",
    "      inputProperties= predictionBands\n",
    "    )\n",
    "    \n",
    "    svrRegressionTesting = testing.classify(svrRegression, 'y_hat');\n",
    "\n",
    "    # // Calculate the RMSE for SVM regression and print the result\n",
    "    regression=svrRegressionTesting.map(set_sqError)\n",
    "    regression = ee.FeatureCollection(regression)\n",
    "    MSE = regression.reduceColumns(ee.Reducer.mean(),['sqError'])\n",
    "    RMSE =  ee.Number(MSE.get('mean')).sqrt()        \n",
    "    return RMSE\n",
    "\n",
    "\n",
    "rmse_gama=gamma_vals.map(gammas)\n",
    "value_info = rmse_gama.getInfo()\n",
    "\n",
    "# Extracting gamma value for minimum RMSE\n",
    "min_rmse=min(value_info)\n",
    "print(\"Min RMSE =\", min_rmse)\n",
    "\n",
    "index=value_info.index(min(value_info))\n",
    "gamma_range = gamma_vals.getInfo()\n",
    "min_gamma =gamma_range[index]\n",
    "print(\"Min Gamma =\", min_gamma)\n",
    "\n",
    "# print(rmse_gama.getInfo())\n",
    "\n",
    "# Plotting the interations\n",
    "import pandas as pd\n",
    "df =pd.DataFrame(value_info,columns=['RMSE'])\n",
    "df['Gamma'] = gamma_vals.getInfo() \n",
    "\n",
    "ax =df.plot.line(x='Gamma', \n",
    "             y='RMSE',\n",
    "             title= 'Impact of Gamma in SVR'\n",
    "             )\n",
    "ax.grid()"
   ]
  },
  {
   "cell_type": "markdown",
   "metadata": {},
   "source": [
    "same for cart regression"
   ]
  },
  {
   "cell_type": "code",
   "execution_count": 36,
   "metadata": {},
   "outputs": [
    {
     "data": {
      "text/html": [
       "\n",
       "            <style>\n",
       "                .geemap-dark {\n",
       "                    --jp-widgets-color: white;\n",
       "                    --jp-widgets-label-color: white;\n",
       "                    --jp-ui-font-color1: white;\n",
       "                    --jp-layout-color2: #454545;\n",
       "                    background-color: #383838;\n",
       "                }\n",
       "\n",
       "                .geemap-dark .jupyter-button {\n",
       "                    --jp-layout-color3: #383838;\n",
       "                }\n",
       "\n",
       "                .geemap-colab {\n",
       "                    background-color: var(--colab-primary-surface-color, white);\n",
       "                }\n",
       "\n",
       "                .geemap-colab .jupyter-button {\n",
       "                    --jp-layout-color3: var(--colab-primary-surface-color, white);\n",
       "                }\n",
       "            </style>\n",
       "            "
      ],
      "text/plain": [
       "<IPython.core.display.HTML object>"
      ]
     },
     "metadata": {},
     "output_type": "display_data"
    },
    {
     "name": "stdout",
     "output_type": "stream",
     "text": [
      "Min RMSE = 0.10805697357978562\n",
      "Min Leaf = 11\n"
     ]
    },
    {
     "data": {
      "image/png": "[encoded data removed]",
      "text/plain": [
       "<Figure size 432x288 with 1 Axes>"
      ]
     },
     "metadata": {
      "needs_background": "light"
     },
     "output_type": "display_data"
    }
   ],
   "source": [
    "leaf_vals = ee.List.sequence(1, 150, 5)\n",
    "\n",
    "def leafs(t):\n",
    "    cartRegression = ee.Classifier.smileCart(minLeafPopulation=t).setOutputMode('REGRESSION').train(\n",
    "    features= training, \n",
    "    classProperty= 'SM', \n",
    "    inputProperties= predictionBands\n",
    "    )\n",
    "\n",
    "    cartRegressionTesting = testing.classify(cartRegression, 'y_hat');\n",
    "\n",
    "    # // Calculate the RMSE for CART regression and print the result\n",
    "    regression=cartRegressionTesting.map(set_sqError)\n",
    "    regression = ee.FeatureCollection(regression)\n",
    "    MSE = regression.reduceColumns(ee.Reducer.mean(),['sqError'])\n",
    "    RMSE =  ee.Number(MSE.get('mean')).sqrt()        \n",
    "    return RMSE\n",
    "\n",
    "\n",
    "rmse_leaf=leaf_vals.map(leafs)\n",
    "value_info = rmse_leaf.getInfo()\n",
    "\n",
    "# Extracting gamma value for minimum RMSE\n",
    "min_rmse=min(value_info)\n",
    "print(\"Min RMSE =\", min_rmse)\n",
    "\n",
    "index=value_info.index(min(value_info))\n",
    "leaf_range = leaf_vals.getInfo()\n",
    "min_leaf =leaf_range[index]\n",
    "print(\"Min Leaf =\", min_leaf)\n",
    "\n",
    "# print(rmse_gama.getInfo())\n",
    "\n",
    "# Plotting the interations\n",
    "import pandas as pd\n",
    "df =pd.DataFrame(value_info,columns=['RMSE'])\n",
    "df['Leaf'] = leaf_vals.getInfo() \n",
    "\n",
    "ax =df.plot.line(x='Leaf', \n",
    "             y='RMSE',\n",
    "             title= 'Impact of Leaf numbers in Cart'\n",
    "             )\n",
    "ax.grid()"
   ]
  },
  {
   "cell_type": "code",
   "execution_count": null,
   "metadata": {},
   "outputs": [],
   "source": []
  },
  {
   "cell_type": "code",
   "execution_count": null,
   "metadata": {},
   "outputs": [],
   "source": []
  },
  {
   "cell_type": "code",
   "execution_count": null,
   "metadata": {},
   "outputs": [],
   "source": []
  },
  {
   "cell_type": "code",
   "execution_count": null,
   "metadata": {},
   "outputs": [],
   "source": []
  }
 ],
 "metadata": {
  "kernelspec": {
   "display_name": "Python 3 (ipykernel)",
   "language": "python",
   "name": "python3"
  },
  "language_info": {
   "codemirror_mode": {
    "name": "ipython",
    "version": 3
   },
   "file_extension": ".py",
   "mimetype": "text/x-python",
   "name": "python",
   "nbconvert_exporter": "python",
   "pygments_lexer": "ipython3",
   "version": "3.9.7"
  },
  "widgets": {
   "application/vnd.jupyter.widget-state+json": {
    "state": {
     "00f0dc37a5514a3592d57bf17855099b": {
      "model_module": "@jupyter-widgets/controls",
      "model_module_version": "2.0.0",
      "model_name": "ToggleButtonModel",
      "state": {
       "button_style": "primary",
       "icon": "plus",
       "layout": "IPY_MODEL_dfe34a148c574cfcad8ad42f6c124189",
       "style": "IPY_MODEL_9278b34277f348678b90c7fb5c8e33ee",
       "tooltip": "Expand toolbar"
      }
     },
     "0156c279bbc443d6aa6f9b494094be5c": {
      "model_module": "jupyter-leaflet",
      "model_module_version": "2.0.0",
      "model_name": "LeafletWidgetControlModel",
      "state": {
       "_model_module": "jupyter-leaflet",
       "_view_name": "ErrorWidgetView",
       "error": {},
       "msg": "Failed to load model class 'LeafletWidgetControlModel' from module 'jupyter-leaflet'",
       "options": [
        "position",
        "transparent_bg"
       ],
       "position": "topleft",
       "widget": "IPY_MODEL_a1958df324604752ae193d8810e5c9dc"
      }
     },
     "01b8a9d6c2f44b999d34e5a9e52554de": {
      "model_module": "@jupyter-widgets/controls",
      "model_module_version": "2.0.0",
      "model_name": "ToggleButtonStyleModel",
      "state": {
       "description_width": "",
       "font_family": null,
       "font_size": null,
       "font_style": null,
       "font_variant": null,
       "font_weight": null,
       "text_color": null,
       "text_decoration": null
      }
     },
     "02dfba1598cf460692895f0f62b35546": {
      "model_module": "@jupyter-widgets/controls",
      "model_module_version": "2.0.0",
      "model_name": "ToggleButtonModel",
      "state": {
       "button_style": "primary",
       "icon": "info-circle",
       "layout": "IPY_MODEL_ea7a1d69b5454efba549ee830c211ef0",
       "style": "IPY_MODEL_66c1ffd9f59f4d74bd971ebf186241a1",
       "tooltip": "Get COG/STAC pixel value"
      }
     },
     "02f84e06645d414e8755b19f202e949b": {
      "model_module": "jupyter-leaflet",
      "model_module_version": "2.0.0",
      "model_name": "LeafletTileLayerModel",
      "state": {
       "_view_name": "ErrorWidgetView",
       "attribution": "Google Earth Engine",
       "error": {},
       "max_zoom": 24,
       "msg": "Failed to load model class 'LeafletTileLayerModel' from module 'jupyter-leaflet'",
       "name": "RF regression",
       "options": [
        "attribution",
        "bounds",
        "detect_retina",
        "max_native_zoom",
        "max_zoom",
        "min_native_zoom",
        "min_zoom",
        "no_wrap",
        "tile_size",
        "tms",
        "zoom_offset"
       ],
       "url": "https://earthengine.googleapis.com/v1/projects/earthengine-legacy/maps/d869872e37f5495a70d01dc9a26a59e1-6f373fd5adf9e4deb31c3fcb62acd316/tiles/{z}/{x}/{y}"
      }
     },
     "0379e3e10449438eb1e7775790b89bc6": {
      "model_module": "jupyter-leaflet",
      "model_module_version": "2.0.0",
      "model_name": "LeafletFullScreenControlModel",
      "state": {
       "_view_name": "ErrorWidgetView",
       "error": {},
       "msg": "Failed to load model class 'LeafletFullScreenControlModel' from module 'jupyter-leaflet'",
       "options": [
        "position"
       ]
      }
     },
     "03b8fb5aad2a43739cc124d203e6a415": {
      "model_module": "jupyter-leaflet",
      "model_module_version": "^0.18",
      "model_name": "LeafletWidgetControlModel",
      "state": {
       "_model_module": "jupyter-leaflet",
       "_model_module_version": "^0.18",
       "_view_count": null,
       "_view_module": "jupyter-leaflet",
       "_view_module_version": "^0.18",
       "options": [
        "position",
        "transparent_bg"
       ],
       "position": "topleft",
       "widget": "IPY_MODEL_72ad961c10674d19a21381bd3816e187"
      }
     },
     "03f63b2f9c354a94af5751c12e4fc49f": {
      "model_module": "@jupyter-widgets/controls",
      "model_module_version": "2.0.0",
      "model_name": "ToggleButtonModel",
      "state": {
       "button_style": "primary",
       "icon": "hand-o-up",
       "layout": "IPY_MODEL_11ad417a0221450388fbf8cbeab18f08",
       "style": "IPY_MODEL_c048b9956abb43498c6bff3f12930037",
       "tooltip": "Collect training samples"
      }
     },
     "0434377c84154eac903b6fdb8555b480": {
      "model_module": "@jupyter-widgets/base",
      "model_module_version": "2.0.0",
      "model_name": "LayoutModel",
      "state": {
       "height": "auto",
       "padding": "0px 0px 0px 4px",
       "width": "auto"
      }
     },
     "043ad4eb0c0d4308bade2163f35e1f7d": {
      "model_module": "@jupyter-widgets/controls",
      "model_module_version": "2.0.0",
      "model_name": "ToggleButtonModel",
      "state": {
       "button_style": "primary",
       "icon": "folder-open",
       "layout": "IPY_MODEL_317ff6ffcae14d5ca10d76d1ff84eaca",
       "style": "IPY_MODEL_9027a7b5ed8b42dfa8080ecf1f101e0f",
       "tooltip": "Open local vector/raster data"
      }
     },
     "050f0154fc8d494998a758c3b5947ed7": {
      "model_module": "@jupyter-widgets/controls",
      "model_module_version": "2.0.0",
      "model_name": "ToggleButtonStyleModel",
      "state": {
       "description_width": "",
       "font_family": null,
       "font_size": null,
       "font_style": null,
       "font_variant": null,
       "font_weight": null,
       "text_color": null,
       "text_decoration": null
      }
     },
     "057cc1d0f08545bfb0c4ec483620e397": {
      "model_module": "jupyter-leaflet",
      "model_module_version": "2.0.0",
      "model_name": "LeafletWidgetControlModel",
      "state": {
       "_model_module": "jupyter-leaflet",
       "_view_name": "ErrorWidgetView",
       "error": {},
       "msg": "Failed to load model class 'LeafletWidgetControlModel' from module 'jupyter-leaflet'",
       "options": [
        "position",
        "transparent_bg"
       ],
       "position": "topleft",
       "widget": "IPY_MODEL_a1a5c46cbc024b97990ed6edc6ef14f9"
      }
     },
     "05c5da034ec340b8a4da08139541e000": {
      "model_module": "jupyter-leaflet",
      "model_module_version": "2.0.0",
      "model_name": "LeafletAttributionControlModel",
      "state": {
       "_view_name": "ErrorWidgetView",
       "error": {},
       "msg": "Failed to load model class 'LeafletAttributionControlModel' from module 'jupyter-leaflet'",
       "options": [
        "position",
        "prefix"
       ],
       "position": "bottomright",
       "prefix": "ipyleaflet"
      }
     },
     "05d951208fe34b6180ccd2e287982550": {
      "model_module": "jupyter-leaflet",
      "model_module_version": "^0.18",
      "model_name": "LeafletZoomControlModel",
      "state": {
       "_model_module_version": "^0.18",
       "_view_module_version": "^0.18",
       "options": [
        "position",
        "zoom_in_text",
        "zoom_in_title",
        "zoom_out_text",
        "zoom_out_title"
       ]
      }
     },
     "05f8a58f0ad64939b572b3b486a3cedf": {
      "model_module": "jupyter-leaflet",
      "model_module_version": "2.0.0",
      "model_name": "LeafletWidgetControlModel",
      "state": {
       "_model_module": "jupyter-leaflet",
       "_view_name": "ErrorWidgetView",
       "error": {},
       "msg": "Failed to load model class 'LeafletWidgetControlModel' from module 'jupyter-leaflet'",
       "options": [
        "position",
        "transparent_bg"
       ],
       "position": "topright",
       "widget": "IPY_MODEL_434a61f863774441a07f664aa944518c"
      }
     },
     "068ed838781b46e890a9aee5fd81ee57": {
      "model_module": "@jupyter-widgets/base",
      "model_module_version": "2.0.0",
      "model_name": "LayoutModel",
      "state": {
       "height": "auto",
       "padding": "0px 0px 0px 4px",
       "width": "auto"
      }
     },
     "06a42c99efad48a9831390331bcf53f2": {
      "model_module": "ipyevents",
      "model_module_version": "2.0.2",
      "model_name": "EventModel",
      "state": {
       "_supported_key_events": [
        "keydown",
        "keyup"
       ],
       "_supported_mouse_events": [
        "click",
        "auxclick",
        "dblclick",
        "mouseenter",
        "mouseleave",
        "mousedown",
        "mouseup",
        "mousemove",
        "wheel",
        "contextmenu",
        "dragstart",
        "drag",
        "dragend",
        "dragenter",
        "dragover",
        "dragleave",
        "drop"
       ],
       "_supported_touch_events": [
        "touchstart",
        "touchend",
        "touchmove",
        "touchcancel"
       ],
       "_view_module": "@jupyter-widgets/controls",
       "source": "IPY_MODEL_5c2daa16986f47068068ec83dcf01ac6",
       "throttle_or_debounce": "",
       "watched_events": [
        "mouseenter",
        "mouseleave"
       ],
       "xy_coordinate_system": ""
      }
     },
     "06fb6e192ab7415896d7989d7b7b76a3": {
      "model_module": "jupyter-leaflet",
      "model_module_version": "2.0.0",
      "model_name": "LeafletScaleControlModel",
      "state": {
       "_view_name": "ErrorWidgetView",
       "error": {},
       "imperial": true,
       "max_width": 100,
       "metric": true,
       "msg": "Failed to load model class 'LeafletScaleControlModel' from module 'jupyter-leaflet'",
       "options": [
        "imperial",
        "max_width",
        "metric",
        "position",
        "update_when_idle"
       ],
       "position": "bottomleft",
       "update_when_idle": false
      }
     },
     "08bd328fd11c4f149f458fa7f26ddb37": {
      "model_module": "jupyter-leaflet",
      "model_module_version": "2.0.0",
      "model_name": "LeafletMapStyleModel",
      "state": {
       "_view_name": "ErrorWidgetView",
       "cursor": "move",
       "error": {},
       "msg": "Failed to load model class 'LeafletMapStyleModel' from module 'jupyter-leaflet'"
      }
     },
     "0af71419403445109e8bd06e759ffc37": {
      "model_module": "jupyter-leaflet",
      "model_module_version": "^0.18",
      "model_name": "LeafletTileLayerModel",
      "state": {
       "_model_module_version": "^0.18",
       "_view_module_version": "^0.18",
       "attribution": "Google Earth Engine",
       "max_zoom": 24,
       "name": "SVR regression",
       "options": [
        "attribution",
        "bounds",
        "detect_retina",
        "max_native_zoom",
        "max_zoom",
        "min_native_zoom",
        "min_zoom",
        "no_wrap",
        "tile_size",
        "tms",
        "zoom_offset"
       ],
       "url": "https://earthengine.googleapis.com/v1/projects/earthengine-legacy/maps/5f4acb2d430a3ecc036e76bcec4f03e1-26f631bdc29dda52eeab62dfa2881eae/tiles/{z}/{x}/{y}"
      }
     },
     "0d2b9f5ef5fd41fb8553a00d74478db5": {
      "model_module": "@jupyter-widgets/controls",
      "model_module_version": "2.0.0",
      "model_name": "ToggleButtonStyleModel",
      "state": {
       "description_width": "",
       "font_family": null,
       "font_size": null,
       "font_style": null,
       "font_variant": null,
       "font_weight": null,
       "text_color": null,
       "text_decoration": null
      }
     },
     "0d55f779a2984bc980d12797ff3897a3": {
      "model_module": "@jupyter-widgets/controls",
      "model_module_version": "2.0.0",
      "model_name": "ToggleButtonStyleModel",
      "state": {
       "description_width": "",
       "font_family": null,
       "font_size": null,
       "font_style": null,
       "font_variant": null,
       "font_weight": null,
       "text_color": null,
       "text_decoration": null
      }
     },
     "0dc44519383a46b58b7af4c99d46841d": {
      "model_module": "jupyter-leaflet",
      "model_module_version": "^0.18",
      "model_name": "LeafletAttributionControlModel",
      "state": {
       "_model_module_version": "^0.18",
       "_view_module_version": "^0.18",
       "options": [
        "position",
        "prefix"
       ],
       "position": "bottomright",
       "prefix": "ipyleaflet"
      }
     },
     "0e444970732a433cb0f633c388936187": {
      "model_module": "@jupyter-widgets/controls",
      "model_module_version": "2.0.0",
      "model_name": "ButtonModel",
      "state": {
       "button_style": "primary",
       "description": "import",
       "layout": "IPY_MODEL_82aeda7fcabc4b87aeddc375d49b798a",
       "style": "IPY_MODEL_4e3857e2e52e45a3b6cb130f6bdb5589",
       "tooltip": "Click to import the selected asset"
      }
     },
     "0e9a429664d2462a8f5ddb70a19b43b7": {
      "model_module": "@jupyter-widgets/controls",
      "model_module_version": "2.0.0",
      "model_name": "ButtonStyleModel",
      "state": {
       "font_family": null,
       "font_size": null,
       "font_style": null,
       "font_variant": null,
       "font_weight": null,
       "text_color": null,
       "text_decoration": null
      }
     },
     "111379a8570d4e74b6c5917d118415b4": {
      "model_module": "@jupyter-widgets/controls",
      "model_module_version": "2.0.0",
      "model_name": "ToggleButtonStyleModel",
      "state": {
       "description_width": "",
       "font_family": null,
       "font_size": null,
       "font_style": null,
       "font_variant": null,
       "font_weight": null,
       "text_color": null,
       "text_decoration": null
      }
     },
     "115980c0d08b4b0e88affe6906eb61e4": {
      "model_module": "@jupyter-widgets/base",
      "model_module_version": "2.0.0",
      "model_name": "LayoutModel",
      "state": {
       "grid_gap": "1px 1px",
       "grid_template_columns": "32px 32px 32px ",
       "grid_template_rows": "32px 32px ",
       "padding": "5px",
       "width": "109px"
      }
     },
     "117056849b2746cfade007e6ca9cb993": {
      "model_module": "@jupyter-widgets/controls",
      "model_module_version": "2.0.0",
      "model_name": "ToggleButtonStyleModel",
      "state": {
       "description_width": "",
       "font_family": null,
       "font_size": null,
       "font_style": null,
       "font_variant": null,
       "font_weight": null,
       "text_color": null,
       "text_decoration": null
      }
     },
     "11707a1f81a6495ba5f7b37f84fbd969": {
      "model_module": "jupyter-leaflet",
      "model_module_version": "2.0.0",
      "model_name": "LeafletTileLayerModel",
      "state": {
       "_view_name": "ErrorWidgetView",
       "attribution": "Google Earth Engine",
       "error": {},
       "max_zoom": 24,
       "msg": "Failed to load model class 'LeafletTileLayerModel' from module 'jupyter-leaflet'",
       "name": "Soil Moisture",
       "options": [
        "attribution",
        "bounds",
        "detect_retina",
        "max_native_zoom",
        "max_zoom",
        "min_native_zoom",
        "min_zoom",
        "no_wrap",
        "tile_size",
        "tms",
        "zoom_offset"
       ],
       "url": "https://earthengine.googleapis.com/v1/projects/earthengine-legacy/maps/c0471652014914a491c820e650b41e2b-e9d3c2858dd174c35101be972e274b8f/tiles/{z}/{x}/{y}"
      }
     },
     "11ad417a0221450388fbf8cbeab18f08": {
      "model_module": "@jupyter-widgets/base",
      "model_module_version": "2.0.0",
      "model_name": "LayoutModel",
      "state": {
       "height": "auto",
       "padding": "0px 0px 0px 4px",
       "width": "auto"
      }
     },
     "123a05c791c44a598ef333ce767e5a81": {
      "model_module": "@jupyter-widgets/base",
      "model_module_version": "2.0.0",
      "model_name": "LayoutModel",
      "state": {
       "max_height": "350px",
       "max_width": "340px",
       "overflow": "scroll"
      }
     },
     "127f7f5c2d554faa8876376306fed8c9": {
      "model_module": "@jupyter-widgets/base",
      "model_module_version": "2.0.0",
      "model_name": "LayoutModel",
      "state": {}
     },
     "12e8767690bd4060899800739e33b6f5": {
      "model_module": "jupyter-leaflet",
      "model_module_version": "2.0.0",
      "model_name": "LeafletZoomControlModel",
      "state": {
       "_view_name": "ErrorWidgetView",
       "error": {},
       "msg": "Failed to load model class 'LeafletZoomControlModel' from module 'jupyter-leaflet'",
       "options": [
        "position",
        "zoom_in_text",
        "zoom_in_title",
        "zoom_out_text",
        "zoom_out_title"
       ]
      }
     },
     "1305f5d2c1114ed6a1d46e9da5771dbd": {
      "model_module": "@jupyter-widgets/controls",
      "model_module_version": "2.0.0",
      "model_name": "ToggleButtonModel",
      "state": {
       "icon": "globe",
       "layout": "IPY_MODEL_fe6ed07b6cf943618eb6e215e31397f9",
       "style": "IPY_MODEL_dd415189c65e450db34be04b735d1d9e",
       "tooltip": "Search location/data"
      }
     },
     "131417b10ee44974853458b584fef8b3": {
      "model_module": "@jupyter-widgets/controls",
      "model_module_version": "2.0.0",
      "model_name": "ToggleButtonStyleModel",
      "state": {
       "description_width": "",
       "font_family": null,
       "font_size": null,
       "font_style": null,
       "font_variant": null,
       "font_weight": null,
       "text_color": null,
       "text_decoration": null
      }
     },
     "141b12ff715146c9bb4882a3429b4016": {
      "model_module": "jupyter-leaflet",
      "model_module_version": "2.0.0",
      "model_name": "LeafletMapModel",
      "state": {
       "_view_name": "ErrorWidgetView",
       "bottom": 195,
       "center": [
        39.40025000000001,
        -112.63338000000002
       ],
       "controls": [
        "IPY_MODEL_91692f8116154a438a4da0bdb9e219eb",
        "IPY_MODEL_12e8767690bd4060899800739e33b6f5",
        "IPY_MODEL_0379e3e10449438eb1e7775790b89bc6",
        "IPY_MODEL_d9579c382c1443a09c20066a7837c940",
        "IPY_MODEL_f123cb61fe6f48b7aee9d89d9f1d130e",
        "IPY_MODEL_823a4ecf4b65427b8020f931b6d0350b",
        "IPY_MODEL_baed409f96894f53808184b65017141d",
        "IPY_MODEL_38c24e28f5c64569953b6caccbac58b9"
       ],
       "default_style": "IPY_MODEL_1477b845f33a4301be423b7c0eece21f",
       "dragging_style": "IPY_MODEL_8e95f1ae38ed4bfc8052aefb06e99079",
       "east": -112.50000000000001,
       "error": {},
       "fullscreen": false,
       "interpolation": "bilinear",
       "layers": [
        "IPY_MODEL_db6a023b274448159801a9d1d73c8f81",
        "IPY_MODEL_84dc0884a1a34c5590d4a141b5efd723",
        "IPY_MODEL_02f84e06645d414e8755b19f202e949b"
       ],
       "layout": "IPY_MODEL_beae168a80e8430f9bffcf3c9c4bc961",
       "left": 96,
       "max_zoom": 24,
       "modisdate": "2024-03-12",
       "msg": "Failed to load model class 'LeafletMapModel' from module 'jupyter-leaflet'",
       "north": 39.36827914916014,
       "options": [
        "bounce_at_zoom_limits",
        "box_zoom",
        "center",
        "close_popup_on_click",
        "double_click_zoom",
        "dragging",
        "fullscreen",
        "inertia",
        "inertia_deceleration",
        "inertia_max_speed",
        "interpolation",
        "keyboard",
        "keyboard_pan_offset",
        "keyboard_zoom_offset",
        "max_zoom",
        "min_zoom",
        "prefer_canvas",
        "scroll_wheel_zoom",
        "tap",
        "tap_tolerance",
        "touch_zoom",
        "world_copy_jump",
        "zoom",
        "zoom_animation_threshold",
        "zoom_delta",
        "zoom_snap"
       ],
       "prefer_canvas": false,
       "right": 96,
       "scroll_wheel_zoom": true,
       "south": 39.36827914916014,
       "style": "IPY_MODEL_1477b845f33a4301be423b7c0eece21f",
       "top": 195,
       "west": -112.50000000000001,
       "window_url": "https://jupyterhub.cuahsi.org/user/torresrua/lab/tree/courses/Machine-Learning-Applications-in-Remote-Sensing-Data/Step_5.ipynb",
       "zoom": 1
      }
     },
     "1477b845f33a4301be423b7c0eece21f": {
      "model_module": "jupyter-leaflet",
      "model_module_version": "2.0.0",
      "model_name": "LeafletMapStyleModel",
      "state": {
       "_view_name": "ErrorWidgetView",
       "error": {},
       "msg": "Failed to load model class 'LeafletMapStyleModel' from module 'jupyter-leaflet'"
      }
     },
     "14c5ed47534a4005abffcfe6b21de0bd": {
      "model_module": "@jupyter-widgets/base",
      "model_module_version": "2.0.0",
      "model_name": "LayoutModel",
      "state": {}
     },
     "14cbfad71e7c48c5b750e3c3b7e20491": {
      "model_module": "@jupyter-widgets/controls",
      "model_module_version": "2.0.0",
      "model_name": "ToggleButtonModel",
      "state": {
       "button_style": "primary",
       "icon": "adjust",
       "layout": "IPY_MODEL_3c28ea251dd643c490fe67d4411e5beb",
       "style": "IPY_MODEL_e322270e230a4937b2c6ac1478349adf",
       "tooltip": "Planet imagery"
      }
     },
     "1546e27c87df44368b8d50237ac46e94": {
      "model_module": "jupyter-leaflet",
      "model_module_version": "^0.18",
      "model_name": "LeafletZoomControlModel",
      "state": {
       "_model_module_version": "^0.18",
       "_view_module_version": "^0.18",
       "options": [
        "position",
        "zoom_in_text",
        "zoom_in_title",
        "zoom_out_text",
        "zoom_out_title"
       ]
      }
     },
     "1548f5edf8b7462c805444389adc046f": {
      "model_module": "@jupyter-widgets/controls",
      "model_module_version": "2.0.0",
      "model_name": "ToggleButtonModel",
      "state": {
       "button_style": "primary",
       "icon": "random",
       "layout": "IPY_MODEL_674278625875444194adf1519f2a07d6",
       "style": "IPY_MODEL_f6c41851c83941649f8b9b6a02e008a9",
       "tooltip": "Sankey plots"
      }
     },
     "158eb5adc703463e8f5ce77764c4fbba": {
      "model_module": "@jupyter-widgets/controls",
      "model_module_version": "2.0.0",
      "model_name": "ToggleButtonStyleModel",
      "state": {
       "description_width": "",
       "font_family": null,
       "font_size": null,
       "font_style": null,
       "font_variant": null,
       "font_weight": null,
       "text_color": null,
       "text_decoration": null
      }
     },
     "15da5b0ff95b40fe93b5c9fcc323a16c": {
      "model_module": "@jupyter-widgets/base",
      "model_module_version": "2.0.0",
      "model_name": "LayoutModel",
      "state": {
       "max_width": "57px",
       "min_width": "57px"
      }
     },
     "1717343d58e54bffa5bb0add313025e9": {
      "model_module": "@jupyter-widgets/base",
      "model_module_version": "2.0.0",
      "model_name": "LayoutModel",
      "state": {}
     },
     "17b55dea7d79455e87e6e98cf9c9508b": {
      "model_module": "@jupyter-widgets/base",
      "model_module_version": "2.0.0",
      "model_name": "LayoutModel",
      "state": {
       "height": "auto",
       "padding": "0px 0px 0px 4px",
       "width": "auto"
      }
     },
     "193ffd74bed846af9e841d86f0080ffa": {
      "model_module": "@jupyter-widgets/controls",
      "model_module_version": "2.0.0",
      "model_name": "ToggleButtonStyleModel",
      "state": {
       "description_width": "",
       "font_family": null,
       "font_size": null,
       "font_style": null,
       "font_variant": null,
       "font_weight": null,
       "text_color": null,
       "text_decoration": null
      }
     },
     "194101032f2b4c839ba36f736c372dc6": {
      "model_module": "jupyter-leaflet",
      "model_module_version": "2.0.0",
      "model_name": "LeafletScaleControlModel",
      "state": {
       "_view_name": "ErrorWidgetView",
       "error": {},
       "imperial": true,
       "max_width": 100,
       "metric": true,
       "msg": "Failed to load model class 'LeafletScaleControlModel' from module 'jupyter-leaflet'",
       "options": [
        "imperial",
        "max_width",
        "metric",
        "position",
        "update_when_idle"
       ],
       "position": "bottomleft",
       "update_when_idle": false
      }
     },
     "19d586abbef94f9e92214343c435697a": {
      "model_module": "@jupyter-widgets/base",
      "model_module_version": "2.0.0",
      "model_name": "LayoutModel",
      "state": {
       "height": "auto",
       "padding": "0px 0px 0px 4px",
       "width": "auto"
      }
     },
     "19e742efc3c7469b92036f88694a83ed": {
      "model_module": "@jupyter-widgets/controls",
      "model_module_version": "2.0.0",
      "model_name": "TextStyleModel",
      "state": {
       "description_width": "",
       "font_size": null,
       "text_color": null
      }
     },
     "1a219f2955334e6ca65e3b7a3dd06dbd": {
      "model_module": "@jupyter-widgets/controls",
      "model_module_version": "2.0.0",
      "model_name": "ToggleButtonModel",
      "state": {
       "button_style": "primary",
       "icon": "line-chart",
       "layout": "IPY_MODEL_ded59262a51c420d9ef24439e47390fb",
       "style": "IPY_MODEL_2a5892a7ea6e43fab36418d33f2afb55",
       "tooltip": "Creating and plotting transects"
      }
     },
     "1a319af1b22940fdabdd2e2b719666c2": {
      "model_module": "@jupyter-widgets/controls",
      "model_module_version": "2.0.0",
      "model_name": "TextModel",
      "state": {
       "layout": "IPY_MODEL_b33e112263f9466283b959ea8af3fb39",
       "placeholder": "Search by place name or address",
       "style": "IPY_MODEL_21771823a6f344c5ba88409c23934c23",
       "tooltip": "Search location"
      }
     },
     "1acc4b69989d423f8cccd231a06895ba": {
      "model_module": "@jupyter-widgets/controls",
      "model_module_version": "2.0.0",
      "model_name": "ToggleButtonStyleModel",
      "state": {
       "description_width": "",
       "font_family": null,
       "font_size": null,
       "font_style": null,
       "font_variant": null,
       "font_weight": null,
       "text_color": null,
       "text_decoration": null
      }
     },
     "1b733580d4054dc98d5ea2936d706f47": {
      "model_module": "jupyter-leaflet",
      "model_module_version": "2.0.0",
      "model_name": "LeafletMeasureControlModel",
      "state": {
       "_view_name": "ErrorWidgetView",
       "active_color": "orange",
       "error": {},
       "msg": "Failed to load model class 'LeafletMeasureControlModel' from module 'jupyter-leaflet'",
       "options": [
        "active_color",
        "capture_z_index",
        "completed_color",
        "popup_options",
        "position",
        "primary_area_unit",
        "primary_length_unit",
        "secondary_area_unit",
        "secondary_length_unit"
       ],
       "position": "bottomleft",
       "primary_length_unit": "kilometers",
       "secondary_area_unit": null,
       "secondary_length_unit": null
      }
     },
     "1b7a2b3a48164e75a66f67a2ed0977f3": {
      "model_module": "@jupyter-widgets/base",
      "model_module_version": "2.0.0",
      "model_name": "LayoutModel",
      "state": {}
     },
     "1cb5fae502ea45e188c3a6f5afdfbd25": {
      "model_module": "@jupyter-widgets/controls",
      "model_module_version": "2.0.0",
      "model_name": "ToggleButtonModel",
      "state": {
       "button_style": "primary",
       "icon": "map",
       "layout": "IPY_MODEL_a0ee5a020c324a8e83958fddaea4280d",
       "style": "IPY_MODEL_9a890ddb9787416faba790eae8b70b7b",
       "tooltip": "Change basemap"
      }
     },
     "1cbf28c9863b4664b14be21fa3a0f462": {
      "model_module": "jupyter-leaflet",
      "model_module_version": "2.0.0",
      "model_name": "LeafletMapStyleModel",
      "state": {
       "_view_name": "ErrorWidgetView",
       "cursor": "move",
       "error": {},
       "msg": "Failed to load model class 'LeafletMapStyleModel' from module 'jupyter-leaflet'"
      }
     },
     "1d5f169aa2054bf08f5ad752927346c0": {
      "model_module": "@jupyter-widgets/controls",
      "model_module_version": "2.0.0",
      "model_name": "ToggleButtonModel",
      "state": {
       "button_style": "primary",
       "icon": "globe",
       "layout": "IPY_MODEL_9409ef001dbe4e7da4054b1028135840",
       "style": "IPY_MODEL_7e57bc834b94455a82bc38e23679916a",
       "tooltip": "Create timelapse"
      }
     },
     "1d6f9a880e9d4089a0e0d73321a1411a": {
      "model_module": "jupyter-leaflet",
      "model_module_version": "2.0.0",
      "model_name": "LeafletAttributionControlModel",
      "state": {
       "_view_name": "ErrorWidgetView",
       "error": {},
       "msg": "Failed to load model class 'LeafletAttributionControlModel' from module 'jupyter-leaflet'",
       "options": [
        "position",
        "prefix"
       ],
       "position": "bottomright",
       "prefix": "ipyleaflet"
      }
     },
     "1e7afd7e2e5a49fa9623254af7000c51": {
      "model_module": "@jupyter-widgets/controls",
      "model_module_version": "2.0.0",
      "model_name": "HTMLModel",
      "state": {
       "layout": "IPY_MODEL_34cebfc64b0a47e9900395e91a15c689",
       "style": "IPY_MODEL_7d8d8139b3b44cedb2c60671f917f8be"
      }
     },
     "1e7ca5b3dfc646f9940889028082e65b": {
      "model_module": "jupyter-leaflet",
      "model_module_version": "2.0.0",
      "model_name": "LeafletMapModel",
      "state": {
       "_view_name": "ErrorWidgetView",
       "bottom": 690,
       "center": [
        39.36827914916014,
        -112.50000000000001
       ],
       "controls": [
        "IPY_MODEL_ff0eeb1fb48b4c46bb8626db015c26ac",
        "IPY_MODEL_ca3874f494dc4871a5eb2285abd9df8e",
        "IPY_MODEL_2d602cab4e8e4313952893546edc808e",
        "IPY_MODEL_d1663559f32141989507e2e6cb709eac",
        "IPY_MODEL_977db76f05c4462f8ec05973c75b72db",
        "IPY_MODEL_1b733580d4054dc98d5ea2936d706f47",
        "IPY_MODEL_9e42af360bb241e48b6d1dc642a3f31b",
        "IPY_MODEL_05c5da034ec340b8a4da08139541e000"
       ],
       "default_style": "IPY_MODEL_e18a046cf4f2492ca7f233185c0d44d8",
       "dragging_style": "IPY_MODEL_87a6b73b69b7461bad239ab8a6ef74b8",
       "east": 59.41406250000001,
       "error": {},
       "fullscreen": false,
       "interpolation": "bilinear",
       "layers": [
        "IPY_MODEL_5fb1da0d07cf4ea38c3b26700fbe3aa7",
        "IPY_MODEL_6a7d20f8bfdf44c2885b14199c321bf4",
        "IPY_MODEL_6d4736b0ef3b4c03b7d7f1c184556190"
       ],
       "layout": "IPY_MODEL_c5106972428f43ca97a1ad5595de4dd1",
       "left": -297,
       "max_zoom": 24,
       "modisdate": "2024-03-12",
       "msg": "Failed to load model class 'LeafletMapModel' from module 'jupyter-leaflet'",
       "north": 81.4139332828511,
       "options": [
        "bounce_at_zoom_limits",
        "box_zoom",
        "center",
        "close_popup_on_click",
        "double_click_zoom",
        "dragging",
        "fullscreen",
        "inertia",
        "inertia_deceleration",
        "inertia_max_speed",
        "interpolation",
        "keyboard",
        "keyboard_pan_offset",
        "keyboard_zoom_offset",
        "max_zoom",
        "min_zoom",
        "prefer_canvas",
        "scroll_wheel_zoom",
        "tap",
        "tap_tolerance",
        "touch_zoom",
        "world_copy_jump",
        "zoom",
        "zoom_animation_threshold",
        "zoom_delta",
        "zoom_snap"
       ],
       "prefer_canvas": false,
       "right": 681,
       "scroll_wheel_zoom": true,
       "south": -52.908902047770255,
       "style": "IPY_MODEL_e18a046cf4f2492ca7f233185c0d44d8",
       "top": 90,
       "west": -284.41406250000006,
       "window_url": "https://jupyterhub.cuahsi.org/user/torresrua/lab/tree/courses/Machine-Learning-Applications-in-Remote-Sensing-Data/Step_5.ipynb",
       "zoom": 4
      }
     },
     "1f3430d078194d80a83c1b73509cf50d": {
      "model_module": "jupyter-leaflet",
      "model_module_version": "^0.18",
      "model_name": "LeafletMapStyleModel",
      "state": {
       "_model_module_version": "^0.18"
      }
     },
     "20dacf18891c42fcadc10c1f6c4a080e": {
      "model_module": "@jupyter-widgets/controls",
      "model_module_version": "2.0.0",
      "model_name": "HBoxModel",
      "state": {
       "children": [
        "IPY_MODEL_fb2ad6d635ba4ecd9f6d09578167155e",
        "IPY_MODEL_21ad9322b9aa40f4b363f06397e5de17"
       ],
       "layout": "IPY_MODEL_57ca8564d6ae4ff9a69d05708313e898"
      }
     },
     "21002c9ef3f84a0ca3805f8f2e9e6382": {
      "model_module": "jupyter-leaflet",
      "model_module_version": "2.0.0",
      "model_name": "LeafletTileLayerModel",
      "state": {
       "_view_name": "ErrorWidgetView",
       "attribution": "Google",
       "error": {},
       "max_zoom": 24,
       "msg": "Failed to load model class 'LeafletTileLayerModel' from module 'jupyter-leaflet'",
       "name": "Google Maps",
       "options": [
        "attribution",
        "bounds",
        "detect_retina",
        "max_native_zoom",
        "max_zoom",
        "min_native_zoom",
        "min_zoom",
        "no_wrap",
        "tile_size",
        "tms",
        "zoom_offset"
       ],
       "url": "https://mt1.google.com/vt/lyrs=m&x={x}&y={y}&z={z}"
      }
     },
     "212c22035ab24d928d34a4f315e10e3a": {
      "model_module": "@jupyter-widgets/controls",
      "model_module_version": "2.0.0",
      "model_name": "HBoxModel",
      "state": {
       "children": [
        "IPY_MODEL_d5ac9558f26b4468b044763e0d9480bc",
        "IPY_MODEL_27de4b44050e483e997b05313fe5c467"
       ],
       "layout": "IPY_MODEL_8103f7ebf3ea4f1eb671357af152e52f"
      }
     },
     "215cc2cd6442479aa91b084505ae7fbd": {
      "model_module": "@jupyter-widgets/base",
      "model_module_version": "2.0.0",
      "model_name": "LayoutModel",
      "state": {
       "height": "auto",
       "padding": "0px 0px 0px 4px",
       "width": "auto"
      }
     },
     "21771823a6f344c5ba88409c23934c23": {
      "model_module": "@jupyter-widgets/controls",
      "model_module_version": "2.0.0",
      "model_name": "TextStyleModel",
      "state": {
       "description_width": "",
       "font_size": null,
       "text_color": null
      }
     },
     "21ad9322b9aa40f4b363f06397e5de17": {
      "model_module": "@jupyter-widgets/controls",
      "model_module_version": "2.0.0",
      "model_name": "ToggleButtonModel",
      "state": {
       "icon": "wrench",
       "layout": "IPY_MODEL_cdf916223f314e02b02e6fcf3a35c46b",
       "style": "IPY_MODEL_8dee99825c614aa287a386e56d8daeeb",
       "tooltip": "Toolbar"
      }
     },
     "2270c83ba9bd4d9ca7cca548c3a853e7": {
      "model_module": "jupyter-leaflet",
      "model_module_version": "^0.18",
      "model_name": "LeafletScaleControlModel",
      "state": {
       "_model_module_version": "^0.18",
       "_view_module_version": "^0.18",
       "imperial": true,
       "max_width": 100,
       "metric": true,
       "options": [
        "imperial",
        "max_width",
        "metric",
        "position",
        "update_when_idle"
       ],
       "position": "bottomleft",
       "update_when_idle": false
      }
     },
     "2270f7677ab64b3580d600f6bb695df0": {
      "model_module": "@jupyter-widgets/base",
      "model_module_version": "2.0.0",
      "model_name": "LayoutModel",
      "state": {}
     },
     "22806969a42e4385b0e3cece243a86c6": {
      "model_module": "jupyter-leaflet",
      "model_module_version": "^0.18",
      "model_name": "LeafletMapStyleModel",
      "state": {
       "_model_module_version": "^0.18",
       "cursor": "move"
      }
     },
     "229792ecf5fc4060aeaf9385784eec68": {
      "model_module": "jupyter-leaflet",
      "model_module_version": "2.0.0",
      "model_name": "LeafletZoomControlModel",
      "state": {
       "_view_name": "ErrorWidgetView",
       "error": {},
       "msg": "Failed to load model class 'LeafletZoomControlModel' from module 'jupyter-leaflet'",
       "options": [
        "position",
        "zoom_in_text",
        "zoom_in_title",
        "zoom_out_text",
        "zoom_out_title"
       ]
      }
     },
     "22bcf317e1684a5093e99a9dd51805c9": {
      "model_module": "@jupyter-widgets/controls",
      "model_module_version": "2.0.0",
      "model_name": "ToggleButtonModel",
      "state": {
       "button_style": "primary",
       "icon": "bar-chart",
       "layout": "IPY_MODEL_2e23cfcb0fb94ec5a94668b3434eb150",
       "style": "IPY_MODEL_65797525607544059bf59f8ba0ef7387",
       "tooltip": "Plotting"
      }
     },
     "2324ec4639794b3eba57d10033fe2e4b": {
      "model_module": "@jupyter-widgets/controls",
      "model_module_version": "2.0.0",
      "model_name": "TextStyleModel",
      "state": {
       "description_width": "",
       "font_size": null,
       "text_color": null
      }
     },
     "234df28c98ae45cda6d76b5d0081efd0": {
      "model_module": "@jupyter-widgets/controls",
      "model_module_version": "2.0.0",
      "model_name": "ToggleButtonModel",
      "state": {
       "button_style": "primary",
       "icon": "info",
       "layout": "IPY_MODEL_2dfa678caf42495aa70049ce9fc3c9e5",
       "style": "IPY_MODEL_a6791517e9974e12a6688453e1b4f8dd",
       "tooltip": "Inspector"
      }
     },
     "234e7a57559d4f2e8953800875018aca": {
      "model_module": "@jupyter-widgets/controls",
      "model_module_version": "2.0.0",
      "model_name": "DescriptionStyleModel",
      "state": {
       "description_width": ""
      }
     },
     "237431b288834e26a7e88de4560e0b70": {
      "model_module": "@jupyter-widgets/controls",
      "model_module_version": "2.0.0",
      "model_name": "ToggleButtonModel",
      "state": {
       "button_style": "primary",
       "icon": "bar-chart",
       "layout": "IPY_MODEL_a0e66952dd3f4c1fbdaa13aa392982ca",
       "style": "IPY_MODEL_267d8cc1a80a40d189c4abda1a75de0f",
       "tooltip": "Plotting"
      }
     },
     "23d5a8117d8c42c98810166c7329aa32": {
      "model_module": "@jupyter-widgets/base",
      "model_module_version": "2.0.0",
      "model_name": "LayoutModel",
      "state": {
       "height": "auto",
       "padding": "0px 0px 0px 4px",
       "width": "auto"
      }
     },
     "2493efa084fb4d5ea59cf6e0c52d40f9": {
      "model_module": "ipyevents",
      "model_module_version": "2.0.2",
      "model_name": "EventModel",
      "state": {
       "_supported_key_events": [
        "keydown",
        "keyup"
       ],
       "_supported_mouse_events": [
        "click",
        "auxclick",
        "dblclick",
        "mouseenter",
        "mouseleave",
        "mousedown",
        "mouseup",
        "mousemove",
        "wheel",
        "contextmenu",
        "dragstart",
        "drag",
        "dragend",
        "dragenter",
        "dragover",
        "dragleave",
        "drop"
       ],
       "_supported_touch_events": [
        "touchstart",
        "touchend",
        "touchmove",
        "touchcancel"
       ],
       "_view_module": "@jupyter-widgets/controls",
       "source": "IPY_MODEL_bfb236d11b7e4aee9ef9a6f73f312b29",
       "throttle_or_debounce": "",
       "watched_events": [
        "mouseenter",
        "mouseleave"
       ],
       "xy_coordinate_system": ""
      }
     },
     "24aa6b2e10d546a692b2974b35dc3d25": {
      "model_module": "@jupyter-widgets/controls",
      "model_module_version": "2.0.0",
      "model_name": "GridBoxModel",
      "state": {
       "children": [
        "IPY_MODEL_725694c293d345c8943ad6f7c75ce4f6",
        "IPY_MODEL_b5ee079b50884fe592ec01a8c5047a01",
        "IPY_MODEL_d3179ecc000b401ea8bb234301f613b6",
        "IPY_MODEL_1cb5fae502ea45e188c3a6f5afdfbd25",
        "IPY_MODEL_7e2e44e491b64c86b835ac089a2ea582",
        "IPY_MODEL_3fad666529a34cc1aa19549890a51f61"
       ],
       "layout": "IPY_MODEL_ad4020bbdf134931bcd44c1965ba9892"
      }
     },
     "2520eb06298a43c586d419be6df81e70": {
      "model_module": "@jupyter-widgets/controls",
      "model_module_version": "2.0.0",
      "model_name": "ToggleButtonStyleModel",
      "state": {
       "description_width": "",
       "font_family": null,
       "font_size": null,
       "font_style": null,
       "font_variant": null,
       "font_weight": null,
       "text_color": null,
       "text_decoration": null
      }
     },
     "25d60114a2044bdbac12cb422767f781": {
      "model_module": "@jupyter-widgets/base",
      "model_module_version": "2.0.0",
      "model_name": "LayoutModel",
      "state": {}
     },
     "26104baa729c4f01b557c2071e53ddc5": {
      "model_module": "@jupyter-widgets/controls",
      "model_module_version": "2.0.0",
      "model_name": "ToggleButtonStyleModel",
      "state": {
       "description_width": "",
       "font_family": null,
       "font_size": null,
       "font_style": null,
       "font_variant": null,
       "font_weight": null,
       "text_color": null,
       "text_decoration": null
      }
     },
     "264e9e8bf03a45ef93cbe9b3d2366d4c": {
      "model_module": "@jupyter-widgets/controls",
      "model_module_version": "2.0.0",
      "model_name": "DescriptionStyleModel",
      "state": {
       "description_width": ""
      }
     },
     "266ce5794b6b4b1f8870f0c736088ed8": {
      "model_module": "@jupyter-widgets/controls",
      "model_module_version": "2.0.0",
      "model_name": "ToggleButtonModel",
      "state": {
       "button_style": "primary",
       "icon": "plus",
       "layout": "IPY_MODEL_48173e7331484630b8afc21146082dc5",
       "style": "IPY_MODEL_7064e49da42345c38c43b1934fb6a998",
       "tooltip": "Expand toolbar"
      }
     },
     "267d8cc1a80a40d189c4abda1a75de0f": {
      "model_module": "@jupyter-widgets/controls",
      "model_module_version": "2.0.0",
      "model_name": "ToggleButtonStyleModel",
      "state": {
       "description_width": "",
       "font_family": null,
       "font_size": null,
       "font_style": null,
       "font_variant": null,
       "font_weight": null,
       "text_color": null,
       "text_decoration": null
      }
     },
     "26bfcc29d75c4d93bb33606319a2c516": {
      "model_module": "jupyter-leaflet",
      "model_module_version": "^0.18",
      "model_name": "LeafletAttributionControlModel",
      "state": {
       "_model_module_version": "^0.18",
       "_view_module_version": "^0.18",
       "options": [
        "position",
        "prefix"
       ],
       "position": "bottomright",
       "prefix": "ipyleaflet"
      }
     },
     "27196db8f69c4a2cbcc96225a787e9a8": {
      "model_module": "jupyter-leaflet",
      "model_module_version": "^0.18",
      "model_name": "LeafletTileLayerModel",
      "state": {
       "_model_module_version": "^0.18",
       "_view_module_version": "^0.18",
       "attribution": "&copy; <a href=\"https://www.openstreetmap.org/copyright\">OpenStreetMap</a> contributors",
       "base": true,
       "max_zoom": 19,
       "min_zoom": 1,
       "name": "OpenStreetMap.Mapnik",
       "options": [
        "attribution",
        "bounds",
        "detect_retina",
        "max_native_zoom",
        "max_zoom",
        "min_native_zoom",
        "min_zoom",
        "no_wrap",
        "tile_size",
        "tms",
        "zoom_offset"
       ],
       "url": "https://tile.openstreetmap.org/{z}/{x}/{y}.png"
      }
     },
     "274e576b43ff45c29dbbe2337dfdef8a": {
      "model_module": "@jupyter-widgets/controls",
      "model_module_version": "2.0.0",
      "model_name": "ToggleButtonStyleModel",
      "state": {
       "description_width": "",
       "font_family": null,
       "font_size": null,
       "font_style": null,
       "font_variant": null,
       "font_weight": null,
       "text_color": null,
       "text_decoration": null
      }
     },
     "2797c180a5dc4d9c896c4a4c908b15c0": {
      "model_module": "@jupyter-widgets/base",
      "model_module_version": "2.0.0",
      "model_name": "LayoutModel",
      "state": {}
     },
     "27af6ebca2b54b26b9f2730ef18f6623": {
      "model_module": "@jupyter-widgets/controls",
      "model_module_version": "2.0.0",
      "model_name": "ToggleButtonModel",
      "state": {
       "icon": "globe",
       "layout": "IPY_MODEL_8a92d2774cf54e5c866f9ef00b9791eb",
       "style": "IPY_MODEL_5cafdb9d72c04fffa7953529226996ab",
       "tooltip": "Search location/data"
      }
     },
     "27de4b44050e483e997b05313fe5c467": {
      "model_module": "@jupyter-widgets/controls",
      "model_module_version": "2.0.0",
      "model_name": "DropdownModel",
      "state": {
       "index": null,
       "layout": "IPY_MODEL_859950779d044fd490d9d7ccac6e3ee4",
       "style": "IPY_MODEL_abe5e2eab2f942f3a455044b5dfebb5b"
      }
     },
     "285b1051db4e445d8cc62ee8b69b62fd": {
      "model_module": "jupyter-leaflet",
      "model_module_version": "^0.18",
      "model_name": "LeafletAttributionControlModel",
      "state": {
       "_model_module_version": "^0.18",
       "_view_module_version": "^0.18",
       "options": [
        "position",
        "prefix"
       ],
       "position": "bottomright",
       "prefix": "ipyleaflet"
      }
     },
     "290addb4e4e249b69e33744793c42412": {
      "model_module": "@jupyter-widgets/base",
      "model_module_version": "2.0.0",
      "model_name": "LayoutModel",
      "state": {
       "height": "auto",
       "padding": "0px 0px 0px 4px",
       "width": "auto"
      }
     },
     "29a7ced7068f4708ae301310fd2fe492": {
      "model_module": "@jupyter-widgets/controls",
      "model_module_version": "2.0.0",
      "model_name": "ToggleButtonStyleModel",
      "state": {
       "description_width": "",
       "font_family": null,
       "font_size": null,
       "font_style": null,
       "font_variant": null,
       "font_weight": null,
       "text_color": null,
       "text_decoration": null
      }
     },
     "29af81f7d6ec4c258f7b84dd24d76b93": {
      "model_module": "@jupyter-widgets/controls",
      "model_module_version": "2.0.0",
      "model_name": "ToggleButtonStyleModel",
      "state": {
       "description_width": "",
       "font_family": null,
       "font_size": null,
       "font_style": null,
       "font_variant": null,
       "font_weight": null,
       "text_color": null,
       "text_decoration": null
      }
     },
     "29c9205910a0489bbe3407142f0316d9": {
      "model_module": "@jupyter-widgets/controls",
      "model_module_version": "2.0.0",
      "model_name": "HTMLModel",
      "state": {
       "layout": "IPY_MODEL_c6da378be2a24271a3bf263d2fa0d759",
       "style": "IPY_MODEL_c53ea35e2f954efa9f4e3fbcb557bcb5"
      }
     },
     "2a1c954a386046f1b9495a06e71cfa4c": {
      "model_module": "@jupyter-widgets/base",
      "model_module_version": "2.0.0",
      "model_name": "LayoutModel",
      "state": {
       "height": "28px",
       "width": "72px"
      }
     },
     "2a5892a7ea6e43fab36418d33f2afb55": {
      "model_module": "@jupyter-widgets/controls",
      "model_module_version": "2.0.0",
      "model_name": "ToggleButtonStyleModel",
      "state": {
       "description_width": "",
       "font_family": null,
       "font_size": null,
       "font_style": null,
       "font_variant": null,
       "font_weight": null,
       "text_color": null,
       "text_decoration": null
      }
     },
     "2adbbfd9a24849448d43c034662df999": {
      "model_module": "@jupyter-widgets/controls",
      "model_module_version": "2.0.0",
      "model_name": "ToggleButtonModel",
      "state": {
       "button_style": "primary",
       "icon": "question",
       "layout": "IPY_MODEL_5995c4fd9c62467e915dfd41550db872",
       "style": "IPY_MODEL_2520eb06298a43c586d419be6df81e70",
       "tooltip": "Get help"
      }
     },
     "2bffceca701b438aac3f8481dea89ab1": {
      "model_module": "@jupyter-widgets/controls",
      "model_module_version": "2.0.0",
      "model_name": "RadioButtonsModel",
      "state": {
       "index": null,
       "layout": "IPY_MODEL_2797c180a5dc4d9c896c4a4c908b15c0",
       "style": "IPY_MODEL_b7f3829dfed24aff95b29d8310c638e1"
      }
     },
     "2c7458bf921a4fa98b9601fe9a3b53ce": {
      "model_module": "jupyter-leaflet",
      "model_module_version": "^0.18",
      "model_name": "LeafletWidgetControlModel",
      "state": {
       "_model_module": "jupyter-leaflet",
       "_model_module_version": "^0.18",
       "_view_count": null,
       "_view_module": "jupyter-leaflet",
       "_view_module_version": "^0.18",
       "options": [
        "position",
        "transparent_bg"
       ],
       "position": "topleft",
       "widget": "IPY_MODEL_bc41e7afe8d741b19c02dd34642238d1"
      }
     },
     "2d602cab4e8e4313952893546edc808e": {
      "model_module": "jupyter-leaflet",
      "model_module_version": "2.0.0",
      "model_name": "LeafletFullScreenControlModel",
      "state": {
       "_view_name": "ErrorWidgetView",
       "error": {},
       "msg": "Failed to load model class 'LeafletFullScreenControlModel' from module 'jupyter-leaflet'",
       "options": [
        "position"
       ]
      }
     },
     "2dfa678caf42495aa70049ce9fc3c9e5": {
      "model_module": "@jupyter-widgets/base",
      "model_module_version": "2.0.0",
      "model_name": "LayoutModel",
      "state": {
       "height": "auto",
       "padding": "0px 0px 0px 4px",
       "width": "auto"
      }
     },
     "2e23cfcb0fb94ec5a94668b3434eb150": {
      "model_module": "@jupyter-widgets/base",
      "model_module_version": "2.0.0",
      "model_name": "LayoutModel",
      "state": {
       "height": "auto",
       "padding": "0px 0px 0px 4px",
       "width": "auto"
      }
     },
     "2eb9640430284b02819ac9ca67c68ba2": {
      "model_module": "@jupyter-widgets/controls",
      "model_module_version": "2.0.0",
      "model_name": "ToggleButtonStyleModel",
      "state": {
       "description_width": "",
       "font_family": null,
       "font_size": null,
       "font_style": null,
       "font_variant": null,
       "font_weight": null,
       "text_color": null,
       "text_decoration": null
      }
     },
     "311632c7fc2e4b5cb9923afb34969afe": {
      "model_module": "@jupyter-widgets/base",
      "model_module_version": "2.0.0",
      "model_name": "LayoutModel",
      "state": {
       "height": "auto",
       "padding": "0px 0px 0px 4px",
       "width": "auto"
      }
     },
     "317ff6ffcae14d5ca10d76d1ff84eaca": {
      "model_module": "@jupyter-widgets/base",
      "model_module_version": "2.0.0",
      "model_name": "LayoutModel",
      "state": {
       "height": "auto",
       "padding": "0px 0px 0px 4px",
       "width": "auto"
      }
     },
     "32014853b9274eb8bad4371669330e3c": {
      "model_module": "jupyter-leaflet",
      "model_module_version": "2.0.0",
      "model_name": "LeafletZoomControlModel",
      "state": {
       "_view_name": "ErrorWidgetView",
       "error": {},
       "msg": "Failed to load model class 'LeafletZoomControlModel' from module 'jupyter-leaflet'",
       "options": [
        "position",
        "zoom_in_text",
        "zoom_in_title",
        "zoom_out_text",
        "zoom_out_title"
       ]
      }
     },
     "32bac1f3e2124b2d9233ced9335a914d": {
      "model_module": "@jupyter-widgets/controls",
      "model_module_version": "2.0.0",
      "model_name": "DropdownModel",
      "state": {
       "index": null,
       "layout": "IPY_MODEL_f9d39668c8e34d13a09d1f15dc181769",
       "style": "IPY_MODEL_abbbdf7f1d52434aa1c4fbf03be9afa0"
      }
     },
     "32d552220a7b42b281bbf5d426e3736e": {
      "model_module": "@jupyter-widgets/base",
      "model_module_version": "2.0.0",
      "model_name": "LayoutModel",
      "state": {
       "grid_gap": "1px 1px",
       "grid_template_columns": "32px 32px 32px ",
       "grid_template_rows": "32px 32px ",
       "padding": "5px",
       "width": "109px"
      }
     },
     "330b7d7c80d545fda5b93949608371a4": {
      "model_module": "@jupyter-widgets/base",
      "model_module_version": "2.0.0",
      "model_name": "LayoutModel",
      "state": {
       "max_width": "57px",
       "min_width": "57px"
      }
     },
     "3451d496638847a29a54b32d3f74d149": {
      "model_module": "@jupyter-widgets/base",
      "model_module_version": "2.0.0",
      "model_name": "LayoutModel",
      "state": {}
     },
     "347fab8e55574c60b964627b05b0b663": {
      "model_module": "@jupyter-widgets/base",
      "model_module_version": "2.0.0",
      "model_name": "LayoutModel",
      "state": {
       "height": "auto",
       "padding": "0px 0px 0px 4px",
       "width": "auto"
      }
     },
     "34cebfc64b0a47e9900395e91a15c689": {
      "model_module": "@jupyter-widgets/base",
      "model_module_version": "2.0.0",
      "model_name": "LayoutModel",
      "state": {}
     },
     "34d14e9991b34e34991c7e9aa588036d": {
      "model_module": "@jupyter-widgets/controls",
      "model_module_version": "2.0.0",
      "model_name": "HTMLModel",
      "state": {
       "layout": "IPY_MODEL_ba30ba9d09414679900c9bf4d3d76683",
       "style": "IPY_MODEL_da674c7533e449c29cae6de7ad4f6df7"
      }
     },
     "3594ded4b9574e7993ffb6aed76e22e8": {
      "model_module": "jupyter-leaflet",
      "model_module_version": "2.0.0",
      "model_name": "LeafletTileLayerModel",
      "state": {
       "_view_name": "ErrorWidgetView",
       "attribution": "&copy; <a href=\"https://www.openstreetmap.org/copyright\">OpenStreetMap</a> contributors",
       "base": true,
       "error": {},
       "max_zoom": 19,
       "min_zoom": 1,
       "msg": "Failed to load model class 'LeafletTileLayerModel' from module 'jupyter-leaflet'",
       "name": "OpenStreetMap.Mapnik",
       "options": [
        "attribution",
        "bounds",
        "detect_retina",
        "max_native_zoom",
        "max_zoom",
        "min_native_zoom",
        "min_zoom",
        "no_wrap",
        "tile_size",
        "tms",
        "zoom_offset"
       ],
       "url": "https://tile.openstreetmap.org/{z}/{x}/{y}.png"
      }
     },
     "35974bf0eaaa4445a3698f238a2463b1": {
      "model_module": "jupyter-leaflet",
      "model_module_version": "^0.18",
      "model_name": "LeafletMapModel",
      "state": {
       "_model_module_version": "^0.18",
       "_view_module_version": "^0.18",
       "bottom": 399526,
       "center": [
        39.4037160204789,
        -112.63575111241983
       ],
       "controls": [
        "IPY_MODEL_8df8c0a9002245e681ab0187742a1cd3",
        "IPY_MODEL_f665f30e12044bd3af74cf3bf3024d89",
        "IPY_MODEL_41a954dc7fac430189c7b2c0503f3f1b",
        "IPY_MODEL_73beb891d6ad4679a36e9578de20c9f7",
        "IPY_MODEL_b1c7be85b6564cc9a1f8b38524bd7363",
        "IPY_MODEL_a7e43df6dd994ce18be99cd29ba4cdb2",
        "IPY_MODEL_e590e7af6eec48a9aff31d6fb6319f3e",
        "IPY_MODEL_26bfcc29d75c4d93bb33606319a2c516"
       ],
       "default_style": "IPY_MODEL_4b6cab890a754d678cb8ac44c4680c8b",
       "dragging_style": "IPY_MODEL_570b97a37d434a3db703e872d2c8efb6",
       "east": -112.4828338623047,
       "fullscreen": false,
       "interpolation": "bilinear",
       "layers": [
        "IPY_MODEL_73d15afd625248da83219aa289a5290f",
        "IPY_MODEL_b3c9a50a21074e8d9bae6bd035a88dd5"
       ],
       "layout": "IPY_MODEL_8293b6ab7cee46c7b13203c4b682874d",
       "left": 195768,
       "max_zoom": 24,
       "modisdate": "2024-03-29",
       "north": 39.48337536581216,
       "options": [
        "bounce_at_zoom_limits",
        "box_zoom",
        "center",
        "close_popup_on_click",
        "double_click_zoom",
        "dragging",
        "fullscreen",
        "inertia",
        "inertia_deceleration",
        "inertia_max_speed",
        "interpolation",
        "keyboard",
        "keyboard_pan_offset",
        "keyboard_zoom_offset",
        "max_zoom",
        "min_zoom",
        "prefer_canvas",
        "scroll_wheel_zoom",
        "tap",
        "tap_tolerance",
        "touch_zoom",
        "world_copy_jump",
        "zoom",
        "zoom_animation_threshold",
        "zoom_delta",
        "zoom_snap"
       ],
       "prefer_canvas": false,
       "right": 196658,
       "scroll_wheel_zoom": true,
       "south": 39.3242059256878,
       "style": "IPY_MODEL_4a13991831dd46cda97fba7a0a06fa6b",
       "top": 398926,
       "west": -112.78839111328126,
       "window_url": "https://jupyterhub.cuahsi.org/user/torresrua/lab/tree/courses/Machine-Learning-Applications-in-Remote-Sensing-Data/Step_5.ipynb"
      }
     },
     "35cffaeb181144ab8f086c348bcb7632": {
      "model_module": "jupyter-leaflet",
      "model_module_version": "2.0.0",
      "model_name": "LeafletAttributionControlModel",
      "state": {
       "_view_name": "ErrorWidgetView",
       "error": {},
       "msg": "Failed to load model class 'LeafletAttributionControlModel' from module 'jupyter-leaflet'",
       "options": [
        "position",
        "prefix"
       ],
       "position": "bottomright",
       "prefix": "ipyleaflet"
      }
     },
     "361a835170934982bb8420f7cc8f334b": {
      "model_module": "@jupyter-widgets/output",
      "model_module_version": "1.0.0",
      "model_name": "OutputModel",
      "state": {
       "layout": "IPY_MODEL_7525e272e40c4a118f7d92c44ed3ebe8"
      }
     },
     "37d2f90b74ba4598b132ef9165f42473": {
      "model_module": "jupyter-leaflet",
      "model_module_version": "2.0.0",
      "model_name": "LeafletScaleControlModel",
      "state": {
       "_view_name": "ErrorWidgetView",
       "error": {},
       "imperial": true,
       "max_width": 100,
       "metric": true,
       "msg": "Failed to load model class 'LeafletScaleControlModel' from module 'jupyter-leaflet'",
       "options": [
        "imperial",
        "max_width",
        "metric",
        "position",
        "update_when_idle"
       ],
       "position": "bottomleft",
       "update_when_idle": false
      }
     },
     "3850fed329074459bc751bb3c067d55a": {
      "model_module": "@jupyter-widgets/controls",
      "model_module_version": "2.0.0",
      "model_name": "ToggleButtonStyleModel",
      "state": {
       "description_width": "",
       "font_family": null,
       "font_size": null,
       "font_style": null,
       "font_variant": null,
       "font_weight": null,
       "text_color": null,
       "text_decoration": null
      }
     },
     "38c24e28f5c64569953b6caccbac58b9": {
      "model_module": "jupyter-leaflet",
      "model_module_version": "2.0.0",
      "model_name": "LeafletAttributionControlModel",
      "state": {
       "_view_name": "ErrorWidgetView",
       "error": {},
       "msg": "Failed to load model class 'LeafletAttributionControlModel' from module 'jupyter-leaflet'",
       "options": [
        "position",
        "prefix"
       ],
       "position": "bottomright",
       "prefix": "ipyleaflet"
      }
     },
     "38d86a7186df48de9a036cda831829e6": {
      "model_module": "@jupyter-widgets/controls",
      "model_module_version": "2.0.0",
      "model_name": "ToggleButtonModel",
      "state": {
       "button_style": "primary",
       "icon": "fast-forward",
       "layout": "IPY_MODEL_99fcec5e317447ad8b0ff0e777fdf764",
       "style": "IPY_MODEL_7729d1eec72a43669faaf898fd20bc84",
       "tooltip": "Activate timeslider"
      }
     },
     "3971d76112d8448ab1206970bba9969c": {
      "model_module": "@jupyter-widgets/controls",
      "model_module_version": "2.0.0",
      "model_name": "ToggleButtonStyleModel",
      "state": {
       "description_width": "",
       "font_family": null,
       "font_size": null,
       "font_style": null,
       "font_variant": null,
       "font_weight": null,
       "text_color": null,
       "text_decoration": null
      }
     },
     "3a3840f9cf3c4eed99be48411bc5218d": {
      "model_module": "@jupyter-widgets/controls",
      "model_module_version": "2.0.0",
      "model_name": "VBoxModel",
      "state": {
       "children": [
        "IPY_MODEL_75cc18c9799640de86ff58da1e3e6240"
       ],
       "layout": "IPY_MODEL_3451d496638847a29a54b32d3f74d149"
      }
     },
     "3a550d701518425eb9b208d454e5eaff": {
      "model_module": "jupyter-leaflet",
      "model_module_version": "2.0.0",
      "model_name": "LeafletMapStyleModel",
      "state": {
       "_view_name": "ErrorWidgetView",
       "error": {},
       "msg": "Failed to load model class 'LeafletMapStyleModel' from module 'jupyter-leaflet'"
      }
     },
     "3a77dc357cfb45f9832770de42f8f0f6": {
      "model_module": "jupyter-leaflet",
      "model_module_version": "2.0.0",
      "model_name": "LeafletAttributionControlModel",
      "state": {
       "_view_name": "ErrorWidgetView",
       "error": {},
       "msg": "Failed to load model class 'LeafletAttributionControlModel' from module 'jupyter-leaflet'",
       "options": [
        "position",
        "prefix"
       ],
       "position": "bottomright",
       "prefix": "ipyleaflet"
      }
     },
     "3a9d212130b842879d174050c8e30e99": {
      "model_module": "@jupyter-widgets/controls",
      "model_module_version": "2.0.0",
      "model_name": "ToggleButtonStyleModel",
      "state": {
       "description_width": "",
       "font_family": null,
       "font_size": null,
       "font_style": null,
       "font_variant": null,
       "font_weight": null,
       "text_color": null,
       "text_decoration": null
      }
     },
     "3ad5edca710e464980452bd4d6a4871b": {
      "model_module": "@jupyter-widgets/controls",
      "model_module_version": "2.0.0",
      "model_name": "ToggleButtonsModel",
      "state": {
       "_options_labels": [
        "name/address",
        "lat-lon",
        "data"
       ],
       "button_style": "",
       "icons": [],
       "index": 0,
       "layout": "IPY_MODEL_793fb33a3b27465b9759474a6357ecd6",
       "style": "IPY_MODEL_9cbc66f7298f42c1b0aeab1744642480",
       "tooltips": [
        "Search by place name or address",
        "Search by lat-lon coordinates",
        "Search Earth Engine data catalog"
       ]
      }
     },
     "3b7ef07ca3da4ab581ea0011ae3b11be": {
      "model_module": "@jupyter-widgets/controls",
      "model_module_version": "2.0.0",
      "model_name": "ToggleButtonModel",
      "state": {
       "button_style": "primary",
       "icon": "line-chart",
       "layout": "IPY_MODEL_5f7931ad3923414e99a11e90a336a83b",
       "style": "IPY_MODEL_cf59bd30c4864423a943e31d769a7939",
       "tooltip": "Creating and plotting transects"
      }
     },
     "3bd445c7f08c4dccb08763313600153f": {
      "model_module": "@jupyter-widgets/base",
      "model_module_version": "2.0.0",
      "model_name": "LayoutModel",
      "state": {}
     },
     "3c28ea251dd643c490fe67d4411e5beb": {
      "model_module": "@jupyter-widgets/base",
      "model_module_version": "2.0.0",
      "model_name": "LayoutModel",
      "state": {
       "height": "auto",
       "padding": "0px 0px 0px 4px",
       "width": "auto"
      }
     },
     "3c74d863162f495383d946ce68b818a0": {
      "model_module": "@jupyter-widgets/controls",
      "model_module_version": "2.0.0",
      "model_name": "ToggleButtonStyleModel",
      "state": {
       "description_width": "",
       "font_family": null,
       "font_size": null,
       "font_style": null,
       "font_variant": null,
       "font_weight": null,
       "text_color": null,
       "text_decoration": null
      }
     },
     "3cde2dd41c65448797049860de55b1d1": {
      "model_module": "@jupyter-widgets/controls",
      "model_module_version": "2.0.0",
      "model_name": "ToggleButtonStyleModel",
      "state": {
       "description_width": "",
       "font_family": null,
       "font_size": null,
       "font_style": null,
       "font_variant": null,
       "font_weight": null,
       "text_color": null,
       "text_decoration": null
      }
     },
     "3d20343a399e46b28f9dbc0655492892": {
      "model_module": "@jupyter-widgets/controls",
      "model_module_version": "2.0.0",
      "model_name": "ToggleButtonModel",
      "state": {
       "button_style": "primary",
       "icon": "eraser",
       "layout": "IPY_MODEL_959625cb8b3c4c90afdc89156f3671b2",
       "style": "IPY_MODEL_1acc4b69989d423f8cccd231a06895ba",
       "tooltip": "Remove all drawn features"
      }
     },
     "3d40bad5d44743b8a1a9d6acf3237742": {
      "model_module": "@jupyter-widgets/controls",
      "model_module_version": "2.0.0",
      "model_name": "ToggleButtonStyleModel",
      "state": {
       "description_width": "",
       "font_family": null,
       "font_size": null,
       "font_style": null,
       "font_variant": null,
       "font_weight": null,
       "text_color": null,
       "text_decoration": null
      }
     },
     "3f3de6fd0a8443148c856ca9ab7f6a4c": {
      "model_module": "@jupyter-widgets/base",
      "model_module_version": "2.0.0",
      "model_name": "LayoutModel",
      "state": {
       "height": "auto",
       "padding": "0px 0px 0px 4px",
       "width": "auto"
      }
     },
     "3fad666529a34cc1aa19549890a51f61": {
      "model_module": "@jupyter-widgets/controls",
      "model_module_version": "2.0.0",
      "model_name": "ToggleButtonModel",
      "state": {
       "button_style": "primary",
       "icon": "plus",
       "layout": "IPY_MODEL_74284140afbc4d45b7633fb3f69c3754",
       "style": "IPY_MODEL_b65c15e6f6744716ae2d6fe81b5e5b45",
       "tooltip": "Expand toolbar"
      }
     },
     "40281087fb254c32b26ccd9e5b12e828": {
      "model_module": "@jupyter-widgets/controls",
      "model_module_version": "2.0.0",
      "model_name": "HBoxModel",
      "state": {
       "children": [
        "IPY_MODEL_ad67edd60a8941379291b0be32daf913",
        "IPY_MODEL_ba74f345ac5b4f96b77cb74228b2b2dc"
       ],
       "layout": "IPY_MODEL_632460e302a9448da6c58403bd889de4"
      }
     },
     "4118867ef11a47b68c1d868a8ba30f96": {
      "model_module": "jupyter-leaflet",
      "model_module_version": "^0.18",
      "model_name": "LeafletWidgetControlModel",
      "state": {
       "_model_module": "jupyter-leaflet",
       "_model_module_version": "^0.18",
       "_view_count": null,
       "_view_module": "jupyter-leaflet",
       "_view_module_version": "^0.18",
       "options": [
        "position",
        "transparent_bg"
       ],
       "position": "topright",
       "widget": "IPY_MODEL_8e95add447cf4ae495043a712c37d683"
      }
     },
     "4135ccf78baf48768ad5aa14c6acea63": {
      "model_module": "@jupyter-widgets/controls",
      "model_module_version": "2.0.0",
      "model_name": "ToggleButtonModel",
      "state": {
       "icon": "server",
       "layout": "IPY_MODEL_4d6a69db661449aaaaea9e901dc95f37",
       "style": "IPY_MODEL_050f0154fc8d494998a758c3b5947ed7",
       "tooltip": "Layers"
      }
     },
     "41a954dc7fac430189c7b2c0503f3f1b": {
      "model_module": "jupyter-leaflet",
      "model_module_version": "^0.18",
      "model_name": "LeafletFullScreenControlModel",
      "state": {
       "_model_module_version": "^0.18",
       "_view_module_version": "^0.18",
       "options": [
        "position"
       ]
      }
     },
     "437fee11115a44408ea85917826e2769": {
      "model_module": "jupyter-leaflet",
      "model_module_version": "^0.18",
      "model_name": "LeafletDrawControlModel",
      "state": {
       "_model_module_version": "^0.18",
       "_view_module_version": "^0.18",
       "marker": {
        "shapeOptions": {
         "color": "#3388ff"
        }
       },
       "options": [
        "position"
       ],
       "polygon": {
        "shapeOptions": {
         "clickable": true,
         "color": "#3388ff",
         "fill": true,
         "fillColor": null,
         "fillOpacity": 0.2,
         "opacity": 0.5,
         "stroke": true,
         "weight": 4
        }
       },
       "polyline": {
        "shapeOptions": {
         "clickable": true,
         "color": "#3388ff",
         "fill": false,
         "opacity": 0.5,
         "stroke": true,
         "weight": 4
        }
       },
       "rectangle": {
        "shapeOptions": {
         "clickable": true,
         "color": "#3388ff",
         "fill": true,
         "fillColor": null,
         "fillOpacity": 0.2,
         "opacity": 0.5,
         "stroke": true,
         "weight": 4
        }
       }
      }
     },
     "456904bcf74a4439aef6af8aebb9c6de": {
      "model_module": "jupyter-leaflet",
      "model_module_version": "2.0.0",
      "model_name": "LeafletMapStyleModel",
      "state": {
       "_view_name": "ErrorWidgetView",
       "cursor": "move",
       "error": {},
       "msg": "Failed to load model class 'LeafletMapStyleModel' from module 'jupyter-leaflet'"
      }
     },
     "4569abe2790f471fa6c876cdb94b38a6": {
      "model_module": "@jupyter-widgets/controls",
      "model_module_version": "2.0.0",
      "model_name": "ToggleButtonStyleModel",
      "state": {
       "description_width": "",
       "font_family": null,
       "font_size": null,
       "font_style": null,
       "font_variant": null,
       "font_weight": null,
       "text_color": null,
       "text_decoration": null
      }
     },
     "45f99f69e254434ea5b071a1d22c7dd8": {
      "model_module": "@jupyter-widgets/base",
      "model_module_version": "2.0.0",
      "model_name": "LayoutModel",
      "state": {
       "height": "auto",
       "padding": "0px 0px 0px 4px",
       "width": "auto"
      }
     },
     "46100e9c5c4746f9871e9a63489c76c1": {
      "model_module": "jupyter-leaflet",
      "model_module_version": "^0.18",
      "model_name": "LeafletMapStyleModel",
      "state": {
       "_model_module_version": "^0.18"
      }
     },
     "48173e7331484630b8afc21146082dc5": {
      "model_module": "@jupyter-widgets/base",
      "model_module_version": "2.0.0",
      "model_name": "LayoutModel",
      "state": {
       "height": "auto",
       "padding": "0px 0px 0px 4px",
       "width": "auto"
      }
     },
     "48bc31fd764c489184b883adb6a0ddb1": {
      "model_module": "jupyter-leaflet",
      "model_module_version": "2.0.0",
      "model_name": "LeafletFullScreenControlModel",
      "state": {
       "_view_name": "ErrorWidgetView",
       "error": {},
       "msg": "Failed to load model class 'LeafletFullScreenControlModel' from module 'jupyter-leaflet'",
       "options": [
        "position"
       ]
      }
     },
     "490014e10323495f8ecddf95ed55aec2": {
      "model_module": "@jupyter-widgets/controls",
      "model_module_version": "2.0.0",
      "model_name": "ToggleButtonStyleModel",
      "state": {
       "description_width": "",
       "font_family": null,
       "font_size": null,
       "font_style": null,
       "font_variant": null,
       "font_weight": null,
       "text_color": null,
       "text_decoration": null
      }
     },
     "498c4d9b77f64defbc12dabe01e529fb": {
      "model_module": "jupyter-leaflet",
      "model_module_version": "2.0.0",
      "model_name": "LeafletMapModel",
      "state": {
       "_view_name": "ErrorWidgetView",
       "bottom": 799020,
       "center": [
        39.36827914916014,
        -112.50000000000001
       ],
       "controls": [
        "IPY_MODEL_be81530c91a64813b8d7b8131861e99f",
        "IPY_MODEL_fdee578f2cf24da286b4ae6e4c22d770",
        "IPY_MODEL_799d58540ede4da5b878a2776fded8fc",
        "IPY_MODEL_f130b3a6c58c44df855c9f84280a89ee",
        "IPY_MODEL_06fb6e192ab7415896d7989d7b7b76a3",
        "IPY_MODEL_7b86384275cb401f8b7b61ba92fdc50e",
        "IPY_MODEL_9158d0f1e182468da68fde19c7c8112c",
        "IPY_MODEL_823ece93441c476aaf81d55fe51f65f1"
       ],
       "default_style": "IPY_MODEL_eaae87ea9aa942579b6cb3b80124ef4d",
       "dragging_style": "IPY_MODEL_456904bcf74a4439aef6af8aebb9c6de",
       "east": -112.41605758666994,
       "error": {},
       "fullscreen": false,
       "interpolation": "bilinear",
       "layers": [
        "IPY_MODEL_3594ded4b9574e7993ffb6aed76e22e8",
        "IPY_MODEL_76a34575cf8f40dc8c3079cfb9d54eba",
        "IPY_MODEL_6c07f998c33e42e2944f59d11c9378d9"
       ],
       "layout": "IPY_MODEL_a70f9996e1024703810f125997da55ed",
       "left": 392727,
       "max_zoom": 24,
       "modisdate": "2024-03-12",
       "msg": "Failed to load model class 'LeafletMapModel' from module 'jupyter-leaflet'",
       "north": 39.40808044271047,
       "options": [
        "bounce_at_zoom_limits",
        "box_zoom",
        "center",
        "close_popup_on_click",
        "double_click_zoom",
        "dragging",
        "fullscreen",
        "inertia",
        "inertia_deceleration",
        "inertia_max_speed",
        "interpolation",
        "keyboard",
        "keyboard_pan_offset",
        "keyboard_zoom_offset",
        "max_zoom",
        "min_zoom",
        "prefer_canvas",
        "scroll_wheel_zoom",
        "tap",
        "tap_tolerance",
        "touch_zoom",
        "world_copy_jump",
        "zoom",
        "zoom_animation_threshold",
        "zoom_delta",
        "zoom_snap"
       ],
       "prefer_canvas": false,
       "right": 393705,
       "scroll_wheel_zoom": true,
       "south": 39.32845515755447,
       "style": "IPY_MODEL_eaae87ea9aa942579b6cb3b80124ef4d",
       "top": 798420,
       "west": -112.58394241333009,
       "window_url": "https://jupyterhub.cuahsi.org/user/torresrua/lab/tree/courses/Machine-Learning-Applications-in-Remote-Sensing-Data/Step_5.ipynb",
       "zoom": 13
      }
     },
     "49ed6e532d26486aba8022998c23c145": {
      "model_module": "@jupyter-widgets/controls",
      "model_module_version": "2.0.0",
      "model_name": "ToggleButtonModel",
      "state": {
       "button_style": "primary",
       "icon": "globe",
       "layout": "IPY_MODEL_bf092201d70046aaa77d39b7f312b16a",
       "style": "IPY_MODEL_b274dd39500a4c298882db07060cf5e5",
       "tooltip": "Create timelapse"
      }
     },
     "49f2a9374f0046cca47204c6d36558f5": {
      "model_module": "@jupyter-widgets/controls",
      "model_module_version": "2.0.0",
      "model_name": "HBoxModel",
      "state": {
       "children": [
        "IPY_MODEL_96e2f3b5be434b58b90ae9f57faaae4c",
        "IPY_MODEL_a4af7a00be3145b9a8ec77ab6bec35b6"
       ],
       "layout": "IPY_MODEL_e5fc7d80355a4900b0ed2e407cec77bd"
      }
     },
     "4a13991831dd46cda97fba7a0a06fa6b": {
      "model_module": "jupyter-leaflet",
      "model_module_version": "^0.18",
      "model_name": "LeafletMapStyleModel",
      "state": {
       "_model_module_version": "^0.18"
      }
     },
     "4a2d295f496648778a9f5d4ef11f1e04": {
      "model_module": "@jupyter-widgets/controls",
      "model_module_version": "2.0.0",
      "model_name": "ToggleButtonModel",
      "state": {
       "button_style": "primary",
       "icon": "adjust",
       "layout": "IPY_MODEL_cd2a64d89e16438ea27922e330ccc6d7",
       "style": "IPY_MODEL_3850fed329074459bc751bb3c067d55a",
       "tooltip": "Planet imagery"
      }
     },
     "4b6cab890a754d678cb8ac44c4680c8b": {
      "model_module": "jupyter-leaflet",
      "model_module_version": "^0.18",
      "model_name": "LeafletMapStyleModel",
      "state": {
       "_model_module_version": "^0.18"
      }
     },
     "4b7bbcd49bd14846b0dfc9e39b1c5b9c": {
      "model_module": "@jupyter-widgets/controls",
      "model_module_version": "2.0.0",
      "model_name": "HBoxModel",
      "state": {
       "children": [
        "IPY_MODEL_98374cdfc25f4aea8b4e3eb081cbf0de",
        "IPY_MODEL_6bb9a5a7da914869af70806027f6a725"
       ],
       "layout": "IPY_MODEL_77a0731b6d4e499187297c253695a72e"
      }
     },
     "4ba18bd1a7cd4a669ca33d950712ecec": {
      "model_module": "@jupyter-widgets/controls",
      "model_module_version": "2.0.0",
      "model_name": "ToggleButtonStyleModel",
      "state": {
       "description_width": "",
       "font_family": null,
       "font_size": null,
       "font_style": null,
       "font_variant": null,
       "font_weight": null,
       "text_color": null,
       "text_decoration": null
      }
     },
     "4bbcced449754c0f9dabbba03dc1f146": {
      "model_module": "@jupyter-widgets/controls",
      "model_module_version": "2.0.0",
      "model_name": "ToggleButtonModel",
      "state": {
       "button_style": "primary",
       "icon": "line-chart",
       "layout": "IPY_MODEL_4f7f3859cebf4aa9ba8d7cea4271644c",
       "style": "IPY_MODEL_965f4361a7444fae93936f92ab3d9b92",
       "tooltip": "Creating and plotting transects"
      }
     },
     "4bdfc285c9cb45abaa82399e1dcd66cb": {
      "model_module": "@jupyter-widgets/controls",
      "model_module_version": "2.0.0",
      "model_name": "ToggleButtonModel",
      "state": {
       "button_style": "primary",
       "icon": "gears",
       "layout": "IPY_MODEL_97f4a2cbfc014aac859d0f48b76d2b2e",
       "style": "IPY_MODEL_52a6380abd7944acb2095a44b66959d2",
       "tooltip": "WhiteboxTools for local geoprocessing"
      }
     },
     "4bf3de869b5f4122aeebe9ff709d948f": {
      "model_module": "@jupyter-widgets/base",
      "model_module_version": "2.0.0",
      "model_name": "LayoutModel",
      "state": {
       "height": "auto",
       "padding": "0px 0px 0px 4px",
       "width": "auto"
      }
     },
     "4c53728213834f6dae031dad80e1d956": {
      "model_module": "@jupyter-widgets/controls",
      "model_module_version": "2.0.0",
      "model_name": "ToggleButtonModel",
      "state": {
       "button_style": "primary",
       "icon": "fast-forward",
       "layout": "IPY_MODEL_94ef8a148b4443ab9335f54ff98a28f5",
       "style": "IPY_MODEL_3a9d212130b842879d174050c8e30e99",
       "tooltip": "Activate timeslider"
      }
     },
     "4cbf8be194b345e0b2958af7c48ed65e": {
      "model_module": "@jupyter-widgets/base",
      "model_module_version": "2.0.0",
      "model_name": "LayoutModel",
      "state": {
       "height": "auto",
       "padding": "0px 0px 0px 4px",
       "width": "auto"
      }
     },
     "4d6a69db661449aaaaea9e901dc95f37": {
      "model_module": "@jupyter-widgets/base",
      "model_module_version": "2.0.0",
      "model_name": "LayoutModel",
      "state": {
       "height": "28px",
       "width": "72px"
      }
     },
     "4d9291b85cb543cc8281c600c8fbc849": {
      "model_module": "jupyter-leaflet",
      "model_module_version": "^0.18",
      "model_name": "LeafletScaleControlModel",
      "state": {
       "_model_module_version": "^0.18",
       "_view_module_version": "^0.18",
       "imperial": true,
       "max_width": 100,
       "metric": true,
       "options": [
        "imperial",
        "max_width",
        "metric",
        "position",
        "update_when_idle"
       ],
       "position": "bottomleft",
       "update_when_idle": false
      }
     },
     "4e2a8e823ac6480e89092cb9344d6b79": {
      "model_module": "@jupyter-widgets/controls",
      "model_module_version": "2.0.0",
      "model_name": "ToggleButtonModel",
      "state": {
       "button_style": "primary",
       "icon": "fast-forward",
       "layout": "IPY_MODEL_311632c7fc2e4b5cb9923afb34969afe",
       "style": "IPY_MODEL_f0e289d3a40045a2a02a958c441d03b8",
       "tooltip": "Activate timeslider"
      }
     },
     "4e30007276084d979ddfd1f6debe3d9c": {
      "model_module": "@jupyter-widgets/base",
      "model_module_version": "2.0.0",
      "model_name": "LayoutModel",
      "state": {
       "height": "28px",
       "padding": "0px 0px 0px 4px",
       "width": "28px"
      }
     },
     "4e3857e2e52e45a3b6cb130f6bdb5589": {
      "model_module": "@jupyter-widgets/controls",
      "model_module_version": "2.0.0",
      "model_name": "ButtonStyleModel",
      "state": {
       "font_family": null,
       "font_size": null,
       "font_style": null,
       "font_variant": null,
       "font_weight": null,
       "text_color": null,
       "text_decoration": null
      }
     },
     "4e42c9d48514474a9959f1cb328ae2ae": {
      "model_module": "jupyter-leaflet",
      "model_module_version": "^0.18",
      "model_name": "LeafletTileLayerModel",
      "state": {
       "_model_module_version": "^0.18",
       "_view_module_version": "^0.18",
       "attribution": "Google Earth Engine",
       "max_zoom": 24,
       "name": "RF regression",
       "options": [
        "attribution",
        "bounds",
        "detect_retina",
        "max_native_zoom",
        "max_zoom",
        "min_native_zoom",
        "min_zoom",
        "no_wrap",
        "tile_size",
        "tms",
        "zoom_offset"
       ],
       "url": "https://earthengine.googleapis.com/v1/projects/earthengine-legacy/maps/14a7a1110ef908a6035501e7df998fee-924d03a41b1ab68009812b01c58a811e/tiles/{z}/{x}/{y}"
      }
     },
     "4ee2b033fe614119991718fb8c35742d": {
      "model_module": "@jupyter-widgets/base",
      "model_module_version": "2.0.0",
      "model_name": "LayoutModel",
      "state": {
       "height": "600px"
      }
     },
     "4f6d2550c8e54e5db672fd442d292d40": {
      "model_module": "@jupyter-widgets/controls",
      "model_module_version": "2.0.0",
      "model_name": "HBoxModel",
      "state": {
       "children": [
        "IPY_MODEL_c94e9eccd59541c88d779d5a1a1290c9",
        "IPY_MODEL_b840d3069d9d4f3685b1f3903a8491d4"
       ],
       "layout": "IPY_MODEL_7024d0043cc94bcfbaf1e4a98e22d53a"
      }
     },
     "4f763e69753940be93c538bcc39c4446": {
      "model_module": "@jupyter-widgets/controls",
      "model_module_version": "2.0.0",
      "model_name": "ToggleButtonModel",
      "state": {
       "button_style": "primary",
       "icon": "google",
       "layout": "IPY_MODEL_ab7cd50c07494d32854c532036c9958b",
       "style": "IPY_MODEL_f442e6e9a450471b816529572cf6682c",
       "tooltip": "GEE Toolbox for cloud computing"
      }
     },
     "4f7f3859cebf4aa9ba8d7cea4271644c": {
      "model_module": "@jupyter-widgets/base",
      "model_module_version": "2.0.0",
      "model_name": "LayoutModel",
      "state": {
       "height": "auto",
       "padding": "0px 0px 0px 4px",
       "width": "auto"
      }
     },
     "502d0685f718416c9222203bcbe377c6": {
      "model_module": "@jupyter-widgets/controls",
      "model_module_version": "2.0.0",
      "model_name": "ToggleButtonModel",
      "state": {
       "button_style": "primary",
       "icon": "adjust",
       "layout": "IPY_MODEL_5f329bffc1be484eba35f403393976e8",
       "style": "IPY_MODEL_b175d51aab8b439db9defc18cbeec3f2",
       "tooltip": "Planet imagery"
      }
     },
     "503db566569541d5b110d58fdafefe69": {
      "model_module": "jupyter-leaflet",
      "model_module_version": "2.0.0",
      "model_name": "LeafletAttributionControlModel",
      "state": {
       "_view_name": "ErrorWidgetView",
       "error": {},
       "msg": "Failed to load model class 'LeafletAttributionControlModel' from module 'jupyter-leaflet'",
       "options": [
        "position",
        "prefix"
       ],
       "position": "bottomright",
       "prefix": "ipyleaflet"
      }
     },
     "512d97a4e3364563a78381a64d794486": {
      "model_module": "jupyter-leaflet",
      "model_module_version": "^0.18",
      "model_name": "LeafletMapStyleModel",
      "state": {
       "_model_module_version": "^0.18"
      }
     },
     "520e60e2a14c46e3af491c661866ab86": {
      "model_module": "@jupyter-widgets/controls",
      "model_module_version": "2.0.0",
      "model_name": "ToggleButtonModel",
      "state": {
       "button_style": "primary",
       "icon": "map",
       "layout": "IPY_MODEL_cc35ae63ae5040bdbb5d57a1040ae909",
       "style": "IPY_MODEL_7a1cd398dfbf423894c318f4aad8c3e4",
       "tooltip": "Change basemap"
      }
     },
     "5282a7be3b7d4f2d9863a776d82d3c48": {
      "model_module": "@jupyter-widgets/controls",
      "model_module_version": "2.0.0",
      "model_name": "RadioButtonsModel",
      "state": {
       "index": null,
       "layout": "IPY_MODEL_127f7f5c2d554faa8876376306fed8c9",
       "style": "IPY_MODEL_264e9e8bf03a45ef93cbe9b3d2366d4c"
      }
     },
     "52a6380abd7944acb2095a44b66959d2": {
      "model_module": "@jupyter-widgets/controls",
      "model_module_version": "2.0.0",
      "model_name": "ToggleButtonStyleModel",
      "state": {
       "description_width": "",
       "font_family": null,
       "font_size": null,
       "font_style": null,
       "font_variant": null,
       "font_weight": null,
       "text_color": null,
       "text_decoration": null
      }
     },
     "55173e8e101b4a00ad47d5a2b352bf51": {
      "model_module": "@jupyter-widgets/base",
      "model_module_version": "2.0.0",
      "model_name": "LayoutModel",
      "state": {
       "height": "28px",
       "padding": "0px 0px 0px 4px",
       "width": "28px"
      }
     },
     "55ead01dd6864ed39cc0d25cb4fee3ee": {
      "model_module": "@jupyter-widgets/output",
      "model_module_version": "1.0.0",
      "model_name": "OutputModel",
      "state": {
       "layout": "IPY_MODEL_9bd3e791621e48c0b932f6368e8c9193"
      }
     },
     "56758442a1dc40f788267cc51578cf1c": {
      "model_module": "jupyter-leaflet",
      "model_module_version": "2.0.0",
      "model_name": "LeafletFullScreenControlModel",
      "state": {
       "_view_name": "ErrorWidgetView",
       "error": {},
       "msg": "Failed to load model class 'LeafletFullScreenControlModel' from module 'jupyter-leaflet'",
       "options": [
        "position"
       ]
      }
     },
     "570b97a37d434a3db703e872d2c8efb6": {
      "model_module": "jupyter-leaflet",
      "model_module_version": "^0.18",
      "model_name": "LeafletMapStyleModel",
      "state": {
       "_model_module_version": "^0.18",
       "cursor": "move"
      }
     },
     "57ca8564d6ae4ff9a69d05708313e898": {
      "model_module": "@jupyter-widgets/base",
      "model_module_version": "2.0.0",
      "model_name": "LayoutModel",
      "state": {}
     },
     "58f3a792e8b946ccbf5ce704cc0bd9da": {
      "model_module": "@jupyter-widgets/base",
      "model_module_version": "2.0.0",
      "model_name": "LayoutModel",
      "state": {
       "height": "auto",
       "padding": "0px 0px 0px 4px",
       "width": "auto"
      }
     },
     "5995c4fd9c62467e915dfd41550db872": {
      "model_module": "@jupyter-widgets/base",
      "model_module_version": "2.0.0",
      "model_name": "LayoutModel",
      "state": {
       "height": "auto",
       "padding": "0px 0px 0px 4px",
       "width": "auto"
      }
     },
     "5a76ae3e0fe244fc8804ee57f5498ae3": {
      "model_module": "@jupyter-widgets/base",
      "model_module_version": "2.0.0",
      "model_name": "LayoutModel",
      "state": {
       "max_height": "350px",
       "max_width": "340px",
       "overflow": "scroll"
      }
     },
     "5ac81b308fa84779a4b1c5344e51ca26": {
      "model_module": "@jupyter-widgets/controls",
      "model_module_version": "2.0.0",
      "model_name": "ToggleButtonModel",
      "state": {
       "button_style": "primary",
       "icon": "folder-open",
       "layout": "IPY_MODEL_948c7868419f45fb9219cc4e24376234",
       "style": "IPY_MODEL_193ffd74bed846af9e841d86f0080ffa",
       "tooltip": "Open local vector/raster data"
      }
     },
     "5afc878e54274b6ab7bf6e0d76190749": {
      "model_module": "@jupyter-widgets/controls",
      "model_module_version": "2.0.0",
      "model_name": "ToggleButtonsStyleModel",
      "state": {
       "button_width": "110px",
       "description_width": ""
      }
     },
     "5b1bc5fbfb8148e4b34889de5e7d3221": {
      "model_module": "@jupyter-widgets/base",
      "model_module_version": "2.0.0",
      "model_name": "LayoutModel",
      "state": {
       "height": "auto",
       "padding": "0px 0px 0px 4px",
       "width": "auto"
      }
     },
     "5b48096ca22a43ccab62d941635000e2": {
      "model_module": "@jupyter-widgets/controls",
      "model_module_version": "2.0.0",
      "model_name": "ToggleButtonModel",
      "state": {
       "button_style": "primary",
       "icon": "eraser",
       "layout": "IPY_MODEL_a0c040b7adbe47b28200f5eb5179574a",
       "style": "IPY_MODEL_ccf27d052db244b6b7efa597974f219f",
       "tooltip": "Remove all drawn features"
      }
     },
     "5c23669062d847ec9ecd0e79e99d1445": {
      "model_module": "jupyter-leaflet",
      "model_module_version": "^0.18",
      "model_name": "LeafletMapStyleModel",
      "state": {
       "_model_module_version": "^0.18",
       "cursor": "move"
      }
     },
     "5c2daa16986f47068068ec83dcf01ac6": {
      "model_module": "@jupyter-widgets/controls",
      "model_module_version": "2.0.0",
      "model_name": "HBoxModel",
      "state": {
       "_dom_classes": [
        "geemap-light"
       ],
       "_view_count": 1,
       "children": [
        "IPY_MODEL_1305f5d2c1114ed6a1d46e9da5771dbd"
       ],
       "layout": "IPY_MODEL_b94e8b56b6df48df85d71f8a9d54261b"
      }
     },
     "5c441cddc073433dafe3ad92cb8c7f8a": {
      "model_module": "@jupyter-widgets/controls",
      "model_module_version": "2.0.0",
      "model_name": "ToggleButtonModel",
      "state": {
       "icon": "wrench",
       "layout": "IPY_MODEL_55173e8e101b4a00ad47d5a2b352bf51",
       "style": "IPY_MODEL_dc6786492b8941ec89672d63c15cd758",
       "tooltip": "Toolbar"
      }
     },
     "5c82d74896a24909afeafe9bf3c65af2": {
      "model_module": "@jupyter-widgets/controls",
      "model_module_version": "2.0.0",
      "model_name": "ToggleButtonModel",
      "state": {
       "button_style": "primary",
       "icon": "question",
       "layout": "IPY_MODEL_c9addf7b67f24495bca3134aaf90962a",
       "style": "IPY_MODEL_8d31bf6f4e1e402db1132970eb78e0db",
       "tooltip": "Get help"
      }
     },
     "5c864ae5e770444daf8622063d2f715a": {
      "model_module": "@jupyter-widgets/base",
      "model_module_version": "2.0.0",
      "model_name": "LayoutModel",
      "state": {
       "height": "auto",
       "padding": "0px 0px 0px 4px",
       "width": "auto"
      }
     },
     "5c9154d44b5747b7b0e41ebe8286ea54": {
      "model_module": "@jupyter-widgets/controls",
      "model_module_version": "2.0.0",
      "model_name": "VBoxModel",
      "state": {
       "children": [
        "IPY_MODEL_b4c6d3f493154d648d3b79a9f44d649d",
        "IPY_MODEL_1a319af1b22940fdabdd2e2b719666c2"
       ],
       "layout": "IPY_MODEL_a076d620bc1146339976b89b197838a0"
      }
     },
     "5cafdb9d72c04fffa7953529226996ab": {
      "model_module": "@jupyter-widgets/controls",
      "model_module_version": "2.0.0",
      "model_name": "ToggleButtonStyleModel",
      "state": {
       "description_width": "",
       "font_family": null,
       "font_size": null,
       "font_style": null,
       "font_variant": null,
       "font_weight": null,
       "text_color": null,
       "text_decoration": null
      }
     },
     "5da5d3719dc24370b8b8c68d77f4555c": {
      "model_module": "@jupyter-widgets/controls",
      "model_module_version": "2.0.0",
      "model_name": "ToggleButtonStyleModel",
      "state": {
       "description_width": "",
       "font_family": null,
       "font_size": null,
       "font_style": null,
       "font_variant": null,
       "font_weight": null,
       "text_color": null,
       "text_decoration": null
      }
     },
     "5dcc5dfefaf54723ae6b31338d094b16": {
      "model_module": "@jupyter-widgets/base",
      "model_module_version": "2.0.0",
      "model_name": "LayoutModel",
      "state": {
       "height": "auto",
       "padding": "0px 0px 0px 4px",
       "width": "auto"
      }
     },
     "5e088d84bda34f01954262e3950e5461": {
      "model_module": "@jupyter-widgets/controls",
      "model_module_version": "2.0.0",
      "model_name": "ToggleButtonModel",
      "state": {
       "button_style": "primary",
       "icon": "random",
       "layout": "IPY_MODEL_5dcc5dfefaf54723ae6b31338d094b16",
       "style": "IPY_MODEL_7713a0f8882f4b86b896225a81f4bbbd",
       "tooltip": "Sankey plots"
      }
     },
     "5e4bac19cd8446fb9030f37f332350f5": {
      "model_module": "ipyevents",
      "model_module_version": "2.0.2",
      "model_name": "EventModel",
      "state": {
       "_supported_key_events": [
        "keydown",
        "keyup"
       ],
       "_supported_mouse_events": [
        "click",
        "auxclick",
        "dblclick",
        "mouseenter",
        "mouseleave",
        "mousedown",
        "mouseup",
        "mousemove",
        "wheel",
        "contextmenu",
        "dragstart",
        "drag",
        "dragend",
        "dragenter",
        "dragover",
        "dragleave",
        "drop"
       ],
       "_supported_touch_events": [
        "touchstart",
        "touchend",
        "touchmove",
        "touchcancel"
       ],
       "_view_module": "@jupyter-widgets/controls",
       "source": "IPY_MODEL_72ad961c10674d19a21381bd3816e187",
       "throttle_or_debounce": "",
       "watched_events": [
        "mouseenter",
        "mouseleave"
       ],
       "xy_coordinate_system": ""
      }
     },
     "5f329bffc1be484eba35f403393976e8": {
      "model_module": "@jupyter-widgets/base",
      "model_module_version": "2.0.0",
      "model_name": "LayoutModel",
      "state": {
       "height": "auto",
       "padding": "0px 0px 0px 4px",
       "width": "auto"
      }
     },
     "5f7931ad3923414e99a11e90a336a83b": {
      "model_module": "@jupyter-widgets/base",
      "model_module_version": "2.0.0",
      "model_name": "LayoutModel",
      "state": {
       "height": "auto",
       "padding": "0px 0px 0px 4px",
       "width": "auto"
      }
     },
     "5fb1da0d07cf4ea38c3b26700fbe3aa7": {
      "model_module": "jupyter-leaflet",
      "model_module_version": "2.0.0",
      "model_name": "LeafletTileLayerModel",
      "state": {
       "_view_name": "ErrorWidgetView",
       "attribution": "&copy; <a href=\"https://www.openstreetmap.org/copyright\">OpenStreetMap</a> contributors",
       "base": true,
       "error": {},
       "max_zoom": 19,
       "min_zoom": 1,
       "msg": "Failed to load model class 'LeafletTileLayerModel' from module 'jupyter-leaflet'",
       "name": "OpenStreetMap.Mapnik",
       "options": [
        "attribution",
        "bounds",
        "detect_retina",
        "max_native_zoom",
        "max_zoom",
        "min_native_zoom",
        "min_zoom",
        "no_wrap",
        "tile_size",
        "tms",
        "zoom_offset"
       ],
       "url": "https://tile.openstreetmap.org/{z}/{x}/{y}.png"
      }
     },
     "6032c1a0e2c94e82ae7d40fc5f20d9e3": {
      "model_module": "@jupyter-widgets/controls",
      "model_module_version": "2.0.0",
      "model_name": "ToggleButtonStyleModel",
      "state": {
       "description_width": "",
       "font_family": null,
       "font_size": null,
       "font_style": null,
       "font_variant": null,
       "font_weight": null,
       "text_color": null,
       "text_decoration": null
      }
     },
     "60451158846242a8bfd8efafbcab87ca": {
      "model_module": "@jupyter-widgets/base",
      "model_module_version": "2.0.0",
      "model_name": "LayoutModel",
      "state": {
       "height": "600px"
      }
     },
     "605f6ceebdb84a3fa080fbe4518f93f8": {
      "model_module": "@jupyter-widgets/controls",
      "model_module_version": "2.0.0",
      "model_name": "ToggleButtonModel",
      "state": {
       "button_style": "primary",
       "icon": "random",
       "layout": "IPY_MODEL_4bf3de869b5f4122aeebe9ff709d948f",
       "style": "IPY_MODEL_f8f56b3726f54a5eada2817c5f8e5456",
       "tooltip": "Sankey plots"
      }
     },
     "6108a9f461f74dce9d04326d7af0cec1": {
      "model_module": "@jupyter-widgets/controls",
      "model_module_version": "2.0.0",
      "model_name": "ToggleButtonStyleModel",
      "state": {
       "description_width": "",
       "font_family": null,
       "font_size": null,
       "font_style": null,
       "font_variant": null,
       "font_weight": null,
       "text_color": null,
       "text_decoration": null
      }
     },
     "626b2e95b69645b1bf7ff0ac266100c5": {
      "model_module": "@jupyter-widgets/controls",
      "model_module_version": "2.0.0",
      "model_name": "GridBoxModel",
      "state": {
       "children": [
        "IPY_MODEL_faecb9113104455db30e47d9ca7eafff",
        "IPY_MODEL_e0f9e1eb62194f2e8f9e6d35d17537c9",
        "IPY_MODEL_b19737909293432a9ef3b04b4ddb71d6",
        "IPY_MODEL_520e60e2a14c46e3af491c661866ab86",
        "IPY_MODEL_69afca04d75542c99520d142d3b1ddf1",
        "IPY_MODEL_00f0dc37a5514a3592d57bf17855099b"
       ],
       "layout": "IPY_MODEL_f1368a532d144a93829dda6da18ca150"
      }
     },
     "62882ca97ec84dc69ed4f1e006b125ab": {
      "model_module": "@jupyter-widgets/controls",
      "model_module_version": "2.0.0",
      "model_name": "VBoxModel",
      "state": {
       "children": [
        "IPY_MODEL_3ad5edca710e464980452bd4d6a4871b",
        "IPY_MODEL_80245808bf7d45c681e77ca7a02fc42f"
       ],
       "layout": "IPY_MODEL_80feb3f5874a456c907e5803a872521a"
      }
     },
     "6312923ee27c41c98365737c820810b2": {
      "model_module": "@jupyter-widgets/base",
      "model_module_version": "2.0.0",
      "model_name": "LayoutModel",
      "state": {}
     },
     "632460e302a9448da6c58403bd889de4": {
      "model_module": "@jupyter-widgets/base",
      "model_module_version": "2.0.0",
      "model_name": "LayoutModel",
      "state": {}
     },
     "65797525607544059bf59f8ba0ef7387": {
      "model_module": "@jupyter-widgets/controls",
      "model_module_version": "2.0.0",
      "model_name": "ToggleButtonStyleModel",
      "state": {
       "description_width": "",
       "font_family": null,
       "font_size": null,
       "font_style": null,
       "font_variant": null,
       "font_weight": null,
       "text_color": null,
       "text_decoration": null
      }
     },
     "66c1ffd9f59f4d74bd971ebf186241a1": {
      "model_module": "@jupyter-widgets/controls",
      "model_module_version": "2.0.0",
      "model_name": "ToggleButtonStyleModel",
      "state": {
       "description_width": "",
       "font_family": null,
       "font_size": null,
       "font_style": null,
       "font_variant": null,
       "font_weight": null,
       "text_color": null,
       "text_decoration": null
      }
     },
     "672a4d5d1dd34404aea616c070f23624": {
      "model_module": "@jupyter-widgets/base",
      "model_module_version": "2.0.0",
      "model_name": "LayoutModel",
      "state": {
       "height": "auto",
       "padding": "0px 0px 0px 4px",
       "width": "auto"
      }
     },
     "674278625875444194adf1519f2a07d6": {
      "model_module": "@jupyter-widgets/base",
      "model_module_version": "2.0.0",
      "model_name": "LayoutModel",
      "state": {
       "height": "auto",
       "padding": "0px 0px 0px 4px",
       "width": "auto"
      }
     },
     "6892974f472b4e6fa3e4258e5aba31c6": {
      "model_module": "@jupyter-widgets/base",
      "model_module_version": "2.0.0",
      "model_name": "LayoutModel",
      "state": {
       "height": "auto",
       "padding": "0px 0px 0px 4px",
       "width": "auto"
      }
     },
     "68dc2e53b820467990d37b6fd9d14027": {
      "model_module": "@jupyter-widgets/controls",
      "model_module_version": "2.0.0",
      "model_name": "RadioButtonsModel",
      "state": {
       "index": null,
       "layout": "IPY_MODEL_e076e58372104e96b3c499851d18856f",
       "style": "IPY_MODEL_c376c1e9636c4993bdddfe42435d268f"
      }
     },
     "697e0264ff5448b99dbc1df91e95d08e": {
      "model_module": "jupyter-leaflet",
      "model_module_version": "2.0.0",
      "model_name": "LeafletMapStyleModel",
      "state": {
       "_view_name": "ErrorWidgetView",
       "error": {},
       "msg": "Failed to load model class 'LeafletMapStyleModel' from module 'jupyter-leaflet'"
      }
     },
     "69afca04d75542c99520d142d3b1ddf1": {
      "model_module": "@jupyter-widgets/controls",
      "model_module_version": "2.0.0",
      "model_name": "ToggleButtonModel",
      "state": {
       "button_style": "primary",
       "icon": "retweet",
       "layout": "IPY_MODEL_672a4d5d1dd34404aea616c070f23624",
       "style": "IPY_MODEL_01b8a9d6c2f44b999d34e5a9e52554de",
       "tooltip": "Convert Earth Engine JavaScript to Python"
      }
     },
     "6a7d20f8bfdf44c2885b14199c321bf4": {
      "model_module": "jupyter-leaflet",
      "model_module_version": "2.0.0",
      "model_name": "LeafletTileLayerModel",
      "state": {
       "_view_name": "ErrorWidgetView",
       "attribution": "Google",
       "error": {},
       "max_zoom": 24,
       "msg": "Failed to load model class 'LeafletTileLayerModel' from module 'jupyter-leaflet'",
       "name": "Google Maps",
       "options": [
        "attribution",
        "bounds",
        "detect_retina",
        "max_native_zoom",
        "max_zoom",
        "min_native_zoom",
        "min_zoom",
        "no_wrap",
        "tile_size",
        "tms",
        "zoom_offset"
       ],
       "url": "https://mt1.google.com/vt/lyrs=m&x={x}&y={y}&z={z}"
      }
     },
     "6b9ece18535f4d09adc316fce7a32160": {
      "model_module": "@jupyter-widgets/controls",
      "model_module_version": "2.0.0",
      "model_name": "ToggleButtonStyleModel",
      "state": {
       "description_width": "",
       "font_family": null,
       "font_size": null,
       "font_style": null,
       "font_variant": null,
       "font_weight": null,
       "text_color": null,
       "text_decoration": null
      }
     },
     "6ba3ccd08ba04c7498d951ba276b8d6b": {
      "model_module": "@jupyter-widgets/controls",
      "model_module_version": "2.0.0",
      "model_name": "DescriptionStyleModel",
      "state": {
       "description_width": ""
      }
     },
     "6bb9a5a7da914869af70806027f6a725": {
      "model_module": "@jupyter-widgets/controls",
      "model_module_version": "2.0.0",
      "model_name": "ToggleButtonModel",
      "state": {
       "icon": "wrench",
       "layout": "IPY_MODEL_ee9385239a78499d8492d54b557ddabc",
       "style": "IPY_MODEL_29af81f7d6ec4c258f7b84dd24d76b93",
       "tooltip": "Toolbar"
      }
     },
     "6c07f998c33e42e2944f59d11c9378d9": {
      "model_module": "jupyter-leaflet",
      "model_module_version": "2.0.0",
      "model_name": "LeafletTileLayerModel",
      "state": {
       "_view_name": "ErrorWidgetView",
       "attribution": "Google Earth Engine",
       "error": {},
       "max_zoom": 24,
       "msg": "Failed to load model class 'LeafletTileLayerModel' from module 'jupyter-leaflet'",
       "name": "CART regression",
       "options": [
        "attribution",
        "bounds",
        "detect_retina",
        "max_native_zoom",
        "max_zoom",
        "min_native_zoom",
        "min_zoom",
        "no_wrap",
        "tile_size",
        "tms",
        "zoom_offset"
       ],
       "url": "https://earthengine.googleapis.com/v1/projects/earthengine-legacy/maps/323fe91425e87ac86ffa93f8679e2557-df92e584d25b76ce6f0d33e6d7d99859/tiles/{z}/{x}/{y}"
      }
     },
     "6d066adef9664d89b9fcf7fb3bba9c1c": {
      "model_module": "@jupyter-widgets/controls",
      "model_module_version": "2.0.0",
      "model_name": "ToggleButtonsStyleModel",
      "state": {
       "button_width": "110px",
       "description_width": ""
      }
     },
     "6d2c226df7274cc69d278d89d51e74fb": {
      "model_module": "@jupyter-widgets/base",
      "model_module_version": "2.0.0",
      "model_name": "LayoutModel",
      "state": {}
     },
     "6d37832213bb40bc8a1f640955452341": {
      "model_module": "@jupyter-widgets/controls",
      "model_module_version": "2.0.0",
      "model_name": "ToggleButtonStyleModel",
      "state": {
       "description_width": "",
       "font_family": null,
       "font_size": null,
       "font_style": null,
       "font_variant": null,
       "font_weight": null,
       "text_color": null,
       "text_decoration": null
      }
     },
     "6d4736b0ef3b4c03b7d7f1c184556190": {
      "model_module": "jupyter-leaflet",
      "model_module_version": "2.0.0",
      "model_name": "LeafletTileLayerModel",
      "state": {
       "_view_name": "ErrorWidgetView",
       "attribution": "Google Earth Engine",
       "error": {},
       "max_zoom": 24,
       "msg": "Failed to load model class 'LeafletTileLayerModel' from module 'jupyter-leaflet'",
       "name": "RF regression",
       "options": [
        "attribution",
        "bounds",
        "detect_retina",
        "max_native_zoom",
        "max_zoom",
        "min_native_zoom",
        "min_zoom",
        "no_wrap",
        "tile_size",
        "tms",
        "zoom_offset"
       ],
       "url": "https://earthengine.googleapis.com/v1/projects/earthengine-legacy/maps/323fe91425e87ac86ffa93f8679e2557-bb4ce36b06da3b5ea22caf5710f640b8/tiles/{z}/{x}/{y}"
      }
     },
     "6d9f642b681b429ca8d60189f3f55576": {
      "model_module": "jupyter-leaflet",
      "model_module_version": "^0.18",
      "model_name": "LeafletMapStyleModel",
      "state": {
       "_model_module_version": "^0.18"
      }
     },
     "6f33199789dc4c4c940b2b60a37954fd": {
      "model_module": "@jupyter-widgets/base",
      "model_module_version": "2.0.0",
      "model_name": "LayoutModel",
      "state": {
       "height": "600px"
      }
     },
     "70157f37e4ef48ed8081fe8693b5c4c0": {
      "model_module": "jupyter-leaflet",
      "model_module_version": "2.0.0",
      "model_name": "LeafletTileLayerModel",
      "state": {
       "_view_name": "ErrorWidgetView",
       "attribution": "Google Earth Engine",
       "error": {},
       "max_zoom": 24,
       "msg": "Failed to load model class 'LeafletTileLayerModel' from module 'jupyter-leaflet'",
       "name": "SVR regression",
       "options": [
        "attribution",
        "bounds",
        "detect_retina",
        "max_native_zoom",
        "max_zoom",
        "min_native_zoom",
        "min_zoom",
        "no_wrap",
        "tile_size",
        "tms",
        "zoom_offset"
       ],
       "url": "https://earthengine.googleapis.com/v1/projects/earthengine-legacy/maps/722c0c6e8e29124129310f1e4b17dd1e-0a2a46379c393a96e5b5324cd4e41d93/tiles/{z}/{x}/{y}"
      }
     },
     "7024d0043cc94bcfbaf1e4a98e22d53a": {
      "model_module": "@jupyter-widgets/base",
      "model_module_version": "2.0.0",
      "model_name": "LayoutModel",
      "state": {}
     },
     "7064e49da42345c38c43b1934fb6a998": {
      "model_module": "@jupyter-widgets/controls",
      "model_module_version": "2.0.0",
      "model_name": "ToggleButtonStyleModel",
      "state": {
       "description_width": "",
       "font_family": null,
       "font_size": null,
       "font_style": null,
       "font_variant": null,
       "font_weight": null,
       "text_color": null,
       "text_decoration": null
      }
     },
     "720187e5ed13430db5f41adbd1f06eac": {
      "model_module": "jupyter-leaflet",
      "model_module_version": "^0.18",
      "model_name": "LeafletFullScreenControlModel",
      "state": {
       "_model_module_version": "^0.18",
       "_view_module_version": "^0.18",
       "options": [
        "position"
       ]
      }
     },
     "725694c293d345c8943ad6f7c75ce4f6": {
      "model_module": "@jupyter-widgets/controls",
      "model_module_version": "2.0.0",
      "model_name": "ToggleButtonModel",
      "state": {
       "button_style": "primary",
       "icon": "info",
       "layout": "IPY_MODEL_17b55dea7d79455e87e6e98cf9c9508b",
       "style": "IPY_MODEL_111379a8570d4e74b6c5917d118415b4",
       "tooltip": "Inspector"
      }
     },
     "72ad961c10674d19a21381bd3816e187": {
      "model_module": "@jupyter-widgets/controls",
      "model_module_version": "2.0.0",
      "model_name": "HBoxModel",
      "state": {
       "_dom_classes": [
        "geemap-light"
       ],
       "_view_count": 1,
       "children": [
        "IPY_MODEL_e7c87da27b4b49cdbbe51df68faf2165"
       ],
       "layout": "IPY_MODEL_a5cdaeb2bd4a4065b5e47a9e71414208"
      }
     },
     "734f4a4f16f1458d9f8e1748673356aa": {
      "model_module": "@jupyter-widgets/controls",
      "model_module_version": "2.0.0",
      "model_name": "ToggleButtonModel",
      "state": {
       "button_style": "primary",
       "icon": "hand-o-up",
       "layout": "IPY_MODEL_7c1b151f69024251a668dfd95e2400e7",
       "style": "IPY_MODEL_6d37832213bb40bc8a1f640955452341",
       "tooltip": "Collect training samples"
      }
     },
     "73beb891d6ad4679a36e9578de20c9f7": {
      "model_module": "jupyter-leaflet",
      "model_module_version": "^0.18",
      "model_name": "LeafletDrawControlModel",
      "state": {
       "_model_module_version": "^0.18",
       "_view_module_version": "^0.18",
       "marker": {
        "shapeOptions": {
         "color": "#3388ff"
        }
       },
       "options": [
        "position"
       ],
       "polygon": {
        "shapeOptions": {
         "clickable": true,
         "color": "#3388ff",
         "fill": true,
         "fillColor": null,
         "fillOpacity": 0.2,
         "opacity": 0.5,
         "stroke": true,
         "weight": 4
        }
       },
       "polyline": {
        "shapeOptions": {
         "clickable": true,
         "color": "#3388ff",
         "fill": false,
         "opacity": 0.5,
         "stroke": true,
         "weight": 4
        }
       },
       "rectangle": {
        "shapeOptions": {
         "clickable": true,
         "color": "#3388ff",
         "fill": true,
         "fillColor": null,
         "fillOpacity": 0.2,
         "opacity": 0.5,
         "stroke": true,
         "weight": 4
        }
       }
      }
     },
     "73d15afd625248da83219aa289a5290f": {
      "model_module": "jupyter-leaflet",
      "model_module_version": "^0.18",
      "model_name": "LeafletTileLayerModel",
      "state": {
       "_model_module_version": "^0.18",
       "_view_module_version": "^0.18",
       "attribution": "&copy; <a href=\"https://www.openstreetmap.org/copyright\">OpenStreetMap</a> contributors",
       "base": true,
       "max_zoom": 19,
       "min_zoom": 1,
       "name": "OpenStreetMap.Mapnik",
       "options": [
        "attribution",
        "bounds",
        "detect_retina",
        "max_native_zoom",
        "max_zoom",
        "min_native_zoom",
        "min_zoom",
        "no_wrap",
        "tile_size",
        "tms",
        "zoom_offset"
       ],
       "url": "https://tile.openstreetmap.org/{z}/{x}/{y}.png"
      }
     },
     "74284140afbc4d45b7633fb3f69c3754": {
      "model_module": "@jupyter-widgets/base",
      "model_module_version": "2.0.0",
      "model_name": "LayoutModel",
      "state": {
       "height": "auto",
       "padding": "0px 0px 0px 4px",
       "width": "auto"
      }
     },
     "7525e272e40c4a118f7d92c44ed3ebe8": {
      "model_module": "@jupyter-widgets/base",
      "model_module_version": "2.0.0",
      "model_name": "LayoutModel",
      "state": {
       "max_height": "350px",
       "max_width": "340px",
       "overflow": "scroll"
      }
     },
     "755fd61eac694cbb99a7735dd390ad6b": {
      "model_module": "ipyevents",
      "model_module_version": "2.0.2",
      "model_name": "EventModel",
      "state": {
       "_supported_key_events": [
        "keydown",
        "keyup"
       ],
       "_supported_mouse_events": [
        "click",
        "auxclick",
        "dblclick",
        "mouseenter",
        "mouseleave",
        "mousedown",
        "mouseup",
        "mousemove",
        "wheel",
        "contextmenu",
        "dragstart",
        "drag",
        "dragend",
        "dragenter",
        "dragover",
        "dragleave",
        "drop"
       ],
       "_supported_touch_events": [
        "touchstart",
        "touchend",
        "touchmove",
        "touchcancel"
       ],
       "_view_module": "@jupyter-widgets/controls",
       "source": "IPY_MODEL_8e95add447cf4ae495043a712c37d683",
       "throttle_or_debounce": "",
       "watched_events": [
        "mouseenter",
        "mouseleave"
       ],
       "xy_coordinate_system": ""
      }
     },
     "75a0fed794894fb9aed9e7cc44655708": {
      "model_module": "jupyter-leaflet",
      "model_module_version": "^0.18",
      "model_name": "LeafletWidgetControlModel",
      "state": {
       "_model_module": "jupyter-leaflet",
       "_model_module_version": "^0.18",
       "_view_count": null,
       "_view_module": "jupyter-leaflet",
       "_view_module_version": "^0.18",
       "options": [
        "position",
        "transparent_bg"
       ],
       "position": "topleft",
       "widget": "IPY_MODEL_5c2daa16986f47068068ec83dcf01ac6"
      }
     },
     "75cc18c9799640de86ff58da1e3e6240": {
      "model_module": "@jupyter-widgets/controls",
      "model_module_version": "2.0.0",
      "model_name": "GridBoxModel",
      "state": {
       "children": [
        "IPY_MODEL_eb303c89bdba4a06864d2708af681f3f",
        "IPY_MODEL_22bcf317e1684a5093e99a9dd51805c9",
        "IPY_MODEL_49ed6e532d26486aba8022998c23c145",
        "IPY_MODEL_ea988a61fda34480b7bf92b8c43675b1",
        "IPY_MODEL_ee9ccc6d74c34f6f8a90967e2244780f",
        "IPY_MODEL_266ce5794b6b4b1f8870f0c736088ed8"
       ],
       "layout": "IPY_MODEL_115980c0d08b4b0e88affe6906eb61e4"
      }
     },
     "7622d218701e4ece9ec601947238e117": {
      "model_module": "@jupyter-widgets/controls",
      "model_module_version": "2.0.0",
      "model_name": "ToggleButtonStyleModel",
      "state": {
       "description_width": "",
       "font_family": null,
       "font_size": null,
       "font_style": null,
       "font_variant": null,
       "font_weight": null,
       "text_color": null,
       "text_decoration": null
      }
     },
     "76a34575cf8f40dc8c3079cfb9d54eba": {
      "model_module": "jupyter-leaflet",
      "model_module_version": "2.0.0",
      "model_name": "LeafletTileLayerModel",
      "state": {
       "_view_name": "ErrorWidgetView",
       "attribution": "Google",
       "error": {},
       "max_zoom": 24,
       "msg": "Failed to load model class 'LeafletTileLayerModel' from module 'jupyter-leaflet'",
       "name": "Google Maps",
       "options": [
        "attribution",
        "bounds",
        "detect_retina",
        "max_native_zoom",
        "max_zoom",
        "min_native_zoom",
        "min_zoom",
        "no_wrap",
        "tile_size",
        "tms",
        "zoom_offset"
       ],
       "url": "https://mt1.google.com/vt/lyrs=m&x={x}&y={y}&z={z}"
      }
     },
     "7713a0f8882f4b86b896225a81f4bbbd": {
      "model_module": "@jupyter-widgets/controls",
      "model_module_version": "2.0.0",
      "model_name": "ToggleButtonStyleModel",
      "state": {
       "description_width": "",
       "font_family": null,
       "font_size": null,
       "font_style": null,
       "font_variant": null,
       "font_weight": null,
       "text_color": null,
       "text_decoration": null
      }
     },
     "7729d1eec72a43669faaf898fd20bc84": {
      "model_module": "@jupyter-widgets/controls",
      "model_module_version": "2.0.0",
      "model_name": "ToggleButtonStyleModel",
      "state": {
       "description_width": "",
       "font_family": null,
       "font_size": null,
       "font_style": null,
       "font_variant": null,
       "font_weight": null,
       "text_color": null,
       "text_decoration": null
      }
     },
     "77a0731b6d4e499187297c253695a72e": {
      "model_module": "@jupyter-widgets/base",
      "model_module_version": "2.0.0",
      "model_name": "LayoutModel",
      "state": {}
     },
     "78a1bf9e8f9a48c39cf23a8bcad0594d": {
      "model_module": "@jupyter-widgets/controls",
      "model_module_version": "2.0.0",
      "model_name": "ToggleButtonStyleModel",
      "state": {
       "description_width": "",
       "font_family": null,
       "font_size": null,
       "font_style": null,
       "font_variant": null,
       "font_weight": null,
       "text_color": null,
       "text_decoration": null
      }
     },
     "793ccdae7855431c9a8fcf1a443d9a12": {
      "model_module": "@jupyter-widgets/controls",
      "model_module_version": "2.0.0",
      "model_name": "ButtonStyleModel",
      "state": {
       "font_family": null,
       "font_size": null,
       "font_style": null,
       "font_variant": null,
       "font_weight": null,
       "text_color": null,
       "text_decoration": null
      }
     },
     "793fb33a3b27465b9759474a6357ecd6": {
      "model_module": "@jupyter-widgets/base",
      "model_module_version": "2.0.0",
      "model_name": "LayoutModel",
      "state": {}
     },
     "799d58540ede4da5b878a2776fded8fc": {
      "model_module": "jupyter-leaflet",
      "model_module_version": "2.0.0",
      "model_name": "LeafletFullScreenControlModel",
      "state": {
       "_view_name": "ErrorWidgetView",
       "error": {},
       "msg": "Failed to load model class 'LeafletFullScreenControlModel' from module 'jupyter-leaflet'",
       "options": [
        "position"
       ]
      }
     },
     "7a1cd398dfbf423894c318f4aad8c3e4": {
      "model_module": "@jupyter-widgets/controls",
      "model_module_version": "2.0.0",
      "model_name": "ToggleButtonStyleModel",
      "state": {
       "description_width": "",
       "font_family": null,
       "font_size": null,
       "font_style": null,
       "font_variant": null,
       "font_weight": null,
       "text_color": null,
       "text_decoration": null
      }
     },
     "7b86384275cb401f8b7b61ba92fdc50e": {
      "model_module": "jupyter-leaflet",
      "model_module_version": "2.0.0",
      "model_name": "LeafletMeasureControlModel",
      "state": {
       "_view_name": "ErrorWidgetView",
       "active_color": "orange",
       "error": {},
       "msg": "Failed to load model class 'LeafletMeasureControlModel' from module 'jupyter-leaflet'",
       "options": [
        "active_color",
        "capture_z_index",
        "completed_color",
        "popup_options",
        "position",
        "primary_area_unit",
        "primary_length_unit",
        "secondary_area_unit",
        "secondary_length_unit"
       ],
       "position": "bottomleft",
       "primary_length_unit": "kilometers",
       "secondary_area_unit": null,
       "secondary_length_unit": null
      }
     },
     "7c1b151f69024251a668dfd95e2400e7": {
      "model_module": "@jupyter-widgets/base",
      "model_module_version": "2.0.0",
      "model_name": "LayoutModel",
      "state": {
       "height": "auto",
       "padding": "0px 0px 0px 4px",
       "width": "auto"
      }
     },
     "7d8d8139b3b44cedb2c60671f917f8be": {
      "model_module": "@jupyter-widgets/controls",
      "model_module_version": "2.0.0",
      "model_name": "HTMLStyleModel",
      "state": {
       "description_width": "",
       "font_size": null,
       "text_color": null
      }
     },
     "7e2e44e491b64c86b835ac089a2ea582": {
      "model_module": "@jupyter-widgets/controls",
      "model_module_version": "2.0.0",
      "model_name": "ToggleButtonModel",
      "state": {
       "button_style": "primary",
       "icon": "retweet",
       "layout": "IPY_MODEL_86e43de6c4bd4c9c99dc1601369026f1",
       "style": "IPY_MODEL_d737bc96b0bf40d4aba65501e38c0f90",
       "tooltip": "Convert Earth Engine JavaScript to Python"
      }
     },
     "7e57bc834b94455a82bc38e23679916a": {
      "model_module": "@jupyter-widgets/controls",
      "model_module_version": "2.0.0",
      "model_name": "ToggleButtonStyleModel",
      "state": {
       "description_width": "",
       "font_family": null,
       "font_size": null,
       "font_style": null,
       "font_variant": null,
       "font_weight": null,
       "text_color": null,
       "text_decoration": null
      }
     },
     "7e69cc076cf44d1abe98849b5d97019c": {
      "model_module": "jupyter-leaflet",
      "model_module_version": "2.0.0",
      "model_name": "LeafletMapStyleModel",
      "state": {
       "_view_name": "ErrorWidgetView",
       "error": {},
       "msg": "Failed to load model class 'LeafletMapStyleModel' from module 'jupyter-leaflet'"
      }
     },
     "7fd277a1943b465d9d52276d817c9dc9": {
      "model_module": "@jupyter-widgets/base",
      "model_module_version": "2.0.0",
      "model_name": "LayoutModel",
      "state": {}
     },
     "80245808bf7d45c681e77ca7a02fc42f": {
      "model_module": "@jupyter-widgets/controls",
      "model_module_version": "2.0.0",
      "model_name": "TextModel",
      "state": {
       "layout": "IPY_MODEL_d3868b40731e4b69b29fac18f7eead6e",
       "placeholder": "Search by place name or address",
       "style": "IPY_MODEL_19e742efc3c7469b92036f88694a83ed",
       "tooltip": "Search location"
      }
     },
     "8095bfa48f3e48ae86a8a23e88a2a9fb": {
      "model_module": "jupyter-leaflet",
      "model_module_version": "2.0.0",
      "model_name": "LeafletMapStyleModel",
      "state": {
       "_view_name": "ErrorWidgetView",
       "error": {},
       "msg": "Failed to load model class 'LeafletMapStyleModel' from module 'jupyter-leaflet'"
      }
     },
     "80feb3f5874a456c907e5803a872521a": {
      "model_module": "@jupyter-widgets/base",
      "model_module_version": "2.0.0",
      "model_name": "LayoutModel",
      "state": {}
     },
     "8103f7ebf3ea4f1eb671357af152e52f": {
      "model_module": "@jupyter-widgets/base",
      "model_module_version": "2.0.0",
      "model_name": "LayoutModel",
      "state": {}
     },
     "823a4ecf4b65427b8020f931b6d0350b": {
      "model_module": "jupyter-leaflet",
      "model_module_version": "2.0.0",
      "model_name": "LeafletMeasureControlModel",
      "state": {
       "_view_name": "ErrorWidgetView",
       "active_color": "orange",
       "error": {},
       "msg": "Failed to load model class 'LeafletMeasureControlModel' from module 'jupyter-leaflet'",
       "options": [
        "active_color",
        "capture_z_index",
        "completed_color",
        "popup_options",
        "position",
        "primary_area_unit",
        "primary_length_unit",
        "secondary_area_unit",
        "secondary_length_unit"
       ],
       "position": "bottomleft",
       "primary_length_unit": "kilometers",
       "secondary_area_unit": null,
       "secondary_length_unit": null
      }
     },
     "823ece93441c476aaf81d55fe51f65f1": {
      "model_module": "jupyter-leaflet",
      "model_module_version": "2.0.0",
      "model_name": "LeafletAttributionControlModel",
      "state": {
       "_view_name": "ErrorWidgetView",
       "error": {},
       "msg": "Failed to load model class 'LeafletAttributionControlModel' from module 'jupyter-leaflet'",
       "options": [
        "position",
        "prefix"
       ],
       "position": "bottomright",
       "prefix": "ipyleaflet"
      }
     },
     "8263e50062ef4d0d89ade4cdf986411d": {
      "model_module": "jupyter-leaflet",
      "model_module_version": "2.0.0",
      "model_name": "LeafletWidgetControlModel",
      "state": {
       "_model_module": "jupyter-leaflet",
       "_view_name": "ErrorWidgetView",
       "error": {},
       "msg": "Failed to load model class 'LeafletWidgetControlModel' from module 'jupyter-leaflet'",
       "options": [
        "position",
        "transparent_bg"
       ],
       "position": "topright",
       "widget": "IPY_MODEL_c6a3a311d68e4ea28d605f85a35d8b18"
      }
     },
     "8293b6ab7cee46c7b13203c4b682874d": {
      "model_module": "@jupyter-widgets/base",
      "model_module_version": "2.0.0",
      "model_name": "LayoutModel",
      "state": {
       "height": "600px"
      }
     },
     "82aeda7fcabc4b87aeddc375d49b798a": {
      "model_module": "@jupyter-widgets/base",
      "model_module_version": "2.0.0",
      "model_name": "LayoutModel",
      "state": {
       "max_width": "57px",
       "min_width": "57px"
      }
     },
     "84abcf7daf1c4b3792cc5d9f81ae5a83": {
      "model_module": "@jupyter-widgets/controls",
      "model_module_version": "2.0.0",
      "model_name": "TextStyleModel",
      "state": {
       "description_width": "",
       "font_size": null,
       "text_color": null
      }
     },
     "84dc0884a1a34c5590d4a141b5efd723": {
      "model_module": "jupyter-leaflet",
      "model_module_version": "2.0.0",
      "model_name": "LeafletTileLayerModel",
      "state": {
       "_view_name": "ErrorWidgetView",
       "attribution": "Google",
       "error": {},
       "max_zoom": 24,
       "msg": "Failed to load model class 'LeafletTileLayerModel' from module 'jupyter-leaflet'",
       "name": "Google Maps",
       "options": [
        "attribution",
        "bounds",
        "detect_retina",
        "max_native_zoom",
        "max_zoom",
        "min_native_zoom",
        "min_zoom",
        "no_wrap",
        "tile_size",
        "tms",
        "zoom_offset"
       ],
       "url": "https://mt1.google.com/vt/lyrs=m&x={x}&y={y}&z={z}"
      }
     },
     "855f8f9f48324d38a6432c4a829eb724": {
      "model_module": "@jupyter-widgets/controls",
      "model_module_version": "2.0.0",
      "model_name": "ToggleButtonModel",
      "state": {
       "button_style": "primary",
       "icon": "folder-open",
       "layout": "IPY_MODEL_f28857f6b7f44050b52cc6415630982b",
       "style": "IPY_MODEL_f0117742c8db44cf9add35e27b3f4f6d",
       "tooltip": "Open local vector/raster data"
      }
     },
     "859950779d044fd490d9d7ccac6e3ee4": {
      "model_module": "@jupyter-widgets/base",
      "model_module_version": "2.0.0",
      "model_name": "LayoutModel",
      "state": {
       "max_width": "279px",
       "min_width": "279px"
      }
     },
     "868999ad61454448a123d1b23a5ac061": {
      "model_module": "@jupyter-widgets/controls",
      "model_module_version": "2.0.0",
      "model_name": "VBoxModel",
      "state": {
       "children": [
        "IPY_MODEL_e38092761e4d47d3a41df1d82a0e82b7",
        "IPY_MODEL_c28c9da0a90e44f4aef0b7bc13e4862d"
       ],
       "layout": "IPY_MODEL_fc74d8f022504cc28df2096b4d68da46"
      }
     },
     "86e43de6c4bd4c9c99dc1601369026f1": {
      "model_module": "@jupyter-widgets/base",
      "model_module_version": "2.0.0",
      "model_name": "LayoutModel",
      "state": {
       "height": "auto",
       "padding": "0px 0px 0px 4px",
       "width": "auto"
      }
     },
     "86eb2fdbd9c2412ea262d65389a3be44": {
      "model_module": "@jupyter-widgets/base",
      "model_module_version": "2.0.0",
      "model_name": "LayoutModel",
      "state": {}
     },
     "87a6b73b69b7461bad239ab8a6ef74b8": {
      "model_module": "jupyter-leaflet",
      "model_module_version": "2.0.0",
      "model_name": "LeafletMapStyleModel",
      "state": {
       "_view_name": "ErrorWidgetView",
       "cursor": "move",
       "error": {},
       "msg": "Failed to load model class 'LeafletMapStyleModel' from module 'jupyter-leaflet'"
      }
     },
     "88f18f7f445149c3bdea1d7875c1f029": {
      "model_module": "@jupyter-widgets/controls",
      "model_module_version": "2.0.0",
      "model_name": "ToggleButtonModel",
      "state": {
       "button_style": "primary",
       "icon": "adjust",
       "layout": "IPY_MODEL_e725059c1ead46ccb1017035e801883a",
       "style": "IPY_MODEL_3d40bad5d44743b8a1a9d6acf3237742",
       "tooltip": "Planet imagery"
      }
     },
     "89c6316bfc7442c899274aeb617dfa5e": {
      "model_module": "jupyter-leaflet",
      "model_module_version": "^0.18",
      "model_name": "LeafletFullScreenControlModel",
      "state": {
       "_model_module_version": "^0.18",
       "_view_module_version": "^0.18",
       "options": [
        "position"
       ]
      }
     },
     "8a92d2774cf54e5c866f9ef00b9791eb": {
      "model_module": "@jupyter-widgets/base",
      "model_module_version": "2.0.0",
      "model_name": "LayoutModel",
      "state": {
       "height": "28px",
       "padding": "0px 0px 0px 4px",
       "width": "28px"
      }
     },
     "8bb980d018a84ee09e09aa94a2fa5344": {
      "model_module": "@jupyter-widgets/controls",
      "model_module_version": "2.0.0",
      "model_name": "ToggleButtonStyleModel",
      "state": {
       "description_width": "",
       "font_family": null,
       "font_size": null,
       "font_style": null,
       "font_variant": null,
       "font_weight": null,
       "text_color": null,
       "text_decoration": null
      }
     },
     "8bd4507b1efb4cca82ff979026176feb": {
      "model_module": "@jupyter-widgets/controls",
      "model_module_version": "2.0.0",
      "model_name": "VBoxModel",
      "state": {
       "children": [
        "IPY_MODEL_24aa6b2e10d546a692b2974b35dc3d25"
       ],
       "layout": "IPY_MODEL_a79b660b0c1545c5b93114dc8a0bebfe"
      }
     },
     "8d31bf6f4e1e402db1132970eb78e0db": {
      "model_module": "@jupyter-widgets/controls",
      "model_module_version": "2.0.0",
      "model_name": "ToggleButtonStyleModel",
      "state": {
       "description_width": "",
       "font_family": null,
       "font_size": null,
       "font_style": null,
       "font_variant": null,
       "font_weight": null,
       "text_color": null,
       "text_decoration": null
      }
     },
     "8dee99825c614aa287a386e56d8daeeb": {
      "model_module": "@jupyter-widgets/controls",
      "model_module_version": "2.0.0",
      "model_name": "ToggleButtonStyleModel",
      "state": {
       "description_width": "",
       "font_family": null,
       "font_size": null,
       "font_style": null,
       "font_variant": null,
       "font_weight": null,
       "text_color": null,
       "text_decoration": null
      }
     },
     "8df8c0a9002245e681ab0187742a1cd3": {
      "model_module": "jupyter-leaflet",
      "model_module_version": "^0.18",
      "model_name": "LeafletWidgetControlModel",
      "state": {
       "_model_module": "jupyter-leaflet",
       "_model_module_version": "^0.18",
       "_view_count": null,
       "_view_module": "jupyter-leaflet",
       "_view_module_version": "^0.18",
       "options": [
        "position",
        "transparent_bg"
       ],
       "position": "topleft",
       "widget": "IPY_MODEL_d75d2270b39e4f67b8ada156f26e2455"
      }
     },
     "8e16b02918e348cd90c8d8d985ed7678": {
      "model_module": "@jupyter-widgets/controls",
      "model_module_version": "2.0.0",
      "model_name": "ToggleButtonModel",
      "state": {
       "button_style": "primary",
       "icon": "gears",
       "layout": "IPY_MODEL_cb2d0a5b84ff4910a8fb3c644427d016",
       "style": "IPY_MODEL_78a1bf9e8f9a48c39cf23a8bcad0594d",
       "tooltip": "WhiteboxTools for local geoprocessing"
      }
     },
     "8e1f91934dc34c7da56b792329a58245": {
      "model_module": "jupyter-leaflet",
      "model_module_version": "^0.18",
      "model_name": "LeafletMapStyleModel",
      "state": {
       "_model_module_version": "^0.18",
       "cursor": "move"
      }
     },
     "8e803a8a32c8451b93a2437af8af00d3": {
      "model_module": "ipyevents",
      "model_module_version": "2.0.2",
      "model_name": "EventModel",
      "state": {
       "_supported_key_events": [
        "keydown",
        "keyup"
       ],
       "_supported_mouse_events": [
        "click",
        "auxclick",
        "dblclick",
        "mouseenter",
        "mouseleave",
        "mousedown",
        "mouseup",
        "mousemove",
        "wheel",
        "contextmenu",
        "dragstart",
        "drag",
        "dragend",
        "dragenter",
        "dragover",
        "dragleave",
        "drop"
       ],
       "_supported_touch_events": [
        "touchstart",
        "touchend",
        "touchmove",
        "touchcancel"
       ],
       "_view_module": "@jupyter-widgets/controls",
       "source": "IPY_MODEL_bc41e7afe8d741b19c02dd34642238d1",
       "throttle_or_debounce": "",
       "watched_events": [
        "mouseenter",
        "mouseleave"
       ],
       "xy_coordinate_system": ""
      }
     },
     "8e84e07e59e24ed89c128b99df5eaabd": {
      "model_module": "@jupyter-widgets/controls",
      "model_module_version": "2.0.0",
      "model_name": "ToggleButtonModel",
      "state": {
       "icon": "globe",
       "layout": "IPY_MODEL_ba95011d05de47ed86e8aa928724c5c1",
       "style": "IPY_MODEL_f4a9dd254a3b49b1aafc2ac2de9deaab",
       "tooltip": "Search location/data"
      }
     },
     "8e95add447cf4ae495043a712c37d683": {
      "model_module": "@jupyter-widgets/controls",
      "model_module_version": "2.0.0",
      "model_name": "VBoxModel",
      "state": {
       "_dom_classes": [
        "geemap-light"
       ],
       "_view_count": 1,
       "children": [
        "IPY_MODEL_6bb9a5a7da914869af70806027f6a725"
       ],
       "layout": "IPY_MODEL_e234c973dccc408cbb8d22eb9a3ed665"
      }
     },
     "8e95f1ae38ed4bfc8052aefb06e99079": {
      "model_module": "jupyter-leaflet",
      "model_module_version": "2.0.0",
      "model_name": "LeafletMapStyleModel",
      "state": {
       "_view_name": "ErrorWidgetView",
       "cursor": "move",
       "error": {},
       "msg": "Failed to load model class 'LeafletMapStyleModel' from module 'jupyter-leaflet'"
      }
     },
     "8f54c017205c4391a414cfa1562d1197": {
      "model_module": "@jupyter-widgets/controls",
      "model_module_version": "2.0.0",
      "model_name": "TextModel",
      "state": {
       "layout": "IPY_MODEL_ba63410865e944f08ffb253299f53ecf",
       "placeholder": "Search by place name or address",
       "style": "IPY_MODEL_2324ec4639794b3eba57d10033fe2e4b",
       "tooltip": "Search location"
      }
     },
     "9027a7b5ed8b42dfa8080ecf1f101e0f": {
      "model_module": "@jupyter-widgets/controls",
      "model_module_version": "2.0.0",
      "model_name": "ToggleButtonStyleModel",
      "state": {
       "description_width": "",
       "font_family": null,
       "font_size": null,
       "font_style": null,
       "font_variant": null,
       "font_weight": null,
       "text_color": null,
       "text_decoration": null
      }
     },
     "905c7245af4448b0adbe212e30f7afa3": {
      "model_module": "@jupyter-widgets/base",
      "model_module_version": "2.0.0",
      "model_name": "LayoutModel",
      "state": {
       "height": "auto",
       "padding": "0px 0px 0px 4px",
       "width": "auto"
      }
     },
     "91057e5ff21c423d8b372eb411f0cfd0": {
      "model_module": "@jupyter-widgets/controls",
      "model_module_version": "2.0.0",
      "model_name": "VBoxModel",
      "state": {
       "_dom_classes": [
        "geemap-light"
       ],
       "_view_count": 1,
       "children": [
        "IPY_MODEL_a4af7a00be3145b9a8ec77ab6bec35b6"
       ],
       "layout": "IPY_MODEL_6d2c226df7274cc69d278d89d51e74fb"
      }
     },
     "9158d0f1e182468da68fde19c7c8112c": {
      "model_module": "jupyter-leaflet",
      "model_module_version": "2.0.0",
      "model_name": "LeafletWidgetControlModel",
      "state": {
       "_model_module": "jupyter-leaflet",
       "_view_name": "ErrorWidgetView",
       "error": {},
       "msg": "Failed to load model class 'LeafletWidgetControlModel' from module 'jupyter-leaflet'",
       "options": [
        "position",
        "transparent_bg"
       ],
       "position": "topright",
       "widget": "IPY_MODEL_0dfda6d40294476e98272678b7e53a2b"
      }
     },
     "91692f8116154a438a4da0bdb9e219eb": {
      "model_module": "jupyter-leaflet",
      "model_module_version": "2.0.0",
      "model_name": "LeafletWidgetControlModel",
      "state": {
       "_model_module": "jupyter-leaflet",
       "_view_name": "ErrorWidgetView",
       "error": {},
       "msg": "Failed to load model class 'LeafletWidgetControlModel' from module 'jupyter-leaflet'",
       "options": [
        "position",
        "transparent_bg"
       ],
       "position": "topleft",
       "widget": "IPY_MODEL_f18d546a875e4ab8af9d2afeb45023ed"
      }
     },
     "919bfc6218eb4daf94d708acfd1335a4": {
      "model_module": "jupyter-leaflet",
      "model_module_version": "2.0.0",
      "model_name": "LeafletAttributionControlModel",
      "state": {
       "_view_name": "ErrorWidgetView",
       "error": {},
       "msg": "Failed to load model class 'LeafletAttributionControlModel' from module 'jupyter-leaflet'",
       "options": [
        "position",
        "prefix"
       ],
       "position": "bottomright",
       "prefix": "ipyleaflet"
      }
     },
     "9278b34277f348678b90c7fb5c8e33ee": {
      "model_module": "@jupyter-widgets/controls",
      "model_module_version": "2.0.0",
      "model_name": "ToggleButtonStyleModel",
      "state": {
       "description_width": "",
       "font_family": null,
       "font_size": null,
       "font_style": null,
       "font_variant": null,
       "font_weight": null,
       "text_color": null,
       "text_decoration": null
      }
     },
     "936a9408ebb444fd9f605c170ddcc184": {
      "model_module": "@jupyter-widgets/controls",
      "model_module_version": "2.0.0",
      "model_name": "VBoxModel",
      "state": {
       "children": [
        "IPY_MODEL_c84315aa0d834895be67d3f72c1b6df6",
        "IPY_MODEL_8f54c017205c4391a414cfa1562d1197"
       ],
       "layout": "IPY_MODEL_bd77df7ebb4c42cb8594f25c98a2d13d"
      }
     },
     "9409ef001dbe4e7da4054b1028135840": {
      "model_module": "@jupyter-widgets/base",
      "model_module_version": "2.0.0",
      "model_name": "LayoutModel",
      "state": {
       "height": "auto",
       "padding": "0px 0px 0px 4px",
       "width": "auto"
      }
     },
     "94277caa1f2142ed8fe3b3cbf008ab3c": {
      "model_module": "jupyter-leaflet",
      "model_module_version": "^0.18",
      "model_name": "LeafletMapStyleModel",
      "state": {
       "_model_module_version": "^0.18"
      }
     },
     "948c7868419f45fb9219cc4e24376234": {
      "model_module": "@jupyter-widgets/base",
      "model_module_version": "2.0.0",
      "model_name": "LayoutModel",
      "state": {
       "height": "auto",
       "padding": "0px 0px 0px 4px",
       "width": "auto"
      }
     },
     "94ef8a148b4443ab9335f54ff98a28f5": {
      "model_module": "@jupyter-widgets/base",
      "model_module_version": "2.0.0",
      "model_name": "LayoutModel",
      "state": {
       "height": "auto",
       "padding": "0px 0px 0px 4px",
       "width": "auto"
      }
     },
     "959625cb8b3c4c90afdc89156f3671b2": {
      "model_module": "@jupyter-widgets/base",
      "model_module_version": "2.0.0",
      "model_name": "LayoutModel",
      "state": {
       "height": "auto",
       "padding": "0px 0px 0px 4px",
       "width": "auto"
      }
     },
     "95ebeaf4f1f0417ca6942813a40634d4": {
      "model_module": "ipyevents",
      "model_module_version": "2.0.2",
      "model_name": "EventModel",
      "state": {
       "_supported_key_events": [
        "keydown",
        "keyup"
       ],
       "_supported_mouse_events": [
        "click",
        "auxclick",
        "dblclick",
        "mouseenter",
        "mouseleave",
        "mousedown",
        "mouseup",
        "mousemove",
        "wheel",
        "contextmenu",
        "dragstart",
        "drag",
        "dragend",
        "dragenter",
        "dragover",
        "dragleave",
        "drop"
       ],
       "_supported_touch_events": [
        "touchstart",
        "touchend",
        "touchmove",
        "touchcancel"
       ],
       "_view_module": "@jupyter-widgets/controls",
       "source": "IPY_MODEL_d75d2270b39e4f67b8ada156f26e2455",
       "throttle_or_debounce": "",
       "watched_events": [
        "mouseenter",
        "mouseleave"
       ],
       "xy_coordinate_system": ""
      }
     },
     "965f4361a7444fae93936f92ab3d9b92": {
      "model_module": "@jupyter-widgets/controls",
      "model_module_version": "2.0.0",
      "model_name": "ToggleButtonStyleModel",
      "state": {
       "description_width": "",
       "font_family": null,
       "font_size": null,
       "font_style": null,
       "font_variant": null,
       "font_weight": null,
       "text_color": null,
       "text_decoration": null
      }
     },
     "9667a9ede4514dfc891af5d21b801e35": {
      "model_module": "ipyevents",
      "model_module_version": "2.0.2",
      "model_name": "EventModel",
      "state": {
       "_supported_key_events": [
        "keydown",
        "keyup"
       ],
       "_supported_mouse_events": [
        "click",
        "auxclick",
        "dblclick",
        "mouseenter",
        "mouseleave",
        "mousedown",
        "mouseup",
        "mousemove",
        "wheel",
        "contextmenu",
        "dragstart",
        "drag",
        "dragend",
        "dragenter",
        "dragover",
        "dragleave",
        "drop"
       ],
       "_supported_touch_events": [
        "touchstart",
        "touchend",
        "touchmove",
        "touchcancel"
       ],
       "_view_module": "@jupyter-widgets/controls",
       "source": "IPY_MODEL_d24110bd642b491f84604cb231822078",
       "throttle_or_debounce": "",
       "watched_events": [
        "mouseenter",
        "mouseleave"
       ],
       "xy_coordinate_system": ""
      }
     },
     "96e2f3b5be434b58b90ae9f57faaae4c": {
      "model_module": "@jupyter-widgets/controls",
      "model_module_version": "2.0.0",
      "model_name": "ToggleButtonModel",
      "state": {
       "icon": "server",
       "layout": "IPY_MODEL_a00d123533c149d7b711f22afd06b612",
       "style": "IPY_MODEL_490014e10323495f8ecddf95ed55aec2",
       "tooltip": "Layers"
      }
     },
     "971cdf7283ec4dd19f6a3b23c41f14e8": {
      "model_module": "jupyter-leaflet",
      "model_module_version": "2.0.0",
      "model_name": "LeafletMeasureControlModel",
      "state": {
       "_view_name": "ErrorWidgetView",
       "active_color": "orange",
       "error": {},
       "msg": "Failed to load model class 'LeafletMeasureControlModel' from module 'jupyter-leaflet'",
       "options": [
        "active_color",
        "capture_z_index",
        "completed_color",
        "popup_options",
        "position",
        "primary_area_unit",
        "primary_length_unit",
        "secondary_area_unit",
        "secondary_length_unit"
       ],
       "position": "bottomleft",
       "primary_length_unit": "kilometers",
       "secondary_area_unit": null,
       "secondary_length_unit": null
      }
     },
     "9756b5cb474e44398b35fec073c20274": {
      "model_module": "@jupyter-widgets/controls",
      "model_module_version": "2.0.0",
      "model_name": "HBoxModel",
      "state": {
       "children": [
        "IPY_MODEL_0e444970732a433cb0f633c388936187",
        "IPY_MODEL_32bac1f3e2124b2d9233ced9335a914d"
       ],
       "layout": "IPY_MODEL_86eb2fdbd9c2412ea262d65389a3be44"
      }
     },
     "977db76f05c4462f8ec05973c75b72db": {
      "model_module": "jupyter-leaflet",
      "model_module_version": "2.0.0",
      "model_name": "LeafletScaleControlModel",
      "state": {
       "_view_name": "ErrorWidgetView",
       "error": {},
       "imperial": true,
       "max_width": 100,
       "metric": true,
       "msg": "Failed to load model class 'LeafletScaleControlModel' from module 'jupyter-leaflet'",
       "options": [
        "imperial",
        "max_width",
        "metric",
        "position",
        "update_when_idle"
       ],
       "position": "bottomleft",
       "update_when_idle": false
      }
     },
     "97f4a2cbfc014aac859d0f48b76d2b2e": {
      "model_module": "@jupyter-widgets/base",
      "model_module_version": "2.0.0",
      "model_name": "LayoutModel",
      "state": {
       "height": "auto",
       "padding": "0px 0px 0px 4px",
       "width": "auto"
      }
     },
     "98374cdfc25f4aea8b4e3eb081cbf0de": {
      "model_module": "@jupyter-widgets/controls",
      "model_module_version": "2.0.0",
      "model_name": "ToggleButtonModel",
      "state": {
       "icon": "server",
       "layout": "IPY_MODEL_cb8d0797c1b149c1bf0964d5e2a1ae52",
       "style": "IPY_MODEL_131417b10ee44974853458b584fef8b3",
       "tooltip": "Layers"
      }
     },
     "987cc1e739144112b3aeb557ab373a7d": {
      "model_module": "jupyter-leaflet",
      "model_module_version": "2.0.0",
      "model_name": "LeafletZoomControlModel",
      "state": {
       "_view_name": "ErrorWidgetView",
       "error": {},
       "msg": "Failed to load model class 'LeafletZoomControlModel' from module 'jupyter-leaflet'",
       "options": [
        "position",
        "zoom_in_text",
        "zoom_in_title",
        "zoom_out_text",
        "zoom_out_title"
       ]
      }
     },
     "99fcec5e317447ad8b0ff0e777fdf764": {
      "model_module": "@jupyter-widgets/base",
      "model_module_version": "2.0.0",
      "model_name": "LayoutModel",
      "state": {
       "height": "auto",
       "padding": "0px 0px 0px 4px",
       "width": "auto"
      }
     },
     "9a890ddb9787416faba790eae8b70b7b": {
      "model_module": "@jupyter-widgets/controls",
      "model_module_version": "2.0.0",
      "model_name": "ToggleButtonStyleModel",
      "state": {
       "description_width": "",
       "font_family": null,
       "font_size": null,
       "font_style": null,
       "font_variant": null,
       "font_weight": null,
       "text_color": null,
       "text_decoration": null
      }
     },
     "9ad66765e403455eae7be850d92b94d2": {
      "model_module": "@jupyter-widgets/base",
      "model_module_version": "2.0.0",
      "model_name": "LayoutModel",
      "state": {
       "height": "auto",
       "padding": "0px 0px 0px 4px",
       "width": "auto"
      }
     },
     "9b20d9195f074ab1964ec9aade5d0f18": {
      "model_module": "@jupyter-widgets/controls",
      "model_module_version": "2.0.0",
      "model_name": "ToggleButtonsStyleModel",
      "state": {
       "button_width": "110px",
       "description_width": ""
      }
     },
     "9bd3e791621e48c0b932f6368e8c9193": {
      "model_module": "@jupyter-widgets/base",
      "model_module_version": "2.0.0",
      "model_name": "LayoutModel",
      "state": {
       "max_height": "350px",
       "max_width": "340px",
       "overflow": "scroll"
      }
     },
     "9c123062f2eb472b862788b48442678e": {
      "model_module": "@jupyter-widgets/controls",
      "model_module_version": "2.0.0",
      "model_name": "HTMLStyleModel",
      "state": {
       "description_width": "",
       "font_size": null,
       "text_color": null
      }
     },
     "9c57643d215447578e854cd18cdf84eb": {
      "model_module": "jupyter-leaflet",
      "model_module_version": "^0.18",
      "model_name": "LeafletScaleControlModel",
      "state": {
       "_model_module_version": "^0.18",
       "_view_module_version": "^0.18",
       "imperial": true,
       "max_width": 100,
       "metric": true,
       "options": [
        "imperial",
        "max_width",
        "metric",
        "position",
        "update_when_idle"
       ],
       "position": "bottomleft",
       "update_when_idle": false
      }
     },
     "9cbc66f7298f42c1b0aeab1744642480": {
      "model_module": "@jupyter-widgets/controls",
      "model_module_version": "2.0.0",
      "model_name": "ToggleButtonsStyleModel",
      "state": {
       "button_width": "110px",
       "description_width": ""
      }
     },
     "9d0b4febffb046ec8f7458a6eaf81e4b": {
      "model_module": "@jupyter-widgets/output",
      "model_module_version": "1.0.0",
      "model_name": "OutputModel",
      "state": {
       "layout": "IPY_MODEL_5a76ae3e0fe244fc8804ee57f5498ae3"
      }
     },
     "9d92c105e6224fae8e990e5ac5e4a05d": {
      "model_module": "jupyter-leaflet",
      "model_module_version": "^0.18",
      "model_name": "LeafletMeasureControlModel",
      "state": {
       "_model_module_version": "^0.18",
       "_view_module_version": "^0.18",
       "active_color": "orange",
       "options": [
        "active_color",
        "capture_z_index",
        "completed_color",
        "popup_options",
        "position",
        "primary_area_unit",
        "primary_length_unit",
        "secondary_area_unit",
        "secondary_length_unit"
       ],
       "position": "bottomleft",
       "primary_length_unit": "kilometers",
       "secondary_area_unit": null,
       "secondary_length_unit": null
      }
     },
     "9db0bd41751745e78f862bb0b489832d": {
      "model_module": "jupyter-leaflet",
      "model_module_version": "^0.18",
      "model_name": "LeafletTileLayerModel",
      "state": {
       "_model_module_version": "^0.18",
       "_view_module_version": "^0.18",
       "attribution": "Google Earth Engine",
       "max_zoom": 24,
       "name": "CART regression",
       "options": [
        "attribution",
        "bounds",
        "detect_retina",
        "max_native_zoom",
        "max_zoom",
        "min_native_zoom",
        "min_zoom",
        "no_wrap",
        "tile_size",
        "tms",
        "zoom_offset"
       ],
       "url": "https://earthengine.googleapis.com/v1/projects/earthengine-legacy/maps/6fdf3b473f9190281adef4d3bb785ac3-19743c539ed287a8f095504e4507c09a/tiles/{z}/{x}/{y}"
      }
     },
     "9dd101776d5d4fdba6dc319751b0d0de": {
      "model_module": "@jupyter-widgets/base",
      "model_module_version": "2.0.0",
      "model_name": "LayoutModel",
      "state": {
       "width": "340px"
      }
     },
     "9e42af360bb241e48b6d1dc642a3f31b": {
      "model_module": "jupyter-leaflet",
      "model_module_version": "2.0.0",
      "model_name": "LeafletWidgetControlModel",
      "state": {
       "_model_module": "jupyter-leaflet",
       "_view_name": "ErrorWidgetView",
       "error": {},
       "msg": "Failed to load model class 'LeafletWidgetControlModel' from module 'jupyter-leaflet'",
       "options": [
        "position",
        "transparent_bg"
       ],
       "position": "topright",
       "widget": "IPY_MODEL_ede631126f2e45ca907630c3ffb98636"
      }
     },
     "9e7e425c46204f2581c053c4d3c9a7e7": {
      "model_module": "@jupyter-widgets/controls",
      "model_module_version": "2.0.0",
      "model_name": "DescriptionStyleModel",
      "state": {
       "description_width": ""
      }
     },
     "a00d123533c149d7b711f22afd06b612": {
      "model_module": "@jupyter-widgets/base",
      "model_module_version": "2.0.0",
      "model_name": "LayoutModel",
      "state": {
       "height": "28px",
       "width": "72px"
      }
     },
     "a076d620bc1146339976b89b197838a0": {
      "model_module": "@jupyter-widgets/base",
      "model_module_version": "2.0.0",
      "model_name": "LayoutModel",
      "state": {}
     },
     "a0c040b7adbe47b28200f5eb5179574a": {
      "model_module": "@jupyter-widgets/base",
      "model_module_version": "2.0.0",
      "model_name": "LayoutModel",
      "state": {
       "height": "auto",
       "padding": "0px 0px 0px 4px",
       "width": "auto"
      }
     },
     "a0e4ce32d8ae4e1b8e344ab70e2b58f0": {
      "model_module": "@jupyter-widgets/controls",
      "model_module_version": "2.0.0",
      "model_name": "ToggleButtonModel",
      "state": {
       "button_style": "primary",
       "icon": "info-circle",
       "layout": "IPY_MODEL_d24b4175dc2549e4b0086ac199890e81",
       "style": "IPY_MODEL_0d55f779a2984bc980d12797ff3897a3",
       "tooltip": "Get COG/STAC pixel value"
      }
     },
     "a0e66952dd3f4c1fbdaa13aa392982ca": {
      "model_module": "@jupyter-widgets/base",
      "model_module_version": "2.0.0",
      "model_name": "LayoutModel",
      "state": {
       "height": "auto",
       "padding": "0px 0px 0px 4px",
       "width": "auto"
      }
     },
     "a0ee5a020c324a8e83958fddaea4280d": {
      "model_module": "@jupyter-widgets/base",
      "model_module_version": "2.0.0",
      "model_name": "LayoutModel",
      "state": {
       "height": "auto",
       "padding": "0px 0px 0px 4px",
       "width": "auto"
      }
     },
     "a21cdad21b91490c98a670148f1fee7e": {
      "model_module": "jupyter-leaflet",
      "model_module_version": "^0.18",
      "model_name": "LeafletTileLayerModel",
      "state": {
       "_model_module_version": "^0.18",
       "_view_module_version": "^0.18",
       "attribution": "&copy; <a href=\"https://www.openstreetmap.org/copyright\">OpenStreetMap</a> contributors",
       "base": true,
       "max_zoom": 19,
       "min_zoom": 1,
       "name": "OpenStreetMap.Mapnik",
       "options": [
        "attribution",
        "bounds",
        "detect_retina",
        "max_native_zoom",
        "max_zoom",
        "min_native_zoom",
        "min_zoom",
        "no_wrap",
        "tile_size",
        "tms",
        "zoom_offset"
       ],
       "url": "https://tile.openstreetmap.org/{z}/{x}/{y}.png"
      }
     },
     "a482e6d34f1847d5bbad267305ba352c": {
      "model_module": "@jupyter-widgets/base",
      "model_module_version": "2.0.0",
      "model_name": "LayoutModel",
      "state": {
       "height": "auto",
       "padding": "0px 0px 0px 4px",
       "width": "auto"
      }
     },
     "a4af7a00be3145b9a8ec77ab6bec35b6": {
      "model_module": "@jupyter-widgets/controls",
      "model_module_version": "2.0.0",
      "model_name": "ToggleButtonModel",
      "state": {
       "icon": "wrench",
       "layout": "IPY_MODEL_4e30007276084d979ddfd1f6debe3d9c",
       "style": "IPY_MODEL_3971d76112d8448ab1206970bba9969c",
       "tooltip": "Toolbar"
      }
     },
     "a5cdaeb2bd4a4065b5e47a9e71414208": {
      "model_module": "@jupyter-widgets/base",
      "model_module_version": "2.0.0",
      "model_name": "LayoutModel",
      "state": {}
     },
     "a6371b3b639d404bbe7f1c7ea3b56a61": {
      "model_module": "jupyter-leaflet",
      "model_module_version": "^0.18",
      "model_name": "LeafletMapModel",
      "state": {
       "_model_module_version": "^0.18",
       "_view_module_version": "^0.18",
       "bottom": 399737,
       "center": [
        39.34770625387135,
        -112.60934829711915
       ],
       "controls": [
        "IPY_MODEL_2c7458bf921a4fa98b9601fe9a3b53ce",
        "IPY_MODEL_b1cc662313f047bc93b3afea857f698f",
        "IPY_MODEL_b6e6e1b14ade45cb974a96b34cf5eb2a",
        "IPY_MODEL_437fee11115a44408ea85917826e2769",
        "IPY_MODEL_4d9291b85cb543cc8281c600c8fbc849",
        "IPY_MODEL_c136838276fd42639d2bc4de0769f4a4",
        "IPY_MODEL_4118867ef11a47b68c1d868a8ba30f96",
        "IPY_MODEL_285b1051db4e445d8cc62ee8b69b62fd"
       ],
       "default_style": "IPY_MODEL_6d9f642b681b429ca8d60189f3f55576",
       "dragging_style": "IPY_MODEL_22806969a42e4385b0e3cece243a86c6",
       "east": -112.45639801025392,
       "fullscreen": false,
       "interpolation": "bilinear",
       "layers": [
        "IPY_MODEL_a21cdad21b91490c98a670148f1fee7e",
        "IPY_MODEL_4e42c9d48514474a9959f1cb328ae2ae"
       ],
       "layout": "IPY_MODEL_60451158846242a8bfd8efafbcab87ca",
       "left": 195845,
       "max_zoom": 24,
       "modisdate": "2024-03-29",
       "north": 39.42744219254559,
       "options": [
        "bounce_at_zoom_limits",
        "box_zoom",
        "center",
        "close_popup_on_click",
        "double_click_zoom",
        "dragging",
        "fullscreen",
        "inertia",
        "inertia_deceleration",
        "inertia_max_speed",
        "interpolation",
        "keyboard",
        "keyboard_pan_offset",
        "keyboard_zoom_offset",
        "max_zoom",
        "min_zoom",
        "prefer_canvas",
        "scroll_wheel_zoom",
        "tap",
        "tap_tolerance",
        "touch_zoom",
        "world_copy_jump",
        "zoom",
        "zoom_animation_threshold",
        "zoom_delta",
        "zoom_snap"
       ],
       "prefer_canvas": false,
       "right": 196735,
       "scroll_wheel_zoom": true,
       "south": 39.26814503149637,
       "style": "IPY_MODEL_6d9f642b681b429ca8d60189f3f55576",
       "top": 399137,
       "west": -112.76195526123048,
       "window_url": "https://jupyterhub.cuahsi.org/user/torresrua/lab/tree/courses/Machine-Learning-Applications-in-Remote-Sensing-Data/Step_5.ipynb"
      }
     },
     "a6791517e9974e12a6688453e1b4f8dd": {
      "model_module": "@jupyter-widgets/controls",
      "model_module_version": "2.0.0",
      "model_name": "ToggleButtonStyleModel",
      "state": {
       "description_width": "",
       "font_family": null,
       "font_size": null,
       "font_style": null,
       "font_variant": null,
       "font_weight": null,
       "text_color": null,
       "text_decoration": null
      }
     },
     "a74a0b98e10c4fea90460577bc9596b6": {
      "model_module": "@jupyter-widgets/controls",
      "model_module_version": "2.0.0",
      "model_name": "ToggleButtonStyleModel",
      "state": {
       "description_width": "",
       "font_family": null,
       "font_size": null,
       "font_style": null,
       "font_variant": null,
       "font_weight": null,
       "text_color": null,
       "text_decoration": null
      }
     },
     "a79b660b0c1545c5b93114dc8a0bebfe": {
      "model_module": "@jupyter-widgets/base",
      "model_module_version": "2.0.0",
      "model_name": "LayoutModel",
      "state": {}
     },
     "a7d2cd18dfc14670a1047a5132366318": {
      "model_module": "@jupyter-widgets/base",
      "model_module_version": "2.0.0",
      "model_name": "LayoutModel",
      "state": {}
     },
     "a7e43df6dd994ce18be99cd29ba4cdb2": {
      "model_module": "jupyter-leaflet",
      "model_module_version": "^0.18",
      "model_name": "LeafletMeasureControlModel",
      "state": {
       "_model_module_version": "^0.18",
       "_view_module_version": "^0.18",
       "active_color": "orange",
       "options": [
        "active_color",
        "capture_z_index",
        "completed_color",
        "popup_options",
        "position",
        "primary_area_unit",
        "primary_length_unit",
        "secondary_area_unit",
        "secondary_length_unit"
       ],
       "position": "bottomleft",
       "primary_length_unit": "kilometers",
       "secondary_area_unit": null,
       "secondary_length_unit": null
      }
     },
     "a81942fa3d6446fa867c708306694653": {
      "model_module": "@jupyter-widgets/base",
      "model_module_version": "2.0.0",
      "model_name": "LayoutModel",
      "state": {
       "max_width": "279px",
       "min_width": "279px"
      }
     },
     "aac0fa24c1fd4063b910d4372beb3f4f": {
      "model_module": "jupyter-leaflet",
      "model_module_version": "2.0.0",
      "model_name": "LeafletTileLayerModel",
      "state": {
       "_view_name": "ErrorWidgetView",
       "attribution": "Google",
       "error": {},
       "max_zoom": 24,
       "msg": "Failed to load model class 'LeafletTileLayerModel' from module 'jupyter-leaflet'",
       "name": "Google Maps",
       "options": [
        "attribution",
        "bounds",
        "detect_retina",
        "max_native_zoom",
        "max_zoom",
        "min_native_zoom",
        "min_zoom",
        "no_wrap",
        "tile_size",
        "tms",
        "zoom_offset"
       ],
       "url": "https://mt1.google.com/vt/lyrs=m&x={x}&y={y}&z={z}"
      }
     },
     "ab68dca3bd8548cfab528aada557daba": {
      "model_module": "@jupyter-widgets/controls",
      "model_module_version": "2.0.0",
      "model_name": "ToggleButtonModel",
      "state": {
       "button_style": "primary",
       "icon": "google",
       "layout": "IPY_MODEL_290addb4e4e249b69e33744793c42412",
       "style": "IPY_MODEL_4569abe2790f471fa6c876cdb94b38a6",
       "tooltip": "GEE Toolbox for cloud computing"
      }
     },
     "ab7cd50c07494d32854c532036c9958b": {
      "model_module": "@jupyter-widgets/base",
      "model_module_version": "2.0.0",
      "model_name": "LayoutModel",
      "state": {
       "height": "auto",
       "padding": "0px 0px 0px 4px",
       "width": "auto"
      }
     },
     "abbbdf7f1d52434aa1c4fbf03be9afa0": {
      "model_module": "@jupyter-widgets/controls",
      "model_module_version": "2.0.0",
      "model_name": "DescriptionStyleModel",
      "state": {
       "description_width": ""
      }
     },
     "abe5e2eab2f942f3a455044b5dfebb5b": {
      "model_module": "@jupyter-widgets/controls",
      "model_module_version": "2.0.0",
      "model_name": "DescriptionStyleModel",
      "state": {
       "description_width": ""
      }
     },
     "ad4020bbdf134931bcd44c1965ba9892": {
      "model_module": "@jupyter-widgets/base",
      "model_module_version": "2.0.0",
      "model_name": "LayoutModel",
      "state": {
       "grid_gap": "1px 1px",
       "grid_template_columns": "32px 32px 32px ",
       "grid_template_rows": "32px 32px ",
       "padding": "5px",
       "width": "109px"
      }
     },
     "ad623f7f3caf43f9a597769cea702ae7": {
      "model_module": "@jupyter-widgets/controls",
      "model_module_version": "2.0.0",
      "model_name": "ToggleButtonModel",
      "state": {
       "button_style": "primary",
       "icon": "question",
       "layout": "IPY_MODEL_4cbf8be194b345e0b2958af7c48ed65e",
       "style": "IPY_MODEL_3c74d863162f495383d946ce68b818a0",
       "tooltip": "Get help"
      }
     },
     "ad67edd60a8941379291b0be32daf913": {
      "model_module": "@jupyter-widgets/controls",
      "model_module_version": "2.0.0",
      "model_name": "ButtonModel",
      "state": {
       "button_style": "primary",
       "description": "import",
       "layout": "IPY_MODEL_330b7d7c80d545fda5b93949608371a4",
       "style": "IPY_MODEL_793ccdae7855431c9a8fcf1a443d9a12",
       "tooltip": "Click to import the selected asset"
      }
     },
     "ad9862cd22db4e9fb7cbfaf85349a6dd": {
      "model_module": "@jupyter-widgets/base",
      "model_module_version": "2.0.0",
      "model_name": "LayoutModel",
      "state": {}
     },
     "ae034351ba2d423086ea3947de04e1c6": {
      "model_module": "@jupyter-widgets/base",
      "model_module_version": "2.0.0",
      "model_name": "LayoutModel",
      "state": {
       "height": "28px",
       "padding": "0px 0px 0px 4px",
       "width": "28px"
      }
     },
     "ae63b0efc6f148b8b5fcf043c76cde35": {
      "model_module": "@jupyter-widgets/controls",
      "model_module_version": "2.0.0",
      "model_name": "ToggleButtonStyleModel",
      "state": {
       "description_width": "",
       "font_family": null,
       "font_size": null,
       "font_style": null,
       "font_variant": null,
       "font_weight": null,
       "text_color": null,
       "text_decoration": null
      }
     },
     "ae76335af870477987308f27530be71d": {
      "model_module": "@jupyter-widgets/base",
      "model_module_version": "2.0.0",
      "model_name": "LayoutModel",
      "state": {
       "max_width": "279px",
       "min_width": "279px"
      }
     },
     "aeddc093905a4478930480891b60cd1e": {
      "model_module": "jupyter-leaflet",
      "model_module_version": "2.0.0",
      "model_name": "LeafletTileLayerModel",
      "state": {
       "_view_name": "ErrorWidgetView",
       "attribution": "&copy; <a href=\"https://www.openstreetmap.org/copyright\">OpenStreetMap</a> contributors",
       "base": true,
       "error": {},
       "max_zoom": 19,
       "min_zoom": 1,
       "msg": "Failed to load model class 'LeafletTileLayerModel' from module 'jupyter-leaflet'",
       "name": "OpenStreetMap.Mapnik",
       "options": [
        "attribution",
        "bounds",
        "detect_retina",
        "max_native_zoom",
        "max_zoom",
        "min_native_zoom",
        "min_zoom",
        "no_wrap",
        "tile_size",
        "tms",
        "zoom_offset"
       ],
       "url": "https://tile.openstreetmap.org/{z}/{x}/{y}.png"
      }
     },
     "af389085337c4c959f8b701ab56ed37e": {
      "model_module": "jupyter-leaflet",
      "model_module_version": "2.0.0",
      "model_name": "LeafletZoomControlModel",
      "state": {
       "_view_name": "ErrorWidgetView",
       "error": {},
       "msg": "Failed to load model class 'LeafletZoomControlModel' from module 'jupyter-leaflet'",
       "options": [
        "position",
        "zoom_in_text",
        "zoom_in_title",
        "zoom_out_text",
        "zoom_out_title"
       ]
      }
     },
     "b15ef7183c21466b90e32408673e729c": {
      "model_module": "jupyter-leaflet",
      "model_module_version": "^0.18",
      "model_name": "LeafletWidgetControlModel",
      "state": {
       "_model_module": "jupyter-leaflet",
       "_model_module_version": "^0.18",
       "_view_count": null,
       "_view_module": "jupyter-leaflet",
       "_view_module_version": "^0.18",
       "options": [
        "position",
        "transparent_bg"
       ],
       "position": "topright",
       "widget": "IPY_MODEL_bfb236d11b7e4aee9ef9a6f73f312b29"
      }
     },
     "b175d51aab8b439db9defc18cbeec3f2": {
      "model_module": "@jupyter-widgets/controls",
      "model_module_version": "2.0.0",
      "model_name": "ToggleButtonStyleModel",
      "state": {
       "description_width": "",
       "font_family": null,
       "font_size": null,
       "font_style": null,
       "font_variant": null,
       "font_weight": null,
       "text_color": null,
       "text_decoration": null
      }
     },
     "b195be9c44bb4484b13437d34791a32e": {
      "model_module": "@jupyter-widgets/base",
      "model_module_version": "2.0.0",
      "model_name": "LayoutModel",
      "state": {
       "height": "auto",
       "padding": "0px 0px 0px 4px",
       "width": "auto"
      }
     },
     "b19737909293432a9ef3b04b4ddb71d6": {
      "model_module": "@jupyter-widgets/controls",
      "model_module_version": "2.0.0",
      "model_name": "ToggleButtonModel",
      "state": {
       "button_style": "primary",
       "icon": "globe",
       "layout": "IPY_MODEL_9ad66765e403455eae7be850d92b94d2",
       "style": "IPY_MODEL_fdd13e59272b452abc9a4fbebca53132",
       "tooltip": "Create timelapse"
      }
     },
     "b1c7be85b6564cc9a1f8b38524bd7363": {
      "model_module": "jupyter-leaflet",
      "model_module_version": "^0.18",
      "model_name": "LeafletScaleControlModel",
      "state": {
       "_model_module_version": "^0.18",
       "_view_module_version": "^0.18",
       "imperial": true,
       "max_width": 100,
       "metric": true,
       "options": [
        "imperial",
        "max_width",
        "metric",
        "position",
        "update_when_idle"
       ],
       "position": "bottomleft",
       "update_when_idle": false
      }
     },
     "b1cc662313f047bc93b3afea857f698f": {
      "model_module": "jupyter-leaflet",
      "model_module_version": "^0.18",
      "model_name": "LeafletZoomControlModel",
      "state": {
       "_model_module_version": "^0.18",
       "_view_module_version": "^0.18",
       "options": [
        "position",
        "zoom_in_text",
        "zoom_in_title",
        "zoom_out_text",
        "zoom_out_title"
       ]
      }
     },
     "b1d052ac9a5847c28487877c729bda3d": {
      "model_module": "@jupyter-widgets/controls",
      "model_module_version": "2.0.0",
      "model_name": "ToggleButtonStyleModel",
      "state": {
       "description_width": "",
       "font_family": null,
       "font_size": null,
       "font_style": null,
       "font_variant": null,
       "font_weight": null,
       "text_color": null,
       "text_decoration": null
      }
     },
     "b21d22860ad944e3b5c5676e753c5085": {
      "model_module": "@jupyter-widgets/base",
      "model_module_version": "2.0.0",
      "model_name": "LayoutModel",
      "state": {
       "height": "auto",
       "padding": "0px 0px 0px 4px",
       "width": "auto"
      }
     },
     "b27266491b804aa0936df5acdec7e150": {
      "model_module": "@jupyter-widgets/controls",
      "model_module_version": "2.0.0",
      "model_name": "ToggleButtonModel",
      "state": {
       "button_style": "primary",
       "icon": "info-circle",
       "layout": "IPY_MODEL_905c7245af4448b0adbe212e30f7afa3",
       "style": "IPY_MODEL_117056849b2746cfade007e6ca9cb993",
       "tooltip": "Get COG/STAC pixel value"
      }
     },
     "b274dd39500a4c298882db07060cf5e5": {
      "model_module": "@jupyter-widgets/controls",
      "model_module_version": "2.0.0",
      "model_name": "ToggleButtonStyleModel",
      "state": {
       "description_width": "",
       "font_family": null,
       "font_size": null,
       "font_style": null,
       "font_variant": null,
       "font_weight": null,
       "text_color": null,
       "text_decoration": null
      }
     },
     "b33e112263f9466283b959ea8af3fb39": {
      "model_module": "@jupyter-widgets/base",
      "model_module_version": "2.0.0",
      "model_name": "LayoutModel",
      "state": {
       "width": "340px"
      }
     },
     "b39bfc9a43484ac1938397c7de50f3f7": {
      "model_module": "jupyter-leaflet",
      "model_module_version": "2.0.0",
      "model_name": "LeafletDrawControlModel",
      "state": {
       "_view_name": "ErrorWidgetView",
       "error": {},
       "marker": {
        "shapeOptions": {
         "color": "#3388ff"
        }
       },
       "msg": "Failed to load model class 'LeafletDrawControlModel' from module 'jupyter-leaflet'",
       "options": [
        "position"
       ],
       "polygon": {
        "shapeOptions": {
         "clickable": true,
         "color": "#3388ff",
         "fill": true,
         "fillColor": null,
         "fillOpacity": 0.2,
         "opacity": 0.5,
         "stroke": true,
         "weight": 4
        }
       },
       "polyline": {
        "shapeOptions": {
         "clickable": true,
         "color": "#3388ff",
         "fill": false,
         "opacity": 0.5,
         "stroke": true,
         "weight": 4
        }
       },
       "rectangle": {
        "shapeOptions": {
         "clickable": true,
         "color": "#3388ff",
         "fill": true,
         "fillColor": null,
         "fillOpacity": 0.2,
         "opacity": 0.5,
         "stroke": true,
         "weight": 4
        }
       }
      }
     },
     "b3c9a50a21074e8d9bae6bd035a88dd5": {
      "model_module": "jupyter-leaflet",
      "model_module_version": "^0.18",
      "model_name": "LeafletTileLayerModel",
      "state": {
       "_model_module_version": "^0.18",
       "_view_module_version": "^0.18",
       "attribution": "Google Earth Engine",
       "max_zoom": 24,
       "name": "Soil Moisture",
       "options": [
        "attribution",
        "bounds",
        "detect_retina",
        "max_native_zoom",
        "max_zoom",
        "min_native_zoom",
        "min_zoom",
        "no_wrap",
        "tile_size",
        "tms",
        "zoom_offset"
       ],
       "url": "https://earthengine.googleapis.com/v1/projects/earthengine-legacy/maps/c0471652014914a491c820e650b41e2b-938d1b85809b2505b7d38cfbeb488c46/tiles/{z}/{x}/{y}"
      }
     },
     "b401920cdd0b4162bb6b194b9c38c794": {
      "model_module": "@jupyter-widgets/controls",
      "model_module_version": "2.0.0",
      "model_name": "ToggleButtonModel",
      "state": {
       "button_style": "primary",
       "icon": "info-circle",
       "layout": "IPY_MODEL_b21d22860ad944e3b5c5676e753c5085",
       "style": "IPY_MODEL_d1f7d9866bda4320b82780ac9d8ef2c8",
       "tooltip": "Get COG/STAC pixel value"
      }
     },
     "b4c6d3f493154d648d3b79a9f44d649d": {
      "model_module": "@jupyter-widgets/controls",
      "model_module_version": "2.0.0",
      "model_name": "ToggleButtonsModel",
      "state": {
       "_options_labels": [
        "name/address",
        "lat-lon",
        "data"
       ],
       "button_style": "",
       "icons": [],
       "index": 0,
       "layout": "IPY_MODEL_3bd445c7f08c4dccb08763313600153f",
       "style": "IPY_MODEL_6d066adef9664d89b9fcf7fb3bba9c1c",
       "tooltips": [
        "Search by place name or address",
        "Search by lat-lon coordinates",
        "Search Earth Engine data catalog"
       ]
      }
     },
     "b5ee079b50884fe592ec01a8c5047a01": {
      "model_module": "@jupyter-widgets/controls",
      "model_module_version": "2.0.0",
      "model_name": "ToggleButtonModel",
      "state": {
       "button_style": "primary",
       "icon": "bar-chart",
       "layout": "IPY_MODEL_d84eaa47fa084607bbbf5a032fdd2b2b",
       "style": "IPY_MODEL_8bb980d018a84ee09e09aa94a2fa5344",
       "tooltip": "Plotting"
      }
     },
     "b65c15e6f6744716ae2d6fe81b5e5b45": {
      "model_module": "@jupyter-widgets/controls",
      "model_module_version": "2.0.0",
      "model_name": "ToggleButtonStyleModel",
      "state": {
       "description_width": "",
       "font_family": null,
       "font_size": null,
       "font_style": null,
       "font_variant": null,
       "font_weight": null,
       "text_color": null,
       "text_decoration": null
      }
     },
     "b6ae701e7464405bb6a01abd28a651c7": {
      "model_module": "jupyter-leaflet",
      "model_module_version": "2.0.0",
      "model_name": "LeafletTileLayerModel",
      "state": {
       "_view_name": "ErrorWidgetView",
       "attribution": "&copy; <a href=\"https://www.openstreetmap.org/copyright\">OpenStreetMap</a> contributors",
       "base": true,
       "error": {},
       "max_zoom": 19,
       "min_zoom": 1,
       "msg": "Failed to load model class 'LeafletTileLayerModel' from module 'jupyter-leaflet'",
       "name": "OpenStreetMap.Mapnik",
       "options": [
        "attribution",
        "bounds",
        "detect_retina",
        "max_native_zoom",
        "max_zoom",
        "min_native_zoom",
        "min_zoom",
        "no_wrap",
        "tile_size",
        "tms",
        "zoom_offset"
       ],
       "url": "https://tile.openstreetmap.org/{z}/{x}/{y}.png"
      }
     },
     "b6e6e1b14ade45cb974a96b34cf5eb2a": {
      "model_module": "jupyter-leaflet",
      "model_module_version": "^0.18",
      "model_name": "LeafletFullScreenControlModel",
      "state": {
       "_model_module_version": "^0.18",
       "_view_module_version": "^0.18",
       "options": [
        "position"
       ]
      }
     },
     "b75776408a49424f9d74285c1b3e4f04": {
      "model_module": "@jupyter-widgets/controls",
      "model_module_version": "2.0.0",
      "model_name": "ToggleButtonModel",
      "state": {
       "button_style": "primary",
       "icon": "question",
       "layout": "IPY_MODEL_b195be9c44bb4484b13437d34791a32e",
       "style": "IPY_MODEL_26104baa729c4f01b557c2071e53ddc5",
       "tooltip": "Get help"
      }
     },
     "b75edc5258844fb6bd3d10c9c2e5b792": {
      "model_module": "@jupyter-widgets/controls",
      "model_module_version": "2.0.0",
      "model_name": "GridBoxModel",
      "state": {
       "children": [
        "IPY_MODEL_234df28c98ae45cda6d76b5d0081efd0",
        "IPY_MODEL_237431b288834e26a7e88de4560e0b70",
        "IPY_MODEL_1d5f169aa2054bf08f5ad752927346c0",
        "IPY_MODEL_fa9bc00414a745c38e054d0cc69605b6",
        "IPY_MODEL_d42da728dc4f49a4ae54b41e0bb0dcd1",
        "IPY_MODEL_ce37438e247c4fd09c84b3b3a72aa8ef"
       ],
       "layout": "IPY_MODEL_32d552220a7b42b281bbf5d426e3736e"
      }
     },
     "b7760e208c3e4d7b87022f509ff70b0c": {
      "model_module": "@jupyter-widgets/controls",
      "model_module_version": "2.0.0",
      "model_name": "ToggleButtonModel",
      "state": {
       "button_style": "primary",
       "icon": "google",
       "layout": "IPY_MODEL_c3195b129b2f44b896cf03e256d94224",
       "style": "IPY_MODEL_fc392a0db4d947daa74a098004d6904d",
       "tooltip": "GEE Toolbox for cloud computing"
      }
     },
     "b7f3829dfed24aff95b29d8310c638e1": {
      "model_module": "@jupyter-widgets/controls",
      "model_module_version": "2.0.0",
      "model_name": "DescriptionStyleModel",
      "state": {
       "description_width": ""
      }
     },
     "b840d3069d9d4f3685b1f3903a8491d4": {
      "model_module": "@jupyter-widgets/controls",
      "model_module_version": "2.0.0",
      "model_name": "DropdownModel",
      "state": {
       "index": null,
       "layout": "IPY_MODEL_ae76335af870477987308f27530be71d",
       "style": "IPY_MODEL_9e7e425c46204f2581c053c4d3c9a7e7"
      }
     },
     "b94e8b56b6df48df85d71f8a9d54261b": {
      "model_module": "@jupyter-widgets/base",
      "model_module_version": "2.0.0",
      "model_name": "LayoutModel",
      "state": {}
     },
     "ba30ba9d09414679900c9bf4d3d76683": {
      "model_module": "@jupyter-widgets/base",
      "model_module_version": "2.0.0",
      "model_name": "LayoutModel",
      "state": {}
     },
     "ba63410865e944f08ffb253299f53ecf": {
      "model_module": "@jupyter-widgets/base",
      "model_module_version": "2.0.0",
      "model_name": "LayoutModel",
      "state": {
       "width": "340px"
      }
     },
     "ba74f345ac5b4f96b77cb74228b2b2dc": {
      "model_module": "@jupyter-widgets/controls",
      "model_module_version": "2.0.0",
      "model_name": "DropdownModel",
      "state": {
       "index": null,
       "layout": "IPY_MODEL_a81942fa3d6446fa867c708306694653",
       "style": "IPY_MODEL_234e7a57559d4f2e8953800875018aca"
      }
     },
     "ba95011d05de47ed86e8aa928724c5c1": {
      "model_module": "@jupyter-widgets/base",
      "model_module_version": "2.0.0",
      "model_name": "LayoutModel",
      "state": {
       "height": "28px",
       "padding": "0px 0px 0px 4px",
       "width": "28px"
      }
     },
     "baed409f96894f53808184b65017141d": {
      "model_module": "jupyter-leaflet",
      "model_module_version": "2.0.0",
      "model_name": "LeafletWidgetControlModel",
      "state": {
       "_model_module": "jupyter-leaflet",
       "_view_name": "ErrorWidgetView",
       "error": {},
       "msg": "Failed to load model class 'LeafletWidgetControlModel' from module 'jupyter-leaflet'",
       "options": [
        "position",
        "transparent_bg"
       ],
       "position": "topright",
       "widget": "IPY_MODEL_e14a2743677e401f8969c2132c255568"
      }
     },
     "bc293f247d1a4dc2be5e5a3e8e00d237": {
      "model_module": "@jupyter-widgets/controls",
      "model_module_version": "2.0.0",
      "model_name": "ToggleButtonModel",
      "state": {
       "button_style": "primary",
       "icon": "google",
       "layout": "IPY_MODEL_215cc2cd6442479aa91b084505ae7fbd",
       "style": "IPY_MODEL_f912189b191045df8f38129358112bb2",
       "tooltip": "GEE Toolbox for cloud computing"
      }
     },
     "bc41e7afe8d741b19c02dd34642238d1": {
      "model_module": "@jupyter-widgets/controls",
      "model_module_version": "2.0.0",
      "model_name": "HBoxModel",
      "state": {
       "_dom_classes": [
        "geemap-light"
       ],
       "_view_count": 1,
       "children": [
        "IPY_MODEL_27af6ebca2b54b26b9f2730ef18f6623"
       ],
       "layout": "IPY_MODEL_d3a529501b894e70aa19bcb8ab47e37e"
      }
     },
     "bc679ce1572746478eeeac8d20408a70": {
      "model_module": "jupyter-leaflet",
      "model_module_version": "2.0.0",
      "model_name": "LeafletZoomControlModel",
      "state": {
       "_view_name": "ErrorWidgetView",
       "error": {},
       "msg": "Failed to load model class 'LeafletZoomControlModel' from module 'jupyter-leaflet'",
       "options": [
        "position",
        "zoom_in_text",
        "zoom_in_title",
        "zoom_out_text",
        "zoom_out_title"
       ]
      }
     },
     "bd77df7ebb4c42cb8594f25c98a2d13d": {
      "model_module": "@jupyter-widgets/base",
      "model_module_version": "2.0.0",
      "model_name": "LayoutModel",
      "state": {}
     },
     "bd9f539e31bd4b90ad5a618aeb702a38": {
      "model_module": "jupyter-leaflet",
      "model_module_version": "2.0.0",
      "model_name": "LeafletMeasureControlModel",
      "state": {
       "_view_name": "ErrorWidgetView",
       "active_color": "orange",
       "error": {},
       "msg": "Failed to load model class 'LeafletMeasureControlModel' from module 'jupyter-leaflet'",
       "options": [
        "active_color",
        "capture_z_index",
        "completed_color",
        "popup_options",
        "position",
        "primary_area_unit",
        "primary_length_unit",
        "secondary_area_unit",
        "secondary_length_unit"
       ],
       "position": "bottomleft",
       "primary_length_unit": "kilometers",
       "secondary_area_unit": null,
       "secondary_length_unit": null
      }
     },
     "be81530c91a64813b8d7b8131861e99f": {
      "model_module": "jupyter-leaflet",
      "model_module_version": "2.0.0",
      "model_name": "LeafletWidgetControlModel",
      "state": {
       "_model_module": "jupyter-leaflet",
       "_view_name": "ErrorWidgetView",
       "error": {},
       "msg": "Failed to load model class 'LeafletWidgetControlModel' from module 'jupyter-leaflet'",
       "options": [
        "position",
        "transparent_bg"
       ],
       "position": "topleft",
       "widget": "IPY_MODEL_be69607fe4ce4a1aa6578632d5d5db22"
      }
     },
     "bf092201d70046aaa77d39b7f312b16a": {
      "model_module": "@jupyter-widgets/base",
      "model_module_version": "2.0.0",
      "model_name": "LayoutModel",
      "state": {
       "height": "auto",
       "padding": "0px 0px 0px 4px",
       "width": "auto"
      }
     },
     "bfa9fc158d5546ac958cf580f22ef550": {
      "model_module": "jupyter-leaflet",
      "model_module_version": "^0.18",
      "model_name": "LeafletTileLayerModel",
      "state": {
       "_model_module_version": "^0.18",
       "_view_module_version": "^0.18",
       "attribution": "&copy; <a href=\"https://www.openstreetmap.org/copyright\">OpenStreetMap</a> contributors",
       "base": true,
       "max_zoom": 19,
       "min_zoom": 1,
       "name": "OpenStreetMap.Mapnik",
       "options": [
        "attribution",
        "bounds",
        "detect_retina",
        "max_native_zoom",
        "max_zoom",
        "min_native_zoom",
        "min_zoom",
        "no_wrap",
        "tile_size",
        "tms",
        "zoom_offset"
       ],
       "url": "https://tile.openstreetmap.org/{z}/{x}/{y}.png"
      }
     },
     "bfb236d11b7e4aee9ef9a6f73f312b29": {
      "model_module": "@jupyter-widgets/controls",
      "model_module_version": "2.0.0",
      "model_name": "VBoxModel",
      "state": {
       "_dom_classes": [
        "geemap-light"
       ],
       "_view_count": 1,
       "children": [
        "IPY_MODEL_5c441cddc073433dafe3ad92cb8c7f8a"
       ],
       "layout": "IPY_MODEL_1717343d58e54bffa5bb0add313025e9"
      }
     },
     "c048b9956abb43498c6bff3f12930037": {
      "model_module": "@jupyter-widgets/controls",
      "model_module_version": "2.0.0",
      "model_name": "ToggleButtonStyleModel",
      "state": {
       "description_width": "",
       "font_family": null,
       "font_size": null,
       "font_style": null,
       "font_variant": null,
       "font_weight": null,
       "text_color": null,
       "text_decoration": null
      }
     },
     "c136838276fd42639d2bc4de0769f4a4": {
      "model_module": "jupyter-leaflet",
      "model_module_version": "^0.18",
      "model_name": "LeafletMeasureControlModel",
      "state": {
       "_model_module_version": "^0.18",
       "_view_module_version": "^0.18",
       "active_color": "orange",
       "options": [
        "active_color",
        "capture_z_index",
        "completed_color",
        "popup_options",
        "position",
        "primary_area_unit",
        "primary_length_unit",
        "secondary_area_unit",
        "secondary_length_unit"
       ],
       "position": "bottomleft",
       "primary_length_unit": "kilometers",
       "secondary_area_unit": null,
       "secondary_length_unit": null
      }
     },
     "c153328ea48240e8ae195aab0040059c": {
      "model_module": "@jupyter-widgets/controls",
      "model_module_version": "2.0.0",
      "model_name": "ToggleButtonModel",
      "state": {
       "button_style": "primary",
       "icon": "eraser",
       "layout": "IPY_MODEL_a482e6d34f1847d5bbad267305ba352c",
       "style": "IPY_MODEL_dbadb92d215c461597e06a87213da887",
       "tooltip": "Remove all drawn features"
      }
     },
     "c26495be09e849ed939ce4ccdb04fe57": {
      "model_module": "jupyter-leaflet",
      "model_module_version": "2.0.0",
      "model_name": "LeafletZoomControlModel",
      "state": {
       "_view_name": "ErrorWidgetView",
       "error": {},
       "msg": "Failed to load model class 'LeafletZoomControlModel' from module 'jupyter-leaflet'",
       "options": [
        "position",
        "zoom_in_text",
        "zoom_in_title",
        "zoom_out_text",
        "zoom_out_title"
       ]
      }
     },
     "c28c9da0a90e44f4aef0b7bc13e4862d": {
      "model_module": "@jupyter-widgets/controls",
      "model_module_version": "2.0.0",
      "model_name": "TextModel",
      "state": {
       "layout": "IPY_MODEL_9dd101776d5d4fdba6dc319751b0d0de",
       "placeholder": "Search by place name or address",
       "style": "IPY_MODEL_84abcf7daf1c4b3792cc5d9f81ae5a83",
       "tooltip": "Search location"
      }
     },
     "c2fd5326d84b4189a47e2eb55cf24181": {
      "model_module": "@jupyter-widgets/base",
      "model_module_version": "2.0.0",
      "model_name": "LayoutModel",
      "state": {
       "height": "auto",
       "padding": "0px 0px 0px 4px",
       "width": "auto"
      }
     },
     "c3195b129b2f44b896cf03e256d94224": {
      "model_module": "@jupyter-widgets/base",
      "model_module_version": "2.0.0",
      "model_name": "LayoutModel",
      "state": {
       "height": "auto",
       "padding": "0px 0px 0px 4px",
       "width": "auto"
      }
     },
     "c376c1e9636c4993bdddfe42435d268f": {
      "model_module": "@jupyter-widgets/controls",
      "model_module_version": "2.0.0",
      "model_name": "DescriptionStyleModel",
      "state": {
       "description_width": ""
      }
     },
     "c4d9e8c047844bc28c68de1dca34f177": {
      "model_module": "@jupyter-widgets/base",
      "model_module_version": "2.0.0",
      "model_name": "LayoutModel",
      "state": {
       "max_width": "57px",
       "min_width": "57px"
      }
     },
     "c514657de6174267aaf4b41a71cb42ba": {
      "model_module": "jupyter-leaflet",
      "model_module_version": "^0.18",
      "model_name": "LeafletMapModel",
      "state": {
       "_model_module_version": "^0.18",
       "_view_module_version": "^0.18",
       "bottom": 399532,
       "center": [
        39.402244340292775,
        -112.6318359375
       ],
       "controls": [
        "IPY_MODEL_03b8fb5aad2a43739cc124d203e6a415",
        "IPY_MODEL_05d951208fe34b6180ccd2e287982550",
        "IPY_MODEL_720187e5ed13430db5f41adbd1f06eac",
        "IPY_MODEL_fc1224d2be0b4660ac3957d16c65d848",
        "IPY_MODEL_2270c83ba9bd4d9ca7cca548c3a853e7",
        "IPY_MODEL_eb03ab88ed4049e48cd9126b8498e6c7",
        "IPY_MODEL_e00ce5cab72d430699bdda6c6278351e",
        "IPY_MODEL_0dc44519383a46b58b7af4c99d46841d"
       ],
       "default_style": "IPY_MODEL_512d97a4e3364563a78381a64d794486",
       "dragging_style": "IPY_MODEL_5c23669062d847ec9ecd0e79e99d1445",
       "east": -112.47905731201173,
       "fullscreen": false,
       "interpolation": "bilinear",
       "layers": [
        "IPY_MODEL_27196db8f69c4a2cbcc96225a787e9a8",
        "IPY_MODEL_0af71419403445109e8bd06e759ffc37"
       ],
       "layout": "IPY_MODEL_4ee2b033fe614119991718fb8c35742d",
       "left": 195779,
       "max_zoom": 24,
       "modisdate": "2024-03-29",
       "north": 39.48178546986059,
       "options": [
        "bounce_at_zoom_limits",
        "box_zoom",
        "center",
        "close_popup_on_click",
        "double_click_zoom",
        "dragging",
        "fullscreen",
        "inertia",
        "inertia_deceleration",
        "inertia_max_speed",
        "interpolation",
        "keyboard",
        "keyboard_pan_offset",
        "keyboard_zoom_offset",
        "max_zoom",
        "min_zoom",
        "prefer_canvas",
        "scroll_wheel_zoom",
        "tap",
        "tap_tolerance",
        "touch_zoom",
        "world_copy_jump",
        "zoom",
        "zoom_animation_threshold",
        "zoom_delta",
        "zoom_snap"
       ],
       "prefer_canvas": false,
       "right": 196669,
       "scroll_wheel_zoom": true,
       "south": 39.3226123971769,
       "style": "IPY_MODEL_512d97a4e3364563a78381a64d794486",
       "top": 398932,
       "west": -112.7846145629883,
       "window_url": "https://jupyterhub.cuahsi.org/user/torresrua/lab/tree/courses/Machine-Learning-Applications-in-Remote-Sensing-Data/Step_5.ipynb"
      }
     },
     "c53ea35e2f954efa9f4e3fbcb557bcb5": {
      "model_module": "@jupyter-widgets/controls",
      "model_module_version": "2.0.0",
      "model_name": "HTMLStyleModel",
      "state": {
       "description_width": "",
       "font_size": null,
       "text_color": null
      }
     },
     "c5d326d70f714dc08a7aca4d85fa0f23": {
      "model_module": "@jupyter-widgets/controls",
      "model_module_version": "2.0.0",
      "model_name": "ToggleButtonStyleModel",
      "state": {
       "description_width": "",
       "font_family": null,
       "font_size": null,
       "font_style": null,
       "font_variant": null,
       "font_weight": null,
       "text_color": null,
       "text_decoration": null
      }
     },
     "c6da378be2a24271a3bf263d2fa0d759": {
      "model_module": "@jupyter-widgets/base",
      "model_module_version": "2.0.0",
      "model_name": "LayoutModel",
      "state": {}
     },
     "c71d1bece5764fb2bf5d170f88f9e232": {
      "model_module": "@jupyter-widgets/base",
      "model_module_version": "2.0.0",
      "model_name": "LayoutModel",
      "state": {
       "height": "auto",
       "padding": "0px 0px 0px 4px",
       "width": "auto"
      }
     },
     "c84315aa0d834895be67d3f72c1b6df6": {
      "model_module": "@jupyter-widgets/controls",
      "model_module_version": "2.0.0",
      "model_name": "ToggleButtonsModel",
      "state": {
       "_options_labels": [
        "name/address",
        "lat-lon",
        "data"
       ],
       "button_style": "",
       "icons": [],
       "index": 0,
       "layout": "IPY_MODEL_6312923ee27c41c98365737c820810b2",
       "style": "IPY_MODEL_5afc878e54274b6ab7bf6e0d76190749",
       "tooltips": [
        "Search by place name or address",
        "Search by lat-lon coordinates",
        "Search Earth Engine data catalog"
       ]
      }
     },
     "c8fe3fa1974b4d609c08cddb3e2b8f49": {
      "model_module": "ipyevents",
      "model_module_version": "2.0.2",
      "model_name": "EventModel",
      "state": {
       "_supported_key_events": [
        "keydown",
        "keyup"
       ],
       "_supported_mouse_events": [
        "click",
        "auxclick",
        "dblclick",
        "mouseenter",
        "mouseleave",
        "mousedown",
        "mouseup",
        "mousemove",
        "wheel",
        "contextmenu",
        "dragstart",
        "drag",
        "dragend",
        "dragenter",
        "dragover",
        "dragleave",
        "drop"
       ],
       "_supported_touch_events": [
        "touchstart",
        "touchend",
        "touchmove",
        "touchcancel"
       ],
       "_view_module": "@jupyter-widgets/controls",
       "source": "IPY_MODEL_91057e5ff21c423d8b372eb411f0cfd0",
       "throttle_or_debounce": "",
       "watched_events": [
        "mouseenter",
        "mouseleave"
       ],
       "xy_coordinate_system": ""
      }
     },
     "c94265d0b2e64a76bc2e30864ee8b61d": {
      "model_module": "@jupyter-widgets/controls",
      "model_module_version": "2.0.0",
      "model_name": "ToggleButtonStyleModel",
      "state": {
       "description_width": "",
       "font_family": null,
       "font_size": null,
       "font_style": null,
       "font_variant": null,
       "font_weight": null,
       "text_color": null,
       "text_decoration": null
      }
     },
     "c94e9eccd59541c88d779d5a1a1290c9": {
      "model_module": "@jupyter-widgets/controls",
      "model_module_version": "2.0.0",
      "model_name": "ButtonModel",
      "state": {
       "button_style": "primary",
       "description": "import",
       "layout": "IPY_MODEL_c4d9e8c047844bc28c68de1dca34f177",
       "style": "IPY_MODEL_dd69c98a393246aeb9146b9c308985e0",
       "tooltip": "Click to import the selected asset"
      }
     },
     "c9addf7b67f24495bca3134aaf90962a": {
      "model_module": "@jupyter-widgets/base",
      "model_module_version": "2.0.0",
      "model_name": "LayoutModel",
      "state": {
       "height": "auto",
       "padding": "0px 0px 0px 4px",
       "width": "auto"
      }
     },
     "ca3874f494dc4871a5eb2285abd9df8e": {
      "model_module": "jupyter-leaflet",
      "model_module_version": "2.0.0",
      "model_name": "LeafletZoomControlModel",
      "state": {
       "_view_name": "ErrorWidgetView",
       "error": {},
       "msg": "Failed to load model class 'LeafletZoomControlModel' from module 'jupyter-leaflet'",
       "options": [
        "position",
        "zoom_in_text",
        "zoom_in_title",
        "zoom_out_text",
        "zoom_out_title"
       ]
      }
     },
     "cb2d0a5b84ff4910a8fb3c644427d016": {
      "model_module": "@jupyter-widgets/base",
      "model_module_version": "2.0.0",
      "model_name": "LayoutModel",
      "state": {
       "height": "auto",
       "padding": "0px 0px 0px 4px",
       "width": "auto"
      }
     },
     "cb8d0797c1b149c1bf0964d5e2a1ae52": {
      "model_module": "@jupyter-widgets/base",
      "model_module_version": "2.0.0",
      "model_name": "LayoutModel",
      "state": {
       "height": "28px",
       "width": "72px"
      }
     },
     "cba17f80898843bb8a2ddb3f61d0a72e": {
      "model_module": "@jupyter-widgets/controls",
      "model_module_version": "2.0.0",
      "model_name": "ToggleButtonModel",
      "state": {
       "button_style": "primary",
       "icon": "eraser",
       "layout": "IPY_MODEL_45f99f69e254434ea5b071a1d22c7dd8",
       "style": "IPY_MODEL_b1d052ac9a5847c28487877c729bda3d",
       "tooltip": "Remove all drawn features"
      }
     },
     "cba321d118d346f989ec2bbda73bbe2e": {
      "model_module": "jupyter-leaflet",
      "model_module_version": "2.0.0",
      "model_name": "LeafletAttributionControlModel",
      "state": {
       "_view_name": "ErrorWidgetView",
       "error": {},
       "msg": "Failed to load model class 'LeafletAttributionControlModel' from module 'jupyter-leaflet'",
       "options": [
        "position",
        "prefix"
       ],
       "position": "bottomright",
       "prefix": "ipyleaflet"
      }
     },
     "cbf3803111c040929a679973c3737b81": {
      "model_module": "@jupyter-widgets/controls",
      "model_module_version": "2.0.0",
      "model_name": "HTMLModel",
      "state": {
       "layout": "IPY_MODEL_7fd277a1943b465d9d52276d817c9dc9",
       "style": "IPY_MODEL_9c123062f2eb472b862788b48442678e"
      }
     },
     "cc35ae63ae5040bdbb5d57a1040ae909": {
      "model_module": "@jupyter-widgets/base",
      "model_module_version": "2.0.0",
      "model_name": "LayoutModel",
      "state": {
       "height": "auto",
       "padding": "0px 0px 0px 4px",
       "width": "auto"
      }
     },
     "ccf27d052db244b6b7efa597974f219f": {
      "model_module": "@jupyter-widgets/controls",
      "model_module_version": "2.0.0",
      "model_name": "ToggleButtonStyleModel",
      "state": {
       "description_width": "",
       "font_family": null,
       "font_size": null,
       "font_style": null,
       "font_variant": null,
       "font_weight": null,
       "text_color": null,
       "text_decoration": null
      }
     },
     "cd2a64d89e16438ea27922e330ccc6d7": {
      "model_module": "@jupyter-widgets/base",
      "model_module_version": "2.0.0",
      "model_name": "LayoutModel",
      "state": {
       "height": "auto",
       "padding": "0px 0px 0px 4px",
       "width": "auto"
      }
     },
     "cdf916223f314e02b02e6fcf3a35c46b": {
      "model_module": "@jupyter-widgets/base",
      "model_module_version": "2.0.0",
      "model_name": "LayoutModel",
      "state": {
       "height": "28px",
       "padding": "0px 0px 0px 4px",
       "width": "28px"
      }
     },
     "ce37438e247c4fd09c84b3b3a72aa8ef": {
      "model_module": "@jupyter-widgets/controls",
      "model_module_version": "2.0.0",
      "model_name": "ToggleButtonModel",
      "state": {
       "button_style": "primary",
       "icon": "plus",
       "layout": "IPY_MODEL_19d586abbef94f9e92214343c435697a",
       "style": "IPY_MODEL_6032c1a0e2c94e82ae7d40fc5f20d9e3",
       "tooltip": "Expand toolbar"
      }
     },
     "cf598755e5194ac69351b913a90b18f3": {
      "model_module": "@jupyter-widgets/base",
      "model_module_version": "2.0.0",
      "model_name": "LayoutModel",
      "state": {
       "height": "auto",
       "padding": "0px 0px 0px 4px",
       "width": "auto"
      }
     },
     "cf59bd30c4864423a943e31d769a7939": {
      "model_module": "@jupyter-widgets/controls",
      "model_module_version": "2.0.0",
      "model_name": "ToggleButtonStyleModel",
      "state": {
       "description_width": "",
       "font_family": null,
       "font_size": null,
       "font_style": null,
       "font_variant": null,
       "font_weight": null,
       "text_color": null,
       "text_decoration": null
      }
     },
     "cf647f767f6443f48e44c4772f38deba": {
      "model_module": "jupyter-leaflet",
      "model_module_version": "^0.18",
      "model_name": "LeafletDrawControlModel",
      "state": {
       "_model_module_version": "^0.18",
       "_view_module_version": "^0.18",
       "marker": {
        "shapeOptions": {
         "color": "#3388ff"
        }
       },
       "options": [
        "position"
       ],
       "polygon": {
        "shapeOptions": {
         "clickable": true,
         "color": "#3388ff",
         "fill": true,
         "fillColor": null,
         "fillOpacity": 0.2,
         "opacity": 0.5,
         "stroke": true,
         "weight": 4
        }
       },
       "polyline": {
        "shapeOptions": {
         "clickable": true,
         "color": "#3388ff",
         "fill": false,
         "opacity": 0.5,
         "stroke": true,
         "weight": 4
        }
       },
       "rectangle": {
        "shapeOptions": {
         "clickable": true,
         "color": "#3388ff",
         "fill": true,
         "fillColor": null,
         "fillOpacity": 0.2,
         "opacity": 0.5,
         "stroke": true,
         "weight": 4
        }
       }
      }
     },
     "d1663559f32141989507e2e6cb709eac": {
      "model_module": "jupyter-leaflet",
      "model_module_version": "2.0.0",
      "model_name": "LeafletDrawControlModel",
      "state": {
       "_view_name": "ErrorWidgetView",
       "error": {},
       "marker": {
        "shapeOptions": {
         "color": "#3388ff"
        }
       },
       "msg": "Failed to load model class 'LeafletDrawControlModel' from module 'jupyter-leaflet'",
       "options": [
        "position"
       ],
       "polygon": {
        "shapeOptions": {
         "clickable": true,
         "color": "#3388ff",
         "fill": true,
         "fillColor": null,
         "fillOpacity": 0.2,
         "opacity": 0.5,
         "stroke": true,
         "weight": 4
        }
       },
       "polyline": {
        "shapeOptions": {
         "clickable": true,
         "color": "#3388ff",
         "fill": false,
         "opacity": 0.5,
         "stroke": true,
         "weight": 4
        }
       },
       "rectangle": {
        "shapeOptions": {
         "clickable": true,
         "color": "#3388ff",
         "fill": true,
         "fillColor": null,
         "fillOpacity": 0.2,
         "opacity": 0.5,
         "stroke": true,
         "weight": 4
        }
       }
      }
     },
     "d1f7d9866bda4320b82780ac9d8ef2c8": {
      "model_module": "@jupyter-widgets/controls",
      "model_module_version": "2.0.0",
      "model_name": "ToggleButtonStyleModel",
      "state": {
       "description_width": "",
       "font_family": null,
       "font_size": null,
       "font_style": null,
       "font_variant": null,
       "font_weight": null,
       "text_color": null,
       "text_decoration": null
      }
     },
     "d24110bd642b491f84604cb231822078": {
      "model_module": "@jupyter-widgets/controls",
      "model_module_version": "2.0.0",
      "model_name": "VBoxModel",
      "state": {
       "_dom_classes": [
        "geemap-light"
       ],
       "_view_count": 1,
       "children": [
        "IPY_MODEL_21ad9322b9aa40f4b363f06397e5de17"
       ],
       "layout": "IPY_MODEL_14c5ed47534a4005abffcfe6b21de0bd"
      }
     },
     "d24b4175dc2549e4b0086ac199890e81": {
      "model_module": "@jupyter-widgets/base",
      "model_module_version": "2.0.0",
      "model_name": "LayoutModel",
      "state": {
       "height": "auto",
       "padding": "0px 0px 0px 4px",
       "width": "auto"
      }
     },
     "d2fb98f455334252aa0896a59c3cf22a": {
      "model_module": "@jupyter-widgets/controls",
      "model_module_version": "2.0.0",
      "model_name": "VBoxModel",
      "state": {
       "children": [
        "IPY_MODEL_b75edc5258844fb6bd3d10c9c2e5b792"
       ],
       "layout": "IPY_MODEL_1b7a2b3a48164e75a66f67a2ed0977f3"
      }
     },
     "d3179ecc000b401ea8bb234301f613b6": {
      "model_module": "@jupyter-widgets/controls",
      "model_module_version": "2.0.0",
      "model_name": "ToggleButtonModel",
      "state": {
       "button_style": "primary",
       "icon": "globe",
       "layout": "IPY_MODEL_f726b4285ae245cda1a507e13dc8bfa0",
       "style": "IPY_MODEL_274e576b43ff45c29dbbe2337dfdef8a",
       "tooltip": "Create timelapse"
      }
     },
     "d3868b40731e4b69b29fac18f7eead6e": {
      "model_module": "@jupyter-widgets/base",
      "model_module_version": "2.0.0",
      "model_name": "LayoutModel",
      "state": {
       "width": "340px"
      }
     },
     "d3a529501b894e70aa19bcb8ab47e37e": {
      "model_module": "@jupyter-widgets/base",
      "model_module_version": "2.0.0",
      "model_name": "LayoutModel",
      "state": {}
     },
     "d401e84e6dee448eb2b92b02f5760531": {
      "model_module": "jupyter-leaflet",
      "model_module_version": "^0.18",
      "model_name": "LeafletAttributionControlModel",
      "state": {
       "_model_module_version": "^0.18",
       "_view_module_version": "^0.18",
       "options": [
        "position",
        "prefix"
       ],
       "position": "bottomright",
       "prefix": "ipyleaflet"
      }
     },
     "d42da728dc4f49a4ae54b41e0bb0dcd1": {
      "model_module": "@jupyter-widgets/controls",
      "model_module_version": "2.0.0",
      "model_name": "ToggleButtonModel",
      "state": {
       "button_style": "primary",
       "icon": "retweet",
       "layout": "IPY_MODEL_3f3de6fd0a8443148c856ca9ab7f6a4c",
       "style": "IPY_MODEL_3cde2dd41c65448797049860de55b1d1",
       "tooltip": "Convert Earth Engine JavaScript to Python"
      }
     },
     "d4bc8620eb444254b48cc314874dc415": {
      "model_module": "@jupyter-widgets/base",
      "model_module_version": "2.0.0",
      "model_name": "LayoutModel",
      "state": {
       "height": "auto",
       "padding": "0px 0px 0px 4px",
       "width": "auto"
      }
     },
     "d5ac9558f26b4468b044763e0d9480bc": {
      "model_module": "@jupyter-widgets/controls",
      "model_module_version": "2.0.0",
      "model_name": "ButtonModel",
      "state": {
       "button_style": "primary",
       "description": "import",
       "layout": "IPY_MODEL_15da5b0ff95b40fe93b5c9fcc323a16c",
       "style": "IPY_MODEL_0e9a429664d2462a8f5ddb70a19b43b7",
       "tooltip": "Click to import the selected asset"
      }
     },
     "d5d523e36cde4103a1c5dcd82562f0d9": {
      "model_module": "jupyter-leaflet",
      "model_module_version": "^0.18",
      "model_name": "LeafletMapStyleModel",
      "state": {
       "_model_module_version": "^0.18"
      }
     },
     "d737bc96b0bf40d4aba65501e38c0f90": {
      "model_module": "@jupyter-widgets/controls",
      "model_module_version": "2.0.0",
      "model_name": "ToggleButtonStyleModel",
      "state": {
       "description_width": "",
       "font_family": null,
       "font_size": null,
       "font_style": null,
       "font_variant": null,
       "font_weight": null,
       "text_color": null,
       "text_decoration": null
      }
     },
     "d75d2270b39e4f67b8ada156f26e2455": {
      "model_module": "@jupyter-widgets/controls",
      "model_module_version": "2.0.0",
      "model_name": "HBoxModel",
      "state": {
       "_dom_classes": [
        "geemap-light"
       ],
       "_view_count": 1,
       "children": [
        "IPY_MODEL_8e84e07e59e24ed89c128b99df5eaabd"
       ],
       "layout": "IPY_MODEL_a7d2cd18dfc14670a1047a5132366318"
      }
     },
     "d84eaa47fa084607bbbf5a032fdd2b2b": {
      "model_module": "@jupyter-widgets/base",
      "model_module_version": "2.0.0",
      "model_name": "LayoutModel",
      "state": {
       "height": "auto",
       "padding": "0px 0px 0px 4px",
       "width": "auto"
      }
     },
     "d9579c382c1443a09c20066a7837c940": {
      "model_module": "jupyter-leaflet",
      "model_module_version": "2.0.0",
      "model_name": "LeafletDrawControlModel",
      "state": {
       "_view_name": "ErrorWidgetView",
       "error": {},
       "marker": {
        "shapeOptions": {
         "color": "#3388ff"
        }
       },
       "msg": "Failed to load model class 'LeafletDrawControlModel' from module 'jupyter-leaflet'",
       "options": [
        "position"
       ],
       "polygon": {
        "shapeOptions": {
         "clickable": true,
         "color": "#3388ff",
         "fill": true,
         "fillColor": null,
         "fillOpacity": 0.2,
         "opacity": 0.5,
         "stroke": true,
         "weight": 4
        }
       },
       "polyline": {
        "shapeOptions": {
         "clickable": true,
         "color": "#3388ff",
         "fill": false,
         "opacity": 0.5,
         "stroke": true,
         "weight": 4
        }
       },
       "rectangle": {
        "shapeOptions": {
         "clickable": true,
         "color": "#3388ff",
         "fill": true,
         "fillColor": null,
         "fillOpacity": 0.2,
         "opacity": 0.5,
         "stroke": true,
         "weight": 4
        }
       }
      }
     },
     "da674c7533e449c29cae6de7ad4f6df7": {
      "model_module": "@jupyter-widgets/controls",
      "model_module_version": "2.0.0",
      "model_name": "HTMLStyleModel",
      "state": {
       "description_width": "",
       "font_size": null,
       "text_color": null
      }
     },
     "db6a023b274448159801a9d1d73c8f81": {
      "model_module": "jupyter-leaflet",
      "model_module_version": "2.0.0",
      "model_name": "LeafletTileLayerModel",
      "state": {
       "_view_name": "ErrorWidgetView",
       "attribution": "&copy; <a href=\"https://www.openstreetmap.org/copyright\">OpenStreetMap</a> contributors",
       "base": true,
       "error": {},
       "max_zoom": 19,
       "min_zoom": 1,
       "msg": "Failed to load model class 'LeafletTileLayerModel' from module 'jupyter-leaflet'",
       "name": "OpenStreetMap.Mapnik",
       "options": [
        "attribution",
        "bounds",
        "detect_retina",
        "max_native_zoom",
        "max_zoom",
        "min_native_zoom",
        "min_zoom",
        "no_wrap",
        "tile_size",
        "tms",
        "zoom_offset"
       ],
       "url": "https://tile.openstreetmap.org/{z}/{x}/{y}.png"
      }
     },
     "db6f8d9b80cf4a058641fbb6fbbe72d5": {
      "model_module": "@jupyter-widgets/base",
      "model_module_version": "2.0.0",
      "model_name": "LayoutModel",
      "state": {
       "height": "auto",
       "padding": "0px 0px 0px 4px",
       "width": "auto"
      }
     },
     "dbadb92d215c461597e06a87213da887": {
      "model_module": "@jupyter-widgets/controls",
      "model_module_version": "2.0.0",
      "model_name": "ToggleButtonStyleModel",
      "state": {
       "description_width": "",
       "font_family": null,
       "font_size": null,
       "font_style": null,
       "font_variant": null,
       "font_weight": null,
       "text_color": null,
       "text_decoration": null
      }
     },
     "dc259eed3f8941d99cd3a17a642bf0f3": {
      "model_module": "jupyter-leaflet",
      "model_module_version": "2.0.0",
      "model_name": "LeafletAttributionControlModel",
      "state": {
       "_view_name": "ErrorWidgetView",
       "error": {},
       "msg": "Failed to load model class 'LeafletAttributionControlModel' from module 'jupyter-leaflet'",
       "options": [
        "position",
        "prefix"
       ],
       "position": "bottomright",
       "prefix": "ipyleaflet"
      }
     },
     "dc6786492b8941ec89672d63c15cd758": {
      "model_module": "@jupyter-widgets/controls",
      "model_module_version": "2.0.0",
      "model_name": "ToggleButtonStyleModel",
      "state": {
       "description_width": "",
       "font_family": null,
       "font_size": null,
       "font_style": null,
       "font_variant": null,
       "font_weight": null,
       "text_color": null,
       "text_decoration": null
      }
     },
     "dd415189c65e450db34be04b735d1d9e": {
      "model_module": "@jupyter-widgets/controls",
      "model_module_version": "2.0.0",
      "model_name": "ToggleButtonStyleModel",
      "state": {
       "description_width": "",
       "font_family": null,
       "font_size": null,
       "font_style": null,
       "font_variant": null,
       "font_weight": null,
       "text_color": null,
       "text_decoration": null
      }
     },
     "dd69c98a393246aeb9146b9c308985e0": {
      "model_module": "@jupyter-widgets/controls",
      "model_module_version": "2.0.0",
      "model_name": "ButtonStyleModel",
      "state": {
       "font_family": null,
       "font_size": null,
       "font_style": null,
       "font_variant": null,
       "font_weight": null,
       "text_color": null,
       "text_decoration": null
      }
     },
     "ddbac2f12687466098802e8b6378ee80": {
      "model_module": "jupyter-leaflet",
      "model_module_version": "2.0.0",
      "model_name": "LeafletDrawControlModel",
      "state": {
       "_view_name": "ErrorWidgetView",
       "error": {},
       "marker": {
        "shapeOptions": {
         "color": "#3388ff"
        }
       },
       "msg": "Failed to load model class 'LeafletDrawControlModel' from module 'jupyter-leaflet'",
       "options": [
        "position"
       ],
       "polygon": {
        "shapeOptions": {
         "clickable": true,
         "color": "#3388ff",
         "fill": true,
         "fillColor": null,
         "fillOpacity": 0.2,
         "opacity": 0.5,
         "stroke": true,
         "weight": 4
        }
       },
       "polyline": {
        "shapeOptions": {
         "clickable": true,
         "color": "#3388ff",
         "fill": false,
         "opacity": 0.5,
         "stroke": true,
         "weight": 4
        }
       },
       "rectangle": {
        "shapeOptions": {
         "clickable": true,
         "color": "#3388ff",
         "fill": true,
         "fillColor": null,
         "fillOpacity": 0.2,
         "opacity": 0.5,
         "stroke": true,
         "weight": 4
        }
       }
      }
     },
     "de096a63db5e46d58c224ea416152f9b": {
      "model_module": "@jupyter-widgets/base",
      "model_module_version": "2.0.0",
      "model_name": "LayoutModel",
      "state": {}
     },
     "de173a4ceeae46b1b31bdc81c31d6d0d": {
      "model_module": "@jupyter-widgets/controls",
      "model_module_version": "2.0.0",
      "model_name": "HBoxModel",
      "state": {
       "children": [
        "IPY_MODEL_4135ccf78baf48768ad5aa14c6acea63",
        "IPY_MODEL_5c441cddc073433dafe3ad92cb8c7f8a"
       ],
       "layout": "IPY_MODEL_2270f7677ab64b3580d600f6bb695df0"
      }
     },
     "ded59262a51c420d9ef24439e47390fb": {
      "model_module": "@jupyter-widgets/base",
      "model_module_version": "2.0.0",
      "model_name": "LayoutModel",
      "state": {
       "height": "auto",
       "padding": "0px 0px 0px 4px",
       "width": "auto"
      }
     },
     "def3da13a3374454888faba46f79902a": {
      "model_module": "jupyter-leaflet",
      "model_module_version": "2.0.0",
      "model_name": "LeafletMapModel",
      "state": {
       "_view_name": "ErrorWidgetView",
       "bottom": 399526,
       "center": [
        39.4037160204789,
        -112.63575111241983
       ],
       "controls": [
        "IPY_MODEL_0156c279bbc443d6aa6f9b494094be5c",
        "IPY_MODEL_af389085337c4c959f8b701ab56ed37e",
        "IPY_MODEL_56758442a1dc40f788267cc51578cf1c",
        "IPY_MODEL_ddbac2f12687466098802e8b6378ee80",
        "IPY_MODEL_37d2f90b74ba4598b132ef9165f42473",
        "IPY_MODEL_971cdf7283ec4dd19f6a3b23c41f14e8",
        "IPY_MODEL_05f8a58f0ad64939b572b3b486a3cedf",
        "IPY_MODEL_cba321d118d346f989ec2bbda73bbe2e"
       ],
       "default_style": "IPY_MODEL_e985982fbb9a4dd8b672d5e07100fb13",
       "dragging_style": "IPY_MODEL_1cbf28c9863b4664b14be21fa3a0f462",
       "east": -112.46772766113283,
       "error": {},
       "fullscreen": false,
       "interpolation": "bilinear",
       "layers": [
        "IPY_MODEL_aeddc093905a4478930480891b60cd1e",
        "IPY_MODEL_aac0fa24c1fd4063b910d4372beb3f4f",
        "IPY_MODEL_11707a1f81a6495ba5f7b37f84fbd969"
       ],
       "layout": "IPY_MODEL_9319cab0220a45fb86cef1b3a078d3da",
       "left": 195724,
       "max_zoom": 24,
       "modisdate": "2024-03-12",
       "msg": "Failed to load model class 'LeafletMapModel' from module 'jupyter-leaflet'",
       "north": 39.48337536581216,
       "options": [
        "bounce_at_zoom_limits",
        "box_zoom",
        "center",
        "close_popup_on_click",
        "double_click_zoom",
        "dragging",
        "fullscreen",
        "inertia",
        "inertia_deceleration",
        "inertia_max_speed",
        "interpolation",
        "keyboard",
        "keyboard_pan_offset",
        "keyboard_zoom_offset",
        "max_zoom",
        "min_zoom",
        "prefer_canvas",
        "scroll_wheel_zoom",
        "tap",
        "tap_tolerance",
        "touch_zoom",
        "world_copy_jump",
        "zoom",
        "zoom_animation_threshold",
        "zoom_delta",
        "zoom_snap"
       ],
       "prefer_canvas": false,
       "right": 196702,
       "scroll_wheel_zoom": true,
       "south": 39.3242059256878,
       "style": "IPY_MODEL_e985982fbb9a4dd8b672d5e07100fb13",
       "top": 398926,
       "west": -112.80349731445312,
       "window_url": "https://jupyterhub.cuahsi.org/user/torresrua/lab/tree/courses/Machine-Learning-Applications-in-Remote-Sensing-Data/Step_4.ipynb"
      }
     },
     "dfe34a148c574cfcad8ad42f6c124189": {
      "model_module": "@jupyter-widgets/base",
      "model_module_version": "2.0.0",
      "model_name": "LayoutModel",
      "state": {
       "height": "auto",
       "padding": "0px 0px 0px 4px",
       "width": "auto"
      }
     },
     "e00ce5cab72d430699bdda6c6278351e": {
      "model_module": "jupyter-leaflet",
      "model_module_version": "^0.18",
      "model_name": "LeafletWidgetControlModel",
      "state": {
       "_model_module": "jupyter-leaflet",
       "_model_module_version": "^0.18",
       "_view_count": null,
       "_view_module": "jupyter-leaflet",
       "_view_module_version": "^0.18",
       "options": [
        "position",
        "transparent_bg"
       ],
       "position": "topright",
       "widget": "IPY_MODEL_d24110bd642b491f84604cb231822078"
      }
     },
     "e076e58372104e96b3c499851d18856f": {
      "model_module": "@jupyter-widgets/base",
      "model_module_version": "2.0.0",
      "model_name": "LayoutModel",
      "state": {}
     },
     "e0f9e1eb62194f2e8f9e6d35d17537c9": {
      "model_module": "@jupyter-widgets/controls",
      "model_module_version": "2.0.0",
      "model_name": "ToggleButtonModel",
      "state": {
       "button_style": "primary",
       "icon": "bar-chart",
       "layout": "IPY_MODEL_23d5a8117d8c42c98810166c7329aa32",
       "style": "IPY_MODEL_4ba18bd1a7cd4a669ca33d950712ecec",
       "tooltip": "Plotting"
      }
     },
     "e18a046cf4f2492ca7f233185c0d44d8": {
      "model_module": "jupyter-leaflet",
      "model_module_version": "2.0.0",
      "model_name": "LeafletMapStyleModel",
      "state": {
       "_view_name": "ErrorWidgetView",
       "error": {},
       "msg": "Failed to load model class 'LeafletMapStyleModel' from module 'jupyter-leaflet'"
      }
     },
     "e1e68e96159b40a184d0ab036b3cc881": {
      "model_module": "@jupyter-widgets/controls",
      "model_module_version": "2.0.0",
      "model_name": "ToggleButtonModel",
      "state": {
       "button_style": "primary",
       "icon": "hand-o-up",
       "layout": "IPY_MODEL_c71d1bece5764fb2bf5d170f88f9e232",
       "style": "IPY_MODEL_e8f22768b452478293dc3499a37024ce",
       "tooltip": "Collect training samples"
      }
     },
     "e234c973dccc408cbb8d22eb9a3ed665": {
      "model_module": "@jupyter-widgets/base",
      "model_module_version": "2.0.0",
      "model_name": "LayoutModel",
      "state": {}
     },
     "e322270e230a4937b2c6ac1478349adf": {
      "model_module": "@jupyter-widgets/controls",
      "model_module_version": "2.0.0",
      "model_name": "ToggleButtonStyleModel",
      "state": {
       "description_width": "",
       "font_family": null,
       "font_size": null,
       "font_style": null,
       "font_variant": null,
       "font_weight": null,
       "text_color": null,
       "text_decoration": null
      }
     },
     "e377c550f2454805b5c1dbddae254667": {
      "model_module": "@jupyter-widgets/controls",
      "model_module_version": "2.0.0",
      "model_name": "ToggleButtonStyleModel",
      "state": {
       "description_width": "",
       "font_family": null,
       "font_size": null,
       "font_style": null,
       "font_variant": null,
       "font_weight": null,
       "text_color": null,
       "text_decoration": null
      }
     },
     "e38092761e4d47d3a41df1d82a0e82b7": {
      "model_module": "@jupyter-widgets/controls",
      "model_module_version": "2.0.0",
      "model_name": "ToggleButtonsModel",
      "state": {
       "_options_labels": [
        "name/address",
        "lat-lon",
        "data"
       ],
       "button_style": "",
       "icons": [],
       "index": 0,
       "layout": "IPY_MODEL_25d60114a2044bdbac12cb422767f781",
       "style": "IPY_MODEL_9b20d9195f074ab1964ec9aade5d0f18",
       "tooltips": [
        "Search by place name or address",
        "Search by lat-lon coordinates",
        "Search Earth Engine data catalog"
       ]
      }
     },
     "e4a6c62918a64c859f506dfc04af8f33": {
      "model_module": "jupyter-leaflet",
      "model_module_version": "2.0.0",
      "model_name": "LeafletMapModel",
      "state": {
       "_view_name": "ErrorWidgetView",
       "bottom": 401007,
       "center": [
        39.00984719020561,
        -112.91746058050798
       ],
       "controls": [
        "IPY_MODEL_057cc1d0f08545bfb0c4ec483620e397",
        "IPY_MODEL_c26495be09e849ed939ce4ccdb04fe57",
        "IPY_MODEL_48bc31fd764c489184b883adb6a0ddb1",
        "IPY_MODEL_b39bfc9a43484ac1938397c7de50f3f7",
        "IPY_MODEL_194101032f2b4c839ba36f736c372dc6",
        "IPY_MODEL_bd9f539e31bd4b90ad5a618aeb702a38",
        "IPY_MODEL_8263e50062ef4d0d89ade4cdf986411d",
        "IPY_MODEL_35cffaeb181144ab8f086c348bcb7632"
       ],
       "default_style": "IPY_MODEL_8095bfa48f3e48ae86a8a23e88a2a9fb",
       "dragging_style": "IPY_MODEL_08bd328fd11c4f149f458fa7f26ddb37",
       "east": -112.74959564208986,
       "error": {},
       "fullscreen": false,
       "interpolation": "bilinear",
       "layers": [
        "IPY_MODEL_b6ae701e7464405bb6a01abd28a651c7",
        "IPY_MODEL_21002c9ef3f84a0ca3805f8f2e9e6382",
        "IPY_MODEL_70157f37e4ef48ed8081fe8693b5c4c0"
       ],
       "layout": "IPY_MODEL_1218b07343e54f63b2d78fc7bc5c7aca",
       "left": 194903,
       "max_zoom": 24,
       "modisdate": "2024-03-12",
       "msg": "Failed to load model class 'LeafletMapModel' from module 'jupyter-leaflet'",
       "north": 39.08983432815507,
       "options": [
        "bounce_at_zoom_limits",
        "box_zoom",
        "center",
        "close_popup_on_click",
        "double_click_zoom",
        "dragging",
        "fullscreen",
        "inertia",
        "inertia_deceleration",
        "inertia_max_speed",
        "interpolation",
        "keyboard",
        "keyboard_pan_offset",
        "keyboard_zoom_offset",
        "max_zoom",
        "min_zoom",
        "prefer_canvas",
        "scroll_wheel_zoom",
        "tap",
        "tap_tolerance",
        "touch_zoom",
        "world_copy_jump",
        "zoom",
        "zoom_animation_threshold",
        "zoom_delta",
        "zoom_snap"
       ],
       "prefer_canvas": false,
       "right": 195881,
       "scroll_wheel_zoom": true,
       "south": 38.92976949341693,
       "style": "IPY_MODEL_8095bfa48f3e48ae86a8a23e88a2a9fb",
       "top": 400407,
       "west": -113.08536529541017,
       "window_url": "https://jupyterhub.cuahsi.org/user/torresrua/lab/tree/courses/Machine-Learning-Applications-in-Remote-Sensing-Data/Step_5.ipynb"
      }
     },
     "e58465d9d43b4cc1821fda1f4c253d77": {
      "model_module": "@jupyter-widgets/controls",
      "model_module_version": "2.0.0",
      "model_name": "ToggleButtonModel",
      "state": {
       "button_style": "primary",
       "icon": "gears",
       "layout": "IPY_MODEL_5b1bc5fbfb8148e4b34889de5e7d3221",
       "style": "IPY_MODEL_7622d218701e4ece9ec601947238e117",
       "tooltip": "WhiteboxTools for local geoprocessing"
      }
     },
     "e590e7af6eec48a9aff31d6fb6319f3e": {
      "model_module": "jupyter-leaflet",
      "model_module_version": "^0.18",
      "model_name": "LeafletWidgetControlModel",
      "state": {
       "_model_module": "jupyter-leaflet",
       "_model_module_version": "^0.18",
       "_view_count": null,
       "_view_module": "jupyter-leaflet",
       "_view_module_version": "^0.18",
       "options": [
        "position",
        "transparent_bg"
       ],
       "position": "topright",
       "widget": "IPY_MODEL_91057e5ff21c423d8b372eb411f0cfd0"
      }
     },
     "e5fc7d80355a4900b0ed2e407cec77bd": {
      "model_module": "@jupyter-widgets/base",
      "model_module_version": "2.0.0",
      "model_name": "LayoutModel",
      "state": {}
     },
     "e725059c1ead46ccb1017035e801883a": {
      "model_module": "@jupyter-widgets/base",
      "model_module_version": "2.0.0",
      "model_name": "LayoutModel",
      "state": {
       "height": "auto",
       "padding": "0px 0px 0px 4px",
       "width": "auto"
      }
     },
     "e72cbf28f59e411897edcbb5d71d7330": {
      "model_module": "@jupyter-widgets/base",
      "model_module_version": "2.0.0",
      "model_name": "LayoutModel",
      "state": {
       "width": "500px"
      }
     },
     "e7c87da27b4b49cdbbe51df68faf2165": {
      "model_module": "@jupyter-widgets/controls",
      "model_module_version": "2.0.0",
      "model_name": "ToggleButtonModel",
      "state": {
       "icon": "globe",
       "layout": "IPY_MODEL_ae034351ba2d423086ea3947de04e1c6",
       "style": "IPY_MODEL_158eb5adc703463e8f5ce77764c4fbba",
       "tooltip": "Search location/data"
      }
     },
     "e8f22768b452478293dc3499a37024ce": {
      "model_module": "@jupyter-widgets/controls",
      "model_module_version": "2.0.0",
      "model_name": "ToggleButtonStyleModel",
      "state": {
       "description_width": "",
       "font_family": null,
       "font_size": null,
       "font_style": null,
       "font_variant": null,
       "font_weight": null,
       "text_color": null,
       "text_decoration": null
      }
     },
     "e985982fbb9a4dd8b672d5e07100fb13": {
      "model_module": "jupyter-leaflet",
      "model_module_version": "2.0.0",
      "model_name": "LeafletMapStyleModel",
      "state": {
       "_view_name": "ErrorWidgetView",
       "error": {},
       "msg": "Failed to load model class 'LeafletMapStyleModel' from module 'jupyter-leaflet'"
      }
     },
     "ea2a9aee7bb84be08d5bc6dad939af96": {
      "model_module": "@jupyter-widgets/controls",
      "model_module_version": "2.0.0",
      "model_name": "ToggleButtonModel",
      "state": {
       "button_style": "primary",
       "icon": "folder-open",
       "layout": "IPY_MODEL_6892974f472b4e6fa3e4258e5aba31c6",
       "style": "IPY_MODEL_5da5d3719dc24370b8b8c68d77f4555c",
       "tooltip": "Open local vector/raster data"
      }
     },
     "ea7a1d69b5454efba549ee830c211ef0": {
      "model_module": "@jupyter-widgets/base",
      "model_module_version": "2.0.0",
      "model_name": "LayoutModel",
      "state": {
       "height": "auto",
       "padding": "0px 0px 0px 4px",
       "width": "auto"
      }
     },
     "ea988a61fda34480b7bf92b8c43675b1": {
      "model_module": "@jupyter-widgets/controls",
      "model_module_version": "2.0.0",
      "model_name": "ToggleButtonModel",
      "state": {
       "button_style": "primary",
       "icon": "map",
       "layout": "IPY_MODEL_cf598755e5194ac69351b913a90b18f3",
       "style": "IPY_MODEL_c94265d0b2e64a76bc2e30864ee8b61d",
       "tooltip": "Change basemap"
      }
     },
     "eaae87ea9aa942579b6cb3b80124ef4d": {
      "model_module": "jupyter-leaflet",
      "model_module_version": "2.0.0",
      "model_name": "LeafletMapStyleModel",
      "state": {
       "_view_name": "ErrorWidgetView",
       "error": {},
       "msg": "Failed to load model class 'LeafletMapStyleModel' from module 'jupyter-leaflet'"
      }
     },
     "eb03ab88ed4049e48cd9126b8498e6c7": {
      "model_module": "jupyter-leaflet",
      "model_module_version": "^0.18",
      "model_name": "LeafletMeasureControlModel",
      "state": {
       "_model_module_version": "^0.18",
       "_view_module_version": "^0.18",
       "active_color": "orange",
       "options": [
        "active_color",
        "capture_z_index",
        "completed_color",
        "popup_options",
        "position",
        "primary_area_unit",
        "primary_length_unit",
        "secondary_area_unit",
        "secondary_length_unit"
       ],
       "position": "bottomleft",
       "primary_length_unit": "kilometers",
       "secondary_area_unit": null,
       "secondary_length_unit": null
      }
     },
     "eb303c89bdba4a06864d2708af681f3f": {
      "model_module": "@jupyter-widgets/controls",
      "model_module_version": "2.0.0",
      "model_name": "ToggleButtonModel",
      "state": {
       "button_style": "primary",
       "icon": "info",
       "layout": "IPY_MODEL_db6f8d9b80cf4a058641fbb6fbbe72d5",
       "style": "IPY_MODEL_c5d326d70f714dc08a7aca4d85fa0f23",
       "tooltip": "Inspector"
      }
     },
     "ece5094ba5ec47dd851a6b170df4db3d": {
      "model_module": "jupyter-leaflet",
      "model_module_version": "2.0.0",
      "model_name": "LeafletMapStyleModel",
      "state": {
       "_view_name": "ErrorWidgetView",
       "error": {},
       "msg": "Failed to load model class 'LeafletMapStyleModel' from module 'jupyter-leaflet'"
      }
     },
     "ee9385239a78499d8492d54b557ddabc": {
      "model_module": "@jupyter-widgets/base",
      "model_module_version": "2.0.0",
      "model_name": "LayoutModel",
      "state": {
       "height": "28px",
       "padding": "0px 0px 0px 4px",
       "width": "28px"
      }
     },
     "ee9ccc6d74c34f6f8a90967e2244780f": {
      "model_module": "@jupyter-widgets/controls",
      "model_module_version": "2.0.0",
      "model_name": "ToggleButtonModel",
      "state": {
       "button_style": "primary",
       "icon": "retweet",
       "layout": "IPY_MODEL_5c864ae5e770444daf8622063d2f715a",
       "style": "IPY_MODEL_2eb9640430284b02819ac9ca67c68ba2",
       "tooltip": "Convert Earth Engine JavaScript to Python"
      }
     },
     "f0117742c8db44cf9add35e27b3f4f6d": {
      "model_module": "@jupyter-widgets/controls",
      "model_module_version": "2.0.0",
      "model_name": "ToggleButtonStyleModel",
      "state": {
       "description_width": "",
       "font_family": null,
       "font_size": null,
       "font_style": null,
       "font_variant": null,
       "font_weight": null,
       "text_color": null,
       "text_decoration": null
      }
     },
     "f0e289d3a40045a2a02a958c441d03b8": {
      "model_module": "@jupyter-widgets/controls",
      "model_module_version": "2.0.0",
      "model_name": "ToggleButtonStyleModel",
      "state": {
       "description_width": "",
       "font_family": null,
       "font_size": null,
       "font_style": null,
       "font_variant": null,
       "font_weight": null,
       "text_color": null,
       "text_decoration": null
      }
     },
     "f123cb61fe6f48b7aee9d89d9f1d130e": {
      "model_module": "jupyter-leaflet",
      "model_module_version": "2.0.0",
      "model_name": "LeafletScaleControlModel",
      "state": {
       "_view_name": "ErrorWidgetView",
       "error": {},
       "imperial": true,
       "max_width": 100,
       "metric": true,
       "msg": "Failed to load model class 'LeafletScaleControlModel' from module 'jupyter-leaflet'",
       "options": [
        "imperial",
        "max_width",
        "metric",
        "position",
        "update_when_idle"
       ],
       "position": "bottomleft",
       "update_when_idle": false
      }
     },
     "f130b3a6c58c44df855c9f84280a89ee": {
      "model_module": "jupyter-leaflet",
      "model_module_version": "2.0.0",
      "model_name": "LeafletDrawControlModel",
      "state": {
       "_view_name": "ErrorWidgetView",
       "error": {},
       "marker": {
        "shapeOptions": {
         "color": "#3388ff"
        }
       },
       "msg": "Failed to load model class 'LeafletDrawControlModel' from module 'jupyter-leaflet'",
       "options": [
        "position"
       ],
       "polygon": {
        "shapeOptions": {
         "clickable": true,
         "color": "#3388ff",
         "fill": true,
         "fillColor": null,
         "fillOpacity": 0.2,
         "opacity": 0.5,
         "stroke": true,
         "weight": 4
        }
       },
       "polyline": {
        "shapeOptions": {
         "clickable": true,
         "color": "#3388ff",
         "fill": false,
         "opacity": 0.5,
         "stroke": true,
         "weight": 4
        }
       },
       "rectangle": {
        "shapeOptions": {
         "clickable": true,
         "color": "#3388ff",
         "fill": true,
         "fillColor": null,
         "fillOpacity": 0.2,
         "opacity": 0.5,
         "stroke": true,
         "weight": 4
        }
       }
      }
     },
     "f1368a532d144a93829dda6da18ca150": {
      "model_module": "@jupyter-widgets/base",
      "model_module_version": "2.0.0",
      "model_name": "LayoutModel",
      "state": {
       "grid_gap": "1px 1px",
       "grid_template_columns": "32px 32px 32px ",
       "grid_template_rows": "32px 32px ",
       "padding": "5px",
       "width": "109px"
      }
     },
     "f19b78af95e6414c8b88c50174cce081": {
      "model_module": "@jupyter-widgets/controls",
      "model_module_version": "2.0.0",
      "model_name": "ToggleButtonStyleModel",
      "state": {
       "description_width": "",
       "font_family": null,
       "font_size": null,
       "font_style": null,
       "font_variant": null,
       "font_weight": null,
       "text_color": null,
       "text_decoration": null
      }
     },
     "f1ee311cd66d43cfb05408de00259969": {
      "model_module": "@jupyter-widgets/controls",
      "model_module_version": "2.0.0",
      "model_name": "ToggleButtonModel",
      "state": {
       "button_style": "primary",
       "icon": "random",
       "layout": "IPY_MODEL_347fab8e55574c60b964627b05b0b663",
       "style": "IPY_MODEL_6b9ece18535f4d09adc316fce7a32160",
       "tooltip": "Sankey plots"
      }
     },
     "f28857f6b7f44050b52cc6415630982b": {
      "model_module": "@jupyter-widgets/base",
      "model_module_version": "2.0.0",
      "model_name": "LayoutModel",
      "state": {
       "height": "auto",
       "padding": "0px 0px 0px 4px",
       "width": "auto"
      }
     },
     "f2b2c18b600f4b82a8c1fc93cd2d89bb": {
      "model_module": "jupyter-leaflet",
      "model_module_version": "^0.18",
      "model_name": "LeafletMapModel",
      "state": {
       "_model_module_version": "^0.18",
       "_view_module_version": "^0.18",
       "bottom": 798780,
       "center": [
        39.40012200014591,
        -112.63320922851562
       ],
       "controls": [
        "IPY_MODEL_75a0fed794894fb9aed9e7cc44655708",
        "IPY_MODEL_1546e27c87df44368b8d50237ac46e94",
        "IPY_MODEL_89c6316bfc7442c899274aeb617dfa5e",
        "IPY_MODEL_cf647f767f6443f48e44c4772f38deba",
        "IPY_MODEL_9c57643d215447578e854cd18cdf84eb",
        "IPY_MODEL_9d92c105e6224fae8e990e5ac5e4a05d",
        "IPY_MODEL_b15ef7183c21466b90e32408673e729c",
        "IPY_MODEL_d401e84e6dee448eb2b92b02f5760531"
       ],
       "default_style": "IPY_MODEL_1f3430d078194d80a83c1b73509cf50d",
       "dragging_style": "IPY_MODEL_8e1f91934dc34c7da56b792329a58245",
       "east": -112.5568199157715,
       "fullscreen": false,
       "interpolation": "bilinear",
       "layers": [
        "IPY_MODEL_bfa9fc158d5546ac958cf580f22ef550",
        "IPY_MODEL_9db0bd41751745e78f862bb0b489832d"
       ],
       "layout": "IPY_MODEL_6f33199789dc4c4c940b2b60a37954fd",
       "left": 391995,
       "max_zoom": 24,
       "modisdate": "2024-03-29",
       "north": 39.43990513074364,
       "options": [
        "bounce_at_zoom_limits",
        "box_zoom",
        "center",
        "close_popup_on_click",
        "double_click_zoom",
        "dragging",
        "fullscreen",
        "inertia",
        "inertia_deceleration",
        "inertia_max_speed",
        "interpolation",
        "keyboard",
        "keyboard_pan_offset",
        "keyboard_zoom_offset",
        "max_zoom",
        "min_zoom",
        "prefer_canvas",
        "scroll_wheel_zoom",
        "tap",
        "tap_tolerance",
        "touch_zoom",
        "world_copy_jump",
        "zoom",
        "zoom_animation_threshold",
        "zoom_delta",
        "zoom_snap"
       ],
       "prefer_canvas": false,
       "right": 392885,
       "scroll_wheel_zoom": true,
       "south": 39.36031616648231,
       "style": "IPY_MODEL_1f3430d078194d80a83c1b73509cf50d",
       "top": 798180,
       "west": -112.70959854125978,
       "window_url": "https://jupyterhub.cuahsi.org/user/torresrua/lab/tree/courses/Machine-Learning-Applications-in-Remote-Sensing-Data/Step_5.ipynb",
       "zoom": 13
      }
     },
     "f442e6e9a450471b816529572cf6682c": {
      "model_module": "@jupyter-widgets/controls",
      "model_module_version": "2.0.0",
      "model_name": "ToggleButtonStyleModel",
      "state": {
       "description_width": "",
       "font_family": null,
       "font_size": null,
       "font_style": null,
       "font_variant": null,
       "font_weight": null,
       "text_color": null,
       "text_decoration": null
      }
     },
     "f4a9dd254a3b49b1aafc2ac2de9deaab": {
      "model_module": "@jupyter-widgets/controls",
      "model_module_version": "2.0.0",
      "model_name": "ToggleButtonStyleModel",
      "state": {
       "description_width": "",
       "font_family": null,
       "font_size": null,
       "font_style": null,
       "font_variant": null,
       "font_weight": null,
       "text_color": null,
       "text_decoration": null
      }
     },
     "f665f30e12044bd3af74cf3bf3024d89": {
      "model_module": "jupyter-leaflet",
      "model_module_version": "^0.18",
      "model_name": "LeafletZoomControlModel",
      "state": {
       "_model_module_version": "^0.18",
       "_view_module_version": "^0.18",
       "options": [
        "position",
        "zoom_in_text",
        "zoom_in_title",
        "zoom_out_text",
        "zoom_out_title"
       ]
      }
     },
     "f6c41851c83941649f8b9b6a02e008a9": {
      "model_module": "@jupyter-widgets/controls",
      "model_module_version": "2.0.0",
      "model_name": "ToggleButtonStyleModel",
      "state": {
       "description_width": "",
       "font_family": null,
       "font_size": null,
       "font_style": null,
       "font_variant": null,
       "font_weight": null,
       "text_color": null,
       "text_decoration": null
      }
     },
     "f7154d7d511b4bebbc5acf3294382e42": {
      "model_module": "@jupyter-widgets/output",
      "model_module_version": "1.0.0",
      "model_name": "OutputModel",
      "state": {
       "layout": "IPY_MODEL_123a05c791c44a598ef333ce767e5a81"
      }
     },
     "f726b4285ae245cda1a507e13dc8bfa0": {
      "model_module": "@jupyter-widgets/base",
      "model_module_version": "2.0.0",
      "model_name": "LayoutModel",
      "state": {
       "height": "auto",
       "padding": "0px 0px 0px 4px",
       "width": "auto"
      }
     },
     "f7b0bb26163a46058d720035b6b5b146": {
      "model_module": "@jupyter-widgets/controls",
      "model_module_version": "2.0.0",
      "model_name": "ToggleButtonModel",
      "state": {
       "button_style": "primary",
       "icon": "fast-forward",
       "layout": "IPY_MODEL_0434377c84154eac903b6fdb8555b480",
       "style": "IPY_MODEL_6108a9f461f74dce9d04326d7af0cec1",
       "tooltip": "Activate timeslider"
      }
     },
     "f7d3dd20334d4bbeb54a8323d6829b13": {
      "model_module": "@jupyter-widgets/controls",
      "model_module_version": "2.0.0",
      "model_name": "ToggleButtonModel",
      "state": {
       "button_style": "primary",
       "icon": "line-chart",
       "layout": "IPY_MODEL_fa3a5c95e5a248c8929a87ee4ee574ca",
       "style": "IPY_MODEL_a74a0b98e10c4fea90460577bc9596b6",
       "tooltip": "Creating and plotting transects"
      }
     },
     "f86b479219894aba8ced5526efe51fac": {
      "model_module": "@jupyter-widgets/controls",
      "model_module_version": "2.0.0",
      "model_name": "VBoxModel",
      "state": {
       "children": [
        "IPY_MODEL_626b2e95b69645b1bf7ff0ac266100c5"
       ],
       "layout": "IPY_MODEL_de096a63db5e46d58c224ea416152f9b"
      }
     },
     "f8f56b3726f54a5eada2817c5f8e5456": {
      "model_module": "@jupyter-widgets/controls",
      "model_module_version": "2.0.0",
      "model_name": "ToggleButtonStyleModel",
      "state": {
       "description_width": "",
       "font_family": null,
       "font_size": null,
       "font_style": null,
       "font_variant": null,
       "font_weight": null,
       "text_color": null,
       "text_decoration": null
      }
     },
     "f912189b191045df8f38129358112bb2": {
      "model_module": "@jupyter-widgets/controls",
      "model_module_version": "2.0.0",
      "model_name": "ToggleButtonStyleModel",
      "state": {
       "description_width": "",
       "font_family": null,
       "font_size": null,
       "font_style": null,
       "font_variant": null,
       "font_weight": null,
       "text_color": null,
       "text_decoration": null
      }
     },
     "f9b85ccf1de6438ebaf973ad302bcc2f": {
      "model_module": "@jupyter-widgets/controls",
      "model_module_version": "2.0.0",
      "model_name": "ToggleButtonModel",
      "state": {
       "button_style": "primary",
       "icon": "hand-o-up",
       "layout": "IPY_MODEL_068ed838781b46e890a9aee5fd81ee57",
       "style": "IPY_MODEL_e377c550f2454805b5c1dbddae254667",
       "tooltip": "Collect training samples"
      }
     },
     "f9d39668c8e34d13a09d1f15dc181769": {
      "model_module": "@jupyter-widgets/base",
      "model_module_version": "2.0.0",
      "model_name": "LayoutModel",
      "state": {
       "max_width": "279px",
       "min_width": "279px"
      }
     },
     "fa3a5c95e5a248c8929a87ee4ee574ca": {
      "model_module": "@jupyter-widgets/base",
      "model_module_version": "2.0.0",
      "model_name": "LayoutModel",
      "state": {
       "height": "auto",
       "padding": "0px 0px 0px 4px",
       "width": "auto"
      }
     },
     "fa9bc00414a745c38e054d0cc69605b6": {
      "model_module": "@jupyter-widgets/controls",
      "model_module_version": "2.0.0",
      "model_name": "ToggleButtonModel",
      "state": {
       "button_style": "primary",
       "icon": "map",
       "layout": "IPY_MODEL_58f3a792e8b946ccbf5ce704cc0bd9da",
       "style": "IPY_MODEL_f19b78af95e6414c8b88c50174cce081",
       "tooltip": "Change basemap"
      }
     },
     "faecb9113104455db30e47d9ca7eafff": {
      "model_module": "@jupyter-widgets/controls",
      "model_module_version": "2.0.0",
      "model_name": "ToggleButtonModel",
      "state": {
       "button_style": "primary",
       "icon": "info",
       "layout": "IPY_MODEL_c2fd5326d84b4189a47e2eb55cf24181",
       "style": "IPY_MODEL_ae63b0efc6f148b8b5fcf043c76cde35",
       "tooltip": "Inspector"
      }
     },
     "fb2ad6d635ba4ecd9f6d09578167155e": {
      "model_module": "@jupyter-widgets/controls",
      "model_module_version": "2.0.0",
      "model_name": "ToggleButtonModel",
      "state": {
       "icon": "server",
       "layout": "IPY_MODEL_2a1c954a386046f1b9495a06e71cfa4c",
       "style": "IPY_MODEL_29a7ced7068f4708ae301310fd2fe492",
       "tooltip": "Layers"
      }
     },
     "fc1224d2be0b4660ac3957d16c65d848": {
      "model_module": "jupyter-leaflet",
      "model_module_version": "^0.18",
      "model_name": "LeafletDrawControlModel",
      "state": {
       "_model_module_version": "^0.18",
       "_view_module_version": "^0.18",
       "marker": {
        "shapeOptions": {
         "color": "#3388ff"
        }
       },
       "options": [
        "position"
       ],
       "polygon": {
        "shapeOptions": {
         "clickable": true,
         "color": "#3388ff",
         "fill": true,
         "fillColor": null,
         "fillOpacity": 0.2,
         "opacity": 0.5,
         "stroke": true,
         "weight": 4
        }
       },
       "polyline": {
        "shapeOptions": {
         "clickable": true,
         "color": "#3388ff",
         "fill": false,
         "opacity": 0.5,
         "stroke": true,
         "weight": 4
        }
       },
       "rectangle": {
        "shapeOptions": {
         "clickable": true,
         "color": "#3388ff",
         "fill": true,
         "fillColor": null,
         "fillOpacity": 0.2,
         "opacity": 0.5,
         "stroke": true,
         "weight": 4
        }
       }
      }
     },
     "fc392a0db4d947daa74a098004d6904d": {
      "model_module": "@jupyter-widgets/controls",
      "model_module_version": "2.0.0",
      "model_name": "ToggleButtonStyleModel",
      "state": {
       "description_width": "",
       "font_family": null,
       "font_size": null,
       "font_style": null,
       "font_variant": null,
       "font_weight": null,
       "text_color": null,
       "text_decoration": null
      }
     },
     "fc74d8f022504cc28df2096b4d68da46": {
      "model_module": "@jupyter-widgets/base",
      "model_module_version": "2.0.0",
      "model_name": "LayoutModel",
      "state": {}
     },
     "fdd13e59272b452abc9a4fbebca53132": {
      "model_module": "@jupyter-widgets/controls",
      "model_module_version": "2.0.0",
      "model_name": "ToggleButtonStyleModel",
      "state": {
       "description_width": "",
       "font_family": null,
       "font_size": null,
       "font_style": null,
       "font_variant": null,
       "font_weight": null,
       "text_color": null,
       "text_decoration": null
      }
     },
     "fdee578f2cf24da286b4ae6e4c22d770": {
      "model_module": "jupyter-leaflet",
      "model_module_version": "2.0.0",
      "model_name": "LeafletZoomControlModel",
      "state": {
       "_view_name": "ErrorWidgetView",
       "error": {},
       "msg": "Failed to load model class 'LeafletZoomControlModel' from module 'jupyter-leaflet'",
       "options": [
        "position",
        "zoom_in_text",
        "zoom_in_title",
        "zoom_out_text",
        "zoom_out_title"
       ]
      }
     },
     "fe4f74036258409195e4828b73902f97": {
      "model_module": "@jupyter-widgets/controls",
      "model_module_version": "2.0.0",
      "model_name": "ToggleButtonModel",
      "state": {
       "button_style": "primary",
       "icon": "gears",
       "layout": "IPY_MODEL_d4bc8620eb444254b48cc314874dc415",
       "style": "IPY_MODEL_0d2b9f5ef5fd41fb8553a00d74478db5",
       "tooltip": "WhiteboxTools for local geoprocessing"
      }
     },
     "fe6ed07b6cf943618eb6e215e31397f9": {
      "model_module": "@jupyter-widgets/base",
      "model_module_version": "2.0.0",
      "model_name": "LayoutModel",
      "state": {
       "height": "28px",
       "padding": "0px 0px 0px 4px",
       "width": "28px"
      }
     },
     "feb9a68a6d464c4eac12899080206798": {
      "model_module": "@jupyter-widgets/controls",
      "model_module_version": "2.0.0",
      "model_name": "RadioButtonsModel",
      "state": {
       "index": null,
       "layout": "IPY_MODEL_ad9862cd22db4e9fb7cbfaf85349a6dd",
       "style": "IPY_MODEL_6ba3ccd08ba04c7498d951ba276b8d6b"
      }
     },
     "ff0eeb1fb48b4c46bb8626db015c26ac": {
      "model_module": "jupyter-leaflet",
      "model_module_version": "2.0.0",
      "model_name": "LeafletWidgetControlModel",
      "state": {
       "_model_module": "jupyter-leaflet",
       "_view_name": "ErrorWidgetView",
       "error": {},
       "msg": "Failed to load model class 'LeafletWidgetControlModel' from module 'jupyter-leaflet'",
       "options": [
        "position",
        "transparent_bg"
       ],
       "position": "topleft",
       "widget": "IPY_MODEL_367f239f5e28488aad49f8cfa4086046"
      }
     },
     "ff72251cf52d49149e33f08d9ce55a38": {
      "model_module": "jupyter-leaflet",
      "model_module_version": "2.0.0",
      "model_name": "LeafletMapStyleModel",
      "state": {
       "_view_name": "ErrorWidgetView",
       "error": {},
       "msg": "Failed to load model class 'LeafletMapStyleModel' from module 'jupyter-leaflet'"
      }
     },
     "ffe595011f7e4d25b28a57120f787bcb": {
      "model_module": "jupyter-leaflet",
      "model_module_version": "2.0.0",
      "model_name": "LeafletZoomControlModel",
      "state": {
       "_view_name": "ErrorWidgetView",
       "error": {},
       "msg": "Failed to load model class 'LeafletZoomControlModel' from module 'jupyter-leaflet'",
       "options": [
        "position",
        "zoom_in_text",
        "zoom_in_title",
        "zoom_out_text",
        "zoom_out_title"
       ]
      }
     }
    },
    "version_major": 2,
    "version_minor": 0
   }
  }
 },
 "nbformat": 4,
 "nbformat_minor": 4
}
