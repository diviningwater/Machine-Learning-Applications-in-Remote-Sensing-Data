{
 "cells": [
  {
   "cell_type": "markdown",
   "metadata": {},
   "source": [
    "\n",
    "## Step 3: Implementing a linear regression algorithm  \n",
    "\n",
    "### Background: \n",
    "Once we have the information from the satellite band pixels and the respective soil moisture values, we can implement a linear regression algorithm that can correlate  the band pixels (we will call this input) and soil moisture (output). There are plenty of machine learning algorithms. A good website where examples and Python implemented algorithms are compiled is https://scikit-learn.org/stable/.\n",
    "\n"
   ]
  },
  {
   "cell_type": "markdown",
   "metadata": {},
   "source": [
    "Let's install the necessary python library. Open the terminal and pass the following command."
   ]
  },
  {
   "cell_type": "raw",
   "metadata": {},
   "source": [
    "pip install mlxtend\n",
    "\n"
   ]
  },
  {
   "cell_type": "markdown",
   "metadata": {},
   "source": [
    "Let's start importing the csv file generated in Step 2:"
   ]
  },
  {
   "cell_type": "code",
   "execution_count": 1,
   "metadata": {},
   "outputs": [],
   "source": [
    "import numpy as np\n",
    "\n",
    "import warnings\n",
    "warnings.filterwarnings('ignore')"
   ]
  },
  {
   "cell_type": "code",
   "execution_count": 2,
   "metadata": {},
   "outputs": [
    {
     "data": {
      "text/html": [
       "<div>\n",
       "<style scoped>\n",
       "    .dataframe tbody tr th:only-of-type {\n",
       "        vertical-align: middle;\n",
       "    }\n",
       "\n",
       "    .dataframe tbody tr th {\n",
       "        vertical-align: top;\n",
       "    }\n",
       "\n",
       "    .dataframe thead th {\n",
       "        text-align: right;\n",
       "    }\n",
       "</style>\n",
       "<table border=\"1\" class=\"dataframe\">\n",
       "  <thead>\n",
       "    <tr style=\"text-align: right;\">\n",
       "      <th></th>\n",
       "      <th>SR_B1</th>\n",
       "      <th>SR_B2</th>\n",
       "      <th>SR_B3</th>\n",
       "      <th>SR_B4</th>\n",
       "      <th>SR_B5</th>\n",
       "      <th>ST_B6</th>\n",
       "      <th>SR_B7</th>\n",
       "      <th>AFRI1600</th>\n",
       "      <th>AFRI2100</th>\n",
       "      <th>ARVI</th>\n",
       "      <th>...</th>\n",
       "      <th>TDVI</th>\n",
       "      <th>TGI</th>\n",
       "      <th>TSAVI</th>\n",
       "      <th>TVI</th>\n",
       "      <th>TriVI</th>\n",
       "      <th>VARI</th>\n",
       "      <th>VIG</th>\n",
       "      <th>WDRVI</th>\n",
       "      <th>WDVI</th>\n",
       "      <th>SM</th>\n",
       "    </tr>\n",
       "  </thead>\n",
       "  <tbody>\n",
       "    <tr>\n",
       "      <th>0</th>\n",
       "      <td>0.05</td>\n",
       "      <td>0.08</td>\n",
       "      <td>0.07</td>\n",
       "      <td>0.39</td>\n",
       "      <td>0.20</td>\n",
       "      <td>1.09</td>\n",
       "      <td>0.10</td>\n",
       "      <td>0.49</td>\n",
       "      <td>0.77</td>\n",
       "      <td>0.78</td>\n",
       "      <td>...</td>\n",
       "      <td>0.57</td>\n",
       "      <td>2.46</td>\n",
       "      <td>0.70</td>\n",
       "      <td>1.10</td>\n",
       "      <td>19.83</td>\n",
       "      <td>0.14</td>\n",
       "      <td>0.09</td>\n",
       "      <td>-0.27</td>\n",
       "      <td>0.32</td>\n",
       "      <td>0.39</td>\n",
       "    </tr>\n",
       "    <tr>\n",
       "      <th>1</th>\n",
       "      <td>0.05</td>\n",
       "      <td>0.08</td>\n",
       "      <td>0.07</td>\n",
       "      <td>0.39</td>\n",
       "      <td>0.21</td>\n",
       "      <td>1.10</td>\n",
       "      <td>0.10</td>\n",
       "      <td>0.47</td>\n",
       "      <td>0.76</td>\n",
       "      <td>0.76</td>\n",
       "      <td>...</td>\n",
       "      <td>0.55</td>\n",
       "      <td>2.38</td>\n",
       "      <td>0.68</td>\n",
       "      <td>1.09</td>\n",
       "      <td>19.17</td>\n",
       "      <td>0.11</td>\n",
       "      <td>0.07</td>\n",
       "      <td>-0.31</td>\n",
       "      <td>0.31</td>\n",
       "      <td>0.32</td>\n",
       "    </tr>\n",
       "    <tr>\n",
       "      <th>2</th>\n",
       "      <td>0.06</td>\n",
       "      <td>0.10</td>\n",
       "      <td>0.08</td>\n",
       "      <td>0.37</td>\n",
       "      <td>0.20</td>\n",
       "      <td>1.10</td>\n",
       "      <td>0.10</td>\n",
       "      <td>0.48</td>\n",
       "      <td>0.76</td>\n",
       "      <td>0.71</td>\n",
       "      <td>...</td>\n",
       "      <td>0.52</td>\n",
       "      <td>2.68</td>\n",
       "      <td>0.65</td>\n",
       "      <td>1.07</td>\n",
       "      <td>18.24</td>\n",
       "      <td>0.16</td>\n",
       "      <td>0.10</td>\n",
       "      <td>-0.36</td>\n",
       "      <td>0.29</td>\n",
       "      <td>0.50</td>\n",
       "    </tr>\n",
       "    <tr>\n",
       "      <th>3</th>\n",
       "      <td>0.06</td>\n",
       "      <td>0.10</td>\n",
       "      <td>0.08</td>\n",
       "      <td>0.36</td>\n",
       "      <td>0.20</td>\n",
       "      <td>1.10</td>\n",
       "      <td>0.10</td>\n",
       "      <td>0.46</td>\n",
       "      <td>0.76</td>\n",
       "      <td>0.70</td>\n",
       "      <td>...</td>\n",
       "      <td>0.49</td>\n",
       "      <td>2.49</td>\n",
       "      <td>0.62</td>\n",
       "      <td>1.06</td>\n",
       "      <td>17.24</td>\n",
       "      <td>0.11</td>\n",
       "      <td>0.07</td>\n",
       "      <td>-0.40</td>\n",
       "      <td>0.28</td>\n",
       "      <td>0.47</td>\n",
       "    </tr>\n",
       "    <tr>\n",
       "      <th>4</th>\n",
       "      <td>0.13</td>\n",
       "      <td>0.17</td>\n",
       "      <td>0.21</td>\n",
       "      <td>0.27</td>\n",
       "      <td>0.34</td>\n",
       "      <td>1.17</td>\n",
       "      <td>0.30</td>\n",
       "      <td>0.10</td>\n",
       "      <td>0.29</td>\n",
       "      <td>0.35</td>\n",
       "      <td>...</td>\n",
       "      <td>0.10</td>\n",
       "      <td>0.96</td>\n",
       "      <td>0.13</td>\n",
       "      <td>0.79</td>\n",
       "      <td>2.10</td>\n",
       "      <td>-0.16</td>\n",
       "      <td>-0.11</td>\n",
       "      <td>-0.77</td>\n",
       "      <td>0.06</td>\n",
       "      <td>0.07</td>\n",
       "    </tr>\n",
       "    <tr>\n",
       "      <th>...</th>\n",
       "      <td>...</td>\n",
       "      <td>...</td>\n",
       "      <td>...</td>\n",
       "      <td>...</td>\n",
       "      <td>...</td>\n",
       "      <td>...</td>\n",
       "      <td>...</td>\n",
       "      <td>...</td>\n",
       "      <td>...</td>\n",
       "      <td>...</td>\n",
       "      <td>...</td>\n",
       "      <td>...</td>\n",
       "      <td>...</td>\n",
       "      <td>...</td>\n",
       "      <td>...</td>\n",
       "      <td>...</td>\n",
       "      <td>...</td>\n",
       "      <td>...</td>\n",
       "      <td>...</td>\n",
       "      <td>...</td>\n",
       "      <td>...</td>\n",
       "    </tr>\n",
       "    <tr>\n",
       "      <th>66</th>\n",
       "      <td>0.04</td>\n",
       "      <td>0.07</td>\n",
       "      <td>0.04</td>\n",
       "      <td>0.56</td>\n",
       "      <td>0.21</td>\n",
       "      <td>1.12</td>\n",
       "      <td>0.09</td>\n",
       "      <td>0.60</td>\n",
       "      <td>0.85</td>\n",
       "      <td>0.88</td>\n",
       "      <td>...</td>\n",
       "      <td>0.84</td>\n",
       "      <td>2.94</td>\n",
       "      <td>0.85</td>\n",
       "      <td>1.16</td>\n",
       "      <td>32.15</td>\n",
       "      <td>0.34</td>\n",
       "      <td>0.23</td>\n",
       "      <td>0.12</td>\n",
       "      <td>0.52</td>\n",
       "      <td>0.17</td>\n",
       "    </tr>\n",
       "    <tr>\n",
       "      <th>67</th>\n",
       "      <td>0.08</td>\n",
       "      <td>0.11</td>\n",
       "      <td>0.12</td>\n",
       "      <td>0.44</td>\n",
       "      <td>0.30</td>\n",
       "      <td>1.15</td>\n",
       "      <td>0.17</td>\n",
       "      <td>0.38</td>\n",
       "      <td>0.68</td>\n",
       "      <td>0.71</td>\n",
       "      <td>...</td>\n",
       "      <td>0.53</td>\n",
       "      <td>1.78</td>\n",
       "      <td>0.57</td>\n",
       "      <td>1.04</td>\n",
       "      <td>18.90</td>\n",
       "      <td>-0.06</td>\n",
       "      <td>-0.04</td>\n",
       "      <td>-0.46</td>\n",
       "      <td>0.32</td>\n",
       "      <td>0.11</td>\n",
       "    </tr>\n",
       "    <tr>\n",
       "      <th>68</th>\n",
       "      <td>0.08</td>\n",
       "      <td>0.12</td>\n",
       "      <td>0.14</td>\n",
       "      <td>0.45</td>\n",
       "      <td>0.33</td>\n",
       "      <td>1.15</td>\n",
       "      <td>0.18</td>\n",
       "      <td>0.35</td>\n",
       "      <td>0.66</td>\n",
       "      <td>0.70</td>\n",
       "      <td>...</td>\n",
       "      <td>0.51</td>\n",
       "      <td>1.99</td>\n",
       "      <td>0.52</td>\n",
       "      <td>1.01</td>\n",
       "      <td>18.06</td>\n",
       "      <td>-0.09</td>\n",
       "      <td>-0.07</td>\n",
       "      <td>-0.51</td>\n",
       "      <td>0.31</td>\n",
       "      <td>0.08</td>\n",
       "    </tr>\n",
       "    <tr>\n",
       "      <th>69</th>\n",
       "      <td>0.06</td>\n",
       "      <td>0.08</td>\n",
       "      <td>0.07</td>\n",
       "      <td>0.45</td>\n",
       "      <td>0.21</td>\n",
       "      <td>1.12</td>\n",
       "      <td>0.09</td>\n",
       "      <td>0.54</td>\n",
       "      <td>0.81</td>\n",
       "      <td>0.78</td>\n",
       "      <td>...</td>\n",
       "      <td>0.65</td>\n",
       "      <td>2.02</td>\n",
       "      <td>0.72</td>\n",
       "      <td>1.11</td>\n",
       "      <td>23.25</td>\n",
       "      <td>0.10</td>\n",
       "      <td>0.07</td>\n",
       "      <td>-0.24</td>\n",
       "      <td>0.38</td>\n",
       "      <td>0.16</td>\n",
       "    </tr>\n",
       "    <tr>\n",
       "      <th>70</th>\n",
       "      <td>0.10</td>\n",
       "      <td>0.14</td>\n",
       "      <td>0.17</td>\n",
       "      <td>0.25</td>\n",
       "      <td>0.28</td>\n",
       "      <td>1.14</td>\n",
       "      <td>0.21</td>\n",
       "      <td>0.15</td>\n",
       "      <td>0.42</td>\n",
       "      <td>0.42</td>\n",
       "      <td>...</td>\n",
       "      <td>0.15</td>\n",
       "      <td>1.11</td>\n",
       "      <td>0.20</td>\n",
       "      <td>0.84</td>\n",
       "      <td>3.92</td>\n",
       "      <td>-0.14</td>\n",
       "      <td>-0.09</td>\n",
       "      <td>-0.74</td>\n",
       "      <td>0.08</td>\n",
       "      <td>0.33</td>\n",
       "    </tr>\n",
       "  </tbody>\n",
       "</table>\n",
       "<p>71 rows × 98 columns</p>\n",
       "</div>"
      ],
      "text/plain": [
       "    SR_B1  SR_B2  SR_B3  SR_B4  SR_B5  ST_B6  SR_B7  AFRI1600  AFRI2100  ARVI  \\\n",
       "0    0.05   0.08   0.07   0.39   0.20   1.09   0.10      0.49      0.77  0.78   \n",
       "1    0.05   0.08   0.07   0.39   0.21   1.10   0.10      0.47      0.76  0.76   \n",
       "2    0.06   0.10   0.08   0.37   0.20   1.10   0.10      0.48      0.76  0.71   \n",
       "3    0.06   0.10   0.08   0.36   0.20   1.10   0.10      0.46      0.76  0.70   \n",
       "4    0.13   0.17   0.21   0.27   0.34   1.17   0.30      0.10      0.29  0.35   \n",
       "..    ...    ...    ...    ...    ...    ...    ...       ...       ...   ...   \n",
       "66   0.04   0.07   0.04   0.56   0.21   1.12   0.09      0.60      0.85  0.88   \n",
       "67   0.08   0.11   0.12   0.44   0.30   1.15   0.17      0.38      0.68  0.71   \n",
       "68   0.08   0.12   0.14   0.45   0.33   1.15   0.18      0.35      0.66  0.70   \n",
       "69   0.06   0.08   0.07   0.45   0.21   1.12   0.09      0.54      0.81  0.78   \n",
       "70   0.10   0.14   0.17   0.25   0.28   1.14   0.21      0.15      0.42  0.42   \n",
       "\n",
       "    ...  TDVI   TGI  TSAVI   TVI  TriVI  VARI   VIG  WDRVI  WDVI    SM  \n",
       "0   ...  0.57  2.46   0.70  1.10  19.83  0.14  0.09  -0.27  0.32  0.39  \n",
       "1   ...  0.55  2.38   0.68  1.09  19.17  0.11  0.07  -0.31  0.31  0.32  \n",
       "2   ...  0.52  2.68   0.65  1.07  18.24  0.16  0.10  -0.36  0.29  0.50  \n",
       "3   ...  0.49  2.49   0.62  1.06  17.24  0.11  0.07  -0.40  0.28  0.47  \n",
       "4   ...  0.10  0.96   0.13  0.79   2.10 -0.16 -0.11  -0.77  0.06  0.07  \n",
       "..  ...   ...   ...    ...   ...    ...   ...   ...    ...   ...   ...  \n",
       "66  ...  0.84  2.94   0.85  1.16  32.15  0.34  0.23   0.12  0.52  0.17  \n",
       "67  ...  0.53  1.78   0.57  1.04  18.90 -0.06 -0.04  -0.46  0.32  0.11  \n",
       "68  ...  0.51  1.99   0.52  1.01  18.06 -0.09 -0.07  -0.51  0.31  0.08  \n",
       "69  ...  0.65  2.02   0.72  1.11  23.25  0.10  0.07  -0.24  0.38  0.16  \n",
       "70  ...  0.15  1.11   0.20  0.84   3.92 -0.14 -0.09  -0.74  0.08  0.33  \n",
       "\n",
       "[71 rows x 98 columns]"
      ]
     },
     "execution_count": 2,
     "metadata": {},
     "output_type": "execute_result"
    }
   ],
   "source": [
    "import pandas as pd\n",
    "sma = pd.read_csv('./Results Step 2/machine_learning_data.csv')\n",
    "sma=sma.loc[:, sma.columns != 'CROP']\n",
    "sma['ST_B6'] = sma['ST_B6'] /273.15\n",
    "\n",
    "sma.round(2)#.head(3)"
   ]
  },
  {
   "cell_type": "code",
   "execution_count": 3,
   "metadata": {},
   "outputs": [
    {
     "name": "stdout",
     "output_type": "stream",
     "text": [
      "       SR_B1  SR_B2  SR_B3  SR_B4  SR_B5  ST_B6  SR_B7  AFRI1600  AFRI2100  \\\n",
      "SR_B1   1.00   0.99   0.98   0.65   0.85   0.75   0.94      0.92      0.95   \n",
      "SR_B2   0.99   1.00   0.98   0.62   0.88   0.76   0.95      0.91      0.94   \n",
      "SR_B3   0.98   0.98   1.00   0.68   0.85   0.79   0.94      0.94      0.96   \n",
      "SR_B4   0.65   0.62   0.68   1.00   0.34   0.51   0.50      0.79      0.74   \n",
      "SR_B5   0.85   0.88   0.85   0.34   1.00   0.77   0.95      0.82      0.83   \n",
      "...      ...    ...    ...    ...    ...    ...    ...       ...       ...   \n",
      "VARI    0.79   0.77   0.86   0.82   0.63   0.75   0.71      0.88      0.83   \n",
      "VIG     0.78   0.76   0.86   0.82   0.63   0.75   0.70      0.87      0.82   \n",
      "WDRVI   0.84   0.83   0.88   0.91   0.64   0.72   0.73      0.92      0.87   \n",
      "WDVI    0.83   0.81   0.86   0.96   0.57   0.66   0.71      0.92      0.89   \n",
      "SM      0.03   0.06   0.03   0.37   0.25   0.38   0.18      0.08      0.01   \n",
      "\n",
      "       ARVI  ...  TDVI   TGI  TSAVI   TVI  TriVI  VARI   VIG  WDRVI  WDVI  \\\n",
      "SR_B1  0.94  ...  0.86  0.60   0.92  0.92   0.85  0.79  0.78   0.84  0.83   \n",
      "SR_B2  0.91  ...  0.84  0.51   0.90  0.91   0.83  0.77  0.76   0.83  0.81   \n",
      "SR_B3  0.93  ...  0.89  0.65   0.95  0.95   0.88  0.86  0.86   0.88  0.86   \n",
      "SR_B4  0.84  ...  0.94  0.67   0.85  0.84   0.94  0.82  0.82   0.91  0.96   \n",
      "SR_B5  0.69  ...  0.61  0.38   0.70  0.70   0.59  0.63  0.63   0.64  0.57   \n",
      "...     ...  ...   ...   ...    ...   ...    ...   ...   ...    ...   ...   \n",
      "VARI   0.85  ...  0.91  0.80   0.91  0.90   0.92  1.00  1.00   0.96  0.91   \n",
      "VIG    0.85  ...  0.91  0.80   0.91  0.89   0.91  1.00  1.00   0.95  0.90   \n",
      "WDRVI  0.92  ...  0.97  0.70   0.95  0.93   0.98  0.96  0.95   1.00  0.97   \n",
      "WDVI   0.95  ...  1.00  0.71   0.96  0.95   1.00  0.91  0.90   0.97  1.00   \n",
      "SM     0.16  ...  0.22  0.17   0.15  0.14   0.22  0.07  0.07   0.15  0.24   \n",
      "\n",
      "         SM  \n",
      "SR_B1  0.03  \n",
      "SR_B2  0.06  \n",
      "SR_B3  0.03  \n",
      "SR_B4  0.37  \n",
      "SR_B5  0.25  \n",
      "...     ...  \n",
      "VARI   0.07  \n",
      "VIG    0.07  \n",
      "WDRVI  0.15  \n",
      "WDVI   0.24  \n",
      "SM     1.00  \n",
      "\n",
      "[98 rows x 98 columns]\n"
     ]
    }
   ],
   "source": [
    "cor_matrix=sma.corr().abs()\n",
    "print(cor_matrix.round(2))"
   ]
  },
  {
   "cell_type": "code",
   "execution_count": 4,
   "metadata": {},
   "outputs": [
    {
     "name": "stdout",
     "output_type": "stream",
     "text": [
      "       SR_B1  SR_B2  SR_B3  SR_B4  SR_B5  ST_B6  SR_B7  AFRI1600  AFRI2100  \\\n",
      "SR_B1    NaN   0.99   0.98   0.65   0.85   0.75   0.94      0.92      0.95   \n",
      "SR_B2    NaN    NaN   0.98   0.62   0.88   0.76   0.95      0.91      0.94   \n",
      "SR_B3    NaN    NaN    NaN   0.68   0.85   0.79   0.94      0.94      0.96   \n",
      "SR_B4    NaN    NaN    NaN    NaN   0.34   0.51   0.50      0.79      0.74   \n",
      "SR_B5    NaN    NaN    NaN    NaN    NaN   0.77   0.95      0.82      0.83   \n",
      "...      ...    ...    ...    ...    ...    ...    ...       ...       ...   \n",
      "VARI     NaN    NaN    NaN    NaN    NaN    NaN    NaN       NaN       NaN   \n",
      "VIG      NaN    NaN    NaN    NaN    NaN    NaN    NaN       NaN       NaN   \n",
      "WDRVI    NaN    NaN    NaN    NaN    NaN    NaN    NaN       NaN       NaN   \n",
      "WDVI     NaN    NaN    NaN    NaN    NaN    NaN    NaN       NaN       NaN   \n",
      "SM       NaN    NaN    NaN    NaN    NaN    NaN    NaN       NaN       NaN   \n",
      "\n",
      "       ARVI  ...  TDVI   TGI  TSAVI   TVI  TriVI  VARI   VIG  WDRVI  WDVI  \\\n",
      "SR_B1  0.94  ...  0.86  0.60   0.92  0.92   0.85  0.79  0.78   0.84  0.83   \n",
      "SR_B2  0.91  ...  0.84  0.51   0.90  0.91   0.83  0.77  0.76   0.83  0.81   \n",
      "SR_B3  0.93  ...  0.89  0.65   0.95  0.95   0.88  0.86  0.86   0.88  0.86   \n",
      "SR_B4  0.84  ...  0.94  0.67   0.85  0.84   0.94  0.82  0.82   0.91  0.96   \n",
      "SR_B5  0.69  ...  0.61  0.38   0.70  0.70   0.59  0.63  0.63   0.64  0.57   \n",
      "...     ...  ...   ...   ...    ...   ...    ...   ...   ...    ...   ...   \n",
      "VARI    NaN  ...   NaN   NaN    NaN   NaN    NaN   NaN  1.00   0.96  0.91   \n",
      "VIG     NaN  ...   NaN   NaN    NaN   NaN    NaN   NaN   NaN   0.95  0.90   \n",
      "WDRVI   NaN  ...   NaN   NaN    NaN   NaN    NaN   NaN   NaN    NaN  0.97   \n",
      "WDVI    NaN  ...   NaN   NaN    NaN   NaN    NaN   NaN   NaN    NaN   NaN   \n",
      "SM      NaN  ...   NaN   NaN    NaN   NaN    NaN   NaN   NaN    NaN   NaN   \n",
      "\n",
      "         SM  \n",
      "SR_B1  0.03  \n",
      "SR_B2  0.06  \n",
      "SR_B3  0.03  \n",
      "SR_B4  0.37  \n",
      "SR_B5  0.25  \n",
      "...     ...  \n",
      "VARI   0.07  \n",
      "VIG    0.07  \n",
      "WDRVI  0.15  \n",
      "WDVI   0.24  \n",
      "SM      NaN  \n",
      "\n",
      "[98 rows x 98 columns]\n"
     ]
    }
   ],
   "source": [
    "upper_tri = cor_matrix.where(np.triu(np.ones(cor_matrix.shape),k=1).astype(np.bool))\n",
    "print(upper_tri.round(2))"
   ]
  },
  {
   "cell_type": "code",
   "execution_count": 5,
   "metadata": {},
   "outputs": [
    {
     "name": "stdout",
     "output_type": "stream",
     "text": [
      "['SR_B2', 'SR_B3', 'SR_B7', 'AFRI2100', 'ARVI', 'ATSAVI', 'AVI', 'BNDVI', 'BWDRVI', 'CIG', 'DSI', 'DSWI1', 'DSWI5', 'DVI', 'DVIplus', 'EVI', 'EVI2', 'ExGR', 'ExR', 'FCVI', 'GARI', 'GBNDVI', 'GCC', 'GDVI', 'GEMI', 'GLI', 'GNDVI', 'GOSAVI', 'GRNDVI', 'GRVI', 'GSAVI', 'GVMI', 'IAVI', 'IPVI', 'MCARI1', 'MCARI2', 'MGRVI', 'MNDVI', 'MNLI', 'MRBVI', 'MSAVI', 'MSI', 'MSR', 'MTVI1', 'MTVI2', 'NDGI', 'NDII', 'NDMI', 'NDPI', 'NDVI', 'NGRDI', 'NIRv', 'NIRvH2', 'NLI', 'NormG', 'NormNIR', 'NormR', 'OCVI', 'OSAVI', 'RCC', 'RDVI', 'RGBVI', 'RGRI', 'RI', 'SARVI', 'SAVI', 'SAVI2', 'SEVI', 'SI', 'SR', 'SR2', 'TDVI', 'TGI', 'TSAVI', 'TVI', 'TriVI', 'VARI', 'VIG', 'WDRVI', 'WDVI']\n"
     ]
    }
   ],
   "source": [
    "to_drop = [column for column in upper_tri.columns if any(upper_tri[column] > 0.95)]\n",
    "# print()\n",
    "print(to_drop)"
   ]
  },
  {
   "cell_type": "code",
   "execution_count": 6,
   "metadata": {},
   "outputs": [
    {
     "name": "stdout",
     "output_type": "stream",
     "text": [
      "      SR_B1     SR_B4     SR_B5     ST_B6  AFRI1600       BCC       CVI  \\\n",
      "0  0.048572  0.389078  0.202627  1.094886  0.488404  0.245526  3.970534   \n",
      "1  0.051515  0.385447  0.209448  1.095987  0.472065  0.245745  3.947225   \n",
      "2  0.063257  0.370955  0.199245  1.097827  0.476565  0.263950  3.096275   \n",
      "3  0.063257  0.363613  0.202682  1.100017  0.462103  0.257883  3.251376   \n",
      "4  0.130055  0.271680  0.335288  1.166050  0.102218  0.255294  1.984076   \n",
      "\n",
      "      DSWI2     DSWI3     DSWI4       ExG      IKAW       NDDI      NDYI  \\\n",
      "0  2.486532  2.990039  1.202494  0.046640  0.164991  27.318928  0.253090   \n",
      "1  2.473400  2.852245  1.153168  0.044412  0.175414  32.835289  0.243511   \n",
      "2  2.047108  2.519856  1.230935  0.052332  0.111099  19.179018  0.212174   \n",
      "3  2.082426  2.392734  1.149013  0.046695  0.144967  27.010372  0.212174   \n",
      "4  1.977893  1.597672  0.807765 -0.000880  0.234779  -3.488522  0.131729   \n",
      "\n",
      "       NMDI     NRFIg     NRFIr    SM  \n",
      "0  0.584506 -0.104960 -0.195017  0.39  \n",
      "1  0.570515 -0.102586 -0.172463  0.32  \n",
      "2  0.579977 -0.016670 -0.119978  0.50  \n",
      "3  0.561691 -0.016670 -0.085911  0.47  \n",
      "4  0.753623 -0.273447 -0.172113  0.07  \n"
     ]
    }
   ],
   "source": [
    "df1 = sma.drop(to_drop, axis=1)\n",
    "# print();\n",
    "print(df1.head())"
   ]
  },
  {
   "cell_type": "code",
   "execution_count": 7,
   "metadata": {},
   "outputs": [
    {
     "data": {
      "text/plain": [
       "['SR_B1',\n",
       " 'SR_B4',\n",
       " 'SR_B5',\n",
       " 'ST_B6',\n",
       " 'AFRI1600',\n",
       " 'BCC',\n",
       " 'CVI',\n",
       " 'DSWI2',\n",
       " 'DSWI3',\n",
       " 'DSWI4',\n",
       " 'ExG',\n",
       " 'IKAW',\n",
       " 'NDDI',\n",
       " 'NDYI',\n",
       " 'NMDI',\n",
       " 'NRFIg',\n",
       " 'NRFIr',\n",
       " 'SM']"
      ]
     },
     "execution_count": 7,
     "metadata": {},
     "output_type": "execute_result"
    }
   ],
   "source": [
    "list(df1.columns)"
   ]
  },
  {
   "cell_type": "markdown",
   "metadata": {},
   "source": [
    "## Setting up a regression algorithm\n",
    "Now that the data is in the adequate format (a table), we will run the ML algorithm. The bands will be inputs (x) and soil moisture the output (y)"
   ]
  },
  {
   "cell_type": "raw",
   "metadata": {},
   "source": [
    "Note: if the cell below does not run, go to the terminal and pass this command:\n",
    "\n",
    "pip install mlxtend"
   ]
  },
  {
   "cell_type": "markdown",
   "metadata": {},
   "source": [
    "Let's try all the data (all rows and all remote sensing information)"
   ]
  },
  {
   "cell_type": "code",
   "execution_count": 8,
   "metadata": {},
   "outputs": [
    {
     "name": "stdout",
     "output_type": "stream",
     "text": [
      "Intercept: 0.31\n",
      "Slope: 0.68\n"
     ]
    },
    {
     "data": {
      "image/png": "[encoded data removed]",
      "text/plain": [
       "<Figure size 432x288 with 1 Axes>"
      ]
     },
     "metadata": {
      "needs_background": "light"
     },
     "output_type": "display_data"
    }
   ],
   "source": [
    "import matplotlib.pyplot as plt\n",
    "import numpy as np\n",
    "\n",
    "from mlxtend.regressor import LinearRegression\n",
    "\n",
    "inputs=df1.loc[:, df1.columns != 'SM']\n",
    "X=inputs.loc[:, inputs.columns == 'NRFIr']\n",
    "\n",
    "t=sma[['SM']].to_numpy()\n",
    "# t=pd.Series(t)\n",
    "t=t.ravel()\n",
    "\n",
    "ne_lr = LinearRegression()\n",
    "ne_lr.fit(X, t)\n",
    "y=ne_lr.predict(X)\n",
    "\n",
    "print('Intercept: %.2f' % ne_lr.b_)\n",
    "print('Slope: %.2f' % ne_lr.w_[0])\n",
    "\n",
    "def lin_regplot(X, t, model):\n",
    "    plt.scatter(X, t, c='blue')\n",
    "    plt.plot(X, model.predict(X), color='red')    \n",
    "    return\n",
    "\n",
    "lin_regplot(X, t, ne_lr)\n",
    "plt.show()"
   ]
  },
  {
   "cell_type": "markdown",
   "metadata": {},
   "source": [
    "Let's plot the results"
   ]
  },
  {
   "cell_type": "code",
   "execution_count": 9,
   "metadata": {},
   "outputs": [
    {
     "name": "stdout",
     "output_type": "stream",
     "text": [
      "RMSE = 0.14 m3/m3\n"
     ]
    }
   ],
   "source": [
    "import math\n",
    "from sklearn.metrics import mean_squared_error, r2_score\n",
    "\n",
    "mse = mean_squared_error(t, y)\n",
    "rmse = math.sqrt(mse)\n",
    "print('RMSE = %.2f' %rmse, \"m3/m3\")"
   ]
  },
  {
   "cell_type": "code",
   "execution_count": 10,
   "metadata": {},
   "outputs": [
    {
     "name": "stdout",
     "output_type": "stream",
     "text": [
      "r2 =0.18\n"
     ]
    }
   ],
   "source": [
    "r2 = r2_score(t, y)\n",
    "print(\"r2 =%.2f\" %r2)"
   ]
  },
  {
   "cell_type": "markdown",
   "metadata": {},
   "source": [
    "Looping through all variables."
   ]
  },
  {
   "cell_type": "code",
   "execution_count": 11,
   "metadata": {},
   "outputs": [
    {
     "data": {
      "image/png": "[encoded data removed]",
      "text/plain": [
       "<Figure size 864x4320 with 17 Axes>"
      ]
     },
     "metadata": {
      "needs_background": "light"
     },
     "output_type": "display_data"
    }
   ],
   "source": [
    "\n",
    "plt.figure(figsize=(12, 60))\n",
    "plt.subplots_adjust(hspace=0.5, wspace=1.5)\n",
    "# plt.suptitle(\"SM vs vegetation indices\", fontsize=18, y=0.95)\n",
    "\n",
    "# def lin_regplot(x, t, model):\n",
    "#     plt.scatter(x, t, c='blue')\n",
    "#     plt.plot(x, model.predict(x), color='red')    \n",
    "#     return\n",
    "\n",
    "\n",
    "# loop through the length of tickers and keep track of index\n",
    "n=0\n",
    "\n",
    "for column in inputs:\n",
    "    # add a new subplot iteratively\n",
    "    # x = inputs[column]\n",
    "    x=inputs.loc[:, inputs.columns == column]#.to_numpy()\n",
    "    ne_lr = LinearRegression()\n",
    "    ne_lr.fit(x, t)\n",
    "    y=ne_lr.predict(x)\n",
    "\n",
    "    ax = plt.subplot(22, 4, n + 1)\n",
    "    n=n+1\n",
    "#     # filter df and plot ticker on the new subplot axis\n",
    "    # inputs[inputs[\"variable\"] == column].plot(ax=ax, kind='scatter',y ='SM', x='values',c = 'CROP' , cmap = \"magma\")\n",
    "    ax.scatter(x, t, color='blue')\n",
    "    ax.plot(x, y, color='red')  \n",
    "#     # chart formatting\n",
    "    ax.set_title(column.upper())\n",
    "#     # ax.get_legend().remove()\n",
    "#     ax.set_xlabel(\"\")\n",
    "    \n",
    "\n",
    "    # lin_regplot(x, t, ne_lr)\n",
    "    # plt.show()"
   ]
  },
  {
   "cell_type": "markdown",
   "metadata": {},
   "source": [
    "We have two questions: Which of the variables can best represent the variability in soil moisture and how we deal with a small number of variables.\n",
    "\n",
    "For the first question, we can test each of the variables indivudually and then combine the most promissing.\n",
    "\n",
    "For the second question, we need to use a concept called \"CrossValidation\". We will divide the total number of samples and change training and testing groups for \"n\" times, while tracking a goodness of fit statistic, like Mean Square Error or Coefficient of Determination (r2).\n",
    "\n",
    "Let's implement this "
   ]
  },
  {
   "cell_type": "code",
   "execution_count": 12,
   "metadata": {},
   "outputs": [
    {
     "data": {
      "text/html": [
       "<div>\n",
       "<style scoped>\n",
       "    .dataframe tbody tr th:only-of-type {\n",
       "        vertical-align: middle;\n",
       "    }\n",
       "\n",
       "    .dataframe tbody tr th {\n",
       "        vertical-align: top;\n",
       "    }\n",
       "\n",
       "    .dataframe thead th {\n",
       "        text-align: right;\n",
       "    }\n",
       "</style>\n",
       "<table border=\"1\" class=\"dataframe\">\n",
       "  <thead>\n",
       "    <tr style=\"text-align: right;\">\n",
       "      <th></th>\n",
       "      <th>SR_B1</th>\n",
       "      <th>SR_B4</th>\n",
       "      <th>SR_B5</th>\n",
       "      <th>ST_B6</th>\n",
       "      <th>AFRI1600</th>\n",
       "      <th>BCC</th>\n",
       "      <th>CVI</th>\n",
       "      <th>DSWI2</th>\n",
       "      <th>DSWI3</th>\n",
       "      <th>DSWI4</th>\n",
       "      <th>ExG</th>\n",
       "      <th>IKAW</th>\n",
       "      <th>NDDI</th>\n",
       "      <th>NDYI</th>\n",
       "      <th>NMDI</th>\n",
       "      <th>NRFIg</th>\n",
       "      <th>NRFIr</th>\n",
       "    </tr>\n",
       "  </thead>\n",
       "  <tbody>\n",
       "    <tr>\n",
       "      <th>0</th>\n",
       "      <td>0.048572</td>\n",
       "      <td>0.389078</td>\n",
       "      <td>0.202627</td>\n",
       "      <td>1.094886</td>\n",
       "      <td>0.488404</td>\n",
       "      <td>0.245526</td>\n",
       "      <td>3.970534</td>\n",
       "      <td>2.486532</td>\n",
       "      <td>2.990039</td>\n",
       "      <td>1.202494</td>\n",
       "      <td>0.046640</td>\n",
       "      <td>0.164991</td>\n",
       "      <td>27.318928</td>\n",
       "      <td>0.253090</td>\n",
       "      <td>0.584506</td>\n",
       "      <td>-0.104960</td>\n",
       "      <td>-0.195017</td>\n",
       "    </tr>\n",
       "    <tr>\n",
       "      <th>1</th>\n",
       "      <td>0.051515</td>\n",
       "      <td>0.385447</td>\n",
       "      <td>0.209448</td>\n",
       "      <td>1.095987</td>\n",
       "      <td>0.472065</td>\n",
       "      <td>0.245745</td>\n",
       "      <td>3.947225</td>\n",
       "      <td>2.473400</td>\n",
       "      <td>2.852245</td>\n",
       "      <td>1.153168</td>\n",
       "      <td>0.044412</td>\n",
       "      <td>0.175414</td>\n",
       "      <td>32.835289</td>\n",
       "      <td>0.243511</td>\n",
       "      <td>0.570515</td>\n",
       "      <td>-0.102586</td>\n",
       "      <td>-0.172463</td>\n",
       "    </tr>\n",
       "    <tr>\n",
       "      <th>2</th>\n",
       "      <td>0.063257</td>\n",
       "      <td>0.370955</td>\n",
       "      <td>0.199245</td>\n",
       "      <td>1.097827</td>\n",
       "      <td>0.476565</td>\n",
       "      <td>0.263950</td>\n",
       "      <td>3.096275</td>\n",
       "      <td>2.047108</td>\n",
       "      <td>2.519856</td>\n",
       "      <td>1.230935</td>\n",
       "      <td>0.052332</td>\n",
       "      <td>0.111099</td>\n",
       "      <td>19.179018</td>\n",
       "      <td>0.212174</td>\n",
       "      <td>0.579977</td>\n",
       "      <td>-0.016670</td>\n",
       "      <td>-0.119978</td>\n",
       "    </tr>\n",
       "    <tr>\n",
       "      <th>3</th>\n",
       "      <td>0.063257</td>\n",
       "      <td>0.363613</td>\n",
       "      <td>0.202682</td>\n",
       "      <td>1.100017</td>\n",
       "      <td>0.462103</td>\n",
       "      <td>0.257883</td>\n",
       "      <td>3.251376</td>\n",
       "      <td>2.082426</td>\n",
       "      <td>2.392734</td>\n",
       "      <td>1.149013</td>\n",
       "      <td>0.046695</td>\n",
       "      <td>0.144967</td>\n",
       "      <td>27.010372</td>\n",
       "      <td>0.212174</td>\n",
       "      <td>0.561691</td>\n",
       "      <td>-0.016670</td>\n",
       "      <td>-0.085911</td>\n",
       "    </tr>\n",
       "    <tr>\n",
       "      <th>4</th>\n",
       "      <td>0.130055</td>\n",
       "      <td>0.271680</td>\n",
       "      <td>0.335288</td>\n",
       "      <td>1.166050</td>\n",
       "      <td>0.102218</td>\n",
       "      <td>0.255294</td>\n",
       "      <td>1.984076</td>\n",
       "      <td>1.977893</td>\n",
       "      <td>1.597672</td>\n",
       "      <td>0.807765</td>\n",
       "      <td>-0.000880</td>\n",
       "      <td>0.234779</td>\n",
       "      <td>-3.488522</td>\n",
       "      <td>0.131729</td>\n",
       "      <td>0.753623</td>\n",
       "      <td>-0.273447</td>\n",
       "      <td>-0.172113</td>\n",
       "    </tr>\n",
       "    <tr>\n",
       "      <th>...</th>\n",
       "      <td>...</td>\n",
       "      <td>...</td>\n",
       "      <td>...</td>\n",
       "      <td>...</td>\n",
       "      <td>...</td>\n",
       "      <td>...</td>\n",
       "      <td>...</td>\n",
       "      <td>...</td>\n",
       "      <td>...</td>\n",
       "      <td>...</td>\n",
       "      <td>...</td>\n",
       "      <td>...</td>\n",
       "      <td>...</td>\n",
       "      <td>...</td>\n",
       "      <td>...</td>\n",
       "      <td>...</td>\n",
       "      <td>...</td>\n",
       "    </tr>\n",
       "    <tr>\n",
       "      <th>66</th>\n",
       "      <td>0.037325</td>\n",
       "      <td>0.562437</td>\n",
       "      <td>0.212637</td>\n",
       "      <td>1.116009</td>\n",
       "      <td>0.600612</td>\n",
       "      <td>0.244826</td>\n",
       "      <td>4.968945</td>\n",
       "      <td>3.002506</td>\n",
       "      <td>4.798860</td>\n",
       "      <td>1.598285</td>\n",
       "      <td>0.060005</td>\n",
       "      <td>0.085564</td>\n",
       "      <td>21.005589</td>\n",
       "      <td>0.309723</td>\n",
       "      <td>0.644849</td>\n",
       "      <td>-0.125773</td>\n",
       "      <td>-0.346014</td>\n",
       "    </tr>\n",
       "    <tr>\n",
       "      <th>67</th>\n",
       "      <td>0.075742</td>\n",
       "      <td>0.440557</td>\n",
       "      <td>0.296815</td>\n",
       "      <td>1.149832</td>\n",
       "      <td>0.384410</td>\n",
       "      <td>0.247490</td>\n",
       "      <td>4.303399</td>\n",
       "      <td>2.682043</td>\n",
       "      <td>2.481057</td>\n",
       "      <td>0.925062</td>\n",
       "      <td>0.025960</td>\n",
       "      <td>0.224645</td>\n",
       "      <td>-45.789845</td>\n",
       "      <td>0.187356</td>\n",
       "      <td>0.553762</td>\n",
       "      <td>-0.212205</td>\n",
       "      <td>-0.174721</td>\n",
       "    </tr>\n",
       "    <tr>\n",
       "      <th>68</th>\n",
       "      <td>0.080500</td>\n",
       "      <td>0.454170</td>\n",
       "      <td>0.329210</td>\n",
       "      <td>1.152998</td>\n",
       "      <td>0.352806</td>\n",
       "      <td>0.232733</td>\n",
       "      <td>4.183837</td>\n",
       "      <td>2.656580</td>\n",
       "      <td>2.327107</td>\n",
       "      <td>0.875979</td>\n",
       "      <td>0.025877</td>\n",
       "      <td>0.274669</td>\n",
       "      <td>-23.685945</td>\n",
       "      <td>0.212415</td>\n",
       "      <td>0.514102</td>\n",
       "      <td>-0.193692</td>\n",
       "      <td>-0.129237</td>\n",
       "    </tr>\n",
       "    <tr>\n",
       "      <th>69</th>\n",
       "      <td>0.056547</td>\n",
       "      <td>0.453977</td>\n",
       "      <td>0.206093</td>\n",
       "      <td>1.123216</td>\n",
       "      <td>0.538911</td>\n",
       "      <td>0.264037</td>\n",
       "      <td>4.718375</td>\n",
       "      <td>2.450492</td>\n",
       "      <td>2.803407</td>\n",
       "      <td>1.144018</td>\n",
       "      <td>0.038143</td>\n",
       "      <td>0.130457</td>\n",
       "      <td>41.592286</td>\n",
       "      <td>0.195912</td>\n",
       "      <td>0.605295</td>\n",
       "      <td>-0.058058</td>\n",
       "      <td>-0.124743</td>\n",
       "    </tr>\n",
       "    <tr>\n",
       "      <th>70</th>\n",
       "      <td>0.101895</td>\n",
       "      <td>0.249872</td>\n",
       "      <td>0.277317</td>\n",
       "      <td>1.136005</td>\n",
       "      <td>0.154407</td>\n",
       "      <td>0.251874</td>\n",
       "      <td>2.202270</td>\n",
       "      <td>2.023218</td>\n",
       "      <td>1.674774</td>\n",
       "      <td>0.827777</td>\n",
       "      <td>0.006655</td>\n",
       "      <td>0.238111</td>\n",
       "      <td>-5.576958</td>\n",
       "      <td>0.147188</td>\n",
       "      <td>0.558234</td>\n",
       "      <td>-0.202040</td>\n",
       "      <td>-0.109908</td>\n",
       "    </tr>\n",
       "  </tbody>\n",
       "</table>\n",
       "<p>71 rows × 17 columns</p>\n",
       "</div>"
      ],
      "text/plain": [
       "       SR_B1     SR_B4     SR_B5     ST_B6  AFRI1600       BCC       CVI  \\\n",
       "0   0.048572  0.389078  0.202627  1.094886  0.488404  0.245526  3.970534   \n",
       "1   0.051515  0.385447  0.209448  1.095987  0.472065  0.245745  3.947225   \n",
       "2   0.063257  0.370955  0.199245  1.097827  0.476565  0.263950  3.096275   \n",
       "3   0.063257  0.363613  0.202682  1.100017  0.462103  0.257883  3.251376   \n",
       "4   0.130055  0.271680  0.335288  1.166050  0.102218  0.255294  1.984076   \n",
       "..       ...       ...       ...       ...       ...       ...       ...   \n",
       "66  0.037325  0.562437  0.212637  1.116009  0.600612  0.244826  4.968945   \n",
       "67  0.075742  0.440557  0.296815  1.149832  0.384410  0.247490  4.303399   \n",
       "68  0.080500  0.454170  0.329210  1.152998  0.352806  0.232733  4.183837   \n",
       "69  0.056547  0.453977  0.206093  1.123216  0.538911  0.264037  4.718375   \n",
       "70  0.101895  0.249872  0.277317  1.136005  0.154407  0.251874  2.202270   \n",
       "\n",
       "       DSWI2     DSWI3     DSWI4       ExG      IKAW       NDDI      NDYI  \\\n",
       "0   2.486532  2.990039  1.202494  0.046640  0.164991  27.318928  0.253090   \n",
       "1   2.473400  2.852245  1.153168  0.044412  0.175414  32.835289  0.243511   \n",
       "2   2.047108  2.519856  1.230935  0.052332  0.111099  19.179018  0.212174   \n",
       "3   2.082426  2.392734  1.149013  0.046695  0.144967  27.010372  0.212174   \n",
       "4   1.977893  1.597672  0.807765 -0.000880  0.234779  -3.488522  0.131729   \n",
       "..       ...       ...       ...       ...       ...        ...       ...   \n",
       "66  3.002506  4.798860  1.598285  0.060005  0.085564  21.005589  0.309723   \n",
       "67  2.682043  2.481057  0.925062  0.025960  0.224645 -45.789845  0.187356   \n",
       "68  2.656580  2.327107  0.875979  0.025877  0.274669 -23.685945  0.212415   \n",
       "69  2.450492  2.803407  1.144018  0.038143  0.130457  41.592286  0.195912   \n",
       "70  2.023218  1.674774  0.827777  0.006655  0.238111  -5.576958  0.147188   \n",
       "\n",
       "        NMDI     NRFIg     NRFIr  \n",
       "0   0.584506 -0.104960 -0.195017  \n",
       "1   0.570515 -0.102586 -0.172463  \n",
       "2   0.579977 -0.016670 -0.119978  \n",
       "3   0.561691 -0.016670 -0.085911  \n",
       "4   0.753623 -0.273447 -0.172113  \n",
       "..       ...       ...       ...  \n",
       "66  0.644849 -0.125773 -0.346014  \n",
       "67  0.553762 -0.212205 -0.174721  \n",
       "68  0.514102 -0.193692 -0.129237  \n",
       "69  0.605295 -0.058058 -0.124743  \n",
       "70  0.558234 -0.202040 -0.109908  \n",
       "\n",
       "[71 rows x 17 columns]"
      ]
     },
     "execution_count": 12,
     "metadata": {},
     "output_type": "execute_result"
    }
   ],
   "source": [
    "inputs"
   ]
  },
  {
   "cell_type": "code",
   "execution_count": 13,
   "metadata": {},
   "outputs": [],
   "source": [
    "#importing the necessary libraries\n",
    "from mlxtend.feature_selection import SequentialFeatureSelector as SFS\n",
    "# from mlxtend.preprocessing import minmax_scaling\n",
    "from mlxtend.plotting import plot_sequential_feature_selection as plot_sfs\n",
    "import matplotlib.pyplot as plt\n",
    "\n"
   ]
  },
  {
   "cell_type": "code",
   "execution_count": 14,
   "metadata": {},
   "outputs": [],
   "source": [
    "model = LinearRegression(method='svd')"
   ]
  },
  {
   "cell_type": "code",
   "execution_count": 15,
   "metadata": {},
   "outputs": [],
   "source": [
    "# Forward Variable Selection(fvs)\n",
    "fvs = SFS(model,\n",
    "          k_features='best', #best or parsimonious (simplest model within 1 CI of best)\n",
    "          forward=True,\n",
    "          floating=True,\n",
    "          verbose =0,\n",
    "          cv=4,\n",
    "          n_jobs=4,\n",
    "          scoring = 'neg_mean_squared_error') #neg_mean_squared_error"
   ]
  },
  {
   "cell_type": "code",
   "execution_count": 17,
   "metadata": {},
   "outputs": [
    {
     "data": {
      "text/html": [
       "<style>#sk-container-id-2 {color: black;background-color: white;}#sk-container-id-2 pre{padding: 0;}#sk-container-id-2 div.sk-toggleable {background-color: white;}#sk-container-id-2 label.sk-toggleable__label {cursor: pointer;display: block;width: 100%;margin-bottom: 0;padding: 0.3em;box-sizing: border-box;text-align: center;}#sk-container-id-2 label.sk-toggleable__label-arrow:before {content: \"▸\";float: left;margin-right: 0.25em;color: #696969;}#sk-container-id-2 label.sk-toggleable__label-arrow:hover:before {color: black;}#sk-container-id-2 div.sk-estimator:hover label.sk-toggleable__label-arrow:before {color: black;}#sk-container-id-2 div.sk-toggleable__content {max-height: 0;max-width: 0;overflow: hidden;text-align: left;background-color: #f0f8ff;}#sk-container-id-2 div.sk-toggleable__content pre {margin: 0.2em;color: black;border-radius: 0.25em;background-color: #f0f8ff;}#sk-container-id-2 input.sk-toggleable__control:checked~div.sk-toggleable__content {max-height: 200px;max-width: 100%;overflow: auto;}#sk-container-id-2 input.sk-toggleable__control:checked~label.sk-toggleable__label-arrow:before {content: \"▾\";}#sk-container-id-2 div.sk-estimator input.sk-toggleable__control:checked~label.sk-toggleable__label {background-color: #d4ebff;}#sk-container-id-2 div.sk-label input.sk-toggleable__control:checked~label.sk-toggleable__label {background-color: #d4ebff;}#sk-container-id-2 input.sk-hidden--visually {border: 0;clip: rect(1px 1px 1px 1px);clip: rect(1px, 1px, 1px, 1px);height: 1px;margin: -1px;overflow: hidden;padding: 0;position: absolute;width: 1px;}#sk-container-id-2 div.sk-estimator {font-family: monospace;background-color: #f0f8ff;border: 1px dotted black;border-radius: 0.25em;box-sizing: border-box;margin-bottom: 0.5em;}#sk-container-id-2 div.sk-estimator:hover {background-color: #d4ebff;}#sk-container-id-2 div.sk-parallel-item::after {content: \"\";width: 100%;border-bottom: 1px solid gray;flex-grow: 1;}#sk-container-id-2 div.sk-label:hover label.sk-toggleable__label {background-color: #d4ebff;}#sk-container-id-2 div.sk-serial::before {content: \"\";position: absolute;border-left: 1px solid gray;box-sizing: border-box;top: 0;bottom: 0;left: 50%;z-index: 0;}#sk-container-id-2 div.sk-serial {display: flex;flex-direction: column;align-items: center;background-color: white;padding-right: 0.2em;padding-left: 0.2em;position: relative;}#sk-container-id-2 div.sk-item {position: relative;z-index: 1;}#sk-container-id-2 div.sk-parallel {display: flex;align-items: stretch;justify-content: center;background-color: white;position: relative;}#sk-container-id-2 div.sk-item::before, #sk-container-id-2 div.sk-parallel-item::before {content: \"\";position: absolute;border-left: 1px solid gray;box-sizing: border-box;top: 0;bottom: 0;left: 50%;z-index: -1;}#sk-container-id-2 div.sk-parallel-item {display: flex;flex-direction: column;z-index: 1;position: relative;background-color: white;}#sk-container-id-2 div.sk-parallel-item:first-child::after {align-self: flex-end;width: 50%;}#sk-container-id-2 div.sk-parallel-item:last-child::after {align-self: flex-start;width: 50%;}#sk-container-id-2 div.sk-parallel-item:only-child::after {width: 0;}#sk-container-id-2 div.sk-dashed-wrapped {border: 1px dashed gray;margin: 0 0.4em 0.5em 0.4em;box-sizing: border-box;padding-bottom: 0.4em;background-color: white;}#sk-container-id-2 div.sk-label label {font-family: monospace;font-weight: bold;display: inline-block;line-height: 1.2em;}#sk-container-id-2 div.sk-label-container {text-align: center;}#sk-container-id-2 div.sk-container {/* jupyter's `normalize.less` sets `[hidden] { display: none; }` but bootstrap.min.css set `[hidden] { display: none !important; }` so we also need the `!important` here to be able to override the default hidden behavior on the sphinx rendered scikit-learn.org. See: https://github.com/scikit-learn/scikit-learn/issues/21755 */display: inline-block !important;position: relative;}#sk-container-id-2 div.sk-text-repr-fallback {display: none;}</style><div id=\"sk-container-id-2\" class=\"sk-top-container\"><div class=\"sk-text-repr-fallback\"><pre>SequentialFeatureSelector(cv=4,\n",
       "                          estimator=&lt;mlxtend.regressor.linear_regression.LinearRegression object at 0x7ff3f0623a30&gt;,\n",
       "                          floating=True, k_features=(1, 17), n_jobs=4,\n",
       "                          scoring=&#x27;neg_mean_squared_error&#x27;)</pre><b>In a Jupyter environment, please rerun this cell to show the HTML representation or trust the notebook. <br />On GitHub, the HTML representation is unable to render, please try loading this page with nbviewer.org.</b></div><div class=\"sk-container\" hidden><div class=\"sk-item sk-dashed-wrapped\"><div class=\"sk-label-container\"><div class=\"sk-label sk-toggleable\"><input class=\"sk-toggleable__control sk-hidden--visually\" id=\"sk-estimator-id-4\" type=\"checkbox\" ><label for=\"sk-estimator-id-4\" class=\"sk-toggleable__label sk-toggleable__label-arrow\">SequentialFeatureSelector</label><div class=\"sk-toggleable__content\"><pre>SequentialFeatureSelector(cv=4,\n",
       "                          estimator=&lt;mlxtend.regressor.linear_regression.LinearRegression object at 0x7ff3f0623a30&gt;,\n",
       "                          floating=True, k_features=(1, 17), n_jobs=4,\n",
       "                          scoring=&#x27;neg_mean_squared_error&#x27;)</pre></div></div></div><div class=\"sk-parallel\"><div class=\"sk-parallel-item\"><div class=\"sk-item\"><div class=\"sk-label-container\"><div class=\"sk-label sk-toggleable\"><input class=\"sk-toggleable__control sk-hidden--visually\" id=\"sk-estimator-id-5\" type=\"checkbox\" ><label for=\"sk-estimator-id-5\" class=\"sk-toggleable__label sk-toggleable__label-arrow\">estimator: LinearRegression</label><div class=\"sk-toggleable__content\"><pre>&lt;mlxtend.regressor.linear_regression.LinearRegression object at 0x7ff3f0623a30&gt;</pre></div></div></div><div class=\"sk-serial\"><div class=\"sk-item\"><div class=\"sk-estimator sk-toggleable\"><input class=\"sk-toggleable__control sk-hidden--visually\" id=\"sk-estimator-id-6\" type=\"checkbox\" ><label for=\"sk-estimator-id-6\" class=\"sk-toggleable__label sk-toggleable__label-arrow\">LinearRegression</label><div class=\"sk-toggleable__content\"><pre>&lt;mlxtend.regressor.linear_regression.LinearRegression object at 0x7ff3f0623a30&gt;</pre></div></div></div></div></div></div></div></div></div></div>"
      ],
      "text/plain": [
       "SequentialFeatureSelector(cv=4,\n",
       "                          estimator=<mlxtend.regressor.linear_regression.LinearRegression object at 0x7ff3f0623a30>,\n",
       "                          floating=True, k_features=(1, 17), n_jobs=4,\n",
       "                          scoring='neg_mean_squared_error')"
      ]
     },
     "execution_count": 17,
     "metadata": {},
     "output_type": "execute_result"
    }
   ],
   "source": [
    "fvs.fit(inputs, t)\n",
    "# sfs.k_feature_names_ "
   ]
  },
  {
   "cell_type": "markdown",
   "metadata": {},
   "source": [
    "we can access the indices of the best features directly via the k_feature_idx_ attribute:"
   ]
  },
  {
   "cell_type": "code",
   "execution_count": 18,
   "metadata": {},
   "outputs": [
    {
     "name": "stdout",
     "output_type": "stream",
     "text": [
      "('SR_B4', 'SR_B5', 'ST_B6', 'DSWI3', 'NRFIr')\n"
     ]
    }
   ],
   "source": [
    "print(fvs.k_feature_names_)\n",
    "# sel_inputs"
   ]
  },
  {
   "cell_type": "markdown",
   "metadata": {},
   "source": [
    "the prediction score for these selected features can be accesses via k_score_:"
   ]
  },
  {
   "cell_type": "code",
   "execution_count": 19,
   "metadata": {},
   "outputs": [
    {
     "data": {
      "text/plain": [
       "-0.007899838079597921"
      ]
     },
     "execution_count": 19,
     "metadata": {},
     "output_type": "execute_result"
    }
   ],
   "source": [
    "fvs.k_score_"
   ]
  },
  {
   "cell_type": "code",
   "execution_count": 20,
   "metadata": {},
   "outputs": [
    {
     "data": {
      "image/png": "[encoded data removed]",
      "text/plain": [
       "<Figure size 1440x720 with 1 Axes>"
      ]
     },
     "metadata": {
      "needs_background": "light"
     },
     "output_type": "display_data"
    }
   ],
   "source": [
    "fig_fvs = plot_sfs(fvs.get_metric_dict(), kind='ci',figsize=(20,10))\n",
    "plt.title('Forward Variable Selection (w. CI)')\n",
    "plt.grid()\n",
    "plt.ylim(-0.1, 0)\n",
    "plt.show()"
   ]
  },
  {
   "cell_type": "code",
   "execution_count": 21,
   "metadata": {},
   "outputs": [
    {
     "data": {
      "text/html": [
       "<div>\n",
       "<style scoped>\n",
       "    .dataframe tbody tr th:only-of-type {\n",
       "        vertical-align: middle;\n",
       "    }\n",
       "\n",
       "    .dataframe tbody tr th {\n",
       "        vertical-align: top;\n",
       "    }\n",
       "\n",
       "    .dataframe thead th {\n",
       "        text-align: right;\n",
       "    }\n",
       "</style>\n",
       "<table border=\"1\" class=\"dataframe\">\n",
       "  <thead>\n",
       "    <tr style=\"text-align: right;\">\n",
       "      <th></th>\n",
       "      <th>feature_idx</th>\n",
       "      <th>cv_scores</th>\n",
       "      <th>avg_score</th>\n",
       "      <th>feature_names</th>\n",
       "      <th>ci_bound</th>\n",
       "      <th>std_dev</th>\n",
       "      <th>std_err</th>\n",
       "    </tr>\n",
       "  </thead>\n",
       "  <tbody>\n",
       "    <tr>\n",
       "      <th>1</th>\n",
       "      <td>(16,)</td>\n",
       "      <td>[-0.02395943396201404, -0.011163103140109586, ...</td>\n",
       "      <td>-0.021134</td>\n",
       "      <td>(NRFIr,)</td>\n",
       "      <td>0.009282</td>\n",
       "      <td>0.005791</td>\n",
       "      <td>0.003343</td>\n",
       "    </tr>\n",
       "    <tr>\n",
       "      <th>2</th>\n",
       "      <td>(3, 16)</td>\n",
       "      <td>[-0.02343593770526533, -0.007242988984061716, ...</td>\n",
       "      <td>-0.015631</td>\n",
       "      <td>(ST_B6, NRFIr)</td>\n",
       "      <td>0.009919</td>\n",
       "      <td>0.006188</td>\n",
       "      <td>0.003573</td>\n",
       "    </tr>\n",
       "    <tr>\n",
       "      <th>3</th>\n",
       "      <td>(1, 3, 16)</td>\n",
       "      <td>[-0.014026561069685374, -0.008555582721018399,...</td>\n",
       "      <td>-0.011302</td>\n",
       "      <td>(SR_B4, ST_B6, NRFIr)</td>\n",
       "      <td>0.003476</td>\n",
       "      <td>0.002168</td>\n",
       "      <td>0.001252</td>\n",
       "    </tr>\n",
       "    <tr>\n",
       "      <th>4</th>\n",
       "      <td>(1, 3, 8, 16)</td>\n",
       "      <td>[-0.01148775125924805, -0.011495893913629922, ...</td>\n",
       "      <td>-0.010711</td>\n",
       "      <td>(SR_B4, ST_B6, DSWI3, NRFIr)</td>\n",
       "      <td>0.001416</td>\n",
       "      <td>0.000884</td>\n",
       "      <td>0.00051</td>\n",
       "    </tr>\n",
       "    <tr>\n",
       "      <th>5</th>\n",
       "      <td>(1, 2, 3, 8, 16)</td>\n",
       "      <td>[-0.00879647317739337, -0.011644943390147745, ...</td>\n",
       "      <td>-0.0079</td>\n",
       "      <td>(SR_B4, SR_B5, ST_B6, DSWI3, NRFIr)</td>\n",
       "      <td>0.00457</td>\n",
       "      <td>0.002851</td>\n",
       "      <td>0.001646</td>\n",
       "    </tr>\n",
       "  </tbody>\n",
       "</table>\n",
       "</div>"
      ],
      "text/plain": [
       "        feature_idx                                          cv_scores  \\\n",
       "1             (16,)  [-0.02395943396201404, -0.011163103140109586, ...   \n",
       "2           (3, 16)  [-0.02343593770526533, -0.007242988984061716, ...   \n",
       "3        (1, 3, 16)  [-0.014026561069685374, -0.008555582721018399,...   \n",
       "4     (1, 3, 8, 16)  [-0.01148775125924805, -0.011495893913629922, ...   \n",
       "5  (1, 2, 3, 8, 16)  [-0.00879647317739337, -0.011644943390147745, ...   \n",
       "\n",
       "  avg_score                        feature_names  ci_bound   std_dev   std_err  \n",
       "1 -0.021134                             (NRFIr,)  0.009282  0.005791  0.003343  \n",
       "2 -0.015631                       (ST_B6, NRFIr)  0.009919  0.006188  0.003573  \n",
       "3 -0.011302                (SR_B4, ST_B6, NRFIr)  0.003476  0.002168  0.001252  \n",
       "4 -0.010711         (SR_B4, ST_B6, DSWI3, NRFIr)  0.001416  0.000884   0.00051  \n",
       "5   -0.0079  (SR_B4, SR_B5, ST_B6, DSWI3, NRFIr)   0.00457  0.002851  0.001646  "
      ]
     },
     "execution_count": 21,
     "metadata": {},
     "output_type": "execute_result"
    }
   ],
   "source": [
    "sfs_results=pd.DataFrame.from_dict(fvs.get_metric_dict()).T\n",
    "sfs_results.head()"
   ]
  },
  {
   "cell_type": "code",
   "execution_count": 22,
   "metadata": {},
   "outputs": [],
   "source": [
    "#backward variable selection(bvs)\n",
    "bvs = SFS(model,\n",
    "         k_features='best',\n",
    "         forward=False,\n",
    "         floating=True,\n",
    "         verbose =0,\n",
    "         cv=4,\n",
    "          n_jobs=4,\n",
    "          scoring = 'neg_mean_squared_error') #neg_mean_squared_error"
   ]
  },
  {
   "cell_type": "code",
   "execution_count": 23,
   "metadata": {},
   "outputs": [
    {
     "data": {
      "text/html": [
       "<style>#sk-container-id-3 {color: black;background-color: white;}#sk-container-id-3 pre{padding: 0;}#sk-container-id-3 div.sk-toggleable {background-color: white;}#sk-container-id-3 label.sk-toggleable__label {cursor: pointer;display: block;width: 100%;margin-bottom: 0;padding: 0.3em;box-sizing: border-box;text-align: center;}#sk-container-id-3 label.sk-toggleable__label-arrow:before {content: \"▸\";float: left;margin-right: 0.25em;color: #696969;}#sk-container-id-3 label.sk-toggleable__label-arrow:hover:before {color: black;}#sk-container-id-3 div.sk-estimator:hover label.sk-toggleable__label-arrow:before {color: black;}#sk-container-id-3 div.sk-toggleable__content {max-height: 0;max-width: 0;overflow: hidden;text-align: left;background-color: #f0f8ff;}#sk-container-id-3 div.sk-toggleable__content pre {margin: 0.2em;color: black;border-radius: 0.25em;background-color: #f0f8ff;}#sk-container-id-3 input.sk-toggleable__control:checked~div.sk-toggleable__content {max-height: 200px;max-width: 100%;overflow: auto;}#sk-container-id-3 input.sk-toggleable__control:checked~label.sk-toggleable__label-arrow:before {content: \"▾\";}#sk-container-id-3 div.sk-estimator input.sk-toggleable__control:checked~label.sk-toggleable__label {background-color: #d4ebff;}#sk-container-id-3 div.sk-label input.sk-toggleable__control:checked~label.sk-toggleable__label {background-color: #d4ebff;}#sk-container-id-3 input.sk-hidden--visually {border: 0;clip: rect(1px 1px 1px 1px);clip: rect(1px, 1px, 1px, 1px);height: 1px;margin: -1px;overflow: hidden;padding: 0;position: absolute;width: 1px;}#sk-container-id-3 div.sk-estimator {font-family: monospace;background-color: #f0f8ff;border: 1px dotted black;border-radius: 0.25em;box-sizing: border-box;margin-bottom: 0.5em;}#sk-container-id-3 div.sk-estimator:hover {background-color: #d4ebff;}#sk-container-id-3 div.sk-parallel-item::after {content: \"\";width: 100%;border-bottom: 1px solid gray;flex-grow: 1;}#sk-container-id-3 div.sk-label:hover label.sk-toggleable__label {background-color: #d4ebff;}#sk-container-id-3 div.sk-serial::before {content: \"\";position: absolute;border-left: 1px solid gray;box-sizing: border-box;top: 0;bottom: 0;left: 50%;z-index: 0;}#sk-container-id-3 div.sk-serial {display: flex;flex-direction: column;align-items: center;background-color: white;padding-right: 0.2em;padding-left: 0.2em;position: relative;}#sk-container-id-3 div.sk-item {position: relative;z-index: 1;}#sk-container-id-3 div.sk-parallel {display: flex;align-items: stretch;justify-content: center;background-color: white;position: relative;}#sk-container-id-3 div.sk-item::before, #sk-container-id-3 div.sk-parallel-item::before {content: \"\";position: absolute;border-left: 1px solid gray;box-sizing: border-box;top: 0;bottom: 0;left: 50%;z-index: -1;}#sk-container-id-3 div.sk-parallel-item {display: flex;flex-direction: column;z-index: 1;position: relative;background-color: white;}#sk-container-id-3 div.sk-parallel-item:first-child::after {align-self: flex-end;width: 50%;}#sk-container-id-3 div.sk-parallel-item:last-child::after {align-self: flex-start;width: 50%;}#sk-container-id-3 div.sk-parallel-item:only-child::after {width: 0;}#sk-container-id-3 div.sk-dashed-wrapped {border: 1px dashed gray;margin: 0 0.4em 0.5em 0.4em;box-sizing: border-box;padding-bottom: 0.4em;background-color: white;}#sk-container-id-3 div.sk-label label {font-family: monospace;font-weight: bold;display: inline-block;line-height: 1.2em;}#sk-container-id-3 div.sk-label-container {text-align: center;}#sk-container-id-3 div.sk-container {/* jupyter's `normalize.less` sets `[hidden] { display: none; }` but bootstrap.min.css set `[hidden] { display: none !important; }` so we also need the `!important` here to be able to override the default hidden behavior on the sphinx rendered scikit-learn.org. See: https://github.com/scikit-learn/scikit-learn/issues/21755 */display: inline-block !important;position: relative;}#sk-container-id-3 div.sk-text-repr-fallback {display: none;}</style><div id=\"sk-container-id-3\" class=\"sk-top-container\"><div class=\"sk-text-repr-fallback\"><pre>SequentialFeatureSelector(cv=4,\n",
       "                          estimator=&lt;mlxtend.regressor.linear_regression.LinearRegression object at 0x7ff3f0623a30&gt;,\n",
       "                          floating=True, forward=False, k_features=(1, 17),\n",
       "                          n_jobs=4, scoring=&#x27;neg_mean_squared_error&#x27;)</pre><b>In a Jupyter environment, please rerun this cell to show the HTML representation or trust the notebook. <br />On GitHub, the HTML representation is unable to render, please try loading this page with nbviewer.org.</b></div><div class=\"sk-container\" hidden><div class=\"sk-item sk-dashed-wrapped\"><div class=\"sk-label-container\"><div class=\"sk-label sk-toggleable\"><input class=\"sk-toggleable__control sk-hidden--visually\" id=\"sk-estimator-id-7\" type=\"checkbox\" ><label for=\"sk-estimator-id-7\" class=\"sk-toggleable__label sk-toggleable__label-arrow\">SequentialFeatureSelector</label><div class=\"sk-toggleable__content\"><pre>SequentialFeatureSelector(cv=4,\n",
       "                          estimator=&lt;mlxtend.regressor.linear_regression.LinearRegression object at 0x7ff3f0623a30&gt;,\n",
       "                          floating=True, forward=False, k_features=(1, 17),\n",
       "                          n_jobs=4, scoring=&#x27;neg_mean_squared_error&#x27;)</pre></div></div></div><div class=\"sk-parallel\"><div class=\"sk-parallel-item\"><div class=\"sk-item\"><div class=\"sk-label-container\"><div class=\"sk-label sk-toggleable\"><input class=\"sk-toggleable__control sk-hidden--visually\" id=\"sk-estimator-id-8\" type=\"checkbox\" ><label for=\"sk-estimator-id-8\" class=\"sk-toggleable__label sk-toggleable__label-arrow\">estimator: LinearRegression</label><div class=\"sk-toggleable__content\"><pre>&lt;mlxtend.regressor.linear_regression.LinearRegression object at 0x7ff3f0623a30&gt;</pre></div></div></div><div class=\"sk-serial\"><div class=\"sk-item\"><div class=\"sk-estimator sk-toggleable\"><input class=\"sk-toggleable__control sk-hidden--visually\" id=\"sk-estimator-id-9\" type=\"checkbox\" ><label for=\"sk-estimator-id-9\" class=\"sk-toggleable__label sk-toggleable__label-arrow\">LinearRegression</label><div class=\"sk-toggleable__content\"><pre>&lt;mlxtend.regressor.linear_regression.LinearRegression object at 0x7ff3f0623a30&gt;</pre></div></div></div></div></div></div></div></div></div></div>"
      ],
      "text/plain": [
       "SequentialFeatureSelector(cv=4,\n",
       "                          estimator=<mlxtend.regressor.linear_regression.LinearRegression object at 0x7ff3f0623a30>,\n",
       "                          floating=True, forward=False, k_features=(1, 17),\n",
       "                          n_jobs=4, scoring='neg_mean_squared_error')"
      ]
     },
     "execution_count": 23,
     "metadata": {},
     "output_type": "execute_result"
    }
   ],
   "source": [
    "bvs.fit(inputs, t)\n",
    "# sfs1.k_feature_names_"
   ]
  },
  {
   "cell_type": "code",
   "execution_count": 24,
   "metadata": {},
   "outputs": [
    {
     "data": {
      "text/plain": [
       "('ST_B6', 'CVI', 'DSWI3', 'DSWI4', 'ExG', 'NRFIr')"
      ]
     },
     "execution_count": 24,
     "metadata": {},
     "output_type": "execute_result"
    }
   ],
   "source": [
    "(bvs.k_feature_names_)"
   ]
  },
  {
   "cell_type": "code",
   "execution_count": 25,
   "metadata": {},
   "outputs": [
    {
     "data": {
      "text/plain": [
       "-0.0073828962358952685"
      ]
     },
     "execution_count": 25,
     "metadata": {},
     "output_type": "execute_result"
    }
   ],
   "source": [
    "bvs.k_score_"
   ]
  },
  {
   "cell_type": "code",
   "execution_count": 26,
   "metadata": {},
   "outputs": [
    {
     "data": {
      "text/html": [
       "<div>\n",
       "<style scoped>\n",
       "    .dataframe tbody tr th:only-of-type {\n",
       "        vertical-align: middle;\n",
       "    }\n",
       "\n",
       "    .dataframe tbody tr th {\n",
       "        vertical-align: top;\n",
       "    }\n",
       "\n",
       "    .dataframe thead th {\n",
       "        text-align: right;\n",
       "    }\n",
       "</style>\n",
       "<table border=\"1\" class=\"dataframe\">\n",
       "  <thead>\n",
       "    <tr style=\"text-align: right;\">\n",
       "      <th></th>\n",
       "      <th>feature_idx</th>\n",
       "      <th>cv_scores</th>\n",
       "      <th>avg_score</th>\n",
       "      <th>feature_names</th>\n",
       "      <th>ci_bound</th>\n",
       "      <th>std_dev</th>\n",
       "      <th>std_err</th>\n",
       "    </tr>\n",
       "  </thead>\n",
       "  <tbody>\n",
       "    <tr>\n",
       "      <th>17</th>\n",
       "      <td>(0, 1, 2, 3, 4, 5, 6, 7, 8, 9, 10, 11, 12, 13,...</td>\n",
       "      <td>[-0.01286880756585999, -0.08906638049920568, -...</td>\n",
       "      <td>-0.030859</td>\n",
       "      <td>(SR_B1, SR_B4, SR_B5, ST_B6, AFRI1600, BCC, CV...</td>\n",
       "      <td>0.053904</td>\n",
       "      <td>0.033627</td>\n",
       "      <td>0.019415</td>\n",
       "    </tr>\n",
       "    <tr>\n",
       "      <th>16</th>\n",
       "      <td>(0, 1, 2, 3, 4, 5, 6, 7, 8, 9, 10, 11, 12, 14,...</td>\n",
       "      <td>[-0.013112061272005787, -0.025166762922776018,...</td>\n",
       "      <td>-0.014935</td>\n",
       "      <td>(SR_B1, SR_B4, SR_B5, ST_B6, AFRI1600, BCC, CV...</td>\n",
       "      <td>0.009688</td>\n",
       "      <td>0.006044</td>\n",
       "      <td>0.003489</td>\n",
       "    </tr>\n",
       "    <tr>\n",
       "      <th>15</th>\n",
       "      <td>(0, 1, 2, 3, 4, 5, 6, 8, 9, 10, 11, 12, 14, 15...</td>\n",
       "      <td>[-0.013326692544380014, -0.01475715406204186, ...</td>\n",
       "      <td>-0.011542</td>\n",
       "      <td>(SR_B1, SR_B4, SR_B5, ST_B6, AFRI1600, BCC, CV...</td>\n",
       "      <td>0.004123</td>\n",
       "      <td>0.002572</td>\n",
       "      <td>0.001485</td>\n",
       "    </tr>\n",
       "    <tr>\n",
       "      <th>14</th>\n",
       "      <td>(0, 1, 2, 3, 5, 6, 8, 9, 10, 11, 12, 14, 15, 16)</td>\n",
       "      <td>[-0.012112641735499259, -0.014790001646933072,...</td>\n",
       "      <td>-0.010592</td>\n",
       "      <td>(SR_B1, SR_B4, SR_B5, ST_B6, BCC, CVI, DSWI3, ...</td>\n",
       "      <td>0.00487</td>\n",
       "      <td>0.003038</td>\n",
       "      <td>0.001754</td>\n",
       "    </tr>\n",
       "    <tr>\n",
       "      <th>13</th>\n",
       "      <td>(0, 1, 2, 3, 5, 6, 8, 9, 10, 11, 14, 15, 16)</td>\n",
       "      <td>[-0.01204346476075376, -0.014008026705974638, ...</td>\n",
       "      <td>-0.009899</td>\n",
       "      <td>(SR_B1, SR_B4, SR_B5, ST_B6, BCC, CVI, DSWI3, ...</td>\n",
       "      <td>0.005421</td>\n",
       "      <td>0.003382</td>\n",
       "      <td>0.001953</td>\n",
       "    </tr>\n",
       "  </tbody>\n",
       "</table>\n",
       "</div>"
      ],
      "text/plain": [
       "                                          feature_idx  \\\n",
       "17  (0, 1, 2, 3, 4, 5, 6, 7, 8, 9, 10, 11, 12, 13,...   \n",
       "16  (0, 1, 2, 3, 4, 5, 6, 7, 8, 9, 10, 11, 12, 14,...   \n",
       "15  (0, 1, 2, 3, 4, 5, 6, 8, 9, 10, 11, 12, 14, 15...   \n",
       "14   (0, 1, 2, 3, 5, 6, 8, 9, 10, 11, 12, 14, 15, 16)   \n",
       "13       (0, 1, 2, 3, 5, 6, 8, 9, 10, 11, 14, 15, 16)   \n",
       "\n",
       "                                            cv_scores avg_score  \\\n",
       "17  [-0.01286880756585999, -0.08906638049920568, -... -0.030859   \n",
       "16  [-0.013112061272005787, -0.025166762922776018,... -0.014935   \n",
       "15  [-0.013326692544380014, -0.01475715406204186, ... -0.011542   \n",
       "14  [-0.012112641735499259, -0.014790001646933072,... -0.010592   \n",
       "13  [-0.01204346476075376, -0.014008026705974638, ... -0.009899   \n",
       "\n",
       "                                        feature_names  ci_bound   std_dev  \\\n",
       "17  (SR_B1, SR_B4, SR_B5, ST_B6, AFRI1600, BCC, CV...  0.053904  0.033627   \n",
       "16  (SR_B1, SR_B4, SR_B5, ST_B6, AFRI1600, BCC, CV...  0.009688  0.006044   \n",
       "15  (SR_B1, SR_B4, SR_B5, ST_B6, AFRI1600, BCC, CV...  0.004123  0.002572   \n",
       "14  (SR_B1, SR_B4, SR_B5, ST_B6, BCC, CVI, DSWI3, ...   0.00487  0.003038   \n",
       "13  (SR_B1, SR_B4, SR_B5, ST_B6, BCC, CVI, DSWI3, ...  0.005421  0.003382   \n",
       "\n",
       "     std_err  \n",
       "17  0.019415  \n",
       "16  0.003489  \n",
       "15  0.001485  \n",
       "14  0.001754  \n",
       "13  0.001953  "
      ]
     },
     "execution_count": 26,
     "metadata": {},
     "output_type": "execute_result"
    }
   ],
   "source": [
    "bvs_results=pd.DataFrame.from_dict(bvs.get_metric_dict()).T\n",
    "bvs_results.head()"
   ]
  },
  {
   "cell_type": "code",
   "execution_count": 27,
   "metadata": {},
   "outputs": [
    {
     "data": {
      "image/png": "[encoded data removed]",
      "text/plain": [
       "<Figure size 1440x720 with 1 Axes>"
      ]
     },
     "metadata": {
      "needs_background": "light"
     },
     "output_type": "display_data"
    }
   ],
   "source": [
    "# bvs.k_feature_names_\n",
    "fig1 = plot_sfs(bvs.get_metric_dict(), kind='ci',figsize=(20,10))\n",
    "plt.title('Backward Variable Selection (w. CI)')\n",
    "plt.grid()\n",
    "plt.ylim(-0.1, 0)\n",
    "plt.show()"
   ]
  },
  {
   "cell_type": "code",
   "execution_count": 35,
   "metadata": {},
   "outputs": [
    {
     "data": {
      "text/plain": [
       "('SR_B4', 'SR_B5', 'ST_B6', 'DSWI3', 'NRFIr')"
      ]
     },
     "execution_count": 35,
     "metadata": {},
     "output_type": "execute_result"
    }
   ],
   "source": [
    "fvs.k_feature_names_"
   ]
  },
  {
   "cell_type": "markdown",
   "metadata": {},
   "source": [
    "Let's evaluate the two models (forward and backward regresion)"
   ]
  },
  {
   "cell_type": "markdown",
   "metadata": {},
   "source": [
    "Evaluating forward regression inputs:"
   ]
  },
  {
   "cell_type": "code",
   "execution_count": 32,
   "metadata": {},
   "outputs": [
    {
     "name": "stdout",
     "output_type": "stream",
     "text": [
      "Intercept: 8.44\n",
      "Slopes:\n",
      "[[-1.9616627 ]\n",
      " [ 1.88522952]\n",
      " [-6.04206686]\n",
      " [ 0.26009658]\n",
      " [ 1.70129577]]\n"
     ]
    },
    {
     "data": {
      "image/png": "[encoded data removed]",
      "text/plain": [
       "<Figure size 432x288 with 1 Axes>"
      ]
     },
     "metadata": {
      "needs_background": "light"
     },
     "output_type": "display_data"
    }
   ],
   "source": [
    "X_fvs=fvs.transform(inputs)\n",
    "\n",
    "fvs_lr = LinearRegression()\n",
    "fvs_lr.fit(X_fvs, t)\n",
    "y=fvs_lr.predict(X_fvs)\n",
    "\n",
    "print('Intercept: %.2f' % ne_lr.b_)\n",
    "print('Slopes:')\n",
    "print(fvs_lr.w_)\n",
    "\n",
    "plt.scatter(y, t, color='blue')\n",
    "plt.xlabel('FVS SM results m3/m3')\n",
    "plt.ylabel('True SM values m3/m3')\n",
    "ax = plt.gca()\n",
    "ax.set_aspect('equal', adjustable='box')\n",
    "plt.xlim([0, 0.6])\n",
    "plt.ylim([0, 0.6])\n",
    "plt.grid()\n",
    "plt.show()"
   ]
  },
  {
   "cell_type": "markdown",
   "metadata": {},
   "source": [
    "Let's try the backward regression model"
   ]
  },
  {
   "cell_type": "code",
   "execution_count": 33,
   "metadata": {},
   "outputs": [
    {
     "name": "stdout",
     "output_type": "stream",
     "text": [
      "Intercept: 8.44\n",
      "Slopes:\n",
      "[[-6.65506095]\n",
      " [-0.16289133]\n",
      " [ 0.37728045]\n",
      " [-0.75208294]\n",
      " [-2.55482974]\n",
      " [ 1.39002369]]\n"
     ]
    },
    {
     "data": {
      "image/png": "[encoded data removed]",
      "text/plain": [
       "<Figure size 432x288 with 1 Axes>"
      ]
     },
     "metadata": {
      "needs_background": "light"
     },
     "output_type": "display_data"
    }
   ],
   "source": [
    "X_bvs=bvs.transform(inputs)\n",
    "\n",
    "bvs_lr = LinearRegression()\n",
    "bvs_lr.fit(X_bvs, t)\n",
    "y=bvs_lr.predict(X_bvs)\n",
    "\n",
    "print('Intercept: %.2f' % ne_lr.b_)\n",
    "print('Slopes:')\n",
    "print(bvs_lr.w_)\n",
    "\n",
    "plt.scatter(y, t, color='blue')\n",
    "plt.xlabel('FVS SM results m3/m3')\n",
    "plt.ylabel('True SM values m3/m3')\n",
    "ax = plt.gca()\n",
    "ax.set_aspect('equal', adjustable='box')\n",
    "plt.xlim([0, 0.6])\n",
    "plt.ylim([0, 0.6])\n",
    "plt.grid()\n",
    "plt.show()"
   ]
  },
  {
   "cell_type": "markdown",
   "metadata": {},
   "source": [
    "We found two winners! In the next step we will apply this FVS and BVS models to all four Landsat images "
   ]
  },
  {
   "cell_type": "markdown",
   "metadata": {},
   "source": [
    "Source:"
   ]
  },
  {
   "cell_type": "markdown",
   "metadata": {},
   "source": [
    "https://towardsdatascience.com/how-to-identify-the-right-independent-variables-for-machine-learning-supervised-algorithms-439986562d32"
   ]
  },
  {
   "cell_type": "markdown",
   "metadata": {},
   "source": [
    "Saving the regression results in csv files"
   ]
  },
  {
   "cell_type": "code",
   "execution_count": 35,
   "metadata": {},
   "outputs": [
    {
     "data": {
      "text/plain": [
       "'/home/jovyan/data/projects/Machine-Learning-Applications-in-Remote-Sensing-Data/Results Step 3/'"
      ]
     },
     "execution_count": 35,
     "metadata": {},
     "output_type": "execute_result"
    }
   ],
   "source": [
    "import os\n",
    "# defining directory for storing results\n",
    "out_dir = os.path.join(os.path.expanduser('~'), 'projects/Machine-Learning-Applications-in-Remote-Sensing-Data/Results Step 3/')\n",
    "out_dir"
   ]
  },
  {
   "cell_type": "code",
   "execution_count": null,
   "metadata": {},
   "outputs": [],
   "source": []
  },
  {
   "cell_type": "code",
   "execution_count": 39,
   "metadata": {},
   "outputs": [],
   "source": [
    "filename=os.path.join(out_dir,'fvs_coefficients.csv')\n",
    "\n",
    "import csv\n",
    "\n",
    "# writing to csv file \n",
    "with open(filename, 'w') as csvfile: \n",
    "    # creating a csv writer object \n",
    "    csvwriter = csv.writer(csvfile) \n",
    "        \n",
    "    # writing the fields \n",
    "    field1=['Intercept: ']\n",
    "    csvwriter.writerow(field1) \n",
    "    intercept= fvs_lr.b_\n",
    "    csvwriter.writerow(intercept) \n",
    "    field2=['Slopes:']\n",
    "    csvwriter.writerow(field2) \n",
    "        \n",
    "    # writing the data rows \n",
    "    coeffs=fvs_lr.w_\n",
    "    csvwriter.writerows(coeffs)\n",
    "\n"
   ]
  },
  {
   "cell_type": "code",
   "execution_count": 40,
   "metadata": {},
   "outputs": [],
   "source": [
    "filename=os.path.join(out_dir,'bvs_coefficients.csv')\n",
    "\n",
    "import csv\n",
    "\n",
    "# writing to csv file \n",
    "with open(filename, 'w') as csvfile: \n",
    "    # creating a csv writer object \n",
    "    csvwriter = csv.writer(csvfile) \n",
    "        \n",
    "    # writing the fields \n",
    "    field1=['Intercept: ']\n",
    "    csvwriter.writerow(field1) \n",
    "    intercept= bvs_lr.b_\n",
    "    csvwriter.writerow(intercept) \n",
    "    field2=['Slopes:']\n",
    "    csvwriter.writerow(field2) \n",
    "        \n",
    "    # writing the data rows \n",
    "    coeffs=bvs_lr.w_\n",
    "    csvwriter.writerows(coeffs)\n",
    "\n"
   ]
  },
  {
   "cell_type": "code",
   "execution_count": null,
   "metadata": {},
   "outputs": [],
   "source": []
  }
 ],
 "metadata": {
  "kernelspec": {
   "display_name": "Python [conda env:root] *",
   "language": "python",
   "name": "conda-root-py"
  },
  "language_info": {
   "codemirror_mode": {
    "name": "ipython",
    "version": 3
   },
   "file_extension": ".py",
   "mimetype": "text/x-python",
   "name": "python",
   "nbconvert_exporter": "python",
   "pygments_lexer": "ipython3",
   "version": "3.9.7"
  },
  "widgets": {
   "application/vnd.jupyter.widget-state+json": {
    "state": {},
    "version_major": 2,
    "version_minor": 0
   }
  }
 },
 "nbformat": 4,
 "nbformat_minor": 4
}
