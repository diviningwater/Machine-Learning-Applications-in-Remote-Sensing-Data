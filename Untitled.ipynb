{
 "cells": [
  {
   "cell_type": "code",
   "execution_count": 2,
   "id": "8838477d",
   "metadata": {},
   "outputs": [
    {
     "name": "stdout",
     "output_type": "stream",
     "text": [
      "Number of processors:  4\n"
     ]
    }
   ],
   "source": [
    "import multiprocessing as mp\n",
    "print(\"Number of processors: \", mp.cpu_count())"
   ]
  },
  {
   "cell_type": "markdown",
   "id": "8e2576dc",
   "metadata": {},
   "source": [
    "Problem Statement: Count how many numbers exist between a given range in each row\n",
    "The first problem is: Given a 2D matrix (or list of lists), count how many numbers are present between a given range in each row. We will work on the list prepared below."
   ]
  },
  {
   "cell_type": "code",
   "execution_count": 3,
   "id": "c046bb45",
   "metadata": {},
   "outputs": [
    {
     "data": {
      "text/plain": [
       "[[5, 9, 0, 4, 8],\n",
       " [8, 9, 3, 0, 4],\n",
       " [2, 5, 8, 1, 1],\n",
       " [4, 1, 4, 1, 7],\n",
       " [7, 9, 3, 7, 5]]"
      ]
     },
     "execution_count": 3,
     "metadata": {},
     "output_type": "execute_result"
    }
   ],
   "source": [
    "import numpy as np\n",
    "from time import time\n",
    "\n",
    "# Prepare data\n",
    "np.random.RandomState(100)\n",
    "arr = np.random.randint(0, 10, size=[200000, 5])\n",
    "data = arr.tolist()\n",
    "data[:5]"
   ]
  },
  {
   "cell_type": "markdown",
   "id": "8761543a",
   "metadata": {},
   "source": [
    "Solution without parallelization\n",
    "Let’s see how long it takes to compute it without parallelization. For this, we iterate the function howmany_within_range() (written below) to check how many numbers lie within range and returns the count."
   ]
  },
  {
   "cell_type": "code",
   "execution_count": 4,
   "id": "13effb48",
   "metadata": {},
   "outputs": [
    {
     "name": "stdout",
     "output_type": "stream",
     "text": [
      "[3, 2, 2, 3, 3, 4, 1, 3, 4, 3]\n"
     ]
    }
   ],
   "source": [
    "# Solution Without Paralleization\n",
    "\n",
    "def howmany_within_range(row, minimum, maximum):\n",
    "    \"\"\"Returns how many numbers lie within `maximum` and `minimum` in a given `row`\"\"\"\n",
    "    count = 0\n",
    "    for n in row:\n",
    "        if minimum <= n <= maximum:\n",
    "            count = count + 1\n",
    "    return count\n",
    "\n",
    "results = []\n",
    "for row in data:\n",
    "    results.append(howmany_within_range(row, minimum=4, maximum=8))\n",
    "\n",
    "print(results[:10])"
   ]
  },
  {
   "cell_type": "markdown",
   "id": "691e8111",
   "metadata": {},
   "source": [
    "How to parallelize any function?\n",
    "The general way to parallelize any operation is to take a particular function that should be run multiple times and make it run parallelly in different processors.\n",
    "\n",
    "To do this, you initialize a Pool with n number of processors and pass the function you want to parallelize to one of Pools parallization methods.\n",
    "\n",
    "multiprocessing.Pool() provides the apply(), map() and starmap() methods to make any function run in parallel.\n",
    "\n",
    "Nice! So what’s the difference between apply() and map()?\n"
   ]
  },
  {
   "cell_type": "code",
   "execution_count": null,
   "id": "f67f8965",
   "metadata": {},
   "outputs": [],
   "source": []
  }
 ],
 "metadata": {
  "kernelspec": {
   "display_name": "Python 3",
   "language": "python",
   "name": "python3"
  },
  "language_info": {
   "codemirror_mode": {
    "name": "ipython",
    "version": 3
   },
   "file_extension": ".py",
   "mimetype": "text/x-python",
   "name": "python",
   "nbconvert_exporter": "python",
   "pygments_lexer": "ipython3",
   "version": "3.8.6"
  }
 },
 "nbformat": 4,
 "nbformat_minor": 5
}
