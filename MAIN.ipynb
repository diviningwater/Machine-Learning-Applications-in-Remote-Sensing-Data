{
 "cells": [
  {
   "cell_type": "markdown",
   "metadata": {},
   "source": [
    "# Collaborative Research: Elements: Advancing Data Science and Analytics for Water (DSAW)\n",
    "Project supported by NSF Grant 1931297\n",
    "\n",
    "Team members:\n",
    "\n",
    "- Jeffery Horsburgh jeff.horsburgh@usu.edu (Principal Investigator)\n",
    "- Alfonso Torres-Rua (Co-Principal Investigator)\n",
    "- Brian Crookston (Co-Principal Investigator)\n",
    "- Tianfang Xu (Co-Principal Investigator)"
   ]
  },
  {
   "cell_type": "markdown",
   "metadata": {},
   "source": [
    "## Application 1: Farm Scale Soil Moisture Estimation using Remote Sensing and Water Budget Products"
   ]
  },
  {
   "cell_type": "markdown",
   "metadata": {},
   "source": [
    "## Goal:\n",
    "\n",
    "This application aims to show the user how to combine spatial and ground information to derive information on water balance components, in this case soil water content. We are partially replicating the procedure and data from manuscript **\"Estimation of Surface Soil Moisture in Irrigated Lands by Assimilation of Landsat Vegetation Indices, Surface Energy Balance Products, and Relevance Vector Machines\"**, link [here](https://www.mdpi.com/2073-4441/8/4/167)\n",
    "\n",
    "Our objectives are:\n",
    "\n",
    "- Demostrate the application of computational intensive algorithms (e.g. machine learning) and remote sensing data for analysis of land surface hydrological conditions within HydroShare JupyterHUB environment. \n",
    "\n",
    "- Demostrate the HydroShare JupyterHUB environment as learning and desmonstration platform for analysis.\n",
    "\n",
    "- Integration of APIs (e.g. Google Earth Engine) into HydroShare JupyterHUB to direct access to diverse remote sensing products."
   ]
  },
  {
   "cell_type": "markdown",
   "metadata": {},
   "source": [
    "## Organization:\n",
    "\n",
    "This example is organized in the following manner (each section with a respective notebook):\n",
    "\n",
    "1. Organizing and displaying the necessary information for this analysis.\n",
    "\n",
    "2. Implement a machine learning algorithm, perform a tune of internal parameters and evaluate performance.\n",
    "\n",
    "3. Store developed code, algorithms and results as a HydroShare repository for replicability and reuse."
   ]
  },
  {
   "cell_type": "markdown",
   "metadata": {},
   "source": [
    "## Additional notes:\n",
    "\n",
    "This HydroShare resource must be run in the HydroShare HypyterHUB \"Scientific\" environment. Any other environment will likely fail.\n",
    "\n",
    "It is necessary to have a HydroShare account (which you may already have) and open a free account in Google Earth Engine website which need to be activated withtin HydroShare JupyterHUB. To do this, follow the steps presented in the pdf included in this repository (\"2020 Geemap in HS.pdf\").\n",
    "\n"
   ]
  },
  {
   "cell_type": "markdown",
   "metadata": {},
   "source": [
    "Completed the steps in the pdf, now we can continute with [Step 1](./DSAW_Application1_Step_1.ipynb)"
   ]
  },
  {
   "cell_type": "code",
   "execution_count": null,
   "metadata": {},
   "outputs": [],
   "source": []
  }
 ],
 "metadata": {
  "kernelspec": {
   "display_name": "Python 3 (ipykernel)",
   "language": "python",
   "name": "python3"
  },
  "language_info": {
   "codemirror_mode": {
    "name": "ipython",
    "version": 3
   },
   "file_extension": ".py",
   "mimetype": "text/x-python",
   "name": "python",
   "nbconvert_exporter": "python",
   "pygments_lexer": "ipython3",
   "version": "3.9.7"
  },
  "widgets": {
   "application/vnd.jupyter.widget-state+json": {
    "state": {},
    "version_major": 2,
    "version_minor": 0
   }
  }
 },
 "nbformat": 4,
 "nbformat_minor": 4
}
