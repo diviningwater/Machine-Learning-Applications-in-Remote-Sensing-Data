{
 "cells": [
  {
   "cell_type": "markdown",
   "id": "889846bf-3161-4609-948d-599fe627aae3",
   "metadata": {},
   "source": [
    "### Step 4: Creating Soil Moisture Maps"
   ]
  },
  {
   "cell_type": "markdown",
   "id": "118b0668-4bc7-444d-9947-b67a49f92a10",
   "metadata": {},
   "source": [
    "Now we can implement our two wining models (FVS and BVS) in Google Earth Engine. This will be a straightfoward procedure because it is only an equation."
   ]
  },
  {
   "cell_type": "raw",
   "id": "20b81054-ece9-4f4c-b630-3239762536e3",
   "metadata": {},
   "source": [
    "pip install -U geemap\n",
    "pip install eemont"
   ]
  },
  {
   "cell_type": "markdown",
   "id": "15249f44-75d2-46ee-9479-b4942df97334",
   "metadata": {},
   "source": [
    "Let's start:"
   ]
  },
  {
   "cell_type": "code",
   "execution_count": 1,
   "id": "ec66ef82-1a4b-4305-9ad5-fc155c1043f7",
   "metadata": {},
   "outputs": [],
   "source": [
    "import ee\n",
    "import geemap\n",
    "ee.Initialize()\n",
    "\n",
    "# Delta_area = ee.Geometry.Rectangle([-112.658355,39.442565,-112.606132,39.357404])\n",
    "Delta_area=ee.Geometry.Point([-112.577170, 39.352178])\n",
    "Map1 = geemap.Map() \n",
    "Map1.addLayer(Delta_area, {}, name='Delta_area')\n",
    "Map1.centerObject(Delta_area, 12)"
   ]
  },
  {
   "cell_type": "code",
   "execution_count": 10,
   "id": "e2f28c27-c6a9-40cc-8993-59c6b7896cd8",
   "metadata": {},
   "outputs": [],
   "source": [
    "# processing landsat 7 image and needed spectral indices\n",
    "\n",
    "import eemont\n",
    "\n",
    "landsat7 = ee.ImageCollection(\"LANDSAT/LE07/C02/T1_L2\").filterBounds(Delta_area) # Landsat 7 archive.\n",
    "landsat7 = landsat7.preprocess()\n",
    "landsat7 = landsat7.spectralIndices(['DSWI3','NRFIr','CVI', 'DSWI4', 'ExG'])\n"
   ]
  },
  {
   "cell_type": "markdown",
   "id": "13915f2e-6e22-4cbd-9c22-84c8cbfbf621",
   "metadata": {},
   "source": [
    "Let's implement the equation for the soil moisture map:"
   ]
  },
  {
   "cell_type": "markdown",
   "id": "398f46fb-db28-4b9b-9da7-e8d414cf1e6a",
   "metadata": {},
   "source": [
    "let's read the fvs csv file"
   ]
  },
  {
   "cell_type": "code",
   "execution_count": 3,
   "id": "a9b180e6-9f73-407d-b81a-cce7b5c9da19",
   "metadata": {},
   "outputs": [
    {
     "name": "stdout",
     "output_type": "stream",
     "text": [
      "['Intercept: ']\n",
      "['6.91459367001865']\n",
      "['Slopes:']\n",
      "['-1.9616626960772763']\n",
      "['1.8852295229490146']\n",
      "['-6.042066857865608']\n",
      "['0.26009658359502463']\n",
      "['1.7012957676684124']\n"
     ]
    }
   ],
   "source": [
    "import csv\n",
    "\n",
    "# opening the CSV file\n",
    "with open('./Results Step 3/fvs_coefficients.csv', mode ='r') as file:\n",
    "\n",
    "# reading the CSV file\n",
    "    csvFile = csv.reader(file)\n",
    "\n",
    "    # displaying the contents of the CSV file\n",
    "    for lines in csvFile:\n",
    "        print(lines)"
   ]
  },
  {
   "cell_type": "markdown",
   "id": "0f886faa-45f4-44a7-ab0d-67a6c13cf3b5",
   "metadata": {},
   "source": [
    "Implement the linear regression in an equation"
   ]
  },
  {
   "cell_type": "code",
   "execution_count": 4,
   "id": "1e98e96a-6af9-428e-a809-fa383241b571",
   "metadata": {},
   "outputs": [],
   "source": [
    "def fvs_sm(image):\n",
    "    # image=image.clip(Delta_area)\n",
    "    SM=image.expression('6.91459367001865-1.9616626960772763*SR_B4+1.8852295229490146*SR_B5-6.042066857865608*(ST_B6/273.15)+0.26009658359502463*DSWI3+1.7012957676684124*NRFIr', {\n",
    "        'SR_B4':image.select('SR_B4'),\n",
    "        'SR_B5':image.select('SR_B5'),\n",
    "        'ST_B6':image.select('ST_B6'),\n",
    "        'DSWI3':image.select('DSWI3'),\n",
    "        'NRFIr':image.select('NRFIr')}).rename('SM')\n",
    "    return image.addBands(SM)"
   ]
  },
  {
   "cell_type": "code",
   "execution_count": 5,
   "id": "2d4bcb3e-6868-4e1f-bb76-8b59f6858555",
   "metadata": {},
   "outputs": [],
   "source": [
    "# Generating the Soil Moisture band \n",
    "\n",
    "landsat7_fvs=landsat7.map(fvs_sm)\n",
    "\n"
   ]
  },
  {
   "cell_type": "markdown",
   "id": "9dbf80be-386c-479b-ae00-b2a7be00b23f",
   "metadata": {},
   "source": [
    "Selecting and visualizing the Landsat images from the Step 1"
   ]
  },
  {
   "cell_type": "code",
   "execution_count": 6,
   "id": "266e9402-51d2-47bb-9aa7-fb881cf3ccce",
   "metadata": {},
   "outputs": [],
   "source": [
    "landsat7_may_13_fvs = ee.Image(landsat7_fvs.filterDate('2012-05-12','2012-05-14').first()) # all commands in one line.\n",
    "landsat7_may_29_fvs = ee.Image(landsat7_fvs.filterDate('2012-05-28','2012-05-30').first()) # all commands in one line.\n",
    "landsat7_jun_14_fvs = ee.Image(landsat7_fvs.filterDate('2012-06-13','2012-06-15').first()) # all commands in one line.\n",
    "landsat7_jun_30_fvs = ee.Image(landsat7_fvs.filterDate('2012-06-29','2012-07-01').first()) # all commands in one line."
   ]
  },
  {
   "cell_type": "code",
   "execution_count": 7,
   "id": "dbbce408-772a-417c-979e-0a5cb05107a9",
   "metadata": {},
   "outputs": [],
   "source": [
    "vis_params = {\n",
    "  'min': 0.0,\n",
    "  'max': 0.6,\n",
    "  'palette': ['orange','yellow','green','cyan','blue'],\n",
    "}\n",
    "\n",
    "legend_colors = ['orange','yellow','green','cyan','blue']"
   ]
  },
  {
   "cell_type": "code",
   "execution_count": 8,
   "id": "e8954e41-c829-49f7-be11-fb5130465ed2",
   "metadata": {},
   "outputs": [
    {
     "data": {
      "application/vnd.jupyter.widget-view+json": {
       "model_id": "b2eb9475ccf148038e265b2952857201",
       "version_major": 2,
       "version_minor": 0
      },
      "text/plain": [
       "Map(center=[39.352178, -112.57717], controls=(WidgetControl(options=['position', 'transparent_bg'], widget=HBo…"
      ]
     },
     "metadata": {},
     "output_type": "display_data"
    }
   ],
   "source": [
    "Map1.addLayer(landsat7_may_13_fvs.select('SM'), vis_params,'May13')\n",
    "Map1.addLayer(landsat7_may_29_fvs.select('SM'), vis_params,'May29')\n",
    "Map1.addLayer(landsat7_jun_14_fvs.select('SM'), vis_params,'Jun14')\n",
    "Map1.addLayer(landsat7_jun_30_fvs.select('SM'), vis_params,'Jun60')\n",
    "\n",
    "Map1.add_colorbar_branca(\n",
    "    colors=legend_colors, vmin=0.1, vmax=0.6, categorical=False, step=6, layer_name=\"Soil Moisture\"\n",
    ")\n",
    "Map1"
   ]
  },
  {
   "cell_type": "markdown",
   "id": "67a49419-e49c-4333-8d6d-57cadc10d1c0",
   "metadata": {},
   "source": [
    "Now implementing the bvs equation"
   ]
  },
  {
   "cell_type": "code",
   "execution_count": 9,
   "id": "bb120a8f-9c48-40ab-b162-2ea0cbb1a96d",
   "metadata": {},
   "outputs": [
    {
     "name": "stdout",
     "output_type": "stream",
     "text": [
      "['Intercept: ']\n",
      "['8.441544078068858']\n",
      "['Slopes:']\n",
      "['-6.655060951978442']\n",
      "['-0.16289132840524534']\n",
      "['0.3772804497778246']\n",
      "['-0.7520829377015303']\n",
      "['-2.554829741032563']\n",
      "['1.3900236923110967']\n"
     ]
    }
   ],
   "source": [
    "import csv\n",
    "\n",
    "# opening the CSV file\n",
    "with open('./Results Step 3/bvs_coefficients.csv', mode ='r') as file:\n",
    "\n",
    "# reading the CSV file\n",
    "    csvFile = csv.reader(file)\n",
    "\n",
    "    # displaying the contents of the CSV file\n",
    "    for lines in csvFile:\n",
    "        print(lines)"
   ]
  },
  {
   "cell_type": "code",
   "execution_count": 11,
   "id": "fe1361ff-b77b-4f70-b95c-1bb6962dcf48",
   "metadata": {},
   "outputs": [],
   "source": [
    "#'ST_B6', 'CVI', 'DSWI3', 'DSWI4', 'ExG', 'NRFIr'\n",
    "\n",
    "def bvs_sm(image):\n",
    "    # image=image.clip(Delta_area)\n",
    "    SM=image.expression('8.441544078068858-6.655060951978442*(ST_B6/273.15)-0.16289132840524534*CVI+0.3772804497778246*DSWI3-0.7520829377015303*DSWI4-2.554829741032563*ExG+1.3900236923110967*NRFIr', {\n",
    "        'ST_B6':image.select('ST_B6'),\n",
    "        'CVI':image.select('CVI'),\n",
    "        'DSWI3':image.select('DSWI3'),\n",
    "        'DSWI4':image.select('DSWI4'),\n",
    "        'ExG':image.select('ExG'),\n",
    "        'NRFIr':image.select('NRFIr')}).rename('SM')\n",
    "    return image.addBands(SM)"
   ]
  },
  {
   "cell_type": "code",
   "execution_count": 12,
   "id": "d5a1b26e-5821-494a-a568-672a5e57544d",
   "metadata": {},
   "outputs": [],
   "source": [
    "# Generating the Soil Moisture band \n",
    "\n",
    "landsat7_bvs=landsat7.map(bvs_sm)"
   ]
  },
  {
   "cell_type": "markdown",
   "id": "b5aeb180-c2f2-471f-a90c-50c0c1ee598a",
   "metadata": {},
   "source": [
    "Selecting and visualizing the Landsat images from the Step 1"
   ]
  },
  {
   "cell_type": "code",
   "execution_count": 16,
   "id": "e68f8007-4528-4bd3-ad9e-fc5be05bc1e8",
   "metadata": {},
   "outputs": [],
   "source": [
    "landsat7_may_13_bvs = ee.Image(landsat7_bvs.filterDate('2012-05-12','2012-05-14').first()) # all commands in one line.\n",
    "landsat7_may_29_bvs = ee.Image(landsat7_bvs.filterDate('2012-05-28','2012-05-30').first()) # all commands in one line.\n",
    "landsat7_jun_14_bvs = ee.Image(landsat7_bvs.filterDate('2012-06-13','2012-06-15').first()) # all commands in one line.\n",
    "landsat7_jun_30_bvs = ee.Image(landsat7_bvs.filterDate('2012-06-29','2012-07-01').first()) # all commands in one line."
   ]
  },
  {
   "cell_type": "code",
   "execution_count": 17,
   "id": "8f1f3d72-2c21-49ad-b3dc-abbbf1aba6e5",
   "metadata": {},
   "outputs": [],
   "source": [
    "vis_params = {\n",
    "  'min': 0.0,\n",
    "  'max': 0.6,\n",
    "  'palette': ['orange','yellow','green','cyan','blue'],\n",
    "}\n",
    "\n",
    "legend_colors = ['orange','yellow','green','cyan','blue']"
   ]
  },
  {
   "cell_type": "code",
   "execution_count": 18,
   "id": "74c19ff1-e21a-4ef1-a157-f358864692be",
   "metadata": {},
   "outputs": [],
   "source": [
    "Map2 = geemap.Map() \n",
    "Map2.addLayer(Delta_area, {}, name='Delta_area')\n",
    "Map2.centerObject(Delta_area, 12)"
   ]
  },
  {
   "cell_type": "code",
   "execution_count": 19,
   "id": "b9ab50e9-bd53-4550-a224-68c4577df1e0",
   "metadata": {},
   "outputs": [
    {
     "data": {
      "application/vnd.jupyter.widget-view+json": {
       "model_id": "f313f853f6f64ed098b1c72be32bf185",
       "version_major": 2,
       "version_minor": 0
      },
      "text/plain": [
       "Map(center=[39.352178, -112.57717], controls=(WidgetControl(options=['position', 'transparent_bg'], widget=HBo…"
      ]
     },
     "metadata": {},
     "output_type": "display_data"
    }
   ],
   "source": [
    "Map2.addLayer(landsat7_may_13_bvs.select('SM'), vis_params,'May13')\n",
    "Map2.addLayer(landsat7_may_29_bvs.select('SM'), vis_params,'May29')\n",
    "Map2.addLayer(landsat7_jun_14_bvs.select('SM'), vis_params,'Jun14')\n",
    "Map2.addLayer(landsat7_jun_30_bvs.select('SM'), vis_params,'Jun60')\n",
    "\n",
    "Map2.add_colorbar_branca(\n",
    "    colors=legend_colors, vmin=0.1, vmax=0.6, categorical=False, step=6, layer_name=\"Soil Moisture\"\n",
    ")\n",
    "Map2"
   ]
  },
  {
   "cell_type": "markdown",
   "id": "b57268b8-2fba-49ba-9c50-3d590bc5f25d",
   "metadata": {},
   "source": [
    "Values of soil moisture from both, forward and backward variable selection are similar. This indicates:\n",
    "\n",
    "    1) Multiple models can be derived to solve a function.\n",
    "    2) The variable selection procedure can affect the selected inputs and the resulting model.\n",
    "    3) A rich set of potential predictors can yield simple models that are robust."
   ]
  },
  {
   "cell_type": "code",
   "execution_count": null,
   "id": "84c1e257-e8ea-4f64-ad6c-610a5b7bf1d2",
   "metadata": {},
   "outputs": [],
   "source": []
  }
 ],
 "metadata": {
  "kernelspec": {
   "display_name": "Python 3 (ipykernel)",
   "language": "python",
   "name": "python3"
  },
  "language_info": {
   "codemirror_mode": {
    "name": "ipython",
    "version": 3
   },
   "file_extension": ".py",
   "mimetype": "text/x-python",
   "name": "python",
   "nbconvert_exporter": "python",
   "pygments_lexer": "ipython3",
   "version": "3.9.7"
  },
  "widgets": {
   "application/vnd.jupyter.widget-state+json": {
    "state": {},
    "version_major": 2,
    "version_minor": 0
   }
  }
 },
 "nbformat": 4,
 "nbformat_minor": 5
}
